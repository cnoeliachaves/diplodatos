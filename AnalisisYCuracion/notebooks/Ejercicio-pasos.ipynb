{
 "cells": [
  {
   "cell_type": "code",
   "execution_count": 13,
   "metadata": {},
   "outputs": [],
   "source": [
    "%matplotlib inline\n",
    "from matplotlib import pyplot as plt\n",
    "import pandas as pd\n",
    "import numpy as np\n",
    "import seaborn"
   ]
  },
  {
   "cell_type": "code",
   "execution_count": 3,
   "metadata": {},
   "outputs": [],
   "source": [
    "import sys\n",
    "in_colab = 'google.colab' in sys.modules\n",
    "\n",
    "if in_colab:\n",
    "  BASE_DIR = \"https://github.com/DiploDatos/AnalisisYCuracion/raw/master/\"\n",
    "else:\n",
    "  BASE_DIR = \"..\""
   ]
  },
  {
   "cell_type": "code",
   "execution_count": 4,
   "metadata": {},
   "outputs": [
    {
     "data": {
      "text/html": [
       "<div>\n",
       "<style scoped>\n",
       "    .dataframe tbody tr th:only-of-type {\n",
       "        vertical-align: middle;\n",
       "    }\n",
       "\n",
       "    .dataframe tbody tr th {\n",
       "        vertical-align: top;\n",
       "    }\n",
       "\n",
       "    .dataframe thead th {\n",
       "        text-align: right;\n",
       "    }\n",
       "</style>\n",
       "<table border=\"1\" class=\"dataframe\">\n",
       "  <thead>\n",
       "    <tr style=\"text-align: right;\">\n",
       "      <th></th>\n",
       "      <th>location</th>\n",
       "      <th>name</th>\n",
       "      <th>province</th>\n",
       "    </tr>\n",
       "  </thead>\n",
       "  <tbody>\n",
       "    <tr>\n",
       "      <th>0</th>\n",
       "      <td>[-54.832543, -68.3712885]</td>\n",
       "      <td>SAN SEBASTIAN  ( USHUAIA )</td>\n",
       "      <td>Tierra del Fuego</td>\n",
       "    </tr>\n",
       "    <tr>\n",
       "      <th>1</th>\n",
       "      <td>[-54.8249379, -68.3258626]</td>\n",
       "      <td>AERO PUBLICO DE USHUAIA</td>\n",
       "      <td>Tierra del Fuego</td>\n",
       "    </tr>\n",
       "    <tr>\n",
       "      <th>2</th>\n",
       "      <td>[-54.8096728, -68.3114748]</td>\n",
       "      <td>PUERTO USHUAIA (PREFECTURA)</td>\n",
       "      <td>Tierra del Fuego</td>\n",
       "    </tr>\n",
       "    <tr>\n",
       "      <th>3</th>\n",
       "      <td>[-54.8019121, -68.3029511]</td>\n",
       "      <td>PUERTO USHUAIA</td>\n",
       "      <td>Tierra del Fuego</td>\n",
       "    </tr>\n",
       "    <tr>\n",
       "      <th>4</th>\n",
       "      <td>[-51.6896359, -72.2993574]</td>\n",
       "      <td>PASO LAURITA CASAS VIEJAS</td>\n",
       "      <td>Santa Cruz</td>\n",
       "    </tr>\n",
       "    <tr>\n",
       "      <th>5</th>\n",
       "      <td>[-51.5866042, -72.3649779]</td>\n",
       "      <td>PASO DOROTEA</td>\n",
       "      <td>Santa Cruz</td>\n",
       "    </tr>\n",
       "    <tr>\n",
       "      <th>6</th>\n",
       "      <td>[-51.2544488, -72.2652242]</td>\n",
       "      <td>PASO RIO DON GUILLERMO</td>\n",
       "      <td>Santa Cruz</td>\n",
       "    </tr>\n",
       "    <tr>\n",
       "      <th>7</th>\n",
       "      <td>[-53.3229179, -68.6063227]</td>\n",
       "      <td>PASO SAN SEBASTIAN</td>\n",
       "      <td>Tierra del Fuego</td>\n",
       "    </tr>\n",
       "    <tr>\n",
       "      <th>8</th>\n",
       "      <td>[-53.78438, -67.7173342]</td>\n",
       "      <td>TERMINAL RIO GRANDE</td>\n",
       "      <td>Tierra del Fuego</td>\n",
       "    </tr>\n",
       "    <tr>\n",
       "      <th>9</th>\n",
       "      <td>[-53.7860374, -67.7002243]</td>\n",
       "      <td>PUERTO RIO GRANDE</td>\n",
       "      <td>Tierra del Fuego</td>\n",
       "    </tr>\n",
       "  </tbody>\n",
       "</table>\n",
       "</div>"
      ],
      "text/plain": [
       "                     location                         name          province\n",
       "0   [-54.832543, -68.3712885]   SAN SEBASTIAN  ( USHUAIA )  Tierra del Fuego\n",
       "1  [-54.8249379, -68.3258626]      AERO PUBLICO DE USHUAIA  Tierra del Fuego\n",
       "2  [-54.8096728, -68.3114748]  PUERTO USHUAIA (PREFECTURA)  Tierra del Fuego\n",
       "3  [-54.8019121, -68.3029511]               PUERTO USHUAIA  Tierra del Fuego\n",
       "4  [-51.6896359, -72.2993574]    PASO LAURITA CASAS VIEJAS        Santa Cruz\n",
       "5  [-51.5866042, -72.3649779]                 PASO DOROTEA        Santa Cruz\n",
       "6  [-51.2544488, -72.2652242]       PASO RIO DON GUILLERMO        Santa Cruz\n",
       "7  [-53.3229179, -68.6063227]           PASO SAN SEBASTIAN  Tierra del Fuego\n",
       "8    [-53.78438, -67.7173342]          TERMINAL RIO GRANDE  Tierra del Fuego\n",
       "9  [-53.7860374, -67.7002243]            PUERTO RIO GRANDE  Tierra del Fuego"
      ]
     },
     "execution_count": 4,
     "metadata": {},
     "output_type": "execute_result"
    }
   ],
   "source": [
    "tabla_1 = pd.read_json(BASE_DIR + \"/input/pasos.json\")\n",
    "tabla_1.head(10)"
   ]
  },
  {
   "cell_type": "code",
   "execution_count": 5,
   "metadata": {},
   "outputs": [
    {
     "data": {
      "text/plain": [
       "location    object\n",
       "name        object\n",
       "province    object\n",
       "dtype: object"
      ]
     },
     "execution_count": 5,
     "metadata": {},
     "output_type": "execute_result"
    }
   ],
   "source": [
    "tabla_1.dtypes"
   ]
  },
  {
   "cell_type": "code",
   "execution_count": 16,
   "metadata": {},
   "outputs": [
    {
     "data": {
      "text/plain": [
       "province\n",
       "AEROPUERTO INTERNACIONAL PILOTO CIVIL NORBERTO FERNANDEZ     1\n",
       "Buenos Aires                                                48\n",
       "Catamarca                                                    3\n",
       "Chaco                                                        3\n",
       "Chubut                                                      15\n",
       "Cordoba                                                      3\n",
       "Corrientes                                                  15\n",
       "CÃ³rdoba                                                     1\n",
       "Entre Rios                                                  13\n",
       "Formosa                                                     11\n",
       "Jujuy                                                        8\n",
       "La Rioja                                                     3\n",
       "Mendoza                                                     14\n",
       "Misiones                                                    38\n",
       "NEUQUEN                                                      1\n",
       "Neuquen                                                     10\n",
       "Rio Negro                                                    8\n",
       "Salta                                                        4\n",
       "San Juan                                                     5\n",
       "San Luis                                                     2\n",
       "Santa Cruz                                                  20\n",
       "Santa Fe                                                    11\n",
       "Santiago del Estero                                          4\n",
       "Tierra del Fuego                                             9\n",
       "Tucuman                                                      2\n",
       "dtype: int64"
      ]
     },
     "execution_count": 16,
     "metadata": {},
     "output_type": "execute_result"
    }
   ],
   "source": [
    "agrupado= tabla_1.groupby(['province'])\n",
    "agrupado_size=agrupado.size()\n",
    "agrupado_size"
   ]
  },
  {
   "cell_type": "code",
   "execution_count": 17,
   "metadata": {},
   "outputs": [
    {
     "data": {
      "text/plain": [
       "(array([ 0,  1,  2,  3,  4,  5,  6,  7,  8,  9, 10, 11, 12, 13, 14, 15, 16,\n",
       "        17, 18, 19, 20, 21, 22, 23, 24]),\n",
       " <a list of 25 Text xticklabel objects>)"
      ]
     },
     "execution_count": 17,
     "metadata": {},
     "output_type": "execute_result"
    },
    {
     "data": {
      "image/png": "[encoded data removed]",
      "text/plain": [
       "<Figure size 720x432 with 1 Axes>"
      ]
     },
     "metadata": {
      "needs_background": "light"
     },
     "output_type": "display_data"
    }
   ],
   "source": [
    "plt.figure(figsize=(10,6))\n",
    "seaborn.barplot(x=agrupado_size.keys(),y=agrupado_size)\n",
    "plt.xticks(rotation=90)"
   ]
  },
  {
   "cell_type": "code",
   "execution_count": null,
   "metadata": {},
   "outputs": [],
   "source": []
  }
 ],
 "metadata": {
  "kernelspec": {
   "display_name": "Python 3",
   "language": "python",
   "name": "python3"
  },
  "language_info": {
   "codemirror_mode": {
    "name": "ipython",
    "version": 3
   },
   "file_extension": ".py",
   "mimetype": "text/x-python",
   "name": "python",
   "nbconvert_exporter": "python",
   "pygments_lexer": "ipython3",
   "version": "3.6.8"
  }
 },
 "nbformat": 4,
 "nbformat_minor": 2
}
