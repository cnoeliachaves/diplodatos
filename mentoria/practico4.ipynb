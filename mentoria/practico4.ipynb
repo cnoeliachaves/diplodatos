{
  "nbformat": 4,
  "nbformat_minor": 0,
  "metadata": {
    "colab": {
      "name": "practico4.ipynb",
      "provenance": [],
      "collapsed_sections": [],
      "machine_shape": "hm"
    },
    "kernelspec": {
      "display_name": "Python 3",
      "language": "python",
      "name": "python3"
    },
    "language_info": {
      "codemirror_mode": {
        "name": "ipython",
        "version": 3
      },
      "file_extension": ".py",
      "mimetype": "text/x-python",
      "name": "python",
      "nbconvert_exporter": "python",
      "pygments_lexer": "ipython3",
      "version": "3.6.8"
    }
  },
  "cells": [
    {
      "cell_type": "markdown",
      "metadata": {
        "colab_type": "text",
        "id": "UK2eYuMWUX0P"
      },
      "source": [
        "# Logística de envíos: ¿Cuándo llega?\n",
        "\n",
        "## Mentoría DiploDatos 2019 \n",
        "\n",
        "### Integrantes:\n",
        "\n",
        "- Chaves, Noelia\n",
        "- Frau, Johanna\n",
        "\n",
        "### Mentora:\n",
        "\n",
        "- Dal Lago, Virginia\n",
        "\n",
        "### Práctico: Introducción al aprendizaje automático"
      ]
    },
    {
      "cell_type": "markdown",
      "metadata": {
        "colab_type": "text",
        "id": "DQguL3wiUX0R"
      },
      "source": [
        "## Motivación\n",
        "\n",
        "En la actualidad, cada vez más productos se comercializan a través de una plataforma online. Una de las principales ventajas de este sistema es que el usuario puede recibir el producto en su domicilio en una fecha determinada. Pero, ¿cómo sabemos qué día va a llegar? ¿A partir de qué datos podemos predecir la demora del envío? En este práctico se trabajará con datos de envíos de MercadoLibre, el e-commerce más grande de Latinoamérica, analizando y modelando el problema de logística de envíos para poder responder ¿cuándo llega?\n",
        "\n",
        "## Descripción del dataset\n",
        "\n",
        "**Datos:**  El conjunto de datos seleccionado para realizar el práctico corresponde a un muestreo aleatorio no uniforme de 500.000 envíos de MercadoLibre. Estos envíos fueron realizados en Brasil en el período comprendido entre Octubre de 2018 y Abril de 2019 (las fechas originales han sido modificadas y adaptadas a un período de tiempo diferente, conservando el día de la semana y considerando los feriados correspondientes). Mientras que las fechas han sido modificadas, los horarios registrados en el dataset son los originales. Los datos comprenden variables tanto categóricas como numéricas. \n",
        "\n",
        "El dataset cuenta con las siguientes columnas:\n",
        "\n",
        "- **Sender_state:** Estado de Brasil de donde sale el envío.\n",
        "- **Sender_zipcode:** Código postal (de 5 dígitos) de donde sale el envío.\n",
        "- **Receiver_state:** Estado de Brasil a donde llega el envío.\n",
        "- **Receiver_zipcode:** Código postal (de 5 dígitos) a donde llega el envío.\n",
        "- **Shipment_type:** Método de envío (normal, express, super).\n",
        "- **Quantity:** Cantidad de productos en un envío.\n",
        "- **Service:** Servicio del correo con el cual se realizó un envío.\n",
        "- **Status:** Estado del envío (set: listo para ser enviado, sent: enviado, done: entregado, failed: no entregado, cancelled: cancelado).\n",
        "- **Date_created:** Fecha de creación del envío.\n",
        "- **Date_sent:** Fecha y hora en que se realizó el envío (salió del correo).\n",
        "- **Date_visit:** Fecha y hora en que se entregó el envío al destinatario.\n",
        "- **Shipment_days:** Días hábiles entre que el envío fue enviado (salió del correo) y que fue entregado.\n",
        "\n",
        "\n"
      ]
    },
    {
      "cell_type": "markdown",
      "metadata": {
        "colab_type": "text",
        "id": "6C71choGUX0S"
      },
      "source": [
        "## Objetivos generales\n",
        "\n",
        "  "
      ]
    },
    {
      "cell_type": "markdown",
      "metadata": {
        "colab_type": "text",
        "id": "IiRvgazNUX0T"
      },
      "source": [
        "## Objetivos específicos\n",
        "* Emplear y calcular la performance de un modelo de aprendizaje supervisado de tipo             support vector machine, separando para ello en dos clases: envíos rápidos (demoran            menos de 3 días) y lentos (demoran 3 o más días). ¿Existen outliers? ¿Son los datos                linealmente separables? Si no lo son, ¿qué kernel creen se podría emplear para             realizar la proyección? \n",
        "* En la problemática propuesta, podemos dividir la experiencia del usuario en tres            situaciones diferentes: el envío llegó antes de lo prometido, el día prometido o             después del día prometido. Definir una o más métricas que nos permitan determinar             la performance de los modelos desarrollados considerando las tres posibles          experiencias de usuario de interés.  \n",
        "* Determinar, desarrollar y calcular la performance (según las métricas definidas en el            punto anterior) de un modelo de aprendizaje supervisado de tipo ensemble de            modelos (considerando todas las clases posibles). ¿Cuál es la diferencia con los            modelos más sencillos del práctico anterior? ¿Cómo es la performance en este            caso? ¿Cómo creen que puede incrementarse aún más la performance utilizando           este tipo de modelos?\n",
        "* Elegir las dos features que considere más relevante y desarrollar un modelo de             clustering (sin utilizar la información del target, i.e., ​shipment_days ​ ).  \n",
        "* Realizar una visualización de los diferentes clusters.  ¿Cómo son los tamaños relativos?  ¿Parecen adecuados para el problema de interés?  ¿Representan a todas las clases?  ¿Qué medida podemos utilizar para inspeccionar el contenido de los clusters?           Aplicarla al problema y comentar el resultado obtenido.  ¿Qué modificaciones deberíamos llevar a cabo para que los clusters sean más            representativos del problema de interés? \n",
        "* Repetir el análisis anterior empleando en el modelo de clustering un número            mayor de clusters (que difiera del anterior en al menos 3). ¿Qué diferencias             observa en ambos casos? \n",
        "* Utilizando todos los features y el número de clusters que considere mejor para el              problema de interés, desarrollar un modelo de clustering. ​Calcular accuracy y la            performance según las métricas definidas en el segundo punto. ¿Cómo es la            performance comparada a la del modelo de aprendizaje supervisado? Comente          sobre cuál modelo es mejor y por qué. \n",
        "* Emplear un embedding sobre las features seleccionadas (por ejemplo, PCA) y           emplear el mismo modelo de clustering desarrollado en el punto anterior. ¿Cómo se             modifican las métricas? ¿Y el tiempo de entrenamiento? Comente sobre las ventajas            y/o desventajas de aplicar el embedding. \n"
      ]
    },
    {
      "cell_type": "markdown",
      "metadata": {
        "colab_type": "text",
        "id": "fr-c3rSLUX0U"
      },
      "source": [
        "## Desarrollo del trabajo"
      ]
    },
    {
      "cell_type": "code",
      "metadata": {
        "colab_type": "code",
        "id": "8PZqZdWOUX0V",
        "colab": {}
      },
      "source": [
        "import matplotlib.pyplot as plt\n",
        "import numpy as np\n",
        "import pandas\n",
        "import seaborn as sns\n",
        "import sklearn\n",
        "\n",
        "from datetime import timedelta\n",
        "from IPython.display import HTML\n",
        "from matplotlib.colors import ListedColormap\n",
        "from scipy import stats\n",
        "from sklearn import preprocessing\n",
        "from sklearn import tree\n",
        "from sklearn.linear_model import LinearRegression, SGDClassifier, LogisticRegression\n",
        "from sklearn.metrics import confusion_matrix, classification_report, accuracy_score, mean_squared_error\n",
        "from sklearn.model_selection import train_test_split, GridSearchCV\n",
        "from sklearn.neighbors import KNeighborsClassifier\n",
        "from sklearn.preprocessing import MinMaxScaler,PolynomialFeatures\n",
        "\n",
        "#import utils"
      ],
      "execution_count": 0,
      "outputs": []
    },
    {
      "cell_type": "markdown",
      "metadata": {
        "colab_type": "text",
        "id": "Jptu3QGeUX0a"
      },
      "source": [
        "### Lectura y análisis inicial de los datos"
      ]
    },
    {
      "cell_type": "code",
      "metadata": {
        "colab_type": "code",
        "id": "S8n6LFm5UX0b",
        "outputId": "31e3c87c-d5b6-4298-fafd-85288dd2a8b8",
        "colab": {
          "base_uri": "https://localhost:8080/",
          "height": 34
        }
      },
      "source": [
        "url = \"https://raw.githubusercontent.com/cnoeliachaves/csv/master/dataset_sample_corrected.csv\"\n",
        "\n",
        "dataset = pandas.read_csv(url, dtype={'sender_zipcode':'int64',\n",
        "                              'receiver_zipcode':'int64',\n",
        "                              'quantity':'int64',\n",
        "                              'service':'int64'},\n",
        "                       parse_dates=['date_created','date_sent','date_visit'])\n",
        "dataset.shape"
      ],
      "execution_count": 171,
      "outputs": [
        {
          "output_type": "execute_result",
          "data": {
            "text/plain": [
              "(500000, 12)"
            ]
          },
          "metadata": {
            "tags": []
          },
          "execution_count": 171
        }
      ]
    },
    {
      "cell_type": "code",
      "metadata": {
        "colab_type": "code",
        "id": "p6Xgk-azUX0f",
        "outputId": "b4766684-42f1-439a-ad27-fd0a9073b41c",
        "colab": {
          "base_uri": "https://localhost:8080/",
          "height": 85
        }
      },
      "source": [
        "dataset.columns"
      ],
      "execution_count": 172,
      "outputs": [
        {
          "output_type": "execute_result",
          "data": {
            "text/plain": [
              "Index(['sender_state', 'sender_zipcode', 'receiver_state', 'receiver_zipcode',\n",
              "       'shipment_type', 'quantity', 'service', 'status', 'date_created',\n",
              "       'date_sent', 'date_visit', 'shipment_days'],\n",
              "      dtype='object')"
            ]
          },
          "metadata": {
            "tags": []
          },
          "execution_count": 172
        }
      ]
    },
    {
      "cell_type": "code",
      "metadata": {
        "colab_type": "code",
        "id": "Q2Swl5SvUX0i",
        "outputId": "ea42da04-7209-49e2-d1ba-802ade7a87ed",
        "colab": {
          "base_uri": "https://localhost:8080/",
          "height": 306
        }
      },
      "source": [
        "dataset.info()"
      ],
      "execution_count": 173,
      "outputs": [
        {
          "output_type": "stream",
          "text": [
            "<class 'pandas.core.frame.DataFrame'>\n",
            "RangeIndex: 500000 entries, 0 to 499999\n",
            "Data columns (total 12 columns):\n",
            "sender_state        500000 non-null object\n",
            "sender_zipcode      500000 non-null int64\n",
            "receiver_state      500000 non-null object\n",
            "receiver_zipcode    500000 non-null int64\n",
            "shipment_type       500000 non-null object\n",
            "quantity            500000 non-null int64\n",
            "service             500000 non-null int64\n",
            "status              500000 non-null object\n",
            "date_created        500000 non-null datetime64[ns]\n",
            "date_sent           499971 non-null datetime64[ns]\n",
            "date_visit          499398 non-null datetime64[ns]\n",
            "shipment_days       499398 non-null float64\n",
            "dtypes: datetime64[ns](3), float64(1), int64(4), object(4)\n",
            "memory usage: 45.8+ MB\n"
          ],
          "name": "stdout"
        }
      ]
    },
    {
      "cell_type": "code",
      "metadata": {
        "colab_type": "code",
        "id": "1mz8vwJfUX0l",
        "colab": {}
      },
      "source": [
        "np.random.seed(1234) #con propositos de reproducibilidad\n",
        "#dataset.sample(10)"
      ],
      "execution_count": 0,
      "outputs": []
    },
    {
      "cell_type": "markdown",
      "metadata": {
        "colab_type": "text",
        "id": "xPCw0z_hUX0p"
      },
      "source": [
        "### Limpieza de datos\n",
        "\n",
        "En esta sección retomaremos algunos puntos del práctico anterior con el objetivo de limpiar nuestro dataset."
      ]
    },
    {
      "cell_type": "markdown",
      "metadata": {
        "colab_type": "text",
        "id": "y_-ydh1qUX0q"
      },
      "source": [
        "#### Shipment day anómalos \n",
        "\n",
        "En primer lugar, eliminaremos los valores de shipment days negativos."
      ]
    },
    {
      "cell_type": "code",
      "metadata": {
        "colab_type": "code",
        "id": "ftujA2CMUX0r",
        "colab": {}
      },
      "source": [
        "def clean_shipment_days(dataset):\n",
        "    \"\"\"Le saco los valores negativos\"\"\"\n",
        "    shipments_days = dataset['shipment_days']\n",
        "    mask = (shipments_days >= 0)\n",
        "    return dataset[mask] "
      ],
      "execution_count": 0,
      "outputs": []
    },
    {
      "cell_type": "code",
      "metadata": {
        "colab_type": "code",
        "id": "3b-stq_lUX0v",
        "colab": {}
      },
      "source": [
        "dataset_clean = clean_shipment_days(dataset)"
      ],
      "execution_count": 0,
      "outputs": []
    },
    {
      "cell_type": "markdown",
      "metadata": {
        "colab_type": "text",
        "id": "qI7zHvo0UX04"
      },
      "source": [
        "####Fechas anómalas\n",
        "\n",
        "En el análisis realizado en el práctico anterior de las 3 variables con información de fechas y horas encontramos que la variable date_created cuenta con valores que caen fuera del intervalo temporal considerado y que todos ellos se encuentran ubicados en el mes de Junio de 2019. Luego de haber realizado una inspección de esta información anómala llegamos a la conclusión que los mismos podrían deberse a un error en el proceso de carga y que en realidad son datos de Enero de 2019. \n",
        "\n",
        "Siguiendo esta idea decidimos en este momento subsanar este posible error de carga haciendo que la información de la variable date_created correspondiente al mes de Junio de 2019 sea ahora del mes de Enero de 2019."
      ]
    },
    {
      "cell_type": "code",
      "metadata": {
        "colab_type": "code",
        "id": "kI_G2Ya_UX05",
        "colab": {}
      },
      "source": [
        "date_created_junio = dataset_clean[dataset_clean['date_created'].map(lambda x: x.month) == 6]\n",
        "#date_created_junio"
      ],
      "execution_count": 0,
      "outputs": []
    },
    {
      "cell_type": "code",
      "metadata": {
        "colab_type": "code",
        "id": "y9tz1biUUX0_",
        "colab": {}
      },
      "source": [
        "date_created_junio = dataset_clean['date_created'].map(lambda x: \n",
        "                                                       x+timedelta(days=-151) \n",
        "                                                       if x.month==6 else x)"
      ],
      "execution_count": 0,
      "outputs": []
    },
    {
      "cell_type": "code",
      "metadata": {
        "colab_type": "code",
        "id": "ovwt-Tw5TT5e",
        "outputId": "630f116c-a265-4716-bcd8-2e7586e3f9dc",
        "colab": {
          "base_uri": "https://localhost:8080/",
          "height": 119
        }
      },
      "source": [
        "dataset_clean.loc[:,'date_created'] = date_created_junio"
      ],
      "execution_count": 179,
      "outputs": [
        {
          "output_type": "stream",
          "text": [
            "/usr/local/lib/python3.6/dist-packages/pandas/core/indexing.py:494: SettingWithCopyWarning: \n",
            "A value is trying to be set on a copy of a slice from a DataFrame.\n",
            "Try using .loc[row_indexer,col_indexer] = value instead\n",
            "\n",
            "See the caveats in the documentation: http://pandas.pydata.org/pandas-docs/stable/user_guide/indexing.html#returning-a-view-versus-a-copy\n",
            "  self.obj[item] = s\n"
          ],
          "name": "stderr"
        }
      ]
    },
    {
      "cell_type": "code",
      "metadata": {
        "colab_type": "code",
        "id": "4EdiA6TZUX1C",
        "outputId": "a69510de-0d05-4217-fd73-2ff08e2a8721",
        "colab": {
          "base_uri": "https://localhost:8080/",
          "height": 34
        }
      },
      "source": [
        "dataset_clean['date_created'].dt.month.unique()"
      ],
      "execution_count": 180,
      "outputs": [
        {
          "output_type": "execute_result",
          "data": {
            "text/plain": [
              "array([ 3,  2,  1,  4, 12, 10, 11])"
            ]
          },
          "metadata": {
            "tags": []
          },
          "execution_count": 180
        }
      ]
    },
    {
      "cell_type": "code",
      "metadata": {
        "colab_type": "code",
        "id": "rq8xu8gYUX1F",
        "outputId": "0797c1ad-284a-465d-da07-c119f8758518",
        "colab": {
          "base_uri": "https://localhost:8080/",
          "height": 235
        }
      },
      "source": [
        "dataset_clean.describe(include='datetime64')"
      ],
      "execution_count": 181,
      "outputs": [
        {
          "output_type": "execute_result",
          "data": {
            "text/html": [
              "<div>\n",
              "<style scoped>\n",
              "    .dataframe tbody tr th:only-of-type {\n",
              "        vertical-align: middle;\n",
              "    }\n",
              "\n",
              "    .dataframe tbody tr th {\n",
              "        vertical-align: top;\n",
              "    }\n",
              "\n",
              "    .dataframe thead th {\n",
              "        text-align: right;\n",
              "    }\n",
              "</style>\n",
              "<table border=\"1\" class=\"dataframe\">\n",
              "  <thead>\n",
              "    <tr style=\"text-align: right;\">\n",
              "      <th></th>\n",
              "      <th>date_created</th>\n",
              "      <th>date_sent</th>\n",
              "      <th>date_visit</th>\n",
              "    </tr>\n",
              "  </thead>\n",
              "  <tbody>\n",
              "    <tr>\n",
              "      <th>count</th>\n",
              "      <td>499350</td>\n",
              "      <td>499350</td>\n",
              "      <td>499350</td>\n",
              "    </tr>\n",
              "    <tr>\n",
              "      <th>unique</th>\n",
              "      <td>124</td>\n",
              "      <td>81276</td>\n",
              "      <td>55668</td>\n",
              "    </tr>\n",
              "    <tr>\n",
              "      <th>top</th>\n",
              "      <td>2019-03-05 00:00:00</td>\n",
              "      <td>2019-03-11 15:53:00</td>\n",
              "      <td>2019-03-11 22:00:00</td>\n",
              "    </tr>\n",
              "    <tr>\n",
              "      <th>freq</th>\n",
              "      <td>20424</td>\n",
              "      <td>113</td>\n",
              "      <td>621</td>\n",
              "    </tr>\n",
              "    <tr>\n",
              "      <th>first</th>\n",
              "      <td>2018-10-21 00:00:00</td>\n",
              "      <td>2018-10-23 13:57:00</td>\n",
              "      <td>2019-02-25 05:36:00</td>\n",
              "    </tr>\n",
              "    <tr>\n",
              "      <th>last</th>\n",
              "      <td>2019-04-29 00:00:00</td>\n",
              "      <td>2019-03-29 01:46:20</td>\n",
              "      <td>2019-04-02 15:35:00</td>\n",
              "    </tr>\n",
              "  </tbody>\n",
              "</table>\n",
              "</div>"
            ],
            "text/plain": [
              "               date_created            date_sent           date_visit\n",
              "count                499350               499350               499350\n",
              "unique                  124                81276                55668\n",
              "top     2019-03-05 00:00:00  2019-03-11 15:53:00  2019-03-11 22:00:00\n",
              "freq                  20424                  113                  621\n",
              "first   2018-10-21 00:00:00  2018-10-23 13:57:00  2019-02-25 05:36:00\n",
              "last    2019-04-29 00:00:00  2019-03-29 01:46:20  2019-04-02 15:35:00"
            ]
          },
          "metadata": {
            "tags": []
          },
          "execution_count": 181
        }
      ]
    },
    {
      "cell_type": "markdown",
      "metadata": {
        "colab_type": "text",
        "id": "h2IvvXM0-vv0"
      },
      "source": [
        "En el describe de arriba, podemos ver que la última fecha de creación es posterior a la última fecha de data_sent como date_visit, pero consideramos que dichos datos son correctos, ya que no contamos con el completo dataset."
      ]
    },
    {
      "cell_type": "markdown",
      "metadata": {
        "colab_type": "text",
        "id": "QFvILb8gGWto"
      },
      "source": [
        "#### Valores nulos"
      ]
    },
    {
      "cell_type": "markdown",
      "metadata": {
        "colab_type": "text",
        "id": "Qro0D07OECTX"
      },
      "source": [
        "Veamos cuantos valores nulos tenemos"
      ]
    },
    {
      "cell_type": "code",
      "metadata": {
        "colab_type": "code",
        "id": "qwWQirqAEMli",
        "outputId": "2bcbcef9-71a0-4c6a-c5c0-a45850415a6f",
        "colab": {
          "base_uri": "https://localhost:8080/",
          "height": 34
        }
      },
      "source": [
        "null_values_count = dataset_clean.isnull().sum()\n",
        "null_values_count[null_values_count > 0]"
      ],
      "execution_count": 182,
      "outputs": [
        {
          "output_type": "execute_result",
          "data": {
            "text/plain": [
              "Series([], dtype: int64)"
            ]
          },
          "metadata": {
            "tags": []
          },
          "execution_count": 182
        }
      ]
    },
    {
      "cell_type": "markdown",
      "metadata": {
        "colab_type": "text",
        "id": "O0_ZS8GKZtIF"
      },
      "source": [
        "Podemos ver que no tenemos valores nulos en el dataset."
      ]
    },
    {
      "cell_type": "markdown",
      "metadata": {
        "colab_type": "text",
        "id": "TQ6fBcMji0KR"
      },
      "source": [
        "#### Limpieza de las fechas anomálas\n",
        "\n",
        "Ahora limpiaremos el dataset sacando todas aquellas fechas que no se siguen en la línea temporal. "
      ]
    },
    {
      "cell_type": "code",
      "metadata": {
        "colab_type": "code",
        "id": "t7h8hxMgi-es",
        "colab": {}
      },
      "source": [
        "date_created_before_date_sent = dataset_clean.date_created < dataset_clean.date_sent #Filtramos date_created menores que date_sent\n",
        "\n",
        "date_sent_before_date_visit = dataset_clean.date_sent < dataset_clean.date_visit #Filtramos date_sent menores que date_visit\n",
        "\n",
        "date_created_before_date_visit = dataset_clean.date_created < dataset_clean.date_visit #Filtramos date_created menores que date_visit\n"
      ],
      "execution_count": 0,
      "outputs": []
    },
    {
      "cell_type": "code",
      "metadata": {
        "colab_type": "code",
        "id": "AThEn-X8i-Qg",
        "outputId": "4111b857-8f9f-4f34-ed18-493af696f7a2",
        "colab": {
          "base_uri": "https://localhost:8080/",
          "height": 462
        }
      },
      "source": [
        "dataset_clean = dataset_clean[date_created_before_date_sent].dropna() # solo fechas de creacion antes de la fecha de envio\n",
        "dataset_clean = dataset_clean[date_created_before_date_visit].dropna()# solo fechas de creacion antes de la fecha de visita\n",
        "dataset_clean = dataset_clean[date_sent_before_date_visit].dropna()# solo fechas de envios antes de la fecha de visita\n",
        "dataset_clean.sample(5)"
      ],
      "execution_count": 184,
      "outputs": [
        {
          "output_type": "stream",
          "text": [
            "/usr/local/lib/python3.6/dist-packages/ipykernel_launcher.py:2: UserWarning: Boolean Series key will be reindexed to match DataFrame index.\n",
            "  \n",
            "/usr/local/lib/python3.6/dist-packages/ipykernel_launcher.py:3: UserWarning: Boolean Series key will be reindexed to match DataFrame index.\n",
            "  This is separate from the ipykernel package so we can avoid doing imports until\n"
          ],
          "name": "stderr"
        },
        {
          "output_type": "execute_result",
          "data": {
            "text/html": [
              "<div>\n",
              "<style scoped>\n",
              "    .dataframe tbody tr th:only-of-type {\n",
              "        vertical-align: middle;\n",
              "    }\n",
              "\n",
              "    .dataframe tbody tr th {\n",
              "        vertical-align: top;\n",
              "    }\n",
              "\n",
              "    .dataframe thead th {\n",
              "        text-align: right;\n",
              "    }\n",
              "</style>\n",
              "<table border=\"1\" class=\"dataframe\">\n",
              "  <thead>\n",
              "    <tr style=\"text-align: right;\">\n",
              "      <th></th>\n",
              "      <th>sender_state</th>\n",
              "      <th>sender_zipcode</th>\n",
              "      <th>receiver_state</th>\n",
              "      <th>receiver_zipcode</th>\n",
              "      <th>shipment_type</th>\n",
              "      <th>quantity</th>\n",
              "      <th>service</th>\n",
              "      <th>status</th>\n",
              "      <th>date_created</th>\n",
              "      <th>date_sent</th>\n",
              "      <th>date_visit</th>\n",
              "      <th>shipment_days</th>\n",
              "    </tr>\n",
              "  </thead>\n",
              "  <tbody>\n",
              "    <tr>\n",
              "      <th>193186</th>\n",
              "      <td>SP</td>\n",
              "      <td>13026</td>\n",
              "      <td>RJ</td>\n",
              "      <td>24435</td>\n",
              "      <td>express</td>\n",
              "      <td>1</td>\n",
              "      <td>0</td>\n",
              "      <td>done</td>\n",
              "      <td>2019-03-10</td>\n",
              "      <td>2019-03-11 11:25:00</td>\n",
              "      <td>2019-03-18 11:26:00</td>\n",
              "      <td>5.0</td>\n",
              "    </tr>\n",
              "    <tr>\n",
              "      <th>245787</th>\n",
              "      <td>SP</td>\n",
              "      <td>8599</td>\n",
              "      <td>SP</td>\n",
              "      <td>13420</td>\n",
              "      <td>express</td>\n",
              "      <td>1</td>\n",
              "      <td>0</td>\n",
              "      <td>done</td>\n",
              "      <td>2019-03-16</td>\n",
              "      <td>2019-03-18 17:25:00</td>\n",
              "      <td>2019-03-20 15:42:00</td>\n",
              "      <td>2.0</td>\n",
              "    </tr>\n",
              "    <tr>\n",
              "      <th>399104</th>\n",
              "      <td>SP</td>\n",
              "      <td>4905</td>\n",
              "      <td>RS</td>\n",
              "      <td>94450</td>\n",
              "      <td>standard</td>\n",
              "      <td>1</td>\n",
              "      <td>1</td>\n",
              "      <td>done</td>\n",
              "      <td>2019-03-02</td>\n",
              "      <td>2019-03-04 17:52:00</td>\n",
              "      <td>2019-03-20 11:01:00</td>\n",
              "      <td>9.0</td>\n",
              "    </tr>\n",
              "    <tr>\n",
              "      <th>22402</th>\n",
              "      <td>SP</td>\n",
              "      <td>4744</td>\n",
              "      <td>PR</td>\n",
              "      <td>85862</td>\n",
              "      <td>standard</td>\n",
              "      <td>1</td>\n",
              "      <td>1</td>\n",
              "      <td>done</td>\n",
              "      <td>2019-03-03</td>\n",
              "      <td>2019-03-07 16:51:00</td>\n",
              "      <td>2019-03-19 12:12:00</td>\n",
              "      <td>8.0</td>\n",
              "    </tr>\n",
              "    <tr>\n",
              "      <th>138938</th>\n",
              "      <td>SP</td>\n",
              "      <td>7176</td>\n",
              "      <td>RS</td>\n",
              "      <td>95660</td>\n",
              "      <td>standard</td>\n",
              "      <td>1</td>\n",
              "      <td>2</td>\n",
              "      <td>done</td>\n",
              "      <td>2019-03-05</td>\n",
              "      <td>2019-03-06 23:36:07</td>\n",
              "      <td>2019-03-12 07:45:00</td>\n",
              "      <td>3.0</td>\n",
              "    </tr>\n",
              "  </tbody>\n",
              "</table>\n",
              "</div>"
            ],
            "text/plain": [
              "       sender_state  sender_zipcode  ...          date_visit  shipment_days\n",
              "193186           SP           13026  ... 2019-03-18 11:26:00            5.0\n",
              "245787           SP            8599  ... 2019-03-20 15:42:00            2.0\n",
              "399104           SP            4905  ... 2019-03-20 11:01:00            9.0\n",
              "22402            SP            4744  ... 2019-03-19 12:12:00            8.0\n",
              "138938           SP            7176  ... 2019-03-12 07:45:00            3.0\n",
              "\n",
              "[5 rows x 12 columns]"
            ]
          },
          "metadata": {
            "tags": []
          },
          "execution_count": 184
        }
      ]
    },
    {
      "cell_type": "markdown",
      "metadata": {
        "colab_type": "text",
        "id": "iREKMj2mnqfu"
      },
      "source": [
        "### La importancia de predecir el valor de la variable shipment_days\n",
        "\n",
        "Uno de los objetivos principales del análisis propuesto en esta mentoría es predecir (dar un número aproximado de días hábiles) el tiempo entre que se despacha del correo hasta que el mismo llega a la casa del comprador. \n",
        "\n",
        "Es decir, queremos predecir el feature shipment_days.\n",
        "\n",
        "Por lo tanto este sería el target de un algoritmo de aprendizaje automático. Si bien este feature originalmente es información de tipo numérica en el práctico anterior utilizamos enconding para convertirla en una variable categórica. Así, esto nos da la posibilidad de trabajar con diferentes modelos de aprendizaje automático utilizando el mismo feature como target pero en sus diferentes versiones.\n",
        "\n",
        "Frente a este problema consideramos que el estado de Brasil que recibe el envío (receiver_state) es un feature importante a tener en cuenta (mientras más lejos esté de San Pablo probablemente demore más) y probablemente también el código postal de dicho estado (receiver_zipcode). Por otro lado, el tipo de correo (service) también puede ser una variable importante a tener en cuenta porque la calidad de servicio impactará directamente en los días que tarda en llegar el pedido.\n",
        "\n"
      ]
    },
    {
      "cell_type": "code",
      "metadata": {
        "colab_type": "code",
        "id": "qGfPmS5oUX1I",
        "outputId": "50234b9e-5c96-40eb-ddcd-d2b535c5efca",
        "colab": {
          "base_uri": "https://localhost:8080/",
          "height": 394
        }
      },
      "source": [
        "dataset_clean.sample(5)"
      ],
      "execution_count": 185,
      "outputs": [
        {
          "output_type": "execute_result",
          "data": {
            "text/html": [
              "<div>\n",
              "<style scoped>\n",
              "    .dataframe tbody tr th:only-of-type {\n",
              "        vertical-align: middle;\n",
              "    }\n",
              "\n",
              "    .dataframe tbody tr th {\n",
              "        vertical-align: top;\n",
              "    }\n",
              "\n",
              "    .dataframe thead th {\n",
              "        text-align: right;\n",
              "    }\n",
              "</style>\n",
              "<table border=\"1\" class=\"dataframe\">\n",
              "  <thead>\n",
              "    <tr style=\"text-align: right;\">\n",
              "      <th></th>\n",
              "      <th>sender_state</th>\n",
              "      <th>sender_zipcode</th>\n",
              "      <th>receiver_state</th>\n",
              "      <th>receiver_zipcode</th>\n",
              "      <th>shipment_type</th>\n",
              "      <th>quantity</th>\n",
              "      <th>service</th>\n",
              "      <th>status</th>\n",
              "      <th>date_created</th>\n",
              "      <th>date_sent</th>\n",
              "      <th>date_visit</th>\n",
              "      <th>shipment_days</th>\n",
              "    </tr>\n",
              "  </thead>\n",
              "  <tbody>\n",
              "    <tr>\n",
              "      <th>470586</th>\n",
              "      <td>SP</td>\n",
              "      <td>2510</td>\n",
              "      <td>SP</td>\n",
              "      <td>2435</td>\n",
              "      <td>express</td>\n",
              "      <td>1</td>\n",
              "      <td>5</td>\n",
              "      <td>done</td>\n",
              "      <td>2019-02-28</td>\n",
              "      <td>2019-03-01 22:39:58</td>\n",
              "      <td>2019-03-07 07:19:11</td>\n",
              "      <td>1.0</td>\n",
              "    </tr>\n",
              "    <tr>\n",
              "      <th>399813</th>\n",
              "      <td>SP</td>\n",
              "      <td>13306</td>\n",
              "      <td>SC</td>\n",
              "      <td>89600</td>\n",
              "      <td>standard</td>\n",
              "      <td>1</td>\n",
              "      <td>1</td>\n",
              "      <td>done</td>\n",
              "      <td>2019-03-12</td>\n",
              "      <td>2019-03-15 17:16:00</td>\n",
              "      <td>2019-03-28 13:34:00</td>\n",
              "      <td>9.0</td>\n",
              "    </tr>\n",
              "    <tr>\n",
              "      <th>371289</th>\n",
              "      <td>SP</td>\n",
              "      <td>11700</td>\n",
              "      <td>SP</td>\n",
              "      <td>11250</td>\n",
              "      <td>express</td>\n",
              "      <td>1</td>\n",
              "      <td>0</td>\n",
              "      <td>done</td>\n",
              "      <td>2019-03-05</td>\n",
              "      <td>2019-03-11 17:07:00</td>\n",
              "      <td>2019-03-18 18:14:00</td>\n",
              "      <td>5.0</td>\n",
              "    </tr>\n",
              "    <tr>\n",
              "      <th>255762</th>\n",
              "      <td>SP</td>\n",
              "      <td>14030</td>\n",
              "      <td>MG</td>\n",
              "      <td>30330</td>\n",
              "      <td>standard</td>\n",
              "      <td>1</td>\n",
              "      <td>1</td>\n",
              "      <td>done</td>\n",
              "      <td>2019-02-18</td>\n",
              "      <td>2019-02-19 19:08:00</td>\n",
              "      <td>2019-02-28 14:29:00</td>\n",
              "      <td>7.0</td>\n",
              "    </tr>\n",
              "    <tr>\n",
              "      <th>406847</th>\n",
              "      <td>SP</td>\n",
              "      <td>3410</td>\n",
              "      <td>SP</td>\n",
              "      <td>14200</td>\n",
              "      <td>express</td>\n",
              "      <td>1</td>\n",
              "      <td>0</td>\n",
              "      <td>done</td>\n",
              "      <td>2019-02-26</td>\n",
              "      <td>2019-02-27 12:39:00</td>\n",
              "      <td>2019-03-11 16:34:00</td>\n",
              "      <td>5.0</td>\n",
              "    </tr>\n",
              "  </tbody>\n",
              "</table>\n",
              "</div>"
            ],
            "text/plain": [
              "       sender_state  sender_zipcode  ...          date_visit  shipment_days\n",
              "470586           SP            2510  ... 2019-03-07 07:19:11            1.0\n",
              "399813           SP           13306  ... 2019-03-28 13:34:00            9.0\n",
              "371289           SP           11700  ... 2019-03-18 18:14:00            5.0\n",
              "255762           SP           14030  ... 2019-02-28 14:29:00            7.0\n",
              "406847           SP            3410  ... 2019-03-11 16:34:00            5.0\n",
              "\n",
              "[5 rows x 12 columns]"
            ]
          },
          "metadata": {
            "tags": []
          },
          "execution_count": 185
        }
      ]
    },
    {
      "cell_type": "code",
      "metadata": {
        "colab_type": "code",
        "id": "J6-OY6tJUX1L",
        "outputId": "5e00aa7c-ae15-47b8-bba9-bba2dfbe0952",
        "colab": {
          "base_uri": "https://localhost:8080/",
          "height": 306
        }
      },
      "source": [
        "dataset_clean.info()"
      ],
      "execution_count": 186,
      "outputs": [
        {
          "output_type": "stream",
          "text": [
            "<class 'pandas.core.frame.DataFrame'>\n",
            "Int64Index: 496954 entries, 0 to 499999\n",
            "Data columns (total 12 columns):\n",
            "sender_state        496954 non-null object\n",
            "sender_zipcode      496954 non-null int64\n",
            "receiver_state      496954 non-null object\n",
            "receiver_zipcode    496954 non-null int64\n",
            "shipment_type       496954 non-null object\n",
            "quantity            496954 non-null int64\n",
            "service             496954 non-null int64\n",
            "status              496954 non-null object\n",
            "date_created        496954 non-null datetime64[ns]\n",
            "date_sent           496954 non-null datetime64[ns]\n",
            "date_visit          496954 non-null datetime64[ns]\n",
            "shipment_days       496954 non-null float64\n",
            "dtypes: datetime64[ns](3), float64(1), int64(4), object(4)\n",
            "memory usage: 49.3+ MB\n"
          ],
          "name": "stdout"
        }
      ]
    },
    {
      "cell_type": "markdown",
      "metadata": {
        "colab_type": "text",
        "id": "FJK7MY6OnycP"
      },
      "source": [
        "Luego de haber limpiado nuestro dataset observamos que contamos con 496954 filas con información, es decir la limpieza solo afectó aproximadamente al 1% de los datos originales.\n",
        "\n"
      ]
    },
    {
      "cell_type": "markdown",
      "metadata": {
        "id": "zc_xnPPNAaQY",
        "colab_type": "text"
      },
      "source": [
        "### Codifiquemos receiver_state, para poder usarlo porque necesitamos que sea una variable numérica:"
      ]
    },
    {
      "cell_type": "code",
      "metadata": {
        "id": "nyHzcZSDAMpr",
        "colab_type": "code",
        "outputId": "f28e1bca-bfd5-4247-de00-66a8777744f9",
        "colab": {
          "base_uri": "https://localhost:8080/",
          "height": 34
        }
      },
      "source": [
        "receiver_state_le = 'receiver_state'\n",
        "# Create a label (category) encoder object\n",
        "le = preprocessing.LabelEncoder()\n",
        "# Fit the encoder to the pandas column\n",
        "le.fit(dataset_clean[receiver_state_le])"
      ],
      "execution_count": 187,
      "outputs": [
        {
          "output_type": "execute_result",
          "data": {
            "text/plain": [
              "LabelEncoder()"
            ]
          },
          "metadata": {
            "tags": []
          },
          "execution_count": 187
        }
      ]
    },
    {
      "cell_type": "code",
      "metadata": {
        "id": "_Qi4YLcPAZVJ",
        "colab_type": "code",
        "outputId": "4b7bbfaf-cc22-4b4c-9f40-60fc4ce453d4",
        "colab": {
          "base_uri": "https://localhost:8080/",
          "height": 134
        }
      },
      "source": [
        "dataset_clean['receiver_state_le'] = le.transform(dataset_clean[receiver_state_le]) \n",
        "dataset_clean.sample()"
      ],
      "execution_count": 188,
      "outputs": [
        {
          "output_type": "execute_result",
          "data": {
            "text/html": [
              "<div>\n",
              "<style scoped>\n",
              "    .dataframe tbody tr th:only-of-type {\n",
              "        vertical-align: middle;\n",
              "    }\n",
              "\n",
              "    .dataframe tbody tr th {\n",
              "        vertical-align: top;\n",
              "    }\n",
              "\n",
              "    .dataframe thead th {\n",
              "        text-align: right;\n",
              "    }\n",
              "</style>\n",
              "<table border=\"1\" class=\"dataframe\">\n",
              "  <thead>\n",
              "    <tr style=\"text-align: right;\">\n",
              "      <th></th>\n",
              "      <th>sender_state</th>\n",
              "      <th>sender_zipcode</th>\n",
              "      <th>receiver_state</th>\n",
              "      <th>receiver_zipcode</th>\n",
              "      <th>shipment_type</th>\n",
              "      <th>quantity</th>\n",
              "      <th>service</th>\n",
              "      <th>status</th>\n",
              "      <th>date_created</th>\n",
              "      <th>date_sent</th>\n",
              "      <th>date_visit</th>\n",
              "      <th>shipment_days</th>\n",
              "      <th>receiver_state_le</th>\n",
              "    </tr>\n",
              "  </thead>\n",
              "  <tbody>\n",
              "    <tr>\n",
              "      <th>45619</th>\n",
              "      <td>SP</td>\n",
              "      <td>7600</td>\n",
              "      <td>SP</td>\n",
              "      <td>14940</td>\n",
              "      <td>express</td>\n",
              "      <td>2</td>\n",
              "      <td>0</td>\n",
              "      <td>done</td>\n",
              "      <td>2019-03-12</td>\n",
              "      <td>2019-03-13 13:52:00</td>\n",
              "      <td>2019-03-19 16:30:00</td>\n",
              "      <td>4.0</td>\n",
              "      <td>25</td>\n",
              "    </tr>\n",
              "  </tbody>\n",
              "</table>\n",
              "</div>"
            ],
            "text/plain": [
              "      sender_state  sender_zipcode  ... shipment_days  receiver_state_le\n",
              "45619           SP            7600  ...           4.0                 25\n",
              "\n",
              "[1 rows x 13 columns]"
            ]
          },
          "metadata": {
            "tags": []
          },
          "execution_count": 188
        }
      ]
    },
    {
      "cell_type": "code",
      "metadata": {
        "id": "Ili2CF1Oe4KR",
        "colab_type": "code",
        "outputId": "1d163b44-a19e-4885-e154-94ce58ed9adf",
        "colab": {
          "base_uri": "https://localhost:8080/",
          "height": 51
        }
      },
      "source": [
        "dataset_clean['receiver_state_le'].unique()"
      ],
      "execution_count": 189,
      "outputs": [
        {
          "output_type": "execute_result",
          "data": {
            "text/plain": [
              "array([25, 14, 18,  3, 22, 10,  6, 12, 17,  8,  7, 23, 26,  4, 16, 11, 13,\n",
              "        0, 15,  9, 19,  5,  1, 20,  2, 24, 21])"
            ]
          },
          "metadata": {
            "tags": []
          },
          "execution_count": 189
        }
      ]
    },
    {
      "cell_type": "code",
      "metadata": {
        "id": "w0Lw3LwjfFBI",
        "colab_type": "code",
        "outputId": "dd2e7414-9875-407a-97a4-c157130347e2",
        "colab": {
          "base_uri": "https://localhost:8080/",
          "height": 917
        }
      },
      "source": [
        "dataset_clean['receiver_state_le'].groupby(\n",
        "                          [dataset_clean['receiver_state_le']]\n",
        "                           ).agg({'count'})"
      ],
      "execution_count": 190,
      "outputs": [
        {
          "output_type": "execute_result",
          "data": {
            "text/html": [
              "<div>\n",
              "<style scoped>\n",
              "    .dataframe tbody tr th:only-of-type {\n",
              "        vertical-align: middle;\n",
              "    }\n",
              "\n",
              "    .dataframe tbody tr th {\n",
              "        vertical-align: top;\n",
              "    }\n",
              "\n",
              "    .dataframe thead th {\n",
              "        text-align: right;\n",
              "    }\n",
              "</style>\n",
              "<table border=\"1\" class=\"dataframe\">\n",
              "  <thead>\n",
              "    <tr style=\"text-align: right;\">\n",
              "      <th></th>\n",
              "      <th>count</th>\n",
              "    </tr>\n",
              "    <tr>\n",
              "      <th>receiver_state_le</th>\n",
              "      <th></th>\n",
              "    </tr>\n",
              "  </thead>\n",
              "  <tbody>\n",
              "    <tr>\n",
              "      <th>0</th>\n",
              "      <td>836</td>\n",
              "    </tr>\n",
              "    <tr>\n",
              "      <th>1</th>\n",
              "      <td>2984</td>\n",
              "    </tr>\n",
              "    <tr>\n",
              "      <th>2</th>\n",
              "      <td>1954</td>\n",
              "    </tr>\n",
              "    <tr>\n",
              "      <th>3</th>\n",
              "      <td>786</td>\n",
              "    </tr>\n",
              "    <tr>\n",
              "      <th>4</th>\n",
              "      <td>21096</td>\n",
              "    </tr>\n",
              "    <tr>\n",
              "      <th>5</th>\n",
              "      <td>5227</td>\n",
              "    </tr>\n",
              "    <tr>\n",
              "      <th>6</th>\n",
              "      <td>10836</td>\n",
              "    </tr>\n",
              "    <tr>\n",
              "      <th>7</th>\n",
              "      <td>10066</td>\n",
              "    </tr>\n",
              "    <tr>\n",
              "      <th>8</th>\n",
              "      <td>13241</td>\n",
              "    </tr>\n",
              "    <tr>\n",
              "      <th>9</th>\n",
              "      <td>3738</td>\n",
              "    </tr>\n",
              "    <tr>\n",
              "      <th>10</th>\n",
              "      <td>60801</td>\n",
              "    </tr>\n",
              "    <tr>\n",
              "      <th>11</th>\n",
              "      <td>5919</td>\n",
              "    </tr>\n",
              "    <tr>\n",
              "      <th>12</th>\n",
              "      <td>6437</td>\n",
              "    </tr>\n",
              "    <tr>\n",
              "      <th>13</th>\n",
              "      <td>6483</td>\n",
              "    </tr>\n",
              "    <tr>\n",
              "      <th>14</th>\n",
              "      <td>4442</td>\n",
              "    </tr>\n",
              "    <tr>\n",
              "      <th>15</th>\n",
              "      <td>11978</td>\n",
              "    </tr>\n",
              "    <tr>\n",
              "      <th>16</th>\n",
              "      <td>2731</td>\n",
              "    </tr>\n",
              "    <tr>\n",
              "      <th>17</th>\n",
              "      <td>28829</td>\n",
              "    </tr>\n",
              "    <tr>\n",
              "      <th>18</th>\n",
              "      <td>42703</td>\n",
              "    </tr>\n",
              "    <tr>\n",
              "      <th>19</th>\n",
              "      <td>4031</td>\n",
              "    </tr>\n",
              "    <tr>\n",
              "      <th>20</th>\n",
              "      <td>2240</td>\n",
              "    </tr>\n",
              "    <tr>\n",
              "      <th>21</th>\n",
              "      <td>439</td>\n",
              "    </tr>\n",
              "    <tr>\n",
              "      <th>22</th>\n",
              "      <td>32461</td>\n",
              "    </tr>\n",
              "    <tr>\n",
              "      <th>23</th>\n",
              "      <td>23728</td>\n",
              "    </tr>\n",
              "    <tr>\n",
              "      <th>24</th>\n",
              "      <td>2568</td>\n",
              "    </tr>\n",
              "    <tr>\n",
              "      <th>25</th>\n",
              "      <td>188289</td>\n",
              "    </tr>\n",
              "    <tr>\n",
              "      <th>26</th>\n",
              "      <td>2111</td>\n",
              "    </tr>\n",
              "  </tbody>\n",
              "</table>\n",
              "</div>"
            ],
            "text/plain": [
              "                    count\n",
              "receiver_state_le        \n",
              "0                     836\n",
              "1                    2984\n",
              "2                    1954\n",
              "3                     786\n",
              "4                   21096\n",
              "5                    5227\n",
              "6                   10836\n",
              "7                   10066\n",
              "8                   13241\n",
              "9                    3738\n",
              "10                  60801\n",
              "11                   5919\n",
              "12                   6437\n",
              "13                   6483\n",
              "14                   4442\n",
              "15                  11978\n",
              "16                   2731\n",
              "17                  28829\n",
              "18                  42703\n",
              "19                   4031\n",
              "20                   2240\n",
              "21                    439\n",
              "22                  32461\n",
              "23                  23728\n",
              "24                   2568\n",
              "25                 188289\n",
              "26                   2111"
            ]
          },
          "metadata": {
            "tags": []
          },
          "execution_count": 190
        }
      ]
    },
    {
      "cell_type": "markdown",
      "metadata": {
        "colab_type": "text",
        "id": "xyCvmVFTStFc"
      },
      "source": [
        "### Separación en el conjunto de entrenamiento y evaluación "
      ]
    },
    {
      "cell_type": "markdown",
      "metadata": {
        "id": "9E_Dz1TFs75a",
        "colab_type": "text"
      },
      "source": [
        "A continuación analizamos las variables de fechas para poder hacer la separación de los datos."
      ]
    },
    {
      "cell_type": "code",
      "metadata": {
        "id": "r3N4j6RLtANn",
        "colab_type": "code",
        "colab": {}
      },
      "source": [
        "# creamos una nueva columna donde date_created solo considera las fechas\n",
        "dataset_clean['date_created_only_date'] = dataset_clean['date_created'].dt.date"
      ],
      "execution_count": 0,
      "outputs": []
    },
    {
      "cell_type": "code",
      "metadata": {
        "id": "jYptSqAEuZUu",
        "colab_type": "code",
        "colab": {}
      },
      "source": [
        "# creamos una nueva columna donde date_visit solo considera las fechas\n",
        "dataset_clean['date_visit_only_date'] = dataset_clean['date_visit'].dt.date"
      ],
      "execution_count": 0,
      "outputs": []
    },
    {
      "cell_type": "code",
      "metadata": {
        "id": "3oYLTtZqucub",
        "colab_type": "code",
        "outputId": "c9ab2a19-9fec-4b6a-dec1-1f71fd882dae",
        "colab": {
          "base_uri": "https://localhost:8080/",
          "height": 779
        }
      },
      "source": [
        "dataset_clean.sort_values(by=['date_visit_only_date']) "
      ],
      "execution_count": 193,
      "outputs": [
        {
          "output_type": "execute_result",
          "data": {
            "text/html": [
              "<div>\n",
              "<style scoped>\n",
              "    .dataframe tbody tr th:only-of-type {\n",
              "        vertical-align: middle;\n",
              "    }\n",
              "\n",
              "    .dataframe tbody tr th {\n",
              "        vertical-align: top;\n",
              "    }\n",
              "\n",
              "    .dataframe thead th {\n",
              "        text-align: right;\n",
              "    }\n",
              "</style>\n",
              "<table border=\"1\" class=\"dataframe\">\n",
              "  <thead>\n",
              "    <tr style=\"text-align: right;\">\n",
              "      <th></th>\n",
              "      <th>sender_state</th>\n",
              "      <th>sender_zipcode</th>\n",
              "      <th>receiver_state</th>\n",
              "      <th>receiver_zipcode</th>\n",
              "      <th>shipment_type</th>\n",
              "      <th>quantity</th>\n",
              "      <th>service</th>\n",
              "      <th>status</th>\n",
              "      <th>date_created</th>\n",
              "      <th>date_sent</th>\n",
              "      <th>date_visit</th>\n",
              "      <th>shipment_days</th>\n",
              "      <th>receiver_state_le</th>\n",
              "      <th>date_created_only_date</th>\n",
              "      <th>date_visit_only_date</th>\n",
              "    </tr>\n",
              "  </thead>\n",
              "  <tbody>\n",
              "    <tr>\n",
              "      <th>29645</th>\n",
              "      <td>SP</td>\n",
              "      <td>9550</td>\n",
              "      <td>ES</td>\n",
              "      <td>29170</td>\n",
              "      <td>standard</td>\n",
              "      <td>3</td>\n",
              "      <td>1</td>\n",
              "      <td>done</td>\n",
              "      <td>2019-01-22</td>\n",
              "      <td>2019-01-28 07:20:00</td>\n",
              "      <td>2019-02-25 15:29:00</td>\n",
              "      <td>20.0</td>\n",
              "      <td>7</td>\n",
              "      <td>2019-01-22</td>\n",
              "      <td>2019-02-25</td>\n",
              "    </tr>\n",
              "    <tr>\n",
              "      <th>23725</th>\n",
              "      <td>SP</td>\n",
              "      <td>15410</td>\n",
              "      <td>RJ</td>\n",
              "      <td>28633</td>\n",
              "      <td>standard</td>\n",
              "      <td>1</td>\n",
              "      <td>1</td>\n",
              "      <td>done</td>\n",
              "      <td>2019-02-02</td>\n",
              "      <td>2019-02-05 12:29:00</td>\n",
              "      <td>2019-02-25 15:20:00</td>\n",
              "      <td>14.0</td>\n",
              "      <td>18</td>\n",
              "      <td>2019-02-02</td>\n",
              "      <td>2019-02-25</td>\n",
              "    </tr>\n",
              "    <tr>\n",
              "      <th>327308</th>\n",
              "      <td>SP</td>\n",
              "      <td>3401</td>\n",
              "      <td>MG</td>\n",
              "      <td>37420</td>\n",
              "      <td>standard</td>\n",
              "      <td>1</td>\n",
              "      <td>1</td>\n",
              "      <td>done</td>\n",
              "      <td>2019-02-05</td>\n",
              "      <td>2019-02-06 15:36:00</td>\n",
              "      <td>2019-02-25 09:58:00</td>\n",
              "      <td>13.0</td>\n",
              "      <td>10</td>\n",
              "      <td>2019-02-05</td>\n",
              "      <td>2019-02-25</td>\n",
              "    </tr>\n",
              "    <tr>\n",
              "      <th>87974</th>\n",
              "      <td>SP</td>\n",
              "      <td>1536</td>\n",
              "      <td>PE</td>\n",
              "      <td>54240</td>\n",
              "      <td>standard</td>\n",
              "      <td>1</td>\n",
              "      <td>4</td>\n",
              "      <td>done</td>\n",
              "      <td>2019-01-29</td>\n",
              "      <td>2019-02-03 07:58:02</td>\n",
              "      <td>2019-02-25 14:28:00</td>\n",
              "      <td>15.0</td>\n",
              "      <td>15</td>\n",
              "      <td>2019-01-29</td>\n",
              "      <td>2019-02-25</td>\n",
              "    </tr>\n",
              "    <tr>\n",
              "      <th>192809</th>\n",
              "      <td>SP</td>\n",
              "      <td>1212</td>\n",
              "      <td>SC</td>\n",
              "      <td>88356</td>\n",
              "      <td>standard</td>\n",
              "      <td>1</td>\n",
              "      <td>1</td>\n",
              "      <td>done</td>\n",
              "      <td>2019-01-22</td>\n",
              "      <td>2019-01-23 11:30:00</td>\n",
              "      <td>2019-02-25 12:44:00</td>\n",
              "      <td>22.0</td>\n",
              "      <td>23</td>\n",
              "      <td>2019-01-22</td>\n",
              "      <td>2019-02-25</td>\n",
              "    </tr>\n",
              "    <tr>\n",
              "      <th>...</th>\n",
              "      <td>...</td>\n",
              "      <td>...</td>\n",
              "      <td>...</td>\n",
              "      <td>...</td>\n",
              "      <td>...</td>\n",
              "      <td>...</td>\n",
              "      <td>...</td>\n",
              "      <td>...</td>\n",
              "      <td>...</td>\n",
              "      <td>...</td>\n",
              "      <td>...</td>\n",
              "      <td>...</td>\n",
              "      <td>...</td>\n",
              "      <td>...</td>\n",
              "      <td>...</td>\n",
              "    </tr>\n",
              "    <tr>\n",
              "      <th>50700</th>\n",
              "      <td>SP</td>\n",
              "      <td>8275</td>\n",
              "      <td>PE</td>\n",
              "      <td>52120</td>\n",
              "      <td>standard</td>\n",
              "      <td>1</td>\n",
              "      <td>1</td>\n",
              "      <td>done</td>\n",
              "      <td>2019-02-27</td>\n",
              "      <td>2019-03-04 16:54:00</td>\n",
              "      <td>2019-04-02 10:19:00</td>\n",
              "      <td>18.0</td>\n",
              "      <td>15</td>\n",
              "      <td>2019-02-27</td>\n",
              "      <td>2019-04-02</td>\n",
              "    </tr>\n",
              "    <tr>\n",
              "      <th>264185</th>\n",
              "      <td>SP</td>\n",
              "      <td>14780</td>\n",
              "      <td>RS</td>\n",
              "      <td>96407</td>\n",
              "      <td>standard</td>\n",
              "      <td>1</td>\n",
              "      <td>1</td>\n",
              "      <td>done</td>\n",
              "      <td>2019-02-26</td>\n",
              "      <td>2019-02-26 14:15:00</td>\n",
              "      <td>2019-04-02 15:35:00</td>\n",
              "      <td>22.0</td>\n",
              "      <td>22</td>\n",
              "      <td>2019-02-26</td>\n",
              "      <td>2019-04-02</td>\n",
              "    </tr>\n",
              "    <tr>\n",
              "      <th>274961</th>\n",
              "      <td>SP</td>\n",
              "      <td>4433</td>\n",
              "      <td>PE</td>\n",
              "      <td>53525</td>\n",
              "      <td>standard</td>\n",
              "      <td>1</td>\n",
              "      <td>1</td>\n",
              "      <td>done</td>\n",
              "      <td>2019-02-20</td>\n",
              "      <td>2019-02-21 10:27:00</td>\n",
              "      <td>2019-04-02 12:33:00</td>\n",
              "      <td>25.0</td>\n",
              "      <td>15</td>\n",
              "      <td>2019-02-20</td>\n",
              "      <td>2019-04-02</td>\n",
              "    </tr>\n",
              "    <tr>\n",
              "      <th>467449</th>\n",
              "      <td>SP</td>\n",
              "      <td>3633</td>\n",
              "      <td>PE</td>\n",
              "      <td>52160</td>\n",
              "      <td>standard</td>\n",
              "      <td>1</td>\n",
              "      <td>1</td>\n",
              "      <td>done</td>\n",
              "      <td>2019-02-18</td>\n",
              "      <td>2019-02-20 07:30:00</td>\n",
              "      <td>2019-04-02 09:49:00</td>\n",
              "      <td>26.0</td>\n",
              "      <td>15</td>\n",
              "      <td>2019-02-18</td>\n",
              "      <td>2019-04-02</td>\n",
              "    </tr>\n",
              "    <tr>\n",
              "      <th>39526</th>\n",
              "      <td>SP</td>\n",
              "      <td>2121</td>\n",
              "      <td>PE</td>\n",
              "      <td>53220</td>\n",
              "      <td>standard</td>\n",
              "      <td>1</td>\n",
              "      <td>1</td>\n",
              "      <td>done</td>\n",
              "      <td>2019-03-01</td>\n",
              "      <td>2019-03-04 12:29:00</td>\n",
              "      <td>2019-04-02 12:20:00</td>\n",
              "      <td>18.0</td>\n",
              "      <td>15</td>\n",
              "      <td>2019-03-01</td>\n",
              "      <td>2019-04-02</td>\n",
              "    </tr>\n",
              "  </tbody>\n",
              "</table>\n",
              "<p>496954 rows × 15 columns</p>\n",
              "</div>"
            ],
            "text/plain": [
              "       sender_state  sender_zipcode  ... date_created_only_date  date_visit_only_date\n",
              "29645            SP            9550  ...             2019-01-22            2019-02-25\n",
              "23725            SP           15410  ...             2019-02-02            2019-02-25\n",
              "327308           SP            3401  ...             2019-02-05            2019-02-25\n",
              "87974            SP            1536  ...             2019-01-29            2019-02-25\n",
              "192809           SP            1212  ...             2019-01-22            2019-02-25\n",
              "...             ...             ...  ...                    ...                   ...\n",
              "50700            SP            8275  ...             2019-02-27            2019-04-02\n",
              "264185           SP           14780  ...             2019-02-26            2019-04-02\n",
              "274961           SP            4433  ...             2019-02-20            2019-04-02\n",
              "467449           SP            3633  ...             2019-02-18            2019-04-02\n",
              "39526            SP            2121  ...             2019-03-01            2019-04-02\n",
              "\n",
              "[496954 rows x 15 columns]"
            ]
          },
          "metadata": {
            "tags": []
          },
          "execution_count": 193
        }
      ]
    },
    {
      "cell_type": "markdown",
      "metadata": {
        "id": "OygYaU6WugrF",
        "colab_type": "text"
      },
      "source": [
        "Según podemos observar en los cálculos de arriba la variable date_visit abarca desde el 25-02-2019 al 02-04-2019.\n",
        "\n",
        "Veamos ahora como se distribuyen estos datos dentro de este intervalo temporal."
      ]
    },
    {
      "cell_type": "code",
      "metadata": {
        "id": "Ylum6TIvui_s",
        "colab_type": "code",
        "outputId": "2226c3fb-73ae-42c0-bedf-512e2c404b4f",
        "colab": {
          "base_uri": "https://localhost:8080/",
          "height": 824
        }
      },
      "source": [
        "dataset_clean['date_visit'].groupby(\n",
        "                          [dataset_clean['date_visit'].dt.month.rename('month'), \n",
        "                           dataset_clean['date_visit'].dt.day.rename('day')]\n",
        "                           ).agg({'count'})"
      ],
      "execution_count": 194,
      "outputs": [
        {
          "output_type": "execute_result",
          "data": {
            "text/html": [
              "<div>\n",
              "<style scoped>\n",
              "    .dataframe tbody tr th:only-of-type {\n",
              "        vertical-align: middle;\n",
              "    }\n",
              "\n",
              "    .dataframe tbody tr th {\n",
              "        vertical-align: top;\n",
              "    }\n",
              "\n",
              "    .dataframe thead th {\n",
              "        text-align: right;\n",
              "    }\n",
              "</style>\n",
              "<table border=\"1\" class=\"dataframe\">\n",
              "  <thead>\n",
              "    <tr style=\"text-align: right;\">\n",
              "      <th></th>\n",
              "      <th></th>\n",
              "      <th>count</th>\n",
              "    </tr>\n",
              "    <tr>\n",
              "      <th>month</th>\n",
              "      <th>day</th>\n",
              "      <th></th>\n",
              "    </tr>\n",
              "  </thead>\n",
              "  <tbody>\n",
              "    <tr>\n",
              "      <th rowspan=\"4\" valign=\"top\">2</th>\n",
              "      <th>25</th>\n",
              "      <td>2021</td>\n",
              "    </tr>\n",
              "    <tr>\n",
              "      <th>26</th>\n",
              "      <td>1617</td>\n",
              "    </tr>\n",
              "    <tr>\n",
              "      <th>27</th>\n",
              "      <td>2661</td>\n",
              "    </tr>\n",
              "    <tr>\n",
              "      <th>28</th>\n",
              "      <td>21658</td>\n",
              "    </tr>\n",
              "    <tr>\n",
              "      <th rowspan=\"18\" valign=\"top\">3</th>\n",
              "      <th>1</th>\n",
              "      <td>20906</td>\n",
              "    </tr>\n",
              "    <tr>\n",
              "      <th>7</th>\n",
              "      <td>31894</td>\n",
              "    </tr>\n",
              "    <tr>\n",
              "      <th>8</th>\n",
              "      <td>38442</td>\n",
              "    </tr>\n",
              "    <tr>\n",
              "      <th>11</th>\n",
              "      <td>35573</td>\n",
              "    </tr>\n",
              "    <tr>\n",
              "      <th>12</th>\n",
              "      <td>36365</td>\n",
              "    </tr>\n",
              "    <tr>\n",
              "      <th>13</th>\n",
              "      <td>25702</td>\n",
              "    </tr>\n",
              "    <tr>\n",
              "      <th>14</th>\n",
              "      <td>25169</td>\n",
              "    </tr>\n",
              "    <tr>\n",
              "      <th>15</th>\n",
              "      <td>24035</td>\n",
              "    </tr>\n",
              "    <tr>\n",
              "      <th>18</th>\n",
              "      <td>31013</td>\n",
              "    </tr>\n",
              "    <tr>\n",
              "      <th>19</th>\n",
              "      <td>24466</td>\n",
              "    </tr>\n",
              "    <tr>\n",
              "      <th>20</th>\n",
              "      <td>25683</td>\n",
              "    </tr>\n",
              "    <tr>\n",
              "      <th>21</th>\n",
              "      <td>23490</td>\n",
              "    </tr>\n",
              "    <tr>\n",
              "      <th>22</th>\n",
              "      <td>22772</td>\n",
              "    </tr>\n",
              "    <tr>\n",
              "      <th>25</th>\n",
              "      <td>28824</td>\n",
              "    </tr>\n",
              "    <tr>\n",
              "      <th>26</th>\n",
              "      <td>23528</td>\n",
              "    </tr>\n",
              "    <tr>\n",
              "      <th>27</th>\n",
              "      <td>24537</td>\n",
              "    </tr>\n",
              "    <tr>\n",
              "      <th>28</th>\n",
              "      <td>22123</td>\n",
              "    </tr>\n",
              "    <tr>\n",
              "      <th>29</th>\n",
              "      <td>3119</td>\n",
              "    </tr>\n",
              "    <tr>\n",
              "      <th rowspan=\"2\" valign=\"top\">4</th>\n",
              "      <th>1</th>\n",
              "      <td>1309</td>\n",
              "    </tr>\n",
              "    <tr>\n",
              "      <th>2</th>\n",
              "      <td>47</td>\n",
              "    </tr>\n",
              "  </tbody>\n",
              "</table>\n",
              "</div>"
            ],
            "text/plain": [
              "           count\n",
              "month day       \n",
              "2     25    2021\n",
              "      26    1617\n",
              "      27    2661\n",
              "      28   21658\n",
              "3     1    20906\n",
              "      7    31894\n",
              "      8    38442\n",
              "      11   35573\n",
              "      12   36365\n",
              "      13   25702\n",
              "      14   25169\n",
              "      15   24035\n",
              "      18   31013\n",
              "      19   24466\n",
              "      20   25683\n",
              "      21   23490\n",
              "      22   22772\n",
              "      25   28824\n",
              "      26   23528\n",
              "      27   24537\n",
              "      28   22123\n",
              "      29    3119\n",
              "4     1     1309\n",
              "      2       47"
            ]
          },
          "metadata": {
            "tags": []
          },
          "execution_count": 194
        }
      ]
    },
    {
      "cell_type": "code",
      "metadata": {
        "id": "8D81iiiWuxn3",
        "colab_type": "code",
        "outputId": "f39784fe-5f3b-476b-c010-b77dccd5d4ad",
        "colab": {
          "base_uri": "https://localhost:8080/",
          "height": 173
        }
      },
      "source": [
        "dataset_clean['date_visit'].groupby([dataset_clean['date_visit'].dt.month.rename('month')]).agg({'count'})"
      ],
      "execution_count": 195,
      "outputs": [
        {
          "output_type": "execute_result",
          "data": {
            "text/html": [
              "<div>\n",
              "<style scoped>\n",
              "    .dataframe tbody tr th:only-of-type {\n",
              "        vertical-align: middle;\n",
              "    }\n",
              "\n",
              "    .dataframe tbody tr th {\n",
              "        vertical-align: top;\n",
              "    }\n",
              "\n",
              "    .dataframe thead th {\n",
              "        text-align: right;\n",
              "    }\n",
              "</style>\n",
              "<table border=\"1\" class=\"dataframe\">\n",
              "  <thead>\n",
              "    <tr style=\"text-align: right;\">\n",
              "      <th></th>\n",
              "      <th>count</th>\n",
              "    </tr>\n",
              "    <tr>\n",
              "      <th>month</th>\n",
              "      <th></th>\n",
              "    </tr>\n",
              "  </thead>\n",
              "  <tbody>\n",
              "    <tr>\n",
              "      <th>2</th>\n",
              "      <td>27957</td>\n",
              "    </tr>\n",
              "    <tr>\n",
              "      <th>3</th>\n",
              "      <td>467641</td>\n",
              "    </tr>\n",
              "    <tr>\n",
              "      <th>4</th>\n",
              "      <td>1356</td>\n",
              "    </tr>\n",
              "  </tbody>\n",
              "</table>\n",
              "</div>"
            ],
            "text/plain": [
              "        count\n",
              "month        \n",
              "2       27957\n",
              "3      467641\n",
              "4        1356"
            ]
          },
          "metadata": {
            "tags": []
          },
          "execution_count": 195
        }
      ]
    },
    {
      "cell_type": "markdown",
      "metadata": {
        "id": "cQSGgXWUu0zH",
        "colab_type": "text"
      },
      "source": [
        "Dada la característica de nuestro problema (estimar una cantidad de días) y al estar trabajando con variables de tipo fecha debemos ser cuidadosas al momento de elegir nuestro conjunto de entrenamiento y validación de manera que le den sentido al problema y que al mismo tiempo representen el 70% y 30% respectivamente de los datos. Es decir, la partición debe estar basada en el hecho de que date_created, date_sent y date_visit se siguen una a la otra en la línea temporal. Por lo tanto, los datos a entrenar deben elegirse hasta un cierto día de la variable date_visit y validarse con datos de date_created a partir de esa fecha.\n",
        "\n",
        "Considerando que nuestro dataset cuenta en este momento con 496954 entradas, el 70% del mismo representa aproximadamente 345000 entradas. Así, de acuerdo a la distribución mostrada arriba si entrenamos nuestro modelo con datos de la variable date_visit hasta el 20 de marzo podriamos llegar a cubrir este porcentaje. En resumen vamos a entrenar con datos que llegaron a destino (este es el por qué se mira data_visit) y vamos a validar con datos cuyas compras se crearon (date_created) después de esa fecha.\n",
        "\n",
        "A continuación se realizan los cálculos que permitirán hacer la partición de los datos de acuerdo al criterio antes mencionado.\n",
        "\n",
        "Mask1 la vamos a usar para hacer el filtrado de los datos para el entrenamiento y mask2 la vamos a usar para hacer el filtrado de los datos para la validacion."
      ]
    },
    {
      "cell_type": "code",
      "metadata": {
        "id": "H0egWDdsvow_",
        "colab_type": "code",
        "colab": {}
      },
      "source": [
        "mask1 = dataset_clean['date_visit']<=pandas.to_datetime('2019-03-20')\n",
        "mask2 = dataset_clean['date_created']>pandas.to_datetime('2019-03-20')"
      ],
      "execution_count": 0,
      "outputs": []
    },
    {
      "cell_type": "markdown",
      "metadata": {
        "id": "rJS_3BqtvuKA",
        "colab_type": "text"
      },
      "source": [
        "Eliminamos los valores que cumplen con las dos condiciones simultáneamente."
      ]
    },
    {
      "cell_type": "code",
      "metadata": {
        "id": "UFMuo9Jkvw0V",
        "colab_type": "code",
        "colab": {}
      },
      "source": [
        "dataset_clean.drop(dataset_clean[mask1&mask2].index, inplace = True)"
      ],
      "execution_count": 0,
      "outputs": []
    },
    {
      "cell_type": "code",
      "metadata": {
        "id": "o4e4aBsqvy8w",
        "colab_type": "code",
        "colab": {}
      },
      "source": [
        "df_train = dataset_clean.loc[mask1]"
      ],
      "execution_count": 0,
      "outputs": []
    },
    {
      "cell_type": "code",
      "metadata": {
        "id": "gwqihbS5v1v-",
        "colab_type": "code",
        "colab": {}
      },
      "source": [
        "df_test = dataset_clean.loc[mask2]"
      ],
      "execution_count": 0,
      "outputs": []
    },
    {
      "cell_type": "code",
      "metadata": {
        "id": "8__vOORRwWG0",
        "colab_type": "code",
        "colab": {}
      },
      "source": [
        "X_train = df_train[['receiver_state_le','service']]"
      ],
      "execution_count": 0,
      "outputs": []
    },
    {
      "cell_type": "code",
      "metadata": {
        "id": "056Yg9Q3wbKz",
        "colab_type": "code",
        "colab": {}
      },
      "source": [
        "y_train = df_train[['shipment_days']]"
      ],
      "execution_count": 0,
      "outputs": []
    },
    {
      "cell_type": "code",
      "metadata": {
        "id": "McO0m55JxHLQ",
        "colab_type": "code",
        "colab": {}
      },
      "source": [
        "X_test = df_test[['receiver_state_le','service']]"
      ],
      "execution_count": 0,
      "outputs": []
    },
    {
      "cell_type": "code",
      "metadata": {
        "id": "3EeEjZ7ExLHy",
        "colab_type": "code",
        "colab": {}
      },
      "source": [
        "y_test = df_test[['shipment_days']]"
      ],
      "execution_count": 0,
      "outputs": []
    },
    {
      "cell_type": "markdown",
      "metadata": {
        "id": "6pRNZPOXwom1",
        "colab_type": "text"
      },
      "source": [
        "Necesitamos que el target sea un valor entero, por ende convertimos shipment_day en entero:"
      ]
    },
    {
      "cell_type": "code",
      "metadata": {
        "colab_type": "code",
        "id": "aYgXDombelrR",
        "colab": {}
      },
      "source": [
        "shipment_days =  y_train['shipment_days'].astype(int)\n",
        "shipment_days_byclass = [None] * len(shipment_days)\n",
        "for line,row in enumerate(shipment_days):\n",
        "    if 0==row:\n",
        "        shipment_days_byclass[line] = 0\n",
        "    elif 1==row:\n",
        "        shipment_days_byclass[line] = 1     \n",
        "    elif 2==row:\n",
        "        shipment_days_byclass[line] = 2\n",
        "    elif 3==row:\n",
        "        shipment_days_byclass[line] = 3\n",
        "    elif 4==row:\n",
        "        shipment_days_byclass[line] = 4\n",
        "    elif 5==row:\n",
        "        shipment_days_byclass[line] = 5        \n",
        "    else:\n",
        "        shipment_days_byclass[line] = 6        "
      ],
      "execution_count": 0,
      "outputs": []
    },
    {
      "cell_type": "code",
      "metadata": {
        "id": "Yecda-4l4f1_",
        "colab_type": "code",
        "outputId": "9236b191-3540-4470-bea3-29edfeda66c1",
        "colab": {
          "base_uri": "https://localhost:8080/",
          "height": 323
        }
      },
      "source": [
        "#y_train['shipment_days_byclass'] = shipment_days_byclass\n",
        "#y_train['shipment_days_byclass'].head()\n",
        "y_train.loc[:,('shipment_days_byclass')] = shipment_days_byclass\n",
        "y_train['shipment_days_byclass'].head()"
      ],
      "execution_count": 205,
      "outputs": [
        {
          "output_type": "stream",
          "text": [
            "/usr/local/lib/python3.6/dist-packages/pandas/core/indexing.py:376: SettingWithCopyWarning: \n",
            "A value is trying to be set on a copy of a slice from a DataFrame.\n",
            "Try using .loc[row_indexer,col_indexer] = value instead\n",
            "\n",
            "See the caveats in the documentation: http://pandas.pydata.org/pandas-docs/stable/user_guide/indexing.html#returning-a-view-versus-a-copy\n",
            "  self.obj[key] = _infer_fill_value(value)\n",
            "/usr/local/lib/python3.6/dist-packages/pandas/core/indexing.py:576: SettingWithCopyWarning: \n",
            "A value is trying to be set on a copy of a slice from a DataFrame.\n",
            "Try using .loc[row_indexer,col_indexer] = value instead\n",
            "\n",
            "See the caveats in the documentation: http://pandas.pydata.org/pandas-docs/stable/user_guide/indexing.html#returning-a-view-versus-a-copy\n",
            "  self.obj[item_labels[indexer[info_axis]]] = value\n"
          ],
          "name": "stderr"
        },
        {
          "output_type": "execute_result",
          "data": {
            "text/plain": [
              "0    5\n",
              "1    5\n",
              "2    4\n",
              "3    2\n",
              "4    6\n",
              "Name: shipment_days_byclass, dtype: int64"
            ]
          },
          "metadata": {
            "tags": []
          },
          "execution_count": 205
        }
      ]
    },
    {
      "cell_type": "markdown",
      "metadata": {
        "id": "pk6PfvMHxTGj",
        "colab_type": "text"
      },
      "source": [
        "Hay que hacer lo mismo para los valores de validación:"
      ]
    },
    {
      "cell_type": "code",
      "metadata": {
        "id": "c6RkG6-PxVw0",
        "colab_type": "code",
        "colab": {}
      },
      "source": [
        "shipment_days_test = y_test['shipment_days'].astype(int)\n",
        "shipment_days_byclass_test = [None] * len(shipment_days_test)\n",
        "for line,row in enumerate(shipment_days_test):\n",
        "    if 0==row:\n",
        "        shipment_days_byclass_test[line] = 0\n",
        "    elif 1==row:\n",
        "        shipment_days_byclass_test[line] = 1     \n",
        "    elif 2==row:\n",
        "        shipment_days_byclass_test[line] = 2\n",
        "    elif 3==row:\n",
        "        shipment_days_byclass_test[line] = 3\n",
        "    elif 4==row:\n",
        "        shipment_days_byclass_test[line] = 4\n",
        "    elif 5==row:\n",
        "        shipment_days_byclass_test[line] = 5        \n",
        "    else:\n",
        "        shipment_days_byclass_test[line] = 6"
      ],
      "execution_count": 0,
      "outputs": []
    },
    {
      "cell_type": "code",
      "metadata": {
        "id": "Q2h2DyDMxZDf",
        "colab_type": "code",
        "outputId": "c4b2d6ba-26a1-4fd0-a6ed-a8a885a1bc6f",
        "colab": {
          "base_uri": "https://localhost:8080/",
          "height": 119
        }
      },
      "source": [
        "y_test['shipment_days_byclass'] = shipment_days_byclass_test"
      ],
      "execution_count": 207,
      "outputs": [
        {
          "output_type": "stream",
          "text": [
            "/usr/local/lib/python3.6/dist-packages/ipykernel_launcher.py:1: SettingWithCopyWarning: \n",
            "A value is trying to be set on a copy of a slice from a DataFrame.\n",
            "Try using .loc[row_indexer,col_indexer] = value instead\n",
            "\n",
            "See the caveats in the documentation: http://pandas.pydata.org/pandas-docs/stable/user_guide/indexing.html#returning-a-view-versus-a-copy\n",
            "  \"\"\"Entry point for launching an IPython kernel.\n"
          ],
          "name": "stderr"
        }
      ]
    },
    {
      "cell_type": "code",
      "metadata": {
        "id": "BWBwvvznxbTF",
        "colab_type": "code",
        "outputId": "f75ee734-1b79-4abb-d06b-5eee583f3fae",
        "colab": {
          "base_uri": "https://localhost:8080/",
          "height": 34
        }
      },
      "source": [
        "y_test['shipment_days_byclass'].values"
      ],
      "execution_count": 208,
      "outputs": [
        {
          "output_type": "execute_result",
          "data": {
            "text/plain": [
              "array([1, 0, 3, ..., 3, 1, 2])"
            ]
          },
          "metadata": {
            "tags": []
          },
          "execution_count": 208
        }
      ]
    },
    {
      "cell_type": "code",
      "metadata": {
        "id": "Kljq_GawzRjo",
        "colab_type": "code",
        "outputId": "ee28eb9d-fe63-41cd-b82b-ab9673fcc463",
        "colab": {
          "base_uri": "https://localhost:8080/",
          "height": 34
        }
      },
      "source": [
        "y_train['shipment_days_byclass'].values"
      ],
      "execution_count": 209,
      "outputs": [
        {
          "output_type": "execute_result",
          "data": {
            "text/plain": [
              "array([5, 5, 4, ..., 2, 2, 6])"
            ]
          },
          "metadata": {
            "tags": []
          },
          "execution_count": 209
        }
      ]
    },
    {
      "cell_type": "code",
      "metadata": {
        "id": "35v9hpyi4f2E",
        "colab_type": "code",
        "outputId": "14ffe754-0476-405f-af4b-e63b62758418",
        "colab": {
          "base_uri": "https://localhost:8080/",
          "height": 204
        }
      },
      "source": [
        "X_train.head()"
      ],
      "execution_count": 210,
      "outputs": [
        {
          "output_type": "execute_result",
          "data": {
            "text/html": [
              "<div>\n",
              "<style scoped>\n",
              "    .dataframe tbody tr th:only-of-type {\n",
              "        vertical-align: middle;\n",
              "    }\n",
              "\n",
              "    .dataframe tbody tr th {\n",
              "        vertical-align: top;\n",
              "    }\n",
              "\n",
              "    .dataframe thead th {\n",
              "        text-align: right;\n",
              "    }\n",
              "</style>\n",
              "<table border=\"1\" class=\"dataframe\">\n",
              "  <thead>\n",
              "    <tr style=\"text-align: right;\">\n",
              "      <th></th>\n",
              "      <th>receiver_state_le</th>\n",
              "      <th>service</th>\n",
              "    </tr>\n",
              "  </thead>\n",
              "  <tbody>\n",
              "    <tr>\n",
              "      <th>0</th>\n",
              "      <td>25</td>\n",
              "      <td>1</td>\n",
              "    </tr>\n",
              "    <tr>\n",
              "      <th>1</th>\n",
              "      <td>14</td>\n",
              "      <td>1</td>\n",
              "    </tr>\n",
              "    <tr>\n",
              "      <th>2</th>\n",
              "      <td>18</td>\n",
              "      <td>2</td>\n",
              "    </tr>\n",
              "    <tr>\n",
              "      <th>3</th>\n",
              "      <td>25</td>\n",
              "      <td>2</td>\n",
              "    </tr>\n",
              "    <tr>\n",
              "      <th>4</th>\n",
              "      <td>3</td>\n",
              "      <td>1</td>\n",
              "    </tr>\n",
              "  </tbody>\n",
              "</table>\n",
              "</div>"
            ],
            "text/plain": [
              "   receiver_state_le  service\n",
              "0                 25        1\n",
              "1                 14        1\n",
              "2                 18        2\n",
              "3                 25        2\n",
              "4                  3        1"
            ]
          },
          "metadata": {
            "tags": []
          },
          "execution_count": 210
        }
      ]
    },
    {
      "cell_type": "code",
      "metadata": {
        "id": "X9WV995q4f2P",
        "colab_type": "code",
        "colab": {}
      },
      "source": [
        "#col = y_test['shipment_days_byclass'].map({1:'r', 0:'b'})# ver si se usa esto\n",
        "#col"
      ],
      "execution_count": 0,
      "outputs": []
    },
    {
      "cell_type": "code",
      "metadata": {
        "id": "_ZuPDcVi4f2b",
        "colab_type": "code",
        "outputId": "f11d46cd-6619-434c-8ec8-0697288f6b2d",
        "colab": {
          "base_uri": "https://localhost:8080/",
          "height": 119
        }
      },
      "source": [
        "from sklearn.svm import SVC\n",
        "clf = sklearn.svm.LinearSVC()\n",
        "#svm = SVC(kernel='linear')\n",
        "clf.fit(X_train.head(3000), y_train['shipment_days_byclass'].head(3000))\n",
        "#svm.fit(X, Y['shipment_days_byclass'].values)"
      ],
      "execution_count": 212,
      "outputs": [
        {
          "output_type": "stream",
          "text": [
            "/usr/local/lib/python3.6/dist-packages/sklearn/svm/base.py:929: ConvergenceWarning: Liblinear failed to converge, increase the number of iterations.\n",
            "  \"the number of iterations.\", ConvergenceWarning)\n"
          ],
          "name": "stderr"
        },
        {
          "output_type": "execute_result",
          "data": {
            "text/plain": [
              "LinearSVC(C=1.0, class_weight=None, dual=True, fit_intercept=True,\n",
              "          intercept_scaling=1, loss='squared_hinge', max_iter=1000,\n",
              "          multi_class='ovr', penalty='l2', random_state=None, tol=0.0001,\n",
              "          verbose=0)"
            ]
          },
          "metadata": {
            "tags": []
          },
          "execution_count": 212
        }
      ]
    },
    {
      "cell_type": "code",
      "metadata": {
        "id": "hO5f8pm04f2s",
        "colab_type": "code",
        "colab": {}
      },
      "source": [
        "#import numpy as np\n",
        "import matplotlib.pyplot as plt"
      ],
      "execution_count": 0,
      "outputs": []
    },
    {
      "cell_type": "code",
      "metadata": {
        "id": "Kso1qwI74f21",
        "colab_type": "code",
        "colab": {}
      },
      "source": [
        "#Y[['shipment_days_byclass']].to_numpy()"
      ],
      "execution_count": 0,
      "outputs": []
    },
    {
      "cell_type": "code",
      "metadata": {
        "id": "dmN_wkvh4f2_",
        "colab_type": "code",
        "colab": {}
      },
      "source": [
        "def plot_contours(ax, clf, xx, yy, **params):\n",
        "    \"\"\"Plot the decision boundaries for a classifier.\n",
        "\n",
        "    Parameters\n",
        "    ----------\n",
        "    ax: matplotlib axes object\n",
        "    clf: a classifier\n",
        "    xx: meshgrid ndarray\n",
        "    yy: meshgrid ndarray\n",
        "    params: dictionary of params to pass to contourf, optional\n",
        "    \"\"\"\n",
        "    Z = clf.predict(np.c_[xx.ravel(), yy.ravel()]) #concatena\n",
        "    #print(Z)\n",
        "    Z = Z.reshape(xx.shape) #le vuelve a poner x\n",
        "    out = ax.contourf(xx, yy, Z, **params)\n",
        "    return out"
      ],
      "execution_count": 0,
      "outputs": []
    },
    {
      "cell_type": "code",
      "metadata": {
        "id": "xmv9jphy3h5q",
        "colab_type": "code",
        "colab": {}
      },
      "source": [
        "\n",
        "def make_meshgrid(x, y, h=.02):\n",
        "    \"\"\"Create a mesh of points to plot in\n",
        "\n",
        "    Parameters\n",
        "    ----------\n",
        "    x: data to base x-axis meshgrid on\n",
        "    y: data to base y-axis meshgrid on\n",
        "    h: stepsize for meshgrid, optional\n",
        "\n",
        "    Returns\n",
        "    -------\n",
        "    xx, yy : ndarray\n",
        "    \"\"\"\n",
        "    x_min, x_max = x.min() - 1, x.max() + 1\n",
        "    y_min, y_max = y.min() - 1, y.max() + 1\n",
        "    xx, yy = np.meshgrid(np.arange(x_min, x_max, h),\n",
        "                         np.arange(y_min, y_max, h))\n",
        "    return xx, yy"
      ],
      "execution_count": 0,
      "outputs": []
    },
    {
      "cell_type": "code",
      "metadata": {
        "id": "SenD9ioEGQ1n",
        "colab_type": "code",
        "outputId": "b557eb73-b8be-45e1-b51b-996ade898140",
        "colab": {
          "base_uri": "https://localhost:8080/",
          "height": 296
        }
      },
      "source": [
        "xx, yy = make_meshgrid(X_train['service'].head(3000).values, X_train['receiver_state_le'].head(3000).values)\n",
        "fig, sub = plt.subplots(1, 1)\n",
        "plt.subplots_adjust(wspace=0.4, hspace=0.4)\n",
        "U = clf.predict(np.c_[xx.ravel(), yy.ravel()])\n",
        "\n",
        "Z = U.reshape(xx.shape)\n",
        "\n",
        "out = sub.contourf(xx, yy, Z)\n",
        "sub.scatter(X_test['service'].values, X_test['receiver_state_le'].values , c=y_test['shipment_days_byclass'].values, s=20, edgecolors='k')\n",
        "sub.set_xlabel('Service')\n",
        "sub.set_ylabel('Receiver State')"
      ],
      "execution_count": 217,
      "outputs": [
        {
          "output_type": "execute_result",
          "data": {
            "text/plain": [
              "Text(0, 0.5, 'Receiver State')"
            ]
          },
          "metadata": {
            "tags": []
          },
          "execution_count": 217
        },
        {
          "output_type": "display_data",
          "data": {
            "image/png": "[encoded data removed]",
            "text/plain": [
              "<Figure size 432x288 with 1 Axes>"
            ]
          },
          "metadata": {
            "tags": []
          }
        }
      ]
    },
    {
      "cell_type": "code",
      "metadata": {
        "id": "g_qWWfX-UjPX",
        "colab_type": "code",
        "outputId": "676e08ae-efd4-4bca-958c-6b41c1b76757",
        "colab": {
          "base_uri": "https://localhost:8080/",
          "height": 34
        }
      },
      "source": [
        "X_test.shape"
      ],
      "execution_count": 218,
      "outputs": [
        {
          "output_type": "execute_result",
          "data": {
            "text/plain": [
              "(32524, 2)"
            ]
          },
          "metadata": {
            "tags": []
          },
          "execution_count": 218
        }
      ]
    },
    {
      "cell_type": "code",
      "metadata": {
        "id": "4QDj76caVIip",
        "colab_type": "code",
        "outputId": "0975e591-28be-40e9-c4bb-e1fae076a9d8",
        "colab": {
          "base_uri": "https://localhost:8080/",
          "height": 34
        }
      },
      "source": [
        "y_test.shape"
      ],
      "execution_count": 219,
      "outputs": [
        {
          "output_type": "execute_result",
          "data": {
            "text/plain": [
              "(32524, 2)"
            ]
          },
          "metadata": {
            "tags": []
          },
          "execution_count": 219
        }
      ]
    },
    {
      "cell_type": "code",
      "metadata": {
        "id": "VjMTDEmDlYQd",
        "colab_type": "code",
        "colab": {}
      },
      "source": [
        "import os.path\n",
        "if not os.path.exists(\"./diplodatos\"):\n",
        "  !git clone https://github.com/cnoeliachaves/diplodatos.git"
      ],
      "execution_count": 0,
      "outputs": []
    },
    {
      "cell_type": "code",
      "metadata": {
        "id": "wTrHj29xmM1K",
        "colab_type": "code",
        "colab": {}
      },
      "source": [
        "from diplodatos.ml.visualization import plot_confusion_matrix, plot_learning_curve"
      ],
      "execution_count": 0,
      "outputs": []
    },
    {
      "cell_type": "code",
      "metadata": {
        "id": "ot748cYZ4f2f",
        "colab_type": "code",
        "colab": {}
      },
      "source": [
        "from sklearn.metrics import accuracy_score"
      ],
      "execution_count": 0,
      "outputs": []
    },
    {
      "cell_type": "code",
      "metadata": {
        "id": "KnFEFXup58Or",
        "colab_type": "code",
        "outputId": "85c1cf61-916a-40c4-d152-d244ccd47331",
        "colab": {
          "base_uri": "https://localhost:8080/",
          "height": 34
        }
      },
      "source": [
        "print(\"LSVC Accuracy :\", accuracy_score(y_test['shipment_days_byclass'].head(3000), U[:y_test['shipment_days_byclass'].head(3000).shape[0]]))"
      ],
      "execution_count": 223,
      "outputs": [
        {
          "output_type": "stream",
          "text": [
            "LSVC Accuracy : 0.0003333333333333333\n"
          ],
          "name": "stdout"
        }
      ]
    },
    {
      "cell_type": "markdown",
      "metadata": {
        "id": "P9et_6RIuojG",
        "colab_type": "text"
      },
      "source": [
        "El accuray que obtenemos es muy bajo, por lo que podemos ver que los datos no son linealmente separables."
      ]
    },
    {
      "cell_type": "code",
      "metadata": {
        "id": "Pr8_B9A7anKQ",
        "colab_type": "code",
        "outputId": "cf4b587f-bb32-48db-a3ee-87a27dccfa39",
        "colab": {
          "base_uri": "https://localhost:8080/",
          "height": 34
        }
      },
      "source": [
        "y_test.shape[0]"
      ],
      "execution_count": 224,
      "outputs": [
        {
          "output_type": "execute_result",
          "data": {
            "text/plain": [
              "32524"
            ]
          },
          "metadata": {
            "tags": []
          },
          "execution_count": 224
        }
      ]
    },
    {
      "cell_type": "markdown",
      "metadata": {
        "id": "hynFzqM0zog2",
        "colab_type": "text"
      },
      "source": [
        "Computemos la matriz de confusión para ver los outliers:"
      ]
    },
    {
      "cell_type": "code",
      "metadata": {
        "id": "1MD2rmMOz7Kx",
        "colab_type": "code",
        "colab": {}
      },
      "source": [
        "from sklearn.metrics import confusion_matrix"
      ],
      "execution_count": 0,
      "outputs": []
    },
    {
      "cell_type": "code",
      "metadata": {
        "id": "FJ4JJBGm5L-F",
        "colab_type": "code",
        "outputId": "06c718f8-6091-4c01-dbef-49627ac9db5f",
        "colab": {
          "base_uri": "https://localhost:8080/",
          "height": 136
        }
      },
      "source": [
        "# Compute confusion matrix\n",
        "cnf_matrix = confusion_matrix(y_test['shipment_days_byclass'], U[:y_test.shape[0]])\n",
        "cnf_matrix"
      ],
      "execution_count": 226,
      "outputs": [
        {
          "output_type": "execute_result",
          "data": {
            "text/plain": [
              "array([[    0,     0,     0,     0,     0,     0,  1826],\n",
              "       [    0,     0,     0,     0,     0,     0, 16445],\n",
              "       [    0,     0,     0,     0,     0,     0,  8988],\n",
              "       [    0,     0,     0,     0,     0,     0,  3774],\n",
              "       [    0,     0,     0,     0,     0,     0,  1195],\n",
              "       [    0,     0,     0,     0,     0,     0,   285],\n",
              "       [    0,     0,     0,     0,     0,     0,    11]])"
            ]
          },
          "metadata": {
            "tags": []
          },
          "execution_count": 226
        }
      ]
    },
    {
      "cell_type": "code",
      "metadata": {
        "id": "wNV9JEt01cdA",
        "colab_type": "code",
        "colab": {}
      },
      "source": [
        "#class_names={'envios_rapidos','envios_lentos'}\n",
        "#class_names={'0','1','2','3','4','5','6','7','8','9','10','11','12','13','14','15','16','17','18','19','20','21','22','23','24','25','26'}\n",
        "#y_test['shipment_days_byclass'].values.min()\n"
      ],
      "execution_count": 0,
      "outputs": []
    },
    {
      "cell_type": "code",
      "metadata": {
        "id": "sOTyVqablDKy",
        "colab_type": "code",
        "colab": {}
      },
      "source": [
        "class_names={'0','1','2','3','4','5','6'}"
      ],
      "execution_count": 0,
      "outputs": []
    },
    {
      "cell_type": "code",
      "metadata": {
        "id": "lflSKEMP5L8X",
        "colab_type": "code",
        "outputId": "1771a72c-477a-4cee-9853-eddfd05a7836",
        "colab": {
          "base_uri": "https://localhost:8080/",
          "height": 311
        }
      },
      "source": [
        "# Plot non-normalized confusion matrix\n",
        "plt.figure()\n",
        "plot_confusion_matrix(cnf_matrix, classes=class_names,\n",
        "                      title='Confusion matrix, without normalization')\n",
        "#plot_confusion_matrix(cnf_matrix,\n",
        "#                      title='Confusion matrix, without normalization')\n",
        "\n",
        "# Plot normalized confusion matrix\n",
        "#plt.figure()\n",
        "#plot_confusion_matrix(cnf_matrix, classes=class_names, normalize=True,\n",
        "#                      title='Normalized confusion matrix')\n",
        "\n",
        "plt.show()"
      ],
      "execution_count": 228,
      "outputs": [
        {
          "output_type": "display_data",
          "data": {
            "image/png": "[encoded data removed]",
            "text/plain": [
              "<Figure size 432x288 with 2 Axes>"
            ]
          },
          "metadata": {
            "tags": []
          }
        }
      ]
    },
    {
      "cell_type": "markdown",
      "metadata": {
        "id": "kBSrjaC98Lr2",
        "colab_type": "text"
      },
      "source": [
        "Se predijieron 285 casos como del estado 2, cuando en realidad corresponden al estado 1. Idem con los demás valores."
      ]
    },
    {
      "cell_type": "markdown",
      "metadata": {
        "id": "s2u7yYEhKak7",
        "colab_type": "text"
      },
      "source": [
        "Existen varios kernels, entre ellos estan: sigmoid, rbf, y poly. Creemos que el kernel que se podria usar para realizar la proyeccion seria poly por la forma de los datos que podemos ver en la figura donde se ploteo LinearSVC."
      ]
    },
    {
      "cell_type": "code",
      "metadata": {
        "colab_type": "code",
        "id": "FsPbpfJiZGyK",
        "colab": {}
      },
      "source": [
        "clf = sklearn.svm.SVC(kernel=\"poly\", gamma=\"auto\")\n",
        "clf.fit(X_train.head(1000), y_train['shipment_days_byclass'].head(1000));#bajarle a la cantidad de entrenamiento"
      ],
      "execution_count": 0,
      "outputs": []
    },
    {
      "cell_type": "code",
      "metadata": {
        "id": "5K2ZC30VLMEv",
        "colab_type": "code",
        "outputId": "01055366-1b62-448b-c1b4-022ebeb9d24a",
        "colab": {
          "base_uri": "https://localhost:8080/",
          "height": 296
        }
      },
      "source": [
        "xx, yy = make_meshgrid(X_train['service'].head(1000).values, X_train['receiver_state_le'].head(1000).values)\n",
        "fig, sub = plt.subplots(1, 1)\n",
        "plt.subplots_adjust(wspace=0.4, hspace=0.4)\n",
        "U = clf.predict(np.c_[xx.ravel(), yy.ravel()])\n",
        "\n",
        "Z = U.reshape(xx.shape)\n",
        "\n",
        "out = sub.contourf(xx, yy, Z)\n",
        "sub.scatter(X_test['service'].values, X_test['receiver_state_le'].values , c=y_test['shipment_days_byclass'].values, s=20, edgecolors='k')\n",
        "sub.set_xlabel('Service')\n",
        "sub.set_ylabel('Receiver state')"
      ],
      "execution_count": 230,
      "outputs": [
        {
          "output_type": "execute_result",
          "data": {
            "text/plain": [
              "Text(0, 0.5, 'Receiver state')"
            ]
          },
          "metadata": {
            "tags": []
          },
          "execution_count": 230
        },
        {
          "output_type": "display_data",
          "data": {
            "image/png": "[encoded data removed]",
            "text/plain": [
              "<Figure size 432x288 with 1 Axes>"
            ]
          },
          "metadata": {
            "tags": []
          }
        }
      ]
    },
    {
      "cell_type": "markdown",
      "metadata": {
        "id": "OJ0V7e46kH9_",
        "colab_type": "text"
      },
      "source": [
        "Calculemos el accuracy:"
      ]
    },
    {
      "cell_type": "code",
      "metadata": {
        "id": "cLRhBFF-N0L1",
        "colab_type": "code",
        "outputId": "034919de-6f2b-447e-fb42-a286355d60d8",
        "colab": {
          "base_uri": "https://localhost:8080/",
          "height": 34
        }
      },
      "source": [
        "print(\"LSVC Accuracy :\", accuracy_score(y_test['shipment_days_byclass'].head(1000), U[:y_test['shipment_days_byclass'].head(1000).shape[0]]))"
      ],
      "execution_count": 231,
      "outputs": [
        {
          "output_type": "stream",
          "text": [
            "LSVC Accuracy : 0.056\n"
          ],
          "name": "stdout"
        }
      ]
    },
    {
      "cell_type": "markdown",
      "metadata": {
        "id": "Dr9T6noulWGT",
        "colab_type": "text"
      },
      "source": [
        "Mejora un poco, pero no hasta llegar a un valor esperado cercano a 1."
      ]
    },
    {
      "cell_type": "markdown",
      "metadata": {
        "id": "1E0l3HZzmOjD",
        "colab_type": "text"
      },
      "source": [
        "En la problemática propuesta, podemos dividir la experiencia del usuario en tres            situaciones diferentes: el envío llegó antes de lo prometido, el día prometido o             después del día prometido. Definir una o más métricas que nos permitan determinar             la performance de los modelos desarrollados considerando las tres posibles          experiencias de usuario de interés."
      ]
    },
    {
      "cell_type": "markdown",
      "metadata": {
        "id": "Xm9ENoQUNyZ0",
        "colab_type": "text"
      },
      "source": [
        "Podemos definir 3 métricas dónde:\n",
        "1. Cuente la cantidad de envíos que llegaron antes de lo prometido sobre el total de envíos.\n",
        "2. Cuente la cantidad de envíos que llegaron el día prometido sobre el total de envíos.\n",
        "3. Cuente la cantidad de envíos que llegaron después de lo prometido sobre el total de envíos."
      ]
    },
    {
      "cell_type": "markdown",
      "metadata": {
        "id": "Se1UfgII7CNK",
        "colab_type": "text"
      },
      "source": [
        "A continuación usaremos un método de ensembling, tratando de usar las métricas definidas arriba:"
      ]
    },
    {
      "cell_type": "code",
      "metadata": {
        "id": "tp5OCFsj7Cw7",
        "colab_type": "code",
        "colab": {}
      },
      "source": [
        "from sklearn import ensemble"
      ],
      "execution_count": 0,
      "outputs": []
    },
    {
      "cell_type": "markdown",
      "metadata": {
        "id": "DZHjEfh5v-ZA",
        "colab_type": "text"
      },
      "source": [
        "Volvamos a usar *y* como shipment_days, que es el tiempo que demoró en llegar el paquete al destinatario, usando todas las clases.\n",
        "\n",
        "Y agregamos algunas features mas en *x*, que consideramos importantes para nuestra problemática."
      ]
    },
    {
      "cell_type": "code",
      "metadata": {
        "id": "79L4jTib-YFo",
        "colab_type": "code",
        "outputId": "39815f95-9392-4e47-d84a-b6e7c6b044ec",
        "colab": {
          "base_uri": "https://localhost:8080/",
          "height": 204
        }
      },
      "source": [
        "#X_train = dataset_clean[['service','receiver_state_le']] #sino cambian los features, no hace falta que lo renombre de nuevo\n",
        "X_train.head(5)"
      ],
      "execution_count": 233,
      "outputs": [
        {
          "output_type": "execute_result",
          "data": {
            "text/html": [
              "<div>\n",
              "<style scoped>\n",
              "    .dataframe tbody tr th:only-of-type {\n",
              "        vertical-align: middle;\n",
              "    }\n",
              "\n",
              "    .dataframe tbody tr th {\n",
              "        vertical-align: top;\n",
              "    }\n",
              "\n",
              "    .dataframe thead th {\n",
              "        text-align: right;\n",
              "    }\n",
              "</style>\n",
              "<table border=\"1\" class=\"dataframe\">\n",
              "  <thead>\n",
              "    <tr style=\"text-align: right;\">\n",
              "      <th></th>\n",
              "      <th>receiver_state_le</th>\n",
              "      <th>service</th>\n",
              "    </tr>\n",
              "  </thead>\n",
              "  <tbody>\n",
              "    <tr>\n",
              "      <th>0</th>\n",
              "      <td>25</td>\n",
              "      <td>1</td>\n",
              "    </tr>\n",
              "    <tr>\n",
              "      <th>1</th>\n",
              "      <td>14</td>\n",
              "      <td>1</td>\n",
              "    </tr>\n",
              "    <tr>\n",
              "      <th>2</th>\n",
              "      <td>18</td>\n",
              "      <td>2</td>\n",
              "    </tr>\n",
              "    <tr>\n",
              "      <th>3</th>\n",
              "      <td>25</td>\n",
              "      <td>2</td>\n",
              "    </tr>\n",
              "    <tr>\n",
              "      <th>4</th>\n",
              "      <td>3</td>\n",
              "      <td>1</td>\n",
              "    </tr>\n",
              "  </tbody>\n",
              "</table>\n",
              "</div>"
            ],
            "text/plain": [
              "   receiver_state_le  service\n",
              "0                 25        1\n",
              "1                 14        1\n",
              "2                 18        2\n",
              "3                 25        2\n",
              "4                  3        1"
            ]
          },
          "metadata": {
            "tags": []
          },
          "execution_count": 233
        }
      ]
    },
    {
      "cell_type": "code",
      "metadata": {
        "id": "DAhmj2PS51Te",
        "colab_type": "code",
        "colab": {}
      },
      "source": [
        ""
      ],
      "execution_count": 0,
      "outputs": []
    },
    {
      "cell_type": "code",
      "metadata": {
        "id": "NRFJt_2v-r1Y",
        "colab_type": "code",
        "outputId": "6c4a5886-4eaa-433b-c88c-625fa3ac311a",
        "colab": {
          "base_uri": "https://localhost:8080/",
          "height": 204
        }
      },
      "source": [
        "#Y = dataset_clean[['shipment_days_byclass']]\n",
        "y_train.head(5)"
      ],
      "execution_count": 234,
      "outputs": [
        {
          "output_type": "execute_result",
          "data": {
            "text/html": [
              "<div>\n",
              "<style scoped>\n",
              "    .dataframe tbody tr th:only-of-type {\n",
              "        vertical-align: middle;\n",
              "    }\n",
              "\n",
              "    .dataframe tbody tr th {\n",
              "        vertical-align: top;\n",
              "    }\n",
              "\n",
              "    .dataframe thead th {\n",
              "        text-align: right;\n",
              "    }\n",
              "</style>\n",
              "<table border=\"1\" class=\"dataframe\">\n",
              "  <thead>\n",
              "    <tr style=\"text-align: right;\">\n",
              "      <th></th>\n",
              "      <th>shipment_days</th>\n",
              "      <th>shipment_days_byclass</th>\n",
              "    </tr>\n",
              "  </thead>\n",
              "  <tbody>\n",
              "    <tr>\n",
              "      <th>0</th>\n",
              "      <td>5.0</td>\n",
              "      <td>5</td>\n",
              "    </tr>\n",
              "    <tr>\n",
              "      <th>1</th>\n",
              "      <td>5.0</td>\n",
              "      <td>5</td>\n",
              "    </tr>\n",
              "    <tr>\n",
              "      <th>2</th>\n",
              "      <td>4.0</td>\n",
              "      <td>4</td>\n",
              "    </tr>\n",
              "    <tr>\n",
              "      <th>3</th>\n",
              "      <td>2.0</td>\n",
              "      <td>2</td>\n",
              "    </tr>\n",
              "    <tr>\n",
              "      <th>4</th>\n",
              "      <td>13.0</td>\n",
              "      <td>6</td>\n",
              "    </tr>\n",
              "  </tbody>\n",
              "</table>\n",
              "</div>"
            ],
            "text/plain": [
              "   shipment_days  shipment_days_byclass\n",
              "0            5.0                      5\n",
              "1            5.0                      5\n",
              "2            4.0                      4\n",
              "3            2.0                      2\n",
              "4           13.0                      6"
            ]
          },
          "metadata": {
            "tags": []
          },
          "execution_count": 234
        }
      ]
    },
    {
      "cell_type": "markdown",
      "metadata": {
        "id": "U9frYSR0z0yv",
        "colab_type": "text"
      },
      "source": [
        "No dividimos los datos en entrenamiento y validación, usamos los que estan definidos arriba:"
      ]
    },
    {
      "cell_type": "code",
      "metadata": {
        "id": "VM6aZQA9yVbJ",
        "colab_type": "code",
        "colab": {}
      },
      "source": [
        "#X_train, X_test, y_train, y_test = train_test_split(X, Y, test_size = 0.20)"
      ],
      "execution_count": 0,
      "outputs": []
    },
    {
      "cell_type": "code",
      "metadata": {
        "id": "favnUkCW7TTh",
        "colab_type": "code",
        "outputId": "5cf31ceb-45ab-4738-b370-449ecdaca948",
        "colab": {
          "base_uri": "https://localhost:8080/",
          "height": 71
        }
      },
      "source": [
        "clf = ensemble.RandomForestClassifier(random_state=2)\n",
        "clf.fit(X_train, y_train['shipment_days_byclass'].values);"
      ],
      "execution_count": 236,
      "outputs": [
        {
          "output_type": "stream",
          "text": [
            "/usr/local/lib/python3.6/dist-packages/sklearn/ensemble/forest.py:245: FutureWarning: The default value of n_estimators will change from 10 in version 0.20 to 100 in 0.22.\n",
            "  \"10 in version 0.20 to 100 in 0.22.\", FutureWarning)\n"
          ],
          "name": "stderr"
        }
      ]
    },
    {
      "cell_type": "code",
      "metadata": {
        "id": "gLtLUvBD6Pkx",
        "colab_type": "code",
        "colab": {}
      },
      "source": [
        "target_names={'clase_0','clase_1','clase_2','clase_3','clase_4','clase_5','clase_6'}"
      ],
      "execution_count": 0,
      "outputs": []
    },
    {
      "cell_type": "code",
      "metadata": {
        "id": "UKcO-I4X6uS2",
        "colab_type": "code",
        "colab": {}
      },
      "source": [
        "#feature_names={'service','quantity','receiver_zipcode','sender_zipcode'}\n",
        "feature_names={'service','receiver_state'}"
      ],
      "execution_count": 0,
      "outputs": []
    },
    {
      "cell_type": "markdown",
      "metadata": {
        "id": "it8bfSrC-LAQ",
        "colab_type": "text"
      },
      "source": [
        "Dibujemos el arbol:"
      ]
    },
    {
      "cell_type": "code",
      "metadata": {
        "id": "ykWCqLZ8ind6",
        "colab_type": "code",
        "outputId": "e33cc283-1645-40a0-a5eb-ea5d0612eeb2",
        "colab": {
          "base_uri": "https://localhost:8080/",
          "height": 119
        }
      },
      "source": [
        "clf.estimators_[1]"
      ],
      "execution_count": 239,
      "outputs": [
        {
          "output_type": "execute_result",
          "data": {
            "text/plain": [
              "DecisionTreeClassifier(class_weight=None, criterion='gini', max_depth=None,\n",
              "                       max_features='auto', max_leaf_nodes=None,\n",
              "                       min_impurity_decrease=0.0, min_impurity_split=None,\n",
              "                       min_samples_leaf=1, min_samples_split=2,\n",
              "                       min_weight_fraction_leaf=0.0, presort=False,\n",
              "                       random_state=794921487, splitter='best')"
            ]
          },
          "metadata": {
            "tags": []
          },
          "execution_count": 239
        }
      ]
    },
    {
      "cell_type": "code",
      "metadata": {
        "id": "1ch47NcRkA8Y",
        "colab_type": "code",
        "colab": {}
      },
      "source": [
        "import graphviz"
      ],
      "execution_count": 0,
      "outputs": []
    },
    {
      "cell_type": "code",
      "metadata": {
        "id": "Gu-gSf4N7U2G",
        "colab_type": "code",
        "colab": {}
      },
      "source": [
        "def draw_random_forest_tree(index):\n",
        "    assert(len(clf.estimators_) > index)\n",
        "    dot_data = tree.export_graphviz(clf.estimators_[index], out_file=None, \n",
        "                     #feature_names=feature_names,  \n",
        "                     #class_names=target_names,  \n",
        "                     filled=True, rounded=True,  \n",
        "                     special_characters=True)\n",
        "    graph = graphviz.Source(dot_data)\n",
        "    return graph"
      ],
      "execution_count": 0,
      "outputs": []
    },
    {
      "cell_type": "code",
      "metadata": {
        "id": "MevFTCXt-RWQ",
        "colab_type": "code",
        "outputId": "38d24e2c-4e58-4061-98d2-9ecfe75d275f",
        "colab": {
          "base_uri": "https://localhost:8080/",
          "height": 1000
        }
      },
      "source": [
        "draw_random_forest_tree(1)"
      ],
      "execution_count": 242,
      "outputs": [
        {
          "output_type": "execute_result",
          "data": {
            "text/plain": [
              "<graphviz.files.Source at 0x7f39422799e8>"
            ],
            "image/svg+xml": "<?xml version=\"1.0\" encoding=\"UTF-8\" standalone=\"no\"?>\n<!DOCTYPE svg PUBLIC \"-//W3C//DTD SVG 1.1//EN\"\n \"http://www.w3.org/Graphics/SVG/1.1/DTD/svg11.dtd\">\n<!-- Generated by graphviz version 2.40.1 (20161225.0304)\n -->\n<!-- Title: Tree Pages: 1 -->\n<svg width=\"19696pt\" height=\"1661pt\"\n viewBox=\"0.00 0.00 19695.50 1661.00\" xmlns=\"http://www.w3.org/2000/svg\" xmlns:xlink=\"http://www.w3.org/1999/xlink\">\n<g id=\"graph0\" class=\"graph\" transform=\"scale(1 1) rotate(0) translate(4 1657)\">\n<title>Tree</title>\n<polygon fill=\"#ffffff\" stroke=\"transparent\" points=\"-4,4 -4,-1657 19691.5,-1657 19691.5,4 -4,4\"/>\n<!-- 0 -->\n<g id=\"node1\" class=\"node\">\n<title>0</title>\n<path fill=\"#fbe2ed\" stroke=\"#000000\" d=\"M11765,-1653C11765,-1653 11380,-1653 11380,-1653 11374,-1653 11368,-1647 11368,-1641 11368,-1641 11368,-1601 11368,-1601 11368,-1595 11374,-1589 11380,-1589 11380,-1589 11765,-1589 11765,-1589 11771,-1589 11777,-1595 11777,-1601 11777,-1601 11777,-1641 11777,-1641 11777,-1647 11771,-1653 11765,-1653\"/>\n<text text-anchor=\"start\" x=\"11542\" y=\"-1638.8\" font-family=\"Helvetica,sans-Serif\" font-size=\"14.00\" fill=\"#000000\">X</text>\n<text text-anchor=\"start\" x=\"11552\" y=\"-1638.8\" font-family=\"Helvetica,sans-Serif\" baseline-shift=\"sub\" font-size=\"14.00\" fill=\"#000000\">0</text>\n<text text-anchor=\"start\" x=\"11559\" y=\"-1638.8\" font-family=\"Helvetica,sans-Serif\" font-size=\"14.00\" fill=\"#000000\"> ≤ 24.5</text>\n<text text-anchor=\"start\" x=\"11534.5\" y=\"-1624.8\" font-family=\"Helvetica,sans-Serif\" font-size=\"14.00\" fill=\"#000000\">gini = 0.797</text>\n<text text-anchor=\"start\" x=\"11512\" y=\"-1610.8\" font-family=\"Helvetica,sans-Serif\" font-size=\"14.00\" fill=\"#000000\">samples = 203308</text>\n<text text-anchor=\"start\" x=\"11376\" y=\"-1596.8\" font-family=\"Helvetica,sans-Serif\" font-size=\"14.00\" fill=\"#000000\">value = [9775, 66843, 53544, 40700, 27077, 19824, 103760]</text>\n</g>\n<!-- 1 -->\n<g id=\"node2\" class=\"node\">\n<title>1</title>\n<path fill=\"#f4aece\" stroke=\"#000000\" d=\"M5636.5,-1553C5636.5,-1553 5268.5,-1553 5268.5,-1553 5262.5,-1553 5256.5,-1547 5256.5,-1541 5256.5,-1541 5256.5,-1501 5256.5,-1501 5256.5,-1495 5262.5,-1489 5268.5,-1489 5268.5,-1489 5636.5,-1489 5636.5,-1489 5642.5,-1489 5648.5,-1495 5648.5,-1501 5648.5,-1501 5648.5,-1541 5648.5,-1541 5648.5,-1547 5642.5,-1553 5636.5,-1553\"/>\n<text text-anchor=\"start\" x=\"5426\" y=\"-1538.8\" font-family=\"Helvetica,sans-Serif\" font-size=\"14.00\" fill=\"#000000\">X</text>\n<text text-anchor=\"start\" x=\"5436\" y=\"-1538.8\" font-family=\"Helvetica,sans-Serif\" baseline-shift=\"sub\" font-size=\"14.00\" fill=\"#000000\">0</text>\n<text text-anchor=\"start\" x=\"5443\" y=\"-1538.8\" font-family=\"Helvetica,sans-Serif\" font-size=\"14.00\" fill=\"#000000\"> ≤ 5.5</text>\n<text text-anchor=\"start\" x=\"5419\" y=\"-1524.8\" font-family=\"Helvetica,sans-Serif\" font-size=\"14.00\" fill=\"#000000\">gini = 0.71</text>\n<text text-anchor=\"start\" x=\"5392\" y=\"-1510.8\" font-family=\"Helvetica,sans-Serif\" font-size=\"14.00\" fill=\"#000000\">samples = 123455</text>\n<text text-anchor=\"start\" x=\"5264.5\" y=\"-1496.8\" font-family=\"Helvetica,sans-Serif\" font-size=\"14.00\" fill=\"#000000\">value = [743, 15667, 25310, 24677, 18885, 15304, 94711]</text>\n</g>\n<!-- 0&#45;&gt;1 -->\n<g id=\"edge1\" class=\"edge\">\n<title>0&#45;&gt;1</title>\n<path fill=\"none\" stroke=\"#000000\" d=\"M11367.5648,-1617.6514C10434.6663,-1602.4079 6594.6139,-1539.662 5658.8279,-1524.3714\"/>\n<polygon fill=\"#000000\" stroke=\"#000000\" points=\"5658.6832,-1520.8686 5648.6273,-1524.2047 5658.5687,-1527.8677 5658.6832,-1520.8686\"/>\n<text text-anchor=\"middle\" x=\"5666.0138\" y=\"-1538.4688\" font-family=\"Helvetica,sans-Serif\" font-size=\"14.00\" fill=\"#000000\">True</text>\n</g>\n<!-- 326 -->\n<g id=\"node327\" class=\"node\">\n<title>326</title>\n<path fill=\"#eef9d1\" stroke=\"#000000\" d=\"M17831.5,-1553C17831.5,-1553 17479.5,-1553 17479.5,-1553 17473.5,-1553 17467.5,-1547 17467.5,-1541 17467.5,-1541 17467.5,-1501 17467.5,-1501 17467.5,-1495 17473.5,-1489 17479.5,-1489 17479.5,-1489 17831.5,-1489 17831.5,-1489 17837.5,-1489 17843.5,-1495 17843.5,-1501 17843.5,-1501 17843.5,-1541 17843.5,-1541 17843.5,-1547 17837.5,-1553 17831.5,-1553\"/>\n<text text-anchor=\"start\" x=\"17629\" y=\"-1538.8\" font-family=\"Helvetica,sans-Serif\" font-size=\"14.00\" fill=\"#000000\">X</text>\n<text text-anchor=\"start\" x=\"17639\" y=\"-1538.8\" font-family=\"Helvetica,sans-Serif\" baseline-shift=\"sub\" font-size=\"14.00\" fill=\"#000000\">1</text>\n<text text-anchor=\"start\" x=\"17646\" y=\"-1538.8\" font-family=\"Helvetica,sans-Serif\" font-size=\"14.00\" fill=\"#000000\"> ≤ 4.5</text>\n<text text-anchor=\"start\" x=\"17617.5\" y=\"-1524.8\" font-family=\"Helvetica,sans-Serif\" font-size=\"14.00\" fill=\"#000000\">gini = 0.754</text>\n<text text-anchor=\"start\" x=\"17599.5\" y=\"-1510.8\" font-family=\"Helvetica,sans-Serif\" font-size=\"14.00\" fill=\"#000000\">samples = 79853</text>\n<text text-anchor=\"start\" x=\"17475.5\" y=\"-1496.8\" font-family=\"Helvetica,sans-Serif\" font-size=\"14.00\" fill=\"#000000\">value = [9032, 51176, 28234, 16023, 8192, 4520, 9049]</text>\n</g>\n<!-- 0&#45;&gt;326 -->\n<g id=\"edge326\" class=\"edge\">\n<title>0&#45;&gt;326</title>\n<path fill=\"none\" stroke=\"#000000\" d=\"M11777.0676,-1617.6371C12708.0856,-1602.3318 16539.0185,-1539.3541 17457.1036,-1524.2615\"/>\n<polygon fill=\"#000000\" stroke=\"#000000\" points=\"17457.4983,-1527.7556 17467.4393,-1524.0916 17457.3831,-1520.7565 17457.4983,-1527.7556\"/>\n<text text-anchor=\"middle\" x=\"17450.0546\" y=\"-1538.3574\" font-family=\"Helvetica,sans-Serif\" font-size=\"14.00\" fill=\"#000000\">False</text>\n</g>\n<!-- 2 -->\n<g id=\"node3\" class=\"node\">\n<title>2</title>\n<path fill=\"#ed76ab\" stroke=\"#000000\" d=\"M2821.5,-1453C2821.5,-1453 2519.5,-1453 2519.5,-1453 2513.5,-1453 2507.5,-1447 2507.5,-1441 2507.5,-1441 2507.5,-1401 2507.5,-1401 2507.5,-1395 2513.5,-1389 2519.5,-1389 2519.5,-1389 2821.5,-1389 2821.5,-1389 2827.5,-1389 2833.5,-1395 2833.5,-1401 2833.5,-1401 2833.5,-1441 2833.5,-1441 2833.5,-1447 2827.5,-1453 2821.5,-1453\"/>\n<text text-anchor=\"start\" x=\"2644\" y=\"-1438.8\" font-family=\"Helvetica,sans-Serif\" font-size=\"14.00\" fill=\"#000000\">X</text>\n<text text-anchor=\"start\" x=\"2654\" y=\"-1438.8\" font-family=\"Helvetica,sans-Serif\" baseline-shift=\"sub\" font-size=\"14.00\" fill=\"#000000\">1</text>\n<text text-anchor=\"start\" x=\"2661\" y=\"-1438.8\" font-family=\"Helvetica,sans-Serif\" font-size=\"14.00\" fill=\"#000000\"> ≤ 0.5</text>\n<text text-anchor=\"start\" x=\"2632.5\" y=\"-1424.8\" font-family=\"Helvetica,sans-Serif\" font-size=\"14.00\" fill=\"#000000\">gini = 0.471</text>\n<text text-anchor=\"start\" x=\"2614.5\" y=\"-1410.8\" font-family=\"Helvetica,sans-Serif\" font-size=\"14.00\" fill=\"#000000\">samples = 12520</text>\n<text text-anchor=\"start\" x=\"2515.5\" y=\"-1396.8\" font-family=\"Helvetica,sans-Serif\" font-size=\"14.00\" fill=\"#000000\">value = [30, 653, 1428, 1400, 1173, 943, 14169]</text>\n</g>\n<!-- 1&#45;&gt;2 -->\n<g id=\"edge2\" class=\"edge\">\n<title>1&#45;&gt;2</title>\n<path fill=\"none\" stroke=\"#000000\" d=\"M5256.3213,-1513.9483C4737.4808,-1495.2984 3335.3614,-1444.8987 2843.7048,-1427.2259\"/>\n<polygon fill=\"#000000\" stroke=\"#000000\" points=\"2843.8018,-1423.7272 2833.6825,-1426.8657 2843.5503,-1430.7227 2843.8018,-1423.7272\"/>\n</g>\n<!-- 75 -->\n<g id=\"node76\" class=\"node\">\n<title>75</title>\n<path fill=\"#f5b5d2\" stroke=\"#000000\" d=\"M5636.5,-1453C5636.5,-1453 5268.5,-1453 5268.5,-1453 5262.5,-1453 5256.5,-1447 5256.5,-1441 5256.5,-1441 5256.5,-1401 5256.5,-1401 5256.5,-1395 5262.5,-1389 5268.5,-1389 5268.5,-1389 5636.5,-1389 5636.5,-1389 5642.5,-1389 5648.5,-1395 5648.5,-1401 5648.5,-1401 5648.5,-1441 5648.5,-1441 5648.5,-1447 5642.5,-1453 5636.5,-1453\"/>\n<text text-anchor=\"start\" x=\"5426\" y=\"-1438.8\" font-family=\"Helvetica,sans-Serif\" font-size=\"14.00\" fill=\"#000000\">X</text>\n<text text-anchor=\"start\" x=\"5436\" y=\"-1438.8\" font-family=\"Helvetica,sans-Serif\" baseline-shift=\"sub\" font-size=\"14.00\" fill=\"#000000\">0</text>\n<text text-anchor=\"start\" x=\"5443\" y=\"-1438.8\" font-family=\"Helvetica,sans-Serif\" font-size=\"14.00\" fill=\"#000000\"> ≤ 6.5</text>\n<text text-anchor=\"start\" x=\"5414.5\" y=\"-1424.8\" font-family=\"Helvetica,sans-Serif\" font-size=\"14.00\" fill=\"#000000\">gini = 0.729</text>\n<text text-anchor=\"start\" x=\"5392\" y=\"-1410.8\" font-family=\"Helvetica,sans-Serif\" font-size=\"14.00\" fill=\"#000000\">samples = 110935</text>\n<text text-anchor=\"start\" x=\"5264.5\" y=\"-1396.8\" font-family=\"Helvetica,sans-Serif\" font-size=\"14.00\" fill=\"#000000\">value = [713, 15014, 23882, 23277, 17712, 14361, 80542]</text>\n</g>\n<!-- 1&#45;&gt;75 -->\n<g id=\"edge75\" class=\"edge\">\n<title>1&#45;&gt;75</title>\n<path fill=\"none\" stroke=\"#000000\" d=\"M5452.5,-1488.8089C5452.5,-1480.6906 5452.5,-1471.8517 5452.5,-1463.3186\"/>\n<polygon fill=\"#000000\" stroke=\"#000000\" points=\"5456.0001,-1463.1307 5452.5,-1453.1308 5449.0001,-1463.1308 5456.0001,-1463.1307\"/>\n</g>\n<!-- 3 -->\n<g id=\"node4\" class=\"node\">\n<title>3</title>\n<path fill=\"#fefffe\" stroke=\"#000000\" d=\"M1403,-1353C1403,-1353 1142,-1353 1142,-1353 1136,-1353 1130,-1347 1130,-1341 1130,-1341 1130,-1301 1130,-1301 1130,-1295 1136,-1289 1142,-1289 1142,-1289 1403,-1289 1403,-1289 1409,-1289 1415,-1295 1415,-1301 1415,-1301 1415,-1341 1415,-1341 1415,-1347 1409,-1353 1403,-1353\"/>\n<text text-anchor=\"start\" x=\"1246\" y=\"-1338.8\" font-family=\"Helvetica,sans-Serif\" font-size=\"14.00\" fill=\"#000000\">X</text>\n<text text-anchor=\"start\" x=\"1256\" y=\"-1338.8\" font-family=\"Helvetica,sans-Serif\" baseline-shift=\"sub\" font-size=\"14.00\" fill=\"#000000\">0</text>\n<text text-anchor=\"start\" x=\"1263\" y=\"-1338.8\" font-family=\"Helvetica,sans-Serif\" font-size=\"14.00\" fill=\"#000000\"> ≤ 4.5</text>\n<text text-anchor=\"start\" x=\"1234.5\" y=\"-1324.8\" font-family=\"Helvetica,sans-Serif\" font-size=\"14.00\" fill=\"#000000\">gini = 0.823</text>\n<text text-anchor=\"start\" x=\"1220.5\" y=\"-1310.8\" font-family=\"Helvetica,sans-Serif\" font-size=\"14.00\" fill=\"#000000\">samples = 1945</text>\n<text text-anchor=\"start\" x=\"1138\" y=\"-1296.8\" font-family=\"Helvetica,sans-Serif\" font-size=\"14.00\" fill=\"#000000\">value = [12, 498, 675, 660, 534, 291, 403]</text>\n</g>\n<!-- 2&#45;&gt;3 -->\n<g id=\"edge3\" class=\"edge\">\n<title>2&#45;&gt;3</title>\n<path fill=\"none\" stroke=\"#000000\" d=\"M2507.3956,-1409.333C2234.8575,-1389.8382 1690.687,-1350.9132 1425.2261,-1331.9246\"/>\n<polygon fill=\"#000000\" stroke=\"#000000\" points=\"1425.3494,-1328.4246 1415.1251,-1331.2021 1424.8499,-1335.4067 1425.3494,-1328.4246\"/>\n</g>\n<!-- 14 -->\n<g id=\"node15\" class=\"node\">\n<title>14</title>\n<path fill=\"#ea5e9c\" stroke=\"#000000\" d=\"M2809.5,-1353C2809.5,-1353 2531.5,-1353 2531.5,-1353 2525.5,-1353 2519.5,-1347 2519.5,-1341 2519.5,-1341 2519.5,-1301 2519.5,-1301 2519.5,-1295 2525.5,-1289 2531.5,-1289 2531.5,-1289 2809.5,-1289 2809.5,-1289 2815.5,-1289 2821.5,-1295 2821.5,-1301 2821.5,-1301 2821.5,-1341 2821.5,-1341 2821.5,-1347 2815.5,-1353 2809.5,-1353\"/>\n<text text-anchor=\"start\" x=\"2644\" y=\"-1338.8\" font-family=\"Helvetica,sans-Serif\" font-size=\"14.00\" fill=\"#000000\">X</text>\n<text text-anchor=\"start\" x=\"2654\" y=\"-1338.8\" font-family=\"Helvetica,sans-Serif\" baseline-shift=\"sub\" font-size=\"14.00\" fill=\"#000000\">1</text>\n<text text-anchor=\"start\" x=\"2661\" y=\"-1338.8\" font-family=\"Helvetica,sans-Serif\" font-size=\"14.00\" fill=\"#000000\"> ≤ 3.5</text>\n<text text-anchor=\"start\" x=\"2632.5\" y=\"-1324.8\" font-family=\"Helvetica,sans-Serif\" font-size=\"14.00\" fill=\"#000000\">gini = 0.315</text>\n<text text-anchor=\"start\" x=\"2614.5\" y=\"-1310.8\" font-family=\"Helvetica,sans-Serif\" font-size=\"14.00\" fill=\"#000000\">samples = 10575</text>\n<text text-anchor=\"start\" x=\"2527.5\" y=\"-1296.8\" font-family=\"Helvetica,sans-Serif\" font-size=\"14.00\" fill=\"#000000\">value = [18, 155, 753, 740, 639, 652, 13766]</text>\n</g>\n<!-- 2&#45;&gt;14 -->\n<g id=\"edge14\" class=\"edge\">\n<title>2&#45;&gt;14</title>\n<path fill=\"none\" stroke=\"#000000\" d=\"M2670.5,-1388.8089C2670.5,-1380.6906 2670.5,-1371.8517 2670.5,-1363.3186\"/>\n<polygon fill=\"#000000\" stroke=\"#000000\" points=\"2674.0001,-1363.1307 2670.5,-1353.1308 2667.0001,-1363.1308 2674.0001,-1363.1307\"/>\n</g>\n<!-- 4 -->\n<g id=\"node5\" class=\"node\">\n<title>4</title>\n<path fill=\"#fafefb\" stroke=\"#000000\" d=\"M871,-1253C871,-1253 610,-1253 610,-1253 604,-1253 598,-1247 598,-1241 598,-1241 598,-1201 598,-1201 598,-1195 604,-1189 610,-1189 610,-1189 871,-1189 871,-1189 877,-1189 883,-1195 883,-1201 883,-1201 883,-1241 883,-1241 883,-1247 877,-1253 871,-1253\"/>\n<text text-anchor=\"start\" x=\"714\" y=\"-1238.8\" font-family=\"Helvetica,sans-Serif\" font-size=\"14.00\" fill=\"#000000\">X</text>\n<text text-anchor=\"start\" x=\"724\" y=\"-1238.8\" font-family=\"Helvetica,sans-Serif\" baseline-shift=\"sub\" font-size=\"14.00\" fill=\"#000000\">0</text>\n<text text-anchor=\"start\" x=\"731\" y=\"-1238.8\" font-family=\"Helvetica,sans-Serif\" font-size=\"14.00\" fill=\"#000000\"> ≤ 1.5</text>\n<text text-anchor=\"start\" x=\"702.5\" y=\"-1224.8\" font-family=\"Helvetica,sans-Serif\" font-size=\"14.00\" fill=\"#000000\">gini = 0.817</text>\n<text text-anchor=\"start\" x=\"688.5\" y=\"-1210.8\" font-family=\"Helvetica,sans-Serif\" font-size=\"14.00\" fill=\"#000000\">samples = 1738</text>\n<text text-anchor=\"start\" x=\"606\" y=\"-1196.8\" font-family=\"Helvetica,sans-Serif\" font-size=\"14.00\" fill=\"#000000\">value = [12, 491, 643, 590, 477, 250, 273]</text>\n</g>\n<!-- 3&#45;&gt;4 -->\n<g id=\"edge4\" class=\"edge\">\n<title>3&#45;&gt;4</title>\n<path fill=\"none\" stroke=\"#000000\" d=\"M1129.9338,-1294.2018C1056.8834,-1280.4706 967.8745,-1263.7396 893.4003,-1249.7407\"/>\n<polygon fill=\"#000000\" stroke=\"#000000\" points=\"893.9343,-1246.2798 883.4598,-1247.8721 892.6411,-1253.1593 893.9343,-1246.2798\"/>\n</g>\n<!-- 13 -->\n<g id=\"node14\" class=\"node\">\n<title>13</title>\n<path fill=\"#f9d3e4\" stroke=\"#000000\" d=\"M1374,-1247.5C1374,-1247.5 1171,-1247.5 1171,-1247.5 1165,-1247.5 1159,-1241.5 1159,-1235.5 1159,-1235.5 1159,-1206.5 1159,-1206.5 1159,-1200.5 1165,-1194.5 1171,-1194.5 1171,-1194.5 1374,-1194.5 1374,-1194.5 1380,-1194.5 1386,-1200.5 1386,-1206.5 1386,-1206.5 1386,-1235.5 1386,-1235.5 1386,-1241.5 1380,-1247.5 1374,-1247.5\"/>\n<text text-anchor=\"start\" x=\"1234.5\" y=\"-1232.3\" font-family=\"Helvetica,sans-Serif\" font-size=\"14.00\" fill=\"#000000\">gini = 0.755</text>\n<text text-anchor=\"start\" x=\"1224.5\" y=\"-1217.3\" font-family=\"Helvetica,sans-Serif\" font-size=\"14.00\" fill=\"#000000\">samples = 207</text>\n<text text-anchor=\"start\" x=\"1167\" y=\"-1202.3\" font-family=\"Helvetica,sans-Serif\" font-size=\"14.00\" fill=\"#000000\">value = [0, 7, 32, 70, 57, 41, 130]</text>\n</g>\n<!-- 3&#45;&gt;13 -->\n<g id=\"edge13\" class=\"edge\">\n<title>3&#45;&gt;13</title>\n<path fill=\"none\" stroke=\"#000000\" d=\"M1272.5,-1288.8089C1272.5,-1278.9777 1272.5,-1268.0898 1272.5,-1257.9679\"/>\n<polygon fill=\"#000000\" stroke=\"#000000\" points=\"1276.0001,-1257.7735 1272.5,-1247.7735 1269.0001,-1257.7736 1276.0001,-1257.7735\"/>\n</g>\n<!-- 5 -->\n<g id=\"node6\" class=\"node\">\n<title>5</title>\n<path fill=\"#eaedfc\" stroke=\"#000000\" d=\"M436,-1153C436,-1153 241,-1153 241,-1153 235,-1153 229,-1147 229,-1141 229,-1141 229,-1101 229,-1101 229,-1095 235,-1089 241,-1089 241,-1089 436,-1089 436,-1089 442,-1089 448,-1095 448,-1101 448,-1101 448,-1141 448,-1141 448,-1147 442,-1153 436,-1153\"/>\n<text text-anchor=\"start\" x=\"312\" y=\"-1138.8\" font-family=\"Helvetica,sans-Serif\" font-size=\"14.00\" fill=\"#000000\">X</text>\n<text text-anchor=\"start\" x=\"322\" y=\"-1138.8\" font-family=\"Helvetica,sans-Serif\" baseline-shift=\"sub\" font-size=\"14.00\" fill=\"#000000\">0</text>\n<text text-anchor=\"start\" x=\"329\" y=\"-1138.8\" font-family=\"Helvetica,sans-Serif\" font-size=\"14.00\" fill=\"#000000\"> ≤ 0.5</text>\n<text text-anchor=\"start\" x=\"300.5\" y=\"-1124.8\" font-family=\"Helvetica,sans-Serif\" font-size=\"14.00\" fill=\"#000000\">gini = 0.791</text>\n<text text-anchor=\"start\" x=\"290.5\" y=\"-1110.8\" font-family=\"Helvetica,sans-Serif\" font-size=\"14.00\" fill=\"#000000\">samples = 205</text>\n<text text-anchor=\"start\" x=\"237\" y=\"-1096.8\" font-family=\"Helvetica,sans-Serif\" font-size=\"14.00\" fill=\"#000000\">value = [0, 7, 37, 57, 93, 67, 52]</text>\n</g>\n<!-- 4&#45;&gt;5 -->\n<g id=\"edge5\" class=\"edge\">\n<title>4&#45;&gt;5</title>\n<path fill=\"none\" stroke=\"#000000\" d=\"M611.6459,-1188.9467C562.3371,-1176.6809 506.3495,-1162.7536 457.9558,-1150.7154\"/>\n<polygon fill=\"#000000\" stroke=\"#000000\" points=\"458.6158,-1147.273 448.0666,-1148.2554 456.9259,-1154.0659 458.6158,-1147.273\"/>\n</g>\n<!-- 8 -->\n<g id=\"node9\" class=\"node\">\n<title>8</title>\n<path fill=\"#f7fef8\" stroke=\"#000000\" d=\"M871,-1153C871,-1153 610,-1153 610,-1153 604,-1153 598,-1147 598,-1141 598,-1141 598,-1101 598,-1101 598,-1095 604,-1089 610,-1089 610,-1089 871,-1089 871,-1089 877,-1089 883,-1095 883,-1101 883,-1101 883,-1141 883,-1141 883,-1147 877,-1153 871,-1153\"/>\n<text text-anchor=\"start\" x=\"714\" y=\"-1138.8\" font-family=\"Helvetica,sans-Serif\" font-size=\"14.00\" fill=\"#000000\">X</text>\n<text text-anchor=\"start\" x=\"724\" y=\"-1138.8\" font-family=\"Helvetica,sans-Serif\" baseline-shift=\"sub\" font-size=\"14.00\" fill=\"#000000\">0</text>\n<text text-anchor=\"start\" x=\"731\" y=\"-1138.8\" font-family=\"Helvetica,sans-Serif\" font-size=\"14.00\" fill=\"#000000\"> ≤ 3.5</text>\n<text text-anchor=\"start\" x=\"707\" y=\"-1124.8\" font-family=\"Helvetica,sans-Serif\" font-size=\"14.00\" fill=\"#000000\">gini = 0.81</text>\n<text text-anchor=\"start\" x=\"688.5\" y=\"-1110.8\" font-family=\"Helvetica,sans-Serif\" font-size=\"14.00\" fill=\"#000000\">samples = 1533</text>\n<text text-anchor=\"start\" x=\"606\" y=\"-1096.8\" font-family=\"Helvetica,sans-Serif\" font-size=\"14.00\" fill=\"#000000\">value = [12, 484, 606, 533, 384, 183, 221]</text>\n</g>\n<!-- 4&#45;&gt;8 -->\n<g id=\"edge8\" class=\"edge\">\n<title>4&#45;&gt;8</title>\n<path fill=\"none\" stroke=\"#000000\" d=\"M740.5,-1188.8089C740.5,-1180.6906 740.5,-1171.8517 740.5,-1163.3186\"/>\n<polygon fill=\"#000000\" stroke=\"#000000\" points=\"744.0001,-1163.1307 740.5,-1153.1308 737.0001,-1163.1308 744.0001,-1163.1307\"/>\n</g>\n<!-- 6 -->\n<g id=\"node7\" class=\"node\">\n<title>6</title>\n<path fill=\"#ffffff\" stroke=\"#000000\" d=\"M199,-1047.5C199,-1047.5 12,-1047.5 12,-1047.5 6,-1047.5 0,-1041.5 0,-1035.5 0,-1035.5 0,-1006.5 0,-1006.5 0,-1000.5 6,-994.5 12,-994.5 12,-994.5 199,-994.5 199,-994.5 205,-994.5 211,-1000.5 211,-1006.5 211,-1006.5 211,-1035.5 211,-1035.5 211,-1041.5 205,-1047.5 199,-1047.5\"/>\n<text text-anchor=\"start\" x=\"67.5\" y=\"-1032.3\" font-family=\"Helvetica,sans-Serif\" font-size=\"14.00\" fill=\"#000000\">gini = 0.767</text>\n<text text-anchor=\"start\" x=\"61.5\" y=\"-1017.3\" font-family=\"Helvetica,sans-Serif\" font-size=\"14.00\" fill=\"#000000\">samples = 63</text>\n<text text-anchor=\"start\" x=\"8\" y=\"-1002.3\" font-family=\"Helvetica,sans-Serif\" font-size=\"14.00\" fill=\"#000000\">value = [0, 0, 13, 9, 29, 29, 20]</text>\n</g>\n<!-- 5&#45;&gt;6 -->\n<g id=\"edge6\" class=\"edge\">\n<title>5&#45;&gt;6</title>\n<path fill=\"none\" stroke=\"#000000\" d=\"M263.8159,-1088.9467C235.8319,-1076.9365 204.1365,-1063.3333 176.4958,-1051.4703\"/>\n<polygon fill=\"#000000\" stroke=\"#000000\" points=\"177.8585,-1048.2464 167.2886,-1047.5187 175.0976,-1054.679 177.8585,-1048.2464\"/>\n</g>\n<!-- 7 -->\n<g id=\"node8\" class=\"node\">\n<title>7</title>\n<path fill=\"#eceffc\" stroke=\"#000000\" d=\"M436,-1047.5C436,-1047.5 241,-1047.5 241,-1047.5 235,-1047.5 229,-1041.5 229,-1035.5 229,-1035.5 229,-1006.5 229,-1006.5 229,-1000.5 235,-994.5 241,-994.5 241,-994.5 436,-994.5 436,-994.5 442,-994.5 448,-1000.5 448,-1006.5 448,-1006.5 448,-1035.5 448,-1035.5 448,-1041.5 442,-1047.5 436,-1047.5\"/>\n<text text-anchor=\"start\" x=\"300.5\" y=\"-1032.3\" font-family=\"Helvetica,sans-Serif\" font-size=\"14.00\" fill=\"#000000\">gini = 0.791</text>\n<text text-anchor=\"start\" x=\"290.5\" y=\"-1017.3\" font-family=\"Helvetica,sans-Serif\" font-size=\"14.00\" fill=\"#000000\">samples = 142</text>\n<text text-anchor=\"start\" x=\"237\" y=\"-1002.3\" font-family=\"Helvetica,sans-Serif\" font-size=\"14.00\" fill=\"#000000\">value = [0, 7, 24, 48, 64, 38, 32]</text>\n</g>\n<!-- 5&#45;&gt;7 -->\n<g id=\"edge7\" class=\"edge\">\n<title>5&#45;&gt;7</title>\n<path fill=\"none\" stroke=\"#000000\" d=\"M338.5,-1088.8089C338.5,-1078.9777 338.5,-1068.0898 338.5,-1057.9679\"/>\n<polygon fill=\"#000000\" stroke=\"#000000\" points=\"342.0001,-1057.7735 338.5,-1047.7735 335.0001,-1057.7736 342.0001,-1057.7735\"/>\n</g>\n<!-- 9 -->\n<g id=\"node10\" class=\"node\">\n<title>9</title>\n<path fill=\"#f7fefe\" stroke=\"#000000\" d=\"M698.5,-1053C698.5,-1053 478.5,-1053 478.5,-1053 472.5,-1053 466.5,-1047 466.5,-1041 466.5,-1041 466.5,-1001 466.5,-1001 466.5,-995 472.5,-989 478.5,-989 478.5,-989 698.5,-989 698.5,-989 704.5,-989 710.5,-995 710.5,-1001 710.5,-1001 710.5,-1041 710.5,-1041 710.5,-1047 704.5,-1053 698.5,-1053\"/>\n<text text-anchor=\"start\" x=\"562\" y=\"-1038.8\" font-family=\"Helvetica,sans-Serif\" font-size=\"14.00\" fill=\"#000000\">X</text>\n<text text-anchor=\"start\" x=\"572\" y=\"-1038.8\" font-family=\"Helvetica,sans-Serif\" baseline-shift=\"sub\" font-size=\"14.00\" fill=\"#000000\">0</text>\n<text text-anchor=\"start\" x=\"579\" y=\"-1038.8\" font-family=\"Helvetica,sans-Serif\" font-size=\"14.00\" fill=\"#000000\"> ≤ 2.5</text>\n<text text-anchor=\"start\" x=\"550.5\" y=\"-1024.8\" font-family=\"Helvetica,sans-Serif\" font-size=\"14.00\" fill=\"#000000\">gini = 0.809</text>\n<text text-anchor=\"start\" x=\"540.5\" y=\"-1010.8\" font-family=\"Helvetica,sans-Serif\" font-size=\"14.00\" fill=\"#000000\">samples = 311</text>\n<text text-anchor=\"start\" x=\"474.5\" y=\"-996.8\" font-family=\"Helvetica,sans-Serif\" font-size=\"14.00\" fill=\"#000000\">value = [0, 88, 106, 122, 85, 35, 46]</text>\n</g>\n<!-- 8&#45;&gt;9 -->\n<g id=\"edge9\" class=\"edge\">\n<title>8&#45;&gt;9</title>\n<path fill=\"none\" stroke=\"#000000\" d=\"M691.5696,-1088.8089C677.06,-1079.2632 661.0363,-1068.7213 646.0344,-1058.8516\"/>\n<polygon fill=\"#000000\" stroke=\"#000000\" points=\"647.6166,-1055.703 637.3388,-1053.1308 643.7693,-1061.5509 647.6166,-1055.703\"/>\n</g>\n<!-- 12 -->\n<g id=\"node13\" class=\"node\">\n<title>12</title>\n<path fill=\"#f3fdf5\" stroke=\"#000000\" d=\"M1002,-1047.5C1002,-1047.5 741,-1047.5 741,-1047.5 735,-1047.5 729,-1041.5 729,-1035.5 729,-1035.5 729,-1006.5 729,-1006.5 729,-1000.5 735,-994.5 741,-994.5 741,-994.5 1002,-994.5 1002,-994.5 1008,-994.5 1014,-1000.5 1014,-1006.5 1014,-1006.5 1014,-1035.5 1014,-1035.5 1014,-1041.5 1008,-1047.5 1002,-1047.5\"/>\n<text text-anchor=\"start\" x=\"833.5\" y=\"-1032.3\" font-family=\"Helvetica,sans-Serif\" font-size=\"14.00\" fill=\"#000000\">gini = 0.809</text>\n<text text-anchor=\"start\" x=\"819.5\" y=\"-1017.3\" font-family=\"Helvetica,sans-Serif\" font-size=\"14.00\" fill=\"#000000\">samples = 1222</text>\n<text text-anchor=\"start\" x=\"737\" y=\"-1002.3\" font-family=\"Helvetica,sans-Serif\" font-size=\"14.00\" fill=\"#000000\">value = [12, 396, 500, 411, 299, 148, 175]</text>\n</g>\n<!-- 8&#45;&gt;12 -->\n<g id=\"edge12\" class=\"edge\">\n<title>8&#45;&gt;12</title>\n<path fill=\"none\" stroke=\"#000000\" d=\"M782.6703,-1088.8089C797.3116,-1077.6324 813.7418,-1065.0902 828.453,-1053.8603\"/>\n<polygon fill=\"#000000\" stroke=\"#000000\" points=\"830.6016,-1056.6234 836.4267,-1047.7735 826.3542,-1051.0592 830.6016,-1056.6234\"/>\n</g>\n<!-- 10 -->\n<g id=\"node11\" class=\"node\">\n<title>10</title>\n<path fill=\"#fbfefe\" stroke=\"#000000\" d=\"M453,-947.5C453,-947.5 250,-947.5 250,-947.5 244,-947.5 238,-941.5 238,-935.5 238,-935.5 238,-906.5 238,-906.5 238,-900.5 244,-894.5 250,-894.5 250,-894.5 453,-894.5 453,-894.5 459,-894.5 465,-900.5 465,-906.5 465,-906.5 465,-935.5 465,-935.5 465,-941.5 459,-947.5 453,-947.5\"/>\n<text text-anchor=\"start\" x=\"313.5\" y=\"-932.3\" font-family=\"Helvetica,sans-Serif\" font-size=\"14.00\" fill=\"#000000\">gini = 0.811</text>\n<text text-anchor=\"start\" x=\"303.5\" y=\"-917.3\" font-family=\"Helvetica,sans-Serif\" font-size=\"14.00\" fill=\"#000000\">samples = 255</text>\n<text text-anchor=\"start\" x=\"246\" y=\"-902.3\" font-family=\"Helvetica,sans-Serif\" font-size=\"14.00\" fill=\"#000000\">value = [0, 74, 87, 93, 72, 28, 40]</text>\n</g>\n<!-- 9&#45;&gt;10 -->\n<g id=\"edge10\" class=\"edge\">\n<title>9&#45;&gt;10</title>\n<path fill=\"none\" stroke=\"#000000\" d=\"M512.5338,-988.9467C484.0694,-976.9365 451.8298,-963.3333 423.7146,-951.4703\"/>\n<polygon fill=\"#000000\" stroke=\"#000000\" points=\"424.9235,-948.1816 414.3494,-947.5187 422.2022,-954.631 424.9235,-948.1816\"/>\n</g>\n<!-- 11 -->\n<g id=\"node12\" class=\"node\">\n<title>11</title>\n<path fill=\"#e2fbfb\" stroke=\"#000000\" d=\"M682,-947.5C682,-947.5 495,-947.5 495,-947.5 489,-947.5 483,-941.5 483,-935.5 483,-935.5 483,-906.5 483,-906.5 483,-900.5 489,-894.5 495,-894.5 495,-894.5 682,-894.5 682,-894.5 688,-894.5 694,-900.5 694,-906.5 694,-906.5 694,-935.5 694,-935.5 694,-941.5 688,-947.5 682,-947.5\"/>\n<text text-anchor=\"start\" x=\"550.5\" y=\"-932.3\" font-family=\"Helvetica,sans-Serif\" font-size=\"14.00\" fill=\"#000000\">gini = 0.787</text>\n<text text-anchor=\"start\" x=\"544.5\" y=\"-917.3\" font-family=\"Helvetica,sans-Serif\" font-size=\"14.00\" fill=\"#000000\">samples = 56</text>\n<text text-anchor=\"start\" x=\"491\" y=\"-902.3\" font-family=\"Helvetica,sans-Serif\" font-size=\"14.00\" fill=\"#000000\">value = [0, 14, 19, 29, 13, 7, 6]</text>\n</g>\n<!-- 9&#45;&gt;11 -->\n<g id=\"edge11\" class=\"edge\">\n<title>9&#45;&gt;11</title>\n<path fill=\"none\" stroke=\"#000000\" d=\"M588.5,-988.8089C588.5,-978.9777 588.5,-968.0898 588.5,-957.9679\"/>\n<polygon fill=\"#000000\" stroke=\"#000000\" points=\"592.0001,-957.7735 588.5,-947.7735 585.0001,-957.7736 592.0001,-957.7735\"/>\n</g>\n<!-- 15 -->\n<g id=\"node16\" class=\"node\">\n<title>15</title>\n<path fill=\"#e7458d\" stroke=\"#000000\" d=\"M2436,-1253C2436,-1253 2183,-1253 2183,-1253 2177,-1253 2171,-1247 2171,-1241 2171,-1241 2171,-1201 2171,-1201 2171,-1195 2177,-1189 2183,-1189 2183,-1189 2436,-1189 2436,-1189 2442,-1189 2448,-1195 2448,-1201 2448,-1201 2448,-1241 2448,-1241 2448,-1247 2442,-1253 2436,-1253\"/>\n<text text-anchor=\"start\" x=\"2283\" y=\"-1238.8\" font-family=\"Helvetica,sans-Serif\" font-size=\"14.00\" fill=\"#000000\">X</text>\n<text text-anchor=\"start\" x=\"2293\" y=\"-1238.8\" font-family=\"Helvetica,sans-Serif\" baseline-shift=\"sub\" font-size=\"14.00\" fill=\"#000000\">1</text>\n<text text-anchor=\"start\" x=\"2300\" y=\"-1238.8\" font-family=\"Helvetica,sans-Serif\" font-size=\"14.00\" fill=\"#000000\"> ≤ 2.5</text>\n<text text-anchor=\"start\" x=\"2271.5\" y=\"-1224.8\" font-family=\"Helvetica,sans-Serif\" font-size=\"14.00\" fill=\"#000000\">gini = 0.109</text>\n<text text-anchor=\"start\" x=\"2257.5\" y=\"-1210.8\" font-family=\"Helvetica,sans-Serif\" font-size=\"14.00\" fill=\"#000000\">samples = 9118</text>\n<text text-anchor=\"start\" x=\"2179\" y=\"-1196.8\" font-family=\"Helvetica,sans-Serif\" font-size=\"14.00\" fill=\"#000000\">value = [0, 12, 77, 156, 184, 386, 13575]</text>\n</g>\n<!-- 14&#45;&gt;15 -->\n<g id=\"edge15\" class=\"edge\">\n<title>14&#45;&gt;15</title>\n<path fill=\"none\" stroke=\"#000000\" d=\"M2554.7878,-1288.9467C2516.5735,-1278.3611 2473.8922,-1266.538 2434.9824,-1255.7597\"/>\n<polygon fill=\"#000000\" stroke=\"#000000\" points=\"2435.7478,-1252.3399 2425.1763,-1253.0433 2433.879,-1259.0859 2435.7478,-1252.3399\"/>\n</g>\n<!-- 44 -->\n<g id=\"node45\" class=\"node\">\n<title>44</title>\n<path fill=\"#f5fef6\" stroke=\"#000000\" d=\"M3054,-1253C3054,-1253 2793,-1253 2793,-1253 2787,-1253 2781,-1247 2781,-1241 2781,-1241 2781,-1201 2781,-1201 2781,-1195 2787,-1189 2793,-1189 2793,-1189 3054,-1189 3054,-1189 3060,-1189 3066,-1195 3066,-1201 3066,-1201 3066,-1241 3066,-1241 3066,-1247 3060,-1253 3054,-1253\"/>\n<text text-anchor=\"start\" x=\"2897\" y=\"-1238.8\" font-family=\"Helvetica,sans-Serif\" font-size=\"14.00\" fill=\"#000000\">X</text>\n<text text-anchor=\"start\" x=\"2907\" y=\"-1238.8\" font-family=\"Helvetica,sans-Serif\" baseline-shift=\"sub\" font-size=\"14.00\" fill=\"#000000\">1</text>\n<text text-anchor=\"start\" x=\"2914\" y=\"-1238.8\" font-family=\"Helvetica,sans-Serif\" font-size=\"14.00\" fill=\"#000000\"> ≤ 5.0</text>\n<text text-anchor=\"start\" x=\"2885.5\" y=\"-1224.8\" font-family=\"Helvetica,sans-Serif\" font-size=\"14.00\" fill=\"#000000\">gini = 0.792</text>\n<text text-anchor=\"start\" x=\"2871.5\" y=\"-1210.8\" font-family=\"Helvetica,sans-Serif\" font-size=\"14.00\" fill=\"#000000\">samples = 1457</text>\n<text text-anchor=\"start\" x=\"2789\" y=\"-1196.8\" font-family=\"Helvetica,sans-Serif\" font-size=\"14.00\" fill=\"#000000\">value = [18, 143, 676, 584, 455, 266, 191]</text>\n</g>\n<!-- 14&#45;&gt;44 -->\n<g id=\"edge44\" class=\"edge\">\n<title>14&#45;&gt;44</title>\n<path fill=\"none\" stroke=\"#000000\" d=\"M2751.5947,-1288.9467C2777.5821,-1278.6751 2806.5171,-1267.2383 2833.1247,-1256.7214\"/>\n<polygon fill=\"#000000\" stroke=\"#000000\" points=\"2834.4171,-1259.9742 2842.4305,-1253.0433 2831.844,-1253.4642 2834.4171,-1259.9742\"/>\n</g>\n<!-- 16 -->\n<g id=\"node17\" class=\"node\">\n<title>16</title>\n<path fill=\"#e6448d\" stroke=\"#000000\" d=\"M1989,-1153C1989,-1153 1736,-1153 1736,-1153 1730,-1153 1724,-1147 1724,-1141 1724,-1141 1724,-1101 1724,-1101 1724,-1095 1730,-1089 1736,-1089 1736,-1089 1989,-1089 1989,-1089 1995,-1089 2001,-1095 2001,-1101 2001,-1101 2001,-1141 2001,-1141 2001,-1147 1995,-1153 1989,-1153\"/>\n<text text-anchor=\"start\" x=\"1836\" y=\"-1138.8\" font-family=\"Helvetica,sans-Serif\" font-size=\"14.00\" fill=\"#000000\">X</text>\n<text text-anchor=\"start\" x=\"1846\" y=\"-1138.8\" font-family=\"Helvetica,sans-Serif\" baseline-shift=\"sub\" font-size=\"14.00\" fill=\"#000000\">0</text>\n<text text-anchor=\"start\" x=\"1853\" y=\"-1138.8\" font-family=\"Helvetica,sans-Serif\" font-size=\"14.00\" fill=\"#000000\"> ≤ 1.5</text>\n<text text-anchor=\"start\" x=\"1824.5\" y=\"-1124.8\" font-family=\"Helvetica,sans-Serif\" font-size=\"14.00\" fill=\"#000000\">gini = 0.106</text>\n<text text-anchor=\"start\" x=\"1810.5\" y=\"-1110.8\" font-family=\"Helvetica,sans-Serif\" font-size=\"14.00\" fill=\"#000000\">samples = 9066</text>\n<text text-anchor=\"start\" x=\"1732\" y=\"-1096.8\" font-family=\"Helvetica,sans-Serif\" font-size=\"14.00\" fill=\"#000000\">value = [0, 12, 77, 153, 179, 366, 13512]</text>\n</g>\n<!-- 15&#45;&gt;16 -->\n<g id=\"edge16\" class=\"edge\">\n<title>15&#45;&gt;16</title>\n<path fill=\"none\" stroke=\"#000000\" d=\"M2170.8222,-1189.9759C2120.1287,-1178.6351 2062.599,-1165.7649 2011.0764,-1154.2386\"/>\n<polygon fill=\"#000000\" stroke=\"#000000\" points=\"2011.7159,-1150.7952 2001.193,-1152.0275 2010.1876,-1157.6263 2011.7159,-1150.7952\"/>\n</g>\n<!-- 39 -->\n<g id=\"node40\" class=\"node\">\n<title>39</title>\n<path fill=\"#ef87b6\" stroke=\"#000000\" d=\"M2394.5,-1153C2394.5,-1153 2224.5,-1153 2224.5,-1153 2218.5,-1153 2212.5,-1147 2212.5,-1141 2212.5,-1141 2212.5,-1101 2212.5,-1101 2212.5,-1095 2218.5,-1089 2224.5,-1089 2224.5,-1089 2394.5,-1089 2394.5,-1089 2400.5,-1089 2406.5,-1095 2406.5,-1101 2406.5,-1101 2406.5,-1141 2406.5,-1141 2406.5,-1147 2400.5,-1153 2394.5,-1153\"/>\n<text text-anchor=\"start\" x=\"2283\" y=\"-1138.8\" font-family=\"Helvetica,sans-Serif\" font-size=\"14.00\" fill=\"#000000\">X</text>\n<text text-anchor=\"start\" x=\"2293\" y=\"-1138.8\" font-family=\"Helvetica,sans-Serif\" baseline-shift=\"sub\" font-size=\"14.00\" fill=\"#000000\">0</text>\n<text text-anchor=\"start\" x=\"2300\" y=\"-1138.8\" font-family=\"Helvetica,sans-Serif\" font-size=\"14.00\" fill=\"#000000\"> ≤ 4.5</text>\n<text text-anchor=\"start\" x=\"2271.5\" y=\"-1124.8\" font-family=\"Helvetica,sans-Serif\" font-size=\"14.00\" fill=\"#000000\">gini = 0.468</text>\n<text text-anchor=\"start\" x=\"2265.5\" y=\"-1110.8\" font-family=\"Helvetica,sans-Serif\" font-size=\"14.00\" fill=\"#000000\">samples = 52</text>\n<text text-anchor=\"start\" x=\"2220.5\" y=\"-1096.8\" font-family=\"Helvetica,sans-Serif\" font-size=\"14.00\" fill=\"#000000\">value = [0, 0, 0, 3, 5, 20, 63]</text>\n</g>\n<!-- 15&#45;&gt;39 -->\n<g id=\"edge39\" class=\"edge\">\n<title>15&#45;&gt;39</title>\n<path fill=\"none\" stroke=\"#000000\" d=\"M2309.5,-1188.8089C2309.5,-1180.6906 2309.5,-1171.8517 2309.5,-1163.3186\"/>\n<polygon fill=\"#000000\" stroke=\"#000000\" points=\"2313.0001,-1163.1307 2309.5,-1153.1308 2306.0001,-1163.1308 2313.0001,-1163.1307\"/>\n</g>\n<!-- 17 -->\n<g id=\"node18\" class=\"node\">\n<title>17</title>\n<path fill=\"#e63f89\" stroke=\"#000000\" d=\"M1297,-1053C1297,-1053 1094,-1053 1094,-1053 1088,-1053 1082,-1047 1082,-1041 1082,-1041 1082,-1001 1082,-1001 1082,-995 1088,-989 1094,-989 1094,-989 1297,-989 1297,-989 1303,-989 1309,-995 1309,-1001 1309,-1001 1309,-1041 1309,-1041 1309,-1047 1303,-1053 1297,-1053\"/>\n<text text-anchor=\"start\" x=\"1169\" y=\"-1038.8\" font-family=\"Helvetica,sans-Serif\" font-size=\"14.00\" fill=\"#000000\">X</text>\n<text text-anchor=\"start\" x=\"1179\" y=\"-1038.8\" font-family=\"Helvetica,sans-Serif\" baseline-shift=\"sub\" font-size=\"14.00\" fill=\"#000000\">1</text>\n<text text-anchor=\"start\" x=\"1186\" y=\"-1038.8\" font-family=\"Helvetica,sans-Serif\" font-size=\"14.00\" fill=\"#000000\"> ≤ 1.5</text>\n<text text-anchor=\"start\" x=\"1157.5\" y=\"-1024.8\" font-family=\"Helvetica,sans-Serif\" font-size=\"14.00\" fill=\"#000000\">gini = 0.055</text>\n<text text-anchor=\"start\" x=\"1143.5\" y=\"-1010.8\" font-family=\"Helvetica,sans-Serif\" font-size=\"14.00\" fill=\"#000000\">samples = 1114</text>\n<text text-anchor=\"start\" x=\"1090\" y=\"-996.8\" font-family=\"Helvetica,sans-Serif\" font-size=\"14.00\" fill=\"#000000\">value = [0, 0, 0, 12, 14, 24, 1736]</text>\n</g>\n<!-- 16&#45;&gt;17 -->\n<g id=\"edge17\" class=\"edge\">\n<title>16&#45;&gt;17</title>\n<path fill=\"none\" stroke=\"#000000\" d=\"M1723.8922,-1100.2192C1604.4696,-1082.3148 1433.6827,-1056.7095 1318.9053,-1039.5015\"/>\n<polygon fill=\"#000000\" stroke=\"#000000\" points=\"1319.4234,-1036.0402 1309.0149,-1038.0187 1318.3854,-1042.9628 1319.4234,-1036.0402\"/>\n</g>\n<!-- 24 -->\n<g id=\"node25\" class=\"node\">\n<title>24</title>\n<path fill=\"#e7458d\" stroke=\"#000000\" d=\"M1989,-1053C1989,-1053 1736,-1053 1736,-1053 1730,-1053 1724,-1047 1724,-1041 1724,-1041 1724,-1001 1724,-1001 1724,-995 1730,-989 1736,-989 1736,-989 1989,-989 1989,-989 1995,-989 2001,-995 2001,-1001 2001,-1001 2001,-1041 2001,-1041 2001,-1047 1995,-1053 1989,-1053\"/>\n<text text-anchor=\"start\" x=\"1836\" y=\"-1038.8\" font-family=\"Helvetica,sans-Serif\" font-size=\"14.00\" fill=\"#000000\">X</text>\n<text text-anchor=\"start\" x=\"1846\" y=\"-1038.8\" font-family=\"Helvetica,sans-Serif\" baseline-shift=\"sub\" font-size=\"14.00\" fill=\"#000000\">0</text>\n<text text-anchor=\"start\" x=\"1853\" y=\"-1038.8\" font-family=\"Helvetica,sans-Serif\" font-size=\"14.00\" fill=\"#000000\"> ≤ 4.5</text>\n<text text-anchor=\"start\" x=\"1824.5\" y=\"-1024.8\" font-family=\"Helvetica,sans-Serif\" font-size=\"14.00\" fill=\"#000000\">gini = 0.113</text>\n<text text-anchor=\"start\" x=\"1810.5\" y=\"-1010.8\" font-family=\"Helvetica,sans-Serif\" font-size=\"14.00\" fill=\"#000000\">samples = 7952</text>\n<text text-anchor=\"start\" x=\"1732\" y=\"-996.8\" font-family=\"Helvetica,sans-Serif\" font-size=\"14.00\" fill=\"#000000\">value = [0, 12, 77, 141, 165, 342, 11776]</text>\n</g>\n<!-- 16&#45;&gt;24 -->\n<g id=\"edge24\" class=\"edge\">\n<title>16&#45;&gt;24</title>\n<path fill=\"none\" stroke=\"#000000\" d=\"M1862.5,-1088.8089C1862.5,-1080.6906 1862.5,-1071.8517 1862.5,-1063.3186\"/>\n<polygon fill=\"#000000\" stroke=\"#000000\" points=\"1866.0001,-1063.1307 1862.5,-1053.1308 1859.0001,-1063.1308 1866.0001,-1063.1307\"/>\n</g>\n<!-- 18 -->\n<g id=\"node19\" class=\"node\">\n<title>18</title>\n<path fill=\"#e63f8a\" stroke=\"#000000\" d=\"M927,-953C927,-953 724,-953 724,-953 718,-953 712,-947 712,-941 712,-941 712,-901 712,-901 712,-895 718,-889 724,-889 724,-889 927,-889 927,-889 933,-889 939,-895 939,-901 939,-901 939,-941 939,-941 939,-947 933,-953 927,-953\"/>\n<text text-anchor=\"start\" x=\"799\" y=\"-938.8\" font-family=\"Helvetica,sans-Serif\" font-size=\"14.00\" fill=\"#000000\">X</text>\n<text text-anchor=\"start\" x=\"809\" y=\"-938.8\" font-family=\"Helvetica,sans-Serif\" baseline-shift=\"sub\" font-size=\"14.00\" fill=\"#000000\">0</text>\n<text text-anchor=\"start\" x=\"816\" y=\"-938.8\" font-family=\"Helvetica,sans-Serif\" font-size=\"14.00\" fill=\"#000000\"> ≤ 0.5</text>\n<text text-anchor=\"start\" x=\"792\" y=\"-924.8\" font-family=\"Helvetica,sans-Serif\" font-size=\"14.00\" fill=\"#000000\">gini = 0.06</text>\n<text text-anchor=\"start\" x=\"777.5\" y=\"-910.8\" font-family=\"Helvetica,sans-Serif\" font-size=\"14.00\" fill=\"#000000\">samples = 976</text>\n<text text-anchor=\"start\" x=\"720\" y=\"-896.8\" font-family=\"Helvetica,sans-Serif\" font-size=\"14.00\" fill=\"#000000\">value = [0, 0, 0, 12, 14, 22, 1507]</text>\n</g>\n<!-- 17&#45;&gt;18 -->\n<g id=\"edge18\" class=\"edge\">\n<title>17&#45;&gt;18</title>\n<path fill=\"none\" stroke=\"#000000\" d=\"M1081.9733,-990.3171C1039.8088,-978.9213 991.791,-965.9435 948.7951,-954.323\"/>\n<polygon fill=\"#000000\" stroke=\"#000000\" points=\"949.6975,-950.9414 939.1306,-951.711 947.8711,-957.6989 949.6975,-950.9414\"/>\n</g>\n<!-- 21 -->\n<g id=\"node22\" class=\"node\">\n<title>21</title>\n<path fill=\"#e53b87\" stroke=\"#000000\" d=\"M1280.5,-953C1280.5,-953 1110.5,-953 1110.5,-953 1104.5,-953 1098.5,-947 1098.5,-941 1098.5,-941 1098.5,-901 1098.5,-901 1098.5,-895 1104.5,-889 1110.5,-889 1110.5,-889 1280.5,-889 1280.5,-889 1286.5,-889 1292.5,-895 1292.5,-901 1292.5,-901 1292.5,-941 1292.5,-941 1292.5,-947 1286.5,-953 1280.5,-953\"/>\n<text text-anchor=\"start\" x=\"1169\" y=\"-938.8\" font-family=\"Helvetica,sans-Serif\" font-size=\"14.00\" fill=\"#000000\">X</text>\n<text text-anchor=\"start\" x=\"1179\" y=\"-938.8\" font-family=\"Helvetica,sans-Serif\" baseline-shift=\"sub\" font-size=\"14.00\" fill=\"#000000\">0</text>\n<text text-anchor=\"start\" x=\"1186\" y=\"-938.8\" font-family=\"Helvetica,sans-Serif\" font-size=\"14.00\" fill=\"#000000\"> ≤ 0.5</text>\n<text text-anchor=\"start\" x=\"1157.5\" y=\"-924.8\" font-family=\"Helvetica,sans-Serif\" font-size=\"14.00\" fill=\"#000000\">gini = 0.017</text>\n<text text-anchor=\"start\" x=\"1147.5\" y=\"-910.8\" font-family=\"Helvetica,sans-Serif\" font-size=\"14.00\" fill=\"#000000\">samples = 138</text>\n<text text-anchor=\"start\" x=\"1106.5\" y=\"-896.8\" font-family=\"Helvetica,sans-Serif\" font-size=\"14.00\" fill=\"#000000\">value = [0, 0, 0, 0, 0, 2, 229]</text>\n</g>\n<!-- 17&#45;&gt;21 -->\n<g id=\"edge21\" class=\"edge\">\n<title>17&#45;&gt;21</title>\n<path fill=\"none\" stroke=\"#000000\" d=\"M1195.5,-988.8089C1195.5,-980.6906 1195.5,-971.8517 1195.5,-963.3186\"/>\n<polygon fill=\"#000000\" stroke=\"#000000\" points=\"1199.0001,-963.1307 1195.5,-953.1308 1192.0001,-963.1308 1199.0001,-963.1307\"/>\n</g>\n<!-- 19 -->\n<g id=\"node20\" class=\"node\">\n<title>19</title>\n<path fill=\"#e63d89\" stroke=\"#000000\" d=\"M659.5,-847.5C659.5,-847.5 489.5,-847.5 489.5,-847.5 483.5,-847.5 477.5,-841.5 477.5,-835.5 477.5,-835.5 477.5,-806.5 477.5,-806.5 477.5,-800.5 483.5,-794.5 489.5,-794.5 489.5,-794.5 659.5,-794.5 659.5,-794.5 665.5,-794.5 671.5,-800.5 671.5,-806.5 671.5,-806.5 671.5,-835.5 671.5,-835.5 671.5,-841.5 665.5,-847.5 659.5,-847.5\"/>\n<text text-anchor=\"start\" x=\"541\" y=\"-832.3\" font-family=\"Helvetica,sans-Serif\" font-size=\"14.00\" fill=\"#000000\">gini = 0.04</text>\n<text text-anchor=\"start\" x=\"526.5\" y=\"-817.3\" font-family=\"Helvetica,sans-Serif\" font-size=\"14.00\" fill=\"#000000\">samples = 262</text>\n<text text-anchor=\"start\" x=\"485.5\" y=\"-802.3\" font-family=\"Helvetica,sans-Serif\" font-size=\"14.00\" fill=\"#000000\">value = [0, 0, 0, 3, 1, 5, 430]</text>\n</g>\n<!-- 18&#45;&gt;19 -->\n<g id=\"edge19\" class=\"edge\">\n<title>18&#45;&gt;19</title>\n<path fill=\"none\" stroke=\"#000000\" d=\"M745.0463,-888.9467C714.7694,-876.8842 680.4595,-863.2149 650.5923,-851.3157\"/>\n<polygon fill=\"#000000\" stroke=\"#000000\" points=\"651.6473,-847.9685 641.062,-847.5187 649.0565,-854.4714 651.6473,-847.9685\"/>\n</g>\n<!-- 20 -->\n<g id=\"node21\" class=\"node\">\n<title>20</title>\n<path fill=\"#e6408a\" stroke=\"#000000\" d=\"M897,-847.5C897,-847.5 702,-847.5 702,-847.5 696,-847.5 690,-841.5 690,-835.5 690,-835.5 690,-806.5 690,-806.5 690,-800.5 696,-794.5 702,-794.5 702,-794.5 897,-794.5 897,-794.5 903,-794.5 909,-800.5 909,-806.5 909,-806.5 909,-835.5 909,-835.5 909,-841.5 903,-847.5 897,-847.5\"/>\n<text text-anchor=\"start\" x=\"761.5\" y=\"-832.3\" font-family=\"Helvetica,sans-Serif\" font-size=\"14.00\" fill=\"#000000\">gini = 0.068</text>\n<text text-anchor=\"start\" x=\"751.5\" y=\"-817.3\" font-family=\"Helvetica,sans-Serif\" font-size=\"14.00\" fill=\"#000000\">samples = 714</text>\n<text text-anchor=\"start\" x=\"698\" y=\"-802.3\" font-family=\"Helvetica,sans-Serif\" font-size=\"14.00\" fill=\"#000000\">value = [0, 0, 0, 9, 13, 17, 1077]</text>\n</g>\n<!-- 18&#45;&gt;20 -->\n<g id=\"edge20\" class=\"edge\">\n<title>18&#45;&gt;20</title>\n<path fill=\"none\" stroke=\"#000000\" d=\"M817.1303,-888.8089C814.5473,-878.8742 811.6837,-867.8605 809.0286,-857.6485\"/>\n<polygon fill=\"#000000\" stroke=\"#000000\" points=\"812.3649,-856.571 806.4611,-847.7735 805.5901,-858.3325 812.3649,-856.571\"/>\n</g>\n<!-- 22 -->\n<g id=\"node23\" class=\"node\">\n<title>22</title>\n<path fill=\"#e53986\" stroke=\"#000000\" d=\"M1093.5,-847.5C1093.5,-847.5 939.5,-847.5 939.5,-847.5 933.5,-847.5 927.5,-841.5 927.5,-835.5 927.5,-835.5 927.5,-806.5 927.5,-806.5 927.5,-800.5 933.5,-794.5 939.5,-794.5 939.5,-794.5 1093.5,-794.5 1093.5,-794.5 1099.5,-794.5 1105.5,-800.5 1105.5,-806.5 1105.5,-806.5 1105.5,-835.5 1105.5,-835.5 1105.5,-841.5 1099.5,-847.5 1093.5,-847.5\"/>\n<text text-anchor=\"start\" x=\"987\" y=\"-832.3\" font-family=\"Helvetica,sans-Serif\" font-size=\"14.00\" fill=\"#000000\">gini = 0.0</text>\n<text text-anchor=\"start\" x=\"977\" y=\"-817.3\" font-family=\"Helvetica,sans-Serif\" font-size=\"14.00\" fill=\"#000000\">samples = 1</text>\n<text text-anchor=\"start\" x=\"935.5\" y=\"-802.3\" font-family=\"Helvetica,sans-Serif\" font-size=\"14.00\" fill=\"#000000\">value = [0, 0, 0, 0, 0, 0, 2]</text>\n</g>\n<!-- 21&#45;&gt;22 -->\n<g id=\"edge22\" class=\"edge\">\n<title>21&#45;&gt;22</title>\n<path fill=\"none\" stroke=\"#000000\" d=\"M1137.878,-888.8089C1117.1346,-877.2204 1093.7632,-864.1638 1073.1071,-852.6241\"/>\n<polygon fill=\"#000000\" stroke=\"#000000\" points=\"1074.5697,-849.4321 1064.1326,-847.6104 1071.1557,-855.5431 1074.5697,-849.4321\"/>\n</g>\n<!-- 23 -->\n<g id=\"node24\" class=\"node\">\n<title>23</title>\n<path fill=\"#e53b87\" stroke=\"#000000\" d=\"M1305.5,-847.5C1305.5,-847.5 1135.5,-847.5 1135.5,-847.5 1129.5,-847.5 1123.5,-841.5 1123.5,-835.5 1123.5,-835.5 1123.5,-806.5 1123.5,-806.5 1123.5,-800.5 1129.5,-794.5 1135.5,-794.5 1135.5,-794.5 1305.5,-794.5 1305.5,-794.5 1311.5,-794.5 1317.5,-800.5 1317.5,-806.5 1317.5,-806.5 1317.5,-835.5 1317.5,-835.5 1317.5,-841.5 1311.5,-847.5 1305.5,-847.5\"/>\n<text text-anchor=\"start\" x=\"1182.5\" y=\"-832.3\" font-family=\"Helvetica,sans-Serif\" font-size=\"14.00\" fill=\"#000000\">gini = 0.017</text>\n<text text-anchor=\"start\" x=\"1172.5\" y=\"-817.3\" font-family=\"Helvetica,sans-Serif\" font-size=\"14.00\" fill=\"#000000\">samples = 137</text>\n<text text-anchor=\"start\" x=\"1131.5\" y=\"-802.3\" font-family=\"Helvetica,sans-Serif\" font-size=\"14.00\" fill=\"#000000\">value = [0, 0, 0, 0, 0, 2, 227]</text>\n</g>\n<!-- 21&#45;&gt;23 -->\n<g id=\"edge23\" class=\"edge\">\n<title>21&#45;&gt;23</title>\n<path fill=\"none\" stroke=\"#000000\" d=\"M1203.5478,-888.8089C1206.0314,-878.8742 1208.7849,-867.8605 1211.3379,-857.6485\"/>\n<polygon fill=\"#000000\" stroke=\"#000000\" points=\"1214.7767,-858.3238 1213.8066,-847.7735 1207.9857,-856.626 1214.7767,-858.3238\"/>\n</g>\n<!-- 25 -->\n<g id=\"node26\" class=\"node\">\n<title>25</title>\n<path fill=\"#e7458e\" stroke=\"#000000\" d=\"M1772,-953C1772,-953 1527,-953 1527,-953 1521,-953 1515,-947 1515,-941 1515,-941 1515,-901 1515,-901 1515,-895 1521,-889 1527,-889 1527,-889 1772,-889 1772,-889 1778,-889 1784,-895 1784,-901 1784,-901 1784,-941 1784,-941 1784,-947 1778,-953 1772,-953\"/>\n<text text-anchor=\"start\" x=\"1623\" y=\"-938.8\" font-family=\"Helvetica,sans-Serif\" font-size=\"14.00\" fill=\"#000000\">X</text>\n<text text-anchor=\"start\" x=\"1633\" y=\"-938.8\" font-family=\"Helvetica,sans-Serif\" baseline-shift=\"sub\" font-size=\"14.00\" fill=\"#000000\">1</text>\n<text text-anchor=\"start\" x=\"1640\" y=\"-938.8\" font-family=\"Helvetica,sans-Serif\" font-size=\"14.00\" fill=\"#000000\"> ≤ 1.5</text>\n<text text-anchor=\"start\" x=\"1611.5\" y=\"-924.8\" font-family=\"Helvetica,sans-Serif\" font-size=\"14.00\" fill=\"#000000\">gini = 0.116</text>\n<text text-anchor=\"start\" x=\"1597.5\" y=\"-910.8\" font-family=\"Helvetica,sans-Serif\" font-size=\"14.00\" fill=\"#000000\">samples = 6565</text>\n<text text-anchor=\"start\" x=\"1523\" y=\"-896.8\" font-family=\"Helvetica,sans-Serif\" font-size=\"14.00\" fill=\"#000000\">value = [0, 11, 57, 108, 143, 309, 9732]</text>\n</g>\n<!-- 24&#45;&gt;25 -->\n<g id=\"edge25\" class=\"edge\">\n<title>24&#45;&gt;25</title>\n<path fill=\"none\" stroke=\"#000000\" d=\"M1794.2266,-988.9467C1772.8256,-978.8993 1749.0501,-967.7372 1727.0567,-957.4116\"/>\n<polygon fill=\"#000000\" stroke=\"#000000\" points=\"1728.2917,-954.1249 1717.7522,-953.0433 1725.3168,-960.4614 1728.2917,-954.1249\"/>\n</g>\n<!-- 36 -->\n<g id=\"node37\" class=\"node\">\n<title>36</title>\n<path fill=\"#e6438c\" stroke=\"#000000\" d=\"M2026.5,-953C2026.5,-953 1814.5,-953 1814.5,-953 1808.5,-953 1802.5,-947 1802.5,-941 1802.5,-941 1802.5,-901 1802.5,-901 1802.5,-895 1808.5,-889 1814.5,-889 1814.5,-889 2026.5,-889 2026.5,-889 2032.5,-889 2038.5,-895 2038.5,-901 2038.5,-901 2038.5,-941 2038.5,-941 2038.5,-947 2032.5,-953 2026.5,-953\"/>\n<text text-anchor=\"start\" x=\"1894\" y=\"-938.8\" font-family=\"Helvetica,sans-Serif\" font-size=\"14.00\" fill=\"#000000\">X</text>\n<text text-anchor=\"start\" x=\"1904\" y=\"-938.8\" font-family=\"Helvetica,sans-Serif\" baseline-shift=\"sub\" font-size=\"14.00\" fill=\"#000000\">1</text>\n<text text-anchor=\"start\" x=\"1911\" y=\"-938.8\" font-family=\"Helvetica,sans-Serif\" font-size=\"14.00\" fill=\"#000000\"> ≤ 1.5</text>\n<text text-anchor=\"start\" x=\"1882.5\" y=\"-924.8\" font-family=\"Helvetica,sans-Serif\" font-size=\"14.00\" fill=\"#000000\">gini = 0.098</text>\n<text text-anchor=\"start\" x=\"1868.5\" y=\"-910.8\" font-family=\"Helvetica,sans-Serif\" font-size=\"14.00\" fill=\"#000000\">samples = 1387</text>\n<text text-anchor=\"start\" x=\"1810.5\" y=\"-896.8\" font-family=\"Helvetica,sans-Serif\" font-size=\"14.00\" fill=\"#000000\">value = [0, 1, 20, 33, 22, 33, 2044]</text>\n</g>\n<!-- 24&#45;&gt;36 -->\n<g id=\"edge36\" class=\"edge\">\n<title>24&#45;&gt;36</title>\n<path fill=\"none\" stroke=\"#000000\" d=\"M1881.1708,-988.8089C1886.1382,-980.2445 1891.5706,-970.8782 1896.7693,-961.915\"/>\n<polygon fill=\"#000000\" stroke=\"#000000\" points=\"1899.8745,-963.5371 1901.8642,-953.1308 1893.8193,-960.0251 1899.8745,-963.5371\"/>\n</g>\n<!-- 26 -->\n<g id=\"node27\" class=\"node\">\n<title>26</title>\n<path fill=\"#e7458d\" stroke=\"#000000\" d=\"M1583.5,-853C1583.5,-853 1347.5,-853 1347.5,-853 1341.5,-853 1335.5,-847 1335.5,-841 1335.5,-841 1335.5,-801 1335.5,-801 1335.5,-795 1341.5,-789 1347.5,-789 1347.5,-789 1583.5,-789 1583.5,-789 1589.5,-789 1595.5,-795 1595.5,-801 1595.5,-801 1595.5,-841 1595.5,-841 1595.5,-847 1589.5,-853 1583.5,-853\"/>\n<text text-anchor=\"start\" x=\"1439\" y=\"-838.8\" font-family=\"Helvetica,sans-Serif\" font-size=\"14.00\" fill=\"#000000\">X</text>\n<text text-anchor=\"start\" x=\"1449\" y=\"-838.8\" font-family=\"Helvetica,sans-Serif\" baseline-shift=\"sub\" font-size=\"14.00\" fill=\"#000000\">0</text>\n<text text-anchor=\"start\" x=\"1456\" y=\"-838.8\" font-family=\"Helvetica,sans-Serif\" font-size=\"14.00\" fill=\"#000000\"> ≤ 2.5</text>\n<text text-anchor=\"start\" x=\"1427.5\" y=\"-824.8\" font-family=\"Helvetica,sans-Serif\" font-size=\"14.00\" fill=\"#000000\">gini = 0.112</text>\n<text text-anchor=\"start\" x=\"1413.5\" y=\"-810.8\" font-family=\"Helvetica,sans-Serif\" font-size=\"14.00\" fill=\"#000000\">samples = 5686</text>\n<text text-anchor=\"start\" x=\"1343.5\" y=\"-796.8\" font-family=\"Helvetica,sans-Serif\" font-size=\"14.00\" fill=\"#000000\">value = [0, 11, 57, 96, 120, 236, 8451]</text>\n</g>\n<!-- 25&#45;&gt;26 -->\n<g id=\"edge26\" class=\"edge\">\n<title>25&#45;&gt;26</title>\n<path fill=\"none\" stroke=\"#000000\" d=\"M1590.522,-888.9467C1572.2824,-879.0339 1552.0461,-868.0359 1533.2615,-857.8269\"/>\n<polygon fill=\"#000000\" stroke=\"#000000\" points=\"1534.9172,-854.7433 1524.4597,-853.0433 1531.5746,-860.8937 1534.9172,-854.7433\"/>\n</g>\n<!-- 31 -->\n<g id=\"node32\" class=\"node\">\n<title>31</title>\n<path fill=\"#e74990\" stroke=\"#000000\" d=\"M1829,-853C1829,-853 1626,-853 1626,-853 1620,-853 1614,-847 1614,-841 1614,-841 1614,-801 1614,-801 1614,-795 1620,-789 1626,-789 1626,-789 1829,-789 1829,-789 1835,-789 1841,-795 1841,-801 1841,-801 1841,-841 1841,-841 1841,-847 1835,-853 1829,-853\"/>\n<text text-anchor=\"start\" x=\"1701\" y=\"-838.8\" font-family=\"Helvetica,sans-Serif\" font-size=\"14.00\" fill=\"#000000\">X</text>\n<text text-anchor=\"start\" x=\"1711\" y=\"-838.8\" font-family=\"Helvetica,sans-Serif\" baseline-shift=\"sub\" font-size=\"14.00\" fill=\"#000000\">0</text>\n<text text-anchor=\"start\" x=\"1718\" y=\"-838.8\" font-family=\"Helvetica,sans-Serif\" font-size=\"14.00\" fill=\"#000000\"> ≤ 2.5</text>\n<text text-anchor=\"start\" x=\"1689.5\" y=\"-824.8\" font-family=\"Helvetica,sans-Serif\" font-size=\"14.00\" fill=\"#000000\">gini = 0.146</text>\n<text text-anchor=\"start\" x=\"1679.5\" y=\"-810.8\" font-family=\"Helvetica,sans-Serif\" font-size=\"14.00\" fill=\"#000000\">samples = 879</text>\n<text text-anchor=\"start\" x=\"1622\" y=\"-796.8\" font-family=\"Helvetica,sans-Serif\" font-size=\"14.00\" fill=\"#000000\">value = [0, 0, 0, 12, 23, 73, 1281]</text>\n</g>\n<!-- 25&#45;&gt;31 -->\n<g id=\"edge31\" class=\"edge\">\n<title>25&#45;&gt;31</title>\n<path fill=\"none\" stroke=\"#000000\" d=\"M1674.609,-888.8089C1681.498,-879.9769 1689.0522,-870.2921 1696.2408,-861.0759\"/>\n<polygon fill=\"#000000\" stroke=\"#000000\" points=\"1699.0474,-863.1684 1702.438,-853.1308 1693.5279,-858.8632 1699.0474,-863.1684\"/>\n</g>\n<!-- 27 -->\n<g id=\"node28\" class=\"node\">\n<title>27</title>\n<path fill=\"#e6418b\" stroke=\"#000000\" d=\"M1309,-747.5C1309,-747.5 1130,-747.5 1130,-747.5 1124,-747.5 1118,-741.5 1118,-735.5 1118,-735.5 1118,-706.5 1118,-706.5 1118,-700.5 1124,-694.5 1130,-694.5 1130,-694.5 1309,-694.5 1309,-694.5 1315,-694.5 1321,-700.5 1321,-706.5 1321,-706.5 1321,-735.5 1321,-735.5 1321,-741.5 1315,-747.5 1309,-747.5\"/>\n<text text-anchor=\"start\" x=\"1181.5\" y=\"-732.3\" font-family=\"Helvetica,sans-Serif\" font-size=\"14.00\" fill=\"#000000\">gini = 0.076</text>\n<text text-anchor=\"start\" x=\"1171.5\" y=\"-717.3\" font-family=\"Helvetica,sans-Serif\" font-size=\"14.00\" fill=\"#000000\">samples = 443</text>\n<text text-anchor=\"start\" x=\"1126\" y=\"-702.3\" font-family=\"Helvetica,sans-Serif\" font-size=\"14.00\" fill=\"#000000\">value = [0, 0, 7, 15, 2, 3, 667]</text>\n</g>\n<!-- 26&#45;&gt;27 -->\n<g id=\"edge27\" class=\"edge\">\n<title>26&#45;&gt;27</title>\n<path fill=\"none\" stroke=\"#000000\" d=\"M1386.649,-788.9467C1356.9752,-776.8842 1323.3488,-763.2149 1294.0765,-751.3157\"/>\n<polygon fill=\"#000000\" stroke=\"#000000\" points=\"1295.318,-748.0422 1284.7361,-747.5187 1292.6819,-754.5269 1295.318,-748.0422\"/>\n</g>\n<!-- 28 -->\n<g id=\"node29\" class=\"node\">\n<title>28</title>\n<path fill=\"#e7458d\" stroke=\"#000000\" d=\"M1587.5,-753C1587.5,-753 1351.5,-753 1351.5,-753 1345.5,-753 1339.5,-747 1339.5,-741 1339.5,-741 1339.5,-701 1339.5,-701 1339.5,-695 1345.5,-689 1351.5,-689 1351.5,-689 1587.5,-689 1587.5,-689 1593.5,-689 1599.5,-695 1599.5,-701 1599.5,-701 1599.5,-741 1599.5,-741 1599.5,-747 1593.5,-753 1587.5,-753\"/>\n<text text-anchor=\"start\" x=\"1443\" y=\"-738.8\" font-family=\"Helvetica,sans-Serif\" font-size=\"14.00\" fill=\"#000000\">X</text>\n<text text-anchor=\"start\" x=\"1453\" y=\"-738.8\" font-family=\"Helvetica,sans-Serif\" baseline-shift=\"sub\" font-size=\"14.00\" fill=\"#000000\">0</text>\n<text text-anchor=\"start\" x=\"1460\" y=\"-738.8\" font-family=\"Helvetica,sans-Serif\" font-size=\"14.00\" fill=\"#000000\"> ≤ 3.5</text>\n<text text-anchor=\"start\" x=\"1431.5\" y=\"-724.8\" font-family=\"Helvetica,sans-Serif\" font-size=\"14.00\" fill=\"#000000\">gini = 0.114</text>\n<text text-anchor=\"start\" x=\"1417.5\" y=\"-710.8\" font-family=\"Helvetica,sans-Serif\" font-size=\"14.00\" fill=\"#000000\">samples = 5243</text>\n<text text-anchor=\"start\" x=\"1347.5\" y=\"-696.8\" font-family=\"Helvetica,sans-Serif\" font-size=\"14.00\" fill=\"#000000\">value = [0, 11, 50, 81, 118, 233, 7784]</text>\n</g>\n<!-- 26&#45;&gt;28 -->\n<g id=\"edge28\" class=\"edge\">\n<title>26&#45;&gt;28</title>\n<path fill=\"none\" stroke=\"#000000\" d=\"M1466.7876,-788.8089C1467.1124,-780.6906 1467.4659,-771.8517 1467.8073,-763.3186\"/>\n<polygon fill=\"#000000\" stroke=\"#000000\" points=\"1471.3122,-763.2627 1468.2148,-753.1308 1464.3178,-762.9828 1471.3122,-763.2627\"/>\n</g>\n<!-- 29 -->\n<g id=\"node30\" class=\"node\">\n<title>29</title>\n<path fill=\"#e6448d\" stroke=\"#000000\" d=\"M1546.5,-647.5C1546.5,-647.5 1376.5,-647.5 1376.5,-647.5 1370.5,-647.5 1364.5,-641.5 1364.5,-635.5 1364.5,-635.5 1364.5,-606.5 1364.5,-606.5 1364.5,-600.5 1370.5,-594.5 1376.5,-594.5 1376.5,-594.5 1546.5,-594.5 1546.5,-594.5 1552.5,-594.5 1558.5,-600.5 1558.5,-606.5 1558.5,-606.5 1558.5,-635.5 1558.5,-635.5 1558.5,-641.5 1552.5,-647.5 1546.5,-647.5\"/>\n<text text-anchor=\"start\" x=\"1423.5\" y=\"-632.3\" font-family=\"Helvetica,sans-Serif\" font-size=\"14.00\" fill=\"#000000\">gini = 0.106</text>\n<text text-anchor=\"start\" x=\"1413.5\" y=\"-617.3\" font-family=\"Helvetica,sans-Serif\" font-size=\"14.00\" fill=\"#000000\">samples = 177</text>\n<text text-anchor=\"start\" x=\"1372.5\" y=\"-602.3\" font-family=\"Helvetica,sans-Serif\" font-size=\"14.00\" fill=\"#000000\">value = [0, 3, 0, 2, 3, 7, 258]</text>\n</g>\n<!-- 28&#45;&gt;29 -->\n<g id=\"edge29\" class=\"edge\">\n<title>28&#45;&gt;29</title>\n<path fill=\"none\" stroke=\"#000000\" d=\"M1466.9247,-688.8089C1466.1382,-678.9777 1465.2672,-668.0898 1464.4574,-657.9679\"/>\n<polygon fill=\"#000000\" stroke=\"#000000\" points=\"1467.9283,-657.4625 1463.6419,-647.7735 1460.9506,-658.0208 1467.9283,-657.4625\"/>\n</g>\n<!-- 30 -->\n<g id=\"node31\" class=\"node\">\n<title>30</title>\n<path fill=\"#e7458d\" stroke=\"#000000\" d=\"M1816.5,-647.5C1816.5,-647.5 1588.5,-647.5 1588.5,-647.5 1582.5,-647.5 1576.5,-641.5 1576.5,-635.5 1576.5,-635.5 1576.5,-606.5 1576.5,-606.5 1576.5,-600.5 1582.5,-594.5 1588.5,-594.5 1588.5,-594.5 1816.5,-594.5 1816.5,-594.5 1822.5,-594.5 1828.5,-600.5 1828.5,-606.5 1828.5,-606.5 1828.5,-635.5 1828.5,-635.5 1828.5,-641.5 1822.5,-647.5 1816.5,-647.5\"/>\n<text text-anchor=\"start\" x=\"1664.5\" y=\"-632.3\" font-family=\"Helvetica,sans-Serif\" font-size=\"14.00\" fill=\"#000000\">gini = 0.115</text>\n<text text-anchor=\"start\" x=\"1650.5\" y=\"-617.3\" font-family=\"Helvetica,sans-Serif\" font-size=\"14.00\" fill=\"#000000\">samples = 5066</text>\n<text text-anchor=\"start\" x=\"1584.5\" y=\"-602.3\" font-family=\"Helvetica,sans-Serif\" font-size=\"14.00\" fill=\"#000000\">value = [0, 8, 50, 79, 115, 226, 7526]</text>\n</g>\n<!-- 28&#45;&gt;30 -->\n<g id=\"edge30\" class=\"edge\">\n<title>28&#45;&gt;30</title>\n<path fill=\"none\" stroke=\"#000000\" d=\"M1544.1841,-688.9467C1572.1681,-676.9365 1603.8635,-663.3333 1631.5042,-651.4703\"/>\n<polygon fill=\"#000000\" stroke=\"#000000\" points=\"1632.9024,-654.679 1640.7114,-647.5187 1630.1415,-648.2464 1632.9024,-654.679\"/>\n</g>\n<!-- 32 -->\n<g id=\"node33\" class=\"node\">\n<title>32</title>\n<path fill=\"#e95497\" stroke=\"#000000\" d=\"M1802.5,-747.5C1802.5,-747.5 1640.5,-747.5 1640.5,-747.5 1634.5,-747.5 1628.5,-741.5 1628.5,-735.5 1628.5,-735.5 1628.5,-706.5 1628.5,-706.5 1628.5,-700.5 1634.5,-694.5 1640.5,-694.5 1640.5,-694.5 1802.5,-694.5 1802.5,-694.5 1808.5,-694.5 1814.5,-700.5 1814.5,-706.5 1814.5,-706.5 1814.5,-735.5 1814.5,-735.5 1814.5,-741.5 1808.5,-747.5 1802.5,-747.5\"/>\n<text text-anchor=\"start\" x=\"1683.5\" y=\"-732.3\" font-family=\"Helvetica,sans-Serif\" font-size=\"14.00\" fill=\"#000000\">gini = 0.237</text>\n<text text-anchor=\"start\" x=\"1677.5\" y=\"-717.3\" font-family=\"Helvetica,sans-Serif\" font-size=\"14.00\" fill=\"#000000\">samples = 65</text>\n<text text-anchor=\"start\" x=\"1636.5\" y=\"-702.3\" font-family=\"Helvetica,sans-Serif\" font-size=\"14.00\" fill=\"#000000\">value = [0, 0, 0, 2, 6, 5, 87]</text>\n</g>\n<!-- 31&#45;&gt;32 -->\n<g id=\"edge32\" class=\"edge\">\n<title>31&#45;&gt;32</title>\n<path fill=\"none\" stroke=\"#000000\" d=\"M1725.5685,-788.8089C1724.9787,-778.9777 1724.3254,-768.0898 1723.7181,-757.9679\"/>\n<polygon fill=\"#000000\" stroke=\"#000000\" points=\"1727.1991,-757.5459 1723.1064,-747.7735 1720.2117,-757.9652 1727.1991,-757.5459\"/>\n</g>\n<!-- 33 -->\n<g id=\"node34\" class=\"node\">\n<title>33</title>\n<path fill=\"#e7488f\" stroke=\"#000000\" d=\"M2048,-753C2048,-753 1845,-753 1845,-753 1839,-753 1833,-747 1833,-741 1833,-741 1833,-701 1833,-701 1833,-695 1839,-689 1845,-689 1845,-689 2048,-689 2048,-689 2054,-689 2060,-695 2060,-701 2060,-701 2060,-741 2060,-741 2060,-747 2054,-753 2048,-753\"/>\n<text text-anchor=\"start\" x=\"1920\" y=\"-738.8\" font-family=\"Helvetica,sans-Serif\" font-size=\"14.00\" fill=\"#000000\">X</text>\n<text text-anchor=\"start\" x=\"1930\" y=\"-738.8\" font-family=\"Helvetica,sans-Serif\" baseline-shift=\"sub\" font-size=\"14.00\" fill=\"#000000\">0</text>\n<text text-anchor=\"start\" x=\"1937\" y=\"-738.8\" font-family=\"Helvetica,sans-Serif\" font-size=\"14.00\" fill=\"#000000\"> ≤ 3.5</text>\n<text text-anchor=\"start\" x=\"1908.5\" y=\"-724.8\" font-family=\"Helvetica,sans-Serif\" font-size=\"14.00\" fill=\"#000000\">gini = 0.139</text>\n<text text-anchor=\"start\" x=\"1898.5\" y=\"-710.8\" font-family=\"Helvetica,sans-Serif\" font-size=\"14.00\" fill=\"#000000\">samples = 814</text>\n<text text-anchor=\"start\" x=\"1841\" y=\"-696.8\" font-family=\"Helvetica,sans-Serif\" font-size=\"14.00\" fill=\"#000000\">value = [0, 0, 0, 10, 17, 68, 1194]</text>\n</g>\n<!-- 31&#45;&gt;33 -->\n<g id=\"edge33\" class=\"edge\">\n<title>31&#45;&gt;33</title>\n<path fill=\"none\" stroke=\"#000000\" d=\"M1797.6966,-788.9467C1819.7987,-778.8545 1844.3639,-767.6375 1867.0613,-757.2734\"/>\n<polygon fill=\"#000000\" stroke=\"#000000\" points=\"1868.6824,-760.3808 1876.3252,-753.0433 1865.7748,-754.0132 1868.6824,-760.3808\"/>\n</g>\n<!-- 34 -->\n<g id=\"node35\" class=\"node\">\n<title>34</title>\n<path fill=\"#e53986\" stroke=\"#000000\" d=\"M2024.5,-647.5C2024.5,-647.5 1862.5,-647.5 1862.5,-647.5 1856.5,-647.5 1850.5,-641.5 1850.5,-635.5 1850.5,-635.5 1850.5,-606.5 1850.5,-606.5 1850.5,-600.5 1856.5,-594.5 1862.5,-594.5 1862.5,-594.5 2024.5,-594.5 2024.5,-594.5 2030.5,-594.5 2036.5,-600.5 2036.5,-606.5 2036.5,-606.5 2036.5,-635.5 2036.5,-635.5 2036.5,-641.5 2030.5,-647.5 2024.5,-647.5\"/>\n<text text-anchor=\"start\" x=\"1914\" y=\"-632.3\" font-family=\"Helvetica,sans-Serif\" font-size=\"14.00\" fill=\"#000000\">gini = 0.0</text>\n<text text-anchor=\"start\" x=\"1899.5\" y=\"-617.3\" font-family=\"Helvetica,sans-Serif\" font-size=\"14.00\" fill=\"#000000\">samples = 22</text>\n<text text-anchor=\"start\" x=\"1858.5\" y=\"-602.3\" font-family=\"Helvetica,sans-Serif\" font-size=\"14.00\" fill=\"#000000\">value = [0, 0, 0, 0, 0, 0, 31]</text>\n</g>\n<!-- 33&#45;&gt;34 -->\n<g id=\"edge34\" class=\"edge\">\n<title>33&#45;&gt;34</title>\n<path fill=\"none\" stroke=\"#000000\" d=\"M1945.5343,-688.8089C1945.2393,-678.9777 1944.9127,-668.0898 1944.609,-657.9679\"/>\n<polygon fill=\"#000000\" stroke=\"#000000\" points=\"1948.1016,-657.664 1944.3032,-647.7735 1941.1047,-657.874 1948.1016,-657.664\"/>\n</g>\n<!-- 35 -->\n<g id=\"node36\" class=\"node\">\n<title>35</title>\n<path fill=\"#e74990\" stroke=\"#000000\" d=\"M2270,-647.5C2270,-647.5 2067,-647.5 2067,-647.5 2061,-647.5 2055,-641.5 2055,-635.5 2055,-635.5 2055,-606.5 2055,-606.5 2055,-600.5 2061,-594.5 2067,-594.5 2067,-594.5 2270,-594.5 2270,-594.5 2276,-594.5 2282,-600.5 2282,-606.5 2282,-606.5 2282,-635.5 2282,-635.5 2282,-641.5 2276,-647.5 2270,-647.5\"/>\n<text text-anchor=\"start\" x=\"2130.5\" y=\"-632.3\" font-family=\"Helvetica,sans-Serif\" font-size=\"14.00\" fill=\"#000000\">gini = 0.142</text>\n<text text-anchor=\"start\" x=\"2120.5\" y=\"-617.3\" font-family=\"Helvetica,sans-Serif\" font-size=\"14.00\" fill=\"#000000\">samples = 792</text>\n<text text-anchor=\"start\" x=\"2063\" y=\"-602.3\" font-family=\"Helvetica,sans-Serif\" font-size=\"14.00\" fill=\"#000000\">value = [0, 0, 0, 10, 17, 68, 1163]</text>\n</g>\n<!-- 33&#45;&gt;35 -->\n<g id=\"edge35\" class=\"edge\">\n<title>33&#45;&gt;35</title>\n<path fill=\"none\" stroke=\"#000000\" d=\"M2017.6582,-688.9467C2044.0892,-677.0409 2073.9952,-663.5697 2100.1681,-651.7802\"/>\n<polygon fill=\"#000000\" stroke=\"#000000\" points=\"2101.9482,-654.817 2109.6284,-647.5187 2099.0732,-648.4347 2101.9482,-654.817\"/>\n</g>\n<!-- 37 -->\n<g id=\"node38\" class=\"node\">\n<title>37</title>\n<path fill=\"#e6448c\" stroke=\"#000000\" d=\"M2083.5,-847.5C2083.5,-847.5 1871.5,-847.5 1871.5,-847.5 1865.5,-847.5 1859.5,-841.5 1859.5,-835.5 1859.5,-835.5 1859.5,-806.5 1859.5,-806.5 1859.5,-800.5 1865.5,-794.5 1871.5,-794.5 1871.5,-794.5 2083.5,-794.5 2083.5,-794.5 2089.5,-794.5 2095.5,-800.5 2095.5,-806.5 2095.5,-806.5 2095.5,-835.5 2095.5,-835.5 2095.5,-841.5 2089.5,-847.5 2083.5,-847.5\"/>\n<text text-anchor=\"start\" x=\"1939.5\" y=\"-832.3\" font-family=\"Helvetica,sans-Serif\" font-size=\"14.00\" fill=\"#000000\">gini = 0.101</text>\n<text text-anchor=\"start\" x=\"1925.5\" y=\"-817.3\" font-family=\"Helvetica,sans-Serif\" font-size=\"14.00\" fill=\"#000000\">samples = 1270</text>\n<text text-anchor=\"start\" x=\"1867.5\" y=\"-802.3\" font-family=\"Helvetica,sans-Serif\" font-size=\"14.00\" fill=\"#000000\">value = [0, 1, 20, 33, 22, 27, 1863]</text>\n</g>\n<!-- 36&#45;&gt;37 -->\n<g id=\"edge37\" class=\"edge\">\n<title>36&#45;&gt;37</title>\n<path fill=\"none\" stroke=\"#000000\" d=\"M1938.8489,-888.8089C1944.6887,-878.5638 1951.1825,-867.1711 1957.1547,-856.6936\"/>\n<polygon fill=\"#000000\" stroke=\"#000000\" points=\"1960.3277,-858.1945 1962.2391,-847.7735 1954.2463,-854.7281 1960.3277,-858.1945\"/>\n</g>\n<!-- 38 -->\n<g id=\"node39\" class=\"node\">\n<title>38</title>\n<path fill=\"#e6408a\" stroke=\"#000000\" d=\"M2295.5,-847.5C2295.5,-847.5 2125.5,-847.5 2125.5,-847.5 2119.5,-847.5 2113.5,-841.5 2113.5,-835.5 2113.5,-835.5 2113.5,-806.5 2113.5,-806.5 2113.5,-800.5 2119.5,-794.5 2125.5,-794.5 2125.5,-794.5 2295.5,-794.5 2295.5,-794.5 2301.5,-794.5 2307.5,-800.5 2307.5,-806.5 2307.5,-806.5 2307.5,-835.5 2307.5,-835.5 2307.5,-841.5 2301.5,-847.5 2295.5,-847.5\"/>\n<text text-anchor=\"start\" x=\"2172.5\" y=\"-832.3\" font-family=\"Helvetica,sans-Serif\" font-size=\"14.00\" fill=\"#000000\">gini = 0.062</text>\n<text text-anchor=\"start\" x=\"2162.5\" y=\"-817.3\" font-family=\"Helvetica,sans-Serif\" font-size=\"14.00\" fill=\"#000000\">samples = 117</text>\n<text text-anchor=\"start\" x=\"2121.5\" y=\"-802.3\" font-family=\"Helvetica,sans-Serif\" font-size=\"14.00\" fill=\"#000000\">value = [0, 0, 0, 0, 0, 6, 181]</text>\n</g>\n<!-- 36&#45;&gt;38 -->\n<g id=\"edge38\" class=\"edge\">\n<title>36&#45;&gt;38</title>\n<path fill=\"none\" stroke=\"#000000\" d=\"M2013.4544,-888.9467C2048.89,-876.7276 2089.1071,-862.8596 2123.9264,-850.853\"/>\n<polygon fill=\"#000000\" stroke=\"#000000\" points=\"2125.2829,-854.0875 2133.5957,-847.5187 2123.001,-847.4699 2125.2829,-854.0875\"/>\n</g>\n<!-- 40 -->\n<g id=\"node41\" class=\"node\">\n<title>40</title>\n<path fill=\"#ef84b4\" stroke=\"#000000\" d=\"M2292.5,-1053C2292.5,-1053 2122.5,-1053 2122.5,-1053 2116.5,-1053 2110.5,-1047 2110.5,-1041 2110.5,-1041 2110.5,-1001 2110.5,-1001 2110.5,-995 2116.5,-989 2122.5,-989 2122.5,-989 2292.5,-989 2292.5,-989 2298.5,-989 2304.5,-995 2304.5,-1001 2304.5,-1001 2304.5,-1041 2304.5,-1041 2304.5,-1047 2298.5,-1053 2292.5,-1053\"/>\n<text text-anchor=\"start\" x=\"2181\" y=\"-1038.8\" font-family=\"Helvetica,sans-Serif\" font-size=\"14.00\" fill=\"#000000\">X</text>\n<text text-anchor=\"start\" x=\"2191\" y=\"-1038.8\" font-family=\"Helvetica,sans-Serif\" baseline-shift=\"sub\" font-size=\"14.00\" fill=\"#000000\">0</text>\n<text text-anchor=\"start\" x=\"2198\" y=\"-1038.8\" font-family=\"Helvetica,sans-Serif\" font-size=\"14.00\" fill=\"#000000\"> ≤ 2.5</text>\n<text text-anchor=\"start\" x=\"2169.5\" y=\"-1024.8\" font-family=\"Helvetica,sans-Serif\" font-size=\"14.00\" fill=\"#000000\">gini = 0.461</text>\n<text text-anchor=\"start\" x=\"2163.5\" y=\"-1010.8\" font-family=\"Helvetica,sans-Serif\" font-size=\"14.00\" fill=\"#000000\">samples = 51</text>\n<text text-anchor=\"start\" x=\"2118.5\" y=\"-996.8\" font-family=\"Helvetica,sans-Serif\" font-size=\"14.00\" fill=\"#000000\">value = [0, 0, 0, 3, 5, 19, 63]</text>\n</g>\n<!-- 39&#45;&gt;40 -->\n<g id=\"edge40\" class=\"edge\">\n<title>39&#45;&gt;40</title>\n<path fill=\"none\" stroke=\"#000000\" d=\"M2276.6651,-1088.8089C2267.3834,-1079.7092 2257.1784,-1069.7043 2247.5242,-1060.2394\"/>\n<polygon fill=\"#000000\" stroke=\"#000000\" points=\"2249.8644,-1057.6322 2240.2734,-1053.1308 2244.9639,-1062.6308 2249.8644,-1057.6322\"/>\n</g>\n<!-- 43 -->\n<g id=\"node44\" class=\"node\">\n<title>43</title>\n<path fill=\"#b139e5\" stroke=\"#000000\" d=\"M2488.5,-1047.5C2488.5,-1047.5 2334.5,-1047.5 2334.5,-1047.5 2328.5,-1047.5 2322.5,-1041.5 2322.5,-1035.5 2322.5,-1035.5 2322.5,-1006.5 2322.5,-1006.5 2322.5,-1000.5 2328.5,-994.5 2334.5,-994.5 2334.5,-994.5 2488.5,-994.5 2488.5,-994.5 2494.5,-994.5 2500.5,-1000.5 2500.5,-1006.5 2500.5,-1006.5 2500.5,-1035.5 2500.5,-1035.5 2500.5,-1041.5 2494.5,-1047.5 2488.5,-1047.5\"/>\n<text text-anchor=\"start\" x=\"2382\" y=\"-1032.3\" font-family=\"Helvetica,sans-Serif\" font-size=\"14.00\" fill=\"#000000\">gini = 0.0</text>\n<text text-anchor=\"start\" x=\"2372\" y=\"-1017.3\" font-family=\"Helvetica,sans-Serif\" font-size=\"14.00\" fill=\"#000000\">samples = 1</text>\n<text text-anchor=\"start\" x=\"2330.5\" y=\"-1002.3\" font-family=\"Helvetica,sans-Serif\" font-size=\"14.00\" fill=\"#000000\">value = [0, 0, 0, 0, 0, 1, 0]</text>\n</g>\n<!-- 39&#45;&gt;43 -->\n<g id=\"edge43\" class=\"edge\">\n<title>39&#45;&gt;43</title>\n<path fill=\"none\" stroke=\"#000000\" d=\"M2342.3349,-1088.8089C2353.4183,-1077.9428 2365.8183,-1065.7859 2377.0249,-1054.7991\"/>\n<polygon fill=\"#000000\" stroke=\"#000000\" points=\"2379.5005,-1057.2735 2384.191,-1047.7735 2374.6,-1052.275 2379.5005,-1057.2735\"/>\n</g>\n<!-- 41 -->\n<g id=\"node42\" class=\"node\">\n<title>41</title>\n<path fill=\"#f197c0\" stroke=\"#000000\" d=\"M2230.5,-947.5C2230.5,-947.5 2068.5,-947.5 2068.5,-947.5 2062.5,-947.5 2056.5,-941.5 2056.5,-935.5 2056.5,-935.5 2056.5,-906.5 2056.5,-906.5 2056.5,-900.5 2062.5,-894.5 2068.5,-894.5 2068.5,-894.5 2230.5,-894.5 2230.5,-894.5 2236.5,-894.5 2242.5,-900.5 2242.5,-906.5 2242.5,-906.5 2242.5,-935.5 2242.5,-935.5 2242.5,-941.5 2236.5,-947.5 2230.5,-947.5\"/>\n<text text-anchor=\"start\" x=\"2111.5\" y=\"-932.3\" font-family=\"Helvetica,sans-Serif\" font-size=\"14.00\" fill=\"#000000\">gini = 0.543</text>\n<text text-anchor=\"start\" x=\"2105.5\" y=\"-917.3\" font-family=\"Helvetica,sans-Serif\" font-size=\"14.00\" fill=\"#000000\">samples = 13</text>\n<text text-anchor=\"start\" x=\"2064.5\" y=\"-902.3\" font-family=\"Helvetica,sans-Serif\" font-size=\"14.00\" fill=\"#000000\">value = [0, 0, 0, 2, 2, 6, 17]</text>\n</g>\n<!-- 40&#45;&gt;41 -->\n<g id=\"edge41\" class=\"edge\">\n<title>40&#45;&gt;41</title>\n<path fill=\"none\" stroke=\"#000000\" d=\"M2188.8292,-988.8089C2182.887,-978.5638 2176.2792,-967.1711 2170.2023,-956.6936\"/>\n<polygon fill=\"#000000\" stroke=\"#000000\" points=\"2173.0735,-954.6678 2165.0286,-947.7735 2167.0183,-958.1799 2173.0735,-954.6678\"/>\n</g>\n<!-- 42 -->\n<g id=\"node43\" class=\"node\">\n<title>42</title>\n<path fill=\"#ee7caf\" stroke=\"#000000\" d=\"M2442.5,-947.5C2442.5,-947.5 2272.5,-947.5 2272.5,-947.5 2266.5,-947.5 2260.5,-941.5 2260.5,-935.5 2260.5,-935.5 2260.5,-906.5 2260.5,-906.5 2260.5,-900.5 2266.5,-894.5 2272.5,-894.5 2272.5,-894.5 2442.5,-894.5 2442.5,-894.5 2448.5,-894.5 2454.5,-900.5 2454.5,-906.5 2454.5,-906.5 2454.5,-935.5 2454.5,-935.5 2454.5,-941.5 2448.5,-947.5 2442.5,-947.5\"/>\n<text text-anchor=\"start\" x=\"2319.5\" y=\"-932.3\" font-family=\"Helvetica,sans-Serif\" font-size=\"14.00\" fill=\"#000000\">gini = 0.422</text>\n<text text-anchor=\"start\" x=\"2313.5\" y=\"-917.3\" font-family=\"Helvetica,sans-Serif\" font-size=\"14.00\" fill=\"#000000\">samples = 38</text>\n<text text-anchor=\"start\" x=\"2268.5\" y=\"-902.3\" font-family=\"Helvetica,sans-Serif\" font-size=\"14.00\" fill=\"#000000\">value = [0, 0, 0, 1, 3, 13, 46]</text>\n</g>\n<!-- 40&#45;&gt;42 -->\n<g id=\"edge42\" class=\"edge\">\n<title>40&#45;&gt;42</title>\n<path fill=\"none\" stroke=\"#000000\" d=\"M2255.7866,-988.8089C2272.7067,-977.5289 2291.7133,-964.8578 2308.6769,-953.5487\"/>\n<polygon fill=\"#000000\" stroke=\"#000000\" points=\"2310.9607,-956.2327 2317.3397,-947.7735 2307.0777,-950.4084 2310.9607,-956.2327\"/>\n</g>\n<!-- 45 -->\n<g id=\"node46\" class=\"node\">\n<title>45</title>\n<path fill=\"#fdffff\" stroke=\"#000000\" d=\"M3046,-1153C3046,-1153 2801,-1153 2801,-1153 2795,-1153 2789,-1147 2789,-1141 2789,-1141 2789,-1101 2789,-1101 2789,-1095 2795,-1089 2801,-1089 2801,-1089 3046,-1089 3046,-1089 3052,-1089 3058,-1095 3058,-1101 3058,-1101 3058,-1141 3058,-1141 3058,-1147 3052,-1153 3046,-1153\"/>\n<text text-anchor=\"start\" x=\"2897\" y=\"-1138.8\" font-family=\"Helvetica,sans-Serif\" font-size=\"14.00\" fill=\"#000000\">X</text>\n<text text-anchor=\"start\" x=\"2907\" y=\"-1138.8\" font-family=\"Helvetica,sans-Serif\" baseline-shift=\"sub\" font-size=\"14.00\" fill=\"#000000\">0</text>\n<text text-anchor=\"start\" x=\"2914\" y=\"-1138.8\" font-family=\"Helvetica,sans-Serif\" font-size=\"14.00\" fill=\"#000000\"> ≤ 3.5</text>\n<text text-anchor=\"start\" x=\"2885.5\" y=\"-1124.8\" font-family=\"Helvetica,sans-Serif\" font-size=\"14.00\" fill=\"#000000\">gini = 0.791</text>\n<text text-anchor=\"start\" x=\"2875.5\" y=\"-1110.8\" font-family=\"Helvetica,sans-Serif\" font-size=\"14.00\" fill=\"#000000\">samples = 976</text>\n<text text-anchor=\"start\" x=\"2797\" y=\"-1096.8\" font-family=\"Helvetica,sans-Serif\" font-size=\"14.00\" fill=\"#000000\">value = [0, 33, 271, 417, 405, 258, 183]</text>\n</g>\n<!-- 44&#45;&gt;45 -->\n<g id=\"edge45\" class=\"edge\">\n<title>44&#45;&gt;45</title>\n<path fill=\"none\" stroke=\"#000000\" d=\"M2923.5,-1188.8089C2923.5,-1180.6906 2923.5,-1171.8517 2923.5,-1163.3186\"/>\n<polygon fill=\"#000000\" stroke=\"#000000\" points=\"2927.0001,-1163.1307 2923.5,-1153.1308 2920.0001,-1163.1308 2927.0001,-1163.1307\"/>\n</g>\n<!-- 56 -->\n<g id=\"node57\" class=\"node\">\n<title>56</title>\n<path fill=\"#b0f5b8\" stroke=\"#000000\" d=\"M3753.5,-1153C3753.5,-1153 3533.5,-1153 3533.5,-1153 3527.5,-1153 3521.5,-1147 3521.5,-1141 3521.5,-1141 3521.5,-1101 3521.5,-1101 3521.5,-1095 3527.5,-1089 3533.5,-1089 3533.5,-1089 3753.5,-1089 3753.5,-1089 3759.5,-1089 3765.5,-1095 3765.5,-1101 3765.5,-1101 3765.5,-1141 3765.5,-1141 3765.5,-1147 3759.5,-1153 3753.5,-1153\"/>\n<text text-anchor=\"start\" x=\"3617\" y=\"-1138.8\" font-family=\"Helvetica,sans-Serif\" font-size=\"14.00\" fill=\"#000000\">X</text>\n<text text-anchor=\"start\" x=\"3627\" y=\"-1138.8\" font-family=\"Helvetica,sans-Serif\" baseline-shift=\"sub\" font-size=\"14.00\" fill=\"#000000\">1</text>\n<text text-anchor=\"start\" x=\"3634\" y=\"-1138.8\" font-family=\"Helvetica,sans-Serif\" font-size=\"14.00\" fill=\"#000000\"> ≤ 6.5</text>\n<text text-anchor=\"start\" x=\"3605.5\" y=\"-1124.8\" font-family=\"Helvetica,sans-Serif\" font-size=\"14.00\" fill=\"#000000\">gini = 0.647</text>\n<text text-anchor=\"start\" x=\"3595.5\" y=\"-1110.8\" font-family=\"Helvetica,sans-Serif\" font-size=\"14.00\" fill=\"#000000\">samples = 481</text>\n<text text-anchor=\"start\" x=\"3529.5\" y=\"-1096.8\" font-family=\"Helvetica,sans-Serif\" font-size=\"14.00\" fill=\"#000000\">value = [18, 110, 405, 167, 50, 8, 8]</text>\n</g>\n<!-- 44&#45;&gt;56 -->\n<g id=\"edge56\" class=\"edge\">\n<title>44&#45;&gt;56</title>\n<path fill=\"none\" stroke=\"#000000\" d=\"M3066.179,-1201.1835C3195.7051,-1183.1937 3385.211,-1156.8735 3511.3507,-1139.3541\"/>\n<polygon fill=\"#000000\" stroke=\"#000000\" points=\"3512.0335,-1142.7929 3521.4569,-1137.9504 3511.0705,-1135.8595 3512.0335,-1142.7929\"/>\n</g>\n<!-- 46 -->\n<g id=\"node47\" class=\"node\">\n<title>46</title>\n<path fill=\"#fef5f9\" stroke=\"#000000\" d=\"M2890,-1053C2890,-1053 2695,-1053 2695,-1053 2689,-1053 2683,-1047 2683,-1041 2683,-1041 2683,-1001 2683,-1001 2683,-995 2689,-989 2695,-989 2695,-989 2890,-989 2890,-989 2896,-989 2902,-995 2902,-1001 2902,-1001 2902,-1041 2902,-1041 2902,-1047 2896,-1053 2890,-1053\"/>\n<text text-anchor=\"start\" x=\"2766\" y=\"-1038.8\" font-family=\"Helvetica,sans-Serif\" font-size=\"14.00\" fill=\"#000000\">X</text>\n<text text-anchor=\"start\" x=\"2776\" y=\"-1038.8\" font-family=\"Helvetica,sans-Serif\" baseline-shift=\"sub\" font-size=\"14.00\" fill=\"#000000\">0</text>\n<text text-anchor=\"start\" x=\"2783\" y=\"-1038.8\" font-family=\"Helvetica,sans-Serif\" font-size=\"14.00\" fill=\"#000000\"> ≤ 2.5</text>\n<text text-anchor=\"start\" x=\"2754.5\" y=\"-1024.8\" font-family=\"Helvetica,sans-Serif\" font-size=\"14.00\" fill=\"#000000\">gini = 0.739</text>\n<text text-anchor=\"start\" x=\"2744.5\" y=\"-1010.8\" font-family=\"Helvetica,sans-Serif\" font-size=\"14.00\" fill=\"#000000\">samples = 126</text>\n<text text-anchor=\"start\" x=\"2691\" y=\"-996.8\" font-family=\"Helvetica,sans-Serif\" font-size=\"14.00\" fill=\"#000000\">value = [0, 0, 25, 30, 63, 13, 70]</text>\n</g>\n<!-- 45&#45;&gt;46 -->\n<g id=\"edge46\" class=\"edge\">\n<title>45&#45;&gt;46</title>\n<path fill=\"none\" stroke=\"#000000\" d=\"M2881.3297,-1088.8089C2869.0585,-1079.4416 2855.5307,-1069.115 2842.8115,-1059.4057\"/>\n<polygon fill=\"#000000\" stroke=\"#000000\" points=\"2844.6638,-1056.4165 2834.5913,-1053.1308 2840.4163,-1061.9806 2844.6638,-1056.4165\"/>\n</g>\n<!-- 53 -->\n<g id=\"node54\" class=\"node\">\n<title>53</title>\n<path fill=\"#f6fefe\" stroke=\"#000000\" d=\"M3177,-1053C3177,-1053 2932,-1053 2932,-1053 2926,-1053 2920,-1047 2920,-1041 2920,-1041 2920,-1001 2920,-1001 2920,-995 2926,-989 2932,-989 2932,-989 3177,-989 3177,-989 3183,-989 3189,-995 3189,-1001 3189,-1001 3189,-1041 3189,-1041 3189,-1047 3183,-1053 3177,-1053\"/>\n<text text-anchor=\"start\" x=\"3028\" y=\"-1038.8\" font-family=\"Helvetica,sans-Serif\" font-size=\"14.00\" fill=\"#000000\">X</text>\n<text text-anchor=\"start\" x=\"3038\" y=\"-1038.8\" font-family=\"Helvetica,sans-Serif\" baseline-shift=\"sub\" font-size=\"14.00\" fill=\"#000000\">0</text>\n<text text-anchor=\"start\" x=\"3045\" y=\"-1038.8\" font-family=\"Helvetica,sans-Serif\" font-size=\"14.00\" fill=\"#000000\"> ≤ 4.5</text>\n<text text-anchor=\"start\" x=\"3016.5\" y=\"-1024.8\" font-family=\"Helvetica,sans-Serif\" font-size=\"14.00\" fill=\"#000000\">gini = 0.785</text>\n<text text-anchor=\"start\" x=\"3006.5\" y=\"-1010.8\" font-family=\"Helvetica,sans-Serif\" font-size=\"14.00\" fill=\"#000000\">samples = 850</text>\n<text text-anchor=\"start\" x=\"2928\" y=\"-996.8\" font-family=\"Helvetica,sans-Serif\" font-size=\"14.00\" fill=\"#000000\">value = [0, 33, 246, 387, 342, 245, 113]</text>\n</g>\n<!-- 45&#45;&gt;53 -->\n<g id=\"edge53\" class=\"edge\">\n<title>45&#45;&gt;53</title>\n<path fill=\"none\" stroke=\"#000000\" d=\"M2965.6703,-1088.8089C2977.9415,-1079.4416 2991.4693,-1069.115 3004.1885,-1059.4057\"/>\n<polygon fill=\"#000000\" stroke=\"#000000\" points=\"3006.5837,-1061.9806 3012.4087,-1053.1308 3002.3362,-1056.4165 3006.5837,-1061.9806\"/>\n</g>\n<!-- 47 -->\n<g id=\"node48\" class=\"node\">\n<title>47</title>\n<path fill=\"#cbd2f8\" stroke=\"#000000\" d=\"M2680,-953C2680,-953 2485,-953 2485,-953 2479,-953 2473,-947 2473,-941 2473,-941 2473,-901 2473,-901 2473,-895 2479,-889 2485,-889 2485,-889 2680,-889 2680,-889 2686,-889 2692,-895 2692,-901 2692,-901 2692,-941 2692,-941 2692,-947 2686,-953 2680,-953\"/>\n<text text-anchor=\"start\" x=\"2556\" y=\"-938.8\" font-family=\"Helvetica,sans-Serif\" font-size=\"14.00\" fill=\"#000000\">X</text>\n<text text-anchor=\"start\" x=\"2566\" y=\"-938.8\" font-family=\"Helvetica,sans-Serif\" baseline-shift=\"sub\" font-size=\"14.00\" fill=\"#000000\">0</text>\n<text text-anchor=\"start\" x=\"2573\" y=\"-938.8\" font-family=\"Helvetica,sans-Serif\" font-size=\"14.00\" fill=\"#000000\"> ≤ 0.5</text>\n<text text-anchor=\"start\" x=\"2549\" y=\"-924.8\" font-family=\"Helvetica,sans-Serif\" font-size=\"14.00\" fill=\"#000000\">gini = 0.74</text>\n<text text-anchor=\"start\" x=\"2538.5\" y=\"-910.8\" font-family=\"Helvetica,sans-Serif\" font-size=\"14.00\" fill=\"#000000\">samples = 96</text>\n<text text-anchor=\"start\" x=\"2481\" y=\"-896.8\" font-family=\"Helvetica,sans-Serif\" font-size=\"14.00\" fill=\"#000000\">value = [0, 0, 25, 30, 63, 13, 24]</text>\n</g>\n<!-- 46&#45;&gt;47 -->\n<g id=\"edge47\" class=\"edge\">\n<title>46&#45;&gt;47</title>\n<path fill=\"none\" stroke=\"#000000\" d=\"M2725.1882,-988.9467C2704.0886,-978.8993 2680.648,-967.7372 2658.9644,-957.4116\"/>\n<polygon fill=\"#000000\" stroke=\"#000000\" points=\"2660.3243,-954.1827 2649.7909,-953.0433 2657.3148,-960.5027 2660.3243,-954.1827\"/>\n</g>\n<!-- 52 -->\n<g id=\"node53\" class=\"node\">\n<title>52</title>\n<path fill=\"#e53986\" stroke=\"#000000\" d=\"M2884.5,-947.5C2884.5,-947.5 2722.5,-947.5 2722.5,-947.5 2716.5,-947.5 2710.5,-941.5 2710.5,-935.5 2710.5,-935.5 2710.5,-906.5 2710.5,-906.5 2710.5,-900.5 2716.5,-894.5 2722.5,-894.5 2722.5,-894.5 2884.5,-894.5 2884.5,-894.5 2890.5,-894.5 2896.5,-900.5 2896.5,-906.5 2896.5,-906.5 2896.5,-935.5 2896.5,-935.5 2896.5,-941.5 2890.5,-947.5 2884.5,-947.5\"/>\n<text text-anchor=\"start\" x=\"2774\" y=\"-932.3\" font-family=\"Helvetica,sans-Serif\" font-size=\"14.00\" fill=\"#000000\">gini = 0.0</text>\n<text text-anchor=\"start\" x=\"2759.5\" y=\"-917.3\" font-family=\"Helvetica,sans-Serif\" font-size=\"14.00\" fill=\"#000000\">samples = 30</text>\n<text text-anchor=\"start\" x=\"2718.5\" y=\"-902.3\" font-family=\"Helvetica,sans-Serif\" font-size=\"14.00\" fill=\"#000000\">value = [0, 0, 0, 0, 0, 0, 46]</text>\n</g>\n<!-- 46&#45;&gt;52 -->\n<g id=\"edge52\" class=\"edge\">\n<title>46&#45;&gt;52</title>\n<path fill=\"none\" stroke=\"#000000\" d=\"M2796.041,-988.8089C2797.1225,-978.9777 2798.3201,-968.0898 2799.4335,-957.9679\"/>\n<polygon fill=\"#000000\" stroke=\"#000000\" points=\"2802.9404,-958.0963 2800.5549,-947.7735 2795.9824,-957.3308 2802.9404,-958.0963\"/>\n</g>\n<!-- 48 -->\n<g id=\"node49\" class=\"node\">\n<title>48</title>\n<path fill=\"#f08eba\" stroke=\"#000000\" d=\"M2603.5,-847.5C2603.5,-847.5 2449.5,-847.5 2449.5,-847.5 2443.5,-847.5 2437.5,-841.5 2437.5,-835.5 2437.5,-835.5 2437.5,-806.5 2437.5,-806.5 2437.5,-800.5 2443.5,-794.5 2449.5,-794.5 2449.5,-794.5 2603.5,-794.5 2603.5,-794.5 2609.5,-794.5 2615.5,-800.5 2615.5,-806.5 2615.5,-806.5 2615.5,-835.5 2615.5,-835.5 2615.5,-841.5 2609.5,-847.5 2603.5,-847.5\"/>\n<text text-anchor=\"start\" x=\"2493\" y=\"-832.3\" font-family=\"Helvetica,sans-Serif\" font-size=\"14.00\" fill=\"#000000\">gini = 0.42</text>\n<text text-anchor=\"start\" x=\"2487\" y=\"-817.3\" font-family=\"Helvetica,sans-Serif\" font-size=\"14.00\" fill=\"#000000\">samples = 8</text>\n<text text-anchor=\"start\" x=\"2445.5\" y=\"-802.3\" font-family=\"Helvetica,sans-Serif\" font-size=\"14.00\" fill=\"#000000\">value = [0, 0, 0, 0, 3, 0, 7]</text>\n</g>\n<!-- 47&#45;&gt;48 -->\n<g id=\"edge48\" class=\"edge\">\n<title>47&#45;&gt;48</title>\n<path fill=\"none\" stroke=\"#000000\" d=\"M2564.473,-888.8089C2558.7357,-878.5638 2552.3558,-867.1711 2546.4884,-856.6936\"/>\n<polygon fill=\"#000000\" stroke=\"#000000\" points=\"2549.433,-854.7885 2541.4932,-847.7735 2543.3255,-858.2087 2549.433,-854.7885\"/>\n</g>\n<!-- 49 -->\n<g id=\"node50\" class=\"node\">\n<title>49</title>\n<path fill=\"#cbd3f8\" stroke=\"#000000\" d=\"M2841,-853C2841,-853 2646,-853 2646,-853 2640,-853 2634,-847 2634,-841 2634,-841 2634,-801 2634,-801 2634,-795 2640,-789 2646,-789 2646,-789 2841,-789 2841,-789 2847,-789 2853,-795 2853,-801 2853,-801 2853,-841 2853,-841 2853,-847 2847,-853 2841,-853\"/>\n<text text-anchor=\"start\" x=\"2717\" y=\"-838.8\" font-family=\"Helvetica,sans-Serif\" font-size=\"14.00\" fill=\"#000000\">X</text>\n<text text-anchor=\"start\" x=\"2727\" y=\"-838.8\" font-family=\"Helvetica,sans-Serif\" baseline-shift=\"sub\" font-size=\"14.00\" fill=\"#000000\">0</text>\n<text text-anchor=\"start\" x=\"2734\" y=\"-838.8\" font-family=\"Helvetica,sans-Serif\" font-size=\"14.00\" fill=\"#000000\"> ≤ 1.5</text>\n<text text-anchor=\"start\" x=\"2705.5\" y=\"-824.8\" font-family=\"Helvetica,sans-Serif\" font-size=\"14.00\" fill=\"#000000\">gini = 0.734</text>\n<text text-anchor=\"start\" x=\"2699.5\" y=\"-810.8\" font-family=\"Helvetica,sans-Serif\" font-size=\"14.00\" fill=\"#000000\">samples = 88</text>\n<text text-anchor=\"start\" x=\"2642\" y=\"-796.8\" font-family=\"Helvetica,sans-Serif\" font-size=\"14.00\" fill=\"#000000\">value = [0, 0, 25, 30, 60, 13, 17]</text>\n</g>\n<!-- 47&#45;&gt;49 -->\n<g id=\"edge49\" class=\"edge\">\n<title>47&#45;&gt;49</title>\n<path fill=\"none\" stroke=\"#000000\" d=\"M2634.3276,-888.8089C2649.8399,-879.174 2666.9862,-868.5241 2683.0042,-858.575\"/>\n<polygon fill=\"#000000\" stroke=\"#000000\" points=\"2685.1214,-861.3802 2691.7695,-853.1308 2681.428,-855.4339 2685.1214,-861.3802\"/>\n</g>\n<!-- 50 -->\n<g id=\"node51\" class=\"node\">\n<title>50</title>\n<path fill=\"#dbe1fa\" stroke=\"#000000\" d=\"M2731,-747.5C2731,-747.5 2536,-747.5 2536,-747.5 2530,-747.5 2524,-741.5 2524,-735.5 2524,-735.5 2524,-706.5 2524,-706.5 2524,-700.5 2530,-694.5 2536,-694.5 2536,-694.5 2731,-694.5 2731,-694.5 2737,-694.5 2743,-700.5 2743,-706.5 2743,-706.5 2743,-735.5 2743,-735.5 2743,-741.5 2737,-747.5 2731,-747.5\"/>\n<text text-anchor=\"start\" x=\"2595.5\" y=\"-732.3\" font-family=\"Helvetica,sans-Serif\" font-size=\"14.00\" fill=\"#000000\">gini = 0.756</text>\n<text text-anchor=\"start\" x=\"2589.5\" y=\"-717.3\" font-family=\"Helvetica,sans-Serif\" font-size=\"14.00\" fill=\"#000000\">samples = 72</text>\n<text text-anchor=\"start\" x=\"2532\" y=\"-702.3\" font-family=\"Helvetica,sans-Serif\" font-size=\"14.00\" fill=\"#000000\">value = [0, 0, 25, 24, 41, 11, 13]</text>\n</g>\n<!-- 49&#45;&gt;50 -->\n<g id=\"edge50\" class=\"edge\">\n<title>49&#45;&gt;50</title>\n<path fill=\"none\" stroke=\"#000000\" d=\"M2708.0898,-788.8089C2696.1371,-777.9428 2682.7645,-765.7859 2670.679,-754.7991\"/>\n<polygon fill=\"#000000\" stroke=\"#000000\" points=\"2672.7047,-751.9105 2662.9509,-747.7735 2667.9959,-757.0901 2672.7047,-751.9105\"/>\n</g>\n<!-- 51 -->\n<g id=\"node52\" class=\"node\">\n<title>51</title>\n<path fill=\"#98a7f1\" stroke=\"#000000\" d=\"M2935.5,-747.5C2935.5,-747.5 2773.5,-747.5 2773.5,-747.5 2767.5,-747.5 2761.5,-741.5 2761.5,-735.5 2761.5,-735.5 2761.5,-706.5 2761.5,-706.5 2761.5,-700.5 2767.5,-694.5 2773.5,-694.5 2773.5,-694.5 2935.5,-694.5 2935.5,-694.5 2941.5,-694.5 2947.5,-700.5 2947.5,-706.5 2947.5,-706.5 2947.5,-735.5 2947.5,-735.5 2947.5,-741.5 2941.5,-747.5 2935.5,-747.5\"/>\n<text text-anchor=\"start\" x=\"2816.5\" y=\"-732.3\" font-family=\"Helvetica,sans-Serif\" font-size=\"14.00\" fill=\"#000000\">gini = 0.566</text>\n<text text-anchor=\"start\" x=\"2810.5\" y=\"-717.3\" font-family=\"Helvetica,sans-Serif\" font-size=\"14.00\" fill=\"#000000\">samples = 16</text>\n<text text-anchor=\"start\" x=\"2769.5\" y=\"-702.3\" font-family=\"Helvetica,sans-Serif\" font-size=\"14.00\" fill=\"#000000\">value = [0, 0, 0, 6, 19, 2, 4]</text>\n</g>\n<!-- 49&#45;&gt;51 -->\n<g id=\"edge51\" class=\"edge\">\n<title>49&#45;&gt;51</title>\n<path fill=\"none\" stroke=\"#000000\" d=\"M2779.2321,-788.8089C2791.4083,-777.8393 2805.0448,-765.5543 2817.3311,-754.4855\"/>\n<polygon fill=\"#000000\" stroke=\"#000000\" points=\"2819.6944,-757.0673 2824.7814,-747.7735 2815.0091,-751.8665 2819.6944,-757.0673\"/>\n</g>\n<!-- 54 -->\n<g id=\"node55\" class=\"node\">\n<title>54</title>\n<path fill=\"#f1fdfd\" stroke=\"#000000\" d=\"M3162.5,-947.5C3162.5,-947.5 2926.5,-947.5 2926.5,-947.5 2920.5,-947.5 2914.5,-941.5 2914.5,-935.5 2914.5,-935.5 2914.5,-906.5 2914.5,-906.5 2914.5,-900.5 2920.5,-894.5 2926.5,-894.5 2926.5,-894.5 3162.5,-894.5 3162.5,-894.5 3168.5,-894.5 3174.5,-900.5 3174.5,-906.5 3174.5,-906.5 3174.5,-935.5 3174.5,-935.5 3174.5,-941.5 3168.5,-947.5 3162.5,-947.5\"/>\n<text text-anchor=\"start\" x=\"3006.5\" y=\"-932.3\" font-family=\"Helvetica,sans-Serif\" font-size=\"14.00\" fill=\"#000000\">gini = 0.784</text>\n<text text-anchor=\"start\" x=\"2996.5\" y=\"-917.3\" font-family=\"Helvetica,sans-Serif\" font-size=\"14.00\" fill=\"#000000\">samples = 757</text>\n<text text-anchor=\"start\" x=\"2922.5\" y=\"-902.3\" font-family=\"Helvetica,sans-Serif\" font-size=\"14.00\" fill=\"#000000\">value = [0, 33, 241, 359, 291, 197, 99]</text>\n</g>\n<!-- 53&#45;&gt;54 -->\n<g id=\"edge54\" class=\"edge\">\n<title>53&#45;&gt;54</title>\n<path fill=\"none\" stroke=\"#000000\" d=\"M3051.2809,-988.8089C3050.2978,-978.9777 3049.209,-968.0898 3048.1968,-957.9679\"/>\n<polygon fill=\"#000000\" stroke=\"#000000\" points=\"3051.6551,-957.3756 3047.1774,-947.7735 3044.6898,-958.0722 3051.6551,-957.3756\"/>\n</g>\n<!-- 55 -->\n<g id=\"node56\" class=\"node\">\n<title>55</title>\n<path fill=\"#f9fafe\" stroke=\"#000000\" d=\"M3392,-947.5C3392,-947.5 3205,-947.5 3205,-947.5 3199,-947.5 3193,-941.5 3193,-935.5 3193,-935.5 3193,-906.5 3193,-906.5 3193,-900.5 3199,-894.5 3205,-894.5 3205,-894.5 3392,-894.5 3392,-894.5 3398,-894.5 3404,-900.5 3404,-906.5 3404,-906.5 3404,-935.5 3404,-935.5 3404,-941.5 3398,-947.5 3392,-947.5\"/>\n<text text-anchor=\"start\" x=\"3260.5\" y=\"-932.3\" font-family=\"Helvetica,sans-Serif\" font-size=\"14.00\" fill=\"#000000\">gini = 0.723</text>\n<text text-anchor=\"start\" x=\"3254.5\" y=\"-917.3\" font-family=\"Helvetica,sans-Serif\" font-size=\"14.00\" fill=\"#000000\">samples = 93</text>\n<text text-anchor=\"start\" x=\"3201\" y=\"-902.3\" font-family=\"Helvetica,sans-Serif\" font-size=\"14.00\" fill=\"#000000\">value = [0, 0, 5, 28, 51, 48, 14]</text>\n</g>\n<!-- 53&#45;&gt;55 -->\n<g id=\"edge55\" class=\"edge\">\n<title>53&#45;&gt;55</title>\n<path fill=\"none\" stroke=\"#000000\" d=\"M3132.7099,-988.9467C3162.1425,-976.8842 3195.4955,-963.2149 3224.5298,-951.3157\"/>\n<polygon fill=\"#000000\" stroke=\"#000000\" points=\"3225.8686,-954.5496 3233.7943,-947.5187 3223.2139,-948.0725 3225.8686,-954.5496\"/>\n</g>\n<!-- 57 -->\n<g id=\"node58\" class=\"node\">\n<title>57</title>\n<path fill=\"#b7f6be\" stroke=\"#000000\" d=\"M3745,-1053C3745,-1053 3542,-1053 3542,-1053 3536,-1053 3530,-1047 3530,-1041 3530,-1041 3530,-1001 3530,-1001 3530,-995 3536,-989 3542,-989 3542,-989 3745,-989 3745,-989 3751,-989 3757,-995 3757,-1001 3757,-1001 3757,-1041 3757,-1041 3757,-1047 3751,-1053 3745,-1053\"/>\n<text text-anchor=\"start\" x=\"3617\" y=\"-1038.8\" font-family=\"Helvetica,sans-Serif\" font-size=\"14.00\" fill=\"#000000\">X</text>\n<text text-anchor=\"start\" x=\"3627\" y=\"-1038.8\" font-family=\"Helvetica,sans-Serif\" baseline-shift=\"sub\" font-size=\"14.00\" fill=\"#000000\">0</text>\n<text text-anchor=\"start\" x=\"3634\" y=\"-1038.8\" font-family=\"Helvetica,sans-Serif\" font-size=\"14.00\" fill=\"#000000\"> ≤ 4.5</text>\n<text text-anchor=\"start\" x=\"3605.5\" y=\"-1024.8\" font-family=\"Helvetica,sans-Serif\" font-size=\"14.00\" fill=\"#000000\">gini = 0.651</text>\n<text text-anchor=\"start\" x=\"3595.5\" y=\"-1010.8\" font-family=\"Helvetica,sans-Serif\" font-size=\"14.00\" fill=\"#000000\">samples = 426</text>\n<text text-anchor=\"start\" x=\"3538\" y=\"-996.8\" font-family=\"Helvetica,sans-Serif\" font-size=\"14.00\" fill=\"#000000\">value = [8, 94, 350, 162, 50, 8, 6]</text>\n</g>\n<!-- 56&#45;&gt;57 -->\n<g id=\"edge57\" class=\"edge\">\n<title>56&#45;&gt;57</title>\n<path fill=\"none\" stroke=\"#000000\" d=\"M3643.5,-1088.8089C3643.5,-1080.6906 3643.5,-1071.8517 3643.5,-1063.3186\"/>\n<polygon fill=\"#000000\" stroke=\"#000000\" points=\"3647.0001,-1063.1307 3643.5,-1053.1308 3640.0001,-1063.1308 3647.0001,-1063.1307\"/>\n</g>\n<!-- 68 -->\n<g id=\"node69\" class=\"node\">\n<title>68</title>\n<path fill=\"#94f19f\" stroke=\"#000000\" d=\"M4075,-1053C4075,-1053 3896,-1053 3896,-1053 3890,-1053 3884,-1047 3884,-1041 3884,-1041 3884,-1001 3884,-1001 3884,-995 3890,-989 3896,-989 3896,-989 4075,-989 4075,-989 4081,-989 4087,-995 4087,-1001 4087,-1001 4087,-1041 4087,-1041 4087,-1047 4081,-1053 4075,-1053\"/>\n<text text-anchor=\"start\" x=\"3959\" y=\"-1038.8\" font-family=\"Helvetica,sans-Serif\" font-size=\"14.00\" fill=\"#000000\">X</text>\n<text text-anchor=\"start\" x=\"3969\" y=\"-1038.8\" font-family=\"Helvetica,sans-Serif\" baseline-shift=\"sub\" font-size=\"14.00\" fill=\"#000000\">0</text>\n<text text-anchor=\"start\" x=\"3976\" y=\"-1038.8\" font-family=\"Helvetica,sans-Serif\" font-size=\"14.00\" fill=\"#000000\"> ≤ 3.0</text>\n<text text-anchor=\"start\" x=\"3952\" y=\"-1024.8\" font-family=\"Helvetica,sans-Serif\" font-size=\"14.00\" fill=\"#000000\">gini = 0.56</text>\n<text text-anchor=\"start\" x=\"3941.5\" y=\"-1010.8\" font-family=\"Helvetica,sans-Serif\" font-size=\"14.00\" fill=\"#000000\">samples = 55</text>\n<text text-anchor=\"start\" x=\"3892\" y=\"-996.8\" font-family=\"Helvetica,sans-Serif\" font-size=\"14.00\" fill=\"#000000\">value = [10, 16, 55, 5, 0, 0, 2]</text>\n</g>\n<!-- 56&#45;&gt;68 -->\n<g id=\"edge68\" class=\"edge\">\n<title>56&#45;&gt;68</title>\n<path fill=\"none\" stroke=\"#000000\" d=\"M3753.1221,-1088.9467C3791.7566,-1077.6501 3835.2107,-1064.9443 3873.9987,-1053.6027\"/>\n<polygon fill=\"#000000\" stroke=\"#000000\" points=\"3875.1379,-1056.9163 3883.7537,-1050.7504 3873.1733,-1050.1976 3875.1379,-1056.9163\"/>\n</g>\n<!-- 58 -->\n<g id=\"node59\" class=\"node\">\n<title>58</title>\n<path fill=\"#b1f5b8\" stroke=\"#000000\" d=\"M3637,-953C3637,-953 3434,-953 3434,-953 3428,-953 3422,-947 3422,-941 3422,-941 3422,-901 3422,-901 3422,-895 3428,-889 3434,-889 3434,-889 3637,-889 3637,-889 3643,-889 3649,-895 3649,-901 3649,-901 3649,-941 3649,-941 3649,-947 3643,-953 3637,-953\"/>\n<text text-anchor=\"start\" x=\"3509\" y=\"-938.8\" font-family=\"Helvetica,sans-Serif\" font-size=\"14.00\" fill=\"#000000\">X</text>\n<text text-anchor=\"start\" x=\"3519\" y=\"-938.8\" font-family=\"Helvetica,sans-Serif\" baseline-shift=\"sub\" font-size=\"14.00\" fill=\"#000000\">0</text>\n<text text-anchor=\"start\" x=\"3526\" y=\"-938.8\" font-family=\"Helvetica,sans-Serif\" font-size=\"14.00\" fill=\"#000000\"> ≤ 3.5</text>\n<text text-anchor=\"start\" x=\"3497.5\" y=\"-924.8\" font-family=\"Helvetica,sans-Serif\" font-size=\"14.00\" fill=\"#000000\">gini = 0.641</text>\n<text text-anchor=\"start\" x=\"3487.5\" y=\"-910.8\" font-family=\"Helvetica,sans-Serif\" font-size=\"14.00\" fill=\"#000000\">samples = 370</text>\n<text text-anchor=\"start\" x=\"3430\" y=\"-896.8\" font-family=\"Helvetica,sans-Serif\" font-size=\"14.00\" fill=\"#000000\">value = [8, 83, 308, 130, 40, 7, 3]</text>\n</g>\n<!-- 57&#45;&gt;58 -->\n<g id=\"edge58\" class=\"edge\">\n<title>57&#45;&gt;58</title>\n<path fill=\"none\" stroke=\"#000000\" d=\"M3608.7336,-988.8089C3598.8096,-979.62 3587.8887,-969.508 3577.5781,-959.9612\"/>\n<polygon fill=\"#000000\" stroke=\"#000000\" points=\"3579.9168,-957.3567 3570.2012,-953.1308 3575.1609,-962.493 3579.9168,-957.3567\"/>\n</g>\n<!-- 67 -->\n<g id=\"node68\" class=\"node\">\n<title>67</title>\n<path fill=\"#e1fbe4\" stroke=\"#000000\" d=\"M3866,-947.5C3866,-947.5 3679,-947.5 3679,-947.5 3673,-947.5 3667,-941.5 3667,-935.5 3667,-935.5 3667,-906.5 3667,-906.5 3667,-900.5 3673,-894.5 3679,-894.5 3679,-894.5 3866,-894.5 3866,-894.5 3872,-894.5 3878,-900.5 3878,-906.5 3878,-906.5 3878,-935.5 3878,-935.5 3878,-941.5 3872,-947.5 3866,-947.5\"/>\n<text text-anchor=\"start\" x=\"3734.5\" y=\"-932.3\" font-family=\"Helvetica,sans-Serif\" font-size=\"14.00\" fill=\"#000000\">gini = 0.692</text>\n<text text-anchor=\"start\" x=\"3728.5\" y=\"-917.3\" font-family=\"Helvetica,sans-Serif\" font-size=\"14.00\" fill=\"#000000\">samples = 56</text>\n<text text-anchor=\"start\" x=\"3675\" y=\"-902.3\" font-family=\"Helvetica,sans-Serif\" font-size=\"14.00\" fill=\"#000000\">value = [0, 11, 42, 32, 10, 1, 3]</text>\n</g>\n<!-- 57&#45;&gt;67 -->\n<g id=\"edge67\" class=\"edge\">\n<title>57&#45;&gt;67</title>\n<path fill=\"none\" stroke=\"#000000\" d=\"M3685.0265,-988.8089C3699.3107,-977.7359 3715.3242,-965.3223 3729.7073,-954.1726\"/>\n<polygon fill=\"#000000\" stroke=\"#000000\" points=\"3732.2031,-956.6664 3737.9622,-947.7735 3727.9144,-951.134 3732.2031,-956.6664\"/>\n</g>\n<!-- 59 -->\n<g id=\"node60\" class=\"node\">\n<title>59</title>\n<path fill=\"#d2f9d7\" stroke=\"#000000\" d=\"M3527,-853C3527,-853 3340,-853 3340,-853 3334,-853 3328,-847 3328,-841 3328,-841 3328,-801 3328,-801 3328,-795 3334,-789 3340,-789 3340,-789 3527,-789 3527,-789 3533,-789 3539,-795 3539,-801 3539,-801 3539,-841 3539,-841 3539,-847 3533,-853 3527,-853\"/>\n<text text-anchor=\"start\" x=\"3407\" y=\"-838.8\" font-family=\"Helvetica,sans-Serif\" font-size=\"14.00\" fill=\"#000000\">X</text>\n<text text-anchor=\"start\" x=\"3417\" y=\"-838.8\" font-family=\"Helvetica,sans-Serif\" baseline-shift=\"sub\" font-size=\"14.00\" fill=\"#000000\">0</text>\n<text text-anchor=\"start\" x=\"3424\" y=\"-838.8\" font-family=\"Helvetica,sans-Serif\" font-size=\"14.00\" fill=\"#000000\"> ≤ 0.5</text>\n<text text-anchor=\"start\" x=\"3395.5\" y=\"-824.8\" font-family=\"Helvetica,sans-Serif\" font-size=\"14.00\" fill=\"#000000\">gini = 0.679</text>\n<text text-anchor=\"start\" x=\"3389.5\" y=\"-810.8\" font-family=\"Helvetica,sans-Serif\" font-size=\"14.00\" fill=\"#000000\">samples = 72</text>\n<text text-anchor=\"start\" x=\"3336\" y=\"-796.8\" font-family=\"Helvetica,sans-Serif\" font-size=\"14.00\" fill=\"#000000\">value = [1, 10, 52, 34, 14, 0, 3]</text>\n</g>\n<!-- 58&#45;&gt;59 -->\n<g id=\"edge59\" class=\"edge\">\n<title>58&#45;&gt;59</title>\n<path fill=\"none\" stroke=\"#000000\" d=\"M3502.6651,-888.8089C3493.3834,-879.7092 3483.1784,-869.7043 3473.5242,-860.2394\"/>\n<polygon fill=\"#000000\" stroke=\"#000000\" points=\"3475.8644,-857.6322 3466.2734,-853.1308 3470.9639,-862.6308 3475.8644,-857.6322\"/>\n</g>\n<!-- 66 -->\n<g id=\"node67\" class=\"node\">\n<title>66</title>\n<path fill=\"#a9f4b2\" stroke=\"#000000\" d=\"M3764,-847.5C3764,-847.5 3569,-847.5 3569,-847.5 3563,-847.5 3557,-841.5 3557,-835.5 3557,-835.5 3557,-806.5 3557,-806.5 3557,-800.5 3563,-794.5 3569,-794.5 3569,-794.5 3764,-794.5 3764,-794.5 3770,-794.5 3776,-800.5 3776,-806.5 3776,-806.5 3776,-835.5 3776,-835.5 3776,-841.5 3770,-847.5 3764,-847.5\"/>\n<text text-anchor=\"start\" x=\"3628.5\" y=\"-832.3\" font-family=\"Helvetica,sans-Serif\" font-size=\"14.00\" fill=\"#000000\">gini = 0.626</text>\n<text text-anchor=\"start\" x=\"3618.5\" y=\"-817.3\" font-family=\"Helvetica,sans-Serif\" font-size=\"14.00\" fill=\"#000000\">samples = 298</text>\n<text text-anchor=\"start\" x=\"3565\" y=\"-802.3\" font-family=\"Helvetica,sans-Serif\" font-size=\"14.00\" fill=\"#000000\">value = [7, 73, 256, 96, 26, 7, 0]</text>\n</g>\n<!-- 58&#45;&gt;66 -->\n<g id=\"edge66\" class=\"edge\">\n<title>58&#45;&gt;66</title>\n<path fill=\"none\" stroke=\"#000000\" d=\"M3577.6703,-888.8089C3592.3116,-877.6324 3608.7418,-865.0902 3623.453,-853.8603\"/>\n<polygon fill=\"#000000\" stroke=\"#000000\" points=\"3625.6016,-856.6234 3631.4267,-847.7735 3621.3542,-851.0592 3625.6016,-856.6234\"/>\n</g>\n<!-- 60 -->\n<g id=\"node61\" class=\"node\">\n<title>60</title>\n<path fill=\"#8ef099\" stroke=\"#000000\" d=\"M3408.5,-747.5C3408.5,-747.5 3246.5,-747.5 3246.5,-747.5 3240.5,-747.5 3234.5,-741.5 3234.5,-735.5 3234.5,-735.5 3234.5,-706.5 3234.5,-706.5 3234.5,-700.5 3240.5,-694.5 3246.5,-694.5 3246.5,-694.5 3408.5,-694.5 3408.5,-694.5 3414.5,-694.5 3420.5,-700.5 3420.5,-706.5 3420.5,-706.5 3420.5,-735.5 3420.5,-735.5 3420.5,-741.5 3414.5,-747.5 3408.5,-747.5\"/>\n<text text-anchor=\"start\" x=\"3289.5\" y=\"-732.3\" font-family=\"Helvetica,sans-Serif\" font-size=\"14.00\" fill=\"#000000\">gini = 0.533</text>\n<text text-anchor=\"start\" x=\"3283.5\" y=\"-717.3\" font-family=\"Helvetica,sans-Serif\" font-size=\"14.00\" fill=\"#000000\">samples = 10</text>\n<text text-anchor=\"start\" x=\"3242.5\" y=\"-702.3\" font-family=\"Helvetica,sans-Serif\" font-size=\"14.00\" fill=\"#000000\">value = [0, 1, 11, 2, 3, 0, 0]</text>\n</g>\n<!-- 59&#45;&gt;60 -->\n<g id=\"edge60\" class=\"edge\">\n<title>59&#45;&gt;60</title>\n<path fill=\"none\" stroke=\"#000000\" d=\"M3399.3775,-788.8089C3387.8594,-777.9428 3374.9731,-765.7859 3363.3271,-754.7991\"/>\n<polygon fill=\"#000000\" stroke=\"#000000\" points=\"3365.5557,-752.0899 3355.8799,-747.7735 3360.7521,-757.1816 3365.5557,-752.0899\"/>\n</g>\n<!-- 61 -->\n<g id=\"node62\" class=\"node\">\n<title>61</title>\n<path fill=\"#e4fbe6\" stroke=\"#000000\" d=\"M3629,-753C3629,-753 3450,-753 3450,-753 3444,-753 3438,-747 3438,-741 3438,-741 3438,-701 3438,-701 3438,-695 3444,-689 3450,-689 3450,-689 3629,-689 3629,-689 3635,-689 3641,-695 3641,-701 3641,-701 3641,-741 3641,-741 3641,-747 3635,-753 3629,-753\"/>\n<text text-anchor=\"start\" x=\"3513\" y=\"-738.8\" font-family=\"Helvetica,sans-Serif\" font-size=\"14.00\" fill=\"#000000\">X</text>\n<text text-anchor=\"start\" x=\"3523\" y=\"-738.8\" font-family=\"Helvetica,sans-Serif\" baseline-shift=\"sub\" font-size=\"14.00\" fill=\"#000000\">0</text>\n<text text-anchor=\"start\" x=\"3530\" y=\"-738.8\" font-family=\"Helvetica,sans-Serif\" font-size=\"14.00\" fill=\"#000000\"> ≤ 2.5</text>\n<text text-anchor=\"start\" x=\"3506\" y=\"-724.8\" font-family=\"Helvetica,sans-Serif\" font-size=\"14.00\" fill=\"#000000\">gini = 0.69</text>\n<text text-anchor=\"start\" x=\"3495.5\" y=\"-710.8\" font-family=\"Helvetica,sans-Serif\" font-size=\"14.00\" fill=\"#000000\">samples = 62</text>\n<text text-anchor=\"start\" x=\"3446\" y=\"-696.8\" font-family=\"Helvetica,sans-Serif\" font-size=\"14.00\" fill=\"#000000\">value = [1, 9, 41, 32, 11, 0, 3]</text>\n</g>\n<!-- 59&#45;&gt;61 -->\n<g id=\"edge61\" class=\"edge\">\n<title>59&#45;&gt;61</title>\n<path fill=\"none\" stroke=\"#000000\" d=\"M3467.6225,-788.8089C3477.2682,-779.7092 3487.8734,-769.7043 3497.9062,-760.2394\"/>\n<polygon fill=\"#000000\" stroke=\"#000000\" points=\"3500.5692,-762.5389 3505.4414,-753.1308 3495.7657,-757.4471 3500.5692,-762.5389\"/>\n</g>\n<!-- 62 -->\n<g id=\"node63\" class=\"node\">\n<title>62</title>\n<path fill=\"#d9fadd\" stroke=\"#000000\" d=\"M3522.5,-653C3522.5,-653 3352.5,-653 3352.5,-653 3346.5,-653 3340.5,-647 3340.5,-641 3340.5,-641 3340.5,-601 3340.5,-601 3340.5,-595 3346.5,-589 3352.5,-589 3352.5,-589 3522.5,-589 3522.5,-589 3528.5,-589 3534.5,-595 3534.5,-601 3534.5,-601 3534.5,-641 3534.5,-641 3534.5,-647 3528.5,-653 3522.5,-653\"/>\n<text text-anchor=\"start\" x=\"3411\" y=\"-638.8\" font-family=\"Helvetica,sans-Serif\" font-size=\"14.00\" fill=\"#000000\">X</text>\n<text text-anchor=\"start\" x=\"3421\" y=\"-638.8\" font-family=\"Helvetica,sans-Serif\" baseline-shift=\"sub\" font-size=\"14.00\" fill=\"#000000\">0</text>\n<text text-anchor=\"start\" x=\"3428\" y=\"-638.8\" font-family=\"Helvetica,sans-Serif\" font-size=\"14.00\" fill=\"#000000\"> ≤ 1.5</text>\n<text text-anchor=\"start\" x=\"3399.5\" y=\"-624.8\" font-family=\"Helvetica,sans-Serif\" font-size=\"14.00\" fill=\"#000000\">gini = 0.691</text>\n<text text-anchor=\"start\" x=\"3393.5\" y=\"-610.8\" font-family=\"Helvetica,sans-Serif\" font-size=\"14.00\" fill=\"#000000\">samples = 51</text>\n<text text-anchor=\"start\" x=\"3348.5\" y=\"-596.8\" font-family=\"Helvetica,sans-Serif\" font-size=\"14.00\" fill=\"#000000\">value = [1, 8, 36, 25, 9, 0, 3]</text>\n</g>\n<!-- 61&#45;&gt;62 -->\n<g id=\"edge62\" class=\"edge\">\n<title>61&#45;&gt;62</title>\n<path fill=\"none\" stroke=\"#000000\" d=\"M3506.6651,-688.8089C3497.3834,-679.7092 3487.1784,-669.7043 3477.5242,-660.2394\"/>\n<polygon fill=\"#000000\" stroke=\"#000000\" points=\"3479.8644,-657.6322 3470.2734,-653.1308 3474.9639,-662.6308 3479.8644,-657.6322\"/>\n</g>\n<!-- 65 -->\n<g id=\"node66\" class=\"node\">\n<title>65</title>\n<path fill=\"#d7faf9\" stroke=\"#000000\" d=\"M3718.5,-647.5C3718.5,-647.5 3564.5,-647.5 3564.5,-647.5 3558.5,-647.5 3552.5,-641.5 3552.5,-635.5 3552.5,-635.5 3552.5,-606.5 3552.5,-606.5 3552.5,-600.5 3558.5,-594.5 3564.5,-594.5 3564.5,-594.5 3718.5,-594.5 3718.5,-594.5 3724.5,-594.5 3730.5,-600.5 3730.5,-606.5 3730.5,-606.5 3730.5,-635.5 3730.5,-635.5 3730.5,-641.5 3724.5,-647.5 3718.5,-647.5\"/>\n<text text-anchor=\"start\" x=\"3603.5\" y=\"-632.3\" font-family=\"Helvetica,sans-Serif\" font-size=\"14.00\" fill=\"#000000\">gini = 0.649</text>\n<text text-anchor=\"start\" x=\"3597.5\" y=\"-617.3\" font-family=\"Helvetica,sans-Serif\" font-size=\"14.00\" fill=\"#000000\">samples = 11</text>\n<text text-anchor=\"start\" x=\"3560.5\" y=\"-602.3\" font-family=\"Helvetica,sans-Serif\" font-size=\"14.00\" fill=\"#000000\">value = [0, 1, 5, 7, 2, 0, 0]</text>\n</g>\n<!-- 61&#45;&gt;65 -->\n<g id=\"edge65\" class=\"edge\">\n<title>61&#45;&gt;65</title>\n<path fill=\"none\" stroke=\"#000000\" d=\"M3572.3349,-688.8089C3583.4183,-677.9428 3595.8183,-665.7859 3607.0249,-654.7991\"/>\n<polygon fill=\"#000000\" stroke=\"#000000\" points=\"3609.5005,-657.2735 3614.191,-647.7735 3604.6,-652.275 3609.5005,-657.2735\"/>\n</g>\n<!-- 63 -->\n<g id=\"node64\" class=\"node\">\n<title>63</title>\n<path fill=\"#f0fdf1\" stroke=\"#000000\" d=\"M3416.5,-547.5C3416.5,-547.5 3246.5,-547.5 3246.5,-547.5 3240.5,-547.5 3234.5,-541.5 3234.5,-535.5 3234.5,-535.5 3234.5,-506.5 3234.5,-506.5 3234.5,-500.5 3240.5,-494.5 3246.5,-494.5 3246.5,-494.5 3416.5,-494.5 3416.5,-494.5 3422.5,-494.5 3428.5,-500.5 3428.5,-506.5 3428.5,-506.5 3428.5,-535.5 3428.5,-535.5 3428.5,-541.5 3422.5,-547.5 3416.5,-547.5\"/>\n<text text-anchor=\"start\" x=\"3293.5\" y=\"-532.3\" font-family=\"Helvetica,sans-Serif\" font-size=\"14.00\" fill=\"#000000\">gini = 0.676</text>\n<text text-anchor=\"start\" x=\"3287.5\" y=\"-517.3\" font-family=\"Helvetica,sans-Serif\" font-size=\"14.00\" fill=\"#000000\">samples = 25</text>\n<text text-anchor=\"start\" x=\"3242.5\" y=\"-502.3\" font-family=\"Helvetica,sans-Serif\" font-size=\"14.00\" fill=\"#000000\">value = [1, 5, 17, 15, 2, 0, 1]</text>\n</g>\n<!-- 62&#45;&gt;63 -->\n<g id=\"edge63\" class=\"edge\">\n<title>62&#45;&gt;63</title>\n<path fill=\"none\" stroke=\"#000000\" d=\"M3403.3775,-588.8089C3391.8594,-577.9428 3378.9731,-565.7859 3367.3271,-554.7991\"/>\n<polygon fill=\"#000000\" stroke=\"#000000\" points=\"3369.5557,-552.0899 3359.8799,-547.7735 3364.7521,-557.1816 3369.5557,-552.0899\"/>\n</g>\n<!-- 64 -->\n<g id=\"node65\" class=\"node\">\n<title>64</title>\n<path fill=\"#c6f7cb\" stroke=\"#000000\" d=\"M3628.5,-547.5C3628.5,-547.5 3458.5,-547.5 3458.5,-547.5 3452.5,-547.5 3446.5,-541.5 3446.5,-535.5 3446.5,-535.5 3446.5,-506.5 3446.5,-506.5 3446.5,-500.5 3452.5,-494.5 3458.5,-494.5 3458.5,-494.5 3628.5,-494.5 3628.5,-494.5 3634.5,-494.5 3640.5,-500.5 3640.5,-506.5 3640.5,-506.5 3640.5,-535.5 3640.5,-535.5 3640.5,-541.5 3634.5,-547.5 3628.5,-547.5\"/>\n<text text-anchor=\"start\" x=\"3505.5\" y=\"-532.3\" font-family=\"Helvetica,sans-Serif\" font-size=\"14.00\" fill=\"#000000\">gini = 0.689</text>\n<text text-anchor=\"start\" x=\"3499.5\" y=\"-517.3\" font-family=\"Helvetica,sans-Serif\" font-size=\"14.00\" fill=\"#000000\">samples = 26</text>\n<text text-anchor=\"start\" x=\"3454.5\" y=\"-502.3\" font-family=\"Helvetica,sans-Serif\" font-size=\"14.00\" fill=\"#000000\">value = [0, 3, 19, 10, 7, 0, 2]</text>\n</g>\n<!-- 62&#45;&gt;64 -->\n<g id=\"edge64\" class=\"edge\">\n<title>62&#45;&gt;64</title>\n<path fill=\"none\" stroke=\"#000000\" d=\"M3471.6225,-588.8089C3483.1406,-577.9428 3496.0269,-565.7859 3507.6729,-554.7991\"/>\n<polygon fill=\"#000000\" stroke=\"#000000\" points=\"3510.2479,-557.1816 3515.1201,-547.7735 3505.4443,-552.0899 3510.2479,-557.1816\"/>\n</g>\n<!-- 69 -->\n<g id=\"node70\" class=\"node\">\n<title>69</title>\n<path fill=\"#e58139\" stroke=\"#000000\" d=\"M4062.5,-947.5C4062.5,-947.5 3908.5,-947.5 3908.5,-947.5 3902.5,-947.5 3896.5,-941.5 3896.5,-935.5 3896.5,-935.5 3896.5,-906.5 3896.5,-906.5 3896.5,-900.5 3902.5,-894.5 3908.5,-894.5 3908.5,-894.5 4062.5,-894.5 4062.5,-894.5 4068.5,-894.5 4074.5,-900.5 4074.5,-906.5 4074.5,-906.5 4074.5,-935.5 4074.5,-935.5 4074.5,-941.5 4068.5,-947.5 4062.5,-947.5\"/>\n<text text-anchor=\"start\" x=\"3956\" y=\"-932.3\" font-family=\"Helvetica,sans-Serif\" font-size=\"14.00\" fill=\"#000000\">gini = 0.0</text>\n<text text-anchor=\"start\" x=\"3946\" y=\"-917.3\" font-family=\"Helvetica,sans-Serif\" font-size=\"14.00\" fill=\"#000000\">samples = 1</text>\n<text text-anchor=\"start\" x=\"3904.5\" y=\"-902.3\" font-family=\"Helvetica,sans-Serif\" font-size=\"14.00\" fill=\"#000000\">value = [2, 0, 0, 0, 0, 0, 0]</text>\n</g>\n<!-- 68&#45;&gt;69 -->\n<g id=\"edge69\" class=\"edge\">\n<title>68&#45;&gt;69</title>\n<path fill=\"none\" stroke=\"#000000\" d=\"M3985.5,-988.8089C3985.5,-978.9777 3985.5,-968.0898 3985.5,-957.9679\"/>\n<polygon fill=\"#000000\" stroke=\"#000000\" points=\"3989.0001,-957.7735 3985.5,-947.7735 3982.0001,-957.7736 3989.0001,-957.7735\"/>\n</g>\n<!-- 70 -->\n<g id=\"node71\" class=\"node\">\n<title>70</title>\n<path fill=\"#91f19c\" stroke=\"#000000\" d=\"M4274.5,-953C4274.5,-953 4104.5,-953 4104.5,-953 4098.5,-953 4092.5,-947 4092.5,-941 4092.5,-941 4092.5,-901 4092.5,-901 4092.5,-895 4098.5,-889 4104.5,-889 4104.5,-889 4274.5,-889 4274.5,-889 4280.5,-889 4286.5,-895 4286.5,-901 4286.5,-901 4286.5,-941 4286.5,-941 4286.5,-947 4280.5,-953 4274.5,-953\"/>\n<text text-anchor=\"start\" x=\"4163\" y=\"-938.8\" font-family=\"Helvetica,sans-Serif\" font-size=\"14.00\" fill=\"#000000\">X</text>\n<text text-anchor=\"start\" x=\"4173\" y=\"-938.8\" font-family=\"Helvetica,sans-Serif\" baseline-shift=\"sub\" font-size=\"14.00\" fill=\"#000000\">0</text>\n<text text-anchor=\"start\" x=\"4180\" y=\"-938.8\" font-family=\"Helvetica,sans-Serif\" font-size=\"14.00\" fill=\"#000000\"> ≤ 4.5</text>\n<text text-anchor=\"start\" x=\"4151.5\" y=\"-924.8\" font-family=\"Helvetica,sans-Serif\" font-size=\"14.00\" fill=\"#000000\">gini = 0.544</text>\n<text text-anchor=\"start\" x=\"4145.5\" y=\"-910.8\" font-family=\"Helvetica,sans-Serif\" font-size=\"14.00\" fill=\"#000000\">samples = 54</text>\n<text text-anchor=\"start\" x=\"4100.5\" y=\"-896.8\" font-family=\"Helvetica,sans-Serif\" font-size=\"14.00\" fill=\"#000000\">value = [8, 16, 55, 5, 0, 0, 2]</text>\n</g>\n<!-- 68&#45;&gt;70 -->\n<g id=\"edge70\" class=\"edge\">\n<title>68&#45;&gt;70</title>\n<path fill=\"none\" stroke=\"#000000\" d=\"M4050.8886,-988.9467C4071.2938,-978.9442 4093.9529,-967.8368 4114.9381,-957.55\"/>\n<polygon fill=\"#000000\" stroke=\"#000000\" points=\"4116.693,-960.5876 4124.1317,-953.0433 4113.6119,-954.3022 4116.693,-960.5876\"/>\n</g>\n<!-- 71 -->\n<g id=\"node72\" class=\"node\">\n<title>71</title>\n<path fill=\"#8df099\" stroke=\"#000000\" d=\"M4076.5,-853C4076.5,-853 3906.5,-853 3906.5,-853 3900.5,-853 3894.5,-847 3894.5,-841 3894.5,-841 3894.5,-801 3894.5,-801 3894.5,-795 3900.5,-789 3906.5,-789 3906.5,-789 4076.5,-789 4076.5,-789 4082.5,-789 4088.5,-795 4088.5,-801 4088.5,-801 4088.5,-841 4088.5,-841 4088.5,-847 4082.5,-853 4076.5,-853\"/>\n<text text-anchor=\"start\" x=\"3965\" y=\"-838.8\" font-family=\"Helvetica,sans-Serif\" font-size=\"14.00\" fill=\"#000000\">X</text>\n<text text-anchor=\"start\" x=\"3975\" y=\"-838.8\" font-family=\"Helvetica,sans-Serif\" baseline-shift=\"sub\" font-size=\"14.00\" fill=\"#000000\">1</text>\n<text text-anchor=\"start\" x=\"3982\" y=\"-838.8\" font-family=\"Helvetica,sans-Serif\" font-size=\"14.00\" fill=\"#000000\"> ≤ 9.5</text>\n<text text-anchor=\"start\" x=\"3953.5\" y=\"-824.8\" font-family=\"Helvetica,sans-Serif\" font-size=\"14.00\" fill=\"#000000\">gini = 0.524</text>\n<text text-anchor=\"start\" x=\"3947.5\" y=\"-810.8\" font-family=\"Helvetica,sans-Serif\" font-size=\"14.00\" fill=\"#000000\">samples = 52</text>\n<text text-anchor=\"start\" x=\"3902.5\" y=\"-796.8\" font-family=\"Helvetica,sans-Serif\" font-size=\"14.00\" fill=\"#000000\">value = [7, 16, 55, 5, 0, 0, 1]</text>\n</g>\n<!-- 70&#45;&gt;71 -->\n<g id=\"edge71\" class=\"edge\">\n<title>70&#45;&gt;71</title>\n<path fill=\"none\" stroke=\"#000000\" d=\"M4126.0346,-888.9467C4106.3183,-878.989 4084.4341,-867.9364 4064.143,-857.6884\"/>\n<polygon fill=\"#000000\" stroke=\"#000000\" points=\"4065.4498,-854.4274 4054.9457,-853.0433 4062.294,-860.6757 4065.4498,-854.4274\"/>\n</g>\n<!-- 74 -->\n<g id=\"node75\" class=\"node\">\n<title>74</title>\n<path fill=\"#ffffff\" stroke=\"#000000\" d=\"M4272.5,-847.5C4272.5,-847.5 4118.5,-847.5 4118.5,-847.5 4112.5,-847.5 4106.5,-841.5 4106.5,-835.5 4106.5,-835.5 4106.5,-806.5 4106.5,-806.5 4106.5,-800.5 4112.5,-794.5 4118.5,-794.5 4118.5,-794.5 4272.5,-794.5 4272.5,-794.5 4278.5,-794.5 4284.5,-800.5 4284.5,-806.5 4284.5,-806.5 4284.5,-835.5 4284.5,-835.5 4284.5,-841.5 4278.5,-847.5 4272.5,-847.5\"/>\n<text text-anchor=\"start\" x=\"4166\" y=\"-832.3\" font-family=\"Helvetica,sans-Serif\" font-size=\"14.00\" fill=\"#000000\">gini = 0.5</text>\n<text text-anchor=\"start\" x=\"4156\" y=\"-817.3\" font-family=\"Helvetica,sans-Serif\" font-size=\"14.00\" fill=\"#000000\">samples = 2</text>\n<text text-anchor=\"start\" x=\"4114.5\" y=\"-802.3\" font-family=\"Helvetica,sans-Serif\" font-size=\"14.00\" fill=\"#000000\">value = [1, 0, 0, 0, 0, 0, 1]</text>\n</g>\n<!-- 70&#45;&gt;74 -->\n<g id=\"edge74\" class=\"edge\">\n<title>70&#45;&gt;74</title>\n<path fill=\"none\" stroke=\"#000000\" d=\"M4191.4315,-888.8089C4192.0213,-878.9777 4192.6746,-868.0898 4193.2819,-857.9679\"/>\n<polygon fill=\"#000000\" stroke=\"#000000\" points=\"4196.7883,-857.9652 4193.8936,-847.7735 4189.8009,-857.5459 4196.7883,-857.9652\"/>\n</g>\n<!-- 72 -->\n<g id=\"node73\" class=\"node\">\n<title>72</title>\n<path fill=\"#86ef93\" stroke=\"#000000\" d=\"M3974.5,-747.5C3974.5,-747.5 3804.5,-747.5 3804.5,-747.5 3798.5,-747.5 3792.5,-741.5 3792.5,-735.5 3792.5,-735.5 3792.5,-706.5 3792.5,-706.5 3792.5,-700.5 3798.5,-694.5 3804.5,-694.5 3804.5,-694.5 3974.5,-694.5 3974.5,-694.5 3980.5,-694.5 3986.5,-700.5 3986.5,-706.5 3986.5,-706.5 3986.5,-735.5 3986.5,-735.5 3986.5,-741.5 3980.5,-747.5 3974.5,-747.5\"/>\n<text text-anchor=\"start\" x=\"3851.5\" y=\"-732.3\" font-family=\"Helvetica,sans-Serif\" font-size=\"14.00\" fill=\"#000000\">gini = 0.479</text>\n<text text-anchor=\"start\" x=\"3845.5\" y=\"-717.3\" font-family=\"Helvetica,sans-Serif\" font-size=\"14.00\" fill=\"#000000\">samples = 50</text>\n<text text-anchor=\"start\" x=\"3800.5\" y=\"-702.3\" font-family=\"Helvetica,sans-Serif\" font-size=\"14.00\" fill=\"#000000\">value = [7, 16, 55, 2, 0, 0, 0]</text>\n</g>\n<!-- 71&#45;&gt;72 -->\n<g id=\"edge72\" class=\"edge\">\n<title>71&#45;&gt;72</title>\n<path fill=\"none\" stroke=\"#000000\" d=\"M3958.6651,-788.8089C3947.5817,-777.9428 3935.1817,-765.7859 3923.9751,-754.7991\"/>\n<polygon fill=\"#000000\" stroke=\"#000000\" points=\"3926.4,-752.275 3916.809,-747.7735 3921.4995,-757.2735 3926.4,-752.275\"/>\n</g>\n<!-- 73 -->\n<g id=\"node74\" class=\"node\">\n<title>73</title>\n<path fill=\"#7beeec\" stroke=\"#000000\" d=\"M4170.5,-747.5C4170.5,-747.5 4016.5,-747.5 4016.5,-747.5 4010.5,-747.5 4004.5,-741.5 4004.5,-735.5 4004.5,-735.5 4004.5,-706.5 4004.5,-706.5 4004.5,-700.5 4010.5,-694.5 4016.5,-694.5 4016.5,-694.5 4170.5,-694.5 4170.5,-694.5 4176.5,-694.5 4182.5,-700.5 4182.5,-706.5 4182.5,-706.5 4182.5,-735.5 4182.5,-735.5 4182.5,-741.5 4176.5,-747.5 4170.5,-747.5\"/>\n<text text-anchor=\"start\" x=\"4055.5\" y=\"-732.3\" font-family=\"Helvetica,sans-Serif\" font-size=\"14.00\" fill=\"#000000\">gini = 0.375</text>\n<text text-anchor=\"start\" x=\"4054\" y=\"-717.3\" font-family=\"Helvetica,sans-Serif\" font-size=\"14.00\" fill=\"#000000\">samples = 2</text>\n<text text-anchor=\"start\" x=\"4012.5\" y=\"-702.3\" font-family=\"Helvetica,sans-Serif\" font-size=\"14.00\" fill=\"#000000\">value = [0, 0, 0, 3, 0, 0, 1]</text>\n</g>\n<!-- 71&#45;&gt;73 -->\n<g id=\"edge73\" class=\"edge\">\n<title>71&#45;&gt;73</title>\n<path fill=\"none\" stroke=\"#000000\" d=\"M4024.3349,-788.8089C4035.4183,-777.9428 4047.8183,-765.7859 4059.0249,-754.7991\"/>\n<polygon fill=\"#000000\" stroke=\"#000000\" points=\"4061.5005,-757.2735 4066.191,-747.7735 4056.6,-752.275 4061.5005,-757.2735\"/>\n</g>\n<!-- 76 -->\n<g id=\"node77\" class=\"node\">\n<title>76</title>\n<path fill=\"#ffffff\" stroke=\"#000000\" d=\"M5196.5,-1353C5196.5,-1353 4910.5,-1353 4910.5,-1353 4904.5,-1353 4898.5,-1347 4898.5,-1341 4898.5,-1341 4898.5,-1301 4898.5,-1301 4898.5,-1295 4904.5,-1289 4910.5,-1289 4910.5,-1289 5196.5,-1289 5196.5,-1289 5202.5,-1289 5208.5,-1295 5208.5,-1301 5208.5,-1301 5208.5,-1341 5208.5,-1341 5208.5,-1347 5202.5,-1353 5196.5,-1353\"/>\n<text text-anchor=\"start\" x=\"5027\" y=\"-1338.8\" font-family=\"Helvetica,sans-Serif\" font-size=\"14.00\" fill=\"#000000\">X</text>\n<text text-anchor=\"start\" x=\"5037\" y=\"-1338.8\" font-family=\"Helvetica,sans-Serif\" baseline-shift=\"sub\" font-size=\"14.00\" fill=\"#000000\">1</text>\n<text text-anchor=\"start\" x=\"5044\" y=\"-1338.8\" font-family=\"Helvetica,sans-Serif\" font-size=\"14.00\" fill=\"#000000\"> ≤ 0.5</text>\n<text text-anchor=\"start\" x=\"5015.5\" y=\"-1324.8\" font-family=\"Helvetica,sans-Serif\" font-size=\"14.00\" fill=\"#000000\">gini = 0.786</text>\n<text text-anchor=\"start\" x=\"5001.5\" y=\"-1310.8\" font-family=\"Helvetica,sans-Serif\" font-size=\"14.00\" fill=\"#000000\">samples = 4654</text>\n<text text-anchor=\"start\" x=\"4906.5\" y=\"-1296.8\" font-family=\"Helvetica,sans-Serif\" font-size=\"14.00\" fill=\"#000000\">value = [56, 1882, 1748, 898, 447, 340, 1885]</text>\n</g>\n<!-- 75&#45;&gt;76 -->\n<g id=\"edge76\" class=\"edge\">\n<title>75&#45;&gt;76</title>\n<path fill=\"none\" stroke=\"#000000\" d=\"M5324.6075,-1388.9467C5282.0128,-1378.2714 5234.3967,-1366.3375 5191.0986,-1355.4859\"/>\n<polygon fill=\"#000000\" stroke=\"#000000\" points=\"5191.9037,-1352.0794 5181.3528,-1353.0433 5190.2018,-1358.8694 5191.9037,-1352.0794\"/>\n</g>\n<!-- 91 -->\n<g id=\"node92\" class=\"node\">\n<title>91</title>\n<path fill=\"#f5b3d0\" stroke=\"#000000\" d=\"M6281.5,-1353C6281.5,-1353 5913.5,-1353 5913.5,-1353 5907.5,-1353 5901.5,-1347 5901.5,-1341 5901.5,-1341 5901.5,-1301 5901.5,-1301 5901.5,-1295 5907.5,-1289 5913.5,-1289 5913.5,-1289 6281.5,-1289 6281.5,-1289 6287.5,-1289 6293.5,-1295 6293.5,-1301 6293.5,-1301 6293.5,-1341 6293.5,-1341 6293.5,-1347 6287.5,-1353 6281.5,-1353\"/>\n<text text-anchor=\"start\" x=\"6071\" y=\"-1338.8\" font-family=\"Helvetica,sans-Serif\" font-size=\"14.00\" fill=\"#000000\">X</text>\n<text text-anchor=\"start\" x=\"6081\" y=\"-1338.8\" font-family=\"Helvetica,sans-Serif\" baseline-shift=\"sub\" font-size=\"14.00\" fill=\"#000000\">1</text>\n<text text-anchor=\"start\" x=\"6088\" y=\"-1338.8\" font-family=\"Helvetica,sans-Serif\" font-size=\"14.00\" fill=\"#000000\"> ≤ 0.5</text>\n<text text-anchor=\"start\" x=\"6059.5\" y=\"-1324.8\" font-family=\"Helvetica,sans-Serif\" font-size=\"14.00\" fill=\"#000000\">gini = 0.723</text>\n<text text-anchor=\"start\" x=\"6037\" y=\"-1310.8\" font-family=\"Helvetica,sans-Serif\" font-size=\"14.00\" fill=\"#000000\">samples = 106281</text>\n<text text-anchor=\"start\" x=\"5909.5\" y=\"-1296.8\" font-family=\"Helvetica,sans-Serif\" font-size=\"14.00\" fill=\"#000000\">value = [657, 13132, 22134, 22379, 17265, 14021, 78657]</text>\n</g>\n<!-- 75&#45;&gt;91 -->\n<g id=\"edge91\" class=\"edge\">\n<title>75&#45;&gt;91</title>\n<path fill=\"none\" stroke=\"#000000\" d=\"M5648.6483,-1390.5894C5725.5097,-1378.6729 5813.7446,-1364.9931 5891.5299,-1352.9333\"/>\n<polygon fill=\"#000000\" stroke=\"#000000\" points=\"5892.1058,-1356.386 5901.4515,-1351.3951 5891.0333,-1349.4686 5892.1058,-1356.386\"/>\n</g>\n<!-- 77 -->\n<g id=\"node78\" class=\"node\">\n<title>77</title>\n<path fill=\"#f3fbde\" stroke=\"#000000\" d=\"M4877,-1247.5C4877,-1247.5 4624,-1247.5 4624,-1247.5 4618,-1247.5 4612,-1241.5 4612,-1235.5 4612,-1235.5 4612,-1206.5 4612,-1206.5 4612,-1200.5 4618,-1194.5 4624,-1194.5 4624,-1194.5 4877,-1194.5 4877,-1194.5 4883,-1194.5 4889,-1200.5 4889,-1206.5 4889,-1206.5 4889,-1235.5 4889,-1235.5 4889,-1241.5 4883,-1247.5 4877,-1247.5\"/>\n<text text-anchor=\"start\" x=\"4712.5\" y=\"-1232.3\" font-family=\"Helvetica,sans-Serif\" font-size=\"14.00\" fill=\"#000000\">gini = 0.668</text>\n<text text-anchor=\"start\" x=\"4698.5\" y=\"-1217.3\" font-family=\"Helvetica,sans-Serif\" font-size=\"14.00\" fill=\"#000000\">samples = 1506</text>\n<text text-anchor=\"start\" x=\"4620\" y=\"-1202.3\" font-family=\"Helvetica,sans-Serif\" font-size=\"14.00\" fill=\"#000000\">value = [27, 1051, 788, 308, 124, 31, 24]</text>\n</g>\n<!-- 76&#45;&gt;77 -->\n<g id=\"edge77\" class=\"edge\">\n<title>76&#45;&gt;77</title>\n<path fill=\"none\" stroke=\"#000000\" d=\"M4956.3786,-1288.9467C4919.1963,-1276.6754 4876.9754,-1262.7411 4840.4883,-1250.6991\"/>\n<polygon fill=\"#000000\" stroke=\"#000000\" points=\"4841.4449,-1247.3292 4830.8517,-1247.5187 4839.251,-1253.9765 4841.4449,-1247.3292\"/>\n</g>\n<!-- 78 -->\n<g id=\"node79\" class=\"node\">\n<title>78</title>\n<path fill=\"#f9d2e3\" stroke=\"#000000\" d=\"M5188,-1253C5188,-1253 4919,-1253 4919,-1253 4913,-1253 4907,-1247 4907,-1241 4907,-1241 4907,-1201 4907,-1201 4907,-1195 4913,-1189 4919,-1189 4919,-1189 5188,-1189 5188,-1189 5194,-1189 5200,-1195 5200,-1201 5200,-1201 5200,-1241 5200,-1241 5200,-1247 5194,-1253 5188,-1253\"/>\n<text text-anchor=\"start\" x=\"5027\" y=\"-1238.8\" font-family=\"Helvetica,sans-Serif\" font-size=\"14.00\" fill=\"#000000\">X</text>\n<text text-anchor=\"start\" x=\"5037\" y=\"-1238.8\" font-family=\"Helvetica,sans-Serif\" baseline-shift=\"sub\" font-size=\"14.00\" fill=\"#000000\">1</text>\n<text text-anchor=\"start\" x=\"5044\" y=\"-1238.8\" font-family=\"Helvetica,sans-Serif\" font-size=\"14.00\" fill=\"#000000\"> ≤ 1.5</text>\n<text text-anchor=\"start\" x=\"5015.5\" y=\"-1224.8\" font-family=\"Helvetica,sans-Serif\" font-size=\"14.00\" fill=\"#000000\">gini = 0.766</text>\n<text text-anchor=\"start\" x=\"5001.5\" y=\"-1210.8\" font-family=\"Helvetica,sans-Serif\" font-size=\"14.00\" fill=\"#000000\">samples = 3148</text>\n<text text-anchor=\"start\" x=\"4915\" y=\"-1196.8\" font-family=\"Helvetica,sans-Serif\" font-size=\"14.00\" fill=\"#000000\">value = [29, 831, 960, 590, 323, 309, 1861]</text>\n</g>\n<!-- 76&#45;&gt;78 -->\n<g id=\"edge78\" class=\"edge\">\n<title>76&#45;&gt;78</title>\n<path fill=\"none\" stroke=\"#000000\" d=\"M5053.5,-1288.8089C5053.5,-1280.6906 5053.5,-1271.8517 5053.5,-1263.3186\"/>\n<polygon fill=\"#000000\" stroke=\"#000000\" points=\"5057.0001,-1263.1307 5053.5,-1253.1308 5050.0001,-1263.1308 5057.0001,-1263.1307\"/>\n</g>\n<!-- 79 -->\n<g id=\"node80\" class=\"node\">\n<title>79</title>\n<path fill=\"#ec6da6\" stroke=\"#000000\" d=\"M4888.5,-1147.5C4888.5,-1147.5 4652.5,-1147.5 4652.5,-1147.5 4646.5,-1147.5 4640.5,-1141.5 4640.5,-1135.5 4640.5,-1135.5 4640.5,-1106.5 4640.5,-1106.5 4640.5,-1100.5 4646.5,-1094.5 4652.5,-1094.5 4652.5,-1094.5 4888.5,-1094.5 4888.5,-1094.5 4894.5,-1094.5 4900.5,-1100.5 4900.5,-1106.5 4900.5,-1106.5 4900.5,-1135.5 4900.5,-1135.5 4900.5,-1141.5 4894.5,-1147.5 4888.5,-1147.5\"/>\n<text text-anchor=\"start\" x=\"4732.5\" y=\"-1132.3\" font-family=\"Helvetica,sans-Serif\" font-size=\"14.00\" fill=\"#000000\">gini = 0.394</text>\n<text text-anchor=\"start\" x=\"4718.5\" y=\"-1117.3\" font-family=\"Helvetica,sans-Serif\" font-size=\"14.00\" fill=\"#000000\">samples = 1539</text>\n<text text-anchor=\"start\" x=\"4648.5\" y=\"-1102.3\" font-family=\"Helvetica,sans-Serif\" font-size=\"14.00\" fill=\"#000000\">value = [2, 14, 39, 67, 178, 260, 1842]</text>\n</g>\n<!-- 78&#45;&gt;79 -->\n<g id=\"edge79\" class=\"edge\">\n<title>78&#45;&gt;79</title>\n<path fill=\"none\" stroke=\"#000000\" d=\"M4962.7893,-1188.9467C4928.209,-1176.7276 4888.9627,-1162.8596 4854.9839,-1150.853\"/>\n<polygon fill=\"#000000\" stroke=\"#000000\" points=\"4856.1428,-1147.5504 4845.548,-1147.5187 4853.8106,-1154.1505 4856.1428,-1147.5504\"/>\n</g>\n<!-- 80 -->\n<g id=\"node81\" class=\"node\">\n<title>80</title>\n<path fill=\"#f3fdf4\" stroke=\"#000000\" d=\"M5176,-1153C5176,-1153 4931,-1153 4931,-1153 4925,-1153 4919,-1147 4919,-1141 4919,-1141 4919,-1101 4919,-1101 4919,-1095 4925,-1089 4931,-1089 4931,-1089 5176,-1089 5176,-1089 5182,-1089 5188,-1095 5188,-1101 5188,-1101 5188,-1141 5188,-1141 5188,-1147 5182,-1153 5176,-1153\"/>\n<text text-anchor=\"start\" x=\"5027\" y=\"-1138.8\" font-family=\"Helvetica,sans-Serif\" font-size=\"14.00\" fill=\"#000000\">X</text>\n<text text-anchor=\"start\" x=\"5037\" y=\"-1138.8\" font-family=\"Helvetica,sans-Serif\" baseline-shift=\"sub\" font-size=\"14.00\" fill=\"#000000\">1</text>\n<text text-anchor=\"start\" x=\"5044\" y=\"-1138.8\" font-family=\"Helvetica,sans-Serif\" font-size=\"14.00\" fill=\"#000000\"> ≤ 5.0</text>\n<text text-anchor=\"start\" x=\"5020\" y=\"-1124.8\" font-family=\"Helvetica,sans-Serif\" font-size=\"14.00\" fill=\"#000000\">gini = 0.71</text>\n<text text-anchor=\"start\" x=\"5001.5\" y=\"-1110.8\" font-family=\"Helvetica,sans-Serif\" font-size=\"14.00\" fill=\"#000000\">samples = 1609</text>\n<text text-anchor=\"start\" x=\"4927\" y=\"-1096.8\" font-family=\"Helvetica,sans-Serif\" font-size=\"14.00\" fill=\"#000000\">value = [27, 817, 921, 523, 145, 49, 19]</text>\n</g>\n<!-- 78&#45;&gt;80 -->\n<g id=\"edge80\" class=\"edge\">\n<title>78&#45;&gt;80</title>\n<path fill=\"none\" stroke=\"#000000\" d=\"M5053.5,-1188.8089C5053.5,-1180.6906 5053.5,-1171.8517 5053.5,-1163.3186\"/>\n<polygon fill=\"#000000\" stroke=\"#000000\" points=\"5057.0001,-1163.1307 5053.5,-1153.1308 5050.0001,-1163.1308 5057.0001,-1163.1307\"/>\n</g>\n<!-- 81 -->\n<g id=\"node82\" class=\"node\">\n<title>81</title>\n<path fill=\"#ecfdee\" stroke=\"#000000\" d=\"M4802.5,-1053C4802.5,-1053 4566.5,-1053 4566.5,-1053 4560.5,-1053 4554.5,-1047 4554.5,-1041 4554.5,-1041 4554.5,-1001 4554.5,-1001 4554.5,-995 4560.5,-989 4566.5,-989 4566.5,-989 4802.5,-989 4802.5,-989 4808.5,-989 4814.5,-995 4814.5,-1001 4814.5,-1001 4814.5,-1041 4814.5,-1041 4814.5,-1047 4808.5,-1053 4802.5,-1053\"/>\n<text text-anchor=\"start\" x=\"4658\" y=\"-1038.8\" font-family=\"Helvetica,sans-Serif\" font-size=\"14.00\" fill=\"#000000\">X</text>\n<text text-anchor=\"start\" x=\"4668\" y=\"-1038.8\" font-family=\"Helvetica,sans-Serif\" baseline-shift=\"sub\" font-size=\"14.00\" fill=\"#000000\">1</text>\n<text text-anchor=\"start\" x=\"4675\" y=\"-1038.8\" font-family=\"Helvetica,sans-Serif\" font-size=\"14.00\" fill=\"#000000\"> ≤ 3.5</text>\n<text text-anchor=\"start\" x=\"4646.5\" y=\"-1024.8\" font-family=\"Helvetica,sans-Serif\" font-size=\"14.00\" fill=\"#000000\">gini = 0.709</text>\n<text text-anchor=\"start\" x=\"4636.5\" y=\"-1010.8\" font-family=\"Helvetica,sans-Serif\" font-size=\"14.00\" fill=\"#000000\">samples = 964</text>\n<text text-anchor=\"start\" x=\"4562.5\" y=\"-996.8\" font-family=\"Helvetica,sans-Serif\" font-size=\"14.00\" fill=\"#000000\">value = [0, 206, 584, 488, 144, 49, 19]</text>\n</g>\n<!-- 80&#45;&gt;81 -->\n<g id=\"edge81\" class=\"edge\">\n<title>80&#45;&gt;81</title>\n<path fill=\"none\" stroke=\"#000000\" d=\"M4935.2235,-1088.9467C4896.0796,-1078.3387 4852.3504,-1066.4879 4812.5104,-1055.6912\"/>\n<polygon fill=\"#000000\" stroke=\"#000000\" points=\"4813.3071,-1052.2809 4802.7398,-1053.0433 4811.4761,-1059.0372 4813.3071,-1052.2809\"/>\n</g>\n<!-- 86 -->\n<g id=\"node87\" class=\"node\">\n<title>86</title>\n<path fill=\"#e2f4af\" stroke=\"#000000\" d=\"M5155,-1053C5155,-1053 4952,-1053 4952,-1053 4946,-1053 4940,-1047 4940,-1041 4940,-1041 4940,-1001 4940,-1001 4940,-995 4946,-989 4952,-989 4952,-989 5155,-989 5155,-989 5161,-989 5167,-995 5167,-1001 5167,-1001 5167,-1041 5167,-1041 5167,-1047 5161,-1053 5155,-1053\"/>\n<text text-anchor=\"start\" x=\"5027\" y=\"-1038.8\" font-family=\"Helvetica,sans-Serif\" font-size=\"14.00\" fill=\"#000000\">X</text>\n<text text-anchor=\"start\" x=\"5037\" y=\"-1038.8\" font-family=\"Helvetica,sans-Serif\" baseline-shift=\"sub\" font-size=\"14.00\" fill=\"#000000\">1</text>\n<text text-anchor=\"start\" x=\"5044\" y=\"-1038.8\" font-family=\"Helvetica,sans-Serif\" font-size=\"14.00\" fill=\"#000000\"> ≤ 6.5</text>\n<text text-anchor=\"start\" x=\"5015.5\" y=\"-1024.8\" font-family=\"Helvetica,sans-Serif\" font-size=\"14.00\" fill=\"#000000\">gini = 0.522</text>\n<text text-anchor=\"start\" x=\"5005.5\" y=\"-1010.8\" font-family=\"Helvetica,sans-Serif\" font-size=\"14.00\" fill=\"#000000\">samples = 645</text>\n<text text-anchor=\"start\" x=\"4948\" y=\"-996.8\" font-family=\"Helvetica,sans-Serif\" font-size=\"14.00\" fill=\"#000000\">value = [27, 611, 337, 35, 1, 0, 0]</text>\n</g>\n<!-- 80&#45;&gt;86 -->\n<g id=\"edge86\" class=\"edge\">\n<title>80&#45;&gt;86</title>\n<path fill=\"none\" stroke=\"#000000\" d=\"M5053.5,-1088.8089C5053.5,-1080.6906 5053.5,-1071.8517 5053.5,-1063.3186\"/>\n<polygon fill=\"#000000\" stroke=\"#000000\" points=\"5057.0001,-1063.1307 5053.5,-1053.1308 5050.0001,-1063.1308 5057.0001,-1063.1307\"/>\n</g>\n<!-- 82 -->\n<g id=\"node83\" class=\"node\">\n<title>82</title>\n<path fill=\"#f5fefd\" stroke=\"#000000\" d=\"M4536.5,-953C4536.5,-953 4316.5,-953 4316.5,-953 4310.5,-953 4304.5,-947 4304.5,-941 4304.5,-941 4304.5,-901 4304.5,-901 4304.5,-895 4310.5,-889 4316.5,-889 4316.5,-889 4536.5,-889 4536.5,-889 4542.5,-889 4548.5,-895 4548.5,-901 4548.5,-901 4548.5,-941 4548.5,-941 4548.5,-947 4542.5,-953 4536.5,-953\"/>\n<text text-anchor=\"start\" x=\"4400\" y=\"-938.8\" font-family=\"Helvetica,sans-Serif\" font-size=\"14.00\" fill=\"#000000\">X</text>\n<text text-anchor=\"start\" x=\"4410\" y=\"-938.8\" font-family=\"Helvetica,sans-Serif\" baseline-shift=\"sub\" font-size=\"14.00\" fill=\"#000000\">1</text>\n<text text-anchor=\"start\" x=\"4417\" y=\"-938.8\" font-family=\"Helvetica,sans-Serif\" font-size=\"14.00\" fill=\"#000000\"> ≤ 2.5</text>\n<text text-anchor=\"start\" x=\"4388.5\" y=\"-924.8\" font-family=\"Helvetica,sans-Serif\" font-size=\"14.00\" fill=\"#000000\">gini = 0.768</text>\n<text text-anchor=\"start\" x=\"4378.5\" y=\"-910.8\" font-family=\"Helvetica,sans-Serif\" font-size=\"14.00\" fill=\"#000000\">samples = 237</text>\n<text text-anchor=\"start\" x=\"4312.5\" y=\"-896.8\" font-family=\"Helvetica,sans-Serif\" font-size=\"14.00\" fill=\"#000000\">value = [0, 14, 69, 115, 101, 49, 18]</text>\n</g>\n<!-- 81&#45;&gt;82 -->\n<g id=\"edge82\" class=\"edge\">\n<title>81&#45;&gt;82</title>\n<path fill=\"none\" stroke=\"#000000\" d=\"M4601.8026,-988.9467C4575.3017,-978.6751 4545.7948,-967.2383 4518.6613,-956.7214\"/>\n<polygon fill=\"#000000\" stroke=\"#000000\" points=\"4519.7607,-953.3939 4509.1717,-953.0433 4517.2309,-959.9208 4519.7607,-953.3939\"/>\n</g>\n<!-- 85 -->\n<g id=\"node86\" class=\"node\">\n<title>85</title>\n<path fill=\"#dafadd\" stroke=\"#000000\" d=\"M4790.5,-947.5C4790.5,-947.5 4578.5,-947.5 4578.5,-947.5 4572.5,-947.5 4566.5,-941.5 4566.5,-935.5 4566.5,-935.5 4566.5,-906.5 4566.5,-906.5 4566.5,-900.5 4572.5,-894.5 4578.5,-894.5 4578.5,-894.5 4790.5,-894.5 4790.5,-894.5 4796.5,-894.5 4802.5,-900.5 4802.5,-906.5 4802.5,-906.5 4802.5,-935.5 4802.5,-935.5 4802.5,-941.5 4796.5,-947.5 4790.5,-947.5\"/>\n<text text-anchor=\"start\" x=\"4646.5\" y=\"-932.3\" font-family=\"Helvetica,sans-Serif\" font-size=\"14.00\" fill=\"#000000\">gini = 0.649</text>\n<text text-anchor=\"start\" x=\"4636.5\" y=\"-917.3\" font-family=\"Helvetica,sans-Serif\" font-size=\"14.00\" fill=\"#000000\">samples = 727</text>\n<text text-anchor=\"start\" x=\"4574.5\" y=\"-902.3\" font-family=\"Helvetica,sans-Serif\" font-size=\"14.00\" fill=\"#000000\">value = [0, 192, 515, 373, 43, 0, 1]</text>\n</g>\n<!-- 81&#45;&gt;85 -->\n<g id=\"edge85\" class=\"edge\">\n<title>81&#45;&gt;85</title>\n<path fill=\"none\" stroke=\"#000000\" d=\"M4684.5,-988.8089C4684.5,-978.9777 4684.5,-968.0898 4684.5,-957.9679\"/>\n<polygon fill=\"#000000\" stroke=\"#000000\" points=\"4688.0001,-957.7735 4684.5,-947.7735 4681.0001,-957.7736 4688.0001,-957.7735\"/>\n</g>\n<!-- 83 -->\n<g id=\"node84\" class=\"node\">\n<title>83</title>\n<path fill=\"#eaedfc\" stroke=\"#000000\" d=\"M4508,-847.5C4508,-847.5 4321,-847.5 4321,-847.5 4315,-847.5 4309,-841.5 4309,-835.5 4309,-835.5 4309,-806.5 4309,-806.5 4309,-800.5 4315,-794.5 4321,-794.5 4321,-794.5 4508,-794.5 4508,-794.5 4514,-794.5 4520,-800.5 4520,-806.5 4520,-806.5 4520,-835.5 4520,-835.5 4520,-841.5 4514,-847.5 4508,-847.5\"/>\n<text text-anchor=\"start\" x=\"4376.5\" y=\"-832.3\" font-family=\"Helvetica,sans-Serif\" font-size=\"14.00\" fill=\"#000000\">gini = 0.782</text>\n<text text-anchor=\"start\" x=\"4370.5\" y=\"-817.3\" font-family=\"Helvetica,sans-Serif\" font-size=\"14.00\" fill=\"#000000\">samples = 51</text>\n<text text-anchor=\"start\" x=\"4317\" y=\"-802.3\" font-family=\"Helvetica,sans-Serif\" font-size=\"14.00\" fill=\"#000000\">value = [0, 3, 16, 20, 27, 10, 9]</text>\n</g>\n<!-- 82&#45;&gt;83 -->\n<g id=\"edge83\" class=\"edge\">\n<title>82&#45;&gt;83</title>\n<path fill=\"none\" stroke=\"#000000\" d=\"M4422.6371,-888.8089C4421.4573,-878.9777 4420.1508,-868.0898 4418.9362,-857.9679\"/>\n<polygon fill=\"#000000\" stroke=\"#000000\" points=\"4422.3794,-857.2853 4417.7128,-847.7735 4415.4293,-858.1193 4422.3794,-857.2853\"/>\n</g>\n<!-- 84 -->\n<g id=\"node85\" class=\"node\">\n<title>84</title>\n<path fill=\"#ebfcfc\" stroke=\"#000000\" d=\"M4745,-847.5C4745,-847.5 4550,-847.5 4550,-847.5 4544,-847.5 4538,-841.5 4538,-835.5 4538,-835.5 4538,-806.5 4538,-806.5 4538,-800.5 4544,-794.5 4550,-794.5 4550,-794.5 4745,-794.5 4745,-794.5 4751,-794.5 4757,-800.5 4757,-806.5 4757,-806.5 4757,-835.5 4757,-835.5 4757,-841.5 4751,-847.5 4745,-847.5\"/>\n<text text-anchor=\"start\" x=\"4609.5\" y=\"-832.3\" font-family=\"Helvetica,sans-Serif\" font-size=\"14.00\" fill=\"#000000\">gini = 0.759</text>\n<text text-anchor=\"start\" x=\"4599.5\" y=\"-817.3\" font-family=\"Helvetica,sans-Serif\" font-size=\"14.00\" fill=\"#000000\">samples = 186</text>\n<text text-anchor=\"start\" x=\"4546\" y=\"-802.3\" font-family=\"Helvetica,sans-Serif\" font-size=\"14.00\" fill=\"#000000\">value = [0, 11, 53, 95, 74, 39, 9]</text>\n</g>\n<!-- 82&#45;&gt;84 -->\n<g id=\"edge84\" class=\"edge\">\n<title>82&#45;&gt;84</title>\n<path fill=\"none\" stroke=\"#000000\" d=\"M4497.3377,-888.9467C4523.6496,-877.0409 4553.4209,-863.5697 4579.4759,-851.7802\"/>\n<polygon fill=\"#000000\" stroke=\"#000000\" points=\"4581.2258,-854.83 4588.8936,-847.5187 4578.34,-848.4525 4581.2258,-854.83\"/>\n</g>\n<!-- 87 -->\n<g id=\"node88\" class=\"node\">\n<title>87</title>\n<path fill=\"#caec6c\" stroke=\"#000000\" d=\"M5020,-947.5C5020,-947.5 4833,-947.5 4833,-947.5 4827,-947.5 4821,-941.5 4821,-935.5 4821,-935.5 4821,-906.5 4821,-906.5 4821,-900.5 4827,-894.5 4833,-894.5 4833,-894.5 5020,-894.5 5020,-894.5 5026,-894.5 5032,-900.5 5032,-906.5 5032,-906.5 5032,-935.5 5032,-935.5 5032,-941.5 5026,-947.5 5020,-947.5\"/>\n<text text-anchor=\"start\" x=\"4888.5\" y=\"-932.3\" font-family=\"Helvetica,sans-Serif\" font-size=\"14.00\" fill=\"#000000\">gini = 0.366</text>\n<text text-anchor=\"start\" x=\"4878.5\" y=\"-917.3\" font-family=\"Helvetica,sans-Serif\" font-size=\"14.00\" fill=\"#000000\">samples = 202</text>\n<text text-anchor=\"start\" x=\"4829\" y=\"-902.3\" font-family=\"Helvetica,sans-Serif\" font-size=\"14.00\" fill=\"#000000\">value = [24, 261, 50, 0, 0, 0, 0]</text>\n</g>\n<!-- 86&#45;&gt;87 -->\n<g id=\"edge87\" class=\"edge\">\n<title>86&#45;&gt;87</title>\n<path fill=\"none\" stroke=\"#000000\" d=\"M5012.6173,-988.8089C4998.5545,-977.7359 4982.7894,-965.3223 4968.6292,-954.1726\"/>\n<polygon fill=\"#000000\" stroke=\"#000000\" points=\"4970.5244,-951.2101 4960.5024,-947.7735 4966.1939,-956.7098 4970.5244,-951.2101\"/>\n</g>\n<!-- 88 -->\n<g id=\"node89\" class=\"node\">\n<title>88</title>\n<path fill=\"#f3fbdf\" stroke=\"#000000\" d=\"M5257,-953C5257,-953 5062,-953 5062,-953 5056,-953 5050,-947 5050,-941 5050,-941 5050,-901 5050,-901 5050,-895 5056,-889 5062,-889 5062,-889 5257,-889 5257,-889 5263,-889 5269,-895 5269,-901 5269,-901 5269,-941 5269,-941 5269,-947 5263,-953 5257,-953\"/>\n<text text-anchor=\"start\" x=\"5133\" y=\"-938.8\" font-family=\"Helvetica,sans-Serif\" font-size=\"14.00\" fill=\"#000000\">X</text>\n<text text-anchor=\"start\" x=\"5143\" y=\"-938.8\" font-family=\"Helvetica,sans-Serif\" baseline-shift=\"sub\" font-size=\"14.00\" fill=\"#000000\">1</text>\n<text text-anchor=\"start\" x=\"5150\" y=\"-938.8\" font-family=\"Helvetica,sans-Serif\" font-size=\"14.00\" fill=\"#000000\"> ≤ 8.0</text>\n<text text-anchor=\"start\" x=\"5121.5\" y=\"-924.8\" font-family=\"Helvetica,sans-Serif\" font-size=\"14.00\" fill=\"#000000\">gini = 0.549</text>\n<text text-anchor=\"start\" x=\"5111.5\" y=\"-910.8\" font-family=\"Helvetica,sans-Serif\" font-size=\"14.00\" fill=\"#000000\">samples = 443</text>\n<text text-anchor=\"start\" x=\"5058\" y=\"-896.8\" font-family=\"Helvetica,sans-Serif\" font-size=\"14.00\" fill=\"#000000\">value = [3, 350, 287, 35, 1, 0, 0]</text>\n</g>\n<!-- 86&#45;&gt;88 -->\n<g id=\"edge88\" class=\"edge\">\n<title>86&#45;&gt;88</title>\n<path fill=\"none\" stroke=\"#000000\" d=\"M5087.6225,-988.8089C5097.2682,-979.7092 5107.8734,-969.7043 5117.9062,-960.2394\"/>\n<polygon fill=\"#000000\" stroke=\"#000000\" points=\"5120.5692,-962.5389 5125.4414,-953.1308 5115.7657,-957.4471 5120.5692,-962.5389\"/>\n</g>\n<!-- 89 -->\n<g id=\"node90\" class=\"node\">\n<title>89</title>\n<path fill=\"#e58139\" stroke=\"#000000\" d=\"M5015.5,-847.5C5015.5,-847.5 4861.5,-847.5 4861.5,-847.5 4855.5,-847.5 4849.5,-841.5 4849.5,-835.5 4849.5,-835.5 4849.5,-806.5 4849.5,-806.5 4849.5,-800.5 4855.5,-794.5 4861.5,-794.5 4861.5,-794.5 5015.5,-794.5 5015.5,-794.5 5021.5,-794.5 5027.5,-800.5 5027.5,-806.5 5027.5,-806.5 5027.5,-835.5 5027.5,-835.5 5027.5,-841.5 5021.5,-847.5 5015.5,-847.5\"/>\n<text text-anchor=\"start\" x=\"4909\" y=\"-832.3\" font-family=\"Helvetica,sans-Serif\" font-size=\"14.00\" fill=\"#000000\">gini = 0.0</text>\n<text text-anchor=\"start\" x=\"4899\" y=\"-817.3\" font-family=\"Helvetica,sans-Serif\" font-size=\"14.00\" fill=\"#000000\">samples = 2</text>\n<text text-anchor=\"start\" x=\"4857.5\" y=\"-802.3\" font-family=\"Helvetica,sans-Serif\" font-size=\"14.00\" fill=\"#000000\">value = [3, 0, 0, 0, 0, 0, 0]</text>\n</g>\n<!-- 88&#45;&gt;89 -->\n<g id=\"edge89\" class=\"edge\">\n<title>88&#45;&gt;89</title>\n<path fill=\"none\" stroke=\"#000000\" d=\"M5088.6623,-888.9467C5062.3504,-877.0409 5032.5791,-863.5697 5006.5241,-851.7802\"/>\n<polygon fill=\"#000000\" stroke=\"#000000\" points=\"5007.66,-848.4525 4997.1064,-847.5187 5004.7742,-854.83 5007.66,-848.4525\"/>\n</g>\n<!-- 90 -->\n<g id=\"node91\" class=\"node\">\n<title>90</title>\n<path fill=\"#f3fbdf\" stroke=\"#000000\" d=\"M5253,-847.5C5253,-847.5 5058,-847.5 5058,-847.5 5052,-847.5 5046,-841.5 5046,-835.5 5046,-835.5 5046,-806.5 5046,-806.5 5046,-800.5 5052,-794.5 5058,-794.5 5058,-794.5 5253,-794.5 5253,-794.5 5259,-794.5 5265,-800.5 5265,-806.5 5265,-806.5 5265,-835.5 5265,-835.5 5265,-841.5 5259,-847.5 5253,-847.5\"/>\n<text text-anchor=\"start\" x=\"5117.5\" y=\"-832.3\" font-family=\"Helvetica,sans-Serif\" font-size=\"14.00\" fill=\"#000000\">gini = 0.545</text>\n<text text-anchor=\"start\" x=\"5107.5\" y=\"-817.3\" font-family=\"Helvetica,sans-Serif\" font-size=\"14.00\" fill=\"#000000\">samples = 441</text>\n<text text-anchor=\"start\" x=\"5054\" y=\"-802.3\" font-family=\"Helvetica,sans-Serif\" font-size=\"14.00\" fill=\"#000000\">value = [0, 350, 287, 35, 1, 0, 0]</text>\n</g>\n<!-- 88&#45;&gt;90 -->\n<g id=\"edge90\" class=\"edge\">\n<title>88&#45;&gt;90</title>\n<path fill=\"none\" stroke=\"#000000\" d=\"M5158.2124,-888.8089C5157.8191,-878.9777 5157.3836,-868.0898 5156.9787,-857.9679\"/>\n<polygon fill=\"#000000\" stroke=\"#000000\" points=\"5160.4679,-857.6256 5156.5709,-847.7735 5153.4735,-857.9055 5160.4679,-857.6256\"/>\n</g>\n<!-- 92 -->\n<g id=\"node93\" class=\"node\">\n<title>92</title>\n<path fill=\"#f1fdf3\" stroke=\"#000000\" d=\"M6261,-1253C6261,-1253 5934,-1253 5934,-1253 5928,-1253 5922,-1247 5922,-1241 5922,-1241 5922,-1201 5922,-1201 5922,-1195 5928,-1189 5934,-1189 5934,-1189 6261,-1189 6261,-1189 6267,-1189 6273,-1195 6273,-1201 6273,-1201 6273,-1241 6273,-1241 6273,-1247 6267,-1253 6261,-1253\"/>\n<text text-anchor=\"start\" x=\"6067\" y=\"-1238.8\" font-family=\"Helvetica,sans-Serif\" font-size=\"14.00\" fill=\"#000000\">X</text>\n<text text-anchor=\"start\" x=\"6077\" y=\"-1238.8\" font-family=\"Helvetica,sans-Serif\" baseline-shift=\"sub\" font-size=\"14.00\" fill=\"#000000\">0</text>\n<text text-anchor=\"start\" x=\"6084\" y=\"-1238.8\" font-family=\"Helvetica,sans-Serif\" font-size=\"14.00\" fill=\"#000000\"> ≤ 10.5</text>\n<text text-anchor=\"start\" x=\"6059.5\" y=\"-1224.8\" font-family=\"Helvetica,sans-Serif\" font-size=\"14.00\" fill=\"#000000\">gini = 0.773</text>\n<text text-anchor=\"start\" x=\"6041.5\" y=\"-1210.8\" font-family=\"Helvetica,sans-Serif\" font-size=\"14.00\" fill=\"#000000\">samples = 21694</text>\n<text text-anchor=\"start\" x=\"5930\" y=\"-1196.8\" font-family=\"Helvetica,sans-Serif\" font-size=\"14.00\" fill=\"#000000\">value = [141, 6243, 10958, 9198, 4184, 1831, 1742]</text>\n</g>\n<!-- 91&#45;&gt;92 -->\n<g id=\"edge92\" class=\"edge\">\n<title>91&#45;&gt;92</title>\n<path fill=\"none\" stroke=\"#000000\" d=\"M6097.5,-1288.8089C6097.5,-1280.6906 6097.5,-1271.8517 6097.5,-1263.3186\"/>\n<polygon fill=\"#000000\" stroke=\"#000000\" points=\"6101.0001,-1263.1307 6097.5,-1253.1308 6094.0001,-1263.1308 6101.0001,-1263.1307\"/>\n</g>\n<!-- 127 -->\n<g id=\"node128\" class=\"node\">\n<title>127</title>\n<path fill=\"#f197bf\" stroke=\"#000000\" d=\"M8439.5,-1253C8439.5,-1253 8079.5,-1253 8079.5,-1253 8073.5,-1253 8067.5,-1247 8067.5,-1241 8067.5,-1241 8067.5,-1201 8067.5,-1201 8067.5,-1195 8073.5,-1189 8079.5,-1189 8079.5,-1189 8439.5,-1189 8439.5,-1189 8445.5,-1189 8451.5,-1195 8451.5,-1201 8451.5,-1201 8451.5,-1241 8451.5,-1241 8451.5,-1247 8445.5,-1253 8439.5,-1253\"/>\n<text text-anchor=\"start\" x=\"8233\" y=\"-1238.8\" font-family=\"Helvetica,sans-Serif\" font-size=\"14.00\" fill=\"#000000\">X</text>\n<text text-anchor=\"start\" x=\"8243\" y=\"-1238.8\" font-family=\"Helvetica,sans-Serif\" baseline-shift=\"sub\" font-size=\"14.00\" fill=\"#000000\">1</text>\n<text text-anchor=\"start\" x=\"8250\" y=\"-1238.8\" font-family=\"Helvetica,sans-Serif\" font-size=\"14.00\" fill=\"#000000\"> ≤ 1.5</text>\n<text text-anchor=\"start\" x=\"8221.5\" y=\"-1224.8\" font-family=\"Helvetica,sans-Serif\" font-size=\"14.00\" fill=\"#000000\">gini = 0.633</text>\n<text text-anchor=\"start\" x=\"8203.5\" y=\"-1210.8\" font-family=\"Helvetica,sans-Serif\" font-size=\"14.00\" fill=\"#000000\">samples = 84587</text>\n<text text-anchor=\"start\" x=\"8075.5\" y=\"-1196.8\" font-family=\"Helvetica,sans-Serif\" font-size=\"14.00\" fill=\"#000000\">value = [516, 6889, 11176, 13181, 13081, 12190, 76915]</text>\n</g>\n<!-- 91&#45;&gt;127 -->\n<g id=\"edge127\" class=\"edge\">\n<title>91&#45;&gt;127</title>\n<path fill=\"none\" stroke=\"#000000\" d=\"M6293.6551,-1311.9271C6702.6664,-1293.009 7642.9076,-1249.5195 8057.1889,-1230.3576\"/>\n<polygon fill=\"#000000\" stroke=\"#000000\" points=\"8057.6531,-1233.84 8067.4807,-1229.8816 8057.3296,-1226.8474 8057.6531,-1233.84\"/>\n</g>\n<!-- 93 -->\n<g id=\"node94\" class=\"node\">\n<title>93</title>\n<path fill=\"#e7fce9\" stroke=\"#000000\" d=\"M6072.5,-1153C6072.5,-1153 5778.5,-1153 5778.5,-1153 5772.5,-1153 5766.5,-1147 5766.5,-1141 5766.5,-1141 5766.5,-1101 5766.5,-1101 5766.5,-1095 5772.5,-1089 5778.5,-1089 5778.5,-1089 6072.5,-1089 6072.5,-1089 6078.5,-1089 6084.5,-1095 6084.5,-1101 6084.5,-1101 6084.5,-1141 6084.5,-1141 6084.5,-1147 6078.5,-1153 6072.5,-1153\"/>\n<text text-anchor=\"start\" x=\"5899\" y=\"-1138.8\" font-family=\"Helvetica,sans-Serif\" font-size=\"14.00\" fill=\"#000000\">X</text>\n<text text-anchor=\"start\" x=\"5909\" y=\"-1138.8\" font-family=\"Helvetica,sans-Serif\" baseline-shift=\"sub\" font-size=\"14.00\" fill=\"#000000\">0</text>\n<text text-anchor=\"start\" x=\"5916\" y=\"-1138.8\" font-family=\"Helvetica,sans-Serif\" font-size=\"14.00\" fill=\"#000000\"> ≤ 9.5</text>\n<text text-anchor=\"start\" x=\"5887.5\" y=\"-1124.8\" font-family=\"Helvetica,sans-Serif\" font-size=\"14.00\" fill=\"#000000\">gini = 0.752</text>\n<text text-anchor=\"start\" x=\"5873.5\" y=\"-1110.8\" font-family=\"Helvetica,sans-Serif\" font-size=\"14.00\" fill=\"#000000\">samples = 6945</text>\n<text text-anchor=\"start\" x=\"5774.5\" y=\"-1096.8\" font-family=\"Helvetica,sans-Serif\" font-size=\"14.00\" fill=\"#000000\">value = [77, 2736, 3759, 2657, 1046, 416, 327]</text>\n</g>\n<!-- 92&#45;&gt;93 -->\n<g id=\"edge93\" class=\"edge\">\n<title>92&#45;&gt;93</title>\n<path fill=\"none\" stroke=\"#000000\" d=\"M6042.1314,-1188.8089C6025.4058,-1179.0848 6006.9021,-1168.3268 5989.654,-1158.2989\"/>\n<polygon fill=\"#000000\" stroke=\"#000000\" points=\"5991.1692,-1155.1312 5980.7649,-1153.1308 5987.6508,-1161.1828 5991.1692,-1155.1312\"/>\n</g>\n<!-- 100 -->\n<g id=\"node101\" class=\"node\">\n<title>100</title>\n<path fill=\"#f7fef8\" stroke=\"#000000\" d=\"M6426,-1153C6426,-1153 6115,-1153 6115,-1153 6109,-1153 6103,-1147 6103,-1141 6103,-1141 6103,-1101 6103,-1101 6103,-1095 6109,-1089 6115,-1089 6115,-1089 6426,-1089 6426,-1089 6432,-1089 6438,-1095 6438,-1101 6438,-1101 6438,-1141 6438,-1141 6438,-1147 6432,-1153 6426,-1153\"/>\n<text text-anchor=\"start\" x=\"6240\" y=\"-1138.8\" font-family=\"Helvetica,sans-Serif\" font-size=\"14.00\" fill=\"#000000\">X</text>\n<text text-anchor=\"start\" x=\"6250\" y=\"-1138.8\" font-family=\"Helvetica,sans-Serif\" baseline-shift=\"sub\" font-size=\"14.00\" fill=\"#000000\">0</text>\n<text text-anchor=\"start\" x=\"6257\" y=\"-1138.8\" font-family=\"Helvetica,sans-Serif\" font-size=\"14.00\" fill=\"#000000\"> ≤ 16.5</text>\n<text text-anchor=\"start\" x=\"6232.5\" y=\"-1124.8\" font-family=\"Helvetica,sans-Serif\" font-size=\"14.00\" fill=\"#000000\">gini = 0.777</text>\n<text text-anchor=\"start\" x=\"6214.5\" y=\"-1110.8\" font-family=\"Helvetica,sans-Serif\" font-size=\"14.00\" fill=\"#000000\">samples = 14749</text>\n<text text-anchor=\"start\" x=\"6111\" y=\"-1096.8\" font-family=\"Helvetica,sans-Serif\" font-size=\"14.00\" fill=\"#000000\">value = [64, 3507, 7199, 6541, 3138, 1415, 1415]</text>\n</g>\n<!-- 92&#45;&gt;100 -->\n<g id=\"edge100\" class=\"edge\">\n<title>92&#45;&gt;100</title>\n<path fill=\"none\" stroke=\"#000000\" d=\"M6153.1906,-1188.8089C6170.0134,-1179.0848 6188.6246,-1168.3268 6205.973,-1158.2989\"/>\n<polygon fill=\"#000000\" stroke=\"#000000\" points=\"6208.0077,-1161.1654 6214.9138,-1153.1308 6204.5045,-1155.1051 6208.0077,-1161.1654\"/>\n</g>\n<!-- 94 -->\n<g id=\"node95\" class=\"node\">\n<title>94</title>\n<path fill=\"#f9fef9\" stroke=\"#000000\" d=\"M5753,-1053C5753,-1053 5484,-1053 5484,-1053 5478,-1053 5472,-1047 5472,-1041 5472,-1041 5472,-1001 5472,-1001 5472,-995 5478,-989 5484,-989 5484,-989 5753,-989 5753,-989 5759,-989 5765,-995 5765,-1001 5765,-1001 5765,-1041 5765,-1041 5765,-1047 5759,-1053 5753,-1053\"/>\n<text text-anchor=\"start\" x=\"5592\" y=\"-1038.8\" font-family=\"Helvetica,sans-Serif\" font-size=\"14.00\" fill=\"#000000\">X</text>\n<text text-anchor=\"start\" x=\"5602\" y=\"-1038.8\" font-family=\"Helvetica,sans-Serif\" baseline-shift=\"sub\" font-size=\"14.00\" fill=\"#000000\">0</text>\n<text text-anchor=\"start\" x=\"5609\" y=\"-1038.8\" font-family=\"Helvetica,sans-Serif\" font-size=\"14.00\" fill=\"#000000\"> ≤ 8.5</text>\n<text text-anchor=\"start\" x=\"5585\" y=\"-1024.8\" font-family=\"Helvetica,sans-Serif\" font-size=\"14.00\" fill=\"#000000\">gini = 0.78</text>\n<text text-anchor=\"start\" x=\"5566.5\" y=\"-1010.8\" font-family=\"Helvetica,sans-Serif\" font-size=\"14.00\" fill=\"#000000\">samples = 2279</text>\n<text text-anchor=\"start\" x=\"5480\" y=\"-996.8\" font-family=\"Helvetica,sans-Serif\" font-size=\"14.00\" fill=\"#000000\">value = [5, 505, 1091, 1007, 511, 237, 230]</text>\n</g>\n<!-- 93&#45;&gt;94 -->\n<g id=\"edge94\" class=\"edge\">\n<title>93&#45;&gt;94</title>\n<path fill=\"none\" stroke=\"#000000\" d=\"M5827.0965,-1088.9467C5795.0116,-1078.4956 5759.2239,-1066.8384 5726.4756,-1056.1712\"/>\n<polygon fill=\"#000000\" stroke=\"#000000\" points=\"5727.4652,-1052.8126 5716.8729,-1053.0433 5725.2972,-1059.4684 5727.4652,-1052.8126\"/>\n</g>\n<!-- 99 -->\n<g id=\"node100\" class=\"node\">\n<title>99</title>\n<path fill=\"#eefdf0\" stroke=\"#000000\" d=\"M6073.5,-1047.5C6073.5,-1047.5 5795.5,-1047.5 5795.5,-1047.5 5789.5,-1047.5 5783.5,-1041.5 5783.5,-1035.5 5783.5,-1035.5 5783.5,-1006.5 5783.5,-1006.5 5783.5,-1000.5 5789.5,-994.5 5795.5,-994.5 5795.5,-994.5 6073.5,-994.5 6073.5,-994.5 6079.5,-994.5 6085.5,-1000.5 6085.5,-1006.5 6085.5,-1006.5 6085.5,-1035.5 6085.5,-1035.5 6085.5,-1041.5 6079.5,-1047.5 6073.5,-1047.5\"/>\n<text text-anchor=\"start\" x=\"5896.5\" y=\"-1032.3\" font-family=\"Helvetica,sans-Serif\" font-size=\"14.00\" fill=\"#000000\">gini = 0.726</text>\n<text text-anchor=\"start\" x=\"5882.5\" y=\"-1017.3\" font-family=\"Helvetica,sans-Serif\" font-size=\"14.00\" fill=\"#000000\">samples = 4666</text>\n<text text-anchor=\"start\" x=\"5791.5\" y=\"-1002.3\" font-family=\"Helvetica,sans-Serif\" font-size=\"14.00\" fill=\"#000000\">value = [72, 2231, 2668, 1650, 535, 179, 97]</text>\n</g>\n<!-- 93&#45;&gt;99 -->\n<g id=\"edge99\" class=\"edge\">\n<title>93&#45;&gt;99</title>\n<path fill=\"none\" stroke=\"#000000\" d=\"M5928.3972,-1088.8089C5929.282,-1078.9777 5930.2619,-1068.0898 5931.1729,-1057.9679\"/>\n<polygon fill=\"#000000\" stroke=\"#000000\" points=\"5934.6798,-1058.047 5932.0904,-1047.7735 5927.708,-1057.4195 5934.6798,-1058.047\"/>\n</g>\n<!-- 95 -->\n<g id=\"node96\" class=\"node\">\n<title>95</title>\n<path fill=\"#f5fef6\" stroke=\"#000000\" d=\"M5575,-953C5575,-953 5314,-953 5314,-953 5308,-953 5302,-947 5302,-941 5302,-941 5302,-901 5302,-901 5302,-895 5308,-889 5314,-889 5314,-889 5575,-889 5575,-889 5581,-889 5587,-895 5587,-901 5587,-901 5587,-941 5587,-941 5587,-947 5581,-953 5575,-953\"/>\n<text text-anchor=\"start\" x=\"5418\" y=\"-938.8\" font-family=\"Helvetica,sans-Serif\" font-size=\"14.00\" fill=\"#000000\">X</text>\n<text text-anchor=\"start\" x=\"5428\" y=\"-938.8\" font-family=\"Helvetica,sans-Serif\" baseline-shift=\"sub\" font-size=\"14.00\" fill=\"#000000\">0</text>\n<text text-anchor=\"start\" x=\"5435\" y=\"-938.8\" font-family=\"Helvetica,sans-Serif\" font-size=\"14.00\" fill=\"#000000\"> ≤ 7.5</text>\n<text text-anchor=\"start\" x=\"5406.5\" y=\"-924.8\" font-family=\"Helvetica,sans-Serif\" font-size=\"14.00\" fill=\"#000000\">gini = 0.774</text>\n<text text-anchor=\"start\" x=\"5392.5\" y=\"-910.8\" font-family=\"Helvetica,sans-Serif\" font-size=\"14.00\" fill=\"#000000\">samples = 2132</text>\n<text text-anchor=\"start\" x=\"5310\" y=\"-896.8\" font-family=\"Helvetica,sans-Serif\" font-size=\"14.00\" fill=\"#000000\">value = [5, 498, 1053, 929, 471, 211, 168]</text>\n</g>\n<!-- 94&#45;&gt;95 -->\n<g id=\"edge95\" class=\"edge\">\n<title>94&#45;&gt;95</title>\n<path fill=\"none\" stroke=\"#000000\" d=\"M5562.4875,-988.8089C5545.5675,-979.0848 5526.8487,-968.3268 5509.4,-958.2989\"/>\n<polygon fill=\"#000000\" stroke=\"#000000\" points=\"5510.8217,-955.0791 5500.4075,-953.1308 5507.3337,-961.1482 5510.8217,-955.0791\"/>\n</g>\n<!-- 98 -->\n<g id=\"node99\" class=\"node\">\n<title>98</title>\n<path fill=\"#eefdfd\" stroke=\"#000000\" d=\"M5812,-947.5C5812,-947.5 5617,-947.5 5617,-947.5 5611,-947.5 5605,-941.5 5605,-935.5 5605,-935.5 5605,-906.5 5605,-906.5 5605,-900.5 5611,-894.5 5617,-894.5 5617,-894.5 5812,-894.5 5812,-894.5 5818,-894.5 5824,-900.5 5824,-906.5 5824,-906.5 5824,-935.5 5824,-935.5 5824,-941.5 5818,-947.5 5812,-947.5\"/>\n<text text-anchor=\"start\" x=\"5676.5\" y=\"-932.3\" font-family=\"Helvetica,sans-Serif\" font-size=\"14.00\" fill=\"#000000\">gini = 0.783</text>\n<text text-anchor=\"start\" x=\"5666.5\" y=\"-917.3\" font-family=\"Helvetica,sans-Serif\" font-size=\"14.00\" fill=\"#000000\">samples = 147</text>\n<text text-anchor=\"start\" x=\"5613\" y=\"-902.3\" font-family=\"Helvetica,sans-Serif\" font-size=\"14.00\" fill=\"#000000\">value = [0, 7, 38, 78, 40, 26, 62]</text>\n</g>\n<!-- 94&#45;&gt;98 -->\n<g id=\"edge98\" class=\"edge\">\n<title>94&#45;&gt;98</title>\n<path fill=\"none\" stroke=\"#000000\" d=\"M5649.4034,-988.8089C5659.7355,-978.0463 5671.2833,-966.0174 5681.7512,-955.1134\"/>\n<polygon fill=\"#000000\" stroke=\"#000000\" points=\"5684.3969,-957.4113 5688.7974,-947.7735 5679.3472,-952.5635 5684.3969,-957.4113\"/>\n</g>\n<!-- 96 -->\n<g id=\"node97\" class=\"node\">\n<title>96</title>\n<path fill=\"#f8fef9\" stroke=\"#000000\" d=\"M5540,-847.5C5540,-847.5 5295,-847.5 5295,-847.5 5289,-847.5 5283,-841.5 5283,-835.5 5283,-835.5 5283,-806.5 5283,-806.5 5283,-800.5 5289,-794.5 5295,-794.5 5295,-794.5 5540,-794.5 5540,-794.5 5546,-794.5 5552,-800.5 5552,-806.5 5552,-806.5 5552,-835.5 5552,-835.5 5552,-841.5 5546,-847.5 5540,-847.5\"/>\n<text text-anchor=\"start\" x=\"5379.5\" y=\"-832.3\" font-family=\"Helvetica,sans-Serif\" font-size=\"14.00\" fill=\"#000000\">gini = 0.772</text>\n<text text-anchor=\"start\" x=\"5369.5\" y=\"-817.3\" font-family=\"Helvetica,sans-Serif\" font-size=\"14.00\" fill=\"#000000\">samples = 944</text>\n<text text-anchor=\"start\" x=\"5291\" y=\"-802.3\" font-family=\"Helvetica,sans-Serif\" font-size=\"14.00\" fill=\"#000000\">value = [1, 162, 462, 426, 220, 111, 83]</text>\n</g>\n<!-- 95&#45;&gt;96 -->\n<g id=\"edge96\" class=\"edge\">\n<title>95&#45;&gt;96</title>\n<path fill=\"none\" stroke=\"#000000\" d=\"M5435.8084,-888.8089C5433.126,-878.8742 5430.1523,-867.8605 5427.3951,-857.6485\"/>\n<polygon fill=\"#000000\" stroke=\"#000000\" points=\"5430.7146,-856.5155 5424.7289,-847.7735 5423.9566,-858.3402 5430.7146,-856.5155\"/>\n</g>\n<!-- 97 -->\n<g id=\"node98\" class=\"node\">\n<title>97</title>\n<path fill=\"#f2fdf4\" stroke=\"#000000\" d=\"M5827,-847.5C5827,-847.5 5582,-847.5 5582,-847.5 5576,-847.5 5570,-841.5 5570,-835.5 5570,-835.5 5570,-806.5 5570,-806.5 5570,-800.5 5576,-794.5 5582,-794.5 5582,-794.5 5827,-794.5 5827,-794.5 5833,-794.5 5839,-800.5 5839,-806.5 5839,-806.5 5839,-835.5 5839,-835.5 5839,-841.5 5833,-847.5 5827,-847.5\"/>\n<text text-anchor=\"start\" x=\"5666.5\" y=\"-832.3\" font-family=\"Helvetica,sans-Serif\" font-size=\"14.00\" fill=\"#000000\">gini = 0.773</text>\n<text text-anchor=\"start\" x=\"5652.5\" y=\"-817.3\" font-family=\"Helvetica,sans-Serif\" font-size=\"14.00\" fill=\"#000000\">samples = 1188</text>\n<text text-anchor=\"start\" x=\"5578\" y=\"-802.3\" font-family=\"Helvetica,sans-Serif\" font-size=\"14.00\" fill=\"#000000\">value = [4, 336, 591, 503, 251, 100, 85]</text>\n</g>\n<!-- 95&#45;&gt;97 -->\n<g id=\"edge97\" class=\"edge\">\n<title>95&#45;&gt;97</title>\n<path fill=\"none\" stroke=\"#000000\" d=\"M5527.8385,-888.9467C5559.3368,-876.832 5595.0489,-863.0966 5626.0808,-851.1612\"/>\n<polygon fill=\"#000000\" stroke=\"#000000\" points=\"5627.4743,-854.3753 5635.5513,-847.5187 5624.9614,-847.8419 5627.4743,-854.3753\"/>\n</g>\n<!-- 101 -->\n<g id=\"node102\" class=\"node\">\n<title>101</title>\n<path fill=\"#ecfdfc\" stroke=\"#000000\" d=\"M6387,-1053C6387,-1053 6134,-1053 6134,-1053 6128,-1053 6122,-1047 6122,-1041 6122,-1041 6122,-1001 6122,-1001 6122,-995 6128,-989 6134,-989 6134,-989 6387,-989 6387,-989 6393,-989 6399,-995 6399,-1001 6399,-1001 6399,-1041 6399,-1041 6399,-1047 6393,-1053 6387,-1053\"/>\n<text text-anchor=\"start\" x=\"6230\" y=\"-1038.8\" font-family=\"Helvetica,sans-Serif\" font-size=\"14.00\" fill=\"#000000\">X</text>\n<text text-anchor=\"start\" x=\"6240\" y=\"-1038.8\" font-family=\"Helvetica,sans-Serif\" baseline-shift=\"sub\" font-size=\"14.00\" fill=\"#000000\">0</text>\n<text text-anchor=\"start\" x=\"6247\" y=\"-1038.8\" font-family=\"Helvetica,sans-Serif\" font-size=\"14.00\" fill=\"#000000\"> ≤ 11.5</text>\n<text text-anchor=\"start\" x=\"6222.5\" y=\"-1024.8\" font-family=\"Helvetica,sans-Serif\" font-size=\"14.00\" fill=\"#000000\">gini = 0.799</text>\n<text text-anchor=\"start\" x=\"6208.5\" y=\"-1010.8\" font-family=\"Helvetica,sans-Serif\" font-size=\"14.00\" fill=\"#000000\">samples = 2092</text>\n<text text-anchor=\"start\" x=\"6130\" y=\"-996.8\" font-family=\"Helvetica,sans-Serif\" font-size=\"14.00\" fill=\"#000000\">value = [3, 241, 735, 985, 637, 346, 406]</text>\n</g>\n<!-- 100&#45;&gt;101 -->\n<g id=\"edge101\" class=\"edge\">\n<title>100&#45;&gt;101</title>\n<path fill=\"none\" stroke=\"#000000\" d=\"M6267.2809,-1088.8089C6266.4691,-1080.6906 6265.5852,-1071.8517 6264.7319,-1063.3186\"/>\n<polygon fill=\"#000000\" stroke=\"#000000\" points=\"6268.1908,-1062.7328 6263.7131,-1053.1308 6261.2256,-1063.4294 6268.1908,-1062.7328\"/>\n</g>\n<!-- 112 -->\n<g id=\"node113\" class=\"node\">\n<title>112</title>\n<path fill=\"#f2fdf4\" stroke=\"#000000\" d=\"M6740,-1053C6740,-1053 6429,-1053 6429,-1053 6423,-1053 6417,-1047 6417,-1041 6417,-1041 6417,-1001 6417,-1001 6417,-995 6423,-989 6429,-989 6429,-989 6740,-989 6740,-989 6746,-989 6752,-995 6752,-1001 6752,-1001 6752,-1041 6752,-1041 6752,-1047 6746,-1053 6740,-1053\"/>\n<text text-anchor=\"start\" x=\"6554\" y=\"-1038.8\" font-family=\"Helvetica,sans-Serif\" font-size=\"14.00\" fill=\"#000000\">X</text>\n<text text-anchor=\"start\" x=\"6564\" y=\"-1038.8\" font-family=\"Helvetica,sans-Serif\" baseline-shift=\"sub\" font-size=\"14.00\" fill=\"#000000\">0</text>\n<text text-anchor=\"start\" x=\"6571\" y=\"-1038.8\" font-family=\"Helvetica,sans-Serif\" font-size=\"14.00\" fill=\"#000000\"> ≤ 17.5</text>\n<text text-anchor=\"start\" x=\"6546.5\" y=\"-1024.8\" font-family=\"Helvetica,sans-Serif\" font-size=\"14.00\" fill=\"#000000\">gini = 0.769</text>\n<text text-anchor=\"start\" x=\"6528.5\" y=\"-1010.8\" font-family=\"Helvetica,sans-Serif\" font-size=\"14.00\" fill=\"#000000\">samples = 12657</text>\n<text text-anchor=\"start\" x=\"6425\" y=\"-996.8\" font-family=\"Helvetica,sans-Serif\" font-size=\"14.00\" fill=\"#000000\">value = [61, 3266, 6464, 5556, 2501, 1069, 1009]</text>\n</g>\n<!-- 100&#45;&gt;112 -->\n<g id=\"edge112\" class=\"edge\">\n<title>100&#45;&gt;112</title>\n<path fill=\"none\" stroke=\"#000000\" d=\"M6371.1472,-1088.9467C6403.9637,-1078.4956 6440.5674,-1066.8384 6474.0624,-1056.1712\"/>\n<polygon fill=\"#000000\" stroke=\"#000000\" points=\"6475.4177,-1059.4129 6483.884,-1053.0433 6473.2935,-1052.7429 6475.4177,-1059.4129\"/>\n</g>\n<!-- 102 -->\n<g id=\"node103\" class=\"node\">\n<title>102</title>\n<path fill=\"#fbfefe\" stroke=\"#000000\" d=\"M6097.5,-947.5C6097.5,-947.5 5861.5,-947.5 5861.5,-947.5 5855.5,-947.5 5849.5,-941.5 5849.5,-935.5 5849.5,-935.5 5849.5,-906.5 5849.5,-906.5 5849.5,-900.5 5855.5,-894.5 5861.5,-894.5 5861.5,-894.5 6097.5,-894.5 6097.5,-894.5 6103.5,-894.5 6109.5,-900.5 6109.5,-906.5 6109.5,-906.5 6109.5,-935.5 6109.5,-935.5 6109.5,-941.5 6103.5,-947.5 6097.5,-947.5\"/>\n<text text-anchor=\"start\" x=\"5941.5\" y=\"-932.3\" font-family=\"Helvetica,sans-Serif\" font-size=\"14.00\" fill=\"#000000\">gini = 0.763</text>\n<text text-anchor=\"start\" x=\"5931.5\" y=\"-917.3\" font-family=\"Helvetica,sans-Serif\" font-size=\"14.00\" fill=\"#000000\">samples = 737</text>\n<text text-anchor=\"start\" x=\"5857.5\" y=\"-902.3\" font-family=\"Helvetica,sans-Serif\" font-size=\"14.00\" fill=\"#000000\">value = [2, 109, 350, 366, 210, 79, 49]</text>\n</g>\n<!-- 101&#45;&gt;102 -->\n<g id=\"edge102\" class=\"edge\">\n<title>101&#45;&gt;102</title>\n<path fill=\"none\" stroke=\"#000000\" d=\"M6170.4304,-988.9467C6136.2412,-976.7798 6097.4585,-962.9781 6063.8196,-951.007\"/>\n<polygon fill=\"#000000\" stroke=\"#000000\" points=\"6064.6123,-947.5741 6054.0176,-947.5187 6062.2654,-954.169 6064.6123,-947.5741\"/>\n</g>\n<!-- 103 -->\n<g id=\"node104\" class=\"node\">\n<title>103</title>\n<path fill=\"#e9fcfc\" stroke=\"#000000\" d=\"M6393,-953C6393,-953 6140,-953 6140,-953 6134,-953 6128,-947 6128,-941 6128,-941 6128,-901 6128,-901 6128,-895 6134,-889 6140,-889 6140,-889 6393,-889 6393,-889 6399,-889 6405,-895 6405,-901 6405,-901 6405,-941 6405,-941 6405,-947 6399,-953 6393,-953\"/>\n<text text-anchor=\"start\" x=\"6236\" y=\"-938.8\" font-family=\"Helvetica,sans-Serif\" font-size=\"14.00\" fill=\"#000000\">X</text>\n<text text-anchor=\"start\" x=\"6246\" y=\"-938.8\" font-family=\"Helvetica,sans-Serif\" baseline-shift=\"sub\" font-size=\"14.00\" fill=\"#000000\">0</text>\n<text text-anchor=\"start\" x=\"6253\" y=\"-938.8\" font-family=\"Helvetica,sans-Serif\" font-size=\"14.00\" fill=\"#000000\"> ≤ 14.5</text>\n<text text-anchor=\"start\" x=\"6228.5\" y=\"-924.8\" font-family=\"Helvetica,sans-Serif\" font-size=\"14.00\" fill=\"#000000\">gini = 0.806</text>\n<text text-anchor=\"start\" x=\"6214.5\" y=\"-910.8\" font-family=\"Helvetica,sans-Serif\" font-size=\"14.00\" fill=\"#000000\">samples = 1355</text>\n<text text-anchor=\"start\" x=\"6136\" y=\"-896.8\" font-family=\"Helvetica,sans-Serif\" font-size=\"14.00\" fill=\"#000000\">value = [1, 132, 385, 619, 427, 267, 357]</text>\n</g>\n<!-- 101&#45;&gt;103 -->\n<g id=\"edge103\" class=\"edge\">\n<title>101&#45;&gt;103</title>\n<path fill=\"none\" stroke=\"#000000\" d=\"M6262.4315,-988.8089C6262.9186,-980.6906 6263.4489,-971.8517 6263.9609,-963.3186\"/>\n<polygon fill=\"#000000\" stroke=\"#000000\" points=\"6267.4669,-963.3225 6264.5722,-953.1308 6260.4794,-962.9032 6267.4669,-963.3225\"/>\n</g>\n<!-- 104 -->\n<g id=\"node105\" class=\"node\">\n<title>104</title>\n<path fill=\"#f1fdfd\" stroke=\"#000000\" d=\"M6114,-853C6114,-853 5869,-853 5869,-853 5863,-853 5857,-847 5857,-841 5857,-841 5857,-801 5857,-801 5857,-795 5863,-789 5869,-789 5869,-789 6114,-789 6114,-789 6120,-789 6126,-795 6126,-801 6126,-801 6126,-841 6126,-841 6126,-847 6120,-853 6114,-853\"/>\n<text text-anchor=\"start\" x=\"5961\" y=\"-838.8\" font-family=\"Helvetica,sans-Serif\" font-size=\"14.00\" fill=\"#000000\">X</text>\n<text text-anchor=\"start\" x=\"5971\" y=\"-838.8\" font-family=\"Helvetica,sans-Serif\" baseline-shift=\"sub\" font-size=\"14.00\" fill=\"#000000\">0</text>\n<text text-anchor=\"start\" x=\"5978\" y=\"-838.8\" font-family=\"Helvetica,sans-Serif\" font-size=\"14.00\" fill=\"#000000\"> ≤ 12.5</text>\n<text text-anchor=\"start\" x=\"5953.5\" y=\"-824.8\" font-family=\"Helvetica,sans-Serif\" font-size=\"14.00\" fill=\"#000000\">gini = 0.801</text>\n<text text-anchor=\"start\" x=\"5943.5\" y=\"-810.8\" font-family=\"Helvetica,sans-Serif\" font-size=\"14.00\" fill=\"#000000\">samples = 868</text>\n<text text-anchor=\"start\" x=\"5865\" y=\"-796.8\" font-family=\"Helvetica,sans-Serif\" font-size=\"14.00\" fill=\"#000000\">value = [0, 47, 189, 375, 297, 219, 286]</text>\n</g>\n<!-- 103&#45;&gt;104 -->\n<g id=\"edge104\" class=\"edge\">\n<title>103&#45;&gt;104</title>\n<path fill=\"none\" stroke=\"#000000\" d=\"M6178.3536,-888.9467C6149.9831,-878.6302 6118.3805,-867.1384 6089.3552,-856.5837\"/>\n<polygon fill=\"#000000\" stroke=\"#000000\" points=\"6090.2131,-853.1715 6079.6191,-853.0433 6087.8209,-859.7501 6090.2131,-853.1715\"/>\n</g>\n<!-- 109 -->\n<g id=\"node110\" class=\"node\">\n<title>109</title>\n<path fill=\"#effdfd\" stroke=\"#000000\" d=\"M6384.5,-853C6384.5,-853 6156.5,-853 6156.5,-853 6150.5,-853 6144.5,-847 6144.5,-841 6144.5,-841 6144.5,-801 6144.5,-801 6144.5,-795 6150.5,-789 6156.5,-789 6156.5,-789 6384.5,-789 6384.5,-789 6390.5,-789 6396.5,-795 6396.5,-801 6396.5,-801 6396.5,-841 6396.5,-841 6396.5,-847 6390.5,-853 6384.5,-853\"/>\n<text text-anchor=\"start\" x=\"6240\" y=\"-838.8\" font-family=\"Helvetica,sans-Serif\" font-size=\"14.00\" fill=\"#000000\">X</text>\n<text text-anchor=\"start\" x=\"6250\" y=\"-838.8\" font-family=\"Helvetica,sans-Serif\" baseline-shift=\"sub\" font-size=\"14.00\" fill=\"#000000\">0</text>\n<text text-anchor=\"start\" x=\"6257\" y=\"-838.8\" font-family=\"Helvetica,sans-Serif\" font-size=\"14.00\" fill=\"#000000\"> ≤ 15.5</text>\n<text text-anchor=\"start\" x=\"6232.5\" y=\"-824.8\" font-family=\"Helvetica,sans-Serif\" font-size=\"14.00\" fill=\"#000000\">gini = 0.785</text>\n<text text-anchor=\"start\" x=\"6222.5\" y=\"-810.8\" font-family=\"Helvetica,sans-Serif\" font-size=\"14.00\" fill=\"#000000\">samples = 487</text>\n<text text-anchor=\"start\" x=\"6152.5\" y=\"-796.8\" font-family=\"Helvetica,sans-Serif\" font-size=\"14.00\" fill=\"#000000\">value = [1, 85, 196, 244, 130, 48, 71]</text>\n</g>\n<!-- 103&#45;&gt;109 -->\n<g id=\"edge109\" class=\"edge\">\n<title>103&#45;&gt;109</title>\n<path fill=\"none\" stroke=\"#000000\" d=\"M6267.7876,-888.8089C6268.1124,-880.6906 6268.4659,-871.8517 6268.8073,-863.3186\"/>\n<polygon fill=\"#000000\" stroke=\"#000000\" points=\"6272.3122,-863.2627 6269.2148,-853.1308 6265.3178,-862.9828 6272.3122,-863.2627\"/>\n</g>\n<!-- 105 -->\n<g id=\"node106\" class=\"node\">\n<title>105</title>\n<path fill=\"#e6fcfb\" stroke=\"#000000\" d=\"M5612.5,-747.5C5612.5,-747.5 5392.5,-747.5 5392.5,-747.5 5386.5,-747.5 5380.5,-741.5 5380.5,-735.5 5380.5,-735.5 5380.5,-706.5 5380.5,-706.5 5380.5,-700.5 5386.5,-694.5 5392.5,-694.5 5392.5,-694.5 5612.5,-694.5 5612.5,-694.5 5618.5,-694.5 5624.5,-700.5 5624.5,-706.5 5624.5,-706.5 5624.5,-735.5 5624.5,-735.5 5624.5,-741.5 5618.5,-747.5 5612.5,-747.5\"/>\n<text text-anchor=\"start\" x=\"5464.5\" y=\"-732.3\" font-family=\"Helvetica,sans-Serif\" font-size=\"14.00\" fill=\"#000000\">gini = 0.772</text>\n<text text-anchor=\"start\" x=\"5454.5\" y=\"-717.3\" font-family=\"Helvetica,sans-Serif\" font-size=\"14.00\" fill=\"#000000\">samples = 356</text>\n<text text-anchor=\"start\" x=\"5388.5\" y=\"-702.3\" font-family=\"Helvetica,sans-Serif\" font-size=\"14.00\" fill=\"#000000\">value = [0, 7, 49, 192, 135, 98, 101]</text>\n</g>\n<!-- 104&#45;&gt;105 -->\n<g id=\"edge105\" class=\"edge\">\n<title>104&#45;&gt;105</title>\n<path fill=\"none\" stroke=\"#000000\" d=\"M5856.6401,-790.8081C5853.5663,-790.192 5850.5163,-789.5884 5847.5,-789 5752.837,-770.5326 5727.9647,-772.4563 5633.5,-753 5628.4696,-751.9639 5623.3394,-750.8704 5618.1634,-749.737\"/>\n<polygon fill=\"#000000\" stroke=\"#000000\" points=\"5618.6889,-746.2684 5608.1674,-747.5126 5617.1683,-753.1012 5618.6889,-746.2684\"/>\n</g>\n<!-- 106 -->\n<g id=\"node107\" class=\"node\">\n<title>106</title>\n<path fill=\"#fffeff\" stroke=\"#000000\" d=\"M5900,-753C5900,-753 5655,-753 5655,-753 5649,-753 5643,-747 5643,-741 5643,-741 5643,-701 5643,-701 5643,-695 5649,-689 5655,-689 5655,-689 5900,-689 5900,-689 5906,-689 5912,-695 5912,-701 5912,-701 5912,-741 5912,-741 5912,-747 5906,-753 5900,-753\"/>\n<text text-anchor=\"start\" x=\"5747\" y=\"-738.8\" font-family=\"Helvetica,sans-Serif\" font-size=\"14.00\" fill=\"#000000\">X</text>\n<text text-anchor=\"start\" x=\"5757\" y=\"-738.8\" font-family=\"Helvetica,sans-Serif\" baseline-shift=\"sub\" font-size=\"14.00\" fill=\"#000000\">0</text>\n<text text-anchor=\"start\" x=\"5764\" y=\"-738.8\" font-family=\"Helvetica,sans-Serif\" font-size=\"14.00\" fill=\"#000000\"> ≤ 13.5</text>\n<text text-anchor=\"start\" x=\"5739.5\" y=\"-724.8\" font-family=\"Helvetica,sans-Serif\" font-size=\"14.00\" fill=\"#000000\">gini = 0.812</text>\n<text text-anchor=\"start\" x=\"5729.5\" y=\"-710.8\" font-family=\"Helvetica,sans-Serif\" font-size=\"14.00\" fill=\"#000000\">samples = 512</text>\n<text text-anchor=\"start\" x=\"5651\" y=\"-696.8\" font-family=\"Helvetica,sans-Serif\" font-size=\"14.00\" fill=\"#000000\">value = [0, 40, 140, 183, 162, 121, 185]</text>\n</g>\n<!-- 104&#45;&gt;106 -->\n<g id=\"edge106\" class=\"edge\">\n<title>104&#45;&gt;106</title>\n<path fill=\"none\" stroke=\"#000000\" d=\"M5922.906,-788.9467C5901.4046,-778.8993 5877.5175,-767.7372 5855.4209,-757.4116\"/>\n<polygon fill=\"#000000\" stroke=\"#000000\" points=\"5856.6141,-754.106 5846.0727,-753.0433 5853.6506,-760.4477 5856.6141,-754.106\"/>\n</g>\n<!-- 107 -->\n<g id=\"node108\" class=\"node\">\n<title>107</title>\n<path fill=\"#fdf0f6\" stroke=\"#000000\" d=\"M5764.5,-647.5C5764.5,-647.5 5528.5,-647.5 5528.5,-647.5 5522.5,-647.5 5516.5,-641.5 5516.5,-635.5 5516.5,-635.5 5516.5,-606.5 5516.5,-606.5 5516.5,-600.5 5522.5,-594.5 5528.5,-594.5 5528.5,-594.5 5764.5,-594.5 5764.5,-594.5 5770.5,-594.5 5776.5,-600.5 5776.5,-606.5 5776.5,-606.5 5776.5,-635.5 5776.5,-635.5 5776.5,-641.5 5770.5,-647.5 5764.5,-647.5\"/>\n<text text-anchor=\"start\" x=\"5608.5\" y=\"-632.3\" font-family=\"Helvetica,sans-Serif\" font-size=\"14.00\" fill=\"#000000\">gini = 0.806</text>\n<text text-anchor=\"start\" x=\"5598.5\" y=\"-617.3\" font-family=\"Helvetica,sans-Serif\" font-size=\"14.00\" fill=\"#000000\">samples = 379</text>\n<text text-anchor=\"start\" x=\"5524.5\" y=\"-602.3\" font-family=\"Helvetica,sans-Serif\" font-size=\"14.00\" fill=\"#000000\">value = [0, 29, 109, 124, 126, 77, 164]</text>\n</g>\n<!-- 106&#45;&gt;107 -->\n<g id=\"edge107\" class=\"edge\">\n<title>106&#45;&gt;107</title>\n<path fill=\"none\" stroke=\"#000000\" d=\"M5735.3297,-688.8089C5720.6884,-677.6324 5704.2582,-665.0902 5689.547,-653.8603\"/>\n<polygon fill=\"#000000\" stroke=\"#000000\" points=\"5691.6458,-651.0592 5681.5733,-647.7735 5687.3984,-656.6234 5691.6458,-651.0592\"/>\n</g>\n<!-- 108 -->\n<g id=\"node109\" class=\"node\">\n<title>108</title>\n<path fill=\"#ecfdfc\" stroke=\"#000000\" d=\"M6010,-647.5C6010,-647.5 5807,-647.5 5807,-647.5 5801,-647.5 5795,-641.5 5795,-635.5 5795,-635.5 5795,-606.5 5795,-606.5 5795,-600.5 5801,-594.5 5807,-594.5 5807,-594.5 6010,-594.5 6010,-594.5 6016,-594.5 6022,-600.5 6022,-606.5 6022,-606.5 6022,-635.5 6022,-635.5 6022,-641.5 6016,-647.5 6010,-647.5\"/>\n<text text-anchor=\"start\" x=\"5870.5\" y=\"-632.3\" font-family=\"Helvetica,sans-Serif\" font-size=\"14.00\" fill=\"#000000\">gini = 0.798</text>\n<text text-anchor=\"start\" x=\"5860.5\" y=\"-617.3\" font-family=\"Helvetica,sans-Serif\" font-size=\"14.00\" fill=\"#000000\">samples = 133</text>\n<text text-anchor=\"start\" x=\"5803\" y=\"-602.3\" font-family=\"Helvetica,sans-Serif\" font-size=\"14.00\" fill=\"#000000\">value = [0, 11, 31, 59, 36, 44, 21]</text>\n</g>\n<!-- 106&#45;&gt;108 -->\n<g id=\"edge108\" class=\"edge\">\n<title>106&#45;&gt;108</title>\n<path fill=\"none\" stroke=\"#000000\" d=\"M5819.6703,-688.8089C5834.3116,-677.6324 5850.7418,-665.0902 5865.453,-653.8603\"/>\n<polygon fill=\"#000000\" stroke=\"#000000\" points=\"5867.6016,-656.6234 5873.4267,-647.7735 5863.3542,-651.0592 5867.6016,-656.6234\"/>\n</g>\n<!-- 110 -->\n<g id=\"node111\" class=\"node\">\n<title>110</title>\n<path fill=\"#effdfd\" stroke=\"#000000\" d=\"M6170.5,-747.5C6170.5,-747.5 5942.5,-747.5 5942.5,-747.5 5936.5,-747.5 5930.5,-741.5 5930.5,-735.5 5930.5,-735.5 5930.5,-706.5 5930.5,-706.5 5930.5,-700.5 5936.5,-694.5 5942.5,-694.5 5942.5,-694.5 6170.5,-694.5 6170.5,-694.5 6176.5,-694.5 6182.5,-700.5 6182.5,-706.5 6182.5,-706.5 6182.5,-735.5 6182.5,-735.5 6182.5,-741.5 6176.5,-747.5 6170.5,-747.5\"/>\n<text text-anchor=\"start\" x=\"6018.5\" y=\"-732.3\" font-family=\"Helvetica,sans-Serif\" font-size=\"14.00\" fill=\"#000000\">gini = 0.767</text>\n<text text-anchor=\"start\" x=\"6008.5\" y=\"-717.3\" font-family=\"Helvetica,sans-Serif\" font-size=\"14.00\" fill=\"#000000\">samples = 401</text>\n<text text-anchor=\"start\" x=\"5938.5\" y=\"-702.3\" font-family=\"Helvetica,sans-Serif\" font-size=\"14.00\" fill=\"#000000\">value = [1, 78, 176, 213, 102, 26, 44]</text>\n</g>\n<!-- 109&#45;&gt;110 -->\n<g id=\"edge110\" class=\"edge\">\n<title>109&#45;&gt;110</title>\n<path fill=\"none\" stroke=\"#000000\" d=\"M6201.906,-788.9467C6176.4275,-777.0409 6147.5992,-763.5697 6122.3695,-751.7802\"/>\n<polygon fill=\"#000000\" stroke=\"#000000\" points=\"6123.7915,-748.5814 6113.2501,-747.5187 6120.828,-754.9232 6123.7915,-748.5814\"/>\n</g>\n<!-- 111 -->\n<g id=\"node112\" class=\"node\">\n<title>111</title>\n<path fill=\"#f9fefe\" stroke=\"#000000\" d=\"M6408,-747.5C6408,-747.5 6213,-747.5 6213,-747.5 6207,-747.5 6201,-741.5 6201,-735.5 6201,-735.5 6201,-706.5 6201,-706.5 6201,-700.5 6207,-694.5 6213,-694.5 6213,-694.5 6408,-694.5 6408,-694.5 6414,-694.5 6420,-700.5 6420,-706.5 6420,-706.5 6420,-735.5 6420,-735.5 6420,-741.5 6414,-747.5 6408,-747.5\"/>\n<text text-anchor=\"start\" x=\"6272.5\" y=\"-732.3\" font-family=\"Helvetica,sans-Serif\" font-size=\"14.00\" fill=\"#000000\">gini = 0.813</text>\n<text text-anchor=\"start\" x=\"6266.5\" y=\"-717.3\" font-family=\"Helvetica,sans-Serif\" font-size=\"14.00\" fill=\"#000000\">samples = 86</text>\n<text text-anchor=\"start\" x=\"6209\" y=\"-702.3\" font-family=\"Helvetica,sans-Serif\" font-size=\"14.00\" fill=\"#000000\">value = [0, 7, 20, 31, 28, 22, 27]</text>\n</g>\n<!-- 109&#45;&gt;111 -->\n<g id=\"edge111\" class=\"edge\">\n<title>109&#45;&gt;111</title>\n<path fill=\"none\" stroke=\"#000000\" d=\"M6283.3764,-788.8089C6287.3917,-778.7707 6291.8476,-767.6309 6295.9681,-757.3297\"/>\n<polygon fill=\"#000000\" stroke=\"#000000\" points=\"6299.3263,-758.3582 6299.7906,-747.7735 6292.827,-755.7584 6299.3263,-758.3582\"/>\n</g>\n<!-- 113 -->\n<g id=\"node114\" class=\"node\">\n<title>113</title>\n<path fill=\"#e6fce9\" stroke=\"#000000\" d=\"M6703,-947.5C6703,-947.5 6442,-947.5 6442,-947.5 6436,-947.5 6430,-941.5 6430,-935.5 6430,-935.5 6430,-906.5 6430,-906.5 6430,-900.5 6436,-894.5 6442,-894.5 6442,-894.5 6703,-894.5 6703,-894.5 6709,-894.5 6715,-900.5 6715,-906.5 6715,-906.5 6715,-935.5 6715,-935.5 6715,-941.5 6709,-947.5 6703,-947.5\"/>\n<text text-anchor=\"start\" x=\"6534.5\" y=\"-932.3\" font-family=\"Helvetica,sans-Serif\" font-size=\"14.00\" fill=\"#000000\">gini = 0.731</text>\n<text text-anchor=\"start\" x=\"6520.5\" y=\"-917.3\" font-family=\"Helvetica,sans-Serif\" font-size=\"14.00\" fill=\"#000000\">samples = 2253</text>\n<text text-anchor=\"start\" x=\"6438\" y=\"-902.3\" font-family=\"Helvetica,sans-Serif\" font-size=\"14.00\" fill=\"#000000\">value = [37, 988, 1308, 775, 278, 100, 62]</text>\n</g>\n<!-- 112&#45;&gt;113 -->\n<g id=\"edge113\" class=\"edge\">\n<title>112&#45;&gt;113</title>\n<path fill=\"none\" stroke=\"#000000\" d=\"M6580.6371,-988.8089C6579.4573,-978.9777 6578.1508,-968.0898 6576.9362,-957.9679\"/>\n<polygon fill=\"#000000\" stroke=\"#000000\" points=\"6580.3794,-957.2853 6575.7128,-947.7735 6573.4293,-958.1193 6580.3794,-957.2853\"/>\n</g>\n<!-- 114 -->\n<g id=\"node115\" class=\"node\">\n<title>114</title>\n<path fill=\"#f9fef9\" stroke=\"#000000\" d=\"M7039.5,-953C7039.5,-953 6745.5,-953 6745.5,-953 6739.5,-953 6733.5,-947 6733.5,-941 6733.5,-941 6733.5,-901 6733.5,-901 6733.5,-895 6739.5,-889 6745.5,-889 6745.5,-889 7039.5,-889 7039.5,-889 7045.5,-889 7051.5,-895 7051.5,-901 7051.5,-901 7051.5,-941 7051.5,-941 7051.5,-947 7045.5,-953 7039.5,-953\"/>\n<text text-anchor=\"start\" x=\"6862\" y=\"-938.8\" font-family=\"Helvetica,sans-Serif\" font-size=\"14.00\" fill=\"#000000\">X</text>\n<text text-anchor=\"start\" x=\"6872\" y=\"-938.8\" font-family=\"Helvetica,sans-Serif\" baseline-shift=\"sub\" font-size=\"14.00\" fill=\"#000000\">0</text>\n<text text-anchor=\"start\" x=\"6879\" y=\"-938.8\" font-family=\"Helvetica,sans-Serif\" font-size=\"14.00\" fill=\"#000000\"> ≤ 21.5</text>\n<text text-anchor=\"start\" x=\"6854.5\" y=\"-924.8\" font-family=\"Helvetica,sans-Serif\" font-size=\"14.00\" fill=\"#000000\">gini = 0.771</text>\n<text text-anchor=\"start\" x=\"6836.5\" y=\"-910.8\" font-family=\"Helvetica,sans-Serif\" font-size=\"14.00\" fill=\"#000000\">samples = 10404</text>\n<text text-anchor=\"start\" x=\"6741.5\" y=\"-896.8\" font-family=\"Helvetica,sans-Serif\" font-size=\"14.00\" fill=\"#000000\">value = [24, 2278, 5156, 4781, 2223, 969, 947]</text>\n</g>\n<!-- 112&#45;&gt;114 -->\n<g id=\"edge114\" class=\"edge\">\n<title>112&#45;&gt;114</title>\n<path fill=\"none\" stroke=\"#000000\" d=\"M6683.224,-988.9467C6715.4134,-978.4956 6751.3177,-966.8384 6784.1727,-956.1712\"/>\n<polygon fill=\"#000000\" stroke=\"#000000\" points=\"6785.3762,-959.4604 6793.8066,-953.0433 6783.2145,-952.8025 6785.3762,-959.4604\"/>\n</g>\n<!-- 115 -->\n<g id=\"node116\" class=\"node\">\n<title>115</title>\n<path fill=\"#fdfffd\" stroke=\"#000000\" d=\"M7004.5,-853C7004.5,-853 6710.5,-853 6710.5,-853 6704.5,-853 6698.5,-847 6698.5,-841 6698.5,-841 6698.5,-801 6698.5,-801 6698.5,-795 6704.5,-789 6710.5,-789 6710.5,-789 7004.5,-789 7004.5,-789 7010.5,-789 7016.5,-795 7016.5,-801 7016.5,-801 7016.5,-841 7016.5,-841 7016.5,-847 7010.5,-853 7004.5,-853\"/>\n<text text-anchor=\"start\" x=\"6827\" y=\"-838.8\" font-family=\"Helvetica,sans-Serif\" font-size=\"14.00\" fill=\"#000000\">X</text>\n<text text-anchor=\"start\" x=\"6837\" y=\"-838.8\" font-family=\"Helvetica,sans-Serif\" baseline-shift=\"sub\" font-size=\"14.00\" fill=\"#000000\">0</text>\n<text text-anchor=\"start\" x=\"6844\" y=\"-838.8\" font-family=\"Helvetica,sans-Serif\" font-size=\"14.00\" fill=\"#000000\"> ≤ 18.5</text>\n<text text-anchor=\"start\" x=\"6819.5\" y=\"-824.8\" font-family=\"Helvetica,sans-Serif\" font-size=\"14.00\" fill=\"#000000\">gini = 0.793</text>\n<text text-anchor=\"start\" x=\"6805.5\" y=\"-810.8\" font-family=\"Helvetica,sans-Serif\" font-size=\"14.00\" fill=\"#000000\">samples = 5612</text>\n<text text-anchor=\"start\" x=\"6706.5\" y=\"-796.8\" font-family=\"Helvetica,sans-Serif\" font-size=\"14.00\" fill=\"#000000\">value = [16, 1183, 2512, 2431, 1275, 689, 761]</text>\n</g>\n<!-- 114&#45;&gt;115 -->\n<g id=\"edge115\" class=\"edge\">\n<title>114&#45;&gt;115</title>\n<path fill=\"none\" stroke=\"#000000\" d=\"M6881.2331,-888.8089C6878.3293,-880.5122 6875.162,-871.4628 6872.1148,-862.7565\"/>\n<polygon fill=\"#000000\" stroke=\"#000000\" points=\"6875.3528,-861.4131 6868.7458,-853.1308 6868.7458,-863.7256 6875.3528,-861.4131\"/>\n</g>\n<!-- 122 -->\n<g id=\"node123\" class=\"node\">\n<title>122</title>\n<path fill=\"#f4fef5\" stroke=\"#000000\" d=\"M7324.5,-853C7324.5,-853 7046.5,-853 7046.5,-853 7040.5,-853 7034.5,-847 7034.5,-841 7034.5,-841 7034.5,-801 7034.5,-801 7034.5,-795 7040.5,-789 7046.5,-789 7046.5,-789 7324.5,-789 7324.5,-789 7330.5,-789 7336.5,-795 7336.5,-801 7336.5,-801 7336.5,-841 7336.5,-841 7336.5,-847 7330.5,-853 7324.5,-853\"/>\n<text text-anchor=\"start\" x=\"7155\" y=\"-838.8\" font-family=\"Helvetica,sans-Serif\" font-size=\"14.00\" fill=\"#000000\">X</text>\n<text text-anchor=\"start\" x=\"7165\" y=\"-838.8\" font-family=\"Helvetica,sans-Serif\" baseline-shift=\"sub\" font-size=\"14.00\" fill=\"#000000\">0</text>\n<text text-anchor=\"start\" x=\"7172\" y=\"-838.8\" font-family=\"Helvetica,sans-Serif\" font-size=\"14.00\" fill=\"#000000\"> ≤ 22.5</text>\n<text text-anchor=\"start\" x=\"7147.5\" y=\"-824.8\" font-family=\"Helvetica,sans-Serif\" font-size=\"14.00\" fill=\"#000000\">gini = 0.739</text>\n<text text-anchor=\"start\" x=\"7133.5\" y=\"-810.8\" font-family=\"Helvetica,sans-Serif\" font-size=\"14.00\" fill=\"#000000\">samples = 4792</text>\n<text text-anchor=\"start\" x=\"7042.5\" y=\"-796.8\" font-family=\"Helvetica,sans-Serif\" font-size=\"14.00\" fill=\"#000000\">value = [8, 1095, 2644, 2350, 948, 280, 186]</text>\n</g>\n<!-- 114&#45;&gt;122 -->\n<g id=\"edge122\" class=\"edge\">\n<title>114&#45;&gt;122</title>\n<path fill=\"none\" stroke=\"#000000\" d=\"M6986.416,-888.9467C7016.9063,-878.5405 7050.9004,-866.9384 7082.0458,-856.3086\"/>\n<polygon fill=\"#000000\" stroke=\"#000000\" points=\"7083.2797,-859.5858 7091.6131,-853.0433 7081.0186,-852.961 7083.2797,-859.5858\"/>\n</g>\n<!-- 116 -->\n<g id=\"node117\" class=\"node\">\n<title>116</title>\n<path fill=\"#fafefb\" stroke=\"#000000\" d=\"M6744.5,-747.5C6744.5,-747.5 6450.5,-747.5 6450.5,-747.5 6444.5,-747.5 6438.5,-741.5 6438.5,-735.5 6438.5,-735.5 6438.5,-706.5 6438.5,-706.5 6438.5,-700.5 6444.5,-694.5 6450.5,-694.5 6450.5,-694.5 6744.5,-694.5 6744.5,-694.5 6750.5,-694.5 6756.5,-700.5 6756.5,-706.5 6756.5,-706.5 6756.5,-735.5 6756.5,-735.5 6756.5,-741.5 6750.5,-747.5 6744.5,-747.5\"/>\n<text text-anchor=\"start\" x=\"6559.5\" y=\"-732.3\" font-family=\"Helvetica,sans-Serif\" font-size=\"14.00\" fill=\"#000000\">gini = 0.788</text>\n<text text-anchor=\"start\" x=\"6545.5\" y=\"-717.3\" font-family=\"Helvetica,sans-Serif\" font-size=\"14.00\" fill=\"#000000\">samples = 5303</text>\n<text text-anchor=\"start\" x=\"6446.5\" y=\"-702.3\" font-family=\"Helvetica,sans-Serif\" font-size=\"14.00\" fill=\"#000000\">value = [16, 1176, 2459, 2310, 1163, 608, 665]</text>\n</g>\n<!-- 115&#45;&gt;116 -->\n<g id=\"edge116\" class=\"edge\">\n<title>115&#45;&gt;116</title>\n<path fill=\"none\" stroke=\"#000000\" d=\"M6774.1615,-788.9467C6742.6632,-776.832 6706.9511,-763.0966 6675.9192,-751.1612\"/>\n<polygon fill=\"#000000\" stroke=\"#000000\" points=\"6677.0386,-747.8419 6666.4487,-747.5187 6674.5257,-754.3753 6677.0386,-747.8419\"/>\n</g>\n<!-- 117 -->\n<g id=\"node118\" class=\"node\">\n<title>117</title>\n<path fill=\"#fafefe\" stroke=\"#000000\" d=\"M6998.5,-753C6998.5,-753 6786.5,-753 6786.5,-753 6780.5,-753 6774.5,-747 6774.5,-741 6774.5,-741 6774.5,-701 6774.5,-701 6774.5,-695 6780.5,-689 6786.5,-689 6786.5,-689 6998.5,-689 6998.5,-689 7004.5,-689 7010.5,-695 7010.5,-701 7010.5,-701 7010.5,-741 7010.5,-741 7010.5,-747 7004.5,-753 6998.5,-753\"/>\n<text text-anchor=\"start\" x=\"6862\" y=\"-738.8\" font-family=\"Helvetica,sans-Serif\" font-size=\"14.00\" fill=\"#000000\">X</text>\n<text text-anchor=\"start\" x=\"6872\" y=\"-738.8\" font-family=\"Helvetica,sans-Serif\" baseline-shift=\"sub\" font-size=\"14.00\" fill=\"#000000\">0</text>\n<text text-anchor=\"start\" x=\"6879\" y=\"-738.8\" font-family=\"Helvetica,sans-Serif\" font-size=\"14.00\" fill=\"#000000\"> ≤ 19.5</text>\n<text text-anchor=\"start\" x=\"6854.5\" y=\"-724.8\" font-family=\"Helvetica,sans-Serif\" font-size=\"14.00\" fill=\"#000000\">gini = 0.793</text>\n<text text-anchor=\"start\" x=\"6844.5\" y=\"-710.8\" font-family=\"Helvetica,sans-Serif\" font-size=\"14.00\" fill=\"#000000\">samples = 309</text>\n<text text-anchor=\"start\" x=\"6782.5\" y=\"-696.8\" font-family=\"Helvetica,sans-Serif\" font-size=\"14.00\" fill=\"#000000\">value = [0, 7, 53, 121, 112, 81, 96]</text>\n</g>\n<!-- 115&#45;&gt;117 -->\n<g id=\"edge117\" class=\"edge\">\n<title>115&#45;&gt;117</title>\n<path fill=\"none\" stroke=\"#000000\" d=\"M6868.7669,-788.8089C6871.6707,-780.5122 6874.838,-771.4628 6877.8852,-762.7565\"/>\n<polygon fill=\"#000000\" stroke=\"#000000\" points=\"6881.2542,-763.7256 6881.2542,-753.1308 6874.6472,-761.4131 6881.2542,-763.7256\"/>\n</g>\n<!-- 118 -->\n<g id=\"node119\" class=\"node\">\n<title>118</title>\n<path fill=\"#e9fcfc\" stroke=\"#000000\" d=\"M6874,-647.5C6874,-647.5 6679,-647.5 6679,-647.5 6673,-647.5 6667,-641.5 6667,-635.5 6667,-635.5 6667,-606.5 6667,-606.5 6667,-600.5 6673,-594.5 6679,-594.5 6679,-594.5 6874,-594.5 6874,-594.5 6880,-594.5 6886,-600.5 6886,-606.5 6886,-606.5 6886,-635.5 6886,-635.5 6886,-641.5 6880,-647.5 6874,-647.5\"/>\n<text text-anchor=\"start\" x=\"6738.5\" y=\"-632.3\" font-family=\"Helvetica,sans-Serif\" font-size=\"14.00\" fill=\"#000000\">gini = 0.778</text>\n<text text-anchor=\"start\" x=\"6728.5\" y=\"-617.3\" font-family=\"Helvetica,sans-Serif\" font-size=\"14.00\" fill=\"#000000\">samples = 121</text>\n<text text-anchor=\"start\" x=\"6675\" y=\"-602.3\" font-family=\"Helvetica,sans-Serif\" font-size=\"14.00\" fill=\"#000000\">value = [0, 3, 31, 61, 45, 29, 21]</text>\n</g>\n<!-- 117&#45;&gt;118 -->\n<g id=\"edge118\" class=\"edge\">\n<title>117&#45;&gt;118</title>\n<path fill=\"none\" stroke=\"#000000\" d=\"M6855.1584,-688.8089C6842.4336,-677.8393 6828.1829,-665.5543 6815.3432,-654.4855\"/>\n<polygon fill=\"#000000\" stroke=\"#000000\" points=\"6817.4167,-651.652 6807.5573,-647.7735 6812.8461,-656.9539 6817.4167,-651.652\"/>\n</g>\n<!-- 119 -->\n<g id=\"node120\" class=\"node\">\n<title>119</title>\n<path fill=\"#fef8fa\" stroke=\"#000000\" d=\"M7111,-653C7111,-653 6916,-653 6916,-653 6910,-653 6904,-647 6904,-641 6904,-641 6904,-601 6904,-601 6904,-595 6910,-589 6916,-589 6916,-589 7111,-589 7111,-589 7117,-589 7123,-595 7123,-601 7123,-601 7123,-641 7123,-641 7123,-647 7117,-653 7111,-653\"/>\n<text text-anchor=\"start\" x=\"6983\" y=\"-638.8\" font-family=\"Helvetica,sans-Serif\" font-size=\"14.00\" fill=\"#000000\">X</text>\n<text text-anchor=\"start\" x=\"6993\" y=\"-638.8\" font-family=\"Helvetica,sans-Serif\" baseline-shift=\"sub\" font-size=\"14.00\" fill=\"#000000\">0</text>\n<text text-anchor=\"start\" x=\"7000\" y=\"-638.8\" font-family=\"Helvetica,sans-Serif\" font-size=\"14.00\" fill=\"#000000\"> ≤ 20.5</text>\n<text text-anchor=\"start\" x=\"6975.5\" y=\"-624.8\" font-family=\"Helvetica,sans-Serif\" font-size=\"14.00\" fill=\"#000000\">gini = 0.784</text>\n<text text-anchor=\"start\" x=\"6965.5\" y=\"-610.8\" font-family=\"Helvetica,sans-Serif\" font-size=\"14.00\" fill=\"#000000\">samples = 188</text>\n<text text-anchor=\"start\" x=\"6912\" y=\"-596.8\" font-family=\"Helvetica,sans-Serif\" font-size=\"14.00\" fill=\"#000000\">value = [0, 4, 22, 60, 67, 52, 75]</text>\n</g>\n<!-- 117&#45;&gt;119 -->\n<g id=\"edge119\" class=\"edge\">\n<title>117&#45;&gt;119</title>\n<path fill=\"none\" stroke=\"#000000\" d=\"M6931.4512,-688.8089C6942.6777,-679.5308 6955.0429,-669.3116 6966.6932,-659.6833\"/>\n<polygon fill=\"#000000\" stroke=\"#000000\" points=\"6969.1432,-662.1992 6974.6218,-653.1308 6964.6838,-656.8034 6969.1432,-662.1992\"/>\n</g>\n<!-- 120 -->\n<g id=\"node121\" class=\"node\">\n<title>120</title>\n<path fill=\"#fef6f9\" stroke=\"#000000\" d=\"M6992,-547.5C6992,-547.5 6805,-547.5 6805,-547.5 6799,-547.5 6793,-541.5 6793,-535.5 6793,-535.5 6793,-506.5 6793,-506.5 6793,-500.5 6799,-494.5 6805,-494.5 6805,-494.5 6992,-494.5 6992,-494.5 6998,-494.5 7004,-500.5 7004,-506.5 7004,-506.5 7004,-535.5 7004,-535.5 7004,-541.5 6998,-547.5 6992,-547.5\"/>\n<text text-anchor=\"start\" x=\"6860.5\" y=\"-532.3\" font-family=\"Helvetica,sans-Serif\" font-size=\"14.00\" fill=\"#000000\">gini = 0.745</text>\n<text text-anchor=\"start\" x=\"6850.5\" y=\"-517.3\" font-family=\"Helvetica,sans-Serif\" font-size=\"14.00\" fill=\"#000000\">samples = 134</text>\n<text text-anchor=\"start\" x=\"6801\" y=\"-502.3\" font-family=\"Helvetica,sans-Serif\" font-size=\"14.00\" fill=\"#000000\">value = [0, 0, 2, 36, 55, 46, 62]</text>\n</g>\n<!-- 119&#45;&gt;120 -->\n<g id=\"edge120\" class=\"edge\">\n<title>119&#45;&gt;120</title>\n<path fill=\"none\" stroke=\"#000000\" d=\"M6976.4803,-588.8089C6963.8652,-577.8393 6949.7374,-565.5543 6937.0084,-554.4855\"/>\n<polygon fill=\"#000000\" stroke=\"#000000\" points=\"6939.1323,-551.6942 6929.2895,-547.7735 6934.539,-556.9765 6939.1323,-551.6942\"/>\n</g>\n<!-- 121 -->\n<g id=\"node122\" class=\"node\">\n<title>121</title>\n<path fill=\"#f2fdfd\" stroke=\"#000000\" d=\"M7221,-547.5C7221,-547.5 7034,-547.5 7034,-547.5 7028,-547.5 7022,-541.5 7022,-535.5 7022,-535.5 7022,-506.5 7022,-506.5 7022,-500.5 7028,-494.5 7034,-494.5 7034,-494.5 7221,-494.5 7221,-494.5 7227,-494.5 7233,-500.5 7233,-506.5 7233,-506.5 7233,-535.5 7233,-535.5 7233,-541.5 7227,-547.5 7221,-547.5\"/>\n<text text-anchor=\"start\" x=\"7089.5\" y=\"-532.3\" font-family=\"Helvetica,sans-Serif\" font-size=\"14.00\" fill=\"#000000\">gini = 0.785</text>\n<text text-anchor=\"start\" x=\"7083.5\" y=\"-517.3\" font-family=\"Helvetica,sans-Serif\" font-size=\"14.00\" fill=\"#000000\">samples = 54</text>\n<text text-anchor=\"start\" x=\"7030\" y=\"-502.3\" font-family=\"Helvetica,sans-Serif\" font-size=\"14.00\" fill=\"#000000\">value = [0, 4, 20, 24, 12, 6, 13]</text>\n</g>\n<!-- 119&#45;&gt;121 -->\n<g id=\"edge121\" class=\"edge\">\n<title>119&#45;&gt;121</title>\n<path fill=\"none\" stroke=\"#000000\" d=\"M7050.1978,-588.8089C7062.7031,-577.8393 7076.7081,-565.5543 7089.3265,-554.4855\"/>\n<polygon fill=\"#000000\" stroke=\"#000000\" points=\"7091.7686,-556.9991 7096.9782,-547.7735 7087.1525,-551.7368 7091.7686,-556.9991\"/>\n</g>\n<!-- 123 -->\n<g id=\"node124\" class=\"node\">\n<title>123</title>\n<path fill=\"#fbfefb\" stroke=\"#000000\" d=\"M7310,-747.5C7310,-747.5 7041,-747.5 7041,-747.5 7035,-747.5 7029,-741.5 7029,-735.5 7029,-735.5 7029,-706.5 7029,-706.5 7029,-700.5 7035,-694.5 7041,-694.5 7041,-694.5 7310,-694.5 7310,-694.5 7316,-694.5 7322,-700.5 7322,-706.5 7322,-706.5 7322,-735.5 7322,-735.5 7322,-741.5 7316,-747.5 7310,-747.5\"/>\n<text text-anchor=\"start\" x=\"7142\" y=\"-732.3\" font-family=\"Helvetica,sans-Serif\" font-size=\"14.00\" fill=\"#000000\">gini = 0.75</text>\n<text text-anchor=\"start\" x=\"7123.5\" y=\"-717.3\" font-family=\"Helvetica,sans-Serif\" font-size=\"14.00\" fill=\"#000000\">samples = 2837</text>\n<text text-anchor=\"start\" x=\"7037\" y=\"-702.3\" font-family=\"Helvetica,sans-Serif\" font-size=\"14.00\" fill=\"#000000\">value = [0, 677, 1449, 1384, 612, 172, 132]</text>\n</g>\n<!-- 122&#45;&gt;123 -->\n<g id=\"edge123\" class=\"edge\">\n<title>122&#45;&gt;123</title>\n<path fill=\"none\" stroke=\"#000000\" d=\"M7182.2809,-788.8089C7181.2978,-778.9777 7180.209,-768.0898 7179.1968,-757.9679\"/>\n<polygon fill=\"#000000\" stroke=\"#000000\" points=\"7182.6551,-757.3756 7178.1774,-747.7735 7175.6898,-758.0722 7182.6551,-757.3756\"/>\n</g>\n<!-- 124 -->\n<g id=\"node125\" class=\"node\">\n<title>124</title>\n<path fill=\"#eafcec\" stroke=\"#000000\" d=\"M7605,-753C7605,-753 7352,-753 7352,-753 7346,-753 7340,-747 7340,-741 7340,-741 7340,-701 7340,-701 7340,-695 7346,-689 7352,-689 7352,-689 7605,-689 7605,-689 7611,-689 7617,-695 7617,-701 7617,-701 7617,-741 7617,-741 7617,-747 7611,-753 7605,-753\"/>\n<text text-anchor=\"start\" x=\"7448\" y=\"-738.8\" font-family=\"Helvetica,sans-Serif\" font-size=\"14.00\" fill=\"#000000\">X</text>\n<text text-anchor=\"start\" x=\"7458\" y=\"-738.8\" font-family=\"Helvetica,sans-Serif\" baseline-shift=\"sub\" font-size=\"14.00\" fill=\"#000000\">0</text>\n<text text-anchor=\"start\" x=\"7465\" y=\"-738.8\" font-family=\"Helvetica,sans-Serif\" font-size=\"14.00\" fill=\"#000000\"> ≤ 23.5</text>\n<text text-anchor=\"start\" x=\"7445\" y=\"-724.8\" font-family=\"Helvetica,sans-Serif\" font-size=\"14.00\" fill=\"#000000\">gini = 0.72</text>\n<text text-anchor=\"start\" x=\"7426.5\" y=\"-710.8\" font-family=\"Helvetica,sans-Serif\" font-size=\"14.00\" fill=\"#000000\">samples = 1955</text>\n<text text-anchor=\"start\" x=\"7348\" y=\"-696.8\" font-family=\"Helvetica,sans-Serif\" font-size=\"14.00\" fill=\"#000000\">value = [8, 418, 1195, 966, 336, 108, 54]</text>\n</g>\n<!-- 122&#45;&gt;124 -->\n<g id=\"edge124\" class=\"edge\">\n<title>122&#45;&gt;124</title>\n<path fill=\"none\" stroke=\"#000000\" d=\"M7279.416,-788.9467C7309.9063,-778.5405 7343.9004,-766.9384 7375.0458,-756.3086\"/>\n<polygon fill=\"#000000\" stroke=\"#000000\" points=\"7376.2797,-759.5858 7384.6131,-753.0433 7374.0186,-752.961 7376.2797,-759.5858\"/>\n</g>\n<!-- 125 -->\n<g id=\"node126\" class=\"node\">\n<title>125</title>\n<path fill=\"#e9fceb\" stroke=\"#000000\" d=\"M7427,-647.5C7427,-647.5 7182,-647.5 7182,-647.5 7176,-647.5 7170,-641.5 7170,-635.5 7170,-635.5 7170,-606.5 7170,-606.5 7170,-600.5 7176,-594.5 7182,-594.5 7182,-594.5 7427,-594.5 7427,-594.5 7433,-594.5 7439,-600.5 7439,-606.5 7439,-606.5 7439,-635.5 7439,-635.5 7439,-641.5 7433,-647.5 7427,-647.5\"/>\n<text text-anchor=\"start\" x=\"7266.5\" y=\"-632.3\" font-family=\"Helvetica,sans-Serif\" font-size=\"14.00\" fill=\"#000000\">gini = 0.714</text>\n<text text-anchor=\"start\" x=\"7252.5\" y=\"-617.3\" font-family=\"Helvetica,sans-Serif\" font-size=\"14.00\" fill=\"#000000\">samples = 1837</text>\n<text text-anchor=\"start\" x=\"7178\" y=\"-602.3\" font-family=\"Helvetica,sans-Serif\" font-size=\"14.00\" fill=\"#000000\">value = [8, 402, 1135, 912, 306, 91, 32]</text>\n</g>\n<!-- 124&#45;&gt;125 -->\n<g id=\"edge125\" class=\"edge\">\n<title>124&#45;&gt;125</title>\n<path fill=\"none\" stroke=\"#000000\" d=\"M7422.4875,-688.8089C7402.3236,-677.2204 7379.605,-664.1638 7359.5259,-652.6241\"/>\n<polygon fill=\"#000000\" stroke=\"#000000\" points=\"7361.2163,-649.5587 7350.8021,-647.6104 7357.7283,-655.6279 7361.2163,-649.5587\"/>\n</g>\n<!-- 126 -->\n<g id=\"node127\" class=\"node\">\n<title>126</title>\n<path fill=\"#f7fef8\" stroke=\"#000000\" d=\"M7672,-647.5C7672,-647.5 7469,-647.5 7469,-647.5 7463,-647.5 7457,-641.5 7457,-635.5 7457,-635.5 7457,-606.5 7457,-606.5 7457,-600.5 7463,-594.5 7469,-594.5 7469,-594.5 7672,-594.5 7672,-594.5 7678,-594.5 7684,-600.5 7684,-606.5 7684,-606.5 7684,-635.5 7684,-635.5 7684,-641.5 7678,-647.5 7672,-647.5\"/>\n<text text-anchor=\"start\" x=\"7532.5\" y=\"-632.3\" font-family=\"Helvetica,sans-Serif\" font-size=\"14.00\" fill=\"#000000\">gini = 0.787</text>\n<text text-anchor=\"start\" x=\"7522.5\" y=\"-617.3\" font-family=\"Helvetica,sans-Serif\" font-size=\"14.00\" fill=\"#000000\">samples = 118</text>\n<text text-anchor=\"start\" x=\"7465\" y=\"-602.3\" font-family=\"Helvetica,sans-Serif\" font-size=\"14.00\" fill=\"#000000\">value = [0, 16, 60, 54, 30, 17, 22]</text>\n</g>\n<!-- 124&#45;&gt;126 -->\n<g id=\"edge126\" class=\"edge\">\n<title>124&#45;&gt;126</title>\n<path fill=\"none\" stroke=\"#000000\" d=\"M7508.1158,-688.8089C7517.9222,-678.1498 7528.8713,-666.2486 7538.8261,-655.4282\"/>\n<polygon fill=\"#000000\" stroke=\"#000000\" points=\"7541.6735,-657.5026 7545.8684,-647.7735 7536.522,-652.7631 7541.6735,-657.5026\"/>\n</g>\n<!-- 128 -->\n<g id=\"node129\" class=\"node\">\n<title>128</title>\n<path fill=\"#eb63a0\" stroke=\"#000000\" d=\"M8410.5,-1153C8410.5,-1153 8108.5,-1153 8108.5,-1153 8102.5,-1153 8096.5,-1147 8096.5,-1141 8096.5,-1141 8096.5,-1101 8096.5,-1101 8096.5,-1095 8102.5,-1089 8108.5,-1089 8108.5,-1089 8410.5,-1089 8410.5,-1089 8416.5,-1089 8422.5,-1095 8422.5,-1101 8422.5,-1101 8422.5,-1141 8422.5,-1141 8422.5,-1147 8416.5,-1153 8410.5,-1153\"/>\n<text text-anchor=\"start\" x=\"8229\" y=\"-1138.8\" font-family=\"Helvetica,sans-Serif\" font-size=\"14.00\" fill=\"#000000\">X</text>\n<text text-anchor=\"start\" x=\"8239\" y=\"-1138.8\" font-family=\"Helvetica,sans-Serif\" baseline-shift=\"sub\" font-size=\"14.00\" fill=\"#000000\">0</text>\n<text text-anchor=\"start\" x=\"8246\" y=\"-1138.8\" font-family=\"Helvetica,sans-Serif\" font-size=\"14.00\" fill=\"#000000\"> ≤ 10.5</text>\n<text text-anchor=\"start\" x=\"8221.5\" y=\"-1124.8\" font-family=\"Helvetica,sans-Serif\" font-size=\"14.00\" fill=\"#000000\">gini = 0.341</text>\n<text text-anchor=\"start\" x=\"8203.5\" y=\"-1110.8\" font-family=\"Helvetica,sans-Serif\" font-size=\"14.00\" fill=\"#000000\">samples = 53185</text>\n<text text-anchor=\"start\" x=\"8104.5\" y=\"-1096.8\" font-family=\"Helvetica,sans-Serif\" font-size=\"14.00\" fill=\"#000000\">value = [0, 141, 1054, 2914, 5427, 6965, 67864]</text>\n</g>\n<!-- 127&#45;&gt;128 -->\n<g id=\"edge128\" class=\"edge\">\n<title>127&#45;&gt;128</title>\n<path fill=\"none\" stroke=\"#000000\" d=\"M8259.5,-1188.8089C8259.5,-1180.6906 8259.5,-1171.8517 8259.5,-1163.3186\"/>\n<polygon fill=\"#000000\" stroke=\"#000000\" points=\"8263.0001,-1163.1307 8259.5,-1153.1308 8256.0001,-1163.1308 8263.0001,-1163.1307\"/>\n</g>\n<!-- 163 -->\n<g id=\"node164\" class=\"node\">\n<title>163</title>\n<path fill=\"#feffff\" stroke=\"#000000\" d=\"M12724,-1153C12724,-1153 12389,-1153 12389,-1153 12383,-1153 12377,-1147 12377,-1141 12377,-1141 12377,-1101 12377,-1101 12377,-1095 12383,-1089 12389,-1089 12389,-1089 12724,-1089 12724,-1089 12730,-1089 12736,-1095 12736,-1101 12736,-1101 12736,-1141 12736,-1141 12736,-1147 12730,-1153 12724,-1153\"/>\n<text text-anchor=\"start\" x=\"12530\" y=\"-1138.8\" font-family=\"Helvetica,sans-Serif\" font-size=\"14.00\" fill=\"#000000\">X</text>\n<text text-anchor=\"start\" x=\"12540\" y=\"-1138.8\" font-family=\"Helvetica,sans-Serif\" baseline-shift=\"sub\" font-size=\"14.00\" fill=\"#000000\">1</text>\n<text text-anchor=\"start\" x=\"12547\" y=\"-1138.8\" font-family=\"Helvetica,sans-Serif\" font-size=\"14.00\" fill=\"#000000\"> ≤ 5.0</text>\n<text text-anchor=\"start\" x=\"12518.5\" y=\"-1124.8\" font-family=\"Helvetica,sans-Serif\" font-size=\"14.00\" fill=\"#000000\">gini = 0.829</text>\n<text text-anchor=\"start\" x=\"12500.5\" y=\"-1110.8\" font-family=\"Helvetica,sans-Serif\" font-size=\"14.00\" fill=\"#000000\">samples = 31402</text>\n<text text-anchor=\"start\" x=\"12385\" y=\"-1096.8\" font-family=\"Helvetica,sans-Serif\" font-size=\"14.00\" fill=\"#000000\">value = [516, 6748, 10122, 10267, 7654, 5225, 9051]</text>\n</g>\n<!-- 127&#45;&gt;163 -->\n<g id=\"edge163\" class=\"edge\">\n<title>127&#45;&gt;163</title>\n<path fill=\"none\" stroke=\"#000000\" d=\"M8451.7793,-1216.5253C9165.4286,-1199.9172 11657.5814,-1141.9197 12366.8476,-1125.4136\"/>\n<polygon fill=\"#000000\" stroke=\"#000000\" points=\"12366.9873,-1128.9114 12376.9032,-1125.1796 12366.8244,-1121.9133 12366.9873,-1128.9114\"/>\n</g>\n<!-- 129 -->\n<g id=\"node130\" class=\"node\">\n<title>129</title>\n<path fill=\"#ed76ab\" stroke=\"#000000\" d=\"M8238.5,-1053C8238.5,-1053 7952.5,-1053 7952.5,-1053 7946.5,-1053 7940.5,-1047 7940.5,-1041 7940.5,-1041 7940.5,-1001 7940.5,-1001 7940.5,-995 7946.5,-989 7952.5,-989 7952.5,-989 8238.5,-989 8238.5,-989 8244.5,-989 8250.5,-995 8250.5,-1001 8250.5,-1001 8250.5,-1041 8250.5,-1041 8250.5,-1047 8244.5,-1053 8238.5,-1053\"/>\n<text text-anchor=\"start\" x=\"8069\" y=\"-1038.8\" font-family=\"Helvetica,sans-Serif\" font-size=\"14.00\" fill=\"#000000\">X</text>\n<text text-anchor=\"start\" x=\"8079\" y=\"-1038.8\" font-family=\"Helvetica,sans-Serif\" baseline-shift=\"sub\" font-size=\"14.00\" fill=\"#000000\">0</text>\n<text text-anchor=\"start\" x=\"8086\" y=\"-1038.8\" font-family=\"Helvetica,sans-Serif\" font-size=\"14.00\" fill=\"#000000\"> ≤ 9.5</text>\n<text text-anchor=\"start\" x=\"8057.5\" y=\"-1024.8\" font-family=\"Helvetica,sans-Serif\" font-size=\"14.00\" fill=\"#000000\">gini = 0.449</text>\n<text text-anchor=\"start\" x=\"8039.5\" y=\"-1010.8\" font-family=\"Helvetica,sans-Serif\" font-size=\"14.00\" fill=\"#000000\">samples = 19469</text>\n<text text-anchor=\"start\" x=\"7948.5\" y=\"-996.8\" font-family=\"Helvetica,sans-Serif\" font-size=\"14.00\" fill=\"#000000\">value = [0, 80, 499, 1453, 2976, 3487, 22493]</text>\n</g>\n<!-- 128&#45;&gt;129 -->\n<g id=\"edge129\" class=\"edge\">\n<title>128&#45;&gt;129</title>\n<path fill=\"none\" stroke=\"#000000\" d=\"M8206.7066,-1088.8089C8190.9053,-1079.174 8173.4396,-1068.5241 8157.1231,-1058.575\"/>\n<polygon fill=\"#000000\" stroke=\"#000000\" points=\"8158.5546,-1055.3486 8148.1944,-1053.1308 8154.9103,-1061.3252 8158.5546,-1055.3486\"/>\n</g>\n<!-- 136 -->\n<g id=\"node137\" class=\"node\">\n<title>136</title>\n<path fill=\"#e95999\" stroke=\"#000000\" d=\"M8566.5,-1053C8566.5,-1053 8280.5,-1053 8280.5,-1053 8274.5,-1053 8268.5,-1047 8268.5,-1041 8268.5,-1041 8268.5,-1001 8268.5,-1001 8268.5,-995 8274.5,-989 8280.5,-989 8280.5,-989 8566.5,-989 8566.5,-989 8572.5,-989 8578.5,-995 8578.5,-1001 8578.5,-1001 8578.5,-1041 8578.5,-1041 8578.5,-1047 8572.5,-1053 8566.5,-1053\"/>\n<text text-anchor=\"start\" x=\"8393\" y=\"-1038.8\" font-family=\"Helvetica,sans-Serif\" font-size=\"14.00\" fill=\"#000000\">X</text>\n<text text-anchor=\"start\" x=\"8403\" y=\"-1038.8\" font-family=\"Helvetica,sans-Serif\" baseline-shift=\"sub\" font-size=\"14.00\" fill=\"#000000\">0</text>\n<text text-anchor=\"start\" x=\"8410\" y=\"-1038.8\" font-family=\"Helvetica,sans-Serif\" font-size=\"14.00\" fill=\"#000000\"> ≤ 16.5</text>\n<text text-anchor=\"start\" x=\"8390\" y=\"-1024.8\" font-family=\"Helvetica,sans-Serif\" font-size=\"14.00\" fill=\"#000000\">gini = 0.27</text>\n<text text-anchor=\"start\" x=\"8367.5\" y=\"-1010.8\" font-family=\"Helvetica,sans-Serif\" font-size=\"14.00\" fill=\"#000000\">samples = 33716</text>\n<text text-anchor=\"start\" x=\"8276.5\" y=\"-996.8\" font-family=\"Helvetica,sans-Serif\" font-size=\"14.00\" fill=\"#000000\">value = [0, 61, 555, 1461, 2451, 3478, 45371]</text>\n</g>\n<!-- 128&#45;&gt;136 -->\n<g id=\"edge136\" class=\"edge\">\n<title>128&#45;&gt;136</title>\n<path fill=\"none\" stroke=\"#000000\" d=\"M8312.2934,-1088.8089C8328.0947,-1079.174 8345.5604,-1068.5241 8361.8769,-1058.575\"/>\n<polygon fill=\"#000000\" stroke=\"#000000\" points=\"8364.0897,-1061.3252 8370.8056,-1053.1308 8360.4454,-1055.3486 8364.0897,-1061.3252\"/>\n</g>\n<!-- 130 -->\n<g id=\"node131\" class=\"node\">\n<title>130</title>\n<path fill=\"#e95a9a\" stroke=\"#000000\" d=\"M7915.5,-953C7915.5,-953 7679.5,-953 7679.5,-953 7673.5,-953 7667.5,-947 7667.5,-941 7667.5,-941 7667.5,-901 7667.5,-901 7667.5,-895 7673.5,-889 7679.5,-889 7679.5,-889 7915.5,-889 7915.5,-889 7921.5,-889 7927.5,-895 7927.5,-901 7927.5,-901 7927.5,-941 7927.5,-941 7927.5,-947 7921.5,-953 7915.5,-953\"/>\n<text text-anchor=\"start\" x=\"7771\" y=\"-938.8\" font-family=\"Helvetica,sans-Serif\" font-size=\"14.00\" fill=\"#000000\">X</text>\n<text text-anchor=\"start\" x=\"7781\" y=\"-938.8\" font-family=\"Helvetica,sans-Serif\" baseline-shift=\"sub\" font-size=\"14.00\" fill=\"#000000\">0</text>\n<text text-anchor=\"start\" x=\"7788\" y=\"-938.8\" font-family=\"Helvetica,sans-Serif\" font-size=\"14.00\" fill=\"#000000\"> ≤ 7.5</text>\n<text text-anchor=\"start\" x=\"7759.5\" y=\"-924.8\" font-family=\"Helvetica,sans-Serif\" font-size=\"14.00\" fill=\"#000000\">gini = 0.277</text>\n<text text-anchor=\"start\" x=\"7745.5\" y=\"-910.8\" font-family=\"Helvetica,sans-Serif\" font-size=\"14.00\" fill=\"#000000\">samples = 6149</text>\n<text text-anchor=\"start\" x=\"7675.5\" y=\"-896.8\" font-family=\"Helvetica,sans-Serif\" font-size=\"14.00\" fill=\"#000000\">value = [0, 7, 61, 168, 533, 745, 8265]</text>\n</g>\n<!-- 129&#45;&gt;130 -->\n<g id=\"edge130\" class=\"edge\">\n<title>129&#45;&gt;130</title>\n<path fill=\"none\" stroke=\"#000000\" d=\"M7999.9813,-988.9467C7968.9707,-978.5405 7934.3965,-966.9384 7902.7196,-956.3086\"/>\n<polygon fill=\"#000000\" stroke=\"#000000\" points=\"7903.583,-952.9066 7892.989,-953.0433 7901.356,-959.5429 7903.583,-952.9066\"/>\n</g>\n<!-- 135 -->\n<g id=\"node136\" class=\"node\">\n<title>135</title>\n<path fill=\"#ef84b4\" stroke=\"#000000\" d=\"M8243.5,-947.5C8243.5,-947.5 7957.5,-947.5 7957.5,-947.5 7951.5,-947.5 7945.5,-941.5 7945.5,-935.5 7945.5,-935.5 7945.5,-906.5 7945.5,-906.5 7945.5,-900.5 7951.5,-894.5 7957.5,-894.5 7957.5,-894.5 8243.5,-894.5 8243.5,-894.5 8249.5,-894.5 8255.5,-900.5 8255.5,-906.5 8255.5,-906.5 8255.5,-935.5 8255.5,-935.5 8255.5,-941.5 8249.5,-947.5 8243.5,-947.5\"/>\n<text text-anchor=\"start\" x=\"8062.5\" y=\"-932.3\" font-family=\"Helvetica,sans-Serif\" font-size=\"14.00\" fill=\"#000000\">gini = 0.516</text>\n<text text-anchor=\"start\" x=\"8044.5\" y=\"-917.3\" font-family=\"Helvetica,sans-Serif\" font-size=\"14.00\" fill=\"#000000\">samples = 13320</text>\n<text text-anchor=\"start\" x=\"7953.5\" y=\"-902.3\" font-family=\"Helvetica,sans-Serif\" font-size=\"14.00\" fill=\"#000000\">value = [0, 73, 438, 1285, 2443, 2742, 14228]</text>\n</g>\n<!-- 129&#45;&gt;135 -->\n<g id=\"edge135\" class=\"edge\">\n<title>129&#45;&gt;135</title>\n<path fill=\"none\" stroke=\"#000000\" d=\"M8097.1096,-988.8089C8097.6011,-978.9777 8098.1455,-968.0898 8098.6516,-957.9679\"/>\n<polygon fill=\"#000000\" stroke=\"#000000\" points=\"8102.1575,-957.9359 8099.1613,-947.7735 8095.1662,-957.5862 8102.1575,-957.9359\"/>\n</g>\n<!-- 131 -->\n<g id=\"node132\" class=\"node\">\n<title>131</title>\n<path fill=\"#ed75ab\" stroke=\"#000000\" d=\"M7681.5,-847.5C7681.5,-847.5 7453.5,-847.5 7453.5,-847.5 7447.5,-847.5 7441.5,-841.5 7441.5,-835.5 7441.5,-835.5 7441.5,-806.5 7441.5,-806.5 7441.5,-800.5 7447.5,-794.5 7453.5,-794.5 7453.5,-794.5 7681.5,-794.5 7681.5,-794.5 7687.5,-794.5 7693.5,-800.5 7693.5,-806.5 7693.5,-806.5 7693.5,-835.5 7693.5,-835.5 7693.5,-841.5 7687.5,-847.5 7681.5,-847.5\"/>\n<text text-anchor=\"start\" x=\"7529.5\" y=\"-832.3\" font-family=\"Helvetica,sans-Serif\" font-size=\"14.00\" fill=\"#000000\">gini = 0.434</text>\n<text text-anchor=\"start\" x=\"7515.5\" y=\"-817.3\" font-family=\"Helvetica,sans-Serif\" font-size=\"14.00\" fill=\"#000000\">samples = 2144</text>\n<text text-anchor=\"start\" x=\"7449.5\" y=\"-802.3\" font-family=\"Helvetica,sans-Serif\" font-size=\"14.00\" fill=\"#000000\">value = [0, 1, 32, 99, 338, 431, 2490]</text>\n</g>\n<!-- 130&#45;&gt;131 -->\n<g id=\"edge131\" class=\"edge\">\n<title>130&#45;&gt;131</title>\n<path fill=\"none\" stroke=\"#000000\" d=\"M7723.7775,-888.9467C7696.2739,-876.9887 7665.1385,-863.4515 7637.9378,-851.6251\"/>\n<polygon fill=\"#000000\" stroke=\"#000000\" points=\"7639.0593,-848.2963 7628.4931,-847.5187 7636.2682,-854.7158 7639.0593,-848.2963\"/>\n</g>\n<!-- 132 -->\n<g id=\"node133\" class=\"node\">\n<title>132</title>\n<path fill=\"#e84d92\" stroke=\"#000000\" d=\"M7951.5,-853C7951.5,-853 7723.5,-853 7723.5,-853 7717.5,-853 7711.5,-847 7711.5,-841 7711.5,-841 7711.5,-801 7711.5,-801 7711.5,-795 7717.5,-789 7723.5,-789 7723.5,-789 7951.5,-789 7951.5,-789 7957.5,-789 7963.5,-795 7963.5,-801 7963.5,-801 7963.5,-841 7963.5,-841 7963.5,-847 7957.5,-853 7951.5,-853\"/>\n<text text-anchor=\"start\" x=\"7811\" y=\"-838.8\" font-family=\"Helvetica,sans-Serif\" font-size=\"14.00\" fill=\"#000000\">X</text>\n<text text-anchor=\"start\" x=\"7821\" y=\"-838.8\" font-family=\"Helvetica,sans-Serif\" baseline-shift=\"sub\" font-size=\"14.00\" fill=\"#000000\">0</text>\n<text text-anchor=\"start\" x=\"7828\" y=\"-838.8\" font-family=\"Helvetica,sans-Serif\" font-size=\"14.00\" fill=\"#000000\"> ≤ 8.5</text>\n<text text-anchor=\"start\" x=\"7799.5\" y=\"-824.8\" font-family=\"Helvetica,sans-Serif\" font-size=\"14.00\" fill=\"#000000\">gini = 0.179</text>\n<text text-anchor=\"start\" x=\"7785.5\" y=\"-810.8\" font-family=\"Helvetica,sans-Serif\" font-size=\"14.00\" fill=\"#000000\">samples = 4005</text>\n<text text-anchor=\"start\" x=\"7719.5\" y=\"-796.8\" font-family=\"Helvetica,sans-Serif\" font-size=\"14.00\" fill=\"#000000\">value = [0, 6, 29, 69, 195, 314, 5775]</text>\n</g>\n<!-- 130&#45;&gt;132 -->\n<g id=\"edge132\" class=\"edge\">\n<title>130&#45;&gt;132</title>\n<path fill=\"none\" stroke=\"#000000\" d=\"M7810.3764,-888.8089C7813.7308,-880.4229 7817.3927,-871.2681 7820.9097,-862.4757\"/>\n<polygon fill=\"#000000\" stroke=\"#000000\" points=\"7824.1834,-863.7154 7824.6477,-853.1308 7817.6841,-861.1156 7824.1834,-863.7154\"/>\n</g>\n<!-- 133 -->\n<g id=\"node134\" class=\"node\">\n<title>133</title>\n<path fill=\"#e85094\" stroke=\"#000000\" d=\"M7875.5,-747.5C7875.5,-747.5 7647.5,-747.5 7647.5,-747.5 7641.5,-747.5 7635.5,-741.5 7635.5,-735.5 7635.5,-735.5 7635.5,-706.5 7635.5,-706.5 7635.5,-700.5 7641.5,-694.5 7647.5,-694.5 7647.5,-694.5 7875.5,-694.5 7875.5,-694.5 7881.5,-694.5 7887.5,-700.5 7887.5,-706.5 7887.5,-706.5 7887.5,-735.5 7887.5,-735.5 7887.5,-741.5 7881.5,-747.5 7875.5,-747.5\"/>\n<text text-anchor=\"start\" x=\"7723.5\" y=\"-732.3\" font-family=\"Helvetica,sans-Serif\" font-size=\"14.00\" fill=\"#000000\">gini = 0.204</text>\n<text text-anchor=\"start\" x=\"7709.5\" y=\"-717.3\" font-family=\"Helvetica,sans-Serif\" font-size=\"14.00\" fill=\"#000000\">samples = 2940</text>\n<text text-anchor=\"start\" x=\"7643.5\" y=\"-702.3\" font-family=\"Helvetica,sans-Serif\" font-size=\"14.00\" fill=\"#000000\">value = [0, 5, 24, 50, 164, 275, 4181]</text>\n</g>\n<!-- 132&#45;&gt;133 -->\n<g id=\"edge133\" class=\"edge\">\n<title>132&#45;&gt;133</title>\n<path fill=\"none\" stroke=\"#000000\" d=\"M7813.0348,-788.8089C7805.0125,-778.2533 7796.0645,-766.4796 7787.9052,-755.7437\"/>\n<polygon fill=\"#000000\" stroke=\"#000000\" points=\"7790.6853,-753.6174 7781.8479,-747.7735 7785.1122,-757.853 7790.6853,-753.6174\"/>\n</g>\n<!-- 134 -->\n<g id=\"node135\" class=\"node\">\n<title>134</title>\n<path fill=\"#e6448d\" stroke=\"#000000\" d=\"M8121,-747.5C8121,-747.5 7918,-747.5 7918,-747.5 7912,-747.5 7906,-741.5 7906,-735.5 7906,-735.5 7906,-706.5 7906,-706.5 7906,-700.5 7912,-694.5 7918,-694.5 7918,-694.5 8121,-694.5 8121,-694.5 8127,-694.5 8133,-700.5 8133,-706.5 8133,-706.5 8133,-735.5 8133,-735.5 8133,-741.5 8127,-747.5 8121,-747.5\"/>\n<text text-anchor=\"start\" x=\"7981.5\" y=\"-732.3\" font-family=\"Helvetica,sans-Serif\" font-size=\"14.00\" fill=\"#000000\">gini = 0.108</text>\n<text text-anchor=\"start\" x=\"7967.5\" y=\"-717.3\" font-family=\"Helvetica,sans-Serif\" font-size=\"14.00\" fill=\"#000000\">samples = 1065</text>\n<text text-anchor=\"start\" x=\"7914\" y=\"-702.3\" font-family=\"Helvetica,sans-Serif\" font-size=\"14.00\" fill=\"#000000\">value = [0, 1, 5, 19, 31, 39, 1594]</text>\n</g>\n<!-- 132&#45;&gt;134 -->\n<g id=\"edge134\" class=\"edge\">\n<title>132&#45;&gt;134</title>\n<path fill=\"none\" stroke=\"#000000\" d=\"M7895.8369,-788.9467C7917.1254,-777.2498 7941.1637,-764.0419 7962.348,-752.4022\"/>\n<polygon fill=\"#000000\" stroke=\"#000000\" points=\"7964.1572,-755.4017 7971.2359,-747.5187 7960.7863,-749.2668 7964.1572,-755.4017\"/>\n</g>\n<!-- 137 -->\n<g id=\"node138\" class=\"node\">\n<title>137</title>\n<path fill=\"#e74990\" stroke=\"#000000\" d=\"M8541,-953C8541,-953 8296,-953 8296,-953 8290,-953 8284,-947 8284,-941 8284,-941 8284,-901 8284,-901 8284,-895 8290,-889 8296,-889 8296,-889 8541,-889 8541,-889 8547,-889 8553,-895 8553,-901 8553,-901 8553,-941 8553,-941 8553,-947 8547,-953 8541,-953\"/>\n<text text-anchor=\"start\" x=\"8388\" y=\"-938.8\" font-family=\"Helvetica,sans-Serif\" font-size=\"14.00\" fill=\"#000000\">X</text>\n<text text-anchor=\"start\" x=\"8398\" y=\"-938.8\" font-family=\"Helvetica,sans-Serif\" baseline-shift=\"sub\" font-size=\"14.00\" fill=\"#000000\">0</text>\n<text text-anchor=\"start\" x=\"8405\" y=\"-938.8\" font-family=\"Helvetica,sans-Serif\" font-size=\"14.00\" fill=\"#000000\"> ≤ 11.5</text>\n<text text-anchor=\"start\" x=\"8380.5\" y=\"-924.8\" font-family=\"Helvetica,sans-Serif\" font-size=\"14.00\" fill=\"#000000\">gini = 0.148</text>\n<text text-anchor=\"start\" x=\"8366.5\" y=\"-910.8\" font-family=\"Helvetica,sans-Serif\" font-size=\"14.00\" fill=\"#000000\">samples = 9625</text>\n<text text-anchor=\"start\" x=\"8292\" y=\"-896.8\" font-family=\"Helvetica,sans-Serif\" font-size=\"14.00\" fill=\"#000000\">value = [0, 6, 77, 192, 304, 612, 14032]</text>\n</g>\n<!-- 136&#45;&gt;137 -->\n<g id=\"edge137\" class=\"edge\">\n<title>136&#45;&gt;137</title>\n<path fill=\"none\" stroke=\"#000000\" d=\"M8421.8904,-988.8089C8421.4845,-980.6906 8421.0426,-971.8517 8420.6159,-963.3186\"/>\n<polygon fill=\"#000000\" stroke=\"#000000\" points=\"8424.1016,-962.9435 8420.1065,-953.1308 8417.1104,-963.2931 8424.1016,-962.9435\"/>\n</g>\n<!-- 148 -->\n<g id=\"node149\" class=\"node\">\n<title>148</title>\n<path fill=\"#ea5f9d\" stroke=\"#000000\" d=\"M8869.5,-953C8869.5,-953 8583.5,-953 8583.5,-953 8577.5,-953 8571.5,-947 8571.5,-941 8571.5,-941 8571.5,-901 8571.5,-901 8571.5,-895 8577.5,-889 8583.5,-889 8583.5,-889 8869.5,-889 8869.5,-889 8875.5,-889 8881.5,-895 8881.5,-901 8881.5,-901 8881.5,-941 8881.5,-941 8881.5,-947 8875.5,-953 8869.5,-953\"/>\n<text text-anchor=\"start\" x=\"8696\" y=\"-938.8\" font-family=\"Helvetica,sans-Serif\" font-size=\"14.00\" fill=\"#000000\">X</text>\n<text text-anchor=\"start\" x=\"8706\" y=\"-938.8\" font-family=\"Helvetica,sans-Serif\" baseline-shift=\"sub\" font-size=\"14.00\" fill=\"#000000\">0</text>\n<text text-anchor=\"start\" x=\"8713\" y=\"-938.8\" font-family=\"Helvetica,sans-Serif\" font-size=\"14.00\" fill=\"#000000\"> ≤ 17.5</text>\n<text text-anchor=\"start\" x=\"8688.5\" y=\"-924.8\" font-family=\"Helvetica,sans-Serif\" font-size=\"14.00\" fill=\"#000000\">gini = 0.315</text>\n<text text-anchor=\"start\" x=\"8670.5\" y=\"-910.8\" font-family=\"Helvetica,sans-Serif\" font-size=\"14.00\" fill=\"#000000\">samples = 24091</text>\n<text text-anchor=\"start\" x=\"8579.5\" y=\"-896.8\" font-family=\"Helvetica,sans-Serif\" font-size=\"14.00\" fill=\"#000000\">value = [0, 55, 478, 1269, 2147, 2866, 31339]</text>\n</g>\n<!-- 136&#45;&gt;148 -->\n<g id=\"edge148\" class=\"edge\">\n<title>136&#45;&gt;148</title>\n<path fill=\"none\" stroke=\"#000000\" d=\"M8520.6214,-988.9467C8552.1523,-978.5405 8587.3065,-966.9384 8619.5149,-956.3086\"/>\n<polygon fill=\"#000000\" stroke=\"#000000\" points=\"8621.0096,-959.5011 8629.4088,-953.0433 8618.8157,-952.8538 8621.0096,-959.5011\"/>\n</g>\n<!-- 138 -->\n<g id=\"node139\" class=\"node\">\n<title>138</title>\n<path fill=\"#e95698\" stroke=\"#000000\" d=\"M8256.5,-847.5C8256.5,-847.5 8036.5,-847.5 8036.5,-847.5 8030.5,-847.5 8024.5,-841.5 8024.5,-835.5 8024.5,-835.5 8024.5,-806.5 8024.5,-806.5 8024.5,-800.5 8030.5,-794.5 8036.5,-794.5 8036.5,-794.5 8256.5,-794.5 8256.5,-794.5 8262.5,-794.5 8268.5,-800.5 8268.5,-806.5 8268.5,-806.5 8268.5,-835.5 8268.5,-835.5 8268.5,-841.5 8262.5,-847.5 8256.5,-847.5\"/>\n<text text-anchor=\"start\" x=\"8108.5\" y=\"-832.3\" font-family=\"Helvetica,sans-Serif\" font-size=\"14.00\" fill=\"#000000\">gini = 0.244</text>\n<text text-anchor=\"start\" x=\"8094.5\" y=\"-817.3\" font-family=\"Helvetica,sans-Serif\" font-size=\"14.00\" fill=\"#000000\">samples = 1499</text>\n<text text-anchor=\"start\" x=\"8032.5\" y=\"-802.3\" font-family=\"Helvetica,sans-Serif\" font-size=\"14.00\" fill=\"#000000\">value = [0, 1, 12, 27, 95, 182, 2030]</text>\n</g>\n<!-- 137&#45;&gt;138 -->\n<g id=\"edge138\" class=\"edge\">\n<title>137&#45;&gt;138</title>\n<path fill=\"none\" stroke=\"#000000\" d=\"M8331.3152,-888.9467C8298.221,-876.7798 8260.6805,-862.9781 8228.119,-851.007\"/>\n<polygon fill=\"#000000\" stroke=\"#000000\" points=\"8229.2245,-847.6844 8218.6309,-847.5187 8226.809,-854.2545 8229.2245,-847.6844\"/>\n</g>\n<!-- 139 -->\n<g id=\"node140\" class=\"node\">\n<title>139</title>\n<path fill=\"#e7478e\" stroke=\"#000000\" d=\"M8544,-853C8544,-853 8299,-853 8299,-853 8293,-853 8287,-847 8287,-841 8287,-841 8287,-801 8287,-801 8287,-795 8293,-789 8299,-789 8299,-789 8544,-789 8544,-789 8550,-789 8556,-795 8556,-801 8556,-801 8556,-841 8556,-841 8556,-847 8550,-853 8544,-853\"/>\n<text text-anchor=\"start\" x=\"8391\" y=\"-838.8\" font-family=\"Helvetica,sans-Serif\" font-size=\"14.00\" fill=\"#000000\">X</text>\n<text text-anchor=\"start\" x=\"8401\" y=\"-838.8\" font-family=\"Helvetica,sans-Serif\" baseline-shift=\"sub\" font-size=\"14.00\" fill=\"#000000\">0</text>\n<text text-anchor=\"start\" x=\"8408\" y=\"-838.8\" font-family=\"Helvetica,sans-Serif\" font-size=\"14.00\" fill=\"#000000\"> ≤ 13.5</text>\n<text text-anchor=\"start\" x=\"8388\" y=\"-824.8\" font-family=\"Helvetica,sans-Serif\" font-size=\"14.00\" fill=\"#000000\">gini = 0.13</text>\n<text text-anchor=\"start\" x=\"8369.5\" y=\"-810.8\" font-family=\"Helvetica,sans-Serif\" font-size=\"14.00\" fill=\"#000000\">samples = 8126</text>\n<text text-anchor=\"start\" x=\"8295\" y=\"-796.8\" font-family=\"Helvetica,sans-Serif\" font-size=\"14.00\" fill=\"#000000\">value = [0, 5, 65, 165, 209, 430, 12002]</text>\n</g>\n<!-- 137&#45;&gt;139 -->\n<g id=\"edge139\" class=\"edge\">\n<title>137&#45;&gt;139</title>\n<path fill=\"none\" stroke=\"#000000\" d=\"M8419.4657,-888.8089C8419.7093,-880.6906 8419.9744,-871.8517 8420.2304,-863.3186\"/>\n<polygon fill=\"#000000\" stroke=\"#000000\" points=\"8423.7345,-863.2312 8420.5361,-853.1308 8416.7377,-863.0213 8423.7345,-863.2312\"/>\n</g>\n<!-- 140 -->\n<g id=\"node141\" class=\"node\">\n<title>140</title>\n<path fill=\"#e6418b\" stroke=\"#000000\" d=\"M8375.5,-753C8375.5,-753 8163.5,-753 8163.5,-753 8157.5,-753 8151.5,-747 8151.5,-741 8151.5,-741 8151.5,-701 8151.5,-701 8151.5,-695 8157.5,-689 8163.5,-689 8163.5,-689 8375.5,-689 8375.5,-689 8381.5,-689 8387.5,-695 8387.5,-701 8387.5,-701 8387.5,-741 8387.5,-741 8387.5,-747 8381.5,-753 8375.5,-753\"/>\n<text text-anchor=\"start\" x=\"8239\" y=\"-738.8\" font-family=\"Helvetica,sans-Serif\" font-size=\"14.00\" fill=\"#000000\">X</text>\n<text text-anchor=\"start\" x=\"8249\" y=\"-738.8\" font-family=\"Helvetica,sans-Serif\" baseline-shift=\"sub\" font-size=\"14.00\" fill=\"#000000\">0</text>\n<text text-anchor=\"start\" x=\"8256\" y=\"-738.8\" font-family=\"Helvetica,sans-Serif\" font-size=\"14.00\" fill=\"#000000\"> ≤ 12.5</text>\n<text text-anchor=\"start\" x=\"8231.5\" y=\"-724.8\" font-family=\"Helvetica,sans-Serif\" font-size=\"14.00\" fill=\"#000000\">gini = 0.082</text>\n<text text-anchor=\"start\" x=\"8217.5\" y=\"-710.8\" font-family=\"Helvetica,sans-Serif\" font-size=\"14.00\" fill=\"#000000\">samples = 3370</text>\n<text text-anchor=\"start\" x=\"8159.5\" y=\"-696.8\" font-family=\"Helvetica,sans-Serif\" font-size=\"14.00\" fill=\"#000000\">value = [0, 0, 18, 60, 58, 90, 5132]</text>\n</g>\n<!-- 139&#45;&gt;140 -->\n<g id=\"edge140\" class=\"edge\">\n<title>139&#45;&gt;140</title>\n<path fill=\"none\" stroke=\"#000000\" d=\"M8372.5696,-788.8089C8358.06,-779.2632 8342.0363,-768.7213 8327.0344,-758.8516\"/>\n<polygon fill=\"#000000\" stroke=\"#000000\" points=\"8328.6166,-755.703 8318.3388,-753.1308 8324.7693,-761.5509 8328.6166,-755.703\"/>\n</g>\n<!-- 143 -->\n<g id=\"node144\" class=\"node\">\n<title>143</title>\n<path fill=\"#e74b91\" stroke=\"#000000\" d=\"M8653.5,-753C8653.5,-753 8417.5,-753 8417.5,-753 8411.5,-753 8405.5,-747 8405.5,-741 8405.5,-741 8405.5,-701 8405.5,-701 8405.5,-695 8411.5,-689 8417.5,-689 8417.5,-689 8653.5,-689 8653.5,-689 8659.5,-689 8665.5,-695 8665.5,-701 8665.5,-701 8665.5,-741 8665.5,-741 8665.5,-747 8659.5,-753 8653.5,-753\"/>\n<text text-anchor=\"start\" x=\"8505\" y=\"-738.8\" font-family=\"Helvetica,sans-Serif\" font-size=\"14.00\" fill=\"#000000\">X</text>\n<text text-anchor=\"start\" x=\"8515\" y=\"-738.8\" font-family=\"Helvetica,sans-Serif\" baseline-shift=\"sub\" font-size=\"14.00\" fill=\"#000000\">0</text>\n<text text-anchor=\"start\" x=\"8522\" y=\"-738.8\" font-family=\"Helvetica,sans-Serif\" font-size=\"14.00\" fill=\"#000000\"> ≤ 15.5</text>\n<text text-anchor=\"start\" x=\"8497.5\" y=\"-724.8\" font-family=\"Helvetica,sans-Serif\" font-size=\"14.00\" fill=\"#000000\">gini = 0.162</text>\n<text text-anchor=\"start\" x=\"8483.5\" y=\"-710.8\" font-family=\"Helvetica,sans-Serif\" font-size=\"14.00\" fill=\"#000000\">samples = 4756</text>\n<text text-anchor=\"start\" x=\"8413.5\" y=\"-696.8\" font-family=\"Helvetica,sans-Serif\" font-size=\"14.00\" fill=\"#000000\">value = [0, 5, 47, 105, 151, 340, 6870]</text>\n</g>\n<!-- 139&#45;&gt;143 -->\n<g id=\"edge143\" class=\"edge\">\n<title>139&#45;&gt;143</title>\n<path fill=\"none\" stroke=\"#000000\" d=\"M8458.1978,-788.8089C8468.6732,-779.62 8480.2008,-769.508 8491.0842,-759.9612\"/>\n<polygon fill=\"#000000\" stroke=\"#000000\" points=\"8493.6614,-762.3563 8498.8709,-753.1308 8489.0453,-757.094 8493.6614,-762.3563\"/>\n</g>\n<!-- 141 -->\n<g id=\"node142\" class=\"node\">\n<title>141</title>\n<path fill=\"#e6428b\" stroke=\"#000000\" d=\"M8065,-647.5C8065,-647.5 7862,-647.5 7862,-647.5 7856,-647.5 7850,-641.5 7850,-635.5 7850,-635.5 7850,-606.5 7850,-606.5 7850,-600.5 7856,-594.5 7862,-594.5 7862,-594.5 8065,-594.5 8065,-594.5 8071,-594.5 8077,-600.5 8077,-606.5 8077,-606.5 8077,-635.5 8077,-635.5 8077,-641.5 8071,-647.5 8065,-647.5\"/>\n<text text-anchor=\"start\" x=\"7925.5\" y=\"-632.3\" font-family=\"Helvetica,sans-Serif\" font-size=\"14.00\" fill=\"#000000\">gini = 0.083</text>\n<text text-anchor=\"start\" x=\"7911.5\" y=\"-617.3\" font-family=\"Helvetica,sans-Serif\" font-size=\"14.00\" fill=\"#000000\">samples = 1665</text>\n<text text-anchor=\"start\" x=\"7858\" y=\"-602.3\" font-family=\"Helvetica,sans-Serif\" font-size=\"14.00\" fill=\"#000000\">value = [0, 0, 6, 26, 31, 49, 2507]</text>\n</g>\n<!-- 140&#45;&gt;141 -->\n<g id=\"edge141\" class=\"edge\">\n<title>140&#45;&gt;141</title>\n<path fill=\"none\" stroke=\"#000000\" d=\"M8171.4171,-688.9467C8133.8666,-676.6754 8091.2277,-662.7411 8054.3793,-650.6991\"/>\n<polygon fill=\"#000000\" stroke=\"#000000\" points=\"8055.2398,-647.2982 8044.6473,-647.5187 8053.0654,-653.952 8055.2398,-647.2982\"/>\n</g>\n<!-- 142 -->\n<g id=\"node143\" class=\"node\">\n<title>142</title>\n<path fill=\"#e6418b\" stroke=\"#000000\" d=\"M8319.5,-647.5C8319.5,-647.5 8107.5,-647.5 8107.5,-647.5 8101.5,-647.5 8095.5,-641.5 8095.5,-635.5 8095.5,-635.5 8095.5,-606.5 8095.5,-606.5 8095.5,-600.5 8101.5,-594.5 8107.5,-594.5 8107.5,-594.5 8319.5,-594.5 8319.5,-594.5 8325.5,-594.5 8331.5,-600.5 8331.5,-606.5 8331.5,-606.5 8331.5,-635.5 8331.5,-635.5 8331.5,-641.5 8325.5,-647.5 8319.5,-647.5\"/>\n<text text-anchor=\"start\" x=\"8175.5\" y=\"-632.3\" font-family=\"Helvetica,sans-Serif\" font-size=\"14.00\" fill=\"#000000\">gini = 0.081</text>\n<text text-anchor=\"start\" x=\"8161.5\" y=\"-617.3\" font-family=\"Helvetica,sans-Serif\" font-size=\"14.00\" fill=\"#000000\">samples = 1705</text>\n<text text-anchor=\"start\" x=\"8103.5\" y=\"-602.3\" font-family=\"Helvetica,sans-Serif\" font-size=\"14.00\" fill=\"#000000\">value = [0, 0, 12, 34, 27, 41, 2625]</text>\n</g>\n<!-- 140&#45;&gt;142 -->\n<g id=\"edge142\" class=\"edge\">\n<title>140&#45;&gt;142</title>\n<path fill=\"none\" stroke=\"#000000\" d=\"M8251.473,-688.8089C8245.7357,-678.5638 8239.3558,-667.1711 8233.4884,-656.6936\"/>\n<polygon fill=\"#000000\" stroke=\"#000000\" points=\"8236.433,-654.7885 8228.4932,-647.7735 8230.3255,-658.2087 8236.433,-654.7885\"/>\n</g>\n<!-- 144 -->\n<g id=\"node145\" class=\"node\">\n<title>144</title>\n<path fill=\"#e84c92\" stroke=\"#000000\" d=\"M8589.5,-653C8589.5,-653 8361.5,-653 8361.5,-653 8355.5,-653 8349.5,-647 8349.5,-641 8349.5,-641 8349.5,-601 8349.5,-601 8349.5,-595 8355.5,-589 8361.5,-589 8361.5,-589 8589.5,-589 8589.5,-589 8595.5,-589 8601.5,-595 8601.5,-601 8601.5,-601 8601.5,-641 8601.5,-641 8601.5,-647 8595.5,-653 8589.5,-653\"/>\n<text text-anchor=\"start\" x=\"8445\" y=\"-638.8\" font-family=\"Helvetica,sans-Serif\" font-size=\"14.00\" fill=\"#000000\">X</text>\n<text text-anchor=\"start\" x=\"8455\" y=\"-638.8\" font-family=\"Helvetica,sans-Serif\" baseline-shift=\"sub\" font-size=\"14.00\" fill=\"#000000\">0</text>\n<text text-anchor=\"start\" x=\"8462\" y=\"-638.8\" font-family=\"Helvetica,sans-Serif\" font-size=\"14.00\" fill=\"#000000\"> ≤ 14.5</text>\n<text text-anchor=\"start\" x=\"8437.5\" y=\"-624.8\" font-family=\"Helvetica,sans-Serif\" font-size=\"14.00\" fill=\"#000000\">gini = 0.175</text>\n<text text-anchor=\"start\" x=\"8423.5\" y=\"-610.8\" font-family=\"Helvetica,sans-Serif\" font-size=\"14.00\" fill=\"#000000\">samples = 4031</text>\n<text text-anchor=\"start\" x=\"8357.5\" y=\"-596.8\" font-family=\"Helvetica,sans-Serif\" font-size=\"14.00\" fill=\"#000000\">value = [0, 4, 44, 94, 139, 310, 5753]</text>\n</g>\n<!-- 143&#45;&gt;144 -->\n<g id=\"edge144\" class=\"edge\">\n<title>143&#45;&gt;144</title>\n<path fill=\"none\" stroke=\"#000000\" d=\"M8516.1854,-688.8089C8511.0467,-680.2445 8505.4269,-670.8782 8500.049,-661.915\"/>\n<polygon fill=\"#000000\" stroke=\"#000000\" points=\"8502.9247,-659.905 8494.7785,-653.1308 8496.9222,-663.5065 8502.9247,-659.905\"/>\n</g>\n<!-- 147 -->\n<g id=\"node148\" class=\"node\">\n<title>147</title>\n<path fill=\"#e6438c\" stroke=\"#000000\" d=\"M8835,-647.5C8835,-647.5 8632,-647.5 8632,-647.5 8626,-647.5 8620,-641.5 8620,-635.5 8620,-635.5 8620,-606.5 8620,-606.5 8620,-600.5 8626,-594.5 8632,-594.5 8632,-594.5 8835,-594.5 8835,-594.5 8841,-594.5 8847,-600.5 8847,-606.5 8847,-606.5 8847,-635.5 8847,-635.5 8847,-641.5 8841,-647.5 8835,-647.5\"/>\n<text text-anchor=\"start\" x=\"8695.5\" y=\"-632.3\" font-family=\"Helvetica,sans-Serif\" font-size=\"14.00\" fill=\"#000000\">gini = 0.094</text>\n<text text-anchor=\"start\" x=\"8685.5\" y=\"-617.3\" font-family=\"Helvetica,sans-Serif\" font-size=\"14.00\" fill=\"#000000\">samples = 725</text>\n<text text-anchor=\"start\" x=\"8628\" y=\"-602.3\" font-family=\"Helvetica,sans-Serif\" font-size=\"14.00\" fill=\"#000000\">value = [0, 1, 3, 11, 12, 30, 1117]</text>\n</g>\n<!-- 143&#45;&gt;147 -->\n<g id=\"edge147\" class=\"edge\">\n<title>143&#45;&gt;147</title>\n<path fill=\"none\" stroke=\"#000000\" d=\"M8598.9654,-688.9467C8622.3323,-677.1453 8648.7442,-663.8059 8671.9402,-652.0908\"/>\n<polygon fill=\"#000000\" stroke=\"#000000\" points=\"8673.6446,-655.1511 8680.9929,-647.5187 8670.4889,-648.9028 8673.6446,-655.1511\"/>\n</g>\n<!-- 145 -->\n<g id=\"node146\" class=\"node\">\n<title>145</title>\n<path fill=\"#e74b91\" stroke=\"#000000\" d=\"M8321,-547.5C8321,-547.5 8118,-547.5 8118,-547.5 8112,-547.5 8106,-541.5 8106,-535.5 8106,-535.5 8106,-506.5 8106,-506.5 8106,-500.5 8112,-494.5 8118,-494.5 8118,-494.5 8321,-494.5 8321,-494.5 8327,-494.5 8333,-500.5 8333,-506.5 8333,-506.5 8333,-535.5 8333,-535.5 8333,-541.5 8327,-547.5 8321,-547.5\"/>\n<text text-anchor=\"start\" x=\"8181.5\" y=\"-532.3\" font-family=\"Helvetica,sans-Serif\" font-size=\"14.00\" fill=\"#000000\">gini = 0.163</text>\n<text text-anchor=\"start\" x=\"8171.5\" y=\"-517.3\" font-family=\"Helvetica,sans-Serif\" font-size=\"14.00\" fill=\"#000000\">samples = 984</text>\n<text text-anchor=\"start\" x=\"8114\" y=\"-502.3\" font-family=\"Helvetica,sans-Serif\" font-size=\"14.00\" fill=\"#000000\">value = [0, 0, 5, 19, 31, 78, 1401]</text>\n</g>\n<!-- 144&#45;&gt;145 -->\n<g id=\"edge145\" class=\"edge\">\n<title>144&#45;&gt;145</title>\n<path fill=\"none\" stroke=\"#000000\" d=\"M8393.4437,-588.9467C8362.43,-576.832 8327.2672,-563.0966 8296.7127,-551.1612\"/>\n<polygon fill=\"#000000\" stroke=\"#000000\" points=\"8297.976,-547.8972 8287.3879,-547.5187 8295.429,-554.4174 8297.976,-547.8972\"/>\n</g>\n<!-- 146 -->\n<g id=\"node147\" class=\"node\">\n<title>146</title>\n<path fill=\"#e84d92\" stroke=\"#000000\" d=\"M8591.5,-547.5C8591.5,-547.5 8363.5,-547.5 8363.5,-547.5 8357.5,-547.5 8351.5,-541.5 8351.5,-535.5 8351.5,-535.5 8351.5,-506.5 8351.5,-506.5 8351.5,-500.5 8357.5,-494.5 8363.5,-494.5 8363.5,-494.5 8591.5,-494.5 8591.5,-494.5 8597.5,-494.5 8603.5,-500.5 8603.5,-506.5 8603.5,-506.5 8603.5,-535.5 8603.5,-535.5 8603.5,-541.5 8597.5,-547.5 8591.5,-547.5\"/>\n<text text-anchor=\"start\" x=\"8439.5\" y=\"-532.3\" font-family=\"Helvetica,sans-Serif\" font-size=\"14.00\" fill=\"#000000\">gini = 0.178</text>\n<text text-anchor=\"start\" x=\"8425.5\" y=\"-517.3\" font-family=\"Helvetica,sans-Serif\" font-size=\"14.00\" fill=\"#000000\">samples = 3047</text>\n<text text-anchor=\"start\" x=\"8359.5\" y=\"-502.3\" font-family=\"Helvetica,sans-Serif\" font-size=\"14.00\" fill=\"#000000\">value = [0, 4, 39, 75, 108, 232, 4352]</text>\n</g>\n<!-- 144&#45;&gt;146 -->\n<g id=\"edge146\" class=\"edge\">\n<title>144&#45;&gt;146</title>\n<path fill=\"none\" stroke=\"#000000\" d=\"M8476.1438,-588.8089C8476.3404,-578.9777 8476.5582,-568.0898 8476.7606,-557.9679\"/>\n<polygon fill=\"#000000\" stroke=\"#000000\" points=\"8480.2638,-557.8415 8476.9645,-547.7735 8473.2652,-557.7015 8480.2638,-557.8415\"/>\n</g>\n<!-- 149 -->\n<g id=\"node150\" class=\"node\">\n<title>149</title>\n<path fill=\"#ee7caf\" stroke=\"#000000\" d=\"M8853,-847.5C8853,-847.5 8592,-847.5 8592,-847.5 8586,-847.5 8580,-841.5 8580,-835.5 8580,-835.5 8580,-806.5 8580,-806.5 8580,-800.5 8586,-794.5 8592,-794.5 8592,-794.5 8853,-794.5 8853,-794.5 8859,-794.5 8865,-800.5 8865,-806.5 8865,-806.5 8865,-835.5 8865,-835.5 8865,-841.5 8859,-847.5 8853,-847.5\"/>\n<text text-anchor=\"start\" x=\"8684.5\" y=\"-832.3\" font-family=\"Helvetica,sans-Serif\" font-size=\"14.00\" fill=\"#000000\">gini = 0.475</text>\n<text text-anchor=\"start\" x=\"8670.5\" y=\"-817.3\" font-family=\"Helvetica,sans-Serif\" font-size=\"14.00\" fill=\"#000000\">samples = 6454</text>\n<text text-anchor=\"start\" x=\"8588\" y=\"-802.3\" font-family=\"Helvetica,sans-Serif\" font-size=\"14.00\" fill=\"#000000\">value = [0, 28, 249, 495, 927, 1266, 7099]</text>\n</g>\n<!-- 148&#45;&gt;149 -->\n<g id=\"edge149\" class=\"edge\">\n<title>148&#45;&gt;149</title>\n<path fill=\"none\" stroke=\"#000000\" d=\"M8725.2124,-888.8089C8724.8191,-878.9777 8724.3836,-868.0898 8723.9787,-857.9679\"/>\n<polygon fill=\"#000000\" stroke=\"#000000\" points=\"8727.4679,-857.6256 8723.5709,-847.7735 8720.4735,-857.9055 8727.4679,-857.6256\"/>\n</g>\n<!-- 150 -->\n<g id=\"node151\" class=\"node\">\n<title>150</title>\n<path fill=\"#e95698\" stroke=\"#000000\" d=\"M9173.5,-853C9173.5,-853 8895.5,-853 8895.5,-853 8889.5,-853 8883.5,-847 8883.5,-841 8883.5,-841 8883.5,-801 8883.5,-801 8883.5,-795 8889.5,-789 8895.5,-789 8895.5,-789 9173.5,-789 9173.5,-789 9179.5,-789 9185.5,-795 9185.5,-801 9185.5,-801 9185.5,-841 9185.5,-841 9185.5,-847 9179.5,-853 9173.5,-853\"/>\n<text text-anchor=\"start\" x=\"9004\" y=\"-838.8\" font-family=\"Helvetica,sans-Serif\" font-size=\"14.00\" fill=\"#000000\">X</text>\n<text text-anchor=\"start\" x=\"9014\" y=\"-838.8\" font-family=\"Helvetica,sans-Serif\" baseline-shift=\"sub\" font-size=\"14.00\" fill=\"#000000\">0</text>\n<text text-anchor=\"start\" x=\"9021\" y=\"-838.8\" font-family=\"Helvetica,sans-Serif\" font-size=\"14.00\" fill=\"#000000\"> ≤ 18.5</text>\n<text text-anchor=\"start\" x=\"8996.5\" y=\"-824.8\" font-family=\"Helvetica,sans-Serif\" font-size=\"14.00\" fill=\"#000000\">gini = 0.249</text>\n<text text-anchor=\"start\" x=\"8978.5\" y=\"-810.8\" font-family=\"Helvetica,sans-Serif\" font-size=\"14.00\" fill=\"#000000\">samples = 17637</text>\n<text text-anchor=\"start\" x=\"8891.5\" y=\"-796.8\" font-family=\"Helvetica,sans-Serif\" font-size=\"14.00\" fill=\"#000000\">value = [0, 27, 229, 774, 1220, 1600, 24240]</text>\n</g>\n<!-- 148&#45;&gt;150 -->\n<g id=\"edge150\" class=\"edge\">\n<title>148&#45;&gt;150</title>\n<path fill=\"none\" stroke=\"#000000\" d=\"M8825.224,-888.9467C8857.4134,-878.4956 8893.3177,-866.8384 8926.1727,-856.1712\"/>\n<polygon fill=\"#000000\" stroke=\"#000000\" points=\"8927.3762,-859.4604 8935.8066,-853.0433 8925.2145,-852.8025 8927.3762,-859.4604\"/>\n</g>\n<!-- 151 -->\n<g id=\"node152\" class=\"node\">\n<title>151</title>\n<path fill=\"#ea619e\" stroke=\"#000000\" d=\"M9021,-747.5C9021,-747.5 8776,-747.5 8776,-747.5 8770,-747.5 8764,-741.5 8764,-735.5 8764,-735.5 8764,-706.5 8764,-706.5 8764,-700.5 8770,-694.5 8776,-694.5 8776,-694.5 9021,-694.5 9021,-694.5 9027,-694.5 9033,-700.5 9033,-706.5 9033,-706.5 9033,-735.5 9033,-735.5 9033,-741.5 9027,-747.5 9021,-747.5\"/>\n<text text-anchor=\"start\" x=\"8860.5\" y=\"-732.3\" font-family=\"Helvetica,sans-Serif\" font-size=\"14.00\" fill=\"#000000\">gini = 0.324</text>\n<text text-anchor=\"start\" x=\"8846.5\" y=\"-717.3\" font-family=\"Helvetica,sans-Serif\" font-size=\"14.00\" fill=\"#000000\">samples = 4836</text>\n<text text-anchor=\"start\" x=\"8772\" y=\"-702.3\" font-family=\"Helvetica,sans-Serif\" font-size=\"14.00\" fill=\"#000000\">value = [0, 12, 91, 285, 434, 590, 6250]</text>\n</g>\n<!-- 150&#45;&gt;151 -->\n<g id=\"edge151\" class=\"edge\">\n<title>150&#45;&gt;151</title>\n<path fill=\"none\" stroke=\"#000000\" d=\"M8990.7201,-788.8089C8975.52,-777.6324 8958.4627,-765.0902 8943.19,-753.8603\"/>\n<polygon fill=\"#000000\" stroke=\"#000000\" points=\"8945.0419,-750.8777 8934.912,-747.7735 8940.8951,-756.5172 8945.0419,-750.8777\"/>\n</g>\n<!-- 152 -->\n<g id=\"node153\" class=\"node\">\n<title>152</title>\n<path fill=\"#e85295\" stroke=\"#000000\" d=\"M9332,-753C9332,-753 9063,-753 9063,-753 9057,-753 9051,-747 9051,-741 9051,-741 9051,-701 9051,-701 9051,-695 9057,-689 9063,-689 9063,-689 9332,-689 9332,-689 9338,-689 9344,-695 9344,-701 9344,-701 9344,-741 9344,-741 9344,-747 9338,-753 9332,-753\"/>\n<text text-anchor=\"start\" x=\"9167\" y=\"-738.8\" font-family=\"Helvetica,sans-Serif\" font-size=\"14.00\" fill=\"#000000\">X</text>\n<text text-anchor=\"start\" x=\"9177\" y=\"-738.8\" font-family=\"Helvetica,sans-Serif\" baseline-shift=\"sub\" font-size=\"14.00\" fill=\"#000000\">0</text>\n<text text-anchor=\"start\" x=\"9184\" y=\"-738.8\" font-family=\"Helvetica,sans-Serif\" font-size=\"14.00\" fill=\"#000000\"> ≤ 21.5</text>\n<text text-anchor=\"start\" x=\"9164\" y=\"-724.8\" font-family=\"Helvetica,sans-Serif\" font-size=\"14.00\" fill=\"#000000\">gini = 0.22</text>\n<text text-anchor=\"start\" x=\"9141.5\" y=\"-710.8\" font-family=\"Helvetica,sans-Serif\" font-size=\"14.00\" fill=\"#000000\">samples = 12801</text>\n<text text-anchor=\"start\" x=\"9059\" y=\"-696.8\" font-family=\"Helvetica,sans-Serif\" font-size=\"14.00\" fill=\"#000000\">value = [0, 15, 138, 489, 786, 1010, 17990]</text>\n</g>\n<!-- 150&#45;&gt;152 -->\n<g id=\"edge152\" class=\"edge\">\n<title>150&#45;&gt;152</title>\n<path fill=\"none\" stroke=\"#000000\" d=\"M9086.9715,-788.8089C9102.6764,-779.174 9120.0357,-768.5241 9136.2527,-758.575\"/>\n<polygon fill=\"#000000\" stroke=\"#000000\" points=\"9138.4334,-761.3434 9145.1269,-753.1308 9134.7728,-755.3768 9138.4334,-761.3434\"/>\n</g>\n<!-- 153 -->\n<g id=\"node154\" class=\"node\">\n<title>153</title>\n<path fill=\"#e6438c\" stroke=\"#000000\" d=\"M9080,-653C9080,-653 8877,-653 8877,-653 8871,-653 8865,-647 8865,-641 8865,-641 8865,-601 8865,-601 8865,-595 8871,-589 8877,-589 8877,-589 9080,-589 9080,-589 9086,-589 9092,-595 9092,-601 9092,-601 9092,-641 9092,-641 9092,-647 9086,-653 9080,-653\"/>\n<text text-anchor=\"start\" x=\"8948\" y=\"-638.8\" font-family=\"Helvetica,sans-Serif\" font-size=\"14.00\" fill=\"#000000\">X</text>\n<text text-anchor=\"start\" x=\"8958\" y=\"-638.8\" font-family=\"Helvetica,sans-Serif\" baseline-shift=\"sub\" font-size=\"14.00\" fill=\"#000000\">0</text>\n<text text-anchor=\"start\" x=\"8965\" y=\"-638.8\" font-family=\"Helvetica,sans-Serif\" font-size=\"14.00\" fill=\"#000000\"> ≤ 19.5</text>\n<text text-anchor=\"start\" x=\"8940.5\" y=\"-624.8\" font-family=\"Helvetica,sans-Serif\" font-size=\"14.00\" fill=\"#000000\">gini = 0.097</text>\n<text text-anchor=\"start\" x=\"8926.5\" y=\"-610.8\" font-family=\"Helvetica,sans-Serif\" font-size=\"14.00\" fill=\"#000000\">samples = 1722</text>\n<text text-anchor=\"start\" x=\"8873\" y=\"-596.8\" font-family=\"Helvetica,sans-Serif\" font-size=\"14.00\" fill=\"#000000\">value = [0, 0, 4, 13, 49, 70, 2572]</text>\n</g>\n<!-- 152&#45;&gt;153 -->\n<g id=\"edge153\" class=\"edge\">\n<title>152&#45;&gt;153</title>\n<path fill=\"none\" stroke=\"#000000\" d=\"M9127.3034,-688.9467C9105.2013,-678.8545 9080.6361,-667.6375 9057.9387,-657.2734\"/>\n<polygon fill=\"#000000\" stroke=\"#000000\" points=\"9059.2252,-654.0132 9048.6748,-653.0433 9056.3176,-660.3808 9059.2252,-654.0132\"/>\n</g>\n<!-- 158 -->\n<g id=\"node159\" class=\"node\">\n<title>158</title>\n<path fill=\"#e95497\" stroke=\"#000000\" d=\"M9383,-653C9383,-653 9122,-653 9122,-653 9116,-653 9110,-647 9110,-641 9110,-641 9110,-601 9110,-601 9110,-595 9116,-589 9122,-589 9122,-589 9383,-589 9383,-589 9389,-589 9395,-595 9395,-601 9395,-601 9395,-641 9395,-641 9395,-647 9389,-653 9383,-653\"/>\n<text text-anchor=\"start\" x=\"9222\" y=\"-638.8\" font-family=\"Helvetica,sans-Serif\" font-size=\"14.00\" fill=\"#000000\">X</text>\n<text text-anchor=\"start\" x=\"9232\" y=\"-638.8\" font-family=\"Helvetica,sans-Serif\" baseline-shift=\"sub\" font-size=\"14.00\" fill=\"#000000\">0</text>\n<text text-anchor=\"start\" x=\"9239\" y=\"-638.8\" font-family=\"Helvetica,sans-Serif\" font-size=\"14.00\" fill=\"#000000\"> ≤ 22.5</text>\n<text text-anchor=\"start\" x=\"9214.5\" y=\"-624.8\" font-family=\"Helvetica,sans-Serif\" font-size=\"14.00\" fill=\"#000000\">gini = 0.238</text>\n<text text-anchor=\"start\" x=\"9196.5\" y=\"-610.8\" font-family=\"Helvetica,sans-Serif\" font-size=\"14.00\" fill=\"#000000\">samples = 11079</text>\n<text text-anchor=\"start\" x=\"9118\" y=\"-596.8\" font-family=\"Helvetica,sans-Serif\" font-size=\"14.00\" fill=\"#000000\">value = [0, 15, 134, 476, 737, 940, 15418]</text>\n</g>\n<!-- 152&#45;&gt;158 -->\n<g id=\"edge158\" class=\"edge\">\n<title>152&#45;&gt;158</title>\n<path fill=\"none\" stroke=\"#000000\" d=\"M9215.2051,-688.8089C9219.9155,-680.2445 9225.067,-670.8782 9229.9967,-661.915\"/>\n<polygon fill=\"#000000\" stroke=\"#000000\" points=\"9233.0756,-663.5797 9234.8281,-653.1308 9226.9421,-660.2062 9233.0756,-663.5797\"/>\n</g>\n<!-- 154 -->\n<g id=\"node155\" class=\"node\">\n<title>154</title>\n<path fill=\"#e7488f\" stroke=\"#000000\" d=\"M8841,-547.5C8841,-547.5 8638,-547.5 8638,-547.5 8632,-547.5 8626,-541.5 8626,-535.5 8626,-535.5 8626,-506.5 8626,-506.5 8626,-500.5 8632,-494.5 8638,-494.5 8638,-494.5 8841,-494.5 8841,-494.5 8847,-494.5 8853,-500.5 8853,-506.5 8853,-506.5 8853,-535.5 8853,-535.5 8853,-541.5 8847,-547.5 8841,-547.5\"/>\n<text text-anchor=\"start\" x=\"8701.5\" y=\"-532.3\" font-family=\"Helvetica,sans-Serif\" font-size=\"14.00\" fill=\"#000000\">gini = 0.142</text>\n<text text-anchor=\"start\" x=\"8691.5\" y=\"-517.3\" font-family=\"Helvetica,sans-Serif\" font-size=\"14.00\" fill=\"#000000\">samples = 923</text>\n<text text-anchor=\"start\" x=\"8634\" y=\"-502.3\" font-family=\"Helvetica,sans-Serif\" font-size=\"14.00\" fill=\"#000000\">value = [0, 0, 0, 10, 41, 58, 1344]</text>\n</g>\n<!-- 153&#45;&gt;154 -->\n<g id=\"edge154\" class=\"edge\">\n<title>153&#45;&gt;154</title>\n<path fill=\"none\" stroke=\"#000000\" d=\"M8901.8927,-588.9467C8873.1881,-576.9365 8840.6765,-563.3333 8812.324,-551.4703\"/>\n<polygon fill=\"#000000\" stroke=\"#000000\" points=\"8813.4558,-548.1499 8802.8798,-547.5187 8810.7538,-554.6074 8813.4558,-548.1499\"/>\n</g>\n<!-- 155 -->\n<g id=\"node156\" class=\"node\">\n<title>155</title>\n<path fill=\"#e63d89\" stroke=\"#000000\" d=\"M9070,-553C9070,-553 8883,-553 8883,-553 8877,-553 8871,-547 8871,-541 8871,-541 8871,-501 8871,-501 8871,-495 8877,-489 8883,-489 8883,-489 9070,-489 9070,-489 9076,-489 9082,-495 9082,-501 9082,-501 9082,-541 9082,-541 9082,-547 9076,-553 9070,-553\"/>\n<text text-anchor=\"start\" x=\"8946\" y=\"-538.8\" font-family=\"Helvetica,sans-Serif\" font-size=\"14.00\" fill=\"#000000\">X</text>\n<text text-anchor=\"start\" x=\"8956\" y=\"-538.8\" font-family=\"Helvetica,sans-Serif\" baseline-shift=\"sub\" font-size=\"14.00\" fill=\"#000000\">0</text>\n<text text-anchor=\"start\" x=\"8963\" y=\"-538.8\" font-family=\"Helvetica,sans-Serif\" font-size=\"14.00\" fill=\"#000000\"> ≤ 20.5</text>\n<text text-anchor=\"start\" x=\"8938.5\" y=\"-524.8\" font-family=\"Helvetica,sans-Serif\" font-size=\"14.00\" fill=\"#000000\">gini = 0.042</text>\n<text text-anchor=\"start\" x=\"8928.5\" y=\"-510.8\" font-family=\"Helvetica,sans-Serif\" font-size=\"14.00\" fill=\"#000000\">samples = 799</text>\n<text text-anchor=\"start\" x=\"8879\" y=\"-496.8\" font-family=\"Helvetica,sans-Serif\" font-size=\"14.00\" fill=\"#000000\">value = [0, 0, 4, 3, 8, 12, 1228]</text>\n</g>\n<!-- 153&#45;&gt;155 -->\n<g id=\"edge155\" class=\"edge\">\n<title>153&#45;&gt;155</title>\n<path fill=\"none\" stroke=\"#000000\" d=\"M8977.8562,-588.8089C8977.6938,-580.6906 8977.517,-571.8517 8977.3464,-563.3186\"/>\n<polygon fill=\"#000000\" stroke=\"#000000\" points=\"8980.842,-563.0587 8977.1426,-553.1308 8973.8434,-563.1988 8980.842,-563.0587\"/>\n</g>\n<!-- 156 -->\n<g id=\"node157\" class=\"node\">\n<title>156</title>\n<path fill=\"#e63d89\" stroke=\"#000000\" d=\"M8864,-447.5C8864,-447.5 8677,-447.5 8677,-447.5 8671,-447.5 8665,-441.5 8665,-435.5 8665,-435.5 8665,-406.5 8665,-406.5 8665,-400.5 8671,-394.5 8677,-394.5 8677,-394.5 8864,-394.5 8864,-394.5 8870,-394.5 8876,-400.5 8876,-406.5 8876,-406.5 8876,-435.5 8876,-435.5 8876,-441.5 8870,-447.5 8864,-447.5\"/>\n<text text-anchor=\"start\" x=\"8732.5\" y=\"-432.3\" font-family=\"Helvetica,sans-Serif\" font-size=\"14.00\" fill=\"#000000\">gini = 0.042</text>\n<text text-anchor=\"start\" x=\"8722.5\" y=\"-417.3\" font-family=\"Helvetica,sans-Serif\" font-size=\"14.00\" fill=\"#000000\">samples = 689</text>\n<text text-anchor=\"start\" x=\"8673\" y=\"-402.3\" font-family=\"Helvetica,sans-Serif\" font-size=\"14.00\" fill=\"#000000\">value = [0, 0, 4, 1, 8, 10, 1066]</text>\n</g>\n<!-- 155&#45;&gt;156 -->\n<g id=\"edge156\" class=\"edge\">\n<title>155&#45;&gt;156</title>\n<path fill=\"none\" stroke=\"#000000\" d=\"M8910.4703,-488.9467C8886.0518,-477.0931 8858.437,-463.6879 8834.2269,-451.9354\"/>\n<polygon fill=\"#000000\" stroke=\"#000000\" points=\"8835.6531,-448.7372 8825.1286,-447.5187 8832.5962,-455.0344 8835.6531,-448.7372\"/>\n</g>\n<!-- 157 -->\n<g id=\"node158\" class=\"node\">\n<title>157</title>\n<path fill=\"#e63e89\" stroke=\"#000000\" d=\"M9076.5,-447.5C9076.5,-447.5 8906.5,-447.5 8906.5,-447.5 8900.5,-447.5 8894.5,-441.5 8894.5,-435.5 8894.5,-435.5 8894.5,-406.5 8894.5,-406.5 8894.5,-400.5 8900.5,-394.5 8906.5,-394.5 8906.5,-394.5 9076.5,-394.5 9076.5,-394.5 9082.5,-394.5 9088.5,-400.5 9088.5,-406.5 9088.5,-406.5 9088.5,-435.5 9088.5,-435.5 9088.5,-441.5 9082.5,-447.5 9076.5,-447.5\"/>\n<text text-anchor=\"start\" x=\"8953.5\" y=\"-432.3\" font-family=\"Helvetica,sans-Serif\" font-size=\"14.00\" fill=\"#000000\">gini = 0.047</text>\n<text text-anchor=\"start\" x=\"8943.5\" y=\"-417.3\" font-family=\"Helvetica,sans-Serif\" font-size=\"14.00\" fill=\"#000000\">samples = 110</text>\n<text text-anchor=\"start\" x=\"8902.5\" y=\"-402.3\" font-family=\"Helvetica,sans-Serif\" font-size=\"14.00\" fill=\"#000000\">value = [0, 0, 0, 2, 0, 2, 162]</text>\n</g>\n<!-- 155&#45;&gt;157 -->\n<g id=\"edge157\" class=\"edge\">\n<title>155&#45;&gt;157</title>\n<path fill=\"none\" stroke=\"#000000\" d=\"M8981.3287,-488.8089C8982.8033,-478.9777 8984.4365,-468.0898 8985.9548,-457.9679\"/>\n<polygon fill=\"#000000\" stroke=\"#000000\" points=\"8989.4618,-458.1821 8987.484,-447.7735 8982.5392,-457.1437 8989.4618,-458.1821\"/>\n</g>\n<!-- 159 -->\n<g id=\"node160\" class=\"node\">\n<title>159</title>\n<path fill=\"#e95798\" stroke=\"#000000\" d=\"M9348.5,-547.5C9348.5,-547.5 9112.5,-547.5 9112.5,-547.5 9106.5,-547.5 9100.5,-541.5 9100.5,-535.5 9100.5,-535.5 9100.5,-506.5 9100.5,-506.5 9100.5,-500.5 9106.5,-494.5 9112.5,-494.5 9112.5,-494.5 9348.5,-494.5 9348.5,-494.5 9354.5,-494.5 9360.5,-500.5 9360.5,-506.5 9360.5,-506.5 9360.5,-535.5 9360.5,-535.5 9360.5,-541.5 9354.5,-547.5 9348.5,-547.5\"/>\n<text text-anchor=\"start\" x=\"9192.5\" y=\"-532.3\" font-family=\"Helvetica,sans-Serif\" font-size=\"14.00\" fill=\"#000000\">gini = 0.259</text>\n<text text-anchor=\"start\" x=\"9178.5\" y=\"-517.3\" font-family=\"Helvetica,sans-Serif\" font-size=\"14.00\" fill=\"#000000\">samples = 6283</text>\n<text text-anchor=\"start\" x=\"9108.5\" y=\"-502.3\" font-family=\"Helvetica,sans-Serif\" font-size=\"14.00\" fill=\"#000000\">value = [0, 9, 75, 310, 482, 568, 8646]</text>\n</g>\n<!-- 158&#45;&gt;159 -->\n<g id=\"edge159\" class=\"edge\">\n<title>158&#45;&gt;159</title>\n<path fill=\"none\" stroke=\"#000000\" d=\"M9245.418,-588.8089C9243.2323,-578.8742 9240.8093,-567.8605 9238.5627,-557.6485\"/>\n<polygon fill=\"#000000\" stroke=\"#000000\" points=\"9241.9571,-556.7879 9236.3902,-547.7735 9235.1206,-558.292 9241.9571,-556.7879\"/>\n</g>\n<!-- 160 -->\n<g id=\"node161\" class=\"node\">\n<title>160</title>\n<path fill=\"#e85094\" stroke=\"#000000\" d=\"M9626.5,-553C9626.5,-553 9390.5,-553 9390.5,-553 9384.5,-553 9378.5,-547 9378.5,-541 9378.5,-541 9378.5,-501 9378.5,-501 9378.5,-495 9384.5,-489 9390.5,-489 9390.5,-489 9626.5,-489 9626.5,-489 9632.5,-489 9638.5,-495 9638.5,-501 9638.5,-501 9638.5,-541 9638.5,-541 9638.5,-547 9632.5,-553 9626.5,-553\"/>\n<text text-anchor=\"start\" x=\"9478\" y=\"-538.8\" font-family=\"Helvetica,sans-Serif\" font-size=\"14.00\" fill=\"#000000\">X</text>\n<text text-anchor=\"start\" x=\"9488\" y=\"-538.8\" font-family=\"Helvetica,sans-Serif\" baseline-shift=\"sub\" font-size=\"14.00\" fill=\"#000000\">0</text>\n<text text-anchor=\"start\" x=\"9495\" y=\"-538.8\" font-family=\"Helvetica,sans-Serif\" font-size=\"14.00\" fill=\"#000000\"> ≤ 23.5</text>\n<text text-anchor=\"start\" x=\"9470.5\" y=\"-524.8\" font-family=\"Helvetica,sans-Serif\" font-size=\"14.00\" fill=\"#000000\">gini = 0.208</text>\n<text text-anchor=\"start\" x=\"9456.5\" y=\"-510.8\" font-family=\"Helvetica,sans-Serif\" font-size=\"14.00\" fill=\"#000000\">samples = 4796</text>\n<text text-anchor=\"start\" x=\"9386.5\" y=\"-496.8\" font-family=\"Helvetica,sans-Serif\" font-size=\"14.00\" fill=\"#000000\">value = [0, 6, 59, 166, 255, 372, 6772]</text>\n</g>\n<!-- 158&#45;&gt;160 -->\n<g id=\"edge160\" class=\"edge\">\n<title>158&#45;&gt;160</title>\n<path fill=\"none\" stroke=\"#000000\" d=\"M9334.5563,-588.9467C9360.8518,-578.6751 9390.13,-567.2383 9417.0531,-556.7214\"/>\n<polygon fill=\"#000000\" stroke=\"#000000\" points=\"9418.4281,-559.942 9426.4692,-553.0433 9415.8811,-553.4218 9418.4281,-559.942\"/>\n</g>\n<!-- 161 -->\n<g id=\"node162\" class=\"node\">\n<title>161</title>\n<path fill=\"#e85195\" stroke=\"#000000\" d=\"M9368.5,-447.5C9368.5,-447.5 9132.5,-447.5 9132.5,-447.5 9126.5,-447.5 9120.5,-441.5 9120.5,-435.5 9120.5,-435.5 9120.5,-406.5 9120.5,-406.5 9120.5,-400.5 9126.5,-394.5 9132.5,-394.5 9132.5,-394.5 9368.5,-394.5 9368.5,-394.5 9374.5,-394.5 9380.5,-400.5 9380.5,-406.5 9380.5,-406.5 9380.5,-435.5 9380.5,-435.5 9380.5,-441.5 9374.5,-447.5 9368.5,-447.5\"/>\n<text text-anchor=\"start\" x=\"9212.5\" y=\"-432.3\" font-family=\"Helvetica,sans-Serif\" font-size=\"14.00\" fill=\"#000000\">gini = 0.215</text>\n<text text-anchor=\"start\" x=\"9198.5\" y=\"-417.3\" font-family=\"Helvetica,sans-Serif\" font-size=\"14.00\" fill=\"#000000\">samples = 4212</text>\n<text text-anchor=\"start\" x=\"9128.5\" y=\"-402.3\" font-family=\"Helvetica,sans-Serif\" font-size=\"14.00\" fill=\"#000000\">value = [0, 6, 46, 159, 234, 334, 5927]</text>\n</g>\n<!-- 160&#45;&gt;161 -->\n<g id=\"edge161\" class=\"edge\">\n<title>160&#45;&gt;161</title>\n<path fill=\"none\" stroke=\"#000000\" d=\"M9425.8026,-488.9467C9394.5466,-476.832 9359.1091,-463.0966 9328.3159,-451.1612\"/>\n<polygon fill=\"#000000\" stroke=\"#000000\" points=\"9329.5074,-447.8693 9318.9183,-447.5187 9326.9775,-454.3962 9329.5074,-447.8693\"/>\n</g>\n<!-- 162 -->\n<g id=\"node163\" class=\"node\">\n<title>162</title>\n<path fill=\"#e74b91\" stroke=\"#000000\" d=\"M9606,-447.5C9606,-447.5 9411,-447.5 9411,-447.5 9405,-447.5 9399,-441.5 9399,-435.5 9399,-435.5 9399,-406.5 9399,-406.5 9399,-400.5 9405,-394.5 9411,-394.5 9411,-394.5 9606,-394.5 9606,-394.5 9612,-394.5 9618,-400.5 9618,-406.5 9618,-406.5 9618,-435.5 9618,-435.5 9618,-441.5 9612,-447.5 9606,-447.5\"/>\n<text text-anchor=\"start\" x=\"9470.5\" y=\"-432.3\" font-family=\"Helvetica,sans-Serif\" font-size=\"14.00\" fill=\"#000000\">gini = 0.161</text>\n<text text-anchor=\"start\" x=\"9460.5\" y=\"-417.3\" font-family=\"Helvetica,sans-Serif\" font-size=\"14.00\" fill=\"#000000\">samples = 584</text>\n<text text-anchor=\"start\" x=\"9407\" y=\"-402.3\" font-family=\"Helvetica,sans-Serif\" font-size=\"14.00\" fill=\"#000000\">value = [0, 0, 13, 7, 21, 38, 845]</text>\n</g>\n<!-- 160&#45;&gt;162 -->\n<g id=\"edge162\" class=\"edge\">\n<title>160&#45;&gt;162</title>\n<path fill=\"none\" stroke=\"#000000\" d=\"M9508.5,-488.8089C9508.5,-478.9777 9508.5,-468.0898 9508.5,-457.9679\"/>\n<polygon fill=\"#000000\" stroke=\"#000000\" points=\"9512.0001,-457.7735 9508.5,-447.7735 9505.0001,-457.7736 9512.0001,-457.7735\"/>\n</g>\n<!-- 164 -->\n<g id=\"node165\" class=\"node\">\n<title>164</title>\n<path fill=\"#fcffff\" stroke=\"#000000\" d=\"M12716,-1053C12716,-1053 12397,-1053 12397,-1053 12391,-1053 12385,-1047 12385,-1041 12385,-1041 12385,-1001 12385,-1001 12385,-995 12391,-989 12397,-989 12397,-989 12716,-989 12716,-989 12722,-989 12728,-995 12728,-1001 12728,-1001 12728,-1041 12728,-1041 12728,-1047 12722,-1053 12716,-1053\"/>\n<text text-anchor=\"start\" x=\"12526\" y=\"-1038.8\" font-family=\"Helvetica,sans-Serif\" font-size=\"14.00\" fill=\"#000000\">X</text>\n<text text-anchor=\"start\" x=\"12536\" y=\"-1038.8\" font-family=\"Helvetica,sans-Serif\" baseline-shift=\"sub\" font-size=\"14.00\" fill=\"#000000\">0</text>\n<text text-anchor=\"start\" x=\"12543\" y=\"-1038.8\" font-family=\"Helvetica,sans-Serif\" font-size=\"14.00\" fill=\"#000000\"> ≤ 16.5</text>\n<text text-anchor=\"start\" x=\"12518.5\" y=\"-1024.8\" font-family=\"Helvetica,sans-Serif\" font-size=\"14.00\" fill=\"#000000\">gini = 0.821</text>\n<text text-anchor=\"start\" x=\"12500.5\" y=\"-1010.8\" font-family=\"Helvetica,sans-Serif\" font-size=\"14.00\" fill=\"#000000\">samples = 26896</text>\n<text text-anchor=\"start\" x=\"12393\" y=\"-996.8\" font-family=\"Helvetica,sans-Serif\" font-size=\"14.00\" fill=\"#000000\">value = [152, 3672, 7966, 9392, 7283, 5063, 8904]</text>\n</g>\n<!-- 163&#45;&gt;164 -->\n<g id=\"edge164\" class=\"edge\">\n<title>163&#45;&gt;164</title>\n<path fill=\"none\" stroke=\"#000000\" d=\"M12556.5,-1088.8089C12556.5,-1080.6906 12556.5,-1071.8517 12556.5,-1063.3186\"/>\n<polygon fill=\"#000000\" stroke=\"#000000\" points=\"12560.0001,-1063.1307 12556.5,-1053.1308 12553.0001,-1063.1308 12560.0001,-1063.1307\"/>\n</g>\n<!-- 253 -->\n<g id=\"node254\" class=\"node\">\n<title>253</title>\n<path fill=\"#f2fadb\" stroke=\"#000000\" d=\"M15996.5,-1053C15996.5,-1053 15710.5,-1053 15710.5,-1053 15704.5,-1053 15698.5,-1047 15698.5,-1041 15698.5,-1041 15698.5,-1001 15698.5,-1001 15698.5,-995 15704.5,-989 15710.5,-989 15710.5,-989 15996.5,-989 15996.5,-989 16002.5,-989 16008.5,-995 16008.5,-1001 16008.5,-1001 16008.5,-1041 16008.5,-1041 16008.5,-1047 16002.5,-1053 15996.5,-1053\"/>\n<text text-anchor=\"start\" x=\"15823\" y=\"-1038.8\" font-family=\"Helvetica,sans-Serif\" font-size=\"14.00\" fill=\"#000000\">X</text>\n<text text-anchor=\"start\" x=\"15833\" y=\"-1038.8\" font-family=\"Helvetica,sans-Serif\" baseline-shift=\"sub\" font-size=\"14.00\" fill=\"#000000\">0</text>\n<text text-anchor=\"start\" x=\"15840\" y=\"-1038.8\" font-family=\"Helvetica,sans-Serif\" font-size=\"14.00\" fill=\"#000000\"> ≤ 17.5</text>\n<text text-anchor=\"start\" x=\"15815.5\" y=\"-1024.8\" font-family=\"Helvetica,sans-Serif\" font-size=\"14.00\" fill=\"#000000\">gini = 0.703</text>\n<text text-anchor=\"start\" x=\"15801.5\" y=\"-1010.8\" font-family=\"Helvetica,sans-Serif\" font-size=\"14.00\" fill=\"#000000\">samples = 4506</text>\n<text text-anchor=\"start\" x=\"15706.5\" y=\"-996.8\" font-family=\"Helvetica,sans-Serif\" font-size=\"14.00\" fill=\"#000000\">value = [364, 3076, 2156, 875, 371, 162, 147]</text>\n</g>\n<!-- 163&#45;&gt;253 -->\n<g id=\"edge253\" class=\"edge\">\n<title>163&#45;&gt;253</title>\n<path fill=\"none\" stroke=\"#000000\" d=\"M12736.1024,-1115.5525C13315.4051,-1097.982 15129.2735,-1042.9662 15688.0037,-1026.0196\"/>\n<polygon fill=\"#000000\" stroke=\"#000000\" points=\"15688.2653,-1029.5134 15698.1546,-1025.7117 15688.053,-1022.5166 15688.2653,-1029.5134\"/>\n</g>\n<!-- 165 -->\n<g id=\"node166\" class=\"node\">\n<title>165</title>\n<path fill=\"#fcebf3\" stroke=\"#000000\" d=\"M11835,-953C11835,-953 11524,-953 11524,-953 11518,-953 11512,-947 11512,-941 11512,-941 11512,-901 11512,-901 11512,-895 11518,-889 11524,-889 11524,-889 11835,-889 11835,-889 11841,-889 11847,-895 11847,-901 11847,-901 11847,-941 11847,-941 11847,-947 11841,-953 11835,-953\"/>\n<text text-anchor=\"start\" x=\"11653\" y=\"-938.8\" font-family=\"Helvetica,sans-Serif\" font-size=\"14.00\" fill=\"#000000\">X</text>\n<text text-anchor=\"start\" x=\"11663\" y=\"-938.8\" font-family=\"Helvetica,sans-Serif\" baseline-shift=\"sub\" font-size=\"14.00\" fill=\"#000000\">1</text>\n<text text-anchor=\"start\" x=\"11670\" y=\"-938.8\" font-family=\"Helvetica,sans-Serif\" font-size=\"14.00\" fill=\"#000000\"> ≤ 2.5</text>\n<text text-anchor=\"start\" x=\"11650\" y=\"-924.8\" font-family=\"Helvetica,sans-Serif\" font-size=\"14.00\" fill=\"#000000\">gini = 0.8</text>\n<text text-anchor=\"start\" x=\"11623.5\" y=\"-910.8\" font-family=\"Helvetica,sans-Serif\" font-size=\"14.00\" fill=\"#000000\">samples = 11380</text>\n<text text-anchor=\"start\" x=\"11520\" y=\"-896.8\" font-family=\"Helvetica,sans-Serif\" font-size=\"14.00\" fill=\"#000000\">value = [29, 1019, 2940, 3838, 2843, 1967, 5220]</text>\n</g>\n<!-- 164&#45;&gt;165 -->\n<g id=\"edge165\" class=\"edge\">\n<title>164&#45;&gt;165</title>\n<path fill=\"none\" stroke=\"#000000\" d=\"M12384.8018,-1001.4221C12232.5619,-984.0629 12011.1057,-958.8114 11857.1076,-941.2517\"/>\n<polygon fill=\"#000000\" stroke=\"#000000\" points=\"11857.3952,-937.7619 11847.063,-940.1064 11856.6021,-944.7169 11857.3952,-937.7619\"/>\n</g>\n<!-- 218 -->\n<g id=\"node219\" class=\"node\">\n<title>218</title>\n<path fill=\"#fafefe\" stroke=\"#000000\" d=\"M13484,-953C13484,-953 13165,-953 13165,-953 13159,-953 13153,-947 13153,-941 13153,-941 13153,-901 13153,-901 13153,-895 13159,-889 13165,-889 13165,-889 13484,-889 13484,-889 13490,-889 13496,-895 13496,-901 13496,-901 13496,-941 13496,-941 13496,-947 13490,-953 13484,-953\"/>\n<text text-anchor=\"start\" x=\"13294\" y=\"-938.8\" font-family=\"Helvetica,sans-Serif\" font-size=\"14.00\" fill=\"#000000\">X</text>\n<text text-anchor=\"start\" x=\"13304\" y=\"-938.8\" font-family=\"Helvetica,sans-Serif\" baseline-shift=\"sub\" font-size=\"14.00\" fill=\"#000000\">0</text>\n<text text-anchor=\"start\" x=\"13311\" y=\"-938.8\" font-family=\"Helvetica,sans-Serif\" font-size=\"14.00\" fill=\"#000000\"> ≤ 18.5</text>\n<text text-anchor=\"start\" x=\"13286.5\" y=\"-924.8\" font-family=\"Helvetica,sans-Serif\" font-size=\"14.00\" fill=\"#000000\">gini = 0.824</text>\n<text text-anchor=\"start\" x=\"13268.5\" y=\"-910.8\" font-family=\"Helvetica,sans-Serif\" font-size=\"14.00\" fill=\"#000000\">samples = 15516</text>\n<text text-anchor=\"start\" x=\"13161\" y=\"-896.8\" font-family=\"Helvetica,sans-Serif\" font-size=\"14.00\" fill=\"#000000\">value = [123, 2653, 5026, 5554, 4440, 3096, 3684]</text>\n</g>\n<!-- 164&#45;&gt;218 -->\n<g id=\"edge218\" class=\"edge\">\n<title>164&#45;&gt;218</title>\n<path fill=\"none\" stroke=\"#000000\" d=\"M12728.376,-998.6203C12851.6092,-982.5743 13017.3163,-960.9979 13142.7419,-944.6664\"/>\n<polygon fill=\"#000000\" stroke=\"#000000\" points=\"13143.3773,-948.1133 13152.8417,-943.3513 13142.4734,-941.1719 13143.3773,-948.1133\"/>\n</g>\n<!-- 166 -->\n<g id=\"node167\" class=\"node\">\n<title>166</title>\n<path fill=\"#fad8e7\" stroke=\"#000000\" d=\"M10604.5,-853C10604.5,-853 10318.5,-853 10318.5,-853 10312.5,-853 10306.5,-847 10306.5,-841 10306.5,-841 10306.5,-801 10306.5,-801 10306.5,-795 10312.5,-789 10318.5,-789 10318.5,-789 10604.5,-789 10604.5,-789 10610.5,-789 10616.5,-795 10616.5,-801 10616.5,-801 10616.5,-841 10616.5,-841 10616.5,-847 10610.5,-853 10604.5,-853\"/>\n<text text-anchor=\"start\" x=\"10431\" y=\"-838.8\" font-family=\"Helvetica,sans-Serif\" font-size=\"14.00\" fill=\"#000000\">X</text>\n<text text-anchor=\"start\" x=\"10441\" y=\"-838.8\" font-family=\"Helvetica,sans-Serif\" baseline-shift=\"sub\" font-size=\"14.00\" fill=\"#000000\">0</text>\n<text text-anchor=\"start\" x=\"10448\" y=\"-838.8\" font-family=\"Helvetica,sans-Serif\" font-size=\"14.00\" fill=\"#000000\"> ≤ 10.5</text>\n<text text-anchor=\"start\" x=\"10423.5\" y=\"-824.8\" font-family=\"Helvetica,sans-Serif\" font-size=\"14.00\" fill=\"#000000\">gini = 0.766</text>\n<text text-anchor=\"start\" x=\"10409.5\" y=\"-810.8\" font-family=\"Helvetica,sans-Serif\" font-size=\"14.00\" fill=\"#000000\">samples = 5283</text>\n<text text-anchor=\"start\" x=\"10314.5\" y=\"-796.8\" font-family=\"Helvetica,sans-Serif\" font-size=\"14.00\" fill=\"#000000\">value = [8, 356, 1282, 1767, 1195, 627, 3071]</text>\n</g>\n<!-- 165&#45;&gt;166 -->\n<g id=\"edge166\" class=\"edge\">\n<title>165&#45;&gt;166</title>\n<path fill=\"none\" stroke=\"#000000\" d=\"M11511.7402,-907.2266C11278.5741,-888.0833 10859.109,-853.6444 10627.0998,-834.596\"/>\n<polygon fill=\"#000000\" stroke=\"#000000\" points=\"10627.131,-831.0869 10616.8781,-833.7568 10626.5581,-838.0634 10627.131,-831.0869\"/>\n</g>\n<!-- 185 -->\n<g id=\"node186\" class=\"node\">\n<title>185</title>\n<path fill=\"#fffdfe\" stroke=\"#000000\" d=\"M11830.5,-853C11830.5,-853 11528.5,-853 11528.5,-853 11522.5,-853 11516.5,-847 11516.5,-841 11516.5,-841 11516.5,-801 11516.5,-801 11516.5,-795 11522.5,-789 11528.5,-789 11528.5,-789 11830.5,-789 11830.5,-789 11836.5,-789 11842.5,-795 11842.5,-801 11842.5,-801 11842.5,-841 11842.5,-841 11842.5,-847 11836.5,-853 11830.5,-853\"/>\n<text text-anchor=\"start\" x=\"11649\" y=\"-838.8\" font-family=\"Helvetica,sans-Serif\" font-size=\"14.00\" fill=\"#000000\">X</text>\n<text text-anchor=\"start\" x=\"11659\" y=\"-838.8\" font-family=\"Helvetica,sans-Serif\" baseline-shift=\"sub\" font-size=\"14.00\" fill=\"#000000\">0</text>\n<text text-anchor=\"start\" x=\"11666\" y=\"-838.8\" font-family=\"Helvetica,sans-Serif\" font-size=\"14.00\" fill=\"#000000\"> ≤ 10.5</text>\n<text text-anchor=\"start\" x=\"11641.5\" y=\"-824.8\" font-family=\"Helvetica,sans-Serif\" font-size=\"14.00\" fill=\"#000000\">gini = 0.818</text>\n<text text-anchor=\"start\" x=\"11627.5\" y=\"-810.8\" font-family=\"Helvetica,sans-Serif\" font-size=\"14.00\" fill=\"#000000\">samples = 6097</text>\n<text text-anchor=\"start\" x=\"11524.5\" y=\"-796.8\" font-family=\"Helvetica,sans-Serif\" font-size=\"14.00\" fill=\"#000000\">value = [21, 663, 1658, 2071, 1648, 1340, 2149]</text>\n</g>\n<!-- 165&#45;&gt;185 -->\n<g id=\"edge185\" class=\"edge\">\n<title>165&#45;&gt;185</title>\n<path fill=\"none\" stroke=\"#000000\" d=\"M11679.5,-888.8089C11679.5,-880.6906 11679.5,-871.8517 11679.5,-863.3186\"/>\n<polygon fill=\"#000000\" stroke=\"#000000\" points=\"11683.0001,-863.1307 11679.5,-853.1308 11676.0001,-863.1308 11683.0001,-863.1307\"/>\n</g>\n<!-- 167 -->\n<g id=\"node168\" class=\"node\">\n<title>167</title>\n<path fill=\"#ecfdfc\" stroke=\"#000000\" d=\"M10229.5,-753C10229.5,-753 9943.5,-753 9943.5,-753 9937.5,-753 9931.5,-747 9931.5,-741 9931.5,-741 9931.5,-701 9931.5,-701 9931.5,-695 9937.5,-689 9943.5,-689 9943.5,-689 10229.5,-689 10229.5,-689 10235.5,-689 10241.5,-695 10241.5,-701 10241.5,-701 10241.5,-741 10241.5,-741 10241.5,-747 10235.5,-753 10229.5,-753\"/>\n<text text-anchor=\"start\" x=\"10060\" y=\"-738.8\" font-family=\"Helvetica,sans-Serif\" font-size=\"14.00\" fill=\"#000000\">X</text>\n<text text-anchor=\"start\" x=\"10070\" y=\"-738.8\" font-family=\"Helvetica,sans-Serif\" baseline-shift=\"sub\" font-size=\"14.00\" fill=\"#000000\">0</text>\n<text text-anchor=\"start\" x=\"10077\" y=\"-738.8\" font-family=\"Helvetica,sans-Serif\" font-size=\"14.00\" fill=\"#000000\"> ≤ 9.5</text>\n<text text-anchor=\"start\" x=\"10048.5\" y=\"-724.8\" font-family=\"Helvetica,sans-Serif\" font-size=\"14.00\" fill=\"#000000\">gini = 0.801</text>\n<text text-anchor=\"start\" x=\"10034.5\" y=\"-710.8\" font-family=\"Helvetica,sans-Serif\" font-size=\"14.00\" fill=\"#000000\">samples = 3995</text>\n<text text-anchor=\"start\" x=\"9939.5\" y=\"-696.8\" font-family=\"Helvetica,sans-Serif\" font-size=\"14.00\" fill=\"#000000\">value = [8, 356, 1282, 1766, 1191, 586, 1129]</text>\n</g>\n<!-- 166&#45;&gt;167 -->\n<g id=\"edge167\" class=\"edge\">\n<title>166&#45;&gt;167</title>\n<path fill=\"none\" stroke=\"#000000\" d=\"M10341.3003,-788.9467C10301.4359,-778.3162 10256.8917,-766.4378 10216.3351,-755.6227\"/>\n<polygon fill=\"#000000\" stroke=\"#000000\" points=\"10217.2266,-752.2382 10206.6624,-753.0433 10215.4229,-759.0018 10217.2266,-752.2382\"/>\n</g>\n<!-- 174 -->\n<g id=\"node175\" class=\"node\">\n<title>174</title>\n<path fill=\"#e63e89\" stroke=\"#000000\" d=\"M10555,-753C10555,-753 10368,-753 10368,-753 10362,-753 10356,-747 10356,-741 10356,-741 10356,-701 10356,-701 10356,-695 10362,-689 10368,-689 10368,-689 10555,-689 10555,-689 10561,-689 10567,-695 10567,-701 10567,-701 10567,-741 10567,-741 10567,-747 10561,-753 10555,-753\"/>\n<text text-anchor=\"start\" x=\"10431\" y=\"-738.8\" font-family=\"Helvetica,sans-Serif\" font-size=\"14.00\" fill=\"#000000\">X</text>\n<text text-anchor=\"start\" x=\"10441\" y=\"-738.8\" font-family=\"Helvetica,sans-Serif\" baseline-shift=\"sub\" font-size=\"14.00\" fill=\"#000000\">0</text>\n<text text-anchor=\"start\" x=\"10448\" y=\"-738.8\" font-family=\"Helvetica,sans-Serif\" font-size=\"14.00\" fill=\"#000000\"> ≤ 11.5</text>\n<text text-anchor=\"start\" x=\"10423.5\" y=\"-724.8\" font-family=\"Helvetica,sans-Serif\" font-size=\"14.00\" fill=\"#000000\">gini = 0.045</text>\n<text text-anchor=\"start\" x=\"10409.5\" y=\"-710.8\" font-family=\"Helvetica,sans-Serif\" font-size=\"14.00\" fill=\"#000000\">samples = 1288</text>\n<text text-anchor=\"start\" x=\"10364\" y=\"-696.8\" font-family=\"Helvetica,sans-Serif\" font-size=\"14.00\" fill=\"#000000\">value = [0, 0, 0, 1, 4, 41, 1942]</text>\n</g>\n<!-- 166&#45;&gt;174 -->\n<g id=\"edge174\" class=\"edge\">\n<title>166&#45;&gt;174</title>\n<path fill=\"none\" stroke=\"#000000\" d=\"M10461.5,-788.8089C10461.5,-780.6906 10461.5,-771.8517 10461.5,-763.3186\"/>\n<polygon fill=\"#000000\" stroke=\"#000000\" points=\"10465.0001,-763.1307 10461.5,-753.1308 10458.0001,-763.1308 10465.0001,-763.1307\"/>\n</g>\n<!-- 168 -->\n<g id=\"node169\" class=\"node\">\n<title>168</title>\n<path fill=\"#fef6f9\" stroke=\"#000000\" d=\"M9914,-653C9914,-653 9669,-653 9669,-653 9663,-653 9657,-647 9657,-641 9657,-641 9657,-601 9657,-601 9657,-595 9663,-589 9669,-589 9669,-589 9914,-589 9914,-589 9920,-589 9926,-595 9926,-601 9926,-601 9926,-641 9926,-641 9926,-647 9920,-653 9914,-653\"/>\n<text text-anchor=\"start\" x=\"9765\" y=\"-638.8\" font-family=\"Helvetica,sans-Serif\" font-size=\"14.00\" fill=\"#000000\">X</text>\n<text text-anchor=\"start\" x=\"9775\" y=\"-638.8\" font-family=\"Helvetica,sans-Serif\" baseline-shift=\"sub\" font-size=\"14.00\" fill=\"#000000\">0</text>\n<text text-anchor=\"start\" x=\"9782\" y=\"-638.8\" font-family=\"Helvetica,sans-Serif\" font-size=\"14.00\" fill=\"#000000\"> ≤ 8.5</text>\n<text text-anchor=\"start\" x=\"9753.5\" y=\"-624.8\" font-family=\"Helvetica,sans-Serif\" font-size=\"14.00\" fill=\"#000000\">gini = 0.781</text>\n<text text-anchor=\"start\" x=\"9739.5\" y=\"-610.8\" font-family=\"Helvetica,sans-Serif\" font-size=\"14.00\" fill=\"#000000\">samples = 1148</text>\n<text text-anchor=\"start\" x=\"9665\" y=\"-596.8\" font-family=\"Helvetica,sans-Serif\" font-size=\"14.00\" fill=\"#000000\">value = [0, 39, 344, 474, 284, 155, 536]</text>\n</g>\n<!-- 167&#45;&gt;168 -->\n<g id=\"edge168\" class=\"edge\">\n<title>167&#45;&gt;168</title>\n<path fill=\"none\" stroke=\"#000000\" d=\"M9991.9429,-688.9467C9961.2445,-678.5405 9927.0184,-666.9384 9895.6604,-656.3086\"/>\n<polygon fill=\"#000000\" stroke=\"#000000\" points=\"9896.622,-652.939 9886.0277,-653.0433 9894.3747,-659.5685 9896.622,-652.939\"/>\n</g>\n<!-- 173 -->\n<g id=\"node174\" class=\"node\">\n<title>173</title>\n<path fill=\"#ebfcfc\" stroke=\"#000000\" d=\"M10217,-647.5C10217,-647.5 9956,-647.5 9956,-647.5 9950,-647.5 9944,-641.5 9944,-635.5 9944,-635.5 9944,-606.5 9944,-606.5 9944,-600.5 9950,-594.5 9956,-594.5 9956,-594.5 10217,-594.5 10217,-594.5 10223,-594.5 10229,-600.5 10229,-606.5 10229,-606.5 10229,-635.5 10229,-635.5 10229,-641.5 10223,-647.5 10217,-647.5\"/>\n<text text-anchor=\"start\" x=\"10048.5\" y=\"-632.3\" font-family=\"Helvetica,sans-Serif\" font-size=\"14.00\" fill=\"#000000\">gini = 0.801</text>\n<text text-anchor=\"start\" x=\"10034.5\" y=\"-617.3\" font-family=\"Helvetica,sans-Serif\" font-size=\"14.00\" fill=\"#000000\">samples = 2847</text>\n<text text-anchor=\"start\" x=\"9952\" y=\"-602.3\" font-family=\"Helvetica,sans-Serif\" font-size=\"14.00\" fill=\"#000000\">value = [8, 317, 938, 1292, 907, 431, 593]</text>\n</g>\n<!-- 167&#45;&gt;173 -->\n<g id=\"edge173\" class=\"edge\">\n<title>167&#45;&gt;173</title>\n<path fill=\"none\" stroke=\"#000000\" d=\"M10086.5,-688.8089C10086.5,-678.9777 10086.5,-668.0898 10086.5,-657.9679\"/>\n<polygon fill=\"#000000\" stroke=\"#000000\" points=\"10090.0001,-657.7735 10086.5,-647.7735 10083.0001,-657.7736 10090.0001,-657.7735\"/>\n</g>\n<!-- 169 -->\n<g id=\"node170\" class=\"node\">\n<title>169</title>\n<path fill=\"#e8fcfc\" stroke=\"#000000\" d=\"M9914,-553C9914,-553 9669,-553 9669,-553 9663,-553 9657,-547 9657,-541 9657,-541 9657,-501 9657,-501 9657,-495 9663,-489 9669,-489 9669,-489 9914,-489 9914,-489 9920,-489 9926,-495 9926,-501 9926,-501 9926,-541 9926,-541 9926,-547 9920,-553 9914,-553\"/>\n<text text-anchor=\"start\" x=\"9765\" y=\"-538.8\" font-family=\"Helvetica,sans-Serif\" font-size=\"14.00\" fill=\"#000000\">X</text>\n<text text-anchor=\"start\" x=\"9775\" y=\"-538.8\" font-family=\"Helvetica,sans-Serif\" baseline-shift=\"sub\" font-size=\"14.00\" fill=\"#000000\">0</text>\n<text text-anchor=\"start\" x=\"9782\" y=\"-538.8\" font-family=\"Helvetica,sans-Serif\" font-size=\"14.00\" fill=\"#000000\"> ≤ 7.5</text>\n<text text-anchor=\"start\" x=\"9753.5\" y=\"-524.8\" font-family=\"Helvetica,sans-Serif\" font-size=\"14.00\" fill=\"#000000\">gini = 0.774</text>\n<text text-anchor=\"start\" x=\"9743.5\" y=\"-510.8\" font-family=\"Helvetica,sans-Serif\" font-size=\"14.00\" fill=\"#000000\">samples = 907</text>\n<text text-anchor=\"start\" x=\"9665\" y=\"-496.8\" font-family=\"Helvetica,sans-Serif\" font-size=\"14.00\" fill=\"#000000\">value = [0, 39, 344, 474, 284, 155, 148]</text>\n</g>\n<!-- 168&#45;&gt;169 -->\n<g id=\"edge169\" class=\"edge\">\n<title>168&#45;&gt;169</title>\n<path fill=\"none\" stroke=\"#000000\" d=\"M9791.5,-588.8089C9791.5,-580.6906 9791.5,-571.8517 9791.5,-563.3186\"/>\n<polygon fill=\"#000000\" stroke=\"#000000\" points=\"9795.0001,-563.1307 9791.5,-553.1308 9788.0001,-563.1308 9795.0001,-563.1307\"/>\n</g>\n<!-- 172 -->\n<g id=\"node173\" class=\"node\">\n<title>172</title>\n<path fill=\"#e53986\" stroke=\"#000000\" d=\"M10126.5,-547.5C10126.5,-547.5 9956.5,-547.5 9956.5,-547.5 9950.5,-547.5 9944.5,-541.5 9944.5,-535.5 9944.5,-535.5 9944.5,-506.5 9944.5,-506.5 9944.5,-500.5 9950.5,-494.5 9956.5,-494.5 9956.5,-494.5 10126.5,-494.5 10126.5,-494.5 10132.5,-494.5 10138.5,-500.5 10138.5,-506.5 10138.5,-506.5 10138.5,-535.5 10138.5,-535.5 10138.5,-541.5 10132.5,-547.5 10126.5,-547.5\"/>\n<text text-anchor=\"start\" x=\"10012\" y=\"-532.3\" font-family=\"Helvetica,sans-Serif\" font-size=\"14.00\" fill=\"#000000\">gini = 0.0</text>\n<text text-anchor=\"start\" x=\"9993.5\" y=\"-517.3\" font-family=\"Helvetica,sans-Serif\" font-size=\"14.00\" fill=\"#000000\">samples = 241</text>\n<text text-anchor=\"start\" x=\"9952.5\" y=\"-502.3\" font-family=\"Helvetica,sans-Serif\" font-size=\"14.00\" fill=\"#000000\">value = [0, 0, 0, 0, 0, 0, 388]</text>\n</g>\n<!-- 168&#45;&gt;172 -->\n<g id=\"edge172\" class=\"edge\">\n<title>168&#45;&gt;172</title>\n<path fill=\"none\" stroke=\"#000000\" d=\"M9871.6331,-588.9467C9901.7894,-576.8842 9935.9626,-563.2149 9965.7109,-551.3157\"/>\n<polygon fill=\"#000000\" stroke=\"#000000\" points=\"9967.2183,-554.4824 9975.2032,-547.5187 9964.6185,-547.983 9967.2183,-554.4824\"/>\n</g>\n<!-- 170 -->\n<g id=\"node171\" class=\"node\">\n<title>170</title>\n<path fill=\"#dcfafa\" stroke=\"#000000\" d=\"M9876.5,-447.5C9876.5,-447.5 9648.5,-447.5 9648.5,-447.5 9642.5,-447.5 9636.5,-441.5 9636.5,-435.5 9636.5,-435.5 9636.5,-406.5 9636.5,-406.5 9636.5,-400.5 9642.5,-394.5 9648.5,-394.5 9648.5,-394.5 9876.5,-394.5 9876.5,-394.5 9882.5,-394.5 9888.5,-400.5 9888.5,-406.5 9888.5,-406.5 9888.5,-435.5 9888.5,-435.5 9888.5,-441.5 9882.5,-447.5 9876.5,-447.5\"/>\n<text text-anchor=\"start\" x=\"9724.5\" y=\"-432.3\" font-family=\"Helvetica,sans-Serif\" font-size=\"14.00\" fill=\"#000000\">gini = 0.763</text>\n<text text-anchor=\"start\" x=\"9714.5\" y=\"-417.3\" font-family=\"Helvetica,sans-Serif\" font-size=\"14.00\" fill=\"#000000\">samples = 327</text>\n<text text-anchor=\"start\" x=\"9644.5\" y=\"-402.3\" font-family=\"Helvetica,sans-Serif\" font-size=\"14.00\" fill=\"#000000\">value = [0, 13, 107, 200, 123, 65, 48]</text>\n</g>\n<!-- 169&#45;&gt;170 -->\n<g id=\"edge170\" class=\"edge\">\n<title>169&#45;&gt;170</title>\n<path fill=\"none\" stroke=\"#000000\" d=\"M9782.1646,-488.8089C9779.2835,-478.8742 9776.0895,-467.8605 9773.1281,-457.6485\"/>\n<polygon fill=\"#000000\" stroke=\"#000000\" points=\"9776.4111,-456.403 9770.2643,-447.7735 9769.6881,-458.3527 9776.4111,-456.403\"/>\n</g>\n<!-- 171 -->\n<g id=\"node172\" class=\"node\">\n<title>171</title>\n<path fill=\"#f4fefd\" stroke=\"#000000\" d=\"M10154.5,-447.5C10154.5,-447.5 9918.5,-447.5 9918.5,-447.5 9912.5,-447.5 9906.5,-441.5 9906.5,-435.5 9906.5,-435.5 9906.5,-406.5 9906.5,-406.5 9906.5,-400.5 9912.5,-394.5 9918.5,-394.5 9918.5,-394.5 10154.5,-394.5 10154.5,-394.5 10160.5,-394.5 10166.5,-400.5 10166.5,-406.5 10166.5,-406.5 10166.5,-435.5 10166.5,-435.5 10166.5,-441.5 10160.5,-447.5 10154.5,-447.5\"/>\n<text text-anchor=\"start\" x=\"9998.5\" y=\"-432.3\" font-family=\"Helvetica,sans-Serif\" font-size=\"14.00\" fill=\"#000000\">gini = 0.777</text>\n<text text-anchor=\"start\" x=\"9988.5\" y=\"-417.3\" font-family=\"Helvetica,sans-Serif\" font-size=\"14.00\" fill=\"#000000\">samples = 580</text>\n<text text-anchor=\"start\" x=\"9914.5\" y=\"-402.3\" font-family=\"Helvetica,sans-Serif\" font-size=\"14.00\" fill=\"#000000\">value = [0, 26, 237, 274, 161, 90, 100]</text>\n</g>\n<!-- 169&#45;&gt;171 -->\n<g id=\"edge171\" class=\"edge\">\n<title>169&#45;&gt;171</title>\n<path fill=\"none\" stroke=\"#000000\" d=\"M9870.0305,-488.9467C9899.5836,-476.8842 9933.0734,-463.2149 9962.2266,-451.3157\"/>\n<polygon fill=\"#000000\" stroke=\"#000000\" points=\"9963.5933,-454.5382 9971.5291,-447.5187 9960.948,-448.0573 9963.5933,-454.5382\"/>\n</g>\n<!-- 175 -->\n<g id=\"node176\" class=\"node\">\n<title>175</title>\n<path fill=\"#e95597\" stroke=\"#000000\" d=\"M10421.5,-647.5C10421.5,-647.5 10259.5,-647.5 10259.5,-647.5 10253.5,-647.5 10247.5,-641.5 10247.5,-635.5 10247.5,-635.5 10247.5,-606.5 10247.5,-606.5 10247.5,-600.5 10253.5,-594.5 10259.5,-594.5 10259.5,-594.5 10421.5,-594.5 10421.5,-594.5 10427.5,-594.5 10433.5,-600.5 10433.5,-606.5 10433.5,-606.5 10433.5,-635.5 10433.5,-635.5 10433.5,-641.5 10427.5,-647.5 10421.5,-647.5\"/>\n<text text-anchor=\"start\" x=\"10302.5\" y=\"-632.3\" font-family=\"Helvetica,sans-Serif\" font-size=\"14.00\" fill=\"#000000\">gini = 0.234</text>\n<text text-anchor=\"start\" x=\"10296.5\" y=\"-617.3\" font-family=\"Helvetica,sans-Serif\" font-size=\"14.00\" fill=\"#000000\">samples = 31</text>\n<text text-anchor=\"start\" x=\"10255.5\" y=\"-602.3\" font-family=\"Helvetica,sans-Serif\" font-size=\"14.00\" fill=\"#000000\">value = [0, 0, 0, 0, 2, 4, 40]</text>\n</g>\n<!-- 174&#45;&gt;175 -->\n<g id=\"edge175\" class=\"edge\">\n<title>174&#45;&gt;175</title>\n<path fill=\"none\" stroke=\"#000000\" d=\"M10422.5488,-688.8089C10409.1504,-677.7359 10394.13,-665.3223 10380.6388,-654.1726\"/>\n<polygon fill=\"#000000\" stroke=\"#000000\" points=\"10382.8339,-651.4461 10372.896,-647.7735 10378.3746,-656.8419 10382.8339,-651.4461\"/>\n</g>\n<!-- 176 -->\n<g id=\"node177\" class=\"node\">\n<title>176</title>\n<path fill=\"#e63d89\" stroke=\"#000000\" d=\"M10651,-653C10651,-653 10464,-653 10464,-653 10458,-653 10452,-647 10452,-641 10452,-641 10452,-601 10452,-601 10452,-595 10458,-589 10464,-589 10464,-589 10651,-589 10651,-589 10657,-589 10663,-595 10663,-601 10663,-601 10663,-641 10663,-641 10663,-647 10657,-653 10651,-653\"/>\n<text text-anchor=\"start\" x=\"10527\" y=\"-638.8\" font-family=\"Helvetica,sans-Serif\" font-size=\"14.00\" fill=\"#000000\">X</text>\n<text text-anchor=\"start\" x=\"10537\" y=\"-638.8\" font-family=\"Helvetica,sans-Serif\" baseline-shift=\"sub\" font-size=\"14.00\" fill=\"#000000\">0</text>\n<text text-anchor=\"start\" x=\"10544\" y=\"-638.8\" font-family=\"Helvetica,sans-Serif\" font-size=\"14.00\" fill=\"#000000\"> ≤ 15.5</text>\n<text text-anchor=\"start\" x=\"10524\" y=\"-624.8\" font-family=\"Helvetica,sans-Serif\" font-size=\"14.00\" fill=\"#000000\">gini = 0.04</text>\n<text text-anchor=\"start\" x=\"10505.5\" y=\"-610.8\" font-family=\"Helvetica,sans-Serif\" font-size=\"14.00\" fill=\"#000000\">samples = 1257</text>\n<text text-anchor=\"start\" x=\"10460\" y=\"-596.8\" font-family=\"Helvetica,sans-Serif\" font-size=\"14.00\" fill=\"#000000\">value = [0, 0, 0, 1, 2, 37, 1902]</text>\n</g>\n<!-- 174&#45;&gt;176 -->\n<g id=\"edge176\" class=\"edge\">\n<title>174&#45;&gt;176</title>\n<path fill=\"none\" stroke=\"#000000\" d=\"M10492.4034,-688.8089C10501.0535,-679.7985 10510.5556,-669.9004 10519.5628,-660.518\"/>\n<polygon fill=\"#000000\" stroke=\"#000000\" points=\"10522.254,-662.7685 10526.6545,-653.1308 10517.2043,-657.9208 10522.254,-662.7685\"/>\n</g>\n<!-- 177 -->\n<g id=\"node178\" class=\"node\">\n<title>177</title>\n<path fill=\"#e63e89\" stroke=\"#000000\" d=\"M10384,-553C10384,-553 10197,-553 10197,-553 10191,-553 10185,-547 10185,-541 10185,-541 10185,-501 10185,-501 10185,-495 10191,-489 10197,-489 10197,-489 10384,-489 10384,-489 10390,-489 10396,-495 10396,-501 10396,-501 10396,-541 10396,-541 10396,-547 10390,-553 10384,-553\"/>\n<text text-anchor=\"start\" x=\"10260\" y=\"-538.8\" font-family=\"Helvetica,sans-Serif\" font-size=\"14.00\" fill=\"#000000\">X</text>\n<text text-anchor=\"start\" x=\"10270\" y=\"-538.8\" font-family=\"Helvetica,sans-Serif\" baseline-shift=\"sub\" font-size=\"14.00\" fill=\"#000000\">0</text>\n<text text-anchor=\"start\" x=\"10277\" y=\"-538.8\" font-family=\"Helvetica,sans-Serif\" font-size=\"14.00\" fill=\"#000000\"> ≤ 12.5</text>\n<text text-anchor=\"start\" x=\"10252.5\" y=\"-524.8\" font-family=\"Helvetica,sans-Serif\" font-size=\"14.00\" fill=\"#000000\">gini = 0.044</text>\n<text text-anchor=\"start\" x=\"10238.5\" y=\"-510.8\" font-family=\"Helvetica,sans-Serif\" font-size=\"14.00\" fill=\"#000000\">samples = 1155</text>\n<text text-anchor=\"start\" x=\"10193\" y=\"-496.8\" font-family=\"Helvetica,sans-Serif\" font-size=\"14.00\" fill=\"#000000\">value = [0, 0, 0, 1, 2, 37, 1734]</text>\n</g>\n<!-- 176&#45;&gt;177 -->\n<g id=\"edge177\" class=\"edge\">\n<title>176&#45;&gt;177</title>\n<path fill=\"none\" stroke=\"#000000\" d=\"M10471.9178,-588.9467C10444.3727,-578.6302 10413.6895,-567.1384 10385.5085,-556.5837\"/>\n<polygon fill=\"#000000\" stroke=\"#000000\" points=\"10386.6479,-553.2731 10376.0556,-553.0433 10384.1927,-559.8284 10386.6479,-553.2731\"/>\n</g>\n<!-- 184 -->\n<g id=\"node185\" class=\"node\">\n<title>184</title>\n<path fill=\"#e53986\" stroke=\"#000000\" d=\"M10596.5,-547.5C10596.5,-547.5 10426.5,-547.5 10426.5,-547.5 10420.5,-547.5 10414.5,-541.5 10414.5,-535.5 10414.5,-535.5 10414.5,-506.5 10414.5,-506.5 10414.5,-500.5 10420.5,-494.5 10426.5,-494.5 10426.5,-494.5 10596.5,-494.5 10596.5,-494.5 10602.5,-494.5 10608.5,-500.5 10608.5,-506.5 10608.5,-506.5 10608.5,-535.5 10608.5,-535.5 10608.5,-541.5 10602.5,-547.5 10596.5,-547.5\"/>\n<text text-anchor=\"start\" x=\"10482\" y=\"-532.3\" font-family=\"Helvetica,sans-Serif\" font-size=\"14.00\" fill=\"#000000\">gini = 0.0</text>\n<text text-anchor=\"start\" x=\"10463.5\" y=\"-517.3\" font-family=\"Helvetica,sans-Serif\" font-size=\"14.00\" fill=\"#000000\">samples = 102</text>\n<text text-anchor=\"start\" x=\"10422.5\" y=\"-502.3\" font-family=\"Helvetica,sans-Serif\" font-size=\"14.00\" fill=\"#000000\">value = [0, 0, 0, 0, 0, 0, 168]</text>\n</g>\n<!-- 176&#45;&gt;184 -->\n<g id=\"edge184\" class=\"edge\">\n<title>176&#45;&gt;184</title>\n<path fill=\"none\" stroke=\"#000000\" d=\"M10542.6921,-588.8089C10538.0269,-578.6672 10532.8445,-567.4011 10528.0652,-557.0114\"/>\n<polygon fill=\"#000000\" stroke=\"#000000\" points=\"10531.1747,-555.3957 10523.8158,-547.7735 10524.8152,-558.3211 10531.1747,-555.3957\"/>\n</g>\n<!-- 178 -->\n<g id=\"node179\" class=\"node\">\n<title>178</title>\n<path fill=\"#e53a87\" stroke=\"#000000\" d=\"M10366.5,-447.5C10366.5,-447.5 10196.5,-447.5 10196.5,-447.5 10190.5,-447.5 10184.5,-441.5 10184.5,-435.5 10184.5,-435.5 10184.5,-406.5 10184.5,-406.5 10184.5,-400.5 10190.5,-394.5 10196.5,-394.5 10196.5,-394.5 10366.5,-394.5 10366.5,-394.5 10372.5,-394.5 10378.5,-400.5 10378.5,-406.5 10378.5,-406.5 10378.5,-435.5 10378.5,-435.5 10378.5,-441.5 10372.5,-447.5 10366.5,-447.5\"/>\n<text text-anchor=\"start\" x=\"10248\" y=\"-432.3\" font-family=\"Helvetica,sans-Serif\" font-size=\"14.00\" fill=\"#000000\">gini = 0.01</text>\n<text text-anchor=\"start\" x=\"10233.5\" y=\"-417.3\" font-family=\"Helvetica,sans-Serif\" font-size=\"14.00\" fill=\"#000000\">samples = 118</text>\n<text text-anchor=\"start\" x=\"10192.5\" y=\"-402.3\" font-family=\"Helvetica,sans-Serif\" font-size=\"14.00\" fill=\"#000000\">value = [0, 0, 0, 1, 0, 0, 189]</text>\n</g>\n<!-- 177&#45;&gt;178 -->\n<g id=\"edge178\" class=\"edge\">\n<title>177&#45;&gt;178</title>\n<path fill=\"none\" stroke=\"#000000\" d=\"M10287.6028,-488.8089C10286.718,-478.9777 10285.7381,-468.0898 10284.8271,-457.9679\"/>\n<polygon fill=\"#000000\" stroke=\"#000000\" points=\"10288.292,-457.4195 10283.9096,-447.7735 10281.3202,-458.047 10288.292,-457.4195\"/>\n</g>\n<!-- 179 -->\n<g id=\"node180\" class=\"node\">\n<title>179</title>\n<path fill=\"#e63e89\" stroke=\"#000000\" d=\"M10596,-453C10596,-453 10409,-453 10409,-453 10403,-453 10397,-447 10397,-441 10397,-441 10397,-401 10397,-401 10397,-395 10403,-389 10409,-389 10409,-389 10596,-389 10596,-389 10602,-389 10608,-395 10608,-401 10608,-401 10608,-441 10608,-441 10608,-447 10602,-453 10596,-453\"/>\n<text text-anchor=\"start\" x=\"10472\" y=\"-438.8\" font-family=\"Helvetica,sans-Serif\" font-size=\"14.00\" fill=\"#000000\">X</text>\n<text text-anchor=\"start\" x=\"10482\" y=\"-438.8\" font-family=\"Helvetica,sans-Serif\" baseline-shift=\"sub\" font-size=\"14.00\" fill=\"#000000\">0</text>\n<text text-anchor=\"start\" x=\"10489\" y=\"-438.8\" font-family=\"Helvetica,sans-Serif\" font-size=\"14.00\" fill=\"#000000\"> ≤ 14.5</text>\n<text text-anchor=\"start\" x=\"10464.5\" y=\"-424.8\" font-family=\"Helvetica,sans-Serif\" font-size=\"14.00\" fill=\"#000000\">gini = 0.048</text>\n<text text-anchor=\"start\" x=\"10450.5\" y=\"-410.8\" font-family=\"Helvetica,sans-Serif\" font-size=\"14.00\" fill=\"#000000\">samples = 1037</text>\n<text text-anchor=\"start\" x=\"10405\" y=\"-396.8\" font-family=\"Helvetica,sans-Serif\" font-size=\"14.00\" fill=\"#000000\">value = [0, 0, 0, 0, 2, 37, 1545]</text>\n</g>\n<!-- 177&#45;&gt;179 -->\n<g id=\"edge179\" class=\"edge\">\n<title>177&#45;&gt;179</title>\n<path fill=\"none\" stroke=\"#000000\" d=\"M10358.4529,-488.9467C10379.7534,-478.8993 10403.4172,-467.7372 10425.3074,-457.4116\"/>\n<polygon fill=\"#000000\" stroke=\"#000000\" points=\"10427.0171,-460.4751 10434.5682,-453.0433 10424.0307,-454.144 10427.0171,-460.4751\"/>\n</g>\n<!-- 180 -->\n<g id=\"node181\" class=\"node\">\n<title>180</title>\n<path fill=\"#e63d89\" stroke=\"#000000\" d=\"M10376,-353C10376,-353 10197,-353 10197,-353 10191,-353 10185,-347 10185,-341 10185,-341 10185,-301 10185,-301 10185,-295 10191,-289 10197,-289 10197,-289 10376,-289 10376,-289 10382,-289 10388,-295 10388,-301 10388,-301 10388,-341 10388,-341 10388,-347 10382,-353 10376,-353\"/>\n<text text-anchor=\"start\" x=\"10256\" y=\"-338.8\" font-family=\"Helvetica,sans-Serif\" font-size=\"14.00\" fill=\"#000000\">X</text>\n<text text-anchor=\"start\" x=\"10266\" y=\"-338.8\" font-family=\"Helvetica,sans-Serif\" baseline-shift=\"sub\" font-size=\"14.00\" fill=\"#000000\">0</text>\n<text text-anchor=\"start\" x=\"10273\" y=\"-338.8\" font-family=\"Helvetica,sans-Serif\" font-size=\"14.00\" fill=\"#000000\"> ≤ 13.5</text>\n<text text-anchor=\"start\" x=\"10248.5\" y=\"-324.8\" font-family=\"Helvetica,sans-Serif\" font-size=\"14.00\" fill=\"#000000\">gini = 0.043</text>\n<text text-anchor=\"start\" x=\"10238.5\" y=\"-310.8\" font-family=\"Helvetica,sans-Serif\" font-size=\"14.00\" fill=\"#000000\">samples = 588</text>\n<text text-anchor=\"start\" x=\"10193\" y=\"-296.8\" font-family=\"Helvetica,sans-Serif\" font-size=\"14.00\" fill=\"#000000\">value = [0, 0, 0, 0, 2, 18, 896]</text>\n</g>\n<!-- 179&#45;&gt;180 -->\n<g id=\"edge180\" class=\"edge\">\n<title>179&#45;&gt;180</title>\n<path fill=\"none\" stroke=\"#000000\" d=\"M10433.265,-388.9467C10411.4657,-378.8545 10387.2369,-367.6375 10364.8505,-357.2734\"/>\n<polygon fill=\"#000000\" stroke=\"#000000\" points=\"10366.2587,-354.0685 10355.7135,-353.0433 10363.3177,-360.4207 10366.2587,-354.0685\"/>\n</g>\n<!-- 183 -->\n<g id=\"node184\" class=\"node\">\n<title>183</title>\n<path fill=\"#e63f8a\" stroke=\"#000000\" d=\"M10597,-347.5C10597,-347.5 10418,-347.5 10418,-347.5 10412,-347.5 10406,-341.5 10406,-335.5 10406,-335.5 10406,-306.5 10406,-306.5 10406,-300.5 10412,-294.5 10418,-294.5 10418,-294.5 10597,-294.5 10597,-294.5 10603,-294.5 10609,-300.5 10609,-306.5 10609,-306.5 10609,-335.5 10609,-335.5 10609,-341.5 10603,-347.5 10597,-347.5\"/>\n<text text-anchor=\"start\" x=\"10469.5\" y=\"-332.3\" font-family=\"Helvetica,sans-Serif\" font-size=\"14.00\" fill=\"#000000\">gini = 0.055</text>\n<text text-anchor=\"start\" x=\"10459.5\" y=\"-317.3\" font-family=\"Helvetica,sans-Serif\" font-size=\"14.00\" fill=\"#000000\">samples = 449</text>\n<text text-anchor=\"start\" x=\"10414\" y=\"-302.3\" font-family=\"Helvetica,sans-Serif\" font-size=\"14.00\" fill=\"#000000\">value = [0, 0, 0, 0, 0, 19, 649]</text>\n</g>\n<!-- 179&#45;&gt;183 -->\n<g id=\"edge183\" class=\"edge\">\n<title>179&#45;&gt;183</title>\n<path fill=\"none\" stroke=\"#000000\" d=\"M10504.1096,-388.8089C10504.6011,-378.9777 10505.1455,-368.0898 10505.6516,-357.9679\"/>\n<polygon fill=\"#000000\" stroke=\"#000000\" points=\"10509.1575,-357.9359 10506.1613,-347.7735 10502.1662,-357.5862 10509.1575,-357.9359\"/>\n</g>\n<!-- 181 -->\n<g id=\"node182\" class=\"node\">\n<title>181</title>\n<path fill=\"#e63e89\" stroke=\"#000000\" d=\"M10268,-247.5C10268,-247.5 10089,-247.5 10089,-247.5 10083,-247.5 10077,-241.5 10077,-235.5 10077,-235.5 10077,-206.5 10077,-206.5 10077,-200.5 10083,-194.5 10089,-194.5 10089,-194.5 10268,-194.5 10268,-194.5 10274,-194.5 10280,-200.5 10280,-206.5 10280,-206.5 10280,-235.5 10280,-235.5 10280,-241.5 10274,-247.5 10268,-247.5\"/>\n<text text-anchor=\"start\" x=\"10140.5\" y=\"-232.3\" font-family=\"Helvetica,sans-Serif\" font-size=\"14.00\" fill=\"#000000\">gini = 0.047</text>\n<text text-anchor=\"start\" x=\"10130.5\" y=\"-217.3\" font-family=\"Helvetica,sans-Serif\" font-size=\"14.00\" fill=\"#000000\">samples = 398</text>\n<text text-anchor=\"start\" x=\"10085\" y=\"-202.3\" font-family=\"Helvetica,sans-Serif\" font-size=\"14.00\" fill=\"#000000\">value = [0, 0, 0, 0, 2, 13, 610]</text>\n</g>\n<!-- 180&#45;&gt;181 -->\n<g id=\"edge181\" class=\"edge\">\n<title>180&#45;&gt;181</title>\n<path fill=\"none\" stroke=\"#000000\" d=\"M10251.7336,-288.8089C10239.9983,-277.9428 10226.8688,-265.7859 10215.0031,-254.7991\"/>\n<polygon fill=\"#000000\" stroke=\"#000000\" points=\"10217.131,-251.9995 10207.4154,-247.7735 10212.3751,-257.1358 10217.131,-251.9995\"/>\n</g>\n<!-- 182 -->\n<g id=\"node183\" class=\"node\">\n<title>182</title>\n<path fill=\"#e53c88\" stroke=\"#000000\" d=\"M10479.5,-247.5C10479.5,-247.5 10309.5,-247.5 10309.5,-247.5 10303.5,-247.5 10297.5,-241.5 10297.5,-235.5 10297.5,-235.5 10297.5,-206.5 10297.5,-206.5 10297.5,-200.5 10303.5,-194.5 10309.5,-194.5 10309.5,-194.5 10479.5,-194.5 10479.5,-194.5 10485.5,-194.5 10491.5,-200.5 10491.5,-206.5 10491.5,-206.5 10491.5,-235.5 10491.5,-235.5 10491.5,-241.5 10485.5,-247.5 10479.5,-247.5\"/>\n<text text-anchor=\"start\" x=\"10356.5\" y=\"-232.3\" font-family=\"Helvetica,sans-Serif\" font-size=\"14.00\" fill=\"#000000\">gini = 0.034</text>\n<text text-anchor=\"start\" x=\"10346.5\" y=\"-217.3\" font-family=\"Helvetica,sans-Serif\" font-size=\"14.00\" fill=\"#000000\">samples = 190</text>\n<text text-anchor=\"start\" x=\"10305.5\" y=\"-202.3\" font-family=\"Helvetica,sans-Serif\" font-size=\"14.00\" fill=\"#000000\">value = [0, 0, 0, 0, 0, 5, 286]</text>\n</g>\n<!-- 180&#45;&gt;182 -->\n<g id=\"edge182\" class=\"edge\">\n<title>180&#45;&gt;182</title>\n<path fill=\"none\" stroke=\"#000000\" d=\"M10321.2664,-288.8089C10333.0017,-277.9428 10346.1312,-265.7859 10357.9969,-254.7991\"/>\n<polygon fill=\"#000000\" stroke=\"#000000\" points=\"10360.6249,-257.1358 10365.5846,-247.7735 10355.869,-251.9995 10360.6249,-257.1358\"/>\n</g>\n<!-- 186 -->\n<g id=\"node187\" class=\"node\">\n<title>186</title>\n<path fill=\"#f5fefe\" stroke=\"#000000\" d=\"M11593.5,-753C11593.5,-753 11307.5,-753 11307.5,-753 11301.5,-753 11295.5,-747 11295.5,-741 11295.5,-741 11295.5,-701 11295.5,-701 11295.5,-695 11301.5,-689 11307.5,-689 11307.5,-689 11593.5,-689 11593.5,-689 11599.5,-689 11605.5,-695 11605.5,-701 11605.5,-701 11605.5,-741 11605.5,-741 11605.5,-747 11599.5,-753 11593.5,-753\"/>\n<text text-anchor=\"start\" x=\"11424\" y=\"-738.8\" font-family=\"Helvetica,sans-Serif\" font-size=\"14.00\" fill=\"#000000\">X</text>\n<text text-anchor=\"start\" x=\"11434\" y=\"-738.8\" font-family=\"Helvetica,sans-Serif\" baseline-shift=\"sub\" font-size=\"14.00\" fill=\"#000000\">1</text>\n<text text-anchor=\"start\" x=\"11441\" y=\"-738.8\" font-family=\"Helvetica,sans-Serif\" font-size=\"14.00\" fill=\"#000000\"> ≤ 3.5</text>\n<text text-anchor=\"start\" x=\"11412.5\" y=\"-724.8\" font-family=\"Helvetica,sans-Serif\" font-size=\"14.00\" fill=\"#000000\">gini = 0.809</text>\n<text text-anchor=\"start\" x=\"11398.5\" y=\"-710.8\" font-family=\"Helvetica,sans-Serif\" font-size=\"14.00\" fill=\"#000000\">samples = 4506</text>\n<text text-anchor=\"start\" x=\"11303.5\" y=\"-696.8\" font-family=\"Helvetica,sans-Serif\" font-size=\"14.00\" fill=\"#000000\">value = [21, 661, 1608, 1890, 1302, 838, 759]</text>\n</g>\n<!-- 185&#45;&gt;186 -->\n<g id=\"edge186\" class=\"edge\">\n<title>185&#45;&gt;186</title>\n<path fill=\"none\" stroke=\"#000000\" d=\"M11606.0981,-788.9467C11582.8841,-778.8096 11557.0714,-767.5377 11533.2497,-757.1352\"/>\n<polygon fill=\"#000000\" stroke=\"#000000\" points=\"11534.4442,-753.8377 11523.8791,-753.0433 11531.6428,-760.2528 11534.4442,-753.8377\"/>\n</g>\n<!-- 201 -->\n<g id=\"node202\" class=\"node\">\n<title>201</title>\n<path fill=\"#f3a6c8\" stroke=\"#000000\" d=\"M12066.5,-753C12066.5,-753 11830.5,-753 11830.5,-753 11824.5,-753 11818.5,-747 11818.5,-741 11818.5,-741 11818.5,-701 11818.5,-701 11818.5,-695 11824.5,-689 11830.5,-689 11830.5,-689 12066.5,-689 12066.5,-689 12072.5,-689 12078.5,-695 12078.5,-701 12078.5,-701 12078.5,-741 12078.5,-741 12078.5,-747 12072.5,-753 12066.5,-753\"/>\n<text text-anchor=\"start\" x=\"11922\" y=\"-738.8\" font-family=\"Helvetica,sans-Serif\" font-size=\"14.00\" fill=\"#000000\">X</text>\n<text text-anchor=\"start\" x=\"11932\" y=\"-738.8\" font-family=\"Helvetica,sans-Serif\" baseline-shift=\"sub\" font-size=\"14.00\" fill=\"#000000\">1</text>\n<text text-anchor=\"start\" x=\"11939\" y=\"-738.8\" font-family=\"Helvetica,sans-Serif\" font-size=\"14.00\" fill=\"#000000\"> ≤ 3.5</text>\n<text text-anchor=\"start\" x=\"11910.5\" y=\"-724.8\" font-family=\"Helvetica,sans-Serif\" font-size=\"14.00\" fill=\"#000000\">gini = 0.617</text>\n<text text-anchor=\"start\" x=\"11896.5\" y=\"-710.8\" font-family=\"Helvetica,sans-Serif\" font-size=\"14.00\" fill=\"#000000\">samples = 1591</text>\n<text text-anchor=\"start\" x=\"11826.5\" y=\"-696.8\" font-family=\"Helvetica,sans-Serif\" font-size=\"14.00\" fill=\"#000000\">value = [0, 2, 50, 181, 346, 502, 1390]</text>\n</g>\n<!-- 185&#45;&gt;201 -->\n<g id=\"edge201\" class=\"edge\">\n<title>185&#45;&gt;201</title>\n<path fill=\"none\" stroke=\"#000000\" d=\"M11765.7232,-788.9467C11793.4747,-778.6302 11824.3878,-767.1384 11852.7798,-756.5837\"/>\n<polygon fill=\"#000000\" stroke=\"#000000\" points=\"11854.1498,-759.8085 11862.3035,-753.0433 11851.7107,-753.2472 11854.1498,-759.8085\"/>\n</g>\n<!-- 187 -->\n<g id=\"node188\" class=\"node\">\n<title>187</title>\n<path fill=\"#f0fdfd\" stroke=\"#000000\" d=\"M11138,-653C11138,-653 10893,-653 10893,-653 10887,-653 10881,-647 10881,-641 10881,-641 10881,-601 10881,-601 10881,-595 10887,-589 10893,-589 10893,-589 11138,-589 11138,-589 11144,-589 11150,-595 11150,-601 11150,-601 11150,-641 11150,-641 11150,-647 11144,-653 11138,-653\"/>\n<text text-anchor=\"start\" x=\"10989\" y=\"-638.8\" font-family=\"Helvetica,sans-Serif\" font-size=\"14.00\" fill=\"#000000\">X</text>\n<text text-anchor=\"start\" x=\"10999\" y=\"-638.8\" font-family=\"Helvetica,sans-Serif\" baseline-shift=\"sub\" font-size=\"14.00\" fill=\"#000000\">0</text>\n<text text-anchor=\"start\" x=\"11006\" y=\"-638.8\" font-family=\"Helvetica,sans-Serif\" font-size=\"14.00\" fill=\"#000000\"> ≤ 9.5</text>\n<text text-anchor=\"start\" x=\"10982\" y=\"-624.8\" font-family=\"Helvetica,sans-Serif\" font-size=\"14.00\" fill=\"#000000\">gini = 0.78</text>\n<text text-anchor=\"start\" x=\"10967.5\" y=\"-610.8\" font-family=\"Helvetica,sans-Serif\" font-size=\"14.00\" fill=\"#000000\">samples = 833</text>\n<text text-anchor=\"start\" x=\"10889\" y=\"-596.8\" font-family=\"Helvetica,sans-Serif\" font-size=\"14.00\" fill=\"#000000\">value = [0, 35, 172, 411, 335, 199, 157]</text>\n</g>\n<!-- 186&#45;&gt;187 -->\n<g id=\"edge187\" class=\"edge\">\n<title>186&#45;&gt;187</title>\n<path fill=\"none\" stroke=\"#000000\" d=\"M11311.0684,-688.9467C11262.8266,-677.8567 11208.677,-665.4085 11160.0344,-654.2263\"/>\n<polygon fill=\"#000000\" stroke=\"#000000\" points=\"11160.5931,-650.7635 11150.0631,-651.934 11159.0247,-657.5856 11160.5931,-650.7635\"/>\n</g>\n<!-- 194 -->\n<g id=\"node195\" class=\"node\">\n<title>194</title>\n<path fill=\"#fdffff\" stroke=\"#000000\" d=\"M11589.5,-653C11589.5,-653 11311.5,-653 11311.5,-653 11305.5,-653 11299.5,-647 11299.5,-641 11299.5,-641 11299.5,-601 11299.5,-601 11299.5,-595 11305.5,-589 11311.5,-589 11311.5,-589 11589.5,-589 11589.5,-589 11595.5,-589 11601.5,-595 11601.5,-601 11601.5,-601 11601.5,-641 11601.5,-641 11601.5,-647 11595.5,-653 11589.5,-653\"/>\n<text text-anchor=\"start\" x=\"11424\" y=\"-638.8\" font-family=\"Helvetica,sans-Serif\" font-size=\"14.00\" fill=\"#000000\">X</text>\n<text text-anchor=\"start\" x=\"11434\" y=\"-638.8\" font-family=\"Helvetica,sans-Serif\" baseline-shift=\"sub\" font-size=\"14.00\" fill=\"#000000\">0</text>\n<text text-anchor=\"start\" x=\"11441\" y=\"-638.8\" font-family=\"Helvetica,sans-Serif\" font-size=\"14.00\" fill=\"#000000\"> ≤ 7.5</text>\n<text text-anchor=\"start\" x=\"11412.5\" y=\"-624.8\" font-family=\"Helvetica,sans-Serif\" font-size=\"14.00\" fill=\"#000000\">gini = 0.809</text>\n<text text-anchor=\"start\" x=\"11398.5\" y=\"-610.8\" font-family=\"Helvetica,sans-Serif\" font-size=\"14.00\" fill=\"#000000\">samples = 3673</text>\n<text text-anchor=\"start\" x=\"11307.5\" y=\"-596.8\" font-family=\"Helvetica,sans-Serif\" font-size=\"14.00\" fill=\"#000000\">value = [21, 626, 1436, 1479, 967, 639, 602]</text>\n</g>\n<!-- 186&#45;&gt;194 -->\n<g id=\"edge194\" class=\"edge\">\n<title>186&#45;&gt;194</title>\n<path fill=\"none\" stroke=\"#000000\" d=\"M11450.5,-688.8089C11450.5,-680.6906 11450.5,-671.8517 11450.5,-663.3186\"/>\n<polygon fill=\"#000000\" stroke=\"#000000\" points=\"11454.0001,-663.1307 11450.5,-653.1308 11447.0001,-663.1308 11454.0001,-663.1307\"/>\n</g>\n<!-- 188 -->\n<g id=\"node189\" class=\"node\">\n<title>188</title>\n<path fill=\"#ebeefc\" stroke=\"#000000\" d=\"M10850.5,-553C10850.5,-553 10638.5,-553 10638.5,-553 10632.5,-553 10626.5,-547 10626.5,-541 10626.5,-541 10626.5,-501 10626.5,-501 10626.5,-495 10632.5,-489 10638.5,-489 10638.5,-489 10850.5,-489 10850.5,-489 10856.5,-489 10862.5,-495 10862.5,-501 10862.5,-501 10862.5,-541 10862.5,-541 10862.5,-547 10856.5,-553 10850.5,-553\"/>\n<text text-anchor=\"start\" x=\"10718\" y=\"-538.8\" font-family=\"Helvetica,sans-Serif\" font-size=\"14.00\" fill=\"#000000\">X</text>\n<text text-anchor=\"start\" x=\"10728\" y=\"-538.8\" font-family=\"Helvetica,sans-Serif\" baseline-shift=\"sub\" font-size=\"14.00\" fill=\"#000000\">0</text>\n<text text-anchor=\"start\" x=\"10735\" y=\"-538.8\" font-family=\"Helvetica,sans-Serif\" font-size=\"14.00\" fill=\"#000000\"> ≤ 8.5</text>\n<text text-anchor=\"start\" x=\"10706.5\" y=\"-524.8\" font-family=\"Helvetica,sans-Serif\" font-size=\"14.00\" fill=\"#000000\">gini = 0.759</text>\n<text text-anchor=\"start\" x=\"10696.5\" y=\"-510.8\" font-family=\"Helvetica,sans-Serif\" font-size=\"14.00\" fill=\"#000000\">samples = 262</text>\n<text text-anchor=\"start\" x=\"10634.5\" y=\"-496.8\" font-family=\"Helvetica,sans-Serif\" font-size=\"14.00\" fill=\"#000000\">value = [0, 2, 23, 100, 130, 83, 57]</text>\n</g>\n<!-- 187&#45;&gt;188 -->\n<g id=\"edge188\" class=\"edge\">\n<title>187&#45;&gt;188</title>\n<path fill=\"none\" stroke=\"#000000\" d=\"M10928.6357,-588.9467C10900.6779,-578.6302 10869.535,-567.1384 10840.9319,-556.5837\"/>\n<polygon fill=\"#000000\" stroke=\"#000000\" points=\"10841.9307,-553.2216 10831.3373,-553.0433 10839.5073,-559.7888 10841.9307,-553.2216\"/>\n</g>\n<!-- 193 -->\n<g id=\"node194\" class=\"node\">\n<title>193</title>\n<path fill=\"#e1fbfb\" stroke=\"#000000\" d=\"M11138,-547.5C11138,-547.5 10893,-547.5 10893,-547.5 10887,-547.5 10881,-541.5 10881,-535.5 10881,-535.5 10881,-506.5 10881,-506.5 10881,-500.5 10887,-494.5 10893,-494.5 10893,-494.5 11138,-494.5 11138,-494.5 11144,-494.5 11150,-500.5 11150,-506.5 11150,-506.5 11150,-535.5 11150,-535.5 11150,-541.5 11144,-547.5 11138,-547.5\"/>\n<text text-anchor=\"start\" x=\"10977.5\" y=\"-532.3\" font-family=\"Helvetica,sans-Serif\" font-size=\"14.00\" fill=\"#000000\">gini = 0.778</text>\n<text text-anchor=\"start\" x=\"10967.5\" y=\"-517.3\" font-family=\"Helvetica,sans-Serif\" font-size=\"14.00\" fill=\"#000000\">samples = 571</text>\n<text text-anchor=\"start\" x=\"10889\" y=\"-502.3\" font-family=\"Helvetica,sans-Serif\" font-size=\"14.00\" fill=\"#000000\">value = [0, 33, 149, 311, 205, 116, 100]</text>\n</g>\n<!-- 187&#45;&gt;193 -->\n<g id=\"edge193\" class=\"edge\">\n<title>187&#45;&gt;193</title>\n<path fill=\"none\" stroke=\"#000000\" d=\"M11015.5,-588.8089C11015.5,-578.9777 11015.5,-568.0898 11015.5,-557.9679\"/>\n<polygon fill=\"#000000\" stroke=\"#000000\" points=\"11019.0001,-557.7735 11015.5,-547.7735 11012.0001,-557.7736 11019.0001,-557.7735\"/>\n</g>\n<!-- 189 -->\n<g id=\"node190\" class=\"node\">\n<title>189</title>\n<path fill=\"#eaedfc\" stroke=\"#000000\" d=\"M10850.5,-453C10850.5,-453 10638.5,-453 10638.5,-453 10632.5,-453 10626.5,-447 10626.5,-441 10626.5,-441 10626.5,-401 10626.5,-401 10626.5,-395 10632.5,-389 10638.5,-389 10638.5,-389 10850.5,-389 10850.5,-389 10856.5,-389 10862.5,-395 10862.5,-401 10862.5,-401 10862.5,-441 10862.5,-441 10862.5,-447 10856.5,-453 10850.5,-453\"/>\n<text text-anchor=\"start\" x=\"10718\" y=\"-438.8\" font-family=\"Helvetica,sans-Serif\" font-size=\"14.00\" fill=\"#000000\">X</text>\n<text text-anchor=\"start\" x=\"10728\" y=\"-438.8\" font-family=\"Helvetica,sans-Serif\" baseline-shift=\"sub\" font-size=\"14.00\" fill=\"#000000\">0</text>\n<text text-anchor=\"start\" x=\"10735\" y=\"-438.8\" font-family=\"Helvetica,sans-Serif\" font-size=\"14.00\" fill=\"#000000\"> ≤ 7.5</text>\n<text text-anchor=\"start\" x=\"10706.5\" y=\"-424.8\" font-family=\"Helvetica,sans-Serif\" font-size=\"14.00\" fill=\"#000000\">gini = 0.755</text>\n<text text-anchor=\"start\" x=\"10696.5\" y=\"-410.8\" font-family=\"Helvetica,sans-Serif\" font-size=\"14.00\" fill=\"#000000\">samples = 256</text>\n<text text-anchor=\"start\" x=\"10634.5\" y=\"-396.8\" font-family=\"Helvetica,sans-Serif\" font-size=\"14.00\" fill=\"#000000\">value = [0, 2, 23, 100, 130, 82, 49]</text>\n</g>\n<!-- 188&#45;&gt;189 -->\n<g id=\"edge189\" class=\"edge\">\n<title>188&#45;&gt;189</title>\n<path fill=\"none\" stroke=\"#000000\" d=\"M10744.5,-488.8089C10744.5,-480.6906 10744.5,-471.8517 10744.5,-463.3186\"/>\n<polygon fill=\"#000000\" stroke=\"#000000\" points=\"10748.0001,-463.1307 10744.5,-453.1308 10741.0001,-463.1308 10748.0001,-463.1307\"/>\n</g>\n<!-- 192 -->\n<g id=\"node193\" class=\"node\">\n<title>192</title>\n<path fill=\"#e85295\" stroke=\"#000000\" d=\"M11046.5,-447.5C11046.5,-447.5 10892.5,-447.5 10892.5,-447.5 10886.5,-447.5 10880.5,-441.5 10880.5,-435.5 10880.5,-435.5 10880.5,-406.5 10880.5,-406.5 10880.5,-400.5 10886.5,-394.5 10892.5,-394.5 10892.5,-394.5 11046.5,-394.5 11046.5,-394.5 11052.5,-394.5 11058.5,-400.5 11058.5,-406.5 11058.5,-406.5 11058.5,-435.5 11058.5,-435.5 11058.5,-441.5 11052.5,-447.5 11046.5,-447.5\"/>\n<text text-anchor=\"start\" x=\"10931.5\" y=\"-432.3\" font-family=\"Helvetica,sans-Serif\" font-size=\"14.00\" fill=\"#000000\">gini = 0.198</text>\n<text text-anchor=\"start\" x=\"10930\" y=\"-417.3\" font-family=\"Helvetica,sans-Serif\" font-size=\"14.00\" fill=\"#000000\">samples = 6</text>\n<text text-anchor=\"start\" x=\"10888.5\" y=\"-402.3\" font-family=\"Helvetica,sans-Serif\" font-size=\"14.00\" fill=\"#000000\">value = [0, 0, 0, 0, 0, 1, 8]</text>\n</g>\n<!-- 188&#45;&gt;192 -->\n<g id=\"edge192\" class=\"edge\">\n<title>188&#45;&gt;192</title>\n<path fill=\"none\" stroke=\"#000000\" d=\"M10816.6198,-488.9467C10843.5255,-476.9887 10873.9841,-463.4515 10900.5935,-451.6251\"/>\n<polygon fill=\"#000000\" stroke=\"#000000\" points=\"10902.1162,-454.7785 10909.8329,-447.5187 10899.2732,-448.3818 10902.1162,-454.7785\"/>\n</g>\n<!-- 190 -->\n<g id=\"node191\" class=\"node\">\n<title>190</title>\n<path fill=\"#e8ebfc\" stroke=\"#000000\" d=\"M10834,-347.5C10834,-347.5 10647,-347.5 10647,-347.5 10641,-347.5 10635,-341.5 10635,-335.5 10635,-335.5 10635,-306.5 10635,-306.5 10635,-300.5 10641,-294.5 10647,-294.5 10647,-294.5 10834,-294.5 10834,-294.5 10840,-294.5 10846,-300.5 10846,-306.5 10846,-306.5 10846,-335.5 10846,-335.5 10846,-341.5 10840,-347.5 10834,-347.5\"/>\n<text text-anchor=\"start\" x=\"10702.5\" y=\"-332.3\" font-family=\"Helvetica,sans-Serif\" font-size=\"14.00\" fill=\"#000000\">gini = 0.752</text>\n<text text-anchor=\"start\" x=\"10692.5\" y=\"-317.3\" font-family=\"Helvetica,sans-Serif\" font-size=\"14.00\" fill=\"#000000\">samples = 144</text>\n<text text-anchor=\"start\" x=\"10643\" y=\"-302.3\" font-family=\"Helvetica,sans-Serif\" font-size=\"14.00\" fill=\"#000000\">value = [0, 0, 6, 52, 71, 43, 43]</text>\n</g>\n<!-- 189&#45;&gt;190 -->\n<g id=\"edge190\" class=\"edge\">\n<title>189&#45;&gt;190</title>\n<path fill=\"none\" stroke=\"#000000\" d=\"M10743.2124,-388.8089C10742.8191,-378.9777 10742.3836,-368.0898 10741.9787,-357.9679\"/>\n<polygon fill=\"#000000\" stroke=\"#000000\" points=\"10745.4679,-357.6256 10741.5709,-347.7735 10738.4735,-357.9055 10745.4679,-357.6256\"/>\n</g>\n<!-- 191 -->\n<g id=\"node192\" class=\"node\">\n<title>191</title>\n<path fill=\"#edf0fd\" stroke=\"#000000\" d=\"M11063,-347.5C11063,-347.5 10876,-347.5 10876,-347.5 10870,-347.5 10864,-341.5 10864,-335.5 10864,-335.5 10864,-306.5 10864,-306.5 10864,-300.5 10870,-294.5 10876,-294.5 10876,-294.5 11063,-294.5 11063,-294.5 11069,-294.5 11075,-300.5 11075,-306.5 11075,-306.5 11075,-335.5 11075,-335.5 11075,-341.5 11069,-347.5 11063,-347.5\"/>\n<text text-anchor=\"start\" x=\"10931.5\" y=\"-332.3\" font-family=\"Helvetica,sans-Serif\" font-size=\"14.00\" fill=\"#000000\">gini = 0.739</text>\n<text text-anchor=\"start\" x=\"10921.5\" y=\"-317.3\" font-family=\"Helvetica,sans-Serif\" font-size=\"14.00\" fill=\"#000000\">samples = 112</text>\n<text text-anchor=\"start\" x=\"10872\" y=\"-302.3\" font-family=\"Helvetica,sans-Serif\" font-size=\"14.00\" fill=\"#000000\">value = [0, 2, 17, 48, 59, 39, 6]</text>\n</g>\n<!-- 189&#45;&gt;191 -->\n<g id=\"edge191\" class=\"edge\">\n<title>189&#45;&gt;191</title>\n<path fill=\"none\" stroke=\"#000000\" d=\"M10816.6198,-388.9467C10843.5255,-376.9887 10873.9841,-363.4515 10900.5935,-351.6251\"/>\n<polygon fill=\"#000000\" stroke=\"#000000\" points=\"10902.1162,-354.7785 10909.8329,-347.5187 10899.2732,-348.3818 10902.1162,-354.7785\"/>\n</g>\n<!-- 195 -->\n<g id=\"node196\" class=\"node\">\n<title>195</title>\n<path fill=\"#d9faf9\" stroke=\"#000000\" d=\"M11400.5,-547.5C11400.5,-547.5 11180.5,-547.5 11180.5,-547.5 11174.5,-547.5 11168.5,-541.5 11168.5,-535.5 11168.5,-535.5 11168.5,-506.5 11168.5,-506.5 11168.5,-500.5 11174.5,-494.5 11180.5,-494.5 11180.5,-494.5 11400.5,-494.5 11400.5,-494.5 11406.5,-494.5 11412.5,-500.5 11412.5,-506.5 11412.5,-506.5 11412.5,-535.5 11412.5,-535.5 11412.5,-541.5 11406.5,-547.5 11400.5,-547.5\"/>\n<text text-anchor=\"start\" x=\"11252.5\" y=\"-532.3\" font-family=\"Helvetica,sans-Serif\" font-size=\"14.00\" fill=\"#000000\">gini = 0.774</text>\n<text text-anchor=\"start\" x=\"11242.5\" y=\"-517.3\" font-family=\"Helvetica,sans-Serif\" font-size=\"14.00\" fill=\"#000000\">samples = 351</text>\n<text text-anchor=\"start\" x=\"11176.5\" y=\"-502.3\" font-family=\"Helvetica,sans-Serif\" font-size=\"14.00\" fill=\"#000000\">value = [0, 45, 118, 201, 86, 63, 41]</text>\n</g>\n<!-- 194&#45;&gt;195 -->\n<g id=\"edge195\" class=\"edge\">\n<title>194&#45;&gt;195</title>\n<path fill=\"none\" stroke=\"#000000\" d=\"M11398.9943,-588.8089C11380.7021,-577.3763 11360.1237,-564.5148 11341.845,-553.0906\"/>\n<polygon fill=\"#000000\" stroke=\"#000000\" points=\"11343.4117,-549.9424 11333.0767,-547.6104 11339.7016,-555.8784 11343.4117,-549.9424\"/>\n</g>\n<!-- 196 -->\n<g id=\"node197\" class=\"node\">\n<title>196</title>\n<path fill=\"#fdfffd\" stroke=\"#000000\" d=\"M11720.5,-553C11720.5,-553 11442.5,-553 11442.5,-553 11436.5,-553 11430.5,-547 11430.5,-541 11430.5,-541 11430.5,-501 11430.5,-501 11430.5,-495 11436.5,-489 11442.5,-489 11442.5,-489 11720.5,-489 11720.5,-489 11726.5,-489 11732.5,-495 11732.5,-501 11732.5,-501 11732.5,-541 11732.5,-541 11732.5,-547 11726.5,-553 11720.5,-553\"/>\n<text text-anchor=\"start\" x=\"11555\" y=\"-538.8\" font-family=\"Helvetica,sans-Serif\" font-size=\"14.00\" fill=\"#000000\">X</text>\n<text text-anchor=\"start\" x=\"11565\" y=\"-538.8\" font-family=\"Helvetica,sans-Serif\" baseline-shift=\"sub\" font-size=\"14.00\" fill=\"#000000\">0</text>\n<text text-anchor=\"start\" x=\"11572\" y=\"-538.8\" font-family=\"Helvetica,sans-Serif\" font-size=\"14.00\" fill=\"#000000\"> ≤ 9.5</text>\n<text text-anchor=\"start\" x=\"11543.5\" y=\"-524.8\" font-family=\"Helvetica,sans-Serif\" font-size=\"14.00\" fill=\"#000000\">gini = 0.811</text>\n<text text-anchor=\"start\" x=\"11529.5\" y=\"-510.8\" font-family=\"Helvetica,sans-Serif\" font-size=\"14.00\" fill=\"#000000\">samples = 3322</text>\n<text text-anchor=\"start\" x=\"11438.5\" y=\"-496.8\" font-family=\"Helvetica,sans-Serif\" font-size=\"14.00\" fill=\"#000000\">value = [21, 581, 1318, 1278, 881, 576, 561]</text>\n</g>\n<!-- 194&#45;&gt;196 -->\n<g id=\"edge196\" class=\"edge\">\n<title>194&#45;&gt;196</title>\n<path fill=\"none\" stroke=\"#000000\" d=\"M11492.6703,-588.8089C11504.9415,-579.4416 11518.4693,-569.115 11531.1885,-559.4057\"/>\n<polygon fill=\"#000000\" stroke=\"#000000\" points=\"11533.5837,-561.9806 11539.4087,-553.1308 11529.3362,-556.4165 11533.5837,-561.9806\"/>\n</g>\n<!-- 197 -->\n<g id=\"node198\" class=\"node\">\n<title>197</title>\n<path fill=\"#fafefe\" stroke=\"#000000\" d=\"M11363.5,-453C11363.5,-453 11143.5,-453 11143.5,-453 11137.5,-453 11131.5,-447 11131.5,-441 11131.5,-441 11131.5,-401 11131.5,-401 11131.5,-395 11137.5,-389 11143.5,-389 11143.5,-389 11363.5,-389 11363.5,-389 11369.5,-389 11375.5,-395 11375.5,-401 11375.5,-401 11375.5,-441 11375.5,-441 11375.5,-447 11369.5,-453 11363.5,-453\"/>\n<text text-anchor=\"start\" x=\"11227\" y=\"-438.8\" font-family=\"Helvetica,sans-Serif\" font-size=\"14.00\" fill=\"#000000\">X</text>\n<text text-anchor=\"start\" x=\"11237\" y=\"-438.8\" font-family=\"Helvetica,sans-Serif\" baseline-shift=\"sub\" font-size=\"14.00\" fill=\"#000000\">0</text>\n<text text-anchor=\"start\" x=\"11244\" y=\"-438.8\" font-family=\"Helvetica,sans-Serif\" font-size=\"14.00\" fill=\"#000000\"> ≤ 8.5</text>\n<text text-anchor=\"start\" x=\"11215.5\" y=\"-424.8\" font-family=\"Helvetica,sans-Serif\" font-size=\"14.00\" fill=\"#000000\">gini = 0.808</text>\n<text text-anchor=\"start\" x=\"11205.5\" y=\"-410.8\" font-family=\"Helvetica,sans-Serif\" font-size=\"14.00\" fill=\"#000000\">samples = 371</text>\n<text text-anchor=\"start\" x=\"11139.5\" y=\"-396.8\" font-family=\"Helvetica,sans-Serif\" font-size=\"14.00\" fill=\"#000000\">value = [0, 33, 134, 144, 90, 81, 87]</text>\n</g>\n<!-- 196&#45;&gt;197 -->\n<g id=\"edge197\" class=\"edge\">\n<title>196&#45;&gt;197</title>\n<path fill=\"none\" stroke=\"#000000\" d=\"M11476.3653,-488.9467C11441.9386,-478.4508 11403.5217,-466.7383 11368.4112,-456.0339\"/>\n<polygon fill=\"#000000\" stroke=\"#000000\" points=\"11369.1881,-452.6118 11358.602,-453.0433 11367.1466,-459.3075 11369.1881,-452.6118\"/>\n</g>\n<!-- 200 -->\n<g id=\"node201\" class=\"node\">\n<title>200</title>\n<path fill=\"#fcfffc\" stroke=\"#000000\" d=\"M11683.5,-447.5C11683.5,-447.5 11405.5,-447.5 11405.5,-447.5 11399.5,-447.5 11393.5,-441.5 11393.5,-435.5 11393.5,-435.5 11393.5,-406.5 11393.5,-406.5 11393.5,-400.5 11399.5,-394.5 11405.5,-394.5 11405.5,-394.5 11683.5,-394.5 11683.5,-394.5 11689.5,-394.5 11695.5,-400.5 11695.5,-406.5 11695.5,-406.5 11695.5,-435.5 11695.5,-435.5 11695.5,-441.5 11689.5,-447.5 11683.5,-447.5\"/>\n<text text-anchor=\"start\" x=\"11506.5\" y=\"-432.3\" font-family=\"Helvetica,sans-Serif\" font-size=\"14.00\" fill=\"#000000\">gini = 0.811</text>\n<text text-anchor=\"start\" x=\"11492.5\" y=\"-417.3\" font-family=\"Helvetica,sans-Serif\" font-size=\"14.00\" fill=\"#000000\">samples = 2951</text>\n<text text-anchor=\"start\" x=\"11401.5\" y=\"-402.3\" font-family=\"Helvetica,sans-Serif\" font-size=\"14.00\" fill=\"#000000\">value = [21, 548, 1184, 1134, 791, 495, 474]</text>\n</g>\n<!-- 196&#45;&gt;200 -->\n<g id=\"edge200\" class=\"edge\">\n<title>196&#45;&gt;200</title>\n<path fill=\"none\" stroke=\"#000000\" d=\"M11569.5893,-488.8089C11565.8752,-478.7707 11561.7534,-467.6309 11557.942,-457.3297\"/>\n<polygon fill=\"#000000\" stroke=\"#000000\" points=\"11561.1589,-455.9376 11554.4062,-447.7735 11554.5938,-458.3667 11561.1589,-455.9376\"/>\n</g>\n<!-- 198 -->\n<g id=\"node199\" class=\"node\">\n<title>198</title>\n<path fill=\"#fdffff\" stroke=\"#000000\" d=\"M11344.5,-347.5C11344.5,-347.5 11124.5,-347.5 11124.5,-347.5 11118.5,-347.5 11112.5,-341.5 11112.5,-335.5 11112.5,-335.5 11112.5,-306.5 11112.5,-306.5 11112.5,-300.5 11118.5,-294.5 11124.5,-294.5 11124.5,-294.5 11344.5,-294.5 11344.5,-294.5 11350.5,-294.5 11356.5,-300.5 11356.5,-306.5 11356.5,-306.5 11356.5,-335.5 11356.5,-335.5 11356.5,-341.5 11350.5,-347.5 11344.5,-347.5\"/>\n<text text-anchor=\"start\" x=\"11196.5\" y=\"-332.3\" font-family=\"Helvetica,sans-Serif\" font-size=\"14.00\" fill=\"#000000\">gini = 0.788</text>\n<text text-anchor=\"start\" x=\"11186.5\" y=\"-317.3\" font-family=\"Helvetica,sans-Serif\" font-size=\"14.00\" fill=\"#000000\">samples = 318</text>\n<text text-anchor=\"start\" x=\"11120.5\" y=\"-302.3\" font-family=\"Helvetica,sans-Serif\" font-size=\"14.00\" fill=\"#000000\">value = [0, 33, 134, 137, 82, 63, 36]</text>\n</g>\n<!-- 197&#45;&gt;198 -->\n<g id=\"edge198\" class=\"edge\">\n<title>197&#45;&gt;198</title>\n<path fill=\"none\" stroke=\"#000000\" d=\"M11247.3837,-388.8089C11245.4961,-378.8742 11243.4035,-367.8605 11241.4632,-357.6485\"/>\n<polygon fill=\"#000000\" stroke=\"#000000\" points=\"11244.8921,-356.9444 11239.587,-347.7735 11238.0152,-358.2511 11244.8921,-356.9444\"/>\n</g>\n<!-- 199 -->\n<g id=\"node200\" class=\"node\">\n<title>199</title>\n<path fill=\"#f29cc2\" stroke=\"#000000\" d=\"M11556.5,-347.5C11556.5,-347.5 11386.5,-347.5 11386.5,-347.5 11380.5,-347.5 11374.5,-341.5 11374.5,-335.5 11374.5,-335.5 11374.5,-306.5 11374.5,-306.5 11374.5,-300.5 11380.5,-294.5 11386.5,-294.5 11386.5,-294.5 11556.5,-294.5 11556.5,-294.5 11562.5,-294.5 11568.5,-300.5 11568.5,-306.5 11568.5,-306.5 11568.5,-335.5 11568.5,-335.5 11568.5,-341.5 11562.5,-347.5 11556.5,-347.5\"/>\n<text text-anchor=\"start\" x=\"11433.5\" y=\"-332.3\" font-family=\"Helvetica,sans-Serif\" font-size=\"14.00\" fill=\"#000000\">gini = 0.569</text>\n<text text-anchor=\"start\" x=\"11427.5\" y=\"-317.3\" font-family=\"Helvetica,sans-Serif\" font-size=\"14.00\" fill=\"#000000\">samples = 53</text>\n<text text-anchor=\"start\" x=\"11382.5\" y=\"-302.3\" font-family=\"Helvetica,sans-Serif\" font-size=\"14.00\" fill=\"#000000\">value = [0, 0, 0, 7, 8, 18, 51]</text>\n</g>\n<!-- 197&#45;&gt;199 -->\n<g id=\"edge199\" class=\"edge\">\n<title>197&#45;&gt;199</title>\n<path fill=\"none\" stroke=\"#000000\" d=\"M11323.3761,-388.9467C11349.3309,-377.0409 11378.698,-363.5697 11404.3993,-351.7802\"/>\n<polygon fill=\"#000000\" stroke=\"#000000\" points=\"11406.0592,-354.8695 11413.6892,-347.5187 11403.1405,-348.5069 11406.0592,-354.8695\"/>\n</g>\n<!-- 202 -->\n<g id=\"node203\" class=\"node\">\n<title>202</title>\n<path fill=\"#f9cfe2\" stroke=\"#000000\" d=\"M12042,-653C12042,-653 11855,-653 11855,-653 11849,-653 11843,-647 11843,-641 11843,-641 11843,-601 11843,-601 11843,-595 11849,-589 11855,-589 11855,-589 12042,-589 12042,-589 12048,-589 12054,-595 12054,-601 12054,-601 12054,-641 12054,-641 12054,-647 12048,-653 12042,-653\"/>\n<text text-anchor=\"start\" x=\"11918\" y=\"-638.8\" font-family=\"Helvetica,sans-Serif\" font-size=\"14.00\" fill=\"#000000\">X</text>\n<text text-anchor=\"start\" x=\"11928\" y=\"-638.8\" font-family=\"Helvetica,sans-Serif\" baseline-shift=\"sub\" font-size=\"14.00\" fill=\"#000000\">0</text>\n<text text-anchor=\"start\" x=\"11935\" y=\"-638.8\" font-family=\"Helvetica,sans-Serif\" font-size=\"14.00\" fill=\"#000000\"> ≤ 13.5</text>\n<text text-anchor=\"start\" x=\"11910.5\" y=\"-624.8\" font-family=\"Helvetica,sans-Serif\" font-size=\"14.00\" fill=\"#000000\">gini = 0.725</text>\n<text text-anchor=\"start\" x=\"11900.5\" y=\"-610.8\" font-family=\"Helvetica,sans-Serif\" font-size=\"14.00\" fill=\"#000000\">samples = 155</text>\n<text text-anchor=\"start\" x=\"11851\" y=\"-596.8\" font-family=\"Helvetica,sans-Serif\" font-size=\"14.00\" fill=\"#000000\">value = [0, 0, 7, 32, 50, 49, 94]</text>\n</g>\n<!-- 201&#45;&gt;202 -->\n<g id=\"edge202\" class=\"edge\">\n<title>201&#45;&gt;202</title>\n<path fill=\"none\" stroke=\"#000000\" d=\"M11948.5,-688.8089C11948.5,-680.6906 11948.5,-671.8517 11948.5,-663.3186\"/>\n<polygon fill=\"#000000\" stroke=\"#000000\" points=\"11952.0001,-663.1307 11948.5,-653.1308 11945.0001,-663.1308 11952.0001,-663.1307\"/>\n</g>\n<!-- 207 -->\n<g id=\"node208\" class=\"node\">\n<title>207</title>\n<path fill=\"#f3a2c6\" stroke=\"#000000\" d=\"M12412.5,-653C12412.5,-653 12176.5,-653 12176.5,-653 12170.5,-653 12164.5,-647 12164.5,-641 12164.5,-641 12164.5,-601 12164.5,-601 12164.5,-595 12170.5,-589 12176.5,-589 12176.5,-589 12412.5,-589 12412.5,-589 12418.5,-589 12424.5,-595 12424.5,-601 12424.5,-601 12424.5,-641 12424.5,-641 12424.5,-647 12418.5,-653 12412.5,-653\"/>\n<text text-anchor=\"start\" x=\"12264\" y=\"-638.8\" font-family=\"Helvetica,sans-Serif\" font-size=\"14.00\" fill=\"#000000\">X</text>\n<text text-anchor=\"start\" x=\"12274\" y=\"-638.8\" font-family=\"Helvetica,sans-Serif\" baseline-shift=\"sub\" font-size=\"14.00\" fill=\"#000000\">0</text>\n<text text-anchor=\"start\" x=\"12281\" y=\"-638.8\" font-family=\"Helvetica,sans-Serif\" font-size=\"14.00\" fill=\"#000000\"> ≤ 14.5</text>\n<text text-anchor=\"start\" x=\"12256.5\" y=\"-624.8\" font-family=\"Helvetica,sans-Serif\" font-size=\"14.00\" fill=\"#000000\">gini = 0.602</text>\n<text text-anchor=\"start\" x=\"12242.5\" y=\"-610.8\" font-family=\"Helvetica,sans-Serif\" font-size=\"14.00\" fill=\"#000000\">samples = 1436</text>\n<text text-anchor=\"start\" x=\"12172.5\" y=\"-596.8\" font-family=\"Helvetica,sans-Serif\" font-size=\"14.00\" fill=\"#000000\">value = [0, 2, 43, 149, 296, 453, 1296]</text>\n</g>\n<!-- 201&#45;&gt;207 -->\n<g id=\"edge207\" class=\"edge\">\n<title>201&#45;&gt;207</title>\n<path fill=\"none\" stroke=\"#000000\" d=\"M12059.4042,-688.9467C12095.8754,-678.4059 12136.5919,-666.6382 12173.7573,-655.8967\"/>\n<polygon fill=\"#000000\" stroke=\"#000000\" points=\"12174.9952,-659.1823 12183.6302,-653.0433 12173.0516,-652.4575 12174.9952,-659.1823\"/>\n</g>\n<!-- 203 -->\n<g id=\"node204\" class=\"node\">\n<title>203</title>\n<path fill=\"#fefeff\" stroke=\"#000000\" d=\"M11950,-553C11950,-553 11763,-553 11763,-553 11757,-553 11751,-547 11751,-541 11751,-541 11751,-501 11751,-501 11751,-495 11757,-489 11763,-489 11763,-489 11950,-489 11950,-489 11956,-489 11962,-495 11962,-501 11962,-501 11962,-541 11962,-541 11962,-547 11956,-553 11950,-553\"/>\n<text text-anchor=\"start\" x=\"11826\" y=\"-538.8\" font-family=\"Helvetica,sans-Serif\" font-size=\"14.00\" fill=\"#000000\">X</text>\n<text text-anchor=\"start\" x=\"11836\" y=\"-538.8\" font-family=\"Helvetica,sans-Serif\" baseline-shift=\"sub\" font-size=\"14.00\" fill=\"#000000\">0</text>\n<text text-anchor=\"start\" x=\"11843\" y=\"-538.8\" font-family=\"Helvetica,sans-Serif\" font-size=\"14.00\" fill=\"#000000\"> ≤ 11.5</text>\n<text text-anchor=\"start\" x=\"11818.5\" y=\"-524.8\" font-family=\"Helvetica,sans-Serif\" font-size=\"14.00\" fill=\"#000000\">gini = 0.761</text>\n<text text-anchor=\"start\" x=\"11808.5\" y=\"-510.8\" font-family=\"Helvetica,sans-Serif\" font-size=\"14.00\" fill=\"#000000\">samples = 123</text>\n<text text-anchor=\"start\" x=\"11759\" y=\"-496.8\" font-family=\"Helvetica,sans-Serif\" font-size=\"14.00\" fill=\"#000000\">value = [0, 0, 7, 32, 50, 49, 44]</text>\n</g>\n<!-- 202&#45;&gt;203 -->\n<g id=\"edge203\" class=\"edge\">\n<title>202&#45;&gt;203</title>\n<path fill=\"none\" stroke=\"#000000\" d=\"M11918.8842,-588.8089C11910.5946,-579.7985 11901.4884,-569.9004 11892.8565,-560.518\"/>\n<polygon fill=\"#000000\" stroke=\"#000000\" points=\"11895.4067,-558.1204 11886.0603,-553.1308 11890.2551,-562.8598 11895.4067,-558.1204\"/>\n</g>\n<!-- 206 -->\n<g id=\"node207\" class=\"node\">\n<title>206</title>\n<path fill=\"#e53986\" stroke=\"#000000\" d=\"M12154.5,-547.5C12154.5,-547.5 11992.5,-547.5 11992.5,-547.5 11986.5,-547.5 11980.5,-541.5 11980.5,-535.5 11980.5,-535.5 11980.5,-506.5 11980.5,-506.5 11980.5,-500.5 11986.5,-494.5 11992.5,-494.5 11992.5,-494.5 12154.5,-494.5 12154.5,-494.5 12160.5,-494.5 12166.5,-500.5 12166.5,-506.5 12166.5,-506.5 12166.5,-535.5 12166.5,-535.5 12166.5,-541.5 12160.5,-547.5 12154.5,-547.5\"/>\n<text text-anchor=\"start\" x=\"12044\" y=\"-532.3\" font-family=\"Helvetica,sans-Serif\" font-size=\"14.00\" fill=\"#000000\">gini = 0.0</text>\n<text text-anchor=\"start\" x=\"12029.5\" y=\"-517.3\" font-family=\"Helvetica,sans-Serif\" font-size=\"14.00\" fill=\"#000000\">samples = 32</text>\n<text text-anchor=\"start\" x=\"11988.5\" y=\"-502.3\" font-family=\"Helvetica,sans-Serif\" font-size=\"14.00\" fill=\"#000000\">value = [0, 0, 0, 0, 0, 0, 50]</text>\n</g>\n<!-- 202&#45;&gt;206 -->\n<g id=\"edge206\" class=\"edge\">\n<title>202&#45;&gt;206</title>\n<path fill=\"none\" stroke=\"#000000\" d=\"M11988.7388,-588.8089C12002.5802,-577.7359 12018.0971,-565.3223 12032.0342,-554.1726\"/>\n<polygon fill=\"#000000\" stroke=\"#000000\" points=\"12034.4108,-556.7536 12040.0331,-547.7735 12030.0379,-551.2875 12034.4108,-556.7536\"/>\n</g>\n<!-- 204 -->\n<g id=\"node205\" class=\"node\">\n<title>204</title>\n<path fill=\"#f2f4fd\" stroke=\"#000000\" d=\"M11913,-447.5C11913,-447.5 11726,-447.5 11726,-447.5 11720,-447.5 11714,-441.5 11714,-435.5 11714,-435.5 11714,-406.5 11714,-406.5 11714,-400.5 11720,-394.5 11726,-394.5 11726,-394.5 11913,-394.5 11913,-394.5 11919,-394.5 11925,-400.5 11925,-406.5 11925,-406.5 11925,-435.5 11925,-435.5 11925,-441.5 11919,-447.5 11913,-447.5\"/>\n<text text-anchor=\"start\" x=\"11781.5\" y=\"-432.3\" font-family=\"Helvetica,sans-Serif\" font-size=\"14.00\" fill=\"#000000\">gini = 0.761</text>\n<text text-anchor=\"start\" x=\"11771.5\" y=\"-417.3\" font-family=\"Helvetica,sans-Serif\" font-size=\"14.00\" fill=\"#000000\">samples = 115</text>\n<text text-anchor=\"start\" x=\"11722\" y=\"-402.3\" font-family=\"Helvetica,sans-Serif\" font-size=\"14.00\" fill=\"#000000\">value = [0, 0, 7, 30, 50, 42, 37]</text>\n</g>\n<!-- 203&#45;&gt;204 -->\n<g id=\"edge204\" class=\"edge\">\n<title>203&#45;&gt;204</title>\n<path fill=\"none\" stroke=\"#000000\" d=\"M11844.5893,-488.8089C11840.8752,-478.7707 11836.7534,-467.6309 11832.942,-457.3297\"/>\n<polygon fill=\"#000000\" stroke=\"#000000\" points=\"11836.1589,-455.9376 11829.4062,-447.7735 11829.5938,-458.3667 11836.1589,-455.9376\"/>\n</g>\n<!-- 205 -->\n<g id=\"node206\" class=\"node\">\n<title>205</title>\n<path fill=\"#ffffff\" stroke=\"#000000\" d=\"M12109.5,-447.5C12109.5,-447.5 11955.5,-447.5 11955.5,-447.5 11949.5,-447.5 11943.5,-441.5 11943.5,-435.5 11943.5,-435.5 11943.5,-406.5 11943.5,-406.5 11943.5,-400.5 11949.5,-394.5 11955.5,-394.5 11955.5,-394.5 12109.5,-394.5 12109.5,-394.5 12115.5,-394.5 12121.5,-400.5 12121.5,-406.5 12121.5,-406.5 12121.5,-435.5 12121.5,-435.5 12121.5,-441.5 12115.5,-447.5 12109.5,-447.5\"/>\n<text text-anchor=\"start\" x=\"11994.5\" y=\"-432.3\" font-family=\"Helvetica,sans-Serif\" font-size=\"14.00\" fill=\"#000000\">gini = 0.602</text>\n<text text-anchor=\"start\" x=\"11993\" y=\"-417.3\" font-family=\"Helvetica,sans-Serif\" font-size=\"14.00\" fill=\"#000000\">samples = 8</text>\n<text text-anchor=\"start\" x=\"11951.5\" y=\"-402.3\" font-family=\"Helvetica,sans-Serif\" font-size=\"14.00\" fill=\"#000000\">value = [0, 0, 0, 2, 0, 7, 7]</text>\n</g>\n<!-- 203&#45;&gt;205 -->\n<g id=\"edge205\" class=\"edge\">\n<title>203&#45;&gt;205</title>\n<path fill=\"none\" stroke=\"#000000\" d=\"M11913.1563,-488.8089C11933.552,-477.2204 11956.5317,-464.1638 11976.8416,-452.6241\"/>\n<polygon fill=\"#000000\" stroke=\"#000000\" points=\"11978.7001,-455.5937 11985.6657,-447.6104 11975.242,-449.5075 11978.7001,-455.5937\"/>\n</g>\n<!-- 208 -->\n<g id=\"node209\" class=\"node\">\n<title>208</title>\n<path fill=\"#ea5e9d\" stroke=\"#000000\" d=\"M12392,-553C12392,-553 12197,-553 12197,-553 12191,-553 12185,-547 12185,-541 12185,-541 12185,-501 12185,-501 12185,-495 12191,-489 12197,-489 12197,-489 12392,-489 12392,-489 12398,-489 12404,-495 12404,-501 12404,-501 12404,-541 12404,-541 12404,-547 12398,-553 12392,-553\"/>\n<text text-anchor=\"start\" x=\"12264\" y=\"-538.8\" font-family=\"Helvetica,sans-Serif\" font-size=\"14.00\" fill=\"#000000\">X</text>\n<text text-anchor=\"start\" x=\"12274\" y=\"-538.8\" font-family=\"Helvetica,sans-Serif\" baseline-shift=\"sub\" font-size=\"14.00\" fill=\"#000000\">0</text>\n<text text-anchor=\"start\" x=\"12281\" y=\"-538.8\" font-family=\"Helvetica,sans-Serif\" font-size=\"14.00\" fill=\"#000000\"> ≤ 12.5</text>\n<text text-anchor=\"start\" x=\"12256.5\" y=\"-524.8\" font-family=\"Helvetica,sans-Serif\" font-size=\"14.00\" fill=\"#000000\">gini = 0.284</text>\n<text text-anchor=\"start\" x=\"12246.5\" y=\"-510.8\" font-family=\"Helvetica,sans-Serif\" font-size=\"14.00\" fill=\"#000000\">samples = 632</text>\n<text text-anchor=\"start\" x=\"12193\" y=\"-496.8\" font-family=\"Helvetica,sans-Serif\" font-size=\"14.00\" fill=\"#000000\">value = [0, 0, 0, 3, 33, 128, 834]</text>\n</g>\n<!-- 207&#45;&gt;208 -->\n<g id=\"edge208\" class=\"edge\">\n<title>207&#45;&gt;208</title>\n<path fill=\"none\" stroke=\"#000000\" d=\"M12294.5,-588.8089C12294.5,-580.6906 12294.5,-571.8517 12294.5,-563.3186\"/>\n<polygon fill=\"#000000\" stroke=\"#000000\" points=\"12298.0001,-563.1307 12294.5,-553.1308 12291.0001,-563.1308 12298.0001,-563.1307\"/>\n</g>\n<!-- 215 -->\n<g id=\"node216\" class=\"node\">\n<title>215</title>\n<path fill=\"#fbe1ed\" stroke=\"#000000\" d=\"M12662.5,-553C12662.5,-553 12434.5,-553 12434.5,-553 12428.5,-553 12422.5,-547 12422.5,-541 12422.5,-541 12422.5,-501 12422.5,-501 12422.5,-495 12428.5,-489 12434.5,-489 12434.5,-489 12662.5,-489 12662.5,-489 12668.5,-489 12674.5,-495 12674.5,-501 12674.5,-501 12674.5,-541 12674.5,-541 12674.5,-547 12668.5,-553 12662.5,-553\"/>\n<text text-anchor=\"start\" x=\"12518\" y=\"-538.8\" font-family=\"Helvetica,sans-Serif\" font-size=\"14.00\" fill=\"#000000\">X</text>\n<text text-anchor=\"start\" x=\"12528\" y=\"-538.8\" font-family=\"Helvetica,sans-Serif\" baseline-shift=\"sub\" font-size=\"14.00\" fill=\"#000000\">0</text>\n<text text-anchor=\"start\" x=\"12535\" y=\"-538.8\" font-family=\"Helvetica,sans-Serif\" font-size=\"14.00\" fill=\"#000000\"> ≤ 15.5</text>\n<text text-anchor=\"start\" x=\"12510.5\" y=\"-524.8\" font-family=\"Helvetica,sans-Serif\" font-size=\"14.00\" fill=\"#000000\">gini = 0.733</text>\n<text text-anchor=\"start\" x=\"12500.5\" y=\"-510.8\" font-family=\"Helvetica,sans-Serif\" font-size=\"14.00\" fill=\"#000000\">samples = 804</text>\n<text text-anchor=\"start\" x=\"12430.5\" y=\"-496.8\" font-family=\"Helvetica,sans-Serif\" font-size=\"14.00\" fill=\"#000000\">value = [0, 2, 43, 146, 263, 325, 462]</text>\n</g>\n<!-- 207&#45;&gt;215 -->\n<g id=\"edge215\" class=\"edge\">\n<title>207&#45;&gt;215</title>\n<path fill=\"none\" stroke=\"#000000\" d=\"M12375.9153,-588.9467C12402.0053,-578.6751 12431.0547,-567.2383 12457.7675,-556.7214\"/>\n<polygon fill=\"#000000\" stroke=\"#000000\" points=\"12459.0874,-559.9634 12467.11,-553.0433 12456.523,-553.45 12459.0874,-559.9634\"/>\n</g>\n<!-- 209 -->\n<g id=\"node210\" class=\"node\">\n<title>209</title>\n<path fill=\"#e85396\" stroke=\"#000000\" d=\"M12330,-453C12330,-453 12151,-453 12151,-453 12145,-453 12139,-447 12139,-441 12139,-441 12139,-401 12139,-401 12139,-395 12145,-389 12151,-389 12151,-389 12330,-389 12330,-389 12336,-389 12342,-395 12342,-401 12342,-401 12342,-441 12342,-441 12342,-447 12336,-453 12330,-453\"/>\n<text text-anchor=\"start\" x=\"12210\" y=\"-438.8\" font-family=\"Helvetica,sans-Serif\" font-size=\"14.00\" fill=\"#000000\">X</text>\n<text text-anchor=\"start\" x=\"12220\" y=\"-438.8\" font-family=\"Helvetica,sans-Serif\" baseline-shift=\"sub\" font-size=\"14.00\" fill=\"#000000\">0</text>\n<text text-anchor=\"start\" x=\"12227\" y=\"-438.8\" font-family=\"Helvetica,sans-Serif\" font-size=\"14.00\" fill=\"#000000\"> ≤ 11.5</text>\n<text text-anchor=\"start\" x=\"12202.5\" y=\"-424.8\" font-family=\"Helvetica,sans-Serif\" font-size=\"14.00\" fill=\"#000000\">gini = 0.211</text>\n<text text-anchor=\"start\" x=\"12192.5\" y=\"-410.8\" font-family=\"Helvetica,sans-Serif\" font-size=\"14.00\" fill=\"#000000\">samples = 320</text>\n<text text-anchor=\"start\" x=\"12147\" y=\"-396.8\" font-family=\"Helvetica,sans-Serif\" font-size=\"14.00\" fill=\"#000000\">value = [0, 0, 0, 2, 4, 58, 476]</text>\n</g>\n<!-- 208&#45;&gt;209 -->\n<g id=\"edge209\" class=\"edge\">\n<title>208&#45;&gt;209</title>\n<path fill=\"none\" stroke=\"#000000\" d=\"M12277.1168,-488.8089C12272.5402,-480.3337 12267.5396,-471.0733 12262.7454,-462.1952\"/>\n<polygon fill=\"#000000\" stroke=\"#000000\" points=\"12265.6818,-460.2668 12257.8506,-453.1308 12259.5225,-463.5929 12265.6818,-460.2668\"/>\n</g>\n<!-- 212 -->\n<g id=\"node213\" class=\"node\">\n<title>212</title>\n<path fill=\"#ec6ca5\" stroke=\"#000000\" d=\"M12559,-453C12559,-453 12372,-453 12372,-453 12366,-453 12360,-447 12360,-441 12360,-441 12360,-401 12360,-401 12360,-395 12366,-389 12372,-389 12372,-389 12559,-389 12559,-389 12565,-389 12571,-395 12571,-401 12571,-401 12571,-441 12571,-441 12571,-447 12565,-453 12559,-453\"/>\n<text text-anchor=\"start\" x=\"12435\" y=\"-438.8\" font-family=\"Helvetica,sans-Serif\" font-size=\"14.00\" fill=\"#000000\">X</text>\n<text text-anchor=\"start\" x=\"12445\" y=\"-438.8\" font-family=\"Helvetica,sans-Serif\" baseline-shift=\"sub\" font-size=\"14.00\" fill=\"#000000\">0</text>\n<text text-anchor=\"start\" x=\"12452\" y=\"-438.8\" font-family=\"Helvetica,sans-Serif\" font-size=\"14.00\" fill=\"#000000\"> ≤ 13.5</text>\n<text text-anchor=\"start\" x=\"12427.5\" y=\"-424.8\" font-family=\"Helvetica,sans-Serif\" font-size=\"14.00\" fill=\"#000000\">gini = 0.362</text>\n<text text-anchor=\"start\" x=\"12417.5\" y=\"-410.8\" font-family=\"Helvetica,sans-Serif\" font-size=\"14.00\" fill=\"#000000\">samples = 312</text>\n<text text-anchor=\"start\" x=\"12368\" y=\"-396.8\" font-family=\"Helvetica,sans-Serif\" font-size=\"14.00\" fill=\"#000000\">value = [0, 0, 0, 1, 29, 70, 358]</text>\n</g>\n<!-- 208&#45;&gt;212 -->\n<g id=\"edge212\" class=\"edge\">\n<title>208&#45;&gt;212</title>\n<path fill=\"none\" stroke=\"#000000\" d=\"M12349.5467,-488.8089C12366.1751,-479.0848 12384.5711,-468.3268 12401.719,-458.2989\"/>\n<polygon fill=\"#000000\" stroke=\"#000000\" points=\"12403.691,-461.2002 12410.5564,-453.1308 12400.1572,-455.1576 12403.691,-461.2002\"/>\n</g>\n<!-- 210 -->\n<g id=\"node211\" class=\"node\">\n<title>210</title>\n<path fill=\"#e85094\" stroke=\"#000000\" d=\"M12110,-347.5C12110,-347.5 11931,-347.5 11931,-347.5 11925,-347.5 11919,-341.5 11919,-335.5 11919,-335.5 11919,-306.5 11919,-306.5 11919,-300.5 11925,-294.5 11931,-294.5 11931,-294.5 12110,-294.5 12110,-294.5 12116,-294.5 12122,-300.5 12122,-306.5 12122,-306.5 12122,-335.5 12122,-335.5 12122,-341.5 12116,-347.5 12110,-347.5\"/>\n<text text-anchor=\"start\" x=\"11982.5\" y=\"-332.3\" font-family=\"Helvetica,sans-Serif\" font-size=\"14.00\" fill=\"#000000\">gini = 0.195</text>\n<text text-anchor=\"start\" x=\"11976.5\" y=\"-317.3\" font-family=\"Helvetica,sans-Serif\" font-size=\"14.00\" fill=\"#000000\">samples = 74</text>\n<text text-anchor=\"start\" x=\"11927\" y=\"-302.3\" font-family=\"Helvetica,sans-Serif\" font-size=\"14.00\" fill=\"#000000\">value = [0, 0, 0, 2, 0, 11, 108]</text>\n</g>\n<!-- 209&#45;&gt;210 -->\n<g id=\"edge210\" class=\"edge\">\n<title>209&#45;&gt;210</title>\n<path fill=\"none\" stroke=\"#000000\" d=\"M12169.9828,-388.9467C12143.79,-377.0409 12114.1534,-363.5697 12088.2163,-351.7802\"/>\n<polygon fill=\"#000000\" stroke=\"#000000\" points=\"12089.3932,-348.4705 12078.8412,-347.5187 12086.4965,-354.8431 12089.3932,-348.4705\"/>\n</g>\n<!-- 211 -->\n<g id=\"node212\" class=\"node\">\n<title>211</title>\n<path fill=\"#e95497\" stroke=\"#000000\" d=\"M12331,-347.5C12331,-347.5 12152,-347.5 12152,-347.5 12146,-347.5 12140,-341.5 12140,-335.5 12140,-335.5 12140,-306.5 12140,-306.5 12140,-300.5 12146,-294.5 12152,-294.5 12152,-294.5 12331,-294.5 12331,-294.5 12337,-294.5 12343,-300.5 12343,-306.5 12343,-306.5 12343,-335.5 12343,-335.5 12343,-341.5 12337,-347.5 12331,-347.5\"/>\n<text text-anchor=\"start\" x=\"12203.5\" y=\"-332.3\" font-family=\"Helvetica,sans-Serif\" font-size=\"14.00\" fill=\"#000000\">gini = 0.216</text>\n<text text-anchor=\"start\" x=\"12193.5\" y=\"-317.3\" font-family=\"Helvetica,sans-Serif\" font-size=\"14.00\" fill=\"#000000\">samples = 246</text>\n<text text-anchor=\"start\" x=\"12148\" y=\"-302.3\" font-family=\"Helvetica,sans-Serif\" font-size=\"14.00\" fill=\"#000000\">value = [0, 0, 0, 0, 4, 47, 368]</text>\n</g>\n<!-- 209&#45;&gt;211 -->\n<g id=\"edge211\" class=\"edge\">\n<title>209&#45;&gt;211</title>\n<path fill=\"none\" stroke=\"#000000\" d=\"M12240.8219,-388.8089C12240.9202,-378.9777 12241.0291,-368.0898 12241.1303,-357.9679\"/>\n<polygon fill=\"#000000\" stroke=\"#000000\" points=\"12244.632,-357.8081 12241.2323,-347.7735 12237.6323,-357.738 12244.632,-357.8081\"/>\n</g>\n<!-- 213 -->\n<g id=\"node214\" class=\"node\">\n<title>213</title>\n<path fill=\"#ee81b2\" stroke=\"#000000\" d=\"M12553,-347.5C12553,-347.5 12374,-347.5 12374,-347.5 12368,-347.5 12362,-341.5 12362,-335.5 12362,-335.5 12362,-306.5 12362,-306.5 12362,-300.5 12368,-294.5 12374,-294.5 12374,-294.5 12553,-294.5 12553,-294.5 12559,-294.5 12565,-300.5 12565,-306.5 12565,-306.5 12565,-335.5 12565,-335.5 12565,-341.5 12559,-347.5 12553,-347.5\"/>\n<text text-anchor=\"start\" x=\"12425.5\" y=\"-332.3\" font-family=\"Helvetica,sans-Serif\" font-size=\"14.00\" fill=\"#000000\">gini = 0.456</text>\n<text text-anchor=\"start\" x=\"12419.5\" y=\"-317.3\" font-family=\"Helvetica,sans-Serif\" font-size=\"14.00\" fill=\"#000000\">samples = 90</text>\n<text text-anchor=\"start\" x=\"12370\" y=\"-302.3\" font-family=\"Helvetica,sans-Serif\" font-size=\"14.00\" fill=\"#000000\">value = [0, 0, 0, 1, 12, 24, 89]</text>\n</g>\n<!-- 212&#45;&gt;213 -->\n<g id=\"edge213\" class=\"edge\">\n<title>212&#45;&gt;213</title>\n<path fill=\"none\" stroke=\"#000000\" d=\"M12464.8562,-388.8089C12464.6596,-378.9777 12464.4418,-368.0898 12464.2394,-357.9679\"/>\n<polygon fill=\"#000000\" stroke=\"#000000\" points=\"12467.7348,-357.7015 12464.0355,-347.7735 12460.7362,-357.8415 12467.7348,-357.7015\"/>\n</g>\n<!-- 214 -->\n<g id=\"node215\" class=\"node\">\n<title>214</title>\n<path fill=\"#eb65a1\" stroke=\"#000000\" d=\"M12782,-347.5C12782,-347.5 12595,-347.5 12595,-347.5 12589,-347.5 12583,-341.5 12583,-335.5 12583,-335.5 12583,-306.5 12583,-306.5 12583,-300.5 12589,-294.5 12595,-294.5 12595,-294.5 12782,-294.5 12782,-294.5 12788,-294.5 12794,-300.5 12794,-306.5 12794,-306.5 12794,-335.5 12794,-335.5 12794,-341.5 12788,-347.5 12782,-347.5\"/>\n<text text-anchor=\"start\" x=\"12650.5\" y=\"-332.3\" font-family=\"Helvetica,sans-Serif\" font-size=\"14.00\" fill=\"#000000\">gini = 0.322</text>\n<text text-anchor=\"start\" x=\"12640.5\" y=\"-317.3\" font-family=\"Helvetica,sans-Serif\" font-size=\"14.00\" fill=\"#000000\">samples = 222</text>\n<text text-anchor=\"start\" x=\"12591\" y=\"-302.3\" font-family=\"Helvetica,sans-Serif\" font-size=\"14.00\" fill=\"#000000\">value = [0, 0, 0, 0, 17, 46, 269]</text>\n</g>\n<!-- 212&#45;&gt;214 -->\n<g id=\"edge214\" class=\"edge\">\n<title>212&#45;&gt;214</title>\n<path fill=\"none\" stroke=\"#000000\" d=\"M12536.9787,-388.9467C12563.6453,-376.9887 12593.8331,-363.4515 12620.206,-351.6251\"/>\n<polygon fill=\"#000000\" stroke=\"#000000\" points=\"12621.6708,-354.8041 12629.3632,-347.5187 12618.8065,-348.4169 12621.6708,-354.8041\"/>\n</g>\n<!-- 216 -->\n<g id=\"node217\" class=\"node\">\n<title>216</title>\n<path fill=\"#fdedf4\" stroke=\"#000000\" d=\"M12829.5,-447.5C12829.5,-447.5 12601.5,-447.5 12601.5,-447.5 12595.5,-447.5 12589.5,-441.5 12589.5,-435.5 12589.5,-435.5 12589.5,-406.5 12589.5,-406.5 12589.5,-400.5 12595.5,-394.5 12601.5,-394.5 12601.5,-394.5 12829.5,-394.5 12829.5,-394.5 12835.5,-394.5 12841.5,-400.5 12841.5,-406.5 12841.5,-406.5 12841.5,-435.5 12841.5,-435.5 12841.5,-441.5 12835.5,-447.5 12829.5,-447.5\"/>\n<text text-anchor=\"start\" x=\"12677.5\" y=\"-432.3\" font-family=\"Helvetica,sans-Serif\" font-size=\"14.00\" fill=\"#000000\">gini = 0.743</text>\n<text text-anchor=\"start\" x=\"12667.5\" y=\"-417.3\" font-family=\"Helvetica,sans-Serif\" font-size=\"14.00\" fill=\"#000000\">samples = 760</text>\n<text text-anchor=\"start\" x=\"12597.5\" y=\"-402.3\" font-family=\"Helvetica,sans-Serif\" font-size=\"14.00\" fill=\"#000000\">value = [0, 2, 43, 146, 263, 318, 395]</text>\n</g>\n<!-- 215&#45;&gt;216 -->\n<g id=\"edge216\" class=\"edge\">\n<title>215&#45;&gt;216</title>\n<path fill=\"none\" stroke=\"#000000\" d=\"M12602.2591,-488.8089C12621.5251,-477.2724 12643.2209,-464.2809 12662.4284,-452.7794\"/>\n<polygon fill=\"#000000\" stroke=\"#000000\" points=\"12664.2792,-455.7507 12671.0606,-447.6104 12660.683,-449.745 12664.2792,-455.7507\"/>\n</g>\n<!-- 217 -->\n<g id=\"node218\" class=\"node\">\n<title>217</title>\n<path fill=\"#e84e93\" stroke=\"#000000\" d=\"M13033.5,-447.5C13033.5,-447.5 12871.5,-447.5 12871.5,-447.5 12865.5,-447.5 12859.5,-441.5 12859.5,-435.5 12859.5,-435.5 12859.5,-406.5 12859.5,-406.5 12859.5,-400.5 12865.5,-394.5 12871.5,-394.5 12871.5,-394.5 13033.5,-394.5 13033.5,-394.5 13039.5,-394.5 13045.5,-400.5 13045.5,-406.5 13045.5,-406.5 13045.5,-435.5 13045.5,-435.5 13045.5,-441.5 13039.5,-447.5 13033.5,-447.5\"/>\n<text text-anchor=\"start\" x=\"12914.5\" y=\"-432.3\" font-family=\"Helvetica,sans-Serif\" font-size=\"14.00\" fill=\"#000000\">gini = 0.171</text>\n<text text-anchor=\"start\" x=\"12908.5\" y=\"-417.3\" font-family=\"Helvetica,sans-Serif\" font-size=\"14.00\" fill=\"#000000\">samples = 44</text>\n<text text-anchor=\"start\" x=\"12867.5\" y=\"-402.3\" font-family=\"Helvetica,sans-Serif\" font-size=\"14.00\" fill=\"#000000\">value = [0, 0, 0, 0, 0, 7, 67]</text>\n</g>\n<!-- 215&#45;&gt;217 -->\n<g id=\"edge217\" class=\"edge\">\n<title>215&#45;&gt;217</title>\n<path fill=\"none\" stroke=\"#000000\" d=\"M12674.5953,-491.025C12677.5917,-490.3404 12680.5634,-489.6645 12683.5,-489 12757.555,-472.243 12777.0889,-472.3844 12850.5,-453 12853.8309,-452.1205 12857.2151,-451.2002 12860.6272,-450.2498\"/>\n<polygon fill=\"#000000\" stroke=\"#000000\" points=\"12861.6351,-453.6021 12870.2965,-447.5003 12859.7205,-446.869 12861.6351,-453.6021\"/>\n</g>\n<!-- 219 -->\n<g id=\"node220\" class=\"node\">\n<title>219</title>\n<path fill=\"#f9fefa\" stroke=\"#000000\" d=\"M13484,-853C13484,-853 13165,-853 13165,-853 13159,-853 13153,-847 13153,-841 13153,-841 13153,-801 13153,-801 13153,-795 13159,-789 13165,-789 13165,-789 13484,-789 13484,-789 13490,-789 13496,-795 13496,-801 13496,-801 13496,-841 13496,-841 13496,-847 13490,-853 13484,-853\"/>\n<text text-anchor=\"start\" x=\"13294\" y=\"-838.8\" font-family=\"Helvetica,sans-Serif\" font-size=\"14.00\" fill=\"#000000\">X</text>\n<text text-anchor=\"start\" x=\"13304\" y=\"-838.8\" font-family=\"Helvetica,sans-Serif\" baseline-shift=\"sub\" font-size=\"14.00\" fill=\"#000000\">0</text>\n<text text-anchor=\"start\" x=\"13311\" y=\"-838.8\" font-family=\"Helvetica,sans-Serif\" font-size=\"14.00\" fill=\"#000000\"> ≤ 17.5</text>\n<text text-anchor=\"start\" x=\"13286.5\" y=\"-824.8\" font-family=\"Helvetica,sans-Serif\" font-size=\"14.00\" fill=\"#000000\">gini = 0.821</text>\n<text text-anchor=\"start\" x=\"13272.5\" y=\"-810.8\" font-family=\"Helvetica,sans-Serif\" font-size=\"14.00\" fill=\"#000000\">samples = 8680</text>\n<text text-anchor=\"start\" x=\"13161\" y=\"-796.8\" font-family=\"Helvetica,sans-Serif\" font-size=\"14.00\" fill=\"#000000\">value = [117, 2204, 3302, 2989, 2193, 1479, 1458]</text>\n</g>\n<!-- 218&#45;&gt;219 -->\n<g id=\"edge219\" class=\"edge\">\n<title>218&#45;&gt;219</title>\n<path fill=\"none\" stroke=\"#000000\" d=\"M13324.5,-888.8089C13324.5,-880.6906 13324.5,-871.8517 13324.5,-863.3186\"/>\n<polygon fill=\"#000000\" stroke=\"#000000\" points=\"13328.0001,-863.1307 13324.5,-853.1308 13321.0001,-863.1308 13328.0001,-863.1307\"/>\n</g>\n<!-- 230 -->\n<g id=\"node231\" class=\"node\">\n<title>230</title>\n<path fill=\"#f8fefe\" stroke=\"#000000\" d=\"M14450.5,-853C14450.5,-853 14156.5,-853 14156.5,-853 14150.5,-853 14144.5,-847 14144.5,-841 14144.5,-841 14144.5,-801 14144.5,-801 14144.5,-795 14150.5,-789 14156.5,-789 14156.5,-789 14450.5,-789 14450.5,-789 14456.5,-789 14462.5,-795 14462.5,-801 14462.5,-801 14462.5,-841 14462.5,-841 14462.5,-847 14456.5,-853 14450.5,-853\"/>\n<text text-anchor=\"start\" x=\"14277\" y=\"-838.8\" font-family=\"Helvetica,sans-Serif\" font-size=\"14.00\" fill=\"#000000\">X</text>\n<text text-anchor=\"start\" x=\"14287\" y=\"-838.8\" font-family=\"Helvetica,sans-Serif\" baseline-shift=\"sub\" font-size=\"14.00\" fill=\"#000000\">1</text>\n<text text-anchor=\"start\" x=\"14294\" y=\"-838.8\" font-family=\"Helvetica,sans-Serif\" font-size=\"14.00\" fill=\"#000000\"> ≤ 3.5</text>\n<text text-anchor=\"start\" x=\"14265.5\" y=\"-824.8\" font-family=\"Helvetica,sans-Serif\" font-size=\"14.00\" fill=\"#000000\">gini = 0.809</text>\n<text text-anchor=\"start\" x=\"14251.5\" y=\"-810.8\" font-family=\"Helvetica,sans-Serif\" font-size=\"14.00\" fill=\"#000000\">samples = 6836</text>\n<text text-anchor=\"start\" x=\"14152.5\" y=\"-796.8\" font-family=\"Helvetica,sans-Serif\" font-size=\"14.00\" fill=\"#000000\">value = [6, 449, 1724, 2565, 2247, 1617, 2226]</text>\n</g>\n<!-- 218&#45;&gt;230 -->\n<g id=\"edge230\" class=\"edge\">\n<title>218&#45;&gt;230</title>\n<path fill=\"none\" stroke=\"#000000\" d=\"M13496.1491,-903.4669C13675.642,-885.1326 13955.5906,-856.5372 14134.2008,-838.2931\"/>\n<polygon fill=\"#000000\" stroke=\"#000000\" points=\"14134.6283,-841.7677 14144.2209,-837.2696 14133.9169,-834.8039 14134.6283,-841.7677\"/>\n</g>\n<!-- 220 -->\n<g id=\"node221\" class=\"node\">\n<title>220</title>\n<path fill=\"#f8fefe\" stroke=\"#000000\" d=\"M13297,-753C13297,-753 13028,-753 13028,-753 13022,-753 13016,-747 13016,-741 13016,-741 13016,-701 13016,-701 13016,-695 13022,-689 13028,-689 13028,-689 13297,-689 13297,-689 13303,-689 13309,-695 13309,-701 13309,-701 13309,-741 13309,-741 13309,-747 13303,-753 13297,-753\"/>\n<text text-anchor=\"start\" x=\"13136\" y=\"-738.8\" font-family=\"Helvetica,sans-Serif\" font-size=\"14.00\" fill=\"#000000\">X</text>\n<text text-anchor=\"start\" x=\"13146\" y=\"-738.8\" font-family=\"Helvetica,sans-Serif\" baseline-shift=\"sub\" font-size=\"14.00\" fill=\"#000000\">1</text>\n<text text-anchor=\"start\" x=\"13153\" y=\"-738.8\" font-family=\"Helvetica,sans-Serif\" font-size=\"14.00\" fill=\"#000000\"> ≤ 3.5</text>\n<text text-anchor=\"start\" x=\"13124.5\" y=\"-724.8\" font-family=\"Helvetica,sans-Serif\" font-size=\"14.00\" fill=\"#000000\">gini = 0.829</text>\n<text text-anchor=\"start\" x=\"13110.5\" y=\"-710.8\" font-family=\"Helvetica,sans-Serif\" font-size=\"14.00\" fill=\"#000000\">samples = 2856</text>\n<text text-anchor=\"start\" x=\"13024\" y=\"-696.8\" font-family=\"Helvetica,sans-Serif\" font-size=\"14.00\" fill=\"#000000\">value = [65, 638, 899, 1032, 797, 581, 538]</text>\n</g>\n<!-- 219&#45;&gt;220 -->\n<g id=\"edge220\" class=\"edge\">\n<title>219&#45;&gt;220</title>\n<path fill=\"none\" stroke=\"#000000\" d=\"M13272.3505,-788.8089C13256.7418,-779.174 13239.4891,-768.5241 13223.3716,-758.575\"/>\n<polygon fill=\"#000000\" stroke=\"#000000\" points=\"13224.8997,-755.4052 13214.5518,-753.1308 13221.2227,-761.3618 13224.8997,-755.4052\"/>\n</g>\n<!-- 225 -->\n<g id=\"node226\" class=\"node\">\n<title>225</title>\n<path fill=\"#f3fdf4\" stroke=\"#000000\" d=\"M13633.5,-753C13633.5,-753 13339.5,-753 13339.5,-753 13333.5,-753 13327.5,-747 13327.5,-741 13327.5,-741 13327.5,-701 13327.5,-701 13327.5,-695 13333.5,-689 13339.5,-689 13339.5,-689 13633.5,-689 13633.5,-689 13639.5,-689 13645.5,-695 13645.5,-701 13645.5,-701 13645.5,-741 13645.5,-741 13645.5,-747 13639.5,-753 13633.5,-753\"/>\n<text text-anchor=\"start\" x=\"13460\" y=\"-738.8\" font-family=\"Helvetica,sans-Serif\" font-size=\"14.00\" fill=\"#000000\">X</text>\n<text text-anchor=\"start\" x=\"13470\" y=\"-738.8\" font-family=\"Helvetica,sans-Serif\" baseline-shift=\"sub\" font-size=\"14.00\" fill=\"#000000\">1</text>\n<text text-anchor=\"start\" x=\"13477\" y=\"-738.8\" font-family=\"Helvetica,sans-Serif\" font-size=\"14.00\" fill=\"#000000\"> ≤ 3.5</text>\n<text text-anchor=\"start\" x=\"13448.5\" y=\"-724.8\" font-family=\"Helvetica,sans-Serif\" font-size=\"14.00\" fill=\"#000000\">gini = 0.815</text>\n<text text-anchor=\"start\" x=\"13434.5\" y=\"-710.8\" font-family=\"Helvetica,sans-Serif\" font-size=\"14.00\" fill=\"#000000\">samples = 5824</text>\n<text text-anchor=\"start\" x=\"13335.5\" y=\"-696.8\" font-family=\"Helvetica,sans-Serif\" font-size=\"14.00\" fill=\"#000000\">value = [52, 1566, 2403, 1957, 1396, 898, 920]</text>\n</g>\n<!-- 219&#45;&gt;225 -->\n<g id=\"edge225\" class=\"edge\">\n<title>219&#45;&gt;225</title>\n<path fill=\"none\" stroke=\"#000000\" d=\"M13376.6495,-788.8089C13392.2582,-779.174 13409.5109,-768.5241 13425.6284,-758.575\"/>\n<polygon fill=\"#000000\" stroke=\"#000000\" points=\"13427.7773,-761.3618 13434.4482,-753.1308 13424.1003,-755.4052 13427.7773,-761.3618\"/>\n</g>\n<!-- 221 -->\n<g id=\"node222\" class=\"node\">\n<title>221</title>\n<path fill=\"#f2fdfd\" stroke=\"#000000\" d=\"M12995,-653C12995,-653 12734,-653 12734,-653 12728,-653 12722,-647 12722,-641 12722,-641 12722,-601 12722,-601 12722,-595 12728,-589 12734,-589 12734,-589 12995,-589 12995,-589 13001,-589 13007,-595 13007,-601 13007,-601 13007,-641 13007,-641 13007,-647 13001,-653 12995,-653\"/>\n<text text-anchor=\"start\" x=\"12838\" y=\"-638.8\" font-family=\"Helvetica,sans-Serif\" font-size=\"14.00\" fill=\"#000000\">X</text>\n<text text-anchor=\"start\" x=\"12848\" y=\"-638.8\" font-family=\"Helvetica,sans-Serif\" baseline-shift=\"sub\" font-size=\"14.00\" fill=\"#000000\">1</text>\n<text text-anchor=\"start\" x=\"12855\" y=\"-638.8\" font-family=\"Helvetica,sans-Serif\" font-size=\"14.00\" fill=\"#000000\"> ≤ 2.5</text>\n<text text-anchor=\"start\" x=\"12826.5\" y=\"-624.8\" font-family=\"Helvetica,sans-Serif\" font-size=\"14.00\" fill=\"#000000\">gini = 0.812</text>\n<text text-anchor=\"start\" x=\"12812.5\" y=\"-610.8\" font-family=\"Helvetica,sans-Serif\" font-size=\"14.00\" fill=\"#000000\">samples = 1171</text>\n<text text-anchor=\"start\" x=\"12730\" y=\"-596.8\" font-family=\"Helvetica,sans-Serif\" font-size=\"14.00\" fill=\"#000000\">value = [14, 174, 321, 513, 413, 242, 207]</text>\n</g>\n<!-- 220&#45;&gt;221 -->\n<g id=\"edge221\" class=\"edge\">\n<title>220&#45;&gt;221</title>\n<path fill=\"none\" stroke=\"#000000\" d=\"M13066.9813,-688.9467C13035.9707,-678.5405 13001.3965,-666.9384 12969.7196,-656.3086\"/>\n<polygon fill=\"#000000\" stroke=\"#000000\" points=\"12970.583,-652.9066 12959.989,-653.0433 12968.356,-659.5429 12970.583,-652.9066\"/>\n</g>\n<!-- 224 -->\n<g id=\"node225\" class=\"node\">\n<title>224</title>\n<path fill=\"#fafefa\" stroke=\"#000000\" d=\"M13298,-647.5C13298,-647.5 13037,-647.5 13037,-647.5 13031,-647.5 13025,-641.5 13025,-635.5 13025,-635.5 13025,-606.5 13025,-606.5 13025,-600.5 13031,-594.5 13037,-594.5 13037,-594.5 13298,-594.5 13298,-594.5 13304,-594.5 13310,-600.5 13310,-606.5 13310,-606.5 13310,-635.5 13310,-635.5 13310,-641.5 13304,-647.5 13298,-647.5\"/>\n<text text-anchor=\"start\" x=\"13129.5\" y=\"-632.3\" font-family=\"Helvetica,sans-Serif\" font-size=\"14.00\" fill=\"#000000\">gini = 0.832</text>\n<text text-anchor=\"start\" x=\"13115.5\" y=\"-617.3\" font-family=\"Helvetica,sans-Serif\" font-size=\"14.00\" fill=\"#000000\">samples = 1685</text>\n<text text-anchor=\"start\" x=\"13033\" y=\"-602.3\" font-family=\"Helvetica,sans-Serif\" font-size=\"14.00\" fill=\"#000000\">value = [51, 464, 578, 519, 384, 339, 331]</text>\n</g>\n<!-- 220&#45;&gt;224 -->\n<g id=\"edge224\" class=\"edge\">\n<title>220&#45;&gt;224</title>\n<path fill=\"none\" stroke=\"#000000\" d=\"M13164.1096,-688.8089C13164.6011,-678.9777 13165.1455,-668.0898 13165.6516,-657.9679\"/>\n<polygon fill=\"#000000\" stroke=\"#000000\" points=\"13169.1575,-657.9359 13166.1613,-647.7735 13162.1662,-657.5862 13169.1575,-657.9359\"/>\n</g>\n<!-- 222 -->\n<g id=\"node223\" class=\"node\">\n<title>222</title>\n<path fill=\"#eefdfc\" stroke=\"#000000\" d=\"M12940.5,-547.5C12940.5,-547.5 12704.5,-547.5 12704.5,-547.5 12698.5,-547.5 12692.5,-541.5 12692.5,-535.5 12692.5,-535.5 12692.5,-506.5 12692.5,-506.5 12692.5,-500.5 12698.5,-494.5 12704.5,-494.5 12704.5,-494.5 12940.5,-494.5 12940.5,-494.5 12946.5,-494.5 12952.5,-500.5 12952.5,-506.5 12952.5,-506.5 12952.5,-535.5 12952.5,-535.5 12952.5,-541.5 12946.5,-547.5 12940.5,-547.5\"/>\n<text text-anchor=\"start\" x=\"12784.5\" y=\"-532.3\" font-family=\"Helvetica,sans-Serif\" font-size=\"14.00\" fill=\"#000000\">gini = 0.806</text>\n<text text-anchor=\"start\" x=\"12774.5\" y=\"-517.3\" font-family=\"Helvetica,sans-Serif\" font-size=\"14.00\" fill=\"#000000\">samples = 355</text>\n<text text-anchor=\"start\" x=\"12700.5\" y=\"-502.3\" font-family=\"Helvetica,sans-Serif\" font-size=\"14.00\" fill=\"#000000\">value = [14, 113, 121, 160, 74, 34, 51]</text>\n</g>\n<!-- 221&#45;&gt;222 -->\n<g id=\"edge222\" class=\"edge\">\n<title>221&#45;&gt;222</title>\n<path fill=\"none\" stroke=\"#000000\" d=\"M12850.9797,-588.8089C12846.7202,-578.6672 12841.9885,-567.4011 12837.6248,-557.0114\"/>\n<polygon fill=\"#000000\" stroke=\"#000000\" points=\"12840.8442,-555.638 12833.7449,-547.7735 12834.3903,-558.3487 12840.8442,-555.638\"/>\n</g>\n<!-- 223 -->\n<g id=\"node224\" class=\"node\">\n<title>223</title>\n<path fill=\"#fcffff\" stroke=\"#000000\" d=\"M13228,-547.5C13228,-547.5 12983,-547.5 12983,-547.5 12977,-547.5 12971,-541.5 12971,-535.5 12971,-535.5 12971,-506.5 12971,-506.5 12971,-500.5 12977,-494.5 12983,-494.5 12983,-494.5 13228,-494.5 13228,-494.5 13234,-494.5 13240,-500.5 13240,-506.5 13240,-506.5 13240,-535.5 13240,-535.5 13240,-541.5 13234,-547.5 13228,-547.5\"/>\n<text text-anchor=\"start\" x=\"13067.5\" y=\"-532.3\" font-family=\"Helvetica,sans-Serif\" font-size=\"14.00\" fill=\"#000000\">gini = 0.798</text>\n<text text-anchor=\"start\" x=\"13057.5\" y=\"-517.3\" font-family=\"Helvetica,sans-Serif\" font-size=\"14.00\" fill=\"#000000\">samples = 816</text>\n<text text-anchor=\"start\" x=\"12979\" y=\"-502.3\" font-family=\"Helvetica,sans-Serif\" font-size=\"14.00\" fill=\"#000000\">value = [0, 61, 200, 353, 339, 208, 156]</text>\n</g>\n<!-- 221&#45;&gt;223 -->\n<g id=\"edge223\" class=\"edge\">\n<title>221&#45;&gt;223</title>\n<path fill=\"none\" stroke=\"#000000\" d=\"M12941.7483,-588.9467C12970.6931,-576.9365 13003.4768,-563.3333 13032.0666,-551.4703\"/>\n<polygon fill=\"#000000\" stroke=\"#000000\" points=\"13033.6948,-554.5841 13041.5899,-547.5187 13031.012,-548.1186 13033.6948,-554.5841\"/>\n</g>\n<!-- 226 -->\n<g id=\"node227\" class=\"node\">\n<title>226</title>\n<path fill=\"#fdfdff\" stroke=\"#000000\" d=\"M13611,-653C13611,-653 13350,-653 13350,-653 13344,-653 13338,-647 13338,-641 13338,-641 13338,-601 13338,-601 13338,-595 13344,-589 13350,-589 13350,-589 13611,-589 13611,-589 13617,-589 13623,-595 13623,-601 13623,-601 13623,-641 13623,-641 13623,-647 13617,-653 13611,-653\"/>\n<text text-anchor=\"start\" x=\"13454\" y=\"-638.8\" font-family=\"Helvetica,sans-Serif\" font-size=\"14.00\" fill=\"#000000\">X</text>\n<text text-anchor=\"start\" x=\"13464\" y=\"-638.8\" font-family=\"Helvetica,sans-Serif\" baseline-shift=\"sub\" font-size=\"14.00\" fill=\"#000000\">1</text>\n<text text-anchor=\"start\" x=\"13471\" y=\"-638.8\" font-family=\"Helvetica,sans-Serif\" font-size=\"14.00\" fill=\"#000000\"> ≤ 2.5</text>\n<text text-anchor=\"start\" x=\"13442.5\" y=\"-624.8\" font-family=\"Helvetica,sans-Serif\" font-size=\"14.00\" fill=\"#000000\">gini = 0.793</text>\n<text text-anchor=\"start\" x=\"13428.5\" y=\"-610.8\" font-family=\"Helvetica,sans-Serif\" font-size=\"14.00\" fill=\"#000000\">samples = 2701</text>\n<text text-anchor=\"start\" x=\"13346\" y=\"-596.8\" font-family=\"Helvetica,sans-Serif\" font-size=\"14.00\" fill=\"#000000\">value = [0, 56, 604, 1082, 1112, 729, 721]</text>\n</g>\n<!-- 225&#45;&gt;226 -->\n<g id=\"edge226\" class=\"edge\">\n<title>225&#45;&gt;226</title>\n<path fill=\"none\" stroke=\"#000000\" d=\"M13484.5685,-688.8089C13484.0814,-680.6906 13483.5511,-671.8517 13483.0391,-663.3186\"/>\n<polygon fill=\"#000000\" stroke=\"#000000\" points=\"13486.5206,-662.9032 13482.4278,-653.1308 13479.5331,-663.3225 13486.5206,-662.9032\"/>\n</g>\n<!-- 229 -->\n<g id=\"node230\" class=\"node\">\n<title>229</title>\n<path fill=\"#eefdf0\" stroke=\"#000000\" d=\"M13931.5,-647.5C13931.5,-647.5 13653.5,-647.5 13653.5,-647.5 13647.5,-647.5 13641.5,-641.5 13641.5,-635.5 13641.5,-635.5 13641.5,-606.5 13641.5,-606.5 13641.5,-600.5 13647.5,-594.5 13653.5,-594.5 13653.5,-594.5 13931.5,-594.5 13931.5,-594.5 13937.5,-594.5 13943.5,-600.5 13943.5,-606.5 13943.5,-606.5 13943.5,-635.5 13943.5,-635.5 13943.5,-641.5 13937.5,-647.5 13931.5,-647.5\"/>\n<text text-anchor=\"start\" x=\"13754.5\" y=\"-632.3\" font-family=\"Helvetica,sans-Serif\" font-size=\"14.00\" fill=\"#000000\">gini = 0.731</text>\n<text text-anchor=\"start\" x=\"13740.5\" y=\"-617.3\" font-family=\"Helvetica,sans-Serif\" font-size=\"14.00\" fill=\"#000000\">samples = 3123</text>\n<text text-anchor=\"start\" x=\"13649.5\" y=\"-602.3\" font-family=\"Helvetica,sans-Serif\" font-size=\"14.00\" fill=\"#000000\">value = [52, 1510, 1799, 875, 284, 169, 199]</text>\n</g>\n<!-- 225&#45;&gt;229 -->\n<g id=\"edge229\" class=\"edge\">\n<title>225&#45;&gt;229</title>\n<path fill=\"none\" stroke=\"#000000\" d=\"M13584.5829,-688.9467C13622.1334,-676.6754 13664.7723,-662.7411 13701.6207,-650.6991\"/>\n<polygon fill=\"#000000\" stroke=\"#000000\" points=\"13702.9346,-653.952 13711.3527,-647.5187 13700.7602,-647.2982 13702.9346,-653.952\"/>\n</g>\n<!-- 227 -->\n<g id=\"node228\" class=\"node\">\n<title>227</title>\n<path fill=\"#fbfefe\" stroke=\"#000000\" d=\"M13515,-547.5C13515,-547.5 13270,-547.5 13270,-547.5 13264,-547.5 13258,-541.5 13258,-535.5 13258,-535.5 13258,-506.5 13258,-506.5 13258,-500.5 13264,-494.5 13270,-494.5 13270,-494.5 13515,-494.5 13515,-494.5 13521,-494.5 13527,-500.5 13527,-506.5 13527,-506.5 13527,-535.5 13527,-535.5 13527,-541.5 13521,-547.5 13515,-547.5\"/>\n<text text-anchor=\"start\" x=\"13354.5\" y=\"-532.3\" font-family=\"Helvetica,sans-Serif\" font-size=\"14.00\" fill=\"#000000\">gini = 0.795</text>\n<text text-anchor=\"start\" x=\"13340.5\" y=\"-517.3\" font-family=\"Helvetica,sans-Serif\" font-size=\"14.00\" fill=\"#000000\">samples = 2290</text>\n<text text-anchor=\"start\" x=\"13266\" y=\"-502.3\" font-family=\"Helvetica,sans-Serif\" font-size=\"14.00\" fill=\"#000000\">value = [0, 54, 529, 947, 890, 565, 665]</text>\n</g>\n<!-- 226&#45;&gt;227 -->\n<g id=\"edge227\" class=\"edge\">\n<title>226&#45;&gt;227</title>\n<path fill=\"none\" stroke=\"#000000\" d=\"M13452.1719,-588.8089C13442.7918,-578.1498 13432.3188,-566.2486 13422.7968,-555.4282\"/>\n<polygon fill=\"#000000\" stroke=\"#000000\" points=\"13425.2945,-552.9685 13416.0607,-547.7735 13420.0395,-557.5929 13425.2945,-552.9685\"/>\n</g>\n<!-- 228 -->\n<g id=\"node229\" class=\"node\">\n<title>228</title>\n<path fill=\"#e8ebfc\" stroke=\"#000000\" d=\"M13777.5,-547.5C13777.5,-547.5 13557.5,-547.5 13557.5,-547.5 13551.5,-547.5 13545.5,-541.5 13545.5,-535.5 13545.5,-535.5 13545.5,-506.5 13545.5,-506.5 13545.5,-500.5 13551.5,-494.5 13557.5,-494.5 13557.5,-494.5 13777.5,-494.5 13777.5,-494.5 13783.5,-494.5 13789.5,-500.5 13789.5,-506.5 13789.5,-506.5 13789.5,-535.5 13789.5,-535.5 13789.5,-541.5 13783.5,-547.5 13777.5,-547.5\"/>\n<text text-anchor=\"start\" x=\"13629.5\" y=\"-532.3\" font-family=\"Helvetica,sans-Serif\" font-size=\"14.00\" fill=\"#000000\">gini = 0.759</text>\n<text text-anchor=\"start\" x=\"13619.5\" y=\"-517.3\" font-family=\"Helvetica,sans-Serif\" font-size=\"14.00\" fill=\"#000000\">samples = 411</text>\n<text text-anchor=\"start\" x=\"13553.5\" y=\"-502.3\" font-family=\"Helvetica,sans-Serif\" font-size=\"14.00\" fill=\"#000000\">value = [0, 2, 75, 135, 222, 164, 56]</text>\n</g>\n<!-- 226&#45;&gt;228 -->\n<g id=\"edge228\" class=\"edge\">\n<title>226&#45;&gt;228</title>\n<path fill=\"none\" stroke=\"#000000\" d=\"M13540.4396,-588.9467C13562.4106,-577.1975 13587.2322,-563.924 13609.0692,-552.2464\"/>\n<polygon fill=\"#000000\" stroke=\"#000000\" points=\"13610.7422,-555.3209 13617.91,-547.5187 13607.4412,-549.148 13610.7422,-555.3209\"/>\n</g>\n<!-- 231 -->\n<g id=\"node232\" class=\"node\">\n<title>231</title>\n<path fill=\"#fef5f9\" stroke=\"#000000\" d=\"M14442.5,-753C14442.5,-753 14164.5,-753 14164.5,-753 14158.5,-753 14152.5,-747 14152.5,-741 14152.5,-741 14152.5,-701 14152.5,-701 14152.5,-695 14158.5,-689 14164.5,-689 14164.5,-689 14442.5,-689 14442.5,-689 14448.5,-689 14454.5,-695 14454.5,-701 14454.5,-701 14454.5,-741 14454.5,-741 14454.5,-747 14448.5,-753 14442.5,-753\"/>\n<text text-anchor=\"start\" x=\"14277\" y=\"-738.8\" font-family=\"Helvetica,sans-Serif\" font-size=\"14.00\" fill=\"#000000\">X</text>\n<text text-anchor=\"start\" x=\"14287\" y=\"-738.8\" font-family=\"Helvetica,sans-Serif\" baseline-shift=\"sub\" font-size=\"14.00\" fill=\"#000000\">1</text>\n<text text-anchor=\"start\" x=\"14294\" y=\"-738.8\" font-family=\"Helvetica,sans-Serif\" font-size=\"14.00\" fill=\"#000000\"> ≤ 2.5</text>\n<text text-anchor=\"start\" x=\"14265.5\" y=\"-724.8\" font-family=\"Helvetica,sans-Serif\" font-size=\"14.00\" fill=\"#000000\">gini = 0.804</text>\n<text text-anchor=\"start\" x=\"14251.5\" y=\"-710.8\" font-family=\"Helvetica,sans-Serif\" font-size=\"14.00\" fill=\"#000000\">samples = 4081</text>\n<text text-anchor=\"start\" x=\"14160.5\" y=\"-696.8\" font-family=\"Helvetica,sans-Serif\" font-size=\"14.00\" fill=\"#000000\">value = [6, 249, 927, 1439, 1214, 940, 1687]</text>\n</g>\n<!-- 230&#45;&gt;231 -->\n<g id=\"edge231\" class=\"edge\">\n<title>230&#45;&gt;231</title>\n<path fill=\"none\" stroke=\"#000000\" d=\"M14303.5,-788.8089C14303.5,-780.6906 14303.5,-771.8517 14303.5,-763.3186\"/>\n<polygon fill=\"#000000\" stroke=\"#000000\" points=\"14307.0001,-763.1307 14303.5,-753.1308 14300.0001,-763.1308 14307.0001,-763.1307\"/>\n</g>\n<!-- 244 -->\n<g id=\"node245\" class=\"node\">\n<title>244</title>\n<path fill=\"#f9fefe\" stroke=\"#000000\" d=\"M15137,-753C15137,-753 14868,-753 14868,-753 14862,-753 14856,-747 14856,-741 14856,-741 14856,-701 14856,-701 14856,-695 14862,-689 14868,-689 14868,-689 15137,-689 15137,-689 15143,-689 15149,-695 15149,-701 15149,-701 15149,-741 15149,-741 15149,-747 15143,-753 15137,-753\"/>\n<text text-anchor=\"start\" x=\"14972\" y=\"-738.8\" font-family=\"Helvetica,sans-Serif\" font-size=\"14.00\" fill=\"#000000\">X</text>\n<text text-anchor=\"start\" x=\"14982\" y=\"-738.8\" font-family=\"Helvetica,sans-Serif\" baseline-shift=\"sub\" font-size=\"14.00\" fill=\"#000000\">0</text>\n<text text-anchor=\"start\" x=\"14989\" y=\"-738.8\" font-family=\"Helvetica,sans-Serif\" font-size=\"14.00\" fill=\"#000000\"> ≤ 23.5</text>\n<text text-anchor=\"start\" x=\"14964.5\" y=\"-724.8\" font-family=\"Helvetica,sans-Serif\" font-size=\"14.00\" fill=\"#000000\">gini = 0.803</text>\n<text text-anchor=\"start\" x=\"14950.5\" y=\"-710.8\" font-family=\"Helvetica,sans-Serif\" font-size=\"14.00\" fill=\"#000000\">samples = 2755</text>\n<text text-anchor=\"start\" x=\"14864\" y=\"-696.8\" font-family=\"Helvetica,sans-Serif\" font-size=\"14.00\" fill=\"#000000\">value = [0, 200, 797, 1126, 1033, 677, 539]</text>\n</g>\n<!-- 230&#45;&gt;244 -->\n<g id=\"edge244\" class=\"edge\">\n<title>230&#45;&gt;244</title>\n<path fill=\"none\" stroke=\"#000000\" d=\"M14462.551,-798.2459C14577.2312,-781.8396 14731.2951,-759.799 14845.5015,-743.4604\"/>\n<polygon fill=\"#000000\" stroke=\"#000000\" points=\"14846.3275,-746.878 14855.731,-741.997 14845.3361,-739.9485 14846.3275,-746.878\"/>\n</g>\n<!-- 232 -->\n<g id=\"node233\" class=\"node\">\n<title>232</title>\n<path fill=\"#f6fefe\" stroke=\"#000000\" d=\"M14291,-653C14291,-653 14022,-653 14022,-653 14016,-653 14010,-647 14010,-641 14010,-641 14010,-601 14010,-601 14010,-595 14016,-589 14022,-589 14022,-589 14291,-589 14291,-589 14297,-589 14303,-595 14303,-601 14303,-601 14303,-641 14303,-641 14303,-647 14297,-653 14291,-653\"/>\n<text text-anchor=\"start\" x=\"14126\" y=\"-638.8\" font-family=\"Helvetica,sans-Serif\" font-size=\"14.00\" fill=\"#000000\">X</text>\n<text text-anchor=\"start\" x=\"14136\" y=\"-638.8\" font-family=\"Helvetica,sans-Serif\" baseline-shift=\"sub\" font-size=\"14.00\" fill=\"#000000\">0</text>\n<text text-anchor=\"start\" x=\"14143\" y=\"-638.8\" font-family=\"Helvetica,sans-Serif\" font-size=\"14.00\" fill=\"#000000\"> ≤ 21.5</text>\n<text text-anchor=\"start\" x=\"14118.5\" y=\"-624.8\" font-family=\"Helvetica,sans-Serif\" font-size=\"14.00\" fill=\"#000000\">gini = 0.804</text>\n<text text-anchor=\"start\" x=\"14104.5\" y=\"-610.8\" font-family=\"Helvetica,sans-Serif\" font-size=\"14.00\" fill=\"#000000\">samples = 2908</text>\n<text text-anchor=\"start\" x=\"14018\" y=\"-596.8\" font-family=\"Helvetica,sans-Serif\" font-size=\"14.00\" fill=\"#000000\">value = [4, 227, 839, 1174, 807, 485, 1010]</text>\n</g>\n<!-- 231&#45;&gt;232 -->\n<g id=\"edge232\" class=\"edge\">\n<title>231&#45;&gt;232</title>\n<path fill=\"none\" stroke=\"#000000\" d=\"M14256.1791,-688.8089C14242.1469,-679.2632 14226.6503,-668.7213 14212.1418,-658.8516\"/>\n<polygon fill=\"#000000\" stroke=\"#000000\" points=\"14213.9691,-655.8616 14203.7322,-653.1308 14210.0318,-661.6493 14213.9691,-655.8616\"/>\n</g>\n<!-- 239 -->\n<g id=\"node240\" class=\"node\">\n<title>239</title>\n<path fill=\"#fbe1ed\" stroke=\"#000000\" d=\"M14569.5,-653C14569.5,-653 14333.5,-653 14333.5,-653 14327.5,-653 14321.5,-647 14321.5,-641 14321.5,-641 14321.5,-601 14321.5,-601 14321.5,-595 14327.5,-589 14333.5,-589 14333.5,-589 14569.5,-589 14569.5,-589 14575.5,-589 14581.5,-595 14581.5,-601 14581.5,-601 14581.5,-641 14581.5,-641 14581.5,-647 14575.5,-653 14569.5,-653\"/>\n<text text-anchor=\"start\" x=\"14421\" y=\"-638.8\" font-family=\"Helvetica,sans-Serif\" font-size=\"14.00\" fill=\"#000000\">X</text>\n<text text-anchor=\"start\" x=\"14431\" y=\"-638.8\" font-family=\"Helvetica,sans-Serif\" baseline-shift=\"sub\" font-size=\"14.00\" fill=\"#000000\">0</text>\n<text text-anchor=\"start\" x=\"14438\" y=\"-638.8\" font-family=\"Helvetica,sans-Serif\" font-size=\"14.00\" fill=\"#000000\"> ≤ 22.5</text>\n<text text-anchor=\"start\" x=\"14413.5\" y=\"-624.8\" font-family=\"Helvetica,sans-Serif\" font-size=\"14.00\" fill=\"#000000\">gini = 0.752</text>\n<text text-anchor=\"start\" x=\"14399.5\" y=\"-610.8\" font-family=\"Helvetica,sans-Serif\" font-size=\"14.00\" fill=\"#000000\">samples = 1173</text>\n<text text-anchor=\"start\" x=\"14329.5\" y=\"-596.8\" font-family=\"Helvetica,sans-Serif\" font-size=\"14.00\" fill=\"#000000\">value = [2, 22, 88, 265, 407, 455, 677]</text>\n</g>\n<!-- 231&#45;&gt;239 -->\n<g id=\"edge239\" class=\"edge\">\n<title>231&#45;&gt;239</title>\n<path fill=\"none\" stroke=\"#000000\" d=\"M14351.1428,-688.8089C14365.2705,-679.2632 14380.8725,-668.7213 14395.4797,-658.8516\"/>\n<polygon fill=\"#000000\" stroke=\"#000000\" points=\"14397.6201,-661.6294 14403.9465,-653.1308 14393.7011,-655.8293 14397.6201,-661.6294\"/>\n</g>\n<!-- 233 -->\n<g id=\"node234\" class=\"node\">\n<title>233</title>\n<path fill=\"#e53986\" stroke=\"#000000\" d=\"M13989.5,-547.5C13989.5,-547.5 13819.5,-547.5 13819.5,-547.5 13813.5,-547.5 13807.5,-541.5 13807.5,-535.5 13807.5,-535.5 13807.5,-506.5 13807.5,-506.5 13807.5,-500.5 13813.5,-494.5 13819.5,-494.5 13819.5,-494.5 13989.5,-494.5 13989.5,-494.5 13995.5,-494.5 14001.5,-500.5 14001.5,-506.5 14001.5,-506.5 14001.5,-535.5 14001.5,-535.5 14001.5,-541.5 13995.5,-547.5 13989.5,-547.5\"/>\n<text text-anchor=\"start\" x=\"13875\" y=\"-532.3\" font-family=\"Helvetica,sans-Serif\" font-size=\"14.00\" fill=\"#000000\">gini = 0.0</text>\n<text text-anchor=\"start\" x=\"13856.5\" y=\"-517.3\" font-family=\"Helvetica,sans-Serif\" font-size=\"14.00\" fill=\"#000000\">samples = 190</text>\n<text text-anchor=\"start\" x=\"13815.5\" y=\"-502.3\" font-family=\"Helvetica,sans-Serif\" font-size=\"14.00\" fill=\"#000000\">value = [0, 0, 0, 0, 0, 0, 312]</text>\n</g>\n<!-- 232&#45;&gt;233 -->\n<g id=\"edge233\" class=\"edge\">\n<title>232&#45;&gt;233</title>\n<path fill=\"none\" stroke=\"#000000\" d=\"M14075.7258,-588.9467C14045.3283,-576.8842 14010.8817,-563.2149 13980.8955,-551.3157\"/>\n<polygon fill=\"#000000\" stroke=\"#000000\" points=\"13981.9131,-547.954 13971.3272,-547.5187 13979.3311,-554.4605 13981.9131,-547.954\"/>\n</g>\n<!-- 234 -->\n<g id=\"node235\" class=\"node\">\n<title>234</title>\n<path fill=\"#ebfcfc\" stroke=\"#000000\" d=\"M14293,-553C14293,-553 14032,-553 14032,-553 14026,-553 14020,-547 14020,-541 14020,-541 14020,-501 14020,-501 14020,-495 14026,-489 14032,-489 14032,-489 14293,-489 14293,-489 14299,-489 14305,-495 14305,-501 14305,-501 14305,-541 14305,-541 14305,-547 14299,-553 14293,-553\"/>\n<text text-anchor=\"start\" x=\"14132\" y=\"-538.8\" font-family=\"Helvetica,sans-Serif\" font-size=\"14.00\" fill=\"#000000\">X</text>\n<text text-anchor=\"start\" x=\"14142\" y=\"-538.8\" font-family=\"Helvetica,sans-Serif\" baseline-shift=\"sub\" font-size=\"14.00\" fill=\"#000000\">0</text>\n<text text-anchor=\"start\" x=\"14149\" y=\"-538.8\" font-family=\"Helvetica,sans-Serif\" font-size=\"14.00\" fill=\"#000000\"> ≤ 23.5</text>\n<text text-anchor=\"start\" x=\"14124.5\" y=\"-524.8\" font-family=\"Helvetica,sans-Serif\" font-size=\"14.00\" fill=\"#000000\">gini = 0.804</text>\n<text text-anchor=\"start\" x=\"14110.5\" y=\"-510.8\" font-family=\"Helvetica,sans-Serif\" font-size=\"14.00\" fill=\"#000000\">samples = 2718</text>\n<text text-anchor=\"start\" x=\"14028\" y=\"-496.8\" font-family=\"Helvetica,sans-Serif\" font-size=\"14.00\" fill=\"#000000\">value = [4, 227, 839, 1174, 807, 485, 698]</text>\n</g>\n<!-- 232&#45;&gt;234 -->\n<g id=\"edge234\" class=\"edge\">\n<title>232&#45;&gt;234</title>\n<path fill=\"none\" stroke=\"#000000\" d=\"M14158.4315,-588.8089C14158.9186,-580.6906 14159.4489,-571.8517 14159.9609,-563.3186\"/>\n<polygon fill=\"#000000\" stroke=\"#000000\" points=\"14163.4669,-563.3225 14160.5722,-553.1308 14156.4794,-562.9032 14163.4669,-563.3225\"/>\n</g>\n<!-- 235 -->\n<g id=\"node236\" class=\"node\">\n<title>235</title>\n<path fill=\"#eafcfc\" stroke=\"#000000\" d=\"M13972,-453C13972,-453 13711,-453 13711,-453 13705,-453 13699,-447 13699,-441 13699,-441 13699,-401 13699,-401 13699,-395 13705,-389 13711,-389 13711,-389 13972,-389 13972,-389 13978,-389 13984,-395 13984,-401 13984,-401 13984,-441 13984,-441 13984,-447 13978,-453 13972,-453\"/>\n<text text-anchor=\"start\" x=\"13811\" y=\"-438.8\" font-family=\"Helvetica,sans-Serif\" font-size=\"14.00\" fill=\"#000000\">X</text>\n<text text-anchor=\"start\" x=\"13821\" y=\"-438.8\" font-family=\"Helvetica,sans-Serif\" baseline-shift=\"sub\" font-size=\"14.00\" fill=\"#000000\">0</text>\n<text text-anchor=\"start\" x=\"13828\" y=\"-438.8\" font-family=\"Helvetica,sans-Serif\" font-size=\"14.00\" fill=\"#000000\"> ≤ 22.5</text>\n<text text-anchor=\"start\" x=\"13812\" y=\"-424.8\" font-family=\"Helvetica,sans-Serif\" font-size=\"14.00\" fill=\"#000000\">gini = 0.8</text>\n<text text-anchor=\"start\" x=\"13789.5\" y=\"-410.8\" font-family=\"Helvetica,sans-Serif\" font-size=\"14.00\" fill=\"#000000\">samples = 2595</text>\n<text text-anchor=\"start\" x=\"13707\" y=\"-396.8\" font-family=\"Helvetica,sans-Serif\" font-size=\"14.00\" fill=\"#000000\">value = [4, 227, 839, 1174, 796, 471, 528]</text>\n</g>\n<!-- 234&#45;&gt;235 -->\n<g id=\"edge235\" class=\"edge\">\n<title>234&#45;&gt;235</title>\n<path fill=\"none\" stroke=\"#000000\" d=\"M14059.6091,-488.9467C14025.917,-478.4508 13988.32,-466.7383 13953.9588,-456.0339\"/>\n<polygon fill=\"#000000\" stroke=\"#000000\" points=\"13954.9475,-452.676 13944.359,-453.0433 13952.8654,-459.3593 13954.9475,-452.676\"/>\n</g>\n<!-- 238 -->\n<g id=\"node239\" class=\"node\">\n<title>238</title>\n<path fill=\"#e95497\" stroke=\"#000000\" d=\"M14201,-447.5C14201,-447.5 14014,-447.5 14014,-447.5 14008,-447.5 14002,-441.5 14002,-435.5 14002,-435.5 14002,-406.5 14002,-406.5 14002,-400.5 14008,-394.5 14014,-394.5 14014,-394.5 14201,-394.5 14201,-394.5 14207,-394.5 14213,-400.5 14213,-406.5 14213,-406.5 14213,-435.5 14213,-435.5 14213,-441.5 14207,-447.5 14201,-447.5\"/>\n<text text-anchor=\"start\" x=\"14069.5\" y=\"-432.3\" font-family=\"Helvetica,sans-Serif\" font-size=\"14.00\" fill=\"#000000\">gini = 0.232</text>\n<text text-anchor=\"start\" x=\"14059.5\" y=\"-417.3\" font-family=\"Helvetica,sans-Serif\" font-size=\"14.00\" fill=\"#000000\">samples = 123</text>\n<text text-anchor=\"start\" x=\"14010\" y=\"-402.3\" font-family=\"Helvetica,sans-Serif\" font-size=\"14.00\" fill=\"#000000\">value = [0, 0, 0, 0, 11, 14, 170]</text>\n</g>\n<!-- 234&#45;&gt;238 -->\n<g id=\"edge238\" class=\"edge\">\n<title>234&#45;&gt;238</title>\n<path fill=\"none\" stroke=\"#000000\" d=\"M14144.7949,-488.8089C14139.1601,-478.5638 14132.8941,-467.1711 14127.1315,-456.6936\"/>\n<polygon fill=\"#000000\" stroke=\"#000000\" points=\"14130.1114,-454.849 14122.2254,-447.7735 14123.9779,-458.2224 14130.1114,-454.849\"/>\n</g>\n<!-- 236 -->\n<g id=\"node237\" class=\"node\">\n<title>236</title>\n<path fill=\"#edfdfc\" stroke=\"#000000\" d=\"M13818,-347.5C13818,-347.5 13573,-347.5 13573,-347.5 13567,-347.5 13561,-341.5 13561,-335.5 13561,-335.5 13561,-306.5 13561,-306.5 13561,-300.5 13567,-294.5 13573,-294.5 13573,-294.5 13818,-294.5 13818,-294.5 13824,-294.5 13830,-300.5 13830,-306.5 13830,-306.5 13830,-335.5 13830,-335.5 13830,-341.5 13824,-347.5 13818,-347.5\"/>\n<text text-anchor=\"start\" x=\"13657.5\" y=\"-332.3\" font-family=\"Helvetica,sans-Serif\" font-size=\"14.00\" fill=\"#000000\">gini = 0.794</text>\n<text text-anchor=\"start\" x=\"13643.5\" y=\"-317.3\" font-family=\"Helvetica,sans-Serif\" font-size=\"14.00\" fill=\"#000000\">samples = 1483</text>\n<text text-anchor=\"start\" x=\"13569\" y=\"-302.3\" font-family=\"Helvetica,sans-Serif\" font-size=\"14.00\" fill=\"#000000\">value = [0, 87, 437, 663, 500, 249, 326]</text>\n</g>\n<!-- 235&#45;&gt;236 -->\n<g id=\"edge236\" class=\"edge\">\n<title>235&#45;&gt;236</title>\n<path fill=\"none\" stroke=\"#000000\" d=\"M13794.501,-388.8089C13778.0322,-377.5289 13759.5324,-364.8578 13743.0211,-353.5487\"/>\n<polygon fill=\"#000000\" stroke=\"#000000\" points=\"13744.8175,-350.5368 13734.5893,-347.7735 13740.8618,-356.3121 13744.8175,-350.5368\"/>\n</g>\n<!-- 237 -->\n<g id=\"node238\" class=\"node\">\n<title>237</title>\n<path fill=\"#effdfd\" stroke=\"#000000\" d=\"M14113,-347.5C14113,-347.5 13860,-347.5 13860,-347.5 13854,-347.5 13848,-341.5 13848,-335.5 13848,-335.5 13848,-306.5 13848,-306.5 13848,-300.5 13854,-294.5 13860,-294.5 13860,-294.5 14113,-294.5 14113,-294.5 14119,-294.5 14125,-300.5 14125,-306.5 14125,-306.5 14125,-335.5 14125,-335.5 14125,-341.5 14119,-347.5 14113,-347.5\"/>\n<text text-anchor=\"start\" x=\"13948.5\" y=\"-332.3\" font-family=\"Helvetica,sans-Serif\" font-size=\"14.00\" fill=\"#000000\">gini = 0.804</text>\n<text text-anchor=\"start\" x=\"13934.5\" y=\"-317.3\" font-family=\"Helvetica,sans-Serif\" font-size=\"14.00\" fill=\"#000000\">samples = 1112</text>\n<text text-anchor=\"start\" x=\"13856\" y=\"-302.3\" font-family=\"Helvetica,sans-Serif\" font-size=\"14.00\" fill=\"#000000\">value = [4, 140, 402, 511, 296, 222, 202]</text>\n</g>\n<!-- 235&#45;&gt;237 -->\n<g id=\"edge237\" class=\"edge\">\n<title>235&#45;&gt;237</title>\n<path fill=\"none\" stroke=\"#000000\" d=\"M13888.1771,-388.8089C13904.5331,-377.5289 13922.9062,-364.8578 13939.3044,-353.5487\"/>\n<polygon fill=\"#000000\" stroke=\"#000000\" points=\"13941.4333,-356.3321 13947.6784,-347.7735 13937.4592,-350.5696 13941.4333,-356.3321\"/>\n</g>\n<!-- 240 -->\n<g id=\"node241\" class=\"node\">\n<title>240</title>\n<path fill=\"#fad9e8\" stroke=\"#000000\" d=\"M14555.5,-553C14555.5,-553 14335.5,-553 14335.5,-553 14329.5,-553 14323.5,-547 14323.5,-541 14323.5,-541 14323.5,-501 14323.5,-501 14323.5,-495 14329.5,-489 14335.5,-489 14335.5,-489 14555.5,-489 14555.5,-489 14561.5,-489 14567.5,-495 14567.5,-501 14567.5,-501 14567.5,-541 14567.5,-541 14567.5,-547 14561.5,-553 14555.5,-553\"/>\n<text text-anchor=\"start\" x=\"14415\" y=\"-538.8\" font-family=\"Helvetica,sans-Serif\" font-size=\"14.00\" fill=\"#000000\">X</text>\n<text text-anchor=\"start\" x=\"14425\" y=\"-538.8\" font-family=\"Helvetica,sans-Serif\" baseline-shift=\"sub\" font-size=\"14.00\" fill=\"#000000\">0</text>\n<text text-anchor=\"start\" x=\"14432\" y=\"-538.8\" font-family=\"Helvetica,sans-Serif\" font-size=\"14.00\" fill=\"#000000\"> ≤ 20.5</text>\n<text text-anchor=\"start\" x=\"14407.5\" y=\"-524.8\" font-family=\"Helvetica,sans-Serif\" font-size=\"14.00\" fill=\"#000000\">gini = 0.715</text>\n<text text-anchor=\"start\" x=\"14397.5\" y=\"-510.8\" font-family=\"Helvetica,sans-Serif\" font-size=\"14.00\" fill=\"#000000\">samples = 640</text>\n<text text-anchor=\"start\" x=\"14331.5\" y=\"-496.8\" font-family=\"Helvetica,sans-Serif\" font-size=\"14.00\" fill=\"#000000\">value = [0, 5, 40, 96, 189, 278, 422]</text>\n</g>\n<!-- 239&#45;&gt;240 -->\n<g id=\"edge240\" class=\"edge\">\n<title>239&#45;&gt;240</title>\n<path fill=\"none\" stroke=\"#000000\" d=\"M14449.5685,-588.8089C14449.0814,-580.6906 14448.5511,-571.8517 14448.0391,-563.3186\"/>\n<polygon fill=\"#000000\" stroke=\"#000000\" points=\"14451.5206,-562.9032 14447.4278,-553.1308 14444.5331,-563.3225 14451.5206,-562.9032\"/>\n</g>\n<!-- 243 -->\n<g id=\"node244\" class=\"node\">\n<title>243</title>\n<path fill=\"#fef4f8\" stroke=\"#000000\" d=\"M14833.5,-547.5C14833.5,-547.5 14597.5,-547.5 14597.5,-547.5 14591.5,-547.5 14585.5,-541.5 14585.5,-535.5 14585.5,-535.5 14585.5,-506.5 14585.5,-506.5 14585.5,-500.5 14591.5,-494.5 14597.5,-494.5 14597.5,-494.5 14833.5,-494.5 14833.5,-494.5 14839.5,-494.5 14845.5,-500.5 14845.5,-506.5 14845.5,-506.5 14845.5,-535.5 14845.5,-535.5 14845.5,-541.5 14839.5,-547.5 14833.5,-547.5\"/>\n<text text-anchor=\"start\" x=\"14677.5\" y=\"-532.3\" font-family=\"Helvetica,sans-Serif\" font-size=\"14.00\" fill=\"#000000\">gini = 0.777</text>\n<text text-anchor=\"start\" x=\"14667.5\" y=\"-517.3\" font-family=\"Helvetica,sans-Serif\" font-size=\"14.00\" fill=\"#000000\">samples = 533</text>\n<text text-anchor=\"start\" x=\"14593.5\" y=\"-502.3\" font-family=\"Helvetica,sans-Serif\" font-size=\"14.00\" fill=\"#000000\">value = [2, 17, 48, 169, 218, 177, 255]</text>\n</g>\n<!-- 239&#45;&gt;243 -->\n<g id=\"edge243\" class=\"edge\">\n<title>239&#45;&gt;243</title>\n<path fill=\"none\" stroke=\"#000000\" d=\"M14536.1206,-588.9467C14568.1035,-576.832 14604.3651,-563.0966 14635.8744,-551.1612\"/>\n<polygon fill=\"#000000\" stroke=\"#000000\" points=\"14637.3788,-554.3341 14645.4906,-547.5187 14634.8991,-547.788 14637.3788,-554.3341\"/>\n</g>\n<!-- 241 -->\n<g id=\"node242\" class=\"node\">\n<title>241</title>\n<path fill=\"#efd7fa\" stroke=\"#000000\" d=\"M14405.5,-447.5C14405.5,-447.5 14243.5,-447.5 14243.5,-447.5 14237.5,-447.5 14231.5,-441.5 14231.5,-435.5 14231.5,-435.5 14231.5,-406.5 14231.5,-406.5 14231.5,-400.5 14237.5,-394.5 14243.5,-394.5 14243.5,-394.5 14405.5,-394.5 14405.5,-394.5 14411.5,-394.5 14417.5,-400.5 14417.5,-406.5 14417.5,-406.5 14417.5,-435.5 14417.5,-435.5 14417.5,-441.5 14411.5,-447.5 14405.5,-447.5\"/>\n<text text-anchor=\"start\" x=\"14291\" y=\"-432.3\" font-family=\"Helvetica,sans-Serif\" font-size=\"14.00\" fill=\"#000000\">gini = 0.62</text>\n<text text-anchor=\"start\" x=\"14280.5\" y=\"-417.3\" font-family=\"Helvetica,sans-Serif\" font-size=\"14.00\" fill=\"#000000\">samples = 14</text>\n<text text-anchor=\"start\" x=\"14239.5\" y=\"-402.3\" font-family=\"Helvetica,sans-Serif\" font-size=\"14.00\" fill=\"#000000\">value = [0, 0, 0, 0, 4, 11, 8]</text>\n</g>\n<!-- 240&#45;&gt;241 -->\n<g id=\"edge241\" class=\"edge\">\n<title>240&#45;&gt;241</title>\n<path fill=\"none\" stroke=\"#000000\" d=\"M14406.5488,-488.8089C14393.1504,-477.7359 14378.13,-465.3223 14364.6388,-454.1726\"/>\n<polygon fill=\"#000000\" stroke=\"#000000\" points=\"14366.8339,-451.4461 14356.896,-447.7735 14362.3746,-456.8419 14366.8339,-451.4461\"/>\n</g>\n<!-- 242 -->\n<g id=\"node243\" class=\"node\">\n<title>242</title>\n<path fill=\"#fad8e7\" stroke=\"#000000\" d=\"M14667.5,-447.5C14667.5,-447.5 14447.5,-447.5 14447.5,-447.5 14441.5,-447.5 14435.5,-441.5 14435.5,-435.5 14435.5,-435.5 14435.5,-406.5 14435.5,-406.5 14435.5,-400.5 14441.5,-394.5 14447.5,-394.5 14447.5,-394.5 14667.5,-394.5 14667.5,-394.5 14673.5,-394.5 14679.5,-400.5 14679.5,-406.5 14679.5,-406.5 14679.5,-435.5 14679.5,-435.5 14679.5,-441.5 14673.5,-447.5 14667.5,-447.5\"/>\n<text text-anchor=\"start\" x=\"14519.5\" y=\"-432.3\" font-family=\"Helvetica,sans-Serif\" font-size=\"14.00\" fill=\"#000000\">gini = 0.716</text>\n<text text-anchor=\"start\" x=\"14509.5\" y=\"-417.3\" font-family=\"Helvetica,sans-Serif\" font-size=\"14.00\" fill=\"#000000\">samples = 626</text>\n<text text-anchor=\"start\" x=\"14443.5\" y=\"-402.3\" font-family=\"Helvetica,sans-Serif\" font-size=\"14.00\" fill=\"#000000\">value = [0, 5, 40, 96, 185, 267, 414]</text>\n</g>\n<!-- 240&#45;&gt;242 -->\n<g id=\"edge242\" class=\"edge\">\n<title>240&#45;&gt;242</title>\n<path fill=\"none\" stroke=\"#000000\" d=\"M14481.554,-488.8089C14493.8399,-477.8393 14507.5992,-465.5543 14519.9962,-454.4855\"/>\n<polygon fill=\"#000000\" stroke=\"#000000\" points=\"14522.3853,-457.0445 14527.5137,-447.7735 14517.7232,-451.8229 14522.3853,-457.0445\"/>\n</g>\n<!-- 245 -->\n<g id=\"node246\" class=\"node\">\n<title>245</title>\n<path fill=\"#feffff\" stroke=\"#000000\" d=\"M15133,-653C15133,-653 14872,-653 14872,-653 14866,-653 14860,-647 14860,-641 14860,-641 14860,-601 14860,-601 14860,-595 14866,-589 14872,-589 14872,-589 15133,-589 15133,-589 15139,-589 15145,-595 15145,-601 15145,-601 15145,-641 15145,-641 15145,-647 15139,-653 15133,-653\"/>\n<text text-anchor=\"start\" x=\"14972\" y=\"-638.8\" font-family=\"Helvetica,sans-Serif\" font-size=\"14.00\" fill=\"#000000\">X</text>\n<text text-anchor=\"start\" x=\"14982\" y=\"-638.8\" font-family=\"Helvetica,sans-Serif\" baseline-shift=\"sub\" font-size=\"14.00\" fill=\"#000000\">0</text>\n<text text-anchor=\"start\" x=\"14989\" y=\"-638.8\" font-family=\"Helvetica,sans-Serif\" font-size=\"14.00\" fill=\"#000000\"> ≤ 22.5</text>\n<text text-anchor=\"start\" x=\"14964.5\" y=\"-624.8\" font-family=\"Helvetica,sans-Serif\" font-size=\"14.00\" fill=\"#000000\">gini = 0.807</text>\n<text text-anchor=\"start\" x=\"14950.5\" y=\"-610.8\" font-family=\"Helvetica,sans-Serif\" font-size=\"14.00\" fill=\"#000000\">samples = 2612</text>\n<text text-anchor=\"start\" x=\"14868\" y=\"-596.8\" font-family=\"Helvetica,sans-Serif\" font-size=\"14.00\" fill=\"#000000\">value = [0, 200, 743, 1001, 993, 669, 536]</text>\n</g>\n<!-- 244&#45;&gt;245 -->\n<g id=\"edge245\" class=\"edge\">\n<title>244&#45;&gt;245</title>\n<path fill=\"none\" stroke=\"#000000\" d=\"M15002.5,-688.8089C15002.5,-680.6906 15002.5,-671.8517 15002.5,-663.3186\"/>\n<polygon fill=\"#000000\" stroke=\"#000000\" points=\"15006.0001,-663.1307 15002.5,-653.1308 14999.0001,-663.1308 15006.0001,-663.1307\"/>\n</g>\n<!-- 252 -->\n<g id=\"node253\" class=\"node\">\n<title>252</title>\n<path fill=\"#aff5f3\" stroke=\"#000000\" d=\"M15362,-647.5C15362,-647.5 15175,-647.5 15175,-647.5 15169,-647.5 15163,-641.5 15163,-635.5 15163,-635.5 15163,-606.5 15163,-606.5 15163,-600.5 15169,-594.5 15175,-594.5 15175,-594.5 15362,-594.5 15362,-594.5 15368,-594.5 15374,-600.5 15374,-606.5 15374,-606.5 15374,-635.5 15374,-635.5 15374,-641.5 15368,-647.5 15362,-647.5\"/>\n<text text-anchor=\"start\" x=\"15230.5\" y=\"-632.3\" font-family=\"Helvetica,sans-Serif\" font-size=\"14.00\" fill=\"#000000\">gini = 0.618</text>\n<text text-anchor=\"start\" x=\"15220.5\" y=\"-617.3\" font-family=\"Helvetica,sans-Serif\" font-size=\"14.00\" fill=\"#000000\">samples = 143</text>\n<text text-anchor=\"start\" x=\"15171\" y=\"-602.3\" font-family=\"Helvetica,sans-Serif\" font-size=\"14.00\" fill=\"#000000\">value = [0, 0, 54, 125, 40, 8, 3]</text>\n</g>\n<!-- 244&#45;&gt;252 -->\n<g id=\"edge252\" class=\"edge\">\n<title>244&#45;&gt;252</title>\n<path fill=\"none\" stroke=\"#000000\" d=\"M15087.7616,-688.9467C15119.9868,-676.832 15156.5231,-663.0966 15188.2712,-651.1612\"/>\n<polygon fill=\"#000000\" stroke=\"#000000\" points=\"15189.8314,-654.3139 15197.9602,-647.5187 15187.3681,-647.7616 15189.8314,-654.3139\"/>\n</g>\n<!-- 246 -->\n<g id=\"node247\" class=\"node\">\n<title>246</title>\n<path fill=\"#f8fefe\" stroke=\"#000000\" d=\"M15129,-553C15129,-553 14876,-553 14876,-553 14870,-553 14864,-547 14864,-541 14864,-541 14864,-501 14864,-501 14864,-495 14870,-489 14876,-489 14876,-489 15129,-489 15129,-489 15135,-489 15141,-495 15141,-501 15141,-501 15141,-541 15141,-541 15141,-547 15135,-553 15129,-553\"/>\n<text text-anchor=\"start\" x=\"14972\" y=\"-538.8\" font-family=\"Helvetica,sans-Serif\" font-size=\"14.00\" fill=\"#000000\">X</text>\n<text text-anchor=\"start\" x=\"14982\" y=\"-538.8\" font-family=\"Helvetica,sans-Serif\" baseline-shift=\"sub\" font-size=\"14.00\" fill=\"#000000\">0</text>\n<text text-anchor=\"start\" x=\"14989\" y=\"-538.8\" font-family=\"Helvetica,sans-Serif\" font-size=\"14.00\" fill=\"#000000\"> ≤ 21.0</text>\n<text text-anchor=\"start\" x=\"14969\" y=\"-524.8\" font-family=\"Helvetica,sans-Serif\" font-size=\"14.00\" fill=\"#000000\">gini = 0.81</text>\n<text text-anchor=\"start\" x=\"14950.5\" y=\"-510.8\" font-family=\"Helvetica,sans-Serif\" font-size=\"14.00\" fill=\"#000000\">samples = 1448</text>\n<text text-anchor=\"start\" x=\"14872\" y=\"-496.8\" font-family=\"Helvetica,sans-Serif\" font-size=\"14.00\" fill=\"#000000\">value = [0, 173, 511, 577, 489, 319, 261]</text>\n</g>\n<!-- 245&#45;&gt;246 -->\n<g id=\"edge246\" class=\"edge\">\n<title>245&#45;&gt;246</title>\n<path fill=\"none\" stroke=\"#000000\" d=\"M15002.5,-588.8089C15002.5,-580.6906 15002.5,-571.8517 15002.5,-563.3186\"/>\n<polygon fill=\"#000000\" stroke=\"#000000\" points=\"15006.0001,-563.1307 15002.5,-553.1308 14999.0001,-563.1308 15006.0001,-563.1307\"/>\n</g>\n<!-- 251 -->\n<g id=\"node252\" class=\"node\">\n<title>251</title>\n<path fill=\"#f4f5fe\" stroke=\"#000000\" d=\"M15416,-547.5C15416,-547.5 15171,-547.5 15171,-547.5 15165,-547.5 15159,-541.5 15159,-535.5 15159,-535.5 15159,-506.5 15159,-506.5 15159,-500.5 15165,-494.5 15171,-494.5 15171,-494.5 15416,-494.5 15416,-494.5 15422,-494.5 15428,-500.5 15428,-506.5 15428,-506.5 15428,-535.5 15428,-535.5 15428,-541.5 15422,-547.5 15416,-547.5\"/>\n<text text-anchor=\"start\" x=\"15255.5\" y=\"-532.3\" font-family=\"Helvetica,sans-Serif\" font-size=\"14.00\" fill=\"#000000\">gini = 0.791</text>\n<text text-anchor=\"start\" x=\"15241.5\" y=\"-517.3\" font-family=\"Helvetica,sans-Serif\" font-size=\"14.00\" fill=\"#000000\">samples = 1164</text>\n<text text-anchor=\"start\" x=\"15167\" y=\"-502.3\" font-family=\"Helvetica,sans-Serif\" font-size=\"14.00\" fill=\"#000000\">value = [0, 27, 232, 424, 504, 350, 275]</text>\n</g>\n<!-- 245&#45;&gt;251 -->\n<g id=\"edge251\" class=\"edge\">\n<title>245&#45;&gt;251</title>\n<path fill=\"none\" stroke=\"#000000\" d=\"M15095.775,-588.9467C15131.3327,-576.7276 15171.6885,-562.8596 15206.6279,-550.853\"/>\n<polygon fill=\"#000000\" stroke=\"#000000\" points=\"15208.0108,-554.0787 15216.3305,-547.5187 15205.7358,-547.4587 15208.0108,-554.0787\"/>\n</g>\n<!-- 247 -->\n<g id=\"node248\" class=\"node\">\n<title>247</title>\n<path fill=\"#e8ebfc\" stroke=\"#000000\" d=\"M14937.5,-453C14937.5,-453 14709.5,-453 14709.5,-453 14703.5,-453 14697.5,-447 14697.5,-441 14697.5,-441 14697.5,-401 14697.5,-401 14697.5,-395 14703.5,-389 14709.5,-389 14709.5,-389 14937.5,-389 14937.5,-389 14943.5,-389 14949.5,-395 14949.5,-401 14949.5,-401 14949.5,-441 14949.5,-441 14949.5,-447 14943.5,-453 14937.5,-453\"/>\n<text text-anchor=\"start\" x=\"14793\" y=\"-438.8\" font-family=\"Helvetica,sans-Serif\" font-size=\"14.00\" fill=\"#000000\">X</text>\n<text text-anchor=\"start\" x=\"14803\" y=\"-438.8\" font-family=\"Helvetica,sans-Serif\" baseline-shift=\"sub\" font-size=\"14.00\" fill=\"#000000\">0</text>\n<text text-anchor=\"start\" x=\"14810\" y=\"-438.8\" font-family=\"Helvetica,sans-Serif\" font-size=\"14.00\" fill=\"#000000\"> ≤ 19.5</text>\n<text text-anchor=\"start\" x=\"14785.5\" y=\"-424.8\" font-family=\"Helvetica,sans-Serif\" font-size=\"14.00\" fill=\"#000000\">gini = 0.772</text>\n<text text-anchor=\"start\" x=\"14775.5\" y=\"-410.8\" font-family=\"Helvetica,sans-Serif\" font-size=\"14.00\" fill=\"#000000\">samples = 295</text>\n<text text-anchor=\"start\" x=\"14705.5\" y=\"-396.8\" font-family=\"Helvetica,sans-Serif\" font-size=\"14.00\" fill=\"#000000\">value = [0, 10, 48, 116, 160, 106, 53]</text>\n</g>\n<!-- 246&#45;&gt;247 -->\n<g id=\"edge247\" class=\"edge\">\n<title>246&#45;&gt;247</title>\n<path fill=\"none\" stroke=\"#000000\" d=\"M14944.878,-488.8089C14927.312,-478.9955 14907.8615,-468.1293 14889.7713,-458.023\"/>\n<polygon fill=\"#000000\" stroke=\"#000000\" points=\"14891.4511,-454.9524 14881.0141,-453.1308 14888.0371,-461.0635 14891.4511,-454.9524\"/>\n</g>\n<!-- 250 -->\n<g id=\"node251\" class=\"node\">\n<title>250</title>\n<path fill=\"#ffffff\" stroke=\"#000000\" d=\"M15233,-447.5C15233,-447.5 14980,-447.5 14980,-447.5 14974,-447.5 14968,-441.5 14968,-435.5 14968,-435.5 14968,-406.5 14968,-406.5 14968,-400.5 14974,-394.5 14980,-394.5 14980,-394.5 15233,-394.5 15233,-394.5 15239,-394.5 15245,-400.5 15245,-406.5 15245,-406.5 15245,-435.5 15245,-435.5 15245,-441.5 15239,-447.5 15233,-447.5\"/>\n<text text-anchor=\"start\" x=\"15068.5\" y=\"-432.3\" font-family=\"Helvetica,sans-Serif\" font-size=\"14.00\" fill=\"#000000\">gini = 0.807</text>\n<text text-anchor=\"start\" x=\"15054.5\" y=\"-417.3\" font-family=\"Helvetica,sans-Serif\" font-size=\"14.00\" fill=\"#000000\">samples = 1153</text>\n<text text-anchor=\"start\" x=\"14976\" y=\"-402.3\" font-family=\"Helvetica,sans-Serif\" font-size=\"14.00\" fill=\"#000000\">value = [0, 163, 463, 461, 329, 213, 208]</text>\n</g>\n<!-- 246&#45;&gt;250 -->\n<g id=\"edge250\" class=\"edge\">\n<title>246&#45;&gt;250</title>\n<path fill=\"none\" stroke=\"#000000\" d=\"M15035.9787,-488.8089C15047.2795,-477.9428 15059.9226,-465.7859 15071.3489,-454.7991\"/>\n<polygon fill=\"#000000\" stroke=\"#000000\" points=\"15073.8731,-457.2276 15078.6555,-447.7735 15069.0213,-452.1817 15073.8731,-457.2276\"/>\n</g>\n<!-- 248 -->\n<g id=\"node249\" class=\"node\">\n<title>248</title>\n<path fill=\"#eaedfc\" stroke=\"#000000\" d=\"M14818.5,-347.5C14818.5,-347.5 14598.5,-347.5 14598.5,-347.5 14592.5,-347.5 14586.5,-341.5 14586.5,-335.5 14586.5,-335.5 14586.5,-306.5 14586.5,-306.5 14586.5,-300.5 14592.5,-294.5 14598.5,-294.5 14598.5,-294.5 14818.5,-294.5 14818.5,-294.5 14824.5,-294.5 14830.5,-300.5 14830.5,-306.5 14830.5,-306.5 14830.5,-335.5 14830.5,-335.5 14830.5,-341.5 14824.5,-347.5 14818.5,-347.5\"/>\n<text text-anchor=\"start\" x=\"14670.5\" y=\"-332.3\" font-family=\"Helvetica,sans-Serif\" font-size=\"14.00\" fill=\"#000000\">gini = 0.772</text>\n<text text-anchor=\"start\" x=\"14660.5\" y=\"-317.3\" font-family=\"Helvetica,sans-Serif\" font-size=\"14.00\" fill=\"#000000\">samples = 285</text>\n<text text-anchor=\"start\" x=\"14594.5\" y=\"-302.3\" font-family=\"Helvetica,sans-Serif\" font-size=\"14.00\" fill=\"#000000\">value = [0, 10, 48, 116, 155, 99, 50]</text>\n</g>\n<!-- 247&#45;&gt;248 -->\n<g id=\"edge248\" class=\"edge\">\n<title>247&#45;&gt;248</title>\n<path fill=\"none\" stroke=\"#000000\" d=\"M14786.4803,-388.8089C14773.8652,-377.8393 14759.7374,-365.5543 14747.0084,-354.4855\"/>\n<polygon fill=\"#000000\" stroke=\"#000000\" points=\"14749.1323,-351.6942 14739.2895,-347.7735 14744.539,-356.9765 14749.1323,-351.6942\"/>\n</g>\n<!-- 249 -->\n<g id=\"node250\" class=\"node\">\n<title>249</title>\n<path fill=\"#efd7fa\" stroke=\"#000000\" d=\"M15014.5,-347.5C15014.5,-347.5 14860.5,-347.5 14860.5,-347.5 14854.5,-347.5 14848.5,-341.5 14848.5,-335.5 14848.5,-335.5 14848.5,-306.5 14848.5,-306.5 14848.5,-300.5 14854.5,-294.5 14860.5,-294.5 14860.5,-294.5 15014.5,-294.5 15014.5,-294.5 15020.5,-294.5 15026.5,-300.5 15026.5,-306.5 15026.5,-306.5 15026.5,-335.5 15026.5,-335.5 15026.5,-341.5 15020.5,-347.5 15014.5,-347.5\"/>\n<text text-anchor=\"start\" x=\"14899.5\" y=\"-332.3\" font-family=\"Helvetica,sans-Serif\" font-size=\"14.00\" fill=\"#000000\">gini = 0.631</text>\n<text text-anchor=\"start\" x=\"14893.5\" y=\"-317.3\" font-family=\"Helvetica,sans-Serif\" font-size=\"14.00\" fill=\"#000000\">samples = 10</text>\n<text text-anchor=\"start\" x=\"14856.5\" y=\"-302.3\" font-family=\"Helvetica,sans-Serif\" font-size=\"14.00\" fill=\"#000000\">value = [0, 0, 0, 0, 5, 7, 3]</text>\n</g>\n<!-- 247&#45;&gt;249 -->\n<g id=\"edge249\" class=\"edge\">\n<title>247&#45;&gt;249</title>\n<path fill=\"none\" stroke=\"#000000\" d=\"M14860.1978,-388.8089C14872.7031,-377.8393 14886.7081,-365.5543 14899.3265,-354.4855\"/>\n<polygon fill=\"#000000\" stroke=\"#000000\" points=\"14901.7686,-356.9991 14906.9782,-347.7735 14897.1525,-351.7368 14901.7686,-356.9991\"/>\n</g>\n<!-- 254 -->\n<g id=\"node255\" class=\"node\">\n<title>254</title>\n<path fill=\"#fcfef8\" stroke=\"#000000\" d=\"M15988,-953C15988,-953 15719,-953 15719,-953 15713,-953 15707,-947 15707,-941 15707,-941 15707,-901 15707,-901 15707,-895 15713,-889 15719,-889 15719,-889 15988,-889 15988,-889 15994,-889 16000,-895 16000,-901 16000,-901 16000,-941 16000,-941 16000,-947 15994,-953 15988,-953\"/>\n<text text-anchor=\"start\" x=\"15827\" y=\"-938.8\" font-family=\"Helvetica,sans-Serif\" font-size=\"14.00\" fill=\"#000000\">X</text>\n<text text-anchor=\"start\" x=\"15837\" y=\"-938.8\" font-family=\"Helvetica,sans-Serif\" baseline-shift=\"sub\" font-size=\"14.00\" fill=\"#000000\">0</text>\n<text text-anchor=\"start\" x=\"15844\" y=\"-938.8\" font-family=\"Helvetica,sans-Serif\" font-size=\"14.00\" fill=\"#000000\"> ≤ 7.5</text>\n<text text-anchor=\"start\" x=\"15815.5\" y=\"-924.8\" font-family=\"Helvetica,sans-Serif\" font-size=\"14.00\" fill=\"#000000\">gini = 0.731</text>\n<text text-anchor=\"start\" x=\"15801.5\" y=\"-910.8\" font-family=\"Helvetica,sans-Serif\" font-size=\"14.00\" fill=\"#000000\">samples = 2357</text>\n<text text-anchor=\"start\" x=\"15715\" y=\"-896.8\" font-family=\"Helvetica,sans-Serif\" font-size=\"14.00\" fill=\"#000000\">value = [184, 1318, 1229, 640, 209, 69, 85]</text>\n</g>\n<!-- 253&#45;&gt;254 -->\n<g id=\"edge254\" class=\"edge\">\n<title>253&#45;&gt;254</title>\n<path fill=\"none\" stroke=\"#000000\" d=\"M15853.5,-988.8089C15853.5,-980.6906 15853.5,-971.8517 15853.5,-963.3186\"/>\n<polygon fill=\"#000000\" stroke=\"#000000\" points=\"15857.0001,-963.1307 15853.5,-953.1308 15850.0001,-963.1308 15857.0001,-963.1307\"/>\n</g>\n<!-- 297 -->\n<g id=\"node298\" class=\"node\">\n<title>297</title>\n<path fill=\"#e7f6bd\" stroke=\"#000000\" d=\"M17370,-953C17370,-953 17109,-953 17109,-953 17103,-953 17097,-947 17097,-941 17097,-941 17097,-901 17097,-901 17097,-895 17103,-889 17109,-889 17109,-889 17370,-889 17370,-889 17376,-889 17382,-895 17382,-901 17382,-901 17382,-941 17382,-941 17382,-947 17376,-953 17370,-953\"/>\n<text text-anchor=\"start\" x=\"17213\" y=\"-938.8\" font-family=\"Helvetica,sans-Serif\" font-size=\"14.00\" fill=\"#000000\">X</text>\n<text text-anchor=\"start\" x=\"17223\" y=\"-938.8\" font-family=\"Helvetica,sans-Serif\" baseline-shift=\"sub\" font-size=\"14.00\" fill=\"#000000\">1</text>\n<text text-anchor=\"start\" x=\"17230\" y=\"-938.8\" font-family=\"Helvetica,sans-Serif\" font-size=\"14.00\" fill=\"#000000\"> ≤ 6.5</text>\n<text text-anchor=\"start\" x=\"17201.5\" y=\"-924.8\" font-family=\"Helvetica,sans-Serif\" font-size=\"14.00\" fill=\"#000000\">gini = 0.651</text>\n<text text-anchor=\"start\" x=\"17187.5\" y=\"-910.8\" font-family=\"Helvetica,sans-Serif\" font-size=\"14.00\" fill=\"#000000\">samples = 2149</text>\n<text text-anchor=\"start\" x=\"17105\" y=\"-896.8\" font-family=\"Helvetica,sans-Serif\" font-size=\"14.00\" fill=\"#000000\">value = [180, 1758, 927, 235, 162, 93, 62]</text>\n</g>\n<!-- 253&#45;&gt;297 -->\n<g id=\"edge297\" class=\"edge\">\n<title>253&#45;&gt;297</title>\n<path fill=\"none\" stroke=\"#000000\" d=\"M16008.792,-1009.7957C16276.3152,-990.4939 16820.9056,-951.2016 17086.6983,-932.0247\"/>\n<polygon fill=\"#000000\" stroke=\"#000000\" points=\"17087.0898,-935.5056 17096.812,-931.295 17086.586,-928.5237 17087.0898,-935.5056\"/>\n</g>\n<!-- 255 -->\n<g id=\"node256\" class=\"node\">\n<title>255</title>\n<path fill=\"#e1f4ae\" stroke=\"#000000\" d=\"M15918.5,-853C15918.5,-853 15698.5,-853 15698.5,-853 15692.5,-853 15686.5,-847 15686.5,-841 15686.5,-841 15686.5,-801 15686.5,-801 15686.5,-795 15692.5,-789 15698.5,-789 15698.5,-789 15918.5,-789 15918.5,-789 15924.5,-789 15930.5,-795 15930.5,-801 15930.5,-801 15930.5,-841 15930.5,-841 15930.5,-847 15924.5,-853 15918.5,-853\"/>\n<text text-anchor=\"start\" x=\"15782\" y=\"-838.8\" font-family=\"Helvetica,sans-Serif\" font-size=\"14.00\" fill=\"#000000\">X</text>\n<text text-anchor=\"start\" x=\"15792\" y=\"-838.8\" font-family=\"Helvetica,sans-Serif\" baseline-shift=\"sub\" font-size=\"14.00\" fill=\"#000000\">1</text>\n<text text-anchor=\"start\" x=\"15799\" y=\"-838.8\" font-family=\"Helvetica,sans-Serif\" font-size=\"14.00\" fill=\"#000000\"> ≤ 6.5</text>\n<text text-anchor=\"start\" x=\"15770.5\" y=\"-824.8\" font-family=\"Helvetica,sans-Serif\" font-size=\"14.00\" fill=\"#000000\">gini = 0.676</text>\n<text text-anchor=\"start\" x=\"15760.5\" y=\"-810.8\" font-family=\"Helvetica,sans-Serif\" font-size=\"14.00\" fill=\"#000000\">samples = 255</text>\n<text text-anchor=\"start\" x=\"15694.5\" y=\"-796.8\" font-family=\"Helvetica,sans-Serif\" font-size=\"14.00\" fill=\"#000000\">value = [42, 223, 79, 35, 22, 13, 16]</text>\n</g>\n<!-- 254&#45;&gt;255 -->\n<g id=\"edge255\" class=\"edge\">\n<title>254&#45;&gt;255</title>\n<path fill=\"none\" stroke=\"#000000\" d=\"M15839.014,-888.8089C15835.2403,-880.4229 15831.1207,-871.2681 15827.1641,-862.4757\"/>\n<polygon fill=\"#000000\" stroke=\"#000000\" points=\"15830.2543,-860.8137 15822.9588,-853.1308 15823.8708,-863.6863 15830.2543,-860.8137\"/>\n</g>\n<!-- 260 -->\n<g id=\"node261\" class=\"node\">\n<title>260</title>\n<path fill=\"#fafefb\" stroke=\"#000000\" d=\"M16347,-853C16347,-853 16078,-853 16078,-853 16072,-853 16066,-847 16066,-841 16066,-841 16066,-801 16066,-801 16066,-795 16072,-789 16078,-789 16078,-789 16347,-789 16347,-789 16353,-789 16359,-795 16359,-801 16359,-801 16359,-841 16359,-841 16359,-847 16353,-853 16347,-853\"/>\n<text text-anchor=\"start\" x=\"16186\" y=\"-838.8\" font-family=\"Helvetica,sans-Serif\" font-size=\"14.00\" fill=\"#000000\">X</text>\n<text text-anchor=\"start\" x=\"16196\" y=\"-838.8\" font-family=\"Helvetica,sans-Serif\" baseline-shift=\"sub\" font-size=\"14.00\" fill=\"#000000\">1</text>\n<text text-anchor=\"start\" x=\"16203\" y=\"-838.8\" font-family=\"Helvetica,sans-Serif\" font-size=\"14.00\" fill=\"#000000\"> ≤ 8.0</text>\n<text text-anchor=\"start\" x=\"16179\" y=\"-824.8\" font-family=\"Helvetica,sans-Serif\" font-size=\"14.00\" fill=\"#000000\">gini = 0.73</text>\n<text text-anchor=\"start\" x=\"16160.5\" y=\"-810.8\" font-family=\"Helvetica,sans-Serif\" font-size=\"14.00\" fill=\"#000000\">samples = 2102</text>\n<text text-anchor=\"start\" x=\"16074\" y=\"-796.8\" font-family=\"Helvetica,sans-Serif\" font-size=\"14.00\" fill=\"#000000\">value = [142, 1095, 1150, 605, 187, 56, 69]</text>\n</g>\n<!-- 254&#45;&gt;260 -->\n<g id=\"edge260\" class=\"edge\">\n<title>254&#45;&gt;260</title>\n<path fill=\"none\" stroke=\"#000000\" d=\"M15968.5712,-888.9467C16006.5737,-878.3611 16049.0186,-866.538 16087.7128,-855.7597\"/>\n<polygon fill=\"#000000\" stroke=\"#000000\" points=\"16088.7705,-859.0984 16097.4646,-853.0433 16086.8921,-852.3551 16088.7705,-859.0984\"/>\n</g>\n<!-- 256 -->\n<g id=\"node257\" class=\"node\">\n<title>256</title>\n<path fill=\"#daf29a\" stroke=\"#000000\" d=\"M15665,-747.5C15665,-747.5 15470,-747.5 15470,-747.5 15464,-747.5 15458,-741.5 15458,-735.5 15458,-735.5 15458,-706.5 15458,-706.5 15458,-700.5 15464,-694.5 15470,-694.5 15470,-694.5 15665,-694.5 15665,-694.5 15671,-694.5 15677,-700.5 15677,-706.5 15677,-706.5 15677,-735.5 15677,-735.5 15677,-741.5 15671,-747.5 15665,-747.5\"/>\n<text text-anchor=\"start\" x=\"15529.5\" y=\"-732.3\" font-family=\"Helvetica,sans-Serif\" font-size=\"14.00\" fill=\"#000000\">gini = 0.551</text>\n<text text-anchor=\"start\" x=\"15519.5\" y=\"-717.3\" font-family=\"Helvetica,sans-Serif\" font-size=\"14.00\" fill=\"#000000\">samples = 181</text>\n<text text-anchor=\"start\" x=\"15466\" y=\"-702.3\" font-family=\"Helvetica,sans-Serif\" font-size=\"14.00\" fill=\"#000000\">value = [17, 191, 70, 25, 4, 0, 0]</text>\n</g>\n<!-- 255&#45;&gt;256 -->\n<g id=\"edge256\" class=\"edge\">\n<title>255&#45;&gt;256</title>\n<path fill=\"none\" stroke=\"#000000\" d=\"M15731.2517,-788.9467C15702.3069,-776.9365 15669.5232,-763.3333 15640.9334,-751.4703\"/>\n<polygon fill=\"#000000\" stroke=\"#000000\" points=\"15641.988,-748.1186 15631.4101,-747.5187 15639.3052,-754.5841 15641.988,-748.1186\"/>\n</g>\n<!-- 257 -->\n<g id=\"node258\" class=\"node\">\n<title>257</title>\n<path fill=\"#fafdf1\" stroke=\"#000000\" d=\"M15910,-753C15910,-753 15707,-753 15707,-753 15701,-753 15695,-747 15695,-741 15695,-741 15695,-701 15695,-701 15695,-695 15701,-689 15707,-689 15707,-689 15910,-689 15910,-689 15916,-689 15922,-695 15922,-701 15922,-701 15922,-741 15922,-741 15922,-747 15916,-753 15910,-753\"/>\n<text text-anchor=\"start\" x=\"15782\" y=\"-738.8\" font-family=\"Helvetica,sans-Serif\" font-size=\"14.00\" fill=\"#000000\">X</text>\n<text text-anchor=\"start\" x=\"15792\" y=\"-738.8\" font-family=\"Helvetica,sans-Serif\" baseline-shift=\"sub\" font-size=\"14.00\" fill=\"#000000\">1</text>\n<text text-anchor=\"start\" x=\"15799\" y=\"-738.8\" font-family=\"Helvetica,sans-Serif\" font-size=\"14.00\" fill=\"#000000\"> ≤ 8.0</text>\n<text text-anchor=\"start\" x=\"15775\" y=\"-724.8\" font-family=\"Helvetica,sans-Serif\" font-size=\"14.00\" fill=\"#000000\">gini = 0.83</text>\n<text text-anchor=\"start\" x=\"15764.5\" y=\"-710.8\" font-family=\"Helvetica,sans-Serif\" font-size=\"14.00\" fill=\"#000000\">samples = 74</text>\n<text text-anchor=\"start\" x=\"15703\" y=\"-696.8\" font-family=\"Helvetica,sans-Serif\" font-size=\"14.00\" fill=\"#000000\">value = [25, 32, 9, 10, 18, 13, 16]</text>\n</g>\n<!-- 255&#45;&gt;257 -->\n<g id=\"edge257\" class=\"edge\">\n<title>255&#45;&gt;257</title>\n<path fill=\"none\" stroke=\"#000000\" d=\"M15808.5,-788.8089C15808.5,-780.6906 15808.5,-771.8517 15808.5,-763.3186\"/>\n<polygon fill=\"#000000\" stroke=\"#000000\" points=\"15812.0001,-763.1307 15808.5,-753.1308 15805.0001,-763.1308 15812.0001,-763.1307\"/>\n</g>\n<!-- 258 -->\n<g id=\"node259\" class=\"node\">\n<title>258</title>\n<path fill=\"#f6f8fe\" stroke=\"#000000\" d=\"M15681,-647.5C15681,-647.5 15494,-647.5 15494,-647.5 15488,-647.5 15482,-641.5 15482,-635.5 15482,-635.5 15482,-606.5 15482,-606.5 15482,-600.5 15488,-594.5 15494,-594.5 15494,-594.5 15681,-594.5 15681,-594.5 15687,-594.5 15693,-600.5 15693,-606.5 15693,-606.5 15693,-635.5 15693,-635.5 15693,-641.5 15687,-647.5 15681,-647.5\"/>\n<text text-anchor=\"start\" x=\"15549.5\" y=\"-632.3\" font-family=\"Helvetica,sans-Serif\" font-size=\"14.00\" fill=\"#000000\">gini = 0.776</text>\n<text text-anchor=\"start\" x=\"15543.5\" y=\"-617.3\" font-family=\"Helvetica,sans-Serif\" font-size=\"14.00\" fill=\"#000000\">samples = 37</text>\n<text text-anchor=\"start\" x=\"15490\" y=\"-602.3\" font-family=\"Helvetica,sans-Serif\" font-size=\"14.00\" fill=\"#000000\">value = [2, 0, 3, 10, 18, 13, 16]</text>\n</g>\n<!-- 257&#45;&gt;258 -->\n<g id=\"edge258\" class=\"edge\">\n<title>257&#45;&gt;258</title>\n<path fill=\"none\" stroke=\"#000000\" d=\"M15737.6623,-688.9467C15711.3504,-677.0409 15681.5791,-663.5697 15655.5241,-651.7802\"/>\n<polygon fill=\"#000000\" stroke=\"#000000\" points=\"15656.66,-648.4525 15646.1064,-647.5187 15653.7742,-654.83 15656.66,-648.4525\"/>\n</g>\n<!-- 259 -->\n<g id=\"node260\" class=\"node\">\n<title>259</title>\n<path fill=\"#eef9d0\" stroke=\"#000000\" d=\"M15893.5,-647.5C15893.5,-647.5 15723.5,-647.5 15723.5,-647.5 15717.5,-647.5 15711.5,-641.5 15711.5,-635.5 15711.5,-635.5 15711.5,-606.5 15711.5,-606.5 15711.5,-600.5 15717.5,-594.5 15723.5,-594.5 15723.5,-594.5 15893.5,-594.5 15893.5,-594.5 15899.5,-594.5 15905.5,-600.5 15905.5,-606.5 15905.5,-606.5 15905.5,-635.5 15905.5,-635.5 15905.5,-641.5 15899.5,-647.5 15893.5,-647.5\"/>\n<text text-anchor=\"start\" x=\"15770.5\" y=\"-632.3\" font-family=\"Helvetica,sans-Serif\" font-size=\"14.00\" fill=\"#000000\">gini = 0.573</text>\n<text text-anchor=\"start\" x=\"15764.5\" y=\"-617.3\" font-family=\"Helvetica,sans-Serif\" font-size=\"14.00\" fill=\"#000000\">samples = 37</text>\n<text text-anchor=\"start\" x=\"15719.5\" y=\"-602.3\" font-family=\"Helvetica,sans-Serif\" font-size=\"14.00\" fill=\"#000000\">value = [23, 32, 6, 0, 0, 0, 0]</text>\n</g>\n<!-- 257&#45;&gt;259 -->\n<g id=\"edge259\" class=\"edge\">\n<title>257&#45;&gt;259</title>\n<path fill=\"none\" stroke=\"#000000\" d=\"M15808.5,-688.8089C15808.5,-678.9777 15808.5,-668.0898 15808.5,-657.9679\"/>\n<polygon fill=\"#000000\" stroke=\"#000000\" points=\"15812.0001,-657.7735 15808.5,-647.7735 15805.0001,-657.7736 15812.0001,-657.7735\"/>\n</g>\n<!-- 261 -->\n<g id=\"node262\" class=\"node\">\n<title>261</title>\n<path fill=\"#ecfcee\" stroke=\"#000000\" d=\"M16343,-753C16343,-753 16082,-753 16082,-753 16076,-753 16070,-747 16070,-741 16070,-741 16070,-701 16070,-701 16070,-695 16076,-689 16082,-689 16082,-689 16343,-689 16343,-689 16349,-689 16355,-695 16355,-701 16355,-701 16355,-741 16355,-741 16355,-747 16349,-753 16343,-753\"/>\n<text text-anchor=\"start\" x=\"16186\" y=\"-738.8\" font-family=\"Helvetica,sans-Serif\" font-size=\"14.00\" fill=\"#000000\">X</text>\n<text text-anchor=\"start\" x=\"16196\" y=\"-738.8\" font-family=\"Helvetica,sans-Serif\" baseline-shift=\"sub\" font-size=\"14.00\" fill=\"#000000\">1</text>\n<text text-anchor=\"start\" x=\"16203\" y=\"-738.8\" font-family=\"Helvetica,sans-Serif\" font-size=\"14.00\" fill=\"#000000\"> ≤ 6.5</text>\n<text text-anchor=\"start\" x=\"16174.5\" y=\"-724.8\" font-family=\"Helvetica,sans-Serif\" font-size=\"14.00\" fill=\"#000000\">gini = 0.729</text>\n<text text-anchor=\"start\" x=\"16160.5\" y=\"-710.8\" font-family=\"Helvetica,sans-Serif\" font-size=\"14.00\" fill=\"#000000\">samples = 1931</text>\n<text text-anchor=\"start\" x=\"16078\" y=\"-696.8\" font-family=\"Helvetica,sans-Serif\" font-size=\"14.00\" fill=\"#000000\">value = [102, 915, 1122, 602, 180, 56, 64]</text>\n</g>\n<!-- 260&#45;&gt;261 -->\n<g id=\"edge261\" class=\"edge\">\n<title>260&#45;&gt;261</title>\n<path fill=\"none\" stroke=\"#000000\" d=\"M16212.5,-788.8089C16212.5,-780.6906 16212.5,-771.8517 16212.5,-763.3186\"/>\n<polygon fill=\"#000000\" stroke=\"#000000\" points=\"16216.0001,-763.1307 16212.5,-753.1308 16209.0001,-763.1308 16216.0001,-763.1307\"/>\n</g>\n<!-- 288 -->\n<g id=\"node289\" class=\"node\">\n<title>288</title>\n<path fill=\"#d2ef83\" stroke=\"#000000\" d=\"M16968,-753C16968,-753 16781,-753 16781,-753 16775,-753 16769,-747 16769,-741 16769,-741 16769,-701 16769,-701 16769,-695 16775,-689 16781,-689 16781,-689 16968,-689 16968,-689 16974,-689 16980,-695 16980,-701 16980,-701 16980,-741 16980,-741 16980,-747 16974,-753 16968,-753\"/>\n<text text-anchor=\"start\" x=\"16844\" y=\"-738.8\" font-family=\"Helvetica,sans-Serif\" font-size=\"14.00\" fill=\"#000000\">X</text>\n<text text-anchor=\"start\" x=\"16854\" y=\"-738.8\" font-family=\"Helvetica,sans-Serif\" baseline-shift=\"sub\" font-size=\"14.00\" fill=\"#000000\">0</text>\n<text text-anchor=\"start\" x=\"16861\" y=\"-738.8\" font-family=\"Helvetica,sans-Serif\" font-size=\"14.00\" fill=\"#000000\"> ≤ 16.0</text>\n<text text-anchor=\"start\" x=\"16836.5\" y=\"-724.8\" font-family=\"Helvetica,sans-Serif\" font-size=\"14.00\" fill=\"#000000\">gini = 0.496</text>\n<text text-anchor=\"start\" x=\"16826.5\" y=\"-710.8\" font-family=\"Helvetica,sans-Serif\" font-size=\"14.00\" fill=\"#000000\">samples = 171</text>\n<text text-anchor=\"start\" x=\"16777\" y=\"-696.8\" font-family=\"Helvetica,sans-Serif\" font-size=\"14.00\" fill=\"#000000\">value = [40, 180, 28, 3, 7, 0, 5]</text>\n</g>\n<!-- 260&#45;&gt;288 -->\n<g id=\"edge288\" class=\"edge\">\n<title>260&#45;&gt;288</title>\n<path fill=\"none\" stroke=\"#000000\" d=\"M16359.0086,-798.8688C16479.526,-780.6637 16647.9882,-755.2163 16759.0909,-738.4334\"/>\n<polygon fill=\"#000000\" stroke=\"#000000\" points=\"16759.6259,-741.8924 16768.9909,-736.9379 16758.5803,-734.9709 16759.6259,-741.8924\"/>\n</g>\n<!-- 262 -->\n<g id=\"node263\" class=\"node\">\n<title>262</title>\n<path fill=\"#ecfdee\" stroke=\"#000000\" d=\"M16189,-653C16189,-653 15936,-653 15936,-653 15930,-653 15924,-647 15924,-641 15924,-641 15924,-601 15924,-601 15924,-595 15930,-589 15936,-589 15936,-589 16189,-589 16189,-589 16195,-589 16201,-595 16201,-601 16201,-601 16201,-641 16201,-641 16201,-647 16195,-653 16189,-653\"/>\n<text text-anchor=\"start\" x=\"16032\" y=\"-638.8\" font-family=\"Helvetica,sans-Serif\" font-size=\"14.00\" fill=\"#000000\">X</text>\n<text text-anchor=\"start\" x=\"16042\" y=\"-638.8\" font-family=\"Helvetica,sans-Serif\" baseline-shift=\"sub\" font-size=\"14.00\" fill=\"#000000\">0</text>\n<text text-anchor=\"start\" x=\"16049\" y=\"-638.8\" font-family=\"Helvetica,sans-Serif\" font-size=\"14.00\" fill=\"#000000\"> ≤ 10.5</text>\n<text text-anchor=\"start\" x=\"16024.5\" y=\"-624.8\" font-family=\"Helvetica,sans-Serif\" font-size=\"14.00\" fill=\"#000000\">gini = 0.714</text>\n<text text-anchor=\"start\" x=\"16010.5\" y=\"-610.8\" font-family=\"Helvetica,sans-Serif\" font-size=\"14.00\" fill=\"#000000\">samples = 1849</text>\n<text text-anchor=\"start\" x=\"15932\" y=\"-596.8\" font-family=\"Helvetica,sans-Serif\" font-size=\"14.00\" fill=\"#000000\">value = [99, 913, 1102, 575, 157, 32, 30]</text>\n</g>\n<!-- 261&#45;&gt;262 -->\n<g id=\"edge262\" class=\"edge\">\n<title>261&#45;&gt;262</title>\n<path fill=\"none\" stroke=\"#000000\" d=\"M16164.2134,-688.8089C16149.8948,-679.2632 16134.0819,-668.7213 16119.2774,-658.8516\"/>\n<polygon fill=\"#000000\" stroke=\"#000000\" points=\"16120.9581,-655.7656 16110.6961,-653.1308 16117.0752,-661.59 16120.9581,-655.7656\"/>\n</g>\n<!-- 281 -->\n<g id=\"node282\" class=\"node\">\n<title>281</title>\n<path fill=\"#fdf2f7\" stroke=\"#000000\" d=\"M16426,-653C16426,-653 16231,-653 16231,-653 16225,-653 16219,-647 16219,-641 16219,-641 16219,-601 16219,-601 16219,-595 16225,-589 16231,-589 16231,-589 16426,-589 16426,-589 16432,-589 16438,-595 16438,-601 16438,-601 16438,-641 16438,-641 16438,-647 16432,-653 16426,-653\"/>\n<text text-anchor=\"start\" x=\"16298\" y=\"-638.8\" font-family=\"Helvetica,sans-Serif\" font-size=\"14.00\" fill=\"#000000\">X</text>\n<text text-anchor=\"start\" x=\"16308\" y=\"-638.8\" font-family=\"Helvetica,sans-Serif\" baseline-shift=\"sub\" font-size=\"14.00\" fill=\"#000000\">0</text>\n<text text-anchor=\"start\" x=\"16315\" y=\"-638.8\" font-family=\"Helvetica,sans-Serif\" font-size=\"14.00\" fill=\"#000000\"> ≤ 14.0</text>\n<text text-anchor=\"start\" x=\"16290.5\" y=\"-624.8\" font-family=\"Helvetica,sans-Serif\" font-size=\"14.00\" fill=\"#000000\">gini = 0.808</text>\n<text text-anchor=\"start\" x=\"16284.5\" y=\"-610.8\" font-family=\"Helvetica,sans-Serif\" font-size=\"14.00\" fill=\"#000000\">samples = 82</text>\n<text text-anchor=\"start\" x=\"16227\" y=\"-596.8\" font-family=\"Helvetica,sans-Serif\" font-size=\"14.00\" fill=\"#000000\">value = [3, 2, 20, 27, 23, 24, 34]</text>\n</g>\n<!-- 261&#45;&gt;281 -->\n<g id=\"edge281\" class=\"edge\">\n<title>261&#45;&gt;281</title>\n<path fill=\"none\" stroke=\"#000000\" d=\"M16249.8416,-688.8089C16260.6043,-679.5308 16272.4585,-669.3116 16283.6274,-659.6833\"/>\n<polygon fill=\"#000000\" stroke=\"#000000\" points=\"16285.9395,-662.3111 16291.2283,-653.1308 16281.3689,-657.0092 16285.9395,-662.3111\"/>\n</g>\n<!-- 263 -->\n<g id=\"node264\" class=\"node\">\n<title>263</title>\n<path fill=\"#e5fce8\" stroke=\"#000000\" d=\"M15732.5,-553C15732.5,-553 15512.5,-553 15512.5,-553 15506.5,-553 15500.5,-547 15500.5,-541 15500.5,-541 15500.5,-501 15500.5,-501 15500.5,-495 15506.5,-489 15512.5,-489 15512.5,-489 15732.5,-489 15732.5,-489 15738.5,-489 15744.5,-495 15744.5,-501 15744.5,-501 15744.5,-541 15744.5,-541 15744.5,-547 15738.5,-553 15732.5,-553\"/>\n<text text-anchor=\"start\" x=\"15596\" y=\"-538.8\" font-family=\"Helvetica,sans-Serif\" font-size=\"14.00\" fill=\"#000000\">X</text>\n<text text-anchor=\"start\" x=\"15606\" y=\"-538.8\" font-family=\"Helvetica,sans-Serif\" baseline-shift=\"sub\" font-size=\"14.00\" fill=\"#000000\">0</text>\n<text text-anchor=\"start\" x=\"15613\" y=\"-538.8\" font-family=\"Helvetica,sans-Serif\" font-size=\"14.00\" fill=\"#000000\"> ≤ 8.5</text>\n<text text-anchor=\"start\" x=\"15584.5\" y=\"-524.8\" font-family=\"Helvetica,sans-Serif\" font-size=\"14.00\" fill=\"#000000\">gini = 0.671</text>\n<text text-anchor=\"start\" x=\"15570.5\" y=\"-510.8\" font-family=\"Helvetica,sans-Serif\" font-size=\"14.00\" fill=\"#000000\">samples = 1069</text>\n<text text-anchor=\"start\" x=\"15508.5\" y=\"-496.8\" font-family=\"Helvetica,sans-Serif\" font-size=\"14.00\" fill=\"#000000\">value = [58, 570, 711, 275, 40, 7, 3]</text>\n</g>\n<!-- 262&#45;&gt;263 -->\n<g id=\"edge263\" class=\"edge\">\n<title>262&#45;&gt;263</title>\n<path fill=\"none\" stroke=\"#000000\" d=\"M15923.8852,-589.4966C15869.8173,-577.2085 15808.115,-563.1852 15754.6815,-551.0413\"/>\n<polygon fill=\"#000000\" stroke=\"#000000\" points=\"15755.3313,-547.5997 15744.8042,-548.7964 15753.7799,-554.4257 15755.3313,-547.5997\"/>\n</g>\n<!-- 268 -->\n<g id=\"node269\" class=\"node\">\n<title>268</title>\n<path fill=\"#f4fef6\" stroke=\"#000000\" d=\"M16185,-553C16185,-553 15940,-553 15940,-553 15934,-553 15928,-547 15928,-541 15928,-541 15928,-501 15928,-501 15928,-495 15934,-489 15940,-489 15940,-489 16185,-489 16185,-489 16191,-489 16197,-495 16197,-501 16197,-501 16197,-541 16197,-541 16197,-547 16191,-553 16185,-553\"/>\n<text text-anchor=\"start\" x=\"16032\" y=\"-538.8\" font-family=\"Helvetica,sans-Serif\" font-size=\"14.00\" fill=\"#000000\">X</text>\n<text text-anchor=\"start\" x=\"16042\" y=\"-538.8\" font-family=\"Helvetica,sans-Serif\" baseline-shift=\"sub\" font-size=\"14.00\" fill=\"#000000\">0</text>\n<text text-anchor=\"start\" x=\"16049\" y=\"-538.8\" font-family=\"Helvetica,sans-Serif\" font-size=\"14.00\" fill=\"#000000\"> ≤ 11.5</text>\n<text text-anchor=\"start\" x=\"16024.5\" y=\"-524.8\" font-family=\"Helvetica,sans-Serif\" font-size=\"14.00\" fill=\"#000000\">gini = 0.756</text>\n<text text-anchor=\"start\" x=\"16014.5\" y=\"-510.8\" font-family=\"Helvetica,sans-Serif\" font-size=\"14.00\" fill=\"#000000\">samples = 780</text>\n<text text-anchor=\"start\" x=\"15936\" y=\"-496.8\" font-family=\"Helvetica,sans-Serif\" font-size=\"14.00\" fill=\"#000000\">value = [41, 343, 391, 300, 117, 25, 27]</text>\n</g>\n<!-- 262&#45;&gt;268 -->\n<g id=\"edge268\" class=\"edge\">\n<title>262&#45;&gt;268</title>\n<path fill=\"none\" stroke=\"#000000\" d=\"M16062.5,-588.8089C16062.5,-580.6906 16062.5,-571.8517 16062.5,-563.3186\"/>\n<polygon fill=\"#000000\" stroke=\"#000000\" points=\"16066.0001,-563.1307 16062.5,-553.1308 16059.0001,-563.1308 16066.0001,-563.1307\"/>\n</g>\n<!-- 264 -->\n<g id=\"node265\" class=\"node\">\n<title>264</title>\n<path fill=\"#f0fad6\" stroke=\"#000000\" d=\"M15470,-447.5C15470,-447.5 15275,-447.5 15275,-447.5 15269,-447.5 15263,-441.5 15263,-435.5 15263,-435.5 15263,-406.5 15263,-406.5 15263,-400.5 15269,-394.5 15275,-394.5 15275,-394.5 15470,-394.5 15470,-394.5 15476,-394.5 15482,-400.5 15482,-406.5 15482,-406.5 15482,-435.5 15482,-435.5 15482,-441.5 15476,-447.5 15470,-447.5\"/>\n<text text-anchor=\"start\" x=\"15334.5\" y=\"-432.3\" font-family=\"Helvetica,sans-Serif\" font-size=\"14.00\" fill=\"#000000\">gini = 0.714</text>\n<text text-anchor=\"start\" x=\"15324.5\" y=\"-417.3\" font-family=\"Helvetica,sans-Serif\" font-size=\"14.00\" fill=\"#000000\">samples = 113</text>\n<text text-anchor=\"start\" x=\"15271\" y=\"-402.3\" font-family=\"Helvetica,sans-Serif\" font-size=\"14.00\" fill=\"#000000\">value = [12, 79, 51, 30, 10, 3, 2]</text>\n</g>\n<!-- 263&#45;&gt;264 -->\n<g id=\"edge264\" class=\"edge\">\n<title>263&#45;&gt;264</title>\n<path fill=\"none\" stroke=\"#000000\" d=\"M15542.3669,-488.9467C15512.2106,-476.8842 15478.0374,-463.2149 15448.2891,-451.3157\"/>\n<polygon fill=\"#000000\" stroke=\"#000000\" points=\"15449.3815,-447.983 15438.7968,-447.5187 15446.7817,-454.4824 15449.3815,-447.983\"/>\n</g>\n<!-- 265 -->\n<g id=\"node266\" class=\"node\">\n<title>265</title>\n<path fill=\"#ddfbe0\" stroke=\"#000000\" d=\"M15732.5,-453C15732.5,-453 15512.5,-453 15512.5,-453 15506.5,-453 15500.5,-447 15500.5,-441 15500.5,-441 15500.5,-401 15500.5,-401 15500.5,-395 15506.5,-389 15512.5,-389 15512.5,-389 15732.5,-389 15732.5,-389 15738.5,-389 15744.5,-395 15744.5,-401 15744.5,-401 15744.5,-441 15744.5,-441 15744.5,-447 15738.5,-453 15732.5,-453\"/>\n<text text-anchor=\"start\" x=\"15596\" y=\"-438.8\" font-family=\"Helvetica,sans-Serif\" font-size=\"14.00\" fill=\"#000000\">X</text>\n<text text-anchor=\"start\" x=\"15606\" y=\"-438.8\" font-family=\"Helvetica,sans-Serif\" baseline-shift=\"sub\" font-size=\"14.00\" fill=\"#000000\">0</text>\n<text text-anchor=\"start\" x=\"15613\" y=\"-438.8\" font-family=\"Helvetica,sans-Serif\" font-size=\"14.00\" fill=\"#000000\"> ≤ 9.5</text>\n<text text-anchor=\"start\" x=\"15584.5\" y=\"-424.8\" font-family=\"Helvetica,sans-Serif\" font-size=\"14.00\" fill=\"#000000\">gini = 0.661</text>\n<text text-anchor=\"start\" x=\"15574.5\" y=\"-410.8\" font-family=\"Helvetica,sans-Serif\" font-size=\"14.00\" fill=\"#000000\">samples = 956</text>\n<text text-anchor=\"start\" x=\"15508.5\" y=\"-396.8\" font-family=\"Helvetica,sans-Serif\" font-size=\"14.00\" fill=\"#000000\">value = [46, 491, 660, 245, 30, 4, 1]</text>\n</g>\n<!-- 263&#45;&gt;265 -->\n<g id=\"edge265\" class=\"edge\">\n<title>263&#45;&gt;265</title>\n<path fill=\"none\" stroke=\"#000000\" d=\"M15622.5,-488.8089C15622.5,-480.6906 15622.5,-471.8517 15622.5,-463.3186\"/>\n<polygon fill=\"#000000\" stroke=\"#000000\" points=\"15626.0001,-463.1307 15622.5,-453.1308 15619.0001,-463.1308 15626.0001,-463.1307\"/>\n</g>\n<!-- 266 -->\n<g id=\"node267\" class=\"node\">\n<title>266</title>\n<path fill=\"#e0fbe3\" stroke=\"#000000\" d=\"M15464.5,-347.5C15464.5,-347.5 15294.5,-347.5 15294.5,-347.5 15288.5,-347.5 15282.5,-341.5 15282.5,-335.5 15282.5,-335.5 15282.5,-306.5 15282.5,-306.5 15282.5,-300.5 15288.5,-294.5 15294.5,-294.5 15294.5,-294.5 15464.5,-294.5 15464.5,-294.5 15470.5,-294.5 15476.5,-300.5 15476.5,-306.5 15476.5,-306.5 15476.5,-335.5 15476.5,-335.5 15476.5,-341.5 15470.5,-347.5 15464.5,-347.5\"/>\n<text text-anchor=\"start\" x=\"15341.5\" y=\"-332.3\" font-family=\"Helvetica,sans-Serif\" font-size=\"14.00\" fill=\"#000000\">gini = 0.738</text>\n<text text-anchor=\"start\" x=\"15335.5\" y=\"-317.3\" font-family=\"Helvetica,sans-Serif\" font-size=\"14.00\" fill=\"#000000\">samples = 26</text>\n<text text-anchor=\"start\" x=\"15290.5\" y=\"-302.3\" font-family=\"Helvetica,sans-Serif\" font-size=\"14.00\" fill=\"#000000\">value = [4, 12, 17, 7, 0, 3, 1]</text>\n</g>\n<!-- 265&#45;&gt;266 -->\n<g id=\"edge266\" class=\"edge\">\n<title>265&#45;&gt;266</title>\n<path fill=\"none\" stroke=\"#000000\" d=\"M15544.6106,-388.9467C15515.4256,-376.9365 15482.3698,-363.3333 15453.5428,-351.4703\"/>\n<polygon fill=\"#000000\" stroke=\"#000000\" points=\"15454.5201,-348.0877 15443.9405,-347.5187 15451.8561,-354.561 15454.5201,-348.0877\"/>\n</g>\n<!-- 267 -->\n<g id=\"node268\" class=\"node\">\n<title>267</title>\n<path fill=\"#ddfbe0\" stroke=\"#000000\" d=\"M15726.5,-347.5C15726.5,-347.5 15506.5,-347.5 15506.5,-347.5 15500.5,-347.5 15494.5,-341.5 15494.5,-335.5 15494.5,-335.5 15494.5,-306.5 15494.5,-306.5 15494.5,-300.5 15500.5,-294.5 15506.5,-294.5 15506.5,-294.5 15726.5,-294.5 15726.5,-294.5 15732.5,-294.5 15738.5,-300.5 15738.5,-306.5 15738.5,-306.5 15738.5,-335.5 15738.5,-335.5 15738.5,-341.5 15732.5,-347.5 15726.5,-347.5\"/>\n<text text-anchor=\"start\" x=\"15578.5\" y=\"-332.3\" font-family=\"Helvetica,sans-Serif\" font-size=\"14.00\" fill=\"#000000\">gini = 0.658</text>\n<text text-anchor=\"start\" x=\"15568.5\" y=\"-317.3\" font-family=\"Helvetica,sans-Serif\" font-size=\"14.00\" fill=\"#000000\">samples = 930</text>\n<text text-anchor=\"start\" x=\"15502.5\" y=\"-302.3\" font-family=\"Helvetica,sans-Serif\" font-size=\"14.00\" fill=\"#000000\">value = [42, 479, 643, 238, 30, 1, 0]</text>\n</g>\n<!-- 265&#45;&gt;267 -->\n<g id=\"edge267\" class=\"edge\">\n<title>265&#45;&gt;267</title>\n<path fill=\"none\" stroke=\"#000000\" d=\"M15620.5685,-388.8089C15619.9787,-378.9777 15619.3254,-368.0898 15618.7181,-357.9679\"/>\n<polygon fill=\"#000000\" stroke=\"#000000\" points=\"15622.1991,-357.5459 15618.1064,-347.7735 15615.2117,-357.9652 15622.1991,-357.5459\"/>\n</g>\n<!-- 269 -->\n<g id=\"node270\" class=\"node\">\n<title>269</title>\n<path fill=\"#e6eafc\" stroke=\"#000000\" d=\"M15954,-447.5C15954,-447.5 15775,-447.5 15775,-447.5 15769,-447.5 15763,-441.5 15763,-435.5 15763,-435.5 15763,-406.5 15763,-406.5 15763,-400.5 15769,-394.5 15775,-394.5 15775,-394.5 15954,-394.5 15954,-394.5 15960,-394.5 15966,-400.5 15966,-406.5 15966,-406.5 15966,-435.5 15966,-435.5 15966,-441.5 15960,-447.5 15954,-447.5\"/>\n<text text-anchor=\"start\" x=\"15831\" y=\"-432.3\" font-family=\"Helvetica,sans-Serif\" font-size=\"14.00\" fill=\"#000000\">gini = 0.68</text>\n<text text-anchor=\"start\" x=\"15820.5\" y=\"-417.3\" font-family=\"Helvetica,sans-Serif\" font-size=\"14.00\" fill=\"#000000\">samples = 66</text>\n<text text-anchor=\"start\" x=\"15771\" y=\"-402.3\" font-family=\"Helvetica,sans-Serif\" font-size=\"14.00\" fill=\"#000000\">value = [0, 0, 10, 33, 41, 4, 8]</text>\n</g>\n<!-- 268&#45;&gt;269 -->\n<g id=\"edge269\" class=\"edge\">\n<title>268&#45;&gt;269</title>\n<path fill=\"none\" stroke=\"#000000\" d=\"M15999.0346,-488.9467C15975.6677,-477.1453 15949.2558,-463.8059 15926.0598,-452.0908\"/>\n<polygon fill=\"#000000\" stroke=\"#000000\" points=\"15927.5111,-448.9028 15917.0071,-447.5187 15924.3554,-455.1511 15927.5111,-448.9028\"/>\n</g>\n<!-- 270 -->\n<g id=\"node271\" class=\"node\">\n<title>270</title>\n<path fill=\"#f6fef7\" stroke=\"#000000\" d=\"M16232.5,-453C16232.5,-453 15996.5,-453 15996.5,-453 15990.5,-453 15984.5,-447 15984.5,-441 15984.5,-441 15984.5,-401 15984.5,-401 15984.5,-395 15990.5,-389 15996.5,-389 15996.5,-389 16232.5,-389 16232.5,-389 16238.5,-389 16244.5,-395 16244.5,-401 16244.5,-401 16244.5,-441 16244.5,-441 16244.5,-447 16238.5,-453 16232.5,-453\"/>\n<text text-anchor=\"start\" x=\"16084\" y=\"-438.8\" font-family=\"Helvetica,sans-Serif\" font-size=\"14.00\" fill=\"#000000\">X</text>\n<text text-anchor=\"start\" x=\"16094\" y=\"-438.8\" font-family=\"Helvetica,sans-Serif\" baseline-shift=\"sub\" font-size=\"14.00\" fill=\"#000000\">0</text>\n<text text-anchor=\"start\" x=\"16101\" y=\"-438.8\" font-family=\"Helvetica,sans-Serif\" font-size=\"14.00\" fill=\"#000000\"> ≤ 16.5</text>\n<text text-anchor=\"start\" x=\"16081\" y=\"-424.8\" font-family=\"Helvetica,sans-Serif\" font-size=\"14.00\" fill=\"#000000\">gini = 0.74</text>\n<text text-anchor=\"start\" x=\"16066.5\" y=\"-410.8\" font-family=\"Helvetica,sans-Serif\" font-size=\"14.00\" fill=\"#000000\">samples = 714</text>\n<text text-anchor=\"start\" x=\"15992.5\" y=\"-396.8\" font-family=\"Helvetica,sans-Serif\" font-size=\"14.00\" fill=\"#000000\">value = [41, 343, 381, 267, 76, 21, 19]</text>\n</g>\n<!-- 268&#45;&gt;270 -->\n<g id=\"edge270\" class=\"edge\">\n<title>268&#45;&gt;270</title>\n<path fill=\"none\" stroke=\"#000000\" d=\"M16079.2394,-488.8089C16083.6465,-480.3337 16088.4619,-471.0733 16093.0785,-462.1952\"/>\n<polygon fill=\"#000000\" stroke=\"#000000\" points=\"16096.2837,-463.6177 16097.792,-453.1308 16090.0732,-460.3882 16096.2837,-463.6177\"/>\n</g>\n<!-- 271 -->\n<g id=\"node272\" class=\"node\">\n<title>271</title>\n<path fill=\"#cef9d3\" stroke=\"#000000\" d=\"M15988.5,-353C15988.5,-353 15768.5,-353 15768.5,-353 15762.5,-353 15756.5,-347 15756.5,-341 15756.5,-341 15756.5,-301 15756.5,-301 15756.5,-295 15762.5,-289 15768.5,-289 15768.5,-289 15988.5,-289 15988.5,-289 15994.5,-289 16000.5,-295 16000.5,-301 16000.5,-301 16000.5,-341 16000.5,-341 16000.5,-347 15994.5,-353 15988.5,-353\"/>\n<text text-anchor=\"start\" x=\"15848\" y=\"-338.8\" font-family=\"Helvetica,sans-Serif\" font-size=\"14.00\" fill=\"#000000\">X</text>\n<text text-anchor=\"start\" x=\"15858\" y=\"-338.8\" font-family=\"Helvetica,sans-Serif\" baseline-shift=\"sub\" font-size=\"14.00\" fill=\"#000000\">0</text>\n<text text-anchor=\"start\" x=\"15865\" y=\"-338.8\" font-family=\"Helvetica,sans-Serif\" font-size=\"14.00\" fill=\"#000000\"> ≤ 13.5</text>\n<text text-anchor=\"start\" x=\"15840.5\" y=\"-324.8\" font-family=\"Helvetica,sans-Serif\" font-size=\"14.00\" fill=\"#000000\">gini = 0.768</text>\n<text text-anchor=\"start\" x=\"15830.5\" y=\"-310.8\" font-family=\"Helvetica,sans-Serif\" font-size=\"14.00\" fill=\"#000000\">samples = 276</text>\n<text text-anchor=\"start\" x=\"15764.5\" y=\"-296.8\" font-family=\"Helvetica,sans-Serif\" font-size=\"14.00\" fill=\"#000000\">value = [24, 74, 168, 81, 49, 21, 19]</text>\n</g>\n<!-- 270&#45;&gt;271 -->\n<g id=\"edge271\" class=\"edge\">\n<title>270&#45;&gt;271</title>\n<path fill=\"none\" stroke=\"#000000\" d=\"M16038.8543,-388.9467C16014.8249,-378.7648 15988.0936,-367.438 15963.4534,-356.9972\"/>\n<polygon fill=\"#000000\" stroke=\"#000000\" points=\"15964.6952,-353.7222 15954.1222,-353.0433 15961.9642,-360.1675 15964.6952,-353.7222\"/>\n</g>\n<!-- 280 -->\n<g id=\"node281\" class=\"node\">\n<title>280</title>\n<path fill=\"#f7fce9\" stroke=\"#000000\" d=\"M16250.5,-347.5C16250.5,-347.5 16030.5,-347.5 16030.5,-347.5 16024.5,-347.5 16018.5,-341.5 16018.5,-335.5 16018.5,-335.5 16018.5,-306.5 16018.5,-306.5 16018.5,-300.5 16024.5,-294.5 16030.5,-294.5 16030.5,-294.5 16250.5,-294.5 16250.5,-294.5 16256.5,-294.5 16262.5,-300.5 16262.5,-306.5 16262.5,-306.5 16262.5,-335.5 16262.5,-335.5 16262.5,-341.5 16256.5,-347.5 16250.5,-347.5\"/>\n<text text-anchor=\"start\" x=\"16102.5\" y=\"-332.3\" font-family=\"Helvetica,sans-Serif\" font-size=\"14.00\" fill=\"#000000\">gini = 0.698</text>\n<text text-anchor=\"start\" x=\"16092.5\" y=\"-317.3\" font-family=\"Helvetica,sans-Serif\" font-size=\"14.00\" fill=\"#000000\">samples = 438</text>\n<text text-anchor=\"start\" x=\"16026.5\" y=\"-302.3\" font-family=\"Helvetica,sans-Serif\" font-size=\"14.00\" fill=\"#000000\">value = [17, 269, 213, 186, 27, 0, 0]</text>\n</g>\n<!-- 270&#45;&gt;280 -->\n<g id=\"edge280\" class=\"edge\">\n<title>270&#45;&gt;280</title>\n<path fill=\"none\" stroke=\"#000000\" d=\"M16122.8697,-388.8089C16125.4527,-378.8742 16128.3163,-367.8605 16130.9714,-357.6485\"/>\n<polygon fill=\"#000000\" stroke=\"#000000\" points=\"16134.4099,-358.3325 16133.5389,-347.7735 16127.6351,-356.571 16134.4099,-358.3325\"/>\n</g>\n<!-- 272 -->\n<g id=\"node273\" class=\"node\">\n<title>272</title>\n<path fill=\"#dffbe2\" stroke=\"#000000\" d=\"M15855,-253C15855,-253 15660,-253 15660,-253 15654,-253 15648,-247 15648,-241 15648,-241 15648,-201 15648,-201 15648,-195 15654,-189 15660,-189 15660,-189 15855,-189 15855,-189 15861,-189 15867,-195 15867,-201 15867,-201 15867,-241 15867,-241 15867,-247 15861,-253 15855,-253\"/>\n<text text-anchor=\"start\" x=\"15727\" y=\"-238.8\" font-family=\"Helvetica,sans-Serif\" font-size=\"14.00\" fill=\"#000000\">X</text>\n<text text-anchor=\"start\" x=\"15737\" y=\"-238.8\" font-family=\"Helvetica,sans-Serif\" baseline-shift=\"sub\" font-size=\"14.00\" fill=\"#000000\">0</text>\n<text text-anchor=\"start\" x=\"15744\" y=\"-238.8\" font-family=\"Helvetica,sans-Serif\" font-size=\"14.00\" fill=\"#000000\"> ≤ 12.5</text>\n<text text-anchor=\"start\" x=\"15719.5\" y=\"-224.8\" font-family=\"Helvetica,sans-Serif\" font-size=\"14.00\" fill=\"#000000\">gini = 0.744</text>\n<text text-anchor=\"start\" x=\"15709.5\" y=\"-210.8\" font-family=\"Helvetica,sans-Serif\" font-size=\"14.00\" fill=\"#000000\">samples = 132</text>\n<text text-anchor=\"start\" x=\"15656\" y=\"-196.8\" font-family=\"Helvetica,sans-Serif\" font-size=\"14.00\" fill=\"#000000\">value = [20, 53, 79, 46, 11, 4, 1]</text>\n</g>\n<!-- 271&#45;&gt;272 -->\n<g id=\"edge272\" class=\"edge\">\n<title>271&#45;&gt;272</title>\n<path fill=\"none\" stroke=\"#000000\" d=\"M15839.5488,-288.8089C15828.3223,-279.5308 15815.9571,-269.3116 15804.3068,-259.6833\"/>\n<polygon fill=\"#000000\" stroke=\"#000000\" points=\"15806.3162,-256.8034 15796.3782,-253.1308 15801.8568,-262.1992 15806.3162,-256.8034\"/>\n</g>\n<!-- 275 -->\n<g id=\"node276\" class=\"node\">\n<title>275</title>\n<path fill=\"#c8f8ce\" stroke=\"#000000\" d=\"M16100,-253C16100,-253 15897,-253 15897,-253 15891,-253 15885,-247 15885,-241 15885,-241 15885,-201 15885,-201 15885,-195 15891,-189 15897,-189 15897,-189 16100,-189 16100,-189 16106,-189 16112,-195 16112,-201 16112,-201 16112,-241 16112,-241 16112,-247 16106,-253 16100,-253\"/>\n<text text-anchor=\"start\" x=\"15968\" y=\"-238.8\" font-family=\"Helvetica,sans-Serif\" font-size=\"14.00\" fill=\"#000000\">X</text>\n<text text-anchor=\"start\" x=\"15978\" y=\"-238.8\" font-family=\"Helvetica,sans-Serif\" baseline-shift=\"sub\" font-size=\"14.00\" fill=\"#000000\">0</text>\n<text text-anchor=\"start\" x=\"15985\" y=\"-238.8\" font-family=\"Helvetica,sans-Serif\" font-size=\"14.00\" fill=\"#000000\"> ≤ 15.5</text>\n<text text-anchor=\"start\" x=\"15960.5\" y=\"-224.8\" font-family=\"Helvetica,sans-Serif\" font-size=\"14.00\" fill=\"#000000\">gini = 0.763</text>\n<text text-anchor=\"start\" x=\"15950.5\" y=\"-210.8\" font-family=\"Helvetica,sans-Serif\" font-size=\"14.00\" fill=\"#000000\">samples = 144</text>\n<text text-anchor=\"start\" x=\"15893\" y=\"-196.8\" font-family=\"Helvetica,sans-Serif\" font-size=\"14.00\" fill=\"#000000\">value = [4, 21, 89, 35, 38, 17, 18]</text>\n</g>\n<!-- 271&#45;&gt;275 -->\n<g id=\"edge275\" class=\"edge\">\n<title>271&#45;&gt;275</title>\n<path fill=\"none\" stroke=\"#000000\" d=\"M15917.1293,-288.8089C15928.263,-279.5308 15940.5261,-269.3116 15952.08,-259.6833\"/>\n<polygon fill=\"#000000\" stroke=\"#000000\" points=\"15954.5015,-262.2214 15959.9431,-253.1308 15950.0202,-256.8439 15954.5015,-262.2214\"/>\n</g>\n<!-- 273 -->\n<g id=\"node274\" class=\"node\">\n<title>273</title>\n<path fill=\"#f5fef6\" stroke=\"#000000\" d=\"M15628,-147.5C15628,-147.5 15433,-147.5 15433,-147.5 15427,-147.5 15421,-141.5 15421,-135.5 15421,-135.5 15421,-106.5 15421,-106.5 15421,-100.5 15427,-94.5 15433,-94.5 15433,-94.5 15628,-94.5 15628,-94.5 15634,-94.5 15640,-100.5 15640,-106.5 15640,-106.5 15640,-135.5 15640,-135.5 15640,-141.5 15634,-147.5 15628,-147.5\"/>\n<text text-anchor=\"start\" x=\"15492.5\" y=\"-132.3\" font-family=\"Helvetica,sans-Serif\" font-size=\"14.00\" fill=\"#000000\">gini = 0.775</text>\n<text text-anchor=\"start\" x=\"15486.5\" y=\"-117.3\" font-family=\"Helvetica,sans-Serif\" font-size=\"14.00\" fill=\"#000000\">samples = 81</text>\n<text text-anchor=\"start\" x=\"15429\" y=\"-102.3\" font-family=\"Helvetica,sans-Serif\" font-size=\"14.00\" fill=\"#000000\">value = [14, 33, 40, 35, 10, 4, 1]</text>\n</g>\n<!-- 272&#45;&gt;273 -->\n<g id=\"edge273\" class=\"edge\">\n<title>272&#45;&gt;273</title>\n<path fill=\"none\" stroke=\"#000000\" d=\"M15684.7391,-188.9467C15657.5943,-176.9887 15626.865,-163.4515 15600.019,-151.6251\"/>\n<polygon fill=\"#000000\" stroke=\"#000000\" points=\"15601.2599,-148.3472 15590.6975,-147.5187 15598.4379,-154.7532 15601.2599,-148.3472\"/>\n</g>\n<!-- 274 -->\n<g id=\"node275\" class=\"node\">\n<title>274</title>\n<path fill=\"#bdf6c4\" stroke=\"#000000\" d=\"M15849,-147.5C15849,-147.5 15670,-147.5 15670,-147.5 15664,-147.5 15658,-141.5 15658,-135.5 15658,-135.5 15658,-106.5 15658,-106.5 15658,-100.5 15664,-94.5 15670,-94.5 15670,-94.5 15849,-94.5 15849,-94.5 15855,-94.5 15861,-100.5 15861,-106.5 15861,-106.5 15861,-135.5 15861,-135.5 15861,-141.5 15855,-147.5 15849,-147.5\"/>\n<text text-anchor=\"start\" x=\"15721.5\" y=\"-132.3\" font-family=\"Helvetica,sans-Serif\" font-size=\"14.00\" fill=\"#000000\">gini = 0.649</text>\n<text text-anchor=\"start\" x=\"15715.5\" y=\"-117.3\" font-family=\"Helvetica,sans-Serif\" font-size=\"14.00\" fill=\"#000000\">samples = 51</text>\n<text text-anchor=\"start\" x=\"15666\" y=\"-102.3\" font-family=\"Helvetica,sans-Serif\" font-size=\"14.00\" fill=\"#000000\">value = [6, 20, 39, 11, 1, 0, 0]</text>\n</g>\n<!-- 272&#45;&gt;274 -->\n<g id=\"edge274\" class=\"edge\">\n<title>272&#45;&gt;274</title>\n<path fill=\"none\" stroke=\"#000000\" d=\"M15758.1438,-188.8089C15758.3404,-178.9777 15758.5582,-168.0898 15758.7606,-157.9679\"/>\n<polygon fill=\"#000000\" stroke=\"#000000\" points=\"15762.2638,-157.8415 15758.9645,-147.7735 15755.2652,-157.7015 15762.2638,-157.8415\"/>\n</g>\n<!-- 276 -->\n<g id=\"node277\" class=\"node\">\n<title>276</title>\n<path fill=\"#bcf6c3\" stroke=\"#000000\" d=\"M16098,-153C16098,-153 15895,-153 15895,-153 15889,-153 15883,-147 15883,-141 15883,-141 15883,-101 15883,-101 15883,-95 15889,-89 15895,-89 15895,-89 16098,-89 16098,-89 16104,-89 16110,-95 16110,-101 16110,-101 16110,-141 16110,-141 16110,-147 16104,-153 16098,-153\"/>\n<text text-anchor=\"start\" x=\"15966\" y=\"-138.8\" font-family=\"Helvetica,sans-Serif\" font-size=\"14.00\" fill=\"#000000\">X</text>\n<text text-anchor=\"start\" x=\"15976\" y=\"-138.8\" font-family=\"Helvetica,sans-Serif\" baseline-shift=\"sub\" font-size=\"14.00\" fill=\"#000000\">0</text>\n<text text-anchor=\"start\" x=\"15983\" y=\"-138.8\" font-family=\"Helvetica,sans-Serif\" font-size=\"14.00\" fill=\"#000000\"> ≤ 14.5</text>\n<text text-anchor=\"start\" x=\"15958.5\" y=\"-124.8\" font-family=\"Helvetica,sans-Serif\" font-size=\"14.00\" fill=\"#000000\">gini = 0.738</text>\n<text text-anchor=\"start\" x=\"15948.5\" y=\"-110.8\" font-family=\"Helvetica,sans-Serif\" font-size=\"14.00\" fill=\"#000000\">samples = 111</text>\n<text text-anchor=\"start\" x=\"15891\" y=\"-96.8\" font-family=\"Helvetica,sans-Serif\" font-size=\"14.00\" fill=\"#000000\">value = [2, 15, 77, 28, 20, 13, 18]</text>\n</g>\n<!-- 275&#45;&gt;276 -->\n<g id=\"edge276\" class=\"edge\">\n<title>275&#45;&gt;276</title>\n<path fill=\"none\" stroke=\"#000000\" d=\"M15997.8562,-188.8089C15997.6938,-180.6906 15997.517,-171.8517 15997.3464,-163.3186\"/>\n<polygon fill=\"#000000\" stroke=\"#000000\" points=\"16000.842,-163.0587 15997.1426,-153.1308 15993.8434,-163.1988 16000.842,-163.0587\"/>\n</g>\n<!-- 279 -->\n<g id=\"node280\" class=\"node\">\n<title>279</title>\n<path fill=\"#dfe4fb\" stroke=\"#000000\" d=\"M16310.5,-147.5C16310.5,-147.5 16140.5,-147.5 16140.5,-147.5 16134.5,-147.5 16128.5,-141.5 16128.5,-135.5 16128.5,-135.5 16128.5,-106.5 16128.5,-106.5 16128.5,-100.5 16134.5,-94.5 16140.5,-94.5 16140.5,-94.5 16310.5,-94.5 16310.5,-94.5 16316.5,-94.5 16322.5,-100.5 16322.5,-106.5 16322.5,-106.5 16322.5,-135.5 16322.5,-135.5 16322.5,-141.5 16316.5,-147.5 16310.5,-147.5\"/>\n<text text-anchor=\"start\" x=\"16187.5\" y=\"-132.3\" font-family=\"Helvetica,sans-Serif\" font-size=\"14.00\" fill=\"#000000\">gini = 0.761</text>\n<text text-anchor=\"start\" x=\"16181.5\" y=\"-117.3\" font-family=\"Helvetica,sans-Serif\" font-size=\"14.00\" fill=\"#000000\">samples = 33</text>\n<text text-anchor=\"start\" x=\"16136.5\" y=\"-102.3\" font-family=\"Helvetica,sans-Serif\" font-size=\"14.00\" fill=\"#000000\">value = [2, 6, 12, 7, 18, 4, 0]</text>\n</g>\n<!-- 275&#45;&gt;279 -->\n<g id=\"edge279\" class=\"edge\">\n<title>275&#45;&gt;279</title>\n<path fill=\"none\" stroke=\"#000000\" d=\"M16071.2609,-188.9467C16098.4057,-176.9887 16129.135,-163.4515 16155.981,-151.6251\"/>\n<polygon fill=\"#000000\" stroke=\"#000000\" points=\"16157.5621,-154.7532 16165.3025,-147.5187 16154.7401,-148.3472 16157.5621,-154.7532\"/>\n</g>\n<!-- 277 -->\n<g id=\"node278\" class=\"node\">\n<title>277</title>\n<path fill=\"#d1f9d6\" stroke=\"#000000\" d=\"M15965.5,-53C15965.5,-53 15803.5,-53 15803.5,-53 15797.5,-53 15791.5,-47 15791.5,-41 15791.5,-41 15791.5,-12 15791.5,-12 15791.5,-6 15797.5,0 15803.5,0 15803.5,0 15965.5,0 15965.5,0 15971.5,0 15977.5,-6 15977.5,-12 15977.5,-12 15977.5,-41 15977.5,-41 15977.5,-47 15971.5,-53 15965.5,-53\"/>\n<text text-anchor=\"start\" x=\"15846.5\" y=\"-37.8\" font-family=\"Helvetica,sans-Serif\" font-size=\"14.00\" fill=\"#000000\">gini = 0.773</text>\n<text text-anchor=\"start\" x=\"15840.5\" y=\"-22.8\" font-family=\"Helvetica,sans-Serif\" font-size=\"14.00\" fill=\"#000000\">samples = 22</text>\n<text text-anchor=\"start\" x=\"15799.5\" y=\"-7.8\" font-family=\"Helvetica,sans-Serif\" font-size=\"14.00\" fill=\"#000000\">value = [0, 3, 12, 6, 5, 3, 3]</text>\n</g>\n<!-- 276&#45;&gt;277 -->\n<g id=\"edge277\" class=\"edge\">\n<title>276&#45;&gt;277</title>\n<path fill=\"none\" stroke=\"#000000\" d=\"M15958.2692,-88.7428C15947.2547,-79.4493 15935.217,-69.2925 15924.1202,-59.9295\"/>\n<polygon fill=\"#000000\" stroke=\"#000000\" points=\"15926.1344,-57.0496 15916.2344,-53.2759 15921.6202,-62.3996 15926.1344,-57.0496\"/>\n</g>\n<!-- 278 -->\n<g id=\"node279\" class=\"node\">\n<title>278</title>\n<path fill=\"#b7f6bf\" stroke=\"#000000\" d=\"M16211,-53C16211,-53 16008,-53 16008,-53 16002,-53 15996,-47 15996,-41 15996,-41 15996,-12 15996,-12 15996,-6 16002,0 16008,0 16008,0 16211,0 16211,0 16217,0 16223,-6 16223,-12 16223,-12 16223,-41 16223,-41 16223,-47 16217,-53 16211,-53\"/>\n<text text-anchor=\"start\" x=\"16071.5\" y=\"-37.8\" font-family=\"Helvetica,sans-Serif\" font-size=\"14.00\" fill=\"#000000\">gini = 0.728</text>\n<text text-anchor=\"start\" x=\"16065.5\" y=\"-22.8\" font-family=\"Helvetica,sans-Serif\" font-size=\"14.00\" fill=\"#000000\">samples = 89</text>\n<text text-anchor=\"start\" x=\"16004\" y=\"-7.8\" font-family=\"Helvetica,sans-Serif\" font-size=\"14.00\" fill=\"#000000\">value = [2, 12, 65, 22, 15, 10, 15]</text>\n</g>\n<!-- 276&#45;&gt;278 -->\n<g id=\"edge278\" class=\"edge\">\n<title>276&#45;&gt;278</title>\n<path fill=\"none\" stroke=\"#000000\" d=\"M16035.0721,-88.7428C16046.185,-79.4493 16058.3302,-69.2925 16069.5261,-59.9295\"/>\n<polygon fill=\"#000000\" stroke=\"#000000\" points=\"16072.0565,-62.376 16077.4823,-53.2759 16067.5659,-57.0062 16072.0565,-62.376\"/>\n</g>\n<!-- 282 -->\n<g id=\"node283\" class=\"node\">\n<title>282</title>\n<path fill=\"#fce8f1\" stroke=\"#000000\" d=\"M16412,-553C16412,-553 16233,-553 16233,-553 16227,-553 16221,-547 16221,-541 16221,-541 16221,-501 16221,-501 16221,-495 16227,-489 16233,-489 16233,-489 16412,-489 16412,-489 16418,-489 16424,-495 16424,-501 16424,-501 16424,-541 16424,-541 16424,-547 16418,-553 16412,-553\"/>\n<text text-anchor=\"start\" x=\"16292\" y=\"-538.8\" font-family=\"Helvetica,sans-Serif\" font-size=\"14.00\" fill=\"#000000\">X</text>\n<text text-anchor=\"start\" x=\"16302\" y=\"-538.8\" font-family=\"Helvetica,sans-Serif\" baseline-shift=\"sub\" font-size=\"14.00\" fill=\"#000000\">0</text>\n<text text-anchor=\"start\" x=\"16309\" y=\"-538.8\" font-family=\"Helvetica,sans-Serif\" font-size=\"14.00\" fill=\"#000000\"> ≤ 10.5</text>\n<text text-anchor=\"start\" x=\"16284.5\" y=\"-524.8\" font-family=\"Helvetica,sans-Serif\" font-size=\"14.00\" fill=\"#000000\">gini = 0.737</text>\n<text text-anchor=\"start\" x=\"16278.5\" y=\"-510.8\" font-family=\"Helvetica,sans-Serif\" font-size=\"14.00\" fill=\"#000000\">samples = 27</text>\n<text text-anchor=\"start\" x=\"16229\" y=\"-496.8\" font-family=\"Helvetica,sans-Serif\" font-size=\"14.00\" fill=\"#000000\">value = [0, 0, 0, 10, 9, 12, 16]</text>\n</g>\n<!-- 281&#45;&gt;282 -->\n<g id=\"edge282\" class=\"edge\">\n<title>281&#45;&gt;282</title>\n<path fill=\"none\" stroke=\"#000000\" d=\"M16326.5685,-588.8089C16326.0814,-580.6906 16325.5511,-571.8517 16325.0391,-563.3186\"/>\n<polygon fill=\"#000000\" stroke=\"#000000\" points=\"16328.5206,-562.9032 16324.4278,-553.1308 16321.5331,-563.3225 16328.5206,-562.9032\"/>\n</g>\n<!-- 287 -->\n<g id=\"node288\" class=\"node\">\n<title>287</title>\n<path fill=\"#f9fefa\" stroke=\"#000000\" d=\"M16649,-547.5C16649,-547.5 16454,-547.5 16454,-547.5 16448,-547.5 16442,-541.5 16442,-535.5 16442,-535.5 16442,-506.5 16442,-506.5 16442,-500.5 16448,-494.5 16454,-494.5 16454,-494.5 16649,-494.5 16649,-494.5 16655,-494.5 16661,-500.5 16661,-506.5 16661,-506.5 16661,-535.5 16661,-535.5 16661,-541.5 16655,-547.5 16649,-547.5\"/>\n<text text-anchor=\"start\" x=\"16513.5\" y=\"-532.3\" font-family=\"Helvetica,sans-Serif\" font-size=\"14.00\" fill=\"#000000\">gini = 0.815</text>\n<text text-anchor=\"start\" x=\"16507.5\" y=\"-517.3\" font-family=\"Helvetica,sans-Serif\" font-size=\"14.00\" fill=\"#000000\">samples = 55</text>\n<text text-anchor=\"start\" x=\"16450\" y=\"-502.3\" font-family=\"Helvetica,sans-Serif\" font-size=\"14.00\" fill=\"#000000\">value = [3, 2, 20, 17, 14, 12, 18]</text>\n</g>\n<!-- 281&#45;&gt;287 -->\n<g id=\"edge287\" class=\"edge\">\n<title>281&#45;&gt;287</title>\n<path fill=\"none\" stroke=\"#000000\" d=\"M16399.9787,-588.9467C16426.6453,-576.9887 16456.8331,-563.4515 16483.206,-551.6251\"/>\n<polygon fill=\"#000000\" stroke=\"#000000\" points=\"16484.6708,-554.8041 16492.3632,-547.5187 16481.8065,-548.4169 16484.6708,-554.8041\"/>\n</g>\n<!-- 283 -->\n<g id=\"node284\" class=\"node\">\n<title>283</title>\n<path fill=\"#fef9fb\" stroke=\"#000000\" d=\"M16454,-453C16454,-453 16275,-453 16275,-453 16269,-453 16263,-447 16263,-441 16263,-441 16263,-401 16263,-401 16263,-395 16269,-389 16275,-389 16275,-389 16454,-389 16454,-389 16460,-389 16466,-395 16466,-401 16466,-401 16466,-441 16466,-441 16466,-447 16460,-453 16454,-453\"/>\n<text text-anchor=\"start\" x=\"16338\" y=\"-438.8\" font-family=\"Helvetica,sans-Serif\" font-size=\"14.00\" fill=\"#000000\">X</text>\n<text text-anchor=\"start\" x=\"16348\" y=\"-438.8\" font-family=\"Helvetica,sans-Serif\" baseline-shift=\"sub\" font-size=\"14.00\" fill=\"#000000\">0</text>\n<text text-anchor=\"start\" x=\"16355\" y=\"-438.8\" font-family=\"Helvetica,sans-Serif\" font-size=\"14.00\" fill=\"#000000\"> ≤ 9.0</text>\n<text text-anchor=\"start\" x=\"16326.5\" y=\"-424.8\" font-family=\"Helvetica,sans-Serif\" font-size=\"14.00\" fill=\"#000000\">gini = 0.745</text>\n<text text-anchor=\"start\" x=\"16320.5\" y=\"-410.8\" font-family=\"Helvetica,sans-Serif\" font-size=\"14.00\" fill=\"#000000\">samples = 25</text>\n<text text-anchor=\"start\" x=\"16271\" y=\"-396.8\" font-family=\"Helvetica,sans-Serif\" font-size=\"14.00\" fill=\"#000000\">value = [0, 0, 0, 10, 9, 12, 13]</text>\n</g>\n<!-- 282&#45;&gt;283 -->\n<g id=\"edge283\" class=\"edge\">\n<title>282&#45;&gt;283</title>\n<path fill=\"none\" stroke=\"#000000\" d=\"M16336.0203,-488.8089C16339.5424,-480.4229 16343.3874,-471.2681 16347.0802,-462.4757\"/>\n<polygon fill=\"#000000\" stroke=\"#000000\" points=\"16350.3596,-463.7059 16351.0051,-453.1308 16343.9058,-460.9953 16350.3596,-463.7059\"/>\n</g>\n<!-- 286 -->\n<g id=\"node287\" class=\"node\">\n<title>286</title>\n<path fill=\"#e53986\" stroke=\"#000000\" d=\"M16649.5,-447.5C16649.5,-447.5 16495.5,-447.5 16495.5,-447.5 16489.5,-447.5 16483.5,-441.5 16483.5,-435.5 16483.5,-435.5 16483.5,-406.5 16483.5,-406.5 16483.5,-400.5 16489.5,-394.5 16495.5,-394.5 16495.5,-394.5 16649.5,-394.5 16649.5,-394.5 16655.5,-394.5 16661.5,-400.5 16661.5,-406.5 16661.5,-406.5 16661.5,-435.5 16661.5,-435.5 16661.5,-441.5 16655.5,-447.5 16649.5,-447.5\"/>\n<text text-anchor=\"start\" x=\"16543\" y=\"-432.3\" font-family=\"Helvetica,sans-Serif\" font-size=\"14.00\" fill=\"#000000\">gini = 0.0</text>\n<text text-anchor=\"start\" x=\"16533\" y=\"-417.3\" font-family=\"Helvetica,sans-Serif\" font-size=\"14.00\" fill=\"#000000\">samples = 2</text>\n<text text-anchor=\"start\" x=\"16491.5\" y=\"-402.3\" font-family=\"Helvetica,sans-Serif\" font-size=\"14.00\" fill=\"#000000\">value = [0, 0, 0, 0, 0, 0, 3]</text>\n</g>\n<!-- 282&#45;&gt;286 -->\n<g id=\"edge286\" class=\"edge\">\n<title>282&#45;&gt;286</title>\n<path fill=\"none\" stroke=\"#000000\" d=\"M16402.6331,-488.9467C16432.7894,-476.8842 16466.9626,-463.2149 16496.7109,-451.3157\"/>\n<polygon fill=\"#000000\" stroke=\"#000000\" points=\"16498.2183,-454.4824 16506.2032,-447.5187 16495.6185,-447.983 16498.2183,-454.4824\"/>\n</g>\n<!-- 284 -->\n<g id=\"node285\" class=\"node\">\n<title>284</title>\n<path fill=\"#e53986\" stroke=\"#000000\" d=\"M16446.5,-347.5C16446.5,-347.5 16292.5,-347.5 16292.5,-347.5 16286.5,-347.5 16280.5,-341.5 16280.5,-335.5 16280.5,-335.5 16280.5,-306.5 16280.5,-306.5 16280.5,-300.5 16286.5,-294.5 16292.5,-294.5 16292.5,-294.5 16446.5,-294.5 16446.5,-294.5 16452.5,-294.5 16458.5,-300.5 16458.5,-306.5 16458.5,-306.5 16458.5,-335.5 16458.5,-335.5 16458.5,-341.5 16452.5,-347.5 16446.5,-347.5\"/>\n<text text-anchor=\"start\" x=\"16340\" y=\"-332.3\" font-family=\"Helvetica,sans-Serif\" font-size=\"14.00\" fill=\"#000000\">gini = 0.0</text>\n<text text-anchor=\"start\" x=\"16330\" y=\"-317.3\" font-family=\"Helvetica,sans-Serif\" font-size=\"14.00\" fill=\"#000000\">samples = 1</text>\n<text text-anchor=\"start\" x=\"16288.5\" y=\"-302.3\" font-family=\"Helvetica,sans-Serif\" font-size=\"14.00\" fill=\"#000000\">value = [0, 0, 0, 0, 0, 0, 1]</text>\n</g>\n<!-- 283&#45;&gt;284 -->\n<g id=\"edge284\" class=\"edge\">\n<title>283&#45;&gt;284</title>\n<path fill=\"none\" stroke=\"#000000\" d=\"M16366.1096,-388.8089C16366.6011,-378.9777 16367.1455,-368.0898 16367.6516,-357.9679\"/>\n<polygon fill=\"#000000\" stroke=\"#000000\" points=\"16371.1575,-357.9359 16368.1613,-347.7735 16364.1662,-357.5862 16371.1575,-357.9359\"/>\n</g>\n<!-- 285 -->\n<g id=\"node286\" class=\"node\">\n<title>285</title>\n<path fill=\"#ffffff\" stroke=\"#000000\" d=\"M16667,-347.5C16667,-347.5 16488,-347.5 16488,-347.5 16482,-347.5 16476,-341.5 16476,-335.5 16476,-335.5 16476,-306.5 16476,-306.5 16476,-300.5 16482,-294.5 16488,-294.5 16488,-294.5 16667,-294.5 16667,-294.5 16673,-294.5 16679,-300.5 16679,-306.5 16679,-306.5 16679,-335.5 16679,-335.5 16679,-341.5 16673,-347.5 16667,-347.5\"/>\n<text text-anchor=\"start\" x=\"16539.5\" y=\"-332.3\" font-family=\"Helvetica,sans-Serif\" font-size=\"14.00\" fill=\"#000000\">gini = 0.746</text>\n<text text-anchor=\"start\" x=\"16533.5\" y=\"-317.3\" font-family=\"Helvetica,sans-Serif\" font-size=\"14.00\" fill=\"#000000\">samples = 24</text>\n<text text-anchor=\"start\" x=\"16484\" y=\"-302.3\" font-family=\"Helvetica,sans-Serif\" font-size=\"14.00\" fill=\"#000000\">value = [0, 0, 0, 10, 9, 12, 12]</text>\n</g>\n<!-- 283&#45;&gt;285 -->\n<g id=\"edge285\" class=\"edge\">\n<title>283&#45;&gt;285</title>\n<path fill=\"none\" stroke=\"#000000\" d=\"M16432.7734,-388.9467C16458.1329,-377.0409 16486.8265,-363.5697 16511.9383,-351.7802\"/>\n<polygon fill=\"#000000\" stroke=\"#000000\" points=\"16513.4505,-354.9368 16521.0151,-347.5187 16510.4756,-348.6004 16513.4505,-354.9368\"/>\n</g>\n<!-- 289 -->\n<g id=\"node290\" class=\"node\">\n<title>289</title>\n<path fill=\"#d9f197\" stroke=\"#000000\" d=\"M16959.5,-653C16959.5,-653 16789.5,-653 16789.5,-653 16783.5,-653 16777.5,-647 16777.5,-641 16777.5,-641 16777.5,-601 16777.5,-601 16777.5,-595 16783.5,-589 16789.5,-589 16789.5,-589 16959.5,-589 16959.5,-589 16965.5,-589 16971.5,-595 16971.5,-601 16971.5,-601 16971.5,-641 16971.5,-641 16971.5,-647 16965.5,-653 16959.5,-653\"/>\n<text text-anchor=\"start\" x=\"16844\" y=\"-638.8\" font-family=\"Helvetica,sans-Serif\" font-size=\"14.00\" fill=\"#000000\">X</text>\n<text text-anchor=\"start\" x=\"16854\" y=\"-638.8\" font-family=\"Helvetica,sans-Serif\" baseline-shift=\"sub\" font-size=\"14.00\" fill=\"#000000\">0</text>\n<text text-anchor=\"start\" x=\"16861\" y=\"-638.8\" font-family=\"Helvetica,sans-Serif\" font-size=\"14.00\" fill=\"#000000\"> ≤ 12.5</text>\n<text text-anchor=\"start\" x=\"16836.5\" y=\"-624.8\" font-family=\"Helvetica,sans-Serif\" font-size=\"14.00\" fill=\"#000000\">gini = 0.559</text>\n<text text-anchor=\"start\" x=\"16830.5\" y=\"-610.8\" font-family=\"Helvetica,sans-Serif\" font-size=\"14.00\" fill=\"#000000\">samples = 45</text>\n<text text-anchor=\"start\" x=\"16785.5\" y=\"-596.8\" font-family=\"Helvetica,sans-Serif\" font-size=\"14.00\" fill=\"#000000\">value = [14, 43, 6, 0, 4, 0, 2]</text>\n</g>\n<!-- 288&#45;&gt;289 -->\n<g id=\"edge289\" class=\"edge\">\n<title>288&#45;&gt;289</title>\n<path fill=\"none\" stroke=\"#000000\" d=\"M16874.5,-688.8089C16874.5,-680.6906 16874.5,-671.8517 16874.5,-663.3186\"/>\n<polygon fill=\"#000000\" stroke=\"#000000\" points=\"16878.0001,-663.1307 16874.5,-653.1308 16871.0001,-663.1308 16878.0001,-663.1307\"/>\n</g>\n<!-- 294 -->\n<g id=\"node295\" class=\"node\">\n<title>294</title>\n<path fill=\"#cfee7c\" stroke=\"#000000\" d=\"M17287,-653C17287,-653 17100,-653 17100,-653 17094,-653 17088,-647 17088,-641 17088,-641 17088,-601 17088,-601 17088,-595 17094,-589 17100,-589 17100,-589 17287,-589 17287,-589 17293,-589 17299,-595 17299,-601 17299,-601 17299,-641 17299,-641 17299,-647 17293,-653 17287,-653\"/>\n<text text-anchor=\"start\" x=\"17167\" y=\"-638.8\" font-family=\"Helvetica,sans-Serif\" font-size=\"14.00\" fill=\"#000000\">X</text>\n<text text-anchor=\"start\" x=\"17177\" y=\"-638.8\" font-family=\"Helvetica,sans-Serif\" baseline-shift=\"sub\" font-size=\"14.00\" fill=\"#000000\">1</text>\n<text text-anchor=\"start\" x=\"17184\" y=\"-638.8\" font-family=\"Helvetica,sans-Serif\" font-size=\"14.00\" fill=\"#000000\"> ≤ 9.5</text>\n<text text-anchor=\"start\" x=\"17160\" y=\"-624.8\" font-family=\"Helvetica,sans-Serif\" font-size=\"14.00\" fill=\"#000000\">gini = 0.47</text>\n<text text-anchor=\"start\" x=\"17145.5\" y=\"-610.8\" font-family=\"Helvetica,sans-Serif\" font-size=\"14.00\" fill=\"#000000\">samples = 126</text>\n<text text-anchor=\"start\" x=\"17096\" y=\"-596.8\" font-family=\"Helvetica,sans-Serif\" font-size=\"14.00\" fill=\"#000000\">value = [26, 137, 22, 3, 3, 0, 3]</text>\n</g>\n<!-- 288&#45;&gt;294 -->\n<g id=\"edge294\" class=\"edge\">\n<title>288&#45;&gt;294</title>\n<path fill=\"none\" stroke=\"#000000\" d=\"M16976.7499,-688.9467C17010.0889,-678.4956 17047.2755,-666.8384 17081.3039,-656.1712\"/>\n<polygon fill=\"#000000\" stroke=\"#000000\" points=\"17082.7867,-659.3744 17091.2819,-653.0433 17080.6928,-652.6949 17082.7867,-659.3744\"/>\n</g>\n<!-- 290 -->\n<g id=\"node291\" class=\"node\">\n<title>290</title>\n<path fill=\"#d8f195\" stroke=\"#000000\" d=\"M16861.5,-553C16861.5,-553 16691.5,-553 16691.5,-553 16685.5,-553 16679.5,-547 16679.5,-541 16679.5,-541 16679.5,-501 16679.5,-501 16679.5,-495 16685.5,-489 16691.5,-489 16691.5,-489 16861.5,-489 16861.5,-489 16867.5,-489 16873.5,-495 16873.5,-501 16873.5,-501 16873.5,-541 16873.5,-541 16873.5,-547 16867.5,-553 16861.5,-553\"/>\n<text text-anchor=\"start\" x=\"16750\" y=\"-538.8\" font-family=\"Helvetica,sans-Serif\" font-size=\"14.00\" fill=\"#000000\">X</text>\n<text text-anchor=\"start\" x=\"16760\" y=\"-538.8\" font-family=\"Helvetica,sans-Serif\" baseline-shift=\"sub\" font-size=\"14.00\" fill=\"#000000\">1</text>\n<text text-anchor=\"start\" x=\"16767\" y=\"-538.8\" font-family=\"Helvetica,sans-Serif\" font-size=\"14.00\" fill=\"#000000\"> ≤ 9.5</text>\n<text text-anchor=\"start\" x=\"16738.5\" y=\"-524.8\" font-family=\"Helvetica,sans-Serif\" font-size=\"14.00\" fill=\"#000000\">gini = 0.547</text>\n<text text-anchor=\"start\" x=\"16732.5\" y=\"-510.8\" font-family=\"Helvetica,sans-Serif\" font-size=\"14.00\" fill=\"#000000\">samples = 44</text>\n<text text-anchor=\"start\" x=\"16687.5\" y=\"-496.8\" font-family=\"Helvetica,sans-Serif\" font-size=\"14.00\" fill=\"#000000\">value = [14, 43, 6, 0, 3, 0, 2]</text>\n</g>\n<!-- 289&#45;&gt;290 -->\n<g id=\"edge290\" class=\"edge\">\n<title>289&#45;&gt;290</title>\n<path fill=\"none\" stroke=\"#000000\" d=\"M16842.9527,-588.8089C16834.1225,-579.7985 16824.4224,-569.9004 16815.2276,-560.518\"/>\n<polygon fill=\"#000000\" stroke=\"#000000\" points=\"16817.4872,-557.8232 16807.9881,-553.1308 16812.4877,-562.7227 16817.4872,-557.8232\"/>\n</g>\n<!-- 293 -->\n<g id=\"node294\" class=\"node\">\n<title>293</title>\n<path fill=\"#3956e5\" stroke=\"#000000\" d=\"M17057.5,-547.5C17057.5,-547.5 16903.5,-547.5 16903.5,-547.5 16897.5,-547.5 16891.5,-541.5 16891.5,-535.5 16891.5,-535.5 16891.5,-506.5 16891.5,-506.5 16891.5,-500.5 16897.5,-494.5 16903.5,-494.5 16903.5,-494.5 17057.5,-494.5 17057.5,-494.5 17063.5,-494.5 17069.5,-500.5 17069.5,-506.5 17069.5,-506.5 17069.5,-535.5 17069.5,-535.5 17069.5,-541.5 17063.5,-547.5 17057.5,-547.5\"/>\n<text text-anchor=\"start\" x=\"16951\" y=\"-532.3\" font-family=\"Helvetica,sans-Serif\" font-size=\"14.00\" fill=\"#000000\">gini = 0.0</text>\n<text text-anchor=\"start\" x=\"16941\" y=\"-517.3\" font-family=\"Helvetica,sans-Serif\" font-size=\"14.00\" fill=\"#000000\">samples = 1</text>\n<text text-anchor=\"start\" x=\"16899.5\" y=\"-502.3\" font-family=\"Helvetica,sans-Serif\" font-size=\"14.00\" fill=\"#000000\">value = [0, 0, 0, 0, 1, 0, 0]</text>\n</g>\n<!-- 289&#45;&gt;293 -->\n<g id=\"edge293\" class=\"edge\">\n<title>289&#45;&gt;293</title>\n<path fill=\"none\" stroke=\"#000000\" d=\"M16908.6225,-588.8089C16920.1406,-577.9428 16933.0269,-565.7859 16944.6729,-554.7991\"/>\n<polygon fill=\"#000000\" stroke=\"#000000\" points=\"16947.2479,-557.1816 16952.1201,-547.7735 16942.4443,-552.0899 16947.2479,-557.1816\"/>\n</g>\n<!-- 291 -->\n<g id=\"node292\" class=\"node\">\n<title>291</title>\n<path fill=\"#d4f08a\" stroke=\"#000000\" d=\"M16861.5,-447.5C16861.5,-447.5 16691.5,-447.5 16691.5,-447.5 16685.5,-447.5 16679.5,-441.5 16679.5,-435.5 16679.5,-435.5 16679.5,-406.5 16679.5,-406.5 16679.5,-400.5 16685.5,-394.5 16691.5,-394.5 16691.5,-394.5 16861.5,-394.5 16861.5,-394.5 16867.5,-394.5 16873.5,-400.5 16873.5,-406.5 16873.5,-406.5 16873.5,-435.5 16873.5,-435.5 16873.5,-441.5 16867.5,-447.5 16861.5,-447.5\"/>\n<text text-anchor=\"start\" x=\"16738.5\" y=\"-432.3\" font-family=\"Helvetica,sans-Serif\" font-size=\"14.00\" fill=\"#000000\">gini = 0.476</text>\n<text text-anchor=\"start\" x=\"16732.5\" y=\"-417.3\" font-family=\"Helvetica,sans-Serif\" font-size=\"14.00\" fill=\"#000000\">samples = 42</text>\n<text text-anchor=\"start\" x=\"16687.5\" y=\"-402.3\" font-family=\"Helvetica,sans-Serif\" font-size=\"14.00\" fill=\"#000000\">value = [14, 43, 6, 0, 0, 0, 0]</text>\n</g>\n<!-- 290&#45;&gt;291 -->\n<g id=\"edge291\" class=\"edge\">\n<title>290&#45;&gt;291</title>\n<path fill=\"none\" stroke=\"#000000\" d=\"M16776.5,-488.8089C16776.5,-478.9777 16776.5,-468.0898 16776.5,-457.9679\"/>\n<polygon fill=\"#000000\" stroke=\"#000000\" points=\"16780.0001,-457.7735 16776.5,-447.7735 16773.0001,-457.7736 16780.0001,-457.7735\"/>\n</g>\n<!-- 292 -->\n<g id=\"node293\" class=\"node\">\n<title>292</title>\n<path fill=\"#bdc7f6\" stroke=\"#000000\" d=\"M17057.5,-447.5C17057.5,-447.5 16903.5,-447.5 16903.5,-447.5 16897.5,-447.5 16891.5,-441.5 16891.5,-435.5 16891.5,-435.5 16891.5,-406.5 16891.5,-406.5 16891.5,-400.5 16897.5,-394.5 16903.5,-394.5 16903.5,-394.5 17057.5,-394.5 17057.5,-394.5 17063.5,-394.5 17069.5,-400.5 17069.5,-406.5 17069.5,-406.5 17069.5,-435.5 17069.5,-435.5 17069.5,-441.5 17063.5,-447.5 17057.5,-447.5\"/>\n<text text-anchor=\"start\" x=\"16947\" y=\"-432.3\" font-family=\"Helvetica,sans-Serif\" font-size=\"14.00\" fill=\"#000000\">gini = 0.48</text>\n<text text-anchor=\"start\" x=\"16941\" y=\"-417.3\" font-family=\"Helvetica,sans-Serif\" font-size=\"14.00\" fill=\"#000000\">samples = 2</text>\n<text text-anchor=\"start\" x=\"16899.5\" y=\"-402.3\" font-family=\"Helvetica,sans-Serif\" font-size=\"14.00\" fill=\"#000000\">value = [0, 0, 0, 0, 3, 0, 2]</text>\n</g>\n<!-- 290&#45;&gt;292 -->\n<g id=\"edge292\" class=\"edge\">\n<title>290&#45;&gt;292</title>\n<path fill=\"none\" stroke=\"#000000\" d=\"M16841.8886,-488.9467C16866.0701,-477.0931 16893.4168,-463.6879 16917.3918,-451.9354\"/>\n<polygon fill=\"#000000\" stroke=\"#000000\" points=\"16918.9632,-455.0631 16926.4018,-447.5187 16915.882,-448.7776 16918.9632,-455.0631\"/>\n</g>\n<!-- 295 -->\n<g id=\"node296\" class=\"node\">\n<title>295</title>\n<path fill=\"#ceed79\" stroke=\"#000000\" d=\"M17287,-547.5C17287,-547.5 17100,-547.5 17100,-547.5 17094,-547.5 17088,-541.5 17088,-535.5 17088,-535.5 17088,-506.5 17088,-506.5 17088,-500.5 17094,-494.5 17100,-494.5 17100,-494.5 17287,-494.5 17287,-494.5 17293,-494.5 17299,-500.5 17299,-506.5 17299,-506.5 17299,-535.5 17299,-535.5 17299,-541.5 17293,-547.5 17287,-547.5\"/>\n<text text-anchor=\"start\" x=\"17155.5\" y=\"-532.3\" font-family=\"Helvetica,sans-Serif\" font-size=\"14.00\" fill=\"#000000\">gini = 0.449</text>\n<text text-anchor=\"start\" x=\"17145.5\" y=\"-517.3\" font-family=\"Helvetica,sans-Serif\" font-size=\"14.00\" fill=\"#000000\">samples = 123</text>\n<text text-anchor=\"start\" x=\"17096\" y=\"-502.3\" font-family=\"Helvetica,sans-Serif\" font-size=\"14.00\" fill=\"#000000\">value = [26, 137, 21, 3, 3, 0, 0]</text>\n</g>\n<!-- 294&#45;&gt;295 -->\n<g id=\"edge295\" class=\"edge\">\n<title>294&#45;&gt;295</title>\n<path fill=\"none\" stroke=\"#000000\" d=\"M17193.5,-588.8089C17193.5,-578.9777 17193.5,-568.0898 17193.5,-557.9679\"/>\n<polygon fill=\"#000000\" stroke=\"#000000\" points=\"17197.0001,-557.7735 17193.5,-547.7735 17190.0001,-557.7736 17197.0001,-557.7735\"/>\n</g>\n<!-- 296 -->\n<g id=\"node297\" class=\"node\">\n<title>296</title>\n<path fill=\"#ee7bae\" stroke=\"#000000\" d=\"M17483.5,-547.5C17483.5,-547.5 17329.5,-547.5 17329.5,-547.5 17323.5,-547.5 17317.5,-541.5 17317.5,-535.5 17317.5,-535.5 17317.5,-506.5 17317.5,-506.5 17317.5,-500.5 17323.5,-494.5 17329.5,-494.5 17329.5,-494.5 17483.5,-494.5 17483.5,-494.5 17489.5,-494.5 17495.5,-500.5 17495.5,-506.5 17495.5,-506.5 17495.5,-535.5 17495.5,-535.5 17495.5,-541.5 17489.5,-547.5 17483.5,-547.5\"/>\n<text text-anchor=\"start\" x=\"17368.5\" y=\"-532.3\" font-family=\"Helvetica,sans-Serif\" font-size=\"14.00\" fill=\"#000000\">gini = 0.375</text>\n<text text-anchor=\"start\" x=\"17367\" y=\"-517.3\" font-family=\"Helvetica,sans-Serif\" font-size=\"14.00\" fill=\"#000000\">samples = 3</text>\n<text text-anchor=\"start\" x=\"17325.5\" y=\"-502.3\" font-family=\"Helvetica,sans-Serif\" font-size=\"14.00\" fill=\"#000000\">value = [0, 0, 1, 0, 0, 0, 3]</text>\n</g>\n<!-- 294&#45;&gt;296 -->\n<g id=\"edge296\" class=\"edge\">\n<title>294&#45;&gt;296</title>\n<path fill=\"none\" stroke=\"#000000\" d=\"M17261.7734,-588.9467C17287.1329,-577.0409 17315.8265,-563.5697 17340.9383,-551.7802\"/>\n<polygon fill=\"#000000\" stroke=\"#000000\" points=\"17342.4505,-554.9368 17350.0151,-547.5187 17339.4756,-548.6004 17342.4505,-554.9368\"/>\n</g>\n<!-- 298 -->\n<g id=\"node299\" class=\"node\">\n<title>298</title>\n<path fill=\"#e5f6b7\" stroke=\"#000000\" d=\"M17406,-853C17406,-853 17153,-853 17153,-853 17147,-853 17141,-847 17141,-841 17141,-841 17141,-801 17141,-801 17141,-795 17147,-789 17153,-789 17153,-789 17406,-789 17406,-789 17412,-789 17418,-795 17418,-801 17418,-801 17418,-841 17418,-841 17418,-847 17412,-853 17406,-853\"/>\n<text text-anchor=\"start\" x=\"17249\" y=\"-838.8\" font-family=\"Helvetica,sans-Serif\" font-size=\"14.00\" fill=\"#000000\">X</text>\n<text text-anchor=\"start\" x=\"17259\" y=\"-838.8\" font-family=\"Helvetica,sans-Serif\" baseline-shift=\"sub\" font-size=\"14.00\" fill=\"#000000\">0</text>\n<text text-anchor=\"start\" x=\"17266\" y=\"-838.8\" font-family=\"Helvetica,sans-Serif\" font-size=\"14.00\" fill=\"#000000\"> ≤ 18.5</text>\n<text text-anchor=\"start\" x=\"17246\" y=\"-824.8\" font-family=\"Helvetica,sans-Serif\" font-size=\"14.00\" fill=\"#000000\">gini = 0.64</text>\n<text text-anchor=\"start\" x=\"17227.5\" y=\"-810.8\" font-family=\"Helvetica,sans-Serif\" font-size=\"14.00\" fill=\"#000000\">samples = 1775</text>\n<text text-anchor=\"start\" x=\"17149\" y=\"-796.8\" font-family=\"Helvetica,sans-Serif\" font-size=\"14.00\" fill=\"#000000\">value = [156, 1505, 738, 198, 145, 87, 9]</text>\n</g>\n<!-- 297&#45;&gt;298 -->\n<g id=\"edge298\" class=\"edge\">\n<title>297&#45;&gt;298</title>\n<path fill=\"none\" stroke=\"#000000\" d=\"M17252.3764,-888.8089C17255.7308,-880.4229 17259.3927,-871.2681 17262.9097,-862.4757\"/>\n<polygon fill=\"#000000\" stroke=\"#000000\" points=\"17266.1834,-863.7154 17266.6477,-853.1308 17259.6841,-861.1156 17266.1834,-863.7154\"/>\n</g>\n<!-- 311 -->\n<g id=\"node312\" class=\"node\">\n<title>311</title>\n<path fill=\"#f3fbdf\" stroke=\"#000000\" d=\"M18660.5,-853C18660.5,-853 18440.5,-853 18440.5,-853 18434.5,-853 18428.5,-847 18428.5,-841 18428.5,-841 18428.5,-801 18428.5,-801 18428.5,-795 18434.5,-789 18440.5,-789 18440.5,-789 18660.5,-789 18660.5,-789 18666.5,-789 18672.5,-795 18672.5,-801 18672.5,-801 18672.5,-841 18672.5,-841 18672.5,-847 18666.5,-853 18660.5,-853\"/>\n<text text-anchor=\"start\" x=\"18524\" y=\"-838.8\" font-family=\"Helvetica,sans-Serif\" font-size=\"14.00\" fill=\"#000000\">X</text>\n<text text-anchor=\"start\" x=\"18534\" y=\"-838.8\" font-family=\"Helvetica,sans-Serif\" baseline-shift=\"sub\" font-size=\"14.00\" fill=\"#000000\">1</text>\n<text text-anchor=\"start\" x=\"18541\" y=\"-838.8\" font-family=\"Helvetica,sans-Serif\" font-size=\"14.00\" fill=\"#000000\"> ≤ 8.0</text>\n<text text-anchor=\"start\" x=\"18512.5\" y=\"-824.8\" font-family=\"Helvetica,sans-Serif\" font-size=\"14.00\" fill=\"#000000\">gini = 0.687</text>\n<text text-anchor=\"start\" x=\"18502.5\" y=\"-810.8\" font-family=\"Helvetica,sans-Serif\" font-size=\"14.00\" fill=\"#000000\">samples = 374</text>\n<text text-anchor=\"start\" x=\"18436.5\" y=\"-796.8\" font-family=\"Helvetica,sans-Serif\" font-size=\"14.00\" fill=\"#000000\">value = [24, 253, 189, 37, 17, 6, 53]</text>\n</g>\n<!-- 297&#45;&gt;311 -->\n<g id=\"edge311\" class=\"edge\">\n<title>297&#45;&gt;311</title>\n<path fill=\"none\" stroke=\"#000000\" d=\"M17382.0651,-890.1918C17384.8975,-889.7732 17387.7114,-889.3751 17390.5,-889 17585.579,-862.7629 18157.2865,-837.0132 18418.0781,-826.2533\"/>\n<polygon fill=\"#000000\" stroke=\"#000000\" points=\"18418.5147,-829.7384 18428.3623,-825.8301 18418.2268,-822.7443 18418.5147,-829.7384\"/>\n</g>\n<!-- 299 -->\n<g id=\"node300\" class=\"node\">\n<title>299</title>\n<path fill=\"#d4ef88\" stroke=\"#000000\" d=\"M17389.5,-747.5C17389.5,-747.5 17169.5,-747.5 17169.5,-747.5 17163.5,-747.5 17157.5,-741.5 17157.5,-735.5 17157.5,-735.5 17157.5,-706.5 17157.5,-706.5 17157.5,-700.5 17163.5,-694.5 17169.5,-694.5 17169.5,-694.5 17389.5,-694.5 17389.5,-694.5 17395.5,-694.5 17401.5,-700.5 17401.5,-706.5 17401.5,-706.5 17401.5,-735.5 17401.5,-735.5 17401.5,-741.5 17395.5,-747.5 17389.5,-747.5\"/>\n<text text-anchor=\"start\" x=\"17241.5\" y=\"-732.3\" font-family=\"Helvetica,sans-Serif\" font-size=\"14.00\" fill=\"#000000\">gini = 0.488</text>\n<text text-anchor=\"start\" x=\"17231.5\" y=\"-717.3\" font-family=\"Helvetica,sans-Serif\" font-size=\"14.00\" fill=\"#000000\">samples = 774</text>\n<text text-anchor=\"start\" x=\"17165.5\" y=\"-702.3\" font-family=\"Helvetica,sans-Serif\" font-size=\"14.00\" fill=\"#000000\">value = [105, 851, 252, 24, 11, 7, 0]</text>\n</g>\n<!-- 298&#45;&gt;299 -->\n<g id=\"edge299\" class=\"edge\">\n<title>298&#45;&gt;299</title>\n<path fill=\"none\" stroke=\"#000000\" d=\"M17279.5,-788.8089C17279.5,-778.9777 17279.5,-768.0898 17279.5,-757.9679\"/>\n<polygon fill=\"#000000\" stroke=\"#000000\" points=\"17283.0001,-757.7735 17279.5,-747.7735 17276.0001,-757.7736 17283.0001,-757.7735\"/>\n</g>\n<!-- 300 -->\n<g id=\"node301\" class=\"node\">\n<title>300</title>\n<path fill=\"#f4fbe1\" stroke=\"#000000\" d=\"M17831.5,-753C17831.5,-753 17595.5,-753 17595.5,-753 17589.5,-753 17583.5,-747 17583.5,-741 17583.5,-741 17583.5,-701 17583.5,-701 17583.5,-695 17589.5,-689 17595.5,-689 17595.5,-689 17831.5,-689 17831.5,-689 17837.5,-689 17843.5,-695 17843.5,-701 17843.5,-701 17843.5,-741 17843.5,-741 17843.5,-747 17837.5,-753 17831.5,-753\"/>\n<text text-anchor=\"start\" x=\"17683\" y=\"-738.8\" font-family=\"Helvetica,sans-Serif\" font-size=\"14.00\" fill=\"#000000\">X</text>\n<text text-anchor=\"start\" x=\"17693\" y=\"-738.8\" font-family=\"Helvetica,sans-Serif\" baseline-shift=\"sub\" font-size=\"14.00\" fill=\"#000000\">0</text>\n<text text-anchor=\"start\" x=\"17700\" y=\"-738.8\" font-family=\"Helvetica,sans-Serif\" font-size=\"14.00\" fill=\"#000000\"> ≤ 21.5</text>\n<text text-anchor=\"start\" x=\"17675.5\" y=\"-724.8\" font-family=\"Helvetica,sans-Serif\" font-size=\"14.00\" fill=\"#000000\">gini = 0.714</text>\n<text text-anchor=\"start\" x=\"17661.5\" y=\"-710.8\" font-family=\"Helvetica,sans-Serif\" font-size=\"14.00\" fill=\"#000000\">samples = 1001</text>\n<text text-anchor=\"start\" x=\"17591.5\" y=\"-696.8\" font-family=\"Helvetica,sans-Serif\" font-size=\"14.00\" fill=\"#000000\">value = [51, 654, 486, 174, 134, 80, 9]</text>\n</g>\n<!-- 298&#45;&gt;300 -->\n<g id=\"edge300\" class=\"edge\">\n<title>298&#45;&gt;300</title>\n<path fill=\"none\" stroke=\"#000000\" d=\"M17418.0136,-789.0844C17467.6668,-777.6436 17523.6563,-764.7428 17573.4396,-753.272\"/>\n<polygon fill=\"#000000\" stroke=\"#000000\" points=\"17574.351,-756.6538 17583.3098,-750.9977 17572.7793,-749.8325 17574.351,-756.6538\"/>\n</g>\n<!-- 301 -->\n<g id=\"node302\" class=\"node\">\n<title>301</title>\n<path fill=\"#effdf1\" stroke=\"#000000\" d=\"M17807,-653C17807,-653 17620,-653 17620,-653 17614,-653 17608,-647 17608,-641 17608,-641 17608,-601 17608,-601 17608,-595 17614,-589 17620,-589 17620,-589 17807,-589 17807,-589 17813,-589 17819,-595 17819,-601 17819,-601 17819,-641 17819,-641 17819,-647 17813,-653 17807,-653\"/>\n<text text-anchor=\"start\" x=\"17683\" y=\"-638.8\" font-family=\"Helvetica,sans-Serif\" font-size=\"14.00\" fill=\"#000000\">X</text>\n<text text-anchor=\"start\" x=\"17693\" y=\"-638.8\" font-family=\"Helvetica,sans-Serif\" baseline-shift=\"sub\" font-size=\"14.00\" fill=\"#000000\">0</text>\n<text text-anchor=\"start\" x=\"17700\" y=\"-638.8\" font-family=\"Helvetica,sans-Serif\" font-size=\"14.00\" fill=\"#000000\"> ≤ 20.5</text>\n<text text-anchor=\"start\" x=\"17675.5\" y=\"-624.8\" font-family=\"Helvetica,sans-Serif\" font-size=\"14.00\" fill=\"#000000\">gini = 0.768</text>\n<text text-anchor=\"start\" x=\"17669.5\" y=\"-610.8\" font-family=\"Helvetica,sans-Serif\" font-size=\"14.00\" fill=\"#000000\">samples = 85</text>\n<text text-anchor=\"start\" x=\"17616\" y=\"-596.8\" font-family=\"Helvetica,sans-Serif\" font-size=\"14.00\" fill=\"#000000\">value = [0, 19, 42, 34, 31, 6, 4]</text>\n</g>\n<!-- 300&#45;&gt;301 -->\n<g id=\"edge301\" class=\"edge\">\n<title>300&#45;&gt;301</title>\n<path fill=\"none\" stroke=\"#000000\" d=\"M17713.5,-688.8089C17713.5,-680.6906 17713.5,-671.8517 17713.5,-663.3186\"/>\n<polygon fill=\"#000000\" stroke=\"#000000\" points=\"17717.0001,-663.1307 17713.5,-653.1308 17710.0001,-663.1308 17717.0001,-663.1307\"/>\n</g>\n<!-- 306 -->\n<g id=\"node307\" class=\"node\">\n<title>306</title>\n<path fill=\"#f1fad9\" stroke=\"#000000\" d=\"M18179.5,-653C18179.5,-653 17943.5,-653 17943.5,-653 17937.5,-653 17931.5,-647 17931.5,-641 17931.5,-641 17931.5,-601 17931.5,-601 17931.5,-595 17937.5,-589 17943.5,-589 17943.5,-589 18179.5,-589 18179.5,-589 18185.5,-589 18191.5,-595 18191.5,-601 18191.5,-601 18191.5,-641 18191.5,-641 18191.5,-647 18185.5,-653 18179.5,-653\"/>\n<text text-anchor=\"start\" x=\"18031\" y=\"-638.8\" font-family=\"Helvetica,sans-Serif\" font-size=\"14.00\" fill=\"#000000\">X</text>\n<text text-anchor=\"start\" x=\"18041\" y=\"-638.8\" font-family=\"Helvetica,sans-Serif\" baseline-shift=\"sub\" font-size=\"14.00\" fill=\"#000000\">0</text>\n<text text-anchor=\"start\" x=\"18048\" y=\"-638.8\" font-family=\"Helvetica,sans-Serif\" font-size=\"14.00\" fill=\"#000000\"> ≤ 22.5</text>\n<text text-anchor=\"start\" x=\"18023.5\" y=\"-624.8\" font-family=\"Helvetica,sans-Serif\" font-size=\"14.00\" fill=\"#000000\">gini = 0.697</text>\n<text text-anchor=\"start\" x=\"18013.5\" y=\"-610.8\" font-family=\"Helvetica,sans-Serif\" font-size=\"14.00\" fill=\"#000000\">samples = 916</text>\n<text text-anchor=\"start\" x=\"17939.5\" y=\"-596.8\" font-family=\"Helvetica,sans-Serif\" font-size=\"14.00\" fill=\"#000000\">value = [51, 635, 444, 140, 103, 74, 5]</text>\n</g>\n<!-- 300&#45;&gt;306 -->\n<g id=\"edge306\" class=\"edge\">\n<title>300&#45;&gt;306</title>\n<path fill=\"none\" stroke=\"#000000\" d=\"M17825.0453,-688.9467C17861.7273,-678.4059 17902.6791,-666.6382 17940.0594,-655.8967\"/>\n<polygon fill=\"#000000\" stroke=\"#000000\" points=\"17941.3449,-659.169 17949.9893,-653.0433 17939.4116,-652.4413 17941.3449,-659.169\"/>\n</g>\n<!-- 302 -->\n<g id=\"node303\" class=\"node\">\n<title>302</title>\n<path fill=\"#e8fcea\" stroke=\"#000000\" d=\"M17713,-553C17713,-553 17526,-553 17526,-553 17520,-553 17514,-547 17514,-541 17514,-541 17514,-501 17514,-501 17514,-495 17520,-489 17526,-489 17526,-489 17713,-489 17713,-489 17719,-489 17725,-495 17725,-501 17725,-501 17725,-541 17725,-541 17725,-547 17719,-553 17713,-553\"/>\n<text text-anchor=\"start\" x=\"17589\" y=\"-538.8\" font-family=\"Helvetica,sans-Serif\" font-size=\"14.00\" fill=\"#000000\">X</text>\n<text text-anchor=\"start\" x=\"17599\" y=\"-538.8\" font-family=\"Helvetica,sans-Serif\" baseline-shift=\"sub\" font-size=\"14.00\" fill=\"#000000\">0</text>\n<text text-anchor=\"start\" x=\"17606\" y=\"-538.8\" font-family=\"Helvetica,sans-Serif\" font-size=\"14.00\" fill=\"#000000\"> ≤ 19.5</text>\n<text text-anchor=\"start\" x=\"17581.5\" y=\"-524.8\" font-family=\"Helvetica,sans-Serif\" font-size=\"14.00\" fill=\"#000000\">gini = 0.768</text>\n<text text-anchor=\"start\" x=\"17575.5\" y=\"-510.8\" font-family=\"Helvetica,sans-Serif\" font-size=\"14.00\" fill=\"#000000\">samples = 79</text>\n<text text-anchor=\"start\" x=\"17522\" y=\"-496.8\" font-family=\"Helvetica,sans-Serif\" font-size=\"14.00\" fill=\"#000000\">value = [0, 19, 41, 30, 25, 6, 4]</text>\n</g>\n<!-- 301&#45;&gt;302 -->\n<g id=\"edge302\" class=\"edge\">\n<title>301&#45;&gt;302</title>\n<path fill=\"none\" stroke=\"#000000\" d=\"M17683.2404,-588.8089C17674.7705,-579.7985 17665.4664,-569.9004 17656.6469,-560.518\"/>\n<polygon fill=\"#000000\" stroke=\"#000000\" points=\"17659.1023,-558.0199 17649.7029,-553.1308 17654.0018,-562.8143 17659.1023,-558.0199\"/>\n</g>\n<!-- 305 -->\n<g id=\"node306\" class=\"node\">\n<title>305</title>\n<path fill=\"#c6cff8\" stroke=\"#000000\" d=\"M17909.5,-547.5C17909.5,-547.5 17755.5,-547.5 17755.5,-547.5 17749.5,-547.5 17743.5,-541.5 17743.5,-535.5 17743.5,-535.5 17743.5,-506.5 17743.5,-506.5 17743.5,-500.5 17749.5,-494.5 17755.5,-494.5 17755.5,-494.5 17909.5,-494.5 17909.5,-494.5 17915.5,-494.5 17921.5,-500.5 17921.5,-506.5 17921.5,-506.5 17921.5,-535.5 17921.5,-535.5 17921.5,-541.5 17915.5,-547.5 17909.5,-547.5\"/>\n<text text-anchor=\"start\" x=\"17794.5\" y=\"-532.3\" font-family=\"Helvetica,sans-Serif\" font-size=\"14.00\" fill=\"#000000\">gini = 0.562</text>\n<text text-anchor=\"start\" x=\"17793\" y=\"-517.3\" font-family=\"Helvetica,sans-Serif\" font-size=\"14.00\" fill=\"#000000\">samples = 6</text>\n<text text-anchor=\"start\" x=\"17751.5\" y=\"-502.3\" font-family=\"Helvetica,sans-Serif\" font-size=\"14.00\" fill=\"#000000\">value = [0, 0, 1, 4, 6, 0, 0]</text>\n</g>\n<!-- 301&#45;&gt;305 -->\n<g id=\"edge305\" class=\"edge\">\n<title>301&#45;&gt;305</title>\n<path fill=\"none\" stroke=\"#000000\" d=\"M17751.8074,-588.8089C17764.8612,-577.8393 17779.4804,-565.5543 17792.6522,-554.4855\"/>\n<polygon fill=\"#000000\" stroke=\"#000000\" points=\"17795.2354,-556.8865 17800.6395,-547.7735 17790.732,-551.5275 17795.2354,-556.8865\"/>\n</g>\n<!-- 303 -->\n<g id=\"node304\" class=\"node\">\n<title>303</title>\n<path fill=\"#fafefe\" stroke=\"#000000\" d=\"M17605,-447.5C17605,-447.5 17418,-447.5 17418,-447.5 17412,-447.5 17406,-441.5 17406,-435.5 17406,-435.5 17406,-406.5 17406,-406.5 17406,-400.5 17412,-394.5 17418,-394.5 17418,-394.5 17605,-394.5 17605,-394.5 17611,-394.5 17617,-400.5 17617,-406.5 17617,-406.5 17617,-435.5 17617,-435.5 17617,-441.5 17611,-447.5 17605,-447.5\"/>\n<text text-anchor=\"start\" x=\"17473.5\" y=\"-432.3\" font-family=\"Helvetica,sans-Serif\" font-size=\"14.00\" fill=\"#000000\">gini = 0.774</text>\n<text text-anchor=\"start\" x=\"17467.5\" y=\"-417.3\" font-family=\"Helvetica,sans-Serif\" font-size=\"14.00\" fill=\"#000000\">samples = 63</text>\n<text text-anchor=\"start\" x=\"17414\" y=\"-402.3\" font-family=\"Helvetica,sans-Serif\" font-size=\"14.00\" fill=\"#000000\">value = [0, 11, 26, 28, 25, 6, 4]</text>\n</g>\n<!-- 302&#45;&gt;303 -->\n<g id=\"edge303\" class=\"edge\">\n<title>302&#45;&gt;303</title>\n<path fill=\"none\" stroke=\"#000000\" d=\"M17584.7336,-488.8089C17572.9983,-477.9428 17559.8688,-465.7859 17548.0031,-454.7991\"/>\n<polygon fill=\"#000000\" stroke=\"#000000\" points=\"17550.131,-451.9995 17540.4154,-447.7735 17545.3751,-457.1358 17550.131,-451.9995\"/>\n</g>\n<!-- 304 -->\n<g id=\"node305\" class=\"node\">\n<title>304</title>\n<path fill=\"#adf4b6\" stroke=\"#000000\" d=\"M17809.5,-447.5C17809.5,-447.5 17647.5,-447.5 17647.5,-447.5 17641.5,-447.5 17635.5,-441.5 17635.5,-435.5 17635.5,-435.5 17635.5,-406.5 17635.5,-406.5 17635.5,-400.5 17641.5,-394.5 17647.5,-394.5 17647.5,-394.5 17809.5,-394.5 17809.5,-394.5 17815.5,-394.5 17821.5,-400.5 17821.5,-406.5 17821.5,-406.5 17821.5,-435.5 17821.5,-435.5 17821.5,-441.5 17815.5,-447.5 17809.5,-447.5\"/>\n<text text-anchor=\"start\" x=\"17690.5\" y=\"-432.3\" font-family=\"Helvetica,sans-Serif\" font-size=\"14.00\" fill=\"#000000\">gini = 0.531</text>\n<text text-anchor=\"start\" x=\"17684.5\" y=\"-417.3\" font-family=\"Helvetica,sans-Serif\" font-size=\"14.00\" fill=\"#000000\">samples = 16</text>\n<text text-anchor=\"start\" x=\"17643.5\" y=\"-402.3\" font-family=\"Helvetica,sans-Serif\" font-size=\"14.00\" fill=\"#000000\">value = [0, 8, 15, 2, 0, 0, 0]</text>\n</g>\n<!-- 302&#45;&gt;304 -->\n<g id=\"edge304\" class=\"edge\">\n<title>302&#45;&gt;304</title>\n<path fill=\"none\" stroke=\"#000000\" d=\"M17654.5883,-488.8089C17666.4323,-477.9428 17679.6833,-465.7859 17691.659,-454.7991\"/>\n<polygon fill=\"#000000\" stroke=\"#000000\" points=\"17694.3142,-457.1129 17699.3169,-447.7735 17689.582,-451.9548 17694.3142,-457.1129\"/>\n</g>\n<!-- 307 -->\n<g id=\"node308\" class=\"node\">\n<title>307</title>\n<path fill=\"#f8fceb\" stroke=\"#000000\" d=\"M18171.5,-547.5C18171.5,-547.5 17951.5,-547.5 17951.5,-547.5 17945.5,-547.5 17939.5,-541.5 17939.5,-535.5 17939.5,-535.5 17939.5,-506.5 17939.5,-506.5 17939.5,-500.5 17945.5,-494.5 17951.5,-494.5 17951.5,-494.5 18171.5,-494.5 18171.5,-494.5 18177.5,-494.5 18183.5,-500.5 18183.5,-506.5 18183.5,-506.5 18183.5,-535.5 18183.5,-535.5 18183.5,-541.5 18177.5,-547.5 18171.5,-547.5\"/>\n<text text-anchor=\"start\" x=\"18023.5\" y=\"-532.3\" font-family=\"Helvetica,sans-Serif\" font-size=\"14.00\" fill=\"#000000\">gini = 0.729</text>\n<text text-anchor=\"start\" x=\"18013.5\" y=\"-517.3\" font-family=\"Helvetica,sans-Serif\" font-size=\"14.00\" fill=\"#000000\">samples = 569</text>\n<text text-anchor=\"start\" x=\"17947.5\" y=\"-502.3\" font-family=\"Helvetica,sans-Serif\" font-size=\"14.00\" fill=\"#000000\">value = [20, 346, 283, 89, 88, 72, 5]</text>\n</g>\n<!-- 306&#45;&gt;307 -->\n<g id=\"edge307\" class=\"edge\">\n<title>306&#45;&gt;307</title>\n<path fill=\"none\" stroke=\"#000000\" d=\"M18061.5,-588.8089C18061.5,-578.9777 18061.5,-568.0898 18061.5,-557.9679\"/>\n<polygon fill=\"#000000\" stroke=\"#000000\" points=\"18065.0001,-557.7735 18061.5,-547.7735 18058.0001,-557.7736 18065.0001,-557.7735\"/>\n</g>\n<!-- 308 -->\n<g id=\"node309\" class=\"node\">\n<title>308</title>\n<path fill=\"#e7f6be\" stroke=\"#000000\" d=\"M18425.5,-553C18425.5,-553 18213.5,-553 18213.5,-553 18207.5,-553 18201.5,-547 18201.5,-541 18201.5,-541 18201.5,-501 18201.5,-501 18201.5,-495 18207.5,-489 18213.5,-489 18213.5,-489 18425.5,-489 18425.5,-489 18431.5,-489 18437.5,-495 18437.5,-501 18437.5,-501 18437.5,-541 18437.5,-541 18437.5,-547 18431.5,-553 18425.5,-553\"/>\n<text text-anchor=\"start\" x=\"18289\" y=\"-538.8\" font-family=\"Helvetica,sans-Serif\" font-size=\"14.00\" fill=\"#000000\">X</text>\n<text text-anchor=\"start\" x=\"18299\" y=\"-538.8\" font-family=\"Helvetica,sans-Serif\" baseline-shift=\"sub\" font-size=\"14.00\" fill=\"#000000\">0</text>\n<text text-anchor=\"start\" x=\"18306\" y=\"-538.8\" font-family=\"Helvetica,sans-Serif\" font-size=\"14.00\" fill=\"#000000\"> ≤ 23.5</text>\n<text text-anchor=\"start\" x=\"18281.5\" y=\"-524.8\" font-family=\"Helvetica,sans-Serif\" font-size=\"14.00\" fill=\"#000000\">gini = 0.624</text>\n<text text-anchor=\"start\" x=\"18271.5\" y=\"-510.8\" font-family=\"Helvetica,sans-Serif\" font-size=\"14.00\" fill=\"#000000\">samples = 347</text>\n<text text-anchor=\"start\" x=\"18209.5\" y=\"-496.8\" font-family=\"Helvetica,sans-Serif\" font-size=\"14.00\" fill=\"#000000\">value = [31, 289, 161, 51, 15, 2, 0]</text>\n</g>\n<!-- 306&#45;&gt;308 -->\n<g id=\"edge308\" class=\"edge\">\n<title>306&#45;&gt;308</title>\n<path fill=\"none\" stroke=\"#000000\" d=\"M18144.1974,-588.9467C18170.6983,-578.6751 18200.2052,-567.2383 18227.3387,-556.7214\"/>\n<polygon fill=\"#000000\" stroke=\"#000000\" points=\"18228.7691,-559.9208 18236.8283,-553.0433 18226.2393,-553.3939 18228.7691,-559.9208\"/>\n</g>\n<!-- 309 -->\n<g id=\"node310\" class=\"node\">\n<title>309</title>\n<path fill=\"#e2f5b0\" stroke=\"#000000\" d=\"M18309,-447.5C18309,-447.5 18106,-447.5 18106,-447.5 18100,-447.5 18094,-441.5 18094,-435.5 18094,-435.5 18094,-406.5 18094,-406.5 18094,-400.5 18100,-394.5 18106,-394.5 18106,-394.5 18309,-394.5 18309,-394.5 18315,-394.5 18321,-400.5 18321,-406.5 18321,-406.5 18321,-435.5 18321,-435.5 18321,-441.5 18315,-447.5 18309,-447.5\"/>\n<text text-anchor=\"start\" x=\"18169.5\" y=\"-432.3\" font-family=\"Helvetica,sans-Serif\" font-size=\"14.00\" fill=\"#000000\">gini = 0.594</text>\n<text text-anchor=\"start\" x=\"18159.5\" y=\"-417.3\" font-family=\"Helvetica,sans-Serif\" font-size=\"14.00\" fill=\"#000000\">samples = 314</text>\n<text text-anchor=\"start\" x=\"18102\" y=\"-402.3\" font-family=\"Helvetica,sans-Serif\" font-size=\"14.00\" fill=\"#000000\">value = [27, 284, 138, 43, 9, 1, 0]</text>\n</g>\n<!-- 308&#45;&gt;309 -->\n<g id=\"edge309\" class=\"edge\">\n<title>308&#45;&gt;309</title>\n<path fill=\"none\" stroke=\"#000000\" d=\"M18283.446,-488.8089C18271.1601,-477.8393 18257.4008,-465.5543 18245.0038,-454.4855\"/>\n<polygon fill=\"#000000\" stroke=\"#000000\" points=\"18247.2768,-451.8229 18237.4863,-447.7735 18242.6147,-457.0445 18247.2768,-451.8229\"/>\n</g>\n<!-- 310 -->\n<g id=\"node311\" class=\"node\">\n<title>310</title>\n<path fill=\"#b3f5bb\" stroke=\"#000000\" d=\"M18513.5,-447.5C18513.5,-447.5 18351.5,-447.5 18351.5,-447.5 18345.5,-447.5 18339.5,-441.5 18339.5,-435.5 18339.5,-435.5 18339.5,-406.5 18339.5,-406.5 18339.5,-400.5 18345.5,-394.5 18351.5,-394.5 18351.5,-394.5 18513.5,-394.5 18513.5,-394.5 18519.5,-394.5 18525.5,-400.5 18525.5,-406.5 18525.5,-406.5 18525.5,-435.5 18525.5,-435.5 18525.5,-441.5 18519.5,-447.5 18513.5,-447.5\"/>\n<text text-anchor=\"start\" x=\"18394.5\" y=\"-432.3\" font-family=\"Helvetica,sans-Serif\" font-size=\"14.00\" fill=\"#000000\">gini = 0.696</text>\n<text text-anchor=\"start\" x=\"18388.5\" y=\"-417.3\" font-family=\"Helvetica,sans-Serif\" font-size=\"14.00\" fill=\"#000000\">samples = 33</text>\n<text text-anchor=\"start\" x=\"18347.5\" y=\"-402.3\" font-family=\"Helvetica,sans-Serif\" font-size=\"14.00\" fill=\"#000000\">value = [4, 5, 23, 8, 6, 1, 0]</text>\n</g>\n<!-- 308&#45;&gt;310 -->\n<g id=\"edge310\" class=\"edge\">\n<title>308&#45;&gt;310</title>\n<path fill=\"none\" stroke=\"#000000\" d=\"M18355.8759,-488.8089C18368.2715,-477.8393 18382.1537,-465.5543 18394.6613,-454.4855\"/>\n<polygon fill=\"#000000\" stroke=\"#000000\" points=\"18397.0767,-457.0218 18402.2459,-447.7735 18392.4377,-451.7797 18397.0767,-457.0218\"/>\n</g>\n<!-- 312 -->\n<g id=\"node313\" class=\"node\">\n<title>312</title>\n<path fill=\"#f195be\" stroke=\"#000000\" d=\"M18640,-753C18640,-753 18461,-753 18461,-753 18455,-753 18449,-747 18449,-741 18449,-741 18449,-701 18449,-701 18449,-695 18455,-689 18461,-689 18461,-689 18640,-689 18640,-689 18646,-689 18652,-695 18652,-701 18652,-701 18652,-741 18652,-741 18652,-747 18646,-753 18640,-753\"/>\n<text text-anchor=\"start\" x=\"18520\" y=\"-738.8\" font-family=\"Helvetica,sans-Serif\" font-size=\"14.00\" fill=\"#000000\">X</text>\n<text text-anchor=\"start\" x=\"18530\" y=\"-738.8\" font-family=\"Helvetica,sans-Serif\" baseline-shift=\"sub\" font-size=\"14.00\" fill=\"#000000\">0</text>\n<text text-anchor=\"start\" x=\"18537\" y=\"-738.8\" font-family=\"Helvetica,sans-Serif\" font-size=\"14.00\" fill=\"#000000\"> ≤ 20.0</text>\n<text text-anchor=\"start\" x=\"18512.5\" y=\"-724.8\" font-family=\"Helvetica,sans-Serif\" font-size=\"14.00\" fill=\"#000000\">gini = 0.592</text>\n<text text-anchor=\"start\" x=\"18506.5\" y=\"-710.8\" font-family=\"Helvetica,sans-Serif\" font-size=\"14.00\" fill=\"#000000\">samples = 55</text>\n<text text-anchor=\"start\" x=\"18457\" y=\"-696.8\" font-family=\"Helvetica,sans-Serif\" font-size=\"14.00\" fill=\"#000000\">value = [2, 1, 6, 10, 13, 2, 52]</text>\n</g>\n<!-- 311&#45;&gt;312 -->\n<g id=\"edge312\" class=\"edge\">\n<title>311&#45;&gt;312</title>\n<path fill=\"none\" stroke=\"#000000\" d=\"M18550.5,-788.8089C18550.5,-780.6906 18550.5,-771.8517 18550.5,-763.3186\"/>\n<polygon fill=\"#000000\" stroke=\"#000000\" points=\"18554.0001,-763.1307 18550.5,-753.1308 18547.0001,-763.1308 18554.0001,-763.1307\"/>\n</g>\n<!-- 317 -->\n<g id=\"node318\" class=\"node\">\n<title>317</title>\n<path fill=\"#eff9d3\" stroke=\"#000000\" d=\"M19173,-753C19173,-753 18970,-753 18970,-753 18964,-753 18958,-747 18958,-741 18958,-741 18958,-701 18958,-701 18958,-695 18964,-689 18970,-689 18970,-689 19173,-689 19173,-689 19179,-689 19185,-695 19185,-701 19185,-701 19185,-741 19185,-741 19185,-747 19179,-753 19173,-753\"/>\n<text text-anchor=\"start\" x=\"19045\" y=\"-738.8\" font-family=\"Helvetica,sans-Serif\" font-size=\"14.00\" fill=\"#000000\">X</text>\n<text text-anchor=\"start\" x=\"19055\" y=\"-738.8\" font-family=\"Helvetica,sans-Serif\" baseline-shift=\"sub\" font-size=\"14.00\" fill=\"#000000\">1</text>\n<text text-anchor=\"start\" x=\"19062\" y=\"-738.8\" font-family=\"Helvetica,sans-Serif\" font-size=\"14.00\" fill=\"#000000\"> ≤ 9.5</text>\n<text text-anchor=\"start\" x=\"19033.5\" y=\"-724.8\" font-family=\"Helvetica,sans-Serif\" font-size=\"14.00\" fill=\"#000000\">gini = 0.596</text>\n<text text-anchor=\"start\" x=\"19023.5\" y=\"-710.8\" font-family=\"Helvetica,sans-Serif\" font-size=\"14.00\" fill=\"#000000\">samples = 319</text>\n<text text-anchor=\"start\" x=\"18966\" y=\"-696.8\" font-family=\"Helvetica,sans-Serif\" font-size=\"14.00\" fill=\"#000000\">value = [22, 252, 183, 27, 4, 4, 1]</text>\n</g>\n<!-- 311&#45;&gt;317 -->\n<g id=\"edge317\" class=\"edge\">\n<title>311&#45;&gt;317</title>\n<path fill=\"none\" stroke=\"#000000\" d=\"M18672.6514,-797.5544C18755.4547,-781.6613 18864.5301,-760.7255 18947.6827,-744.7653\"/>\n<polygon fill=\"#000000\" stroke=\"#000000\" points=\"18948.5303,-748.1666 18957.6913,-742.8443 18947.2108,-741.2921 18948.5303,-748.1666\"/>\n</g>\n<!-- 313 -->\n<g id=\"node314\" class=\"node\">\n<title>313</title>\n<path fill=\"#ec6da6\" stroke=\"#000000\" d=\"M18527.5,-647.5C18527.5,-647.5 18365.5,-647.5 18365.5,-647.5 18359.5,-647.5 18353.5,-641.5 18353.5,-635.5 18353.5,-635.5 18353.5,-606.5 18353.5,-606.5 18353.5,-600.5 18359.5,-594.5 18365.5,-594.5 18365.5,-594.5 18527.5,-594.5 18527.5,-594.5 18533.5,-594.5 18539.5,-600.5 18539.5,-606.5 18539.5,-606.5 18539.5,-635.5 18539.5,-635.5 18539.5,-641.5 18533.5,-647.5 18527.5,-647.5\"/>\n<text text-anchor=\"start\" x=\"18408.5\" y=\"-632.3\" font-family=\"Helvetica,sans-Serif\" font-size=\"14.00\" fill=\"#000000\">gini = 0.411</text>\n<text text-anchor=\"start\" x=\"18402.5\" y=\"-617.3\" font-family=\"Helvetica,sans-Serif\" font-size=\"14.00\" fill=\"#000000\">samples = 23</text>\n<text text-anchor=\"start\" x=\"18361.5\" y=\"-602.3\" font-family=\"Helvetica,sans-Serif\" font-size=\"14.00\" fill=\"#000000\">value = [0, 0, 3, 2, 3, 1, 28]</text>\n</g>\n<!-- 312&#45;&gt;313 -->\n<g id=\"edge313\" class=\"edge\">\n<title>312&#45;&gt;313</title>\n<path fill=\"none\" stroke=\"#000000\" d=\"M18517.0213,-688.8089C18505.7205,-677.9428 18493.0774,-665.7859 18481.6511,-654.7991\"/>\n<polygon fill=\"#000000\" stroke=\"#000000\" points=\"18483.9787,-652.1817 18474.3445,-647.7735 18479.1269,-657.2276 18483.9787,-652.1817\"/>\n</g>\n<!-- 314 -->\n<g id=\"node315\" class=\"node\">\n<title>314</title>\n<path fill=\"#f6b8d4\" stroke=\"#000000\" d=\"M18739.5,-653C18739.5,-653 18569.5,-653 18569.5,-653 18563.5,-653 18557.5,-647 18557.5,-641 18557.5,-641 18557.5,-601 18557.5,-601 18557.5,-595 18563.5,-589 18569.5,-589 18569.5,-589 18739.5,-589 18739.5,-589 18745.5,-589 18751.5,-595 18751.5,-601 18751.5,-601 18751.5,-641 18751.5,-641 18751.5,-647 18745.5,-653 18739.5,-653\"/>\n<text text-anchor=\"start\" x=\"18624\" y=\"-638.8\" font-family=\"Helvetica,sans-Serif\" font-size=\"14.00\" fill=\"#000000\">X</text>\n<text text-anchor=\"start\" x=\"18634\" y=\"-638.8\" font-family=\"Helvetica,sans-Serif\" baseline-shift=\"sub\" font-size=\"14.00\" fill=\"#000000\">0</text>\n<text text-anchor=\"start\" x=\"18641\" y=\"-638.8\" font-family=\"Helvetica,sans-Serif\" font-size=\"14.00\" fill=\"#000000\"> ≤ 22.5</text>\n<text text-anchor=\"start\" x=\"18616.5\" y=\"-624.8\" font-family=\"Helvetica,sans-Serif\" font-size=\"14.00\" fill=\"#000000\">gini = 0.686</text>\n<text text-anchor=\"start\" x=\"18610.5\" y=\"-610.8\" font-family=\"Helvetica,sans-Serif\" font-size=\"14.00\" fill=\"#000000\">samples = 32</text>\n<text text-anchor=\"start\" x=\"18565.5\" y=\"-596.8\" font-family=\"Helvetica,sans-Serif\" font-size=\"14.00\" fill=\"#000000\">value = [2, 1, 3, 8, 10, 1, 24]</text>\n</g>\n<!-- 312&#45;&gt;314 -->\n<g id=\"edge314\" class=\"edge\">\n<title>312&#45;&gt;314</title>\n<path fill=\"none\" stroke=\"#000000\" d=\"M18583.9787,-688.8089C18593.4424,-679.7092 18603.8475,-669.7043 18613.691,-660.2394\"/>\n<polygon fill=\"#000000\" stroke=\"#000000\" points=\"18616.3015,-662.5848 18621.084,-653.1308 18611.4498,-657.539 18616.3015,-662.5848\"/>\n</g>\n<!-- 315 -->\n<g id=\"node316\" class=\"node\">\n<title>315</title>\n<path fill=\"#fad7e7\" stroke=\"#000000\" d=\"M18637.5,-547.5C18637.5,-547.5 18467.5,-547.5 18467.5,-547.5 18461.5,-547.5 18455.5,-541.5 18455.5,-535.5 18455.5,-535.5 18455.5,-506.5 18455.5,-506.5 18455.5,-500.5 18461.5,-494.5 18467.5,-494.5 18467.5,-494.5 18637.5,-494.5 18637.5,-494.5 18643.5,-494.5 18649.5,-500.5 18649.5,-506.5 18649.5,-506.5 18649.5,-535.5 18649.5,-535.5 18649.5,-541.5 18643.5,-547.5 18637.5,-547.5\"/>\n<text text-anchor=\"start\" x=\"18514.5\" y=\"-532.3\" font-family=\"Helvetica,sans-Serif\" font-size=\"14.00\" fill=\"#000000\">gini = 0.705</text>\n<text text-anchor=\"start\" x=\"18508.5\" y=\"-517.3\" font-family=\"Helvetica,sans-Serif\" font-size=\"14.00\" fill=\"#000000\">samples = 24</text>\n<text text-anchor=\"start\" x=\"18463.5\" y=\"-502.3\" font-family=\"Helvetica,sans-Serif\" font-size=\"14.00\" fill=\"#000000\">value = [1, 1, 3, 5, 10, 0, 15]</text>\n</g>\n<!-- 314&#45;&gt;315 -->\n<g id=\"edge315\" class=\"edge\">\n<title>314&#45;&gt;315</title>\n<path fill=\"none\" stroke=\"#000000\" d=\"M18621.6651,-588.8089C18610.5817,-577.9428 18598.1817,-565.7859 18586.9751,-554.7991\"/>\n<polygon fill=\"#000000\" stroke=\"#000000\" points=\"18589.4,-552.275 18579.809,-547.7735 18584.4995,-557.2735 18589.4,-552.275\"/>\n</g>\n<!-- 316 -->\n<g id=\"node317\" class=\"node\">\n<title>316</title>\n<path fill=\"#f193bd\" stroke=\"#000000\" d=\"M18833.5,-547.5C18833.5,-547.5 18679.5,-547.5 18679.5,-547.5 18673.5,-547.5 18667.5,-541.5 18667.5,-535.5 18667.5,-535.5 18667.5,-506.5 18667.5,-506.5 18667.5,-500.5 18673.5,-494.5 18679.5,-494.5 18679.5,-494.5 18833.5,-494.5 18833.5,-494.5 18839.5,-494.5 18845.5,-500.5 18845.5,-506.5 18845.5,-506.5 18845.5,-535.5 18845.5,-535.5 18845.5,-541.5 18839.5,-547.5 18833.5,-547.5\"/>\n<text text-anchor=\"start\" x=\"18718.5\" y=\"-532.3\" font-family=\"Helvetica,sans-Serif\" font-size=\"14.00\" fill=\"#000000\">gini = 0.531</text>\n<text text-anchor=\"start\" x=\"18717\" y=\"-517.3\" font-family=\"Helvetica,sans-Serif\" font-size=\"14.00\" fill=\"#000000\">samples = 8</text>\n<text text-anchor=\"start\" x=\"18675.5\" y=\"-502.3\" font-family=\"Helvetica,sans-Serif\" font-size=\"14.00\" fill=\"#000000\">value = [1, 0, 0, 3, 0, 1, 9]</text>\n</g>\n<!-- 314&#45;&gt;316 -->\n<g id=\"edge316\" class=\"edge\">\n<title>314&#45;&gt;316</title>\n<path fill=\"none\" stroke=\"#000000\" d=\"M18687.3349,-588.8089C18698.4183,-577.9428 18710.8183,-565.7859 18722.0249,-554.7991\"/>\n<polygon fill=\"#000000\" stroke=\"#000000\" points=\"18724.5005,-557.2735 18729.191,-547.7735 18719.6,-552.275 18724.5005,-557.2735\"/>\n</g>\n<!-- 318 -->\n<g id=\"node319\" class=\"node\">\n<title>318</title>\n<path fill=\"#eff9d2\" stroke=\"#000000\" d=\"M19173,-653C19173,-653 18970,-653 18970,-653 18964,-653 18958,-647 18958,-641 18958,-641 18958,-601 18958,-601 18958,-595 18964,-589 18970,-589 18970,-589 19173,-589 19173,-589 19179,-589 19185,-595 19185,-601 19185,-601 19185,-641 19185,-641 19185,-647 19179,-653 19173,-653\"/>\n<text text-anchor=\"start\" x=\"19041\" y=\"-638.8\" font-family=\"Helvetica,sans-Serif\" font-size=\"14.00\" fill=\"#000000\">X</text>\n<text text-anchor=\"start\" x=\"19051\" y=\"-638.8\" font-family=\"Helvetica,sans-Serif\" baseline-shift=\"sub\" font-size=\"14.00\" fill=\"#000000\">0</text>\n<text text-anchor=\"start\" x=\"19058\" y=\"-638.8\" font-family=\"Helvetica,sans-Serif\" font-size=\"14.00\" fill=\"#000000\"> ≤ 20.0</text>\n<text text-anchor=\"start\" x=\"19033.5\" y=\"-624.8\" font-family=\"Helvetica,sans-Serif\" font-size=\"14.00\" fill=\"#000000\">gini = 0.587</text>\n<text text-anchor=\"start\" x=\"19023.5\" y=\"-610.8\" font-family=\"Helvetica,sans-Serif\" font-size=\"14.00\" fill=\"#000000\">samples = 313</text>\n<text text-anchor=\"start\" x=\"18966\" y=\"-596.8\" font-family=\"Helvetica,sans-Serif\" font-size=\"14.00\" fill=\"#000000\">value = [22, 249, 181, 27, 3, 0, 0]</text>\n</g>\n<!-- 317&#45;&gt;318 -->\n<g id=\"edge318\" class=\"edge\">\n<title>317&#45;&gt;318</title>\n<path fill=\"none\" stroke=\"#000000\" d=\"M19071.5,-688.8089C19071.5,-680.6906 19071.5,-671.8517 19071.5,-663.3186\"/>\n<polygon fill=\"#000000\" stroke=\"#000000\" points=\"19075.0001,-663.1307 19071.5,-653.1308 19068.0001,-663.1308 19075.0001,-663.1307\"/>\n</g>\n<!-- 323 -->\n<g id=\"node324\" class=\"node\">\n<title>323</title>\n<path fill=\"#f5e6fc\" stroke=\"#000000\" d=\"M19479.5,-653C19479.5,-653 19325.5,-653 19325.5,-653 19319.5,-653 19313.5,-647 19313.5,-641 19313.5,-641 19313.5,-601 19313.5,-601 19313.5,-595 19319.5,-589 19325.5,-589 19325.5,-589 19479.5,-589 19479.5,-589 19485.5,-589 19491.5,-595 19491.5,-601 19491.5,-601 19491.5,-641 19491.5,-641 19491.5,-647 19485.5,-653 19479.5,-653\"/>\n<text text-anchor=\"start\" x=\"19372\" y=\"-638.8\" font-family=\"Helvetica,sans-Serif\" font-size=\"14.00\" fill=\"#000000\">X</text>\n<text text-anchor=\"start\" x=\"19382\" y=\"-638.8\" font-family=\"Helvetica,sans-Serif\" baseline-shift=\"sub\" font-size=\"14.00\" fill=\"#000000\">0</text>\n<text text-anchor=\"start\" x=\"19389\" y=\"-638.8\" font-family=\"Helvetica,sans-Serif\" font-size=\"14.00\" fill=\"#000000\"> ≤ 20.5</text>\n<text text-anchor=\"start\" x=\"19364.5\" y=\"-624.8\" font-family=\"Helvetica,sans-Serif\" font-size=\"14.00\" fill=\"#000000\">gini = 0.744</text>\n<text text-anchor=\"start\" x=\"19363\" y=\"-610.8\" font-family=\"Helvetica,sans-Serif\" font-size=\"14.00\" fill=\"#000000\">samples = 6</text>\n<text text-anchor=\"start\" x=\"19321.5\" y=\"-596.8\" font-family=\"Helvetica,sans-Serif\" font-size=\"14.00\" fill=\"#000000\">value = [0, 3, 2, 0, 1, 4, 1]</text>\n</g>\n<!-- 317&#45;&gt;323 -->\n<g id=\"edge323\" class=\"edge\">\n<title>317&#45;&gt;323</title>\n<path fill=\"none\" stroke=\"#000000\" d=\"M19177.5963,-688.9467C19218.0371,-676.729 19263.9342,-662.8628 19303.6731,-650.8571\"/>\n<polygon fill=\"#000000\" stroke=\"#000000\" points=\"19304.8103,-654.1698 19313.3707,-647.9273 19302.7858,-647.4689 19304.8103,-654.1698\"/>\n</g>\n<!-- 319 -->\n<g id=\"node320\" class=\"node\">\n<title>319</title>\n<path fill=\"#dcf29e\" stroke=\"#000000\" d=\"M19045.5,-547.5C19045.5,-547.5 18875.5,-547.5 18875.5,-547.5 18869.5,-547.5 18863.5,-541.5 18863.5,-535.5 18863.5,-535.5 18863.5,-506.5 18863.5,-506.5 18863.5,-500.5 18869.5,-494.5 18875.5,-494.5 18875.5,-494.5 19045.5,-494.5 19045.5,-494.5 19051.5,-494.5 19057.5,-500.5 19057.5,-506.5 19057.5,-506.5 19057.5,-535.5 19057.5,-535.5 19057.5,-541.5 19051.5,-547.5 19045.5,-547.5\"/>\n<text text-anchor=\"start\" x=\"18931\" y=\"-532.3\" font-family=\"Helvetica,sans-Serif\" font-size=\"14.00\" fill=\"#000000\">gini = 0.5</text>\n<text text-anchor=\"start\" x=\"18916.5\" y=\"-517.3\" font-family=\"Helvetica,sans-Serif\" font-size=\"14.00\" fill=\"#000000\">samples = 49</text>\n<text text-anchor=\"start\" x=\"18871.5\" y=\"-502.3\" font-family=\"Helvetica,sans-Serif\" font-size=\"14.00\" fill=\"#000000\">value = [22, 48, 5, 0, 0, 0, 0]</text>\n</g>\n<!-- 318&#45;&gt;319 -->\n<g id=\"edge319\" class=\"edge\">\n<title>318&#45;&gt;319</title>\n<path fill=\"none\" stroke=\"#000000\" d=\"M19035.7679,-588.8089C19023.5917,-577.8393 19009.9552,-565.5543 18997.6689,-554.4855\"/>\n<polygon fill=\"#000000\" stroke=\"#000000\" points=\"18999.9909,-551.8665 18990.2186,-547.7735 18995.3056,-557.0673 18999.9909,-551.8665\"/>\n</g>\n<!-- 320 -->\n<g id=\"node321\" class=\"node\">\n<title>320</title>\n<path fill=\"#f7fcea\" stroke=\"#000000\" d=\"M19283,-553C19283,-553 19088,-553 19088,-553 19082,-553 19076,-547 19076,-541 19076,-541 19076,-501 19076,-501 19076,-495 19082,-489 19088,-489 19088,-489 19283,-489 19283,-489 19289,-489 19295,-495 19295,-501 19295,-501 19295,-541 19295,-541 19295,-547 19289,-553 19283,-553\"/>\n<text text-anchor=\"start\" x=\"19155\" y=\"-538.8\" font-family=\"Helvetica,sans-Serif\" font-size=\"14.00\" fill=\"#000000\">X</text>\n<text text-anchor=\"start\" x=\"19165\" y=\"-538.8\" font-family=\"Helvetica,sans-Serif\" baseline-shift=\"sub\" font-size=\"14.00\" fill=\"#000000\">0</text>\n<text text-anchor=\"start\" x=\"19172\" y=\"-538.8\" font-family=\"Helvetica,sans-Serif\" font-size=\"14.00\" fill=\"#000000\"> ≤ 22.5</text>\n<text text-anchor=\"start\" x=\"19147.5\" y=\"-524.8\" font-family=\"Helvetica,sans-Serif\" font-size=\"14.00\" fill=\"#000000\">gini = 0.565</text>\n<text text-anchor=\"start\" x=\"19137.5\" y=\"-510.8\" font-family=\"Helvetica,sans-Serif\" font-size=\"14.00\" fill=\"#000000\">samples = 264</text>\n<text text-anchor=\"start\" x=\"19084\" y=\"-496.8\" font-family=\"Helvetica,sans-Serif\" font-size=\"14.00\" fill=\"#000000\">value = [0, 201, 176, 27, 3, 0, 0]</text>\n</g>\n<!-- 318&#45;&gt;320 -->\n<g id=\"edge320\" class=\"edge\">\n<title>318&#45;&gt;320</title>\n<path fill=\"none\" stroke=\"#000000\" d=\"M19108.1978,-588.8089C19118.6732,-579.62 19130.2008,-569.508 19141.0842,-559.9612\"/>\n<polygon fill=\"#000000\" stroke=\"#000000\" points=\"19143.6614,-562.3563 19148.8709,-553.1308 19139.0453,-557.094 19143.6614,-562.3563\"/>\n</g>\n<!-- 321 -->\n<g id=\"node322\" class=\"node\">\n<title>321</title>\n<path fill=\"#fdfef8\" stroke=\"#000000\" d=\"M19168,-447.5C19168,-447.5 18973,-447.5 18973,-447.5 18967,-447.5 18961,-441.5 18961,-435.5 18961,-435.5 18961,-406.5 18961,-406.5 18961,-400.5 18967,-394.5 18973,-394.5 18973,-394.5 19168,-394.5 19168,-394.5 19174,-394.5 19180,-400.5 19180,-406.5 19180,-406.5 19180,-435.5 19180,-435.5 19180,-441.5 19174,-447.5 19168,-447.5\"/>\n<text text-anchor=\"start\" x=\"19032.5\" y=\"-432.3\" font-family=\"Helvetica,sans-Serif\" font-size=\"14.00\" fill=\"#000000\">gini = 0.541</text>\n<text text-anchor=\"start\" x=\"19022.5\" y=\"-417.3\" font-family=\"Helvetica,sans-Serif\" font-size=\"14.00\" fill=\"#000000\">samples = 174</text>\n<text text-anchor=\"start\" x=\"18969\" y=\"-402.3\" font-family=\"Helvetica,sans-Serif\" font-size=\"14.00\" fill=\"#000000\">value = [0, 133, 128, 12, 0, 0, 0]</text>\n</g>\n<!-- 320&#45;&gt;321 -->\n<g id=\"edge321\" class=\"edge\">\n<title>320&#45;&gt;321</title>\n<path fill=\"none\" stroke=\"#000000\" d=\"M19148.4803,-488.8089C19135.8652,-477.8393 19121.7374,-465.5543 19109.0084,-454.4855\"/>\n<polygon fill=\"#000000\" stroke=\"#000000\" points=\"19111.1323,-451.6942 19101.2895,-447.7735 19106.539,-456.9765 19111.1323,-451.6942\"/>\n</g>\n<!-- 322 -->\n<g id=\"node323\" class=\"node\">\n<title>322</title>\n<path fill=\"#eef9d1\" stroke=\"#000000\" d=\"M19389,-447.5C19389,-447.5 19210,-447.5 19210,-447.5 19204,-447.5 19198,-441.5 19198,-435.5 19198,-435.5 19198,-406.5 19198,-406.5 19198,-400.5 19204,-394.5 19210,-394.5 19210,-394.5 19389,-394.5 19389,-394.5 19395,-394.5 19401,-400.5 19401,-406.5 19401,-406.5 19401,-435.5 19401,-435.5 19401,-441.5 19395,-447.5 19389,-447.5\"/>\n<text text-anchor=\"start\" x=\"19261.5\" y=\"-432.3\" font-family=\"Helvetica,sans-Serif\" font-size=\"14.00\" fill=\"#000000\">gini = 0.601</text>\n<text text-anchor=\"start\" x=\"19255.5\" y=\"-417.3\" font-family=\"Helvetica,sans-Serif\" font-size=\"14.00\" fill=\"#000000\">samples = 90</text>\n<text text-anchor=\"start\" x=\"19206\" y=\"-402.3\" font-family=\"Helvetica,sans-Serif\" font-size=\"14.00\" fill=\"#000000\">value = [0, 68, 48, 15, 3, 0, 0]</text>\n</g>\n<!-- 320&#45;&gt;322 -->\n<g id=\"edge322\" class=\"edge\">\n<title>320&#45;&gt;322</title>\n<path fill=\"none\" stroke=\"#000000\" d=\"M19222.1978,-488.8089C19234.7031,-477.8393 19248.7081,-465.5543 19261.3265,-454.4855\"/>\n<polygon fill=\"#000000\" stroke=\"#000000\" points=\"19263.7686,-456.9991 19268.9782,-447.7735 19259.1525,-451.7368 19263.7686,-456.9991\"/>\n</g>\n<!-- 324 -->\n<g id=\"node325\" class=\"node\">\n<title>324</title>\n<path fill=\"#eccef8\" stroke=\"#000000\" d=\"M19479.5,-547.5C19479.5,-547.5 19325.5,-547.5 19325.5,-547.5 19319.5,-547.5 19313.5,-541.5 19313.5,-535.5 19313.5,-535.5 19313.5,-506.5 19313.5,-506.5 19313.5,-500.5 19319.5,-494.5 19325.5,-494.5 19325.5,-494.5 19479.5,-494.5 19479.5,-494.5 19485.5,-494.5 19491.5,-500.5 19491.5,-506.5 19491.5,-506.5 19491.5,-535.5 19491.5,-535.5 19491.5,-541.5 19485.5,-547.5 19479.5,-547.5\"/>\n<text text-anchor=\"start\" x=\"19369\" y=\"-532.3\" font-family=\"Helvetica,sans-Serif\" font-size=\"14.00\" fill=\"#000000\">gini = 0.74</text>\n<text text-anchor=\"start\" x=\"19363\" y=\"-517.3\" font-family=\"Helvetica,sans-Serif\" font-size=\"14.00\" fill=\"#000000\">samples = 5</text>\n<text text-anchor=\"start\" x=\"19321.5\" y=\"-502.3\" font-family=\"Helvetica,sans-Serif\" font-size=\"14.00\" fill=\"#000000\">value = [0, 2, 2, 0, 1, 4, 1]</text>\n</g>\n<!-- 323&#45;&gt;324 -->\n<g id=\"edge324\" class=\"edge\">\n<title>323&#45;&gt;324</title>\n<path fill=\"none\" stroke=\"#000000\" d=\"M19402.5,-588.8089C19402.5,-578.9777 19402.5,-568.0898 19402.5,-557.9679\"/>\n<polygon fill=\"#000000\" stroke=\"#000000\" points=\"19406.0001,-557.7735 19402.5,-547.7735 19399.0001,-557.7736 19406.0001,-557.7735\"/>\n</g>\n<!-- 325 -->\n<g id=\"node326\" class=\"node\">\n<title>325</title>\n<path fill=\"#b7e539\" stroke=\"#000000\" d=\"M19675.5,-547.5C19675.5,-547.5 19521.5,-547.5 19521.5,-547.5 19515.5,-547.5 19509.5,-541.5 19509.5,-535.5 19509.5,-535.5 19509.5,-506.5 19509.5,-506.5 19509.5,-500.5 19515.5,-494.5 19521.5,-494.5 19521.5,-494.5 19675.5,-494.5 19675.5,-494.5 19681.5,-494.5 19687.5,-500.5 19687.5,-506.5 19687.5,-506.5 19687.5,-535.5 19687.5,-535.5 19687.5,-541.5 19681.5,-547.5 19675.5,-547.5\"/>\n<text text-anchor=\"start\" x=\"19569\" y=\"-532.3\" font-family=\"Helvetica,sans-Serif\" font-size=\"14.00\" fill=\"#000000\">gini = 0.0</text>\n<text text-anchor=\"start\" x=\"19559\" y=\"-517.3\" font-family=\"Helvetica,sans-Serif\" font-size=\"14.00\" fill=\"#000000\">samples = 1</text>\n<text text-anchor=\"start\" x=\"19517.5\" y=\"-502.3\" font-family=\"Helvetica,sans-Serif\" font-size=\"14.00\" fill=\"#000000\">value = [0, 1, 0, 0, 0, 0, 0]</text>\n</g>\n<!-- 323&#45;&gt;325 -->\n<g id=\"edge325\" class=\"edge\">\n<title>323&#45;&gt;325</title>\n<path fill=\"none\" stroke=\"#000000\" d=\"M19465.3244,-588.9467C19488.4552,-577.1453 19514.6004,-563.8059 19537.562,-552.0908\"/>\n<polygon fill=\"#000000\" stroke=\"#000000\" points=\"19539.2063,-555.1812 19546.5233,-547.5187 19536.025,-548.9458 19539.2063,-555.1812\"/>\n</g>\n<!-- 327 -->\n<g id=\"node328\" class=\"node\">\n<title>327</title>\n<path fill=\"#f4fbe0\" stroke=\"#000000\" d=\"M17831.5,-1453C17831.5,-1453 17479.5,-1453 17479.5,-1453 17473.5,-1453 17467.5,-1447 17467.5,-1441 17467.5,-1441 17467.5,-1401 17467.5,-1401 17467.5,-1395 17473.5,-1389 17479.5,-1389 17479.5,-1389 17831.5,-1389 17831.5,-1389 17837.5,-1389 17843.5,-1395 17843.5,-1401 17843.5,-1401 17843.5,-1441 17843.5,-1441 17843.5,-1447 17837.5,-1453 17831.5,-1453\"/>\n<text text-anchor=\"start\" x=\"17625\" y=\"-1438.8\" font-family=\"Helvetica,sans-Serif\" font-size=\"14.00\" fill=\"#000000\">X</text>\n<text text-anchor=\"start\" x=\"17635\" y=\"-1438.8\" font-family=\"Helvetica,sans-Serif\" baseline-shift=\"sub\" font-size=\"14.00\" fill=\"#000000\">0</text>\n<text text-anchor=\"start\" x=\"17642\" y=\"-1438.8\" font-family=\"Helvetica,sans-Serif\" font-size=\"14.00\" fill=\"#000000\"> ≤ 25.5</text>\n<text text-anchor=\"start\" x=\"17617.5\" y=\"-1424.8\" font-family=\"Helvetica,sans-Serif\" font-size=\"14.00\" fill=\"#000000\">gini = 0.759</text>\n<text text-anchor=\"start\" x=\"17599.5\" y=\"-1410.8\" font-family=\"Helvetica,sans-Serif\" font-size=\"14.00\" fill=\"#000000\">samples = 68068</text>\n<text text-anchor=\"start\" x=\"17475.5\" y=\"-1396.8\" font-family=\"Helvetica,sans-Serif\" font-size=\"14.00\" fill=\"#000000\">value = [2337, 40061, 27507, 15981, 8189, 4520, 9028]</text>\n</g>\n<!-- 326&#45;&gt;327 -->\n<g id=\"edge327\" class=\"edge\">\n<title>326&#45;&gt;327</title>\n<path fill=\"none\" stroke=\"#000000\" d=\"M17655.5,-1488.8089C17655.5,-1480.6906 17655.5,-1471.8517 17655.5,-1463.3186\"/>\n<polygon fill=\"#000000\" stroke=\"#000000\" points=\"17659.0001,-1463.1307 17655.5,-1453.1308 17652.0001,-1463.1308 17659.0001,-1463.1307\"/>\n</g>\n<!-- 344 -->\n<g id=\"node345\" class=\"node\">\n<title>344</title>\n<path fill=\"#e4f5b6\" stroke=\"#000000\" d=\"M18898,-1453C18898,-1453 18653,-1453 18653,-1453 18647,-1453 18641,-1447 18641,-1441 18641,-1441 18641,-1401 18641,-1401 18641,-1395 18647,-1389 18653,-1389 18653,-1389 18898,-1389 18898,-1389 18904,-1389 18910,-1395 18910,-1401 18910,-1401 18910,-1441 18910,-1441 18910,-1447 18904,-1453 18898,-1453\"/>\n<text text-anchor=\"start\" x=\"18745\" y=\"-1438.8\" font-family=\"Helvetica,sans-Serif\" font-size=\"14.00\" fill=\"#000000\">X</text>\n<text text-anchor=\"start\" x=\"18755\" y=\"-1438.8\" font-family=\"Helvetica,sans-Serif\" baseline-shift=\"sub\" font-size=\"14.00\" fill=\"#000000\">0</text>\n<text text-anchor=\"start\" x=\"18762\" y=\"-1438.8\" font-family=\"Helvetica,sans-Serif\" font-size=\"14.00\" fill=\"#000000\"> ≤ 25.5</text>\n<text text-anchor=\"start\" x=\"18737.5\" y=\"-1424.8\" font-family=\"Helvetica,sans-Serif\" font-size=\"14.00\" fill=\"#000000\">gini = 0.512</text>\n<text text-anchor=\"start\" x=\"18719.5\" y=\"-1410.8\" font-family=\"Helvetica,sans-Serif\" font-size=\"14.00\" fill=\"#000000\">samples = 11785</text>\n<text text-anchor=\"start\" x=\"18649\" y=\"-1396.8\" font-family=\"Helvetica,sans-Serif\" font-size=\"14.00\" fill=\"#000000\">value = [6695, 11115, 727, 42, 3, 0, 21]</text>\n</g>\n<!-- 326&#45;&gt;344 -->\n<g id=\"edge344\" class=\"edge\">\n<title>326&#45;&gt;344</title>\n<path fill=\"none\" stroke=\"#000000\" d=\"M17843.5941,-1504.2059C18065.5561,-1484.3878 18429.784,-1451.8675 18630.8561,-1433.9146\"/>\n<polygon fill=\"#000000\" stroke=\"#000000\" points=\"18631.2494,-1437.3935 18640.8985,-1433.018 18630.6268,-1430.4213 18631.2494,-1437.3935\"/>\n</g>\n<!-- 328 -->\n<g id=\"node329\" class=\"node\">\n<title>328</title>\n<path fill=\"#f4fbdf\" stroke=\"#000000\" d=\"M17669.5,-1353C17669.5,-1353 17317.5,-1353 17317.5,-1353 17311.5,-1353 17305.5,-1347 17305.5,-1341 17305.5,-1341 17305.5,-1301 17305.5,-1301 17305.5,-1295 17311.5,-1289 17317.5,-1289 17317.5,-1289 17669.5,-1289 17669.5,-1289 17675.5,-1289 17681.5,-1295 17681.5,-1301 17681.5,-1301 17681.5,-1341 17681.5,-1341 17681.5,-1347 17675.5,-1353 17669.5,-1353\"/>\n<text text-anchor=\"start\" x=\"17467\" y=\"-1338.8\" font-family=\"Helvetica,sans-Serif\" font-size=\"14.00\" fill=\"#000000\">X</text>\n<text text-anchor=\"start\" x=\"17477\" y=\"-1338.8\" font-family=\"Helvetica,sans-Serif\" baseline-shift=\"sub\" font-size=\"14.00\" fill=\"#000000\">1</text>\n<text text-anchor=\"start\" x=\"17484\" y=\"-1338.8\" font-family=\"Helvetica,sans-Serif\" font-size=\"14.00\" fill=\"#000000\"> ≤ 0.5</text>\n<text text-anchor=\"start\" x=\"17455.5\" y=\"-1324.8\" font-family=\"Helvetica,sans-Serif\" font-size=\"14.00\" fill=\"#000000\">gini = 0.755</text>\n<text text-anchor=\"start\" x=\"17437.5\" y=\"-1310.8\" font-family=\"Helvetica,sans-Serif\" font-size=\"14.00\" fill=\"#000000\">samples = 67304</text>\n<text text-anchor=\"start\" x=\"17313.5\" y=\"-1296.8\" font-family=\"Helvetica,sans-Serif\" font-size=\"14.00\" fill=\"#000000\">value = [2337, 40052, 27488, 15930, 8119, 4410, 8070]</text>\n</g>\n<!-- 327&#45;&gt;328 -->\n<g id=\"edge328\" class=\"edge\">\n<title>327&#45;&gt;328</title>\n<path fill=\"none\" stroke=\"#000000\" d=\"M17603.3505,-1388.8089C17587.7418,-1379.174 17570.4891,-1368.5241 17554.3716,-1358.575\"/>\n<polygon fill=\"#000000\" stroke=\"#000000\" points=\"17555.8997,-1355.4052 17545.5518,-1353.1308 17552.2227,-1361.3618 17555.8997,-1355.4052\"/>\n</g>\n<!-- 337 -->\n<g id=\"node338\" class=\"node\">\n<title>337</title>\n<path fill=\"#eb67a2\" stroke=\"#000000\" d=\"M17923.5,-1353C17923.5,-1353 17711.5,-1353 17711.5,-1353 17705.5,-1353 17699.5,-1347 17699.5,-1341 17699.5,-1341 17699.5,-1301 17699.5,-1301 17699.5,-1295 17705.5,-1289 17711.5,-1289 17711.5,-1289 17923.5,-1289 17923.5,-1289 17929.5,-1289 17935.5,-1295 17935.5,-1301 17935.5,-1301 17935.5,-1341 17935.5,-1341 17935.5,-1347 17929.5,-1353 17923.5,-1353\"/>\n<text text-anchor=\"start\" x=\"17791\" y=\"-1338.8\" font-family=\"Helvetica,sans-Serif\" font-size=\"14.00\" fill=\"#000000\">X</text>\n<text text-anchor=\"start\" x=\"17801\" y=\"-1338.8\" font-family=\"Helvetica,sans-Serif\" baseline-shift=\"sub\" font-size=\"14.00\" fill=\"#000000\">1</text>\n<text text-anchor=\"start\" x=\"17808\" y=\"-1338.8\" font-family=\"Helvetica,sans-Serif\" font-size=\"14.00\" fill=\"#000000\"> ≤ 0.5</text>\n<text text-anchor=\"start\" x=\"17779.5\" y=\"-1324.8\" font-family=\"Helvetica,sans-Serif\" font-size=\"14.00\" fill=\"#000000\">gini = 0.367</text>\n<text text-anchor=\"start\" x=\"17769.5\" y=\"-1310.8\" font-family=\"Helvetica,sans-Serif\" font-size=\"14.00\" fill=\"#000000\">samples = 764</text>\n<text text-anchor=\"start\" x=\"17707.5\" y=\"-1296.8\" font-family=\"Helvetica,sans-Serif\" font-size=\"14.00\" fill=\"#000000\">value = [0, 9, 19, 51, 70, 110, 958]</text>\n</g>\n<!-- 327&#45;&gt;337 -->\n<g id=\"edge337\" class=\"edge\">\n<title>327&#45;&gt;337</title>\n<path fill=\"none\" stroke=\"#000000\" d=\"M17707.6495,-1388.8089C17723.2582,-1379.174 17740.5109,-1368.5241 17756.6284,-1358.575\"/>\n<polygon fill=\"#000000\" stroke=\"#000000\" points=\"17758.7773,-1361.3618 17765.4482,-1353.1308 17755.1003,-1355.4052 17758.7773,-1361.3618\"/>\n</g>\n<!-- 329 -->\n<g id=\"node330\" class=\"node\">\n<title>329</title>\n<path fill=\"#edf9ce\" stroke=\"#000000\" d=\"M17303.5,-1247.5C17303.5,-1247.5 16959.5,-1247.5 16959.5,-1247.5 16953.5,-1247.5 16947.5,-1241.5 16947.5,-1235.5 16947.5,-1235.5 16947.5,-1206.5 16947.5,-1206.5 16947.5,-1200.5 16953.5,-1194.5 16959.5,-1194.5 16959.5,-1194.5 17303.5,-1194.5 17303.5,-1194.5 17309.5,-1194.5 17315.5,-1200.5 17315.5,-1206.5 17315.5,-1206.5 17315.5,-1235.5 17315.5,-1235.5 17315.5,-1241.5 17309.5,-1247.5 17303.5,-1247.5\"/>\n<text text-anchor=\"start\" x=\"17093.5\" y=\"-1232.3\" font-family=\"Helvetica,sans-Serif\" font-size=\"14.00\" fill=\"#000000\">gini = 0.692</text>\n<text text-anchor=\"start\" x=\"17075.5\" y=\"-1217.3\" font-family=\"Helvetica,sans-Serif\" font-size=\"14.00\" fill=\"#000000\">samples = 49106</text>\n<text text-anchor=\"start\" x=\"16955.5\" y=\"-1202.3\" font-family=\"Helvetica,sans-Serif\" font-size=\"14.00\" fill=\"#000000\">value = [1689, 35503, 21572, 9939, 4206, 2046, 2666]</text>\n</g>\n<!-- 328&#45;&gt;329 -->\n<g id=\"edge329\" class=\"edge\">\n<title>328&#45;&gt;329</title>\n<path fill=\"none\" stroke=\"#000000\" d=\"M17377.4672,-1288.9467C17332.4777,-1276.5187 17281.3138,-1262.385 17237.3447,-1250.2389\"/>\n<polygon fill=\"#000000\" stroke=\"#000000\" points=\"17238.0687,-1246.8079 17227.4978,-1247.5187 17236.2048,-1253.5551 17238.0687,-1246.8079\"/>\n</g>\n<!-- 330 -->\n<g id=\"node331\" class=\"node\">\n<title>330</title>\n<path fill=\"#feffff\" stroke=\"#000000\" d=\"M17665,-1253C17665,-1253 17346,-1253 17346,-1253 17340,-1253 17334,-1247 17334,-1241 17334,-1241 17334,-1201 17334,-1201 17334,-1195 17340,-1189 17346,-1189 17346,-1189 17665,-1189 17665,-1189 17671,-1189 17677,-1195 17677,-1201 17677,-1201 17677,-1241 17677,-1241 17677,-1247 17671,-1253 17665,-1253\"/>\n<text text-anchor=\"start\" x=\"17479\" y=\"-1238.8\" font-family=\"Helvetica,sans-Serif\" font-size=\"14.00\" fill=\"#000000\">X</text>\n<text text-anchor=\"start\" x=\"17489\" y=\"-1238.8\" font-family=\"Helvetica,sans-Serif\" baseline-shift=\"sub\" font-size=\"14.00\" fill=\"#000000\">1</text>\n<text text-anchor=\"start\" x=\"17496\" y=\"-1238.8\" font-family=\"Helvetica,sans-Serif\" font-size=\"14.00\" fill=\"#000000\"> ≤ 1.5</text>\n<text text-anchor=\"start\" x=\"17467.5\" y=\"-1224.8\" font-family=\"Helvetica,sans-Serif\" font-size=\"14.00\" fill=\"#000000\">gini = 0.828</text>\n<text text-anchor=\"start\" x=\"17449.5\" y=\"-1210.8\" font-family=\"Helvetica,sans-Serif\" font-size=\"14.00\" fill=\"#000000\">samples = 18198</text>\n<text text-anchor=\"start\" x=\"17342\" y=\"-1196.8\" font-family=\"Helvetica,sans-Serif\" font-size=\"14.00\" fill=\"#000000\">value = [648, 4549, 5916, 5991, 3913, 2364, 5404]</text>\n</g>\n<!-- 328&#45;&gt;330 -->\n<g id=\"edge330\" class=\"edge\">\n<title>328&#45;&gt;330</title>\n<path fill=\"none\" stroke=\"#000000\" d=\"M17497.3629,-1288.8089C17498.3371,-1280.6906 17499.3978,-1271.8517 17500.4218,-1263.3186\"/>\n<polygon fill=\"#000000\" stroke=\"#000000\" points=\"17503.9278,-1263.4766 17501.6443,-1253.1308 17496.9777,-1262.6425 17503.9278,-1263.4766\"/>\n</g>\n<!-- 331 -->\n<g id=\"node332\" class=\"node\">\n<title>331</title>\n<path fill=\"#f7c2da\" stroke=\"#000000\" d=\"M17444.5,-1147.5C17444.5,-1147.5 17150.5,-1147.5 17150.5,-1147.5 17144.5,-1147.5 17138.5,-1141.5 17138.5,-1135.5 17138.5,-1135.5 17138.5,-1106.5 17138.5,-1106.5 17138.5,-1100.5 17144.5,-1094.5 17150.5,-1094.5 17150.5,-1094.5 17444.5,-1094.5 17444.5,-1094.5 17450.5,-1094.5 17456.5,-1100.5 17456.5,-1106.5 17456.5,-1106.5 17456.5,-1135.5 17456.5,-1135.5 17456.5,-1141.5 17450.5,-1147.5 17444.5,-1147.5\"/>\n<text text-anchor=\"start\" x=\"17264\" y=\"-1132.3\" font-family=\"Helvetica,sans-Serif\" font-size=\"14.00\" fill=\"#000000\">gini = 0.74</text>\n<text text-anchor=\"start\" x=\"17245.5\" y=\"-1117.3\" font-family=\"Helvetica,sans-Serif\" font-size=\"14.00\" fill=\"#000000\">samples = 7545</text>\n<text text-anchor=\"start\" x=\"17146.5\" y=\"-1102.3\" font-family=\"Helvetica,sans-Serif\" font-size=\"14.00\" fill=\"#000000\">value = [8, 276, 1130, 1999, 1820, 1625, 5057]</text>\n</g>\n<!-- 330&#45;&gt;331 -->\n<g id=\"edge331\" class=\"edge\">\n<title>330&#45;&gt;331</title>\n<path fill=\"none\" stroke=\"#000000\" d=\"M17438.8292,-1188.9467C17414.1737,-1177.0931 17386.2907,-1163.6879 17361.8456,-1151.9354\"/>\n<polygon fill=\"#000000\" stroke=\"#000000\" points=\"17363.188,-1148.6973 17352.659,-1147.5187 17360.1549,-1155.0061 17363.188,-1148.6973\"/>\n</g>\n<!-- 332 -->\n<g id=\"node333\" class=\"node\">\n<title>332</title>\n<path fill=\"#f7fef8\" stroke=\"#000000\" d=\"M17788.5,-1153C17788.5,-1153 17486.5,-1153 17486.5,-1153 17480.5,-1153 17474.5,-1147 17474.5,-1141 17474.5,-1141 17474.5,-1101 17474.5,-1101 17474.5,-1095 17480.5,-1089 17486.5,-1089 17486.5,-1089 17788.5,-1089 17788.5,-1089 17794.5,-1089 17800.5,-1095 17800.5,-1101 17800.5,-1101 17800.5,-1141 17800.5,-1141 17800.5,-1147 17794.5,-1153 17788.5,-1153\"/>\n<text text-anchor=\"start\" x=\"17611\" y=\"-1138.8\" font-family=\"Helvetica,sans-Serif\" font-size=\"14.00\" fill=\"#000000\">X</text>\n<text text-anchor=\"start\" x=\"17621\" y=\"-1138.8\" font-family=\"Helvetica,sans-Serif\" baseline-shift=\"sub\" font-size=\"14.00\" fill=\"#000000\">1</text>\n<text text-anchor=\"start\" x=\"17628\" y=\"-1138.8\" font-family=\"Helvetica,sans-Serif\" font-size=\"14.00\" fill=\"#000000\"> ≤ 3.5</text>\n<text text-anchor=\"start\" x=\"17604\" y=\"-1124.8\" font-family=\"Helvetica,sans-Serif\" font-size=\"14.00\" fill=\"#000000\">gini = 0.78</text>\n<text text-anchor=\"start\" x=\"17581.5\" y=\"-1110.8\" font-family=\"Helvetica,sans-Serif\" font-size=\"14.00\" fill=\"#000000\">samples = 10653</text>\n<text text-anchor=\"start\" x=\"17482.5\" y=\"-1096.8\" font-family=\"Helvetica,sans-Serif\" font-size=\"14.00\" fill=\"#000000\">value = [640, 4273, 4786, 3992, 2093, 739, 347]</text>\n</g>\n<!-- 330&#45;&gt;332 -->\n<g id=\"edge332\" class=\"edge\">\n<title>330&#45;&gt;332</title>\n<path fill=\"none\" stroke=\"#000000\" d=\"M17547.9922,-1188.8089C17560.3571,-1179.4416 17573.9882,-1169.115 17586.8045,-1159.4057\"/>\n<polygon fill=\"#000000\" stroke=\"#000000\" points=\"17589.23,-1161.9592 17595.0874,-1153.1308 17585.0029,-1156.3795 17589.23,-1161.9592\"/>\n</g>\n<!-- 333 -->\n<g id=\"node334\" class=\"node\">\n<title>333</title>\n<path fill=\"#feffff\" stroke=\"#000000\" d=\"M17689.5,-1053C17689.5,-1053 17395.5,-1053 17395.5,-1053 17389.5,-1053 17383.5,-1047 17383.5,-1041 17383.5,-1041 17383.5,-1001 17383.5,-1001 17383.5,-995 17389.5,-989 17395.5,-989 17395.5,-989 17689.5,-989 17689.5,-989 17695.5,-989 17701.5,-995 17701.5,-1001 17701.5,-1001 17701.5,-1041 17701.5,-1041 17701.5,-1047 17695.5,-1053 17689.5,-1053\"/>\n<text text-anchor=\"start\" x=\"17516\" y=\"-1038.8\" font-family=\"Helvetica,sans-Serif\" font-size=\"14.00\" fill=\"#000000\">X</text>\n<text text-anchor=\"start\" x=\"17526\" y=\"-1038.8\" font-family=\"Helvetica,sans-Serif\" baseline-shift=\"sub\" font-size=\"14.00\" fill=\"#000000\">1</text>\n<text text-anchor=\"start\" x=\"17533\" y=\"-1038.8\" font-family=\"Helvetica,sans-Serif\" font-size=\"14.00\" fill=\"#000000\"> ≤ 2.5</text>\n<text text-anchor=\"start\" x=\"17504.5\" y=\"-1024.8\" font-family=\"Helvetica,sans-Serif\" font-size=\"14.00\" fill=\"#000000\">gini = 0.763</text>\n<text text-anchor=\"start\" x=\"17490.5\" y=\"-1010.8\" font-family=\"Helvetica,sans-Serif\" font-size=\"14.00\" fill=\"#000000\">samples = 5847</text>\n<text text-anchor=\"start\" x=\"17391.5\" y=\"-996.8\" font-family=\"Helvetica,sans-Serif\" font-size=\"14.00\" fill=\"#000000\">value = [75, 1324, 2842, 2865, 1482, 510, 221]</text>\n</g>\n<!-- 332&#45;&gt;333 -->\n<g id=\"edge333\" class=\"edge\">\n<title>332&#45;&gt;333</title>\n<path fill=\"none\" stroke=\"#000000\" d=\"M17606.9185,-1088.8089C17598.3585,-1079.7985 17588.9554,-1069.9004 17580.0421,-1060.518\"/>\n<polygon fill=\"#000000\" stroke=\"#000000\" points=\"17582.4493,-1057.9701 17573.0242,-1053.1308 17577.3742,-1062.7914 17582.4493,-1057.9701\"/>\n</g>\n<!-- 336 -->\n<g id=\"node337\" class=\"node\">\n<title>336</title>\n<path fill=\"#f2fadc\" stroke=\"#000000\" d=\"M18025.5,-1047.5C18025.5,-1047.5 17731.5,-1047.5 17731.5,-1047.5 17725.5,-1047.5 17719.5,-1041.5 17719.5,-1035.5 17719.5,-1035.5 17719.5,-1006.5 17719.5,-1006.5 17719.5,-1000.5 17725.5,-994.5 17731.5,-994.5 17731.5,-994.5 18025.5,-994.5 18025.5,-994.5 18031.5,-994.5 18037.5,-1000.5 18037.5,-1006.5 18037.5,-1006.5 18037.5,-1035.5 18037.5,-1035.5 18037.5,-1041.5 18031.5,-1047.5 18025.5,-1047.5\"/>\n<text text-anchor=\"start\" x=\"17840.5\" y=\"-1032.3\" font-family=\"Helvetica,sans-Serif\" font-size=\"14.00\" fill=\"#000000\">gini = 0.746</text>\n<text text-anchor=\"start\" x=\"17826.5\" y=\"-1017.3\" font-family=\"Helvetica,sans-Serif\" font-size=\"14.00\" fill=\"#000000\">samples = 4806</text>\n<text text-anchor=\"start\" x=\"17727.5\" y=\"-1002.3\" font-family=\"Helvetica,sans-Serif\" font-size=\"14.00\" fill=\"#000000\">value = [565, 2949, 1944, 1127, 611, 229, 126]</text>\n</g>\n<!-- 332&#45;&gt;336 -->\n<g id=\"edge336\" class=\"edge\">\n<title>332&#45;&gt;336</title>\n<path fill=\"none\" stroke=\"#000000\" d=\"M17714.7483,-1088.9467C17743.6931,-1076.9365 17776.4768,-1063.3333 17805.0666,-1051.4703\"/>\n<polygon fill=\"#000000\" stroke=\"#000000\" points=\"17806.6948,-1054.5841 17814.5899,-1047.5187 17804.012,-1048.1186 17806.6948,-1054.5841\"/>\n</g>\n<!-- 334 -->\n<g id=\"node335\" class=\"node\">\n<title>334</title>\n<path fill=\"#ecfdee\" stroke=\"#000000\" d=\"M17673,-947.5C17673,-947.5 17412,-947.5 17412,-947.5 17406,-947.5 17400,-941.5 17400,-935.5 17400,-935.5 17400,-906.5 17400,-906.5 17400,-900.5 17406,-894.5 17412,-894.5 17412,-894.5 17673,-894.5 17673,-894.5 17679,-894.5 17685,-900.5 17685,-906.5 17685,-906.5 17685,-935.5 17685,-935.5 17685,-941.5 17679,-947.5 17673,-947.5\"/>\n<text text-anchor=\"start\" x=\"17504.5\" y=\"-932.3\" font-family=\"Helvetica,sans-Serif\" font-size=\"14.00\" fill=\"#000000\">gini = 0.762</text>\n<text text-anchor=\"start\" x=\"17490.5\" y=\"-917.3\" font-family=\"Helvetica,sans-Serif\" font-size=\"14.00\" fill=\"#000000\">samples = 2353</text>\n<text text-anchor=\"start\" x=\"17408\" y=\"-902.3\" font-family=\"Helvetica,sans-Serif\" font-size=\"14.00\" fill=\"#000000\">value = [75, 883, 1219, 951, 385, 145, 93]</text>\n</g>\n<!-- 333&#45;&gt;334 -->\n<g id=\"edge334\" class=\"edge\">\n<title>333&#45;&gt;334</title>\n<path fill=\"none\" stroke=\"#000000\" d=\"M17542.5,-988.8089C17542.5,-978.9777 17542.5,-968.0898 17542.5,-957.9679\"/>\n<polygon fill=\"#000000\" stroke=\"#000000\" points=\"17546.0001,-957.7735 17542.5,-947.7735 17539.0001,-957.7736 17546.0001,-957.7735\"/>\n</g>\n<!-- 335 -->\n<g id=\"node336\" class=\"node\">\n<title>335</title>\n<path fill=\"#f0fdfd\" stroke=\"#000000\" d=\"M17993.5,-947.5C17993.5,-947.5 17715.5,-947.5 17715.5,-947.5 17709.5,-947.5 17703.5,-941.5 17703.5,-935.5 17703.5,-935.5 17703.5,-906.5 17703.5,-906.5 17703.5,-900.5 17709.5,-894.5 17715.5,-894.5 17715.5,-894.5 17993.5,-894.5 17993.5,-894.5 17999.5,-894.5 18005.5,-900.5 18005.5,-906.5 18005.5,-906.5 18005.5,-935.5 18005.5,-935.5 18005.5,-941.5 17999.5,-947.5 17993.5,-947.5\"/>\n<text text-anchor=\"start\" x=\"17816.5\" y=\"-932.3\" font-family=\"Helvetica,sans-Serif\" font-size=\"14.00\" fill=\"#000000\">gini = 0.747</text>\n<text text-anchor=\"start\" x=\"17802.5\" y=\"-917.3\" font-family=\"Helvetica,sans-Serif\" font-size=\"14.00\" fill=\"#000000\">samples = 3494</text>\n<text text-anchor=\"start\" x=\"17711.5\" y=\"-902.3\" font-family=\"Helvetica,sans-Serif\" font-size=\"14.00\" fill=\"#000000\">value = [0, 441, 1623, 1914, 1097, 365, 128]</text>\n</g>\n<!-- 333&#45;&gt;335 -->\n<g id=\"edge335\" class=\"edge\">\n<title>333&#45;&gt;335</title>\n<path fill=\"none\" stroke=\"#000000\" d=\"M17642.5061,-988.9467C17680.7929,-976.6754 17724.2679,-962.7411 17761.8387,-950.6991\"/>\n<polygon fill=\"#000000\" stroke=\"#000000\" points=\"17763.307,-953.904 17771.7616,-947.5187 17761.1705,-947.238 17763.307,-953.904\"/>\n</g>\n<!-- 338 -->\n<g id=\"node339\" class=\"node\">\n<title>338</title>\n<path fill=\"#f2fdfd\" stroke=\"#000000\" d=\"M17908,-1247.5C17908,-1247.5 17713,-1247.5 17713,-1247.5 17707,-1247.5 17701,-1241.5 17701,-1235.5 17701,-1235.5 17701,-1206.5 17701,-1206.5 17701,-1200.5 17707,-1194.5 17713,-1194.5 17713,-1194.5 17908,-1194.5 17908,-1194.5 17914,-1194.5 17920,-1200.5 17920,-1206.5 17920,-1206.5 17920,-1235.5 17920,-1235.5 17920,-1241.5 17914,-1247.5 17908,-1247.5\"/>\n<text text-anchor=\"start\" x=\"17777\" y=\"-1232.3\" font-family=\"Helvetica,sans-Serif\" font-size=\"14.00\" fill=\"#000000\">gini = 0.81</text>\n<text text-anchor=\"start\" x=\"17766.5\" y=\"-1217.3\" font-family=\"Helvetica,sans-Serif\" font-size=\"14.00\" fill=\"#000000\">samples = 79</text>\n<text text-anchor=\"start\" x=\"17709\" y=\"-1202.3\" font-family=\"Helvetica,sans-Serif\" font-size=\"14.00\" fill=\"#000000\">value = [0, 9, 17, 35, 22, 28, 20]</text>\n</g>\n<!-- 337&#45;&gt;338 -->\n<g id=\"edge338\" class=\"edge\">\n<title>337&#45;&gt;338</title>\n<path fill=\"none\" stroke=\"#000000\" d=\"M17815.2466,-1288.8089C17814.5584,-1278.9777 17813.7963,-1268.0898 17813.0878,-1257.9679\"/>\n<polygon fill=\"#000000\" stroke=\"#000000\" points=\"17816.564,-1257.5047 17812.3741,-1247.7735 17809.5811,-1257.9935 17816.564,-1257.5047\"/>\n</g>\n<!-- 339 -->\n<g id=\"node340\" class=\"node\">\n<title>339</title>\n<path fill=\"#e95698\" stroke=\"#000000\" d=\"M18145,-1253C18145,-1253 17950,-1253 17950,-1253 17944,-1253 17938,-1247 17938,-1241 17938,-1241 17938,-1201 17938,-1201 17938,-1195 17944,-1189 17950,-1189 17950,-1189 18145,-1189 18145,-1189 18151,-1189 18157,-1195 18157,-1201 18157,-1201 18157,-1241 18157,-1241 18157,-1247 18151,-1253 18145,-1253\"/>\n<text text-anchor=\"start\" x=\"18021\" y=\"-1238.8\" font-family=\"Helvetica,sans-Serif\" font-size=\"14.00\" fill=\"#000000\">X</text>\n<text text-anchor=\"start\" x=\"18031\" y=\"-1238.8\" font-family=\"Helvetica,sans-Serif\" baseline-shift=\"sub\" font-size=\"14.00\" fill=\"#000000\">1</text>\n<text text-anchor=\"start\" x=\"18038\" y=\"-1238.8\" font-family=\"Helvetica,sans-Serif\" font-size=\"14.00\" fill=\"#000000\"> ≤ 1.5</text>\n<text text-anchor=\"start\" x=\"18009.5\" y=\"-1224.8\" font-family=\"Helvetica,sans-Serif\" font-size=\"14.00\" fill=\"#000000\">gini = 0.246</text>\n<text text-anchor=\"start\" x=\"17999.5\" y=\"-1210.8\" font-family=\"Helvetica,sans-Serif\" font-size=\"14.00\" fill=\"#000000\">samples = 685</text>\n<text text-anchor=\"start\" x=\"17946\" y=\"-1196.8\" font-family=\"Helvetica,sans-Serif\" font-size=\"14.00\" fill=\"#000000\">value = [0, 0, 2, 16, 48, 82, 938]</text>\n</g>\n<!-- 337&#45;&gt;339 -->\n<g id=\"edge339\" class=\"edge\">\n<title>337&#45;&gt;339</title>\n<path fill=\"none\" stroke=\"#000000\" d=\"M17891.2225,-1288.9467C17914.5378,-1278.8096 17940.4632,-1267.5377 17964.3889,-1257.1352\"/>\n<polygon fill=\"#000000\" stroke=\"#000000\" points=\"17966.0253,-1260.2404 17973.8004,-1253.0433 17963.2341,-1253.8209 17966.0253,-1260.2404\"/>\n</g>\n<!-- 340 -->\n<g id=\"node341\" class=\"node\">\n<title>340</title>\n<path fill=\"#e6408a\" stroke=\"#000000\" d=\"M18022,-1147.5C18022,-1147.5 17843,-1147.5 17843,-1147.5 17837,-1147.5 17831,-1141.5 17831,-1135.5 17831,-1135.5 17831,-1106.5 17831,-1106.5 17831,-1100.5 17837,-1094.5 17843,-1094.5 17843,-1094.5 18022,-1094.5 18022,-1094.5 18028,-1094.5 18034,-1100.5 18034,-1106.5 18034,-1106.5 18034,-1135.5 18034,-1135.5 18034,-1141.5 18028,-1147.5 18022,-1147.5\"/>\n<text text-anchor=\"start\" x=\"17894.5\" y=\"-1132.3\" font-family=\"Helvetica,sans-Serif\" font-size=\"14.00\" fill=\"#000000\">gini = 0.071</text>\n<text text-anchor=\"start\" x=\"17884.5\" y=\"-1117.3\" font-family=\"Helvetica,sans-Serif\" font-size=\"14.00\" fill=\"#000000\">samples = 509</text>\n<text text-anchor=\"start\" x=\"17839\" y=\"-1102.3\" font-family=\"Helvetica,sans-Serif\" font-size=\"14.00\" fill=\"#000000\">value = [0, 0, 0, 6, 7, 16, 771]</text>\n</g>\n<!-- 339&#45;&gt;340 -->\n<g id=\"edge340\" class=\"edge\">\n<title>339&#45;&gt;340</title>\n<path fill=\"none\" stroke=\"#000000\" d=\"M18010.4803,-1188.8089C17997.8652,-1177.8393 17983.7374,-1165.5543 17971.0084,-1154.4855\"/>\n<polygon fill=\"#000000\" stroke=\"#000000\" points=\"17973.1323,-1151.6942 17963.2895,-1147.7735 17968.539,-1156.9765 17973.1323,-1151.6942\"/>\n</g>\n<!-- 341 -->\n<g id=\"node342\" class=\"node\">\n<title>341</title>\n<path fill=\"#f3a4c7\" stroke=\"#000000\" d=\"M18259,-1153C18259,-1153 18064,-1153 18064,-1153 18058,-1153 18052,-1147 18052,-1141 18052,-1141 18052,-1101 18052,-1101 18052,-1095 18058,-1089 18064,-1089 18064,-1089 18259,-1089 18259,-1089 18265,-1089 18271,-1095 18271,-1101 18271,-1101 18271,-1141 18271,-1141 18271,-1147 18265,-1153 18259,-1153\"/>\n<text text-anchor=\"start\" x=\"18135\" y=\"-1138.8\" font-family=\"Helvetica,sans-Serif\" font-size=\"14.00\" fill=\"#000000\">X</text>\n<text text-anchor=\"start\" x=\"18145\" y=\"-1138.8\" font-family=\"Helvetica,sans-Serif\" baseline-shift=\"sub\" font-size=\"14.00\" fill=\"#000000\">1</text>\n<text text-anchor=\"start\" x=\"18152\" y=\"-1138.8\" font-family=\"Helvetica,sans-Serif\" font-size=\"14.00\" fill=\"#000000\"> ≤ 3.0</text>\n<text text-anchor=\"start\" x=\"18123.5\" y=\"-1124.8\" font-family=\"Helvetica,sans-Serif\" font-size=\"14.00\" fill=\"#000000\">gini = 0.584</text>\n<text text-anchor=\"start\" x=\"18113.5\" y=\"-1110.8\" font-family=\"Helvetica,sans-Serif\" font-size=\"14.00\" fill=\"#000000\">samples = 176</text>\n<text text-anchor=\"start\" x=\"18060\" y=\"-1096.8\" font-family=\"Helvetica,sans-Serif\" font-size=\"14.00\" fill=\"#000000\">value = [0, 0, 2, 10, 41, 66, 167]</text>\n</g>\n<!-- 339&#45;&gt;341 -->\n<g id=\"edge341\" class=\"edge\">\n<title>339&#45;&gt;341</title>\n<path fill=\"none\" stroke=\"#000000\" d=\"M18084.1978,-1188.8089C18094.6732,-1179.62 18106.2008,-1169.508 18117.0842,-1159.9612\"/>\n<polygon fill=\"#000000\" stroke=\"#000000\" points=\"18119.6614,-1162.3563 18124.8709,-1153.1308 18115.0453,-1157.094 18119.6614,-1162.3563\"/>\n</g>\n<!-- 342 -->\n<g id=\"node343\" class=\"node\">\n<title>342</title>\n<path fill=\"#f197c0\" stroke=\"#000000\" d=\"M18255,-1047.5C18255,-1047.5 18068,-1047.5 18068,-1047.5 18062,-1047.5 18056,-1041.5 18056,-1035.5 18056,-1035.5 18056,-1006.5 18056,-1006.5 18056,-1000.5 18062,-994.5 18068,-994.5 18068,-994.5 18255,-994.5 18255,-994.5 18261,-994.5 18267,-1000.5 18267,-1006.5 18267,-1006.5 18267,-1035.5 18267,-1035.5 18267,-1041.5 18261,-1047.5 18255,-1047.5\"/>\n<text text-anchor=\"start\" x=\"18123.5\" y=\"-1032.3\" font-family=\"Helvetica,sans-Serif\" font-size=\"14.00\" fill=\"#000000\">gini = 0.558</text>\n<text text-anchor=\"start\" x=\"18113.5\" y=\"-1017.3\" font-family=\"Helvetica,sans-Serif\" font-size=\"14.00\" fill=\"#000000\">samples = 167</text>\n<text text-anchor=\"start\" x=\"18064\" y=\"-1002.3\" font-family=\"Helvetica,sans-Serif\" font-size=\"14.00\" fill=\"#000000\">value = [0, 0, 2, 8, 41, 53, 167]</text>\n</g>\n<!-- 341&#45;&gt;342 -->\n<g id=\"edge342\" class=\"edge\">\n<title>341&#45;&gt;342</title>\n<path fill=\"none\" stroke=\"#000000\" d=\"M18161.5,-1088.8089C18161.5,-1078.9777 18161.5,-1068.0898 18161.5,-1057.9679\"/>\n<polygon fill=\"#000000\" stroke=\"#000000\" points=\"18165.0001,-1057.7735 18161.5,-1047.7735 18158.0001,-1057.7736 18165.0001,-1057.7735\"/>\n</g>\n<!-- 343 -->\n<g id=\"node344\" class=\"node\">\n<title>343</title>\n<path fill=\"#bd57e9\" stroke=\"#000000\" d=\"M18459.5,-1047.5C18459.5,-1047.5 18297.5,-1047.5 18297.5,-1047.5 18291.5,-1047.5 18285.5,-1041.5 18285.5,-1035.5 18285.5,-1035.5 18285.5,-1006.5 18285.5,-1006.5 18285.5,-1000.5 18291.5,-994.5 18297.5,-994.5 18297.5,-994.5 18459.5,-994.5 18459.5,-994.5 18465.5,-994.5 18471.5,-1000.5 18471.5,-1006.5 18471.5,-1006.5 18471.5,-1035.5 18471.5,-1035.5 18471.5,-1041.5 18465.5,-1047.5 18459.5,-1047.5\"/>\n<text text-anchor=\"start\" x=\"18340.5\" y=\"-1032.3\" font-family=\"Helvetica,sans-Serif\" font-size=\"14.00\" fill=\"#000000\">gini = 0.231</text>\n<text text-anchor=\"start\" x=\"18339\" y=\"-1017.3\" font-family=\"Helvetica,sans-Serif\" font-size=\"14.00\" fill=\"#000000\">samples = 9</text>\n<text text-anchor=\"start\" x=\"18293.5\" y=\"-1002.3\" font-family=\"Helvetica,sans-Serif\" font-size=\"14.00\" fill=\"#000000\">value = [0, 0, 0, 2, 0, 13, 0]</text>\n</g>\n<!-- 341&#45;&gt;343 -->\n<g id=\"edge343\" class=\"edge\">\n<title>341&#45;&gt;343</title>\n<path fill=\"none\" stroke=\"#000000\" d=\"M18231.0556,-1088.9467C18256.8913,-1077.0409 18286.1237,-1063.5697 18311.7071,-1051.7802\"/>\n<polygon fill=\"#000000\" stroke=\"#000000\" points=\"18313.3372,-1054.8828 18320.9544,-1047.5187 18310.4074,-1048.5253 18313.3372,-1054.8828\"/>\n</g>\n<!-- 345 -->\n<g id=\"node346\" class=\"node\">\n<title>345</title>\n<path fill=\"#e4f5b5\" stroke=\"#000000\" d=\"M18898,-1353C18898,-1353 18653,-1353 18653,-1353 18647,-1353 18641,-1347 18641,-1341 18641,-1341 18641,-1301 18641,-1301 18641,-1295 18647,-1289 18653,-1289 18653,-1289 18898,-1289 18898,-1289 18904,-1289 18910,-1295 18910,-1301 18910,-1301 18910,-1341 18910,-1341 18910,-1347 18904,-1353 18898,-1353\"/>\n<text text-anchor=\"start\" x=\"18749\" y=\"-1338.8\" font-family=\"Helvetica,sans-Serif\" font-size=\"14.00\" fill=\"#000000\">X</text>\n<text text-anchor=\"start\" x=\"18759\" y=\"-1338.8\" font-family=\"Helvetica,sans-Serif\" baseline-shift=\"sub\" font-size=\"14.00\" fill=\"#000000\">1</text>\n<text text-anchor=\"start\" x=\"18766\" y=\"-1338.8\" font-family=\"Helvetica,sans-Serif\" font-size=\"14.00\" fill=\"#000000\"> ≤ 6.5</text>\n<text text-anchor=\"start\" x=\"18737.5\" y=\"-1324.8\" font-family=\"Helvetica,sans-Serif\" font-size=\"14.00\" fill=\"#000000\">gini = 0.512</text>\n<text text-anchor=\"start\" x=\"18719.5\" y=\"-1310.8\" font-family=\"Helvetica,sans-Serif\" font-size=\"14.00\" fill=\"#000000\">samples = 11778</text>\n<text text-anchor=\"start\" x=\"18649\" y=\"-1296.8\" font-family=\"Helvetica,sans-Serif\" font-size=\"14.00\" fill=\"#000000\">value = [6694, 11112, 726, 38, 2, 0, 21]</text>\n</g>\n<!-- 344&#45;&gt;345 -->\n<g id=\"edge345\" class=\"edge\">\n<title>344&#45;&gt;345</title>\n<path fill=\"none\" stroke=\"#000000\" d=\"M18775.5,-1388.8089C18775.5,-1380.6906 18775.5,-1371.8517 18775.5,-1363.3186\"/>\n<polygon fill=\"#000000\" stroke=\"#000000\" points=\"18779.0001,-1363.1307 18775.5,-1353.1308 18772.0001,-1363.1308 18779.0001,-1363.1307\"/>\n</g>\n<!-- 358 -->\n<g id=\"node359\" class=\"node\">\n<title>358</title>\n<path fill=\"#e3fbfb\" stroke=\"#000000\" d=\"M19220.5,-1353C19220.5,-1353 19066.5,-1353 19066.5,-1353 19060.5,-1353 19054.5,-1347 19054.5,-1341 19054.5,-1341 19054.5,-1301 19054.5,-1301 19054.5,-1295 19060.5,-1289 19066.5,-1289 19066.5,-1289 19220.5,-1289 19220.5,-1289 19226.5,-1289 19232.5,-1295 19232.5,-1301 19232.5,-1301 19232.5,-1341 19232.5,-1341 19232.5,-1347 19226.5,-1353 19220.5,-1353\"/>\n<text text-anchor=\"start\" x=\"19117\" y=\"-1338.8\" font-family=\"Helvetica,sans-Serif\" font-size=\"14.00\" fill=\"#000000\">X</text>\n<text text-anchor=\"start\" x=\"19127\" y=\"-1338.8\" font-family=\"Helvetica,sans-Serif\" baseline-shift=\"sub\" font-size=\"14.00\" fill=\"#000000\">1</text>\n<text text-anchor=\"start\" x=\"19134\" y=\"-1338.8\" font-family=\"Helvetica,sans-Serif\" font-size=\"14.00\" fill=\"#000000\"> ≤ 6.5</text>\n<text text-anchor=\"start\" x=\"19110\" y=\"-1324.8\" font-family=\"Helvetica,sans-Serif\" font-size=\"14.00\" fill=\"#000000\">gini = 0.72</text>\n<text text-anchor=\"start\" x=\"19104\" y=\"-1310.8\" font-family=\"Helvetica,sans-Serif\" font-size=\"14.00\" fill=\"#000000\">samples = 7</text>\n<text text-anchor=\"start\" x=\"19062.5\" y=\"-1296.8\" font-family=\"Helvetica,sans-Serif\" font-size=\"14.00\" fill=\"#000000\">value = [1, 3, 1, 4, 1, 0, 0]</text>\n</g>\n<!-- 344&#45;&gt;358 -->\n<g id=\"edge358\" class=\"edge\">\n<title>344&#45;&gt;358</title>\n<path fill=\"none\" stroke=\"#000000\" d=\"M18893.456,-1388.9467C18942.2293,-1375.6931 18998.1409,-1360.4998 19044.7077,-1347.8457\"/>\n<polygon fill=\"#000000\" stroke=\"#000000\" points=\"19045.7645,-1351.1856 19054.4968,-1345.1857 19043.9289,-1344.4305 19045.7645,-1351.1856\"/>\n</g>\n<!-- 346 -->\n<g id=\"node347\" class=\"node\">\n<title>346</title>\n<path fill=\"#e1f4ac\" stroke=\"#000000\" d=\"M18762.5,-1253C18762.5,-1253 18534.5,-1253 18534.5,-1253 18528.5,-1253 18522.5,-1247 18522.5,-1241 18522.5,-1241 18522.5,-1201 18522.5,-1201 18522.5,-1195 18528.5,-1189 18534.5,-1189 18534.5,-1189 18762.5,-1189 18762.5,-1189 18768.5,-1189 18774.5,-1195 18774.5,-1201 18774.5,-1201 18774.5,-1241 18774.5,-1241 18774.5,-1247 18768.5,-1253 18762.5,-1253\"/>\n<text text-anchor=\"start\" x=\"18622\" y=\"-1238.8\" font-family=\"Helvetica,sans-Serif\" font-size=\"14.00\" fill=\"#000000\">X</text>\n<text text-anchor=\"start\" x=\"18632\" y=\"-1238.8\" font-family=\"Helvetica,sans-Serif\" baseline-shift=\"sub\" font-size=\"14.00\" fill=\"#000000\">1</text>\n<text text-anchor=\"start\" x=\"18639\" y=\"-1238.8\" font-family=\"Helvetica,sans-Serif\" font-size=\"14.00\" fill=\"#000000\"> ≤ 5.5</text>\n<text text-anchor=\"start\" x=\"18610.5\" y=\"-1224.8\" font-family=\"Helvetica,sans-Serif\" font-size=\"14.00\" fill=\"#000000\">gini = 0.507</text>\n<text text-anchor=\"start\" x=\"18596.5\" y=\"-1210.8\" font-family=\"Helvetica,sans-Serif\" font-size=\"14.00\" fill=\"#000000\">samples = 9578</text>\n<text text-anchor=\"start\" x=\"18530.5\" y=\"-1196.8\" font-family=\"Helvetica,sans-Serif\" font-size=\"14.00\" fill=\"#000000\">value = [5097, 9260, 685, 35, 0, 0, 4]</text>\n</g>\n<!-- 345&#45;&gt;346 -->\n<g id=\"edge346\" class=\"edge\">\n<title>345&#45;&gt;346</title>\n<path fill=\"none\" stroke=\"#000000\" d=\"M18734.6173,-1288.8089C18722.7208,-1279.4416 18709.6061,-1269.115 18697.2753,-1259.4057\"/>\n<polygon fill=\"#000000\" stroke=\"#000000\" points=\"18699.3281,-1256.5673 18689.3061,-1253.1308 18694.9976,-1262.0671 18699.3281,-1256.5673\"/>\n</g>\n<!-- 349 -->\n<g id=\"node350\" class=\"node\">\n<title>349</title>\n<path fill=\"#f5fce5\" stroke=\"#000000\" d=\"M19024.5,-1253C19024.5,-1253 18804.5,-1253 18804.5,-1253 18798.5,-1253 18792.5,-1247 18792.5,-1241 18792.5,-1241 18792.5,-1201 18792.5,-1201 18792.5,-1195 18798.5,-1189 18804.5,-1189 18804.5,-1189 19024.5,-1189 19024.5,-1189 19030.5,-1189 19036.5,-1195 19036.5,-1201 19036.5,-1201 19036.5,-1241 19036.5,-1241 19036.5,-1247 19030.5,-1253 19024.5,-1253\"/>\n<text text-anchor=\"start\" x=\"18888\" y=\"-1238.8\" font-family=\"Helvetica,sans-Serif\" font-size=\"14.00\" fill=\"#000000\">X</text>\n<text text-anchor=\"start\" x=\"18898\" y=\"-1238.8\" font-family=\"Helvetica,sans-Serif\" baseline-shift=\"sub\" font-size=\"14.00\" fill=\"#000000\">1</text>\n<text text-anchor=\"start\" x=\"18905\" y=\"-1238.8\" font-family=\"Helvetica,sans-Serif\" font-size=\"14.00\" fill=\"#000000\"> ≤ 7.5</text>\n<text text-anchor=\"start\" x=\"18876.5\" y=\"-1224.8\" font-family=\"Helvetica,sans-Serif\" font-size=\"14.00\" fill=\"#000000\">gini = 0.515</text>\n<text text-anchor=\"start\" x=\"18862.5\" y=\"-1210.8\" font-family=\"Helvetica,sans-Serif\" font-size=\"14.00\" fill=\"#000000\">samples = 2200</text>\n<text text-anchor=\"start\" x=\"18800.5\" y=\"-1196.8\" font-family=\"Helvetica,sans-Serif\" font-size=\"14.00\" fill=\"#000000\">value = [1597, 1852, 41, 3, 2, 0, 17]</text>\n</g>\n<!-- 345&#45;&gt;349 -->\n<g id=\"edge349\" class=\"edge\">\n<title>345&#45;&gt;349</title>\n<path fill=\"none\" stroke=\"#000000\" d=\"M18820.2456,-1288.8089C18833.3902,-1279.3524 18847.8937,-1268.9182 18861.5014,-1259.1285\"/>\n<polygon fill=\"#000000\" stroke=\"#000000\" points=\"18863.7647,-1261.8119 18869.8382,-1253.1308 18859.6767,-1256.1296 18863.7647,-1261.8119\"/>\n</g>\n<!-- 347 -->\n<g id=\"node348\" class=\"node\">\n<title>347</title>\n<path fill=\"#e7f6bc\" stroke=\"#000000\" d=\"M18529.5,-1147.5C18529.5,-1147.5 18301.5,-1147.5 18301.5,-1147.5 18295.5,-1147.5 18289.5,-1141.5 18289.5,-1135.5 18289.5,-1135.5 18289.5,-1106.5 18289.5,-1106.5 18289.5,-1100.5 18295.5,-1094.5 18301.5,-1094.5 18301.5,-1094.5 18529.5,-1094.5 18529.5,-1094.5 18535.5,-1094.5 18541.5,-1100.5 18541.5,-1106.5 18541.5,-1106.5 18541.5,-1135.5 18541.5,-1135.5 18541.5,-1141.5 18535.5,-1147.5 18529.5,-1147.5\"/>\n<text text-anchor=\"start\" x=\"18382\" y=\"-1132.3\" font-family=\"Helvetica,sans-Serif\" font-size=\"14.00\" fill=\"#000000\">gini = 0.49</text>\n<text text-anchor=\"start\" x=\"18363.5\" y=\"-1117.3\" font-family=\"Helvetica,sans-Serif\" font-size=\"14.00\" fill=\"#000000\">samples = 7426</text>\n<text text-anchor=\"start\" x=\"18297.5\" y=\"-1102.3\" font-family=\"Helvetica,sans-Serif\" font-size=\"14.00\" fill=\"#000000\">value = [4598, 6999, 116, 12, 0, 0, 2]</text>\n</g>\n<!-- 346&#45;&gt;347 -->\n<g id=\"edge347\" class=\"edge\">\n<title>346&#45;&gt;347</title>\n<path fill=\"none\" stroke=\"#000000\" d=\"M18573.8159,-1188.9467C18545.8319,-1176.9365 18514.1365,-1163.3333 18486.4958,-1151.4703\"/>\n<polygon fill=\"#000000\" stroke=\"#000000\" points=\"18487.8585,-1148.2464 18477.2886,-1147.5187 18485.0976,-1154.679 18487.8585,-1148.2464\"/>\n</g>\n<!-- 348 -->\n<g id=\"node349\" class=\"node\">\n<title>348</title>\n<path fill=\"#d3ef87\" stroke=\"#000000\" d=\"M18791.5,-1147.5C18791.5,-1147.5 18571.5,-1147.5 18571.5,-1147.5 18565.5,-1147.5 18559.5,-1141.5 18559.5,-1135.5 18559.5,-1135.5 18559.5,-1106.5 18559.5,-1106.5 18559.5,-1100.5 18565.5,-1094.5 18571.5,-1094.5 18571.5,-1094.5 18791.5,-1094.5 18791.5,-1094.5 18797.5,-1094.5 18803.5,-1100.5 18803.5,-1106.5 18803.5,-1106.5 18803.5,-1135.5 18803.5,-1135.5 18803.5,-1141.5 18797.5,-1147.5 18791.5,-1147.5\"/>\n<text text-anchor=\"start\" x=\"18643.5\" y=\"-1132.3\" font-family=\"Helvetica,sans-Serif\" font-size=\"14.00\" fill=\"#000000\">gini = 0.495</text>\n<text text-anchor=\"start\" x=\"18629.5\" y=\"-1117.3\" font-family=\"Helvetica,sans-Serif\" font-size=\"14.00\" fill=\"#000000\">samples = 2152</text>\n<text text-anchor=\"start\" x=\"18567.5\" y=\"-1102.3\" font-family=\"Helvetica,sans-Serif\" font-size=\"14.00\" fill=\"#000000\">value = [499, 2261, 569, 23, 0, 0, 2]</text>\n</g>\n<!-- 346&#45;&gt;348 -->\n<g id=\"edge348\" class=\"edge\">\n<title>346&#45;&gt;348</title>\n<path fill=\"none\" stroke=\"#000000\" d=\"M18659.1231,-1188.8089C18662.4357,-1178.7707 18666.1118,-1167.6309 18669.5112,-1157.3297\"/>\n<polygon fill=\"#000000\" stroke=\"#000000\" points=\"18672.8546,-1158.3667 18672.6647,-1147.7735 18666.2072,-1156.173 18672.8546,-1158.3667\"/>\n</g>\n<!-- 350 -->\n<g id=\"node351\" class=\"node\">\n<title>350</title>\n<path fill=\"#ec6aa4\" stroke=\"#000000\" d=\"M18995.5,-1147.5C18995.5,-1147.5 18833.5,-1147.5 18833.5,-1147.5 18827.5,-1147.5 18821.5,-1141.5 18821.5,-1135.5 18821.5,-1135.5 18821.5,-1106.5 18821.5,-1106.5 18821.5,-1100.5 18827.5,-1094.5 18833.5,-1094.5 18833.5,-1094.5 18995.5,-1094.5 18995.5,-1094.5 19001.5,-1094.5 19007.5,-1100.5 19007.5,-1106.5 19007.5,-1106.5 19007.5,-1135.5 19007.5,-1135.5 19007.5,-1141.5 19001.5,-1147.5 18995.5,-1147.5\"/>\n<text text-anchor=\"start\" x=\"18876.5\" y=\"-1132.3\" font-family=\"Helvetica,sans-Serif\" font-size=\"14.00\" fill=\"#000000\">gini = 0.384</text>\n<text text-anchor=\"start\" x=\"18870.5\" y=\"-1117.3\" font-family=\"Helvetica,sans-Serif\" font-size=\"14.00\" fill=\"#000000\">samples = 14</text>\n<text text-anchor=\"start\" x=\"18829.5\" y=\"-1102.3\" font-family=\"Helvetica,sans-Serif\" font-size=\"14.00\" fill=\"#000000\">value = [2, 0, 2, 0, 1, 0, 17]</text>\n</g>\n<!-- 349&#45;&gt;350 -->\n<g id=\"edge350\" class=\"edge\">\n<title>349&#45;&gt;350</title>\n<path fill=\"none\" stroke=\"#000000\" d=\"M18914.5,-1188.8089C18914.5,-1178.9777 18914.5,-1168.0898 18914.5,-1157.9679\"/>\n<polygon fill=\"#000000\" stroke=\"#000000\" points=\"18918.0001,-1157.7735 18914.5,-1147.7735 18911.0001,-1157.7736 18918.0001,-1157.7735\"/>\n</g>\n<!-- 351 -->\n<g id=\"node352\" class=\"node\">\n<title>351</title>\n<path fill=\"#f5fbe4\" stroke=\"#000000\" d=\"M19249.5,-1153C19249.5,-1153 19037.5,-1153 19037.5,-1153 19031.5,-1153 19025.5,-1147 19025.5,-1141 19025.5,-1141 19025.5,-1101 19025.5,-1101 19025.5,-1095 19031.5,-1089 19037.5,-1089 19037.5,-1089 19249.5,-1089 19249.5,-1089 19255.5,-1089 19261.5,-1095 19261.5,-1101 19261.5,-1101 19261.5,-1141 19261.5,-1141 19261.5,-1147 19255.5,-1153 19249.5,-1153\"/>\n<text text-anchor=\"start\" x=\"19117\" y=\"-1138.8\" font-family=\"Helvetica,sans-Serif\" font-size=\"14.00\" fill=\"#000000\">X</text>\n<text text-anchor=\"start\" x=\"19127\" y=\"-1138.8\" font-family=\"Helvetica,sans-Serif\" baseline-shift=\"sub\" font-size=\"14.00\" fill=\"#000000\">1</text>\n<text text-anchor=\"start\" x=\"19134\" y=\"-1138.8\" font-family=\"Helvetica,sans-Serif\" font-size=\"14.00\" fill=\"#000000\"> ≤ 8.5</text>\n<text text-anchor=\"start\" x=\"19105.5\" y=\"-1124.8\" font-family=\"Helvetica,sans-Serif\" font-size=\"14.00\" fill=\"#000000\">gini = 0.509</text>\n<text text-anchor=\"start\" x=\"19091.5\" y=\"-1110.8\" font-family=\"Helvetica,sans-Serif\" font-size=\"14.00\" fill=\"#000000\">samples = 2186</text>\n<text text-anchor=\"start\" x=\"19033.5\" y=\"-1096.8\" font-family=\"Helvetica,sans-Serif\" font-size=\"14.00\" fill=\"#000000\">value = [1595, 1852, 39, 3, 1, 0, 0]</text>\n</g>\n<!-- 349&#45;&gt;351 -->\n<g id=\"edge351\" class=\"edge\">\n<title>349&#45;&gt;351</title>\n<path fill=\"none\" stroke=\"#000000\" d=\"M18987.9019,-1188.9467C19011.1159,-1178.8096 19036.9286,-1167.5377 19060.7503,-1157.1352\"/>\n<polygon fill=\"#000000\" stroke=\"#000000\" points=\"19062.3572,-1160.2528 19070.1209,-1153.0433 19059.5558,-1153.8377 19062.3572,-1160.2528\"/>\n</g>\n<!-- 352 -->\n<g id=\"node353\" class=\"node\">\n<title>352</title>\n<path fill=\"#fcfef6\" stroke=\"#000000\" d=\"M19126.5,-1047.5C19126.5,-1047.5 18914.5,-1047.5 18914.5,-1047.5 18908.5,-1047.5 18902.5,-1041.5 18902.5,-1035.5 18902.5,-1035.5 18902.5,-1006.5 18902.5,-1006.5 18902.5,-1000.5 18908.5,-994.5 18914.5,-994.5 18914.5,-994.5 19126.5,-994.5 19126.5,-994.5 19132.5,-994.5 19138.5,-1000.5 19138.5,-1006.5 19138.5,-1006.5 19138.5,-1035.5 19138.5,-1035.5 19138.5,-1041.5 19132.5,-1047.5 19126.5,-1047.5\"/>\n<text text-anchor=\"start\" x=\"18987\" y=\"-1032.3\" font-family=\"Helvetica,sans-Serif\" font-size=\"14.00\" fill=\"#000000\">gini = 0.51</text>\n<text text-anchor=\"start\" x=\"18968.5\" y=\"-1017.3\" font-family=\"Helvetica,sans-Serif\" font-size=\"14.00\" fill=\"#000000\">samples = 1770</text>\n<text text-anchor=\"start\" x=\"18910.5\" y=\"-1002.3\" font-family=\"Helvetica,sans-Serif\" font-size=\"14.00\" fill=\"#000000\">value = [1373, 1442, 26, 3, 0, 0, 0]</text>\n</g>\n<!-- 351&#45;&gt;352 -->\n<g id=\"edge352\" class=\"edge\">\n<title>351&#45;&gt;352</title>\n<path fill=\"none\" stroke=\"#000000\" d=\"M19103.905,-1088.8089C19090.2851,-1077.7359 19075.0165,-1065.3223 19061.3023,-1054.1726\"/>\n<polygon fill=\"#000000\" stroke=\"#000000\" points=\"19063.3986,-1051.3661 19053.4314,-1047.7735 19058.9827,-1056.7976 19063.3986,-1051.3661\"/>\n</g>\n<!-- 353 -->\n<g id=\"node354\" class=\"node\">\n<title>353</title>\n<path fill=\"#dff3a7\" stroke=\"#000000\" d=\"M19364,-1053C19364,-1053 19169,-1053 19169,-1053 19163,-1053 19157,-1047 19157,-1041 19157,-1041 19157,-1001 19157,-1001 19157,-995 19163,-989 19169,-989 19169,-989 19364,-989 19364,-989 19370,-989 19376,-995 19376,-1001 19376,-1001 19376,-1041 19376,-1041 19376,-1047 19370,-1053 19364,-1053\"/>\n<text text-anchor=\"start\" x=\"19240\" y=\"-1038.8\" font-family=\"Helvetica,sans-Serif\" font-size=\"14.00\" fill=\"#000000\">X</text>\n<text text-anchor=\"start\" x=\"19250\" y=\"-1038.8\" font-family=\"Helvetica,sans-Serif\" baseline-shift=\"sub\" font-size=\"14.00\" fill=\"#000000\">1</text>\n<text text-anchor=\"start\" x=\"19257\" y=\"-1038.8\" font-family=\"Helvetica,sans-Serif\" font-size=\"14.00\" fill=\"#000000\"> ≤ 9.5</text>\n<text text-anchor=\"start\" x=\"19228.5\" y=\"-1024.8\" font-family=\"Helvetica,sans-Serif\" font-size=\"14.00\" fill=\"#000000\">gini = 0.479</text>\n<text text-anchor=\"start\" x=\"19218.5\" y=\"-1010.8\" font-family=\"Helvetica,sans-Serif\" font-size=\"14.00\" fill=\"#000000\">samples = 416</text>\n<text text-anchor=\"start\" x=\"19165\" y=\"-996.8\" font-family=\"Helvetica,sans-Serif\" font-size=\"14.00\" fill=\"#000000\">value = [222, 410, 13, 0, 1, 0, 0]</text>\n</g>\n<!-- 351&#45;&gt;353 -->\n<g id=\"edge353\" class=\"edge\">\n<title>351&#45;&gt;353</title>\n<path fill=\"none\" stroke=\"#000000\" d=\"M19183.095,-1088.8089C19194.5071,-1079.5308 19207.0767,-1069.3116 19218.9196,-1059.6833\"/>\n<polygon fill=\"#000000\" stroke=\"#000000\" points=\"19221.4279,-1062.1548 19226.9792,-1053.1308 19217.012,-1056.7234 19221.4279,-1062.1548\"/>\n</g>\n<!-- 354 -->\n<g id=\"node355\" class=\"node\">\n<title>354</title>\n<path fill=\"#daf29a\" stroke=\"#000000\" d=\"M19285,-947.5C19285,-947.5 19090,-947.5 19090,-947.5 19084,-947.5 19078,-941.5 19078,-935.5 19078,-935.5 19078,-906.5 19078,-906.5 19078,-900.5 19084,-894.5 19090,-894.5 19090,-894.5 19285,-894.5 19285,-894.5 19291,-894.5 19297,-900.5 19297,-906.5 19297,-906.5 19297,-935.5 19297,-935.5 19297,-941.5 19291,-947.5 19285,-947.5\"/>\n<text text-anchor=\"start\" x=\"19149.5\" y=\"-932.3\" font-family=\"Helvetica,sans-Serif\" font-size=\"14.00\" fill=\"#000000\">gini = 0.461</text>\n<text text-anchor=\"start\" x=\"19139.5\" y=\"-917.3\" font-family=\"Helvetica,sans-Serif\" font-size=\"14.00\" fill=\"#000000\">samples = 359</text>\n<text text-anchor=\"start\" x=\"19086\" y=\"-902.3\" font-family=\"Helvetica,sans-Serif\" font-size=\"14.00\" fill=\"#000000\">value = [175, 372, 13, 0, 0, 0, 0]</text>\n</g>\n<!-- 353&#45;&gt;354 -->\n<g id=\"edge354\" class=\"edge\">\n<title>353&#45;&gt;354</title>\n<path fill=\"none\" stroke=\"#000000\" d=\"M19241.0691,-988.8089C19232.7301,-978.2533 19223.4289,-966.4796 19214.9475,-955.7437\"/>\n<polygon fill=\"#000000\" stroke=\"#000000\" points=\"19217.5965,-953.4507 19208.6511,-947.7735 19212.1037,-957.79 19217.5965,-953.4507\"/>\n</g>\n<!-- 355 -->\n<g id=\"node356\" class=\"node\">\n<title>355</title>\n<path fill=\"#fae7da\" stroke=\"#000000\" d=\"M19497.5,-953C19497.5,-953 19327.5,-953 19327.5,-953 19321.5,-953 19315.5,-947 19315.5,-941 19315.5,-941 19315.5,-901 19315.5,-901 19315.5,-895 19321.5,-889 19327.5,-889 19327.5,-889 19497.5,-889 19497.5,-889 19503.5,-889 19509.5,-895 19509.5,-901 19509.5,-901 19509.5,-941 19509.5,-941 19509.5,-947 19503.5,-953 19497.5,-953\"/>\n<text text-anchor=\"start\" x=\"19382\" y=\"-938.8\" font-family=\"Helvetica,sans-Serif\" font-size=\"14.00\" fill=\"#000000\">X</text>\n<text text-anchor=\"start\" x=\"19392\" y=\"-938.8\" font-family=\"Helvetica,sans-Serif\" baseline-shift=\"sub\" font-size=\"14.00\" fill=\"#000000\">1</text>\n<text text-anchor=\"start\" x=\"19399\" y=\"-938.8\" font-family=\"Helvetica,sans-Serif\" font-size=\"14.00\" fill=\"#000000\"> ≤ 11.0</text>\n<text text-anchor=\"start\" x=\"19374.5\" y=\"-924.8\" font-family=\"Helvetica,sans-Serif\" font-size=\"14.00\" fill=\"#000000\">gini = 0.506</text>\n<text text-anchor=\"start\" x=\"19368.5\" y=\"-910.8\" font-family=\"Helvetica,sans-Serif\" font-size=\"14.00\" fill=\"#000000\">samples = 57</text>\n<text text-anchor=\"start\" x=\"19323.5\" y=\"-896.8\" font-family=\"Helvetica,sans-Serif\" font-size=\"14.00\" fill=\"#000000\">value = [47, 38, 0, 0, 1, 0, 0]</text>\n</g>\n<!-- 353&#45;&gt;355 -->\n<g id=\"edge355\" class=\"edge\">\n<title>353&#45;&gt;355</title>\n<path fill=\"none\" stroke=\"#000000\" d=\"M19313.499,-988.8089C19327.4358,-979.2632 19342.827,-968.7213 19357.2367,-958.8516\"/>\n<polygon fill=\"#000000\" stroke=\"#000000\" points=\"19359.3166,-961.6693 19365.5891,-953.1308 19355.3609,-955.8941 19359.3166,-961.6693\"/>\n</g>\n<!-- 356 -->\n<g id=\"node357\" class=\"node\">\n<title>356</title>\n<path fill=\"#f9e2d2\" stroke=\"#000000\" d=\"M19457.5,-847.5C19457.5,-847.5 19287.5,-847.5 19287.5,-847.5 19281.5,-847.5 19275.5,-841.5 19275.5,-835.5 19275.5,-835.5 19275.5,-806.5 19275.5,-806.5 19275.5,-800.5 19281.5,-794.5 19287.5,-794.5 19287.5,-794.5 19457.5,-794.5 19457.5,-794.5 19463.5,-794.5 19469.5,-800.5 19469.5,-806.5 19469.5,-806.5 19469.5,-835.5 19469.5,-835.5 19469.5,-841.5 19463.5,-847.5 19457.5,-847.5\"/>\n<text text-anchor=\"start\" x=\"19334.5\" y=\"-832.3\" font-family=\"Helvetica,sans-Serif\" font-size=\"14.00\" fill=\"#000000\">gini = 0.503</text>\n<text text-anchor=\"start\" x=\"19328.5\" y=\"-817.3\" font-family=\"Helvetica,sans-Serif\" font-size=\"14.00\" fill=\"#000000\">samples = 56</text>\n<text text-anchor=\"start\" x=\"19283.5\" y=\"-802.3\" font-family=\"Helvetica,sans-Serif\" font-size=\"14.00\" fill=\"#000000\">value = [47, 36, 0, 0, 1, 0, 0]</text>\n</g>\n<!-- 355&#45;&gt;356 -->\n<g id=\"edge356\" class=\"edge\">\n<title>355&#45;&gt;356</title>\n<path fill=\"none\" stroke=\"#000000\" d=\"M19399.6236,-888.8089C19395.6083,-878.7707 19391.1524,-867.6309 19387.0319,-857.3297\"/>\n<polygon fill=\"#000000\" stroke=\"#000000\" points=\"19390.173,-855.7584 19383.2094,-847.7735 19383.6737,-858.3582 19390.173,-855.7584\"/>\n</g>\n<!-- 357 -->\n<g id=\"node358\" class=\"node\">\n<title>357</title>\n<path fill=\"#b7e539\" stroke=\"#000000\" d=\"M19653.5,-847.5C19653.5,-847.5 19499.5,-847.5 19499.5,-847.5 19493.5,-847.5 19487.5,-841.5 19487.5,-835.5 19487.5,-835.5 19487.5,-806.5 19487.5,-806.5 19487.5,-800.5 19493.5,-794.5 19499.5,-794.5 19499.5,-794.5 19653.5,-794.5 19653.5,-794.5 19659.5,-794.5 19665.5,-800.5 19665.5,-806.5 19665.5,-806.5 19665.5,-835.5 19665.5,-835.5 19665.5,-841.5 19659.5,-847.5 19653.5,-847.5\"/>\n<text text-anchor=\"start\" x=\"19547\" y=\"-832.3\" font-family=\"Helvetica,sans-Serif\" font-size=\"14.00\" fill=\"#000000\">gini = 0.0</text>\n<text text-anchor=\"start\" x=\"19537\" y=\"-817.3\" font-family=\"Helvetica,sans-Serif\" font-size=\"14.00\" fill=\"#000000\">samples = 1</text>\n<text text-anchor=\"start\" x=\"19495.5\" y=\"-802.3\" font-family=\"Helvetica,sans-Serif\" font-size=\"14.00\" fill=\"#000000\">value = [0, 2, 0, 0, 0, 0, 0]</text>\n</g>\n<!-- 355&#45;&gt;357 -->\n<g id=\"edge357\" class=\"edge\">\n<title>355&#45;&gt;357</title>\n<path fill=\"none\" stroke=\"#000000\" d=\"M19465.2934,-888.8089C19484.128,-877.3244 19505.3275,-864.3979 19524.1267,-852.9349\"/>\n<polygon fill=\"#000000\" stroke=\"#000000\" points=\"19526.1431,-855.8048 19532.8589,-847.6104 19522.4988,-849.8282 19526.1431,-855.8048\"/>\n</g>\n<!-- 359 -->\n<g id=\"node360\" class=\"node\">\n<title>359</title>\n<path fill=\"#defbfa\" stroke=\"#000000\" d=\"M19220.5,-1247.5C19220.5,-1247.5 19066.5,-1247.5 19066.5,-1247.5 19060.5,-1247.5 19054.5,-1241.5 19054.5,-1235.5 19054.5,-1235.5 19054.5,-1206.5 19054.5,-1206.5 19054.5,-1200.5 19060.5,-1194.5 19066.5,-1194.5 19066.5,-1194.5 19220.5,-1194.5 19220.5,-1194.5 19226.5,-1194.5 19232.5,-1200.5 19232.5,-1206.5 19232.5,-1206.5 19232.5,-1235.5 19232.5,-1235.5 19232.5,-1241.5 19226.5,-1247.5 19220.5,-1247.5\"/>\n<text text-anchor=\"start\" x=\"19105.5\" y=\"-1232.3\" font-family=\"Helvetica,sans-Serif\" font-size=\"14.00\" fill=\"#000000\">gini = 0.667</text>\n<text text-anchor=\"start\" x=\"19104\" y=\"-1217.3\" font-family=\"Helvetica,sans-Serif\" font-size=\"14.00\" fill=\"#000000\">samples = 6</text>\n<text text-anchor=\"start\" x=\"19062.5\" y=\"-1202.3\" font-family=\"Helvetica,sans-Serif\" font-size=\"14.00\" fill=\"#000000\">value = [0, 3, 1, 4, 1, 0, 0]</text>\n</g>\n<!-- 358&#45;&gt;359 -->\n<g id=\"edge359\" class=\"edge\">\n<title>358&#45;&gt;359</title>\n<path fill=\"none\" stroke=\"#000000\" d=\"M19143.5,-1288.8089C19143.5,-1278.9777 19143.5,-1268.0898 19143.5,-1257.9679\"/>\n<polygon fill=\"#000000\" stroke=\"#000000\" points=\"19147.0001,-1257.7735 19143.5,-1247.7735 19140.0001,-1257.7736 19147.0001,-1257.7735\"/>\n</g>\n<!-- 360 -->\n<g id=\"node361\" class=\"node\">\n<title>360</title>\n<path fill=\"#e58139\" stroke=\"#000000\" d=\"M19416.5,-1247.5C19416.5,-1247.5 19262.5,-1247.5 19262.5,-1247.5 19256.5,-1247.5 19250.5,-1241.5 19250.5,-1235.5 19250.5,-1235.5 19250.5,-1206.5 19250.5,-1206.5 19250.5,-1200.5 19256.5,-1194.5 19262.5,-1194.5 19262.5,-1194.5 19416.5,-1194.5 19416.5,-1194.5 19422.5,-1194.5 19428.5,-1200.5 19428.5,-1206.5 19428.5,-1206.5 19428.5,-1235.5 19428.5,-1235.5 19428.5,-1241.5 19422.5,-1247.5 19416.5,-1247.5\"/>\n<text text-anchor=\"start\" x=\"19310\" y=\"-1232.3\" font-family=\"Helvetica,sans-Serif\" font-size=\"14.00\" fill=\"#000000\">gini = 0.0</text>\n<text text-anchor=\"start\" x=\"19300\" y=\"-1217.3\" font-family=\"Helvetica,sans-Serif\" font-size=\"14.00\" fill=\"#000000\">samples = 1</text>\n<text text-anchor=\"start\" x=\"19258.5\" y=\"-1202.3\" font-family=\"Helvetica,sans-Serif\" font-size=\"14.00\" fill=\"#000000\">value = [1, 0, 0, 0, 0, 0, 0]</text>\n</g>\n<!-- 358&#45;&gt;360 -->\n<g id=\"edge360\" class=\"edge\">\n<title>358&#45;&gt;360</title>\n<path fill=\"none\" stroke=\"#000000\" d=\"M19206.3244,-1288.9467C19229.4552,-1277.1453 19255.6004,-1263.8059 19278.562,-1252.0908\"/>\n<polygon fill=\"#000000\" stroke=\"#000000\" points=\"19280.2063,-1255.1812 19287.5233,-1247.5187 19277.025,-1248.9458 19280.2063,-1255.1812\"/>\n</g>\n</g>\n</svg>\n"
          },
          "metadata": {
            "tags": []
          },
          "execution_count": 242
        }
      ]
    },
    {
      "cell_type": "markdown",
      "metadata": {
        "id": "rXOZeSzMMRVA",
        "colab_type": "text"
      },
      "source": [
        "Calculemos el accuracy"
      ]
    },
    {
      "cell_type": "code",
      "metadata": {
        "id": "dNprdtQ-MU2f",
        "colab_type": "code",
        "colab": {
          "base_uri": "https://localhost:8080/",
          "height": 34
        },
        "outputId": "21552801-b550-46c7-d749-12bf465ed0b1"
      },
      "source": [
        "predictions = clf.predict(X_train)\n",
        "print ('Accuracy: %d ' % ((np.sum(y_train['shipment_days_byclass'] == predictions))/float(y_train.size)*100))"
      ],
      "execution_count": 243,
      "outputs": [
        {
          "output_type": "stream",
          "text": [
            "Accuracy: 27 \n"
          ],
          "name": "stdout"
        }
      ]
    },
    {
      "cell_type": "markdown",
      "metadata": {
        "id": "aMgvSda-NPtr",
        "colab_type": "text"
      },
      "source": [
        "El accuracy que obtenemos es mucho más alto que con el linear y el polinomial."
      ]
    },
    {
      "cell_type": "markdown",
      "metadata": {
        "id": "QLeqyNnbarPO",
        "colab_type": "text"
      },
      "source": [
        "Vamos a calcular las métricas definidas en el punto anterior, para eso vamos a restar lo que predice el modelo(predictions) con el valor real de los datos que sería en nuestro caso 'shipment_days_byclass'."
      ]
    },
    {
      "cell_type": "code",
      "metadata": {
        "id": "JchQX2DPa_ak",
        "colab_type": "code",
        "colab": {}
      },
      "source": [
        "new_metric = predictions - y_train['shipment_days_byclass']"
      ],
      "execution_count": 0,
      "outputs": []
    },
    {
      "cell_type": "markdown",
      "metadata": {
        "id": "fwi_AEoObNBm",
        "colab_type": "text"
      },
      "source": [
        "Analicemos la métrica\n",
        "1) Si new_metric es igual a 0 es porque el pedido llegó el día prometido.\n",
        "2) Si new_metric > 0 es porque predictions > y_train['shipment_days_byclass'] esto quiere decir que lo prometido es mayor a la cantidad de días real, por ende el pedido se demoró menos que el día prometido. Veamos un ejeemplo si predictions es 5 e y_train da 3, es porque el pedido estbaa primetido para el día 5 pero en lo real llegó el dia 3.\n",
        "3) Si new_metric < 0 es porque  predictions < y_train['shipment_days_byclass'] siguiendo la misma lógica de arriba, podemos concluir que el pedido llegó despueés del día prometido.\n",
        "4) La cantidad de pedidos la podemos ver con x_train.shape o y_train.shape.\n"
      ]
    },
    {
      "cell_type": "code",
      "metadata": {
        "id": "-HXQQX15dSlS",
        "colab_type": "code",
        "colab": {
          "base_uri": "https://localhost:8080/",
          "height": 221
        },
        "outputId": "0ac79f02-4194-45c7-9574-04dc21ea1001"
      },
      "source": [
        "new_metric"
      ],
      "execution_count": 245,
      "outputs": [
        {
          "output_type": "execute_result",
          "data": {
            "text/plain": [
              "0         1\n",
              "1         1\n",
              "2        -1\n",
              "3         0\n",
              "4         0\n",
              "         ..\n",
              "499990    0\n",
              "499991    0\n",
              "499992   -1\n",
              "499994    1\n",
              "499999    0\n",
              "Name: shipment_days_byclass, Length: 321523, dtype: int64"
            ]
          },
          "metadata": {
            "tags": []
          },
          "execution_count": 245
        }
      ]
    },
    {
      "cell_type": "code",
      "metadata": {
        "id": "JUPkuusWiryl",
        "colab_type": "code",
        "colab": {
          "base_uri": "https://localhost:8080/",
          "height": 34
        },
        "outputId": "76e7dc3c-cfa2-4432-e9e5-085fefc5c59f"
      },
      "source": [
        "type(new_metric)"
      ],
      "execution_count": 246,
      "outputs": [
        {
          "output_type": "execute_result",
          "data": {
            "text/plain": [
              "pandas.core.series.Series"
            ]
          },
          "metadata": {
            "tags": []
          },
          "execution_count": 246
        }
      ]
    },
    {
      "cell_type": "code",
      "metadata": {
        "id": "Ybc2qHnnjG7C",
        "colab_type": "code",
        "colab": {
          "base_uri": "https://localhost:8080/",
          "height": 34
        },
        "outputId": "0a1fcba6-8866-4b31-860f-82681bc37ce0"
      },
      "source": [
        "total_orders = new_metric.size\n",
        "total_orders"
      ],
      "execution_count": 261,
      "outputs": [
        {
          "output_type": "execute_result",
          "data": {
            "text/plain": [
              "321523"
            ]
          },
          "metadata": {
            "tags": []
          },
          "execution_count": 261
        }
      ]
    },
    {
      "cell_type": "code",
      "metadata": {
        "id": "S5-BqeEPjaP0",
        "colab_type": "code",
        "colab": {
          "base_uri": "https://localhost:8080/",
          "height": 119
        },
        "outputId": "6d6699d8-527f-4f6f-ea67-10c188bf0c77"
      },
      "source": [
        "df_train['new_metric'] = new_metric"
      ],
      "execution_count": 248,
      "outputs": [
        {
          "output_type": "stream",
          "text": [
            "/usr/local/lib/python3.6/dist-packages/ipykernel_launcher.py:1: SettingWithCopyWarning: \n",
            "A value is trying to be set on a copy of a slice from a DataFrame.\n",
            "Try using .loc[row_indexer,col_indexer] = value instead\n",
            "\n",
            "See the caveats in the documentation: http://pandas.pydata.org/pandas-docs/stable/user_guide/indexing.html#returning-a-view-versus-a-copy\n",
            "  \"\"\"Entry point for launching an IPython kernel.\n"
          ],
          "name": "stderr"
        }
      ]
    },
    {
      "cell_type": "code",
      "metadata": {
        "id": "VZ7F_Ah1kuB2",
        "colab_type": "code",
        "colab": {
          "base_uri": "https://localhost:8080/",
          "height": 394
        },
        "outputId": "3c25b502-5aad-40f4-da6a-1c189d0ea883"
      },
      "source": [
        "df_train.head(5)"
      ],
      "execution_count": 249,
      "outputs": [
        {
          "output_type": "execute_result",
          "data": {
            "text/html": [
              "<div>\n",
              "<style scoped>\n",
              "    .dataframe tbody tr th:only-of-type {\n",
              "        vertical-align: middle;\n",
              "    }\n",
              "\n",
              "    .dataframe tbody tr th {\n",
              "        vertical-align: top;\n",
              "    }\n",
              "\n",
              "    .dataframe thead th {\n",
              "        text-align: right;\n",
              "    }\n",
              "</style>\n",
              "<table border=\"1\" class=\"dataframe\">\n",
              "  <thead>\n",
              "    <tr style=\"text-align: right;\">\n",
              "      <th></th>\n",
              "      <th>sender_state</th>\n",
              "      <th>sender_zipcode</th>\n",
              "      <th>receiver_state</th>\n",
              "      <th>receiver_zipcode</th>\n",
              "      <th>shipment_type</th>\n",
              "      <th>quantity</th>\n",
              "      <th>service</th>\n",
              "      <th>status</th>\n",
              "      <th>date_created</th>\n",
              "      <th>date_sent</th>\n",
              "      <th>date_visit</th>\n",
              "      <th>shipment_days</th>\n",
              "      <th>receiver_state_le</th>\n",
              "      <th>date_created_only_date</th>\n",
              "      <th>date_visit_only_date</th>\n",
              "      <th>new_metric</th>\n",
              "    </tr>\n",
              "  </thead>\n",
              "  <tbody>\n",
              "    <tr>\n",
              "      <th>0</th>\n",
              "      <td>SP</td>\n",
              "      <td>1039</td>\n",
              "      <td>SP</td>\n",
              "      <td>14500</td>\n",
              "      <td>standard</td>\n",
              "      <td>1</td>\n",
              "      <td>1</td>\n",
              "      <td>done</td>\n",
              "      <td>2019-03-10</td>\n",
              "      <td>2019-03-11 14:34:00</td>\n",
              "      <td>2019-03-18 09:52:00</td>\n",
              "      <td>5.0</td>\n",
              "      <td>25</td>\n",
              "      <td>2019-03-10</td>\n",
              "      <td>2019-03-18</td>\n",
              "      <td>1</td>\n",
              "    </tr>\n",
              "    <tr>\n",
              "      <th>1</th>\n",
              "      <td>SP</td>\n",
              "      <td>3004</td>\n",
              "      <td>PB</td>\n",
              "      <td>58670</td>\n",
              "      <td>standard</td>\n",
              "      <td>1</td>\n",
              "      <td>1</td>\n",
              "      <td>done</td>\n",
              "      <td>2019-03-08</td>\n",
              "      <td>2019-03-09 10:48:00</td>\n",
              "      <td>2019-03-18 15:16:00</td>\n",
              "      <td>5.0</td>\n",
              "      <td>14</td>\n",
              "      <td>2019-03-08</td>\n",
              "      <td>2019-03-18</td>\n",
              "      <td>1</td>\n",
              "    </tr>\n",
              "    <tr>\n",
              "      <th>2</th>\n",
              "      <td>SP</td>\n",
              "      <td>3262</td>\n",
              "      <td>RJ</td>\n",
              "      <td>22723</td>\n",
              "      <td>standard</td>\n",
              "      <td>1</td>\n",
              "      <td>2</td>\n",
              "      <td>done</td>\n",
              "      <td>2019-02-21</td>\n",
              "      <td>2019-02-23 02:02:16</td>\n",
              "      <td>2019-03-01 21:27:00</td>\n",
              "      <td>4.0</td>\n",
              "      <td>18</td>\n",
              "      <td>2019-02-21</td>\n",
              "      <td>2019-03-01</td>\n",
              "      <td>-1</td>\n",
              "    </tr>\n",
              "    <tr>\n",
              "      <th>3</th>\n",
              "      <td>SP</td>\n",
              "      <td>12237</td>\n",
              "      <td>SP</td>\n",
              "      <td>18682</td>\n",
              "      <td>standard</td>\n",
              "      <td>1</td>\n",
              "      <td>2</td>\n",
              "      <td>done</td>\n",
              "      <td>2019-02-25</td>\n",
              "      <td>2019-02-28 03:05:36</td>\n",
              "      <td>2019-03-07 15:01:00</td>\n",
              "      <td>2.0</td>\n",
              "      <td>25</td>\n",
              "      <td>2019-02-25</td>\n",
              "      <td>2019-03-07</td>\n",
              "      <td>0</td>\n",
              "    </tr>\n",
              "    <tr>\n",
              "      <th>4</th>\n",
              "      <td>SP</td>\n",
              "      <td>9350</td>\n",
              "      <td>AP</td>\n",
              "      <td>68908</td>\n",
              "      <td>standard</td>\n",
              "      <td>1</td>\n",
              "      <td>1</td>\n",
              "      <td>done</td>\n",
              "      <td>2019-02-15</td>\n",
              "      <td>2019-02-15 11:28:00</td>\n",
              "      <td>2019-03-11 13:18:00</td>\n",
              "      <td>13.0</td>\n",
              "      <td>3</td>\n",
              "      <td>2019-02-15</td>\n",
              "      <td>2019-03-11</td>\n",
              "      <td>0</td>\n",
              "    </tr>\n",
              "  </tbody>\n",
              "</table>\n",
              "</div>"
            ],
            "text/plain": [
              "  sender_state  sender_zipcode  ... date_visit_only_date  new_metric\n",
              "0           SP            1039  ...           2019-03-18           1\n",
              "1           SP            3004  ...           2019-03-18           1\n",
              "2           SP            3262  ...           2019-03-01          -1\n",
              "3           SP           12237  ...           2019-03-07           0\n",
              "4           SP            9350  ...           2019-03-11           0\n",
              "\n",
              "[5 rows x 16 columns]"
            ]
          },
          "metadata": {
            "tags": []
          },
          "execution_count": 249
        }
      ]
    },
    {
      "cell_type": "code",
      "metadata": {
        "id": "mLeZKk0xk1uu",
        "colab_type": "code",
        "colab": {
          "base_uri": "https://localhost:8080/",
          "height": 34
        },
        "outputId": "ae8bfe8c-ac22-4c45-e2af-7ba25975c261"
      },
      "source": [
        "count_ceros = df_train.loc[df_train['new_metric']==0]\n",
        "count_ceros = count_ceros.shape[0]\n",
        "count_ceros"
      ],
      "execution_count": 259,
      "outputs": [
        {
          "output_type": "execute_result",
          "data": {
            "text/plain": [
              "176002"
            ]
          },
          "metadata": {
            "tags": []
          },
          "execution_count": 259
        }
      ]
    },
    {
      "cell_type": "markdown",
      "metadata": {
        "id": "ep9e71tMlSml",
        "colab_type": "text"
      },
      "source": [
        "Obtenemos una cantidad de 176002 de pedidos, de los cuáles llegaron el día prometido."
      ]
    },
    {
      "cell_type": "code",
      "metadata": {
        "id": "xOVi0GjGwNMV",
        "colab_type": "code",
        "colab": {
          "base_uri": "https://localhost:8080/",
          "height": 34
        },
        "outputId": "00df26a9-fd55-40da-dece-ad4cf0e2db1c"
      },
      "source": [
        "print ('Porcentaje de pedidos que llegaron el dia prometido: %f ' % (float(count_ceros)/float(total_orders)))"
      ],
      "execution_count": 264,
      "outputs": [
        {
          "output_type": "stream",
          "text": [
            "Porcentaje de pedidos que llegaron el dia prometido: 0.547401 \n"
          ],
          "name": "stdout"
        }
      ]
    },
    {
      "cell_type": "markdown",
      "metadata": {
        "id": "VQL9N_vs2Mjf",
        "colab_type": "text"
      },
      "source": [
        "Calculemos la métrica 2) porcentaje de pedidos que llegaron antes del día prometido:"
      ]
    },
    {
      "cell_type": "code",
      "metadata": {
        "id": "70nPIf5j2cLd",
        "colab_type": "code",
        "colab": {
          "base_uri": "https://localhost:8080/",
          "height": 34
        },
        "outputId": "0a15cd86-0122-4395-ec61-4db51dedd531"
      },
      "source": [
        "count_received_before_that_promise_date = df_train.loc[df_train['new_metric']>0]\n",
        "count_received_before_that_promise_date = count_received_before_that_promise_date.shape[0]\n",
        "count_received_before_that_promise_date"
      ],
      "execution_count": 265,
      "outputs": [
        {
          "output_type": "execute_result",
          "data": {
            "text/plain": [
              "58259"
            ]
          },
          "metadata": {
            "tags": []
          },
          "execution_count": 265
        }
      ]
    },
    {
      "cell_type": "markdown",
      "metadata": {
        "id": "6vKqTDrK206B",
        "colab_type": "text"
      },
      "source": [
        "Nos falta calcularlo sobre el total, por ende queda:"
      ]
    },
    {
      "cell_type": "code",
      "metadata": {
        "id": "hgaIRNIN29lu",
        "colab_type": "code",
        "colab": {
          "base_uri": "https://localhost:8080/",
          "height": 34
        },
        "outputId": "3175357a-ce41-4694-9b5f-ea99db5fedc2"
      },
      "source": [
        "print ('Porcentaje de pedidos que llegaron antes del dia prometido: %f ' % (float(count_received_before_that_promise_date)/float(total_orders)))"
      ],
      "execution_count": 266,
      "outputs": [
        {
          "output_type": "stream",
          "text": [
            "Porcentaje de pedidos que llegaron antes del dia prometido: 0.181197 \n"
          ],
          "name": "stdout"
        }
      ]
    },
    {
      "cell_type": "markdown",
      "metadata": {
        "id": "SVcqIDC23JvW",
        "colab_type": "text"
      },
      "source": [
        "Calculemos la métrica 3) porcentaje de pedidos que llegaron después del día prometido:"
      ]
    },
    {
      "cell_type": "code",
      "metadata": {
        "id": "zpXygQBE3RIx",
        "colab_type": "code",
        "colab": {
          "base_uri": "https://localhost:8080/",
          "height": 34
        },
        "outputId": "46bf4f6d-e732-453a-d60d-dca8a1bc4a7c"
      },
      "source": [
        "count_received_after_that_promise_date = df_train.loc[df_train['new_metric']<0]\n",
        "count_received_after_that_promise_date = count_received_after_that_promise_date.shape[0]\n",
        "count_received_after_that_promise_date"
      ],
      "execution_count": 267,
      "outputs": [
        {
          "output_type": "execute_result",
          "data": {
            "text/plain": [
              "87262"
            ]
          },
          "metadata": {
            "tags": []
          },
          "execution_count": 267
        }
      ]
    },
    {
      "cell_type": "markdown",
      "metadata": {
        "id": "NF5DJEYA3muL",
        "colab_type": "text"
      },
      "source": [
        "Nos falta calcularlo sobre el total, por ende queda:"
      ]
    },
    {
      "cell_type": "code",
      "metadata": {
        "id": "dFUuSSUj3sWd",
        "colab_type": "code",
        "colab": {
          "base_uri": "https://localhost:8080/",
          "height": 34
        },
        "outputId": "92c3ab38-fcb5-4014-d085-0b73d2ad098f"
      },
      "source": [
        "print ('Porcentaje de pedidos que llegaron después del dia prometido: %f ' % (float(count_received_after_that_promise_date)/float(total_orders)))"
      ],
      "execution_count": 268,
      "outputs": [
        {
          "output_type": "stream",
          "text": [
            "Porcentaje de pedidos que llegaron después del dia prometido: 0.271402 \n"
          ],
          "name": "stdout"
        }
      ]
    },
    {
      "cell_type": "markdown",
      "metadata": {
        "id": "vIWipJtZGB_i",
        "colab_type": "text"
      },
      "source": [
        "Conclusiones:\n",
        "\n",
        "La diferencia entre los modelos de este práctico con el anterior; que en el anterior obteníamos mejores accuracys.\n",
        "Creemos que la performance disminuye (habría que calcular las métricas definidas en este práctico).\n",
        "En cuanto a las nuevas métricas definidas el modelo de esembling nos estaría dando bastante bien, sin mirar el accuracy. Es decir un 54% de los pedidos está prometiendo comparado con lo real.\n",
        "Creemos que agregando alguna features más que sean relevantes para nuestra problemática podría llegar a mejorar nuestra performance.\n"
      ]
    }
  ]
}