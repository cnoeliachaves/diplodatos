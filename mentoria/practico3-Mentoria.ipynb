{
 "cells": [
  {
   "cell_type": "markdown",
   "metadata": {
    "colab_type": "text",
    "id": "UK2eYuMWUX0P"
   },
   "source": [
    "# Logística de envíos: ¿Cuándo llega?\n",
    "\n",
    "## Mentoría DiploDatos 2019 \n",
    "\n",
    "### Integrantes:\n",
    "\n",
    "- Chaves, Noelia\n",
    "- Frau, Johanna\n",
    "\n",
    "### Mentora:\n",
    "\n",
    "- Dal Lago, Virginia\n",
    "\n",
    "### Práctico: Introducción al aprendizaje automático"
   ]
  },
  {
   "cell_type": "markdown",
   "metadata": {
    "colab_type": "text",
    "id": "DQguL3wiUX0R"
   },
   "source": [
    "## Motivación\n",
    "\n",
    "En la actualidad, cada vez más productos se comercializan a través de una plataforma online. Una de las principales ventajas de este sistema es que el usuario puede recibir el producto en su domicilio en una fecha determinada. Pero, ¿cómo sabemos qué día va a llegar? ¿A partir de qué datos podemos predecir la demora del envío? En este práctico se trabajará con datos de envíos de MercadoLibre, el e-commerce más grande de Latinoamérica, analizando y modelando el problema de logística de envíos para poder responder ¿cuándo llega?\n",
    "\n",
    "## Descripción del dataset\n",
    "\n",
    "**Datos:**  El conjunto de datos seleccionado para realizar el práctico corresponde a un muestreo aleatorio no uniforme de 500.000 envíos de MercadoLibre. Estos envíos fueron realizados en Brasil en el período comprendido entre Octubre de 2018 y Abril de 2019 (las fechas originales han sido modificadas y adaptadas a un período de tiempo diferente, conservando el día de la semana y considerando los feriados correspondientes). Mientras que las fechas han sido modificadas, los horarios registrados en el dataset son los originales. Los datos comprenden variables tanto categóricas como numéricas. \n",
    "\n",
    "El dataset cuenta con las siguientes columnas:\n",
    "\n",
    "- **Sender_state:** Estado de Brasil de donde sale el envío.\n",
    "- **Sender_zipcode:** Código postal (de 5 dígitos) de donde sale el envío.\n",
    "- **Receiver_state:** Estado de Brasil a donde llega el envío.\n",
    "- **Receiver_zipcode:** Código postal (de 5 dígitos) a donde llega el envío.\n",
    "- **Shipment_type:** Método de envío (normal, express, super).\n",
    "- **Quantity:** Cantidad de productos en un envío.\n",
    "- **Service:** Servicio del correo con el cual se realizó un envío.\n",
    "- **Status:** Estado del envío (set: listo para ser enviado, sent: enviado, done: entregado, failed: no entregado, cancelled: cancelado).\n",
    "- **Date_created:** Fecha de creación del envío.\n",
    "- **Date_sent:** Fecha y hora en que se realizó el envío (salió del correo).\n",
    "- **Date_visit:** Fecha y hora en que se entregó el envío al destinatario.\n",
    "- **Shipment_days:** Días hábiles entre que el envío fue enviado (salió del correo) y que fue entregado.\n",
    "\n",
    "\n"
   ]
  },
  {
   "cell_type": "markdown",
   "metadata": {
    "colab_type": "text",
    "id": "6C71choGUX0S"
   },
   "source": [
    "## Objetivos generales\n",
    "\n",
    "  * Realizar de manera completa el proceso de desarrollo de un modelo de aprendizaje automático para determinar cuándo llega un envío.\n",
    "  * Desarrollar el conocimiento práctico sobre dicho proceso, desde la definición de los datasets, la elección y análisis del modelo y las métricas propias para la problemática.\n",
    "  * Desarrollar habilidades de comunicación de la información obtenida a partir de los datos de manera clara y sencilla."
   ]
  },
  {
   "cell_type": "markdown",
   "metadata": {
    "colab_type": "text",
    "id": "IiRvgazNUX0T"
   },
   "source": [
    "## Objetivos específicos\n",
    "\n",
    "    *\n",
    "    *\n",
    "    *\n"
   ]
  },
  {
   "cell_type": "markdown",
   "metadata": {
    "colab_type": "text",
    "id": "fr-c3rSLUX0U"
   },
   "source": [
    "## Desarrollo del trabajo"
   ]
  },
  {
   "cell_type": "code",
   "execution_count": 1,
   "metadata": {
    "colab": {},
    "colab_type": "code",
    "id": "8PZqZdWOUX0V"
   },
   "outputs": [],
   "source": [
    "import matplotlib.pyplot as plt\n",
    "import numpy \n",
    "import pandas\n",
    "import seaborn\n",
    "\n",
    "\n",
    "from IPython.display import HTML\n",
    "from matplotlib.colors import ListedColormap\n",
    "from scipy import stats\n",
    "from sklearn import preprocessing\n",
    "\n",
    "from sklearn.metrics import confusion_matrix\n",
    "from sklearn.metrics import classification_report\n",
    "from sklearn.model_selection import train_test_split\n",
    "from sklearn.neighbors import KNeighborsClassifier\n",
    "from sklearn.preprocessing import MinMaxScaler"
   ]
  },
  {
   "cell_type": "markdown",
   "metadata": {
    "colab_type": "text",
    "id": "Jptu3QGeUX0a"
   },
   "source": [
    "### Lectura y análisis inicial de los datos"
   ]
  },
  {
   "cell_type": "code",
   "execution_count": 2,
   "metadata": {
    "colab": {
     "base_uri": "https://localhost:8080/",
     "height": 33
    },
    "colab_type": "code",
    "executionInfo": {
     "elapsed": 4045,
     "status": "ok",
     "timestamp": 1563646506140,
     "user": {
      "displayName": "Johanna Frau",
      "photoUrl": "https://lh4.googleusercontent.com/-vsvj7_Spx5E/AAAAAAAAAAI/AAAAAAAAw80/hKdmIURaf-g/s64/photo.jpg",
      "userId": "12340570416827246133"
     },
     "user_tz": -120
    },
    "id": "S8n6LFm5UX0b",
    "outputId": "357c8857-fde7-4fd9-a4cf-8579d0647d7f"
   },
   "outputs": [
    {
     "data": {
      "text/plain": [
       "(500000, 12)"
      ]
     },
     "execution_count": 2,
     "metadata": {},
     "output_type": "execute_result"
    }
   ],
   "source": [
    "url = \"https://raw.githubusercontent.com/cnoeliachaves/csv/master/dataset_sample_corrected.csv\"\n",
    "\n",
    "dataset = pandas.read_csv(url, dtype={'sender_zipcode':'int64',\n",
    "                              'receiver_zipcode':'int64',\n",
    "                              'quantity':'int64',\n",
    "                              'service':'int64'},\n",
    "                       parse_dates=['date_created','date_sent','date_visit'])\n",
    "dataset.shape"
   ]
  },
  {
   "cell_type": "code",
   "execution_count": 51,
   "metadata": {
    "colab": {
     "base_uri": "https://localhost:8080/",
     "height": 534
    },
    "colab_type": "code",
    "executionInfo": {
     "elapsed": 4262,
     "status": "ok",
     "timestamp": 1563646506407,
     "user": {
      "displayName": "Johanna Frau",
      "photoUrl": "https://lh4.googleusercontent.com/-vsvj7_Spx5E/AAAAAAAAAAI/AAAAAAAAw80/hKdmIURaf-g/s64/photo.jpg",
      "userId": "12340570416827246133"
     },
     "user_tz": -120
    },
    "id": "1mz8vwJfUX0l",
    "outputId": "5999833c-be7e-4e99-ad88-3caba0881f33"
   },
   "outputs": [],
   "source": [
    "numpy.random.seed(0) #con propositos de reproducibilidad\n",
    "#dataset.sample(10)"
   ]
  },
  {
   "cell_type": "markdown",
   "metadata": {
    "colab_type": "text",
    "id": "xPCw0z_hUX0p"
   },
   "source": [
    "### Limpieza de datos\n",
    "\n",
    "En esta sección retomaremos algunos puntos del práctico anterior con el objetivo de limpiar nuestro dataset."
   ]
  },
  {
   "cell_type": "markdown",
   "metadata": {
    "colab_type": "text",
    "id": "y_-ydh1qUX0q"
   },
   "source": [
    "**Shipment day anómalos**\n",
    "\n",
    "En primer lugar, eliminaremos los valores de shipment days negativos."
   ]
  },
  {
   "cell_type": "code",
   "execution_count": 3,
   "metadata": {
    "colab": {},
    "colab_type": "code",
    "id": "ftujA2CMUX0r"
   },
   "outputs": [],
   "source": [
    "def clean_shipment_days(dataset):\n",
    "    \"\"\"Le saco los valores negativos\"\"\"\n",
    "    shipments_days = dataset['shipment_days']\n",
    "    mask = (shipments_days >= 0)\n",
    "    return dataset[mask]"
   ]
  },
  {
   "cell_type": "code",
   "execution_count": 4,
   "metadata": {
    "colab": {},
    "colab_type": "code",
    "id": "3b-stq_lUX0v"
   },
   "outputs": [],
   "source": [
    "dataset_clean = clean_shipment_days(dataset)"
   ]
  },
  {
   "cell_type": "markdown",
   "metadata": {
    "colab_type": "text",
    "id": "D9YxxoODUX00"
   },
   "source": [
    "**Datos duplicados**\n",
    "\n",
    "Como se observo en el práctico anterior nuestro conjunto de datos contaba con 6469 filas de información duplicada las cuales procederemos a eliminar a continuación. "
   ]
  },
  {
   "cell_type": "code",
   "execution_count": 5,
   "metadata": {
    "colab": {},
    "colab_type": "code",
    "id": "gPkqRtySUX01"
   },
   "outputs": [],
   "source": [
    "dataset_clean = dataset_clean.drop_duplicates()"
   ]
  },
  {
   "cell_type": "markdown",
   "metadata": {
    "colab_type": "text",
    "id": "qI7zHvo0UX04"
   },
   "source": [
    "**Fechas anómalas**\n",
    "\n",
    "En el análisis realizado en el práctico anterior de las 3 variables con información de fechas y horas encontramos que la variable date_created cuenta con valores que caen fuera del intervalo temporal considerado y que todos ellos se encuentran ubicados en el mes de Junio de 2019. Luego de haber realizado una inspección de esta información anómala llegamos a la conclusión que los mismos podrían deberse a un error en el proceso de carga y que en realidad son datos de Enero de 2019. \n",
    "\n",
    "Siguiendo esta idea decidimos en este momento subsanar este posible error de carga haciendo que la información de la variable date_created correspondiente al mes de Junio de 2019 sea ahora del mes de Enero de 2019."
   ]
  },
  {
   "cell_type": "code",
   "execution_count": 6,
   "metadata": {
    "colab": {
     "base_uri": "https://localhost:8080/",
     "height": 1000
    },
    "colab_type": "code",
    "executionInfo": {
     "elapsed": 6365,
     "status": "ok",
     "timestamp": 1563646508556,
     "user": {
      "displayName": "Johanna Frau",
      "photoUrl": "https://lh4.googleusercontent.com/-vsvj7_Spx5E/AAAAAAAAAAI/AAAAAAAAw80/hKdmIURaf-g/s64/photo.jpg",
      "userId": "12340570416827246133"
     },
     "user_tz": -120
    },
    "id": "kI_G2Ya_UX05",
    "outputId": "2122df40-68ab-4b6d-d4eb-c010013061dc"
   },
   "outputs": [],
   "source": [
    "date_created_junio = dataset_clean[dataset_clean['date_created'].map(lambda x: x.month) == 6]\n",
    "#date_created_junio"
   ]
  },
  {
   "cell_type": "code",
   "execution_count": 7,
   "metadata": {
    "colab": {},
    "colab_type": "code",
    "id": "y9tz1biUUX0_"
   },
   "outputs": [],
   "source": [
    "from datetime import timedelta\n",
    "\n",
    "date_created_junio = dataset_clean['date_created'].map(lambda x: x+timedelta(days=-151) if x.month==6 else x) \n",
    "date_created_junio\n",
    "dataset_clean['date_created'] = date_created_junio"
   ]
  },
  {
   "cell_type": "code",
   "execution_count": 8,
   "metadata": {
    "colab": {
     "base_uri": "https://localhost:8080/",
     "height": 33
    },
    "colab_type": "code",
    "executionInfo": {
     "elapsed": 8021,
     "status": "ok",
     "timestamp": 1563646510239,
     "user": {
      "displayName": "Johanna Frau",
      "photoUrl": "https://lh4.googleusercontent.com/-vsvj7_Spx5E/AAAAAAAAAAI/AAAAAAAAw80/hKdmIURaf-g/s64/photo.jpg",
      "userId": "12340570416827246133"
     },
     "user_tz": -120
    },
    "id": "4EdiA6TZUX1C",
    "outputId": "665022f1-a497-4eb5-853a-bea1dbcf5a50"
   },
   "outputs": [
    {
     "data": {
      "text/plain": [
       "array([ 3,  2,  1,  4, 12, 10, 11], dtype=int64)"
      ]
     },
     "execution_count": 8,
     "metadata": {},
     "output_type": "execute_result"
    }
   ],
   "source": [
    "dataset_clean['date_created'].dt.month.unique()"
   ]
  },
  {
   "cell_type": "code",
   "execution_count": 9,
   "metadata": {
    "colab": {
     "base_uri": "https://localhost:8080/",
     "height": 227
    },
    "colab_type": "code",
    "executionInfo": {
     "elapsed": 7993,
     "status": "ok",
     "timestamp": 1563646510241,
     "user": {
      "displayName": "Johanna Frau",
      "photoUrl": "https://lh4.googleusercontent.com/-vsvj7_Spx5E/AAAAAAAAAAI/AAAAAAAAw80/hKdmIURaf-g/s64/photo.jpg",
      "userId": "12340570416827246133"
     },
     "user_tz": -120
    },
    "id": "rq8xu8gYUX1F",
    "outputId": "4b9c64c9-67c0-42e1-e8ef-94d340a7c2c0"
   },
   "outputs": [
    {
     "data": {
      "text/html": [
       "<div>\n",
       "<style scoped>\n",
       "    .dataframe tbody tr th:only-of-type {\n",
       "        vertical-align: middle;\n",
       "    }\n",
       "\n",
       "    .dataframe tbody tr th {\n",
       "        vertical-align: top;\n",
       "    }\n",
       "\n",
       "    .dataframe thead th {\n",
       "        text-align: right;\n",
       "    }\n",
       "</style>\n",
       "<table border=\"1\" class=\"dataframe\">\n",
       "  <thead>\n",
       "    <tr style=\"text-align: right;\">\n",
       "      <th></th>\n",
       "      <th>date_created</th>\n",
       "      <th>date_sent</th>\n",
       "      <th>date_visit</th>\n",
       "    </tr>\n",
       "  </thead>\n",
       "  <tbody>\n",
       "    <tr>\n",
       "      <th>count</th>\n",
       "      <td>492881</td>\n",
       "      <td>492881</td>\n",
       "      <td>492881</td>\n",
       "    </tr>\n",
       "    <tr>\n",
       "      <th>unique</th>\n",
       "      <td>124</td>\n",
       "      <td>81276</td>\n",
       "      <td>55668</td>\n",
       "    </tr>\n",
       "    <tr>\n",
       "      <th>top</th>\n",
       "      <td>2019-03-05 00:00:00</td>\n",
       "      <td>2019-03-11 15:53:00</td>\n",
       "      <td>2019-03-11 22:00:00</td>\n",
       "    </tr>\n",
       "    <tr>\n",
       "      <th>freq</th>\n",
       "      <td>20169</td>\n",
       "      <td>112</td>\n",
       "      <td>607</td>\n",
       "    </tr>\n",
       "    <tr>\n",
       "      <th>first</th>\n",
       "      <td>2018-10-21 00:00:00</td>\n",
       "      <td>2018-10-23 13:57:00</td>\n",
       "      <td>2019-02-25 05:36:00</td>\n",
       "    </tr>\n",
       "    <tr>\n",
       "      <th>last</th>\n",
       "      <td>2019-04-29 00:00:00</td>\n",
       "      <td>2019-03-29 01:46:20</td>\n",
       "      <td>2019-04-02 15:35:00</td>\n",
       "    </tr>\n",
       "  </tbody>\n",
       "</table>\n",
       "</div>"
      ],
      "text/plain": [
       "               date_created            date_sent           date_visit\n",
       "count                492881               492881               492881\n",
       "unique                  124                81276                55668\n",
       "top     2019-03-05 00:00:00  2019-03-11 15:53:00  2019-03-11 22:00:00\n",
       "freq                  20169                  112                  607\n",
       "first   2018-10-21 00:00:00  2018-10-23 13:57:00  2019-02-25 05:36:00\n",
       "last    2019-04-29 00:00:00  2019-03-29 01:46:20  2019-04-02 15:35:00"
      ]
     },
     "execution_count": 9,
     "metadata": {},
     "output_type": "execute_result"
    }
   ],
   "source": [
    "dataset_clean.describe(include='datetime64')"
   ]
  },
  {
   "cell_type": "markdown",
   "metadata": {
    "colab_type": "text",
    "id": "iREKMj2mnqfu"
   },
   "source": [
    "### La importancia de predecir el valor de la variable shipment_days\n",
    "\n",
    "Uno de los objetivos principales del análisis propuesto en esta mentoría es predecir (dar un número aproximado de días hábiles) de cuanto va a tardar en llegar un envío desde que el cliente realiza la compra a través de la plataforma de Mercado Libre hasta que el paquete llega a su casa. Dicha predicción es importante porque es la que recibe el cliente y es la que determinará en una buena proporción la experiencia del usuario dentro la plataforma.\n",
    "\n",
    "Esto nos lleva a pensar que dicha predicción se parecerá a los valores de la variable shipment_days con, quizás, 1 o 2 días más de diferencia. Pues este último feature cuenta el intervalo de días entre date_sent y date_visit y nosotros necesitamos dar la aproximación a partir del momento de la compra. Por lo tanto este sería el target de un algoritmo de aprendizaje automático. Si bien este feature originalmente es información de tipo numérica en el práctico anterior utilizamos enconding para convertirla en una variable categórica. Así, esto nos da la posibilidad de trabajar con diferentes modelos de aprendizaje automático utilizando el mismo feature como target pero en sus diferentes versiones.\n",
    "\n",
    "Frente a este problema consideramos que el estado de Brasil que recibe el envío (receiver_state) es un feature importante a tener en cuenta (mientras más lejos esté de San Pablo probablemente demore más) y probablemente también el código postal de dicho estado (receiver_zipcode). Por otro lado, el tipo de correo (service) también puede ser una variable importante a tener en cuenta porque la calidad de servicio impactará directamente en los días que tarda en llegar el pedido.\n",
    "\n"
   ]
  },
  {
   "cell_type": "code",
   "execution_count": 34,
   "metadata": {
    "colab": {
     "base_uri": "https://localhost:8080/",
     "height": 300
    },
    "colab_type": "code",
    "executionInfo": {
     "elapsed": 8240,
     "status": "ok",
     "timestamp": 1563646510525,
     "user": {
      "displayName": "Johanna Frau",
      "photoUrl": "https://lh4.googleusercontent.com/-vsvj7_Spx5E/AAAAAAAAAAI/AAAAAAAAw80/hKdmIURaf-g/s64/photo.jpg",
      "userId": "12340570416827246133"
     },
     "user_tz": -120
    },
    "id": "J6-OY6tJUX1L",
    "outputId": "74cdd041-5c6f-498f-fe50-73f9a73ecb41"
   },
   "outputs": [
    {
     "name": "stdout",
     "output_type": "stream",
     "text": [
      "<class 'pandas.core.frame.DataFrame'>\n",
      "Int64Index: 492881 entries, 0 to 499999\n",
      "Data columns (total 12 columns):\n",
      "sender_state        492881 non-null object\n",
      "sender_zipcode      492881 non-null int64\n",
      "receiver_state      492881 non-null object\n",
      "receiver_zipcode    492881 non-null int64\n",
      "shipment_type       492881 non-null object\n",
      "quantity            492881 non-null int64\n",
      "service             492881 non-null int64\n",
      "status              492881 non-null object\n",
      "date_created        492881 non-null datetime64[ns]\n",
      "date_sent           492881 non-null datetime64[ns]\n",
      "date_visit          492881 non-null datetime64[ns]\n",
      "shipment_days       492881 non-null float64\n",
      "dtypes: datetime64[ns](3), float64(1), int64(4), object(4)\n",
      "memory usage: 48.9+ MB\n"
     ]
    }
   ],
   "source": [
    "#dataset_clean.info()"
   ]
  },
  {
   "cell_type": "markdown",
   "metadata": {
    "colab_type": "text",
    "id": "FJK7MY6OnycP"
   },
   "source": [
    "Luego de haber limpiado nuestro dataset observamos que contamos con 492881 filas con información, es decir la limpieza solo afectó al 1,42% de los datos originales.\n",
    "\n"
   ]
  },
  {
   "cell_type": "markdown",
   "metadata": {
    "colab_type": "text",
    "id": "YHPxM6cQesTL"
   },
   "source": [
    "### Conjunto de entrenamiento y validación\n",
    "\n",
    "Debido a la naturaleza de nuestro problema, la separación de los datos en un conjunto de entrenamiento y uno de validación no puede hacerse de manera aleatoria. \n",
    "\n",
    "Dado que para determinar (predecir) cuando llega un envío estamos teniendo en cuenta diferentes variables de tipo fecha-hora (las cuales al mismo tiempo tienen una cierta dependencia entre sí), la partición de nuestros datos debe hacerse en función de ellas. Particularmente, debemos entrenar nuestro modelo hasta una determinada fecha de la variable date_visit (la cual debe escogerse con algún criterio) y evaluar el mismo con  datos donde la variable date_created sea mayor que la variable date_visit elegida previamente.\n",
    "\n",
    "A continuación presentamos un pequeño análisis que nos ayudará a elegir la última fecha de date_visit con la cual entrenaremos nuestros datos.\n"
   ]
  },
  {
   "cell_type": "code",
   "execution_count": 10,
   "metadata": {},
   "outputs": [],
   "source": [
    "dataset_clean['date_created_only_date'] = dataset_clean['date_created'].dt.date"
   ]
  },
  {
   "cell_type": "code",
   "execution_count": 11,
   "metadata": {
    "colab": {},
    "colab_type": "code",
    "id": "RdeR87weelcS"
   },
   "outputs": [],
   "source": [
    "#creamos una nueva columna donde date_visit solo considera las fechas\n",
    "dataset_clean['date_visit_only_date'] = dataset_clean['date_visit'].dt.date"
   ]
  },
  {
   "cell_type": "markdown",
   "metadata": {
    "colab_type": "text",
    "id": "-OvJ4h2Kh7ZO"
   },
   "source": [
    "Según podemos observar en los cálculos de arriba la variable date_visit  abarca desde el 25-02-2019 al 02-04-2019.\n",
    "\n",
    "Veamos ahora como se distribuyen estos datos dentro de este intervalo temporal."
   ]
  },
  {
   "cell_type": "markdown",
   "metadata": {
    "colab_type": "text",
    "id": "YLyG6IjejKAS"
   },
   "source": [
    "Considerando que nuestro dataset cuenta en este momento con 492881 entradas, el 70% del mismo representa aproximadamente 345000 entradas. Así, de acuerdo a la distribución mostrada arriba si entrenamos nuestro modelo con datos de la variable date_visit hasta el 20 de marzo podriamos llegar a cubrir este porcentaje.\n",
    "\n",
    "Esto se muestra a continuación."
   ]
  },
  {
   "cell_type": "markdown",
   "metadata": {
    "colab_type": "text",
    "id": "e37aC47SlXS_"
   },
   "source": [
    "Finalmente con el filtro aplicado nuestro conjunto de entrenamiento cuenta con 345348 entradas."
   ]
  },
  {
   "cell_type": "code",
   "execution_count": 12,
   "metadata": {},
   "outputs": [],
   "source": [
    "#dataset_clean.reset_index(drop=True)\n",
    "mask1 = (dataset_clean['date_visit'].dt.month==2) | ((dataset_clean['date_visit'].dt.day<=20) & (dataset_clean['date_visit'].dt.month==3))\n",
    "mask2 = (dataset_clean['date_created'].dt.month==4) | ((dataset_clean['date_created'].dt.day>20) & (dataset_clean['date_created'].dt.month==3))"
   ]
  },
  {
   "cell_type": "code",
   "execution_count": 33,
   "metadata": {},
   "outputs": [
    {
     "name": "stderr",
     "output_type": "stream",
     "text": [
      "C:\\Users\\cintia.chaves\\AppData\\Local\\Continuum\\anaconda3\\envs\\diplodatos\\lib\\site-packages\\ipykernel_launcher.py:1: UserWarning: Boolean Series key will be reindexed to match DataFrame index.\n",
      "  \"\"\"Entry point for launching an IPython kernel.\n"
     ]
    },
    {
     "data": {
      "text/plain": [
       "Int64Index([], dtype='int64')"
      ]
     },
     "execution_count": 33,
     "metadata": {},
     "output_type": "execute_result"
    }
   ],
   "source": [
    "#dataset_clean[mask1&mask2].index"
   ]
  },
  {
   "cell_type": "code",
   "execution_count": 13,
   "metadata": {},
   "outputs": [],
   "source": [
    "dataset_clean.drop(dataset_clean[mask1&mask2].index, inplace = True)"
   ]
  },
  {
   "cell_type": "code",
   "execution_count": 15,
   "metadata": {},
   "outputs": [
    {
     "data": {
      "text/plain": [
       "(492849, 14)"
      ]
     },
     "execution_count": 15,
     "metadata": {},
     "output_type": "execute_result"
    }
   ],
   "source": [
    "#dataset_clean.shape"
   ]
  },
  {
   "cell_type": "code",
   "execution_count": 16,
   "metadata": {},
   "outputs": [
    {
     "data": {
      "text/html": [
       "<div>\n",
       "<style scoped>\n",
       "    .dataframe tbody tr th:only-of-type {\n",
       "        vertical-align: middle;\n",
       "    }\n",
       "\n",
       "    .dataframe tbody tr th {\n",
       "        vertical-align: top;\n",
       "    }\n",
       "\n",
       "    .dataframe thead th {\n",
       "        text-align: right;\n",
       "    }\n",
       "</style>\n",
       "<table border=\"1\" class=\"dataframe\">\n",
       "  <thead>\n",
       "    <tr style=\"text-align: right;\">\n",
       "      <th></th>\n",
       "      <th>sender_state</th>\n",
       "      <th>sender_zipcode</th>\n",
       "      <th>receiver_state</th>\n",
       "      <th>receiver_zipcode</th>\n",
       "      <th>shipment_type</th>\n",
       "      <th>quantity</th>\n",
       "      <th>service</th>\n",
       "      <th>status</th>\n",
       "      <th>date_created</th>\n",
       "      <th>date_sent</th>\n",
       "      <th>date_visit</th>\n",
       "      <th>shipment_days</th>\n",
       "      <th>date_created_only_date</th>\n",
       "      <th>date_visit_only_date</th>\n",
       "    </tr>\n",
       "  </thead>\n",
       "  <tbody>\n",
       "    <tr>\n",
       "      <th>0</th>\n",
       "      <td>SP</td>\n",
       "      <td>1039</td>\n",
       "      <td>SP</td>\n",
       "      <td>14500</td>\n",
       "      <td>standard</td>\n",
       "      <td>1</td>\n",
       "      <td>1</td>\n",
       "      <td>done</td>\n",
       "      <td>2019-03-10</td>\n",
       "      <td>2019-03-11 14:34:00</td>\n",
       "      <td>2019-03-18 09:52:00</td>\n",
       "      <td>5.0</td>\n",
       "      <td>2019-03-10</td>\n",
       "      <td>2019-03-18</td>\n",
       "    </tr>\n",
       "    <tr>\n",
       "      <th>1</th>\n",
       "      <td>SP</td>\n",
       "      <td>3004</td>\n",
       "      <td>PB</td>\n",
       "      <td>58670</td>\n",
       "      <td>standard</td>\n",
       "      <td>1</td>\n",
       "      <td>1</td>\n",
       "      <td>done</td>\n",
       "      <td>2019-03-08</td>\n",
       "      <td>2019-03-09 10:48:00</td>\n",
       "      <td>2019-03-18 15:16:00</td>\n",
       "      <td>5.0</td>\n",
       "      <td>2019-03-08</td>\n",
       "      <td>2019-03-18</td>\n",
       "    </tr>\n",
       "    <tr>\n",
       "      <th>2</th>\n",
       "      <td>SP</td>\n",
       "      <td>3262</td>\n",
       "      <td>RJ</td>\n",
       "      <td>22723</td>\n",
       "      <td>standard</td>\n",
       "      <td>1</td>\n",
       "      <td>2</td>\n",
       "      <td>done</td>\n",
       "      <td>2019-02-21</td>\n",
       "      <td>2019-02-23 02:02:16</td>\n",
       "      <td>2019-03-01 21:27:00</td>\n",
       "      <td>4.0</td>\n",
       "      <td>2019-02-21</td>\n",
       "      <td>2019-03-01</td>\n",
       "    </tr>\n",
       "    <tr>\n",
       "      <th>3</th>\n",
       "      <td>SP</td>\n",
       "      <td>12237</td>\n",
       "      <td>SP</td>\n",
       "      <td>18682</td>\n",
       "      <td>standard</td>\n",
       "      <td>1</td>\n",
       "      <td>2</td>\n",
       "      <td>done</td>\n",
       "      <td>2019-02-25</td>\n",
       "      <td>2019-02-28 03:05:36</td>\n",
       "      <td>2019-03-07 15:01:00</td>\n",
       "      <td>2.0</td>\n",
       "      <td>2019-02-25</td>\n",
       "      <td>2019-03-07</td>\n",
       "    </tr>\n",
       "    <tr>\n",
       "      <th>4</th>\n",
       "      <td>SP</td>\n",
       "      <td>9350</td>\n",
       "      <td>AP</td>\n",
       "      <td>68908</td>\n",
       "      <td>standard</td>\n",
       "      <td>1</td>\n",
       "      <td>1</td>\n",
       "      <td>done</td>\n",
       "      <td>2019-02-15</td>\n",
       "      <td>2019-02-15 11:28:00</td>\n",
       "      <td>2019-03-11 13:18:00</td>\n",
       "      <td>13.0</td>\n",
       "      <td>2019-02-15</td>\n",
       "      <td>2019-03-11</td>\n",
       "    </tr>\n",
       "  </tbody>\n",
       "</table>\n",
       "</div>"
      ],
      "text/plain": [
       "  sender_state  sender_zipcode receiver_state  receiver_zipcode shipment_type  \\\n",
       "0           SP            1039             SP             14500      standard   \n",
       "1           SP            3004             PB             58670      standard   \n",
       "2           SP            3262             RJ             22723      standard   \n",
       "3           SP           12237             SP             18682      standard   \n",
       "4           SP            9350             AP             68908      standard   \n",
       "\n",
       "   quantity  service status date_created           date_sent  \\\n",
       "0         1        1   done   2019-03-10 2019-03-11 14:34:00   \n",
       "1         1        1   done   2019-03-08 2019-03-09 10:48:00   \n",
       "2         1        2   done   2019-02-21 2019-02-23 02:02:16   \n",
       "3         1        2   done   2019-02-25 2019-02-28 03:05:36   \n",
       "4         1        1   done   2019-02-15 2019-02-15 11:28:00   \n",
       "\n",
       "           date_visit  shipment_days date_created_only_date  \\\n",
       "0 2019-03-18 09:52:00            5.0             2019-03-10   \n",
       "1 2019-03-18 15:16:00            5.0             2019-03-08   \n",
       "2 2019-03-01 21:27:00            4.0             2019-02-21   \n",
       "3 2019-03-07 15:01:00            2.0             2019-02-25   \n",
       "4 2019-03-11 13:18:00           13.0             2019-02-15   \n",
       "\n",
       "  date_visit_only_date  \n",
       "0           2019-03-18  \n",
       "1           2019-03-18  \n",
       "2           2019-03-01  \n",
       "3           2019-03-07  \n",
       "4           2019-03-11  "
      ]
     },
     "execution_count": 16,
     "metadata": {},
     "output_type": "execute_result"
    }
   ],
   "source": [
    "#dataset_clean.head()"
   ]
  },
  {
   "cell_type": "code",
   "execution_count": 163,
   "metadata": {},
   "outputs": [],
   "source": [
    "#dataset_clean.set_index(\"date_visit\", inplace=True)"
   ]
  },
  {
   "cell_type": "code",
   "execution_count": 180,
   "metadata": {},
   "outputs": [
    {
     "data": {
      "text/html": [
       "<div>\n",
       "<style scoped>\n",
       "    .dataframe tbody tr th:only-of-type {\n",
       "        vertical-align: middle;\n",
       "    }\n",
       "\n",
       "    .dataframe tbody tr th {\n",
       "        vertical-align: top;\n",
       "    }\n",
       "\n",
       "    .dataframe thead th {\n",
       "        text-align: right;\n",
       "    }\n",
       "</style>\n",
       "<table border=\"1\" class=\"dataframe\">\n",
       "  <thead>\n",
       "    <tr style=\"text-align: right;\">\n",
       "      <th></th>\n",
       "      <th>sender_state</th>\n",
       "      <th>sender_zipcode</th>\n",
       "      <th>receiver_state</th>\n",
       "      <th>receiver_zipcode</th>\n",
       "      <th>shipment_type</th>\n",
       "      <th>quantity</th>\n",
       "      <th>service</th>\n",
       "      <th>status</th>\n",
       "      <th>date_created</th>\n",
       "      <th>date_sent</th>\n",
       "      <th>date_visit</th>\n",
       "      <th>shipment_days</th>\n",
       "      <th>date_created_only_date</th>\n",
       "      <th>date_visit_only_date</th>\n",
       "    </tr>\n",
       "  </thead>\n",
       "  <tbody>\n",
       "    <tr>\n",
       "      <th>0</th>\n",
       "      <td>SP</td>\n",
       "      <td>1039</td>\n",
       "      <td>SP</td>\n",
       "      <td>14500</td>\n",
       "      <td>standard</td>\n",
       "      <td>1</td>\n",
       "      <td>1</td>\n",
       "      <td>done</td>\n",
       "      <td>2019-03-10</td>\n",
       "      <td>2019-03-11 14:34:00</td>\n",
       "      <td>2019-03-18 09:52:00</td>\n",
       "      <td>5.0</td>\n",
       "      <td>2019-03-10</td>\n",
       "      <td>2019-03-18</td>\n",
       "    </tr>\n",
       "    <tr>\n",
       "      <th>1</th>\n",
       "      <td>SP</td>\n",
       "      <td>3004</td>\n",
       "      <td>PB</td>\n",
       "      <td>58670</td>\n",
       "      <td>standard</td>\n",
       "      <td>1</td>\n",
       "      <td>1</td>\n",
       "      <td>done</td>\n",
       "      <td>2019-03-08</td>\n",
       "      <td>2019-03-09 10:48:00</td>\n",
       "      <td>2019-03-18 15:16:00</td>\n",
       "      <td>5.0</td>\n",
       "      <td>2019-03-08</td>\n",
       "      <td>2019-03-18</td>\n",
       "    </tr>\n",
       "    <tr>\n",
       "      <th>2</th>\n",
       "      <td>SP</td>\n",
       "      <td>3262</td>\n",
       "      <td>RJ</td>\n",
       "      <td>22723</td>\n",
       "      <td>standard</td>\n",
       "      <td>1</td>\n",
       "      <td>2</td>\n",
       "      <td>done</td>\n",
       "      <td>2019-02-21</td>\n",
       "      <td>2019-02-23 02:02:16</td>\n",
       "      <td>2019-03-01 21:27:00</td>\n",
       "      <td>4.0</td>\n",
       "      <td>2019-02-21</td>\n",
       "      <td>2019-03-01</td>\n",
       "    </tr>\n",
       "    <tr>\n",
       "      <th>3</th>\n",
       "      <td>SP</td>\n",
       "      <td>12237</td>\n",
       "      <td>SP</td>\n",
       "      <td>18682</td>\n",
       "      <td>standard</td>\n",
       "      <td>1</td>\n",
       "      <td>2</td>\n",
       "      <td>done</td>\n",
       "      <td>2019-02-25</td>\n",
       "      <td>2019-02-28 03:05:36</td>\n",
       "      <td>2019-03-07 15:01:00</td>\n",
       "      <td>2.0</td>\n",
       "      <td>2019-02-25</td>\n",
       "      <td>2019-03-07</td>\n",
       "    </tr>\n",
       "    <tr>\n",
       "      <th>4</th>\n",
       "      <td>SP</td>\n",
       "      <td>9350</td>\n",
       "      <td>AP</td>\n",
       "      <td>68908</td>\n",
       "      <td>standard</td>\n",
       "      <td>1</td>\n",
       "      <td>1</td>\n",
       "      <td>done</td>\n",
       "      <td>2019-02-15</td>\n",
       "      <td>2019-02-15 11:28:00</td>\n",
       "      <td>2019-03-11 13:18:00</td>\n",
       "      <td>13.0</td>\n",
       "      <td>2019-02-15</td>\n",
       "      <td>2019-03-11</td>\n",
       "    </tr>\n",
       "  </tbody>\n",
       "</table>\n",
       "</div>"
      ],
      "text/plain": [
       "  sender_state  sender_zipcode receiver_state  receiver_zipcode shipment_type  \\\n",
       "0           SP            1039             SP             14500      standard   \n",
       "1           SP            3004             PB             58670      standard   \n",
       "2           SP            3262             RJ             22723      standard   \n",
       "3           SP           12237             SP             18682      standard   \n",
       "4           SP            9350             AP             68908      standard   \n",
       "\n",
       "   quantity  service status date_created           date_sent  \\\n",
       "0         1        1   done   2019-03-10 2019-03-11 14:34:00   \n",
       "1         1        1   done   2019-03-08 2019-03-09 10:48:00   \n",
       "2         1        2   done   2019-02-21 2019-02-23 02:02:16   \n",
       "3         1        2   done   2019-02-25 2019-02-28 03:05:36   \n",
       "4         1        1   done   2019-02-15 2019-02-15 11:28:00   \n",
       "\n",
       "           date_visit  shipment_days date_created_only_date  \\\n",
       "0 2019-03-18 09:52:00            5.0             2019-03-10   \n",
       "1 2019-03-18 15:16:00            5.0             2019-03-08   \n",
       "2 2019-03-01 21:27:00            4.0             2019-02-21   \n",
       "3 2019-03-07 15:01:00            2.0             2019-02-25   \n",
       "4 2019-03-11 13:18:00           13.0             2019-02-15   \n",
       "\n",
       "  date_visit_only_date  \n",
       "0           2019-03-18  \n",
       "1           2019-03-18  \n",
       "2           2019-03-01  \n",
       "3           2019-03-07  \n",
       "4           2019-03-11  "
      ]
     },
     "execution_count": 180,
     "metadata": {},
     "output_type": "execute_result"
    }
   ],
   "source": [
    "#dataset_clean.head()"
   ]
  },
  {
   "cell_type": "code",
   "execution_count": 14,
   "metadata": {},
   "outputs": [],
   "source": [
    "df_train = dataset_clean.loc[((dataset_clean[\"date_visit\"].dt.month==3) & (dataset_clean['date_visit'].dt.day<=20)) | (dataset_clean[\"date_visit\"].dt.month==2)]"
   ]
  },
  {
   "cell_type": "code",
   "execution_count": 15,
   "metadata": {},
   "outputs": [],
   "source": [
    "X_train = df_train[['receiver_zipcode','service']]"
   ]
  },
  {
   "cell_type": "code",
   "execution_count": 16,
   "metadata": {},
   "outputs": [],
   "source": [
    "y_train = df_train[['shipment_days']]"
   ]
  },
  {
   "cell_type": "code",
   "execution_count": 17,
   "metadata": {},
   "outputs": [],
   "source": [
    "df_test = dataset_clean.loc[(dataset_clean['date_created'].dt.month==4) | ((dataset_clean['date_created'].dt.day>20) & (dataset_clean['date_created'].dt.month==3))]"
   ]
  },
  {
   "cell_type": "code",
   "execution_count": 18,
   "metadata": {},
   "outputs": [],
   "source": [
    "X_test = df_test[['receiver_zipcode','service']]"
   ]
  },
  {
   "cell_type": "code",
   "execution_count": 22,
   "metadata": {},
   "outputs": [
    {
     "data": {
      "text/plain": [
       "array([[5.],\n",
       "       [5.],\n",
       "       [4.],\n",
       "       ...,\n",
       "       [2.],\n",
       "       [0.],\n",
       "       [9.]])"
      ]
     },
     "execution_count": 22,
     "metadata": {},
     "output_type": "execute_result"
    }
   ],
   "source": [
    "y_train.values"
   ]
  },
  {
   "cell_type": "code",
   "execution_count": 19,
   "metadata": {},
   "outputs": [],
   "source": [
    "y_test = df_test[['shipment_days']]"
   ]
  },
  {
   "cell_type": "code",
   "execution_count": 24,
   "metadata": {},
   "outputs": [
    {
     "data": {
      "text/plain": [
       "(492849, 14)"
      ]
     },
     "execution_count": 24,
     "metadata": {},
     "output_type": "execute_result"
    }
   ],
   "source": [
    "#dataset_clean.shape"
   ]
  },
  {
   "cell_type": "code",
   "execution_count": 205,
   "metadata": {},
   "outputs": [
    {
     "data": {
      "text/html": [
       "<div>\n",
       "<style scoped>\n",
       "    .dataframe tbody tr th:only-of-type {\n",
       "        vertical-align: middle;\n",
       "    }\n",
       "\n",
       "    .dataframe tbody tr th {\n",
       "        vertical-align: top;\n",
       "    }\n",
       "\n",
       "    .dataframe thead th {\n",
       "        text-align: right;\n",
       "    }\n",
       "</style>\n",
       "<table border=\"1\" class=\"dataframe\">\n",
       "  <thead>\n",
       "    <tr style=\"text-align: right;\">\n",
       "      <th></th>\n",
       "      <th>sender_state</th>\n",
       "      <th>sender_zipcode</th>\n",
       "      <th>receiver_state</th>\n",
       "      <th>receiver_zipcode</th>\n",
       "      <th>shipment_type</th>\n",
       "      <th>quantity</th>\n",
       "      <th>service</th>\n",
       "      <th>status</th>\n",
       "      <th>date_created</th>\n",
       "      <th>date_sent</th>\n",
       "      <th>date_visit</th>\n",
       "      <th>shipment_days</th>\n",
       "      <th>date_created_only_date</th>\n",
       "      <th>date_visit_only_date</th>\n",
       "    </tr>\n",
       "  </thead>\n",
       "  <tbody>\n",
       "    <tr>\n",
       "      <th>0</th>\n",
       "      <td>SP</td>\n",
       "      <td>1039</td>\n",
       "      <td>SP</td>\n",
       "      <td>14500</td>\n",
       "      <td>standard</td>\n",
       "      <td>1</td>\n",
       "      <td>1</td>\n",
       "      <td>done</td>\n",
       "      <td>2019-03-10</td>\n",
       "      <td>2019-03-11 14:34:00</td>\n",
       "      <td>2019-03-18 09:52:00</td>\n",
       "      <td>5.0</td>\n",
       "      <td>2019-03-10</td>\n",
       "      <td>2019-03-18</td>\n",
       "    </tr>\n",
       "    <tr>\n",
       "      <th>1</th>\n",
       "      <td>SP</td>\n",
       "      <td>3004</td>\n",
       "      <td>PB</td>\n",
       "      <td>58670</td>\n",
       "      <td>standard</td>\n",
       "      <td>1</td>\n",
       "      <td>1</td>\n",
       "      <td>done</td>\n",
       "      <td>2019-03-08</td>\n",
       "      <td>2019-03-09 10:48:00</td>\n",
       "      <td>2019-03-18 15:16:00</td>\n",
       "      <td>5.0</td>\n",
       "      <td>2019-03-08</td>\n",
       "      <td>2019-03-18</td>\n",
       "    </tr>\n",
       "    <tr>\n",
       "      <th>2</th>\n",
       "      <td>SP</td>\n",
       "      <td>3262</td>\n",
       "      <td>RJ</td>\n",
       "      <td>22723</td>\n",
       "      <td>standard</td>\n",
       "      <td>1</td>\n",
       "      <td>2</td>\n",
       "      <td>done</td>\n",
       "      <td>2019-02-21</td>\n",
       "      <td>2019-02-23 02:02:16</td>\n",
       "      <td>2019-03-01 21:27:00</td>\n",
       "      <td>4.0</td>\n",
       "      <td>2019-02-21</td>\n",
       "      <td>2019-03-01</td>\n",
       "    </tr>\n",
       "    <tr>\n",
       "      <th>3</th>\n",
       "      <td>SP</td>\n",
       "      <td>12237</td>\n",
       "      <td>SP</td>\n",
       "      <td>18682</td>\n",
       "      <td>standard</td>\n",
       "      <td>1</td>\n",
       "      <td>2</td>\n",
       "      <td>done</td>\n",
       "      <td>2019-02-25</td>\n",
       "      <td>2019-02-28 03:05:36</td>\n",
       "      <td>2019-03-07 15:01:00</td>\n",
       "      <td>2.0</td>\n",
       "      <td>2019-02-25</td>\n",
       "      <td>2019-03-07</td>\n",
       "    </tr>\n",
       "    <tr>\n",
       "      <th>4</th>\n",
       "      <td>SP</td>\n",
       "      <td>9350</td>\n",
       "      <td>AP</td>\n",
       "      <td>68908</td>\n",
       "      <td>standard</td>\n",
       "      <td>1</td>\n",
       "      <td>1</td>\n",
       "      <td>done</td>\n",
       "      <td>2019-02-15</td>\n",
       "      <td>2019-02-15 11:28:00</td>\n",
       "      <td>2019-03-11 13:18:00</td>\n",
       "      <td>13.0</td>\n",
       "      <td>2019-02-15</td>\n",
       "      <td>2019-03-11</td>\n",
       "    </tr>\n",
       "  </tbody>\n",
       "</table>\n",
       "</div>"
      ],
      "text/plain": [
       "  sender_state  sender_zipcode receiver_state  receiver_zipcode shipment_type  \\\n",
       "0           SP            1039             SP             14500      standard   \n",
       "1           SP            3004             PB             58670      standard   \n",
       "2           SP            3262             RJ             22723      standard   \n",
       "3           SP           12237             SP             18682      standard   \n",
       "4           SP            9350             AP             68908      standard   \n",
       "\n",
       "   quantity  service status date_created           date_sent  \\\n",
       "0         1        1   done   2019-03-10 2019-03-11 14:34:00   \n",
       "1         1        1   done   2019-03-08 2019-03-09 10:48:00   \n",
       "2         1        2   done   2019-02-21 2019-02-23 02:02:16   \n",
       "3         1        2   done   2019-02-25 2019-02-28 03:05:36   \n",
       "4         1        1   done   2019-02-15 2019-02-15 11:28:00   \n",
       "\n",
       "           date_visit  shipment_days date_created_only_date  \\\n",
       "0 2019-03-18 09:52:00            5.0             2019-03-10   \n",
       "1 2019-03-18 15:16:00            5.0             2019-03-08   \n",
       "2 2019-03-01 21:27:00            4.0             2019-02-21   \n",
       "3 2019-03-07 15:01:00            2.0             2019-02-25   \n",
       "4 2019-03-11 13:18:00           13.0             2019-02-15   \n",
       "\n",
       "  date_visit_only_date  \n",
       "0           2019-03-18  \n",
       "1           2019-03-18  \n",
       "2           2019-03-01  \n",
       "3           2019-03-07  \n",
       "4           2019-03-11  "
      ]
     },
     "execution_count": 205,
     "metadata": {},
     "output_type": "execute_result"
    }
   ],
   "source": [
    "#dataset_clean.head()"
   ]
  },
  {
   "cell_type": "code",
   "execution_count": 201,
   "metadata": {},
   "outputs": [
    {
     "data": {
      "text/plain": [
       "Index(['sender_state', 'sender_zipcode', 'receiver_state', 'receiver_zipcode',\n",
       "       'shipment_type', 'quantity', 'service', 'status', 'date_created',\n",
       "       'date_sent', 'date_visit', 'shipment_days', 'date_created_only_date',\n",
       "       'date_visit_only_date'],\n",
       "      dtype='object')"
      ]
     },
     "execution_count": 201,
     "metadata": {},
     "output_type": "execute_result"
    }
   ],
   "source": [
    "dataset_clean.columns"
   ]
  },
  {
   "cell_type": "code",
   "execution_count": 235,
   "metadata": {},
   "outputs": [
    {
     "data": {
      "text/html": [
       "<div>\n",
       "<style scoped>\n",
       "    .dataframe tbody tr th:only-of-type {\n",
       "        vertical-align: middle;\n",
       "    }\n",
       "\n",
       "    .dataframe tbody tr th {\n",
       "        vertical-align: top;\n",
       "    }\n",
       "\n",
       "    .dataframe thead th {\n",
       "        text-align: right;\n",
       "    }\n",
       "</style>\n",
       "<table border=\"1\" class=\"dataframe\">\n",
       "  <thead>\n",
       "    <tr style=\"text-align: right;\">\n",
       "      <th></th>\n",
       "      <th>sender_state</th>\n",
       "      <th>sender_zipcode</th>\n",
       "      <th>receiver_state</th>\n",
       "      <th>receiver_zipcode</th>\n",
       "      <th>shipment_type</th>\n",
       "      <th>quantity</th>\n",
       "      <th>service</th>\n",
       "      <th>status</th>\n",
       "      <th>date_created</th>\n",
       "      <th>date_sent</th>\n",
       "      <th>date_visit</th>\n",
       "      <th>date_created_only_date</th>\n",
       "      <th>date_visit_only_date</th>\n",
       "    </tr>\n",
       "  </thead>\n",
       "  <tbody>\n",
       "    <tr>\n",
       "      <th>0</th>\n",
       "      <td>SP</td>\n",
       "      <td>1039</td>\n",
       "      <td>SP</td>\n",
       "      <td>14500</td>\n",
       "      <td>standard</td>\n",
       "      <td>1</td>\n",
       "      <td>1</td>\n",
       "      <td>done</td>\n",
       "      <td>2019-03-10</td>\n",
       "      <td>2019-03-11 14:34:00</td>\n",
       "      <td>2019-03-18 09:52:00</td>\n",
       "      <td>2019-03-10</td>\n",
       "      <td>2019-03-18</td>\n",
       "    </tr>\n",
       "    <tr>\n",
       "      <th>1</th>\n",
       "      <td>SP</td>\n",
       "      <td>3004</td>\n",
       "      <td>PB</td>\n",
       "      <td>58670</td>\n",
       "      <td>standard</td>\n",
       "      <td>1</td>\n",
       "      <td>1</td>\n",
       "      <td>done</td>\n",
       "      <td>2019-03-08</td>\n",
       "      <td>2019-03-09 10:48:00</td>\n",
       "      <td>2019-03-18 15:16:00</td>\n",
       "      <td>2019-03-08</td>\n",
       "      <td>2019-03-18</td>\n",
       "    </tr>\n",
       "    <tr>\n",
       "      <th>2</th>\n",
       "      <td>SP</td>\n",
       "      <td>3262</td>\n",
       "      <td>RJ</td>\n",
       "      <td>22723</td>\n",
       "      <td>standard</td>\n",
       "      <td>1</td>\n",
       "      <td>2</td>\n",
       "      <td>done</td>\n",
       "      <td>2019-02-21</td>\n",
       "      <td>2019-02-23 02:02:16</td>\n",
       "      <td>2019-03-01 21:27:00</td>\n",
       "      <td>2019-02-21</td>\n",
       "      <td>2019-03-01</td>\n",
       "    </tr>\n",
       "    <tr>\n",
       "      <th>3</th>\n",
       "      <td>SP</td>\n",
       "      <td>12237</td>\n",
       "      <td>SP</td>\n",
       "      <td>18682</td>\n",
       "      <td>standard</td>\n",
       "      <td>1</td>\n",
       "      <td>2</td>\n",
       "      <td>done</td>\n",
       "      <td>2019-02-25</td>\n",
       "      <td>2019-02-28 03:05:36</td>\n",
       "      <td>2019-03-07 15:01:00</td>\n",
       "      <td>2019-02-25</td>\n",
       "      <td>2019-03-07</td>\n",
       "    </tr>\n",
       "    <tr>\n",
       "      <th>4</th>\n",
       "      <td>SP</td>\n",
       "      <td>9350</td>\n",
       "      <td>AP</td>\n",
       "      <td>68908</td>\n",
       "      <td>standard</td>\n",
       "      <td>1</td>\n",
       "      <td>1</td>\n",
       "      <td>done</td>\n",
       "      <td>2019-02-15</td>\n",
       "      <td>2019-02-15 11:28:00</td>\n",
       "      <td>2019-03-11 13:18:00</td>\n",
       "      <td>2019-02-15</td>\n",
       "      <td>2019-03-11</td>\n",
       "    </tr>\n",
       "  </tbody>\n",
       "</table>\n",
       "</div>"
      ],
      "text/plain": [
       "  sender_state  sender_zipcode receiver_state  receiver_zipcode shipment_type  \\\n",
       "0           SP            1039             SP             14500      standard   \n",
       "1           SP            3004             PB             58670      standard   \n",
       "2           SP            3262             RJ             22723      standard   \n",
       "3           SP           12237             SP             18682      standard   \n",
       "4           SP            9350             AP             68908      standard   \n",
       "\n",
       "   quantity  service status date_created           date_sent  \\\n",
       "0         1        1   done   2019-03-10 2019-03-11 14:34:00   \n",
       "1         1        1   done   2019-03-08 2019-03-09 10:48:00   \n",
       "2         1        2   done   2019-02-21 2019-02-23 02:02:16   \n",
       "3         1        2   done   2019-02-25 2019-02-28 03:05:36   \n",
       "4         1        1   done   2019-02-15 2019-02-15 11:28:00   \n",
       "\n",
       "           date_visit date_created_only_date date_visit_only_date  \n",
       "0 2019-03-18 09:52:00             2019-03-10           2019-03-18  \n",
       "1 2019-03-18 15:16:00             2019-03-08           2019-03-18  \n",
       "2 2019-03-01 21:27:00             2019-02-21           2019-03-01  \n",
       "3 2019-03-07 15:01:00             2019-02-25           2019-03-07  \n",
       "4 2019-03-11 13:18:00             2019-02-15           2019-03-11  "
      ]
     },
     "execution_count": 235,
     "metadata": {},
     "output_type": "execute_result"
    }
   ],
   "source": [
    "X_train.head()"
   ]
  },
  {
   "cell_type": "code",
   "execution_count": 238,
   "metadata": {},
   "outputs": [
    {
     "data": {
      "text/html": [
       "<div>\n",
       "<style scoped>\n",
       "    .dataframe tbody tr th:only-of-type {\n",
       "        vertical-align: middle;\n",
       "    }\n",
       "\n",
       "    .dataframe tbody tr th {\n",
       "        vertical-align: top;\n",
       "    }\n",
       "\n",
       "    .dataframe thead th {\n",
       "        text-align: right;\n",
       "    }\n",
       "</style>\n",
       "<table border=\"1\" class=\"dataframe\">\n",
       "  <thead>\n",
       "    <tr style=\"text-align: right;\">\n",
       "      <th></th>\n",
       "      <th>sender_state</th>\n",
       "      <th>sender_zipcode</th>\n",
       "      <th>receiver_state</th>\n",
       "      <th>receiver_zipcode</th>\n",
       "      <th>shipment_type</th>\n",
       "      <th>quantity</th>\n",
       "      <th>service</th>\n",
       "      <th>status</th>\n",
       "      <th>date_created</th>\n",
       "      <th>date_sent</th>\n",
       "      <th>date_visit</th>\n",
       "      <th>date_created_only_date</th>\n",
       "      <th>date_visit_only_date</th>\n",
       "    </tr>\n",
       "  </thead>\n",
       "  <tbody>\n",
       "    <tr>\n",
       "      <th>12</th>\n",
       "      <td>SP</td>\n",
       "      <td>13304</td>\n",
       "      <td>SP</td>\n",
       "      <td>15991</td>\n",
       "      <td>express</td>\n",
       "      <td>1</td>\n",
       "      <td>0</td>\n",
       "      <td>done</td>\n",
       "      <td>2019-03-25</td>\n",
       "      <td>2019-03-27 11:33:00</td>\n",
       "      <td>2019-03-28 14:43:00</td>\n",
       "      <td>2019-03-25</td>\n",
       "      <td>2019-03-28</td>\n",
       "    </tr>\n",
       "    <tr>\n",
       "      <th>14</th>\n",
       "      <td>SP</td>\n",
       "      <td>13290</td>\n",
       "      <td>DF</td>\n",
       "      <td>70719</td>\n",
       "      <td>super</td>\n",
       "      <td>1</td>\n",
       "      <td>6</td>\n",
       "      <td>done</td>\n",
       "      <td>2019-03-22</td>\n",
       "      <td>2019-03-23 05:44:16</td>\n",
       "      <td>2019-03-25 11:11:49</td>\n",
       "      <td>2019-03-22</td>\n",
       "      <td>2019-03-25</td>\n",
       "    </tr>\n",
       "    <tr>\n",
       "      <th>29</th>\n",
       "      <td>SP</td>\n",
       "      <td>1213</td>\n",
       "      <td>RS</td>\n",
       "      <td>92310</td>\n",
       "      <td>express</td>\n",
       "      <td>1</td>\n",
       "      <td>0</td>\n",
       "      <td>done</td>\n",
       "      <td>2019-03-23</td>\n",
       "      <td>2019-03-25 16:05:00</td>\n",
       "      <td>2019-03-28 15:47:00</td>\n",
       "      <td>2019-03-23</td>\n",
       "      <td>2019-03-28</td>\n",
       "    </tr>\n",
       "    <tr>\n",
       "      <th>51</th>\n",
       "      <td>SP</td>\n",
       "      <td>3570</td>\n",
       "      <td>SP</td>\n",
       "      <td>7600</td>\n",
       "      <td>express</td>\n",
       "      <td>1</td>\n",
       "      <td>0</td>\n",
       "      <td>done</td>\n",
       "      <td>2019-03-23</td>\n",
       "      <td>2019-03-25 14:33:00</td>\n",
       "      <td>2019-03-27 15:42:00</td>\n",
       "      <td>2019-03-23</td>\n",
       "      <td>2019-03-27</td>\n",
       "    </tr>\n",
       "    <tr>\n",
       "      <th>53</th>\n",
       "      <td>SP</td>\n",
       "      <td>1023</td>\n",
       "      <td>SP</td>\n",
       "      <td>3422</td>\n",
       "      <td>super</td>\n",
       "      <td>1</td>\n",
       "      <td>5</td>\n",
       "      <td>done</td>\n",
       "      <td>2019-03-24</td>\n",
       "      <td>2019-03-25 18:14:17</td>\n",
       "      <td>2019-03-26 08:11:29</td>\n",
       "      <td>2019-03-24</td>\n",
       "      <td>2019-03-26</td>\n",
       "    </tr>\n",
       "    <tr>\n",
       "      <th>57</th>\n",
       "      <td>SP</td>\n",
       "      <td>11050</td>\n",
       "      <td>SP</td>\n",
       "      <td>9080</td>\n",
       "      <td>express</td>\n",
       "      <td>1</td>\n",
       "      <td>0</td>\n",
       "      <td>done</td>\n",
       "      <td>2019-03-22</td>\n",
       "      <td>2019-03-22 15:37:00</td>\n",
       "      <td>2019-03-25 15:29:00</td>\n",
       "      <td>2019-03-22</td>\n",
       "      <td>2019-03-25</td>\n",
       "    </tr>\n",
       "    <tr>\n",
       "      <th>91</th>\n",
       "      <td>SP</td>\n",
       "      <td>8735</td>\n",
       "      <td>SP</td>\n",
       "      <td>2245</td>\n",
       "      <td>express</td>\n",
       "      <td>1</td>\n",
       "      <td>4</td>\n",
       "      <td>done</td>\n",
       "      <td>2019-03-24</td>\n",
       "      <td>2019-03-25 20:37:36</td>\n",
       "      <td>2019-03-29 00:23:00</td>\n",
       "      <td>2019-03-24</td>\n",
       "      <td>2019-03-29</td>\n",
       "    </tr>\n",
       "    <tr>\n",
       "      <th>97</th>\n",
       "      <td>SP</td>\n",
       "      <td>2942</td>\n",
       "      <td>SP</td>\n",
       "      <td>15350</td>\n",
       "      <td>express</td>\n",
       "      <td>2</td>\n",
       "      <td>0</td>\n",
       "      <td>done</td>\n",
       "      <td>2019-03-26</td>\n",
       "      <td>2019-03-27 16:16:00</td>\n",
       "      <td>2019-03-28 12:24:00</td>\n",
       "      <td>2019-03-26</td>\n",
       "      <td>2019-03-28</td>\n",
       "    </tr>\n",
       "    <tr>\n",
       "      <th>109</th>\n",
       "      <td>SP</td>\n",
       "      <td>13901</td>\n",
       "      <td>RJ</td>\n",
       "      <td>22795</td>\n",
       "      <td>express</td>\n",
       "      <td>1</td>\n",
       "      <td>4</td>\n",
       "      <td>done</td>\n",
       "      <td>2019-03-24</td>\n",
       "      <td>2019-03-25 22:08:11</td>\n",
       "      <td>2019-03-28 12:24:00</td>\n",
       "      <td>2019-03-24</td>\n",
       "      <td>2019-03-28</td>\n",
       "    </tr>\n",
       "    <tr>\n",
       "      <th>119</th>\n",
       "      <td>SP</td>\n",
       "      <td>12940</td>\n",
       "      <td>SP</td>\n",
       "      <td>4063</td>\n",
       "      <td>express</td>\n",
       "      <td>1</td>\n",
       "      <td>0</td>\n",
       "      <td>done</td>\n",
       "      <td>2019-03-27</td>\n",
       "      <td>2019-03-27 15:51:00</td>\n",
       "      <td>2019-03-28 14:12:00</td>\n",
       "      <td>2019-03-27</td>\n",
       "      <td>2019-03-28</td>\n",
       "    </tr>\n",
       "    <tr>\n",
       "      <th>120</th>\n",
       "      <td>SP</td>\n",
       "      <td>16300</td>\n",
       "      <td>SP</td>\n",
       "      <td>15440</td>\n",
       "      <td>express</td>\n",
       "      <td>1</td>\n",
       "      <td>0</td>\n",
       "      <td>done</td>\n",
       "      <td>2019-03-22</td>\n",
       "      <td>2019-03-22 10:36:00</td>\n",
       "      <td>2019-03-25 13:42:00</td>\n",
       "      <td>2019-03-22</td>\n",
       "      <td>2019-03-25</td>\n",
       "    </tr>\n",
       "    <tr>\n",
       "      <th>121</th>\n",
       "      <td>SP</td>\n",
       "      <td>13290</td>\n",
       "      <td>SP</td>\n",
       "      <td>1422</td>\n",
       "      <td>super</td>\n",
       "      <td>1</td>\n",
       "      <td>6</td>\n",
       "      <td>done</td>\n",
       "      <td>2019-03-21</td>\n",
       "      <td>2019-03-21 16:32:29</td>\n",
       "      <td>2019-03-22 07:43:13</td>\n",
       "      <td>2019-03-21</td>\n",
       "      <td>2019-03-22</td>\n",
       "    </tr>\n",
       "    <tr>\n",
       "      <th>169</th>\n",
       "      <td>SP</td>\n",
       "      <td>13290</td>\n",
       "      <td>MG</td>\n",
       "      <td>30190</td>\n",
       "      <td>super</td>\n",
       "      <td>1</td>\n",
       "      <td>6</td>\n",
       "      <td>done</td>\n",
       "      <td>2019-03-27</td>\n",
       "      <td>2019-03-27 13:08:28</td>\n",
       "      <td>2019-03-28 15:48:31</td>\n",
       "      <td>2019-03-27</td>\n",
       "      <td>2019-03-28</td>\n",
       "    </tr>\n",
       "    <tr>\n",
       "      <th>171</th>\n",
       "      <td>SP</td>\n",
       "      <td>1140</td>\n",
       "      <td>SP</td>\n",
       "      <td>5526</td>\n",
       "      <td>express</td>\n",
       "      <td>1</td>\n",
       "      <td>5</td>\n",
       "      <td>done</td>\n",
       "      <td>2019-03-21</td>\n",
       "      <td>2019-03-26 06:07:25</td>\n",
       "      <td>2019-03-26 12:12:23</td>\n",
       "      <td>2019-03-21</td>\n",
       "      <td>2019-03-26</td>\n",
       "    </tr>\n",
       "    <tr>\n",
       "      <th>182</th>\n",
       "      <td>SP</td>\n",
       "      <td>16050</td>\n",
       "      <td>SP</td>\n",
       "      <td>17900</td>\n",
       "      <td>standard</td>\n",
       "      <td>1</td>\n",
       "      <td>1</td>\n",
       "      <td>done</td>\n",
       "      <td>2019-03-26</td>\n",
       "      <td>2019-03-26 16:20:00</td>\n",
       "      <td>2019-03-27 17:13:00</td>\n",
       "      <td>2019-03-26</td>\n",
       "      <td>2019-03-27</td>\n",
       "    </tr>\n",
       "    <tr>\n",
       "      <th>189</th>\n",
       "      <td>SP</td>\n",
       "      <td>1506</td>\n",
       "      <td>SP</td>\n",
       "      <td>11090</td>\n",
       "      <td>express</td>\n",
       "      <td>1</td>\n",
       "      <td>0</td>\n",
       "      <td>done</td>\n",
       "      <td>2019-03-22</td>\n",
       "      <td>2019-03-25 15:53:00</td>\n",
       "      <td>2019-03-26 14:58:00</td>\n",
       "      <td>2019-03-22</td>\n",
       "      <td>2019-03-26</td>\n",
       "    </tr>\n",
       "    <tr>\n",
       "      <th>199</th>\n",
       "      <td>SP</td>\n",
       "      <td>7175</td>\n",
       "      <td>MG</td>\n",
       "      <td>32450</td>\n",
       "      <td>standard</td>\n",
       "      <td>2</td>\n",
       "      <td>1</td>\n",
       "      <td>done</td>\n",
       "      <td>2019-03-22</td>\n",
       "      <td>2019-03-22 14:33:00</td>\n",
       "      <td>2019-03-25 14:17:00</td>\n",
       "      <td>2019-03-22</td>\n",
       "      <td>2019-03-25</td>\n",
       "    </tr>\n",
       "    <tr>\n",
       "      <th>212</th>\n",
       "      <td>SP</td>\n",
       "      <td>3223</td>\n",
       "      <td>SP</td>\n",
       "      <td>4216</td>\n",
       "      <td>express</td>\n",
       "      <td>1</td>\n",
       "      <td>0</td>\n",
       "      <td>done</td>\n",
       "      <td>2019-03-24</td>\n",
       "      <td>2019-03-26 13:35:00</td>\n",
       "      <td>2019-03-27 17:10:00</td>\n",
       "      <td>2019-03-24</td>\n",
       "      <td>2019-03-27</td>\n",
       "    </tr>\n",
       "    <tr>\n",
       "      <th>223</th>\n",
       "      <td>SP</td>\n",
       "      <td>13290</td>\n",
       "      <td>RS</td>\n",
       "      <td>97300</td>\n",
       "      <td>express</td>\n",
       "      <td>4</td>\n",
       "      <td>6</td>\n",
       "      <td>done</td>\n",
       "      <td>2019-03-22</td>\n",
       "      <td>2019-03-22 16:55:06</td>\n",
       "      <td>2019-03-26 16:31:09</td>\n",
       "      <td>2019-03-22</td>\n",
       "      <td>2019-03-26</td>\n",
       "    </tr>\n",
       "    <tr>\n",
       "      <th>229</th>\n",
       "      <td>SP</td>\n",
       "      <td>3003</td>\n",
       "      <td>SP</td>\n",
       "      <td>3822</td>\n",
       "      <td>express</td>\n",
       "      <td>1</td>\n",
       "      <td>0</td>\n",
       "      <td>done</td>\n",
       "      <td>2019-03-25</td>\n",
       "      <td>2019-03-25 13:42:00</td>\n",
       "      <td>2019-03-26 11:36:00</td>\n",
       "      <td>2019-03-25</td>\n",
       "      <td>2019-03-26</td>\n",
       "    </tr>\n",
       "    <tr>\n",
       "      <th>232</th>\n",
       "      <td>SP</td>\n",
       "      <td>9090</td>\n",
       "      <td>SP</td>\n",
       "      <td>16057</td>\n",
       "      <td>express</td>\n",
       "      <td>1</td>\n",
       "      <td>0</td>\n",
       "      <td>done</td>\n",
       "      <td>2019-03-26</td>\n",
       "      <td>2019-03-26 16:46:00</td>\n",
       "      <td>2019-03-27 16:42:00</td>\n",
       "      <td>2019-03-26</td>\n",
       "      <td>2019-03-27</td>\n",
       "    </tr>\n",
       "    <tr>\n",
       "      <th>250</th>\n",
       "      <td>SP</td>\n",
       "      <td>2510</td>\n",
       "      <td>SP</td>\n",
       "      <td>9130</td>\n",
       "      <td>express</td>\n",
       "      <td>1</td>\n",
       "      <td>5</td>\n",
       "      <td>done</td>\n",
       "      <td>2019-03-26</td>\n",
       "      <td>2019-03-27 20:02:54</td>\n",
       "      <td>2019-03-28 10:25:47</td>\n",
       "      <td>2019-03-26</td>\n",
       "      <td>2019-03-28</td>\n",
       "    </tr>\n",
       "    <tr>\n",
       "      <th>252</th>\n",
       "      <td>SP</td>\n",
       "      <td>8412</td>\n",
       "      <td>MG</td>\n",
       "      <td>36520</td>\n",
       "      <td>express</td>\n",
       "      <td>1</td>\n",
       "      <td>0</td>\n",
       "      <td>done</td>\n",
       "      <td>2019-03-21</td>\n",
       "      <td>2019-03-21 15:42:00</td>\n",
       "      <td>2019-03-25 13:46:00</td>\n",
       "      <td>2019-03-21</td>\n",
       "      <td>2019-03-25</td>\n",
       "    </tr>\n",
       "    <tr>\n",
       "      <th>253</th>\n",
       "      <td>SP</td>\n",
       "      <td>1209</td>\n",
       "      <td>SC</td>\n",
       "      <td>88160</td>\n",
       "      <td>express</td>\n",
       "      <td>3</td>\n",
       "      <td>0</td>\n",
       "      <td>done</td>\n",
       "      <td>2019-03-25</td>\n",
       "      <td>2019-03-26 15:36:00</td>\n",
       "      <td>2019-03-28 16:27:00</td>\n",
       "      <td>2019-03-25</td>\n",
       "      <td>2019-03-28</td>\n",
       "    </tr>\n",
       "    <tr>\n",
       "      <th>260</th>\n",
       "      <td>SP</td>\n",
       "      <td>4047</td>\n",
       "      <td>SP</td>\n",
       "      <td>6434</td>\n",
       "      <td>express</td>\n",
       "      <td>1</td>\n",
       "      <td>0</td>\n",
       "      <td>done</td>\n",
       "      <td>2019-03-21</td>\n",
       "      <td>2019-03-21 12:29:00</td>\n",
       "      <td>2019-03-22 11:42:00</td>\n",
       "      <td>2019-03-21</td>\n",
       "      <td>2019-03-22</td>\n",
       "    </tr>\n",
       "    <tr>\n",
       "      <th>261</th>\n",
       "      <td>SP</td>\n",
       "      <td>6422</td>\n",
       "      <td>SP</td>\n",
       "      <td>9180</td>\n",
       "      <td>express</td>\n",
       "      <td>2</td>\n",
       "      <td>8</td>\n",
       "      <td>done</td>\n",
       "      <td>2019-03-26</td>\n",
       "      <td>2019-03-27 21:32:13</td>\n",
       "      <td>2019-03-28 09:43:09</td>\n",
       "      <td>2019-03-26</td>\n",
       "      <td>2019-03-28</td>\n",
       "    </tr>\n",
       "    <tr>\n",
       "      <th>295</th>\n",
       "      <td>SP</td>\n",
       "      <td>2112</td>\n",
       "      <td>SP</td>\n",
       "      <td>18603</td>\n",
       "      <td>standard</td>\n",
       "      <td>1</td>\n",
       "      <td>1</td>\n",
       "      <td>done</td>\n",
       "      <td>2019-03-21</td>\n",
       "      <td>2019-03-25 11:45:00</td>\n",
       "      <td>2019-03-27 09:59:00</td>\n",
       "      <td>2019-03-21</td>\n",
       "      <td>2019-03-27</td>\n",
       "    </tr>\n",
       "    <tr>\n",
       "      <th>298</th>\n",
       "      <td>SP</td>\n",
       "      <td>2180</td>\n",
       "      <td>SP</td>\n",
       "      <td>1229</td>\n",
       "      <td>express</td>\n",
       "      <td>1</td>\n",
       "      <td>5</td>\n",
       "      <td>done</td>\n",
       "      <td>2019-03-25</td>\n",
       "      <td>2019-03-27 21:24:44</td>\n",
       "      <td>2019-03-28 08:57:50</td>\n",
       "      <td>2019-03-25</td>\n",
       "      <td>2019-03-28</td>\n",
       "    </tr>\n",
       "    <tr>\n",
       "      <th>299</th>\n",
       "      <td>SP</td>\n",
       "      <td>3520</td>\n",
       "      <td>PR</td>\n",
       "      <td>81310</td>\n",
       "      <td>express</td>\n",
       "      <td>1</td>\n",
       "      <td>0</td>\n",
       "      <td>done</td>\n",
       "      <td>2019-03-23</td>\n",
       "      <td>2019-03-25 08:09:00</td>\n",
       "      <td>2019-03-27 15:30:00</td>\n",
       "      <td>2019-03-23</td>\n",
       "      <td>2019-03-27</td>\n",
       "    </tr>\n",
       "    <tr>\n",
       "      <th>309</th>\n",
       "      <td>SP</td>\n",
       "      <td>3156</td>\n",
       "      <td>SP</td>\n",
       "      <td>18960</td>\n",
       "      <td>express</td>\n",
       "      <td>2</td>\n",
       "      <td>3</td>\n",
       "      <td>done</td>\n",
       "      <td>2019-03-22</td>\n",
       "      <td>2019-03-26 13:15:58</td>\n",
       "      <td>2019-03-28 12:00:00</td>\n",
       "      <td>2019-03-22</td>\n",
       "      <td>2019-03-28</td>\n",
       "    </tr>\n",
       "    <tr>\n",
       "      <th>...</th>\n",
       "      <td>...</td>\n",
       "      <td>...</td>\n",
       "      <td>...</td>\n",
       "      <td>...</td>\n",
       "      <td>...</td>\n",
       "      <td>...</td>\n",
       "      <td>...</td>\n",
       "      <td>...</td>\n",
       "      <td>...</td>\n",
       "      <td>...</td>\n",
       "      <td>...</td>\n",
       "      <td>...</td>\n",
       "      <td>...</td>\n",
       "    </tr>\n",
       "    <tr>\n",
       "      <th>499623</th>\n",
       "      <td>SP</td>\n",
       "      <td>15025</td>\n",
       "      <td>SP</td>\n",
       "      <td>15802</td>\n",
       "      <td>express</td>\n",
       "      <td>5</td>\n",
       "      <td>0</td>\n",
       "      <td>done</td>\n",
       "      <td>2019-03-21</td>\n",
       "      <td>2019-03-22 16:06:00</td>\n",
       "      <td>2019-03-26 13:08:00</td>\n",
       "      <td>2019-03-21</td>\n",
       "      <td>2019-03-26</td>\n",
       "    </tr>\n",
       "    <tr>\n",
       "      <th>499646</th>\n",
       "      <td>SP</td>\n",
       "      <td>8740</td>\n",
       "      <td>DF</td>\n",
       "      <td>72305</td>\n",
       "      <td>express</td>\n",
       "      <td>1</td>\n",
       "      <td>0</td>\n",
       "      <td>done</td>\n",
       "      <td>2019-03-22</td>\n",
       "      <td>2019-03-22 16:49:00</td>\n",
       "      <td>2019-03-26 14:27:00</td>\n",
       "      <td>2019-03-22</td>\n",
       "      <td>2019-03-26</td>\n",
       "    </tr>\n",
       "    <tr>\n",
       "      <th>499660</th>\n",
       "      <td>SP</td>\n",
       "      <td>9666</td>\n",
       "      <td>SP</td>\n",
       "      <td>17340</td>\n",
       "      <td>express</td>\n",
       "      <td>1</td>\n",
       "      <td>4</td>\n",
       "      <td>done</td>\n",
       "      <td>2019-03-25</td>\n",
       "      <td>2019-03-27 15:07:41</td>\n",
       "      <td>2019-03-29 17:55:00</td>\n",
       "      <td>2019-03-25</td>\n",
       "      <td>2019-03-29</td>\n",
       "    </tr>\n",
       "    <tr>\n",
       "      <th>499663</th>\n",
       "      <td>SP</td>\n",
       "      <td>3009</td>\n",
       "      <td>SP</td>\n",
       "      <td>3101</td>\n",
       "      <td>express</td>\n",
       "      <td>3</td>\n",
       "      <td>0</td>\n",
       "      <td>done</td>\n",
       "      <td>2019-03-21</td>\n",
       "      <td>2019-03-22 11:14:00</td>\n",
       "      <td>2019-03-25 15:24:00</td>\n",
       "      <td>2019-03-21</td>\n",
       "      <td>2019-03-25</td>\n",
       "    </tr>\n",
       "    <tr>\n",
       "      <th>499672</th>\n",
       "      <td>SP</td>\n",
       "      <td>1015</td>\n",
       "      <td>SP</td>\n",
       "      <td>4561</td>\n",
       "      <td>super</td>\n",
       "      <td>1</td>\n",
       "      <td>5</td>\n",
       "      <td>done</td>\n",
       "      <td>2019-03-24</td>\n",
       "      <td>2019-03-25 19:18:09</td>\n",
       "      <td>2019-03-26 08:20:18</td>\n",
       "      <td>2019-03-24</td>\n",
       "      <td>2019-03-26</td>\n",
       "    </tr>\n",
       "    <tr>\n",
       "      <th>499675</th>\n",
       "      <td>SP</td>\n",
       "      <td>5735</td>\n",
       "      <td>SP</td>\n",
       "      <td>4109</td>\n",
       "      <td>express</td>\n",
       "      <td>2</td>\n",
       "      <td>5</td>\n",
       "      <td>done</td>\n",
       "      <td>2019-03-22</td>\n",
       "      <td>2019-03-25 20:36:42</td>\n",
       "      <td>2019-03-26 12:08:39</td>\n",
       "      <td>2019-03-22</td>\n",
       "      <td>2019-03-26</td>\n",
       "    </tr>\n",
       "    <tr>\n",
       "      <th>499677</th>\n",
       "      <td>SP</td>\n",
       "      <td>1015</td>\n",
       "      <td>SP</td>\n",
       "      <td>11410</td>\n",
       "      <td>express</td>\n",
       "      <td>1</td>\n",
       "      <td>0</td>\n",
       "      <td>done</td>\n",
       "      <td>2019-03-23</td>\n",
       "      <td>2019-03-25 14:11:00</td>\n",
       "      <td>2019-03-26 11:50:00</td>\n",
       "      <td>2019-03-23</td>\n",
       "      <td>2019-03-26</td>\n",
       "    </tr>\n",
       "    <tr>\n",
       "      <th>499678</th>\n",
       "      <td>SP</td>\n",
       "      <td>4948</td>\n",
       "      <td>SP</td>\n",
       "      <td>13484</td>\n",
       "      <td>express</td>\n",
       "      <td>1</td>\n",
       "      <td>0</td>\n",
       "      <td>done</td>\n",
       "      <td>2019-03-21</td>\n",
       "      <td>2019-03-22 12:08:00</td>\n",
       "      <td>2019-03-25 10:17:00</td>\n",
       "      <td>2019-03-21</td>\n",
       "      <td>2019-03-25</td>\n",
       "    </tr>\n",
       "    <tr>\n",
       "      <th>499703</th>\n",
       "      <td>SP</td>\n",
       "      <td>12120</td>\n",
       "      <td>SP</td>\n",
       "      <td>11085</td>\n",
       "      <td>standard</td>\n",
       "      <td>1</td>\n",
       "      <td>1</td>\n",
       "      <td>done</td>\n",
       "      <td>2019-03-21</td>\n",
       "      <td>2019-03-22 15:25:00</td>\n",
       "      <td>2019-03-28 17:35:00</td>\n",
       "      <td>2019-03-21</td>\n",
       "      <td>2019-03-28</td>\n",
       "    </tr>\n",
       "    <tr>\n",
       "      <th>499715</th>\n",
       "      <td>SP</td>\n",
       "      <td>13290</td>\n",
       "      <td>RJ</td>\n",
       "      <td>23580</td>\n",
       "      <td>super</td>\n",
       "      <td>1</td>\n",
       "      <td>6</td>\n",
       "      <td>done</td>\n",
       "      <td>2019-03-24</td>\n",
       "      <td>2019-03-25 11:51:07</td>\n",
       "      <td>2019-03-26 14:30:02</td>\n",
       "      <td>2019-03-24</td>\n",
       "      <td>2019-03-26</td>\n",
       "    </tr>\n",
       "    <tr>\n",
       "      <th>499719</th>\n",
       "      <td>SP</td>\n",
       "      <td>5783</td>\n",
       "      <td>SC</td>\n",
       "      <td>89208</td>\n",
       "      <td>express</td>\n",
       "      <td>2</td>\n",
       "      <td>0</td>\n",
       "      <td>done</td>\n",
       "      <td>2019-03-21</td>\n",
       "      <td>2019-03-22 09:25:00</td>\n",
       "      <td>2019-03-26 15:17:00</td>\n",
       "      <td>2019-03-21</td>\n",
       "      <td>2019-03-26</td>\n",
       "    </tr>\n",
       "    <tr>\n",
       "      <th>499746</th>\n",
       "      <td>SP</td>\n",
       "      <td>12942</td>\n",
       "      <td>SP</td>\n",
       "      <td>4330</td>\n",
       "      <td>express</td>\n",
       "      <td>2</td>\n",
       "      <td>4</td>\n",
       "      <td>done</td>\n",
       "      <td>2019-03-23</td>\n",
       "      <td>2019-03-26 03:14:47</td>\n",
       "      <td>2019-03-27 16:07:00</td>\n",
       "      <td>2019-03-23</td>\n",
       "      <td>2019-03-27</td>\n",
       "    </tr>\n",
       "    <tr>\n",
       "      <th>499758</th>\n",
       "      <td>SP</td>\n",
       "      <td>1540</td>\n",
       "      <td>SP</td>\n",
       "      <td>12919</td>\n",
       "      <td>express</td>\n",
       "      <td>2</td>\n",
       "      <td>2</td>\n",
       "      <td>done</td>\n",
       "      <td>2019-03-22</td>\n",
       "      <td>2019-03-26 14:54:58</td>\n",
       "      <td>2019-03-27 16:44:00</td>\n",
       "      <td>2019-03-22</td>\n",
       "      <td>2019-03-27</td>\n",
       "    </tr>\n",
       "    <tr>\n",
       "      <th>499776</th>\n",
       "      <td>SP</td>\n",
       "      <td>9521</td>\n",
       "      <td>PR</td>\n",
       "      <td>80810</td>\n",
       "      <td>standard</td>\n",
       "      <td>1</td>\n",
       "      <td>2</td>\n",
       "      <td>done</td>\n",
       "      <td>2019-03-25</td>\n",
       "      <td>2019-03-26 14:52:02</td>\n",
       "      <td>2019-03-28 14:39:00</td>\n",
       "      <td>2019-03-25</td>\n",
       "      <td>2019-03-28</td>\n",
       "    </tr>\n",
       "    <tr>\n",
       "      <th>499784</th>\n",
       "      <td>SP</td>\n",
       "      <td>7152</td>\n",
       "      <td>SP</td>\n",
       "      <td>13844</td>\n",
       "      <td>express</td>\n",
       "      <td>2</td>\n",
       "      <td>0</td>\n",
       "      <td>done</td>\n",
       "      <td>2019-03-24</td>\n",
       "      <td>2019-03-25 09:52:00</td>\n",
       "      <td>2019-03-27 16:30:00</td>\n",
       "      <td>2019-03-24</td>\n",
       "      <td>2019-03-27</td>\n",
       "    </tr>\n",
       "    <tr>\n",
       "      <th>499788</th>\n",
       "      <td>SP</td>\n",
       "      <td>4846</td>\n",
       "      <td>DF</td>\n",
       "      <td>70767</td>\n",
       "      <td>express</td>\n",
       "      <td>1</td>\n",
       "      <td>0</td>\n",
       "      <td>done</td>\n",
       "      <td>2019-03-22</td>\n",
       "      <td>2019-03-25 14:10:00</td>\n",
       "      <td>2019-03-26 16:58:00</td>\n",
       "      <td>2019-03-22</td>\n",
       "      <td>2019-03-26</td>\n",
       "    </tr>\n",
       "    <tr>\n",
       "      <th>499812</th>\n",
       "      <td>SP</td>\n",
       "      <td>2138</td>\n",
       "      <td>SP</td>\n",
       "      <td>6097</td>\n",
       "      <td>express</td>\n",
       "      <td>1</td>\n",
       "      <td>0</td>\n",
       "      <td>done</td>\n",
       "      <td>2019-03-22</td>\n",
       "      <td>2019-03-22 15:20:00</td>\n",
       "      <td>2019-03-25 17:55:00</td>\n",
       "      <td>2019-03-22</td>\n",
       "      <td>2019-03-25</td>\n",
       "    </tr>\n",
       "    <tr>\n",
       "      <th>499856</th>\n",
       "      <td>SP</td>\n",
       "      <td>3613</td>\n",
       "      <td>SP</td>\n",
       "      <td>18060</td>\n",
       "      <td>express</td>\n",
       "      <td>1</td>\n",
       "      <td>0</td>\n",
       "      <td>done</td>\n",
       "      <td>2019-03-25</td>\n",
       "      <td>2019-03-25 15:08:00</td>\n",
       "      <td>2019-03-27 12:20:00</td>\n",
       "      <td>2019-03-25</td>\n",
       "      <td>2019-03-27</td>\n",
       "    </tr>\n",
       "    <tr>\n",
       "      <th>499875</th>\n",
       "      <td>SP</td>\n",
       "      <td>2431</td>\n",
       "      <td>SP</td>\n",
       "      <td>1316</td>\n",
       "      <td>express</td>\n",
       "      <td>1</td>\n",
       "      <td>0</td>\n",
       "      <td>done</td>\n",
       "      <td>2019-03-24</td>\n",
       "      <td>2019-03-26 15:01:00</td>\n",
       "      <td>2019-03-28 19:17:00</td>\n",
       "      <td>2019-03-24</td>\n",
       "      <td>2019-03-28</td>\n",
       "    </tr>\n",
       "    <tr>\n",
       "      <th>499892</th>\n",
       "      <td>SP</td>\n",
       "      <td>13054</td>\n",
       "      <td>SP</td>\n",
       "      <td>5623</td>\n",
       "      <td>express</td>\n",
       "      <td>2</td>\n",
       "      <td>0</td>\n",
       "      <td>done</td>\n",
       "      <td>2019-03-23</td>\n",
       "      <td>2019-03-25 16:32:00</td>\n",
       "      <td>2019-03-26 16:19:00</td>\n",
       "      <td>2019-03-23</td>\n",
       "      <td>2019-03-26</td>\n",
       "    </tr>\n",
       "    <tr>\n",
       "      <th>499900</th>\n",
       "      <td>SP</td>\n",
       "      <td>13484</td>\n",
       "      <td>ES</td>\n",
       "      <td>29164</td>\n",
       "      <td>express</td>\n",
       "      <td>1</td>\n",
       "      <td>0</td>\n",
       "      <td>done</td>\n",
       "      <td>2019-03-21</td>\n",
       "      <td>2019-03-25 17:08:00</td>\n",
       "      <td>2019-03-27 17:36:00</td>\n",
       "      <td>2019-03-21</td>\n",
       "      <td>2019-03-27</td>\n",
       "    </tr>\n",
       "    <tr>\n",
       "      <th>499915</th>\n",
       "      <td>SP</td>\n",
       "      <td>5105</td>\n",
       "      <td>SP</td>\n",
       "      <td>15014</td>\n",
       "      <td>standard</td>\n",
       "      <td>1</td>\n",
       "      <td>4</td>\n",
       "      <td>done</td>\n",
       "      <td>2019-03-21</td>\n",
       "      <td>2019-03-22 02:46:35</td>\n",
       "      <td>2019-03-26 12:51:00</td>\n",
       "      <td>2019-03-21</td>\n",
       "      <td>2019-03-26</td>\n",
       "    </tr>\n",
       "    <tr>\n",
       "      <th>499924</th>\n",
       "      <td>SP</td>\n",
       "      <td>13277</td>\n",
       "      <td>DF</td>\n",
       "      <td>71675</td>\n",
       "      <td>express</td>\n",
       "      <td>2</td>\n",
       "      <td>9</td>\n",
       "      <td>done</td>\n",
       "      <td>2019-03-21</td>\n",
       "      <td>2019-03-26 04:57:13</td>\n",
       "      <td>2019-03-28 13:52:00</td>\n",
       "      <td>2019-03-21</td>\n",
       "      <td>2019-03-28</td>\n",
       "    </tr>\n",
       "    <tr>\n",
       "      <th>499929</th>\n",
       "      <td>SP</td>\n",
       "      <td>4342</td>\n",
       "      <td>SP</td>\n",
       "      <td>5776</td>\n",
       "      <td>express</td>\n",
       "      <td>1</td>\n",
       "      <td>8</td>\n",
       "      <td>done</td>\n",
       "      <td>2019-03-22</td>\n",
       "      <td>2019-03-26 19:57:07</td>\n",
       "      <td>2019-03-27 17:05:36</td>\n",
       "      <td>2019-03-22</td>\n",
       "      <td>2019-03-27</td>\n",
       "    </tr>\n",
       "    <tr>\n",
       "      <th>499945</th>\n",
       "      <td>SP</td>\n",
       "      <td>1543</td>\n",
       "      <td>MG</td>\n",
       "      <td>35900</td>\n",
       "      <td>express</td>\n",
       "      <td>1</td>\n",
       "      <td>0</td>\n",
       "      <td>done</td>\n",
       "      <td>2019-03-25</td>\n",
       "      <td>2019-03-26 17:05:00</td>\n",
       "      <td>2019-03-28 11:25:00</td>\n",
       "      <td>2019-03-25</td>\n",
       "      <td>2019-03-28</td>\n",
       "    </tr>\n",
       "    <tr>\n",
       "      <th>499946</th>\n",
       "      <td>SP</td>\n",
       "      <td>4905</td>\n",
       "      <td>MG</td>\n",
       "      <td>36031</td>\n",
       "      <td>express</td>\n",
       "      <td>1</td>\n",
       "      <td>0</td>\n",
       "      <td>done</td>\n",
       "      <td>2019-03-21</td>\n",
       "      <td>2019-03-22 09:00:00</td>\n",
       "      <td>2019-03-27 15:08:00</td>\n",
       "      <td>2019-03-21</td>\n",
       "      <td>2019-03-27</td>\n",
       "    </tr>\n",
       "    <tr>\n",
       "      <th>499959</th>\n",
       "      <td>SP</td>\n",
       "      <td>4045</td>\n",
       "      <td>MG</td>\n",
       "      <td>37701</td>\n",
       "      <td>express</td>\n",
       "      <td>1</td>\n",
       "      <td>0</td>\n",
       "      <td>done</td>\n",
       "      <td>2019-03-22</td>\n",
       "      <td>2019-03-22 14:40:00</td>\n",
       "      <td>2019-03-26 14:40:00</td>\n",
       "      <td>2019-03-22</td>\n",
       "      <td>2019-03-26</td>\n",
       "    </tr>\n",
       "    <tr>\n",
       "      <th>499968</th>\n",
       "      <td>SP</td>\n",
       "      <td>5105</td>\n",
       "      <td>RS</td>\n",
       "      <td>95560</td>\n",
       "      <td>standard</td>\n",
       "      <td>1</td>\n",
       "      <td>2</td>\n",
       "      <td>done</td>\n",
       "      <td>2019-03-21</td>\n",
       "      <td>2019-03-25 15:26:24</td>\n",
       "      <td>2019-03-28 11:54:00</td>\n",
       "      <td>2019-03-21</td>\n",
       "      <td>2019-03-28</td>\n",
       "    </tr>\n",
       "    <tr>\n",
       "      <th>499976</th>\n",
       "      <td>SP</td>\n",
       "      <td>14409</td>\n",
       "      <td>SP</td>\n",
       "      <td>14080</td>\n",
       "      <td>express</td>\n",
       "      <td>3</td>\n",
       "      <td>0</td>\n",
       "      <td>done</td>\n",
       "      <td>2019-03-23</td>\n",
       "      <td>2019-03-25 08:34:00</td>\n",
       "      <td>2019-03-26 16:29:00</td>\n",
       "      <td>2019-03-23</td>\n",
       "      <td>2019-03-26</td>\n",
       "    </tr>\n",
       "    <tr>\n",
       "      <th>499995</th>\n",
       "      <td>SP</td>\n",
       "      <td>13213</td>\n",
       "      <td>RJ</td>\n",
       "      <td>22640</td>\n",
       "      <td>standard</td>\n",
       "      <td>1</td>\n",
       "      <td>4</td>\n",
       "      <td>done</td>\n",
       "      <td>2019-03-22</td>\n",
       "      <td>2019-03-26 13:54:06</td>\n",
       "      <td>2019-03-28 21:20:00</td>\n",
       "      <td>2019-03-22</td>\n",
       "      <td>2019-03-28</td>\n",
       "    </tr>\n",
       "  </tbody>\n",
       "</table>\n",
       "<p>32007 rows × 13 columns</p>\n",
       "</div>"
      ],
      "text/plain": [
       "       sender_state  sender_zipcode receiver_state  receiver_zipcode  \\\n",
       "12               SP           13304             SP             15991   \n",
       "14               SP           13290             DF             70719   \n",
       "29               SP            1213             RS             92310   \n",
       "51               SP            3570             SP              7600   \n",
       "53               SP            1023             SP              3422   \n",
       "57               SP           11050             SP              9080   \n",
       "91               SP            8735             SP              2245   \n",
       "97               SP            2942             SP             15350   \n",
       "109              SP           13901             RJ             22795   \n",
       "119              SP           12940             SP              4063   \n",
       "120              SP           16300             SP             15440   \n",
       "121              SP           13290             SP              1422   \n",
       "169              SP           13290             MG             30190   \n",
       "171              SP            1140             SP              5526   \n",
       "182              SP           16050             SP             17900   \n",
       "189              SP            1506             SP             11090   \n",
       "199              SP            7175             MG             32450   \n",
       "212              SP            3223             SP              4216   \n",
       "223              SP           13290             RS             97300   \n",
       "229              SP            3003             SP              3822   \n",
       "232              SP            9090             SP             16057   \n",
       "250              SP            2510             SP              9130   \n",
       "252              SP            8412             MG             36520   \n",
       "253              SP            1209             SC             88160   \n",
       "260              SP            4047             SP              6434   \n",
       "261              SP            6422             SP              9180   \n",
       "295              SP            2112             SP             18603   \n",
       "298              SP            2180             SP              1229   \n",
       "299              SP            3520             PR             81310   \n",
       "309              SP            3156             SP             18960   \n",
       "...             ...             ...            ...               ...   \n",
       "499623           SP           15025             SP             15802   \n",
       "499646           SP            8740             DF             72305   \n",
       "499660           SP            9666             SP             17340   \n",
       "499663           SP            3009             SP              3101   \n",
       "499672           SP            1015             SP              4561   \n",
       "499675           SP            5735             SP              4109   \n",
       "499677           SP            1015             SP             11410   \n",
       "499678           SP            4948             SP             13484   \n",
       "499703           SP           12120             SP             11085   \n",
       "499715           SP           13290             RJ             23580   \n",
       "499719           SP            5783             SC             89208   \n",
       "499746           SP           12942             SP              4330   \n",
       "499758           SP            1540             SP             12919   \n",
       "499776           SP            9521             PR             80810   \n",
       "499784           SP            7152             SP             13844   \n",
       "499788           SP            4846             DF             70767   \n",
       "499812           SP            2138             SP              6097   \n",
       "499856           SP            3613             SP             18060   \n",
       "499875           SP            2431             SP              1316   \n",
       "499892           SP           13054             SP              5623   \n",
       "499900           SP           13484             ES             29164   \n",
       "499915           SP            5105             SP             15014   \n",
       "499924           SP           13277             DF             71675   \n",
       "499929           SP            4342             SP              5776   \n",
       "499945           SP            1543             MG             35900   \n",
       "499946           SP            4905             MG             36031   \n",
       "499959           SP            4045             MG             37701   \n",
       "499968           SP            5105             RS             95560   \n",
       "499976           SP           14409             SP             14080   \n",
       "499995           SP           13213             RJ             22640   \n",
       "\n",
       "       shipment_type  quantity  service status date_created  \\\n",
       "12           express         1        0   done   2019-03-25   \n",
       "14             super         1        6   done   2019-03-22   \n",
       "29           express         1        0   done   2019-03-23   \n",
       "51           express         1        0   done   2019-03-23   \n",
       "53             super         1        5   done   2019-03-24   \n",
       "57           express         1        0   done   2019-03-22   \n",
       "91           express         1        4   done   2019-03-24   \n",
       "97           express         2        0   done   2019-03-26   \n",
       "109          express         1        4   done   2019-03-24   \n",
       "119          express         1        0   done   2019-03-27   \n",
       "120          express         1        0   done   2019-03-22   \n",
       "121            super         1        6   done   2019-03-21   \n",
       "169            super         1        6   done   2019-03-27   \n",
       "171          express         1        5   done   2019-03-21   \n",
       "182         standard         1        1   done   2019-03-26   \n",
       "189          express         1        0   done   2019-03-22   \n",
       "199         standard         2        1   done   2019-03-22   \n",
       "212          express         1        0   done   2019-03-24   \n",
       "223          express         4        6   done   2019-03-22   \n",
       "229          express         1        0   done   2019-03-25   \n",
       "232          express         1        0   done   2019-03-26   \n",
       "250          express         1        5   done   2019-03-26   \n",
       "252          express         1        0   done   2019-03-21   \n",
       "253          express         3        0   done   2019-03-25   \n",
       "260          express         1        0   done   2019-03-21   \n",
       "261          express         2        8   done   2019-03-26   \n",
       "295         standard         1        1   done   2019-03-21   \n",
       "298          express         1        5   done   2019-03-25   \n",
       "299          express         1        0   done   2019-03-23   \n",
       "309          express         2        3   done   2019-03-22   \n",
       "...              ...       ...      ...    ...          ...   \n",
       "499623       express         5        0   done   2019-03-21   \n",
       "499646       express         1        0   done   2019-03-22   \n",
       "499660       express         1        4   done   2019-03-25   \n",
       "499663       express         3        0   done   2019-03-21   \n",
       "499672         super         1        5   done   2019-03-24   \n",
       "499675       express         2        5   done   2019-03-22   \n",
       "499677       express         1        0   done   2019-03-23   \n",
       "499678       express         1        0   done   2019-03-21   \n",
       "499703      standard         1        1   done   2019-03-21   \n",
       "499715         super         1        6   done   2019-03-24   \n",
       "499719       express         2        0   done   2019-03-21   \n",
       "499746       express         2        4   done   2019-03-23   \n",
       "499758       express         2        2   done   2019-03-22   \n",
       "499776      standard         1        2   done   2019-03-25   \n",
       "499784       express         2        0   done   2019-03-24   \n",
       "499788       express         1        0   done   2019-03-22   \n",
       "499812       express         1        0   done   2019-03-22   \n",
       "499856       express         1        0   done   2019-03-25   \n",
       "499875       express         1        0   done   2019-03-24   \n",
       "499892       express         2        0   done   2019-03-23   \n",
       "499900       express         1        0   done   2019-03-21   \n",
       "499915      standard         1        4   done   2019-03-21   \n",
       "499924       express         2        9   done   2019-03-21   \n",
       "499929       express         1        8   done   2019-03-22   \n",
       "499945       express         1        0   done   2019-03-25   \n",
       "499946       express         1        0   done   2019-03-21   \n",
       "499959       express         1        0   done   2019-03-22   \n",
       "499968      standard         1        2   done   2019-03-21   \n",
       "499976       express         3        0   done   2019-03-23   \n",
       "499995      standard         1        4   done   2019-03-22   \n",
       "\n",
       "                 date_sent          date_visit date_created_only_date  \\\n",
       "12     2019-03-27 11:33:00 2019-03-28 14:43:00             2019-03-25   \n",
       "14     2019-03-23 05:44:16 2019-03-25 11:11:49             2019-03-22   \n",
       "29     2019-03-25 16:05:00 2019-03-28 15:47:00             2019-03-23   \n",
       "51     2019-03-25 14:33:00 2019-03-27 15:42:00             2019-03-23   \n",
       "53     2019-03-25 18:14:17 2019-03-26 08:11:29             2019-03-24   \n",
       "57     2019-03-22 15:37:00 2019-03-25 15:29:00             2019-03-22   \n",
       "91     2019-03-25 20:37:36 2019-03-29 00:23:00             2019-03-24   \n",
       "97     2019-03-27 16:16:00 2019-03-28 12:24:00             2019-03-26   \n",
       "109    2019-03-25 22:08:11 2019-03-28 12:24:00             2019-03-24   \n",
       "119    2019-03-27 15:51:00 2019-03-28 14:12:00             2019-03-27   \n",
       "120    2019-03-22 10:36:00 2019-03-25 13:42:00             2019-03-22   \n",
       "121    2019-03-21 16:32:29 2019-03-22 07:43:13             2019-03-21   \n",
       "169    2019-03-27 13:08:28 2019-03-28 15:48:31             2019-03-27   \n",
       "171    2019-03-26 06:07:25 2019-03-26 12:12:23             2019-03-21   \n",
       "182    2019-03-26 16:20:00 2019-03-27 17:13:00             2019-03-26   \n",
       "189    2019-03-25 15:53:00 2019-03-26 14:58:00             2019-03-22   \n",
       "199    2019-03-22 14:33:00 2019-03-25 14:17:00             2019-03-22   \n",
       "212    2019-03-26 13:35:00 2019-03-27 17:10:00             2019-03-24   \n",
       "223    2019-03-22 16:55:06 2019-03-26 16:31:09             2019-03-22   \n",
       "229    2019-03-25 13:42:00 2019-03-26 11:36:00             2019-03-25   \n",
       "232    2019-03-26 16:46:00 2019-03-27 16:42:00             2019-03-26   \n",
       "250    2019-03-27 20:02:54 2019-03-28 10:25:47             2019-03-26   \n",
       "252    2019-03-21 15:42:00 2019-03-25 13:46:00             2019-03-21   \n",
       "253    2019-03-26 15:36:00 2019-03-28 16:27:00             2019-03-25   \n",
       "260    2019-03-21 12:29:00 2019-03-22 11:42:00             2019-03-21   \n",
       "261    2019-03-27 21:32:13 2019-03-28 09:43:09             2019-03-26   \n",
       "295    2019-03-25 11:45:00 2019-03-27 09:59:00             2019-03-21   \n",
       "298    2019-03-27 21:24:44 2019-03-28 08:57:50             2019-03-25   \n",
       "299    2019-03-25 08:09:00 2019-03-27 15:30:00             2019-03-23   \n",
       "309    2019-03-26 13:15:58 2019-03-28 12:00:00             2019-03-22   \n",
       "...                    ...                 ...                    ...   \n",
       "499623 2019-03-22 16:06:00 2019-03-26 13:08:00             2019-03-21   \n",
       "499646 2019-03-22 16:49:00 2019-03-26 14:27:00             2019-03-22   \n",
       "499660 2019-03-27 15:07:41 2019-03-29 17:55:00             2019-03-25   \n",
       "499663 2019-03-22 11:14:00 2019-03-25 15:24:00             2019-03-21   \n",
       "499672 2019-03-25 19:18:09 2019-03-26 08:20:18             2019-03-24   \n",
       "499675 2019-03-25 20:36:42 2019-03-26 12:08:39             2019-03-22   \n",
       "499677 2019-03-25 14:11:00 2019-03-26 11:50:00             2019-03-23   \n",
       "499678 2019-03-22 12:08:00 2019-03-25 10:17:00             2019-03-21   \n",
       "499703 2019-03-22 15:25:00 2019-03-28 17:35:00             2019-03-21   \n",
       "499715 2019-03-25 11:51:07 2019-03-26 14:30:02             2019-03-24   \n",
       "499719 2019-03-22 09:25:00 2019-03-26 15:17:00             2019-03-21   \n",
       "499746 2019-03-26 03:14:47 2019-03-27 16:07:00             2019-03-23   \n",
       "499758 2019-03-26 14:54:58 2019-03-27 16:44:00             2019-03-22   \n",
       "499776 2019-03-26 14:52:02 2019-03-28 14:39:00             2019-03-25   \n",
       "499784 2019-03-25 09:52:00 2019-03-27 16:30:00             2019-03-24   \n",
       "499788 2019-03-25 14:10:00 2019-03-26 16:58:00             2019-03-22   \n",
       "499812 2019-03-22 15:20:00 2019-03-25 17:55:00             2019-03-22   \n",
       "499856 2019-03-25 15:08:00 2019-03-27 12:20:00             2019-03-25   \n",
       "499875 2019-03-26 15:01:00 2019-03-28 19:17:00             2019-03-24   \n",
       "499892 2019-03-25 16:32:00 2019-03-26 16:19:00             2019-03-23   \n",
       "499900 2019-03-25 17:08:00 2019-03-27 17:36:00             2019-03-21   \n",
       "499915 2019-03-22 02:46:35 2019-03-26 12:51:00             2019-03-21   \n",
       "499924 2019-03-26 04:57:13 2019-03-28 13:52:00             2019-03-21   \n",
       "499929 2019-03-26 19:57:07 2019-03-27 17:05:36             2019-03-22   \n",
       "499945 2019-03-26 17:05:00 2019-03-28 11:25:00             2019-03-25   \n",
       "499946 2019-03-22 09:00:00 2019-03-27 15:08:00             2019-03-21   \n",
       "499959 2019-03-22 14:40:00 2019-03-26 14:40:00             2019-03-22   \n",
       "499968 2019-03-25 15:26:24 2019-03-28 11:54:00             2019-03-21   \n",
       "499976 2019-03-25 08:34:00 2019-03-26 16:29:00             2019-03-23   \n",
       "499995 2019-03-26 13:54:06 2019-03-28 21:20:00             2019-03-22   \n",
       "\n",
       "       date_visit_only_date  \n",
       "12               2019-03-28  \n",
       "14               2019-03-25  \n",
       "29               2019-03-28  \n",
       "51               2019-03-27  \n",
       "53               2019-03-26  \n",
       "57               2019-03-25  \n",
       "91               2019-03-29  \n",
       "97               2019-03-28  \n",
       "109              2019-03-28  \n",
       "119              2019-03-28  \n",
       "120              2019-03-25  \n",
       "121              2019-03-22  \n",
       "169              2019-03-28  \n",
       "171              2019-03-26  \n",
       "182              2019-03-27  \n",
       "189              2019-03-26  \n",
       "199              2019-03-25  \n",
       "212              2019-03-27  \n",
       "223              2019-03-26  \n",
       "229              2019-03-26  \n",
       "232              2019-03-27  \n",
       "250              2019-03-28  \n",
       "252              2019-03-25  \n",
       "253              2019-03-28  \n",
       "260              2019-03-22  \n",
       "261              2019-03-28  \n",
       "295              2019-03-27  \n",
       "298              2019-03-28  \n",
       "299              2019-03-27  \n",
       "309              2019-03-28  \n",
       "...                     ...  \n",
       "499623           2019-03-26  \n",
       "499646           2019-03-26  \n",
       "499660           2019-03-29  \n",
       "499663           2019-03-25  \n",
       "499672           2019-03-26  \n",
       "499675           2019-03-26  \n",
       "499677           2019-03-26  \n",
       "499678           2019-03-25  \n",
       "499703           2019-03-28  \n",
       "499715           2019-03-26  \n",
       "499719           2019-03-26  \n",
       "499746           2019-03-27  \n",
       "499758           2019-03-27  \n",
       "499776           2019-03-28  \n",
       "499784           2019-03-27  \n",
       "499788           2019-03-26  \n",
       "499812           2019-03-25  \n",
       "499856           2019-03-27  \n",
       "499875           2019-03-28  \n",
       "499892           2019-03-26  \n",
       "499900           2019-03-27  \n",
       "499915           2019-03-26  \n",
       "499924           2019-03-28  \n",
       "499929           2019-03-27  \n",
       "499945           2019-03-28  \n",
       "499946           2019-03-27  \n",
       "499959           2019-03-26  \n",
       "499968           2019-03-28  \n",
       "499976           2019-03-26  \n",
       "499995           2019-03-28  \n",
       "\n",
       "[32007 rows x 13 columns]"
      ]
     },
     "execution_count": 238,
     "metadata": {},
     "output_type": "execute_result"
    }
   ],
   "source": [
    "X_test"
   ]
  },
  {
   "cell_type": "code",
   "execution_count": 234,
   "metadata": {},
   "outputs": [
    {
     "name": "stdout",
     "output_type": "stream",
     "text": [
      "<class 'pandas.core.frame.DataFrame'>\n",
      "Int64Index: 345316 entries, 0 to 499999\n",
      "Data columns (total 1 columns):\n",
      "shipment_days    345316 non-null float64\n",
      "dtypes: float64(1)\n",
      "memory usage: 5.3 MB\n"
     ]
    }
   ],
   "source": [
    "#y_train.info()"
   ]
  },
  {
   "cell_type": "code",
   "execution_count": 264,
   "metadata": {},
   "outputs": [
    {
     "data": {
      "text/html": [
       "<div>\n",
       "<style scoped>\n",
       "    .dataframe tbody tr th:only-of-type {\n",
       "        vertical-align: middle;\n",
       "    }\n",
       "\n",
       "    .dataframe tbody tr th {\n",
       "        vertical-align: top;\n",
       "    }\n",
       "\n",
       "    .dataframe thead th {\n",
       "        text-align: right;\n",
       "    }\n",
       "</style>\n",
       "<table border=\"1\" class=\"dataframe\">\n",
       "  <thead>\n",
       "    <tr style=\"text-align: right;\">\n",
       "      <th></th>\n",
       "      <th>shipment_days</th>\n",
       "    </tr>\n",
       "  </thead>\n",
       "  <tbody>\n",
       "    <tr>\n",
       "      <th>12</th>\n",
       "      <td>1.0</td>\n",
       "    </tr>\n",
       "    <tr>\n",
       "      <th>14</th>\n",
       "      <td>0.0</td>\n",
       "    </tr>\n",
       "    <tr>\n",
       "      <th>29</th>\n",
       "      <td>3.0</td>\n",
       "    </tr>\n",
       "    <tr>\n",
       "      <th>51</th>\n",
       "      <td>2.0</td>\n",
       "    </tr>\n",
       "    <tr>\n",
       "      <th>53</th>\n",
       "      <td>1.0</td>\n",
       "    </tr>\n",
       "  </tbody>\n",
       "</table>\n",
       "</div>"
      ],
      "text/plain": [
       "    shipment_days\n",
       "12            1.0\n",
       "14            0.0\n",
       "29            3.0\n",
       "51            2.0\n",
       "53            1.0"
      ]
     },
     "execution_count": 264,
     "metadata": {},
     "output_type": "execute_result"
    }
   ],
   "source": [
    "#y_test.head()"
   ]
  },
  {
   "cell_type": "code",
   "execution_count": 28,
   "metadata": {},
   "outputs": [],
   "source": [
    "import os\n",
    "os.environ[\"PATH\"] += os.pathsep + 'C:\\Program Files (x86)\\Graphviz2.38\\bin'\n",
    "from sklearn import tree\n",
    "import graphviz"
   ]
  },
  {
   "cell_type": "code",
   "execution_count": 26,
   "metadata": {},
   "outputs": [],
   "source": [
    "clf = tree.DecisionTreeClassifier()\n",
    "clf = clf.fit(X_train, y_train.values)"
   ]
  },
  {
   "cell_type": "code",
   "execution_count": 70,
   "metadata": {},
   "outputs": [],
   "source": [
    "features_names = [\"receiver_code\",\"service\"]"
   ]
  },
  {
   "cell_type": "code",
   "execution_count": 43,
   "metadata": {},
   "outputs": [
    {
     "data": {
      "text/plain": [
       "['0-1 dias', '2-3 dias', '4-5 dias', '6-7 dias', '8-9 dias', '10 o mas dias']"
      ]
     },
     "execution_count": 43,
     "metadata": {},
     "output_type": "execute_result"
    }
   ],
   "source": [
    "#target_names = [\"0-1 dias\",\"2-3 dias\",\"4-5 dias\",\"6-7 dias\",\"8-9 dias\",\"10 o mas dias\"]\n",
    "#target_names"
   ]
  },
  {
   "cell_type": "code",
   "execution_count": 71,
   "metadata": {},
   "outputs": [],
   "source": [
    "shipment_days = y_train['shipment_days']\n",
    "shipment_days_byclass= [None] * len(shipment_days)\n",
    "for line,row in enumerate(shipment_days):\n",
    "    if row in (0,1):\n",
    "        shipment_days_byclass[line] = 1\n",
    "    elif row in (2,3):\n",
    "        shipment_days_byclass[line] = 2            \n",
    "    elif row in (4,5):\n",
    "        shipment_days_byclass[line] = 4\n",
    "    elif row in (6,7):\n",
    "        shipment_days_byclass[line] = 6\n",
    "    elif row in (8,9):\n",
    "        shipment_days_byclass[line] = 8\n",
    "    else:\n",
    "        shipment_days_byclass[line] = 10"
   ]
  },
  {
   "cell_type": "code",
   "execution_count": null,
   "metadata": {},
   "outputs": [],
   "source": [
    "y_train['shipment_days_byclass'] = y_train['shipment_days'].astype(int)"
   ]
  },
  {
   "cell_type": "code",
   "execution_count": null,
   "metadata": {},
   "outputs": [],
   "source": [
    "#target_names = y_train['shipment_days_byclass'].astype(str)\n",
    "#target_names.head()"
   ]
  },
  {
   "cell_type": "code",
   "execution_count": 23,
   "metadata": {},
   "outputs": [
    {
     "data": {
      "text/html": [
       "<div>\n",
       "<style scoped>\n",
       "    .dataframe tbody tr th:only-of-type {\n",
       "        vertical-align: middle;\n",
       "    }\n",
       "\n",
       "    .dataframe tbody tr th {\n",
       "        vertical-align: top;\n",
       "    }\n",
       "\n",
       "    .dataframe thead th {\n",
       "        text-align: right;\n",
       "    }\n",
       "</style>\n",
       "<table border=\"1\" class=\"dataframe\">\n",
       "  <thead>\n",
       "    <tr style=\"text-align: right;\">\n",
       "      <th></th>\n",
       "      <th>shipment_days</th>\n",
       "      <th>shipment_days_byclass</th>\n",
       "    </tr>\n",
       "  </thead>\n",
       "  <tbody>\n",
       "    <tr>\n",
       "      <th>0</th>\n",
       "      <td>5.0</td>\n",
       "      <td>5</td>\n",
       "    </tr>\n",
       "    <tr>\n",
       "      <th>1</th>\n",
       "      <td>5.0</td>\n",
       "      <td>5</td>\n",
       "    </tr>\n",
       "    <tr>\n",
       "      <th>2</th>\n",
       "      <td>4.0</td>\n",
       "      <td>4</td>\n",
       "    </tr>\n",
       "    <tr>\n",
       "      <th>3</th>\n",
       "      <td>2.0</td>\n",
       "      <td>2</td>\n",
       "    </tr>\n",
       "    <tr>\n",
       "      <th>4</th>\n",
       "      <td>13.0</td>\n",
       "      <td>13</td>\n",
       "    </tr>\n",
       "  </tbody>\n",
       "</table>\n",
       "</div>"
      ],
      "text/plain": [
       "   shipment_days  shipment_days_byclass\n",
       "0            5.0                      5\n",
       "1            5.0                      5\n",
       "2            4.0                      4\n",
       "3            2.0                      2\n",
       "4           13.0                     13"
      ]
     },
     "execution_count": 23,
     "metadata": {},
     "output_type": "execute_result"
    }
   ],
   "source": [
    "y_train.head()"
   ]
  },
  {
   "cell_type": "code",
   "execution_count": 72,
   "metadata": {},
   "outputs": [
    {
     "name": "stderr",
     "output_type": "stream",
     "text": [
      "C:\\Users\\cintia.chaves\\AppData\\Local\\Continuum\\anaconda3\\envs\\diplodatos\\lib\\site-packages\\ipykernel_launcher.py:1: SettingWithCopyWarning: \n",
      "A value is trying to be set on a copy of a slice from a DataFrame.\n",
      "Try using .loc[row_indexer,col_indexer] = value instead\n",
      "\n",
      "See the caveats in the documentation: http://pandas.pydata.org/pandas-docs/stable/indexing.html#indexing-view-versus-copy\n",
      "  \"\"\"Entry point for launching an IPython kernel.\n"
     ]
    }
   ],
   "source": [
    "#y_train['shipment_days_byclass'] = shipment_days_byclass"
   ]
  },
  {
   "cell_type": "code",
   "execution_count": 24,
   "metadata": {},
   "outputs": [
    {
     "data": {
      "text/plain": [
       "0          5\n",
       "1          5\n",
       "2          4\n",
       "3          2\n",
       "4         13\n",
       "6          2\n",
       "7          5\n",
       "8          5\n",
       "10         1\n",
       "11         2\n",
       "15        12\n",
       "17         1\n",
       "18         3\n",
       "19         6\n",
       "20         3\n",
       "21         1\n",
       "22         3\n",
       "23        12\n",
       "24         2\n",
       "26         3\n",
       "27         6\n",
       "28         3\n",
       "30         7\n",
       "31         1\n",
       "32         7\n",
       "33         8\n",
       "35         9\n",
       "36        10\n",
       "37         2\n",
       "39         4\n",
       "          ..\n",
       "499958     2\n",
       "499960    12\n",
       "499961     2\n",
       "499963     8\n",
       "499964     1\n",
       "499965     1\n",
       "499966    10\n",
       "499967     1\n",
       "499971     8\n",
       "499973     2\n",
       "499974     3\n",
       "499975     0\n",
       "499977     1\n",
       "499979    16\n",
       "499980     2\n",
       "499981     9\n",
       "499982    15\n",
       "499983     1\n",
       "499984     2\n",
       "499985     4\n",
       "499986    25\n",
       "499987     7\n",
       "499988     2\n",
       "499989     8\n",
       "499990     9\n",
       "499991     3\n",
       "499992     2\n",
       "499994     2\n",
       "499997     0\n",
       "499999     9\n",
       "Name: shipment_days_byclass, Length: 345316, dtype: int32"
      ]
     },
     "execution_count": 24,
     "metadata": {},
     "output_type": "execute_result"
    }
   ],
   "source": [
    "y_train['shipment_days_byclass']"
   ]
  },
  {
   "cell_type": "code",
   "execution_count": 73,
   "metadata": {},
   "outputs": [],
   "source": [
    "shipment_days = y_test['shipment_days']\n",
    "shipment_days_byclass = [None] * len(shipment_days)\n",
    "for line,row in enumerate(shipment_days):\n",
    "    if row in (0,1):\n",
    "        shipment_days_byclass[line]= 1\n",
    "    elif row in (2,3):\n",
    "        shipment_days_byclass[line] = 2\n",
    "    elif row in (4,5):\n",
    "        shipment_days_byclass[line] = 4\n",
    "    elif row in (6,7):\n",
    "        shipment_days_byclass[line] = 6\n",
    "    elif row in (8,9):\n",
    "        shipment_days_byclass[line] = 8\n",
    "    else:\n",
    "        shipment_days_byclass[line] = 10"
   ]
  },
  {
   "cell_type": "code",
   "execution_count": 74,
   "metadata": {},
   "outputs": [
    {
     "name": "stderr",
     "output_type": "stream",
     "text": [
      "C:\\Users\\cintia.chaves\\AppData\\Local\\Continuum\\anaconda3\\envs\\diplodatos\\lib\\site-packages\\ipykernel_launcher.py:1: SettingWithCopyWarning: \n",
      "A value is trying to be set on a copy of a slice from a DataFrame.\n",
      "Try using .loc[row_indexer,col_indexer] = value instead\n",
      "\n",
      "See the caveats in the documentation: http://pandas.pydata.org/pandas-docs/stable/indexing.html#indexing-view-versus-copy\n",
      "  \"\"\"Entry point for launching an IPython kernel.\n"
     ]
    }
   ],
   "source": [
    "#y_test['shipment_days_byclass'] = shipment_days_byclass"
   ]
  },
  {
   "cell_type": "code",
   "execution_count": 25,
   "metadata": {},
   "outputs": [
    {
     "name": "stderr",
     "output_type": "stream",
     "text": [
      "C:\\Users\\cintia.chaves\\AppData\\Local\\Continuum\\anaconda3\\envs\\diplodatos\\lib\\site-packages\\ipykernel_launcher.py:1: SettingWithCopyWarning: \n",
      "A value is trying to be set on a copy of a slice from a DataFrame.\n",
      "Try using .loc[row_indexer,col_indexer] = value instead\n",
      "\n",
      "See the caveats in the documentation: http://pandas.pydata.org/pandas-docs/stable/indexing.html#indexing-view-versus-copy\n",
      "  \"\"\"Entry point for launching an IPython kernel.\n"
     ]
    }
   ],
   "source": [
    "y_test['shipment_days_byclass'] = y_test['shipment_days'].astype(int)"
   ]
  },
  {
   "cell_type": "code",
   "execution_count": 44,
   "metadata": {},
   "outputs": [],
   "source": [
    "target_names = y_train['shipment_days_byclass'].astype(str).unique()"
   ]
  },
  {
   "cell_type": "code",
   "execution_count": 26,
   "metadata": {},
   "outputs": [
    {
     "data": {
      "text/plain": [
       "array([1, 0, 3, ..., 3, 1, 2])"
      ]
     },
     "execution_count": 26,
     "metadata": {},
     "output_type": "execute_result"
    }
   ],
   "source": [
    "y_test['shipment_days_byclass'].values"
   ]
  },
  {
   "cell_type": "code",
   "execution_count": 29,
   "metadata": {},
   "outputs": [],
   "source": [
    "clf = tree.DecisionTreeClassifier()\n",
    "clf = clf.fit(X_train, y_train[\"shipment_days_byclass\"])"
   ]
  },
  {
   "cell_type": "code",
   "execution_count": null,
   "metadata": {},
   "outputs": [],
   "source": [
    "# este grafico tira error\n",
    "#dot_data = tree.export_graphviz(clf, out_file=None, \n",
    "#                         feature_names=features_names,  \n",
    "#                         class_names=target_names,  \n",
    "#                         filled=True, rounded=True)\n",
    "#graph = graphviz.Source(dot_data)\n",
    "#graph"
   ]
  },
  {
   "cell_type": "code",
   "execution_count": 30,
   "metadata": {},
   "outputs": [],
   "source": [
    "import numpy as np"
   ]
  },
  {
   "cell_type": "code",
   "execution_count": 31,
   "metadata": {},
   "outputs": [
    {
     "name": "stdout",
     "output_type": "stream",
     "text": [
      "Accuracy: 45 \n"
     ]
    }
   ],
   "source": [
    "predictions = clf.predict(X_train)\n",
    "print ('Accuracy: %d ' % ((np.sum(y_train[\"shipment_days_byclass\"] == predictions))/float(y_train[\"shipment_days_byclass\"].size)*100))"
   ]
  },
  {
   "cell_type": "code",
   "execution_count": 32,
   "metadata": {},
   "outputs": [
    {
     "name": "stdout",
     "output_type": "stream",
     "text": [
      "Accuracy: 51 \n"
     ]
    }
   ],
   "source": [
    "predictions = clf.predict(X_test)\n",
    "print ('Accuracy: %d ' % ((np.sum(y_test[\"shipment_days_byclass\"] == predictions))/float(y_test[\"shipment_days_byclass\"].size)*100))"
   ]
  },
  {
   "cell_type": "code",
   "execution_count": 33,
   "metadata": {},
   "outputs": [
    {
     "name": "stdout",
     "output_type": "stream",
     "text": [
      "Reporte de clasificación (sobre conjunto de evaluación):\n",
      "\n",
      "              precision    recall  f1-score   support\n",
      "\n",
      "           0       0.33      0.38      0.35      1753\n",
      "           1       0.67      0.72      0.70     16206\n",
      "           2       0.42      0.33      0.37      8856\n",
      "           3       0.29      0.22      0.25      3726\n",
      "           4       0.16      0.15      0.16      1174\n",
      "           5       0.05      0.11      0.07       281\n",
      "           6       0.00      0.09      0.00        11\n",
      "           7       0.00      0.00      0.00         0\n",
      "           8       0.00      0.00      0.00         0\n",
      "           9       0.00      0.00      0.00         0\n",
      "          10       0.00      0.00      0.00         0\n",
      "          11       0.00      0.00      0.00         0\n",
      "          12       0.00      0.00      0.00         0\n",
      "          13       0.00      0.00      0.00         0\n",
      "          14       0.00      0.00      0.00         0\n",
      "          15       0.00      0.00      0.00         0\n",
      "          16       0.00      0.00      0.00         0\n",
      "          17       0.00      0.00      0.00         0\n",
      "          18       0.00      0.00      0.00         0\n",
      "          19       0.00      0.00      0.00         0\n",
      "          20       0.00      0.00      0.00         0\n",
      "          23       0.00      0.00      0.00         0\n",
      "          24       0.00      0.00      0.00         0\n",
      "\n",
      "   micro avg       0.51      0.51      0.51     32007\n",
      "   macro avg       0.08      0.09      0.08     32007\n",
      "weighted avg       0.52      0.51      0.51     32007\n",
      "\n",
      "\n"
     ]
    },
    {
     "name": "stderr",
     "output_type": "stream",
     "text": [
      "C:\\Users\\cintia.chaves\\AppData\\Local\\Continuum\\anaconda3\\envs\\diplodatos\\lib\\site-packages\\sklearn\\metrics\\classification.py:1145: UndefinedMetricWarning: Recall and F-score are ill-defined and being set to 0.0 in labels with no true samples.\n",
      "  'recall', 'true', average, warn_for)\n",
      "C:\\Users\\cintia.chaves\\AppData\\Local\\Continuum\\anaconda3\\envs\\diplodatos\\lib\\site-packages\\sklearn\\metrics\\classification.py:1145: UndefinedMetricWarning: Recall and F-score are ill-defined and being set to 0.0 in labels with no true samples.\n",
      "  'recall', 'true', average, warn_for)\n",
      "C:\\Users\\cintia.chaves\\AppData\\Local\\Continuum\\anaconda3\\envs\\diplodatos\\lib\\site-packages\\sklearn\\metrics\\classification.py:1145: UndefinedMetricWarning: Recall and F-score are ill-defined and being set to 0.0 in labels with no true samples.\n",
      "  'recall', 'true', average, warn_for)\n"
     ]
    }
   ],
   "source": [
    "print(\"Reporte de clasificación (sobre conjunto de evaluación):\", end=\"\\n\\n\")\n",
    "y_true, y_pred = y_test[\"shipment_days_byclass\"], clf.predict(X_test)\n",
    "print(classification_report(y_true, y_pred), end=\"\\n\\n\")"
   ]
  },
  {
   "cell_type": "code",
   "execution_count": 34,
   "metadata": {},
   "outputs": [],
   "source": [
    "from ml.visualization import plot_confusion_matrix"
   ]
  },
  {
   "cell_type": "code",
   "execution_count": 45,
   "metadata": {},
   "outputs": [
    {
     "data": {
      "image/png": "[encoded data removed]",
      "text/plain": [
       "<Figure size 432x288 with 2 Axes>"
      ]
     },
     "metadata": {
      "needs_background": "light"
     },
     "output_type": "display_data"
    }
   ],
   "source": [
    "plot_confusion_matrix(confusion_matrix(y_true, y_pred), classes=target_names, title=\"Matriz de confusión\")"
   ]
  },
  {
   "cell_type": "markdown",
   "metadata": {},
   "source": [
    "Para las 2 primeras clases anda bien, pero para las demas no tan bien. habria que porbar otro modelo.\n",
    "Probemos con SGDClassifier"
   ]
  },
  {
   "cell_type": "code",
   "execution_count": 45,
   "metadata": {},
   "outputs": [],
   "source": [
    "from sklearn.linear_model import SGDClassifier"
   ]
  },
  {
   "cell_type": "code",
   "execution_count": 48,
   "metadata": {},
   "outputs": [
    {
     "name": "stderr",
     "output_type": "stream",
     "text": [
      "C:\\Users\\cintia.chaves\\AppData\\Local\\Continuum\\anaconda3\\envs\\diplodatos\\lib\\site-packages\\sklearn\\linear_model\\stochastic_gradient.py:166: FutureWarning: max_iter and tol parameters have been added in SGDClassifier in 0.19. If both are left unset, they default to max_iter=5 and tol=None. If tol is not None, max_iter defaults to max_iter=1000. From 0.21, default max_iter will be 1000, and default tol will be 1e-3.\n",
      "  FutureWarning)\n"
     ]
    },
    {
     "name": "stdout",
     "output_type": "stream",
     "text": [
      "Reporte de clasificación para el clasificador (sobre conjunto de evaluación):\n",
      "\n",
      "              precision    recall  f1-score   support\n",
      "\n",
      "           1       0.00      0.00      0.00     17959\n",
      "           2       0.39      1.00      0.56     12582\n",
      "           4       0.00      0.00      0.00      1455\n",
      "           6       0.00      0.00      0.00        11\n",
      "\n",
      "   micro avg       0.39      0.39      0.39     32007\n",
      "   macro avg       0.10      0.25      0.14     32007\n",
      "weighted avg       0.15      0.39      0.22     32007\n",
      "\n",
      "\n",
      "================================================\n",
      "\n",
      "Accuracy of SGDC classifier on training set: 0.29"
     ]
    },
    {
     "name": "stderr",
     "output_type": "stream",
     "text": [
      "C:\\Users\\cintia.chaves\\AppData\\Local\\Continuum\\anaconda3\\envs\\diplodatos\\lib\\site-packages\\sklearn\\metrics\\classification.py:1143: UndefinedMetricWarning: Precision and F-score are ill-defined and being set to 0.0 in labels with no predicted samples.\n",
      "  'precision', 'predicted', average, warn_for)\n",
      "C:\\Users\\cintia.chaves\\AppData\\Local\\Continuum\\anaconda3\\envs\\diplodatos\\lib\\site-packages\\sklearn\\metrics\\classification.py:1143: UndefinedMetricWarning: Precision and F-score are ill-defined and being set to 0.0 in labels with no predicted samples.\n",
      "  'precision', 'predicted', average, warn_for)\n",
      "C:\\Users\\cintia.chaves\\AppData\\Local\\Continuum\\anaconda3\\envs\\diplodatos\\lib\\site-packages\\sklearn\\metrics\\classification.py:1143: UndefinedMetricWarning: Precision and F-score are ill-defined and being set to 0.0 in labels with no predicted samples.\n",
      "  'precision', 'predicted', average, warn_for)\n"
     ]
    },
    {
     "name": "stdout",
     "output_type": "stream",
     "text": [
      "\n",
      "Accuracy of SGDC classifier on test set: 0.39\n"
     ]
    },
    {
     "data": {
      "image/png": "[encoded data removed]",
      "text/plain": [
       "<Figure size 1120x320 with 2 Axes>"
      ]
     },
     "metadata": {},
     "output_type": "display_data"
    }
   ],
   "source": [
    "plt.figure(figsize=(14, 4), dpi= 80, facecolor='w', edgecolor='k')\n",
    "\n",
    "m = SGDClassifier()\n",
    "\n",
    "m.fit(X_train, y_train[\"shipment_days_byclass\"])\n",
    "\n",
    "print(\"Reporte de clasificación para el clasificador (sobre conjunto de evaluación):\", end=\"\\n\\n\")\n",
    "y_true, y_pred = y_test[\"shipment_days_byclass\"], m.predict(X_test)\n",
    "print(classification_report(y_true, y_pred), end=\"\\n\\n\")\n",
    "\n",
    "print(\"================================================\", end=\"\\n\\n\")\n",
    "\n",
    "plot_confusion_matrix(confusion_matrix(y_true, y_pred), classes=target_names, title=\"Matriz de confusión\")\n",
    "\n",
    "print('Accuracy of SGDC classifier on training set: {:.2f}' .format(m.score(X_train, y_train[\"shipment_days_byclass\"])))\n",
    "print('Accuracy of SGDC classifier on test set: {:.2f}'.format(m.score(X_test, y_test[\"shipment_days_byclass\"])))\n"
   ]
  },
  {
   "cell_type": "markdown",
   "metadata": {},
   "source": [
    "Probemos con clasificacion multiclase:"
   ]
  },
  {
   "cell_type": "code",
   "execution_count": 86,
   "metadata": {},
   "outputs": [
    {
     "data": {
      "text/plain": [
       "array(['sender_state', 'sender_zipcode', 'receiver_state',\n",
       "       'receiver_zipcode', 'shipment_type', 'quantity', 'service',\n",
       "       'status', 'date_created', 'date_sent', 'date_visit',\n",
       "       'shipment_days', 'date_created_only_date', 'date_visit_only_date'],\n",
       "      dtype=object)"
      ]
     },
     "execution_count": 86,
     "metadata": {},
     "output_type": "execute_result"
    }
   ],
   "source": [
    "dataset_clean.columns.values"
   ]
  },
  {
   "cell_type": "code",
   "execution_count": 88,
   "metadata": {},
   "outputs": [
    {
     "data": {
      "text/plain": [
       "{'sender_state': 0,\n",
       " 'sender_zipcode': 1,\n",
       " 'receiver_state': 2,\n",
       " 'receiver_zipcode': 3,\n",
       " 'shipment_type': 4,\n",
       " 'quantity': 5,\n",
       " 'service': 6,\n",
       " 'status': 7,\n",
       " 'date_created': 8,\n",
       " 'date_sent': 9,\n",
       " 'date_visit': 10,\n",
       " 'shipment_days': 11,\n",
       " 'date_created_only_date': 12,\n",
       " 'date_visit_only_date': 13}"
      ]
     },
     "execution_count": 88,
     "metadata": {},
     "output_type": "execute_result"
    }
   ],
   "source": [
    "feature_map = {feature: idx for idx, feature in enumerate(dataset_clean.columns.values)}\n",
    "feature_map"
   ]
  },
  {
   "cell_type": "code",
   "execution_count": 101,
   "metadata": {},
   "outputs": [
    {
     "data": {
      "text/html": [
       "<div>\n",
       "<style scoped>\n",
       "    .dataframe tbody tr th:only-of-type {\n",
       "        vertical-align: middle;\n",
       "    }\n",
       "\n",
       "    .dataframe tbody tr th {\n",
       "        vertical-align: top;\n",
       "    }\n",
       "\n",
       "    .dataframe thead th {\n",
       "        text-align: right;\n",
       "    }\n",
       "</style>\n",
       "<table border=\"1\" class=\"dataframe\">\n",
       "  <thead>\n",
       "    <tr style=\"text-align: right;\">\n",
       "      <th></th>\n",
       "      <th>shipment_days</th>\n",
       "      <th>shipment_days_byclass</th>\n",
       "    </tr>\n",
       "  </thead>\n",
       "  <tbody>\n",
       "    <tr>\n",
       "      <th>0</th>\n",
       "      <td>5.0</td>\n",
       "      <td>4</td>\n",
       "    </tr>\n",
       "    <tr>\n",
       "      <th>1</th>\n",
       "      <td>5.0</td>\n",
       "      <td>4</td>\n",
       "    </tr>\n",
       "    <tr>\n",
       "      <th>2</th>\n",
       "      <td>4.0</td>\n",
       "      <td>4</td>\n",
       "    </tr>\n",
       "    <tr>\n",
       "      <th>3</th>\n",
       "      <td>2.0</td>\n",
       "      <td>2</td>\n",
       "    </tr>\n",
       "    <tr>\n",
       "      <th>4</th>\n",
       "      <td>13.0</td>\n",
       "      <td>10</td>\n",
       "    </tr>\n",
       "  </tbody>\n",
       "</table>\n",
       "</div>"
      ],
      "text/plain": [
       "   shipment_days  shipment_days_byclass\n",
       "0            5.0                      4\n",
       "1            5.0                      4\n",
       "2            4.0                      4\n",
       "3            2.0                      2\n",
       "4           13.0                     10"
      ]
     },
     "execution_count": 101,
     "metadata": {},
     "output_type": "execute_result"
    }
   ],
   "source": [
    "y_train.head()"
   ]
  },
  {
   "cell_type": "code",
   "execution_count": 98,
   "metadata": {},
   "outputs": [
    {
     "ename": "TypeError",
     "evalue": "'(slice(None, None, None), 0         14500\n1         58670\n2         22723\n3         18682\n4         68908\n6          7776\n7         35910\n8         21755\n10        13960\n11        12227\n15        78135\n17         1524\n18         2435\n19        87083\n20        94100\n21         7075\n22        35702\n23        13860\n24        18540\n26        74680\n27        29934\n28        89287\n30        24220\n31         6730\n32        36046\n33        77808\n35        44713\n36        32240\n37        14406\n39        37680\n          ...  \n499958    13250\n499960    35439\n499961     8320\n499963    37760\n499964     6462\n499965     9912\n499966    35740\n499967     2110\n499971    89291\n499973     1545\n499974    11075\n499975     1103\n499977    18720\n499979    27253\n499980     8690\n499981    59056\n499982    77403\n499983     5103\n499984    18270\n499985    65555\n499986    89121\n499987    33600\n499988    89056\n499989    98760\n499990    12233\n499991    18500\n499992    15091\n499994    38060\n499997     1532\n499999    79750\nName: receiver_zipcode, Length: 345316, dtype: int64)' is an invalid key",
     "output_type": "error",
     "traceback": [
      "\u001b[1;31m---------------------------------------------------------------------------\u001b[0m",
      "\u001b[1;31mTypeError\u001b[0m                                 Traceback (most recent call last)",
      "\u001b[1;32m<ipython-input-98-dbbb6c9801c0>\u001b[0m in \u001b[0;36m<module>\u001b[1;34m\u001b[0m\n\u001b[0;32m      7\u001b[0m \u001b[0my_feature_col\u001b[0m \u001b[1;33m=\u001b[0m \u001b[0mfeature_map\u001b[0m\u001b[1;33m[\u001b[0m\u001b[0my_feature\u001b[0m\u001b[1;33m]\u001b[0m\u001b[1;33m\u001b[0m\u001b[1;33m\u001b[0m\u001b[0m\n\u001b[0;32m      8\u001b[0m \u001b[0my_feature_col\u001b[0m\u001b[1;33m\u001b[0m\u001b[1;33m\u001b[0m\u001b[0m\n\u001b[1;32m----> 9\u001b[1;33m \u001b[0mdf_train\u001b[0m\u001b[1;33m[\u001b[0m\u001b[1;33m:\u001b[0m\u001b[1;33m,\u001b[0m \u001b[0mdf_train\u001b[0m\u001b[1;33m[\u001b[0m\u001b[1;34m'receiver_zipcode'\u001b[0m\u001b[1;33m]\u001b[0m\u001b[1;33m]\u001b[0m\u001b[1;33m\u001b[0m\u001b[1;33m\u001b[0m\u001b[0m\n\u001b[0m\u001b[0;32m     10\u001b[0m \u001b[1;31m#X_val_feature = df_test[:, [x_feature_col, y_feature_col]]\u001b[0m\u001b[1;33m\u001b[0m\u001b[1;33m\u001b[0m\u001b[1;33m\u001b[0m\u001b[0m\n",
      "\u001b[1;32m~\\AppData\\Local\\Continuum\\anaconda3\\envs\\diplodatos\\lib\\site-packages\\pandas\\core\\frame.py\u001b[0m in \u001b[0;36m__getitem__\u001b[1;34m(self, key)\u001b[0m\n\u001b[0;32m   2925\u001b[0m             \u001b[1;32mif\u001b[0m \u001b[0mself\u001b[0m\u001b[1;33m.\u001b[0m\u001b[0mcolumns\u001b[0m\u001b[1;33m.\u001b[0m\u001b[0mnlevels\u001b[0m \u001b[1;33m>\u001b[0m \u001b[1;36m1\u001b[0m\u001b[1;33m:\u001b[0m\u001b[1;33m\u001b[0m\u001b[1;33m\u001b[0m\u001b[0m\n\u001b[0;32m   2926\u001b[0m                 \u001b[1;32mreturn\u001b[0m \u001b[0mself\u001b[0m\u001b[1;33m.\u001b[0m\u001b[0m_getitem_multilevel\u001b[0m\u001b[1;33m(\u001b[0m\u001b[0mkey\u001b[0m\u001b[1;33m)\u001b[0m\u001b[1;33m\u001b[0m\u001b[1;33m\u001b[0m\u001b[0m\n\u001b[1;32m-> 2927\u001b[1;33m             \u001b[0mindexer\u001b[0m \u001b[1;33m=\u001b[0m \u001b[0mself\u001b[0m\u001b[1;33m.\u001b[0m\u001b[0mcolumns\u001b[0m\u001b[1;33m.\u001b[0m\u001b[0mget_loc\u001b[0m\u001b[1;33m(\u001b[0m\u001b[0mkey\u001b[0m\u001b[1;33m)\u001b[0m\u001b[1;33m\u001b[0m\u001b[1;33m\u001b[0m\u001b[0m\n\u001b[0m\u001b[0;32m   2928\u001b[0m             \u001b[1;32mif\u001b[0m \u001b[0mis_integer\u001b[0m\u001b[1;33m(\u001b[0m\u001b[0mindexer\u001b[0m\u001b[1;33m)\u001b[0m\u001b[1;33m:\u001b[0m\u001b[1;33m\u001b[0m\u001b[1;33m\u001b[0m\u001b[0m\n\u001b[0;32m   2929\u001b[0m                 \u001b[0mindexer\u001b[0m \u001b[1;33m=\u001b[0m \u001b[1;33m[\u001b[0m\u001b[0mindexer\u001b[0m\u001b[1;33m]\u001b[0m\u001b[1;33m\u001b[0m\u001b[1;33m\u001b[0m\u001b[0m\n",
      "\u001b[1;32m~\\AppData\\Local\\Continuum\\anaconda3\\envs\\diplodatos\\lib\\site-packages\\pandas\\core\\indexes\\base.py\u001b[0m in \u001b[0;36mget_loc\u001b[1;34m(self, key, method, tolerance)\u001b[0m\n\u001b[0;32m   2655\u001b[0m                                  'backfill or nearest lookups')\n\u001b[0;32m   2656\u001b[0m             \u001b[1;32mtry\u001b[0m\u001b[1;33m:\u001b[0m\u001b[1;33m\u001b[0m\u001b[1;33m\u001b[0m\u001b[0m\n\u001b[1;32m-> 2657\u001b[1;33m                 \u001b[1;32mreturn\u001b[0m \u001b[0mself\u001b[0m\u001b[1;33m.\u001b[0m\u001b[0m_engine\u001b[0m\u001b[1;33m.\u001b[0m\u001b[0mget_loc\u001b[0m\u001b[1;33m(\u001b[0m\u001b[0mkey\u001b[0m\u001b[1;33m)\u001b[0m\u001b[1;33m\u001b[0m\u001b[1;33m\u001b[0m\u001b[0m\n\u001b[0m\u001b[0;32m   2658\u001b[0m             \u001b[1;32mexcept\u001b[0m \u001b[0mKeyError\u001b[0m\u001b[1;33m:\u001b[0m\u001b[1;33m\u001b[0m\u001b[1;33m\u001b[0m\u001b[0m\n\u001b[0;32m   2659\u001b[0m                 \u001b[1;32mreturn\u001b[0m \u001b[0mself\u001b[0m\u001b[1;33m.\u001b[0m\u001b[0m_engine\u001b[0m\u001b[1;33m.\u001b[0m\u001b[0mget_loc\u001b[0m\u001b[1;33m(\u001b[0m\u001b[0mself\u001b[0m\u001b[1;33m.\u001b[0m\u001b[0m_maybe_cast_indexer\u001b[0m\u001b[1;33m(\u001b[0m\u001b[0mkey\u001b[0m\u001b[1;33m)\u001b[0m\u001b[1;33m)\u001b[0m\u001b[1;33m\u001b[0m\u001b[1;33m\u001b[0m\u001b[0m\n",
      "\u001b[1;32mpandas/_libs/index.pyx\u001b[0m in \u001b[0;36mpandas._libs.index.IndexEngine.get_loc\u001b[1;34m()\u001b[0m\n",
      "\u001b[1;32mpandas/_libs/index.pyx\u001b[0m in \u001b[0;36mpandas._libs.index.IndexEngine.get_loc\u001b[1;34m()\u001b[0m\n",
      "\u001b[1;31mTypeError\u001b[0m: '(slice(None, None, None), 0         14500\n1         58670\n2         22723\n3         18682\n4         68908\n6          7776\n7         35910\n8         21755\n10        13960\n11        12227\n15        78135\n17         1524\n18         2435\n19        87083\n20        94100\n21         7075\n22        35702\n23        13860\n24        18540\n26        74680\n27        29934\n28        89287\n30        24220\n31         6730\n32        36046\n33        77808\n35        44713\n36        32240\n37        14406\n39        37680\n          ...  \n499958    13250\n499960    35439\n499961     8320\n499963    37760\n499964     6462\n499965     9912\n499966    35740\n499967     2110\n499971    89291\n499973     1545\n499974    11075\n499975     1103\n499977    18720\n499979    27253\n499980     8690\n499981    59056\n499982    77403\n499983     5103\n499984    18270\n499985    65555\n499986    89121\n499987    33600\n499988    89056\n499989    98760\n499990    12233\n499991    18500\n499992    15091\n499994    38060\n499997     1532\n499999    79750\nName: receiver_zipcode, Length: 345316, dtype: int64)' is an invalid key"
     ]
    }
   ],
   "source": [
    "# Seleccionamos dos atributo, uno para el eje x y otro para el eje y\n",
    "# TODO: Cambiar los atributos y ver como se modifica el resultado\n",
    "#x_feature = 'receiver_zipcode'#'sepal length (cm)'\n",
    "#y_feature = 'service'#'sepal width (cm)'\n",
    "\n",
    "#x_feature_col = feature_map[x_feature]\n",
    "#y_feature_col = feature_map[y_feature]\n",
    "#X_train_feature = df_train[:, [x_feature_col, y_feature_col]]\n",
    "#X_val_feature = df_test[:, [x_feature_col, y_feature_col]]"
   ]
  },
  {
   "cell_type": "code",
   "execution_count": 116,
   "metadata": {},
   "outputs": [],
   "source": [
    "from sklearn.linear_model import LogisticRegression\n",
    "from sklearn.metrics import accuracy_score, confusion_matrix, mean_squared_error\n",
    "from ml.visualization import classifier_boundary"
   ]
  },
  {
   "cell_type": "code",
   "execution_count": 107,
   "metadata": {},
   "outputs": [
    {
     "name": "stderr",
     "output_type": "stream",
     "text": [
      "C:\\Users\\cintia.chaves\\AppData\\Local\\Continuum\\anaconda3\\envs\\diplodatos\\lib\\site-packages\\sklearn\\linear_model\\logistic.py:433: FutureWarning: Default solver will be changed to 'lbfgs' in 0.22. Specify a solver to silence this warning.\n",
      "  FutureWarning)\n",
      "C:\\Users\\cintia.chaves\\AppData\\Local\\Continuum\\anaconda3\\envs\\diplodatos\\lib\\site-packages\\sklearn\\svm\\base.py:931: ConvergenceWarning: Liblinear failed to converge, increase the number of iterations.\n",
      "  \"the number of iterations.\", ConvergenceWarning)\n"
     ]
    },
    {
     "name": "stdout",
     "output_type": "stream",
     "text": [
      "Exactitud para entrenamiento: 0.22\n",
      "Exactitud para validación: 0.51\n"
     ]
    }
   ],
   "source": [
    "penalty = 'l1' # TODO: Tipo de regularización: l1 (valor absoluto), l2 (cuadrados).\n",
    "alpha =  .001#10#1#.5 # TODO: Parámetro de regularización. También denominado como parámetro `lambda`. Debe ser mayor que 0.\n",
    "\n",
    "model = LogisticRegression(penalty=penalty, C=1./alpha, multi_class='ovr')\n",
    "model.fit(X_train, y_train['shipment_days'])\n",
    "\n",
    "print('Exactitud para entrenamiento: %.2f' %  accuracy_score(y_train['shipment_days'], model.predict(X_train)))\n",
    "print('Exactitud para validación: %.2f' % accuracy_score(y_test['shipment_days'], model.predict(X_test)))"
   ]
  },
  {
   "cell_type": "code",
   "execution_count": 112,
   "metadata": {},
   "outputs": [],
   "source": [
    "target_namesTwo=['0','1','2','3','4','5','6','7','8','9','10']"
   ]
  },
  {
   "cell_type": "code",
   "execution_count": 114,
   "metadata": {},
   "outputs": [
    {
     "data": {
      "image/png": "[encoded data removed]",
      "text/plain": [
       "<Figure size 1120x800 with 6 Axes>"
      ]
     },
     "metadata": {},
     "output_type": "display_data"
    }
   ],
   "source": [
    "plt.figure(figsize=(14, 10), dpi= 80, facecolor='w', edgecolor='k')\n",
    "\n",
    "plt.subplot(2, 2, 1)\n",
    "plot_confusion_matrix(confusion_matrix(y_train['shipment_days'], model.predict(X_train)),\n",
    "                      classes=target_names,\n",
    "                      title='Matriz de confusión para entrenamiento (sin normalizar)')\n",
    "plt.subplot(2, 2, 3)\n",
    "plot_confusion_matrix(confusion_matrix(y_train['shipment_days'], model.predict(X_train)),\n",
    "                      classes=target_names, normalize=True,\n",
    "                      title='Matriz de confusión para entrenamiento (normalizando)')\n",
    "\n",
    "plt.subplot(2, 2, 2)\n",
    "plot_confusion_matrix(confusion_matrix(y_test['shipment_days'], model.predict(X_test)),\n",
    "                      classes=target_names,\n",
    "                      title='Matriz de confusión para validación (sin normalizar)')\n",
    "plt.subplot(2, 2, 4)\n",
    "plot_confusion_matrix(confusion_matrix(y_test['shipment_days'], model.predict(X_test)),\n",
    "                      classes=target_names, normalize=True,\n",
    "                      title='Matriz de confusión para validación (normalizando)')\n",
    "\n",
    "plt.show()"
   ]
  },
  {
   "cell_type": "markdown",
   "metadata": {},
   "source": [
    "Visualizacion de la frontera de decision\n"
   ]
  },
  {
   "cell_type": "code",
   "execution_count": 120,
   "metadata": {},
   "outputs": [
    {
     "ename": "MemoryError",
     "evalue": "",
     "output_type": "error",
     "traceback": [
      "\u001b[1;31m---------------------------------------------------------------------------\u001b[0m",
      "\u001b[1;31mMemoryError\u001b[0m                               Traceback (most recent call last)",
      "\u001b[1;32m<ipython-input-120-eb95fab72d8c>\u001b[0m in \u001b[0;36m<module>\u001b[1;34m\u001b[0m\n\u001b[1;32m----> 1\u001b[1;33m \u001b[0mclassifier_boundary\u001b[0m\u001b[1;33m(\u001b[0m\u001b[0mnp\u001b[0m\u001b[1;33m.\u001b[0m\u001b[0mr_\u001b[0m\u001b[1;33m[\u001b[0m\u001b[0mX_train\u001b[0m\u001b[1;33m,\u001b[0m \u001b[0mX_test\u001b[0m\u001b[1;33m]\u001b[0m\u001b[1;33m,\u001b[0m \u001b[0mmodel\u001b[0m\u001b[1;33m)\u001b[0m\u001b[1;33m\u001b[0m\u001b[1;33m\u001b[0m\u001b[0m\n\u001b[0m",
      "\u001b[1;32m~\\Desktop\\repoPropio\\mentoria\\ml\\visualization.py\u001b[0m in \u001b[0;36mclassifier_boundary\u001b[1;34m(X, model, featurizer, h)\u001b[0m\n\u001b[0;32m     88\u001b[0m \u001b[1;33m\u001b[0m\u001b[0m\n\u001b[0;32m     89\u001b[0m     xx, yy = np.meshgrid(np.arange(x_min, x_max, h),\n\u001b[1;32m---> 90\u001b[1;33m                          np.arange(y_min, y_max, h))\n\u001b[0m\u001b[0;32m     91\u001b[0m \u001b[1;33m\u001b[0m\u001b[0m\n\u001b[0;32m     92\u001b[0m     \u001b[0mZ_features\u001b[0m \u001b[1;33m=\u001b[0m \u001b[0mnp\u001b[0m\u001b[1;33m.\u001b[0m\u001b[0mc_\u001b[0m\u001b[1;33m[\u001b[0m\u001b[0mxx\u001b[0m\u001b[1;33m.\u001b[0m\u001b[0mravel\u001b[0m\u001b[1;33m(\u001b[0m\u001b[1;33m)\u001b[0m\u001b[1;33m,\u001b[0m \u001b[0myy\u001b[0m\u001b[1;33m.\u001b[0m\u001b[0mravel\u001b[0m\u001b[1;33m(\u001b[0m\u001b[1;33m)\u001b[0m\u001b[1;33m]\u001b[0m\u001b[1;33m\u001b[0m\u001b[1;33m\u001b[0m\u001b[0m\n",
      "\u001b[1;32m~\\AppData\\Local\\Continuum\\anaconda3\\envs\\diplodatos\\lib\\site-packages\\numpy\\lib\\function_base.py\u001b[0m in \u001b[0;36mmeshgrid\u001b[1;34m(*xi, **kwargs)\u001b[0m\n\u001b[0;32m   4209\u001b[0m \u001b[1;33m\u001b[0m\u001b[0m\n\u001b[0;32m   4210\u001b[0m     \u001b[1;32mif\u001b[0m \u001b[0mcopy_\u001b[0m\u001b[1;33m:\u001b[0m\u001b[1;33m\u001b[0m\u001b[1;33m\u001b[0m\u001b[0m\n\u001b[1;32m-> 4211\u001b[1;33m         \u001b[0moutput\u001b[0m \u001b[1;33m=\u001b[0m \u001b[1;33m[\u001b[0m\u001b[0mx\u001b[0m\u001b[1;33m.\u001b[0m\u001b[0mcopy\u001b[0m\u001b[1;33m(\u001b[0m\u001b[1;33m)\u001b[0m \u001b[1;32mfor\u001b[0m \u001b[0mx\u001b[0m \u001b[1;32min\u001b[0m \u001b[0moutput\u001b[0m\u001b[1;33m]\u001b[0m\u001b[1;33m\u001b[0m\u001b[1;33m\u001b[0m\u001b[0m\n\u001b[0m\u001b[0;32m   4212\u001b[0m \u001b[1;33m\u001b[0m\u001b[0m\n\u001b[0;32m   4213\u001b[0m     \u001b[1;32mreturn\u001b[0m \u001b[0moutput\u001b[0m\u001b[1;33m\u001b[0m\u001b[1;33m\u001b[0m\u001b[0m\n",
      "\u001b[1;32m~\\AppData\\Local\\Continuum\\anaconda3\\envs\\diplodatos\\lib\\site-packages\\numpy\\lib\\function_base.py\u001b[0m in \u001b[0;36m<listcomp>\u001b[1;34m(.0)\u001b[0m\n\u001b[0;32m   4209\u001b[0m \u001b[1;33m\u001b[0m\u001b[0m\n\u001b[0;32m   4210\u001b[0m     \u001b[1;32mif\u001b[0m \u001b[0mcopy_\u001b[0m\u001b[1;33m:\u001b[0m\u001b[1;33m\u001b[0m\u001b[1;33m\u001b[0m\u001b[0m\n\u001b[1;32m-> 4211\u001b[1;33m         \u001b[0moutput\u001b[0m \u001b[1;33m=\u001b[0m \u001b[1;33m[\u001b[0m\u001b[0mx\u001b[0m\u001b[1;33m.\u001b[0m\u001b[0mcopy\u001b[0m\u001b[1;33m(\u001b[0m\u001b[1;33m)\u001b[0m \u001b[1;32mfor\u001b[0m \u001b[0mx\u001b[0m \u001b[1;32min\u001b[0m \u001b[0moutput\u001b[0m\u001b[1;33m]\u001b[0m\u001b[1;33m\u001b[0m\u001b[1;33m\u001b[0m\u001b[0m\n\u001b[0m\u001b[0;32m   4212\u001b[0m \u001b[1;33m\u001b[0m\u001b[0m\n\u001b[0;32m   4213\u001b[0m     \u001b[1;32mreturn\u001b[0m \u001b[0moutput\u001b[0m\u001b[1;33m\u001b[0m\u001b[1;33m\u001b[0m\u001b[0m\n",
      "\u001b[1;31mMemoryError\u001b[0m: "
     ]
    }
   ],
   "source": [
    "classifier_boundary(np.r_[X_train, X_test], model)"
   ]
  },
  {
   "cell_type": "code",
   "execution_count": 119,
   "metadata": {},
   "outputs": [
    {
     "ename": "TypeError",
     "evalue": "'(slice(None, None, None), 0)' is an invalid key",
     "output_type": "error",
     "traceback": [
      "\u001b[1;31m---------------------------------------------------------------------------\u001b[0m",
      "\u001b[1;31mTypeError\u001b[0m                                 Traceback (most recent call last)",
      "\u001b[1;32m<ipython-input-119-f87fa0c5315b>\u001b[0m in \u001b[0;36m<module>\u001b[1;34m\u001b[0m\n\u001b[0;32m      9\u001b[0m \u001b[0mplt\u001b[0m\u001b[1;33m.\u001b[0m\u001b[0msubplot\u001b[0m\u001b[1;33m(\u001b[0m\u001b[1;36m1\u001b[0m\u001b[1;33m,\u001b[0m \u001b[1;36m2\u001b[0m\u001b[1;33m,\u001b[0m \u001b[1;36m1\u001b[0m\u001b[1;33m)\u001b[0m\u001b[1;33m\u001b[0m\u001b[1;33m\u001b[0m\u001b[0m\n\u001b[0;32m     10\u001b[0m \u001b[1;31m#plt.pcolormesh(xx, yy, Z, cmap=cmap_back)\u001b[0m\u001b[1;33m\u001b[0m\u001b[1;33m\u001b[0m\u001b[1;33m\u001b[0m\u001b[0m\n\u001b[1;32m---> 11\u001b[1;33m \u001b[0mplt\u001b[0m\u001b[1;33m.\u001b[0m\u001b[0mscatter\u001b[0m\u001b[1;33m(\u001b[0m\u001b[0mX_train\u001b[0m\u001b[1;33m[\u001b[0m\u001b[1;33m:\u001b[0m\u001b[1;33m,\u001b[0m \u001b[1;36m0\u001b[0m\u001b[1;33m]\u001b[0m\u001b[1;33m,\u001b[0m \u001b[0mX_train\u001b[0m\u001b[1;33m[\u001b[0m\u001b[1;33m:\u001b[0m\u001b[1;33m,\u001b[0m \u001b[1;36m1\u001b[0m\u001b[1;33m]\u001b[0m\u001b[1;33m,\u001b[0m \u001b[0mc\u001b[0m\u001b[1;33m=\u001b[0m\u001b[0my_train\u001b[0m\u001b[1;33m[\u001b[0m\u001b[1;34m'shipment_days'\u001b[0m\u001b[1;33m]\u001b[0m\u001b[1;33m,\u001b[0m \u001b[0mcmap\u001b[0m\u001b[1;33m=\u001b[0m\u001b[0mcmap_dots\u001b[0m\u001b[1;33m,\u001b[0m \u001b[0medgecolor\u001b[0m\u001b[1;33m=\u001b[0m\u001b[1;34m'k'\u001b[0m\u001b[1;33m,\u001b[0m \u001b[0ms\u001b[0m\u001b[1;33m=\u001b[0m\u001b[1;36m20\u001b[0m\u001b[1;33m)\u001b[0m\u001b[1;33m\u001b[0m\u001b[1;33m\u001b[0m\u001b[0m\n\u001b[0m\u001b[0;32m     12\u001b[0m \u001b[1;31m#plt.xlim(xx.min(), xx.max())\u001b[0m\u001b[1;33m\u001b[0m\u001b[1;33m\u001b[0m\u001b[1;33m\u001b[0m\u001b[0m\n\u001b[0;32m     13\u001b[0m \u001b[1;31m#plt.ylim(yy.min(), yy.max())\u001b[0m\u001b[1;33m\u001b[0m\u001b[1;33m\u001b[0m\u001b[1;33m\u001b[0m\u001b[0m\n",
      "\u001b[1;32m~\\AppData\\Local\\Continuum\\anaconda3\\envs\\diplodatos\\lib\\site-packages\\pandas\\core\\frame.py\u001b[0m in \u001b[0;36m__getitem__\u001b[1;34m(self, key)\u001b[0m\n\u001b[0;32m   2925\u001b[0m             \u001b[1;32mif\u001b[0m \u001b[0mself\u001b[0m\u001b[1;33m.\u001b[0m\u001b[0mcolumns\u001b[0m\u001b[1;33m.\u001b[0m\u001b[0mnlevels\u001b[0m \u001b[1;33m>\u001b[0m \u001b[1;36m1\u001b[0m\u001b[1;33m:\u001b[0m\u001b[1;33m\u001b[0m\u001b[1;33m\u001b[0m\u001b[0m\n\u001b[0;32m   2926\u001b[0m                 \u001b[1;32mreturn\u001b[0m \u001b[0mself\u001b[0m\u001b[1;33m.\u001b[0m\u001b[0m_getitem_multilevel\u001b[0m\u001b[1;33m(\u001b[0m\u001b[0mkey\u001b[0m\u001b[1;33m)\u001b[0m\u001b[1;33m\u001b[0m\u001b[1;33m\u001b[0m\u001b[0m\n\u001b[1;32m-> 2927\u001b[1;33m             \u001b[0mindexer\u001b[0m \u001b[1;33m=\u001b[0m \u001b[0mself\u001b[0m\u001b[1;33m.\u001b[0m\u001b[0mcolumns\u001b[0m\u001b[1;33m.\u001b[0m\u001b[0mget_loc\u001b[0m\u001b[1;33m(\u001b[0m\u001b[0mkey\u001b[0m\u001b[1;33m)\u001b[0m\u001b[1;33m\u001b[0m\u001b[1;33m\u001b[0m\u001b[0m\n\u001b[0m\u001b[0;32m   2928\u001b[0m             \u001b[1;32mif\u001b[0m \u001b[0mis_integer\u001b[0m\u001b[1;33m(\u001b[0m\u001b[0mindexer\u001b[0m\u001b[1;33m)\u001b[0m\u001b[1;33m:\u001b[0m\u001b[1;33m\u001b[0m\u001b[1;33m\u001b[0m\u001b[0m\n\u001b[0;32m   2929\u001b[0m                 \u001b[0mindexer\u001b[0m \u001b[1;33m=\u001b[0m \u001b[1;33m[\u001b[0m\u001b[0mindexer\u001b[0m\u001b[1;33m]\u001b[0m\u001b[1;33m\u001b[0m\u001b[1;33m\u001b[0m\u001b[0m\n",
      "\u001b[1;32m~\\AppData\\Local\\Continuum\\anaconda3\\envs\\diplodatos\\lib\\site-packages\\pandas\\core\\indexes\\base.py\u001b[0m in \u001b[0;36mget_loc\u001b[1;34m(self, key, method, tolerance)\u001b[0m\n\u001b[0;32m   2655\u001b[0m                                  'backfill or nearest lookups')\n\u001b[0;32m   2656\u001b[0m             \u001b[1;32mtry\u001b[0m\u001b[1;33m:\u001b[0m\u001b[1;33m\u001b[0m\u001b[1;33m\u001b[0m\u001b[0m\n\u001b[1;32m-> 2657\u001b[1;33m                 \u001b[1;32mreturn\u001b[0m \u001b[0mself\u001b[0m\u001b[1;33m.\u001b[0m\u001b[0m_engine\u001b[0m\u001b[1;33m.\u001b[0m\u001b[0mget_loc\u001b[0m\u001b[1;33m(\u001b[0m\u001b[0mkey\u001b[0m\u001b[1;33m)\u001b[0m\u001b[1;33m\u001b[0m\u001b[1;33m\u001b[0m\u001b[0m\n\u001b[0m\u001b[0;32m   2658\u001b[0m             \u001b[1;32mexcept\u001b[0m \u001b[0mKeyError\u001b[0m\u001b[1;33m:\u001b[0m\u001b[1;33m\u001b[0m\u001b[1;33m\u001b[0m\u001b[0m\n\u001b[0;32m   2659\u001b[0m                 \u001b[1;32mreturn\u001b[0m \u001b[0mself\u001b[0m\u001b[1;33m.\u001b[0m\u001b[0m_engine\u001b[0m\u001b[1;33m.\u001b[0m\u001b[0mget_loc\u001b[0m\u001b[1;33m(\u001b[0m\u001b[0mself\u001b[0m\u001b[1;33m.\u001b[0m\u001b[0m_maybe_cast_indexer\u001b[0m\u001b[1;33m(\u001b[0m\u001b[0mkey\u001b[0m\u001b[1;33m)\u001b[0m\u001b[1;33m)\u001b[0m\u001b[1;33m\u001b[0m\u001b[1;33m\u001b[0m\u001b[0m\n",
      "\u001b[1;32mpandas/_libs/index.pyx\u001b[0m in \u001b[0;36mpandas._libs.index.IndexEngine.get_loc\u001b[1;34m()\u001b[0m\n",
      "\u001b[1;32mpandas/_libs/index.pyx\u001b[0m in \u001b[0;36mpandas._libs.index.IndexEngine.get_loc\u001b[1;34m()\u001b[0m\n",
      "\u001b[1;31mTypeError\u001b[0m: '(slice(None, None, None), 0)' is an invalid key"
     ]
    },
    {
     "data": {
      "image/png": "[encoded data removed]",
      "text/plain": [
       "<Figure size 1120x400 with 1 Axes>"
      ]
     },
     "metadata": {},
     "output_type": "display_data"
    }
   ],
   "source": [
    "plt.figure(figsize=(14, 5), dpi=80, facecolor='w', edgecolor='k')\n",
    "\n",
    "#xx, yy, Z = classifier_boundary(np.r_[X_train, X_test], model)\n",
    "\n",
    "cmap_dots = ListedColormap(['tomato', 'dodgerblue', 'goldenrod', 'red', 'blue', 'green'])\n",
    "cmap_back = ListedColormap(['lightcoral', 'skyblue', 'palegoldenrod', 'yelow', 'violet', 'orange'])\n",
    "\n",
    "# Conjunto de entrenamiento\n",
    "plt.subplot(1, 2, 1)\n",
    "#plt.pcolormesh(xx, yy, Z, cmap=cmap_back)\n",
    "plt.scatter(X_train[:, 0], X_train[:, 1], c=y_train['shipment_days'], cmap=cmap_dots, edgecolor='k', s=20)\n",
    "#plt.xlim(xx.min(), xx.max())\n",
    "#plt.ylim(yy.min(), yy.max())\n",
    "plt.title(\"Conjunto de Entrenamiento\")\n",
    "\n",
    "# Conjunto de validación\n",
    "plt.subplot(1, 2, 2)\n",
    "#plt.pcolormesh(xx, yy, Z, cmap=cmap_back)\n",
    "plt.scatter(X_test[:, 0], X_test[:, 1], c=y_test['shipment_days'], cmap=cmap_dots, edgecolor='k', s=20)\n",
    "#plt.xlim(xx.min(), xx.max())\n",
    "#plt.ylim(yy.min(), yy.max())\n",
    "plt.title(\"Conjunto de Validación\")\n",
    "\n",
    "plt.show()"
   ]
  },
  {
   "cell_type": "markdown",
   "metadata": {
    "colab_type": "text",
    "id": "vLRNDnvYn4SS"
   },
   "source": [
    "## Utilizando la variable shipment_days en su versión de tipo numérica"
   ]
  },
  {
   "cell_type": "markdown",
   "metadata": {
    "colab_type": "text",
    "id": "i8eqmbB3n4Fc"
   },
   "source": [
    "## Utilizando la variable shipment_days en su versión de tipo categórica"
   ]
  },
  {
   "cell_type": "code",
   "execution_count": 0,
   "metadata": {
    "colab": {},
    "colab_type": "code",
    "id": "w3wWrqnTnwUJ"
   },
   "outputs": [],
   "source": []
  }
 ],
 "metadata": {
  "colab": {
   "collapsed_sections": [],
   "name": "practico3-Mentoria.ipynb",
   "provenance": [],
   "version": "0.3.2"
  },
  "kernelspec": {
   "display_name": "Python 3",
   "language": "python",
   "name": "python3"
  },
  "language_info": {
   "codemirror_mode": {
    "name": "ipython",
    "version": 3
   },
   "file_extension": ".py",
   "mimetype": "text/x-python",
   "name": "python",
   "nbconvert_exporter": "python",
   "pygments_lexer": "ipython3",
   "version": "3.6.8"
  }
 },
 "nbformat": 4,
 "nbformat_minor": 1
}
