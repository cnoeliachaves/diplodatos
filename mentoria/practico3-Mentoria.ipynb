{
 "cells": [
  {
   "cell_type": "markdown",
   "metadata": {
    "colab_type": "text",
    "id": "UK2eYuMWUX0P"
   },
   "source": [
    "# Logística de envíos: ¿Cuándo llega?\n",
    "\n",
    "## Mentoría DiploDatos 2019 \n",
    "\n",
    "### Integrantes:\n",
    "\n",
    "- Chaves, Noelia\n",
    "- Frau, Johanna\n",
    "\n",
    "### Mentora:\n",
    "\n",
    "- Dal Lago, Virginia\n",
    "\n",
    "### Práctico: Introducción al aprendizaje automático"
   ]
  },
  {
   "cell_type": "markdown",
   "metadata": {
    "colab_type": "text",
    "id": "DQguL3wiUX0R"
   },
   "source": [
    "## Motivación\n",
    "\n",
    "En la actualidad, cada vez más productos se comercializan a través de una plataforma online. Una de las principales ventajas de este sistema es que el usuario puede recibir el producto en su domicilio en una fecha determinada. Pero, ¿cómo sabemos qué día va a llegar? ¿A partir de qué datos podemos predecir la demora del envío? En este práctico se trabajará con datos de envíos de MercadoLibre, el e-commerce más grande de Latinoamérica, analizando y modelando el problema de logística de envíos para poder responder ¿cuándo llega?\n",
    "\n",
    "## Descripción del dataset\n",
    "\n",
    "**Datos:**  El conjunto de datos seleccionado para realizar el práctico corresponde a un muestreo aleatorio no uniforme de 500.000 envíos de MercadoLibre. Estos envíos fueron realizados en Brasil en el período comprendido entre Octubre de 2018 y Abril de 2019 (las fechas originales han sido modificadas y adaptadas a un período de tiempo diferente, conservando el día de la semana y considerando los feriados correspondientes). Mientras que las fechas han sido modificadas, los horarios registrados en el dataset son los originales. Los datos comprenden variables tanto categóricas como numéricas. \n",
    "\n",
    "El dataset cuenta con las siguientes columnas:\n",
    "\n",
    "- **Sender_state:** Estado de Brasil de donde sale el envío.\n",
    "- **Sender_zipcode:** Código postal (de 5 dígitos) de donde sale el envío.\n",
    "- **Receiver_state:** Estado de Brasil a donde llega el envío.\n",
    "- **Receiver_zipcode:** Código postal (de 5 dígitos) a donde llega el envío.\n",
    "- **Shipment_type:** Método de envío (normal, express, super).\n",
    "- **Quantity:** Cantidad de productos en un envío.\n",
    "- **Service:** Servicio del correo con el cual se realizó un envío.\n",
    "- **Status:** Estado del envío (set: listo para ser enviado, sent: enviado, done: entregado, failed: no entregado, cancelled: cancelado).\n",
    "- **Date_created:** Fecha de creación del envío.\n",
    "- **Date_sent:** Fecha y hora en que se realizó el envío (salió del correo).\n",
    "- **Date_visit:** Fecha y hora en que se entregó el envío al destinatario.\n",
    "- **Shipment_days:** Días hábiles entre que el envío fue enviado (salió del correo) y que fue entregado.\n",
    "\n",
    "\n"
   ]
  },
  {
   "cell_type": "markdown",
   "metadata": {
    "colab_type": "text",
    "id": "6C71choGUX0S"
   },
   "source": [
    "## Objetivos generales\n",
    "\n",
    "  * Realizar de manera completa el proceso de desarrollo de un modelo de aprendizaje automático para determinar cuándo llega un envío.\n",
    "  * Desarrollar el conocimiento práctico sobre dicho proceso, desde la definición de los datasets, la elección y análisis del modelo y las métricas propias para la problemática.\n",
    "  * Desarrollar habilidades de comunicación de la información obtenida a partir de los datos de manera clara y sencilla."
   ]
  },
  {
   "cell_type": "markdown",
   "metadata": {
    "colab_type": "text",
    "id": "IiRvgazNUX0T"
   },
   "source": [
    "## Objetivos específicos\n",
    "\n",
    "    *\n",
    "    *\n",
    "    *\n"
   ]
  },
  {
   "cell_type": "markdown",
   "metadata": {
    "colab_type": "text",
    "id": "fr-c3rSLUX0U"
   },
   "source": [
    "## Desarrollo del trabajo"
   ]
  },
  {
   "cell_type": "code",
   "execution_count": 2,
   "metadata": {
    "colab": {},
    "colab_type": "code",
    "id": "8PZqZdWOUX0V"
   },
   "outputs": [],
   "source": [
    "import matplotlib.pyplot as plt\n",
    "import numpy \n",
    "import pandas\n",
    "import seaborn\n",
    "\n",
    "\n",
    "from IPython.display import HTML\n",
    "from matplotlib.colors import ListedColormap\n",
    "from scipy import stats\n",
    "from sklearn import preprocessing\n",
    "\n",
    "from sklearn.metrics import confusion_matrix\n",
    "from sklearn.metrics import classification_report\n",
    "from sklearn.model_selection import train_test_split\n",
    "from sklearn.neighbors import KNeighborsClassifier\n",
    "from sklearn.preprocessing import MinMaxScaler\n"
   ]
  },
  {
   "cell_type": "markdown",
   "metadata": {
    "colab_type": "text",
    "id": "Jptu3QGeUX0a"
   },
   "source": [
    "### Lectura y análisis inicial de los datos"
   ]
  },
  {
   "cell_type": "code",
   "execution_count": 145,
   "metadata": {
    "colab": {
     "base_uri": "https://localhost:8080/",
     "height": 33
    },
    "colab_type": "code",
    "executionInfo": {
     "elapsed": 4045,
     "status": "ok",
     "timestamp": 1563646506140,
     "user": {
      "displayName": "Johanna Frau",
      "photoUrl": "https://lh4.googleusercontent.com/-vsvj7_Spx5E/AAAAAAAAAAI/AAAAAAAAw80/hKdmIURaf-g/s64/photo.jpg",
      "userId": "12340570416827246133"
     },
     "user_tz": -120
    },
    "id": "S8n6LFm5UX0b",
    "outputId": "357c8857-fde7-4fd9-a4cf-8579d0647d7f"
   },
   "outputs": [
    {
     "data": {
      "text/plain": [
       "(500000, 12)"
      ]
     },
     "execution_count": 145,
     "metadata": {},
     "output_type": "execute_result"
    }
   ],
   "source": [
    "url = \"https://raw.githubusercontent.com/cnoeliachaves/csv/master/dataset_sample_corrected.csv\"\n",
    "\n",
    "dataset = pandas.read_csv(url, dtype={'sender_zipcode':'int64',\n",
    "                              'receiver_zipcode':'int64',\n",
    "                              'quantity':'int64',\n",
    "                              'service':'int64'},\n",
    "                       parse_dates=['date_created','date_sent','date_visit'])\n",
    "dataset.shape\n"
   ]
  },
  {
   "cell_type": "code",
   "execution_count": 124,
   "metadata": {
    "colab": {
     "base_uri": "https://localhost:8080/",
     "height": 83
    },
    "colab_type": "code",
    "executionInfo": {
     "elapsed": 4032,
     "status": "ok",
     "timestamp": 1563646506142,
     "user": {
      "displayName": "Johanna Frau",
      "photoUrl": "https://lh4.googleusercontent.com/-vsvj7_Spx5E/AAAAAAAAAAI/AAAAAAAAw80/hKdmIURaf-g/s64/photo.jpg",
      "userId": "12340570416827246133"
     },
     "user_tz": -120
    },
    "id": "p6Xgk-azUX0f",
    "outputId": "ce100f7c-af9c-4933-b06e-bd38e6a00b6c"
   },
   "outputs": [
    {
     "data": {
      "text/plain": [
       "Index(['sender_state', 'sender_zipcode', 'receiver_state', 'receiver_zipcode',\n",
       "       'shipment_type', 'quantity', 'service', 'status', 'date_created',\n",
       "       'date_sent', 'date_visit', 'shipment_days'],\n",
       "      dtype='object')"
      ]
     },
     "execution_count": 124,
     "metadata": {},
     "output_type": "execute_result"
    }
   ],
   "source": [
    "#dataset.columns"
   ]
  },
  {
   "cell_type": "code",
   "execution_count": 86,
   "metadata": {
    "colab": {
     "base_uri": "https://localhost:8080/",
     "height": 300
    },
    "colab_type": "code",
    "executionInfo": {
     "elapsed": 4012,
     "status": "ok",
     "timestamp": 1563646506144,
     "user": {
      "displayName": "Johanna Frau",
      "photoUrl": "https://lh4.googleusercontent.com/-vsvj7_Spx5E/AAAAAAAAAAI/AAAAAAAAw80/hKdmIURaf-g/s64/photo.jpg",
      "userId": "12340570416827246133"
     },
     "user_tz": -120
    },
    "id": "Q2Swl5SvUX0i",
    "outputId": "4dc5895f-45b1-4ea9-83e0-cba37622fa7b"
   },
   "outputs": [
    {
     "name": "stdout",
     "output_type": "stream",
     "text": [
      "<class 'pandas.core.frame.DataFrame'>\n",
      "RangeIndex: 500000 entries, 0 to 499999\n",
      "Data columns (total 12 columns):\n",
      "sender_state        500000 non-null object\n",
      "sender_zipcode      500000 non-null int64\n",
      "receiver_state      500000 non-null object\n",
      "receiver_zipcode    500000 non-null int64\n",
      "shipment_type       500000 non-null object\n",
      "quantity            500000 non-null int64\n",
      "service             500000 non-null int64\n",
      "status              500000 non-null object\n",
      "date_created        500000 non-null datetime64[ns]\n",
      "date_sent           499971 non-null datetime64[ns]\n",
      "date_visit          499398 non-null datetime64[ns]\n",
      "shipment_days       499398 non-null float64\n",
      "dtypes: datetime64[ns](3), float64(1), int64(4), object(4)\n",
      "memory usage: 45.8+ MB\n"
     ]
    }
   ],
   "source": [
    "#dataset.info()"
   ]
  },
  {
   "cell_type": "code",
   "execution_count": 146,
   "metadata": {
    "colab": {
     "base_uri": "https://localhost:8080/",
     "height": 534
    },
    "colab_type": "code",
    "executionInfo": {
     "elapsed": 4262,
     "status": "ok",
     "timestamp": 1563646506407,
     "user": {
      "displayName": "Johanna Frau",
      "photoUrl": "https://lh4.googleusercontent.com/-vsvj7_Spx5E/AAAAAAAAAAI/AAAAAAAAw80/hKdmIURaf-g/s64/photo.jpg",
      "userId": "12340570416827246133"
     },
     "user_tz": -120
    },
    "id": "1mz8vwJfUX0l",
    "outputId": "5999833c-be7e-4e99-ad88-3caba0881f33"
   },
   "outputs": [
    {
     "data": {
      "text/html": [
       "<div>\n",
       "<style scoped>\n",
       "    .dataframe tbody tr th:only-of-type {\n",
       "        vertical-align: middle;\n",
       "    }\n",
       "\n",
       "    .dataframe tbody tr th {\n",
       "        vertical-align: top;\n",
       "    }\n",
       "\n",
       "    .dataframe thead th {\n",
       "        text-align: right;\n",
       "    }\n",
       "</style>\n",
       "<table border=\"1\" class=\"dataframe\">\n",
       "  <thead>\n",
       "    <tr style=\"text-align: right;\">\n",
       "      <th></th>\n",
       "      <th>sender_state</th>\n",
       "      <th>sender_zipcode</th>\n",
       "      <th>receiver_state</th>\n",
       "      <th>receiver_zipcode</th>\n",
       "      <th>shipment_type</th>\n",
       "      <th>quantity</th>\n",
       "      <th>service</th>\n",
       "      <th>status</th>\n",
       "      <th>date_created</th>\n",
       "      <th>date_sent</th>\n",
       "      <th>date_visit</th>\n",
       "      <th>shipment_days</th>\n",
       "    </tr>\n",
       "  </thead>\n",
       "  <tbody>\n",
       "    <tr>\n",
       "      <th>194257</th>\n",
       "      <td>SP</td>\n",
       "      <td>3734</td>\n",
       "      <td>RS</td>\n",
       "      <td>96540</td>\n",
       "      <td>standard</td>\n",
       "      <td>1</td>\n",
       "      <td>4</td>\n",
       "      <td>done</td>\n",
       "      <td>2019-02-17</td>\n",
       "      <td>2019-02-22 03:49:21</td>\n",
       "      <td>2019-03-07 15:09:00</td>\n",
       "      <td>6.0</td>\n",
       "    </tr>\n",
       "    <tr>\n",
       "      <th>396319</th>\n",
       "      <td>SP</td>\n",
       "      <td>6422</td>\n",
       "      <td>SP</td>\n",
       "      <td>9580</td>\n",
       "      <td>express</td>\n",
       "      <td>1</td>\n",
       "      <td>5</td>\n",
       "      <td>done</td>\n",
       "      <td>2019-03-04</td>\n",
       "      <td>2019-03-07 20:24:02</td>\n",
       "      <td>2019-03-07 10:02:09</td>\n",
       "      <td>0.0</td>\n",
       "    </tr>\n",
       "    <tr>\n",
       "      <th>138738</th>\n",
       "      <td>SP</td>\n",
       "      <td>14940</td>\n",
       "      <td>CE</td>\n",
       "      <td>62650</td>\n",
       "      <td>standard</td>\n",
       "      <td>1</td>\n",
       "      <td>1</td>\n",
       "      <td>done</td>\n",
       "      <td>2019-02-08</td>\n",
       "      <td>2019-02-13 13:51:00</td>\n",
       "      <td>2019-03-11 14:16:00</td>\n",
       "      <td>15.0</td>\n",
       "    </tr>\n",
       "    <tr>\n",
       "      <th>66570</th>\n",
       "      <td>SP</td>\n",
       "      <td>1004</td>\n",
       "      <td>MG</td>\n",
       "      <td>32340</td>\n",
       "      <td>express</td>\n",
       "      <td>1</td>\n",
       "      <td>4</td>\n",
       "      <td>done</td>\n",
       "      <td>2019-03-16</td>\n",
       "      <td>2019-03-19 00:52:07</td>\n",
       "      <td>2019-03-25 19:00:00</td>\n",
       "      <td>4.0</td>\n",
       "    </tr>\n",
       "    <tr>\n",
       "      <th>149424</th>\n",
       "      <td>SP</td>\n",
       "      <td>13254</td>\n",
       "      <td>BA</td>\n",
       "      <td>44700</td>\n",
       "      <td>express</td>\n",
       "      <td>1</td>\n",
       "      <td>0</td>\n",
       "      <td>done</td>\n",
       "      <td>2019-03-02</td>\n",
       "      <td>2019-03-04 15:41:00</td>\n",
       "      <td>2019-03-12 15:19:00</td>\n",
       "      <td>3.0</td>\n",
       "    </tr>\n",
       "    <tr>\n",
       "      <th>128165</th>\n",
       "      <td>SP</td>\n",
       "      <td>9850</td>\n",
       "      <td>SP</td>\n",
       "      <td>12301</td>\n",
       "      <td>express</td>\n",
       "      <td>2</td>\n",
       "      <td>0</td>\n",
       "      <td>done</td>\n",
       "      <td>2019-03-17</td>\n",
       "      <td>2019-03-19 13:39:00</td>\n",
       "      <td>2019-03-20 18:59:00</td>\n",
       "      <td>1.0</td>\n",
       "    </tr>\n",
       "    <tr>\n",
       "      <th>264495</th>\n",
       "      <td>SP</td>\n",
       "      <td>3627</td>\n",
       "      <td>BA</td>\n",
       "      <td>44690</td>\n",
       "      <td>standard</td>\n",
       "      <td>1</td>\n",
       "      <td>1</td>\n",
       "      <td>done</td>\n",
       "      <td>2019-03-04</td>\n",
       "      <td>2019-03-06 12:13:00</td>\n",
       "      <td>2019-03-22 14:17:00</td>\n",
       "      <td>11.0</td>\n",
       "    </tr>\n",
       "    <tr>\n",
       "      <th>30371</th>\n",
       "      <td>SP</td>\n",
       "      <td>13456</td>\n",
       "      <td>SP</td>\n",
       "      <td>5268</td>\n",
       "      <td>express</td>\n",
       "      <td>2</td>\n",
       "      <td>0</td>\n",
       "      <td>done</td>\n",
       "      <td>2019-03-12</td>\n",
       "      <td>2019-03-13 15:07:00</td>\n",
       "      <td>2019-03-14 16:26:00</td>\n",
       "      <td>1.0</td>\n",
       "    </tr>\n",
       "    <tr>\n",
       "      <th>456998</th>\n",
       "      <td>SP</td>\n",
       "      <td>3004</td>\n",
       "      <td>SC</td>\n",
       "      <td>89300</td>\n",
       "      <td>standard</td>\n",
       "      <td>1</td>\n",
       "      <td>3</td>\n",
       "      <td>done</td>\n",
       "      <td>2019-02-15</td>\n",
       "      <td>2019-02-17 04:52:00</td>\n",
       "      <td>2019-03-07 17:56:00</td>\n",
       "      <td>10.0</td>\n",
       "    </tr>\n",
       "    <tr>\n",
       "      <th>32001</th>\n",
       "      <td>SP</td>\n",
       "      <td>19013</td>\n",
       "      <td>SP</td>\n",
       "      <td>14815</td>\n",
       "      <td>standard</td>\n",
       "      <td>2</td>\n",
       "      <td>1</td>\n",
       "      <td>done</td>\n",
       "      <td>2019-03-21</td>\n",
       "      <td>2019-03-22 14:32:00</td>\n",
       "      <td>2019-03-26 13:39:00</td>\n",
       "      <td>2.0</td>\n",
       "    </tr>\n",
       "  </tbody>\n",
       "</table>\n",
       "</div>"
      ],
      "text/plain": [
       "       sender_state  sender_zipcode receiver_state  receiver_zipcode  \\\n",
       "194257           SP            3734             RS             96540   \n",
       "396319           SP            6422             SP              9580   \n",
       "138738           SP           14940             CE             62650   \n",
       "66570            SP            1004             MG             32340   \n",
       "149424           SP           13254             BA             44700   \n",
       "128165           SP            9850             SP             12301   \n",
       "264495           SP            3627             BA             44690   \n",
       "30371            SP           13456             SP              5268   \n",
       "456998           SP            3004             SC             89300   \n",
       "32001            SP           19013             SP             14815   \n",
       "\n",
       "       shipment_type  quantity  service status date_created  \\\n",
       "194257      standard         1        4   done   2019-02-17   \n",
       "396319       express         1        5   done   2019-03-04   \n",
       "138738      standard         1        1   done   2019-02-08   \n",
       "66570        express         1        4   done   2019-03-16   \n",
       "149424       express         1        0   done   2019-03-02   \n",
       "128165       express         2        0   done   2019-03-17   \n",
       "264495      standard         1        1   done   2019-03-04   \n",
       "30371        express         2        0   done   2019-03-12   \n",
       "456998      standard         1        3   done   2019-02-15   \n",
       "32001       standard         2        1   done   2019-03-21   \n",
       "\n",
       "                 date_sent          date_visit  shipment_days  \n",
       "194257 2019-02-22 03:49:21 2019-03-07 15:09:00            6.0  \n",
       "396319 2019-03-07 20:24:02 2019-03-07 10:02:09            0.0  \n",
       "138738 2019-02-13 13:51:00 2019-03-11 14:16:00           15.0  \n",
       "66570  2019-03-19 00:52:07 2019-03-25 19:00:00            4.0  \n",
       "149424 2019-03-04 15:41:00 2019-03-12 15:19:00            3.0  \n",
       "128165 2019-03-19 13:39:00 2019-03-20 18:59:00            1.0  \n",
       "264495 2019-03-06 12:13:00 2019-03-22 14:17:00           11.0  \n",
       "30371  2019-03-13 15:07:00 2019-03-14 16:26:00            1.0  \n",
       "456998 2019-02-17 04:52:00 2019-03-07 17:56:00           10.0  \n",
       "32001  2019-03-22 14:32:00 2019-03-26 13:39:00            2.0  "
      ]
     },
     "execution_count": 146,
     "metadata": {},
     "output_type": "execute_result"
    }
   ],
   "source": [
    "numpy.random.seed(0) #con propositos de reproducibilidad\n",
    "dataset.sample(10)"
   ]
  },
  {
   "cell_type": "markdown",
   "metadata": {
    "colab_type": "text",
    "id": "xPCw0z_hUX0p"
   },
   "source": [
    "### Limpieza de datos\n",
    "\n",
    "En esta sección retomaremos algunos puntos del práctico anterior con el objetivo de limpiar nuestro dataset."
   ]
  },
  {
   "cell_type": "markdown",
   "metadata": {
    "colab_type": "text",
    "id": "y_-ydh1qUX0q"
   },
   "source": [
    "**Shipment day anómalos**\n",
    "\n",
    "En primer lugar, eliminaremos los valores de shipment days negativos."
   ]
  },
  {
   "cell_type": "code",
   "execution_count": 147,
   "metadata": {
    "colab": {},
    "colab_type": "code",
    "id": "ftujA2CMUX0r"
   },
   "outputs": [],
   "source": [
    "def clean_shipment_days(dataset):\n",
    "    \"\"\"Le saco los valores negativos\"\"\"\n",
    "    shipments_days = dataset['shipment_days']\n",
    "    mask = (shipments_days >= 0)\n",
    "    return dataset[mask] "
   ]
  },
  {
   "cell_type": "code",
   "execution_count": 148,
   "metadata": {
    "colab": {},
    "colab_type": "code",
    "id": "3b-stq_lUX0v"
   },
   "outputs": [],
   "source": [
    "dataset_clean = clean_shipment_days(dataset)"
   ]
  },
  {
   "cell_type": "markdown",
   "metadata": {
    "colab_type": "text",
    "id": "D9YxxoODUX00"
   },
   "source": [
    "**Datos duplicados**\n",
    "\n",
    "Como se observo en el práctico anterior nuestro conjunto de datos contaba con 6469 filas de información duplicada las cuales procederemos a eliminar a continuación. "
   ]
  },
  {
   "cell_type": "code",
   "execution_count": 149,
   "metadata": {
    "colab": {},
    "colab_type": "code",
    "id": "gPkqRtySUX01"
   },
   "outputs": [],
   "source": [
    "dataset_clean = dataset_clean.drop_duplicates()"
   ]
  },
  {
   "cell_type": "markdown",
   "metadata": {
    "colab_type": "text",
    "id": "qI7zHvo0UX04"
   },
   "source": [
    "**Fechas anómalas**\n",
    "\n",
    "En el análisis realizado en el práctico anterior de las 3 variables con información de fechas y horas encontramos que la variable date_created cuenta con valores que caen fuera del intervalo temporal considerado y que todos ellos se encuentran ubicados en el mes de Junio de 2019. Luego de haber realizado una inspección de esta información anómala llegamos a la conclusión que los mismos podrían deberse a un error en el proceso de carga y que en realidad son datos de Enero de 2019. \n",
    "\n",
    "Siguiendo esta idea decidimos en este momento subsanar este posible error de carga haciendo que la información de la variable date_created correspondiente al mes de Junio de 2019 sea ahora del mes de Enero de 2019."
   ]
  },
  {
   "cell_type": "code",
   "execution_count": 150,
   "metadata": {
    "colab": {
     "base_uri": "https://localhost:8080/",
     "height": 1000
    },
    "colab_type": "code",
    "executionInfo": {
     "elapsed": 6365,
     "status": "ok",
     "timestamp": 1563646508556,
     "user": {
      "displayName": "Johanna Frau",
      "photoUrl": "https://lh4.googleusercontent.com/-vsvj7_Spx5E/AAAAAAAAAAI/AAAAAAAAw80/hKdmIURaf-g/s64/photo.jpg",
      "userId": "12340570416827246133"
     },
     "user_tz": -120
    },
    "id": "kI_G2Ya_UX05",
    "outputId": "2122df40-68ab-4b6d-d4eb-c010013061dc"
   },
   "outputs": [],
   "source": [
    "date_created_junio = dataset_clean[dataset_clean['date_created'].map(lambda x: x.month) == 6]\n",
    "#date_created_junio"
   ]
  },
  {
   "cell_type": "code",
   "execution_count": 151,
   "metadata": {
    "colab": {},
    "colab_type": "code",
    "id": "y9tz1biUUX0_"
   },
   "outputs": [],
   "source": [
    "from datetime import timedelta\n",
    "\n",
    "date_created_junio = dataset_clean['date_created'].map(lambda x: x+timedelta(days=-151) if x.month==6 else x) \n",
    "date_created_junio\n",
    "dataset_clean['date_created'] = date_created_junio"
   ]
  },
  {
   "cell_type": "code",
   "execution_count": 152,
   "metadata": {
    "colab": {
     "base_uri": "https://localhost:8080/",
     "height": 33
    },
    "colab_type": "code",
    "executionInfo": {
     "elapsed": 8021,
     "status": "ok",
     "timestamp": 1563646510239,
     "user": {
      "displayName": "Johanna Frau",
      "photoUrl": "https://lh4.googleusercontent.com/-vsvj7_Spx5E/AAAAAAAAAAI/AAAAAAAAw80/hKdmIURaf-g/s64/photo.jpg",
      "userId": "12340570416827246133"
     },
     "user_tz": -120
    },
    "id": "4EdiA6TZUX1C",
    "outputId": "665022f1-a497-4eb5-853a-bea1dbcf5a50"
   },
   "outputs": [
    {
     "data": {
      "text/plain": [
       "array([ 3,  2,  1,  4, 12, 10, 11], dtype=int64)"
      ]
     },
     "execution_count": 152,
     "metadata": {},
     "output_type": "execute_result"
    }
   ],
   "source": [
    "dataset_clean['date_created'].dt.month.unique()"
   ]
  },
  {
   "cell_type": "code",
   "execution_count": 153,
   "metadata": {
    "colab": {
     "base_uri": "https://localhost:8080/",
     "height": 227
    },
    "colab_type": "code",
    "executionInfo": {
     "elapsed": 7993,
     "status": "ok",
     "timestamp": 1563646510241,
     "user": {
      "displayName": "Johanna Frau",
      "photoUrl": "https://lh4.googleusercontent.com/-vsvj7_Spx5E/AAAAAAAAAAI/AAAAAAAAw80/hKdmIURaf-g/s64/photo.jpg",
      "userId": "12340570416827246133"
     },
     "user_tz": -120
    },
    "id": "rq8xu8gYUX1F",
    "outputId": "4b9c64c9-67c0-42e1-e8ef-94d340a7c2c0"
   },
   "outputs": [
    {
     "data": {
      "text/html": [
       "<div>\n",
       "<style scoped>\n",
       "    .dataframe tbody tr th:only-of-type {\n",
       "        vertical-align: middle;\n",
       "    }\n",
       "\n",
       "    .dataframe tbody tr th {\n",
       "        vertical-align: top;\n",
       "    }\n",
       "\n",
       "    .dataframe thead th {\n",
       "        text-align: right;\n",
       "    }\n",
       "</style>\n",
       "<table border=\"1\" class=\"dataframe\">\n",
       "  <thead>\n",
       "    <tr style=\"text-align: right;\">\n",
       "      <th></th>\n",
       "      <th>date_created</th>\n",
       "      <th>date_sent</th>\n",
       "      <th>date_visit</th>\n",
       "    </tr>\n",
       "  </thead>\n",
       "  <tbody>\n",
       "    <tr>\n",
       "      <th>count</th>\n",
       "      <td>492881</td>\n",
       "      <td>492881</td>\n",
       "      <td>492881</td>\n",
       "    </tr>\n",
       "    <tr>\n",
       "      <th>unique</th>\n",
       "      <td>124</td>\n",
       "      <td>81276</td>\n",
       "      <td>55668</td>\n",
       "    </tr>\n",
       "    <tr>\n",
       "      <th>top</th>\n",
       "      <td>2019-03-05 00:00:00</td>\n",
       "      <td>2019-03-11 15:53:00</td>\n",
       "      <td>2019-03-11 22:00:00</td>\n",
       "    </tr>\n",
       "    <tr>\n",
       "      <th>freq</th>\n",
       "      <td>20169</td>\n",
       "      <td>112</td>\n",
       "      <td>607</td>\n",
       "    </tr>\n",
       "    <tr>\n",
       "      <th>first</th>\n",
       "      <td>2018-10-21 00:00:00</td>\n",
       "      <td>2018-10-23 13:57:00</td>\n",
       "      <td>2019-02-25 05:36:00</td>\n",
       "    </tr>\n",
       "    <tr>\n",
       "      <th>last</th>\n",
       "      <td>2019-04-29 00:00:00</td>\n",
       "      <td>2019-03-29 01:46:20</td>\n",
       "      <td>2019-04-02 15:35:00</td>\n",
       "    </tr>\n",
       "  </tbody>\n",
       "</table>\n",
       "</div>"
      ],
      "text/plain": [
       "               date_created            date_sent           date_visit\n",
       "count                492881               492881               492881\n",
       "unique                  124                81276                55668\n",
       "top     2019-03-05 00:00:00  2019-03-11 15:53:00  2019-03-11 22:00:00\n",
       "freq                  20169                  112                  607\n",
       "first   2018-10-21 00:00:00  2018-10-23 13:57:00  2019-02-25 05:36:00\n",
       "last    2019-04-29 00:00:00  2019-03-29 01:46:20  2019-04-02 15:35:00"
      ]
     },
     "execution_count": 153,
     "metadata": {},
     "output_type": "execute_result"
    }
   ],
   "source": [
    "dataset_clean.describe(include='datetime64')"
   ]
  },
  {
   "cell_type": "markdown",
   "metadata": {
    "colab_type": "text",
    "id": "iREKMj2mnqfu"
   },
   "source": [
    "### La importancia de predecir el valor de la variable shipment_days\n",
    "\n",
    "Uno de los objetivos principales del análisis propuesto en esta mentoría es predecir (dar un número aproximado de días hábiles) de cuanto va a tardar en llegar un envío desde que el cliente realiza la compra a través de la plataforma de Mercado Libre hasta que el paquete llega a su casa. Dicha predicción es importante porque es la que recibe el cliente y es la que determinará en una buena proporción la experiencia del usuario dentro la plataforma.\n",
    "\n",
    "Esto nos lleva a pensar que dicha predicción se parecerá a los valores de la variable shipment_days con, quizás, 1 o 2 días más de diferencia. Pues este último feature cuenta el intervalo de días entre date_sent y date_visit y nosotros necesitamos dar la aproximación a partir del momento de la compra. Por lo tanto este sería el target de un algoritmo de aprendizaje automático. Si bien este feature originalmente es información de tipo numérica en el práctico anterior utilizamos enconding para convertirla en una variable categórica. Así, esto nos da la posibilidad de trabajar con diferentes modelos de aprendizaje automático utilizando el mismo feature como target pero en sus diferentes versiones.\n",
    "\n",
    "Frente a este problema consideramos que el estado de Brasil que recibe el envío (receiver_state) es un feature importante a tener en cuenta (mientras más lejos esté de San Pablo probablemente demore más) y probablemente también el código postal de dicho estado (receiver_zipcode). Por otro lado, el tipo de correo (service) también puede ser una variable importante a tener en cuenta porque la calidad de servicio impactará directamente en los días que tarda en llegar el pedido.\n",
    "\n"
   ]
  },
  {
   "cell_type": "code",
   "execution_count": 154,
   "metadata": {
    "colab": {
     "base_uri": "https://localhost:8080/",
     "height": 301
    },
    "colab_type": "code",
    "executionInfo": {
     "elapsed": 7981,
     "status": "ok",
     "timestamp": 1563646510243,
     "user": {
      "displayName": "Johanna Frau",
      "photoUrl": "https://lh4.googleusercontent.com/-vsvj7_Spx5E/AAAAAAAAAAI/AAAAAAAAw80/hKdmIURaf-g/s64/photo.jpg",
      "userId": "12340570416827246133"
     },
     "user_tz": -120
    },
    "id": "qGfPmS5oUX1I",
    "outputId": "0fb8bcb1-9759-46c0-d93b-202ad9da2b3e"
   },
   "outputs": [
    {
     "data": {
      "text/html": [
       "<div>\n",
       "<style scoped>\n",
       "    .dataframe tbody tr th:only-of-type {\n",
       "        vertical-align: middle;\n",
       "    }\n",
       "\n",
       "    .dataframe tbody tr th {\n",
       "        vertical-align: top;\n",
       "    }\n",
       "\n",
       "    .dataframe thead th {\n",
       "        text-align: right;\n",
       "    }\n",
       "</style>\n",
       "<table border=\"1\" class=\"dataframe\">\n",
       "  <thead>\n",
       "    <tr style=\"text-align: right;\">\n",
       "      <th></th>\n",
       "      <th>sender_state</th>\n",
       "      <th>sender_zipcode</th>\n",
       "      <th>receiver_state</th>\n",
       "      <th>receiver_zipcode</th>\n",
       "      <th>shipment_type</th>\n",
       "      <th>quantity</th>\n",
       "      <th>service</th>\n",
       "      <th>status</th>\n",
       "      <th>date_created</th>\n",
       "      <th>date_sent</th>\n",
       "      <th>date_visit</th>\n",
       "      <th>shipment_days</th>\n",
       "    </tr>\n",
       "  </thead>\n",
       "  <tbody>\n",
       "    <tr>\n",
       "      <th>318643</th>\n",
       "      <td>SP</td>\n",
       "      <td>14405</td>\n",
       "      <td>PR</td>\n",
       "      <td>85865</td>\n",
       "      <td>standard</td>\n",
       "      <td>1</td>\n",
       "      <td>2</td>\n",
       "      <td>done</td>\n",
       "      <td>2019-03-04</td>\n",
       "      <td>2019-03-07 21:08:37</td>\n",
       "      <td>2019-03-12 17:09:00</td>\n",
       "      <td>3.0</td>\n",
       "    </tr>\n",
       "    <tr>\n",
       "      <th>279092</th>\n",
       "      <td>SP</td>\n",
       "      <td>13290</td>\n",
       "      <td>SP</td>\n",
       "      <td>11707</td>\n",
       "      <td>super</td>\n",
       "      <td>1</td>\n",
       "      <td>6</td>\n",
       "      <td>done</td>\n",
       "      <td>2019-03-25</td>\n",
       "      <td>2019-03-26 01:37:52</td>\n",
       "      <td>2019-03-27 11:54:31</td>\n",
       "      <td>1.0</td>\n",
       "    </tr>\n",
       "    <tr>\n",
       "      <th>350288</th>\n",
       "      <td>SP</td>\n",
       "      <td>7112</td>\n",
       "      <td>SC</td>\n",
       "      <td>88085</td>\n",
       "      <td>express</td>\n",
       "      <td>2</td>\n",
       "      <td>0</td>\n",
       "      <td>done</td>\n",
       "      <td>2019-02-23</td>\n",
       "      <td>2019-02-25 14:44:00</td>\n",
       "      <td>2019-02-28 11:44:00</td>\n",
       "      <td>3.0</td>\n",
       "    </tr>\n",
       "    <tr>\n",
       "      <th>196148</th>\n",
       "      <td>SP</td>\n",
       "      <td>9725</td>\n",
       "      <td>RJ</td>\n",
       "      <td>27933</td>\n",
       "      <td>standard</td>\n",
       "      <td>1</td>\n",
       "      <td>2</td>\n",
       "      <td>done</td>\n",
       "      <td>2019-03-06</td>\n",
       "      <td>2019-03-09 03:16:32</td>\n",
       "      <td>2019-03-14 18:38:00</td>\n",
       "      <td>3.0</td>\n",
       "    </tr>\n",
       "    <tr>\n",
       "      <th>280237</th>\n",
       "      <td>SP</td>\n",
       "      <td>9182</td>\n",
       "      <td>SP</td>\n",
       "      <td>9625</td>\n",
       "      <td>express</td>\n",
       "      <td>1</td>\n",
       "      <td>0</td>\n",
       "      <td>done</td>\n",
       "      <td>2019-03-03</td>\n",
       "      <td>2019-03-04 10:40:00</td>\n",
       "      <td>2019-03-08 14:33:00</td>\n",
       "      <td>1.0</td>\n",
       "    </tr>\n",
       "  </tbody>\n",
       "</table>\n",
       "</div>"
      ],
      "text/plain": [
       "       sender_state  sender_zipcode receiver_state  receiver_zipcode  \\\n",
       "318643           SP           14405             PR             85865   \n",
       "279092           SP           13290             SP             11707   \n",
       "350288           SP            7112             SC             88085   \n",
       "196148           SP            9725             RJ             27933   \n",
       "280237           SP            9182             SP              9625   \n",
       "\n",
       "       shipment_type  quantity  service status date_created  \\\n",
       "318643      standard         1        2   done   2019-03-04   \n",
       "279092         super         1        6   done   2019-03-25   \n",
       "350288       express         2        0   done   2019-02-23   \n",
       "196148      standard         1        2   done   2019-03-06   \n",
       "280237       express         1        0   done   2019-03-03   \n",
       "\n",
       "                 date_sent          date_visit  shipment_days  \n",
       "318643 2019-03-07 21:08:37 2019-03-12 17:09:00            3.0  \n",
       "279092 2019-03-26 01:37:52 2019-03-27 11:54:31            1.0  \n",
       "350288 2019-02-25 14:44:00 2019-02-28 11:44:00            3.0  \n",
       "196148 2019-03-09 03:16:32 2019-03-14 18:38:00            3.0  \n",
       "280237 2019-03-04 10:40:00 2019-03-08 14:33:00            1.0  "
      ]
     },
     "execution_count": 154,
     "metadata": {},
     "output_type": "execute_result"
    }
   ],
   "source": [
    "dataset_clean.sample(5)"
   ]
  },
  {
   "cell_type": "code",
   "execution_count": 34,
   "metadata": {
    "colab": {
     "base_uri": "https://localhost:8080/",
     "height": 300
    },
    "colab_type": "code",
    "executionInfo": {
     "elapsed": 8240,
     "status": "ok",
     "timestamp": 1563646510525,
     "user": {
      "displayName": "Johanna Frau",
      "photoUrl": "https://lh4.googleusercontent.com/-vsvj7_Spx5E/AAAAAAAAAAI/AAAAAAAAw80/hKdmIURaf-g/s64/photo.jpg",
      "userId": "12340570416827246133"
     },
     "user_tz": -120
    },
    "id": "J6-OY6tJUX1L",
    "outputId": "74cdd041-5c6f-498f-fe50-73f9a73ecb41"
   },
   "outputs": [
    {
     "name": "stdout",
     "output_type": "stream",
     "text": [
      "<class 'pandas.core.frame.DataFrame'>\n",
      "Int64Index: 492881 entries, 0 to 499999\n",
      "Data columns (total 12 columns):\n",
      "sender_state        492881 non-null object\n",
      "sender_zipcode      492881 non-null int64\n",
      "receiver_state      492881 non-null object\n",
      "receiver_zipcode    492881 non-null int64\n",
      "shipment_type       492881 non-null object\n",
      "quantity            492881 non-null int64\n",
      "service             492881 non-null int64\n",
      "status              492881 non-null object\n",
      "date_created        492881 non-null datetime64[ns]\n",
      "date_sent           492881 non-null datetime64[ns]\n",
      "date_visit          492881 non-null datetime64[ns]\n",
      "shipment_days       492881 non-null float64\n",
      "dtypes: datetime64[ns](3), float64(1), int64(4), object(4)\n",
      "memory usage: 48.9+ MB\n"
     ]
    }
   ],
   "source": [
    "dataset_clean.info()"
   ]
  },
  {
   "cell_type": "markdown",
   "metadata": {
    "colab_type": "text",
    "id": "FJK7MY6OnycP"
   },
   "source": [
    "Luego de haber limpiado nuestro dataset observamos que contamos con 492881 filas con información, es decir la limpieza solo afectó al 1,42% de los datos originales.\n",
    "\n"
   ]
  },
  {
   "cell_type": "markdown",
   "metadata": {
    "colab_type": "text",
    "id": "YHPxM6cQesTL"
   },
   "source": [
    "### Conjunto de entrenamiento y validación\n",
    "\n",
    "Debido a la naturaleza de nuestro problema, la separación de los datos en un conjunto de entrenamiento y uno de validación no puede hacerse de manera aleatoria. \n",
    "\n",
    "Dado que para determinar (predecir) cuando llega un envío estamos teniendo en cuenta diferentes variables de tipo fecha-hora (las cuales al mismo tiempo tienen una cierta dependencia entre sí), la partición de nuestros datos debe hacerse en función de ellas. Particularmente, debemos entrenar nuestro modelo hasta una determinada fecha de la variable date_visit (la cual debe escogerse con algún criterio) y evaluar el mismo con  datos donde la variable date_created sea mayor que la variable date_visit elegida previamente.\n",
    "\n",
    "A continuación presentamos un pequeño análisis que nos ayudará a elegir la última fecha de date_visit con la cual entrenaremos nuestros datos.\n"
   ]
  },
  {
   "cell_type": "code",
   "execution_count": 155,
   "metadata": {},
   "outputs": [],
   "source": [
    "dataset_clean['date_created_only_date'] = dataset_clean['date_created'].dt.date"
   ]
  },
  {
   "cell_type": "code",
   "execution_count": 156,
   "metadata": {
    "colab": {},
    "colab_type": "code",
    "id": "RdeR87weelcS"
   },
   "outputs": [],
   "source": [
    "#creamos una nueva columna donde date_visit solo considera las fechas\n",
    "dataset_clean['date_visit_only_date'] = dataset_clean['date_visit'].dt.date \n"
   ]
  },
  {
   "cell_type": "code",
   "execution_count": 98,
   "metadata": {
    "colab": {
     "base_uri": "https://localhost:8080/",
     "height": 1000
    },
    "colab_type": "code",
    "executionInfo": {
     "elapsed": 9593,
     "status": "ok",
     "timestamp": 1563646511897,
     "user": {
      "displayName": "Johanna Frau",
      "photoUrl": "https://lh4.googleusercontent.com/-vsvj7_Spx5E/AAAAAAAAAAI/AAAAAAAAw80/hKdmIURaf-g/s64/photo.jpg",
      "userId": "12340570416827246133"
     },
     "user_tz": -120
    },
    "id": "Pa9FHXGpelmV",
    "outputId": "34b7cc8f-b5d4-4ea3-ce28-181ef2e67b2c"
   },
   "outputs": [],
   "source": [
    "#dataset_clean.sort_values(by=['date_visit_only_date']) "
   ]
  },
  {
   "cell_type": "markdown",
   "metadata": {
    "colab_type": "text",
    "id": "-OvJ4h2Kh7ZO"
   },
   "source": [
    "Según podemos observar en los cálculos de arriba la variable date_visit  abarca desde el 25-02-2019 al 02-04-2019.\n",
    "\n",
    "Veamos ahora como se distribuyen estos datos dentro de este intervalo temporal."
   ]
  },
  {
   "cell_type": "code",
   "execution_count": 63,
   "metadata": {
    "colab": {
     "base_uri": "https://localhost:8080/",
     "height": 797
    },
    "colab_type": "code",
    "executionInfo": {
     "elapsed": 9584,
     "status": "ok",
     "timestamp": 1563646511901,
     "user": {
      "displayName": "Johanna Frau",
      "photoUrl": "https://lh4.googleusercontent.com/-vsvj7_Spx5E/AAAAAAAAAAI/AAAAAAAAw80/hKdmIURaf-g/s64/photo.jpg",
      "userId": "12340570416827246133"
     },
     "user_tz": -120
    },
    "id": "aYgXDombelrR",
    "outputId": "9c8d1def-cf07-4c72-d4b8-cb261363ffdf"
   },
   "outputs": [
    {
     "data": {
      "text/html": [
       "<div>\n",
       "<style scoped>\n",
       "    .dataframe tbody tr th:only-of-type {\n",
       "        vertical-align: middle;\n",
       "    }\n",
       "\n",
       "    .dataframe tbody tr th {\n",
       "        vertical-align: top;\n",
       "    }\n",
       "\n",
       "    .dataframe thead th {\n",
       "        text-align: right;\n",
       "    }\n",
       "</style>\n",
       "<table border=\"1\" class=\"dataframe\">\n",
       "  <thead>\n",
       "    <tr style=\"text-align: right;\">\n",
       "      <th></th>\n",
       "      <th></th>\n",
       "      <th>count</th>\n",
       "    </tr>\n",
       "    <tr>\n",
       "      <th>month</th>\n",
       "      <th>day</th>\n",
       "      <th></th>\n",
       "    </tr>\n",
       "  </thead>\n",
       "  <tbody>\n",
       "    <tr>\n",
       "      <th rowspan=\"4\" valign=\"top\">2</th>\n",
       "      <th>25</th>\n",
       "      <td>2012</td>\n",
       "    </tr>\n",
       "    <tr>\n",
       "      <th>26</th>\n",
       "      <td>1608</td>\n",
       "    </tr>\n",
       "    <tr>\n",
       "      <th>27</th>\n",
       "      <td>2647</td>\n",
       "    </tr>\n",
       "    <tr>\n",
       "      <th>28</th>\n",
       "      <td>21437</td>\n",
       "    </tr>\n",
       "    <tr>\n",
       "      <th rowspan=\"18\" valign=\"top\">3</th>\n",
       "      <th>1</th>\n",
       "      <td>20673</td>\n",
       "    </tr>\n",
       "    <tr>\n",
       "      <th>7</th>\n",
       "      <td>33838</td>\n",
       "    </tr>\n",
       "    <tr>\n",
       "      <th>8</th>\n",
       "      <td>38005</td>\n",
       "    </tr>\n",
       "    <tr>\n",
       "      <th>11</th>\n",
       "      <td>35184</td>\n",
       "    </tr>\n",
       "    <tr>\n",
       "      <th>12</th>\n",
       "      <td>35910</td>\n",
       "    </tr>\n",
       "    <tr>\n",
       "      <th>13</th>\n",
       "      <td>25353</td>\n",
       "    </tr>\n",
       "    <tr>\n",
       "      <th>14</th>\n",
       "      <td>24875</td>\n",
       "    </tr>\n",
       "    <tr>\n",
       "      <th>15</th>\n",
       "      <td>23735</td>\n",
       "    </tr>\n",
       "    <tr>\n",
       "      <th>18</th>\n",
       "      <td>30576</td>\n",
       "    </tr>\n",
       "    <tr>\n",
       "      <th>19</th>\n",
       "      <td>24156</td>\n",
       "    </tr>\n",
       "    <tr>\n",
       "      <th>20</th>\n",
       "      <td>25339</td>\n",
       "    </tr>\n",
       "    <tr>\n",
       "      <th>21</th>\n",
       "      <td>23205</td>\n",
       "    </tr>\n",
       "    <tr>\n",
       "      <th>22</th>\n",
       "      <td>22409</td>\n",
       "    </tr>\n",
       "    <tr>\n",
       "      <th>25</th>\n",
       "      <td>28377</td>\n",
       "    </tr>\n",
       "    <tr>\n",
       "      <th>26</th>\n",
       "      <td>23164</td>\n",
       "    </tr>\n",
       "    <tr>\n",
       "      <th>27</th>\n",
       "      <td>24172</td>\n",
       "    </tr>\n",
       "    <tr>\n",
       "      <th>28</th>\n",
       "      <td>21793</td>\n",
       "    </tr>\n",
       "    <tr>\n",
       "      <th>29</th>\n",
       "      <td>3068</td>\n",
       "    </tr>\n",
       "    <tr>\n",
       "      <th rowspan=\"2\" valign=\"top\">4</th>\n",
       "      <th>1</th>\n",
       "      <td>1300</td>\n",
       "    </tr>\n",
       "    <tr>\n",
       "      <th>2</th>\n",
       "      <td>45</td>\n",
       "    </tr>\n",
       "  </tbody>\n",
       "</table>\n",
       "</div>"
      ],
      "text/plain": [
       "           count\n",
       "month day       \n",
       "2     25    2012\n",
       "      26    1608\n",
       "      27    2647\n",
       "      28   21437\n",
       "3     1    20673\n",
       "      7    33838\n",
       "      8    38005\n",
       "      11   35184\n",
       "      12   35910\n",
       "      13   25353\n",
       "      14   24875\n",
       "      15   23735\n",
       "      18   30576\n",
       "      19   24156\n",
       "      20   25339\n",
       "      21   23205\n",
       "      22   22409\n",
       "      25   28377\n",
       "      26   23164\n",
       "      27   24172\n",
       "      28   21793\n",
       "      29    3068\n",
       "4     1     1300\n",
       "      2       45"
      ]
     },
     "execution_count": 63,
     "metadata": {},
     "output_type": "execute_result"
    }
   ],
   "source": [
    "#dataset_clean['date_visit'].groupby([dataset_clean['date_visit'].dt.month.rename('month'), dataset_clean['date_visit'].dt.day.rename('day')]).agg({'count'})"
   ]
  },
  {
   "cell_type": "code",
   "execution_count": 64,
   "metadata": {
    "colab": {
     "base_uri": "https://localhost:8080/",
     "height": 167
    },
    "colab_type": "code",
    "executionInfo": {
     "elapsed": 9578,
     "status": "ok",
     "timestamp": 1563646511904,
     "user": {
      "displayName": "Johanna Frau",
      "photoUrl": "https://lh4.googleusercontent.com/-vsvj7_Spx5E/AAAAAAAAAAI/AAAAAAAAw80/hKdmIURaf-g/s64/photo.jpg",
      "userId": "12340570416827246133"
     },
     "user_tz": -120
    },
    "id": "d5SxQsHheluv",
    "outputId": "8a0964fe-551c-4c98-c342-4c010eeb9363"
   },
   "outputs": [
    {
     "data": {
      "text/html": [
       "<div>\n",
       "<style scoped>\n",
       "    .dataframe tbody tr th:only-of-type {\n",
       "        vertical-align: middle;\n",
       "    }\n",
       "\n",
       "    .dataframe tbody tr th {\n",
       "        vertical-align: top;\n",
       "    }\n",
       "\n",
       "    .dataframe thead th {\n",
       "        text-align: right;\n",
       "    }\n",
       "</style>\n",
       "<table border=\"1\" class=\"dataframe\">\n",
       "  <thead>\n",
       "    <tr style=\"text-align: right;\">\n",
       "      <th></th>\n",
       "      <th>count</th>\n",
       "    </tr>\n",
       "    <tr>\n",
       "      <th>month</th>\n",
       "      <th></th>\n",
       "    </tr>\n",
       "  </thead>\n",
       "  <tbody>\n",
       "    <tr>\n",
       "      <th>2</th>\n",
       "      <td>27704</td>\n",
       "    </tr>\n",
       "    <tr>\n",
       "      <th>3</th>\n",
       "      <td>463832</td>\n",
       "    </tr>\n",
       "    <tr>\n",
       "      <th>4</th>\n",
       "      <td>1345</td>\n",
       "    </tr>\n",
       "  </tbody>\n",
       "</table>\n",
       "</div>"
      ],
      "text/plain": [
       "        count\n",
       "month        \n",
       "2       27704\n",
       "3      463832\n",
       "4        1345"
      ]
     },
     "execution_count": 64,
     "metadata": {},
     "output_type": "execute_result"
    }
   ],
   "source": [
    "#dataset_clean['date_visit'].groupby([dataset_clean['date_visit'].dt.month.rename('month')]).agg({'count'})"
   ]
  },
  {
   "cell_type": "markdown",
   "metadata": {
    "colab_type": "text",
    "id": "YLyG6IjejKAS"
   },
   "source": [
    "Considerando que nuestro dataset cuenta en este momento con 492881 entradas, el 70% del mismo representa aproximadamente 345000 entradas. Así, de acuerdo a la distribución mostrada arriba si entrenamos nuestro modelo con datos de la variable date_visit hasta el 20 de marzo podriamos llegar a cubrir este porcentaje.\n",
    "\n",
    "Esto se muestra a continuación."
   ]
  },
  {
   "cell_type": "code",
   "execution_count": 99,
   "metadata": {
    "colab": {
     "base_uri": "https://localhost:8080/",
     "height": 1000
    },
    "colab_type": "code",
    "executionInfo": {
     "elapsed": 10516,
     "status": "ok",
     "timestamp": 1563646512854,
     "user": {
      "displayName": "Johanna Frau",
      "photoUrl": "https://lh4.googleusercontent.com/-vsvj7_Spx5E/AAAAAAAAAAI/AAAAAAAAw80/hKdmIURaf-g/s64/photo.jpg",
      "userId": "12340570416827246133"
     },
     "user_tz": -120
    },
    "id": "ZVAYX0PJel1w",
    "outputId": "3cb74174-ac04-4a4f-c3df-bba4f3391a1b"
   },
   "outputs": [],
   "source": [
    "#X_train = dataset_clean[(dataset_clean['date_visit'].dt.month==2) | (dataset_clean['date_visit'].dt.day<=20) & (dataset_clean['date_visit'].dt.month==3)]\n",
    "#X_train['date_visit_only_date'].sort_values()"
   ]
  },
  {
   "cell_type": "markdown",
   "metadata": {
    "colab_type": "text",
    "id": "e37aC47SlXS_"
   },
   "source": [
    "Finalmente con el filtro aplicado nuestro conjunto de entrenamiento cuenta con 345348 entradas."
   ]
  },
  {
   "cell_type": "code",
   "execution_count": 100,
   "metadata": {},
   "outputs": [],
   "source": [
    "#X_test = dataset_clean[(dataset_clean['date_created'].dt.month==2) | (dataset_clean['date_visit'].dt.day<=20) & (dataset_clean['date_visit'].dt.month==3)]\n",
    "#X_test['date_visit_only_date'].sort_values()"
   ]
  },
  {
   "cell_type": "code",
   "execution_count": 101,
   "metadata": {},
   "outputs": [],
   "source": [
    "#mask1 = dataset_clean[(dataset_clean['date_visit'].dt.month==2) | ((dataset_clean['date_visit'].dt.day<=20) & (dataset_clean['date_visit'].dt.month==3))]\n",
    "#mask1['date_visit_only_date'].sort_values()"
   ]
  },
  {
   "cell_type": "code",
   "execution_count": 157,
   "metadata": {},
   "outputs": [
    {
     "data": {
      "text/html": [
       "<div>\n",
       "<style scoped>\n",
       "    .dataframe tbody tr th:only-of-type {\n",
       "        vertical-align: middle;\n",
       "    }\n",
       "\n",
       "    .dataframe tbody tr th {\n",
       "        vertical-align: top;\n",
       "    }\n",
       "\n",
       "    .dataframe thead th {\n",
       "        text-align: right;\n",
       "    }\n",
       "</style>\n",
       "<table border=\"1\" class=\"dataframe\">\n",
       "  <thead>\n",
       "    <tr style=\"text-align: right;\">\n",
       "      <th></th>\n",
       "      <th>sender_state</th>\n",
       "      <th>sender_zipcode</th>\n",
       "      <th>receiver_state</th>\n",
       "      <th>receiver_zipcode</th>\n",
       "      <th>shipment_type</th>\n",
       "      <th>quantity</th>\n",
       "      <th>service</th>\n",
       "      <th>status</th>\n",
       "      <th>date_created</th>\n",
       "      <th>date_sent</th>\n",
       "      <th>date_visit</th>\n",
       "      <th>shipment_days</th>\n",
       "      <th>date_created_only_date</th>\n",
       "      <th>date_visit_only_date</th>\n",
       "    </tr>\n",
       "  </thead>\n",
       "  <tbody>\n",
       "    <tr>\n",
       "      <th>0</th>\n",
       "      <td>SP</td>\n",
       "      <td>1039</td>\n",
       "      <td>SP</td>\n",
       "      <td>14500</td>\n",
       "      <td>standard</td>\n",
       "      <td>1</td>\n",
       "      <td>1</td>\n",
       "      <td>done</td>\n",
       "      <td>2019-03-10</td>\n",
       "      <td>2019-03-11 14:34:00</td>\n",
       "      <td>2019-03-18 09:52:00</td>\n",
       "      <td>5.0</td>\n",
       "      <td>2019-03-10</td>\n",
       "      <td>2019-03-18</td>\n",
       "    </tr>\n",
       "    <tr>\n",
       "      <th>1</th>\n",
       "      <td>SP</td>\n",
       "      <td>3004</td>\n",
       "      <td>PB</td>\n",
       "      <td>58670</td>\n",
       "      <td>standard</td>\n",
       "      <td>1</td>\n",
       "      <td>1</td>\n",
       "      <td>done</td>\n",
       "      <td>2019-03-08</td>\n",
       "      <td>2019-03-09 10:48:00</td>\n",
       "      <td>2019-03-18 15:16:00</td>\n",
       "      <td>5.0</td>\n",
       "      <td>2019-03-08</td>\n",
       "      <td>2019-03-18</td>\n",
       "    </tr>\n",
       "    <tr>\n",
       "      <th>2</th>\n",
       "      <td>SP</td>\n",
       "      <td>3262</td>\n",
       "      <td>RJ</td>\n",
       "      <td>22723</td>\n",
       "      <td>standard</td>\n",
       "      <td>1</td>\n",
       "      <td>2</td>\n",
       "      <td>done</td>\n",
       "      <td>2019-02-21</td>\n",
       "      <td>2019-02-23 02:02:16</td>\n",
       "      <td>2019-03-01 21:27:00</td>\n",
       "      <td>4.0</td>\n",
       "      <td>2019-02-21</td>\n",
       "      <td>2019-03-01</td>\n",
       "    </tr>\n",
       "    <tr>\n",
       "      <th>3</th>\n",
       "      <td>SP</td>\n",
       "      <td>12237</td>\n",
       "      <td>SP</td>\n",
       "      <td>18682</td>\n",
       "      <td>standard</td>\n",
       "      <td>1</td>\n",
       "      <td>2</td>\n",
       "      <td>done</td>\n",
       "      <td>2019-02-25</td>\n",
       "      <td>2019-02-28 03:05:36</td>\n",
       "      <td>2019-03-07 15:01:00</td>\n",
       "      <td>2.0</td>\n",
       "      <td>2019-02-25</td>\n",
       "      <td>2019-03-07</td>\n",
       "    </tr>\n",
       "    <tr>\n",
       "      <th>4</th>\n",
       "      <td>SP</td>\n",
       "      <td>9350</td>\n",
       "      <td>AP</td>\n",
       "      <td>68908</td>\n",
       "      <td>standard</td>\n",
       "      <td>1</td>\n",
       "      <td>1</td>\n",
       "      <td>done</td>\n",
       "      <td>2019-02-15</td>\n",
       "      <td>2019-02-15 11:28:00</td>\n",
       "      <td>2019-03-11 13:18:00</td>\n",
       "      <td>13.0</td>\n",
       "      <td>2019-02-15</td>\n",
       "      <td>2019-03-11</td>\n",
       "    </tr>\n",
       "  </tbody>\n",
       "</table>\n",
       "</div>"
      ],
      "text/plain": [
       "  sender_state  sender_zipcode receiver_state  receiver_zipcode shipment_type  \\\n",
       "0           SP            1039             SP             14500      standard   \n",
       "1           SP            3004             PB             58670      standard   \n",
       "2           SP            3262             RJ             22723      standard   \n",
       "3           SP           12237             SP             18682      standard   \n",
       "4           SP            9350             AP             68908      standard   \n",
       "\n",
       "   quantity  service status date_created           date_sent  \\\n",
       "0         1        1   done   2019-03-10 2019-03-11 14:34:00   \n",
       "1         1        1   done   2019-03-08 2019-03-09 10:48:00   \n",
       "2         1        2   done   2019-02-21 2019-02-23 02:02:16   \n",
       "3         1        2   done   2019-02-25 2019-02-28 03:05:36   \n",
       "4         1        1   done   2019-02-15 2019-02-15 11:28:00   \n",
       "\n",
       "           date_visit  shipment_days date_created_only_date  \\\n",
       "0 2019-03-18 09:52:00            5.0             2019-03-10   \n",
       "1 2019-03-18 15:16:00            5.0             2019-03-08   \n",
       "2 2019-03-01 21:27:00            4.0             2019-02-21   \n",
       "3 2019-03-07 15:01:00            2.0             2019-02-25   \n",
       "4 2019-03-11 13:18:00           13.0             2019-02-15   \n",
       "\n",
       "  date_visit_only_date  \n",
       "0           2019-03-18  \n",
       "1           2019-03-18  \n",
       "2           2019-03-01  \n",
       "3           2019-03-07  \n",
       "4           2019-03-11  "
      ]
     },
     "execution_count": 157,
     "metadata": {},
     "output_type": "execute_result"
    }
   ],
   "source": [
    "#mask2 = dataset_clean[(dataset_clean['date_created'].dt.month==4) | ((dataset_clean['date_created'].dt.day>20) & (dataset_clean['date_created'].dt.month==3))]\n",
    "#mask2['date_created_only_date'].sort_values()\n",
    "#dataset_clean.reset_index(drop=True)\n",
    "dataset_clean.head()"
   ]
  },
  {
   "cell_type": "code",
   "execution_count": 117,
   "metadata": {},
   "outputs": [
    {
     "ename": "KeyError",
     "evalue": "'date_visit_only_date'",
     "output_type": "error",
     "traceback": [
      "\u001b[1;31m---------------------------------------------------------------------------\u001b[0m",
      "\u001b[1;31mKeyError\u001b[0m                                  Traceback (most recent call last)",
      "\u001b[1;32m~\\AppData\\Local\\Continuum\\anaconda3\\envs\\diplodatos\\lib\\site-packages\\pandas\\core\\indexes\\base.py\u001b[0m in \u001b[0;36mget_loc\u001b[1;34m(self, key, method, tolerance)\u001b[0m\n\u001b[0;32m   2656\u001b[0m             \u001b[1;32mtry\u001b[0m\u001b[1;33m:\u001b[0m\u001b[1;33m\u001b[0m\u001b[1;33m\u001b[0m\u001b[0m\n\u001b[1;32m-> 2657\u001b[1;33m                 \u001b[1;32mreturn\u001b[0m \u001b[0mself\u001b[0m\u001b[1;33m.\u001b[0m\u001b[0m_engine\u001b[0m\u001b[1;33m.\u001b[0m\u001b[0mget_loc\u001b[0m\u001b[1;33m(\u001b[0m\u001b[0mkey\u001b[0m\u001b[1;33m)\u001b[0m\u001b[1;33m\u001b[0m\u001b[1;33m\u001b[0m\u001b[0m\n\u001b[0m\u001b[0;32m   2658\u001b[0m             \u001b[1;32mexcept\u001b[0m \u001b[0mKeyError\u001b[0m\u001b[1;33m:\u001b[0m\u001b[1;33m\u001b[0m\u001b[1;33m\u001b[0m\u001b[0m\n",
      "\u001b[1;32mpandas/_libs/index.pyx\u001b[0m in \u001b[0;36mpandas._libs.index.IndexEngine.get_loc\u001b[1;34m()\u001b[0m\n",
      "\u001b[1;32mpandas/_libs/index.pyx\u001b[0m in \u001b[0;36mpandas._libs.index.IndexEngine.get_loc\u001b[1;34m()\u001b[0m\n",
      "\u001b[1;32mpandas/_libs/hashtable_class_helper.pxi\u001b[0m in \u001b[0;36mpandas._libs.hashtable.PyObjectHashTable.get_item\u001b[1;34m()\u001b[0m\n",
      "\u001b[1;32mpandas/_libs/hashtable_class_helper.pxi\u001b[0m in \u001b[0;36mpandas._libs.hashtable.PyObjectHashTable.get_item\u001b[1;34m()\u001b[0m\n",
      "\u001b[1;31mKeyError\u001b[0m: 'date_visit_only_date'",
      "\nDuring handling of the above exception, another exception occurred:\n",
      "\u001b[1;31mKeyError\u001b[0m                                  Traceback (most recent call last)",
      "\u001b[1;32m<ipython-input-117-c99d1e54f732>\u001b[0m in \u001b[0;36m<module>\u001b[1;34m\u001b[0m\n\u001b[1;32m----> 1\u001b[1;33m \u001b[0mmask1\u001b[0m \u001b[1;33m=\u001b[0m \u001b[1;33m(\u001b[0m\u001b[0mdataset_clean\u001b[0m\u001b[1;33m[\u001b[0m\u001b[1;34m'date_visit_only_date'\u001b[0m\u001b[1;33m]\u001b[0m\u001b[1;33m.\u001b[0m\u001b[0mdt\u001b[0m\u001b[1;33m.\u001b[0m\u001b[0mmonth\u001b[0m\u001b[1;33m==\u001b[0m\u001b[1;36m2\u001b[0m\u001b[1;33m)\u001b[0m \u001b[1;33m|\u001b[0m \u001b[1;33m(\u001b[0m\u001b[1;33m(\u001b[0m\u001b[0mdataset_clean\u001b[0m\u001b[1;33m[\u001b[0m\u001b[1;34m'date_visit_only_date'\u001b[0m\u001b[1;33m]\u001b[0m\u001b[1;33m.\u001b[0m\u001b[0mdt\u001b[0m\u001b[1;33m.\u001b[0m\u001b[0mday\u001b[0m\u001b[1;33m<=\u001b[0m\u001b[1;36m20\u001b[0m\u001b[1;33m)\u001b[0m \u001b[1;33m&\u001b[0m \u001b[1;33m(\u001b[0m\u001b[0mdataset_clean\u001b[0m\u001b[1;33m[\u001b[0m\u001b[1;34m'date_visit_only_date'\u001b[0m\u001b[1;33m]\u001b[0m\u001b[1;33m.\u001b[0m\u001b[0mdt\u001b[0m\u001b[1;33m.\u001b[0m\u001b[0mmonth\u001b[0m\u001b[1;33m==\u001b[0m\u001b[1;36m3\u001b[0m\u001b[1;33m)\u001b[0m\u001b[1;33m)\u001b[0m\u001b[1;33m\u001b[0m\u001b[1;33m\u001b[0m\u001b[0m\n\u001b[0m\u001b[0;32m      2\u001b[0m \u001b[0mmask2\u001b[0m \u001b[1;33m=\u001b[0m \u001b[1;33m(\u001b[0m\u001b[0mdataset_clean\u001b[0m\u001b[1;33m[\u001b[0m\u001b[1;34m'date_created_only_date'\u001b[0m\u001b[1;33m]\u001b[0m\u001b[1;33m.\u001b[0m\u001b[0mdt\u001b[0m\u001b[1;33m.\u001b[0m\u001b[0mmonth\u001b[0m\u001b[1;33m==\u001b[0m\u001b[1;36m4\u001b[0m\u001b[1;33m)\u001b[0m \u001b[1;33m|\u001b[0m \u001b[1;33m(\u001b[0m\u001b[1;33m(\u001b[0m\u001b[0mdataset_clean\u001b[0m\u001b[1;33m[\u001b[0m\u001b[1;34m'date_created_only_date'\u001b[0m\u001b[1;33m]\u001b[0m\u001b[1;33m.\u001b[0m\u001b[0mdt\u001b[0m\u001b[1;33m.\u001b[0m\u001b[0mday\u001b[0m\u001b[1;33m>\u001b[0m\u001b[1;36m20\u001b[0m\u001b[1;33m)\u001b[0m \u001b[1;33m&\u001b[0m \u001b[1;33m(\u001b[0m\u001b[0mdataset_clean\u001b[0m\u001b[1;33m[\u001b[0m\u001b[1;34m'date_created_only_date'\u001b[0m\u001b[1;33m]\u001b[0m\u001b[1;33m.\u001b[0m\u001b[0mdt\u001b[0m\u001b[1;33m.\u001b[0m\u001b[0mmonth\u001b[0m\u001b[1;33m==\u001b[0m\u001b[1;36m3\u001b[0m\u001b[1;33m)\u001b[0m\u001b[1;33m)\u001b[0m\u001b[1;33m\u001b[0m\u001b[1;33m\u001b[0m\u001b[0m\n",
      "\u001b[1;32m~\\AppData\\Local\\Continuum\\anaconda3\\envs\\diplodatos\\lib\\site-packages\\pandas\\core\\frame.py\u001b[0m in \u001b[0;36m__getitem__\u001b[1;34m(self, key)\u001b[0m\n\u001b[0;32m   2925\u001b[0m             \u001b[1;32mif\u001b[0m \u001b[0mself\u001b[0m\u001b[1;33m.\u001b[0m\u001b[0mcolumns\u001b[0m\u001b[1;33m.\u001b[0m\u001b[0mnlevels\u001b[0m \u001b[1;33m>\u001b[0m \u001b[1;36m1\u001b[0m\u001b[1;33m:\u001b[0m\u001b[1;33m\u001b[0m\u001b[1;33m\u001b[0m\u001b[0m\n\u001b[0;32m   2926\u001b[0m                 \u001b[1;32mreturn\u001b[0m \u001b[0mself\u001b[0m\u001b[1;33m.\u001b[0m\u001b[0m_getitem_multilevel\u001b[0m\u001b[1;33m(\u001b[0m\u001b[0mkey\u001b[0m\u001b[1;33m)\u001b[0m\u001b[1;33m\u001b[0m\u001b[1;33m\u001b[0m\u001b[0m\n\u001b[1;32m-> 2927\u001b[1;33m             \u001b[0mindexer\u001b[0m \u001b[1;33m=\u001b[0m \u001b[0mself\u001b[0m\u001b[1;33m.\u001b[0m\u001b[0mcolumns\u001b[0m\u001b[1;33m.\u001b[0m\u001b[0mget_loc\u001b[0m\u001b[1;33m(\u001b[0m\u001b[0mkey\u001b[0m\u001b[1;33m)\u001b[0m\u001b[1;33m\u001b[0m\u001b[1;33m\u001b[0m\u001b[0m\n\u001b[0m\u001b[0;32m   2928\u001b[0m             \u001b[1;32mif\u001b[0m \u001b[0mis_integer\u001b[0m\u001b[1;33m(\u001b[0m\u001b[0mindexer\u001b[0m\u001b[1;33m)\u001b[0m\u001b[1;33m:\u001b[0m\u001b[1;33m\u001b[0m\u001b[1;33m\u001b[0m\u001b[0m\n\u001b[0;32m   2929\u001b[0m                 \u001b[0mindexer\u001b[0m \u001b[1;33m=\u001b[0m \u001b[1;33m[\u001b[0m\u001b[0mindexer\u001b[0m\u001b[1;33m]\u001b[0m\u001b[1;33m\u001b[0m\u001b[1;33m\u001b[0m\u001b[0m\n",
      "\u001b[1;32m~\\AppData\\Local\\Continuum\\anaconda3\\envs\\diplodatos\\lib\\site-packages\\pandas\\core\\indexes\\base.py\u001b[0m in \u001b[0;36mget_loc\u001b[1;34m(self, key, method, tolerance)\u001b[0m\n\u001b[0;32m   2657\u001b[0m                 \u001b[1;32mreturn\u001b[0m \u001b[0mself\u001b[0m\u001b[1;33m.\u001b[0m\u001b[0m_engine\u001b[0m\u001b[1;33m.\u001b[0m\u001b[0mget_loc\u001b[0m\u001b[1;33m(\u001b[0m\u001b[0mkey\u001b[0m\u001b[1;33m)\u001b[0m\u001b[1;33m\u001b[0m\u001b[1;33m\u001b[0m\u001b[0m\n\u001b[0;32m   2658\u001b[0m             \u001b[1;32mexcept\u001b[0m \u001b[0mKeyError\u001b[0m\u001b[1;33m:\u001b[0m\u001b[1;33m\u001b[0m\u001b[1;33m\u001b[0m\u001b[0m\n\u001b[1;32m-> 2659\u001b[1;33m                 \u001b[1;32mreturn\u001b[0m \u001b[0mself\u001b[0m\u001b[1;33m.\u001b[0m\u001b[0m_engine\u001b[0m\u001b[1;33m.\u001b[0m\u001b[0mget_loc\u001b[0m\u001b[1;33m(\u001b[0m\u001b[0mself\u001b[0m\u001b[1;33m.\u001b[0m\u001b[0m_maybe_cast_indexer\u001b[0m\u001b[1;33m(\u001b[0m\u001b[0mkey\u001b[0m\u001b[1;33m)\u001b[0m\u001b[1;33m)\u001b[0m\u001b[1;33m\u001b[0m\u001b[1;33m\u001b[0m\u001b[0m\n\u001b[0m\u001b[0;32m   2660\u001b[0m         \u001b[0mindexer\u001b[0m \u001b[1;33m=\u001b[0m \u001b[0mself\u001b[0m\u001b[1;33m.\u001b[0m\u001b[0mget_indexer\u001b[0m\u001b[1;33m(\u001b[0m\u001b[1;33m[\u001b[0m\u001b[0mkey\u001b[0m\u001b[1;33m]\u001b[0m\u001b[1;33m,\u001b[0m \u001b[0mmethod\u001b[0m\u001b[1;33m=\u001b[0m\u001b[0mmethod\u001b[0m\u001b[1;33m,\u001b[0m \u001b[0mtolerance\u001b[0m\u001b[1;33m=\u001b[0m\u001b[0mtolerance\u001b[0m\u001b[1;33m)\u001b[0m\u001b[1;33m\u001b[0m\u001b[1;33m\u001b[0m\u001b[0m\n\u001b[0;32m   2661\u001b[0m         \u001b[1;32mif\u001b[0m \u001b[0mindexer\u001b[0m\u001b[1;33m.\u001b[0m\u001b[0mndim\u001b[0m \u001b[1;33m>\u001b[0m \u001b[1;36m1\u001b[0m \u001b[1;32mor\u001b[0m \u001b[0mindexer\u001b[0m\u001b[1;33m.\u001b[0m\u001b[0msize\u001b[0m \u001b[1;33m>\u001b[0m \u001b[1;36m1\u001b[0m\u001b[1;33m:\u001b[0m\u001b[1;33m\u001b[0m\u001b[1;33m\u001b[0m\u001b[0m\n",
      "\u001b[1;32mpandas/_libs/index.pyx\u001b[0m in \u001b[0;36mpandas._libs.index.IndexEngine.get_loc\u001b[1;34m()\u001b[0m\n",
      "\u001b[1;32mpandas/_libs/index.pyx\u001b[0m in \u001b[0;36mpandas._libs.index.IndexEngine.get_loc\u001b[1;34m()\u001b[0m\n",
      "\u001b[1;32mpandas/_libs/hashtable_class_helper.pxi\u001b[0m in \u001b[0;36mpandas._libs.hashtable.PyObjectHashTable.get_item\u001b[1;34m()\u001b[0m\n",
      "\u001b[1;32mpandas/_libs/hashtable_class_helper.pxi\u001b[0m in \u001b[0;36mpandas._libs.hashtable.PyObjectHashTable.get_item\u001b[1;34m()\u001b[0m\n",
      "\u001b[1;31mKeyError\u001b[0m: 'date_visit_only_date'"
     ]
    }
   ],
   "source": [
    "#mask1 = (dataset_clean['date_visit_only_date'].dt.month==2) | ((dataset_clean['date_visit_only_date'].dt.day<=20) & (dataset_clean['date_visit_only_date'].dt.month==3))\n",
    "#mask2 = (dataset_clean['date_created_only_date'].dt.month==4) | ((dataset_clean['date_created_only_date'].dt.day>20) & (dataset_clean['date_created_only_date'].dt.month==3))"
   ]
  },
  {
   "cell_type": "code",
   "execution_count": null,
   "metadata": {},
   "outputs": [],
   "source": []
  },
  {
   "cell_type": "code",
   "execution_count": 158,
   "metadata": {},
   "outputs": [],
   "source": [
    "#dataset_clean.reset_index(drop=True)\n",
    "mask1 = (dataset_clean['date_visit'].dt.month==2) | ((dataset_clean['date_visit'].dt.day<=20) & (dataset_clean['date_visit'].dt.month==3))\n",
    "mask2 = (dataset_clean['date_created'].dt.month==4) | ((dataset_clean['date_created'].dt.day>20) & (dataset_clean['date_created'].dt.month==3))"
   ]
  },
  {
   "cell_type": "code",
   "execution_count": 159,
   "metadata": {},
   "outputs": [
    {
     "data": {
      "text/plain": [
       "Int64Index([ 30428,  39563,  75906,  90091,  90329,  93500,  97833, 167964,\n",
       "            176607, 180164, 196229, 199764, 203060, 208005, 231560, 274972,\n",
       "            282567, 282940, 297926, 300120, 312126, 316578, 318668, 345411,\n",
       "            346719, 353381, 368482, 401223, 432523, 438075, 444551, 453376],\n",
       "           dtype='int64')"
      ]
     },
     "execution_count": 159,
     "metadata": {},
     "output_type": "execute_result"
    }
   ],
   "source": [
    "dataset_clean[mask1&mask2].index"
   ]
  },
  {
   "cell_type": "code",
   "execution_count": 160,
   "metadata": {},
   "outputs": [],
   "source": [
    "dataset_clean.drop(dataset_clean[mask1&mask2].index, inplace = True)"
   ]
  },
  {
   "cell_type": "code",
   "execution_count": 161,
   "metadata": {},
   "outputs": [
    {
     "data": {
      "text/plain": [
       "(492849, 14)"
      ]
     },
     "execution_count": 161,
     "metadata": {},
     "output_type": "execute_result"
    }
   ],
   "source": [
    "dataset_clean.shape"
   ]
  },
  {
   "cell_type": "code",
   "execution_count": 164,
   "metadata": {},
   "outputs": [
    {
     "data": {
      "text/html": [
       "<div>\n",
       "<style scoped>\n",
       "    .dataframe tbody tr th:only-of-type {\n",
       "        vertical-align: middle;\n",
       "    }\n",
       "\n",
       "    .dataframe tbody tr th {\n",
       "        vertical-align: top;\n",
       "    }\n",
       "\n",
       "    .dataframe thead th {\n",
       "        text-align: right;\n",
       "    }\n",
       "</style>\n",
       "<table border=\"1\" class=\"dataframe\">\n",
       "  <thead>\n",
       "    <tr style=\"text-align: right;\">\n",
       "      <th></th>\n",
       "      <th>sender_state</th>\n",
       "      <th>sender_zipcode</th>\n",
       "      <th>receiver_state</th>\n",
       "      <th>receiver_zipcode</th>\n",
       "      <th>shipment_type</th>\n",
       "      <th>quantity</th>\n",
       "      <th>service</th>\n",
       "      <th>status</th>\n",
       "      <th>date_created</th>\n",
       "      <th>date_sent</th>\n",
       "      <th>date_visit</th>\n",
       "      <th>shipment_days</th>\n",
       "      <th>date_created_only_date</th>\n",
       "      <th>date_visit_only_date</th>\n",
       "    </tr>\n",
       "  </thead>\n",
       "  <tbody>\n",
       "    <tr>\n",
       "      <th>0</th>\n",
       "      <td>SP</td>\n",
       "      <td>1039</td>\n",
       "      <td>SP</td>\n",
       "      <td>14500</td>\n",
       "      <td>standard</td>\n",
       "      <td>1</td>\n",
       "      <td>1</td>\n",
       "      <td>done</td>\n",
       "      <td>2019-03-10</td>\n",
       "      <td>2019-03-11 14:34:00</td>\n",
       "      <td>2019-03-18 09:52:00</td>\n",
       "      <td>5.0</td>\n",
       "      <td>2019-03-10</td>\n",
       "      <td>2019-03-18</td>\n",
       "    </tr>\n",
       "    <tr>\n",
       "      <th>1</th>\n",
       "      <td>SP</td>\n",
       "      <td>3004</td>\n",
       "      <td>PB</td>\n",
       "      <td>58670</td>\n",
       "      <td>standard</td>\n",
       "      <td>1</td>\n",
       "      <td>1</td>\n",
       "      <td>done</td>\n",
       "      <td>2019-03-08</td>\n",
       "      <td>2019-03-09 10:48:00</td>\n",
       "      <td>2019-03-18 15:16:00</td>\n",
       "      <td>5.0</td>\n",
       "      <td>2019-03-08</td>\n",
       "      <td>2019-03-18</td>\n",
       "    </tr>\n",
       "    <tr>\n",
       "      <th>2</th>\n",
       "      <td>SP</td>\n",
       "      <td>3262</td>\n",
       "      <td>RJ</td>\n",
       "      <td>22723</td>\n",
       "      <td>standard</td>\n",
       "      <td>1</td>\n",
       "      <td>2</td>\n",
       "      <td>done</td>\n",
       "      <td>2019-02-21</td>\n",
       "      <td>2019-02-23 02:02:16</td>\n",
       "      <td>2019-03-01 21:27:00</td>\n",
       "      <td>4.0</td>\n",
       "      <td>2019-02-21</td>\n",
       "      <td>2019-03-01</td>\n",
       "    </tr>\n",
       "    <tr>\n",
       "      <th>3</th>\n",
       "      <td>SP</td>\n",
       "      <td>12237</td>\n",
       "      <td>SP</td>\n",
       "      <td>18682</td>\n",
       "      <td>standard</td>\n",
       "      <td>1</td>\n",
       "      <td>2</td>\n",
       "      <td>done</td>\n",
       "      <td>2019-02-25</td>\n",
       "      <td>2019-02-28 03:05:36</td>\n",
       "      <td>2019-03-07 15:01:00</td>\n",
       "      <td>2.0</td>\n",
       "      <td>2019-02-25</td>\n",
       "      <td>2019-03-07</td>\n",
       "    </tr>\n",
       "    <tr>\n",
       "      <th>4</th>\n",
       "      <td>SP</td>\n",
       "      <td>9350</td>\n",
       "      <td>AP</td>\n",
       "      <td>68908</td>\n",
       "      <td>standard</td>\n",
       "      <td>1</td>\n",
       "      <td>1</td>\n",
       "      <td>done</td>\n",
       "      <td>2019-02-15</td>\n",
       "      <td>2019-02-15 11:28:00</td>\n",
       "      <td>2019-03-11 13:18:00</td>\n",
       "      <td>13.0</td>\n",
       "      <td>2019-02-15</td>\n",
       "      <td>2019-03-11</td>\n",
       "    </tr>\n",
       "  </tbody>\n",
       "</table>\n",
       "</div>"
      ],
      "text/plain": [
       "  sender_state  sender_zipcode receiver_state  receiver_zipcode shipment_type  \\\n",
       "0           SP            1039             SP             14500      standard   \n",
       "1           SP            3004             PB             58670      standard   \n",
       "2           SP            3262             RJ             22723      standard   \n",
       "3           SP           12237             SP             18682      standard   \n",
       "4           SP            9350             AP             68908      standard   \n",
       "\n",
       "   quantity  service status date_created           date_sent  \\\n",
       "0         1        1   done   2019-03-10 2019-03-11 14:34:00   \n",
       "1         1        1   done   2019-03-08 2019-03-09 10:48:00   \n",
       "2         1        2   done   2019-02-21 2019-02-23 02:02:16   \n",
       "3         1        2   done   2019-02-25 2019-02-28 03:05:36   \n",
       "4         1        1   done   2019-02-15 2019-02-15 11:28:00   \n",
       "\n",
       "           date_visit  shipment_days date_created_only_date  \\\n",
       "0 2019-03-18 09:52:00            5.0             2019-03-10   \n",
       "1 2019-03-18 15:16:00            5.0             2019-03-08   \n",
       "2 2019-03-01 21:27:00            4.0             2019-02-21   \n",
       "3 2019-03-07 15:01:00            2.0             2019-02-25   \n",
       "4 2019-03-11 13:18:00           13.0             2019-02-15   \n",
       "\n",
       "  date_visit_only_date  \n",
       "0           2019-03-18  \n",
       "1           2019-03-18  \n",
       "2           2019-03-01  \n",
       "3           2019-03-07  \n",
       "4           2019-03-11  "
      ]
     },
     "execution_count": 164,
     "metadata": {},
     "output_type": "execute_result"
    }
   ],
   "source": [
    "#X_train = dataset_clean[mask1]\n",
    "#X_test = dataset_clean[mask2]\n",
    "dataset_clean.head()\n",
    "#dataset_clean.reset_index(drop=True)"
   ]
  },
  {
   "cell_type": "code",
   "execution_count": 163,
   "metadata": {},
   "outputs": [],
   "source": [
    "#dataset_clean.set_index(\"date_visit\", inplace=True)"
   ]
  },
  {
   "cell_type": "code",
   "execution_count": 180,
   "metadata": {},
   "outputs": [
    {
     "data": {
      "text/html": [
       "<div>\n",
       "<style scoped>\n",
       "    .dataframe tbody tr th:only-of-type {\n",
       "        vertical-align: middle;\n",
       "    }\n",
       "\n",
       "    .dataframe tbody tr th {\n",
       "        vertical-align: top;\n",
       "    }\n",
       "\n",
       "    .dataframe thead th {\n",
       "        text-align: right;\n",
       "    }\n",
       "</style>\n",
       "<table border=\"1\" class=\"dataframe\">\n",
       "  <thead>\n",
       "    <tr style=\"text-align: right;\">\n",
       "      <th></th>\n",
       "      <th>sender_state</th>\n",
       "      <th>sender_zipcode</th>\n",
       "      <th>receiver_state</th>\n",
       "      <th>receiver_zipcode</th>\n",
       "      <th>shipment_type</th>\n",
       "      <th>quantity</th>\n",
       "      <th>service</th>\n",
       "      <th>status</th>\n",
       "      <th>date_created</th>\n",
       "      <th>date_sent</th>\n",
       "      <th>date_visit</th>\n",
       "      <th>shipment_days</th>\n",
       "      <th>date_created_only_date</th>\n",
       "      <th>date_visit_only_date</th>\n",
       "    </tr>\n",
       "  </thead>\n",
       "  <tbody>\n",
       "    <tr>\n",
       "      <th>0</th>\n",
       "      <td>SP</td>\n",
       "      <td>1039</td>\n",
       "      <td>SP</td>\n",
       "      <td>14500</td>\n",
       "      <td>standard</td>\n",
       "      <td>1</td>\n",
       "      <td>1</td>\n",
       "      <td>done</td>\n",
       "      <td>2019-03-10</td>\n",
       "      <td>2019-03-11 14:34:00</td>\n",
       "      <td>2019-03-18 09:52:00</td>\n",
       "      <td>5.0</td>\n",
       "      <td>2019-03-10</td>\n",
       "      <td>2019-03-18</td>\n",
       "    </tr>\n",
       "    <tr>\n",
       "      <th>1</th>\n",
       "      <td>SP</td>\n",
       "      <td>3004</td>\n",
       "      <td>PB</td>\n",
       "      <td>58670</td>\n",
       "      <td>standard</td>\n",
       "      <td>1</td>\n",
       "      <td>1</td>\n",
       "      <td>done</td>\n",
       "      <td>2019-03-08</td>\n",
       "      <td>2019-03-09 10:48:00</td>\n",
       "      <td>2019-03-18 15:16:00</td>\n",
       "      <td>5.0</td>\n",
       "      <td>2019-03-08</td>\n",
       "      <td>2019-03-18</td>\n",
       "    </tr>\n",
       "    <tr>\n",
       "      <th>2</th>\n",
       "      <td>SP</td>\n",
       "      <td>3262</td>\n",
       "      <td>RJ</td>\n",
       "      <td>22723</td>\n",
       "      <td>standard</td>\n",
       "      <td>1</td>\n",
       "      <td>2</td>\n",
       "      <td>done</td>\n",
       "      <td>2019-02-21</td>\n",
       "      <td>2019-02-23 02:02:16</td>\n",
       "      <td>2019-03-01 21:27:00</td>\n",
       "      <td>4.0</td>\n",
       "      <td>2019-02-21</td>\n",
       "      <td>2019-03-01</td>\n",
       "    </tr>\n",
       "    <tr>\n",
       "      <th>3</th>\n",
       "      <td>SP</td>\n",
       "      <td>12237</td>\n",
       "      <td>SP</td>\n",
       "      <td>18682</td>\n",
       "      <td>standard</td>\n",
       "      <td>1</td>\n",
       "      <td>2</td>\n",
       "      <td>done</td>\n",
       "      <td>2019-02-25</td>\n",
       "      <td>2019-02-28 03:05:36</td>\n",
       "      <td>2019-03-07 15:01:00</td>\n",
       "      <td>2.0</td>\n",
       "      <td>2019-02-25</td>\n",
       "      <td>2019-03-07</td>\n",
       "    </tr>\n",
       "    <tr>\n",
       "      <th>4</th>\n",
       "      <td>SP</td>\n",
       "      <td>9350</td>\n",
       "      <td>AP</td>\n",
       "      <td>68908</td>\n",
       "      <td>standard</td>\n",
       "      <td>1</td>\n",
       "      <td>1</td>\n",
       "      <td>done</td>\n",
       "      <td>2019-02-15</td>\n",
       "      <td>2019-02-15 11:28:00</td>\n",
       "      <td>2019-03-11 13:18:00</td>\n",
       "      <td>13.0</td>\n",
       "      <td>2019-02-15</td>\n",
       "      <td>2019-03-11</td>\n",
       "    </tr>\n",
       "  </tbody>\n",
       "</table>\n",
       "</div>"
      ],
      "text/plain": [
       "  sender_state  sender_zipcode receiver_state  receiver_zipcode shipment_type  \\\n",
       "0           SP            1039             SP             14500      standard   \n",
       "1           SP            3004             PB             58670      standard   \n",
       "2           SP            3262             RJ             22723      standard   \n",
       "3           SP           12237             SP             18682      standard   \n",
       "4           SP            9350             AP             68908      standard   \n",
       "\n",
       "   quantity  service status date_created           date_sent  \\\n",
       "0         1        1   done   2019-03-10 2019-03-11 14:34:00   \n",
       "1         1        1   done   2019-03-08 2019-03-09 10:48:00   \n",
       "2         1        2   done   2019-02-21 2019-02-23 02:02:16   \n",
       "3         1        2   done   2019-02-25 2019-02-28 03:05:36   \n",
       "4         1        1   done   2019-02-15 2019-02-15 11:28:00   \n",
       "\n",
       "           date_visit  shipment_days date_created_only_date  \\\n",
       "0 2019-03-18 09:52:00            5.0             2019-03-10   \n",
       "1 2019-03-18 15:16:00            5.0             2019-03-08   \n",
       "2 2019-03-01 21:27:00            4.0             2019-02-21   \n",
       "3 2019-03-07 15:01:00            2.0             2019-02-25   \n",
       "4 2019-03-11 13:18:00           13.0             2019-02-15   \n",
       "\n",
       "  date_visit_only_date  \n",
       "0           2019-03-18  \n",
       "1           2019-03-18  \n",
       "2           2019-03-01  \n",
       "3           2019-03-07  \n",
       "4           2019-03-11  "
      ]
     },
     "execution_count": 180,
     "metadata": {},
     "output_type": "execute_result"
    }
   ],
   "source": [
    "dataset_clean.head()"
   ]
  },
  {
   "cell_type": "code",
   "execution_count": 217,
   "metadata": {},
   "outputs": [],
   "source": [
    "df_train = dataset_clean.loc[((dataset_clean[\"date_visit\"].dt.month==3) & (dataset_clean['date_visit'].dt.day<=20)) | (dataset_clean[\"date_visit\"].dt.month==2)]"
   ]
  },
  {
   "cell_type": "code",
   "execution_count": 218,
   "metadata": {},
   "outputs": [],
   "source": [
    "X_train = df_train[['sender_state','sender_zipcode','receiver_state','receiver_zipcode','shipment_type','quantity','service','status','date_created','date_sent','date_visit','date_created_only_date','date_visit_only_date']]"
   ]
  },
  {
   "cell_type": "code",
   "execution_count": null,
   "metadata": {},
   "outputs": [],
   "source": [
    "y_train = df_train[['shipment_days']]"
   ]
  },
  {
   "cell_type": "code",
   "execution_count": 219,
   "metadata": {},
   "outputs": [],
   "source": [
    "df_test = dataset_clean.loc[(dataset_clean['date_created'].dt.month==4) | ((dataset_clean['date_created'].dt.day>20) & (dataset_clean['date_created'].dt.month==3))]"
   ]
  },
  {
   "cell_type": "code",
   "execution_count": 220,
   "metadata": {},
   "outputs": [],
   "source": [
    "X_test = df_test[['sender_state','sender_zipcode','receiver_state','receiver_zipcode','shipment_type','quantity','service','status','date_created','date_sent','date_visit','date_created_only_date','date_visit_only_date']]"
   ]
  },
  {
   "cell_type": "code",
   "execution_count": 222,
   "metadata": {},
   "outputs": [],
   "source": [
    "y_test = df_test[['shipment_days']]"
   ]
  },
  {
   "cell_type": "code",
   "execution_count": 202,
   "metadata": {},
   "outputs": [
    {
     "data": {
      "text/plain": [
       "(492849, 14)"
      ]
     },
     "execution_count": 202,
     "metadata": {},
     "output_type": "execute_result"
    }
   ],
   "source": [
    "dataset_clean.shape"
   ]
  },
  {
   "cell_type": "code",
   "execution_count": 205,
   "metadata": {},
   "outputs": [
    {
     "data": {
      "text/html": [
       "<div>\n",
       "<style scoped>\n",
       "    .dataframe tbody tr th:only-of-type {\n",
       "        vertical-align: middle;\n",
       "    }\n",
       "\n",
       "    .dataframe tbody tr th {\n",
       "        vertical-align: top;\n",
       "    }\n",
       "\n",
       "    .dataframe thead th {\n",
       "        text-align: right;\n",
       "    }\n",
       "</style>\n",
       "<table border=\"1\" class=\"dataframe\">\n",
       "  <thead>\n",
       "    <tr style=\"text-align: right;\">\n",
       "      <th></th>\n",
       "      <th>sender_state</th>\n",
       "      <th>sender_zipcode</th>\n",
       "      <th>receiver_state</th>\n",
       "      <th>receiver_zipcode</th>\n",
       "      <th>shipment_type</th>\n",
       "      <th>quantity</th>\n",
       "      <th>service</th>\n",
       "      <th>status</th>\n",
       "      <th>date_created</th>\n",
       "      <th>date_sent</th>\n",
       "      <th>date_visit</th>\n",
       "      <th>shipment_days</th>\n",
       "      <th>date_created_only_date</th>\n",
       "      <th>date_visit_only_date</th>\n",
       "    </tr>\n",
       "  </thead>\n",
       "  <tbody>\n",
       "    <tr>\n",
       "      <th>0</th>\n",
       "      <td>SP</td>\n",
       "      <td>1039</td>\n",
       "      <td>SP</td>\n",
       "      <td>14500</td>\n",
       "      <td>standard</td>\n",
       "      <td>1</td>\n",
       "      <td>1</td>\n",
       "      <td>done</td>\n",
       "      <td>2019-03-10</td>\n",
       "      <td>2019-03-11 14:34:00</td>\n",
       "      <td>2019-03-18 09:52:00</td>\n",
       "      <td>5.0</td>\n",
       "      <td>2019-03-10</td>\n",
       "      <td>2019-03-18</td>\n",
       "    </tr>\n",
       "    <tr>\n",
       "      <th>1</th>\n",
       "      <td>SP</td>\n",
       "      <td>3004</td>\n",
       "      <td>PB</td>\n",
       "      <td>58670</td>\n",
       "      <td>standard</td>\n",
       "      <td>1</td>\n",
       "      <td>1</td>\n",
       "      <td>done</td>\n",
       "      <td>2019-03-08</td>\n",
       "      <td>2019-03-09 10:48:00</td>\n",
       "      <td>2019-03-18 15:16:00</td>\n",
       "      <td>5.0</td>\n",
       "      <td>2019-03-08</td>\n",
       "      <td>2019-03-18</td>\n",
       "    </tr>\n",
       "    <tr>\n",
       "      <th>2</th>\n",
       "      <td>SP</td>\n",
       "      <td>3262</td>\n",
       "      <td>RJ</td>\n",
       "      <td>22723</td>\n",
       "      <td>standard</td>\n",
       "      <td>1</td>\n",
       "      <td>2</td>\n",
       "      <td>done</td>\n",
       "      <td>2019-02-21</td>\n",
       "      <td>2019-02-23 02:02:16</td>\n",
       "      <td>2019-03-01 21:27:00</td>\n",
       "      <td>4.0</td>\n",
       "      <td>2019-02-21</td>\n",
       "      <td>2019-03-01</td>\n",
       "    </tr>\n",
       "    <tr>\n",
       "      <th>3</th>\n",
       "      <td>SP</td>\n",
       "      <td>12237</td>\n",
       "      <td>SP</td>\n",
       "      <td>18682</td>\n",
       "      <td>standard</td>\n",
       "      <td>1</td>\n",
       "      <td>2</td>\n",
       "      <td>done</td>\n",
       "      <td>2019-02-25</td>\n",
       "      <td>2019-02-28 03:05:36</td>\n",
       "      <td>2019-03-07 15:01:00</td>\n",
       "      <td>2.0</td>\n",
       "      <td>2019-02-25</td>\n",
       "      <td>2019-03-07</td>\n",
       "    </tr>\n",
       "    <tr>\n",
       "      <th>4</th>\n",
       "      <td>SP</td>\n",
       "      <td>9350</td>\n",
       "      <td>AP</td>\n",
       "      <td>68908</td>\n",
       "      <td>standard</td>\n",
       "      <td>1</td>\n",
       "      <td>1</td>\n",
       "      <td>done</td>\n",
       "      <td>2019-02-15</td>\n",
       "      <td>2019-02-15 11:28:00</td>\n",
       "      <td>2019-03-11 13:18:00</td>\n",
       "      <td>13.0</td>\n",
       "      <td>2019-02-15</td>\n",
       "      <td>2019-03-11</td>\n",
       "    </tr>\n",
       "  </tbody>\n",
       "</table>\n",
       "</div>"
      ],
      "text/plain": [
       "  sender_state  sender_zipcode receiver_state  receiver_zipcode shipment_type  \\\n",
       "0           SP            1039             SP             14500      standard   \n",
       "1           SP            3004             PB             58670      standard   \n",
       "2           SP            3262             RJ             22723      standard   \n",
       "3           SP           12237             SP             18682      standard   \n",
       "4           SP            9350             AP             68908      standard   \n",
       "\n",
       "   quantity  service status date_created           date_sent  \\\n",
       "0         1        1   done   2019-03-10 2019-03-11 14:34:00   \n",
       "1         1        1   done   2019-03-08 2019-03-09 10:48:00   \n",
       "2         1        2   done   2019-02-21 2019-02-23 02:02:16   \n",
       "3         1        2   done   2019-02-25 2019-02-28 03:05:36   \n",
       "4         1        1   done   2019-02-15 2019-02-15 11:28:00   \n",
       "\n",
       "           date_visit  shipment_days date_created_only_date  \\\n",
       "0 2019-03-18 09:52:00            5.0             2019-03-10   \n",
       "1 2019-03-18 15:16:00            5.0             2019-03-08   \n",
       "2 2019-03-01 21:27:00            4.0             2019-02-21   \n",
       "3 2019-03-07 15:01:00            2.0             2019-02-25   \n",
       "4 2019-03-11 13:18:00           13.0             2019-02-15   \n",
       "\n",
       "  date_visit_only_date  \n",
       "0           2019-03-18  \n",
       "1           2019-03-18  \n",
       "2           2019-03-01  \n",
       "3           2019-03-07  \n",
       "4           2019-03-11  "
      ]
     },
     "execution_count": 205,
     "metadata": {},
     "output_type": "execute_result"
    }
   ],
   "source": [
    "dataset_clean.head()"
   ]
  },
  {
   "cell_type": "code",
   "execution_count": 201,
   "metadata": {},
   "outputs": [
    {
     "data": {
      "text/plain": [
       "Index(['sender_state', 'sender_zipcode', 'receiver_state', 'receiver_zipcode',\n",
       "       'shipment_type', 'quantity', 'service', 'status', 'date_created',\n",
       "       'date_sent', 'date_visit', 'shipment_days', 'date_created_only_date',\n",
       "       'date_visit_only_date'],\n",
       "      dtype='object')"
      ]
     },
     "execution_count": 201,
     "metadata": {},
     "output_type": "execute_result"
    }
   ],
   "source": [
    "dataset_clean.columns"
   ]
  },
  {
   "cell_type": "code",
   "execution_count": 212,
   "metadata": {},
   "outputs": [],
   "source": [
    "#df_without_shipment = dataset_clean[['sender_state','sender_zipcode','receiver_state','receiver_zipcode','shipment_type','quantity','service','status','date_created','date_sent','date_visit','date_created_only_date','date_visit_only_date']]"
   ]
  },
  {
   "cell_type": "code",
   "execution_count": 215,
   "metadata": {},
   "outputs": [],
   "source": [
    "#X_train = df_without_shipment.loc[((df_without_shipment[\"date_visit\"].dt.month==3) & (df_without_shipment['date_visit'].dt.day<=20)) | (df_without_shipment[\"date_visit\"].dt.month==2)]"
   ]
  },
  {
   "cell_type": "code",
   "execution_count": 216,
   "metadata": {},
   "outputs": [],
   "source": [
    "#X_test = df_without_shipment.loc[(df_without_shipment['date_created'].dt.month==4) | ((df_without_shipment['date_created'].dt.day>20) & (df_without_shipment['date_created'].dt.month==3))]"
   ]
  },
  {
   "cell_type": "code",
   "execution_count": 214,
   "metadata": {},
   "outputs": [],
   "source": [
    "#df_target = dataset_clean [['shipment_days']]\n",
    "#dataset_clean.iloc[:,0:14]"
   ]
  },
  {
   "cell_type": "markdown",
   "metadata": {
    "colab_type": "text",
    "id": "vLRNDnvYn4SS"
   },
   "source": [
    "## Utilizando la variable shipment_days en su versión de tipo numérica"
   ]
  },
  {
   "cell_type": "markdown",
   "metadata": {
    "colab_type": "text",
    "id": "i8eqmbB3n4Fc"
   },
   "source": [
    "## Utilizando la variable shipment_days en su versión de tipo categórica"
   ]
  },
  {
   "cell_type": "code",
   "execution_count": 0,
   "metadata": {
    "colab": {},
    "colab_type": "code",
    "id": "w3wWrqnTnwUJ"
   },
   "outputs": [],
   "source": []
  }
 ],
 "metadata": {
  "colab": {
   "collapsed_sections": [],
   "name": "practico3-Mentoria.ipynb",
   "provenance": [],
   "version": "0.3.2"
  },
  "kernelspec": {
   "display_name": "Python 3",
   "language": "python",
   "name": "python3"
  },
  "language_info": {
   "codemirror_mode": {
    "name": "ipython",
    "version": 3
   },
   "file_extension": ".py",
   "mimetype": "text/x-python",
   "name": "python",
   "nbconvert_exporter": "python",
   "pygments_lexer": "ipython3",
   "version": "3.6.8"
  }
 },
 "nbformat": 4,
 "nbformat_minor": 1
}
