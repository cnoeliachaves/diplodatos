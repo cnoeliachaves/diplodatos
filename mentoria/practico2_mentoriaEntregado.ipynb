{
 "cells": [
  {
   "cell_type": "markdown",
   "metadata": {
    "colab_type": "text",
    "id": "RdLrR91twOnV"
   },
   "source": [
    "# Logística de envíos: ¿Cuándo llega?\n",
    "\n",
    "## Mentoría DiploDatos 2019 \n",
    "\n",
    "### Integrantes:\n",
    "\n",
    "- Chaves, Noelia\n",
    "- Frau, Johanna\n",
    "\n",
    "### Mentora:\n",
    "\n",
    "- Dal Lago, Virginia\n",
    "\n",
    "### Práctico: Análisis exploratorio y curación"
   ]
  },
  {
   "cell_type": "markdown",
   "metadata": {
    "colab_type": "text",
    "id": "ZN5ggE1edXFN"
   },
   "source": [
    "## Motivación\n",
    "\n",
    "En la actualidad, cada vez más productos se comercializan a través de una plataforma online. Una de las principales ventajas de este sistema es que el usuario puede recibir el producto en su domicilio en una fecha determinada. Pero, ¿cómo sabemos qué día va a llegar? ¿A partir de qué datos podemos predecir la demora del envío? En este práctico se trabajará con datos de envíos de MercadoLibre, el e-commerce más grande de Latinoamérica, analizando y modelando el problema de logística de envíos para poder responder ¿cuándo llega?\n",
    "\n",
    "## Descripción del dataset\n",
    "\n",
    "**Datos:**  El conjunto de datos seleccionado para realizar el práctico corresponde a un muestreo aleatorio no uniforme de 500.000 envíos de MercadoLibre. Estos envíos fueron realizados en Brasil en el período comprendido entre Octubre de 2018 y Abril de 2019 (las fechas originales han sido modificadas y adaptadas a un período de tiempo diferente, conservando el día de la semana y considerando los feriados correspondientes). Mientras que las fechas han sido modificadas, los horarios registrados en el dataset son los originales. Los datos comprenden variables tanto categóricas como numéricas. \n",
    "\n",
    "El dataset cuenta con las siguientes columnas:\n",
    "\n",
    "- **Sender_state:** Estado de Brasil de donde sale el envío.\n",
    "- **Sender_zipcode:** Código postal (de 5 dígitos) de donde sale el envío.\n",
    "- **Receiver_state:** Estado de Brasil a donde llega el envío.\n",
    "- **Receiver_zipcode:** Código postal (de 5 dígitos) a donde llega el envío.\n",
    "- **Shipment_type:** Método de envío (normal, express, super).\n",
    "- **Quantity:** Cantidad de productos en un envío.\n",
    "- **Service:** Servicio del correo con el cual se realizó un envío.\n",
    "- **Status:** Estado del envío (set: listo para ser enviado, sent: enviado, done: entregado, failed: no entregado, cancelled: cancelado).\n",
    "- **Date_created:** Fecha de creación del envío.\n",
    "- **Date_sent:** Fecha y hora en que se realizó el envío (salió del correo).\n",
    "- **Date_visit:** Fecha y hora en que se entregó el envío al destinatario.\n",
    "- **Shipment_days:** Días hábiles entre que el envío fue enviado (salió del correo) y que fue entregado.\n",
    "\n",
    "\n"
   ]
  },
  {
   "cell_type": "markdown",
   "metadata": {
    "colab_type": "text",
    "id": "uiW-rbivyaWV"
   },
   "source": [
    "## Objetivos generales\n",
    "\n",
    "\n",
    "  * Realizar un estudio exploratorio del dataset para extraer información útil sobre el problema a resolver.\n",
    "  * Desarrollar visión crítica en relación a la problemática para llevar a cabo el procedimiento de ciencia de datos.\n",
    "  * Desarrollar habilidades de comunicación de la información obtenida a partir de los datos de manera clara y sencilla."
   ]
  },
  {
   "cell_type": "markdown",
   "metadata": {
    "colab_type": "text",
    "id": "J6tMJ0XCytLN"
   },
   "source": [
    "## Objetivos específicos\n",
    "\n",
    "*  Realizar un análisis profundo de los datos para identificar posibles problemas en la información proporcionada (por ejemplo datos duplicados).\n",
    "*   Trabajar con diferentes encodings en las variables categóricas de manera de poder usar ciertos algoritmos de machine learning que solo aceptan datos numéricos.\n",
    "* Estudiar y analizar de qué manera puede predecirse la cantidad de días en que un envío llegará a destino y qué variables tienen mayor peso en dicha predicción.\n",
    "\n"
   ]
  },
  {
   "cell_type": "markdown",
   "metadata": {
    "colab_type": "text",
    "id": "-MZEYrPx2ctH"
   },
   "source": [
    "##Desarrollo del trabajo"
   ]
  },
  {
   "cell_type": "code",
   "execution_count": 0,
   "metadata": {
    "colab": {},
    "colab_type": "code",
    "id": "4sm1rIU0e3dN"
   },
   "outputs": [],
   "source": [
    "import matplotlib.pyplot as plt\n",
    "import numpy \n",
    "import pandas\n",
    "import seaborn\n",
    "\n",
    "\n",
    "from IPython.display import HTML\n",
    "from matplotlib.colors import ListedColormap\n",
    "from scipy import stats\n",
    "from sklearn import preprocessing\n",
    "\n",
    "from sklearn.model_selection import train_test_split\n",
    "from sklearn.preprocessing import MinMaxScaler\n",
    "from sklearn.neighbors import KNeighborsClassifier\n",
    "from sklearn.metrics import classification_report\n",
    "from sklearn.metrics import confusion_matrix"
   ]
  },
  {
   "cell_type": "markdown",
   "metadata": {
    "colab_type": "text",
    "id": "WVsOePv536E7"
   },
   "source": [
    "### Lectura y análisis inicial de los datos"
   ]
  },
  {
   "cell_type": "code",
   "execution_count": 0,
   "metadata": {
    "colab": {
     "base_uri": "https://localhost:8080/",
     "height": 34
    },
    "colab_type": "code",
    "id": "qj2-8d0VfVez",
    "outputId": "0473bacd-f7ab-4f44-972c-0cff3cf847e1"
   },
   "outputs": [
    {
     "data": {
      "text/plain": [
       "(500000, 12)"
      ]
     },
     "execution_count": 2,
     "metadata": {
      "tags": []
     },
     "output_type": "execute_result"
    }
   ],
   "source": [
    "url = \"https://raw.githubusercontent.com/cnoeliachaves/csv/master/dataset_sample_corrected.csv\"\n",
    "\n",
    "dataset = pandas.read_csv(url, dtype={'sender_zipcode':'int64',\n",
    "                              'receiver_zipcode':'int64',\n",
    "                              'quantity':'int64',\n",
    "                              'service':'int64'},\n",
    "                       parse_dates=['date_created','date_sent','date_visit'])\n",
    "dataset.shape\n"
   ]
  },
  {
   "cell_type": "code",
   "execution_count": 0,
   "metadata": {
    "colab": {
     "base_uri": "https://localhost:8080/",
     "height": 85
    },
    "colab_type": "code",
    "id": "RR2-pOSnDfMd",
    "outputId": "d8a5158c-9621-40a5-b0d8-0c978b284261"
   },
   "outputs": [
    {
     "data": {
      "text/plain": [
       "Index(['sender_state', 'sender_zipcode', 'receiver_state', 'receiver_zipcode',\n",
       "       'shipment_type', 'quantity', 'service', 'status', 'date_created',\n",
       "       'date_sent', 'date_visit', 'shipment_days'],\n",
       "      dtype='object')"
      ]
     },
     "execution_count": 3,
     "metadata": {
      "tags": []
     },
     "output_type": "execute_result"
    }
   ],
   "source": [
    "dataset.columns"
   ]
  },
  {
   "cell_type": "code",
   "execution_count": 0,
   "metadata": {
    "colab": {
     "base_uri": "https://localhost:8080/",
     "height": 306
    },
    "colab_type": "code",
    "id": "PcfXL_E6Dqzk",
    "outputId": "c8c38ca5-6aef-4952-b89d-a8ab16a122f7"
   },
   "outputs": [
    {
     "name": "stdout",
     "output_type": "stream",
     "text": [
      "<class 'pandas.core.frame.DataFrame'>\n",
      "RangeIndex: 500000 entries, 0 to 499999\n",
      "Data columns (total 12 columns):\n",
      "sender_state        500000 non-null object\n",
      "sender_zipcode      500000 non-null int64\n",
      "receiver_state      500000 non-null object\n",
      "receiver_zipcode    500000 non-null int64\n",
      "shipment_type       500000 non-null object\n",
      "quantity            500000 non-null int64\n",
      "service             500000 non-null int64\n",
      "status              500000 non-null object\n",
      "date_created        500000 non-null datetime64[ns]\n",
      "date_sent           499971 non-null datetime64[ns]\n",
      "date_visit          499398 non-null datetime64[ns]\n",
      "shipment_days       499398 non-null float64\n",
      "dtypes: datetime64[ns](3), float64(1), int64(4), object(4)\n",
      "memory usage: 45.8+ MB\n"
     ]
    }
   ],
   "source": [
    "dataset.info()"
   ]
  },
  {
   "cell_type": "code",
   "execution_count": 0,
   "metadata": {
    "colab": {
     "base_uri": "https://localhost:8080/",
     "height": 359
    },
    "colab_type": "code",
    "id": "XEAbMgexD56L",
    "outputId": "088d9201-e50f-4794-c5ae-afa4ac8136af"
   },
   "outputs": [
    {
     "data": {
      "text/html": [
       "<div>\n",
       "<style scoped>\n",
       "    .dataframe tbody tr th:only-of-type {\n",
       "        vertical-align: middle;\n",
       "    }\n",
       "\n",
       "    .dataframe tbody tr th {\n",
       "        vertical-align: top;\n",
       "    }\n",
       "\n",
       "    .dataframe thead th {\n",
       "        text-align: right;\n",
       "    }\n",
       "</style>\n",
       "<table border=\"1\" class=\"dataframe\">\n",
       "  <thead>\n",
       "    <tr style=\"text-align: right;\">\n",
       "      <th></th>\n",
       "      <th>sender_state</th>\n",
       "      <th>sender_zipcode</th>\n",
       "      <th>receiver_state</th>\n",
       "      <th>receiver_zipcode</th>\n",
       "      <th>shipment_type</th>\n",
       "      <th>quantity</th>\n",
       "      <th>service</th>\n",
       "      <th>status</th>\n",
       "      <th>date_created</th>\n",
       "      <th>date_sent</th>\n",
       "      <th>date_visit</th>\n",
       "      <th>shipment_days</th>\n",
       "    </tr>\n",
       "  </thead>\n",
       "  <tbody>\n",
       "    <tr>\n",
       "      <th>194257</th>\n",
       "      <td>SP</td>\n",
       "      <td>3734</td>\n",
       "      <td>RS</td>\n",
       "      <td>96540</td>\n",
       "      <td>standard</td>\n",
       "      <td>1</td>\n",
       "      <td>4</td>\n",
       "      <td>done</td>\n",
       "      <td>2019-02-17</td>\n",
       "      <td>2019-02-22 03:49:21</td>\n",
       "      <td>2019-03-07 15:09:00</td>\n",
       "      <td>6.0</td>\n",
       "    </tr>\n",
       "    <tr>\n",
       "      <th>396319</th>\n",
       "      <td>SP</td>\n",
       "      <td>6422</td>\n",
       "      <td>SP</td>\n",
       "      <td>9580</td>\n",
       "      <td>express</td>\n",
       "      <td>1</td>\n",
       "      <td>5</td>\n",
       "      <td>done</td>\n",
       "      <td>2019-03-04</td>\n",
       "      <td>2019-03-07 20:24:02</td>\n",
       "      <td>2019-03-07 10:02:09</td>\n",
       "      <td>0.0</td>\n",
       "    </tr>\n",
       "    <tr>\n",
       "      <th>138738</th>\n",
       "      <td>SP</td>\n",
       "      <td>14940</td>\n",
       "      <td>CE</td>\n",
       "      <td>62650</td>\n",
       "      <td>standard</td>\n",
       "      <td>1</td>\n",
       "      <td>1</td>\n",
       "      <td>done</td>\n",
       "      <td>2019-02-08</td>\n",
       "      <td>2019-02-13 13:51:00</td>\n",
       "      <td>2019-03-11 14:16:00</td>\n",
       "      <td>15.0</td>\n",
       "    </tr>\n",
       "    <tr>\n",
       "      <th>66570</th>\n",
       "      <td>SP</td>\n",
       "      <td>1004</td>\n",
       "      <td>MG</td>\n",
       "      <td>32340</td>\n",
       "      <td>express</td>\n",
       "      <td>1</td>\n",
       "      <td>4</td>\n",
       "      <td>done</td>\n",
       "      <td>2019-03-16</td>\n",
       "      <td>2019-03-19 00:52:07</td>\n",
       "      <td>2019-03-25 19:00:00</td>\n",
       "      <td>4.0</td>\n",
       "    </tr>\n",
       "    <tr>\n",
       "      <th>149424</th>\n",
       "      <td>SP</td>\n",
       "      <td>13254</td>\n",
       "      <td>BA</td>\n",
       "      <td>44700</td>\n",
       "      <td>express</td>\n",
       "      <td>1</td>\n",
       "      <td>0</td>\n",
       "      <td>done</td>\n",
       "      <td>2019-03-02</td>\n",
       "      <td>2019-03-04 15:41:00</td>\n",
       "      <td>2019-03-12 15:19:00</td>\n",
       "      <td>3.0</td>\n",
       "    </tr>\n",
       "    <tr>\n",
       "      <th>128165</th>\n",
       "      <td>SP</td>\n",
       "      <td>9850</td>\n",
       "      <td>SP</td>\n",
       "      <td>12301</td>\n",
       "      <td>express</td>\n",
       "      <td>2</td>\n",
       "      <td>0</td>\n",
       "      <td>done</td>\n",
       "      <td>2019-03-17</td>\n",
       "      <td>2019-03-19 13:39:00</td>\n",
       "      <td>2019-03-20 18:59:00</td>\n",
       "      <td>1.0</td>\n",
       "    </tr>\n",
       "    <tr>\n",
       "      <th>264495</th>\n",
       "      <td>SP</td>\n",
       "      <td>3627</td>\n",
       "      <td>BA</td>\n",
       "      <td>44690</td>\n",
       "      <td>standard</td>\n",
       "      <td>1</td>\n",
       "      <td>1</td>\n",
       "      <td>done</td>\n",
       "      <td>2019-03-04</td>\n",
       "      <td>2019-03-06 12:13:00</td>\n",
       "      <td>2019-03-22 14:17:00</td>\n",
       "      <td>11.0</td>\n",
       "    </tr>\n",
       "    <tr>\n",
       "      <th>30371</th>\n",
       "      <td>SP</td>\n",
       "      <td>13456</td>\n",
       "      <td>SP</td>\n",
       "      <td>5268</td>\n",
       "      <td>express</td>\n",
       "      <td>2</td>\n",
       "      <td>0</td>\n",
       "      <td>done</td>\n",
       "      <td>2019-03-12</td>\n",
       "      <td>2019-03-13 15:07:00</td>\n",
       "      <td>2019-03-14 16:26:00</td>\n",
       "      <td>1.0</td>\n",
       "    </tr>\n",
       "    <tr>\n",
       "      <th>456998</th>\n",
       "      <td>SP</td>\n",
       "      <td>3004</td>\n",
       "      <td>SC</td>\n",
       "      <td>89300</td>\n",
       "      <td>standard</td>\n",
       "      <td>1</td>\n",
       "      <td>3</td>\n",
       "      <td>done</td>\n",
       "      <td>2019-02-15</td>\n",
       "      <td>2019-02-17 04:52:00</td>\n",
       "      <td>2019-03-07 17:56:00</td>\n",
       "      <td>10.0</td>\n",
       "    </tr>\n",
       "    <tr>\n",
       "      <th>32001</th>\n",
       "      <td>SP</td>\n",
       "      <td>19013</td>\n",
       "      <td>SP</td>\n",
       "      <td>14815</td>\n",
       "      <td>standard</td>\n",
       "      <td>2</td>\n",
       "      <td>1</td>\n",
       "      <td>done</td>\n",
       "      <td>2019-03-21</td>\n",
       "      <td>2019-03-22 14:32:00</td>\n",
       "      <td>2019-03-26 13:39:00</td>\n",
       "      <td>2.0</td>\n",
       "    </tr>\n",
       "  </tbody>\n",
       "</table>\n",
       "</div>"
      ],
      "text/plain": [
       "       sender_state  sender_zipcode  ...          date_visit  shipment_days\n",
       "194257           SP            3734  ... 2019-03-07 15:09:00            6.0\n",
       "396319           SP            6422  ... 2019-03-07 10:02:09            0.0\n",
       "138738           SP           14940  ... 2019-03-11 14:16:00           15.0\n",
       "66570            SP            1004  ... 2019-03-25 19:00:00            4.0\n",
       "149424           SP           13254  ... 2019-03-12 15:19:00            3.0\n",
       "128165           SP            9850  ... 2019-03-20 18:59:00            1.0\n",
       "264495           SP            3627  ... 2019-03-22 14:17:00           11.0\n",
       "30371            SP           13456  ... 2019-03-14 16:26:00            1.0\n",
       "456998           SP            3004  ... 2019-03-07 17:56:00           10.0\n",
       "32001            SP           19013  ... 2019-03-26 13:39:00            2.0\n",
       "\n",
       "[10 rows x 12 columns]"
      ]
     },
     "execution_count": 5,
     "metadata": {
      "tags": []
     },
     "output_type": "execute_result"
    }
   ],
   "source": [
    "numpy.random.seed(0) #con propositos de reproducibilidad\n",
    "dataset.sample(10)"
   ]
  },
  {
   "cell_type": "markdown",
   "metadata": {
    "colab_type": "text",
    "id": "Ds-b5S1pEl7E"
   },
   "source": [
    "### Acerca de los valores de shipment_days anómalos\n",
    "\n",
    "En el práctico anterior habiamos tomado la decisión de no trabajar con valores de la variable **shipment_days** negativos teniendo en cuenta que no los podemos considerar valores reales y que la proporción de estos datos dentro de todo el conjunto es muy chica.\n",
    "\n",
    "Por lo tanto nuestra primera medida será aplicar este filtro."
   ]
  },
  {
   "cell_type": "code",
   "execution_count": 0,
   "metadata": {
    "colab": {},
    "colab_type": "code",
    "id": "pRbhm1XZi0ms"
   },
   "outputs": [],
   "source": [
    "def clean_shipment_days(dataset):\n",
    "    \"\"\"Le saco los valores negativos\"\"\"\n",
    "    shipments_days = dataset['shipment_days']\n",
    "    mask = (shipments_days >= 0)\n",
    "    return dataset[mask] "
   ]
  },
  {
   "cell_type": "code",
   "execution_count": 0,
   "metadata": {
    "colab": {},
    "colab_type": "code",
    "id": "6ci9jOBXi2yU"
   },
   "outputs": [],
   "source": [
    "dataset_clean = clean_shipment_days(dataset)"
   ]
  },
  {
   "cell_type": "code",
   "execution_count": 0,
   "metadata": {
    "colab": {
     "base_uri": "https://localhost:8080/",
     "height": 297
    },
    "colab_type": "code",
    "id": "HSVHyrlTHd9N",
    "outputId": "c313a9d1-91fb-4880-9fc1-1b4e2ede2f7f"
   },
   "outputs": [
    {
     "data": {
      "text/html": [
       "<div>\n",
       "<style scoped>\n",
       "    .dataframe tbody tr th:only-of-type {\n",
       "        vertical-align: middle;\n",
       "    }\n",
       "\n",
       "    .dataframe tbody tr th {\n",
       "        vertical-align: top;\n",
       "    }\n",
       "\n",
       "    .dataframe thead th {\n",
       "        text-align: right;\n",
       "    }\n",
       "</style>\n",
       "<table border=\"1\" class=\"dataframe\">\n",
       "  <thead>\n",
       "    <tr style=\"text-align: right;\">\n",
       "      <th></th>\n",
       "      <th>sender_zipcode</th>\n",
       "      <th>receiver_zipcode</th>\n",
       "      <th>quantity</th>\n",
       "      <th>service</th>\n",
       "      <th>shipment_days</th>\n",
       "    </tr>\n",
       "  </thead>\n",
       "  <tbody>\n",
       "    <tr>\n",
       "      <th>count</th>\n",
       "      <td>499350.000000</td>\n",
       "      <td>499350.000000</td>\n",
       "      <td>499350.000000</td>\n",
       "      <td>499350.000000</td>\n",
       "      <td>499350.000000</td>\n",
       "    </tr>\n",
       "    <tr>\n",
       "      <th>mean</th>\n",
       "      <td>8305.922694</td>\n",
       "      <td>39977.617365</td>\n",
       "      <td>1.278210</td>\n",
       "      <td>1.513588</td>\n",
       "      <td>5.374357</td>\n",
       "    </tr>\n",
       "    <tr>\n",
       "      <th>std</th>\n",
       "      <td>5088.481700</td>\n",
       "      <td>30977.339131</td>\n",
       "      <td>0.661669</td>\n",
       "      <td>1.825088</td>\n",
       "      <td>4.978010</td>\n",
       "    </tr>\n",
       "    <tr>\n",
       "      <th>min</th>\n",
       "      <td>1001.000000</td>\n",
       "      <td>1001.000000</td>\n",
       "      <td>1.000000</td>\n",
       "      <td>0.000000</td>\n",
       "      <td>0.000000</td>\n",
       "    </tr>\n",
       "    <tr>\n",
       "      <th>25%</th>\n",
       "      <td>3673.000000</td>\n",
       "      <td>13106.000000</td>\n",
       "      <td>1.000000</td>\n",
       "      <td>0.000000</td>\n",
       "      <td>2.000000</td>\n",
       "    </tr>\n",
       "    <tr>\n",
       "      <th>50%</th>\n",
       "      <td>7400.000000</td>\n",
       "      <td>31140.000000</td>\n",
       "      <td>1.000000</td>\n",
       "      <td>1.000000</td>\n",
       "      <td>4.000000</td>\n",
       "    </tr>\n",
       "    <tr>\n",
       "      <th>75%</th>\n",
       "      <td>13277.000000</td>\n",
       "      <td>70670.000000</td>\n",
       "      <td>1.000000</td>\n",
       "      <td>2.000000</td>\n",
       "      <td>8.000000</td>\n",
       "    </tr>\n",
       "    <tr>\n",
       "      <th>max</th>\n",
       "      <td>19970.000000</td>\n",
       "      <td>99990.000000</td>\n",
       "      <td>5.000000</td>\n",
       "      <td>12.000000</td>\n",
       "      <td>90.000000</td>\n",
       "    </tr>\n",
       "  </tbody>\n",
       "</table>\n",
       "</div>"
      ],
      "text/plain": [
       "       sender_zipcode  receiver_zipcode  ...        service  shipment_days\n",
       "count   499350.000000     499350.000000  ...  499350.000000  499350.000000\n",
       "mean      8305.922694      39977.617365  ...       1.513588       5.374357\n",
       "std       5088.481700      30977.339131  ...       1.825088       4.978010\n",
       "min       1001.000000       1001.000000  ...       0.000000       0.000000\n",
       "25%       3673.000000      13106.000000  ...       0.000000       2.000000\n",
       "50%       7400.000000      31140.000000  ...       1.000000       4.000000\n",
       "75%      13277.000000      70670.000000  ...       2.000000       8.000000\n",
       "max      19970.000000      99990.000000  ...      12.000000      90.000000\n",
       "\n",
       "[8 rows x 5 columns]"
      ]
     },
     "execution_count": 8,
     "metadata": {
      "tags": []
     },
     "output_type": "execute_result"
    }
   ],
   "source": [
    "dataset_clean.describe()"
   ]
  },
  {
   "cell_type": "code",
   "execution_count": 0,
   "metadata": {
    "colab": {
     "base_uri": "https://localhost:8080/",
     "height": 306
    },
    "colab_type": "code",
    "id": "pVyRSEYPHpAP",
    "outputId": "a4a703ac-0a7e-43ef-be1a-0c47e0770ffb"
   },
   "outputs": [
    {
     "name": "stdout",
     "output_type": "stream",
     "text": [
      "<class 'pandas.core.frame.DataFrame'>\n",
      "Int64Index: 499350 entries, 0 to 499999\n",
      "Data columns (total 12 columns):\n",
      "sender_state        499350 non-null object\n",
      "sender_zipcode      499350 non-null int64\n",
      "receiver_state      499350 non-null object\n",
      "receiver_zipcode    499350 non-null int64\n",
      "shipment_type       499350 non-null object\n",
      "quantity            499350 non-null int64\n",
      "service             499350 non-null int64\n",
      "status              499350 non-null object\n",
      "date_created        499350 non-null datetime64[ns]\n",
      "date_sent           499350 non-null datetime64[ns]\n",
      "date_visit          499350 non-null datetime64[ns]\n",
      "shipment_days       499350 non-null float64\n",
      "dtypes: datetime64[ns](3), float64(1), int64(4), object(4)\n",
      "memory usage: 49.5+ MB\n"
     ]
    }
   ],
   "source": [
    "dataset_clean.info()"
   ]
  },
  {
   "cell_type": "markdown",
   "metadata": {
    "colab_type": "text",
    "id": "dzT3lX8oIi7c"
   },
   "source": [
    "###Datos duplicados\n",
    "\n",
    "A continuación intentaremos determinar si nuestro dataset tiene información duplicada."
   ]
  },
  {
   "cell_type": "code",
   "execution_count": 0,
   "metadata": {
    "colab": {
     "base_uri": "https://localhost:8080/",
     "height": 359
    },
    "colab_type": "code",
    "id": "9f_y95VFjNU5",
    "outputId": "ed7c1cc3-86d9-4aa9-e030-6b100c5d4d18"
   },
   "outputs": [
    {
     "data": {
      "text/html": [
       "<div>\n",
       "<style scoped>\n",
       "    .dataframe tbody tr th:only-of-type {\n",
       "        vertical-align: middle;\n",
       "    }\n",
       "\n",
       "    .dataframe tbody tr th {\n",
       "        vertical-align: top;\n",
       "    }\n",
       "\n",
       "    .dataframe thead th {\n",
       "        text-align: right;\n",
       "    }\n",
       "</style>\n",
       "<table border=\"1\" class=\"dataframe\">\n",
       "  <thead>\n",
       "    <tr style=\"text-align: right;\">\n",
       "      <th></th>\n",
       "      <th>sender_state</th>\n",
       "      <th>sender_zipcode</th>\n",
       "      <th>receiver_state</th>\n",
       "      <th>receiver_zipcode</th>\n",
       "      <th>shipment_type</th>\n",
       "      <th>quantity</th>\n",
       "      <th>service</th>\n",
       "      <th>status</th>\n",
       "      <th>date_created</th>\n",
       "      <th>date_sent</th>\n",
       "      <th>date_visit</th>\n",
       "      <th>shipment_days</th>\n",
       "    </tr>\n",
       "  </thead>\n",
       "  <tbody>\n",
       "    <tr>\n",
       "      <th>261074</th>\n",
       "      <td>SP</td>\n",
       "      <td>6422</td>\n",
       "      <td>SP</td>\n",
       "      <td>4671</td>\n",
       "      <td>express</td>\n",
       "      <td>1</td>\n",
       "      <td>8</td>\n",
       "      <td>done</td>\n",
       "      <td>2019-02-27</td>\n",
       "      <td>2019-03-01 06:18:32</td>\n",
       "      <td>2019-03-07 12:19:58</td>\n",
       "      <td>1.0</td>\n",
       "    </tr>\n",
       "    <tr>\n",
       "      <th>274457</th>\n",
       "      <td>SP</td>\n",
       "      <td>6422</td>\n",
       "      <td>SP</td>\n",
       "      <td>17026</td>\n",
       "      <td>express</td>\n",
       "      <td>1</td>\n",
       "      <td>4</td>\n",
       "      <td>done</td>\n",
       "      <td>2019-03-17</td>\n",
       "      <td>2019-03-19 00:51:00</td>\n",
       "      <td>2019-03-25 17:09:00</td>\n",
       "      <td>4.0</td>\n",
       "    </tr>\n",
       "    <tr>\n",
       "      <th>360738</th>\n",
       "      <td>SP</td>\n",
       "      <td>2652</td>\n",
       "      <td>ES</td>\n",
       "      <td>29060</td>\n",
       "      <td>standard</td>\n",
       "      <td>2</td>\n",
       "      <td>1</td>\n",
       "      <td>done</td>\n",
       "      <td>2019-03-14</td>\n",
       "      <td>2019-03-18 09:22:00</td>\n",
       "      <td>2019-03-22 12:51:00</td>\n",
       "      <td>4.0</td>\n",
       "    </tr>\n",
       "    <tr>\n",
       "      <th>189806</th>\n",
       "      <td>SP</td>\n",
       "      <td>9941</td>\n",
       "      <td>SP</td>\n",
       "      <td>3140</td>\n",
       "      <td>express</td>\n",
       "      <td>1</td>\n",
       "      <td>0</td>\n",
       "      <td>done</td>\n",
       "      <td>2019-03-12</td>\n",
       "      <td>2019-03-13 15:50:00</td>\n",
       "      <td>2019-03-14 14:07:00</td>\n",
       "      <td>1.0</td>\n",
       "    </tr>\n",
       "    <tr>\n",
       "      <th>295470</th>\n",
       "      <td>SP</td>\n",
       "      <td>9112</td>\n",
       "      <td>SP</td>\n",
       "      <td>5818</td>\n",
       "      <td>express</td>\n",
       "      <td>1</td>\n",
       "      <td>0</td>\n",
       "      <td>done</td>\n",
       "      <td>2019-03-17</td>\n",
       "      <td>2019-03-18 19:19:00</td>\n",
       "      <td>2019-03-20 11:38:00</td>\n",
       "      <td>2.0</td>\n",
       "    </tr>\n",
       "    <tr>\n",
       "      <th>162811</th>\n",
       "      <td>SP</td>\n",
       "      <td>19053</td>\n",
       "      <td>DF</td>\n",
       "      <td>71988</td>\n",
       "      <td>standard</td>\n",
       "      <td>1</td>\n",
       "      <td>4</td>\n",
       "      <td>done</td>\n",
       "      <td>2019-03-17</td>\n",
       "      <td>2019-03-21 04:04:38</td>\n",
       "      <td>2019-03-25 12:15:00</td>\n",
       "      <td>2.0</td>\n",
       "    </tr>\n",
       "    <tr>\n",
       "      <th>333332</th>\n",
       "      <td>SP</td>\n",
       "      <td>13903</td>\n",
       "      <td>PI</td>\n",
       "      <td>64052</td>\n",
       "      <td>standard</td>\n",
       "      <td>1</td>\n",
       "      <td>1</td>\n",
       "      <td>done</td>\n",
       "      <td>2019-03-05</td>\n",
       "      <td>2019-03-06 16:19:00</td>\n",
       "      <td>2019-03-21 15:47:00</td>\n",
       "      <td>10.0</td>\n",
       "    </tr>\n",
       "    <tr>\n",
       "      <th>55229</th>\n",
       "      <td>SP</td>\n",
       "      <td>14405</td>\n",
       "      <td>RS</td>\n",
       "      <td>99010</td>\n",
       "      <td>standard</td>\n",
       "      <td>1</td>\n",
       "      <td>3</td>\n",
       "      <td>done</td>\n",
       "      <td>2019-02-19</td>\n",
       "      <td>2019-02-24 05:05:00</td>\n",
       "      <td>2019-03-08 22:00:00</td>\n",
       "      <td>6.0</td>\n",
       "    </tr>\n",
       "    <tr>\n",
       "      <th>341655</th>\n",
       "      <td>SP</td>\n",
       "      <td>2071</td>\n",
       "      <td>RJ</td>\n",
       "      <td>21310</td>\n",
       "      <td>standard</td>\n",
       "      <td>1</td>\n",
       "      <td>1</td>\n",
       "      <td>done</td>\n",
       "      <td>2019-02-22</td>\n",
       "      <td>2019-02-25 18:42:00</td>\n",
       "      <td>2019-03-27 14:52:00</td>\n",
       "      <td>19.0</td>\n",
       "    </tr>\n",
       "    <tr>\n",
       "      <th>399288</th>\n",
       "      <td>SP</td>\n",
       "      <td>6411</td>\n",
       "      <td>MG</td>\n",
       "      <td>35410</td>\n",
       "      <td>standard</td>\n",
       "      <td>1</td>\n",
       "      <td>1</td>\n",
       "      <td>done</td>\n",
       "      <td>2019-03-08</td>\n",
       "      <td>2019-03-11 16:52:00</td>\n",
       "      <td>2019-03-14 18:17:00</td>\n",
       "      <td>3.0</td>\n",
       "    </tr>\n",
       "  </tbody>\n",
       "</table>\n",
       "</div>"
      ],
      "text/plain": [
       "       sender_state  sender_zipcode  ...          date_visit  shipment_days\n",
       "261074           SP            6422  ... 2019-03-07 12:19:58            1.0\n",
       "274457           SP            6422  ... 2019-03-25 17:09:00            4.0\n",
       "360738           SP            2652  ... 2019-03-22 12:51:00            4.0\n",
       "189806           SP            9941  ... 2019-03-14 14:07:00            1.0\n",
       "295470           SP            9112  ... 2019-03-20 11:38:00            2.0\n",
       "162811           SP           19053  ... 2019-03-25 12:15:00            2.0\n",
       "333332           SP           13903  ... 2019-03-21 15:47:00           10.0\n",
       "55229            SP           14405  ... 2019-03-08 22:00:00            6.0\n",
       "341655           SP            2071  ... 2019-03-27 14:52:00           19.0\n",
       "399288           SP            6411  ... 2019-03-14 18:17:00            3.0\n",
       "\n",
       "[10 rows x 12 columns]"
      ]
     },
     "execution_count": 10,
     "metadata": {
      "tags": []
     },
     "output_type": "execute_result"
    }
   ],
   "source": [
    "dataset_clean[dataset_clean.duplicated()].sample(10)"
   ]
  },
  {
   "cell_type": "markdown",
   "metadata": {
    "colab_type": "text",
    "id": "Ok6pIX2FtK-Z"
   },
   "source": [
    "Detectamos datos duplicados, veamos ahora más específicamente."
   ]
  },
  {
   "cell_type": "code",
   "execution_count": 0,
   "metadata": {
    "colab": {
     "base_uri": "https://localhost:8080/",
     "height": 1000
    },
    "colab_type": "code",
    "id": "7yM3SImVtVlv",
    "outputId": "12a3822d-0c82-4cec-d0fb-67cf92f3368a"
   },
   "outputs": [
    {
     "data": {
      "text/html": [
       "<div>\n",
       "<style scoped>\n",
       "    .dataframe tbody tr th:only-of-type {\n",
       "        vertical-align: middle;\n",
       "    }\n",
       "\n",
       "    .dataframe tbody tr th {\n",
       "        vertical-align: top;\n",
       "    }\n",
       "\n",
       "    .dataframe thead th {\n",
       "        text-align: right;\n",
       "    }\n",
       "</style>\n",
       "<table border=\"1\" class=\"dataframe\">\n",
       "  <thead>\n",
       "    <tr style=\"text-align: right;\">\n",
       "      <th></th>\n",
       "      <th>sender_state</th>\n",
       "      <th>sender_zipcode</th>\n",
       "      <th>receiver_state</th>\n",
       "      <th>receiver_zipcode</th>\n",
       "      <th>shipment_type</th>\n",
       "      <th>quantity</th>\n",
       "      <th>service</th>\n",
       "      <th>status</th>\n",
       "      <th>date_created</th>\n",
       "      <th>date_sent</th>\n",
       "      <th>date_visit</th>\n",
       "      <th>shipment_days</th>\n",
       "    </tr>\n",
       "  </thead>\n",
       "  <tbody>\n",
       "    <tr>\n",
       "      <th>53875</th>\n",
       "      <td>SP</td>\n",
       "      <td>1001</td>\n",
       "      <td>SE</td>\n",
       "      <td>49096</td>\n",
       "      <td>standard</td>\n",
       "      <td>1</td>\n",
       "      <td>1</td>\n",
       "      <td>done</td>\n",
       "      <td>2019-02-21</td>\n",
       "      <td>2019-02-25 11:45:00</td>\n",
       "      <td>2019-03-19 11:55:00</td>\n",
       "      <td>13.0</td>\n",
       "    </tr>\n",
       "    <tr>\n",
       "      <th>358581</th>\n",
       "      <td>SP</td>\n",
       "      <td>1001</td>\n",
       "      <td>SE</td>\n",
       "      <td>49096</td>\n",
       "      <td>standard</td>\n",
       "      <td>1</td>\n",
       "      <td>1</td>\n",
       "      <td>done</td>\n",
       "      <td>2019-02-21</td>\n",
       "      <td>2019-02-25 11:45:00</td>\n",
       "      <td>2019-03-19 11:55:00</td>\n",
       "      <td>13.0</td>\n",
       "    </tr>\n",
       "    <tr>\n",
       "      <th>478674</th>\n",
       "      <td>SP</td>\n",
       "      <td>1004</td>\n",
       "      <td>PR</td>\n",
       "      <td>86805</td>\n",
       "      <td>standard</td>\n",
       "      <td>1</td>\n",
       "      <td>4</td>\n",
       "      <td>done</td>\n",
       "      <td>2019-03-15</td>\n",
       "      <td>2019-03-15 22:04:41</td>\n",
       "      <td>2019-03-28 22:56:00</td>\n",
       "      <td>9.0</td>\n",
       "    </tr>\n",
       "    <tr>\n",
       "      <th>236014</th>\n",
       "      <td>SP</td>\n",
       "      <td>1004</td>\n",
       "      <td>MG</td>\n",
       "      <td>32340</td>\n",
       "      <td>express</td>\n",
       "      <td>1</td>\n",
       "      <td>4</td>\n",
       "      <td>done</td>\n",
       "      <td>2019-03-16</td>\n",
       "      <td>2019-03-19 00:52:07</td>\n",
       "      <td>2019-03-25 19:00:00</td>\n",
       "      <td>4.0</td>\n",
       "    </tr>\n",
       "    <tr>\n",
       "      <th>416799</th>\n",
       "      <td>SP</td>\n",
       "      <td>1004</td>\n",
       "      <td>SP</td>\n",
       "      <td>18076</td>\n",
       "      <td>express</td>\n",
       "      <td>1</td>\n",
       "      <td>4</td>\n",
       "      <td>done</td>\n",
       "      <td>2019-03-19</td>\n",
       "      <td>2019-03-19 22:53:00</td>\n",
       "      <td>2019-03-22 13:52:00</td>\n",
       "      <td>3.0</td>\n",
       "    </tr>\n",
       "    <tr>\n",
       "      <th>395523</th>\n",
       "      <td>SP</td>\n",
       "      <td>1004</td>\n",
       "      <td>PR</td>\n",
       "      <td>83833</td>\n",
       "      <td>standard</td>\n",
       "      <td>1</td>\n",
       "      <td>4</td>\n",
       "      <td>done</td>\n",
       "      <td>2019-03-15</td>\n",
       "      <td>2019-03-15 22:04:51</td>\n",
       "      <td>2019-03-20 20:49:00</td>\n",
       "      <td>3.0</td>\n",
       "    </tr>\n",
       "    <tr>\n",
       "      <th>192559</th>\n",
       "      <td>SP</td>\n",
       "      <td>1004</td>\n",
       "      <td>PR</td>\n",
       "      <td>83833</td>\n",
       "      <td>standard</td>\n",
       "      <td>1</td>\n",
       "      <td>4</td>\n",
       "      <td>done</td>\n",
       "      <td>2019-03-15</td>\n",
       "      <td>2019-03-15 22:04:51</td>\n",
       "      <td>2019-03-20 20:49:00</td>\n",
       "      <td>3.0</td>\n",
       "    </tr>\n",
       "    <tr>\n",
       "      <th>66570</th>\n",
       "      <td>SP</td>\n",
       "      <td>1004</td>\n",
       "      <td>MG</td>\n",
       "      <td>32340</td>\n",
       "      <td>express</td>\n",
       "      <td>1</td>\n",
       "      <td>4</td>\n",
       "      <td>done</td>\n",
       "      <td>2019-03-16</td>\n",
       "      <td>2019-03-19 00:52:07</td>\n",
       "      <td>2019-03-25 19:00:00</td>\n",
       "      <td>4.0</td>\n",
       "    </tr>\n",
       "    <tr>\n",
       "      <th>119594</th>\n",
       "      <td>SP</td>\n",
       "      <td>1004</td>\n",
       "      <td>SP</td>\n",
       "      <td>18076</td>\n",
       "      <td>express</td>\n",
       "      <td>1</td>\n",
       "      <td>4</td>\n",
       "      <td>done</td>\n",
       "      <td>2019-03-19</td>\n",
       "      <td>2019-03-19 22:53:00</td>\n",
       "      <td>2019-03-22 13:52:00</td>\n",
       "      <td>3.0</td>\n",
       "    </tr>\n",
       "    <tr>\n",
       "      <th>273705</th>\n",
       "      <td>SP</td>\n",
       "      <td>1004</td>\n",
       "      <td>PR</td>\n",
       "      <td>86805</td>\n",
       "      <td>standard</td>\n",
       "      <td>1</td>\n",
       "      <td>4</td>\n",
       "      <td>done</td>\n",
       "      <td>2019-03-15</td>\n",
       "      <td>2019-03-15 22:04:41</td>\n",
       "      <td>2019-03-28 22:56:00</td>\n",
       "      <td>9.0</td>\n",
       "    </tr>\n",
       "    <tr>\n",
       "      <th>303122</th>\n",
       "      <td>SP</td>\n",
       "      <td>1007</td>\n",
       "      <td>PE</td>\n",
       "      <td>50761</td>\n",
       "      <td>standard</td>\n",
       "      <td>1</td>\n",
       "      <td>1</td>\n",
       "      <td>done</td>\n",
       "      <td>2019-02-25</td>\n",
       "      <td>2019-02-25 18:22:00</td>\n",
       "      <td>2019-04-01 12:09:00</td>\n",
       "      <td>22.0</td>\n",
       "    </tr>\n",
       "    <tr>\n",
       "      <th>297963</th>\n",
       "      <td>SP</td>\n",
       "      <td>1007</td>\n",
       "      <td>PE</td>\n",
       "      <td>50761</td>\n",
       "      <td>standard</td>\n",
       "      <td>1</td>\n",
       "      <td>1</td>\n",
       "      <td>done</td>\n",
       "      <td>2019-02-25</td>\n",
       "      <td>2019-02-25 18:22:00</td>\n",
       "      <td>2019-04-01 12:09:00</td>\n",
       "      <td>22.0</td>\n",
       "    </tr>\n",
       "    <tr>\n",
       "      <th>206947</th>\n",
       "      <td>SP</td>\n",
       "      <td>1007</td>\n",
       "      <td>PB</td>\n",
       "      <td>58423</td>\n",
       "      <td>standard</td>\n",
       "      <td>1</td>\n",
       "      <td>1</td>\n",
       "      <td>done</td>\n",
       "      <td>2019-02-20</td>\n",
       "      <td>2019-02-21 15:44:00</td>\n",
       "      <td>2019-03-15 15:52:00</td>\n",
       "      <td>13.0</td>\n",
       "    </tr>\n",
       "    <tr>\n",
       "      <th>465046</th>\n",
       "      <td>SP</td>\n",
       "      <td>1007</td>\n",
       "      <td>MG</td>\n",
       "      <td>38405</td>\n",
       "      <td>standard</td>\n",
       "      <td>2</td>\n",
       "      <td>1</td>\n",
       "      <td>done</td>\n",
       "      <td>2019-03-17</td>\n",
       "      <td>2019-03-18 14:05:00</td>\n",
       "      <td>2019-03-26 12:35:00</td>\n",
       "      <td>6.0</td>\n",
       "    </tr>\n",
       "    <tr>\n",
       "      <th>158066</th>\n",
       "      <td>SP</td>\n",
       "      <td>1007</td>\n",
       "      <td>PB</td>\n",
       "      <td>58423</td>\n",
       "      <td>standard</td>\n",
       "      <td>1</td>\n",
       "      <td>1</td>\n",
       "      <td>done</td>\n",
       "      <td>2019-02-20</td>\n",
       "      <td>2019-02-21 15:44:00</td>\n",
       "      <td>2019-03-15 15:52:00</td>\n",
       "      <td>13.0</td>\n",
       "    </tr>\n",
       "    <tr>\n",
       "      <th>22430</th>\n",
       "      <td>SP</td>\n",
       "      <td>1007</td>\n",
       "      <td>MG</td>\n",
       "      <td>38405</td>\n",
       "      <td>standard</td>\n",
       "      <td>2</td>\n",
       "      <td>1</td>\n",
       "      <td>done</td>\n",
       "      <td>2019-03-17</td>\n",
       "      <td>2019-03-18 14:05:00</td>\n",
       "      <td>2019-03-26 12:35:00</td>\n",
       "      <td>6.0</td>\n",
       "    </tr>\n",
       "    <tr>\n",
       "      <th>458248</th>\n",
       "      <td>SP</td>\n",
       "      <td>1015</td>\n",
       "      <td>SP</td>\n",
       "      <td>3530</td>\n",
       "      <td>super</td>\n",
       "      <td>2</td>\n",
       "      <td>5</td>\n",
       "      <td>done</td>\n",
       "      <td>2019-03-21</td>\n",
       "      <td>2019-03-22 18:20:06</td>\n",
       "      <td>2019-03-25 10:50:02</td>\n",
       "      <td>1.0</td>\n",
       "    </tr>\n",
       "    <tr>\n",
       "      <th>401254</th>\n",
       "      <td>SP</td>\n",
       "      <td>1015</td>\n",
       "      <td>SP</td>\n",
       "      <td>4455</td>\n",
       "      <td>super</td>\n",
       "      <td>1</td>\n",
       "      <td>5</td>\n",
       "      <td>done</td>\n",
       "      <td>2019-03-09</td>\n",
       "      <td>2019-03-12 16:20:52</td>\n",
       "      <td>2019-03-13 11:56:28</td>\n",
       "      <td>1.0</td>\n",
       "    </tr>\n",
       "    <tr>\n",
       "      <th>216711</th>\n",
       "      <td>SP</td>\n",
       "      <td>1015</td>\n",
       "      <td>GO</td>\n",
       "      <td>73752</td>\n",
       "      <td>standard</td>\n",
       "      <td>1</td>\n",
       "      <td>1</td>\n",
       "      <td>done</td>\n",
       "      <td>2019-02-21</td>\n",
       "      <td>2019-02-21 15:37:00</td>\n",
       "      <td>2019-03-12 13:01:00</td>\n",
       "      <td>10.0</td>\n",
       "    </tr>\n",
       "    <tr>\n",
       "      <th>398391</th>\n",
       "      <td>SP</td>\n",
       "      <td>1015</td>\n",
       "      <td>SP</td>\n",
       "      <td>14860</td>\n",
       "      <td>standard</td>\n",
       "      <td>1</td>\n",
       "      <td>1</td>\n",
       "      <td>done</td>\n",
       "      <td>2019-02-23</td>\n",
       "      <td>2019-02-25 14:32:00</td>\n",
       "      <td>2019-03-11 14:00:00</td>\n",
       "      <td>7.0</td>\n",
       "    </tr>\n",
       "    <tr>\n",
       "      <th>98259</th>\n",
       "      <td>SP</td>\n",
       "      <td>1015</td>\n",
       "      <td>SP</td>\n",
       "      <td>4455</td>\n",
       "      <td>super</td>\n",
       "      <td>1</td>\n",
       "      <td>5</td>\n",
       "      <td>done</td>\n",
       "      <td>2019-03-09</td>\n",
       "      <td>2019-03-12 16:20:52</td>\n",
       "      <td>2019-03-13 11:56:28</td>\n",
       "      <td>1.0</td>\n",
       "    </tr>\n",
       "    <tr>\n",
       "      <th>401881</th>\n",
       "      <td>SP</td>\n",
       "      <td>1015</td>\n",
       "      <td>MS</td>\n",
       "      <td>79002</td>\n",
       "      <td>standard</td>\n",
       "      <td>1</td>\n",
       "      <td>1</td>\n",
       "      <td>done</td>\n",
       "      <td>2019-02-27</td>\n",
       "      <td>2019-02-28 12:38:00</td>\n",
       "      <td>2019-03-18 17:49:00</td>\n",
       "      <td>9.0</td>\n",
       "    </tr>\n",
       "    <tr>\n",
       "      <th>411877</th>\n",
       "      <td>SP</td>\n",
       "      <td>1015</td>\n",
       "      <td>SP</td>\n",
       "      <td>1258</td>\n",
       "      <td>super</td>\n",
       "      <td>1</td>\n",
       "      <td>5</td>\n",
       "      <td>done</td>\n",
       "      <td>2019-03-17</td>\n",
       "      <td>2019-03-18 17:08:34</td>\n",
       "      <td>2019-03-19 08:48:38</td>\n",
       "      <td>1.0</td>\n",
       "    </tr>\n",
       "    <tr>\n",
       "      <th>210193</th>\n",
       "      <td>SP</td>\n",
       "      <td>1015</td>\n",
       "      <td>SP</td>\n",
       "      <td>2934</td>\n",
       "      <td>super</td>\n",
       "      <td>1</td>\n",
       "      <td>5</td>\n",
       "      <td>done</td>\n",
       "      <td>2019-03-25</td>\n",
       "      <td>2019-03-27 16:45:45</td>\n",
       "      <td>2019-03-28 09:39:08</td>\n",
       "      <td>1.0</td>\n",
       "    </tr>\n",
       "    <tr>\n",
       "      <th>73889</th>\n",
       "      <td>SP</td>\n",
       "      <td>1015</td>\n",
       "      <td>SP</td>\n",
       "      <td>3636</td>\n",
       "      <td>super</td>\n",
       "      <td>1</td>\n",
       "      <td>5</td>\n",
       "      <td>done</td>\n",
       "      <td>2019-03-16</td>\n",
       "      <td>2019-03-25 19:18:06</td>\n",
       "      <td>2019-03-26 08:17:00</td>\n",
       "      <td>1.0</td>\n",
       "    </tr>\n",
       "    <tr>\n",
       "      <th>265364</th>\n",
       "      <td>SP</td>\n",
       "      <td>1015</td>\n",
       "      <td>SP</td>\n",
       "      <td>4127</td>\n",
       "      <td>super</td>\n",
       "      <td>1</td>\n",
       "      <td>5</td>\n",
       "      <td>done</td>\n",
       "      <td>2019-03-19</td>\n",
       "      <td>2019-03-19 17:36:30</td>\n",
       "      <td>2019-03-20 08:37:32</td>\n",
       "      <td>1.0</td>\n",
       "    </tr>\n",
       "    <tr>\n",
       "      <th>455108</th>\n",
       "      <td>SP</td>\n",
       "      <td>1015</td>\n",
       "      <td>SP</td>\n",
       "      <td>3636</td>\n",
       "      <td>super</td>\n",
       "      <td>1</td>\n",
       "      <td>5</td>\n",
       "      <td>done</td>\n",
       "      <td>2019-03-16</td>\n",
       "      <td>2019-03-25 19:18:06</td>\n",
       "      <td>2019-03-26 08:17:00</td>\n",
       "      <td>1.0</td>\n",
       "    </tr>\n",
       "    <tr>\n",
       "      <th>412426</th>\n",
       "      <td>SP</td>\n",
       "      <td>1015</td>\n",
       "      <td>SP</td>\n",
       "      <td>1431</td>\n",
       "      <td>super</td>\n",
       "      <td>2</td>\n",
       "      <td>5</td>\n",
       "      <td>done</td>\n",
       "      <td>2019-03-21</td>\n",
       "      <td>2019-03-22 18:20:07</td>\n",
       "      <td>2019-03-25 07:34:17</td>\n",
       "      <td>1.0</td>\n",
       "    </tr>\n",
       "    <tr>\n",
       "      <th>157907</th>\n",
       "      <td>SP</td>\n",
       "      <td>1015</td>\n",
       "      <td>SP</td>\n",
       "      <td>2082</td>\n",
       "      <td>super</td>\n",
       "      <td>1</td>\n",
       "      <td>5</td>\n",
       "      <td>done</td>\n",
       "      <td>2019-03-12</td>\n",
       "      <td>2019-03-13 16:04:39</td>\n",
       "      <td>2019-03-14 07:26:56</td>\n",
       "      <td>1.0</td>\n",
       "    </tr>\n",
       "    <tr>\n",
       "      <th>241658</th>\n",
       "      <td>SP</td>\n",
       "      <td>1015</td>\n",
       "      <td>SP</td>\n",
       "      <td>4551</td>\n",
       "      <td>super</td>\n",
       "      <td>1</td>\n",
       "      <td>5</td>\n",
       "      <td>done</td>\n",
       "      <td>2019-03-12</td>\n",
       "      <td>2019-03-13 16:04:39</td>\n",
       "      <td>2019-03-14 09:51:00</td>\n",
       "      <td>1.0</td>\n",
       "    </tr>\n",
       "    <tr>\n",
       "      <th>...</th>\n",
       "      <td>...</td>\n",
       "      <td>...</td>\n",
       "      <td>...</td>\n",
       "      <td>...</td>\n",
       "      <td>...</td>\n",
       "      <td>...</td>\n",
       "      <td>...</td>\n",
       "      <td>...</td>\n",
       "      <td>...</td>\n",
       "      <td>...</td>\n",
       "      <td>...</td>\n",
       "      <td>...</td>\n",
       "    </tr>\n",
       "    <tr>\n",
       "      <th>448691</th>\n",
       "      <td>SP</td>\n",
       "      <td>19807</td>\n",
       "      <td>SP</td>\n",
       "      <td>19230</td>\n",
       "      <td>express</td>\n",
       "      <td>1</td>\n",
       "      <td>0</td>\n",
       "      <td>done</td>\n",
       "      <td>2019-03-01</td>\n",
       "      <td>2019-03-01 17:56:00</td>\n",
       "      <td>2019-03-12 14:26:00</td>\n",
       "      <td>4.0</td>\n",
       "    </tr>\n",
       "    <tr>\n",
       "      <th>343512</th>\n",
       "      <td>SP</td>\n",
       "      <td>19807</td>\n",
       "      <td>SC</td>\n",
       "      <td>89252</td>\n",
       "      <td>standard</td>\n",
       "      <td>1</td>\n",
       "      <td>1</td>\n",
       "      <td>done</td>\n",
       "      <td>2019-03-03</td>\n",
       "      <td>2019-03-04 18:47:00</td>\n",
       "      <td>2019-03-26 13:36:00</td>\n",
       "      <td>13.0</td>\n",
       "    </tr>\n",
       "    <tr>\n",
       "      <th>192143</th>\n",
       "      <td>SP</td>\n",
       "      <td>19807</td>\n",
       "      <td>RN</td>\n",
       "      <td>59635</td>\n",
       "      <td>standard</td>\n",
       "      <td>1</td>\n",
       "      <td>1</td>\n",
       "      <td>done</td>\n",
       "      <td>2019-02-13</td>\n",
       "      <td>2019-02-15 12:17:00</td>\n",
       "      <td>2019-03-08 14:07:00</td>\n",
       "      <td>12.0</td>\n",
       "    </tr>\n",
       "    <tr>\n",
       "      <th>489547</th>\n",
       "      <td>SP</td>\n",
       "      <td>19807</td>\n",
       "      <td>RN</td>\n",
       "      <td>59635</td>\n",
       "      <td>standard</td>\n",
       "      <td>1</td>\n",
       "      <td>1</td>\n",
       "      <td>done</td>\n",
       "      <td>2019-02-13</td>\n",
       "      <td>2019-02-15 12:17:00</td>\n",
       "      <td>2019-03-08 14:07:00</td>\n",
       "      <td>12.0</td>\n",
       "    </tr>\n",
       "    <tr>\n",
       "      <th>86008</th>\n",
       "      <td>SP</td>\n",
       "      <td>19807</td>\n",
       "      <td>MG</td>\n",
       "      <td>38610</td>\n",
       "      <td>standard</td>\n",
       "      <td>1</td>\n",
       "      <td>1</td>\n",
       "      <td>done</td>\n",
       "      <td>2019-03-21</td>\n",
       "      <td>2019-03-21 16:44:00</td>\n",
       "      <td>2019-03-28 08:25:00</td>\n",
       "      <td>5.0</td>\n",
       "    </tr>\n",
       "    <tr>\n",
       "      <th>313142</th>\n",
       "      <td>SP</td>\n",
       "      <td>19807</td>\n",
       "      <td>MG</td>\n",
       "      <td>39790</td>\n",
       "      <td>standard</td>\n",
       "      <td>1</td>\n",
       "      <td>1</td>\n",
       "      <td>done</td>\n",
       "      <td>2019-03-02</td>\n",
       "      <td>2019-03-05 09:36:00</td>\n",
       "      <td>2019-03-27 15:54:00</td>\n",
       "      <td>14.0</td>\n",
       "    </tr>\n",
       "    <tr>\n",
       "      <th>278913</th>\n",
       "      <td>SP</td>\n",
       "      <td>19807</td>\n",
       "      <td>RJ</td>\n",
       "      <td>22021</td>\n",
       "      <td>express</td>\n",
       "      <td>1</td>\n",
       "      <td>0</td>\n",
       "      <td>done</td>\n",
       "      <td>2019-03-06</td>\n",
       "      <td>2019-03-08 11:25:00</td>\n",
       "      <td>2019-03-18 16:27:00</td>\n",
       "      <td>6.0</td>\n",
       "    </tr>\n",
       "    <tr>\n",
       "      <th>266063</th>\n",
       "      <td>SP</td>\n",
       "      <td>19807</td>\n",
       "      <td>RJ</td>\n",
       "      <td>22021</td>\n",
       "      <td>express</td>\n",
       "      <td>1</td>\n",
       "      <td>0</td>\n",
       "      <td>done</td>\n",
       "      <td>2019-03-06</td>\n",
       "      <td>2019-03-08 11:25:00</td>\n",
       "      <td>2019-03-18 16:27:00</td>\n",
       "      <td>6.0</td>\n",
       "    </tr>\n",
       "    <tr>\n",
       "      <th>40055</th>\n",
       "      <td>SP</td>\n",
       "      <td>19807</td>\n",
       "      <td>MG</td>\n",
       "      <td>32415</td>\n",
       "      <td>standard</td>\n",
       "      <td>1</td>\n",
       "      <td>1</td>\n",
       "      <td>done</td>\n",
       "      <td>2019-03-01</td>\n",
       "      <td>2019-03-05 08:24:00</td>\n",
       "      <td>2019-03-12 11:27:00</td>\n",
       "      <td>3.0</td>\n",
       "    </tr>\n",
       "    <tr>\n",
       "      <th>77704</th>\n",
       "      <td>SP</td>\n",
       "      <td>19807</td>\n",
       "      <td>SC</td>\n",
       "      <td>89252</td>\n",
       "      <td>standard</td>\n",
       "      <td>1</td>\n",
       "      <td>1</td>\n",
       "      <td>done</td>\n",
       "      <td>2019-03-03</td>\n",
       "      <td>2019-03-04 18:47:00</td>\n",
       "      <td>2019-03-26 13:36:00</td>\n",
       "      <td>13.0</td>\n",
       "    </tr>\n",
       "    <tr>\n",
       "      <th>231013</th>\n",
       "      <td>SP</td>\n",
       "      <td>19807</td>\n",
       "      <td>RS</td>\n",
       "      <td>91420</td>\n",
       "      <td>standard</td>\n",
       "      <td>1</td>\n",
       "      <td>1</td>\n",
       "      <td>done</td>\n",
       "      <td>2019-02-28</td>\n",
       "      <td>2019-02-28 16:51:00</td>\n",
       "      <td>2019-04-01 11:19:00</td>\n",
       "      <td>19.0</td>\n",
       "    </tr>\n",
       "    <tr>\n",
       "      <th>319980</th>\n",
       "      <td>SP</td>\n",
       "      <td>19807</td>\n",
       "      <td>CE</td>\n",
       "      <td>62200</td>\n",
       "      <td>standard</td>\n",
       "      <td>5</td>\n",
       "      <td>1</td>\n",
       "      <td>done</td>\n",
       "      <td>2019-02-09</td>\n",
       "      <td>2019-02-13 16:45:00</td>\n",
       "      <td>2019-03-25 14:56:00</td>\n",
       "      <td>25.0</td>\n",
       "    </tr>\n",
       "    <tr>\n",
       "      <th>36810</th>\n",
       "      <td>SP</td>\n",
       "      <td>19807</td>\n",
       "      <td>RJ</td>\n",
       "      <td>22793</td>\n",
       "      <td>standard</td>\n",
       "      <td>1</td>\n",
       "      <td>1</td>\n",
       "      <td>done</td>\n",
       "      <td>2019-02-21</td>\n",
       "      <td>2019-02-22 17:52:00</td>\n",
       "      <td>2019-03-12 15:58:00</td>\n",
       "      <td>9.0</td>\n",
       "    </tr>\n",
       "    <tr>\n",
       "      <th>71884</th>\n",
       "      <td>SP</td>\n",
       "      <td>19807</td>\n",
       "      <td>SC</td>\n",
       "      <td>88880</td>\n",
       "      <td>standard</td>\n",
       "      <td>1</td>\n",
       "      <td>1</td>\n",
       "      <td>done</td>\n",
       "      <td>2019-02-14</td>\n",
       "      <td>2019-02-15 12:29:00</td>\n",
       "      <td>2019-03-12 16:14:00</td>\n",
       "      <td>14.0</td>\n",
       "    </tr>\n",
       "    <tr>\n",
       "      <th>461519</th>\n",
       "      <td>SP</td>\n",
       "      <td>19807</td>\n",
       "      <td>BA</td>\n",
       "      <td>44830</td>\n",
       "      <td>standard</td>\n",
       "      <td>3</td>\n",
       "      <td>1</td>\n",
       "      <td>done</td>\n",
       "      <td>2019-03-03</td>\n",
       "      <td>2019-03-04 18:40:00</td>\n",
       "      <td>2019-03-15 13:52:00</td>\n",
       "      <td>6.0</td>\n",
       "    </tr>\n",
       "    <tr>\n",
       "      <th>480455</th>\n",
       "      <td>SP</td>\n",
       "      <td>19807</td>\n",
       "      <td>RJ</td>\n",
       "      <td>22793</td>\n",
       "      <td>standard</td>\n",
       "      <td>1</td>\n",
       "      <td>1</td>\n",
       "      <td>done</td>\n",
       "      <td>2019-02-21</td>\n",
       "      <td>2019-02-22 17:52:00</td>\n",
       "      <td>2019-03-12 15:58:00</td>\n",
       "      <td>9.0</td>\n",
       "    </tr>\n",
       "    <tr>\n",
       "      <th>260038</th>\n",
       "      <td>SP</td>\n",
       "      <td>19807</td>\n",
       "      <td>CE</td>\n",
       "      <td>62200</td>\n",
       "      <td>standard</td>\n",
       "      <td>5</td>\n",
       "      <td>1</td>\n",
       "      <td>done</td>\n",
       "      <td>2019-02-09</td>\n",
       "      <td>2019-02-13 16:45:00</td>\n",
       "      <td>2019-03-25 14:56:00</td>\n",
       "      <td>25.0</td>\n",
       "    </tr>\n",
       "    <tr>\n",
       "      <th>81569</th>\n",
       "      <td>SP</td>\n",
       "      <td>19807</td>\n",
       "      <td>MG</td>\n",
       "      <td>38610</td>\n",
       "      <td>standard</td>\n",
       "      <td>1</td>\n",
       "      <td>1</td>\n",
       "      <td>done</td>\n",
       "      <td>2019-03-21</td>\n",
       "      <td>2019-03-21 16:44:00</td>\n",
       "      <td>2019-03-28 08:25:00</td>\n",
       "      <td>5.0</td>\n",
       "    </tr>\n",
       "    <tr>\n",
       "      <th>450093</th>\n",
       "      <td>SP</td>\n",
       "      <td>19807</td>\n",
       "      <td>BA</td>\n",
       "      <td>44830</td>\n",
       "      <td>standard</td>\n",
       "      <td>3</td>\n",
       "      <td>1</td>\n",
       "      <td>done</td>\n",
       "      <td>2019-03-03</td>\n",
       "      <td>2019-03-04 18:40:00</td>\n",
       "      <td>2019-03-15 13:52:00</td>\n",
       "      <td>6.0</td>\n",
       "    </tr>\n",
       "    <tr>\n",
       "      <th>449787</th>\n",
       "      <td>SP</td>\n",
       "      <td>19807</td>\n",
       "      <td>MG</td>\n",
       "      <td>32415</td>\n",
       "      <td>standard</td>\n",
       "      <td>1</td>\n",
       "      <td>1</td>\n",
       "      <td>done</td>\n",
       "      <td>2019-03-01</td>\n",
       "      <td>2019-03-05 08:24:00</td>\n",
       "      <td>2019-03-12 11:27:00</td>\n",
       "      <td>3.0</td>\n",
       "    </tr>\n",
       "    <tr>\n",
       "      <th>177001</th>\n",
       "      <td>SP</td>\n",
       "      <td>19807</td>\n",
       "      <td>SP</td>\n",
       "      <td>19230</td>\n",
       "      <td>express</td>\n",
       "      <td>1</td>\n",
       "      <td>0</td>\n",
       "      <td>done</td>\n",
       "      <td>2019-03-01</td>\n",
       "      <td>2019-03-01 17:56:00</td>\n",
       "      <td>2019-03-12 14:26:00</td>\n",
       "      <td>4.0</td>\n",
       "    </tr>\n",
       "    <tr>\n",
       "      <th>38923</th>\n",
       "      <td>SP</td>\n",
       "      <td>19807</td>\n",
       "      <td>MG</td>\n",
       "      <td>39790</td>\n",
       "      <td>standard</td>\n",
       "      <td>1</td>\n",
       "      <td>1</td>\n",
       "      <td>done</td>\n",
       "      <td>2019-03-02</td>\n",
       "      <td>2019-03-05 09:36:00</td>\n",
       "      <td>2019-03-27 15:54:00</td>\n",
       "      <td>14.0</td>\n",
       "    </tr>\n",
       "    <tr>\n",
       "      <th>333521</th>\n",
       "      <td>SP</td>\n",
       "      <td>19807</td>\n",
       "      <td>SC</td>\n",
       "      <td>88880</td>\n",
       "      <td>standard</td>\n",
       "      <td>1</td>\n",
       "      <td>1</td>\n",
       "      <td>done</td>\n",
       "      <td>2019-02-14</td>\n",
       "      <td>2019-02-15 12:29:00</td>\n",
       "      <td>2019-03-12 16:14:00</td>\n",
       "      <td>14.0</td>\n",
       "    </tr>\n",
       "    <tr>\n",
       "      <th>182200</th>\n",
       "      <td>SP</td>\n",
       "      <td>19807</td>\n",
       "      <td>PR</td>\n",
       "      <td>83203</td>\n",
       "      <td>standard</td>\n",
       "      <td>1</td>\n",
       "      <td>1</td>\n",
       "      <td>done</td>\n",
       "      <td>2019-03-14</td>\n",
       "      <td>2019-03-14 13:35:00</td>\n",
       "      <td>2019-03-21 13:53:00</td>\n",
       "      <td>5.0</td>\n",
       "    </tr>\n",
       "    <tr>\n",
       "      <th>812</th>\n",
       "      <td>SP</td>\n",
       "      <td>19807</td>\n",
       "      <td>SP</td>\n",
       "      <td>12070</td>\n",
       "      <td>standard</td>\n",
       "      <td>1</td>\n",
       "      <td>1</td>\n",
       "      <td>done</td>\n",
       "      <td>2019-03-22</td>\n",
       "      <td>2019-03-22 14:15:00</td>\n",
       "      <td>2019-03-28 08:30:00</td>\n",
       "      <td>4.0</td>\n",
       "    </tr>\n",
       "    <tr>\n",
       "      <th>253280</th>\n",
       "      <td>SP</td>\n",
       "      <td>19807</td>\n",
       "      <td>SP</td>\n",
       "      <td>12070</td>\n",
       "      <td>standard</td>\n",
       "      <td>1</td>\n",
       "      <td>1</td>\n",
       "      <td>done</td>\n",
       "      <td>2019-03-22</td>\n",
       "      <td>2019-03-22 14:15:00</td>\n",
       "      <td>2019-03-28 08:30:00</td>\n",
       "      <td>4.0</td>\n",
       "    </tr>\n",
       "    <tr>\n",
       "      <th>195568</th>\n",
       "      <td>SP</td>\n",
       "      <td>19900</td>\n",
       "      <td>PR</td>\n",
       "      <td>85807</td>\n",
       "      <td>standard</td>\n",
       "      <td>1</td>\n",
       "      <td>1</td>\n",
       "      <td>done</td>\n",
       "      <td>2019-03-17</td>\n",
       "      <td>2019-03-18 15:06:00</td>\n",
       "      <td>2019-03-25 15:21:00</td>\n",
       "      <td>5.0</td>\n",
       "    </tr>\n",
       "    <tr>\n",
       "      <th>400349</th>\n",
       "      <td>SP</td>\n",
       "      <td>19900</td>\n",
       "      <td>PR</td>\n",
       "      <td>85807</td>\n",
       "      <td>standard</td>\n",
       "      <td>1</td>\n",
       "      <td>1</td>\n",
       "      <td>done</td>\n",
       "      <td>2019-03-17</td>\n",
       "      <td>2019-03-18 15:06:00</td>\n",
       "      <td>2019-03-25 15:21:00</td>\n",
       "      <td>5.0</td>\n",
       "    </tr>\n",
       "    <tr>\n",
       "      <th>49138</th>\n",
       "      <td>SP</td>\n",
       "      <td>19911</td>\n",
       "      <td>MG</td>\n",
       "      <td>32900</td>\n",
       "      <td>standard</td>\n",
       "      <td>1</td>\n",
       "      <td>1</td>\n",
       "      <td>done</td>\n",
       "      <td>2019-03-04</td>\n",
       "      <td>2019-03-04 14:08:00</td>\n",
       "      <td>2019-03-20 09:29:00</td>\n",
       "      <td>9.0</td>\n",
       "    </tr>\n",
       "    <tr>\n",
       "      <th>134030</th>\n",
       "      <td>SP</td>\n",
       "      <td>19911</td>\n",
       "      <td>MG</td>\n",
       "      <td>32900</td>\n",
       "      <td>standard</td>\n",
       "      <td>1</td>\n",
       "      <td>1</td>\n",
       "      <td>done</td>\n",
       "      <td>2019-03-04</td>\n",
       "      <td>2019-03-04 14:08:00</td>\n",
       "      <td>2019-03-20 09:29:00</td>\n",
       "      <td>9.0</td>\n",
       "    </tr>\n",
       "  </tbody>\n",
       "</table>\n",
       "<p>11839 rows × 12 columns</p>\n",
       "</div>"
      ],
      "text/plain": [
       "       sender_state  sender_zipcode  ...          date_visit  shipment_days\n",
       "53875            SP            1001  ... 2019-03-19 11:55:00           13.0\n",
       "358581           SP            1001  ... 2019-03-19 11:55:00           13.0\n",
       "478674           SP            1004  ... 2019-03-28 22:56:00            9.0\n",
       "236014           SP            1004  ... 2019-03-25 19:00:00            4.0\n",
       "416799           SP            1004  ... 2019-03-22 13:52:00            3.0\n",
       "395523           SP            1004  ... 2019-03-20 20:49:00            3.0\n",
       "192559           SP            1004  ... 2019-03-20 20:49:00            3.0\n",
       "66570            SP            1004  ... 2019-03-25 19:00:00            4.0\n",
       "119594           SP            1004  ... 2019-03-22 13:52:00            3.0\n",
       "273705           SP            1004  ... 2019-03-28 22:56:00            9.0\n",
       "303122           SP            1007  ... 2019-04-01 12:09:00           22.0\n",
       "297963           SP            1007  ... 2019-04-01 12:09:00           22.0\n",
       "206947           SP            1007  ... 2019-03-15 15:52:00           13.0\n",
       "465046           SP            1007  ... 2019-03-26 12:35:00            6.0\n",
       "158066           SP            1007  ... 2019-03-15 15:52:00           13.0\n",
       "22430            SP            1007  ... 2019-03-26 12:35:00            6.0\n",
       "458248           SP            1015  ... 2019-03-25 10:50:02            1.0\n",
       "401254           SP            1015  ... 2019-03-13 11:56:28            1.0\n",
       "216711           SP            1015  ... 2019-03-12 13:01:00           10.0\n",
       "398391           SP            1015  ... 2019-03-11 14:00:00            7.0\n",
       "98259            SP            1015  ... 2019-03-13 11:56:28            1.0\n",
       "401881           SP            1015  ... 2019-03-18 17:49:00            9.0\n",
       "411877           SP            1015  ... 2019-03-19 08:48:38            1.0\n",
       "210193           SP            1015  ... 2019-03-28 09:39:08            1.0\n",
       "73889            SP            1015  ... 2019-03-26 08:17:00            1.0\n",
       "265364           SP            1015  ... 2019-03-20 08:37:32            1.0\n",
       "455108           SP            1015  ... 2019-03-26 08:17:00            1.0\n",
       "412426           SP            1015  ... 2019-03-25 07:34:17            1.0\n",
       "157907           SP            1015  ... 2019-03-14 07:26:56            1.0\n",
       "241658           SP            1015  ... 2019-03-14 09:51:00            1.0\n",
       "...             ...             ...  ...                 ...            ...\n",
       "448691           SP           19807  ... 2019-03-12 14:26:00            4.0\n",
       "343512           SP           19807  ... 2019-03-26 13:36:00           13.0\n",
       "192143           SP           19807  ... 2019-03-08 14:07:00           12.0\n",
       "489547           SP           19807  ... 2019-03-08 14:07:00           12.0\n",
       "86008            SP           19807  ... 2019-03-28 08:25:00            5.0\n",
       "313142           SP           19807  ... 2019-03-27 15:54:00           14.0\n",
       "278913           SP           19807  ... 2019-03-18 16:27:00            6.0\n",
       "266063           SP           19807  ... 2019-03-18 16:27:00            6.0\n",
       "40055            SP           19807  ... 2019-03-12 11:27:00            3.0\n",
       "77704            SP           19807  ... 2019-03-26 13:36:00           13.0\n",
       "231013           SP           19807  ... 2019-04-01 11:19:00           19.0\n",
       "319980           SP           19807  ... 2019-03-25 14:56:00           25.0\n",
       "36810            SP           19807  ... 2019-03-12 15:58:00            9.0\n",
       "71884            SP           19807  ... 2019-03-12 16:14:00           14.0\n",
       "461519           SP           19807  ... 2019-03-15 13:52:00            6.0\n",
       "480455           SP           19807  ... 2019-03-12 15:58:00            9.0\n",
       "260038           SP           19807  ... 2019-03-25 14:56:00           25.0\n",
       "81569            SP           19807  ... 2019-03-28 08:25:00            5.0\n",
       "450093           SP           19807  ... 2019-03-15 13:52:00            6.0\n",
       "449787           SP           19807  ... 2019-03-12 11:27:00            3.0\n",
       "177001           SP           19807  ... 2019-03-12 14:26:00            4.0\n",
       "38923            SP           19807  ... 2019-03-27 15:54:00           14.0\n",
       "333521           SP           19807  ... 2019-03-12 16:14:00           14.0\n",
       "182200           SP           19807  ... 2019-03-21 13:53:00            5.0\n",
       "812              SP           19807  ... 2019-03-28 08:30:00            4.0\n",
       "253280           SP           19807  ... 2019-03-28 08:30:00            4.0\n",
       "195568           SP           19900  ... 2019-03-25 15:21:00            5.0\n",
       "400349           SP           19900  ... 2019-03-25 15:21:00            5.0\n",
       "49138            SP           19911  ... 2019-03-20 09:29:00            9.0\n",
       "134030           SP           19911  ... 2019-03-20 09:29:00            9.0\n",
       "\n",
       "[11839 rows x 12 columns]"
      ]
     },
     "execution_count": 11,
     "metadata": {
      "tags": []
     },
     "output_type": "execute_result"
    }
   ],
   "source": [
    "dd=dataset_clean[dataset_clean.duplicated(keep=False)]\n",
    "dd.sort_values(\"sender_zipcode\")"
   ]
  },
  {
   "cell_type": "markdown",
   "metadata": {
    "colab_type": "text",
    "id": "yJOJ6ksvzUSb"
   },
   "source": [
    "Podemos ver, que si los ordenamos por zipcode, tenemos datos duplicados en todas las columnas."
   ]
  },
  {
   "cell_type": "markdown",
   "metadata": {
    "colab_type": "text",
    "id": "8DwYOj0KJGEb"
   },
   "source": [
    "Tenemos 6469 filas duplicadas, podemos chequear esta cantidad con el siguiente comando:"
   ]
  },
  {
   "cell_type": "code",
   "execution_count": 0,
   "metadata": {
    "colab": {
     "base_uri": "https://localhost:8080/",
     "height": 34
    },
    "colab_type": "code",
    "id": "5jqBmxWFJWbs",
    "outputId": "6a58560e-c767-4c76-ba89-6813817f6009"
   },
   "outputs": [
    {
     "data": {
      "text/plain": [
       "6469"
      ]
     },
     "execution_count": 12,
     "metadata": {
      "tags": []
     },
     "output_type": "execute_result"
    }
   ],
   "source": [
    "dataset_clean.duplicated().sum()"
   ]
  },
  {
   "cell_type": "markdown",
   "metadata": {
    "colab_type": "text",
    "id": "inYh47MkHZ_k"
   },
   "source": [
    "Eliminamos los duplicados:"
   ]
  },
  {
   "cell_type": "code",
   "execution_count": 0,
   "metadata": {
    "colab": {},
    "colab_type": "code",
    "id": "6OXxOj1kHY9t"
   },
   "outputs": [],
   "source": [
    "dataset_clean = dataset_clean.drop_duplicates()"
   ]
  },
  {
   "cell_type": "markdown",
   "metadata": {
    "colab_type": "text",
    "id": "lUD6x7OkIwyq"
   },
   "source": [
    "Chequeemos si quedaron duplicados:"
   ]
  },
  {
   "cell_type": "code",
   "execution_count": 0,
   "metadata": {
    "colab": {
     "base_uri": "https://localhost:8080/",
     "height": 34
    },
    "colab_type": "code",
    "id": "GoT6yOEOI1Vd",
    "outputId": "abc147fd-7eca-4f4a-f266-08bb72cc2af4"
   },
   "outputs": [
    {
     "data": {
      "text/plain": [
       "0"
      ]
     },
     "execution_count": 14,
     "metadata": {
      "tags": []
     },
     "output_type": "execute_result"
    }
   ],
   "source": [
    "dataset_clean.duplicated().sum()"
   ]
  },
  {
   "cell_type": "markdown",
   "metadata": {
    "colab_type": "text",
    "id": "BDjsbUydJnsc"
   },
   "source": [
    "### Análisis de fechas anómalas"
   ]
  },
  {
   "cell_type": "code",
   "execution_count": 0,
   "metadata": {
    "colab": {
     "base_uri": "https://localhost:8080/",
     "height": 235
    },
    "colab_type": "code",
    "id": "XNrII0dgKUnz",
    "outputId": "12f7b434-1403-452d-85c0-0aa873ff8524"
   },
   "outputs": [
    {
     "data": {
      "text/html": [
       "<div>\n",
       "<style scoped>\n",
       "    .dataframe tbody tr th:only-of-type {\n",
       "        vertical-align: middle;\n",
       "    }\n",
       "\n",
       "    .dataframe tbody tr th {\n",
       "        vertical-align: top;\n",
       "    }\n",
       "\n",
       "    .dataframe thead th {\n",
       "        text-align: right;\n",
       "    }\n",
       "</style>\n",
       "<table border=\"1\" class=\"dataframe\">\n",
       "  <thead>\n",
       "    <tr style=\"text-align: right;\">\n",
       "      <th></th>\n",
       "      <th>date_created</th>\n",
       "      <th>date_sent</th>\n",
       "      <th>date_visit</th>\n",
       "    </tr>\n",
       "  </thead>\n",
       "  <tbody>\n",
       "    <tr>\n",
       "      <th>count</th>\n",
       "      <td>492881</td>\n",
       "      <td>492881</td>\n",
       "      <td>492881</td>\n",
       "    </tr>\n",
       "    <tr>\n",
       "      <th>unique</th>\n",
       "      <td>142</td>\n",
       "      <td>81276</td>\n",
       "      <td>55668</td>\n",
       "    </tr>\n",
       "    <tr>\n",
       "      <th>top</th>\n",
       "      <td>2019-03-05 00:00:00</td>\n",
       "      <td>2019-03-11 15:53:00</td>\n",
       "      <td>2019-03-11 22:00:00</td>\n",
       "    </tr>\n",
       "    <tr>\n",
       "      <th>freq</th>\n",
       "      <td>20169</td>\n",
       "      <td>112</td>\n",
       "      <td>607</td>\n",
       "    </tr>\n",
       "    <tr>\n",
       "      <th>first</th>\n",
       "      <td>2018-10-21 00:00:00</td>\n",
       "      <td>2018-10-23 13:57:00</td>\n",
       "      <td>2019-02-25 05:36:00</td>\n",
       "    </tr>\n",
       "    <tr>\n",
       "      <th>last</th>\n",
       "      <td>2019-06-28 00:00:00</td>\n",
       "      <td>2019-03-29 01:46:20</td>\n",
       "      <td>2019-04-02 15:35:00</td>\n",
       "    </tr>\n",
       "  </tbody>\n",
       "</table>\n",
       "</div>"
      ],
      "text/plain": [
       "               date_created            date_sent           date_visit\n",
       "count                492881               492881               492881\n",
       "unique                  142                81276                55668\n",
       "top     2019-03-05 00:00:00  2019-03-11 15:53:00  2019-03-11 22:00:00\n",
       "freq                  20169                  112                  607\n",
       "first   2018-10-21 00:00:00  2018-10-23 13:57:00  2019-02-25 05:36:00\n",
       "last    2019-06-28 00:00:00  2019-03-29 01:46:20  2019-04-02 15:35:00"
      ]
     },
     "execution_count": 15,
     "metadata": {
      "tags": []
     },
     "output_type": "execute_result"
    }
   ],
   "source": [
    "dataset_clean.describe(include='datetime64')"
   ]
  },
  {
   "cell_type": "markdown",
   "metadata": {
    "colab_type": "text",
    "id": "7YAwOmcKKfcl"
   },
   "source": [
    "Observamos lo siguiente:\n",
    "\n",
    "* La variables **date_created** solo tiene 142 valores distintos y no considera horas (todas están seteadas a las 00:00 hs) esto implica que estamos considerando un total de 142 días distintos.\n",
    "* La variable **date_created**  contienen fechas que caen fuera del intervalo temporal considerado (Junio de 2019).\n",
    "* Hay una cierta variabilidad entre los mínimos de las 3 fechas, podría servir analizar los estados de las fechas fuera del periodo de **date_visit** para ver si no son anómalos.\n",
    "* En la variable **date_visit** el dato más frecuente se da a las 22.00 hs, posiblemente fuera del horario de atención de los correos, con lo cual este dato es bastante extraño en un principio. Lo mismo sucede con el horario 05:36.\n",
    "\n",
    "Teniendo en cuenta la problemática que queremos resolver, la primera observación cobra cierto sentido pues el día de creación del envío resulta mucho más importante que la hora en si misma. Además, considerando que la respuesta del problema en un principio debe consistir en dar un intervalo de días, las franjas horarias podrían no ser tenidas en cuenta a priori.\n",
    "\n",
    "Con respecto a la segunda observación podríamos intentar determinar la cantidad de fechas que caen fuera del intervalo Octubre de 2018-Abril de 2019 y al mismo tiempo observar la tendencia a medida que pasan los meses de las variables **date_created**, **date_sent** y **date_visited**."
   ]
  },
  {
   "cell_type": "markdown",
   "metadata": {
    "colab_type": "text",
    "id": "f4PFkwCxvo3T"
   },
   "source": [
    "**Variable date_created**"
   ]
  },
  {
   "cell_type": "code",
   "execution_count": 0,
   "metadata": {
    "colab": {
     "base_uri": "https://localhost:8080/",
     "height": 328
    },
    "colab_type": "code",
    "id": "JH6u6_S3Lg-u",
    "outputId": "c0654808-940c-4591-c070-2e77335a9fce"
   },
   "outputs": [
    {
     "data": {
      "text/html": [
       "<div>\n",
       "<style scoped>\n",
       "    .dataframe tbody tr th:only-of-type {\n",
       "        vertical-align: middle;\n",
       "    }\n",
       "\n",
       "    .dataframe tbody tr th {\n",
       "        vertical-align: top;\n",
       "    }\n",
       "\n",
       "    .dataframe thead th {\n",
       "        text-align: right;\n",
       "    }\n",
       "</style>\n",
       "<table border=\"1\" class=\"dataframe\">\n",
       "  <thead>\n",
       "    <tr style=\"text-align: right;\">\n",
       "      <th></th>\n",
       "      <th></th>\n",
       "      <th>count</th>\n",
       "    </tr>\n",
       "    <tr>\n",
       "      <th>year</th>\n",
       "      <th>month</th>\n",
       "      <th></th>\n",
       "    </tr>\n",
       "  </thead>\n",
       "  <tbody>\n",
       "    <tr>\n",
       "      <th rowspan=\"3\" valign=\"top\">2018</th>\n",
       "      <th>10</th>\n",
       "      <td>1</td>\n",
       "    </tr>\n",
       "    <tr>\n",
       "      <th>11</th>\n",
       "      <td>4</td>\n",
       "    </tr>\n",
       "    <tr>\n",
       "      <th>12</th>\n",
       "      <td>34</td>\n",
       "    </tr>\n",
       "    <tr>\n",
       "      <th rowspan=\"5\" valign=\"top\">2019</th>\n",
       "      <th>1</th>\n",
       "      <td>3696</td>\n",
       "    </tr>\n",
       "    <tr>\n",
       "      <th>2</th>\n",
       "      <td>178777</td>\n",
       "    </tr>\n",
       "    <tr>\n",
       "      <th>3</th>\n",
       "      <td>310247</td>\n",
       "    </tr>\n",
       "    <tr>\n",
       "      <th>4</th>\n",
       "      <td>32</td>\n",
       "    </tr>\n",
       "    <tr>\n",
       "      <th>6</th>\n",
       "      <td>90</td>\n",
       "    </tr>\n",
       "  </tbody>\n",
       "</table>\n",
       "</div>"
      ],
      "text/plain": [
       "             count\n",
       "year month        \n",
       "2018 10          1\n",
       "     11          4\n",
       "     12         34\n",
       "2019 1        3696\n",
       "     2      178777\n",
       "     3      310247\n",
       "     4          32\n",
       "     6          90"
      ]
     },
     "execution_count": 16,
     "metadata": {
      "tags": []
     },
     "output_type": "execute_result"
    }
   ],
   "source": [
    "dataset_clean['date_created'].groupby([dataset_clean['date_created'].dt.year.rename('year'), dataset_clean['date_created'].dt.month.rename('month')]).agg({'count'})\n"
   ]
  },
  {
   "cell_type": "markdown",
   "metadata": {
    "colab_type": "text",
    "id": "7wVj29w4Luy0"
   },
   "source": [
    "**Observaciones:**\n",
    "\n",
    "* Tenemos una sola fecha de creación en el mes de octubre y 98 fechas en el mes de Junio  (estas últimas caen  fuera del intervalo temporal considerado).\n",
    "\n",
    "* La mayor concentración en cuanto a fechas de creación de envíos se dió en la franja enero-marzo, donde marzo cuenta con más de la mitad de los datos. \n",
    "\n",
    "**Preguntas y comentarios a tener en cuenta:**\n",
    "\n",
    "1. ¿Es normal que en un intervalo de 6 meses los datos se concentren mayormente en un mes o dos?\n",
    "2. ¿Podemos pensar que los 98 datos  junio de 2019 hayan tenido que ver con errores de carga de los  datos y sean efectivamente datos que se encuentran en el intervalo considerado? ¿O efectivamente serán datos que tenemos que eliminar de nuestro conjunto de análisis?"
   ]
  },
  {
   "cell_type": "markdown",
   "metadata": {
    "colab_type": "text",
    "id": "0K1XhO07v8Ai"
   },
   "source": [
    "**Variable date_sent**"
   ]
  },
  {
   "cell_type": "code",
   "execution_count": 0,
   "metadata": {
    "colab": {
     "base_uri": "https://localhost:8080/",
     "height": 266
    },
    "colab_type": "code",
    "id": "befqE82PMeJz",
    "outputId": "5e3c8a1e-3946-4cdc-930c-308b7359423b"
   },
   "outputs": [
    {
     "data": {
      "text/html": [
       "<div>\n",
       "<style scoped>\n",
       "    .dataframe tbody tr th:only-of-type {\n",
       "        vertical-align: middle;\n",
       "    }\n",
       "\n",
       "    .dataframe tbody tr th {\n",
       "        vertical-align: top;\n",
       "    }\n",
       "\n",
       "    .dataframe thead th {\n",
       "        text-align: right;\n",
       "    }\n",
       "</style>\n",
       "<table border=\"1\" class=\"dataframe\">\n",
       "  <thead>\n",
       "    <tr style=\"text-align: right;\">\n",
       "      <th></th>\n",
       "      <th></th>\n",
       "      <th>count</th>\n",
       "    </tr>\n",
       "    <tr>\n",
       "      <th>year</th>\n",
       "      <th>month</th>\n",
       "      <th></th>\n",
       "    </tr>\n",
       "  </thead>\n",
       "  <tbody>\n",
       "    <tr>\n",
       "      <th rowspan=\"3\" valign=\"top\">2018</th>\n",
       "      <th>10</th>\n",
       "      <td>1</td>\n",
       "    </tr>\n",
       "    <tr>\n",
       "      <th>11</th>\n",
       "      <td>2</td>\n",
       "    </tr>\n",
       "    <tr>\n",
       "      <th>12</th>\n",
       "      <td>11</td>\n",
       "    </tr>\n",
       "    <tr>\n",
       "      <th rowspan=\"3\" valign=\"top\">2019</th>\n",
       "      <th>1</th>\n",
       "      <td>2386</td>\n",
       "    </tr>\n",
       "    <tr>\n",
       "      <th>2</th>\n",
       "      <td>150603</td>\n",
       "    </tr>\n",
       "    <tr>\n",
       "      <th>3</th>\n",
       "      <td>339878</td>\n",
       "    </tr>\n",
       "  </tbody>\n",
       "</table>\n",
       "</div>"
      ],
      "text/plain": [
       "             count\n",
       "year month        \n",
       "2018 10          1\n",
       "     11          2\n",
       "     12         11\n",
       "2019 1        2386\n",
       "     2      150603\n",
       "     3      339878"
      ]
     },
     "execution_count": 17,
     "metadata": {
      "tags": []
     },
     "output_type": "execute_result"
    }
   ],
   "source": [
    "dataset_clean['date_sent'].groupby([dataset_clean['date_sent'].dt.year.rename('year'), dataset_clean['date_sent'].dt.month.rename('month')]).agg({'count'})"
   ]
  },
  {
   "cell_type": "markdown",
   "metadata": {
    "colab_type": "text",
    "id": "DwhX1dqqMp3G"
   },
   "source": [
    "\n",
    "**Observaciones:**\n",
    "\n",
    "No se observan datos fuera del intervalo considerado pero si una gran concentración en el intervalo enero-marzo, así como sucedía con la variable date_created."
   ]
  },
  {
   "cell_type": "markdown",
   "metadata": {
    "colab_type": "text",
    "id": "z3lyOcPCwKKq"
   },
   "source": [
    "**Variable date_visit**"
   ]
  },
  {
   "cell_type": "code",
   "execution_count": 0,
   "metadata": {
    "colab": {
     "base_uri": "https://localhost:8080/",
     "height": 173
    },
    "colab_type": "code",
    "id": "Y9oxQ_-XM2Tc",
    "outputId": "c4717468-a50b-46b6-f3cf-c524c584142c"
   },
   "outputs": [
    {
     "data": {
      "text/html": [
       "<div>\n",
       "<style scoped>\n",
       "    .dataframe tbody tr th:only-of-type {\n",
       "        vertical-align: middle;\n",
       "    }\n",
       "\n",
       "    .dataframe tbody tr th {\n",
       "        vertical-align: top;\n",
       "    }\n",
       "\n",
       "    .dataframe thead th {\n",
       "        text-align: right;\n",
       "    }\n",
       "</style>\n",
       "<table border=\"1\" class=\"dataframe\">\n",
       "  <thead>\n",
       "    <tr style=\"text-align: right;\">\n",
       "      <th></th>\n",
       "      <th></th>\n",
       "      <th>count</th>\n",
       "    </tr>\n",
       "    <tr>\n",
       "      <th>year</th>\n",
       "      <th>month</th>\n",
       "      <th></th>\n",
       "    </tr>\n",
       "  </thead>\n",
       "  <tbody>\n",
       "    <tr>\n",
       "      <th rowspan=\"3\" valign=\"top\">2019</th>\n",
       "      <th>2</th>\n",
       "      <td>27704</td>\n",
       "    </tr>\n",
       "    <tr>\n",
       "      <th>3</th>\n",
       "      <td>463832</td>\n",
       "    </tr>\n",
       "    <tr>\n",
       "      <th>4</th>\n",
       "      <td>1345</td>\n",
       "    </tr>\n",
       "  </tbody>\n",
       "</table>\n",
       "</div>"
      ],
      "text/plain": [
       "             count\n",
       "year month        \n",
       "2019 2       27704\n",
       "     3      463832\n",
       "     4        1345"
      ]
     },
     "execution_count": 18,
     "metadata": {
      "tags": []
     },
     "output_type": "execute_result"
    }
   ],
   "source": [
    "dataset_clean['date_visit'].groupby([dataset_clean['date_visit'].dt.year.rename('year'), dataset_clean['date_visit'].dt.month.rename('month')]).agg({'count'})"
   ]
  },
  {
   "cell_type": "markdown",
   "metadata": {
    "colab_type": "text",
    "id": "G8suLwxtNJSM"
   },
   "source": [
    "**Observaciones y preguntas a tener en cuenta**\n",
    "\n",
    "* No se observan datos anómalos en la variable **date_visit** pero no contamos con información en los meses del año 2018.\n",
    "* ¿Qué sucede con los envíos creados y enviados durante 2018? ¿Llegaron a destino?"
   ]
  },
  {
   "cell_type": "markdown",
   "metadata": {
    "colab_type": "text",
    "id": "MTjTDEszNS_s"
   },
   "source": [
    "### Análisis de la variable date_created\n",
    "\n",
    "Ahora vamos a analizar el valor del mes de octubre y las 98 fechas de creación del mes de junio  para ver si encontramos alguna anomalía."
   ]
  },
  {
   "cell_type": "markdown",
   "metadata": {
    "colab_type": "text",
    "id": "sx3UDxOdDs_G"
   },
   "source": [
    "**Octubre 2018**"
   ]
  },
  {
   "cell_type": "code",
   "execution_count": 0,
   "metadata": {
    "colab": {
     "base_uri": "https://localhost:8080/",
     "height": 80
    },
    "colab_type": "code",
    "id": "sA5ZZEfxNfWs",
    "outputId": "d2a1e21f-677b-4b86-d079-0579c77acbb3"
   },
   "outputs": [
    {
     "data": {
      "text/html": [
       "<div>\n",
       "<style scoped>\n",
       "    .dataframe tbody tr th:only-of-type {\n",
       "        vertical-align: middle;\n",
       "    }\n",
       "\n",
       "    .dataframe tbody tr th {\n",
       "        vertical-align: top;\n",
       "    }\n",
       "\n",
       "    .dataframe thead th {\n",
       "        text-align: right;\n",
       "    }\n",
       "</style>\n",
       "<table border=\"1\" class=\"dataframe\">\n",
       "  <thead>\n",
       "    <tr style=\"text-align: right;\">\n",
       "      <th></th>\n",
       "      <th>sender_state</th>\n",
       "      <th>sender_zipcode</th>\n",
       "      <th>receiver_state</th>\n",
       "      <th>receiver_zipcode</th>\n",
       "      <th>shipment_type</th>\n",
       "      <th>quantity</th>\n",
       "      <th>service</th>\n",
       "      <th>status</th>\n",
       "      <th>date_created</th>\n",
       "      <th>date_sent</th>\n",
       "      <th>date_visit</th>\n",
       "      <th>shipment_days</th>\n",
       "    </tr>\n",
       "  </thead>\n",
       "  <tbody>\n",
       "    <tr>\n",
       "      <th>108620</th>\n",
       "      <td>SP</td>\n",
       "      <td>6220</td>\n",
       "      <td>MA</td>\n",
       "      <td>65470</td>\n",
       "      <td>standard</td>\n",
       "      <td>1</td>\n",
       "      <td>1</td>\n",
       "      <td>failed</td>\n",
       "      <td>2018-10-21</td>\n",
       "      <td>2018-10-23 13:57:00</td>\n",
       "      <td>2019-03-13 16:58:00</td>\n",
       "      <td>90.0</td>\n",
       "    </tr>\n",
       "  </tbody>\n",
       "</table>\n",
       "</div>"
      ],
      "text/plain": [
       "       sender_state  sender_zipcode  ...          date_visit  shipment_days\n",
       "108620           SP            6220  ... 2019-03-13 16:58:00           90.0\n",
       "\n",
       "[1 rows x 12 columns]"
      ]
     },
     "execution_count": 19,
     "metadata": {
      "tags": []
     },
     "output_type": "execute_result"
    }
   ],
   "source": [
    "date_created_octubre = dataset_clean['date_created'].map(lambda x: x.month) == 10\n",
    "dataset_clean[date_created_octubre]"
   ]
  },
  {
   "cell_type": "markdown",
   "metadata": {
    "colab_type": "text",
    "id": "KhzyZQU6OAAW"
   },
   "source": [
    "Este envío cuenta con información en todas las columnas. Resulta extraño claro que el envío haya tardado 90 días en llegar a destino  lo cual no se corresponde con las fechas en las variables date_sent  y date_visit (octubre y marzo respectivamente). Además 90 días resulta en un valor demasiado grande para la variable shipment_days.\n",
    "\n",
    "Como es un solo dato, a priori decidimos dejarlo. Quizás en un futuro pueda ser descartado."
   ]
  },
  {
   "cell_type": "markdown",
   "metadata": {
    "colab_type": "text",
    "id": "G5rs91X3FDCB"
   },
   "source": [
    "**Junio de 2019**"
   ]
  },
  {
   "cell_type": "code",
   "execution_count": 0,
   "metadata": {
    "colab": {
     "base_uri": "https://localhost:8080/",
     "height": 359
    },
    "colab_type": "code",
    "id": "RK3hJRgsOjQ9",
    "outputId": "c2658af8-4e0c-44c2-b040-b204f773bff2"
   },
   "outputs": [
    {
     "data": {
      "text/html": [
       "<div>\n",
       "<style scoped>\n",
       "    .dataframe tbody tr th:only-of-type {\n",
       "        vertical-align: middle;\n",
       "    }\n",
       "\n",
       "    .dataframe tbody tr th {\n",
       "        vertical-align: top;\n",
       "    }\n",
       "\n",
       "    .dataframe thead th {\n",
       "        text-align: right;\n",
       "    }\n",
       "</style>\n",
       "<table border=\"1\" class=\"dataframe\">\n",
       "  <thead>\n",
       "    <tr style=\"text-align: right;\">\n",
       "      <th></th>\n",
       "      <th>sender_state</th>\n",
       "      <th>sender_zipcode</th>\n",
       "      <th>receiver_state</th>\n",
       "      <th>receiver_zipcode</th>\n",
       "      <th>shipment_type</th>\n",
       "      <th>quantity</th>\n",
       "      <th>service</th>\n",
       "      <th>status</th>\n",
       "      <th>date_created</th>\n",
       "      <th>date_sent</th>\n",
       "      <th>date_visit</th>\n",
       "      <th>shipment_days</th>\n",
       "    </tr>\n",
       "  </thead>\n",
       "  <tbody>\n",
       "    <tr>\n",
       "      <th>220920</th>\n",
       "      <td>SP</td>\n",
       "      <td>3106</td>\n",
       "      <td>RJ</td>\n",
       "      <td>21031</td>\n",
       "      <td>standard</td>\n",
       "      <td>1</td>\n",
       "      <td>7</td>\n",
       "      <td>done</td>\n",
       "      <td>2019-06-27</td>\n",
       "      <td>2019-02-06 06:16:00</td>\n",
       "      <td>2019-03-01 11:20:00</td>\n",
       "      <td>17.0</td>\n",
       "    </tr>\n",
       "    <tr>\n",
       "      <th>463948</th>\n",
       "      <td>SP</td>\n",
       "      <td>3375</td>\n",
       "      <td>ES</td>\n",
       "      <td>29160</td>\n",
       "      <td>standard</td>\n",
       "      <td>2</td>\n",
       "      <td>7</td>\n",
       "      <td>done</td>\n",
       "      <td>2019-06-26</td>\n",
       "      <td>2019-03-06 03:02:00</td>\n",
       "      <td>2019-03-07 06:26:00</td>\n",
       "      <td>0.0</td>\n",
       "    </tr>\n",
       "    <tr>\n",
       "      <th>235918</th>\n",
       "      <td>SP</td>\n",
       "      <td>7411</td>\n",
       "      <td>RJ</td>\n",
       "      <td>21020</td>\n",
       "      <td>express</td>\n",
       "      <td>1</td>\n",
       "      <td>7</td>\n",
       "      <td>done</td>\n",
       "      <td>2019-06-24</td>\n",
       "      <td>2019-02-06 03:52:00</td>\n",
       "      <td>2019-03-01 12:48:00</td>\n",
       "      <td>17.0</td>\n",
       "    </tr>\n",
       "    <tr>\n",
       "      <th>115505</th>\n",
       "      <td>SP</td>\n",
       "      <td>1536</td>\n",
       "      <td>SP</td>\n",
       "      <td>11055</td>\n",
       "      <td>express</td>\n",
       "      <td>1</td>\n",
       "      <td>7</td>\n",
       "      <td>done</td>\n",
       "      <td>2019-06-03</td>\n",
       "      <td>2019-02-06 04:51:00</td>\n",
       "      <td>2019-03-01 08:17:00</td>\n",
       "      <td>17.0</td>\n",
       "    </tr>\n",
       "    <tr>\n",
       "      <th>136249</th>\n",
       "      <td>SP</td>\n",
       "      <td>12950</td>\n",
       "      <td>PE</td>\n",
       "      <td>51030</td>\n",
       "      <td>standard</td>\n",
       "      <td>1</td>\n",
       "      <td>4</td>\n",
       "      <td>failed</td>\n",
       "      <td>2019-06-19</td>\n",
       "      <td>2019-02-06 09:48:00</td>\n",
       "      <td>2019-03-01 02:41:00</td>\n",
       "      <td>17.0</td>\n",
       "    </tr>\n",
       "    <tr>\n",
       "      <th>415973</th>\n",
       "      <td>SP</td>\n",
       "      <td>2950</td>\n",
       "      <td>RS</td>\n",
       "      <td>96835</td>\n",
       "      <td>standard</td>\n",
       "      <td>1</td>\n",
       "      <td>7</td>\n",
       "      <td>done</td>\n",
       "      <td>2019-06-10</td>\n",
       "      <td>2019-03-06 03:56:00</td>\n",
       "      <td>2019-03-07 04:02:00</td>\n",
       "      <td>0.0</td>\n",
       "    </tr>\n",
       "    <tr>\n",
       "      <th>89842</th>\n",
       "      <td>SP</td>\n",
       "      <td>6422</td>\n",
       "      <td>CE</td>\n",
       "      <td>60833</td>\n",
       "      <td>standard</td>\n",
       "      <td>1</td>\n",
       "      <td>4</td>\n",
       "      <td>done</td>\n",
       "      <td>2019-06-14</td>\n",
       "      <td>2019-03-06 11:42:00</td>\n",
       "      <td>2019-03-07 11:42:00</td>\n",
       "      <td>0.0</td>\n",
       "    </tr>\n",
       "    <tr>\n",
       "      <th>175596</th>\n",
       "      <td>SP</td>\n",
       "      <td>6422</td>\n",
       "      <td>RS</td>\n",
       "      <td>97502</td>\n",
       "      <td>standard</td>\n",
       "      <td>1</td>\n",
       "      <td>7</td>\n",
       "      <td>done</td>\n",
       "      <td>2019-06-21</td>\n",
       "      <td>2019-02-06 11:45:00</td>\n",
       "      <td>2019-03-01 11:08:00</td>\n",
       "      <td>17.0</td>\n",
       "    </tr>\n",
       "    <tr>\n",
       "      <th>155665</th>\n",
       "      <td>SP</td>\n",
       "      <td>1224</td>\n",
       "      <td>SP</td>\n",
       "      <td>14940</td>\n",
       "      <td>standard</td>\n",
       "      <td>1</td>\n",
       "      <td>4</td>\n",
       "      <td>done</td>\n",
       "      <td>2019-06-25</td>\n",
       "      <td>2019-02-06 11:59:00</td>\n",
       "      <td>2019-03-01 11:02:00</td>\n",
       "      <td>17.0</td>\n",
       "    </tr>\n",
       "    <tr>\n",
       "      <th>402015</th>\n",
       "      <td>SP</td>\n",
       "      <td>9360</td>\n",
       "      <td>RJ</td>\n",
       "      <td>22411</td>\n",
       "      <td>express</td>\n",
       "      <td>1</td>\n",
       "      <td>7</td>\n",
       "      <td>done</td>\n",
       "      <td>2019-06-27</td>\n",
       "      <td>2019-02-06 06:24:00</td>\n",
       "      <td>2019-03-01 16:04:00</td>\n",
       "      <td>17.0</td>\n",
       "    </tr>\n",
       "  </tbody>\n",
       "</table>\n",
       "</div>"
      ],
      "text/plain": [
       "       sender_state  sender_zipcode  ...          date_visit  shipment_days\n",
       "220920           SP            3106  ... 2019-03-01 11:20:00           17.0\n",
       "463948           SP            3375  ... 2019-03-07 06:26:00            0.0\n",
       "235918           SP            7411  ... 2019-03-01 12:48:00           17.0\n",
       "115505           SP            1536  ... 2019-03-01 08:17:00           17.0\n",
       "136249           SP           12950  ... 2019-03-01 02:41:00           17.0\n",
       "415973           SP            2950  ... 2019-03-07 04:02:00            0.0\n",
       "89842            SP            6422  ... 2019-03-07 11:42:00            0.0\n",
       "175596           SP            6422  ... 2019-03-01 11:08:00           17.0\n",
       "155665           SP            1224  ... 2019-03-01 11:02:00           17.0\n",
       "402015           SP            9360  ... 2019-03-01 16:04:00           17.0\n",
       "\n",
       "[10 rows x 12 columns]"
      ]
     },
     "execution_count": 20,
     "metadata": {
      "tags": []
     },
     "output_type": "execute_result"
    }
   ],
   "source": [
    "date_created_junio = dataset_clean['date_created'].map(lambda x: x.month) == 6\n",
    "dataset_clean[date_created_junio].sample(10)"
   ]
  },
  {
   "cell_type": "markdown",
   "metadata": {
    "colab_type": "text",
    "id": "3fz2tv_CO0Nt"
   },
   "source": [
    "Si bien estos datos caen fuera de los supuestos en cuanto a que la fecha de creación debe ser anterior a la fecha de envío, la inspección de los datos de arriba nos inclina a pensar que los datos con fecha de creación en junio de 2019 en realidad corresponden a datos del mes de enero del mismo año. Esta suposición se basa en que las fechas de las variables **date_sent** y **date_visit** muestran una cierta coherencia entre sí y con la variable **shipment_days**. \n",
    "\n",
    "Esta hipótesis plantea la disyuntiva de si esta información debe ser eliminada o si las fechas de creación de junio deben ser modificadas poniendo en su lugar enero de 2019.\n",
    "\n",
    "Si uno se guía por los datos \"como vienen\" la primera opción sería eliminar estas filas (ya que la cantidad de las mismas no afectaría a la cantidad total). Sin embargo podemos tomar la jugada arriesgada y \"modificar\" nuestros datos subsanando de esta manera un posible error producido durante la carga de los datos. Creemos que para un análisis en un futuro cercano podemos imputar los datos de creación de junio poniéndoles fecha de enero."
   ]
  },
  {
   "cell_type": "markdown",
   "metadata": {
    "colab_type": "text",
    "id": "6ubDrtQTRakk"
   },
   "source": [
    "### Encoding la variable categórica receiver_state"
   ]
  },
  {
   "cell_type": "markdown",
   "metadata": {
    "colab_type": "text",
    "id": "wG4bE_gKRde0"
   },
   "source": [
    "**LabelEncoder**\n",
    "\n",
    "LabelEncoder codifica datos categóricos asignandole un valor numérico desde 0 a n (donde n es la cantidad de datos). De esta manera establece una escala de importancia entre los mismos lo cual no siempre es adecuado."
   ]
  },
  {
   "cell_type": "code",
   "execution_count": 0,
   "metadata": {
    "colab": {
     "base_uri": "https://localhost:8080/",
     "height": 34
    },
    "colab_type": "code",
    "id": "NUyiozakRrU0",
    "outputId": "96888bcb-1d48-4907-e33b-2c6d3f662b10"
   },
   "outputs": [
    {
     "data": {
      "text/plain": [
       "LabelEncoder()"
      ]
     },
     "execution_count": 21,
     "metadata": {
      "tags": []
     },
     "output_type": "execute_result"
    }
   ],
   "source": [
    "receiver_state_le='receiver_state'\n",
    "# Create a label (category) encoder object\n",
    "le = preprocessing.LabelEncoder()\n",
    "# Fit the encoder to the pandas column\n",
    "le.fit(dataset_clean[receiver_state_le])"
   ]
  },
  {
   "cell_type": "code",
   "execution_count": 0,
   "metadata": {
    "colab": {
     "base_uri": "https://localhost:8080/",
     "height": 476
    },
    "colab_type": "code",
    "id": "sq0oj5zzR06U",
    "outputId": "14a2a11a-6c21-41d8-e344-a7e7a7b5b661"
   },
   "outputs": [
    {
     "data": {
      "text/plain": [
       "{'AC': 0,\n",
       " 'AL': 1,\n",
       " 'AM': 2,\n",
       " 'AP': 3,\n",
       " 'BA': 4,\n",
       " 'CE': 5,\n",
       " 'DF': 6,\n",
       " 'ES': 7,\n",
       " 'GO': 8,\n",
       " 'MA': 9,\n",
       " 'MG': 10,\n",
       " 'MS': 11,\n",
       " 'MT': 12,\n",
       " 'PA': 13,\n",
       " 'PB': 14,\n",
       " 'PE': 15,\n",
       " 'PI': 16,\n",
       " 'PR': 17,\n",
       " 'RJ': 18,\n",
       " 'RN': 19,\n",
       " 'RO': 20,\n",
       " 'RR': 21,\n",
       " 'RS': 22,\n",
       " 'SC': 23,\n",
       " 'SE': 24,\n",
       " 'SP': 25,\n",
       " 'TO': 26}"
      ]
     },
     "execution_count": 22,
     "metadata": {
      "tags": []
     },
     "output_type": "execute_result"
    }
   ],
   "source": [
    "# View encoder mapping\n",
    "dict(zip(le.classes_,le.transform(le.classes_)))"
   ]
  },
  {
   "cell_type": "markdown",
   "metadata": {
    "colab_type": "text",
    "id": "V_PCAMAjHNLd"
   },
   "source": [
    "De acuerdo al encoding anterior San Pablo (número 25) resulta un estado más importante que Minas Gerais (número 10)."
   ]
  },
  {
   "cell_type": "code",
   "execution_count": 0,
   "metadata": {
    "colab": {},
    "colab_type": "code",
    "id": "vuL-ukM7EOJ2"
   },
   "outputs": [],
   "source": [
    "dict1=dict(zip(le.classes_,le.transform(le.classes_)))\n",
    "receiver_state_le=[]"
   ]
  },
  {
   "cell_type": "code",
   "execution_count": 0,
   "metadata": {
    "colab": {},
    "colab_type": "code",
    "id": "6cpXmZ46ivMW"
   },
   "outputs": [],
   "source": [
    "for row in dataset_clean['receiver_state']:\n",
    "    receiver_state_le.append(dict1[row])"
   ]
  },
  {
   "cell_type": "code",
   "execution_count": 0,
   "metadata": {
    "colab": {
     "base_uri": "https://localhost:8080/",
     "height": 289
    },
    "colab_type": "code",
    "id": "5yjC3wxvizHZ",
    "outputId": "ce690032-1f0d-44ed-ba87-f1aaabf14793"
   },
   "outputs": [
    {
     "data": {
      "text/html": [
       "<div>\n",
       "<style scoped>\n",
       "    .dataframe tbody tr th:only-of-type {\n",
       "        vertical-align: middle;\n",
       "    }\n",
       "\n",
       "    .dataframe tbody tr th {\n",
       "        vertical-align: top;\n",
       "    }\n",
       "\n",
       "    .dataframe thead th {\n",
       "        text-align: right;\n",
       "    }\n",
       "</style>\n",
       "<table border=\"1\" class=\"dataframe\">\n",
       "  <thead>\n",
       "    <tr style=\"text-align: right;\">\n",
       "      <th></th>\n",
       "      <th>sender_state</th>\n",
       "      <th>sender_zipcode</th>\n",
       "      <th>receiver_state</th>\n",
       "      <th>receiver_zipcode</th>\n",
       "      <th>shipment_type</th>\n",
       "      <th>quantity</th>\n",
       "      <th>service</th>\n",
       "      <th>status</th>\n",
       "      <th>date_created</th>\n",
       "      <th>date_sent</th>\n",
       "      <th>date_visit</th>\n",
       "      <th>shipment_days</th>\n",
       "      <th>receiver_state_le</th>\n",
       "    </tr>\n",
       "  </thead>\n",
       "  <tbody>\n",
       "    <tr>\n",
       "      <th>408437</th>\n",
       "      <td>SP</td>\n",
       "      <td>13290</td>\n",
       "      <td>SP</td>\n",
       "      <td>4533</td>\n",
       "      <td>super</td>\n",
       "      <td>1</td>\n",
       "      <td>6</td>\n",
       "      <td>done</td>\n",
       "      <td>2019-03-05</td>\n",
       "      <td>2019-03-05 21:24:10</td>\n",
       "      <td>2019-03-08 13:56:59</td>\n",
       "      <td>1.0</td>\n",
       "      <td>25</td>\n",
       "    </tr>\n",
       "    <tr>\n",
       "      <th>53041</th>\n",
       "      <td>SP</td>\n",
       "      <td>14405</td>\n",
       "      <td>MG</td>\n",
       "      <td>33920</td>\n",
       "      <td>express</td>\n",
       "      <td>1</td>\n",
       "      <td>0</td>\n",
       "      <td>done</td>\n",
       "      <td>2019-03-05</td>\n",
       "      <td>2019-03-05 16:33:00</td>\n",
       "      <td>2019-03-12 13:26:00</td>\n",
       "      <td>3.0</td>\n",
       "      <td>10</td>\n",
       "    </tr>\n",
       "    <tr>\n",
       "      <th>92797</th>\n",
       "      <td>SP</td>\n",
       "      <td>3461</td>\n",
       "      <td>SP</td>\n",
       "      <td>4803</td>\n",
       "      <td>express</td>\n",
       "      <td>4</td>\n",
       "      <td>0</td>\n",
       "      <td>done</td>\n",
       "      <td>2019-03-10</td>\n",
       "      <td>2019-03-11 12:11:00</td>\n",
       "      <td>2019-03-18 09:01:00</td>\n",
       "      <td>5.0</td>\n",
       "      <td>25</td>\n",
       "    </tr>\n",
       "    <tr>\n",
       "      <th>372081</th>\n",
       "      <td>SP</td>\n",
       "      <td>3658</td>\n",
       "      <td>SP</td>\n",
       "      <td>2721</td>\n",
       "      <td>express</td>\n",
       "      <td>1</td>\n",
       "      <td>0</td>\n",
       "      <td>done</td>\n",
       "      <td>2019-03-19</td>\n",
       "      <td>2019-03-20 12:23:00</td>\n",
       "      <td>2019-03-21 11:12:00</td>\n",
       "      <td>1.0</td>\n",
       "      <td>25</td>\n",
       "    </tr>\n",
       "    <tr>\n",
       "      <th>319590</th>\n",
       "      <td>SP</td>\n",
       "      <td>4141</td>\n",
       "      <td>DF</td>\n",
       "      <td>71907</td>\n",
       "      <td>express</td>\n",
       "      <td>1</td>\n",
       "      <td>0</td>\n",
       "      <td>done</td>\n",
       "      <td>2019-02-27</td>\n",
       "      <td>2019-02-28 15:20:00</td>\n",
       "      <td>2019-03-01 14:05:00</td>\n",
       "      <td>1.0</td>\n",
       "      <td>6</td>\n",
       "    </tr>\n",
       "  </tbody>\n",
       "</table>\n",
       "</div>"
      ],
      "text/plain": [
       "       sender_state  sender_zipcode  ... shipment_days  receiver_state_le\n",
       "408437           SP           13290  ...           1.0                 25\n",
       "53041            SP           14405  ...           3.0                 10\n",
       "92797            SP            3461  ...           5.0                 25\n",
       "372081           SP            3658  ...           1.0                 25\n",
       "319590           SP            4141  ...           1.0                  6\n",
       "\n",
       "[5 rows x 13 columns]"
      ]
     },
     "execution_count": 25,
     "metadata": {
      "tags": []
     },
     "output_type": "execute_result"
    }
   ],
   "source": [
    "dataset_clean['receiver_state_le']=receiver_state_le\n",
    "dataset_clean.sample(5)"
   ]
  },
  {
   "cell_type": "markdown",
   "metadata": {
    "colab_type": "text",
    "id": "MfwCBHKaR7PU"
   },
   "source": [
    "**OneHotEncoding**\n",
    "\n",
    "Este encoding convierte cada valor de categoría en una nueva columna y asigna un valor de 1 ó 0 a la columna. A diferencia del anterior no establece una escala de importancia entre las variables categóricas, sin embargo agrega más columnas al conjunto de datos que en nuestro caso serían 27!!"
   ]
  },
  {
   "cell_type": "code",
   "execution_count": 0,
   "metadata": {
    "colab": {
     "base_uri": "https://localhost:8080/",
     "height": 394
    },
    "colab_type": "code",
    "id": "0X2Dlh8GSLKm",
    "outputId": "3dc1498b-8908-42ce-a0c8-33ac39f86003"
   },
   "outputs": [
    {
     "data": {
      "text/html": [
       "<div>\n",
       "<style scoped>\n",
       "    .dataframe tbody tr th:only-of-type {\n",
       "        vertical-align: middle;\n",
       "    }\n",
       "\n",
       "    .dataframe tbody tr th {\n",
       "        vertical-align: top;\n",
       "    }\n",
       "\n",
       "    .dataframe thead th {\n",
       "        text-align: right;\n",
       "    }\n",
       "</style>\n",
       "<table border=\"1\" class=\"dataframe\">\n",
       "  <thead>\n",
       "    <tr style=\"text-align: right;\">\n",
       "      <th></th>\n",
       "      <th>sender_state</th>\n",
       "      <th>sender_zipcode</th>\n",
       "      <th>receiver_zipcode</th>\n",
       "      <th>shipment_type</th>\n",
       "      <th>quantity</th>\n",
       "      <th>service</th>\n",
       "      <th>status</th>\n",
       "      <th>date_created</th>\n",
       "      <th>date_sent</th>\n",
       "      <th>date_visit</th>\n",
       "      <th>shipment_days</th>\n",
       "      <th>receiver_state_le</th>\n",
       "      <th>receiver_state_AC</th>\n",
       "      <th>receiver_state_AL</th>\n",
       "      <th>receiver_state_AM</th>\n",
       "      <th>receiver_state_AP</th>\n",
       "      <th>receiver_state_BA</th>\n",
       "      <th>receiver_state_CE</th>\n",
       "      <th>receiver_state_DF</th>\n",
       "      <th>receiver_state_ES</th>\n",
       "      <th>receiver_state_GO</th>\n",
       "      <th>receiver_state_MA</th>\n",
       "      <th>receiver_state_MG</th>\n",
       "      <th>receiver_state_MS</th>\n",
       "      <th>receiver_state_MT</th>\n",
       "      <th>receiver_state_PA</th>\n",
       "      <th>receiver_state_PB</th>\n",
       "      <th>receiver_state_PE</th>\n",
       "      <th>receiver_state_PI</th>\n",
       "      <th>receiver_state_PR</th>\n",
       "      <th>receiver_state_RJ</th>\n",
       "      <th>receiver_state_RN</th>\n",
       "      <th>receiver_state_RO</th>\n",
       "      <th>receiver_state_RR</th>\n",
       "      <th>receiver_state_RS</th>\n",
       "      <th>receiver_state_SC</th>\n",
       "      <th>receiver_state_SE</th>\n",
       "      <th>receiver_state_SP</th>\n",
       "      <th>receiver_state_TO</th>\n",
       "    </tr>\n",
       "  </thead>\n",
       "  <tbody>\n",
       "    <tr>\n",
       "      <th>0</th>\n",
       "      <td>SP</td>\n",
       "      <td>1039</td>\n",
       "      <td>14500</td>\n",
       "      <td>standard</td>\n",
       "      <td>1</td>\n",
       "      <td>1</td>\n",
       "      <td>done</td>\n",
       "      <td>2019-03-10</td>\n",
       "      <td>2019-03-11 14:34:00</td>\n",
       "      <td>2019-03-18 09:52:00</td>\n",
       "      <td>5.0</td>\n",
       "      <td>25</td>\n",
       "      <td>0</td>\n",
       "      <td>0</td>\n",
       "      <td>0</td>\n",
       "      <td>0</td>\n",
       "      <td>0</td>\n",
       "      <td>0</td>\n",
       "      <td>0</td>\n",
       "      <td>0</td>\n",
       "      <td>0</td>\n",
       "      <td>0</td>\n",
       "      <td>0</td>\n",
       "      <td>0</td>\n",
       "      <td>0</td>\n",
       "      <td>0</td>\n",
       "      <td>0</td>\n",
       "      <td>0</td>\n",
       "      <td>0</td>\n",
       "      <td>0</td>\n",
       "      <td>0</td>\n",
       "      <td>0</td>\n",
       "      <td>0</td>\n",
       "      <td>0</td>\n",
       "      <td>0</td>\n",
       "      <td>0</td>\n",
       "      <td>0</td>\n",
       "      <td>1</td>\n",
       "      <td>0</td>\n",
       "    </tr>\n",
       "    <tr>\n",
       "      <th>1</th>\n",
       "      <td>SP</td>\n",
       "      <td>3004</td>\n",
       "      <td>58670</td>\n",
       "      <td>standard</td>\n",
       "      <td>1</td>\n",
       "      <td>1</td>\n",
       "      <td>done</td>\n",
       "      <td>2019-03-08</td>\n",
       "      <td>2019-03-09 10:48:00</td>\n",
       "      <td>2019-03-18 15:16:00</td>\n",
       "      <td>5.0</td>\n",
       "      <td>14</td>\n",
       "      <td>0</td>\n",
       "      <td>0</td>\n",
       "      <td>0</td>\n",
       "      <td>0</td>\n",
       "      <td>0</td>\n",
       "      <td>0</td>\n",
       "      <td>0</td>\n",
       "      <td>0</td>\n",
       "      <td>0</td>\n",
       "      <td>0</td>\n",
       "      <td>0</td>\n",
       "      <td>0</td>\n",
       "      <td>0</td>\n",
       "      <td>0</td>\n",
       "      <td>1</td>\n",
       "      <td>0</td>\n",
       "      <td>0</td>\n",
       "      <td>0</td>\n",
       "      <td>0</td>\n",
       "      <td>0</td>\n",
       "      <td>0</td>\n",
       "      <td>0</td>\n",
       "      <td>0</td>\n",
       "      <td>0</td>\n",
       "      <td>0</td>\n",
       "      <td>0</td>\n",
       "      <td>0</td>\n",
       "    </tr>\n",
       "    <tr>\n",
       "      <th>2</th>\n",
       "      <td>SP</td>\n",
       "      <td>3262</td>\n",
       "      <td>22723</td>\n",
       "      <td>standard</td>\n",
       "      <td>1</td>\n",
       "      <td>2</td>\n",
       "      <td>done</td>\n",
       "      <td>2019-02-21</td>\n",
       "      <td>2019-02-23 02:02:16</td>\n",
       "      <td>2019-03-01 21:27:00</td>\n",
       "      <td>4.0</td>\n",
       "      <td>18</td>\n",
       "      <td>0</td>\n",
       "      <td>0</td>\n",
       "      <td>0</td>\n",
       "      <td>0</td>\n",
       "      <td>0</td>\n",
       "      <td>0</td>\n",
       "      <td>0</td>\n",
       "      <td>0</td>\n",
       "      <td>0</td>\n",
       "      <td>0</td>\n",
       "      <td>0</td>\n",
       "      <td>0</td>\n",
       "      <td>0</td>\n",
       "      <td>0</td>\n",
       "      <td>0</td>\n",
       "      <td>0</td>\n",
       "      <td>0</td>\n",
       "      <td>0</td>\n",
       "      <td>1</td>\n",
       "      <td>0</td>\n",
       "      <td>0</td>\n",
       "      <td>0</td>\n",
       "      <td>0</td>\n",
       "      <td>0</td>\n",
       "      <td>0</td>\n",
       "      <td>0</td>\n",
       "      <td>0</td>\n",
       "    </tr>\n",
       "    <tr>\n",
       "      <th>3</th>\n",
       "      <td>SP</td>\n",
       "      <td>12237</td>\n",
       "      <td>18682</td>\n",
       "      <td>standard</td>\n",
       "      <td>1</td>\n",
       "      <td>2</td>\n",
       "      <td>done</td>\n",
       "      <td>2019-02-25</td>\n",
       "      <td>2019-02-28 03:05:36</td>\n",
       "      <td>2019-03-07 15:01:00</td>\n",
       "      <td>2.0</td>\n",
       "      <td>25</td>\n",
       "      <td>0</td>\n",
       "      <td>0</td>\n",
       "      <td>0</td>\n",
       "      <td>0</td>\n",
       "      <td>0</td>\n",
       "      <td>0</td>\n",
       "      <td>0</td>\n",
       "      <td>0</td>\n",
       "      <td>0</td>\n",
       "      <td>0</td>\n",
       "      <td>0</td>\n",
       "      <td>0</td>\n",
       "      <td>0</td>\n",
       "      <td>0</td>\n",
       "      <td>0</td>\n",
       "      <td>0</td>\n",
       "      <td>0</td>\n",
       "      <td>0</td>\n",
       "      <td>0</td>\n",
       "      <td>0</td>\n",
       "      <td>0</td>\n",
       "      <td>0</td>\n",
       "      <td>0</td>\n",
       "      <td>0</td>\n",
       "      <td>0</td>\n",
       "      <td>1</td>\n",
       "      <td>0</td>\n",
       "    </tr>\n",
       "    <tr>\n",
       "      <th>4</th>\n",
       "      <td>SP</td>\n",
       "      <td>9350</td>\n",
       "      <td>68908</td>\n",
       "      <td>standard</td>\n",
       "      <td>1</td>\n",
       "      <td>1</td>\n",
       "      <td>done</td>\n",
       "      <td>2019-02-15</td>\n",
       "      <td>2019-02-15 11:28:00</td>\n",
       "      <td>2019-03-11 13:18:00</td>\n",
       "      <td>13.0</td>\n",
       "      <td>3</td>\n",
       "      <td>0</td>\n",
       "      <td>0</td>\n",
       "      <td>0</td>\n",
       "      <td>1</td>\n",
       "      <td>0</td>\n",
       "      <td>0</td>\n",
       "      <td>0</td>\n",
       "      <td>0</td>\n",
       "      <td>0</td>\n",
       "      <td>0</td>\n",
       "      <td>0</td>\n",
       "      <td>0</td>\n",
       "      <td>0</td>\n",
       "      <td>0</td>\n",
       "      <td>0</td>\n",
       "      <td>0</td>\n",
       "      <td>0</td>\n",
       "      <td>0</td>\n",
       "      <td>0</td>\n",
       "      <td>0</td>\n",
       "      <td>0</td>\n",
       "      <td>0</td>\n",
       "      <td>0</td>\n",
       "      <td>0</td>\n",
       "      <td>0</td>\n",
       "      <td>0</td>\n",
       "      <td>0</td>\n",
       "    </tr>\n",
       "  </tbody>\n",
       "</table>\n",
       "</div>"
      ],
      "text/plain": [
       "  sender_state  sender_zipcode  ...  receiver_state_SP receiver_state_TO\n",
       "0           SP            1039  ...                  1                 0\n",
       "1           SP            3004  ...                  0                 0\n",
       "2           SP            3262  ...                  0                 0\n",
       "3           SP           12237  ...                  1                 0\n",
       "4           SP            9350  ...                  0                 0\n",
       "\n",
       "[5 rows x 39 columns]"
      ]
     },
     "execution_count": 26,
     "metadata": {
      "tags": []
     },
     "output_type": "execute_result"
    }
   ],
   "source": [
    "dataset_ohe= pandas.get_dummies(dataset_clean, columns=[\"receiver_state\"])\n",
    "dataset_ohe.head()"
   ]
  },
  {
   "cell_type": "markdown",
   "metadata": {
    "colab_type": "text",
    "id": "UkzvWWVnShqe"
   },
   "source": [
    "### ¿Cuándo llega?: Features más importantes\n",
    "\n",
    "Uno de los objetivos principales de nuestro análisis es predecir (dar un número aproximado de días hábiles) de cuanto va a tardar en llegar un envío desde que el cliente realiza la compra a través de la plataforma de Mercado Libre hasta que el paquete llega a su casa.\n",
    "\n",
    "Esto nos lleva a pensar que dicha predicción se parecerá a los valores de la variable **shipment_days** con, quizás, 1 o 2 días más de diferencia. Pues este último feature cuenta el intervalo de días entre date_sent y date_visit y nosotros necesitamos dar la aproximación a partir del momento de la compra.\n",
    "\n",
    "\n",
    "Frente a este problema consideramos que el estado de Brasil que recibe el envío (**receiver_state**) es un feature importante a tener en cuenta (mientras más lejos esté de San Pablo probablemente demore más).  Por otro lado, el tipo de correo (**service**) también puede ser una variable importante a tener en cuenta porque la calidad de servicio impactará directamente en los días que tarda en llegar el pedido."
   ]
  },
  {
   "cell_type": "markdown",
   "metadata": {
    "colab_type": "text",
    "id": "ttALEKBOS3-9"
   },
   "source": [
    "### Aplicando un modelo KKN a nuestros datos\n",
    "\n",
    "Nos interesa determinar si un envío llegará entre 0-1 días, 2-3 días, 4-5 días, 6-7 días, 8-9 días ó 10 o más días para ello separaremos la variable **shipment_days** en clases."
   ]
  },
  {
   "cell_type": "code",
   "execution_count": 0,
   "metadata": {
    "colab": {},
    "colab_type": "code",
    "id": "7xaRzIJRTLCk"
   },
   "outputs": [],
   "source": [
    "shipment_days = dataset_clean['shipment_days']\n",
    "shipment_days_byclass= [None] * len(shipment_days)\n",
    "for line,row in enumerate(shipment_days):\n",
    "    if row in (0,1):\n",
    "        shipment_days_byclass[line]='0-1 dias'\n",
    "    elif row in (2,3):\n",
    "        shipment_days_byclass[line] = '2-3 dias'            \n",
    "    elif row in (4,5):\n",
    "        shipment_days_byclass[line] = '4-5 dias'\n",
    "    elif row in (6,7):\n",
    "        shipment_days_byclass[line] = '6-7 dias'\n",
    "    elif row in (8,9):\n",
    "        shipment_days_byclass[line] = '8-9 dias'\n",
    "    else:\n",
    "        shipment_days_byclass[line] = '10 o mas dias'"
   ]
  },
  {
   "cell_type": "code",
   "execution_count": 0,
   "metadata": {
    "colab": {},
    "colab_type": "code",
    "id": "9HwL3gP0TUGF"
   },
   "outputs": [],
   "source": [
    "dataset_clean['shipment_days_byclass'] = shipment_days_byclass"
   ]
  },
  {
   "cell_type": "code",
   "execution_count": 0,
   "metadata": {
    "colab": {
     "base_uri": "https://localhost:8080/",
     "height": 459
    },
    "colab_type": "code",
    "id": "eaE-qmuJTZ1x",
    "outputId": "c1e5e25b-d593-412c-893d-19a352fcf50b"
   },
   "outputs": [
    {
     "data": {
      "text/html": [
       "<div>\n",
       "<style scoped>\n",
       "    .dataframe tbody tr th:only-of-type {\n",
       "        vertical-align: middle;\n",
       "    }\n",
       "\n",
       "    .dataframe tbody tr th {\n",
       "        vertical-align: top;\n",
       "    }\n",
       "\n",
       "    .dataframe thead th {\n",
       "        text-align: right;\n",
       "    }\n",
       "</style>\n",
       "<table border=\"1\" class=\"dataframe\">\n",
       "  <thead>\n",
       "    <tr style=\"text-align: right;\">\n",
       "      <th></th>\n",
       "      <th>sender_state</th>\n",
       "      <th>sender_zipcode</th>\n",
       "      <th>receiver_state</th>\n",
       "      <th>receiver_zipcode</th>\n",
       "      <th>shipment_type</th>\n",
       "      <th>quantity</th>\n",
       "      <th>service</th>\n",
       "      <th>status</th>\n",
       "      <th>date_created</th>\n",
       "      <th>date_sent</th>\n",
       "      <th>date_visit</th>\n",
       "      <th>shipment_days</th>\n",
       "      <th>receiver_state_le</th>\n",
       "      <th>shipment_days_byclass</th>\n",
       "    </tr>\n",
       "  </thead>\n",
       "  <tbody>\n",
       "    <tr>\n",
       "      <th>345508</th>\n",
       "      <td>SP</td>\n",
       "      <td>14401</td>\n",
       "      <td>BA</td>\n",
       "      <td>45140</td>\n",
       "      <td>standard</td>\n",
       "      <td>1</td>\n",
       "      <td>1</td>\n",
       "      <td>done</td>\n",
       "      <td>2019-03-14</td>\n",
       "      <td>2019-03-15 16:58:00</td>\n",
       "      <td>2019-03-26 10:33:00</td>\n",
       "      <td>7.0</td>\n",
       "      <td>4</td>\n",
       "      <td>6-7 dias</td>\n",
       "    </tr>\n",
       "    <tr>\n",
       "      <th>459829</th>\n",
       "      <td>SP</td>\n",
       "      <td>13306</td>\n",
       "      <td>MG</td>\n",
       "      <td>37660</td>\n",
       "      <td>standard</td>\n",
       "      <td>1</td>\n",
       "      <td>3</td>\n",
       "      <td>done</td>\n",
       "      <td>2019-03-05</td>\n",
       "      <td>2019-03-06 19:53:00</td>\n",
       "      <td>2019-03-11 15:32:00</td>\n",
       "      <td>2.0</td>\n",
       "      <td>10</td>\n",
       "      <td>2-3 dias</td>\n",
       "    </tr>\n",
       "    <tr>\n",
       "      <th>264798</th>\n",
       "      <td>SP</td>\n",
       "      <td>12940</td>\n",
       "      <td>MG</td>\n",
       "      <td>38413</td>\n",
       "      <td>standard</td>\n",
       "      <td>1</td>\n",
       "      <td>2</td>\n",
       "      <td>done</td>\n",
       "      <td>2019-03-05</td>\n",
       "      <td>2019-03-11 14:28:12</td>\n",
       "      <td>2019-03-12 18:34:00</td>\n",
       "      <td>1.0</td>\n",
       "      <td>10</td>\n",
       "      <td>0-1 dias</td>\n",
       "    </tr>\n",
       "    <tr>\n",
       "      <th>128824</th>\n",
       "      <td>SP</td>\n",
       "      <td>6422</td>\n",
       "      <td>RJ</td>\n",
       "      <td>28680</td>\n",
       "      <td>express</td>\n",
       "      <td>1</td>\n",
       "      <td>4</td>\n",
       "      <td>done</td>\n",
       "      <td>2019-02-27</td>\n",
       "      <td>2019-03-01 08:57:16</td>\n",
       "      <td>2019-03-11 13:10:00</td>\n",
       "      <td>3.0</td>\n",
       "      <td>18</td>\n",
       "      <td>2-3 dias</td>\n",
       "    </tr>\n",
       "    <tr>\n",
       "      <th>187688</th>\n",
       "      <td>SP</td>\n",
       "      <td>13026</td>\n",
       "      <td>SP</td>\n",
       "      <td>2976</td>\n",
       "      <td>express</td>\n",
       "      <td>1</td>\n",
       "      <td>4</td>\n",
       "      <td>done</td>\n",
       "      <td>2019-03-23</td>\n",
       "      <td>2019-03-26 16:32:53</td>\n",
       "      <td>2019-03-28 09:55:00</td>\n",
       "      <td>2.0</td>\n",
       "      <td>25</td>\n",
       "      <td>2-3 dias</td>\n",
       "    </tr>\n",
       "    <tr>\n",
       "      <th>233636</th>\n",
       "      <td>SP</td>\n",
       "      <td>3427</td>\n",
       "      <td>SP</td>\n",
       "      <td>2617</td>\n",
       "      <td>express</td>\n",
       "      <td>1</td>\n",
       "      <td>0</td>\n",
       "      <td>done</td>\n",
       "      <td>2019-03-11</td>\n",
       "      <td>2019-03-12 16:57:00</td>\n",
       "      <td>2019-03-14 14:53:00</td>\n",
       "      <td>2.0</td>\n",
       "      <td>25</td>\n",
       "      <td>2-3 dias</td>\n",
       "    </tr>\n",
       "  </tbody>\n",
       "</table>\n",
       "</div>"
      ],
      "text/plain": [
       "       sender_state  sender_zipcode  ... receiver_state_le  shipment_days_byclass\n",
       "345508           SP           14401  ...                 4               6-7 dias\n",
       "459829           SP           13306  ...                10               2-3 dias\n",
       "264798           SP           12940  ...                10               0-1 dias\n",
       "128824           SP            6422  ...                18               2-3 dias\n",
       "187688           SP           13026  ...                25               2-3 dias\n",
       "233636           SP            3427  ...                25               2-3 dias\n",
       "\n",
       "[6 rows x 14 columns]"
      ]
     },
     "execution_count": 29,
     "metadata": {
      "tags": []
     },
     "output_type": "execute_result"
    }
   ],
   "source": [
    "dataset_clean.sample(6)"
   ]
  },
  {
   "cell_type": "markdown",
   "metadata": {
    "colab_type": "text",
    "id": "8EiRRH7sN9cC"
   },
   "source": [
    "A continuación vamos a aplicar un procedimiento de clustering (algoritmo knn) utilizando como valores de entradas los features **service** y **receiver_zipcode**."
   ]
  },
  {
   "cell_type": "code",
   "execution_count": 0,
   "metadata": {
    "colab": {},
    "colab_type": "code",
    "id": "-Xnm2fpJHtqi"
   },
   "outputs": [],
   "source": [
    "X=dataset_clean[['service','receiver_zipcode']]\n",
    "y=dataset_clean['shipment_days_byclass']"
   ]
  },
  {
   "cell_type": "markdown",
   "metadata": {
    "colab_type": "text",
    "id": "d-INDb0b-YtG"
   },
   "source": [
    "Separamos algunos valores para el conjunto de validación (terminado en test) y para entrenar (terminado en train).\n",
    "\n",
    "\n"
   ]
  },
  {
   "cell_type": "code",
   "execution_count": 0,
   "metadata": {
    "colab": {},
    "colab_type": "code",
    "id": "wSRt3efBHfZp"
   },
   "outputs": [],
   "source": [
    "X_train, X_test, y_train, y_test = train_test_split(X, y, random_state=0)\n",
    "scaler = MinMaxScaler()\n",
    "X_train = scaler.fit_transform(X_train)\n",
    "X_test = scaler.transform(X_test)"
   ]
  },
  {
   "cell_type": "markdown",
   "metadata": {
    "colab_type": "text",
    "id": "C-DyUQjoM2oV"
   },
   "source": [
    "Una cantidad de 3 vecinos se utilizó como veremos a continuación:\n",
    "\n"
   ]
  },
  {
   "cell_type": "code",
   "execution_count": 0,
   "metadata": {
    "colab": {
     "base_uri": "https://localhost:8080/",
     "height": 68
    },
    "colab_type": "code",
    "id": "m5-8CfyTHfRD",
    "outputId": "af267919-34ad-4802-9c74-888b4a968246"
   },
   "outputs": [
    {
     "data": {
      "text/plain": [
       "KNeighborsClassifier(algorithm='auto', leaf_size=30, metric='minkowski',\n",
       "                     metric_params=None, n_jobs=None, n_neighbors=3, p=2,\n",
       "                     weights='uniform')"
      ]
     },
     "execution_count": 32,
     "metadata": {
      "tags": []
     },
     "output_type": "execute_result"
    }
   ],
   "source": [
    "n_neighbors = 3\n",
    " \n",
    "knn = KNeighborsClassifier(n_neighbors)\n",
    "knn.fit(X_train, y_train)"
   ]
  },
  {
   "cell_type": "code",
   "execution_count": 0,
   "metadata": {
    "colab": {
     "base_uri": "https://localhost:8080/",
     "height": 51
    },
    "colab_type": "code",
    "id": "8_CP7kQjHfIQ",
    "outputId": "0639da9c-eb8d-4e57-bcee-e422047a1eb0"
   },
   "outputs": [
    {
     "name": "stdout",
     "output_type": "stream",
     "text": [
      "Accuracy of K-NN classifier on training set: 0.57\n",
      "Accuracy of K-NN classifier on test set: 0.50\n"
     ]
    }
   ],
   "source": [
    "print('Accuracy of K-NN classifier on training set: {:.2f}'\n",
    "     .format(knn.score(X_train, y_train)))\n",
    "print('Accuracy of K-NN classifier on test set: {:.2f}'\n",
    "     .format(knn.score(X_test, y_test)))"
   ]
  },
  {
   "cell_type": "markdown",
   "metadata": {
    "colab_type": "text",
    "id": "-QE4nam0OTM9"
   },
   "source": [
    "Como notamos en los valores de accuracy la clasificación no es tan buena. Recordemos que el accuracy indica la proporción de datos que fueron clasificados como se esperaba.\n",
    "\n",
    "Veamos a continuación la matriz de confusión y el reporte de la clasificación."
   ]
  },
  {
   "cell_type": "code",
   "execution_count": 0,
   "metadata": {
    "colab": {},
    "colab_type": "code",
    "id": "Y8HltvPQHexl"
   },
   "outputs": [],
   "source": [
    "y_pred = knn.predict(X_test)"
   ]
  },
  {
   "cell_type": "code",
   "execution_count": 0,
   "metadata": {
    "colab": {
     "base_uri": "https://localhost:8080/",
     "height": 119
    },
    "colab_type": "code",
    "id": "eJtAtbx8Hepj",
    "outputId": "daf7659a-a98e-463a-d4d1-b26f12867ce3"
   },
   "outputs": [
    {
     "name": "stdout",
     "output_type": "stream",
     "text": [
      "[[18955    98  7592   524    55    12]\n",
      " [  183 18162   770  1280  1465  1680]\n",
      " [ 9712  1505 17999  3811   586   173]\n",
      " [ 1780  3436  6354  4477  1334   476]\n",
      " [  498  5106  1810  2027  1307   786]\n",
      " [  160  5643   659  1006   962   838]]\n"
     ]
    }
   ],
   "source": [
    "print(confusion_matrix(y_test, y_pred))  "
   ]
  },
  {
   "cell_type": "code",
   "execution_count": 0,
   "metadata": {
    "colab": {
     "base_uri": "https://localhost:8080/",
     "height": 238
    },
    "colab_type": "code",
    "id": "SGwK4JNZHegq",
    "outputId": "6b8bf538-8e11-4aa3-8aee-05cfd23bceee"
   },
   "outputs": [
    {
     "name": "stdout",
     "output_type": "stream",
     "text": [
      "               precision    recall  f1-score   support\n",
      "\n",
      "     0-1 dias       0.61      0.70      0.65     27236\n",
      "10 o mas dias       0.53      0.77      0.63     23540\n",
      "     2-3 dias       0.51      0.53      0.52     33786\n",
      "     4-5 dias       0.34      0.25      0.29     17857\n",
      "     6-7 dias       0.23      0.11      0.15     11534\n",
      "     8-9 dias       0.21      0.09      0.13      9268\n",
      "\n",
      "     accuracy                           0.50    123221\n",
      "    macro avg       0.41      0.41      0.39    123221\n",
      " weighted avg       0.46      0.50      0.47    123221\n",
      "\n"
     ]
    }
   ],
   "source": [
    "print(classification_report(y_test, y_pred))  "
   ]
  },
  {
   "cell_type": "markdown",
   "metadata": {
    "colab_type": "text",
    "id": "MhVpaGuaTjcW"
   },
   "source": [
    "En el mismo podemos ver,  por cada clase la precisión obtenida por el clasificador. Y el accuracy promedio macro y weighted en 0.41 y 0.46 respectivamente.\n",
    "Ahora intentaremos mostrar una mejor visualización de la matriz de confusión."
   ]
  },
  {
   "cell_type": "code",
   "execution_count": 0,
   "metadata": {
    "colab": {},
    "colab_type": "code",
    "id": "pFgUHXz5IXPU"
   },
   "outputs": [],
   "source": [
    "cm=confusion_matrix(y_test, y_pred)"
   ]
  },
  {
   "cell_type": "code",
   "execution_count": 0,
   "metadata": {
    "colab": {},
    "colab_type": "code",
    "id": "YT1KW87cIXGF"
   },
   "outputs": [],
   "source": [
    "df_cm = pandas.DataFrame(cm, range(6),\n",
    "                  range(6))"
   ]
  },
  {
   "cell_type": "code",
   "execution_count": 0,
   "metadata": {
    "colab": {
     "base_uri": "https://localhost:8080/",
     "height": 51
    },
    "colab_type": "code",
    "id": "05d46vbaJytL",
    "outputId": "ffd752c5-93dd-438f-890c-f4fdc7ab670b"
   },
   "outputs": [
    {
     "data": {
      "text/plain": [
       "array(['0-1 dias', '10 o mas dias', '2-3 dias', '4-5 dias', '6-7 dias',\n",
       "       '8-9 dias'], dtype=object)"
      ]
     },
     "execution_count": 39,
     "metadata": {
      "tags": []
     },
     "output_type": "execute_result"
    }
   ],
   "source": [
    "classes=dataset_clean['shipment_days_byclass'].unique()\n",
    "classes.sort()\n",
    "classes"
   ]
  },
  {
   "cell_type": "code",
   "execution_count": 0,
   "metadata": {
    "colab": {
     "base_uri": "https://localhost:8080/",
     "height": 536
    },
    "colab_type": "code",
    "id": "5vs6Tfg2Ifnv",
    "outputId": "c8faee6a-0049-41ab-cdfe-af68e6188ddc"
   },
   "outputs": [
    {
     "data": {
      "image/png": "[encoded data removed]",
      "text/plain": [
       "<Figure size 864x504 with 2 Axes>"
      ]
     },
     "metadata": {
      "tags": []
     },
     "output_type": "display_data"
    }
   ],
   "source": [
    "plt.figure(figsize=(12,7))\n",
    "seaborn.set(font_scale=1.4)\n",
    "seaborn.heatmap(df_cm, annot=True,annot_kws={\"size\": 15},xticklabels=classes, yticklabels=classes)\n",
    "plt.yticks(rotation=45)\n",
    "plt.xticks(rotation=45)\n",
    "plt.xlabel('Valores predichos')\n",
    "plt.ylabel('Valores correctos')\n",
    "seaborn.despine()"
   ]
  },
  {
   "cell_type": "markdown",
   "metadata": {
    "colab_type": "text",
    "id": "8V9mhb42Z1gV"
   },
   "source": [
    "La matrix de confusión la podemos leer como por ejemplo:\n",
    "\n",
    "En la clase 10 o más días se predijieron 98 valores que corresponden a la clase 0-1 dias.\n",
    "En la clase 6-7 días se predijieron 55 valores que en realidad pertenecen a la clase 0-1 dias.\n",
    "En la clase 8-9 días se predijieron 12 valores, que corresponden a la clase 0-1dias."
   ]
  },
  {
   "cell_type": "markdown",
   "metadata": {
    "colab_type": "text",
    "id": "dVCSPeDRSBCc"
   },
   "source": [
    "Veamos como quedan los clusters:"
   ]
  },
  {
   "cell_type": "code",
   "execution_count": 0,
   "metadata": {
    "colab": {
     "base_uri": "https://localhost:8080/",
     "height": 34
    },
    "colab_type": "code",
    "id": "bfobIAgnVHaK",
    "outputId": "d459dfc6-2375-4c59-91e2-11af71923c0c"
   },
   "outputs": [
    {
     "data": {
      "text/plain": [
       "(492881, 14)"
      ]
     },
     "execution_count": 64,
     "metadata": {
      "tags": []
     },
     "output_type": "execute_result"
    }
   ],
   "source": [
    "dataset_clean.shape"
   ]
  },
  {
   "cell_type": "code",
   "execution_count": 0,
   "metadata": {
    "colab": {},
    "colab_type": "code",
    "id": "6hECD9P6SHtb"
   },
   "outputs": [],
   "source": [
    "X = dataset_clean[[\"service\",\"receiver_zipcode\"]].values.reshape(492881,2)\n",
    "y = dataset_clean[[\"shipment_days_byclass\"]].values"
   ]
  },
  {
   "cell_type": "markdown",
   "metadata": {
    "colab_type": "text",
    "id": "jyTY1uZRSWMj"
   },
   "source": [
    "Necesitamos obtener los colores para la clasificación, lo cual lo sacaremos con el primer caracter:"
   ]
  },
  {
   "cell_type": "code",
   "execution_count": 0,
   "metadata": {
    "colab": {},
    "colab_type": "code",
    "id": "k3exJd5nSTrn"
   },
   "outputs": [],
   "source": [
    "y_c = numpy.zeros(y.size)\n",
    "for i in numpy.arange(y.size):\n",
    "    y_c[i]=y[i][0][0]"
   ]
  },
  {
   "cell_type": "code",
   "execution_count": 0,
   "metadata": {
    "colab": {
     "base_uri": "https://localhost:8080/",
     "height": 569
    },
    "colab_type": "code",
    "id": "5nyHxbOBSxDM",
    "outputId": "a19826ef-f4eb-4f24-f3ed-be2ef00595f3"
   },
   "outputs": [
    {
     "data": {
      "image/png": "[encoded data removed]",
      "text/plain": [
       "<Figure size 432x288 with 1 Axes>"
      ]
     },
     "metadata": {
      "tags": []
     },
     "output_type": "display_data"
    },
    {
     "data": {
      "image/png": "[encoded data removed]",
      "text/plain": [
       "<Figure size 432x288 with 1 Axes>"
      ]
     },
     "metadata": {
      "tags": []
     },
     "output_type": "display_data"
    }
   ],
   "source": [
    "import numpy as np\n",
    "import matplotlib.pyplot as plt\n",
    "from matplotlib.colors import ListedColormap\n",
    "from sklearn import neighbors, datasets\n",
    "\n",
    "n_neighbors = 2\n",
    "\n",
    "# import some data to play with\n",
    "#iris = datasets.load_iris()\n",
    "\n",
    "# we only take the first two features. We could avoid this ugly\n",
    "# slicing by using a two-dim dataset\n",
    "#X = iris.data[:, :2]\n",
    "#y = iris.target\n",
    "\n",
    "h = .2  # step size in the mesh\n",
    "\n",
    "# Create color maps\n",
    "cmap_light = ListedColormap(['#FFAAAA', '#AAFFAA', '#AAAAFF'])\n",
    "cmap_bold = ListedColormap(['#FF0000', '#00FF00', '#0000FF'])\n",
    "\n",
    "for weights in ['uniform', 'distance']:\n",
    "    # we create an instance of Neighbours Classifier and fit the data.\n",
    "    clf = neighbors.KNeighborsClassifier(n_neighbors, weights=weights)\n",
    "    clf.fit(X, y.ravel())\n",
    "\n",
    "    # Plot the decision boundary. For that, we will assign a color to each\n",
    "    # point in the mesh [x_min, x_max]x[y_min, y_max].\n",
    "    x_min, x_max = X[:, 0].min() - 1, X[:, 0].max() + 1\n",
    "    y_min, y_max = X[:, 1].min() - 1, X[:, 1].max() + 1\n",
    "    h1= numpy.absolute(x_max-x_min)/100\n",
    "    h2= numpy.absolute(y_max-y_min)/100\n",
    "    xx, yy = np.meshgrid(np.arange(x_min, x_max, h1),\n",
    "                         np.arange(y_min, y_max, h2))\n",
    "    Z = clf.predict(np.c_[xx.ravel(), yy.ravel()])\n",
    "\n",
    "    # Put the result into a color plot\n",
    "    Z = Z.reshape(xx.shape)\n",
    "    z_c = numpy.zeros((100,100))\n",
    "    for i in numpy.arange(100):\n",
    "        for j in numpy.arange(100):\n",
    "            z_c[i]=Z[i][j][0]     \n",
    "    \n",
    "    plt.figure()\n",
    "    plt.pcolormesh(xx, yy, z_c, cmap=cmap_light)\n",
    "\n",
    "    # Plot also the training points\n",
    "    plt.scatter(X[:, 0], X[:, 1],c=y_c, cmap=cmap_bold,\n",
    "                edgecolor='k', s=20)\n",
    "    plt.xlim(xx.min(), xx.max())\n",
    "    plt.ylim(yy.min(), yy.max())\n",
    "    plt.title(\"3-Class classification (k = %i, weights = '%s')\"\n",
    "              % (n_neighbors, weights))\n",
    "\n",
    "plt.show()"
   ]
  },
  {
   "cell_type": "markdown",
   "metadata": {
    "colab_type": "text",
    "id": "oBGKLnqg34f8"
   },
   "source": [
    "A continuación hacemos seleccionamos otros features (service, receiver_state_le), para ver como se comporta knn."
   ]
  },
  {
   "cell_type": "code",
   "execution_count": 0,
   "metadata": {
    "colab": {},
    "colab_type": "code",
    "id": "KVe6mxfHjAbp"
   },
   "outputs": [],
   "source": [
    "X=dataset_clean[['service','receiver_state_le']]\n",
    "y=dataset_clean['shipment_days_byclass']"
   ]
  },
  {
   "cell_type": "code",
   "execution_count": 0,
   "metadata": {
    "colab": {},
    "colab_type": "code",
    "id": "Z_us-pWNjGPD"
   },
   "outputs": [],
   "source": [
    "X_train, X_test, y_train, y_test = train_test_split(X, y, random_state=0)\n",
    "scaler = MinMaxScaler()\n",
    "X_train = scaler.fit_transform(X_train)\n",
    "X_test = scaler.transform(X_test)"
   ]
  },
  {
   "cell_type": "code",
   "execution_count": 0,
   "metadata": {
    "colab": {
     "base_uri": "https://localhost:8080/",
     "height": 68
    },
    "colab_type": "code",
    "id": "mtV7RS7pjJAa",
    "outputId": "e0d9e884-1d29-4252-bf55-16ce60c77258"
   },
   "outputs": [
    {
     "data": {
      "text/plain": [
       "KNeighborsClassifier(algorithm='auto', leaf_size=30, metric='minkowski',\n",
       "                     metric_params=None, n_jobs=None, n_neighbors=3, p=2,\n",
       "                     weights='uniform')"
      ]
     },
     "execution_count": 43,
     "metadata": {
      "tags": []
     },
     "output_type": "execute_result"
    }
   ],
   "source": [
    "n_neighbors = 3\n",
    " \n",
    "knn = KNeighborsClassifier(n_neighbors)\n",
    "knn.fit(X_train, y_train)"
   ]
  },
  {
   "cell_type": "code",
   "execution_count": 0,
   "metadata": {
    "colab": {
     "base_uri": "https://localhost:8080/",
     "height": 51
    },
    "colab_type": "code",
    "id": "CqUj00_GjLkA",
    "outputId": "9f461a98-9199-42ff-e96d-93f82c28d303"
   },
   "outputs": [
    {
     "name": "stdout",
     "output_type": "stream",
     "text": [
      "Accuracy of K-NN classifier on training set: 0.46\n",
      "Accuracy of K-NN classifier on test set: 0.46\n"
     ]
    }
   ],
   "source": [
    "print('Accuracy of K-NN classifier on training set: {:.2f}'\n",
    "     .format(knn.score(X_train, y_train)))\n",
    "print('Accuracy of K-NN classifier on test set: {:.2f}'\n",
    "     .format(knn.score(X_test, y_test)))"
   ]
  },
  {
   "cell_type": "code",
   "execution_count": 0,
   "metadata": {
    "colab": {},
    "colab_type": "code",
    "id": "yQVP-AIzjOXi"
   },
   "outputs": [],
   "source": [
    "y_pred = knn.predict(X_test)"
   ]
  },
  {
   "cell_type": "code",
   "execution_count": 0,
   "metadata": {
    "colab": {
     "base_uri": "https://localhost:8080/",
     "height": 119
    },
    "colab_type": "code",
    "id": "wFJhJWYCjQ7U",
    "outputId": "50c2aca3-4e64-4b4f-f5bb-cea80206a1e3"
   },
   "outputs": [
    {
     "name": "stdout",
     "output_type": "stream",
     "text": [
      "[[22599    26  3318  1253    29    11]\n",
      " [  278 14265   164  3384  3024  2425]\n",
      " [14719   737  9644  7585   812   289]\n",
      " [ 2718  1520  4305  6117  2237   960]\n",
      " [  758  2904  1143  2862  2446  1421]\n",
      " [  271  3943   314  1602  1884  1254]]\n"
     ]
    }
   ],
   "source": [
    "print(confusion_matrix(y_test, y_pred))  "
   ]
  },
  {
   "cell_type": "code",
   "execution_count": 0,
   "metadata": {
    "colab": {
     "base_uri": "https://localhost:8080/",
     "height": 238
    },
    "colab_type": "code",
    "id": "MwgeJaJ9jUhg",
    "outputId": "22b73edc-951a-4250-9bce-37b67ce3346d"
   },
   "outputs": [
    {
     "name": "stdout",
     "output_type": "stream",
     "text": [
      "               precision    recall  f1-score   support\n",
      "\n",
      "     0-1 dias       0.55      0.83      0.66     27236\n",
      "10 o mas dias       0.61      0.61      0.61     23540\n",
      "     2-3 dias       0.51      0.29      0.37     33786\n",
      "     4-5 dias       0.27      0.34      0.30     17857\n",
      "     6-7 dias       0.23      0.21      0.22     11534\n",
      "     8-9 dias       0.20      0.14      0.16      9268\n",
      "\n",
      "     accuracy                           0.46    123221\n",
      "    macro avg       0.39      0.40      0.39    123221\n",
      " weighted avg       0.45      0.46      0.44    123221\n",
      "\n"
     ]
    }
   ],
   "source": [
    "print(classification_report(y_test, y_pred))  "
   ]
  },
  {
   "cell_type": "code",
   "execution_count": 0,
   "metadata": {
    "colab": {},
    "colab_type": "code",
    "id": "nXdPU4XIjXBD"
   },
   "outputs": [],
   "source": [
    "cm=confusion_matrix(y_test, y_pred)"
   ]
  },
  {
   "cell_type": "code",
   "execution_count": 0,
   "metadata": {
    "colab": {},
    "colab_type": "code",
    "id": "rdenhfWDjaJC"
   },
   "outputs": [],
   "source": [
    "df_cm = pandas.DataFrame(cm, range(6),\n",
    "                  range(6))"
   ]
  },
  {
   "cell_type": "code",
   "execution_count": 0,
   "metadata": {
    "colab": {
     "base_uri": "https://localhost:8080/",
     "height": 51
    },
    "colab_type": "code",
    "id": "eGRDEuqajcr3",
    "outputId": "274f928c-2fb3-423c-9f9b-395c4a74c822"
   },
   "outputs": [
    {
     "data": {
      "text/plain": [
       "array(['0-1 dias', '10 o mas dias', '2-3 dias', '4-5 dias', '6-7 dias',\n",
       "       '8-9 dias'], dtype=object)"
      ]
     },
     "execution_count": 50,
     "metadata": {
      "tags": []
     },
     "output_type": "execute_result"
    }
   ],
   "source": [
    "classes=dataset_clean['shipment_days_byclass'].unique()\n",
    "classes.sort()\n",
    "classes"
   ]
  },
  {
   "cell_type": "code",
   "execution_count": 0,
   "metadata": {
    "colab": {
     "base_uri": "https://localhost:8080/",
     "height": 536
    },
    "colab_type": "code",
    "id": "DLG8yeS8jfj9",
    "outputId": "50adc347-7a86-4247-d0af-aef174b2d087"
   },
   "outputs": [
    {
     "data": {
      "image/png": "[encoded data removed]",
      "text/plain": [
       "<Figure size 864x504 with 2 Axes>"
      ]
     },
     "metadata": {
      "tags": []
     },
     "output_type": "display_data"
    }
   ],
   "source": [
    "plt.figure(figsize=(12,7))\n",
    "seaborn.set(font_scale=1.4)\n",
    "seaborn.heatmap(df_cm, annot=True,annot_kws={\"size\": 15},xticklabels=classes, yticklabels=classes)\n",
    "plt.yticks(rotation=45)\n",
    "plt.xticks(rotation=45)\n",
    "plt.xlabel('Valores predichos')\n",
    "plt.ylabel('Valores correctos')\n",
    "seaborn.despine()\n",
    "\n"
   ]
  },
  {
   "cell_type": "markdown",
   "metadata": {
    "colab_type": "text",
    "id": "Ltzg1xmJPfsU"
   },
   "source": [
    "Y por ultimo probemos con los features service, receiver_state_le y receiver_zipcode para ver si se mejora el accuracy:"
   ]
  },
  {
   "cell_type": "code",
   "execution_count": 0,
   "metadata": {
    "colab": {},
    "colab_type": "code",
    "id": "d0DhkQ-ijiuj"
   },
   "outputs": [],
   "source": [
    "X=dataset_clean[['service','receiver_state_le','receiver_zipcode']]\n",
    "y=dataset_clean['shipment_days_byclass']"
   ]
  },
  {
   "cell_type": "code",
   "execution_count": 0,
   "metadata": {
    "colab": {},
    "colab_type": "code",
    "id": "lIwduBIFj596"
   },
   "outputs": [],
   "source": [
    "X_train, X_test, y_train, y_test = train_test_split(X, y, random_state=0)\n",
    "scaler = MinMaxScaler()\n",
    "X_train = scaler.fit_transform(X_train)\n",
    "X_test = scaler.transform(X_test)"
   ]
  },
  {
   "cell_type": "code",
   "execution_count": 0,
   "metadata": {
    "colab": {
     "base_uri": "https://localhost:8080/",
     "height": 68
    },
    "colab_type": "code",
    "id": "vudZlZSpj9lN",
    "outputId": "bad3a608-17f8-4479-bfa9-d025fa40a014"
   },
   "outputs": [
    {
     "data": {
      "text/plain": [
       "KNeighborsClassifier(algorithm='auto', leaf_size=30, metric='minkowski',\n",
       "                     metric_params=None, n_jobs=None, n_neighbors=3, p=2,\n",
       "                     weights='uniform')"
      ]
     },
     "execution_count": 54,
     "metadata": {
      "tags": []
     },
     "output_type": "execute_result"
    }
   ],
   "source": [
    "n_neighbors = 3\n",
    " \n",
    "knn = KNeighborsClassifier(n_neighbors)\n",
    "knn.fit(X_train, y_train)"
   ]
  },
  {
   "cell_type": "code",
   "execution_count": 0,
   "metadata": {
    "colab": {
     "base_uri": "https://localhost:8080/",
     "height": 51
    },
    "colab_type": "code",
    "id": "kp9OcpVRkni2",
    "outputId": "751dcbab-053f-43d0-db70-16e627dfec60"
   },
   "outputs": [
    {
     "name": "stdout",
     "output_type": "stream",
     "text": [
      "Accuracy of K-NN classifier on training set: 0.57\n",
      "Accuracy of K-NN classifier on test set: 0.50\n"
     ]
    }
   ],
   "source": [
    "print('Accuracy of K-NN classifier on training set: {:.2f}'\n",
    "     .format(knn.score(X_train, y_train)))\n",
    "print('Accuracy of K-NN classifier on test set: {:.2f}'\n",
    "     .format(knn.score(X_test, y_test)))"
   ]
  },
  {
   "cell_type": "code",
   "execution_count": 0,
   "metadata": {
    "colab": {},
    "colab_type": "code",
    "id": "4I_zCPZ6kBIT"
   },
   "outputs": [],
   "source": [
    "y_pred = knn.predict(X_test)"
   ]
  },
  {
   "cell_type": "code",
   "execution_count": 0,
   "metadata": {
    "colab": {
     "base_uri": "https://localhost:8080/",
     "height": 119
    },
    "colab_type": "code",
    "id": "NO6zfxk8kEJB",
    "outputId": "38feffe8-b8ad-4d35-b2d2-194c47aa468b"
   },
   "outputs": [
    {
     "name": "stdout",
     "output_type": "stream",
     "text": [
      "[[18996    94  7550   521    59    16]\n",
      " [  176 17701   853  1326  1587  1897]\n",
      " [ 9767  1517 17979  3731   578   214]\n",
      " [ 1784  3427  6433  4432  1266   515]\n",
      " [  499  4923  1919  2068  1248   877]\n",
      " [  168  5497   755  1010   912   926]]\n"
     ]
    }
   ],
   "source": [
    "print(confusion_matrix(y_test, y_pred))  "
   ]
  },
  {
   "cell_type": "code",
   "execution_count": 0,
   "metadata": {
    "colab": {
     "base_uri": "https://localhost:8080/",
     "height": 238
    },
    "colab_type": "code",
    "id": "WvggVhv4kHAV",
    "outputId": "b6cdf743-1598-494c-c96e-fcc9ac436385"
   },
   "outputs": [
    {
     "name": "stdout",
     "output_type": "stream",
     "text": [
      "               precision    recall  f1-score   support\n",
      "\n",
      "     0-1 dias       0.61      0.70      0.65     27236\n",
      "10 o mas dias       0.53      0.75      0.62     23540\n",
      "     2-3 dias       0.51      0.53      0.52     33786\n",
      "     4-5 dias       0.34      0.25      0.29     17857\n",
      "     6-7 dias       0.22      0.11      0.15     11534\n",
      "     8-9 dias       0.21      0.10      0.14      9268\n",
      "\n",
      "     accuracy                           0.50    123221\n",
      "    macro avg       0.40      0.41      0.39    123221\n",
      " weighted avg       0.46      0.50      0.47    123221\n",
      "\n"
     ]
    }
   ],
   "source": [
    "print(classification_report(y_test, y_pred))  "
   ]
  },
  {
   "cell_type": "code",
   "execution_count": 0,
   "metadata": {
    "colab": {},
    "colab_type": "code",
    "id": "ickl3QrbkK16"
   },
   "outputs": [],
   "source": [
    "cm=confusion_matrix(y_test, y_pred)"
   ]
  },
  {
   "cell_type": "code",
   "execution_count": 0,
   "metadata": {
    "colab": {},
    "colab_type": "code",
    "id": "EADgtlQAkRKR"
   },
   "outputs": [],
   "source": [
    "df_cm = pandas.DataFrame(cm, range(6),\n",
    "                  range(6))"
   ]
  },
  {
   "cell_type": "code",
   "execution_count": 0,
   "metadata": {
    "colab": {
     "base_uri": "https://localhost:8080/",
     "height": 51
    },
    "colab_type": "code",
    "id": "5mN5nP3nkVJN",
    "outputId": "6c6591ca-f291-4954-ebd0-4055e1ecfe06"
   },
   "outputs": [
    {
     "data": {
      "text/plain": [
       "array(['0-1 dias', '10 o mas dias', '2-3 dias', '4-5 dias', '6-7 dias',\n",
       "       '8-9 dias'], dtype=object)"
      ]
     },
     "execution_count": 61,
     "metadata": {
      "tags": []
     },
     "output_type": "execute_result"
    }
   ],
   "source": [
    "classes=dataset_clean['shipment_days_byclass'].unique()\n",
    "classes.sort()\n",
    "classes"
   ]
  },
  {
   "cell_type": "code",
   "execution_count": 0,
   "metadata": {
    "colab": {
     "base_uri": "https://localhost:8080/",
     "height": 536
    },
    "colab_type": "code",
    "id": "lkiRAm4ckY-m",
    "outputId": "819ce313-899c-4b65-fecb-cc929cfd9696"
   },
   "outputs": [
    {
     "data": {
      "image/png": "[encoded data removed]",
      "text/plain": [
       "<Figure size 864x504 with 2 Axes>"
      ]
     },
     "metadata": {
      "tags": []
     },
     "output_type": "display_data"
    }
   ],
   "source": [
    "plt.figure(figsize=(12,7))\n",
    "seaborn.set(font_scale=1.4)\n",
    "seaborn.heatmap(df_cm, annot=True,annot_kws={\"size\": 15},xticklabels=classes, yticklabels=classes)\n",
    "plt.yticks(rotation=45)\n",
    "plt.xticks(rotation=45)\n",
    "plt.xlabel('Valores predichos')\n",
    "plt.ylabel('Valores correctos')\n",
    "seaborn.despine()"
   ]
  },
  {
   "cell_type": "markdown",
   "metadata": {
    "colab_type": "text",
    "id": "z7ignTXwQBpX"
   },
   "source": [
    "Conclusión:\n",
    "En la primera selección de features y en la última estamos obteniendo el mismo accuracy, por ende se podría usar cualquiera de ambas. La segunda al tener un mas bajo accuracy descartamos esa selección de features para un futuro.\n",
    "Igual comparado con otros resultados (de ejemplos de otros data set) consideramos que knn con nuestros datos no estamos obteniendo los resultados esperados. A un futuro podríamos utilizar otros clasificadores automáticos o no."
   ]
  }
 ],
 "metadata": {
  "colab": {
   "collapsed_sections": [],
   "name": "practico2_mentoria.ipynb",
   "provenance": [],
   "version": "0.3.2"
  },
  "kernelspec": {
   "display_name": "Python 3",
   "language": "python",
   "name": "python3"
  },
  "language_info": {
   "codemirror_mode": {
    "name": "ipython",
    "version": 3
   },
   "file_extension": ".py",
   "mimetype": "text/x-python",
   "name": "python",
   "nbconvert_exporter": "python",
   "pygments_lexer": "ipython3",
   "version": "3.6.8"
  }
 },
 "nbformat": 4,
 "nbformat_minor": 1
}
