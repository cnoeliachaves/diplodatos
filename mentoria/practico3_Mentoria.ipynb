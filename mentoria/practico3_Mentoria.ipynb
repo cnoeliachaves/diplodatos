{
  "nbformat": 4,
  "nbformat_minor": 0,
  "metadata": {
    "colab": {
      "name": "practico3-Mentoria.ipynb",
      "provenance": [],
      "collapsed_sections": [],
      "toc_visible": true
    },
    "language_info": {
      "codemirror_mode": {
        "name": "ipython",
        "version": 3
      },
      "file_extension": ".py",
      "mimetype": "text/x-python",
      "name": "python",
      "nbconvert_exporter": "python",
      "pygments_lexer": "ipython3",
      "version": "3.7.1"
    },
    "kernelspec": {
      "display_name": "Python 3",
      "language": "python",
      "name": "python3"
    }
  },
  "cells": [
    {
      "cell_type": "markdown",
      "metadata": {
        "id": "UK2eYuMWUX0P",
        "colab_type": "text"
      },
      "source": [
        "# Logística de envíos: ¿Cuándo llega?\n",
        "\n",
        "## Mentoría DiploDatos 2019 \n",
        "\n",
        "### Integrantes:\n",
        "\n",
        "- Chaves, Noelia\n",
        "- Frau, Johanna\n",
        "\n",
        "### Mentora:\n",
        "\n",
        "- Dal Lago, Virginia\n",
        "\n",
        "### Práctico: Introducción al aprendizaje automático"
      ]
    },
    {
      "cell_type": "markdown",
      "metadata": {
        "id": "DQguL3wiUX0R",
        "colab_type": "text"
      },
      "source": [
        "## Motivación\n",
        "\n",
        "En la actualidad, cada vez más productos se comercializan a través de una plataforma online. Una de las principales ventajas de este sistema es que el usuario puede recibir el producto en su domicilio en una fecha determinada. Pero, ¿cómo sabemos qué día va a llegar? ¿A partir de qué datos podemos predecir la demora del envío? En este práctico se trabajará con datos de envíos de MercadoLibre, el e-commerce más grande de Latinoamérica, analizando y modelando el problema de logística de envíos para poder responder ¿cuándo llega?\n",
        "\n",
        "## Descripción del dataset\n",
        "\n",
        "**Datos:**  El conjunto de datos seleccionado para realizar el práctico corresponde a un muestreo aleatorio no uniforme de 500.000 envíos de MercadoLibre. Estos envíos fueron realizados en Brasil en el período comprendido entre Octubre de 2018 y Abril de 2019 (las fechas originales han sido modificadas y adaptadas a un período de tiempo diferente, conservando el día de la semana y considerando los feriados correspondientes). Mientras que las fechas han sido modificadas, los horarios registrados en el dataset son los originales. Los datos comprenden variables tanto categóricas como numéricas. \n",
        "\n",
        "El dataset cuenta con las siguientes columnas:\n",
        "\n",
        "- **Sender_state:** Estado de Brasil de donde sale el envío.\n",
        "- **Sender_zipcode:** Código postal (de 5 dígitos) de donde sale el envío.\n",
        "- **Receiver_state:** Estado de Brasil a donde llega el envío.\n",
        "- **Receiver_zipcode:** Código postal (de 5 dígitos) a donde llega el envío.\n",
        "- **Shipment_type:** Método de envío (normal, express, super).\n",
        "- **Quantity:** Cantidad de productos en un envío.\n",
        "- **Service:** Servicio del correo con el cual se realizó un envío.\n",
        "- **Status:** Estado del envío (set: listo para ser enviado, sent: enviado, done: entregado, failed: no entregado, cancelled: cancelado).\n",
        "- **Date_created:** Fecha de creación del envío.\n",
        "- **Date_sent:** Fecha y hora en que se realizó el envío (salió del correo).\n",
        "- **Date_visit:** Fecha y hora en que se entregó el envío al destinatario.\n",
        "- **Shipment_days:** Días hábiles entre que el envío fue enviado (salió del correo) y que fue entregado.\n",
        "\n",
        "\n"
      ]
    },
    {
      "cell_type": "markdown",
      "metadata": {
        "id": "6C71choGUX0S",
        "colab_type": "text"
      },
      "source": [
        "## Objetivos generales\n",
        "\n",
        "  * Realizar de manera completa el proceso de desarrollo de un modelo de aprendizaje automático para determinar cuándo llega un envío.\n",
        "  * Desarrollar el conocimiento práctico sobre dicho proceso, desde la definición de los datasets, la elección y análisis del modelo y las métricas propias para la problemática.\n",
        "  * Desarrollar habilidades de comunicación de la información obtenida a partir de los datos de manera clara y sencilla."
      ]
    },
    {
      "cell_type": "markdown",
      "metadata": {
        "id": "IiRvgazNUX0T",
        "colab_type": "text"
      },
      "source": [
        "## Objetivos específicos\n",
        "\n",
        "* Probar diferentes modelos de aprendizaje automático ver cual se comporta mejor con nuestro dataset.\n",
        "* Hacer una partición de los datos que tenga sentido en nuestra problemática.\n",
        "* Seguir analizando cuáles features resultan más importantes en la predicción a realizar."
      ]
    },
    {
      "cell_type": "markdown",
      "metadata": {
        "id": "fr-c3rSLUX0U",
        "colab_type": "text"
      },
      "source": [
        "## Desarrollo del trabajo"
      ]
    },
    {
      "cell_type": "code",
      "metadata": {
        "id": "8PZqZdWOUX0V",
        "colab_type": "code",
        "colab": {}
      },
      "source": [
        "import matplotlib.pyplot as plt\n",
        "import numpy as np\n",
        "import pandas\n",
        "import seaborn as sns\n",
        "\n",
        "\n",
        "from datetime import timedelta\n",
        "from IPython.display import HTML\n",
        "from matplotlib.colors import ListedColormap\n",
        "from scipy import stats\n",
        "from sklearn import preprocessing\n",
        "from sklearn import tree\n",
        "from sklearn.linear_model import LinearRegression, SGDClassifier, LogisticRegression\n",
        "from sklearn.metrics import confusion_matrix, classification_report, accuracy_score, mean_squared_error\n",
        "from sklearn.model_selection import train_test_split, GridSearchCV\n",
        "from sklearn.neighbors import KNeighborsClassifier\n",
        "from sklearn.preprocessing import MinMaxScaler,PolynomialFeatures"
      ],
      "execution_count": 0,
      "outputs": []
    },
    {
      "cell_type": "markdown",
      "metadata": {
        "id": "Jptu3QGeUX0a",
        "colab_type": "text"
      },
      "source": [
        "### Lectura y análisis inicial de los datos"
      ]
    },
    {
      "cell_type": "code",
      "metadata": {
        "id": "S8n6LFm5UX0b",
        "colab_type": "code",
        "outputId": "2c0ef236-a7fe-47a2-828b-1e78e947331f",
        "colab": {
          "base_uri": "https://localhost:8080/",
          "height": 33
        }
      },
      "source": [
        "url = \"https://raw.githubusercontent.com/cnoeliachaves/csv/master/dataset_sample_corrected.csv\"\n",
        "\n",
        "dataset = pandas.read_csv(url, dtype={'sender_zipcode':'int64',\n",
        "                              'receiver_zipcode':'int64',\n",
        "                              'quantity':'int64',\n",
        "                              'service':'int64'},\n",
        "                       parse_dates=['date_created','date_sent','date_visit'])\n",
        "dataset.shape\n"
      ],
      "execution_count": 0,
      "outputs": [
        {
          "output_type": "execute_result",
          "data": {
            "text/plain": [
              "(500000, 12)"
            ]
          },
          "metadata": {
            "tags": []
          },
          "execution_count": 2
        }
      ]
    },
    {
      "cell_type": "code",
      "metadata": {
        "id": "p6Xgk-azUX0f",
        "colab_type": "code",
        "outputId": "b120218f-09eb-4df8-b733-a1e6e6222376",
        "colab": {
          "base_uri": "https://localhost:8080/",
          "height": 83
        }
      },
      "source": [
        "dataset.columns"
      ],
      "execution_count": 0,
      "outputs": [
        {
          "output_type": "execute_result",
          "data": {
            "text/plain": [
              "Index(['sender_state', 'sender_zipcode', 'receiver_state', 'receiver_zipcode',\n",
              "       'shipment_type', 'quantity', 'service', 'status', 'date_created',\n",
              "       'date_sent', 'date_visit', 'shipment_days'],\n",
              "      dtype='object')"
            ]
          },
          "metadata": {
            "tags": []
          },
          "execution_count": 3
        }
      ]
    },
    {
      "cell_type": "code",
      "metadata": {
        "id": "Q2Swl5SvUX0i",
        "colab_type": "code",
        "outputId": "88afb1bf-68b1-433a-9ac0-ef9e6f92a63c",
        "colab": {
          "base_uri": "https://localhost:8080/",
          "height": 300
        }
      },
      "source": [
        "dataset.info()"
      ],
      "execution_count": 0,
      "outputs": [
        {
          "output_type": "stream",
          "text": [
            "<class 'pandas.core.frame.DataFrame'>\n",
            "RangeIndex: 500000 entries, 0 to 499999\n",
            "Data columns (total 12 columns):\n",
            "sender_state        500000 non-null object\n",
            "sender_zipcode      500000 non-null int64\n",
            "receiver_state      500000 non-null object\n",
            "receiver_zipcode    500000 non-null int64\n",
            "shipment_type       500000 non-null object\n",
            "quantity            500000 non-null int64\n",
            "service             500000 non-null int64\n",
            "status              500000 non-null object\n",
            "date_created        500000 non-null datetime64[ns]\n",
            "date_sent           499971 non-null datetime64[ns]\n",
            "date_visit          499398 non-null datetime64[ns]\n",
            "shipment_days       499398 non-null float64\n",
            "dtypes: datetime64[ns](3), float64(1), int64(4), object(4)\n",
            "memory usage: 45.8+ MB\n"
          ],
          "name": "stdout"
        }
      ]
    },
    {
      "cell_type": "code",
      "metadata": {
        "id": "1mz8vwJfUX0l",
        "colab_type": "code",
        "outputId": "50d5a5f7-6fcd-4f63-e1a8-fd634a332cd7",
        "colab": {
          "base_uri": "https://localhost:8080/",
          "height": 534
        }
      },
      "source": [
        "np.random.seed(1234) #con propositos de reproducibilidad\n",
        "dataset.sample(10)"
      ],
      "execution_count": 0,
      "outputs": [
        {
          "output_type": "execute_result",
          "data": {
            "text/html": [
              "<div>\n",
              "<style scoped>\n",
              "    .dataframe tbody tr th:only-of-type {\n",
              "        vertical-align: middle;\n",
              "    }\n",
              "\n",
              "    .dataframe tbody tr th {\n",
              "        vertical-align: top;\n",
              "    }\n",
              "\n",
              "    .dataframe thead th {\n",
              "        text-align: right;\n",
              "    }\n",
              "</style>\n",
              "<table border=\"1\" class=\"dataframe\">\n",
              "  <thead>\n",
              "    <tr style=\"text-align: right;\">\n",
              "      <th></th>\n",
              "      <th>sender_state</th>\n",
              "      <th>sender_zipcode</th>\n",
              "      <th>receiver_state</th>\n",
              "      <th>receiver_zipcode</th>\n",
              "      <th>shipment_type</th>\n",
              "      <th>quantity</th>\n",
              "      <th>service</th>\n",
              "      <th>status</th>\n",
              "      <th>date_created</th>\n",
              "      <th>date_sent</th>\n",
              "      <th>date_visit</th>\n",
              "      <th>shipment_days</th>\n",
              "    </tr>\n",
              "  </thead>\n",
              "  <tbody>\n",
              "    <tr>\n",
              "      <th>459222</th>\n",
              "      <td>SP</td>\n",
              "      <td>4691</td>\n",
              "      <td>PA</td>\n",
              "      <td>68330</td>\n",
              "      <td>standard</td>\n",
              "      <td>1</td>\n",
              "      <td>1</td>\n",
              "      <td>done</td>\n",
              "      <td>2019-02-02</td>\n",
              "      <td>2019-02-05 07:12:00</td>\n",
              "      <td>2019-03-11 16:04:00</td>\n",
              "      <td>21.0</td>\n",
              "    </tr>\n",
              "    <tr>\n",
              "      <th>28619</th>\n",
              "      <td>SP</td>\n",
              "      <td>3017</td>\n",
              "      <td>RS</td>\n",
              "      <td>98130</td>\n",
              "      <td>standard</td>\n",
              "      <td>1</td>\n",
              "      <td>1</td>\n",
              "      <td>done</td>\n",
              "      <td>2019-02-11</td>\n",
              "      <td>2019-02-18 16:17:00</td>\n",
              "      <td>2019-03-14 06:32:00</td>\n",
              "      <td>15.0</td>\n",
              "    </tr>\n",
              "    <tr>\n",
              "      <th>453020</th>\n",
              "      <td>SP</td>\n",
              "      <td>14405</td>\n",
              "      <td>MG</td>\n",
              "      <td>37130</td>\n",
              "      <td>standard</td>\n",
              "      <td>1</td>\n",
              "      <td>2</td>\n",
              "      <td>done</td>\n",
              "      <td>2019-03-05</td>\n",
              "      <td>2019-03-09 04:44:28</td>\n",
              "      <td>2019-03-13 16:07:00</td>\n",
              "      <td>2.0</td>\n",
              "    </tr>\n",
              "    <tr>\n",
              "      <th>16289</th>\n",
              "      <td>SP</td>\n",
              "      <td>4904</td>\n",
              "      <td>SP</td>\n",
              "      <td>15500</td>\n",
              "      <td>express</td>\n",
              "      <td>1</td>\n",
              "      <td>3</td>\n",
              "      <td>done</td>\n",
              "      <td>2019-03-12</td>\n",
              "      <td>2019-03-14 15:09:00</td>\n",
              "      <td>2019-03-20 18:05:00</td>\n",
              "      <td>4.0</td>\n",
              "    </tr>\n",
              "    <tr>\n",
              "      <th>337995</th>\n",
              "      <td>SP</td>\n",
              "      <td>4266</td>\n",
              "      <td>MA</td>\n",
              "      <td>65061</td>\n",
              "      <td>standard</td>\n",
              "      <td>1</td>\n",
              "      <td>4</td>\n",
              "      <td>done</td>\n",
              "      <td>2019-03-13</td>\n",
              "      <td>2019-03-15 01:18:29</td>\n",
              "      <td>2019-03-25 11:17:00</td>\n",
              "      <td>6.0</td>\n",
              "    </tr>\n",
              "    <tr>\n",
              "      <th>232178</th>\n",
              "      <td>SP</td>\n",
              "      <td>13290</td>\n",
              "      <td>SP</td>\n",
              "      <td>6050</td>\n",
              "      <td>super</td>\n",
              "      <td>1</td>\n",
              "      <td>6</td>\n",
              "      <td>done</td>\n",
              "      <td>2019-02-28</td>\n",
              "      <td>2019-03-01 02:25:00</td>\n",
              "      <td>2019-03-07 11:20:37</td>\n",
              "      <td>1.0</td>\n",
              "    </tr>\n",
              "    <tr>\n",
              "      <th>220911</th>\n",
              "      <td>SP</td>\n",
              "      <td>6311</td>\n",
              "      <td>SP</td>\n",
              "      <td>11520</td>\n",
              "      <td>express</td>\n",
              "      <td>1</td>\n",
              "      <td>0</td>\n",
              "      <td>done</td>\n",
              "      <td>2019-03-04</td>\n",
              "      <td>2019-03-06 15:36:00</td>\n",
              "      <td>2019-03-08 18:59:00</td>\n",
              "      <td>1.0</td>\n",
              "    </tr>\n",
              "    <tr>\n",
              "      <th>33028</th>\n",
              "      <td>SP</td>\n",
              "      <td>7803</td>\n",
              "      <td>SP</td>\n",
              "      <td>13503</td>\n",
              "      <td>express</td>\n",
              "      <td>1</td>\n",
              "      <td>0</td>\n",
              "      <td>done</td>\n",
              "      <td>2019-03-08</td>\n",
              "      <td>2019-03-08 17:05:00</td>\n",
              "      <td>2019-03-12 16:01:00</td>\n",
              "      <td>2.0</td>\n",
              "    </tr>\n",
              "    <tr>\n",
              "      <th>35358</th>\n",
              "      <td>SP</td>\n",
              "      <td>1536</td>\n",
              "      <td>PE</td>\n",
              "      <td>56828</td>\n",
              "      <td>standard</td>\n",
              "      <td>1</td>\n",
              "      <td>1</td>\n",
              "      <td>done</td>\n",
              "      <td>2019-03-03</td>\n",
              "      <td>2019-03-05 11:22:46</td>\n",
              "      <td>2019-03-19 13:18:00</td>\n",
              "      <td>8.0</td>\n",
              "    </tr>\n",
              "    <tr>\n",
              "      <th>47950</th>\n",
              "      <td>SP</td>\n",
              "      <td>12322</td>\n",
              "      <td>ES</td>\n",
              "      <td>29680</td>\n",
              "      <td>standard</td>\n",
              "      <td>2</td>\n",
              "      <td>1</td>\n",
              "      <td>done</td>\n",
              "      <td>2019-03-05</td>\n",
              "      <td>2019-03-06 10:34:00</td>\n",
              "      <td>2019-03-18 15:06:00</td>\n",
              "      <td>7.0</td>\n",
              "    </tr>\n",
              "  </tbody>\n",
              "</table>\n",
              "</div>"
            ],
            "text/plain": [
              "       sender_state  sender_zipcode  ...          date_visit  shipment_days\n",
              "459222           SP            4691  ... 2019-03-11 16:04:00           21.0\n",
              "28619            SP            3017  ... 2019-03-14 06:32:00           15.0\n",
              "453020           SP           14405  ... 2019-03-13 16:07:00            2.0\n",
              "16289            SP            4904  ... 2019-03-20 18:05:00            4.0\n",
              "337995           SP            4266  ... 2019-03-25 11:17:00            6.0\n",
              "232178           SP           13290  ... 2019-03-07 11:20:37            1.0\n",
              "220911           SP            6311  ... 2019-03-08 18:59:00            1.0\n",
              "33028            SP            7803  ... 2019-03-12 16:01:00            2.0\n",
              "35358            SP            1536  ... 2019-03-19 13:18:00            8.0\n",
              "47950            SP           12322  ... 2019-03-18 15:06:00            7.0\n",
              "\n",
              "[10 rows x 12 columns]"
            ]
          },
          "metadata": {
            "tags": []
          },
          "execution_count": 5
        }
      ]
    },
    {
      "cell_type": "markdown",
      "metadata": {
        "id": "xPCw0z_hUX0p",
        "colab_type": "text"
      },
      "source": [
        "### Limpieza de datos\n",
        "\n",
        "En esta sección retomaremos algunos puntos del práctico anterior con el objetivo de limpiar nuestro dataset."
      ]
    },
    {
      "cell_type": "markdown",
      "metadata": {
        "id": "y_-ydh1qUX0q",
        "colab_type": "text"
      },
      "source": [
        "#### Shipment day anómalos \n",
        "\n",
        "En primer lugar, eliminaremos los valores de shipment days negativos."
      ]
    },
    {
      "cell_type": "code",
      "metadata": {
        "id": "ftujA2CMUX0r",
        "colab_type": "code",
        "colab": {}
      },
      "source": [
        "def clean_shipment_days(dataset):\n",
        "    \"\"\"Le saco los valores negativos\"\"\"\n",
        "    shipments_days = dataset['shipment_days']\n",
        "    mask = (shipments_days >= 0)\n",
        "    return dataset[mask] "
      ],
      "execution_count": 0,
      "outputs": []
    },
    {
      "cell_type": "code",
      "metadata": {
        "id": "3b-stq_lUX0v",
        "colab_type": "code",
        "colab": {}
      },
      "source": [
        "dataset_clean = clean_shipment_days(dataset)"
      ],
      "execution_count": 0,
      "outputs": []
    },
    {
      "cell_type": "markdown",
      "metadata": {
        "id": "qI7zHvo0UX04",
        "colab_type": "text"
      },
      "source": [
        "####Fechas anómalas\n",
        "\n",
        "En el análisis realizado en el práctico anterior de las 3 variables con información de fechas y horas encontramos que la variable date_created cuenta con valores que caen fuera del intervalo temporal considerado y que todos ellos se encuentran ubicados en el mes de Junio de 2019. Luego de haber realizado una inspección de esta información anómala llegamos a la conclusión que los mismos podrían deberse a un error en el proceso de carga y que en realidad son datos de Enero de 2019. \n",
        "\n",
        "Siguiendo esta idea decidimos en este momento subsanar este posible error de carga haciendo que la información de la variable date_created correspondiente al mes de Junio de 2019 sea ahora del mes de Enero de 2019."
      ]
    },
    {
      "cell_type": "code",
      "metadata": {
        "id": "kI_G2Ya_UX05",
        "colab_type": "code",
        "outputId": "fc466b7d-9880-420b-8b94-81dc1598f7a6",
        "colab": {
          "base_uri": "https://localhost:8080/",
          "height": 1000
        }
      },
      "source": [
        "date_created_junio = dataset_clean[dataset_clean['date_created'].map(lambda x: x.month) == 6]\n",
        "date_created_junio"
      ],
      "execution_count": 0,
      "outputs": [
        {
          "output_type": "execute_result",
          "data": {
            "text/html": [
              "<div>\n",
              "<style scoped>\n",
              "    .dataframe tbody tr th:only-of-type {\n",
              "        vertical-align: middle;\n",
              "    }\n",
              "\n",
              "    .dataframe tbody tr th {\n",
              "        vertical-align: top;\n",
              "    }\n",
              "\n",
              "    .dataframe thead th {\n",
              "        text-align: right;\n",
              "    }\n",
              "</style>\n",
              "<table border=\"1\" class=\"dataframe\">\n",
              "  <thead>\n",
              "    <tr style=\"text-align: right;\">\n",
              "      <th></th>\n",
              "      <th>sender_state</th>\n",
              "      <th>sender_zipcode</th>\n",
              "      <th>receiver_state</th>\n",
              "      <th>receiver_zipcode</th>\n",
              "      <th>shipment_type</th>\n",
              "      <th>quantity</th>\n",
              "      <th>service</th>\n",
              "      <th>status</th>\n",
              "      <th>date_created</th>\n",
              "      <th>date_sent</th>\n",
              "      <th>date_visit</th>\n",
              "      <th>shipment_days</th>\n",
              "    </tr>\n",
              "  </thead>\n",
              "  <tbody>\n",
              "    <tr>\n",
              "      <th>14265</th>\n",
              "      <td>SP</td>\n",
              "      <td>2350</td>\n",
              "      <td>RJ</td>\n",
              "      <td>20261</td>\n",
              "      <td>express</td>\n",
              "      <td>1</td>\n",
              "      <td>7</td>\n",
              "      <td>done</td>\n",
              "      <td>2019-06-27</td>\n",
              "      <td>2019-02-06 05:57:00</td>\n",
              "      <td>2019-03-01 11:31:00</td>\n",
              "      <td>17.0</td>\n",
              "    </tr>\n",
              "    <tr>\n",
              "      <th>18211</th>\n",
              "      <td>SP</td>\n",
              "      <td>7756</td>\n",
              "      <td>SP</td>\n",
              "      <td>13214</td>\n",
              "      <td>express</td>\n",
              "      <td>1</td>\n",
              "      <td>7</td>\n",
              "      <td>done</td>\n",
              "      <td>2019-06-27</td>\n",
              "      <td>2019-02-06 05:00:00</td>\n",
              "      <td>2019-03-01 09:08:00</td>\n",
              "      <td>17.0</td>\n",
              "    </tr>\n",
              "    <tr>\n",
              "      <th>27700</th>\n",
              "      <td>SP</td>\n",
              "      <td>5034</td>\n",
              "      <td>GO</td>\n",
              "      <td>74565</td>\n",
              "      <td>standard</td>\n",
              "      <td>1</td>\n",
              "      <td>7</td>\n",
              "      <td>done</td>\n",
              "      <td>2019-06-26</td>\n",
              "      <td>2019-02-06 10:56:00</td>\n",
              "      <td>2019-03-01 11:54:00</td>\n",
              "      <td>17.0</td>\n",
              "    </tr>\n",
              "    <tr>\n",
              "      <th>28540</th>\n",
              "      <td>SP</td>\n",
              "      <td>9060</td>\n",
              "      <td>MA</td>\n",
              "      <td>65050</td>\n",
              "      <td>standard</td>\n",
              "      <td>1</td>\n",
              "      <td>4</td>\n",
              "      <td>done</td>\n",
              "      <td>2019-06-20</td>\n",
              "      <td>2019-02-06 10:00:00</td>\n",
              "      <td>2019-03-01 12:02:00</td>\n",
              "      <td>17.0</td>\n",
              "    </tr>\n",
              "    <tr>\n",
              "      <th>33158</th>\n",
              "      <td>SP</td>\n",
              "      <td>16204</td>\n",
              "      <td>MG</td>\n",
              "      <td>31910</td>\n",
              "      <td>standard</td>\n",
              "      <td>2</td>\n",
              "      <td>7</td>\n",
              "      <td>done</td>\n",
              "      <td>2019-06-27</td>\n",
              "      <td>2019-02-06 04:03:00</td>\n",
              "      <td>2019-03-01 16:43:00</td>\n",
              "      <td>17.0</td>\n",
              "    </tr>\n",
              "    <tr>\n",
              "      <th>38127</th>\n",
              "      <td>SP</td>\n",
              "      <td>2460</td>\n",
              "      <td>SP</td>\n",
              "      <td>13335</td>\n",
              "      <td>express</td>\n",
              "      <td>1</td>\n",
              "      <td>7</td>\n",
              "      <td>done</td>\n",
              "      <td>2019-06-26</td>\n",
              "      <td>2019-03-06 01:18:00</td>\n",
              "      <td>2019-03-07 14:03:00</td>\n",
              "      <td>0.0</td>\n",
              "    </tr>\n",
              "    <tr>\n",
              "      <th>42758</th>\n",
              "      <td>SP</td>\n",
              "      <td>1042</td>\n",
              "      <td>SP</td>\n",
              "      <td>11070</td>\n",
              "      <td>express</td>\n",
              "      <td>1</td>\n",
              "      <td>4</td>\n",
              "      <td>done</td>\n",
              "      <td>2019-06-25</td>\n",
              "      <td>2019-02-06 05:01:00</td>\n",
              "      <td>2019-03-01 16:09:00</td>\n",
              "      <td>17.0</td>\n",
              "    </tr>\n",
              "    <tr>\n",
              "      <th>43607</th>\n",
              "      <td>SP</td>\n",
              "      <td>6422</td>\n",
              "      <td>RS</td>\n",
              "      <td>91750</td>\n",
              "      <td>standard</td>\n",
              "      <td>1</td>\n",
              "      <td>7</td>\n",
              "      <td>done</td>\n",
              "      <td>2019-06-19</td>\n",
              "      <td>2019-02-06 04:41:00</td>\n",
              "      <td>2019-03-01 14:30:00</td>\n",
              "      <td>17.0</td>\n",
              "    </tr>\n",
              "    <tr>\n",
              "      <th>45731</th>\n",
              "      <td>SP</td>\n",
              "      <td>14405</td>\n",
              "      <td>ES</td>\n",
              "      <td>29164</td>\n",
              "      <td>standard</td>\n",
              "      <td>1</td>\n",
              "      <td>7</td>\n",
              "      <td>done</td>\n",
              "      <td>2019-06-22</td>\n",
              "      <td>2019-03-06 03:02:00</td>\n",
              "      <td>2019-03-07 04:27:00</td>\n",
              "      <td>0.0</td>\n",
              "    </tr>\n",
              "    <tr>\n",
              "      <th>58502</th>\n",
              "      <td>SP</td>\n",
              "      <td>12950</td>\n",
              "      <td>ES</td>\n",
              "      <td>29800</td>\n",
              "      <td>standard</td>\n",
              "      <td>1</td>\n",
              "      <td>7</td>\n",
              "      <td>done</td>\n",
              "      <td>2019-06-25</td>\n",
              "      <td>2019-02-06 04:42:00</td>\n",
              "      <td>2019-03-01 07:29:00</td>\n",
              "      <td>17.0</td>\n",
              "    </tr>\n",
              "    <tr>\n",
              "      <th>60211</th>\n",
              "      <td>SP</td>\n",
              "      <td>14405</td>\n",
              "      <td>DF</td>\n",
              "      <td>71699</td>\n",
              "      <td>standard</td>\n",
              "      <td>1</td>\n",
              "      <td>7</td>\n",
              "      <td>done</td>\n",
              "      <td>2019-06-20</td>\n",
              "      <td>2019-03-06 05:17:00</td>\n",
              "      <td>2019-03-07 13:17:00</td>\n",
              "      <td>0.0</td>\n",
              "    </tr>\n",
              "    <tr>\n",
              "      <th>66197</th>\n",
              "      <td>SP</td>\n",
              "      <td>3064</td>\n",
              "      <td>SP</td>\n",
              "      <td>12250</td>\n",
              "      <td>standard</td>\n",
              "      <td>1</td>\n",
              "      <td>4</td>\n",
              "      <td>failed</td>\n",
              "      <td>2019-06-22</td>\n",
              "      <td>2019-02-06 15:32:00</td>\n",
              "      <td>2019-03-01 07:00:00</td>\n",
              "      <td>17.0</td>\n",
              "    </tr>\n",
              "    <tr>\n",
              "      <th>66531</th>\n",
              "      <td>SP</td>\n",
              "      <td>2465</td>\n",
              "      <td>GO</td>\n",
              "      <td>74710</td>\n",
              "      <td>standard</td>\n",
              "      <td>1</td>\n",
              "      <td>7</td>\n",
              "      <td>done</td>\n",
              "      <td>2019-06-25</td>\n",
              "      <td>2019-03-06 04:53:00</td>\n",
              "      <td>2019-03-07 06:29:00</td>\n",
              "      <td>0.0</td>\n",
              "    </tr>\n",
              "    <tr>\n",
              "      <th>68194</th>\n",
              "      <td>SP</td>\n",
              "      <td>14405</td>\n",
              "      <td>DF</td>\n",
              "      <td>71699</td>\n",
              "      <td>standard</td>\n",
              "      <td>1</td>\n",
              "      <td>7</td>\n",
              "      <td>done</td>\n",
              "      <td>2019-06-20</td>\n",
              "      <td>2019-03-06 05:17:00</td>\n",
              "      <td>2019-03-07 13:17:00</td>\n",
              "      <td>0.0</td>\n",
              "    </tr>\n",
              "    <tr>\n",
              "      <th>69523</th>\n",
              "      <td>SP</td>\n",
              "      <td>14405</td>\n",
              "      <td>RJ</td>\n",
              "      <td>26553</td>\n",
              "      <td>standard</td>\n",
              "      <td>1</td>\n",
              "      <td>4</td>\n",
              "      <td>failed</td>\n",
              "      <td>2019-06-28</td>\n",
              "      <td>2019-02-06 03:47:00</td>\n",
              "      <td>2019-03-01 13:23:00</td>\n",
              "      <td>17.0</td>\n",
              "    </tr>\n",
              "    <tr>\n",
              "      <th>73186</th>\n",
              "      <td>SP</td>\n",
              "      <td>8773</td>\n",
              "      <td>MG</td>\n",
              "      <td>39510</td>\n",
              "      <td>standard</td>\n",
              "      <td>1</td>\n",
              "      <td>7</td>\n",
              "      <td>done</td>\n",
              "      <td>2019-06-24</td>\n",
              "      <td>2019-01-06 05:20:00</td>\n",
              "      <td>2019-03-01 14:30:00</td>\n",
              "      <td>38.0</td>\n",
              "    </tr>\n",
              "    <tr>\n",
              "      <th>76717</th>\n",
              "      <td>SP</td>\n",
              "      <td>12950</td>\n",
              "      <td>PR</td>\n",
              "      <td>85530</td>\n",
              "      <td>standard</td>\n",
              "      <td>1</td>\n",
              "      <td>7</td>\n",
              "      <td>done</td>\n",
              "      <td>2019-06-25</td>\n",
              "      <td>2019-03-06 11:46:00</td>\n",
              "      <td>2019-03-07 14:55:00</td>\n",
              "      <td>0.0</td>\n",
              "    </tr>\n",
              "    <tr>\n",
              "      <th>77370</th>\n",
              "      <td>SP</td>\n",
              "      <td>2066</td>\n",
              "      <td>SP</td>\n",
              "      <td>7272</td>\n",
              "      <td>express</td>\n",
              "      <td>2</td>\n",
              "      <td>7</td>\n",
              "      <td>done</td>\n",
              "      <td>2019-06-28</td>\n",
              "      <td>2019-02-06 02:55:00</td>\n",
              "      <td>2019-02-28 23:27:00</td>\n",
              "      <td>16.0</td>\n",
              "    </tr>\n",
              "    <tr>\n",
              "      <th>89064</th>\n",
              "      <td>SP</td>\n",
              "      <td>9961</td>\n",
              "      <td>PE</td>\n",
              "      <td>51310</td>\n",
              "      <td>standard</td>\n",
              "      <td>2</td>\n",
              "      <td>4</td>\n",
              "      <td>done</td>\n",
              "      <td>2019-06-17</td>\n",
              "      <td>2019-03-06 13:00:00</td>\n",
              "      <td>2019-03-07 13:22:00</td>\n",
              "      <td>0.0</td>\n",
              "    </tr>\n",
              "    <tr>\n",
              "      <th>89842</th>\n",
              "      <td>SP</td>\n",
              "      <td>6422</td>\n",
              "      <td>CE</td>\n",
              "      <td>60833</td>\n",
              "      <td>standard</td>\n",
              "      <td>1</td>\n",
              "      <td>4</td>\n",
              "      <td>done</td>\n",
              "      <td>2019-06-14</td>\n",
              "      <td>2019-03-06 11:42:00</td>\n",
              "      <td>2019-03-07 11:42:00</td>\n",
              "      <td>0.0</td>\n",
              "    </tr>\n",
              "    <tr>\n",
              "      <th>93661</th>\n",
              "      <td>SP</td>\n",
              "      <td>13920</td>\n",
              "      <td>SC</td>\n",
              "      <td>89251</td>\n",
              "      <td>standard</td>\n",
              "      <td>4</td>\n",
              "      <td>4</td>\n",
              "      <td>failed</td>\n",
              "      <td>2019-06-20</td>\n",
              "      <td>2019-03-06 11:00:00</td>\n",
              "      <td>2019-03-07 11:15:00</td>\n",
              "      <td>0.0</td>\n",
              "    </tr>\n",
              "    <tr>\n",
              "      <th>98843</th>\n",
              "      <td>SP</td>\n",
              "      <td>3064</td>\n",
              "      <td>TO</td>\n",
              "      <td>77018</td>\n",
              "      <td>standard</td>\n",
              "      <td>1</td>\n",
              "      <td>7</td>\n",
              "      <td>done</td>\n",
              "      <td>2019-06-13</td>\n",
              "      <td>2019-03-06 04:50:00</td>\n",
              "      <td>2019-03-07 07:28:00</td>\n",
              "      <td>0.0</td>\n",
              "    </tr>\n",
              "    <tr>\n",
              "      <th>110224</th>\n",
              "      <td>SP</td>\n",
              "      <td>13160</td>\n",
              "      <td>RS</td>\n",
              "      <td>95098</td>\n",
              "      <td>standard</td>\n",
              "      <td>1</td>\n",
              "      <td>7</td>\n",
              "      <td>done</td>\n",
              "      <td>2019-06-24</td>\n",
              "      <td>2019-02-06 05:18:00</td>\n",
              "      <td>2019-03-01 09:53:00</td>\n",
              "      <td>17.0</td>\n",
              "    </tr>\n",
              "    <tr>\n",
              "      <th>115505</th>\n",
              "      <td>SP</td>\n",
              "      <td>1536</td>\n",
              "      <td>SP</td>\n",
              "      <td>11055</td>\n",
              "      <td>express</td>\n",
              "      <td>1</td>\n",
              "      <td>7</td>\n",
              "      <td>done</td>\n",
              "      <td>2019-06-03</td>\n",
              "      <td>2019-02-06 04:51:00</td>\n",
              "      <td>2019-03-01 08:17:00</td>\n",
              "      <td>17.0</td>\n",
              "    </tr>\n",
              "    <tr>\n",
              "      <th>124780</th>\n",
              "      <td>SP</td>\n",
              "      <td>5307</td>\n",
              "      <td>ES</td>\n",
              "      <td>29117</td>\n",
              "      <td>standard</td>\n",
              "      <td>1</td>\n",
              "      <td>7</td>\n",
              "      <td>done</td>\n",
              "      <td>2019-06-26</td>\n",
              "      <td>2019-02-06 04:57:00</td>\n",
              "      <td>2019-03-01 11:20:00</td>\n",
              "      <td>17.0</td>\n",
              "    </tr>\n",
              "    <tr>\n",
              "      <th>128108</th>\n",
              "      <td>SP</td>\n",
              "      <td>3064</td>\n",
              "      <td>MT</td>\n",
              "      <td>78088</td>\n",
              "      <td>standard</td>\n",
              "      <td>1</td>\n",
              "      <td>4</td>\n",
              "      <td>failed</td>\n",
              "      <td>2019-06-15</td>\n",
              "      <td>2019-02-06 06:13:00</td>\n",
              "      <td>2019-03-01 13:44:00</td>\n",
              "      <td>17.0</td>\n",
              "    </tr>\n",
              "    <tr>\n",
              "      <th>132631</th>\n",
              "      <td>SP</td>\n",
              "      <td>16204</td>\n",
              "      <td>RJ</td>\n",
              "      <td>20050</td>\n",
              "      <td>standard</td>\n",
              "      <td>1</td>\n",
              "      <td>7</td>\n",
              "      <td>done</td>\n",
              "      <td>2019-06-27</td>\n",
              "      <td>2019-02-06 06:21:00</td>\n",
              "      <td>2019-03-01 18:01:00</td>\n",
              "      <td>17.0</td>\n",
              "    </tr>\n",
              "    <tr>\n",
              "      <th>136249</th>\n",
              "      <td>SP</td>\n",
              "      <td>12950</td>\n",
              "      <td>PE</td>\n",
              "      <td>51030</td>\n",
              "      <td>standard</td>\n",
              "      <td>1</td>\n",
              "      <td>4</td>\n",
              "      <td>failed</td>\n",
              "      <td>2019-06-19</td>\n",
              "      <td>2019-02-06 09:48:00</td>\n",
              "      <td>2019-03-01 02:41:00</td>\n",
              "      <td>17.0</td>\n",
              "    </tr>\n",
              "    <tr>\n",
              "      <th>150091</th>\n",
              "      <td>SP</td>\n",
              "      <td>2064</td>\n",
              "      <td>RJ</td>\n",
              "      <td>20260</td>\n",
              "      <td>standard</td>\n",
              "      <td>1</td>\n",
              "      <td>7</td>\n",
              "      <td>done</td>\n",
              "      <td>2019-06-27</td>\n",
              "      <td>2019-02-06 05:57:00</td>\n",
              "      <td>2019-03-01 11:32:00</td>\n",
              "      <td>17.0</td>\n",
              "    </tr>\n",
              "    <tr>\n",
              "      <th>152487</th>\n",
              "      <td>SP</td>\n",
              "      <td>7411</td>\n",
              "      <td>RJ</td>\n",
              "      <td>22783</td>\n",
              "      <td>standard</td>\n",
              "      <td>1</td>\n",
              "      <td>7</td>\n",
              "      <td>done</td>\n",
              "      <td>2019-06-27</td>\n",
              "      <td>2019-02-06 05:59:00</td>\n",
              "      <td>2019-03-01 10:45:00</td>\n",
              "      <td>17.0</td>\n",
              "    </tr>\n",
              "    <tr>\n",
              "      <th>...</th>\n",
              "      <td>...</td>\n",
              "      <td>...</td>\n",
              "      <td>...</td>\n",
              "      <td>...</td>\n",
              "      <td>...</td>\n",
              "      <td>...</td>\n",
              "      <td>...</td>\n",
              "      <td>...</td>\n",
              "      <td>...</td>\n",
              "      <td>...</td>\n",
              "      <td>...</td>\n",
              "      <td>...</td>\n",
              "    </tr>\n",
              "    <tr>\n",
              "      <th>349507</th>\n",
              "      <td>SP</td>\n",
              "      <td>9780</td>\n",
              "      <td>RJ</td>\n",
              "      <td>21710</td>\n",
              "      <td>standard</td>\n",
              "      <td>1</td>\n",
              "      <td>7</td>\n",
              "      <td>done</td>\n",
              "      <td>2019-06-17</td>\n",
              "      <td>2019-02-06 03:52:00</td>\n",
              "      <td>2019-03-01 14:05:00</td>\n",
              "      <td>17.0</td>\n",
              "    </tr>\n",
              "    <tr>\n",
              "      <th>352388</th>\n",
              "      <td>SP</td>\n",
              "      <td>1224</td>\n",
              "      <td>SP</td>\n",
              "      <td>14940</td>\n",
              "      <td>standard</td>\n",
              "      <td>1</td>\n",
              "      <td>4</td>\n",
              "      <td>done</td>\n",
              "      <td>2019-06-25</td>\n",
              "      <td>2019-02-06 11:59:00</td>\n",
              "      <td>2019-03-01 11:02:00</td>\n",
              "      <td>17.0</td>\n",
              "    </tr>\n",
              "    <tr>\n",
              "      <th>353172</th>\n",
              "      <td>SP</td>\n",
              "      <td>7411</td>\n",
              "      <td>SP</td>\n",
              "      <td>12323</td>\n",
              "      <td>express</td>\n",
              "      <td>1</td>\n",
              "      <td>7</td>\n",
              "      <td>failed</td>\n",
              "      <td>2019-06-03</td>\n",
              "      <td>2019-03-06 08:22:00</td>\n",
              "      <td>2019-03-07 08:22:00</td>\n",
              "      <td>0.0</td>\n",
              "    </tr>\n",
              "    <tr>\n",
              "      <th>357102</th>\n",
              "      <td>SP</td>\n",
              "      <td>15820</td>\n",
              "      <td>MS</td>\n",
              "      <td>79011</td>\n",
              "      <td>express</td>\n",
              "      <td>2</td>\n",
              "      <td>7</td>\n",
              "      <td>done</td>\n",
              "      <td>2019-06-18</td>\n",
              "      <td>2019-02-06 11:34:00</td>\n",
              "      <td>2019-03-01 13:28:00</td>\n",
              "      <td>17.0</td>\n",
              "    </tr>\n",
              "    <tr>\n",
              "      <th>357509</th>\n",
              "      <td>SP</td>\n",
              "      <td>9290</td>\n",
              "      <td>RS</td>\n",
              "      <td>95150</td>\n",
              "      <td>standard</td>\n",
              "      <td>1</td>\n",
              "      <td>7</td>\n",
              "      <td>done</td>\n",
              "      <td>2019-06-24</td>\n",
              "      <td>2019-02-06 04:39:00</td>\n",
              "      <td>2019-03-01 10:04:00</td>\n",
              "      <td>17.0</td>\n",
              "    </tr>\n",
              "    <tr>\n",
              "      <th>358087</th>\n",
              "      <td>SP</td>\n",
              "      <td>2950</td>\n",
              "      <td>RJ</td>\n",
              "      <td>28025</td>\n",
              "      <td>standard</td>\n",
              "      <td>1</td>\n",
              "      <td>7</td>\n",
              "      <td>done</td>\n",
              "      <td>2019-06-23</td>\n",
              "      <td>2019-01-06 05:00:00</td>\n",
              "      <td>2019-03-01 10:00:00</td>\n",
              "      <td>38.0</td>\n",
              "    </tr>\n",
              "    <tr>\n",
              "      <th>366896</th>\n",
              "      <td>SP</td>\n",
              "      <td>17512</td>\n",
              "      <td>GO</td>\n",
              "      <td>74015</td>\n",
              "      <td>standard</td>\n",
              "      <td>1</td>\n",
              "      <td>7</td>\n",
              "      <td>done</td>\n",
              "      <td>2019-06-25</td>\n",
              "      <td>2019-02-06 12:20:00</td>\n",
              "      <td>2019-03-01 06:40:00</td>\n",
              "      <td>17.0</td>\n",
              "    </tr>\n",
              "    <tr>\n",
              "      <th>402015</th>\n",
              "      <td>SP</td>\n",
              "      <td>9360</td>\n",
              "      <td>RJ</td>\n",
              "      <td>22411</td>\n",
              "      <td>express</td>\n",
              "      <td>1</td>\n",
              "      <td>7</td>\n",
              "      <td>done</td>\n",
              "      <td>2019-06-27</td>\n",
              "      <td>2019-02-06 06:24:00</td>\n",
              "      <td>2019-03-01 16:04:00</td>\n",
              "      <td>17.0</td>\n",
              "    </tr>\n",
              "    <tr>\n",
              "      <th>403246</th>\n",
              "      <td>SP</td>\n",
              "      <td>4186</td>\n",
              "      <td>RJ</td>\n",
              "      <td>22630</td>\n",
              "      <td>standard</td>\n",
              "      <td>1</td>\n",
              "      <td>7</td>\n",
              "      <td>done</td>\n",
              "      <td>2019-06-28</td>\n",
              "      <td>2019-02-06 03:44:00</td>\n",
              "      <td>2019-03-01 08:15:00</td>\n",
              "      <td>17.0</td>\n",
              "    </tr>\n",
              "    <tr>\n",
              "      <th>403511</th>\n",
              "      <td>SP</td>\n",
              "      <td>9060</td>\n",
              "      <td>MA</td>\n",
              "      <td>65050</td>\n",
              "      <td>standard</td>\n",
              "      <td>1</td>\n",
              "      <td>4</td>\n",
              "      <td>done</td>\n",
              "      <td>2019-06-20</td>\n",
              "      <td>2019-02-06 10:00:00</td>\n",
              "      <td>2019-03-01 12:02:00</td>\n",
              "      <td>17.0</td>\n",
              "    </tr>\n",
              "    <tr>\n",
              "      <th>406223</th>\n",
              "      <td>SP</td>\n",
              "      <td>13466</td>\n",
              "      <td>CE</td>\n",
              "      <td>60311</td>\n",
              "      <td>standard</td>\n",
              "      <td>1</td>\n",
              "      <td>7</td>\n",
              "      <td>done</td>\n",
              "      <td>2019-06-18</td>\n",
              "      <td>2019-03-06 10:07:00</td>\n",
              "      <td>2019-03-07 10:10:00</td>\n",
              "      <td>0.0</td>\n",
              "    </tr>\n",
              "    <tr>\n",
              "      <th>408164</th>\n",
              "      <td>SP</td>\n",
              "      <td>16204</td>\n",
              "      <td>MG</td>\n",
              "      <td>38413</td>\n",
              "      <td>standard</td>\n",
              "      <td>1</td>\n",
              "      <td>7</td>\n",
              "      <td>done</td>\n",
              "      <td>2019-06-27</td>\n",
              "      <td>2019-02-06 03:57:00</td>\n",
              "      <td>2019-03-01 04:47:00</td>\n",
              "      <td>17.0</td>\n",
              "    </tr>\n",
              "    <tr>\n",
              "      <th>415973</th>\n",
              "      <td>SP</td>\n",
              "      <td>2950</td>\n",
              "      <td>RS</td>\n",
              "      <td>96835</td>\n",
              "      <td>standard</td>\n",
              "      <td>1</td>\n",
              "      <td>7</td>\n",
              "      <td>done</td>\n",
              "      <td>2019-06-10</td>\n",
              "      <td>2019-03-06 03:56:00</td>\n",
              "      <td>2019-03-07 04:02:00</td>\n",
              "      <td>0.0</td>\n",
              "    </tr>\n",
              "    <tr>\n",
              "      <th>417039</th>\n",
              "      <td>SP</td>\n",
              "      <td>9195</td>\n",
              "      <td>SP</td>\n",
              "      <td>14020</td>\n",
              "      <td>express</td>\n",
              "      <td>1</td>\n",
              "      <td>7</td>\n",
              "      <td>done</td>\n",
              "      <td>2019-06-26</td>\n",
              "      <td>2019-02-06 02:15:00</td>\n",
              "      <td>2019-03-01 11:12:00</td>\n",
              "      <td>17.0</td>\n",
              "    </tr>\n",
              "    <tr>\n",
              "      <th>420117</th>\n",
              "      <td>SP</td>\n",
              "      <td>16204</td>\n",
              "      <td>RJ</td>\n",
              "      <td>20050</td>\n",
              "      <td>standard</td>\n",
              "      <td>1</td>\n",
              "      <td>7</td>\n",
              "      <td>done</td>\n",
              "      <td>2019-06-27</td>\n",
              "      <td>2019-02-06 06:21:00</td>\n",
              "      <td>2019-03-01 18:01:00</td>\n",
              "      <td>17.0</td>\n",
              "    </tr>\n",
              "    <tr>\n",
              "      <th>420767</th>\n",
              "      <td>SP</td>\n",
              "      <td>3165</td>\n",
              "      <td>RS</td>\n",
              "      <td>90040</td>\n",
              "      <td>standard</td>\n",
              "      <td>2</td>\n",
              "      <td>7</td>\n",
              "      <td>done</td>\n",
              "      <td>2019-06-27</td>\n",
              "      <td>2019-02-06 14:36:00</td>\n",
              "      <td>2019-03-01 12:25:00</td>\n",
              "      <td>17.0</td>\n",
              "    </tr>\n",
              "    <tr>\n",
              "      <th>434496</th>\n",
              "      <td>SP</td>\n",
              "      <td>14405</td>\n",
              "      <td>MS</td>\n",
              "      <td>79010</td>\n",
              "      <td>standard</td>\n",
              "      <td>1</td>\n",
              "      <td>7</td>\n",
              "      <td>done</td>\n",
              "      <td>2019-06-17</td>\n",
              "      <td>2019-02-06 12:22:00</td>\n",
              "      <td>2019-03-01 13:28:00</td>\n",
              "      <td>17.0</td>\n",
              "    </tr>\n",
              "    <tr>\n",
              "      <th>444764</th>\n",
              "      <td>SP</td>\n",
              "      <td>2950</td>\n",
              "      <td>ES</td>\n",
              "      <td>29118</td>\n",
              "      <td>standard</td>\n",
              "      <td>1</td>\n",
              "      <td>7</td>\n",
              "      <td>done</td>\n",
              "      <td>2019-06-27</td>\n",
              "      <td>2019-02-06 05:03:00</td>\n",
              "      <td>2019-03-01 07:57:00</td>\n",
              "      <td>17.0</td>\n",
              "    </tr>\n",
              "    <tr>\n",
              "      <th>448671</th>\n",
              "      <td>SP</td>\n",
              "      <td>2180</td>\n",
              "      <td>RJ</td>\n",
              "      <td>22040</td>\n",
              "      <td>standard</td>\n",
              "      <td>2</td>\n",
              "      <td>7</td>\n",
              "      <td>done</td>\n",
              "      <td>2019-06-28</td>\n",
              "      <td>2019-01-06 19:46:00</td>\n",
              "      <td>2019-03-01 11:19:00</td>\n",
              "      <td>38.0</td>\n",
              "    </tr>\n",
              "    <tr>\n",
              "      <th>449028</th>\n",
              "      <td>SP</td>\n",
              "      <td>9861</td>\n",
              "      <td>RJ</td>\n",
              "      <td>24240</td>\n",
              "      <td>standard</td>\n",
              "      <td>1</td>\n",
              "      <td>7</td>\n",
              "      <td>done</td>\n",
              "      <td>2019-06-25</td>\n",
              "      <td>2019-02-06 06:03:00</td>\n",
              "      <td>2019-03-01 10:52:00</td>\n",
              "      <td>17.0</td>\n",
              "    </tr>\n",
              "    <tr>\n",
              "      <th>457368</th>\n",
              "      <td>SP</td>\n",
              "      <td>14095</td>\n",
              "      <td>GO</td>\n",
              "      <td>74150</td>\n",
              "      <td>standard</td>\n",
              "      <td>2</td>\n",
              "      <td>7</td>\n",
              "      <td>done</td>\n",
              "      <td>2019-06-24</td>\n",
              "      <td>2019-02-06 13:50:00</td>\n",
              "      <td>2019-03-01 10:49:00</td>\n",
              "      <td>17.0</td>\n",
              "    </tr>\n",
              "    <tr>\n",
              "      <th>461564</th>\n",
              "      <td>SP</td>\n",
              "      <td>3989</td>\n",
              "      <td>ES</td>\n",
              "      <td>29100</td>\n",
              "      <td>express</td>\n",
              "      <td>1</td>\n",
              "      <td>4</td>\n",
              "      <td>done</td>\n",
              "      <td>2019-06-27</td>\n",
              "      <td>2019-02-06 04:07:00</td>\n",
              "      <td>2019-03-01 07:11:00</td>\n",
              "      <td>17.0</td>\n",
              "    </tr>\n",
              "    <tr>\n",
              "      <th>463948</th>\n",
              "      <td>SP</td>\n",
              "      <td>3375</td>\n",
              "      <td>ES</td>\n",
              "      <td>29160</td>\n",
              "      <td>standard</td>\n",
              "      <td>2</td>\n",
              "      <td>7</td>\n",
              "      <td>done</td>\n",
              "      <td>2019-06-26</td>\n",
              "      <td>2019-03-06 03:02:00</td>\n",
              "      <td>2019-03-07 06:26:00</td>\n",
              "      <td>0.0</td>\n",
              "    </tr>\n",
              "    <tr>\n",
              "      <th>465242</th>\n",
              "      <td>SP</td>\n",
              "      <td>2950</td>\n",
              "      <td>SC</td>\n",
              "      <td>88107</td>\n",
              "      <td>standard</td>\n",
              "      <td>4</td>\n",
              "      <td>7</td>\n",
              "      <td>done</td>\n",
              "      <td>2019-06-22</td>\n",
              "      <td>2019-03-06 03:06:00</td>\n",
              "      <td>2019-03-07 10:13:00</td>\n",
              "      <td>0.0</td>\n",
              "    </tr>\n",
              "    <tr>\n",
              "      <th>469600</th>\n",
              "      <td>SP</td>\n",
              "      <td>9260</td>\n",
              "      <td>DF</td>\n",
              "      <td>71900</td>\n",
              "      <td>express</td>\n",
              "      <td>1</td>\n",
              "      <td>7</td>\n",
              "      <td>done</td>\n",
              "      <td>2019-06-22</td>\n",
              "      <td>2019-03-06 06:36:00</td>\n",
              "      <td>2019-03-07 14:28:00</td>\n",
              "      <td>0.0</td>\n",
              "    </tr>\n",
              "    <tr>\n",
              "      <th>476406</th>\n",
              "      <td>SP</td>\n",
              "      <td>3106</td>\n",
              "      <td>SP</td>\n",
              "      <td>13212</td>\n",
              "      <td>express</td>\n",
              "      <td>2</td>\n",
              "      <td>7</td>\n",
              "      <td>done</td>\n",
              "      <td>2019-06-27</td>\n",
              "      <td>2019-02-06 05:24:00</td>\n",
              "      <td>2019-03-01 06:40:00</td>\n",
              "      <td>17.0</td>\n",
              "    </tr>\n",
              "    <tr>\n",
              "      <th>477031</th>\n",
              "      <td>SP</td>\n",
              "      <td>3064</td>\n",
              "      <td>TO</td>\n",
              "      <td>77018</td>\n",
              "      <td>standard</td>\n",
              "      <td>1</td>\n",
              "      <td>7</td>\n",
              "      <td>done</td>\n",
              "      <td>2019-06-13</td>\n",
              "      <td>2019-03-06 04:50:00</td>\n",
              "      <td>2019-03-07 07:28:00</td>\n",
              "      <td>0.0</td>\n",
              "    </tr>\n",
              "    <tr>\n",
              "      <th>491472</th>\n",
              "      <td>SP</td>\n",
              "      <td>14405</td>\n",
              "      <td>GO</td>\n",
              "      <td>74565</td>\n",
              "      <td>standard</td>\n",
              "      <td>1</td>\n",
              "      <td>7</td>\n",
              "      <td>done</td>\n",
              "      <td>2019-06-22</td>\n",
              "      <td>2019-02-06 04:21:00</td>\n",
              "      <td>2019-03-01 11:57:00</td>\n",
              "      <td>17.0</td>\n",
              "    </tr>\n",
              "    <tr>\n",
              "      <th>492207</th>\n",
              "      <td>SP</td>\n",
              "      <td>9090</td>\n",
              "      <td>AM</td>\n",
              "      <td>69088</td>\n",
              "      <td>standard</td>\n",
              "      <td>1</td>\n",
              "      <td>10</td>\n",
              "      <td>failed</td>\n",
              "      <td>2019-06-02</td>\n",
              "      <td>2019-03-06 06:48:00</td>\n",
              "      <td>2019-03-07 15:25:00</td>\n",
              "      <td>0.0</td>\n",
              "    </tr>\n",
              "    <tr>\n",
              "      <th>498132</th>\n",
              "      <td>SP</td>\n",
              "      <td>7429</td>\n",
              "      <td>ES</td>\n",
              "      <td>29100</td>\n",
              "      <td>standard</td>\n",
              "      <td>1</td>\n",
              "      <td>7</td>\n",
              "      <td>done</td>\n",
              "      <td>2019-06-28</td>\n",
              "      <td>2019-02-06 05:06:00</td>\n",
              "      <td>2019-03-01 06:05:00</td>\n",
              "      <td>17.0</td>\n",
              "    </tr>\n",
              "  </tbody>\n",
              "</table>\n",
              "<p>98 rows × 12 columns</p>\n",
              "</div>"
            ],
            "text/plain": [
              "       sender_state  sender_zipcode  ...          date_visit  shipment_days\n",
              "14265            SP            2350  ... 2019-03-01 11:31:00           17.0\n",
              "18211            SP            7756  ... 2019-03-01 09:08:00           17.0\n",
              "27700            SP            5034  ... 2019-03-01 11:54:00           17.0\n",
              "28540            SP            9060  ... 2019-03-01 12:02:00           17.0\n",
              "33158            SP           16204  ... 2019-03-01 16:43:00           17.0\n",
              "38127            SP            2460  ... 2019-03-07 14:03:00            0.0\n",
              "42758            SP            1042  ... 2019-03-01 16:09:00           17.0\n",
              "43607            SP            6422  ... 2019-03-01 14:30:00           17.0\n",
              "45731            SP           14405  ... 2019-03-07 04:27:00            0.0\n",
              "58502            SP           12950  ... 2019-03-01 07:29:00           17.0\n",
              "60211            SP           14405  ... 2019-03-07 13:17:00            0.0\n",
              "66197            SP            3064  ... 2019-03-01 07:00:00           17.0\n",
              "66531            SP            2465  ... 2019-03-07 06:29:00            0.0\n",
              "68194            SP           14405  ... 2019-03-07 13:17:00            0.0\n",
              "69523            SP           14405  ... 2019-03-01 13:23:00           17.0\n",
              "73186            SP            8773  ... 2019-03-01 14:30:00           38.0\n",
              "76717            SP           12950  ... 2019-03-07 14:55:00            0.0\n",
              "77370            SP            2066  ... 2019-02-28 23:27:00           16.0\n",
              "89064            SP            9961  ... 2019-03-07 13:22:00            0.0\n",
              "89842            SP            6422  ... 2019-03-07 11:42:00            0.0\n",
              "93661            SP           13920  ... 2019-03-07 11:15:00            0.0\n",
              "98843            SP            3064  ... 2019-03-07 07:28:00            0.0\n",
              "110224           SP           13160  ... 2019-03-01 09:53:00           17.0\n",
              "115505           SP            1536  ... 2019-03-01 08:17:00           17.0\n",
              "124780           SP            5307  ... 2019-03-01 11:20:00           17.0\n",
              "128108           SP            3064  ... 2019-03-01 13:44:00           17.0\n",
              "132631           SP           16204  ... 2019-03-01 18:01:00           17.0\n",
              "136249           SP           12950  ... 2019-03-01 02:41:00           17.0\n",
              "150091           SP            2064  ... 2019-03-01 11:32:00           17.0\n",
              "152487           SP            7411  ... 2019-03-01 10:45:00           17.0\n",
              "...             ...             ...  ...                 ...            ...\n",
              "349507           SP            9780  ... 2019-03-01 14:05:00           17.0\n",
              "352388           SP            1224  ... 2019-03-01 11:02:00           17.0\n",
              "353172           SP            7411  ... 2019-03-07 08:22:00            0.0\n",
              "357102           SP           15820  ... 2019-03-01 13:28:00           17.0\n",
              "357509           SP            9290  ... 2019-03-01 10:04:00           17.0\n",
              "358087           SP            2950  ... 2019-03-01 10:00:00           38.0\n",
              "366896           SP           17512  ... 2019-03-01 06:40:00           17.0\n",
              "402015           SP            9360  ... 2019-03-01 16:04:00           17.0\n",
              "403246           SP            4186  ... 2019-03-01 08:15:00           17.0\n",
              "403511           SP            9060  ... 2019-03-01 12:02:00           17.0\n",
              "406223           SP           13466  ... 2019-03-07 10:10:00            0.0\n",
              "408164           SP           16204  ... 2019-03-01 04:47:00           17.0\n",
              "415973           SP            2950  ... 2019-03-07 04:02:00            0.0\n",
              "417039           SP            9195  ... 2019-03-01 11:12:00           17.0\n",
              "420117           SP           16204  ... 2019-03-01 18:01:00           17.0\n",
              "420767           SP            3165  ... 2019-03-01 12:25:00           17.0\n",
              "434496           SP           14405  ... 2019-03-01 13:28:00           17.0\n",
              "444764           SP            2950  ... 2019-03-01 07:57:00           17.0\n",
              "448671           SP            2180  ... 2019-03-01 11:19:00           38.0\n",
              "449028           SP            9861  ... 2019-03-01 10:52:00           17.0\n",
              "457368           SP           14095  ... 2019-03-01 10:49:00           17.0\n",
              "461564           SP            3989  ... 2019-03-01 07:11:00           17.0\n",
              "463948           SP            3375  ... 2019-03-07 06:26:00            0.0\n",
              "465242           SP            2950  ... 2019-03-07 10:13:00            0.0\n",
              "469600           SP            9260  ... 2019-03-07 14:28:00            0.0\n",
              "476406           SP            3106  ... 2019-03-01 06:40:00           17.0\n",
              "477031           SP            3064  ... 2019-03-07 07:28:00            0.0\n",
              "491472           SP           14405  ... 2019-03-01 11:57:00           17.0\n",
              "492207           SP            9090  ... 2019-03-07 15:25:00            0.0\n",
              "498132           SP            7429  ... 2019-03-01 06:05:00           17.0\n",
              "\n",
              "[98 rows x 12 columns]"
            ]
          },
          "metadata": {
            "tags": []
          },
          "execution_count": 8
        }
      ]
    },
    {
      "cell_type": "code",
      "metadata": {
        "id": "y9tz1biUUX0_",
        "colab_type": "code",
        "colab": {}
      },
      "source": [
        "date_created_junio = dataset_clean['date_created'].map(lambda x: \n",
        "                                                       x+timedelta(days=-151) \n",
        "                                                       if x.month==6 else x) \n"
      ],
      "execution_count": 0,
      "outputs": []
    },
    {
      "cell_type": "code",
      "metadata": {
        "id": "ovwt-Tw5TT5e",
        "colab_type": "code",
        "outputId": "d9a18b8c-7bcc-4d1e-b4d9-fbe75dbe1d40",
        "colab": {
          "base_uri": "https://localhost:8080/",
          "height": 136
        }
      },
      "source": [
        "dataset_clean.loc[:,'date_created'] = date_created_junio"
      ],
      "execution_count": 0,
      "outputs": [
        {
          "output_type": "stream",
          "text": [
            "/usr/local/lib/python3.6/dist-packages/pandas/core/indexing.py:543: SettingWithCopyWarning: \n",
            "A value is trying to be set on a copy of a slice from a DataFrame.\n",
            "Try using .loc[row_indexer,col_indexer] = value instead\n",
            "\n",
            "See the caveats in the documentation: http://pandas.pydata.org/pandas-docs/stable/indexing.html#indexing-view-versus-copy\n",
            "  self.obj[item] = s\n"
          ],
          "name": "stderr"
        }
      ]
    },
    {
      "cell_type": "code",
      "metadata": {
        "id": "4EdiA6TZUX1C",
        "colab_type": "code",
        "outputId": "4ab8f260-ecc1-4db5-922b-fb64d00ae285",
        "colab": {
          "base_uri": "https://localhost:8080/",
          "height": 33
        }
      },
      "source": [
        "dataset_clean['date_created'].dt.month.unique()"
      ],
      "execution_count": 0,
      "outputs": [
        {
          "output_type": "execute_result",
          "data": {
            "text/plain": [
              "array([ 3,  2,  1,  4, 12, 10, 11])"
            ]
          },
          "metadata": {
            "tags": []
          },
          "execution_count": 11
        }
      ]
    },
    {
      "cell_type": "code",
      "metadata": {
        "id": "rq8xu8gYUX1F",
        "colab_type": "code",
        "outputId": "14ebeb10-183e-49f7-ff1a-862a49a13d3b",
        "colab": {
          "base_uri": "https://localhost:8080/",
          "height": 227
        }
      },
      "source": [
        "dataset_clean.describe(include='datetime64')"
      ],
      "execution_count": 0,
      "outputs": [
        {
          "output_type": "execute_result",
          "data": {
            "text/html": [
              "<div>\n",
              "<style scoped>\n",
              "    .dataframe tbody tr th:only-of-type {\n",
              "        vertical-align: middle;\n",
              "    }\n",
              "\n",
              "    .dataframe tbody tr th {\n",
              "        vertical-align: top;\n",
              "    }\n",
              "\n",
              "    .dataframe thead th {\n",
              "        text-align: right;\n",
              "    }\n",
              "</style>\n",
              "<table border=\"1\" class=\"dataframe\">\n",
              "  <thead>\n",
              "    <tr style=\"text-align: right;\">\n",
              "      <th></th>\n",
              "      <th>date_created</th>\n",
              "      <th>date_sent</th>\n",
              "      <th>date_visit</th>\n",
              "    </tr>\n",
              "  </thead>\n",
              "  <tbody>\n",
              "    <tr>\n",
              "      <th>count</th>\n",
              "      <td>499350</td>\n",
              "      <td>499350</td>\n",
              "      <td>499350</td>\n",
              "    </tr>\n",
              "    <tr>\n",
              "      <th>unique</th>\n",
              "      <td>124</td>\n",
              "      <td>81276</td>\n",
              "      <td>55668</td>\n",
              "    </tr>\n",
              "    <tr>\n",
              "      <th>top</th>\n",
              "      <td>2019-03-05 00:00:00</td>\n",
              "      <td>2019-03-11 15:53:00</td>\n",
              "      <td>2019-03-11 22:00:00</td>\n",
              "    </tr>\n",
              "    <tr>\n",
              "      <th>freq</th>\n",
              "      <td>20424</td>\n",
              "      <td>113</td>\n",
              "      <td>621</td>\n",
              "    </tr>\n",
              "    <tr>\n",
              "      <th>first</th>\n",
              "      <td>2018-10-21 00:00:00</td>\n",
              "      <td>2018-10-23 13:57:00</td>\n",
              "      <td>2019-02-25 05:36:00</td>\n",
              "    </tr>\n",
              "    <tr>\n",
              "      <th>last</th>\n",
              "      <td>2019-04-29 00:00:00</td>\n",
              "      <td>2019-03-29 01:46:20</td>\n",
              "      <td>2019-04-02 15:35:00</td>\n",
              "    </tr>\n",
              "  </tbody>\n",
              "</table>\n",
              "</div>"
            ],
            "text/plain": [
              "               date_created            date_sent           date_visit\n",
              "count                499350               499350               499350\n",
              "unique                  124                81276                55668\n",
              "top     2019-03-05 00:00:00  2019-03-11 15:53:00  2019-03-11 22:00:00\n",
              "freq                  20424                  113                  621\n",
              "first   2018-10-21 00:00:00  2018-10-23 13:57:00  2019-02-25 05:36:00\n",
              "last    2019-04-29 00:00:00  2019-03-29 01:46:20  2019-04-02 15:35:00"
            ]
          },
          "metadata": {
            "tags": []
          },
          "execution_count": 12
        }
      ]
    },
    {
      "cell_type": "markdown",
      "metadata": {
        "id": "h2IvvXM0-vv0",
        "colab_type": "text"
      },
      "source": [
        "En el describe de arriba, podemos ver que la última fecha de creación es posterior a la última fecha de data_sent como date_visit, pero consideramos que dichos datos son correctos, ya que no contamos con el completo dataset."
      ]
    },
    {
      "cell_type": "markdown",
      "metadata": {
        "id": "QFvILb8gGWto",
        "colab_type": "text"
      },
      "source": [
        "#### Valores nulos"
      ]
    },
    {
      "cell_type": "markdown",
      "metadata": {
        "id": "Qro0D07OECTX",
        "colab_type": "text"
      },
      "source": [
        "Veamos cuantos valores nulos tenemos"
      ]
    },
    {
      "cell_type": "code",
      "metadata": {
        "id": "qwWQirqAEMli",
        "colab_type": "code",
        "outputId": "0c15c319-faa8-43c2-d2d8-cbc2da652711",
        "colab": {
          "base_uri": "https://localhost:8080/",
          "height": 33
        }
      },
      "source": [
        "null_values_count = dataset_clean.isnull().sum()\n",
        "null_values_count[null_values_count > 0]"
      ],
      "execution_count": 0,
      "outputs": [
        {
          "output_type": "execute_result",
          "data": {
            "text/plain": [
              "Series([], dtype: int64)"
            ]
          },
          "metadata": {
            "tags": []
          },
          "execution_count": 13
        }
      ]
    },
    {
      "cell_type": "markdown",
      "metadata": {
        "id": "O0_ZS8GKZtIF",
        "colab_type": "text"
      },
      "source": [
        "Podemos ver que no tenemos valores nulos en el dataset."
      ]
    },
    {
      "cell_type": "markdown",
      "metadata": {
        "id": "TQ6fBcMji0KR",
        "colab_type": "text"
      },
      "source": [
        "#### Limpieza de las fechas anomálas\n",
        "\n",
        "Ahora limpiaremos el dataset sacando todas aquellas fechas que no se siguen en la línea temporal. "
      ]
    },
    {
      "cell_type": "code",
      "metadata": {
        "id": "t7h8hxMgi-es",
        "colab_type": "code",
        "colab": {}
      },
      "source": [
        "date_created_before_date_sent = dataset_clean.date_created < dataset_clean.date_sent #Filtramos date_created menores que date_sent\n",
        "\n",
        "date_sent_before_date_visit = dataset_clean.date_sent < dataset_clean.date_visit #Filtramos date_sent menores que date_visit\n",
        "\n",
        "date_created_before_date_visit = dataset_clean.date_created < dataset_clean.date_visit #Filtramos date_created menores que date_visit\n"
      ],
      "execution_count": 0,
      "outputs": []
    },
    {
      "cell_type": "code",
      "metadata": {
        "id": "AThEn-X8i-Qg",
        "colab_type": "code",
        "outputId": "6ef4a40e-5d64-4d1e-a14a-bcc962183975",
        "colab": {
          "base_uri": "https://localhost:8080/",
          "height": 367
        }
      },
      "source": [
        "dataset_clean = dataset_clean[date_created_before_date_sent].dropna() # solo fechas de creacion antes de la fecha de envio\n",
        "dataset_clean = dataset_clean[date_created_before_date_visit].dropna()# solo fechas de creacion antes de la fecha de visita\n",
        "dataset_clean = dataset_clean[date_sent_before_date_visit].dropna()# solo fechas de envios antes de la fecha de visita\n",
        "dataset_clean.sample(5)"
      ],
      "execution_count": 0,
      "outputs": [
        {
          "output_type": "stream",
          "text": [
            "/usr/local/lib/python3.6/dist-packages/ipykernel_launcher.py:2: UserWarning: Boolean Series key will be reindexed to match DataFrame index.\n",
            "  \n",
            "/usr/local/lib/python3.6/dist-packages/ipykernel_launcher.py:3: UserWarning: Boolean Series key will be reindexed to match DataFrame index.\n",
            "  This is separate from the ipykernel package so we can avoid doing imports until\n"
          ],
          "name": "stderr"
        },
        {
          "output_type": "execute_result",
          "data": {
            "text/html": [
              "<div>\n",
              "<style scoped>\n",
              "    .dataframe tbody tr th:only-of-type {\n",
              "        vertical-align: middle;\n",
              "    }\n",
              "\n",
              "    .dataframe tbody tr th {\n",
              "        vertical-align: top;\n",
              "    }\n",
              "\n",
              "    .dataframe thead th {\n",
              "        text-align: right;\n",
              "    }\n",
              "</style>\n",
              "<table border=\"1\" class=\"dataframe\">\n",
              "  <thead>\n",
              "    <tr style=\"text-align: right;\">\n",
              "      <th></th>\n",
              "      <th>sender_state</th>\n",
              "      <th>sender_zipcode</th>\n",
              "      <th>receiver_state</th>\n",
              "      <th>receiver_zipcode</th>\n",
              "      <th>shipment_type</th>\n",
              "      <th>quantity</th>\n",
              "      <th>service</th>\n",
              "      <th>status</th>\n",
              "      <th>date_created</th>\n",
              "      <th>date_sent</th>\n",
              "      <th>date_visit</th>\n",
              "      <th>shipment_days</th>\n",
              "    </tr>\n",
              "  </thead>\n",
              "  <tbody>\n",
              "    <tr>\n",
              "      <th>61209</th>\n",
              "      <td>SP</td>\n",
              "      <td>9520</td>\n",
              "      <td>BA</td>\n",
              "      <td>46940</td>\n",
              "      <td>standard</td>\n",
              "      <td>1</td>\n",
              "      <td>1</td>\n",
              "      <td>done</td>\n",
              "      <td>2019-03-15</td>\n",
              "      <td>2019-03-19 13:17:00</td>\n",
              "      <td>2019-03-27 15:24:00</td>\n",
              "      <td>6.0</td>\n",
              "    </tr>\n",
              "    <tr>\n",
              "      <th>72136</th>\n",
              "      <td>SP</td>\n",
              "      <td>9510</td>\n",
              "      <td>MG</td>\n",
              "      <td>35500</td>\n",
              "      <td>standard</td>\n",
              "      <td>1</td>\n",
              "      <td>1</td>\n",
              "      <td>done</td>\n",
              "      <td>2019-02-24</td>\n",
              "      <td>2019-02-25 18:59:00</td>\n",
              "      <td>2019-03-15 08:59:00</td>\n",
              "      <td>11.0</td>\n",
              "    </tr>\n",
              "    <tr>\n",
              "      <th>192050</th>\n",
              "      <td>SP</td>\n",
              "      <td>9635</td>\n",
              "      <td>PR</td>\n",
              "      <td>87033</td>\n",
              "      <td>standard</td>\n",
              "      <td>1</td>\n",
              "      <td>1</td>\n",
              "      <td>done</td>\n",
              "      <td>2019-03-18</td>\n",
              "      <td>2019-03-19 08:12:00</td>\n",
              "      <td>2019-03-28 15:29:00</td>\n",
              "      <td>7.0</td>\n",
              "    </tr>\n",
              "    <tr>\n",
              "      <th>287022</th>\n",
              "      <td>SP</td>\n",
              "      <td>8586</td>\n",
              "      <td>DF</td>\n",
              "      <td>70384</td>\n",
              "      <td>standard</td>\n",
              "      <td>1</td>\n",
              "      <td>4</td>\n",
              "      <td>done</td>\n",
              "      <td>2019-03-08</td>\n",
              "      <td>2019-03-12 07:26:55</td>\n",
              "      <td>2019-03-14 06:12:00</td>\n",
              "      <td>2.0</td>\n",
              "    </tr>\n",
              "    <tr>\n",
              "      <th>467512</th>\n",
              "      <td>SP</td>\n",
              "      <td>2180</td>\n",
              "      <td>GO</td>\n",
              "      <td>74255</td>\n",
              "      <td>express</td>\n",
              "      <td>1</td>\n",
              "      <td>3</td>\n",
              "      <td>done</td>\n",
              "      <td>2019-03-21</td>\n",
              "      <td>2019-03-24 04:57:00</td>\n",
              "      <td>2019-03-29 22:00:00</td>\n",
              "      <td>4.0</td>\n",
              "    </tr>\n",
              "  </tbody>\n",
              "</table>\n",
              "</div>"
            ],
            "text/plain": [
              "       sender_state  sender_zipcode  ...          date_visit  shipment_days\n",
              "61209            SP            9520  ... 2019-03-27 15:24:00            6.0\n",
              "72136            SP            9510  ... 2019-03-15 08:59:00           11.0\n",
              "192050           SP            9635  ... 2019-03-28 15:29:00            7.0\n",
              "287022           SP            8586  ... 2019-03-14 06:12:00            2.0\n",
              "467512           SP            2180  ... 2019-03-29 22:00:00            4.0\n",
              "\n",
              "[5 rows x 12 columns]"
            ]
          },
          "metadata": {
            "tags": []
          },
          "execution_count": 15
        }
      ]
    },
    {
      "cell_type": "markdown",
      "metadata": {
        "id": "iREKMj2mnqfu",
        "colab_type": "text"
      },
      "source": [
        "### La importancia de predecir el valor de la variable shipment_days\n",
        "\n",
        "Uno de los objetivos principales del análisis propuesto en esta mentoría es predecir (dar un número aproximado de días hábiles) el tiempo entre que se despacha del correo hasta que el mismo llega a la casa del comprador. \n",
        "\n",
        "Es decir, queremos predecir el feature shipment_days.\n",
        "\n",
        "Por lo tanto este sería el target de un algoritmo de aprendizaje automático. Si bien este feature originalmente es información de tipo numérica en el práctico anterior utilizamos enconding para convertirla en una variable categórica. Así, esto nos da la posibilidad de trabajar con diferentes modelos de aprendizaje automático utilizando el mismo feature como target pero en sus diferentes versiones.\n",
        "\n",
        "Frente a este problema consideramos que el estado de Brasil que recibe el envío (receiver_state) es un feature importante a tener en cuenta (mientras más lejos esté de San Pablo probablemente demore más) y probablemente también el código postal de dicho estado (receiver_zipcode). Por otro lado, el tipo de correo (service) también puede ser una variable importante a tener en cuenta porque la calidad de servicio impactará directamente en los días que tarda en llegar el pedido.\n",
        "\n"
      ]
    },
    {
      "cell_type": "code",
      "metadata": {
        "id": "qGfPmS5oUX1I",
        "colab_type": "code",
        "outputId": "2c9499c3-e429-4027-bce0-d37271406d45",
        "colab": {
          "base_uri": "https://localhost:8080/",
          "height": 301
        }
      },
      "source": [
        "dataset_clean.sample(5)"
      ],
      "execution_count": 0,
      "outputs": [
        {
          "output_type": "execute_result",
          "data": {
            "text/html": [
              "<div>\n",
              "<style scoped>\n",
              "    .dataframe tbody tr th:only-of-type {\n",
              "        vertical-align: middle;\n",
              "    }\n",
              "\n",
              "    .dataframe tbody tr th {\n",
              "        vertical-align: top;\n",
              "    }\n",
              "\n",
              "    .dataframe thead th {\n",
              "        text-align: right;\n",
              "    }\n",
              "</style>\n",
              "<table border=\"1\" class=\"dataframe\">\n",
              "  <thead>\n",
              "    <tr style=\"text-align: right;\">\n",
              "      <th></th>\n",
              "      <th>sender_state</th>\n",
              "      <th>sender_zipcode</th>\n",
              "      <th>receiver_state</th>\n",
              "      <th>receiver_zipcode</th>\n",
              "      <th>shipment_type</th>\n",
              "      <th>quantity</th>\n",
              "      <th>service</th>\n",
              "      <th>status</th>\n",
              "      <th>date_created</th>\n",
              "      <th>date_sent</th>\n",
              "      <th>date_visit</th>\n",
              "      <th>shipment_days</th>\n",
              "    </tr>\n",
              "  </thead>\n",
              "  <tbody>\n",
              "    <tr>\n",
              "      <th>17790</th>\n",
              "      <td>SP</td>\n",
              "      <td>13880</td>\n",
              "      <td>SP</td>\n",
              "      <td>9060</td>\n",
              "      <td>express</td>\n",
              "      <td>1</td>\n",
              "      <td>0</td>\n",
              "      <td>done</td>\n",
              "      <td>2019-02-28</td>\n",
              "      <td>2019-02-28 13:32:00</td>\n",
              "      <td>2019-03-01 14:25:00</td>\n",
              "      <td>1.0</td>\n",
              "    </tr>\n",
              "    <tr>\n",
              "      <th>63099</th>\n",
              "      <td>SP</td>\n",
              "      <td>3508</td>\n",
              "      <td>MS</td>\n",
              "      <td>79140</td>\n",
              "      <td>express</td>\n",
              "      <td>1</td>\n",
              "      <td>0</td>\n",
              "      <td>done</td>\n",
              "      <td>2019-02-27</td>\n",
              "      <td>2019-03-01 15:23:00</td>\n",
              "      <td>2019-03-08 14:58:00</td>\n",
              "      <td>2.0</td>\n",
              "    </tr>\n",
              "    <tr>\n",
              "      <th>461551</th>\n",
              "      <td>SP</td>\n",
              "      <td>2120</td>\n",
              "      <td>SP</td>\n",
              "      <td>4836</td>\n",
              "      <td>express</td>\n",
              "      <td>1</td>\n",
              "      <td>0</td>\n",
              "      <td>done</td>\n",
              "      <td>2019-02-19</td>\n",
              "      <td>2019-02-20 11:57:00</td>\n",
              "      <td>2019-03-08 09:32:00</td>\n",
              "      <td>9.0</td>\n",
              "    </tr>\n",
              "    <tr>\n",
              "      <th>481950</th>\n",
              "      <td>SP</td>\n",
              "      <td>14161</td>\n",
              "      <td>BA</td>\n",
              "      <td>45830</td>\n",
              "      <td>standard</td>\n",
              "      <td>1</td>\n",
              "      <td>2</td>\n",
              "      <td>done</td>\n",
              "      <td>2019-02-26</td>\n",
              "      <td>2019-02-27 22:54:01</td>\n",
              "      <td>2019-03-25 18:48:00</td>\n",
              "      <td>15.0</td>\n",
              "    </tr>\n",
              "    <tr>\n",
              "      <th>126304</th>\n",
              "      <td>SP</td>\n",
              "      <td>1026</td>\n",
              "      <td>MG</td>\n",
              "      <td>37564</td>\n",
              "      <td>standard</td>\n",
              "      <td>1</td>\n",
              "      <td>1</td>\n",
              "      <td>done</td>\n",
              "      <td>2019-02-19</td>\n",
              "      <td>2019-02-25 17:52:00</td>\n",
              "      <td>2019-03-07 13:14:00</td>\n",
              "      <td>5.0</td>\n",
              "    </tr>\n",
              "  </tbody>\n",
              "</table>\n",
              "</div>"
            ],
            "text/plain": [
              "       sender_state  sender_zipcode  ...          date_visit  shipment_days\n",
              "17790            SP           13880  ... 2019-03-01 14:25:00            1.0\n",
              "63099            SP            3508  ... 2019-03-08 14:58:00            2.0\n",
              "461551           SP            2120  ... 2019-03-08 09:32:00            9.0\n",
              "481950           SP           14161  ... 2019-03-25 18:48:00           15.0\n",
              "126304           SP            1026  ... 2019-03-07 13:14:00            5.0\n",
              "\n",
              "[5 rows x 12 columns]"
            ]
          },
          "metadata": {
            "tags": []
          },
          "execution_count": 16
        }
      ]
    },
    {
      "cell_type": "code",
      "metadata": {
        "id": "J6-OY6tJUX1L",
        "colab_type": "code",
        "outputId": "15191ae9-55b0-4edd-856f-3ad8177b51b3",
        "colab": {
          "base_uri": "https://localhost:8080/",
          "height": 300
        }
      },
      "source": [
        "dataset_clean.info()"
      ],
      "execution_count": 0,
      "outputs": [
        {
          "output_type": "stream",
          "text": [
            "<class 'pandas.core.frame.DataFrame'>\n",
            "Int64Index: 496954 entries, 0 to 499999\n",
            "Data columns (total 12 columns):\n",
            "sender_state        496954 non-null object\n",
            "sender_zipcode      496954 non-null int64\n",
            "receiver_state      496954 non-null object\n",
            "receiver_zipcode    496954 non-null int64\n",
            "shipment_type       496954 non-null object\n",
            "quantity            496954 non-null int64\n",
            "service             496954 non-null int64\n",
            "status              496954 non-null object\n",
            "date_created        496954 non-null datetime64[ns]\n",
            "date_sent           496954 non-null datetime64[ns]\n",
            "date_visit          496954 non-null datetime64[ns]\n",
            "shipment_days       496954 non-null float64\n",
            "dtypes: datetime64[ns](3), float64(1), int64(4), object(4)\n",
            "memory usage: 49.3+ MB\n"
          ],
          "name": "stdout"
        }
      ]
    },
    {
      "cell_type": "markdown",
      "metadata": {
        "id": "FJK7MY6OnycP",
        "colab_type": "text"
      },
      "source": [
        "Luego de haber limpiado nuestro dataset observamos que contamos con 496954 filas con información, es decir la limpieza solo afectó aproximadamente al 1% de los datos originales.\n",
        "\n"
      ]
    },
    {
      "cell_type": "markdown",
      "metadata": {
        "id": "xyCvmVFTStFc",
        "colab_type": "text"
      },
      "source": [
        "### Separación en el conjunto de entrenamiento y evaluación "
      ]
    },
    {
      "cell_type": "markdown",
      "metadata": {
        "id": "YMzz1j9wS72o",
        "colab_type": "text"
      },
      "source": [
        "A continuación analizamos las variables de fechas para poder hacer la separación de los datos. "
      ]
    },
    {
      "cell_type": "code",
      "metadata": {
        "id": "mMRCrIcyJlNb",
        "colab_type": "code",
        "colab": {}
      },
      "source": [
        "# creamos una nueva columna donde date_created solo considera las fechas\n",
        "dataset_clean['date_created_only_date'] = dataset_clean['date_created'].dt.date"
      ],
      "execution_count": 0,
      "outputs": []
    },
    {
      "cell_type": "code",
      "metadata": {
        "id": "RdeR87weelcS",
        "colab_type": "code",
        "colab": {}
      },
      "source": [
        "# creamos una nueva columna donde date_visit solo considera las fechas\n",
        "dataset_clean['date_visit_only_date'] = dataset_clean['date_visit'].dt.date "
      ],
      "execution_count": 0,
      "outputs": []
    },
    {
      "cell_type": "code",
      "metadata": {
        "id": "Pa9FHXGpelmV",
        "colab_type": "code",
        "outputId": "e3cef1a5-ffca-47f9-f1fb-1fed8adb432c",
        "colab": {
          "base_uri": "https://localhost:8080/",
          "height": 1000
        }
      },
      "source": [
        "dataset_clean.sort_values(by=['date_visit_only_date']) "
      ],
      "execution_count": 0,
      "outputs": [
        {
          "output_type": "execute_result",
          "data": {
            "text/html": [
              "<div>\n",
              "<style scoped>\n",
              "    .dataframe tbody tr th:only-of-type {\n",
              "        vertical-align: middle;\n",
              "    }\n",
              "\n",
              "    .dataframe tbody tr th {\n",
              "        vertical-align: top;\n",
              "    }\n",
              "\n",
              "    .dataframe thead th {\n",
              "        text-align: right;\n",
              "    }\n",
              "</style>\n",
              "<table border=\"1\" class=\"dataframe\">\n",
              "  <thead>\n",
              "    <tr style=\"text-align: right;\">\n",
              "      <th></th>\n",
              "      <th>sender_state</th>\n",
              "      <th>sender_zipcode</th>\n",
              "      <th>receiver_state</th>\n",
              "      <th>receiver_zipcode</th>\n",
              "      <th>shipment_type</th>\n",
              "      <th>quantity</th>\n",
              "      <th>service</th>\n",
              "      <th>status</th>\n",
              "      <th>date_created</th>\n",
              "      <th>date_sent</th>\n",
              "      <th>date_visit</th>\n",
              "      <th>shipment_days</th>\n",
              "      <th>date_created_only_date</th>\n",
              "      <th>date_visit_only_date</th>\n",
              "    </tr>\n",
              "  </thead>\n",
              "  <tbody>\n",
              "    <tr>\n",
              "      <th>29645</th>\n",
              "      <td>SP</td>\n",
              "      <td>9550</td>\n",
              "      <td>ES</td>\n",
              "      <td>29170</td>\n",
              "      <td>standard</td>\n",
              "      <td>3</td>\n",
              "      <td>1</td>\n",
              "      <td>done</td>\n",
              "      <td>2019-01-22</td>\n",
              "      <td>2019-01-28 07:20:00</td>\n",
              "      <td>2019-02-25 15:29:00</td>\n",
              "      <td>20.0</td>\n",
              "      <td>2019-01-22</td>\n",
              "      <td>2019-02-25</td>\n",
              "    </tr>\n",
              "    <tr>\n",
              "      <th>23725</th>\n",
              "      <td>SP</td>\n",
              "      <td>15410</td>\n",
              "      <td>RJ</td>\n",
              "      <td>28633</td>\n",
              "      <td>standard</td>\n",
              "      <td>1</td>\n",
              "      <td>1</td>\n",
              "      <td>done</td>\n",
              "      <td>2019-02-02</td>\n",
              "      <td>2019-02-05 12:29:00</td>\n",
              "      <td>2019-02-25 15:20:00</td>\n",
              "      <td>14.0</td>\n",
              "      <td>2019-02-02</td>\n",
              "      <td>2019-02-25</td>\n",
              "    </tr>\n",
              "    <tr>\n",
              "      <th>327308</th>\n",
              "      <td>SP</td>\n",
              "      <td>3401</td>\n",
              "      <td>MG</td>\n",
              "      <td>37420</td>\n",
              "      <td>standard</td>\n",
              "      <td>1</td>\n",
              "      <td>1</td>\n",
              "      <td>done</td>\n",
              "      <td>2019-02-05</td>\n",
              "      <td>2019-02-06 15:36:00</td>\n",
              "      <td>2019-02-25 09:58:00</td>\n",
              "      <td>13.0</td>\n",
              "      <td>2019-02-05</td>\n",
              "      <td>2019-02-25</td>\n",
              "    </tr>\n",
              "    <tr>\n",
              "      <th>87974</th>\n",
              "      <td>SP</td>\n",
              "      <td>1536</td>\n",
              "      <td>PE</td>\n",
              "      <td>54240</td>\n",
              "      <td>standard</td>\n",
              "      <td>1</td>\n",
              "      <td>4</td>\n",
              "      <td>done</td>\n",
              "      <td>2019-01-29</td>\n",
              "      <td>2019-02-03 07:58:02</td>\n",
              "      <td>2019-02-25 14:28:00</td>\n",
              "      <td>15.0</td>\n",
              "      <td>2019-01-29</td>\n",
              "      <td>2019-02-25</td>\n",
              "    </tr>\n",
              "    <tr>\n",
              "      <th>192809</th>\n",
              "      <td>SP</td>\n",
              "      <td>1212</td>\n",
              "      <td>SC</td>\n",
              "      <td>88356</td>\n",
              "      <td>standard</td>\n",
              "      <td>1</td>\n",
              "      <td>1</td>\n",
              "      <td>done</td>\n",
              "      <td>2019-01-22</td>\n",
              "      <td>2019-01-23 11:30:00</td>\n",
              "      <td>2019-02-25 12:44:00</td>\n",
              "      <td>22.0</td>\n",
              "      <td>2019-01-22</td>\n",
              "      <td>2019-02-25</td>\n",
              "    </tr>\n",
              "    <tr>\n",
              "      <th>327232</th>\n",
              "      <td>SP</td>\n",
              "      <td>18010</td>\n",
              "      <td>SP</td>\n",
              "      <td>15999</td>\n",
              "      <td>standard</td>\n",
              "      <td>1</td>\n",
              "      <td>2</td>\n",
              "      <td>done</td>\n",
              "      <td>2019-02-04</td>\n",
              "      <td>2019-02-06 10:33:32</td>\n",
              "      <td>2019-02-25 16:51:00</td>\n",
              "      <td>13.0</td>\n",
              "      <td>2019-02-04</td>\n",
              "      <td>2019-02-25</td>\n",
              "    </tr>\n",
              "    <tr>\n",
              "      <th>242423</th>\n",
              "      <td>SP</td>\n",
              "      <td>4042</td>\n",
              "      <td>RS</td>\n",
              "      <td>96202</td>\n",
              "      <td>standard</td>\n",
              "      <td>1</td>\n",
              "      <td>1</td>\n",
              "      <td>done</td>\n",
              "      <td>2019-01-27</td>\n",
              "      <td>2019-01-30 07:53:00</td>\n",
              "      <td>2019-02-25 16:15:00</td>\n",
              "      <td>18.0</td>\n",
              "      <td>2019-01-27</td>\n",
              "      <td>2019-02-25</td>\n",
              "    </tr>\n",
              "    <tr>\n",
              "      <th>175175</th>\n",
              "      <td>SP</td>\n",
              "      <td>14401</td>\n",
              "      <td>BA</td>\n",
              "      <td>42805</td>\n",
              "      <td>standard</td>\n",
              "      <td>1</td>\n",
              "      <td>1</td>\n",
              "      <td>done</td>\n",
              "      <td>2019-02-05</td>\n",
              "      <td>2019-02-06 16:18:00</td>\n",
              "      <td>2019-02-25 15:34:00</td>\n",
              "      <td>13.0</td>\n",
              "      <td>2019-02-05</td>\n",
              "      <td>2019-02-25</td>\n",
              "    </tr>\n",
              "    <tr>\n",
              "      <th>327159</th>\n",
              "      <td>SP</td>\n",
              "      <td>9910</td>\n",
              "      <td>RS</td>\n",
              "      <td>96222</td>\n",
              "      <td>standard</td>\n",
              "      <td>1</td>\n",
              "      <td>1</td>\n",
              "      <td>done</td>\n",
              "      <td>2019-02-06</td>\n",
              "      <td>2019-02-08 13:44:00</td>\n",
              "      <td>2019-02-25 16:04:00</td>\n",
              "      <td>11.0</td>\n",
              "      <td>2019-02-06</td>\n",
              "      <td>2019-02-25</td>\n",
              "    </tr>\n",
              "    <tr>\n",
              "      <th>129496</th>\n",
              "      <td>SP</td>\n",
              "      <td>7077</td>\n",
              "      <td>ES</td>\n",
              "      <td>29645</td>\n",
              "      <td>standard</td>\n",
              "      <td>1</td>\n",
              "      <td>1</td>\n",
              "      <td>done</td>\n",
              "      <td>2019-02-08</td>\n",
              "      <td>2019-02-08 14:20:00</td>\n",
              "      <td>2019-02-25 11:44:00</td>\n",
              "      <td>11.0</td>\n",
              "      <td>2019-02-08</td>\n",
              "      <td>2019-02-25</td>\n",
              "    </tr>\n",
              "    <tr>\n",
              "      <th>192744</th>\n",
              "      <td>SP</td>\n",
              "      <td>6016</td>\n",
              "      <td>TO</td>\n",
              "      <td>77330</td>\n",
              "      <td>standard</td>\n",
              "      <td>1</td>\n",
              "      <td>1</td>\n",
              "      <td>done</td>\n",
              "      <td>2019-01-27</td>\n",
              "      <td>2019-01-30 16:24:00</td>\n",
              "      <td>2019-02-25 14:52:00</td>\n",
              "      <td>18.0</td>\n",
              "      <td>2019-01-27</td>\n",
              "      <td>2019-02-25</td>\n",
              "    </tr>\n",
              "    <tr>\n",
              "      <th>242564</th>\n",
              "      <td>SP</td>\n",
              "      <td>2121</td>\n",
              "      <td>GO</td>\n",
              "      <td>74020</td>\n",
              "      <td>standard</td>\n",
              "      <td>1</td>\n",
              "      <td>1</td>\n",
              "      <td>done</td>\n",
              "      <td>2019-01-20</td>\n",
              "      <td>2019-02-04 14:16:00</td>\n",
              "      <td>2019-02-25 16:47:00</td>\n",
              "      <td>15.0</td>\n",
              "      <td>2019-01-20</td>\n",
              "      <td>2019-02-25</td>\n",
              "    </tr>\n",
              "    <tr>\n",
              "      <th>49510</th>\n",
              "      <td>SP</td>\n",
              "      <td>4403</td>\n",
              "      <td>AP</td>\n",
              "      <td>68927</td>\n",
              "      <td>standard</td>\n",
              "      <td>4</td>\n",
              "      <td>1</td>\n",
              "      <td>done</td>\n",
              "      <td>2019-01-31</td>\n",
              "      <td>2019-02-04 09:43:00</td>\n",
              "      <td>2019-02-25 15:18:00</td>\n",
              "      <td>15.0</td>\n",
              "      <td>2019-01-31</td>\n",
              "      <td>2019-02-25</td>\n",
              "    </tr>\n",
              "    <tr>\n",
              "      <th>192679</th>\n",
              "      <td>SP</td>\n",
              "      <td>19160</td>\n",
              "      <td>PE</td>\n",
              "      <td>56700</td>\n",
              "      <td>standard</td>\n",
              "      <td>1</td>\n",
              "      <td>1</td>\n",
              "      <td>done</td>\n",
              "      <td>2019-01-29</td>\n",
              "      <td>2019-02-09 03:25:31</td>\n",
              "      <td>2019-02-25 09:08:00</td>\n",
              "      <td>10.0</td>\n",
              "      <td>2019-01-29</td>\n",
              "      <td>2019-02-25</td>\n",
              "    </tr>\n",
              "    <tr>\n",
              "      <th>416961</th>\n",
              "      <td>SP</td>\n",
              "      <td>9961</td>\n",
              "      <td>AL</td>\n",
              "      <td>57100</td>\n",
              "      <td>standard</td>\n",
              "      <td>1</td>\n",
              "      <td>1</td>\n",
              "      <td>done</td>\n",
              "      <td>2019-02-07</td>\n",
              "      <td>2019-02-11 18:29:12</td>\n",
              "      <td>2019-02-25 15:26:00</td>\n",
              "      <td>10.0</td>\n",
              "      <td>2019-02-07</td>\n",
              "      <td>2019-02-25</td>\n",
              "    </tr>\n",
              "    <tr>\n",
              "      <th>393864</th>\n",
              "      <td>SP</td>\n",
              "      <td>6530</td>\n",
              "      <td>ES</td>\n",
              "      <td>29170</td>\n",
              "      <td>standard</td>\n",
              "      <td>1</td>\n",
              "      <td>1</td>\n",
              "      <td>done</td>\n",
              "      <td>2019-01-22</td>\n",
              "      <td>2019-01-23 11:52:00</td>\n",
              "      <td>2019-02-25 09:06:00</td>\n",
              "      <td>22.0</td>\n",
              "      <td>2019-01-22</td>\n",
              "      <td>2019-02-25</td>\n",
              "    </tr>\n",
              "    <tr>\n",
              "      <th>116418</th>\n",
              "      <td>SP</td>\n",
              "      <td>3077</td>\n",
              "      <td>RJ</td>\n",
              "      <td>22775</td>\n",
              "      <td>standard</td>\n",
              "      <td>1</td>\n",
              "      <td>1</td>\n",
              "      <td>done</td>\n",
              "      <td>2019-01-24</td>\n",
              "      <td>2019-01-26 13:24:00</td>\n",
              "      <td>2019-02-25 19:15:00</td>\n",
              "      <td>20.0</td>\n",
              "      <td>2019-01-24</td>\n",
              "      <td>2019-02-25</td>\n",
              "    </tr>\n",
              "    <tr>\n",
              "      <th>327556</th>\n",
              "      <td>SP</td>\n",
              "      <td>1208</td>\n",
              "      <td>PA</td>\n",
              "      <td>66093</td>\n",
              "      <td>standard</td>\n",
              "      <td>1</td>\n",
              "      <td>1</td>\n",
              "      <td>done</td>\n",
              "      <td>2019-01-29</td>\n",
              "      <td>2019-01-30 13:09:00</td>\n",
              "      <td>2019-02-25 16:33:00</td>\n",
              "      <td>18.0</td>\n",
              "      <td>2019-01-29</td>\n",
              "      <td>2019-02-25</td>\n",
              "    </tr>\n",
              "    <tr>\n",
              "      <th>175103</th>\n",
              "      <td>SP</td>\n",
              "      <td>12341</td>\n",
              "      <td>SC</td>\n",
              "      <td>88351</td>\n",
              "      <td>standard</td>\n",
              "      <td>1</td>\n",
              "      <td>1</td>\n",
              "      <td>done</td>\n",
              "      <td>2019-02-04</td>\n",
              "      <td>2019-02-05 16:13:00</td>\n",
              "      <td>2019-02-25 08:49:00</td>\n",
              "      <td>14.0</td>\n",
              "      <td>2019-02-04</td>\n",
              "      <td>2019-02-25</td>\n",
              "    </tr>\n",
              "    <tr>\n",
              "      <th>242061</th>\n",
              "      <td>SP</td>\n",
              "      <td>4123</td>\n",
              "      <td>AL</td>\n",
              "      <td>57071</td>\n",
              "      <td>standard</td>\n",
              "      <td>1</td>\n",
              "      <td>1</td>\n",
              "      <td>done</td>\n",
              "      <td>2019-02-05</td>\n",
              "      <td>2019-02-09 03:16:09</td>\n",
              "      <td>2019-02-25 14:53:00</td>\n",
              "      <td>10.0</td>\n",
              "      <td>2019-02-05</td>\n",
              "      <td>2019-02-25</td>\n",
              "    </tr>\n",
              "    <tr>\n",
              "      <th>393026</th>\n",
              "      <td>SP</td>\n",
              "      <td>5105</td>\n",
              "      <td>AM</td>\n",
              "      <td>69092</td>\n",
              "      <td>standard</td>\n",
              "      <td>1</td>\n",
              "      <td>2</td>\n",
              "      <td>done</td>\n",
              "      <td>2019-02-04</td>\n",
              "      <td>2019-02-06 21:48:41</td>\n",
              "      <td>2019-02-25 22:20:00</td>\n",
              "      <td>13.0</td>\n",
              "      <td>2019-02-04</td>\n",
              "      <td>2019-02-25</td>\n",
              "    </tr>\n",
              "    <tr>\n",
              "      <th>109873</th>\n",
              "      <td>SP</td>\n",
              "      <td>1233</td>\n",
              "      <td>MT</td>\n",
              "      <td>78573</td>\n",
              "      <td>standard</td>\n",
              "      <td>1</td>\n",
              "      <td>1</td>\n",
              "      <td>done</td>\n",
              "      <td>2019-02-02</td>\n",
              "      <td>2019-02-08 15:05:00</td>\n",
              "      <td>2019-02-25 08:22:00</td>\n",
              "      <td>11.0</td>\n",
              "      <td>2019-02-02</td>\n",
              "      <td>2019-02-25</td>\n",
              "    </tr>\n",
              "    <tr>\n",
              "      <th>417258</th>\n",
              "      <td>SP</td>\n",
              "      <td>17052</td>\n",
              "      <td>MT</td>\n",
              "      <td>78058</td>\n",
              "      <td>standard</td>\n",
              "      <td>1</td>\n",
              "      <td>1</td>\n",
              "      <td>done</td>\n",
              "      <td>2019-02-04</td>\n",
              "      <td>2019-02-04 16:33:00</td>\n",
              "      <td>2019-02-25 11:26:00</td>\n",
              "      <td>15.0</td>\n",
              "      <td>2019-02-04</td>\n",
              "      <td>2019-02-25</td>\n",
              "    </tr>\n",
              "    <tr>\n",
              "      <th>328088</th>\n",
              "      <td>SP</td>\n",
              "      <td>12307</td>\n",
              "      <td>SC</td>\n",
              "      <td>88570</td>\n",
              "      <td>standard</td>\n",
              "      <td>1</td>\n",
              "      <td>1</td>\n",
              "      <td>done</td>\n",
              "      <td>2019-02-04</td>\n",
              "      <td>2019-02-05 10:28:00</td>\n",
              "      <td>2019-02-25 14:56:00</td>\n",
              "      <td>14.0</td>\n",
              "      <td>2019-02-04</td>\n",
              "      <td>2019-02-25</td>\n",
              "    </tr>\n",
              "    <tr>\n",
              "      <th>30701</th>\n",
              "      <td>SP</td>\n",
              "      <td>9725</td>\n",
              "      <td>MT</td>\n",
              "      <td>78700</td>\n",
              "      <td>standard</td>\n",
              "      <td>1</td>\n",
              "      <td>2</td>\n",
              "      <td>done</td>\n",
              "      <td>2019-02-06</td>\n",
              "      <td>2019-02-08 20:25:32</td>\n",
              "      <td>2019-02-25 16:42:00</td>\n",
              "      <td>11.0</td>\n",
              "      <td>2019-02-06</td>\n",
              "      <td>2019-02-25</td>\n",
              "    </tr>\n",
              "    <tr>\n",
              "      <th>328050</th>\n",
              "      <td>SP</td>\n",
              "      <td>16052</td>\n",
              "      <td>RS</td>\n",
              "      <td>94065</td>\n",
              "      <td>standard</td>\n",
              "      <td>1</td>\n",
              "      <td>1</td>\n",
              "      <td>done</td>\n",
              "      <td>2019-02-02</td>\n",
              "      <td>2019-02-04 07:39:00</td>\n",
              "      <td>2019-02-25 17:55:00</td>\n",
              "      <td>15.0</td>\n",
              "      <td>2019-02-02</td>\n",
              "      <td>2019-02-25</td>\n",
              "    </tr>\n",
              "    <tr>\n",
              "      <th>154229</th>\n",
              "      <td>SP</td>\n",
              "      <td>18190</td>\n",
              "      <td>RS</td>\n",
              "      <td>92110</td>\n",
              "      <td>standard</td>\n",
              "      <td>1</td>\n",
              "      <td>1</td>\n",
              "      <td>done</td>\n",
              "      <td>2019-01-25</td>\n",
              "      <td>2019-02-07 07:09:00</td>\n",
              "      <td>2019-02-25 11:31:00</td>\n",
              "      <td>12.0</td>\n",
              "      <td>2019-01-25</td>\n",
              "      <td>2019-02-25</td>\n",
              "    </tr>\n",
              "    <tr>\n",
              "      <th>192645</th>\n",
              "      <td>SP</td>\n",
              "      <td>3009</td>\n",
              "      <td>GO</td>\n",
              "      <td>75690</td>\n",
              "      <td>standard</td>\n",
              "      <td>1</td>\n",
              "      <td>1</td>\n",
              "      <td>done</td>\n",
              "      <td>2019-02-07</td>\n",
              "      <td>2019-02-08 12:01:00</td>\n",
              "      <td>2019-02-25 14:48:00</td>\n",
              "      <td>11.0</td>\n",
              "      <td>2019-02-07</td>\n",
              "      <td>2019-02-25</td>\n",
              "    </tr>\n",
              "    <tr>\n",
              "      <th>30680</th>\n",
              "      <td>SP</td>\n",
              "      <td>13806</td>\n",
              "      <td>MT</td>\n",
              "      <td>78138</td>\n",
              "      <td>standard</td>\n",
              "      <td>2</td>\n",
              "      <td>2</td>\n",
              "      <td>done</td>\n",
              "      <td>2019-02-06</td>\n",
              "      <td>2019-02-08 07:45:04</td>\n",
              "      <td>2019-02-25 13:30:00</td>\n",
              "      <td>11.0</td>\n",
              "      <td>2019-02-06</td>\n",
              "      <td>2019-02-25</td>\n",
              "    </tr>\n",
              "    <tr>\n",
              "      <th>493422</th>\n",
              "      <td>SP</td>\n",
              "      <td>9666</td>\n",
              "      <td>BA</td>\n",
              "      <td>45657</td>\n",
              "      <td>standard</td>\n",
              "      <td>1</td>\n",
              "      <td>2</td>\n",
              "      <td>done</td>\n",
              "      <td>2019-02-04</td>\n",
              "      <td>2019-02-05 22:30:33</td>\n",
              "      <td>2019-02-25 16:29:00</td>\n",
              "      <td>14.0</td>\n",
              "      <td>2019-02-04</td>\n",
              "      <td>2019-02-25</td>\n",
              "    </tr>\n",
              "    <tr>\n",
              "      <th>...</th>\n",
              "      <td>...</td>\n",
              "      <td>...</td>\n",
              "      <td>...</td>\n",
              "      <td>...</td>\n",
              "      <td>...</td>\n",
              "      <td>...</td>\n",
              "      <td>...</td>\n",
              "      <td>...</td>\n",
              "      <td>...</td>\n",
              "      <td>...</td>\n",
              "      <td>...</td>\n",
              "      <td>...</td>\n",
              "      <td>...</td>\n",
              "      <td>...</td>\n",
              "    </tr>\n",
              "    <tr>\n",
              "      <th>19908</th>\n",
              "      <td>SP</td>\n",
              "      <td>19020</td>\n",
              "      <td>PE</td>\n",
              "      <td>52111</td>\n",
              "      <td>standard</td>\n",
              "      <td>1</td>\n",
              "      <td>1</td>\n",
              "      <td>done</td>\n",
              "      <td>2019-02-26</td>\n",
              "      <td>2019-03-01 15:36:00</td>\n",
              "      <td>2019-04-02 11:26:00</td>\n",
              "      <td>19.0</td>\n",
              "      <td>2019-02-26</td>\n",
              "      <td>2019-04-02</td>\n",
              "    </tr>\n",
              "    <tr>\n",
              "      <th>26128</th>\n",
              "      <td>SP</td>\n",
              "      <td>17032</td>\n",
              "      <td>RS</td>\n",
              "      <td>91740</td>\n",
              "      <td>standard</td>\n",
              "      <td>1</td>\n",
              "      <td>1</td>\n",
              "      <td>done</td>\n",
              "      <td>2019-02-05</td>\n",
              "      <td>2019-02-27 17:28:00</td>\n",
              "      <td>2019-04-02 11:24:00</td>\n",
              "      <td>21.0</td>\n",
              "      <td>2019-02-05</td>\n",
              "      <td>2019-04-02</td>\n",
              "    </tr>\n",
              "    <tr>\n",
              "      <th>20271</th>\n",
              "      <td>SP</td>\n",
              "      <td>13329</td>\n",
              "      <td>RJ</td>\n",
              "      <td>22770</td>\n",
              "      <td>standard</td>\n",
              "      <td>1</td>\n",
              "      <td>1</td>\n",
              "      <td>done</td>\n",
              "      <td>2019-02-24</td>\n",
              "      <td>2019-02-26 10:23:00</td>\n",
              "      <td>2019-04-02 12:03:00</td>\n",
              "      <td>22.0</td>\n",
              "      <td>2019-02-24</td>\n",
              "      <td>2019-04-02</td>\n",
              "    </tr>\n",
              "    <tr>\n",
              "      <th>15599</th>\n",
              "      <td>SP</td>\n",
              "      <td>19880</td>\n",
              "      <td>SC</td>\n",
              "      <td>88506</td>\n",
              "      <td>standard</td>\n",
              "      <td>1</td>\n",
              "      <td>1</td>\n",
              "      <td>done</td>\n",
              "      <td>2019-03-04</td>\n",
              "      <td>2019-03-04 13:57:00</td>\n",
              "      <td>2019-04-02 11:53:00</td>\n",
              "      <td>18.0</td>\n",
              "      <td>2019-03-04</td>\n",
              "      <td>2019-04-02</td>\n",
              "    </tr>\n",
              "    <tr>\n",
              "      <th>112523</th>\n",
              "      <td>SP</td>\n",
              "      <td>19830</td>\n",
              "      <td>RN</td>\n",
              "      <td>59139</td>\n",
              "      <td>standard</td>\n",
              "      <td>1</td>\n",
              "      <td>1</td>\n",
              "      <td>done</td>\n",
              "      <td>2019-03-01</td>\n",
              "      <td>2019-03-04 08:36:00</td>\n",
              "      <td>2019-04-02 09:42:00</td>\n",
              "      <td>18.0</td>\n",
              "      <td>2019-03-01</td>\n",
              "      <td>2019-04-02</td>\n",
              "    </tr>\n",
              "    <tr>\n",
              "      <th>214815</th>\n",
              "      <td>SP</td>\n",
              "      <td>3414</td>\n",
              "      <td>RJ</td>\n",
              "      <td>22610</td>\n",
              "      <td>express</td>\n",
              "      <td>1</td>\n",
              "      <td>0</td>\n",
              "      <td>done</td>\n",
              "      <td>2019-02-27</td>\n",
              "      <td>2019-03-01 15:18:00</td>\n",
              "      <td>2019-04-02 13:04:00</td>\n",
              "      <td>19.0</td>\n",
              "      <td>2019-02-27</td>\n",
              "      <td>2019-04-02</td>\n",
              "    </tr>\n",
              "    <tr>\n",
              "      <th>202796</th>\n",
              "      <td>SP</td>\n",
              "      <td>3543</td>\n",
              "      <td>RN</td>\n",
              "      <td>59141</td>\n",
              "      <td>standard</td>\n",
              "      <td>2</td>\n",
              "      <td>1</td>\n",
              "      <td>done</td>\n",
              "      <td>2019-02-21</td>\n",
              "      <td>2019-02-22 17:54:00</td>\n",
              "      <td>2019-04-02 10:13:00</td>\n",
              "      <td>24.0</td>\n",
              "      <td>2019-02-21</td>\n",
              "      <td>2019-04-02</td>\n",
              "    </tr>\n",
              "    <tr>\n",
              "      <th>182995</th>\n",
              "      <td>SP</td>\n",
              "      <td>3643</td>\n",
              "      <td>SC</td>\n",
              "      <td>89120</td>\n",
              "      <td>standard</td>\n",
              "      <td>1</td>\n",
              "      <td>1</td>\n",
              "      <td>done</td>\n",
              "      <td>2019-03-03</td>\n",
              "      <td>2019-03-04 14:07:00</td>\n",
              "      <td>2019-04-02 09:19:00</td>\n",
              "      <td>18.0</td>\n",
              "      <td>2019-03-03</td>\n",
              "      <td>2019-04-02</td>\n",
              "    </tr>\n",
              "    <tr>\n",
              "      <th>461474</th>\n",
              "      <td>SP</td>\n",
              "      <td>16300</td>\n",
              "      <td>RS</td>\n",
              "      <td>90820</td>\n",
              "      <td>standard</td>\n",
              "      <td>1</td>\n",
              "      <td>1</td>\n",
              "      <td>done</td>\n",
              "      <td>2019-02-26</td>\n",
              "      <td>2019-02-27 14:17:00</td>\n",
              "      <td>2019-04-02 13:59:00</td>\n",
              "      <td>21.0</td>\n",
              "      <td>2019-02-26</td>\n",
              "      <td>2019-04-02</td>\n",
              "    </tr>\n",
              "    <tr>\n",
              "      <th>426353</th>\n",
              "      <td>SP</td>\n",
              "      <td>15130</td>\n",
              "      <td>RS</td>\n",
              "      <td>91787</td>\n",
              "      <td>standard</td>\n",
              "      <td>1</td>\n",
              "      <td>1</td>\n",
              "      <td>done</td>\n",
              "      <td>2019-03-03</td>\n",
              "      <td>2019-03-04 08:55:00</td>\n",
              "      <td>2019-04-02 13:50:00</td>\n",
              "      <td>18.0</td>\n",
              "      <td>2019-03-03</td>\n",
              "      <td>2019-04-02</td>\n",
              "    </tr>\n",
              "    <tr>\n",
              "      <th>126602</th>\n",
              "      <td>SP</td>\n",
              "      <td>4753</td>\n",
              "      <td>PE</td>\n",
              "      <td>53405</td>\n",
              "      <td>standard</td>\n",
              "      <td>1</td>\n",
              "      <td>1</td>\n",
              "      <td>done</td>\n",
              "      <td>2019-03-04</td>\n",
              "      <td>2019-03-04 17:09:00</td>\n",
              "      <td>2019-04-02 12:46:00</td>\n",
              "      <td>18.0</td>\n",
              "      <td>2019-03-04</td>\n",
              "      <td>2019-04-02</td>\n",
              "    </tr>\n",
              "    <tr>\n",
              "      <th>15558</th>\n",
              "      <td>SP</td>\n",
              "      <td>8010</td>\n",
              "      <td>RS</td>\n",
              "      <td>91520</td>\n",
              "      <td>standard</td>\n",
              "      <td>1</td>\n",
              "      <td>1</td>\n",
              "      <td>done</td>\n",
              "      <td>2019-02-19</td>\n",
              "      <td>2019-02-20 17:03:00</td>\n",
              "      <td>2019-04-02 11:38:00</td>\n",
              "      <td>26.0</td>\n",
              "      <td>2019-02-19</td>\n",
              "      <td>2019-04-02</td>\n",
              "    </tr>\n",
              "    <tr>\n",
              "      <th>341083</th>\n",
              "      <td>SP</td>\n",
              "      <td>9940</td>\n",
              "      <td>AL</td>\n",
              "      <td>57048</td>\n",
              "      <td>standard</td>\n",
              "      <td>2</td>\n",
              "      <td>1</td>\n",
              "      <td>done</td>\n",
              "      <td>2019-02-15</td>\n",
              "      <td>2019-02-15 15:22:00</td>\n",
              "      <td>2019-04-02 12:00:00</td>\n",
              "      <td>29.0</td>\n",
              "      <td>2019-02-15</td>\n",
              "      <td>2019-04-02</td>\n",
              "    </tr>\n",
              "    <tr>\n",
              "      <th>150568</th>\n",
              "      <td>SP</td>\n",
              "      <td>4905</td>\n",
              "      <td>PE</td>\n",
              "      <td>53437</td>\n",
              "      <td>standard</td>\n",
              "      <td>1</td>\n",
              "      <td>1</td>\n",
              "      <td>done</td>\n",
              "      <td>2019-02-28</td>\n",
              "      <td>2019-03-01 13:03:00</td>\n",
              "      <td>2019-04-02 11:40:00</td>\n",
              "      <td>19.0</td>\n",
              "      <td>2019-02-28</td>\n",
              "      <td>2019-04-02</td>\n",
              "    </tr>\n",
              "    <tr>\n",
              "      <th>404031</th>\n",
              "      <td>SP</td>\n",
              "      <td>9852</td>\n",
              "      <td>RS</td>\n",
              "      <td>96400</td>\n",
              "      <td>standard</td>\n",
              "      <td>2</td>\n",
              "      <td>1</td>\n",
              "      <td>done</td>\n",
              "      <td>2019-02-25</td>\n",
              "      <td>2019-02-26 14:50:00</td>\n",
              "      <td>2019-04-02 09:08:00</td>\n",
              "      <td>22.0</td>\n",
              "      <td>2019-02-25</td>\n",
              "      <td>2019-04-02</td>\n",
              "    </tr>\n",
              "    <tr>\n",
              "      <th>269489</th>\n",
              "      <td>SP</td>\n",
              "      <td>2037</td>\n",
              "      <td>RS</td>\n",
              "      <td>90810</td>\n",
              "      <td>standard</td>\n",
              "      <td>1</td>\n",
              "      <td>1</td>\n",
              "      <td>done</td>\n",
              "      <td>2019-02-22</td>\n",
              "      <td>2019-02-25 17:16:00</td>\n",
              "      <td>2019-04-02 11:16:00</td>\n",
              "      <td>23.0</td>\n",
              "      <td>2019-02-22</td>\n",
              "      <td>2019-04-02</td>\n",
              "    </tr>\n",
              "    <tr>\n",
              "      <th>164012</th>\n",
              "      <td>SP</td>\n",
              "      <td>14070</td>\n",
              "      <td>AL</td>\n",
              "      <td>57084</td>\n",
              "      <td>standard</td>\n",
              "      <td>1</td>\n",
              "      <td>1</td>\n",
              "      <td>done</td>\n",
              "      <td>2019-02-25</td>\n",
              "      <td>2019-03-01 18:22:00</td>\n",
              "      <td>2019-04-02 12:06:00</td>\n",
              "      <td>19.0</td>\n",
              "      <td>2019-02-25</td>\n",
              "      <td>2019-04-02</td>\n",
              "    </tr>\n",
              "    <tr>\n",
              "      <th>309572</th>\n",
              "      <td>SP</td>\n",
              "      <td>14410</td>\n",
              "      <td>SC</td>\n",
              "      <td>88915</td>\n",
              "      <td>standard</td>\n",
              "      <td>1</td>\n",
              "      <td>1</td>\n",
              "      <td>done</td>\n",
              "      <td>2019-02-26</td>\n",
              "      <td>2019-02-26 15:15:00</td>\n",
              "      <td>2019-04-02 01:16:00</td>\n",
              "      <td>22.0</td>\n",
              "      <td>2019-02-26</td>\n",
              "      <td>2019-04-02</td>\n",
              "    </tr>\n",
              "    <tr>\n",
              "      <th>160674</th>\n",
              "      <td>SP</td>\n",
              "      <td>5822</td>\n",
              "      <td>PE</td>\n",
              "      <td>53180</td>\n",
              "      <td>standard</td>\n",
              "      <td>1</td>\n",
              "      <td>1</td>\n",
              "      <td>done</td>\n",
              "      <td>2019-03-01</td>\n",
              "      <td>2019-03-04 18:10:00</td>\n",
              "      <td>2019-04-02 10:56:00</td>\n",
              "      <td>18.0</td>\n",
              "      <td>2019-03-01</td>\n",
              "      <td>2019-04-02</td>\n",
              "    </tr>\n",
              "    <tr>\n",
              "      <th>75445</th>\n",
              "      <td>SP</td>\n",
              "      <td>15803</td>\n",
              "      <td>RJ</td>\n",
              "      <td>22610</td>\n",
              "      <td>standard</td>\n",
              "      <td>1</td>\n",
              "      <td>1</td>\n",
              "      <td>failed</td>\n",
              "      <td>2019-02-18</td>\n",
              "      <td>2019-02-19 12:48:00</td>\n",
              "      <td>2019-04-02 13:04:00</td>\n",
              "      <td>27.0</td>\n",
              "      <td>2019-02-18</td>\n",
              "      <td>2019-04-02</td>\n",
              "    </tr>\n",
              "    <tr>\n",
              "      <th>149642</th>\n",
              "      <td>SP</td>\n",
              "      <td>14070</td>\n",
              "      <td>AL</td>\n",
              "      <td>57083</td>\n",
              "      <td>standard</td>\n",
              "      <td>1</td>\n",
              "      <td>1</td>\n",
              "      <td>done</td>\n",
              "      <td>2019-03-02</td>\n",
              "      <td>2019-03-04 18:55:00</td>\n",
              "      <td>2019-04-02 11:29:00</td>\n",
              "      <td>18.0</td>\n",
              "      <td>2019-03-02</td>\n",
              "      <td>2019-04-02</td>\n",
              "    </tr>\n",
              "    <tr>\n",
              "      <th>421101</th>\n",
              "      <td>SP</td>\n",
              "      <td>5822</td>\n",
              "      <td>PE</td>\n",
              "      <td>53180</td>\n",
              "      <td>standard</td>\n",
              "      <td>1</td>\n",
              "      <td>1</td>\n",
              "      <td>done</td>\n",
              "      <td>2019-03-01</td>\n",
              "      <td>2019-03-04 18:10:00</td>\n",
              "      <td>2019-04-02 10:56:00</td>\n",
              "      <td>18.0</td>\n",
              "      <td>2019-03-01</td>\n",
              "      <td>2019-04-02</td>\n",
              "    </tr>\n",
              "    <tr>\n",
              "      <th>406948</th>\n",
              "      <td>SP</td>\n",
              "      <td>14402</td>\n",
              "      <td>SC</td>\n",
              "      <td>88508</td>\n",
              "      <td>standard</td>\n",
              "      <td>1</td>\n",
              "      <td>1</td>\n",
              "      <td>done</td>\n",
              "      <td>2019-02-18</td>\n",
              "      <td>2019-02-19 13:10:00</td>\n",
              "      <td>2019-04-02 08:08:00</td>\n",
              "      <td>27.0</td>\n",
              "      <td>2019-02-18</td>\n",
              "      <td>2019-04-02</td>\n",
              "    </tr>\n",
              "    <tr>\n",
              "      <th>252116</th>\n",
              "      <td>SP</td>\n",
              "      <td>13920</td>\n",
              "      <td>RS</td>\n",
              "      <td>90830</td>\n",
              "      <td>standard</td>\n",
              "      <td>1</td>\n",
              "      <td>1</td>\n",
              "      <td>done</td>\n",
              "      <td>2019-02-25</td>\n",
              "      <td>2019-02-26 15:03:00</td>\n",
              "      <td>2019-04-02 10:02:00</td>\n",
              "      <td>22.0</td>\n",
              "      <td>2019-02-25</td>\n",
              "      <td>2019-04-02</td>\n",
              "    </tr>\n",
              "    <tr>\n",
              "      <th>406185</th>\n",
              "      <td>SP</td>\n",
              "      <td>14405</td>\n",
              "      <td>PE</td>\n",
              "      <td>53350</td>\n",
              "      <td>standard</td>\n",
              "      <td>1</td>\n",
              "      <td>1</td>\n",
              "      <td>done</td>\n",
              "      <td>2019-02-27</td>\n",
              "      <td>2019-02-27 14:24:00</td>\n",
              "      <td>2019-04-02 10:40:00</td>\n",
              "      <td>21.0</td>\n",
              "      <td>2019-02-27</td>\n",
              "      <td>2019-04-02</td>\n",
              "    </tr>\n",
              "    <tr>\n",
              "      <th>50700</th>\n",
              "      <td>SP</td>\n",
              "      <td>8275</td>\n",
              "      <td>PE</td>\n",
              "      <td>52120</td>\n",
              "      <td>standard</td>\n",
              "      <td>1</td>\n",
              "      <td>1</td>\n",
              "      <td>done</td>\n",
              "      <td>2019-02-27</td>\n",
              "      <td>2019-03-04 16:54:00</td>\n",
              "      <td>2019-04-02 10:19:00</td>\n",
              "      <td>18.0</td>\n",
              "      <td>2019-02-27</td>\n",
              "      <td>2019-04-02</td>\n",
              "    </tr>\n",
              "    <tr>\n",
              "      <th>264185</th>\n",
              "      <td>SP</td>\n",
              "      <td>14780</td>\n",
              "      <td>RS</td>\n",
              "      <td>96407</td>\n",
              "      <td>standard</td>\n",
              "      <td>1</td>\n",
              "      <td>1</td>\n",
              "      <td>done</td>\n",
              "      <td>2019-02-26</td>\n",
              "      <td>2019-02-26 14:15:00</td>\n",
              "      <td>2019-04-02 15:35:00</td>\n",
              "      <td>22.0</td>\n",
              "      <td>2019-02-26</td>\n",
              "      <td>2019-04-02</td>\n",
              "    </tr>\n",
              "    <tr>\n",
              "      <th>274961</th>\n",
              "      <td>SP</td>\n",
              "      <td>4433</td>\n",
              "      <td>PE</td>\n",
              "      <td>53525</td>\n",
              "      <td>standard</td>\n",
              "      <td>1</td>\n",
              "      <td>1</td>\n",
              "      <td>done</td>\n",
              "      <td>2019-02-20</td>\n",
              "      <td>2019-02-21 10:27:00</td>\n",
              "      <td>2019-04-02 12:33:00</td>\n",
              "      <td>25.0</td>\n",
              "      <td>2019-02-20</td>\n",
              "      <td>2019-04-02</td>\n",
              "    </tr>\n",
              "    <tr>\n",
              "      <th>467449</th>\n",
              "      <td>SP</td>\n",
              "      <td>3633</td>\n",
              "      <td>PE</td>\n",
              "      <td>52160</td>\n",
              "      <td>standard</td>\n",
              "      <td>1</td>\n",
              "      <td>1</td>\n",
              "      <td>done</td>\n",
              "      <td>2019-02-18</td>\n",
              "      <td>2019-02-20 07:30:00</td>\n",
              "      <td>2019-04-02 09:49:00</td>\n",
              "      <td>26.0</td>\n",
              "      <td>2019-02-18</td>\n",
              "      <td>2019-04-02</td>\n",
              "    </tr>\n",
              "    <tr>\n",
              "      <th>39526</th>\n",
              "      <td>SP</td>\n",
              "      <td>2121</td>\n",
              "      <td>PE</td>\n",
              "      <td>53220</td>\n",
              "      <td>standard</td>\n",
              "      <td>1</td>\n",
              "      <td>1</td>\n",
              "      <td>done</td>\n",
              "      <td>2019-03-01</td>\n",
              "      <td>2019-03-04 12:29:00</td>\n",
              "      <td>2019-04-02 12:20:00</td>\n",
              "      <td>18.0</td>\n",
              "      <td>2019-03-01</td>\n",
              "      <td>2019-04-02</td>\n",
              "    </tr>\n",
              "  </tbody>\n",
              "</table>\n",
              "<p>496954 rows × 14 columns</p>\n",
              "</div>"
            ],
            "text/plain": [
              "       sender_state  sender_zipcode  ... date_created_only_date  date_visit_only_date\n",
              "29645            SP            9550  ...             2019-01-22            2019-02-25\n",
              "23725            SP           15410  ...             2019-02-02            2019-02-25\n",
              "327308           SP            3401  ...             2019-02-05            2019-02-25\n",
              "87974            SP            1536  ...             2019-01-29            2019-02-25\n",
              "192809           SP            1212  ...             2019-01-22            2019-02-25\n",
              "327232           SP           18010  ...             2019-02-04            2019-02-25\n",
              "242423           SP            4042  ...             2019-01-27            2019-02-25\n",
              "175175           SP           14401  ...             2019-02-05            2019-02-25\n",
              "327159           SP            9910  ...             2019-02-06            2019-02-25\n",
              "129496           SP            7077  ...             2019-02-08            2019-02-25\n",
              "192744           SP            6016  ...             2019-01-27            2019-02-25\n",
              "242564           SP            2121  ...             2019-01-20            2019-02-25\n",
              "49510            SP            4403  ...             2019-01-31            2019-02-25\n",
              "192679           SP           19160  ...             2019-01-29            2019-02-25\n",
              "416961           SP            9961  ...             2019-02-07            2019-02-25\n",
              "393864           SP            6530  ...             2019-01-22            2019-02-25\n",
              "116418           SP            3077  ...             2019-01-24            2019-02-25\n",
              "327556           SP            1208  ...             2019-01-29            2019-02-25\n",
              "175103           SP           12341  ...             2019-02-04            2019-02-25\n",
              "242061           SP            4123  ...             2019-02-05            2019-02-25\n",
              "393026           SP            5105  ...             2019-02-04            2019-02-25\n",
              "109873           SP            1233  ...             2019-02-02            2019-02-25\n",
              "417258           SP           17052  ...             2019-02-04            2019-02-25\n",
              "328088           SP           12307  ...             2019-02-04            2019-02-25\n",
              "30701            SP            9725  ...             2019-02-06            2019-02-25\n",
              "328050           SP           16052  ...             2019-02-02            2019-02-25\n",
              "154229           SP           18190  ...             2019-01-25            2019-02-25\n",
              "192645           SP            3009  ...             2019-02-07            2019-02-25\n",
              "30680            SP           13806  ...             2019-02-06            2019-02-25\n",
              "493422           SP            9666  ...             2019-02-04            2019-02-25\n",
              "...             ...             ...  ...                    ...                   ...\n",
              "19908            SP           19020  ...             2019-02-26            2019-04-02\n",
              "26128            SP           17032  ...             2019-02-05            2019-04-02\n",
              "20271            SP           13329  ...             2019-02-24            2019-04-02\n",
              "15599            SP           19880  ...             2019-03-04            2019-04-02\n",
              "112523           SP           19830  ...             2019-03-01            2019-04-02\n",
              "214815           SP            3414  ...             2019-02-27            2019-04-02\n",
              "202796           SP            3543  ...             2019-02-21            2019-04-02\n",
              "182995           SP            3643  ...             2019-03-03            2019-04-02\n",
              "461474           SP           16300  ...             2019-02-26            2019-04-02\n",
              "426353           SP           15130  ...             2019-03-03            2019-04-02\n",
              "126602           SP            4753  ...             2019-03-04            2019-04-02\n",
              "15558            SP            8010  ...             2019-02-19            2019-04-02\n",
              "341083           SP            9940  ...             2019-02-15            2019-04-02\n",
              "150568           SP            4905  ...             2019-02-28            2019-04-02\n",
              "404031           SP            9852  ...             2019-02-25            2019-04-02\n",
              "269489           SP            2037  ...             2019-02-22            2019-04-02\n",
              "164012           SP           14070  ...             2019-02-25            2019-04-02\n",
              "309572           SP           14410  ...             2019-02-26            2019-04-02\n",
              "160674           SP            5822  ...             2019-03-01            2019-04-02\n",
              "75445            SP           15803  ...             2019-02-18            2019-04-02\n",
              "149642           SP           14070  ...             2019-03-02            2019-04-02\n",
              "421101           SP            5822  ...             2019-03-01            2019-04-02\n",
              "406948           SP           14402  ...             2019-02-18            2019-04-02\n",
              "252116           SP           13920  ...             2019-02-25            2019-04-02\n",
              "406185           SP           14405  ...             2019-02-27            2019-04-02\n",
              "50700            SP            8275  ...             2019-02-27            2019-04-02\n",
              "264185           SP           14780  ...             2019-02-26            2019-04-02\n",
              "274961           SP            4433  ...             2019-02-20            2019-04-02\n",
              "467449           SP            3633  ...             2019-02-18            2019-04-02\n",
              "39526            SP            2121  ...             2019-03-01            2019-04-02\n",
              "\n",
              "[496954 rows x 14 columns]"
            ]
          },
          "metadata": {
            "tags": []
          },
          "execution_count": 20
        }
      ]
    },
    {
      "cell_type": "markdown",
      "metadata": {
        "id": "-OvJ4h2Kh7ZO",
        "colab_type": "text"
      },
      "source": [
        "Según podemos observar en los cálculos de arriba la variable date_visit  abarca desde el 25-02-2019 al 02-04-2019.\n",
        "\n",
        "Veamos ahora como se distribuyen estos datos dentro de este intervalo temporal."
      ]
    },
    {
      "cell_type": "code",
      "metadata": {
        "id": "aYgXDombelrR",
        "colab_type": "code",
        "outputId": "d89e9f06-72e7-49f6-e4ac-8563663c0557",
        "colab": {
          "base_uri": "https://localhost:8080/",
          "height": 797
        }
      },
      "source": [
        "dataset_clean['date_visit'].groupby(\n",
        "                          [dataset_clean['date_visit'].dt.month.rename('month'), \n",
        "                           dataset_clean['date_visit'].dt.day.rename('day')]\n",
        "                           ).agg({'count'})"
      ],
      "execution_count": 0,
      "outputs": [
        {
          "output_type": "execute_result",
          "data": {
            "text/html": [
              "<div>\n",
              "<style scoped>\n",
              "    .dataframe tbody tr th:only-of-type {\n",
              "        vertical-align: middle;\n",
              "    }\n",
              "\n",
              "    .dataframe tbody tr th {\n",
              "        vertical-align: top;\n",
              "    }\n",
              "\n",
              "    .dataframe thead th {\n",
              "        text-align: right;\n",
              "    }\n",
              "</style>\n",
              "<table border=\"1\" class=\"dataframe\">\n",
              "  <thead>\n",
              "    <tr style=\"text-align: right;\">\n",
              "      <th></th>\n",
              "      <th></th>\n",
              "      <th>count</th>\n",
              "    </tr>\n",
              "    <tr>\n",
              "      <th>month</th>\n",
              "      <th>day</th>\n",
              "      <th></th>\n",
              "    </tr>\n",
              "  </thead>\n",
              "  <tbody>\n",
              "    <tr>\n",
              "      <th rowspan=\"4\" valign=\"top\">2</th>\n",
              "      <th>25</th>\n",
              "      <td>2021</td>\n",
              "    </tr>\n",
              "    <tr>\n",
              "      <th>26</th>\n",
              "      <td>1617</td>\n",
              "    </tr>\n",
              "    <tr>\n",
              "      <th>27</th>\n",
              "      <td>2661</td>\n",
              "    </tr>\n",
              "    <tr>\n",
              "      <th>28</th>\n",
              "      <td>21658</td>\n",
              "    </tr>\n",
              "    <tr>\n",
              "      <th rowspan=\"18\" valign=\"top\">3</th>\n",
              "      <th>1</th>\n",
              "      <td>20906</td>\n",
              "    </tr>\n",
              "    <tr>\n",
              "      <th>7</th>\n",
              "      <td>31894</td>\n",
              "    </tr>\n",
              "    <tr>\n",
              "      <th>8</th>\n",
              "      <td>38442</td>\n",
              "    </tr>\n",
              "    <tr>\n",
              "      <th>11</th>\n",
              "      <td>35573</td>\n",
              "    </tr>\n",
              "    <tr>\n",
              "      <th>12</th>\n",
              "      <td>36365</td>\n",
              "    </tr>\n",
              "    <tr>\n",
              "      <th>13</th>\n",
              "      <td>25702</td>\n",
              "    </tr>\n",
              "    <tr>\n",
              "      <th>14</th>\n",
              "      <td>25169</td>\n",
              "    </tr>\n",
              "    <tr>\n",
              "      <th>15</th>\n",
              "      <td>24035</td>\n",
              "    </tr>\n",
              "    <tr>\n",
              "      <th>18</th>\n",
              "      <td>31013</td>\n",
              "    </tr>\n",
              "    <tr>\n",
              "      <th>19</th>\n",
              "      <td>24466</td>\n",
              "    </tr>\n",
              "    <tr>\n",
              "      <th>20</th>\n",
              "      <td>25683</td>\n",
              "    </tr>\n",
              "    <tr>\n",
              "      <th>21</th>\n",
              "      <td>23490</td>\n",
              "    </tr>\n",
              "    <tr>\n",
              "      <th>22</th>\n",
              "      <td>22772</td>\n",
              "    </tr>\n",
              "    <tr>\n",
              "      <th>25</th>\n",
              "      <td>28824</td>\n",
              "    </tr>\n",
              "    <tr>\n",
              "      <th>26</th>\n",
              "      <td>23528</td>\n",
              "    </tr>\n",
              "    <tr>\n",
              "      <th>27</th>\n",
              "      <td>24537</td>\n",
              "    </tr>\n",
              "    <tr>\n",
              "      <th>28</th>\n",
              "      <td>22123</td>\n",
              "    </tr>\n",
              "    <tr>\n",
              "      <th>29</th>\n",
              "      <td>3119</td>\n",
              "    </tr>\n",
              "    <tr>\n",
              "      <th rowspan=\"2\" valign=\"top\">4</th>\n",
              "      <th>1</th>\n",
              "      <td>1309</td>\n",
              "    </tr>\n",
              "    <tr>\n",
              "      <th>2</th>\n",
              "      <td>47</td>\n",
              "    </tr>\n",
              "  </tbody>\n",
              "</table>\n",
              "</div>"
            ],
            "text/plain": [
              "           count\n",
              "month day       \n",
              "2     25    2021\n",
              "      26    1617\n",
              "      27    2661\n",
              "      28   21658\n",
              "3     1    20906\n",
              "      7    31894\n",
              "      8    38442\n",
              "      11   35573\n",
              "      12   36365\n",
              "      13   25702\n",
              "      14   25169\n",
              "      15   24035\n",
              "      18   31013\n",
              "      19   24466\n",
              "      20   25683\n",
              "      21   23490\n",
              "      22   22772\n",
              "      25   28824\n",
              "      26   23528\n",
              "      27   24537\n",
              "      28   22123\n",
              "      29    3119\n",
              "4     1     1309\n",
              "      2       47"
            ]
          },
          "metadata": {
            "tags": []
          },
          "execution_count": 21
        }
      ]
    },
    {
      "cell_type": "code",
      "metadata": {
        "id": "d5SxQsHheluv",
        "colab_type": "code",
        "outputId": "34071606-6b01-428d-a6f9-c11a36dd4e8a",
        "colab": {
          "base_uri": "https://localhost:8080/",
          "height": 167
        }
      },
      "source": [
        "dataset_clean['date_visit'].groupby([dataset_clean['date_visit'].dt.month.rename('month')]).agg({'count'})"
      ],
      "execution_count": 0,
      "outputs": [
        {
          "output_type": "execute_result",
          "data": {
            "text/html": [
              "<div>\n",
              "<style scoped>\n",
              "    .dataframe tbody tr th:only-of-type {\n",
              "        vertical-align: middle;\n",
              "    }\n",
              "\n",
              "    .dataframe tbody tr th {\n",
              "        vertical-align: top;\n",
              "    }\n",
              "\n",
              "    .dataframe thead th {\n",
              "        text-align: right;\n",
              "    }\n",
              "</style>\n",
              "<table border=\"1\" class=\"dataframe\">\n",
              "  <thead>\n",
              "    <tr style=\"text-align: right;\">\n",
              "      <th></th>\n",
              "      <th>count</th>\n",
              "    </tr>\n",
              "    <tr>\n",
              "      <th>month</th>\n",
              "      <th></th>\n",
              "    </tr>\n",
              "  </thead>\n",
              "  <tbody>\n",
              "    <tr>\n",
              "      <th>2</th>\n",
              "      <td>27957</td>\n",
              "    </tr>\n",
              "    <tr>\n",
              "      <th>3</th>\n",
              "      <td>467641</td>\n",
              "    </tr>\n",
              "    <tr>\n",
              "      <th>4</th>\n",
              "      <td>1356</td>\n",
              "    </tr>\n",
              "  </tbody>\n",
              "</table>\n",
              "</div>"
            ],
            "text/plain": [
              "        count\n",
              "month        \n",
              "2       27957\n",
              "3      467641\n",
              "4        1356"
            ]
          },
          "metadata": {
            "tags": []
          },
          "execution_count": 22
        }
      ]
    },
    {
      "cell_type": "markdown",
      "metadata": {
        "id": "YLyG6IjejKAS",
        "colab_type": "text"
      },
      "source": [
        "Dada la característica de nuestro problema (estimar una cantidad de días) y al estar trabajando con variables de tipo fecha debemos ser cuidadosas al momento de elegir nuestro conjunto de entrenamiento y validación de manera que le den sentido al problema y que al mismo tiempo representen el 70% y 30% respectivamente de los datos. Es decir, la partición debe estar basada en el hecho de que date_created, date_sent y date_visit se siguen una a la otra en la línea temporal. Por lo tanto, los datos a entrenar deben elegirse hasta un cierto día de la variable date_visit y validarse con datos de date_created a partir de esa fecha.\n",
        "\n",
        "Considerando que nuestro dataset cuenta en este momento con 496954 entradas, el 70% del mismo representa aproximadamente 345000 entradas. Así, de acuerdo a la distribución mostrada arriba si entrenamos nuestro modelo con datos de la variable date_visit hasta el 20 de marzo podriamos llegar a cubrir este porcentaje. En resumen vamos a entrenar con datos que llegaron a destino (este es el por qué se mira data_visit) y vamos a validar con datos cuyas compras se crearon (date_created) después de esa fecha.\n",
        "\n",
        "A continuación se realizan los cálculos que permitirán hacer la partición de los datos de acuerdo al criterio antes mencionado.\n",
        "\n",
        "Mask1 la vamos a usar para hacer el filtrado de los datos para el entrenamiento y mask2 la vamos a usar para hacer el filtrado de los datos para la validacion."
      ]
    },
    {
      "cell_type": "code",
      "metadata": {
        "id": "ZVAYX0PJel1w",
        "colab_type": "code",
        "colab": {}
      },
      "source": [
        "mask1 = dataset_clean['date_visit']<=pandas.to_datetime('2019-03-20')\n",
        "mask2 = dataset_clean['date_created']>pandas.to_datetime('2019-03-20') "
      ],
      "execution_count": 0,
      "outputs": []
    },
    {
      "cell_type": "markdown",
      "metadata": {
        "id": "e37aC47SlXS_",
        "colab_type": "text"
      },
      "source": [
        "Eliminamos los valores que cumplen con las dos condiciones simultáneamente."
      ]
    },
    {
      "cell_type": "code",
      "metadata": {
        "id": "PPP_-HW-JzRp",
        "colab_type": "code",
        "colab": {}
      },
      "source": [
        "dataset_clean.drop(dataset_clean[mask1&mask2].index, inplace = True)"
      ],
      "execution_count": 0,
      "outputs": []
    },
    {
      "cell_type": "code",
      "metadata": {
        "id": "XujMMBlgJ5ck",
        "colab_type": "code",
        "colab": {}
      },
      "source": [
        "df_train = dataset_clean.loc[mask1]"
      ],
      "execution_count": 0,
      "outputs": []
    },
    {
      "cell_type": "code",
      "metadata": {
        "id": "9Xo2ZkmaKQ8V",
        "colab_type": "code",
        "colab": {}
      },
      "source": [
        "df_test = dataset_clean.loc[mask2]"
      ],
      "execution_count": 0,
      "outputs": []
    },
    {
      "cell_type": "markdown",
      "metadata": {
        "id": "-3p2BPyrf1P-",
        "colab_type": "text"
      },
      "source": [
        "#### Análisis del conjunto de entrenamiento\n",
        "\n",
        "Veamos a continuación algunos estadísticos y un pequeño análisis de los mismos."
      ]
    },
    {
      "cell_type": "code",
      "metadata": {
        "id": "LcZ0wxhxc4nP",
        "colab_type": "code",
        "outputId": "fbbbfa80-608f-42b8-cc3c-39056b3d15e9",
        "colab": {
          "base_uri": "https://localhost:8080/",
          "height": 287
        }
      },
      "source": [
        "df_train.describe()"
      ],
      "execution_count": 0,
      "outputs": [
        {
          "output_type": "execute_result",
          "data": {
            "text/html": [
              "<div>\n",
              "<style scoped>\n",
              "    .dataframe tbody tr th:only-of-type {\n",
              "        vertical-align: middle;\n",
              "    }\n",
              "\n",
              "    .dataframe tbody tr th {\n",
              "        vertical-align: top;\n",
              "    }\n",
              "\n",
              "    .dataframe thead th {\n",
              "        text-align: right;\n",
              "    }\n",
              "</style>\n",
              "<table border=\"1\" class=\"dataframe\">\n",
              "  <thead>\n",
              "    <tr style=\"text-align: right;\">\n",
              "      <th></th>\n",
              "      <th>sender_zipcode</th>\n",
              "      <th>receiver_zipcode</th>\n",
              "      <th>quantity</th>\n",
              "      <th>service</th>\n",
              "      <th>shipment_days</th>\n",
              "    </tr>\n",
              "  </thead>\n",
              "  <tbody>\n",
              "    <tr>\n",
              "      <th>count</th>\n",
              "      <td>321523.000000</td>\n",
              "      <td>321523.000000</td>\n",
              "      <td>321523.000000</td>\n",
              "      <td>321523.000000</td>\n",
              "      <td>321523.000000</td>\n",
              "    </tr>\n",
              "    <tr>\n",
              "      <th>mean</th>\n",
              "      <td>8255.479456</td>\n",
              "      <td>39516.638433</td>\n",
              "      <td>1.277109</td>\n",
              "      <td>1.490441</td>\n",
              "      <td>4.869235</td>\n",
              "    </tr>\n",
              "    <tr>\n",
              "      <th>std</th>\n",
              "      <td>5078.089576</td>\n",
              "      <td>30968.643243</td>\n",
              "      <td>0.660331</td>\n",
              "      <td>1.870620</td>\n",
              "      <td>4.533859</td>\n",
              "    </tr>\n",
              "    <tr>\n",
              "      <th>min</th>\n",
              "      <td>1001.000000</td>\n",
              "      <td>1001.000000</td>\n",
              "      <td>1.000000</td>\n",
              "      <td>0.000000</td>\n",
              "      <td>0.000000</td>\n",
              "    </tr>\n",
              "    <tr>\n",
              "      <th>25%</th>\n",
              "      <td>3658.000000</td>\n",
              "      <td>13060.000000</td>\n",
              "      <td>1.000000</td>\n",
              "      <td>0.000000</td>\n",
              "      <td>2.000000</td>\n",
              "    </tr>\n",
              "    <tr>\n",
              "      <th>50%</th>\n",
              "      <td>7179.000000</td>\n",
              "      <td>30431.000000</td>\n",
              "      <td>1.000000</td>\n",
              "      <td>1.000000</td>\n",
              "      <td>3.000000</td>\n",
              "    </tr>\n",
              "    <tr>\n",
              "      <th>75%</th>\n",
              "      <td>13253.000000</td>\n",
              "      <td>70275.000000</td>\n",
              "      <td>1.000000</td>\n",
              "      <td>2.000000</td>\n",
              "      <td>7.000000</td>\n",
              "    </tr>\n",
              "    <tr>\n",
              "      <th>max</th>\n",
              "      <td>19970.000000</td>\n",
              "      <td>99990.000000</td>\n",
              "      <td>5.000000</td>\n",
              "      <td>12.000000</td>\n",
              "      <td>90.000000</td>\n",
              "    </tr>\n",
              "  </tbody>\n",
              "</table>\n",
              "</div>"
            ],
            "text/plain": [
              "       sender_zipcode  receiver_zipcode  ...        service  shipment_days\n",
              "count   321523.000000     321523.000000  ...  321523.000000  321523.000000\n",
              "mean      8255.479456      39516.638433  ...       1.490441       4.869235\n",
              "std       5078.089576      30968.643243  ...       1.870620       4.533859\n",
              "min       1001.000000       1001.000000  ...       0.000000       0.000000\n",
              "25%       3658.000000      13060.000000  ...       0.000000       2.000000\n",
              "50%       7179.000000      30431.000000  ...       1.000000       3.000000\n",
              "75%      13253.000000      70275.000000  ...       2.000000       7.000000\n",
              "max      19970.000000      99990.000000  ...      12.000000      90.000000\n",
              "\n",
              "[8 rows x 5 columns]"
            ]
          },
          "metadata": {
            "tags": []
          },
          "execution_count": 27
        }
      ]
    },
    {
      "cell_type": "code",
      "metadata": {
        "id": "tSwP_ySqigWC",
        "colab_type": "code",
        "outputId": "dcecb032-692d-4ba3-8c80-7df3f388f09e",
        "colab": {
          "base_uri": "https://localhost:8080/",
          "height": 187
        }
      },
      "source": [
        "df_train.describe(include ='object')"
      ],
      "execution_count": 0,
      "outputs": [
        {
          "output_type": "execute_result",
          "data": {
            "text/html": [
              "<div>\n",
              "<style scoped>\n",
              "    .dataframe tbody tr th:only-of-type {\n",
              "        vertical-align: middle;\n",
              "    }\n",
              "\n",
              "    .dataframe tbody tr th {\n",
              "        vertical-align: top;\n",
              "    }\n",
              "\n",
              "    .dataframe thead th {\n",
              "        text-align: right;\n",
              "    }\n",
              "</style>\n",
              "<table border=\"1\" class=\"dataframe\">\n",
              "  <thead>\n",
              "    <tr style=\"text-align: right;\">\n",
              "      <th></th>\n",
              "      <th>sender_state</th>\n",
              "      <th>receiver_state</th>\n",
              "      <th>shipment_type</th>\n",
              "      <th>status</th>\n",
              "      <th>date_created_only_date</th>\n",
              "      <th>date_visit_only_date</th>\n",
              "    </tr>\n",
              "  </thead>\n",
              "  <tbody>\n",
              "    <tr>\n",
              "      <th>count</th>\n",
              "      <td>321523</td>\n",
              "      <td>321523</td>\n",
              "      <td>321523</td>\n",
              "      <td>321523</td>\n",
              "      <td>321523</td>\n",
              "      <td>321523</td>\n",
              "    </tr>\n",
              "    <tr>\n",
              "      <th>unique</th>\n",
              "      <td>1</td>\n",
              "      <td>27</td>\n",
              "      <td>3</td>\n",
              "      <td>2</td>\n",
              "      <td>97</td>\n",
              "      <td>15</td>\n",
              "    </tr>\n",
              "    <tr>\n",
              "      <th>top</th>\n",
              "      <td>SP</td>\n",
              "      <td>SP</td>\n",
              "      <td>express</td>\n",
              "      <td>done</td>\n",
              "      <td>2019-02-26</td>\n",
              "      <td>2019-03-08</td>\n",
              "    </tr>\n",
              "    <tr>\n",
              "      <th>freq</th>\n",
              "      <td>321523</td>\n",
              "      <td>125424</td>\n",
              "      <td>158299</td>\n",
              "      <td>318737</td>\n",
              "      <td>16994</td>\n",
              "      <td>38442</td>\n",
              "    </tr>\n",
              "  </tbody>\n",
              "</table>\n",
              "</div>"
            ],
            "text/plain": [
              "       sender_state receiver_state  ... date_created_only_date date_visit_only_date\n",
              "count        321523         321523  ...                 321523               321523\n",
              "unique            1             27  ...                     97                   15\n",
              "top              SP             SP  ...             2019-02-26           2019-03-08\n",
              "freq         321523         125424  ...                  16994                38442\n",
              "\n",
              "[4 rows x 6 columns]"
            ]
          },
          "metadata": {
            "tags": []
          },
          "execution_count": 28
        }
      ]
    },
    {
      "cell_type": "markdown",
      "metadata": {
        "id": "Mgx70KcGis3m",
        "colab_type": "text"
      },
      "source": [
        "**Observaciones** \n",
        "\n",
        "- El conjunto de entrenamiento cuenta con 321523 envíos.\n",
        "- El 75% de dichos envíos utilizan el servicio 0 ,1 y  2, donde el 25% está concentrado en el servicio 0. Predominan por lo tanto estos tres servicios en todo el conjunto de entrenamiento.\n",
        "- La mayoría de los envíos son de un item.\n",
        "- Aproximadamente el 40% (127570) de estos envíos llegan al estado de San Pablo.\n",
        "- En el 50% de estos datos shipment_days tarda hasta 3 días. "
      ]
    },
    {
      "cell_type": "markdown",
      "metadata": {
        "id": "xPhr0xCHqzd1",
        "colab_type": "text"
      },
      "source": [
        "Mostramos a continuación la distribución de las variables service y shipment_days y un pequeño análisis de receiver_zipcode."
      ]
    },
    {
      "cell_type": "code",
      "metadata": {
        "id": "-Yo1qvOLgOVC",
        "colab_type": "code",
        "outputId": "6371cb66-ab7c-4098-de41-be278ff84b3e",
        "colab": {
          "base_uri": "https://localhost:8080/",
          "height": 285
        }
      },
      "source": [
        "ax = df_train['service'].value_counts(normalize=True,sort=True,\n",
        "                                       dropna=True).sort_index().plot(kind='bar',\n",
        "                                                       grid=True)\n",
        "ax.set(xlabel=\"Servicios\",ylabel=\"% de envíos\")\n",
        "sns.despine()"
      ],
      "execution_count": 0,
      "outputs": [
        {
          "output_type": "display_data",
          "data": {
            "image/png": "[encoded data removed]",
            "text/plain": [
              "<Figure size 432x288 with 1 Axes>"
            ]
          },
          "metadata": {
            "tags": []
          }
        }
      ]
    },
    {
      "cell_type": "code",
      "metadata": {
        "id": "dxbnf3TMlGgN",
        "colab_type": "code",
        "outputId": "f6413cc8-83d1-4c04-ca8d-f133a445dcc2",
        "colab": {
          "base_uri": "https://localhost:8080/",
          "height": 533
        }
      },
      "source": [
        "plt.figure(figsize=(18,8))\n",
        "ax = df_train['shipment_days'].value_counts(normalize=True,sort=True,\n",
        "                                       dropna=True).sort_index().plot(kind='bar',\n",
        "                                                     grid=True)\n",
        "ax.set(xlabel=\"Shipment_days\",ylabel=\"% de envíos\")\n",
        "sns.despine()"
      ],
      "execution_count": 0,
      "outputs": [
        {
          "output_type": "display_data",
          "data": {
            "image/png": "[encoded data removed]",
            "text/plain": [
              "<Figure size 1296x576 with 1 Axes>"
            ]
          },
          "metadata": {
            "tags": []
          }
        }
      ]
    },
    {
      "cell_type": "markdown",
      "metadata": {
        "id": "GIlJgCd3r0Tf",
        "colab_type": "text"
      },
      "source": [
        "El primer gráfico confirma la información devuelta por la función describe donde los tres servicios más frecuentes son el 0, el 1 y el 4.\n",
        "\n",
        "En cuanto a shipment_days observamos que aquellos envíos que tardan 19 días o más representan un porcentaje muy mínimo del total de los datos (alrededor del 0.01%)"
      ]
    },
    {
      "cell_type": "code",
      "metadata": {
        "id": "mEjyHFcvslEV",
        "colab_type": "code",
        "outputId": "62c9f0a6-ff7f-4855-fef8-fdfaf21a444c",
        "colab": {
          "base_uri": "https://localhost:8080/",
          "height": 100
        }
      },
      "source": [
        "receiver_zc_train = df_train['receiver_zipcode'].astype('category')\n",
        "receiver_zc_train.describe()"
      ],
      "execution_count": 0,
      "outputs": [
        {
          "output_type": "execute_result",
          "data": {
            "text/plain": [
              "count     321523\n",
              "unique     18244\n",
              "top        36400\n",
              "freq         349\n",
              "Name: receiver_zipcode, dtype: int64"
            ]
          },
          "metadata": {
            "tags": []
          },
          "execution_count": 31
        }
      ]
    },
    {
      "cell_type": "markdown",
      "metadata": {
        "id": "LMFejqRNxYXk",
        "colab_type": "text"
      },
      "source": [
        "Observamos que el receiver_zipcode más frecuente es el 36400 el cual aparece 349 veces."
      ]
    },
    {
      "cell_type": "markdown",
      "metadata": {
        "id": "5CjQCIOoiPsR",
        "colab_type": "text"
      },
      "source": [
        "#### Análisis del conjunto de test\n",
        "\n",
        "Realizamos ahora un análisis similar sobre el conjunto de validación (o test)."
      ]
    },
    {
      "cell_type": "code",
      "metadata": {
        "id": "hcbYhLLFc4xK",
        "colab_type": "code",
        "outputId": "fed0b5d3-a0c7-4255-c471-42245b3e1c5c",
        "colab": {
          "base_uri": "https://localhost:8080/",
          "height": 287
        }
      },
      "source": [
        "df_test.describe()"
      ],
      "execution_count": 0,
      "outputs": [
        {
          "output_type": "execute_result",
          "data": {
            "text/html": [
              "<div>\n",
              "<style scoped>\n",
              "    .dataframe tbody tr th:only-of-type {\n",
              "        vertical-align: middle;\n",
              "    }\n",
              "\n",
              "    .dataframe tbody tr th {\n",
              "        vertical-align: top;\n",
              "    }\n",
              "\n",
              "    .dataframe thead th {\n",
              "        text-align: right;\n",
              "    }\n",
              "</style>\n",
              "<table border=\"1\" class=\"dataframe\">\n",
              "  <thead>\n",
              "    <tr style=\"text-align: right;\">\n",
              "      <th></th>\n",
              "      <th>sender_zipcode</th>\n",
              "      <th>receiver_zipcode</th>\n",
              "      <th>quantity</th>\n",
              "      <th>service</th>\n",
              "      <th>shipment_days</th>\n",
              "    </tr>\n",
              "  </thead>\n",
              "  <tbody>\n",
              "    <tr>\n",
              "      <th>count</th>\n",
              "      <td>32524.000000</td>\n",
              "      <td>32524.000000</td>\n",
              "      <td>32524.000000</td>\n",
              "      <td>32524.000000</td>\n",
              "      <td>32524.000000</td>\n",
              "    </tr>\n",
              "    <tr>\n",
              "      <th>mean</th>\n",
              "      <td>7761.103831</td>\n",
              "      <td>22462.617575</td>\n",
              "      <td>1.285328</td>\n",
              "      <td>1.677254</td>\n",
              "      <td>1.599250</td>\n",
              "    </tr>\n",
              "    <tr>\n",
              "      <th>std</th>\n",
              "      <td>4848.277470</td>\n",
              "      <td>25891.507878</td>\n",
              "      <td>0.667577</td>\n",
              "      <td>2.412361</td>\n",
              "      <td>0.957553</td>\n",
              "    </tr>\n",
              "    <tr>\n",
              "      <th>min</th>\n",
              "      <td>1001.000000</td>\n",
              "      <td>1001.000000</td>\n",
              "      <td>1.000000</td>\n",
              "      <td>0.000000</td>\n",
              "      <td>0.000000</td>\n",
              "    </tr>\n",
              "    <tr>\n",
              "      <th>25%</th>\n",
              "      <td>3437.000000</td>\n",
              "      <td>5771.500000</td>\n",
              "      <td>1.000000</td>\n",
              "      <td>0.000000</td>\n",
              "      <td>1.000000</td>\n",
              "    </tr>\n",
              "    <tr>\n",
              "      <th>50%</th>\n",
              "      <td>6795.000000</td>\n",
              "      <td>13025.000000</td>\n",
              "      <td>1.000000</td>\n",
              "      <td>0.000000</td>\n",
              "      <td>1.000000</td>\n",
              "    </tr>\n",
              "    <tr>\n",
              "      <th>75%</th>\n",
              "      <td>13076.000000</td>\n",
              "      <td>25615.000000</td>\n",
              "      <td>1.000000</td>\n",
              "      <td>4.000000</td>\n",
              "      <td>2.000000</td>\n",
              "    </tr>\n",
              "    <tr>\n",
              "      <th>max</th>\n",
              "      <td>19970.000000</td>\n",
              "      <td>99950.000000</td>\n",
              "      <td>5.000000</td>\n",
              "      <td>10.000000</td>\n",
              "      <td>6.000000</td>\n",
              "    </tr>\n",
              "  </tbody>\n",
              "</table>\n",
              "</div>"
            ],
            "text/plain": [
              "       sender_zipcode  receiver_zipcode  ...       service  shipment_days\n",
              "count    32524.000000      32524.000000  ...  32524.000000   32524.000000\n",
              "mean      7761.103831      22462.617575  ...      1.677254       1.599250\n",
              "std       4848.277470      25891.507878  ...      2.412361       0.957553\n",
              "min       1001.000000       1001.000000  ...      0.000000       0.000000\n",
              "25%       3437.000000       5771.500000  ...      0.000000       1.000000\n",
              "50%       6795.000000      13025.000000  ...      0.000000       1.000000\n",
              "75%      13076.000000      25615.000000  ...      4.000000       2.000000\n",
              "max      19970.000000      99950.000000  ...     10.000000       6.000000\n",
              "\n",
              "[8 rows x 5 columns]"
            ]
          },
          "metadata": {
            "tags": []
          },
          "execution_count": 32
        }
      ]
    },
    {
      "cell_type": "code",
      "metadata": {
        "id": "tENY5qubyCFJ",
        "colab_type": "code",
        "outputId": "ba45dc0d-16b0-4ab3-b60d-badcce640ac5",
        "colab": {
          "base_uri": "https://localhost:8080/",
          "height": 187
        }
      },
      "source": [
        "df_test.describe(include='object')"
      ],
      "execution_count": 0,
      "outputs": [
        {
          "output_type": "execute_result",
          "data": {
            "text/html": [
              "<div>\n",
              "<style scoped>\n",
              "    .dataframe tbody tr th:only-of-type {\n",
              "        vertical-align: middle;\n",
              "    }\n",
              "\n",
              "    .dataframe tbody tr th {\n",
              "        vertical-align: top;\n",
              "    }\n",
              "\n",
              "    .dataframe thead th {\n",
              "        text-align: right;\n",
              "    }\n",
              "</style>\n",
              "<table border=\"1\" class=\"dataframe\">\n",
              "  <thead>\n",
              "    <tr style=\"text-align: right;\">\n",
              "      <th></th>\n",
              "      <th>sender_state</th>\n",
              "      <th>receiver_state</th>\n",
              "      <th>shipment_type</th>\n",
              "      <th>status</th>\n",
              "      <th>date_created_only_date</th>\n",
              "      <th>date_visit_only_date</th>\n",
              "    </tr>\n",
              "  </thead>\n",
              "  <tbody>\n",
              "    <tr>\n",
              "      <th>count</th>\n",
              "      <td>32524</td>\n",
              "      <td>32524</td>\n",
              "      <td>32524</td>\n",
              "      <td>32524</td>\n",
              "      <td>32524</td>\n",
              "      <td>32524</td>\n",
              "    </tr>\n",
              "    <tr>\n",
              "      <th>unique</th>\n",
              "      <td>1</td>\n",
              "      <td>27</td>\n",
              "      <td>3</td>\n",
              "      <td>2</td>\n",
              "      <td>8</td>\n",
              "      <td>6</td>\n",
              "    </tr>\n",
              "    <tr>\n",
              "      <th>top</th>\n",
              "      <td>SP</td>\n",
              "      <td>SP</td>\n",
              "      <td>express</td>\n",
              "      <td>done</td>\n",
              "      <td>2019-03-21</td>\n",
              "      <td>2019-03-28</td>\n",
              "    </tr>\n",
              "    <tr>\n",
              "      <th>freq</th>\n",
              "      <td>32524</td>\n",
              "      <td>22836</td>\n",
              "      <td>25096</td>\n",
              "      <td>32281</td>\n",
              "      <td>8908</td>\n",
              "      <td>10625</td>\n",
              "    </tr>\n",
              "  </tbody>\n",
              "</table>\n",
              "</div>"
            ],
            "text/plain": [
              "       sender_state receiver_state  ... date_created_only_date date_visit_only_date\n",
              "count         32524          32524  ...                  32524                32524\n",
              "unique            1             27  ...                      8                    6\n",
              "top              SP             SP  ...             2019-03-21           2019-03-28\n",
              "freq          32524          22836  ...                   8908                10625\n",
              "\n",
              "[4 rows x 6 columns]"
            ]
          },
          "metadata": {
            "tags": []
          },
          "execution_count": 33
        }
      ]
    },
    {
      "cell_type": "markdown",
      "metadata": {
        "id": "hb9gN0e6yOBn",
        "colab_type": "text"
      },
      "source": [
        "**Observaciones**\n",
        "\n",
        "- Este conjunto cuenta con un total de 32525 envíos.\n",
        "- El 50% de los envíos utiliza el servicio 0.\n",
        "- La variable shipment_days abarca desde 1 día hasta 6 días.\n",
        "- La mayoría de los envíos son de un item.\n",
        "- Aproximadamente el 70% (22836) de estos envíos llegan a San Pablo."
      ]
    },
    {
      "cell_type": "markdown",
      "metadata": {
        "id": "PSWbsGmC0Hs9",
        "colab_type": "text"
      },
      "source": [
        "Analizamos ahora las variables service, shipment_days y receiver_zipcode."
      ]
    },
    {
      "cell_type": "code",
      "metadata": {
        "id": "gLjbYFKehPlM",
        "colab_type": "code",
        "outputId": "156136ff-dbab-4489-ccca-a7af8da736e0",
        "colab": {
          "base_uri": "https://localhost:8080/",
          "height": 284
        }
      },
      "source": [
        "ax = df_test['service'].value_counts(normalize=True,sort=True,\n",
        "                                       dropna=True).sort_index().plot(kind='bar',\n",
        "                                                       grid=True)\n",
        "ax.set(xlabel=\"Servicios\",ylabel=\"% de envíos\")\n",
        "sns.despine()"
      ],
      "execution_count": 0,
      "outputs": [
        {
          "output_type": "display_data",
          "data": {
            "image/png": "[encoded data removed]",
            "text/plain": [
              "<Figure size 432x288 with 1 Axes>"
            ]
          },
          "metadata": {
            "tags": []
          }
        }
      ]
    },
    {
      "cell_type": "code",
      "metadata": {
        "id": "8L_mdPZu0iBK",
        "colab_type": "code",
        "outputId": "bd671761-67b7-4372-e1e5-cf4ed97d03b6",
        "colab": {
          "base_uri": "https://localhost:8080/",
          "height": 290
        }
      },
      "source": [
        "plt.figure(figsize=(6,4))\n",
        "ax = df_test['shipment_days'].value_counts(normalize=True,sort=True,\n",
        "                                       dropna=True).sort_index().plot(kind='bar',\n",
        "                                                     grid=True)\n",
        "ax.set(xlabel=\"Shipment_days\",ylabel=\"% de envíos\")\n",
        "sns.despine()"
      ],
      "execution_count": 0,
      "outputs": [
        {
          "output_type": "display_data",
          "data": {
            "image/png": "[encoded data removed]",
            "text/plain": [
              "<Figure size 432x288 with 1 Axes>"
            ]
          },
          "metadata": {
            "tags": []
          }
        }
      ]
    },
    {
      "cell_type": "code",
      "metadata": {
        "id": "hwRiDTHc0xfp",
        "colab_type": "code",
        "outputId": "14158833-2262-441a-b675-4055d15b738c",
        "colab": {
          "base_uri": "https://localhost:8080/",
          "height": 100
        }
      },
      "source": [
        "receiver_zc_test = df_test['receiver_zipcode'].astype('category')\n",
        "receiver_zc_test.describe()"
      ],
      "execution_count": 0,
      "outputs": [
        {
          "output_type": "execute_result",
          "data": {
            "text/plain": [
              "count     32524\n",
              "unique     9001\n",
              "top       13470\n",
              "freq         58\n",
              "Name: receiver_zipcode, dtype: int64"
            ]
          },
          "metadata": {
            "tags": []
          },
          "execution_count": 36
        }
      ]
    },
    {
      "cell_type": "markdown",
      "metadata": {
        "id": "L2ijgGoj098Z",
        "colab_type": "text"
      },
      "source": [
        "El primer gráfico confirma el alto predominio del servicio de correo 0, el cual abarca más del 50% de los datos del conjunto de test.\n",
        "\n",
        "En el caso de shipment_days, a diferencia del conjunto de entrenamiento, esta variable solo abarca 7 valores distintos donde predominan los envíos que tardan 1 o 2 en llegar.\n",
        "\n",
        "En este caso, el zipcode 13470 es el más frecuente en todo el dataset el cual se presenta en 58 envíos.\n",
        "\n",
        "Por lo tanto al momento de analizar los resultados debemos tener en cuenta las diferencias entre el conjunto de entrenamiento y de test principalmente lo que notamos en shipment_days (dado que este es nuestro target) y en service (pues es uno de los features más importantes en nuestro análisis)."
      ]
    },
    {
      "cell_type": "markdown",
      "metadata": {
        "id": "p_Zliuxu2pnq",
        "colab_type": "text"
      },
      "source": [
        "#### Definición de X_train, y_train, X_test e y_test."
      ]
    },
    {
      "cell_type": "markdown",
      "metadata": {
        "id": "nZUE7kf-X_S3",
        "colab_type": "text"
      },
      "source": [
        "Ahora podemos definir los X_train, y_train , X_test, e y_test.\n",
        "\n",
        "En X_train vamos a seleccionar los features que previamente habiamos elegimos como los mas representativos."
      ]
    },
    {
      "cell_type": "code",
      "metadata": {
        "id": "Jq8AzxarEJdb",
        "colab_type": "code",
        "colab": {}
      },
      "source": [
        "X_train = df_train[['receiver_zipcode','service']]"
      ],
      "execution_count": 0,
      "outputs": []
    },
    {
      "cell_type": "code",
      "metadata": {
        "id": "4oD9-qqFEukS",
        "colab_type": "code",
        "colab": {}
      },
      "source": [
        "y_train = df_train[['shipment_days']]"
      ],
      "execution_count": 0,
      "outputs": []
    },
    {
      "cell_type": "code",
      "metadata": {
        "id": "L8tu4D_IEvxD",
        "colab_type": "code",
        "colab": {}
      },
      "source": [
        "X_test = df_test[['receiver_zipcode','service']]"
      ],
      "execution_count": 0,
      "outputs": []
    },
    {
      "cell_type": "code",
      "metadata": {
        "id": "bRKaYf3SE1yu",
        "colab_type": "code",
        "colab": {}
      },
      "source": [
        "y_test = df_test[['shipment_days']]"
      ],
      "execution_count": 0,
      "outputs": []
    },
    {
      "cell_type": "markdown",
      "metadata": {
        "id": "zDogNfuQZBZ5",
        "colab_type": "text"
      },
      "source": [
        "Corroboremos que todos nos quedaron del mismo tamaño:"
      ]
    },
    {
      "cell_type": "code",
      "metadata": {
        "id": "pzzs4iU5FXMi",
        "colab_type": "code",
        "outputId": "2b325919-eda4-41ca-8e60-bd6ea901f421",
        "colab": {
          "base_uri": "https://localhost:8080/",
          "height": 33
        }
      },
      "source": [
        "X_train.shape"
      ],
      "execution_count": 0,
      "outputs": [
        {
          "output_type": "execute_result",
          "data": {
            "text/plain": [
              "(321523, 2)"
            ]
          },
          "metadata": {
            "tags": []
          },
          "execution_count": 41
        }
      ]
    },
    {
      "cell_type": "code",
      "metadata": {
        "id": "BRqfShJdFaHV",
        "colab_type": "code",
        "outputId": "2d10f454-cdd8-4c55-aa92-be0b37711ab0",
        "colab": {
          "base_uri": "https://localhost:8080/",
          "height": 33
        }
      },
      "source": [
        "X_test.shape"
      ],
      "execution_count": 0,
      "outputs": [
        {
          "output_type": "execute_result",
          "data": {
            "text/plain": [
              "(32524, 2)"
            ]
          },
          "metadata": {
            "tags": []
          },
          "execution_count": 42
        }
      ]
    },
    {
      "cell_type": "code",
      "metadata": {
        "id": "xsQ9ClTkFcBG",
        "colab_type": "code",
        "outputId": "8b216967-dbe4-48fd-8bb9-3caa08f428ac",
        "colab": {
          "base_uri": "https://localhost:8080/",
          "height": 33
        }
      },
      "source": [
        "y_train.shape"
      ],
      "execution_count": 0,
      "outputs": [
        {
          "output_type": "execute_result",
          "data": {
            "text/plain": [
              "(321523, 1)"
            ]
          },
          "metadata": {
            "tags": []
          },
          "execution_count": 43
        }
      ]
    },
    {
      "cell_type": "code",
      "metadata": {
        "id": "lfsVFPbTFfzJ",
        "colab_type": "code",
        "outputId": "66c49ec5-bee5-494b-9b78-d5d608379c5d",
        "colab": {
          "base_uri": "https://localhost:8080/",
          "height": 33
        }
      },
      "source": [
        "y_test.shape"
      ],
      "execution_count": 0,
      "outputs": [
        {
          "output_type": "execute_result",
          "data": {
            "text/plain": [
              "(32524, 1)"
            ]
          },
          "metadata": {
            "tags": []
          },
          "execution_count": 44
        }
      ]
    },
    {
      "cell_type": "markdown",
      "metadata": {
        "id": "2gafsKetSQXp",
        "colab_type": "text"
      },
      "source": [
        "### DecisionTree"
      ]
    },
    {
      "cell_type": "markdown",
      "metadata": {
        "id": "lChYYqwmZVsk",
        "colab_type": "text"
      },
      "source": [
        "Como nuestro y (shipment_days) es categórico consideramos mejor una clasificación.\n",
        "Como primera elección consideramos decisiontree para ver como se comporta con la clasificación:"
      ]
    },
    {
      "cell_type": "code",
      "metadata": {
        "id": "qqVo4Vc5Ztf0",
        "colab_type": "code",
        "colab": {}
      },
      "source": [
        "features_names = [\"receiver_code\",\"service\"]"
      ],
      "execution_count": 0,
      "outputs": []
    },
    {
      "cell_type": "code",
      "metadata": {
        "id": "02W68qnYZwYc",
        "colab_type": "code",
        "colab": {}
      },
      "source": [
        "target_names = [\"0\",\"1\",\"2\",\"3\",\"4\",\"5\",\"6\"]"
      ],
      "execution_count": 0,
      "outputs": []
    },
    {
      "cell_type": "markdown",
      "metadata": {
        "id": "QinpoftdaVk9",
        "colab_type": "text"
      },
      "source": [
        "Para usar el clasificador desicionTree necesita que el target sea un valor entero, por ende convertimos shipment_day en entero (acá podemos ver el gráfico más arriba planteado de shipment_days):"
      ]
    },
    {
      "cell_type": "code",
      "metadata": {
        "id": "6gZRxYJDZ0N8",
        "colab_type": "code",
        "colab": {}
      },
      "source": [
        "shipment_days = y_train['shipment_days'].astype(int)\n",
        "shipment_days_byclass = [None] * len(shipment_days)\n",
        "for line,row in enumerate(shipment_days):\n",
        "    if 0==row:\n",
        "        shipment_days_byclass[line] = 0\n",
        "    elif 1==row:\n",
        "        shipment_days_byclass[line] = 1     \n",
        "    elif 2==row:\n",
        "        shipment_days_byclass[line] = 2\n",
        "    elif 3==row:\n",
        "        shipment_days_byclass[line] = 3\n",
        "    elif 4==row:\n",
        "        shipment_days_byclass[line] = 4\n",
        "    elif 5==row:\n",
        "        shipment_days_byclass[line] = 5        \n",
        "    else:\n",
        "        shipment_days_byclass[line] = 6"
      ],
      "execution_count": 0,
      "outputs": []
    },
    {
      "cell_type": "code",
      "metadata": {
        "id": "RI8UPU6tZ80s",
        "colab_type": "code",
        "outputId": "9833eb19-9c93-4e92-f85e-7a91a0aac85c",
        "colab": {
          "base_uri": "https://localhost:8080/",
          "height": 136
        }
      },
      "source": [
        "y_train['shipment_days_byclass'] = shipment_days_byclass"
      ],
      "execution_count": 0,
      "outputs": [
        {
          "output_type": "stream",
          "text": [
            "/usr/local/lib/python3.6/dist-packages/ipykernel_launcher.py:1: SettingWithCopyWarning: \n",
            "A value is trying to be set on a copy of a slice from a DataFrame.\n",
            "Try using .loc[row_indexer,col_indexer] = value instead\n",
            "\n",
            "See the caveats in the documentation: http://pandas.pydata.org/pandas-docs/stable/indexing.html#indexing-view-versus-copy\n",
            "  \"\"\"Entry point for launching an IPython kernel.\n"
          ],
          "name": "stderr"
        }
      ]
    },
    {
      "cell_type": "code",
      "metadata": {
        "id": "wOOeyNFEaBCq",
        "colab_type": "code",
        "outputId": "e96e1784-0012-4a76-85ac-691c702dd088",
        "colab": {
          "base_uri": "https://localhost:8080/",
          "height": 116
        }
      },
      "source": [
        "y_train['shipment_days_byclass'].head()"
      ],
      "execution_count": 0,
      "outputs": [
        {
          "output_type": "execute_result",
          "data": {
            "text/plain": [
              "0    5\n",
              "1    5\n",
              "2    4\n",
              "3    2\n",
              "4    6\n",
              "Name: shipment_days_byclass, dtype: int64"
            ]
          },
          "metadata": {
            "tags": []
          },
          "execution_count": 49
        }
      ]
    },
    {
      "cell_type": "markdown",
      "metadata": {
        "id": "2jKQgpHvazwm",
        "colab_type": "text"
      },
      "source": [
        "Hay que hacer lo mismo para los valores de validación:"
      ]
    },
    {
      "cell_type": "code",
      "metadata": {
        "id": "sCzOvp5Rayrt",
        "colab_type": "code",
        "colab": {}
      },
      "source": [
        "shipment_days_test = y_test['shipment_days'].astype(int)\n",
        "shipment_days_byclass_test = [None] * len(shipment_days_test)\n",
        "for line,row in enumerate(shipment_days_test):\n",
        "    if 0==row:\n",
        "        shipment_days_byclass_test[line] = 0\n",
        "    elif 1==row:\n",
        "        shipment_days_byclass_test[line] = 1     \n",
        "    elif 2==row:\n",
        "        shipment_days_byclass_test[line] = 2\n",
        "    elif 3==row:\n",
        "        shipment_days_byclass_test[line] = 3\n",
        "    elif 4==row:\n",
        "        shipment_days_byclass_test[line] = 4\n",
        "    elif 5==row:\n",
        "        shipment_days_byclass_test[line] = 5        \n",
        "    else:\n",
        "        shipment_days_byclass_test[line] = 6"
      ],
      "execution_count": 0,
      "outputs": []
    },
    {
      "cell_type": "code",
      "metadata": {
        "id": "kejhJhANa8MP",
        "colab_type": "code",
        "outputId": "7ca9194e-4ff5-400b-a2bf-fcfac72e9a5f",
        "colab": {
          "base_uri": "https://localhost:8080/",
          "height": 136
        }
      },
      "source": [
        "y_test['shipment_days_byclass'] = shipment_days_byclass_test"
      ],
      "execution_count": 0,
      "outputs": [
        {
          "output_type": "stream",
          "text": [
            "/usr/local/lib/python3.6/dist-packages/ipykernel_launcher.py:1: SettingWithCopyWarning: \n",
            "A value is trying to be set on a copy of a slice from a DataFrame.\n",
            "Try using .loc[row_indexer,col_indexer] = value instead\n",
            "\n",
            "See the caveats in the documentation: http://pandas.pydata.org/pandas-docs/stable/indexing.html#indexing-view-versus-copy\n",
            "  \"\"\"Entry point for launching an IPython kernel.\n"
          ],
          "name": "stderr"
        }
      ]
    },
    {
      "cell_type": "code",
      "metadata": {
        "id": "59XpKtLtbBY8",
        "colab_type": "code",
        "outputId": "9c8b2f01-a248-45dd-b333-e6b1cb46e88c",
        "colab": {
          "base_uri": "https://localhost:8080/",
          "height": 33
        }
      },
      "source": [
        "y_test['shipment_days_byclass'].values"
      ],
      "execution_count": 0,
      "outputs": [
        {
          "output_type": "execute_result",
          "data": {
            "text/plain": [
              "array([1, 0, 3, ..., 3, 1, 2])"
            ]
          },
          "metadata": {
            "tags": []
          },
          "execution_count": 52
        }
      ]
    },
    {
      "cell_type": "code",
      "metadata": {
        "id": "6R_kuHZueaMr",
        "colab_type": "code",
        "outputId": "9a0756db-fdf7-45aa-df21-f8014bcfae53",
        "colab": {
          "base_uri": "https://localhost:8080/",
          "height": 197
        }
      },
      "source": [
        "X_train.head()"
      ],
      "execution_count": 0,
      "outputs": [
        {
          "output_type": "execute_result",
          "data": {
            "text/html": [
              "<div>\n",
              "<style scoped>\n",
              "    .dataframe tbody tr th:only-of-type {\n",
              "        vertical-align: middle;\n",
              "    }\n",
              "\n",
              "    .dataframe tbody tr th {\n",
              "        vertical-align: top;\n",
              "    }\n",
              "\n",
              "    .dataframe thead th {\n",
              "        text-align: right;\n",
              "    }\n",
              "</style>\n",
              "<table border=\"1\" class=\"dataframe\">\n",
              "  <thead>\n",
              "    <tr style=\"text-align: right;\">\n",
              "      <th></th>\n",
              "      <th>receiver_zipcode</th>\n",
              "      <th>service</th>\n",
              "    </tr>\n",
              "  </thead>\n",
              "  <tbody>\n",
              "    <tr>\n",
              "      <th>0</th>\n",
              "      <td>14500</td>\n",
              "      <td>1</td>\n",
              "    </tr>\n",
              "    <tr>\n",
              "      <th>1</th>\n",
              "      <td>58670</td>\n",
              "      <td>1</td>\n",
              "    </tr>\n",
              "    <tr>\n",
              "      <th>2</th>\n",
              "      <td>22723</td>\n",
              "      <td>2</td>\n",
              "    </tr>\n",
              "    <tr>\n",
              "      <th>3</th>\n",
              "      <td>18682</td>\n",
              "      <td>2</td>\n",
              "    </tr>\n",
              "    <tr>\n",
              "      <th>4</th>\n",
              "      <td>68908</td>\n",
              "      <td>1</td>\n",
              "    </tr>\n",
              "  </tbody>\n",
              "</table>\n",
              "</div>"
            ],
            "text/plain": [
              "   receiver_zipcode  service\n",
              "0             14500        1\n",
              "1             58670        1\n",
              "2             22723        2\n",
              "3             18682        2\n",
              "4             68908        1"
            ]
          },
          "metadata": {
            "tags": []
          },
          "execution_count": 53
        }
      ]
    },
    {
      "cell_type": "code",
      "metadata": {
        "id": "O3gD2znabHgu",
        "colab_type": "code",
        "colab": {}
      },
      "source": [
        "clf = tree.DecisionTreeClassifier()\n",
        "clf = clf.fit(X_train, y_train[\"shipment_days_byclass\"])"
      ],
      "execution_count": 0,
      "outputs": []
    },
    {
      "cell_type": "code",
      "metadata": {
        "id": "W96tHE-Sd1_W",
        "colab_type": "code",
        "outputId": "29afbae6-1855-4c78-dbe1-57913543ebf4",
        "colab": {
          "base_uri": "https://localhost:8080/",
          "height": 33
        }
      },
      "source": [
        "predictions = clf.predict(X_train)\n",
        "print ('Accuracy: %d ' % ((np.sum(y_train[\"shipment_days_byclass\"] == predictions))/float(y_train[\"shipment_days_byclass\"].size)*100))"
      ],
      "execution_count": 0,
      "outputs": [
        {
          "output_type": "stream",
          "text": [
            "Accuracy: 65 \n"
          ],
          "name": "stdout"
        }
      ]
    },
    {
      "cell_type": "code",
      "metadata": {
        "id": "OT6igrqZeMu0",
        "colab_type": "code",
        "outputId": "ce307040-fd8e-44b9-8b8a-69358abee9cc",
        "colab": {
          "base_uri": "https://localhost:8080/",
          "height": 33
        }
      },
      "source": [
        "predictions = clf.predict(X_test)\n",
        "print ('Accuracy: %d ' % ((np.sum(y_test[\"shipment_days_byclass\"] == predictions))/float(y_test[\"shipment_days_byclass\"].size)*100))"
      ],
      "execution_count": 0,
      "outputs": [
        {
          "output_type": "stream",
          "text": [
            "Accuracy: 50 \n"
          ],
          "name": "stdout"
        }
      ]
    },
    {
      "cell_type": "code",
      "metadata": {
        "id": "Gy0rmXjQZmzw",
        "colab_type": "code",
        "outputId": "dcaa79c7-3160-43f2-f1f2-93327cd1fd78",
        "colab": {
          "base_uri": "https://localhost:8080/",
          "height": 300
        }
      },
      "source": [
        "print(\"Reporte de clasificación (sobre conjunto de evaluación):\", end=\"\\n\\n\")\n",
        "y_true, y_pred = y_test[\"shipment_days_byclass\"], clf.predict(X_test)\n",
        "print(classification_report(y_true, y_pred), end=\"\\n\\n\")"
      ],
      "execution_count": 0,
      "outputs": [
        {
          "output_type": "stream",
          "text": [
            "Reporte de clasificación (sobre conjunto de evaluación):\n",
            "\n",
            "              precision    recall  f1-score   support\n",
            "\n",
            "           0       0.34      0.37      0.35      1826\n",
            "           1       0.67      0.73      0.70     16445\n",
            "           2       0.43      0.31      0.36      8988\n",
            "           3       0.28      0.19      0.23      3774\n",
            "           4       0.13      0.10      0.11      1195\n",
            "           5       0.04      0.05      0.05       285\n",
            "           6       0.00      0.18      0.00        11\n",
            "\n",
            "    accuracy                           0.50     32524\n",
            "   macro avg       0.27      0.28      0.26     32524\n",
            "weighted avg       0.51      0.50      0.50     32524\n",
            "\n",
            "\n"
          ],
          "name": "stdout"
        }
      ]
    },
    {
      "cell_type": "markdown",
      "metadata": {
        "id": "33Biw46Tnpwc",
        "colab_type": "text"
      },
      "source": [
        "Del reporte de clasificación podemos leer que las 4 primeras clases son las que mejor precisión tienen, y las demás muy poca prediccción tienen; cuarta, quinta y sexta. En sexta tenemos una precisión de un 0 porciento por ende no las está prediciendo. También esto lo podemos ver en la matriz de confusión que se muestra a continuación:"
      ]
    },
    {
      "cell_type": "code",
      "metadata": {
        "id": "I_tzXiCPfj8s",
        "colab_type": "code",
        "outputId": "8466ac98-dc95-4d23-b048-755eabbc89b4",
        "colab": {
          "base_uri": "https://localhost:8080/",
          "height": 133
        }
      },
      "source": [
        "print(confusion_matrix(y_true, y_pred)) "
      ],
      "execution_count": 0,
      "outputs": [
        {
          "output_type": "stream",
          "text": [
            "[[  667  1089    57     7     3     0     3]\n",
            " [ 1140 11990  2479   504   134    25   173]\n",
            " [  151  3968  2804  1148   291    92   534]\n",
            " [   12   670  1042   731   289   131   899]\n",
            " [    1   100   153   205   116    70   550]\n",
            " [    0    13    24    34    31    15   168]\n",
            " [    0     0     1     2     3     3     2]]\n"
          ],
          "name": "stdout"
        }
      ]
    },
    {
      "cell_type": "markdown",
      "metadata": {
        "id": "rQrcRjholK56",
        "colab_type": "text"
      },
      "source": [
        "A continuación haremos una exploración de los hiperparámetros, para ver cuáles son los mejores hiperparámetros para el decisionTree que maximicen el accuracy."
      ]
    },
    {
      "cell_type": "code",
      "metadata": {
        "id": "xMYp0WE9oQwu",
        "colab_type": "code",
        "outputId": "a407971c-6ae7-4ede-af60-ec55940ce7e3",
        "colab": {
          "base_uri": "https://localhost:8080/",
          "height": 1000
        }
      },
      "source": [
        "for idx, criterion in enumerate(('gini','entropy'),start=1):\n",
        "    exploring_params = {\n",
        "        \"max_depth\" :  [20, 21, 22],\n",
        "        \"min_samples_leaf\" : [2,3,4]\n",
        "    }\n",
        "    m = tree.DecisionTreeClassifier(criterion=criterion)\n",
        "    model = GridSearchCV(m, exploring_params, cv=5, scoring='accuracy') \n",
        "    model.fit(X_train, y_train[\"shipment_days_byclass\"])\n",
        "    print(\"# Exploración de hiperparámetros para función criterion \\\"%s\\\"\" % criterion, end=\"\\n\\n\")\n",
        "    \n",
        "    print(\"Mejor conjunto de parámetros:\")\n",
        "    print(model.best_params_, end=\"\\n\\n\")\n",
        "    \n",
        "    print(\"Puntajes de la grilla:\", end=\"\\n\\n\")\n",
        "    means = model.cv_results_['mean_test_score']\n",
        "    stds = model.cv_results_['std_test_score']\n",
        "    \n",
        "    for mean, std, params in zip(means, stds, model.cv_results_['params']):\n",
        "        print(\"Exactitud: %0.3f (+/-%0.03f) para los parámetros %r\" % (mean, std ** 2, params))\n",
        "    print()\n",
        "    \n",
        "    print(\"Reporte de clasificación para el mejor clasificador (sobre conjunto de evaluación):\", end=\"\\n\\n\")\n",
        "    y_true, y_pred = y_test[\"shipment_days_byclass\"], model.predict(X_test)\n",
        "    print(classification_report(y_true, y_pred), end=\"\\n\\n\")\n",
        "    \n",
        "    print(\"================================================\", end=\"\\n\\n\")\n",
        "    print(\"Matriz de confusión (sobre conjunto de evaluación) para %s\" % criterion)\n",
        "    print(confusion_matrix(y_true, y_pred))                          \n",
        "    \n",
        "    print(\"================================================\", end=\"\\n\\n\")\n",
        "    \n",
        "    print(\"Reporte de clasificación para el mejor clasificador (sobre conjunto de entrenamiento):\", end=\"\\n\\n\")\n",
        "    y_true_t, y_pred_t = y_train[\"shipment_days_byclass\"], model.predict(X_train)\n",
        "    print(classification_report(y_true_t, y_pred_t), end=\"\\n\\n\")\n",
        "    \n",
        "    print(\"================================================\", end=\"\\n\\n\") \n",
        "    print(\"Matriz de confusión (sobre conjunto de entrenamiento) para %s\" % criterion)\n",
        "    print(confusion_matrix(y_true_t, y_pred_t))\n",
        "    \n",
        "    \n",
        "    print(\"================================================\", end=\"\\n\\n\")    \n",
        "    print (\"Accuracy on test is \", accuracy_score(y_test[\"shipment_days_byclass\"], y_pred)*100)\n",
        "    print (\"Accuracy on training is \", accuracy_score(y_train[\"shipment_days_byclass\"], y_pred_t)*100)\n",
        "    \n",
        "    print(\"================================================\", end=\"\\n\\n\")    \n",
        "  "
      ],
      "execution_count": 0,
      "outputs": [
        {
          "output_type": "stream",
          "text": [
            "# Exploración de hiperparámetros para función criterion \"gini\"\n",
            "\n",
            "Mejor conjunto de parámetros:\n",
            "{'max_depth': 20, 'min_samples_leaf': 4}\n",
            "\n",
            "Puntajes de la grilla:\n",
            "\n",
            "Exactitud: 0.549 (+/-0.000) para los parámetros {'max_depth': 20, 'min_samples_leaf': 2}\n",
            "Exactitud: 0.551 (+/-0.000) para los parámetros {'max_depth': 20, 'min_samples_leaf': 3}\n",
            "Exactitud: 0.552 (+/-0.000) para los parámetros {'max_depth': 20, 'min_samples_leaf': 4}\n",
            "Exactitud: 0.547 (+/-0.000) para los parámetros {'max_depth': 21, 'min_samples_leaf': 2}\n",
            "Exactitud: 0.549 (+/-0.000) para los parámetros {'max_depth': 21, 'min_samples_leaf': 3}\n",
            "Exactitud: 0.551 (+/-0.000) para los parámetros {'max_depth': 21, 'min_samples_leaf': 4}\n",
            "Exactitud: 0.545 (+/-0.000) para los parámetros {'max_depth': 22, 'min_samples_leaf': 2}\n",
            "Exactitud: 0.548 (+/-0.000) para los parámetros {'max_depth': 22, 'min_samples_leaf': 3}\n",
            "Exactitud: 0.549 (+/-0.000) para los parámetros {'max_depth': 22, 'min_samples_leaf': 4}\n",
            "\n",
            "Reporte de clasificación para el mejor clasificador (sobre conjunto de evaluación):\n",
            "\n",
            "              precision    recall  f1-score   support\n",
            "\n",
            "           0       0.40      0.24      0.30      1826\n",
            "           1       0.68      0.79      0.73     16445\n",
            "           2       0.45      0.32      0.37      8988\n",
            "           3       0.29      0.20      0.24      3774\n",
            "           4       0.15      0.09      0.11      1195\n",
            "           5       0.04      0.03      0.04       285\n",
            "           6       0.00      0.18      0.00        11\n",
            "\n",
            "    accuracy                           0.53     32524\n",
            "   macro avg       0.29      0.26      0.26     32524\n",
            "weighted avg       0.53      0.53      0.52     32524\n",
            "\n",
            "\n",
            "================================================\n",
            "\n",
            "Matriz de confusión (sobre conjunto de evaluación) para gini\n",
            "[[  446  1318    57     3     1     0     1]\n",
            " [  587 13056  2127   410    73    15   177]\n",
            " [   70  4005  2834  1170   241    56   612]\n",
            " [    4   638  1048   752   244    79  1009]\n",
            " [    0    80   149   203   106    48   609]\n",
            " [    0     8    21    36    31     9   180]\n",
            " [    0     0     0     4     3     2     2]]\n",
            "================================================\n",
            "\n",
            "Reporte de clasificación para el mejor clasificador (sobre conjunto de entrenamiento):\n",
            "\n",
            "              precision    recall  f1-score   support\n",
            "\n",
            "           0       0.60      0.30      0.40      9719\n",
            "           1       0.56      0.80      0.66     66882\n",
            "           2       0.46      0.42      0.44     53752\n",
            "           3       0.44      0.34      0.39     40789\n",
            "           4       0.44      0.21      0.28     27318\n",
            "           5       0.47      0.11      0.18     19633\n",
            "           6       0.79      0.93      0.85    103430\n",
            "\n",
            "    accuracy                           0.61    321523\n",
            "   macro avg       0.54      0.45      0.46    321523\n",
            "weighted avg       0.59      0.61      0.58    321523\n",
            "\n",
            "\n",
            "================================================\n",
            "\n",
            "Matriz de confusión (sobre conjunto de evaluación) para gini\n",
            "[[ 2912  6269   443    47    10     4    34]\n",
            " [ 1680 53718  8366  2065   311    78   664]\n",
            " [  167 21100 22808  5820  1271   263  2323]\n",
            " [   35  8958  9950 13948  2160   568  5170]\n",
            " [   11  3546  4398  5049  5695   683  7936]\n",
            " [    6  1467  1788  2484  1873  2176  9839]\n",
            " [   12  1289  1426  1994  1626   838 96245]]\n",
            "================================================\n",
            "\n",
            "Accuracy on test is  52.899397368097404\n",
            "Accuracy on training is  61.427020773008465\n",
            "================================================\n",
            "\n",
            "# Exploración de hiperparámetros para función criterion \"entropy\"\n",
            "\n",
            "Mejor conjunto de parámetros:\n",
            "{'max_depth': 20, 'min_samples_leaf': 4}\n",
            "\n",
            "Puntajes de la grilla:\n",
            "\n",
            "Exactitud: 0.548 (+/-0.000) para los parámetros {'max_depth': 20, 'min_samples_leaf': 2}\n",
            "Exactitud: 0.550 (+/-0.000) para los parámetros {'max_depth': 20, 'min_samples_leaf': 3}\n",
            "Exactitud: 0.552 (+/-0.000) para los parámetros {'max_depth': 20, 'min_samples_leaf': 4}\n",
            "Exactitud: 0.546 (+/-0.000) para los parámetros {'max_depth': 21, 'min_samples_leaf': 2}\n",
            "Exactitud: 0.548 (+/-0.000) para los parámetros {'max_depth': 21, 'min_samples_leaf': 3}\n",
            "Exactitud: 0.550 (+/-0.000) para los parámetros {'max_depth': 21, 'min_samples_leaf': 4}\n",
            "Exactitud: 0.544 (+/-0.000) para los parámetros {'max_depth': 22, 'min_samples_leaf': 2}\n",
            "Exactitud: 0.547 (+/-0.000) para los parámetros {'max_depth': 22, 'min_samples_leaf': 3}\n",
            "Exactitud: 0.549 (+/-0.000) para los parámetros {'max_depth': 22, 'min_samples_leaf': 4}\n",
            "\n",
            "Reporte de clasificación para el mejor clasificador (sobre conjunto de evaluación):\n",
            "\n",
            "              precision    recall  f1-score   support\n",
            "\n",
            "           0       0.40      0.26      0.31      1826\n",
            "           1       0.68      0.79      0.73     16445\n",
            "           2       0.45      0.31      0.37      8988\n",
            "           3       0.29      0.21      0.24      3774\n",
            "           4       0.14      0.08      0.10      1195\n",
            "           5       0.04      0.03      0.03       285\n",
            "           6       0.00      0.18      0.00        11\n",
            "\n",
            "    accuracy                           0.53     32524\n",
            "   macro avg       0.29      0.27      0.26     32524\n",
            "weighted avg       0.53      0.53      0.52     32524\n",
            "\n",
            "\n",
            "================================================\n",
            "\n",
            "Matriz de confusión (sobre conjunto de evaluación) para entropy\n",
            "[[  471  1295    48     9     2     0     1]\n",
            " [  616 12986  2143   414    88    15   183]\n",
            " [   77  4004  2772  1210   257    61   607]\n",
            " [    4   648   988   781   258    61  1034]\n",
            " [    1    76   157   212   101    51   597]\n",
            " [    0     9    25    28    31     8   184]\n",
            " [    0     0     1     2     4     2     2]]\n",
            "================================================\n",
            "\n",
            "Reporte de clasificación para el mejor clasificador (sobre conjunto de entrenamiento):\n",
            "\n",
            "              precision    recall  f1-score   support\n",
            "\n",
            "           0       0.61      0.32      0.42      9719\n",
            "           1       0.56      0.80      0.66     66882\n",
            "           2       0.47      0.42      0.44     53752\n",
            "           3       0.44      0.35      0.39     40789\n",
            "           4       0.43      0.21      0.29     27318\n",
            "           5       0.45      0.12      0.18     19633\n",
            "           6       0.79      0.93      0.85    103430\n",
            "\n",
            "    accuracy                           0.61    321523\n",
            "   macro avg       0.54      0.45      0.46    321523\n",
            "weighted avg       0.59      0.61      0.58    321523\n",
            "\n",
            "\n",
            "================================================\n",
            "\n",
            "Matriz de confusión (sobre conjunto de evaluación) para entropy\n",
            "[[ 3100  6099   427    42    14     3    34]\n",
            " [ 1716 53635  8356  2068   347   106   654]\n",
            " [  172 20995 22623  6051  1315   312  2284]\n",
            " [   41  8861  9705 14168  2329   637  5048]\n",
            " [   18  3527  4188  5161  5799   761  7864]\n",
            " [    8  1443  1744  2519  1902  2288  9729]\n",
            " [   15  1261  1407  2098  1651  1008 95990]]\n",
            "================================================\n",
            "\n",
            "Accuracy on test is  52.641126552699546\n",
            "Accuracy on training is  61.458433766791174\n",
            "================================================\n",
            "\n"
          ],
          "name": "stdout"
        }
      ]
    },
    {
      "cell_type": "markdown",
      "metadata": {
        "id": "33uIKCOKk6kS",
        "colab_type": "text"
      },
      "source": [
        "De acuerdo a los accuraccy obtenidos entre las funciones \"gini\" y \"entropy\", nos estaría dando un mejor resultado para gini. Con los parámetros 'max_depth': 20, 'min_samples_leaf': 4, dónde min_samples_leaf es el número mínimo de muestra requerido para ser un nodo hoja. Y max_depth es la máxima profundidad del árbol, si  no se especifica los nodos serán expandidos hasta que las hojas sea puras, o hasta que todas las hojas contengan menos registros que min_samples_split.\n",
        "\n",
        "\n",
        "Comparando los resultados sin hiperparámetros donde obteníamos 65. y 50. para los datos de entrenamiento y  validación, con los mejores obtenidos para gini con valores en 61 y 52 para entrenamiento y validación, podemos concluir que no obtuvimos una mejora significativa."
      ]
    },
    {
      "cell_type": "markdown",
      "metadata": {
        "id": "o93kKM26ZpWR",
        "colab_type": "text"
      },
      "source": [
        "###Regresion Polinomial"
      ]
    },
    {
      "cell_type": "markdown",
      "metadata": {
        "id": "xRNFQumyJUYx",
        "colab_type": "text"
      },
      "source": [
        "Habiendo probado un modelo de clasificación, intentaremos usar un modelo de regresión y observar si los resultados entre ambos enfoques son comparables. Recordemos que en este caso el target es una variable numérica.\n",
        "\n",
        "Consideramos los mismos conjuntos de entrenamiento y validación que los usados en Decisión Tree."
      ]
    },
    {
      "cell_type": "code",
      "metadata": {
        "id": "bJ30695fJ8gM",
        "colab_type": "code",
        "outputId": "b0ccd465-cf80-4614-a23a-2269c46824ca",
        "colab": {
          "base_uri": "https://localhost:8080/",
          "height": 197
        }
      },
      "source": [
        "X_train.sample(5)"
      ],
      "execution_count": 0,
      "outputs": [
        {
          "output_type": "execute_result",
          "data": {
            "text/html": [
              "<div>\n",
              "<style scoped>\n",
              "    .dataframe tbody tr th:only-of-type {\n",
              "        vertical-align: middle;\n",
              "    }\n",
              "\n",
              "    .dataframe tbody tr th {\n",
              "        vertical-align: top;\n",
              "    }\n",
              "\n",
              "    .dataframe thead th {\n",
              "        text-align: right;\n",
              "    }\n",
              "</style>\n",
              "<table border=\"1\" class=\"dataframe\">\n",
              "  <thead>\n",
              "    <tr style=\"text-align: right;\">\n",
              "      <th></th>\n",
              "      <th>receiver_zipcode</th>\n",
              "      <th>service</th>\n",
              "    </tr>\n",
              "  </thead>\n",
              "  <tbody>\n",
              "    <tr>\n",
              "      <th>74119</th>\n",
              "      <td>87980</td>\n",
              "      <td>1</td>\n",
              "    </tr>\n",
              "    <tr>\n",
              "      <th>451549</th>\n",
              "      <td>3115</td>\n",
              "      <td>0</td>\n",
              "    </tr>\n",
              "    <tr>\n",
              "      <th>310031</th>\n",
              "      <td>89887</td>\n",
              "      <td>1</td>\n",
              "    </tr>\n",
              "    <tr>\n",
              "      <th>93752</th>\n",
              "      <td>5419</td>\n",
              "      <td>5</td>\n",
              "    </tr>\n",
              "    <tr>\n",
              "      <th>228057</th>\n",
              "      <td>35162</td>\n",
              "      <td>1</td>\n",
              "    </tr>\n",
              "  </tbody>\n",
              "</table>\n",
              "</div>"
            ],
            "text/plain": [
              "        receiver_zipcode  service\n",
              "74119              87980        1\n",
              "451549              3115        0\n",
              "310031             89887        1\n",
              "93752               5419        5\n",
              "228057             35162        1"
            ]
          },
          "metadata": {
            "tags": []
          },
          "execution_count": 60
        }
      ]
    },
    {
      "cell_type": "code",
      "metadata": {
        "id": "MxcyAB5hKaO_",
        "colab_type": "code",
        "outputId": "a4fc41de-c872-4995-e534-7ecc3c0eeb53",
        "colab": {
          "base_uri": "https://localhost:8080/",
          "height": 197
        }
      },
      "source": [
        "X_test.sample(5)"
      ],
      "execution_count": 0,
      "outputs": [
        {
          "output_type": "execute_result",
          "data": {
            "text/html": [
              "<div>\n",
              "<style scoped>\n",
              "    .dataframe tbody tr th:only-of-type {\n",
              "        vertical-align: middle;\n",
              "    }\n",
              "\n",
              "    .dataframe tbody tr th {\n",
              "        vertical-align: top;\n",
              "    }\n",
              "\n",
              "    .dataframe thead th {\n",
              "        text-align: right;\n",
              "    }\n",
              "</style>\n",
              "<table border=\"1\" class=\"dataframe\">\n",
              "  <thead>\n",
              "    <tr style=\"text-align: right;\">\n",
              "      <th></th>\n",
              "      <th>receiver_zipcode</th>\n",
              "      <th>service</th>\n",
              "    </tr>\n",
              "  </thead>\n",
              "  <tbody>\n",
              "    <tr>\n",
              "      <th>233210</th>\n",
              "      <td>9843</td>\n",
              "      <td>0</td>\n",
              "    </tr>\n",
              "    <tr>\n",
              "      <th>76365</th>\n",
              "      <td>3224</td>\n",
              "      <td>0</td>\n",
              "    </tr>\n",
              "    <tr>\n",
              "      <th>99394</th>\n",
              "      <td>14165</td>\n",
              "      <td>0</td>\n",
              "    </tr>\n",
              "    <tr>\n",
              "      <th>397905</th>\n",
              "      <td>91740</td>\n",
              "      <td>6</td>\n",
              "    </tr>\n",
              "    <tr>\n",
              "      <th>499856</th>\n",
              "      <td>18060</td>\n",
              "      <td>0</td>\n",
              "    </tr>\n",
              "  </tbody>\n",
              "</table>\n",
              "</div>"
            ],
            "text/plain": [
              "        receiver_zipcode  service\n",
              "233210              9843        0\n",
              "76365               3224        0\n",
              "99394              14165        0\n",
              "397905             91740        6\n",
              "499856             18060        0"
            ]
          },
          "metadata": {
            "tags": []
          },
          "execution_count": 61
        }
      ]
    },
    {
      "cell_type": "code",
      "metadata": {
        "id": "Tw00dF0FKqEM",
        "colab_type": "code",
        "outputId": "31fce7d8-ad80-47d3-933f-668d44269679",
        "colab": {
          "base_uri": "https://localhost:8080/",
          "height": 116
        }
      },
      "source": [
        "y_train['shipment_days'].sample(5)"
      ],
      "execution_count": 0,
      "outputs": [
        {
          "output_type": "execute_result",
          "data": {
            "text/plain": [
              "78173      0.0\n",
              "32153      1.0\n",
              "158325    10.0\n",
              "136870     0.0\n",
              "434802     3.0\n",
              "Name: shipment_days, dtype: float64"
            ]
          },
          "metadata": {
            "tags": []
          },
          "execution_count": 62
        }
      ]
    },
    {
      "cell_type": "code",
      "metadata": {
        "id": "26ONry0KKwhb",
        "colab_type": "code",
        "outputId": "72302a8a-a89c-483b-d0cf-ddc9645a266c",
        "colab": {
          "base_uri": "https://localhost:8080/",
          "height": 116
        }
      },
      "source": [
        "y_test['shipment_days'].sample(5)"
      ],
      "execution_count": 0,
      "outputs": [
        {
          "output_type": "execute_result",
          "data": {
            "text/plain": [
              "380207    2.0\n",
              "481375    1.0\n",
              "157139    2.0\n",
              "109915    1.0\n",
              "323500    1.0\n",
              "Name: shipment_days, dtype: float64"
            ]
          },
          "metadata": {
            "tags": []
          },
          "execution_count": 63
        }
      ]
    },
    {
      "cell_type": "markdown",
      "metadata": {
        "id": "UstLb6zTYxl0",
        "colab_type": "text"
      },
      "source": [
        "Vamos probar diferentes grados de polinomio (desde uno lineal hasta uno de grado 8) y compararemos la media del error cuadrático en cada uno de los conjuntos de entrenamiento y validación para determinar el mejor ajuste posible."
      ]
    },
    {
      "cell_type": "code",
      "metadata": {
        "id": "UZ86euOSz_nb",
        "colab_type": "code",
        "colab": {}
      },
      "source": [
        "X_train_pol = X_train\n",
        "X_test_pol = X_test\n",
        "y_train_pol = y_train['shipment_days']\n",
        "y_test_pol = y_test['shipment_days']"
      ],
      "execution_count": 0,
      "outputs": []
    },
    {
      "cell_type": "markdown",
      "metadata": {
        "id": "ef5o2PmaZX7L",
        "colab_type": "text"
      },
      "source": [
        "#### Regresión lineal"
      ]
    },
    {
      "cell_type": "code",
      "metadata": {
        "id": "X55t3MRCTpa7",
        "colab_type": "code",
        "outputId": "b8a26688-fafa-4e17-804b-e94711b8ca1f",
        "colab": {
          "base_uri": "https://localhost:8080/",
          "height": 50
        }
      },
      "source": [
        "model = LinearRegression()\n",
        "model.fit(X_train_pol, y_train_pol)\n",
        "\n",
        "entrenamiento1 = mean_squared_error(y_train_pol, model.predict(X_train_pol))\n",
        "validacion1 = mean_squared_error(y_test_pol, model.predict(X_test_pol))\n",
        "\n",
        "print('Media del error cuadrado para entrenamiento: %.2f' % \n",
        "      entrenamiento1)\n",
        "print('Media del error cuadrado para validación: %.2f' %\n",
        "      validacion1)"
      ],
      "execution_count": 0,
      "outputs": [
        {
          "output_type": "stream",
          "text": [
            "Media del error cuadrado para entrenamiento: 16.15\n",
            "Media del error cuadrado para validación: 7.63\n"
          ],
          "name": "stdout"
        }
      ]
    },
    {
      "cell_type": "markdown",
      "metadata": {
        "id": "2YXwFw9WZciG",
        "colab_type": "text"
      },
      "source": [
        "#### Polinomio cuadrático"
      ]
    },
    {
      "cell_type": "code",
      "metadata": {
        "id": "62fPbwmRzuGs",
        "colab_type": "code",
        "outputId": "d53755ef-fa00-4e64-b41e-4891f7bc8cc7",
        "colab": {
          "base_uri": "https://localhost:8080/",
          "height": 50
        }
      },
      "source": [
        "polynomial_degree = 2 \n",
        "\n",
        "poly_features = PolynomialFeatures(polynomial_degree)\n",
        "poly_features.fit(X_train_pol)\n",
        "\n",
        "X_poly_train = poly_features.transform(X_train_pol)\n",
        "X_poly_test = poly_features.transform(X_test_pol)\n",
        "\n",
        "model = LinearRegression()\n",
        "model.fit(X_poly_train, y_train_pol)\n",
        "\n",
        "entrenamiento2= mean_squared_error(y_train_pol, model.predict(X_poly_train))\n",
        "validacion2= mean_squared_error(y_test_pol, model.predict(X_poly_test))\n",
        "\n",
        "print('Media del error cuadrado para entrenamiento: %.2f' % \n",
        "      entrenamiento2)\n",
        "print('Media del error cuadrado para validación: %.2f' %\n",
        "      validacion2)"
      ],
      "execution_count": 0,
      "outputs": [
        {
          "output_type": "stream",
          "text": [
            "Media del error cuadrado para entrenamiento: 14.20\n",
            "Media del error cuadrado para validación: 6.37\n"
          ],
          "name": "stdout"
        }
      ]
    },
    {
      "cell_type": "markdown",
      "metadata": {
        "id": "vaGV2dXnZgbv",
        "colab_type": "text"
      },
      "source": [
        "#### Polinomio cúbico"
      ]
    },
    {
      "cell_type": "code",
      "metadata": {
        "id": "B_eEwEhZ05qp",
        "colab_type": "code",
        "outputId": "fb4ece08-4110-4be5-cd55-68453b2e447f",
        "colab": {
          "base_uri": "https://localhost:8080/",
          "height": 50
        }
      },
      "source": [
        "polynomial_degree = 3 \n",
        "\n",
        "poly_features = PolynomialFeatures(polynomial_degree)\n",
        "poly_features.fit(X_train_pol)\n",
        "\n",
        "X_poly_train = poly_features.transform(X_train_pol)\n",
        "X_poly_test = poly_features.transform(X_test_pol)\n",
        "\n",
        "model = LinearRegression()\n",
        "model.fit(X_poly_train, y_train_pol)\n",
        "\n",
        "entrenamiento3= mean_squared_error(y_train_pol, model.predict(X_poly_train))\n",
        "validacion3= mean_squared_error(y_test_pol, model.predict(X_poly_test))\n",
        "\n",
        "print('Media del error cuadrado para entrenamiento: %.2f' % \n",
        "      entrenamiento3)\n",
        "print('Media del error cuadrado para validación: %.2f' %\n",
        "      validacion3)"
      ],
      "execution_count": 0,
      "outputs": [
        {
          "output_type": "stream",
          "text": [
            "Media del error cuadrado para entrenamiento: 11.67\n",
            "Media del error cuadrado para validación: 5.02\n"
          ],
          "name": "stdout"
        }
      ]
    },
    {
      "cell_type": "markdown",
      "metadata": {
        "id": "1HYonQz8ZjhU",
        "colab_type": "text"
      },
      "source": [
        "#### Polinomio de grado 4"
      ]
    },
    {
      "cell_type": "code",
      "metadata": {
        "id": "xxTI9Jzk0-og",
        "colab_type": "code",
        "outputId": "9cd4e5d6-feed-4b4d-be23-8531554f98fb",
        "colab": {
          "base_uri": "https://localhost:8080/",
          "height": 50
        }
      },
      "source": [
        "polynomial_degree = 4 \n",
        "\n",
        "poly_features = PolynomialFeatures(polynomial_degree)\n",
        "poly_features.fit(X_train_pol)\n",
        "\n",
        "X_poly_train = poly_features.transform(X_train_pol)\n",
        "X_poly_test = poly_features.transform(X_test_pol)\n",
        "\n",
        "model = LinearRegression()\n",
        "model.fit(X_poly_train, y_train_pol)\n",
        "\n",
        "entrenamiento4= mean_squared_error(y_train_pol, model.predict(X_poly_train))\n",
        "validacion4= mean_squared_error(y_test_pol, model.predict(X_poly_test))\n",
        "\n",
        "print('Media del error cuadrado para entrenamiento: %.2f' % \n",
        "      entrenamiento4)\n",
        "print('Media del error cuadrado para validación: %.2f' %\n",
        "      validacion4)"
      ],
      "execution_count": 0,
      "outputs": [
        {
          "output_type": "stream",
          "text": [
            "Media del error cuadrado para entrenamiento: 11.45\n",
            "Media del error cuadrado para validación: 4.26\n"
          ],
          "name": "stdout"
        }
      ]
    },
    {
      "cell_type": "markdown",
      "metadata": {
        "id": "3ixmsd33Znfy",
        "colab_type": "text"
      },
      "source": [
        "#### Polinomio de grado 5"
      ]
    },
    {
      "cell_type": "code",
      "metadata": {
        "id": "jKEPu1AJ1Aws",
        "colab_type": "code",
        "outputId": "49e7969e-bb2a-4ca5-a9a6-08b47b534302",
        "colab": {
          "base_uri": "https://localhost:8080/",
          "height": 50
        }
      },
      "source": [
        "polynomial_degree = 5\n",
        "\n",
        "poly_features = PolynomialFeatures(polynomial_degree)\n",
        "poly_features.fit(X_train_pol)\n",
        "\n",
        "X_poly_train = poly_features.transform(X_train_pol)\n",
        "X_poly_test = poly_features.transform(X_test_pol)\n",
        "\n",
        "model = LinearRegression()\n",
        "model.fit(X_poly_train, y_train_pol)\n",
        "\n",
        "entrenamiento5= mean_squared_error(y_train_pol, model.predict(X_poly_train))\n",
        "validacion5= mean_squared_error(y_test_pol, model.predict(X_poly_test))\n",
        "\n",
        "print('Media del error cuadrado para entrenamiento: %.2f' % \n",
        "      entrenamiento5)\n",
        "print('Media del error cuadrado para validación: %.2f' %\n",
        "      validacion5)"
      ],
      "execution_count": 0,
      "outputs": [
        {
          "output_type": "stream",
          "text": [
            "Media del error cuadrado para entrenamiento: 12.07\n",
            "Media del error cuadrado para validación: 4.67\n"
          ],
          "name": "stdout"
        }
      ]
    },
    {
      "cell_type": "markdown",
      "metadata": {
        "id": "7V3C6i53ZqhU",
        "colab_type": "text"
      },
      "source": [
        "#### Polinomio de grado 6"
      ]
    },
    {
      "cell_type": "code",
      "metadata": {
        "id": "uSpcajnQ1Hhs",
        "colab_type": "code",
        "outputId": "0d51db9b-91ff-4ef4-e3d8-84834b4f2310",
        "colab": {
          "base_uri": "https://localhost:8080/",
          "height": 50
        }
      },
      "source": [
        "polynomial_degree = 6\n",
        "\n",
        "poly_features = PolynomialFeatures(polynomial_degree)\n",
        "poly_features.fit(X_train_pol)\n",
        "\n",
        "X_poly_train = poly_features.transform(X_train_pol)\n",
        "X_poly_test = poly_features.transform(X_test_pol)\n",
        "\n",
        "model = LinearRegression()\n",
        "model.fit(X_poly_train, y_train_pol)\n",
        "\n",
        "entrenamiento6= mean_squared_error(y_train_pol, model.predict(X_poly_train))\n",
        "validacion6= mean_squared_error(y_test_pol, model.predict(X_poly_test))\n",
        "\n",
        "print('Media del error cuadrado para entrenamiento: %.2f' % \n",
        "      entrenamiento6)\n",
        "print('Media del error cuadrado para validación: %.2f' %\n",
        "      validacion6)"
      ],
      "execution_count": 0,
      "outputs": [
        {
          "output_type": "stream",
          "text": [
            "Media del error cuadrado para entrenamiento: 12.72\n",
            "Media del error cuadrado para validación: 5.01\n"
          ],
          "name": "stdout"
        }
      ]
    },
    {
      "cell_type": "markdown",
      "metadata": {
        "id": "l05MqLVhZuAJ",
        "colab_type": "text"
      },
      "source": [
        "#### Polinomio de grado 7"
      ]
    },
    {
      "cell_type": "code",
      "metadata": {
        "id": "ITc1nEkW1K1M",
        "colab_type": "code",
        "outputId": "54be3072-2041-4507-b034-f8193407f934",
        "colab": {
          "base_uri": "https://localhost:8080/",
          "height": 50
        }
      },
      "source": [
        "polynomial_degree = 7\n",
        "\n",
        "poly_features = PolynomialFeatures(polynomial_degree)\n",
        "poly_features.fit(X_train_pol)\n",
        "\n",
        "X_poly_train = poly_features.transform(X_train_pol)\n",
        "X_poly_test = poly_features.transform(X_test_pol)\n",
        "\n",
        "model = LinearRegression()\n",
        "model.fit(X_poly_train, y_train_pol)\n",
        "\n",
        "entrenamiento7= mean_squared_error(y_train_pol, model.predict(X_poly_train))\n",
        "validacion7= mean_squared_error(y_test_pol, model.predict(X_poly_test))\n",
        "\n",
        "print('Media del error cuadrado para entrenamiento: %.2f' % \n",
        "      entrenamiento7)\n",
        "print('Media del error cuadrado para validación: %.2f' %\n",
        "      validacion7)"
      ],
      "execution_count": 0,
      "outputs": [
        {
          "output_type": "stream",
          "text": [
            "Media del error cuadrado para entrenamiento: 13.69\n",
            "Media del error cuadrado para validación: 5.82\n"
          ],
          "name": "stdout"
        }
      ]
    },
    {
      "cell_type": "markdown",
      "metadata": {
        "id": "5cLsYcVpZzVT",
        "colab_type": "text"
      },
      "source": [
        "#### Polinomio de grado 8"
      ]
    },
    {
      "cell_type": "code",
      "metadata": {
        "id": "R8f934t73x3s",
        "colab_type": "code",
        "outputId": "e9af15ad-330d-4969-8040-6cc24fa2921f",
        "colab": {
          "base_uri": "https://localhost:8080/",
          "height": 50
        }
      },
      "source": [
        "polynomial_degree = 8\n",
        "\n",
        "poly_features = PolynomialFeatures(polynomial_degree)\n",
        "poly_features.fit(X_train_pol)\n",
        "\n",
        "X_poly_train = poly_features.transform(X_train_pol)\n",
        "X_poly_test = poly_features.transform(X_test_pol)\n",
        "\n",
        "model = LinearRegression()\n",
        "model.fit(X_poly_train, y_train_pol)\n",
        "\n",
        "entrenamiento8= mean_squared_error(y_train_pol, model.predict(X_poly_train))\n",
        "validacion8= mean_squared_error(y_test_pol, model.predict(X_poly_test))\n",
        "\n",
        "print('Media del error cuadrado para entrenamiento: %.2f' % \n",
        "      entrenamiento8)\n",
        "print('Media del error cuadrado para validación: %.2f' %\n",
        "      validacion8)"
      ],
      "execution_count": 0,
      "outputs": [
        {
          "output_type": "stream",
          "text": [
            "Media del error cuadrado para entrenamiento: 14.66\n",
            "Media del error cuadrado para validación: 6.61\n"
          ],
          "name": "stdout"
        }
      ]
    },
    {
      "cell_type": "markdown",
      "metadata": {
        "id": "KNGXTOYEZ5AN",
        "colab_type": "text"
      },
      "source": [
        "Realizamos una visualización con esta información para determinar cual es el polinomio que mejor puede aproximar nuestros datos."
      ]
    },
    {
      "cell_type": "code",
      "metadata": {
        "id": "-hxIe2wy46hL",
        "colab_type": "code",
        "colab": {}
      },
      "source": [
        "x=[1,2,3,4,5,6,7,8] #grados del polinomio\n",
        "y1=[entrenamiento1, entrenamiento2,entrenamiento3, entrenamiento4, entrenamiento5,\n",
        "  entrenamiento6, entrenamiento7, entrenamiento8] #error en el conjunto de entrenamiento\n",
        "y2=[validacion1,validacion2,validacion3,validacion4,validacion5,\n",
        "   validacion6,validacion7,validacion8] #error en el conjunto de validación"
      ],
      "execution_count": 0,
      "outputs": []
    },
    {
      "cell_type": "code",
      "metadata": {
        "id": "Op-0F1V6787r",
        "colab_type": "code",
        "outputId": "5dc7acf4-2bc0-461b-db3a-85e88554b54b",
        "colab": {
          "base_uri": "https://localhost:8080/",
          "height": 337
        }
      },
      "source": [
        "plt.figure(figsize=(8,5))\n",
        "\n",
        "sns.lineplot(x, y1, label='Entrenamiento')\n",
        "sns.lineplot(x, y2, label= 'Validación')\n",
        "\n",
        "plt.ylabel('Media del error cuadrático')\n",
        "plt.xlabel('Grado del polinomio en la regresión')\n",
        "plt.grid()\n",
        "sns.despine()"
      ],
      "execution_count": 0,
      "outputs": [
        {
          "output_type": "display_data",
          "data": {
            "image/png": "[encoded data removed]",
            "text/plain": [
              "<Figure size 576x360 with 1 Axes>"
            ]
          },
          "metadata": {
            "tags": []
          }
        }
      ]
    },
    {
      "cell_type": "markdown",
      "metadata": {
        "id": "BMurEYkGbNwu",
        "colab_type": "text"
      },
      "source": [
        "Observamos que el polinomio de grado 4 podría ser una buena elección puesto que observamos que para este valor el error cuadrático se minimiza (tanto en el conjunto de validación como en el entrenamiento)."
      ]
    },
    {
      "cell_type": "markdown",
      "metadata": {
        "id": "8QeSLDDuaTlI",
        "colab_type": "text"
      },
      "source": [
        "**Visualización de los resultados de entrenamiento usando un solo feature**  \n",
        "\n",
        "A continuación con el objetivo de mostrar una visualización del ajuste de los datos, vamos a seleccionar un solo feature (receiver_zipcode) para entrenar el modelo con una regresión polinomial de grado 4 (el mejor ajuste hasta el momento)."
      ]
    },
    {
      "cell_type": "code",
      "metadata": {
        "id": "Kgmi-dh4Z_d6",
        "colab_type": "code",
        "colab": {}
      },
      "source": [
        "X_train_pol = np.array(X_train['receiver_zipcode']).reshape(-1,1)"
      ],
      "execution_count": 0,
      "outputs": []
    },
    {
      "cell_type": "code",
      "metadata": {
        "id": "Lvw0ZZFnaPQV",
        "colab_type": "code",
        "colab": {}
      },
      "source": [
        "X_test_pol = np.array (X_test['receiver_zipcode']).reshape(-1,1)"
      ],
      "execution_count": 0,
      "outputs": []
    },
    {
      "cell_type": "code",
      "metadata": {
        "id": "dYxe16Sdajij",
        "colab_type": "code",
        "colab": {}
      },
      "source": [
        "y_train_pol = np.array(y_train['shipment_days']).reshape(-1,1)"
      ],
      "execution_count": 0,
      "outputs": []
    },
    {
      "cell_type": "code",
      "metadata": {
        "id": "Dti79tmCavSf",
        "colab_type": "code",
        "colab": {}
      },
      "source": [
        "y_test_pol = np.array(y_test['shipment_days']).reshape(-1,1)"
      ],
      "execution_count": 0,
      "outputs": []
    },
    {
      "cell_type": "markdown",
      "metadata": {
        "id": "ssMsDSVVdAZR",
        "colab_type": "text"
      },
      "source": [
        "Verificamos los tamaños de los conjuntos."
      ]
    },
    {
      "cell_type": "code",
      "metadata": {
        "id": "YxUaHNvca4_r",
        "colab_type": "code",
        "outputId": "10d18404-a0e3-47fb-b236-de89249f76cd",
        "colab": {
          "base_uri": "https://localhost:8080/",
          "height": 33
        }
      },
      "source": [
        "X_train_pol.shape"
      ],
      "execution_count": 0,
      "outputs": [
        {
          "output_type": "execute_result",
          "data": {
            "text/plain": [
              "(321523, 1)"
            ]
          },
          "metadata": {
            "tags": []
          },
          "execution_count": 79
        }
      ]
    },
    {
      "cell_type": "code",
      "metadata": {
        "id": "K0XgFwPIdId6",
        "colab_type": "code",
        "outputId": "e88111ba-463e-49ba-b10b-5c1c6baa2321",
        "colab": {
          "base_uri": "https://localhost:8080/",
          "height": 33
        }
      },
      "source": [
        "y_train_pol.shape"
      ],
      "execution_count": 0,
      "outputs": [
        {
          "output_type": "execute_result",
          "data": {
            "text/plain": [
              "(321523, 1)"
            ]
          },
          "metadata": {
            "tags": []
          },
          "execution_count": 80
        }
      ]
    },
    {
      "cell_type": "code",
      "metadata": {
        "id": "kEgC2MyIdKzn",
        "colab_type": "code",
        "outputId": "04044646-2fe6-4f5d-f959-8a2d458fc65b",
        "colab": {
          "base_uri": "https://localhost:8080/",
          "height": 33
        }
      },
      "source": [
        "X_test_pol.shape"
      ],
      "execution_count": 0,
      "outputs": [
        {
          "output_type": "execute_result",
          "data": {
            "text/plain": [
              "(32524, 1)"
            ]
          },
          "metadata": {
            "tags": []
          },
          "execution_count": 81
        }
      ]
    },
    {
      "cell_type": "code",
      "metadata": {
        "id": "NuqNtzORdNDF",
        "colab_type": "code",
        "outputId": "571341c9-5794-43e5-86b5-7b961ab44de0",
        "colab": {
          "base_uri": "https://localhost:8080/",
          "height": 33
        }
      },
      "source": [
        "y_test_pol.shape"
      ],
      "execution_count": 0,
      "outputs": [
        {
          "output_type": "execute_result",
          "data": {
            "text/plain": [
              "(32524, 1)"
            ]
          },
          "metadata": {
            "tags": []
          },
          "execution_count": 82
        }
      ]
    },
    {
      "cell_type": "code",
      "metadata": {
        "id": "4Uy5qCzfdPA0",
        "colab_type": "code",
        "outputId": "523943fc-d479-4192-8ca4-042bb725144f",
        "colab": {
          "base_uri": "https://localhost:8080/",
          "height": 50
        }
      },
      "source": [
        "polynomial_degree = 4\n",
        "\n",
        "poly_features = PolynomialFeatures(polynomial_degree)\n",
        "poly_features.fit(X_train_pol)\n",
        "\n",
        "X_poly_train = poly_features.transform(X_train_pol)\n",
        "X_poly_test = poly_features.transform(X_test_pol)\n",
        "\n",
        "model = LinearRegression()\n",
        "model.fit(X_poly_train, y_train_pol)\n",
        "\n",
        "print('Media del error cuadrado para entrenamiento: %.2f' % \n",
        "      mean_squared_error(y_train_pol, model.predict(X_poly_train)))\n",
        "print('Media del error cuadrado para validación: %.2f' %\n",
        "      mean_squared_error(y_test_pol, model.predict(X_poly_test)))"
      ],
      "execution_count": 0,
      "outputs": [
        {
          "output_type": "stream",
          "text": [
            "Media del error cuadrado para entrenamiento: 15.08\n",
            "Media del error cuadrado para validación: 6.48\n"
          ],
          "name": "stdout"
        }
      ]
    },
    {
      "cell_type": "code",
      "metadata": {
        "id": "PosEaK7wiVTV",
        "colab_type": "code",
        "outputId": "f20ab4ae-f15d-4561-9566-96abab97574a",
        "colab": {
          "base_uri": "https://localhost:8080/",
          "height": 388
        }
      },
      "source": [
        "plt.figure(figsize=(14, 5), dpi=80, facecolor='w', edgecolor='k')\n",
        "\n",
        "X_range_start = np.min(np.r_[X_train, X_test])\n",
        "X_range_stop = np.max(np.r_[X_train, X_test])\n",
        "\n",
        "y_range_start = np.min(np.r_[y_train, y_test])\n",
        "y_range_stop = np.max(np.r_[y_train, y_test])\n",
        "\n",
        "X_linspace = np.linspace(X_range_start, X_range_stop, 200).reshape(-1, 1)\n",
        "X_linspace_poly = poly_features.transform(X_linspace)\n",
        "\n",
        "# Conjunto de entrenamiento\n",
        "plt.subplot(1, 2, 1)\n",
        "plt.scatter(X_train_pol, y_train_pol, facecolor=\"dodgerblue\", edgecolor=\"k\", label=\"datos\")\n",
        "plt.plot(X_linspace, model.predict(X_linspace_poly), color=\"tomato\", label=\"modelo\")\n",
        "plt.ylim(y_range_start, y_range_stop)\n",
        "plt.title(\"Conjunto de Entrenamiento\")\n",
        "\n",
        "# Conjunto de validación\n",
        "plt.subplot(1, 2, 2)\n",
        "plt.scatter(X_test_pol, y_test_pol, facecolor=\"dodgerblue\", edgecolor=\"k\", label=\"datos\")\n",
        "plt.plot(X_linspace, model.predict(X_linspace_poly), color=\"tomato\", label=\"modelo\")\n",
        "plt.ylim(y_range_start, y_range_stop)\n",
        "plt.title(\"Conjunto de Validación\")\n",
        "\n",
        "plt.show()"
      ],
      "execution_count": 0,
      "outputs": [
        {
          "output_type": "display_data",
          "data": {
            "image/png": "[encoded data removed]",
            "text/plain": [
              "<Figure size 1120x400 with 2 Axes>"
            ]
          },
          "metadata": {
            "tags": []
          }
        }
      ]
    },
    {
      "cell_type": "markdown",
      "metadata": {
        "id": "inRZpdwAEVfN",
        "colab_type": "text"
      },
      "source": [
        "De acuerdo a los resultados anteriores los errores sobre el conjunto de entrenamiento y validación son bastante altos. Esto también se evidencia en las visualizaciones donde la regresión polinomial no proporciona un buen ajuste de los datos. Sin embargo, dado que el conjunto de validación tiene muchos menos puntos resulta normal que la regresión en este caso tenga un error menor.\n",
        "\n",
        "\n"
      ]
    },
    {
      "cell_type": "markdown",
      "metadata": {
        "id": "bDXeoVCGMXVf",
        "colab_type": "text"
      },
      "source": [
        "###Conclusiones\n",
        "\n",
        "Durante este práctico se intentó predecir el valor de la variable shipment_days mediante dos enfoques distintos: un modelo de clasificación y uno de regresión.\n",
        "\n",
        "En el caso del modelo de clasificación se utilizaron 6 clases tratando de cubrir de manera equitativa las distribuciones en el conjunto de entrenamiento y en el de validación. Se utilizó un modelo de árbol de decisión simple y otro con búsqueda de hiperparamétros. En ambos casos se obtuvieron buenas predicciones en las clases mayoritarias.   \n",
        "\n",
        "\n",
        "En el caso de la regresión se probaron diferentes grados de polinomio y se comparó la media del error cuadrático tanto en el conjunto de entrenamiento como en el de validación. De estos resultados pudimos observar que con un polinomio de grado 4 obteniamos un valor menor en el error, que aunque no era demasiado pequeño tampoco era demasiado grande.\n",
        "\n",
        "Consideramos que si bien los resultados en ambos enfoques podrían ser mejorables son  bastante aceptables considerando el hecho de que estamos trabajando con una muestra pequeña de información.\n",
        "\n",
        "También se logró una definición de los datasets, que para nuestra problemática era necesario. \n"
      ]
    },
    {
      "cell_type": "code",
      "metadata": {
        "id": "Un2VKGQ2icqd",
        "colab_type": "code",
        "colab": {}
      },
      "source": [
        ""
      ],
      "execution_count": 0,
      "outputs": []
    }
  ]
}