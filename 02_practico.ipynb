{
 "cells": [
  {
   "cell_type": "markdown",
   "metadata": {
    "colab_type": "text",
    "id": "U3u5pKlRqTjO"
   },
   "source": [
    "<center>\n",
    "<h4>Universidad Nacional de Córdoba - Facultad de Matemática, Astronomía, Física y Computación</h4>\n",
    "<h3>Diplomatura en Ciencia de Datos, Aprendizaje Automático y sus Aplicaciones</h3>\n",
    "</center>"
   ]
  },
  {
   "cell_type": "markdown",
   "metadata": {
    "colab_type": "text",
    "id": "0vwpBmo4qTjQ"
   },
   "source": [
    "<h1> Práctico 2 - Estadística </h1>\n",
    "<h3> Análisis y Visualización de Datos - 2019 </h3>\n",
    "\n",
    "<h4>Motivación</h4>\n",
    "\n",
    "En la actualidad, cada vez más productos se comercializan a través de una plataforma online. Una de las principales ventajas de este sistema es que el usuario puede recibir el producto en su domicilio en una fecha determinada. Pero, ¿cómo sabemos qué día va a llegar? ¿A partir de qué datos podemos predecir la demora del envío? En este práctico se trabajará con datos de envíos de MercadoLibre, el e-commerce más grande de Latinoamérica, analizando y modelando el problema de logística de envíos para poder responder ¿cuándo llega?.\n",
    "\n",
    "<h4>Descripción del dataset</h4>\n",
    "\n",
    "Datos: El conjunto de datos seleccionado para realizar el práctico corresponde a un muestreo aleatorio no uniforme de 500.000 envíos de MercadoLibre. Estos envíos fueron realizados en Brasil en el período comprendido entre Octubre de 2018 y Abril de 2019 (las fechas han sido modificadas y adaptada a un período de tiempo diferente, conservando el día de la semana y considerando los feriados correspondientes). Los datos comprenden variables tanto categóricas como numéricas. \n",
    "\n",
    "Las variables más importantes sobre las que trabaja el dataset son:\n",
    "\n",
    "    • Sender_state: Estado de Brasil de donde sale el envío.\n",
    "    • Sender_zipcode: Código postal (de 5 dígitos) de donde sale el envío.\n",
    "    • Receiver_state: Estado de Brasil a donde llega el envío.\n",
    "    • Receiver_zipcode: Código postal (de 5 dígitos) a donde llega el envío.\n",
    "    • Shipment_type: Método de envío (normal, express, super).\n",
    "    • Quantity: Cantidad de productos en un envío.\n",
    "    • Service: Servicio del correo con el cual se realizó un envío.\n",
    "    • Status: Estado del envío (set: listo para ser enviado, sent: enviado, done: entregado, failed: no entregado, cancelled: cancelado).\n",
    "    • Date_created: Fecha de creación del envío.\n",
    "    • Date_sent: Fecha y hora en que se realizó el envío (salió del correo).\n",
    "    • Date_visit: Fecha y hora en que se entregó el envío al destinatario.\n",
    "    • Shipment_days: Días hábiles entre que el envío fue enviado (salió del correo) y que fue entregado.\n",
    "\n",
    "<h4> Objetivo:</h4>\n",
    "\n",
    "El objetivo de este práctico es aprender a leer y analizar el dataset para extraer información útil sobre el problema a resolver. Se espera que se gane conocimiento en el manejo de librerías y metodologías de visualización para generar gráficas de los datos. Otro objetivo es calcular estadísticos que faciliten, junto a los gráficos, dar respuestas a preguntas propias de la problemática. Por último, se busca  desarrollar habilidades de comunicación de la información obtenida a partir de los datos de manera clara y sencilla.\n",
    "\n",
    "<h4>Método</h4>\n",
    "\n",
    "A partir de lo estudiado en las clases teóricas y prácticas de la materia “Análisis y visualización de datos”, realizar un informe en formato de notebook o interactivo, en el cual se describen los aspectos de mayor relevancia del dataset. En la misma se deben incluir las gráficas y los estadísticos que sean pertinentes para responder a las preguntas indicadas a continuación junto con el análisis y las respuestas propiamente dichas (además de cualquiera otra información extra que se considere de relevancia sobre la problemática):\n",
    "\n",
    "1. ¿Qué tipo de variables se encuentran presentes en el dataset? Realizar una breve descripción estadística de las mismas, determinar si existen outliers y valores incorrectos o no esperados.\n",
    "2. ¿Cómo es la distribución de zipcodes de origen y destino de un envío? ¿Está concentrada en algún valor? ¿Y para el resto de las variables?\n",
    "3. ¿Es la distribución del número de días que demora un envío normal? ¿Adquiere significado la media y desviación estándar? ¿Qué tipo de estadísticos podrían ser relevantes en este caso? ¿Hay alguna otra distribución a la cual se asemeje más?\n",
    "4. ¿Cuál es la probabilidad de que el destinatario de un envío sea del estado de Minas Gerais (MG)? ¿Cuál es la probabilidad de que dicho envío (que llega a Minas Gerais) sea realizado mediante el servicio 1?\n",
    "5. ¿Cuál es la probabilidad de que un envío sea realizado con el método super express? ¿Y la de que un envío realizado con dicho método llegue al estado de Minas Gerais?\n",
    "6. ¿Existe correlación entre el número de días que tarda un envío y el destinatario del mismo? ¿Y entre el número de días y la cantidad de productos en un paquete? ¿Con qué otra variable está correlacionado el número de días que tarda un envío? Analizar la independencia de las variables.\n",
    "7. Además del cálculo de los estadísticos correspondientes, sería interesante observar un gráfico que muestre la información estadística (por ejemplo, la media) y la presencia de outliers del número de días que tardan los envíos que se realizan a los diferentes estados de Brasil. ¿Cuál es el estado que, en promedio, tiene una mayor demora? ¿Cuál es la distancia geográfica de San Pablo a dicho estado? ¿Y al de menor?\n",
    "8. ¿Cuál es la distribución de la entrega de envíos por hora del día para cada uno de los estados de Brasil? Realizar un único gráfico donde se muestre esta información.\n",
    "9. Bonus (no obligatorio): Proponer y discutir la aplicación de al menos uno de los contenidos desarrollados en la clase de “Inferencia Bayesiana” al conjunto de datos y problemática aquí presentada.\n",
    "\n",
    "\n",
    "Esta comunicación debe estar dirigida para un público técnico pero que desconoce los aspectos propios del problema a resolver (por ejemplo, sus compañeros de clase). Se evaluará, principalmente, la claridad del mensaje presentado, el uso de las herramientas y los conceptos de visualización desarrollados en las clases, y el cálculo de los estadísticos apropiados para el problema.\n",
    "\n",
    "<h4>Estructura del informe</h4>\n",
    "\n",
    "El informe debe contar con la estructura propia de un reporte de un experimento científico. Esto implica que debe tener un objetivo claro, una introducción a la problemática a resolver en dicho informe (no únicamente al problema general), una descripción de los datos a emplear, el desarrollo propiamente dicho del experimento y las conclusiones que se obtuvieron.\n",
    "En el informe se deberá brindar una descripción del dataset suministrado (columnas, tipo de variables, valores extremos, etc.), las visualizaciones realizadas que sean pertinentes para la resolución del práctico, un análisis de los gráficos y estadísticos calculados, el análisis y las respuestas a las preguntas indicadas anteriormente, y las conclusiones.\n",
    "\n",
    "<h4>Entrega</h4>\n",
    "\n",
    "La entrega del informe final será antes del día 17 de Mayo, con una muestra previa de avance el día 10 de Mayo. El notebook donde se realicen los cálculos y gráficos debe encontrarse en un repositorio al cual se pueda acceder. "
   ]
  },
  {
   "cell_type": "code",
   "execution_count": null,
   "metadata": {
    "colab": {},
    "colab_type": "code",
    "id": "4-8V0BiXqTjR"
   },
   "outputs": [],
   "source": [
    "import matplotlib.pyplot as plt\n",
    "import numpy\n",
    "import pandas\n",
    "import seaborn\n",
    "from scipy import stats\n",
    "\n",
    "from IPython.display import HTML\n",
    "\n",
    "BLUE = '#35A7FF'\n",
    "RED = '#FF5964'\n",
    "GREEN = '#6BF178'\n",
    "YELLOW = '#FFE74C'"
   ]
  },
  {
   "cell_type": "code",
   "execution_count": null,
   "metadata": {},
   "outputs": [],
   "source": [
    "# Ocultar código\n",
    "\n",
    "HTML('''<script>\n",
    "code_show=true; \n",
    "function code_toggle() {\n",
    " if (code_show){\n",
    " $('div.input').hide();\n",
    " } else {\n",
    " $('div.input').show();\n",
    " }\n",
    " code_show = !code_show\n",
    "} \n",
    "$( document ).ready(code_toggle);\n",
    "</script>\n",
    "The raw code for this IPython notebook is by default hidden for easier reading.\n",
    "To toggle on/off the raw code, click <a href=\"javascript:code_toggle()\">here</a>.''')"
   ]
  },
  {
   "cell_type": "code",
   "execution_count": null,
   "metadata": {
    "colab": {},
    "colab_type": "code",
    "id": "TX3hXdB3qTjV",
    "outputId": "27f53c42-0492-4095-e821-fb7ff344d6c8"
   },
   "outputs": [],
   "source": [
    "seaborn.__version__"
   ]
  },
  {
   "cell_type": "code",
   "execution_count": null,
   "metadata": {
    "colab": {},
    "colab_type": "code",
    "id": "nO4EvALgqTjd",
    "outputId": "08df101e-0ffe-4029-e08b-ab558c9ef868"
   },
   "outputs": [],
   "source": [
    "dataset = pandas.read_csv('dataset_sample_corrected.csv')\n",
    "dataset.shape"
   ]
  },
  {
   "cell_type": "code",
   "execution_count": null,
   "metadata": {
    "colab": {},
    "colab_type": "code",
    "id": "aDy9oVycqTji",
    "outputId": "0535accb-e85e-4c1b-fab1-0783dfbbef39"
   },
   "outputs": [],
   "source": [
    "dataset.columns\n"
   ]
  },
  {
   "cell_type": "markdown",
   "metadata": {
    "colab_type": "text",
    "id": "ZNHeGGkXqTjn"
   },
   "source": [
    "1. ¿Qué tipo de variables se encuentran presentes en el dataset? Realizar una breve descripción estadística de las mismas, determinar si existen outliers y valores incorrectos o no esperados.\n"
   ]
  },
  {
   "cell_type": "code",
   "execution_count": null,
   "metadata": {
    "colab": {},
    "colab_type": "code",
    "id": "XQdJs57IqTjo"
   },
   "outputs": [],
   "source": [
    "dataset[dataset.columns][:10]"
   ]
  },
  {
   "cell_type": "code",
   "execution_count": null,
   "metadata": {
    "colab": {},
    "colab_type": "code",
    "id": "-rJI-aMCqTjs",
    "outputId": "7886404a-9da0-4a08-8cfd-86e1d7f7351e"
   },
   "outputs": [],
   "source": [
    "dataset[dataset.columns].describe()"
   ]
  },
  {
   "cell_type": "markdown",
   "metadata": {
    "colab_type": "text",
    "id": "SiT3ca1EqTjz"
   },
   "source": [
    "## 1. Estadísticos descriptivos\n",
    "\n",
    "1. Sender_zipcode su rango esta dentro de 1000 y 20000.\n",
    "2. receiver_zipcode su rango esta dentro de 1000 y 100000.\n",
    "3. Quantity va desde 1 hasta 5\n",
    "4. Service va desde 0  hasta 12\n",
    "5. shipment_days va desde -77 hasta 90\n",
    "\n",
    "En un principio podemos observar que faltan valores para shipment_days.\n"
   ]
  },
  {
   "cell_type": "code",
   "execution_count": null,
   "metadata": {
    "colab": {},
    "colab_type": "code",
    "id": "oOXbAO6wqTjw"
   },
   "outputs": [],
   "source": [
    "# Veamos las columnas que tiene -77 en shipment_days\n",
    "dataset[dataset['shipment_days'] == -77]"
   ]
  },
  {
   "cell_type": "code",
   "execution_count": null,
   "metadata": {},
   "outputs": [],
   "source": [
    "# Contamos cuantas columnas tienen valores negativos\n",
    "dataset[dataset['shipment_days'] == -77]['shipment_days'].count()"
   ]
  },
  {
   "cell_type": "markdown",
   "metadata": {
    "colab_type": "text",
    "id": "SiT3ca1EqTjz"
   },
   "source": [
    "Al ver que son tan pocos valores negativos, podesmo descartarlos.\n",
    "  \n",
    "  "
   ]
  },
  {
   "cell_type": "markdown",
   "metadata": {},
   "source": [
    "#### 1.5. ¿Encuentra outliers en estas dos variables? ¿Qué método utiliza para detectarlos? ¿Los outliers, son globales o por grupo? ¿Los eliminaría del conjunto de datos?"
   ]
  },
  {
   "cell_type": "code",
   "execution_count": null,
   "metadata": {
    "colab": {},
    "colab_type": "code",
    "id": "HyT_LT7kqTkC",
    "outputId": "06bc1eb1-7d96-4620-9399-e6907bace51c",
    "scrolled": true
   },
   "outputs": [],
   "source": [
    "# Outliers\n",
    "#hf_score = dataset[['hf_score', 'countries', 'year']]\n",
    "mask_shipment_days = numpy.abs(dataset.shipment_days - dataset.shipment_days.mean()) > (2.5 * dataset.shipment_days.std())\n",
    "data = dataset[mask_shipment_days]\n",
    "data.reset_index(drop=True)"
   ]
  },
  {
   "cell_type": "code",
   "execution_count": null,
   "metadata": {
    "colab": {},
    "colab_type": "code",
    "id": "dFSEn-DqqTkI",
    "outputId": "afb4f4e4-50ed-4710-da8f-605e7e964c6d"
   },
   "outputs": [],
   "source": [
    "data.count()"
   ]
  },
  {
   "cell_type": "markdown",
   "metadata": {
    "colab_type": "text",
    "id": "6ia_PPReqTkM"
   },
   "source": [
    "Se encuentran outliers a nivel global que se desfasan en más de 2.5 veces el desvío estándar, para el caso del score de libertad humana.\n",
    "Se puede observar que los pasíses involucrados son algunos de Oriente Medio y Venezuela, en algunos años. Por lo que, cabe destacar que son países que sufrieron episodios de guerra, crisis económica o cuyos regímenes de gobierno son y/o fueron criticados en el pasado por tener características autoritarias o no contemplativas de los derechos de las minorías.\n",
    "Dada la naturaleza del estudio consideramos que no debemos sacar estos datos. Lo que es más, creemos que sacarlos atentaría contra la objetividad en el estudio de la información, ya que no los asociamos con errores de carga, sino con eventos concretos y que a futuro pueden enriquecer o aportar al entendimiento de las variables en cuestión"
   ]
  },
  {
   "cell_type": "code",
   "execution_count": null,
   "metadata": {
    "colab": {},
    "colab_type": "code",
    "id": "TyZLZ7JuqTkN",
    "outputId": "60600b0f-f29a-493c-b4b7-b3aad63cbcee",
    "scrolled": false
   },
   "outputs": [],
   "source": [
    "plt.figure(figsize=(14,7))\n",
    "seaborn.boxplot(data=dataset,\n",
    "                y='shipment_days', x='receiver_state',\n",
    "                fliersize=8)\n",
    "plt.xlabel('Shipment days')\n",
    "plt.ylabel('Receiver state')\n",
    "seaborn.despine()"
   ]
  },
  {
   "cell_type": "code",
   "execution_count": null,
   "metadata": {
    "colab": {},
    "colab_type": "code",
    "id": "ihKb7QRQqTkT",
    "outputId": "7e1d77b0-3e08-4a3f-fcb2-b614e54209a2",
    "scrolled": false
   },
   "outputs": [],
   "source": [
    "plt.figure(figsize=(14,7))\n",
    "seaborn.boxplot(data=dataset,\n",
    "                y='shipment_days', x='receiver_zipcode',\n",
    "                fliersize=8)\n",
    "plt.xlabel('Shipment days')\n",
    "plt.ylabel('receiver_zipcode')\n",
    "seaborn.despine()"
   ]
  },
  {
   "cell_type": "markdown",
   "metadata": {
    "colab_type": "text",
    "id": "pGvhXjSRqTkZ"
   },
   "source": [
    "## 2. Agregación de datos\n",
    "\n",
    "1. Grafiquen la media de la variable *pf_identity* y *hf_score* a través de los años.\n",
    "2. Realicen los mismos gráficos, pero separando por regiones (Cada variable en un gráfico distinto, sino no se ve nada). ¿La tendencia observada, es la misma que si no dividimos por regiones?\n",
    "3. Si lo consideran necesario, grafiquen algunos países de Latinoamerica para tratar de explicar la tendencia de la variable *pf_identity* en la región. ¿Cómo seleccionarion los países relevantes a esa tendencia?\n",
    "\n",
    "Hint: hay un gráfico de seaborn que hace todo por vos!\n",
    "\n",
    "Sólo por curiosidad, graficar la tendencia de *hf_score* y *ef_score* a través de los años. ¿Tienen alguna hipótesis para este comportamiento?"
   ]
  },
  {
   "cell_type": "markdown",
   "metadata": {},
   "source": [
    "#### 2.1. Grafiquen la media de la variable *pf_identity* y *hf_score* a través de los años."
   ]
  },
  {
   "cell_type": "code",
   "execution_count": null,
   "metadata": {
    "colab": {},
    "colab_type": "code",
    "id": "kGcSp_bRqTka",
    "outputId": "ea0e82b8-a13f-4936-cc20-a190cd02935d"
   },
   "outputs": [],
   "source": [
    "pf_identity = dataset[['pf_identity', 'countries', 'year', 'region']]\n",
    "hf_score = dataset[['hf_score', 'countries', 'year', 'region']]\n",
    "\n",
    "plt.figure(figsize=(10,6))\n",
    "seaborn.lineplot(data=pf_identity, x='year', y='pf_identity', ci=None, label='pf_identity')\n",
    "seaborn.lineplot(data=hf_score, x='year', y='hf_score', ci=None, label='hf_score')\n",
    "plt.title('pf identity y hf score globales')\n",
    "plt.grid(True)\n",
    "plt.ylabel('Valor')\n",
    "plt.xlabel('Año')\n",
    "#plt.ylim(6,9)\n",
    "seaborn.despine()"
   ]
  },
  {
   "cell_type": "markdown",
   "metadata": {},
   "source": [
    "#### 2.2. Realicen los mismos gráficos, pero separando por regiones (Cada variable en un gráfico distinto, sino no se ve nada). ¿La tendencia observada, es la misma que si no dividimos por regiones?"
   ]
  },
  {
   "cell_type": "code",
   "execution_count": null,
   "metadata": {
    "colab": {},
    "colab_type": "code",
    "id": "_HkcE3mXqTkh",
    "outputId": "949f7f60-8721-4fe3-c69a-f5519a3ca6b3"
   },
   "outputs": [],
   "source": [
    "plt.figure(figsize=(10,6))\n",
    "seaborn.lineplot(data=dataset, x='year', y='pf_identity', hue='region',ci=None)\n",
    "plt.grid(True)\n",
    "plt.xlabel('Año')\n",
    "plt.ylabel('pf identity')\n",
    "plt.title('pf identity regional')\n",
    "plt.ylim(0, 10)\n",
    "plt.legend(bbox_to_anchor=(1, 1), loc=2)\n",
    "seaborn.despine()"
   ]
  },
  {
   "cell_type": "code",
   "execution_count": null,
   "metadata": {
    "colab": {},
    "colab_type": "code",
    "id": "4VYiB3XvqTkp",
    "outputId": "6dd2c1ce-0c78-4c44-dd64-585dec6da8b4"
   },
   "outputs": [],
   "source": [
    "plt.figure(figsize=(10,6))\n",
    "seaborn.lineplot(data=dataset, x='year', y='hf_score', hue='region',ci=None)\n",
    "plt.xlabel('Año')\n",
    "plt.ylabel('hf score')\n",
    "plt.title('hf score regional')\n",
    "plt.grid(True)\n",
    "#plt.ylim(0, 10)\n",
    "plt.legend(bbox_to_anchor=(1, 1), loc=2)\n",
    "seaborn.despine()"
   ]
  },
  {
   "cell_type": "markdown",
   "metadata": {
    "colab_type": "text",
    "id": "T78RdRU1qTku"
   },
   "source": [
    "**hf score**\n",
    "\n",
    "Las tendencias globales son similares en la división por regiones.\n",
    "- el único que tiene un descenso más marcado es Middle East\n",
    "\n",
    "**pf identity**\n",
    "\n",
    "Las tendencias globales _no_ son similares en la división por regiones. En la gráfica puede verse cuáles regiones fueron las que \"colaboraron\" en gran medida con las bajas de los índices:\n",
    "- 2010 Middle East y Africa tiene un marcado descenso\n",
    "- 2014 - 2015 América latina tiene un marcado descenso y las regiones con índices más altos también presentan un descenso; que aunque es leve, en la sumatoria creemos que impactan en el valor global\n",
    "- 2008 - 2015 mientras todas las regiones van en descenso, Sub Saharan Africa va en ascenso"
   ]
  },
  {
   "cell_type": "markdown",
   "metadata": {},
   "source": [
    "#### 2.3. Si lo consideran necesario, grafiquen algunos países de Latinoamerica para tratar de explicar la tendencia de la variable *pf_identity* en la región. ¿Cómo seleccionarion los países relevantes a esa tendencia?"
   ]
  },
  {
   "cell_type": "code",
   "execution_count": null,
   "metadata": {
    "colab": {},
    "colab_type": "code",
    "id": "TSNxk-jWqTkv",
    "outputId": "da1b0cbf-bc7a-4464-8284-a3f09affe739",
    "scrolled": true
   },
   "outputs": [],
   "source": [
    "pf_identity = latam[['pf_identity', 'countries', 'year', 'region']]\n",
    "\n",
    "plt.figure(figsize=(8,5))\n",
    "seaborn.lineplot(data=latam, x='year', y='pf_identity')\n",
    "plt.ylabel('Pf identity')\n",
    "plt.xlabel('Año')\n",
    "plt.title('pf identity en Latam')\n",
    "plt.ylim(0,10)\n",
    "seaborn.despine()"
   ]
  },
  {
   "cell_type": "markdown",
   "metadata": {
    "colab_type": "text",
    "id": "v_ce4HA6qTkz"
   },
   "source": [
    "Haciendo foco en pf identity a lo largo de los años, se puede observar que entre 2014 y 2016 se producen dos saltos sensibles. Por ese motivo, queremos identificar lo sucedido con un poco más de detalle"
   ]
  },
  {
   "cell_type": "code",
   "execution_count": null,
   "metadata": {
    "scrolled": true
   },
   "outputs": [],
   "source": [
    "# Se separan los paises que tienen cambios entre 2014 y 2015\n",
    "paises_int = latam[latam.year.isin([2014,2015])].groupby('countries')['pf_identity'].apply(lambda x: x.std()).reset_index(name='pf_identity_std')\n",
    "paises_int = paises_int[paises_int['pf_identity_std']>0]['countries']"
   ]
  },
  {
   "cell_type": "code",
   "execution_count": null,
   "metadata": {
    "colab": {},
    "colab_type": "code",
    "id": "fx29Vi3iqTk0",
    "outputId": "fd12de8c-848f-4c42-e131-79a5619f48bb",
    "scrolled": false
   },
   "outputs": [],
   "source": [
    "plt.figure(figsize=(10,6))\n",
    "data_plot = latam[(latam.year >= 2014)&(latam.countries.isin(paises_int))]\n",
    "indexes = data_plot.year.unique()\n",
    "seaborn.lineplot(data=data_plot, x='year', y='pf_identity', hue='countries')\n",
    "plt.xlabel('Año')\n",
    "plt.ylabel('pf identity')\n",
    "plt.title('pf identity en países con variación entre 2014 y 2015')\n",
    "plt.grid(True)\n",
    "plt.ylim(4, 10)\n",
    "plt.xticks(indexes)\n",
    "plt.legend(bbox_to_anchor=(1, 1), loc=2)\n",
    "seaborn.despine()\n"
   ]
  },
  {
   "cell_type": "markdown",
   "metadata": {},
   "source": [
    "Se puede observar que entre 2014 y 2015, la mayoría de los países que tuvieron una variación en sus valores de pf identity, tuvieron un descenso y con la misma pendiente (excepto Panamá que tiene una pendiente menor). El único país que tuvo un ascenso, y mínimo, fue Perú."
   ]
  },
  {
   "cell_type": "markdown",
   "metadata": {},
   "source": [
    "#### 2.4 Sólo por curiosidad, graficar la tendencia de *hf_score* y *ef_score* a través de los años. ¿Tienen alguna hipótesis para este comportamiento?"
   ]
  },
  {
   "cell_type": "code",
   "execution_count": null,
   "metadata": {},
   "outputs": [],
   "source": [
    "ef_score = dataset[['ef_score', 'countries', 'year', 'region']]\n",
    "hf_score = dataset[['hf_score', 'countries', 'year', 'region']]\n",
    "pf_score = dataset[['pf_score', 'countries', 'year', 'region']]\n",
    "\n",
    "plt.figure(figsize=(10,6))\n",
    "seaborn.lineplot(data=ef_score, x='year', y='ef_score', ci=None, label=\"ef_score\")\n",
    "seaborn.lineplot(data=hf_score, x='year', y='hf_score', ci=None, label=\"hf_score\")\n",
    "seaborn.lineplot(data=pf_score, x='year', y='pf_score', ci=None, label=\"pf_score\")\n",
    "plt.grid(True)\n",
    "plt.title('pf score, ef score y hf score globales')\n",
    "plt.ylabel('Valor')\n",
    "plt.xlabel('Año')\n",
    "seaborn.despine()"
   ]
  },
  {
   "cell_type": "markdown",
   "metadata": {},
   "source": [
    "Se observa que hf score se encuentra en medio de pf score y ef score. Por lo tanto, podría suponerse que la variable hf_score resulta de un promedio de las otras dos. \n",
    "\n",
    "Al observar pf identity, no se encuentra similitud de comportamientos con hf score, ef score e incluso pf score; lo cual confirma que pf identity aporta a pf score pero no es la única involucrada."
   ]
  },
  {
   "cell_type": "markdown",
   "metadata": {
    "colab_type": "text",
    "id": "N9d4hCfoqTk3"
   },
   "source": [
    "## 3. Distribuciones\n",
    "  1. Graficar en un mismo histograma la distribución de la variable *pf_identity* en global, y en Latinoamérica y el caribe. Repetir para la variable *hf_score*. ¿Visualmente, a qué tipo de distribución corresponde cada variable? ¿Es correcto utilizar todos los registros para esas zonas en estos gráficos?\n",
    "  2. Realizar una prueba de Kolmogorov-Smirnof para comprobar analíticamente si estas variables responden la distribución propuesta en el ejercicio anterior. Hint: podés usar https://docs.scipy.org/doc/scipy-0.14.0/reference/generated/scipy.stats.kstest.html, pero hay que tener en cuenta que si la distribución es \"norm\", entonces va a comparar los datos con una distribución normal con media 0 y desviación estándar 1. Se puede utilizar la distribución sobre todos los datos o sólo sobre Latinoamérica.\n",
    "  3. Realizar un gráfico QQ de las mismas distribuciones. Se puede utilizar a,bas distribuciones sobre todos los datos o sólo sobre Latinoamérica, pero no cruzadas.\n",
    "  4. Medir la asimetría (skew) y curtosis de las mismas distribuciones con las que realizó el gráfico anterior. ¿Cómo se relacionan estos estadísticos con la forma del gráfico QQ obtenido previamente? ¿El gráfico QQ provee más información que no esté presente en estos estadísticos?"
   ]
  },
  {
   "cell_type": "markdown",
   "metadata": {},
   "source": [
    "#### 3.1. Graficar en un mismo histograma la distribución de la variable *pf_identity* en global, y en Latinoamérica y el caribe. Repetir para la variable *hf_score*. ¿Visualmente, a qué tipo de distribución corresponde cada variable? ¿Es correcto utilizar todos los registros para esas zonas en estos gráficos?"
   ]
  },
  {
   "cell_type": "code",
   "execution_count": null,
   "metadata": {
    "colab": {},
    "colab_type": "code",
    "id": "zopr0jU-qTk4",
    "outputId": "e1ed9d74-7d39-4a27-8c12-8d92cccdfaf5"
   },
   "outputs": [],
   "source": [
    "plt.figure(figsize=(10,6))\n",
    "seaborn.distplot(dataset['pf_identity'].dropna(), bins=10, color=BLUE, label='Mundo')\n",
    "seaborn.distplot(latam['pf_identity'].dropna(), bins=10, color=RED, label='Latam')\n",
    "plt.title('Distribuciones de pf identity a nivel global y Latam')\n",
    "plt.legend(bbox_to_anchor=(1, 1), loc=2)\n",
    "seaborn.despine()"
   ]
  },
  {
   "cell_type": "code",
   "execution_count": null,
   "metadata": {
    "colab": {},
    "colab_type": "code",
    "id": "wXl5_1B5qTk8",
    "outputId": "afcba227-3678-4a11-8c7a-015cceb7c784"
   },
   "outputs": [],
   "source": [
    "plt.figure(figsize=(10,6))\n",
    "seaborn.distplot(dataset['hf_score'].dropna(), bins=10, color=BLUE, label='Mundo')\n",
    "seaborn.distplot(latam['hf_score'].dropna(), bins=10, color=RED, label='Latam')\n",
    "plt.title('Distribuciones de hf score a nivel global y Latam')\n",
    "plt.legend(bbox_to_anchor=(1, 1), loc=2)\n",
    "seaborn.despine()"
   ]
  },
  {
   "cell_type": "markdown",
   "metadata": {
    "colab_type": "text",
    "id": "v4X18AqcqTlD"
   },
   "source": [
    "A simple vista no tiene forma de distribución de una distribución que nos resulte familiar.\n",
    "hf_score, para el caso de latam tiene una forma similar a la normal alrededor del 7\n",
    "\n",
    "Creemos que es correcto utilizar todos los valores con los que contamos."
   ]
  },
  {
   "cell_type": "markdown",
   "metadata": {},
   "source": [
    "#### 3.2. Realizar una prueba de Kolmogorov-Smirnof para comprobar analíticamente si estas variables responden la distribución propuesta en el ejercicio anterior. Hint: podés usar https://docs.scipy.org/doc/scipy-0.14.0/reference/generated/scipy.stats.kstest.html, pero hay que tener en cuenta que si la distribución es \"norm\", entonces va a comparar los datos con una distribución normal con media 0 y desviación estándar 1. Se puede utilizar la distribución sobre todos los datos o sólo sobre Latinoamérica."
   ]
  },
  {
   "cell_type": "code",
   "execution_count": null,
   "metadata": {},
   "outputs": [],
   "source": [
    "#ToDo: revisar con cual forma calculamos la media y std\n",
    "data_plot = dataset['pf_identity'].dropna()\n",
    "mean = data_plot.mean()\n",
    "desv = data_plot.std()\n",
    "stats.kstest(data_plot, 'norm', args=(mean,desv))"
   ]
  },
  {
   "cell_type": "code",
   "execution_count": null,
   "metadata": {},
   "outputs": [],
   "source": [
    "mean, desv = stats.norm.fit(dataset['pf_identity'].dropna())\n",
    "stats.kstest(dataset['pf_identity'].dropna(), 'norm', args=(mean,desv))"
   ]
  },
  {
   "cell_type": "code",
   "execution_count": null,
   "metadata": {
    "colab": {},
    "colab_type": "code",
    "id": "tpcahiXEqTlH",
    "outputId": "09ff8b48-b40b-442b-9a94-258e2c7bfaa3"
   },
   "outputs": [],
   "source": [
    "media, desv = stats.norm.fit(latam['pf_identity'].dropna())\n",
    "stats.kstest(latam['pf_identity'].dropna(), 'norm', args=(mean,desv))"
   ]
  },
  {
   "cell_type": "code",
   "execution_count": null,
   "metadata": {
    "colab": {},
    "colab_type": "code",
    "id": "3n-6quxSqTlL",
    "outputId": "915e4f0d-d762-4a97-cd18-8583564dc2da"
   },
   "outputs": [],
   "source": [
    "media, desv = stats.norm.fit(dataset['hf_score'].dropna())\n",
    "stats.kstest(dataset['hf_score'].dropna(), 'norm', args=(mean,desv))"
   ]
  },
  {
   "cell_type": "code",
   "execution_count": null,
   "metadata": {
    "colab": {},
    "colab_type": "code",
    "id": "H2zXY32TqTlP",
    "outputId": "55a74f58-d8d5-49a0-a1f3-542d11771da0"
   },
   "outputs": [],
   "source": [
    "media, desv = stats.norm.fit(latam['hf_score'].dropna())\n",
    "stats.kstest(latam['hf_score'].dropna(), 'norm', args=(mean,desv))"
   ]
  },
  {
   "cell_type": "markdown",
   "metadata": {
    "colab_type": "text",
    "id": "YzmCOyMWqTlS"
   },
   "source": [
    "Dado que los p valores, de todos los ks test realizados, son cercanos a cero, debemos rechazar la hipótesis de que alguna de estas distribuciones sea normal."
   ]
  },
  {
   "cell_type": "markdown",
   "metadata": {},
   "source": [
    "#### 3.3. Realizar un gráfico QQ de las mismas distribuciones. Se puede utilizar ambas distribuciones sobre todos los datos o sólo sobre Latinoamérica, pero no cruzadas."
   ]
  },
  {
   "cell_type": "code",
   "execution_count": null,
   "metadata": {
    "colab": {},
    "colab_type": "code",
    "id": "ux1qLWsyqTlT",
    "outputId": "a15c413e-bdbe-4522-89f9-df4182d98c50",
    "scrolled": false
   },
   "outputs": [],
   "source": [
    "loc, scale = stats.norm.fit(dataset['hf_score'].dropna())\n",
    "norm_dist = stats.norm(loc, scale)\n",
    "percs = numpy.linspace(0,100,21)  # Creamos 20 puntos percentiles igualmente distribuidos entre 0 y 100.\n",
    "qn_sample = numpy.percentile(dataset['hf_score'].dropna(), percs)\n",
    "qn_norm_dist = numpy.percentile(norm_dist.rvs(len(dataset['hf_score'].dropna())), percs)\n",
    "plt.figure(figsize=(12,6))\n",
    "seaborn.regplot(x=qn_sample, y=qn_norm_dist)\n",
    "plt.xlabel('Percentiles hf_score, Mundo')\n",
    "plt.ylabel('Percentiles de la normal')\n",
    "plt.title('QQ plot de hf score global vs distribución normal')\n",
    "x = numpy.linspace(numpy.min((qn_sample.min(), qn_norm_dist.min())), numpy.max((qn_sample.max(),qn_norm_dist.max())))\n",
    "plt.plot(x,x, color=RED, ls=\"--\")\n",
    "\n",
    "seaborn.despine()"
   ]
  },
  {
   "cell_type": "code",
   "execution_count": null,
   "metadata": {
    "colab": {},
    "colab_type": "code",
    "id": "vD-zhCC2qTlW",
    "outputId": "ac871a21-d6ec-4512-e508-07078de74f22"
   },
   "outputs": [],
   "source": [
    "loc, scale = stats.norm.fit(latam['hf_score'].dropna())\n",
    "norm_dist = stats.norm(loc, scale)\n",
    "percs = numpy.linspace(0,100,21)  # Creamos 20 puntos percentiles igualmente distribuidos entre 0 y 100.\n",
    "qn_sample = numpy.percentile(latam['hf_score'].dropna(), percs)\n",
    "qn_norm_dist = numpy.percentile(norm_dist.rvs(len(latam['hf_score'].dropna())), percs)\n",
    "plt.figure(figsize=(12,6))\n",
    "seaborn.regplot(x=qn_sample, y=qn_norm_dist)\n",
    "plt.xlabel('Percentiles hf_score, Mundo')\n",
    "plt.ylabel('Percentiles de la normal')\n",
    "plt.title('QQ plot de hf score en Latam vs distribución normal')\n",
    "x = numpy.linspace(numpy.min((qn_sample.min(), qn_norm_dist.min())), numpy.max((qn_sample.max(),qn_norm_dist.max())))\n",
    "plt.plot(x,x, color=RED, ls=\"--\")\n",
    "\n",
    "seaborn.despine()"
   ]
  },
  {
   "cell_type": "markdown",
   "metadata": {},
   "source": [
    "#### 3.4. Medir la asimetría (skew) y curtosis de las mismas distribuciones con las que realizó el gráfico anterior. ¿Cómo se relacionan estos estadísticos con la forma del gráfico QQ obtenido previamente? ¿El gráfico QQ provee más información que no esté presente en estos estadísticos?"
   ]
  },
  {
   "cell_type": "code",
   "execution_count": null,
   "metadata": {},
   "outputs": [],
   "source": [
    "# ToDo completo"
   ]
  },
  {
   "cell_type": "markdown",
   "metadata": {
    "colab_type": "text",
    "id": "D8yVHP_HqTlb"
   },
   "source": [
    "## 4. Correlaciones\n",
    "\n",
    "En este ejercicio queremos responder a las preguntas\n",
    "\n",
    "* Las libertades sociales y económicas, ¿van siempre de la mano?\n",
    "* ¿Cómo se relacionan ambas con las libertades individuales y respectivas a las relaciones personales?\n",
    "\n",
    "Para ello, analizaremos las correlaciones entre las variables pf_identity, hf_score y ef_score. \n",
    "\n",
    "Como pf_indentity contribuye al cálculo de hf_score y ef_score, esperamos hallar algún grado de correlación. Sin embargo, queremos medir qué tanta correlación. \n",
    "\n",
    "1. ¿Qué conclusiones puede sacar de un gráfico pairplot de estas tres variables? ¿Es adecuado para los valores de pf_identity? ¿Por qué?\n",
    "2. Graficar la correlación entre pf_identity y hf_score; y entre pf_identity y ef_score. Analizar el resultado, ¿se pueden sacar conclusiones? Tengan en cuenta que como pf_identity es el resultado de un promedio, sólo toma algunos valores. Es, en efecto, discreta.\n",
    "3. Calcular algún coeficiente de correlación adecuado entre los dos pares de variables, dependiendo de la cantidad de datos, el tipo de datos y la distribución de los mismo. Algunas opciones son: coeficiente de pearson, coeficiente de spearman, coeficientes de tau y de kendall. Interpretar los resultados y justificar si las variables están correlacionadas o no. \n",
    "4. [Opcional] Analizar la correlación entre la region y el hf_score (y/o el ef_score); y entre la region y el pf_identity. Considerar que como la variable *region* es ordinal, debe utilizarse algún tipo de test. Explicar cuáles son los requisitos necesarios para la aplicación de ese test. (Si no se cumplieran, se pueden agregar algunos datos para generar más registros)\n"
   ]
  },
  {
   "cell_type": "markdown",
   "metadata": {},
   "source": [
    "#### 4.1. ¿Qué conclusiones puede sacar de un gráfico pairplot de estas tres variables? ¿Es adecuado para los valores de pf_identity? ¿Por qué?"
   ]
  },
  {
   "cell_type": "code",
   "execution_count": null,
   "metadata": {
    "colab": {},
    "colab_type": "code",
    "id": "A9uXvGg-qTlc",
    "outputId": "28d496f4-525d-4ea7-9fbd-e33ff5c8047d"
   },
   "outputs": [],
   "source": [
    "plt.figure(figsize=(10, 6))\n",
    "\n",
    "seaborn.pairplot(\n",
    "    data=dataset,\n",
    "    vars=['pf_identity', 'hf_score', 'ef_score'],\n",
    "    markers='+')\n",
    "plt.title('PairPlot de pf identity, hf score y ef score globales')\n",
    "seaborn.despine()"
   ]
  },
  {
   "cell_type": "code",
   "execution_count": null,
   "metadata": {
    "colab": {},
    "colab_type": "code",
    "id": "A9uXvGg-qTlc",
    "outputId": "28d496f4-525d-4ea7-9fbd-e33ff5c8047d"
   },
   "outputs": [],
   "source": [
    "plt.figure(figsize=(10, 6))\n",
    "\n",
    "seaborn.pairplot(\n",
    "    data=latam,\n",
    "    vars=['pf_identity', 'hf_score', 'ef_score'],\n",
    "    markers='+')\n",
    "plt.title('PairPlot de pf identity, hf score y ef score en Latam')\n",
    "seaborn.despine()"
   ]
  },
  {
   "cell_type": "markdown",
   "metadata": {},
   "source": [
    "De los gráficos obtenidos,tanto a nivel global como en Latam, no se puede observar que exista correlación entre las variables pf identity y hf score y ef score.\n",
    "\n",
    "Lo que puede destacarse de pf identity es que para determinados valores presenta \"líneas\" verticales u horizontales, dependiendo del caso, y este comportamiento se asocia a que la variable es discreta.\n",
    "\n",
    "Por otro lado, entre hf score y ef score sí parece haber una correlación cuya forma parece lineal"
   ]
  },
  {
   "cell_type": "code",
   "execution_count": null,
   "metadata": {},
   "outputs": [],
   "source": [
    "plt.figure(figsize=(10,6))\n",
    "seaborn.jointplot(data=dataset,\n",
    "                  x='pf_identity', y='hf_score', kind='kde')\n",
    "plt.title('JointPlot de pf identity y hf score globales')\n",
    "\n",
    "plt.figure(figsize=(10,6))\n",
    "seaborn.jointplot(data=latam,\n",
    "                  x='pf_identity', y='hf_score', kind='kde')\n",
    "plt.title('JointPlot de pf identity y hf score en Latam')"
   ]
  },
  {
   "cell_type": "markdown",
   "metadata": {},
   "source": [
    "Se puede observar que a nivel global los valores más altos de pf identity son los más frecuentes y que, por parte de hf score, los son aquellos medios y altos. Ésto no indica que estén correlacionados, ya que a nivel de probabilidad podrían darse cualquiera de las combinaciones, no sólo aquellas más oscuras.\n",
    "\n",
    "Una lectura similar se hace para el caso de Latam, aunque hf score muestra valores más concentrados hacia los altos."
   ]
  },
  {
   "cell_type": "markdown",
   "metadata": {},
   "source": [
    "#### 4.2. Graficar la correlación entre pf_identity y hf_score; y entre pf_identity y ef_score. Analizar el resultado, ¿se pueden sacar conclusiones? Tengan en cuenta que como pf_identity es el resultado de un promedio, sólo toma algunos valores. Es, en efecto, discreta."
   ]
  },
  {
   "cell_type": "code",
   "execution_count": null,
   "metadata": {},
   "outputs": [],
   "source": [
    "plt.figure(figsize=(10,6))\n",
    "seaborn.regplot(data=dataset,\n",
    "                x='pf_identity', y='hf_score',\n",
    "                marker='+')\n",
    "plt.title('Regression Plot de pf identity vs hf score')\n",
    "seaborn.despine()\n",
    "\n",
    "plt.figure(figsize=(10,6))\n",
    "seaborn.regplot(data=dataset,\n",
    "                x='pf_identity', y='ef_score',\n",
    "                marker='+')\n",
    "plt.title('Regression Plot de pf identity vs ef score')\n",
    "seaborn.despine()\n",
    "\n",
    "plt.figure(figsize=(10,6))\n",
    "seaborn.regplot(data=dataset,\n",
    "                x='hf_score', y='ef_score',\n",
    "                marker='+')\n",
    "plt.title('Regression Plot de hf score vs ef score')\n",
    "seaborn.despine()"
   ]
  },
  {
   "cell_type": "markdown",
   "metadata": {},
   "source": [
    "La regresión lineal estimada parece indicar que no existe correlación fuerte entre las variables pf identity y hf score y ef score. Pero se puede observar que entre hf score y ef score sí parece haber una correlación lineal."
   ]
  },
  {
   "cell_type": "markdown",
   "metadata": {},
   "source": [
    "#### 4.3. Calcular algún coeficiente de correlación adecuado entre los dos pares de variables, dependiendo de la cantidad de datos, el tipo de datos y la distribución de los mismo. Algunas opciones son: coeficiente de pearson, coeficiente de spearman, coeficientes de tau y de kendall. Interpretar los resultados y justificar si las variables están correlacionadas o no. "
   ]
  },
  {
   "cell_type": "code",
   "execution_count": null,
   "metadata": {
    "colab": {},
    "colab_type": "code",
    "id": "QTFGGfiMqTlq",
    "outputId": "c987f4a9-c389-4c48-8ef2-7b9d81354290"
   },
   "outputs": [],
   "source": [
    "corr_data = dataset[['pf_identity','hf_score','ef_score']]\n",
    "corr_data.corr(method ='kendall')"
   ]
  },
  {
   "cell_type": "code",
   "execution_count": null,
   "metadata": {
    "colab": {},
    "colab_type": "code",
    "id": "JoVR0itBqTlt",
    "outputId": "db36d3ab-c814-48a7-ef9b-ae790d745936"
   },
   "outputs": [],
   "source": [
    "corr_data.corr(method ='pearson')"
   ]
  },
  {
   "cell_type": "code",
   "execution_count": null,
   "metadata": {
    "colab": {},
    "colab_type": "code",
    "id": "Pi1r4WczqTl1",
    "outputId": "5dfd25fb-faf7-4959-ad86-26daf894ad24"
   },
   "outputs": [],
   "source": [
    "corr_data.corr(method ='spearman')"
   ]
  },
  {
   "cell_type": "markdown",
   "metadata": {
    "colab": {},
    "colab_type": "code",
    "id": "M_nK6DYVqTl4"
   },
   "source": [
    "Las variables hf score y ef score están altamente correlacionadas\n",
    "Las variables pf identity y hf score están correlacionadas\n",
    "Las variables pf identity y ef score no muestran fuerte correlación\n",
    "ToDo: meter un poco más de teoría"
   ]
  },
  {
   "cell_type": "markdown",
   "metadata": {},
   "source": [
    "#### 4.4. [Opcional] Analizar la correlación entre la region y el hf_score (y/o el ef_score); y entre la region y el pf_identity. Considerar que como la variable *region* es ordinal, debe utilizarse algún tipo de test. Explicar cuáles son los requisitos necesarios para la aplicación de ese test. (Si no se cumplieran, se pueden agregar algunos datos para generar más registros)"
   ]
  },
  {
   "cell_type": "code",
   "execution_count": null,
   "metadata": {},
   "outputs": [],
   "source": [
    "# ToDo"
   ]
  }
 ],
 "metadata": {
  "colab": {
   "name": "02_practico_I.ipynb",
   "provenance": [],
   "version": "0.3.2"
  },
  "kernelspec": {
   "display_name": "Python 3",
   "language": "python",
   "name": "python3"
  },
  "language_info": {
   "codemirror_mode": {
    "name": "ipython",
    "version": 3
   },
   "file_extension": ".py",
   "mimetype": "text/x-python",
   "name": "python",
   "nbconvert_exporter": "python",
   "pygments_lexer": "ipython3",
   "version": "3.6.8"
  }
 },
 "nbformat": 4,
 "nbformat_minor": 1
}
