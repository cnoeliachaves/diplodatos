{
 "cells": [
  {
   "cell_type": "markdown",
   "metadata": {
    "colab_type": "text",
    "id": "U3u5pKlRqTjO"
   },
   "source": [
    "<center>\n",
    "<h4>Universidad Nacional de Córdoba - Facultad de Matemática, Astronomía, Física y Computación</h4>\n",
    "<h3>Diplomatura en Ciencia de Datos, Aprendizaje Automático y sus Aplicaciones</h3>\n",
    "</center>"
   ]
  },
  {
   "cell_type": "markdown",
   "metadata": {
    "colab_type": "text",
    "id": "0vwpBmo4qTjQ"
   },
   "source": [
    "<h1> Práctico 2 - Estadística </h1>\n",
    "<h3> Análisis y Visualización de Datos - 2019 </h3>\n",
    "\n",
    "<h4>Motivación</h4>\n",
    "\n",
    "En la actualidad, cada vez más productos se comercializan a través de una plataforma online. Una de las principales ventajas de este sistema es que el usuario puede recibir el producto en su domicilio en una fecha determinada. Pero, ¿cómo sabemos qué día va a llegar? ¿A partir de qué datos podemos predecir la demora del envío? En este práctico se trabajará con datos de envíos de MercadoLibre, el e-commerce más grande de Latinoamérica, analizando y modelando el problema de logística de envíos para poder responder ¿cuándo llega?.\n",
    "\n",
    "<h4>Descripción del dataset</h4>\n",
    "\n",
    "Datos: El conjunto de datos seleccionado para realizar el práctico corresponde a un muestreo aleatorio no uniforme de 500.000 envíos de MercadoLibre. Estos envíos fueron realizados en Brasil en el período comprendido entre Octubre de 2018 y Abril de 2019 (las fechas han sido modificadas y adaptada a un período de tiempo diferente, conservando el día de la semana y considerando los feriados correspondientes). Los datos comprenden variables tanto categóricas como numéricas. \n",
    "\n",
    "Las variables más importantes sobre las que trabaja el dataset son:\n",
    "\n",
    "    • Sender_state: Estado de Brasil de donde sale el envío.\n",
    "    • Sender_zipcode: Código postal (de 5 dígitos) de donde sale el envío.\n",
    "    • Receiver_state: Estado de Brasil a donde llega el envío.\n",
    "    • Receiver_zipcode: Código postal (de 5 dígitos) a donde llega el envío.\n",
    "    • Shipment_type: Método de envío (normal, express, super).\n",
    "    • Quantity: Cantidad de productos en un envío.\n",
    "    • Service: Servicio del correo con el cual se realizó un envío.\n",
    "    • Status: Estado del envío (set: listo para ser enviado, sent: enviado, done: entregado, failed: no entregado, cancelled: cancelado).\n",
    "    • Date_created: Fecha de creación del envío.\n",
    "    • Date_sent: Fecha y hora en que se realizó el envío (salió del correo).\n",
    "    • Date_visit: Fecha y hora en que se entregó el envío al destinatario.\n",
    "    • Shipment_days: Días hábiles entre que el envío fue enviado (salió del correo) y que fue entregado.\n",
    "\n",
    "<h4> Objetivo:</h4>\n",
    "\n",
    "El objetivo de este práctico es aprender a leer y analizar el dataset para extraer información útil sobre el problema a resolver. Se espera que se gane conocimiento en el manejo de librerías y metodologías de visualización para generar gráficas de los datos. Otro objetivo es calcular estadísticos que faciliten, junto a los gráficos, dar respuestas a preguntas propias de la problemática. Por último, se busca  desarrollar habilidades de comunicación de la información obtenida a partir de los datos de manera clara y sencilla.\n",
    "\n",
    "<h4>Método</h4>\n",
    "\n",
    "A partir de lo estudiado en las clases teóricas y prácticas de la materia “Análisis y visualización de datos”, realizar un informe en formato de notebook o interactivo, en el cual se describen los aspectos de mayor relevancia del dataset. En la misma se deben incluir las gráficas y los estadísticos que sean pertinentes para responder a las preguntas indicadas a continuación junto con el análisis y las respuestas propiamente dichas (además de cualquiera otra información extra que se considere de relevancia sobre la problemática):\n",
    "\n",
    "1. ¿Qué tipo de variables se encuentran presentes en el dataset? Realizar una breve descripción estadística de las mismas, determinar si existen outliers y valores incorrectos o no esperados.\n",
    "2. ¿Cómo es la distribución de zipcodes de origen y destino de un envío? ¿Está concentrada en algún valor? ¿Y para el resto de las variables?\n",
    "3. ¿Es la distribución del número de días que demora un envío normal? ¿Adquiere significado la media y desviación estándar? ¿Qué tipo de estadísticos podrían ser relevantes en este caso? ¿Hay alguna otra distribución a la cual se asemeje más?\n",
    "4. ¿Cuál es la probabilidad de que el destinatario de un envío sea del estado de Minas Gerais (MG)? ¿Cuál es la probabilidad de que dicho envío (que llega a Minas Gerais) sea realizado mediante el servicio 1?\n",
    "5. ¿Cuál es la probabilidad de que un envío sea realizado con el método super express? ¿Y la de que un envío realizado con dicho método llegue al estado de Minas Gerais?\n",
    "6. ¿Existe correlación entre el número de días que tarda un envío y el destinatario del mismo? ¿Y entre el número de días y la cantidad de productos en un paquete? ¿Con qué otra variable está correlacionado el número de días que tarda un envío? Analizar la independencia de las variables.\n",
    "7. Además del cálculo de los estadísticos correspondientes, sería interesante observar un gráfico que muestre la información estadística (por ejemplo, la media) y la presencia de outliers del número de días que tardan los envíos que se realizan a los diferentes estados de Brasil. ¿Cuál es el estado que, en promedio, tiene una mayor demora? ¿Cuál es la distancia geográfica de San Pablo a dicho estado? ¿Y al de menor?\n",
    "8. ¿Cuál es la distribución de la entrega de envíos por hora del día para cada uno de los estados de Brasil? Realizar un único gráfico donde se muestre esta información.\n",
    "9. Bonus (no obligatorio): Proponer y discutir la aplicación de al menos uno de los contenidos desarrollados en la clase de “Inferencia Bayesiana” al conjunto de datos y problemática aquí presentada.\n",
    "\n",
    "\n",
    "Esta comunicación debe estar dirigida para un público técnico pero que desconoce los aspectos propios del problema a resolver (por ejemplo, sus compañeros de clase). Se evaluará, principalmente, la claridad del mensaje presentado, el uso de las herramientas y los conceptos de visualización desarrollados en las clases, y el cálculo de los estadísticos apropiados para el problema.\n",
    "\n",
    "<h4>Estructura del informe</h4>\n",
    "\n",
    "El informe debe contar con la estructura propia de un reporte de un experimento científico. Esto implica que debe tener un objetivo claro, una introducción a la problemática a resolver en dicho informe (no únicamente al problema general), una descripción de los datos a emplear, el desarrollo propiamente dicho del experimento y las conclusiones que se obtuvieron.\n",
    "En el informe se deberá brindar una descripción del dataset suministrado (columnas, tipo de variables, valores extremos, etc.), las visualizaciones realizadas que sean pertinentes para la resolución del práctico, un análisis de los gráficos y estadísticos calculados, el análisis y las respuestas a las preguntas indicadas anteriormente, y las conclusiones.\n",
    "\n",
    "<h4>Entrega</h4>\n",
    "\n",
    "La entrega del informe final será antes del día 17 de Mayo, con una muestra previa de avance el día 10 de Mayo. El notebook donde se realicen los cálculos y gráficos debe encontrarse en un repositorio al cual se pueda acceder. "
   ]
  },
  {
   "cell_type": "code",
   "execution_count": 2,
   "metadata": {
    "colab": {},
    "colab_type": "code",
    "id": "4-8V0BiXqTjR"
   },
   "outputs": [],
   "source": [
    "import matplotlib.pyplot as plt\n",
    "import numpy\n",
    "import pandas\n",
    "import seaborn\n",
    "from scipy import stats\n",
    "\n",
    "from IPython.display import HTML\n",
    "\n",
    "BLUE = '#35A7FF'\n",
    "RED = '#FF5964'\n",
    "GREEN = '#6BF178'\n",
    "YELLOW = '#FFE74C'"
   ]
  },
  {
   "cell_type": "code",
   "execution_count": 3,
   "metadata": {},
   "outputs": [
    {
     "data": {
      "text/html": [
       "<script>\n",
       "code_show=true; \n",
       "function code_toggle() {\n",
       " if (code_show){\n",
       " $('div.input').hide();\n",
       " } else {\n",
       " $('div.input').show();\n",
       " }\n",
       " code_show = !code_show\n",
       "} \n",
       "$( document ).ready(code_toggle);\n",
       "</script>\n",
       "The raw code for this IPython notebook is by default hidden for easier reading.\n",
       "To toggle on/off the raw code, click <a href=\"javascript:code_toggle()\">here</a>."
      ],
      "text/plain": [
       "<IPython.core.display.HTML object>"
      ]
     },
     "execution_count": 3,
     "metadata": {},
     "output_type": "execute_result"
    }
   ],
   "source": [
    "# Ocultar código\n",
    "\n",
    "HTML('''<script>\n",
    "code_show=true; \n",
    "function code_toggle() {\n",
    " if (code_show){\n",
    " $('div.input').hide();\n",
    " } else {\n",
    " $('div.input').show();\n",
    " }\n",
    " code_show = !code_show\n",
    "} \n",
    "$( document ).ready(code_toggle);\n",
    "</script>\n",
    "The raw code for this IPython notebook is by default hidden for easier reading.\n",
    "To toggle on/off the raw code, click <a href=\"javascript:code_toggle()\">here</a>.''')"
   ]
  },
  {
   "cell_type": "code",
   "execution_count": 2,
   "metadata": {
    "colab": {},
    "colab_type": "code",
    "id": "TX3hXdB3qTjV",
    "outputId": "27f53c42-0492-4095-e821-fb7ff344d6c8"
   },
   "outputs": [
    {
     "data": {
      "text/plain": [
       "'0.9.0'"
      ]
     },
     "execution_count": 2,
     "metadata": {},
     "output_type": "execute_result"
    }
   ],
   "source": [
    "seaborn.__version__"
   ]
  },
  {
   "cell_type": "code",
   "execution_count": 3,
   "metadata": {
    "colab": {},
    "colab_type": "code",
    "id": "nO4EvALgqTjd",
    "outputId": "08df101e-0ffe-4029-e08b-ab558c9ef868"
   },
   "outputs": [
    {
     "data": {
      "text/plain": [
       "(500000, 12)"
      ]
     },
     "execution_count": 3,
     "metadata": {},
     "output_type": "execute_result"
    }
   ],
   "source": [
    "dataset = pandas.read_csv('dataset_sample_corrected.csv')\n",
    "dataset.shape"
   ]
  },
  {
   "cell_type": "code",
   "execution_count": 8,
   "metadata": {
    "colab": {},
    "colab_type": "code",
    "id": "aDy9oVycqTji",
    "outputId": "0535accb-e85e-4c1b-fab1-0783dfbbef39"
   },
   "outputs": [
    {
     "data": {
      "text/plain": [
       "Index(['sender_state', 'sender_zipcode', 'receiver_state', 'receiver_zipcode',\n",
       "       'shipment_type', 'quantity', 'service', 'status', 'date_created',\n",
       "       'date_sent', 'date_visit', 'shipment_days'],\n",
       "      dtype='object')"
      ]
     },
     "execution_count": 8,
     "metadata": {},
     "output_type": "execute_result"
    }
   ],
   "source": [
    "dataset.columns\n"
   ]
  },
  {
   "cell_type": "markdown",
   "metadata": {
    "colab_type": "text",
    "id": "ZNHeGGkXqTjn"
   },
   "source": [
    "1. ¿Qué tipo de variables se encuentran presentes en el dataset? Realizar una breve descripción estadística de las mismas, determinar si existen outliers y valores incorrectos o no esperados.\n"
   ]
  },
  {
   "cell_type": "code",
   "execution_count": 4,
   "metadata": {
    "colab": {},
    "colab_type": "code",
    "id": "XQdJs57IqTjo"
   },
   "outputs": [
    {
     "data": {
      "text/html": [
       "<div>\n",
       "<style scoped>\n",
       "    .dataframe tbody tr th:only-of-type {\n",
       "        vertical-align: middle;\n",
       "    }\n",
       "\n",
       "    .dataframe tbody tr th {\n",
       "        vertical-align: top;\n",
       "    }\n",
       "\n",
       "    .dataframe thead th {\n",
       "        text-align: right;\n",
       "    }\n",
       "</style>\n",
       "<table border=\"1\" class=\"dataframe\">\n",
       "  <thead>\n",
       "    <tr style=\"text-align: right;\">\n",
       "      <th></th>\n",
       "      <th>sender_state</th>\n",
       "      <th>sender_zipcode</th>\n",
       "      <th>receiver_state</th>\n",
       "      <th>receiver_zipcode</th>\n",
       "      <th>shipment_type</th>\n",
       "      <th>quantity</th>\n",
       "      <th>service</th>\n",
       "      <th>status</th>\n",
       "      <th>date_created</th>\n",
       "      <th>date_sent</th>\n",
       "      <th>date_visit</th>\n",
       "      <th>shipment_days</th>\n",
       "    </tr>\n",
       "  </thead>\n",
       "  <tbody>\n",
       "    <tr>\n",
       "      <th>0</th>\n",
       "      <td>SP</td>\n",
       "      <td>1039</td>\n",
       "      <td>SP</td>\n",
       "      <td>14500</td>\n",
       "      <td>standard</td>\n",
       "      <td>1</td>\n",
       "      <td>1</td>\n",
       "      <td>done</td>\n",
       "      <td>2019-03-10 00:00:00</td>\n",
       "      <td>2019-03-11 14:34:00</td>\n",
       "      <td>2019-03-18 09:52:00</td>\n",
       "      <td>5.0</td>\n",
       "    </tr>\n",
       "    <tr>\n",
       "      <th>1</th>\n",
       "      <td>SP</td>\n",
       "      <td>3004</td>\n",
       "      <td>PB</td>\n",
       "      <td>58670</td>\n",
       "      <td>standard</td>\n",
       "      <td>1</td>\n",
       "      <td>1</td>\n",
       "      <td>done</td>\n",
       "      <td>2019-03-08 00:00:00</td>\n",
       "      <td>2019-03-09 10:48:00</td>\n",
       "      <td>2019-03-18 15:16:00</td>\n",
       "      <td>5.0</td>\n",
       "    </tr>\n",
       "    <tr>\n",
       "      <th>2</th>\n",
       "      <td>SP</td>\n",
       "      <td>3262</td>\n",
       "      <td>RJ</td>\n",
       "      <td>22723</td>\n",
       "      <td>standard</td>\n",
       "      <td>1</td>\n",
       "      <td>2</td>\n",
       "      <td>done</td>\n",
       "      <td>2019-02-21 00:00:00</td>\n",
       "      <td>2019-02-23 02:02:16</td>\n",
       "      <td>2019-03-01 21:27:00</td>\n",
       "      <td>4.0</td>\n",
       "    </tr>\n",
       "    <tr>\n",
       "      <th>3</th>\n",
       "      <td>SP</td>\n",
       "      <td>12237</td>\n",
       "      <td>SP</td>\n",
       "      <td>18682</td>\n",
       "      <td>standard</td>\n",
       "      <td>1</td>\n",
       "      <td>2</td>\n",
       "      <td>done</td>\n",
       "      <td>2019-02-25 00:00:00</td>\n",
       "      <td>2019-02-28 03:05:36</td>\n",
       "      <td>2019-03-07 15:01:00</td>\n",
       "      <td>2.0</td>\n",
       "    </tr>\n",
       "    <tr>\n",
       "      <th>4</th>\n",
       "      <td>SP</td>\n",
       "      <td>9350</td>\n",
       "      <td>AP</td>\n",
       "      <td>68908</td>\n",
       "      <td>standard</td>\n",
       "      <td>1</td>\n",
       "      <td>1</td>\n",
       "      <td>done</td>\n",
       "      <td>2019-02-15 00:00:00</td>\n",
       "      <td>2019-02-15 11:28:00</td>\n",
       "      <td>2019-03-11 13:18:00</td>\n",
       "      <td>13.0</td>\n",
       "    </tr>\n",
       "    <tr>\n",
       "      <th>5</th>\n",
       "      <td>SP</td>\n",
       "      <td>3806</td>\n",
       "      <td>RS</td>\n",
       "      <td>91060</td>\n",
       "      <td>express</td>\n",
       "      <td>1</td>\n",
       "      <td>9</td>\n",
       "      <td>done</td>\n",
       "      <td>2019-03-19 00:00:00</td>\n",
       "      <td>2019-03-21 01:33:32</td>\n",
       "      <td>2019-03-25 08:29:00</td>\n",
       "      <td>2.0</td>\n",
       "    </tr>\n",
       "    <tr>\n",
       "      <th>6</th>\n",
       "      <td>SP</td>\n",
       "      <td>17280</td>\n",
       "      <td>SP</td>\n",
       "      <td>7776</td>\n",
       "      <td>express</td>\n",
       "      <td>1</td>\n",
       "      <td>0</td>\n",
       "      <td>done</td>\n",
       "      <td>2019-02-26 00:00:00</td>\n",
       "      <td>2019-02-27 11:44:00</td>\n",
       "      <td>2019-03-01 14:27:00</td>\n",
       "      <td>2.0</td>\n",
       "    </tr>\n",
       "    <tr>\n",
       "      <th>7</th>\n",
       "      <td>SP</td>\n",
       "      <td>4132</td>\n",
       "      <td>MG</td>\n",
       "      <td>35910</td>\n",
       "      <td>standard</td>\n",
       "      <td>2</td>\n",
       "      <td>1</td>\n",
       "      <td>done</td>\n",
       "      <td>2019-02-20 00:00:00</td>\n",
       "      <td>2019-02-22 16:34:00</td>\n",
       "      <td>2019-03-01 09:22:00</td>\n",
       "      <td>5.0</td>\n",
       "    </tr>\n",
       "    <tr>\n",
       "      <th>8</th>\n",
       "      <td>SP</td>\n",
       "      <td>9112</td>\n",
       "      <td>RJ</td>\n",
       "      <td>21755</td>\n",
       "      <td>standard</td>\n",
       "      <td>4</td>\n",
       "      <td>2</td>\n",
       "      <td>done</td>\n",
       "      <td>2019-02-10 00:00:00</td>\n",
       "      <td>2019-02-27 01:26:44</td>\n",
       "      <td>2019-03-11 16:05:00</td>\n",
       "      <td>5.0</td>\n",
       "    </tr>\n",
       "    <tr>\n",
       "      <th>9</th>\n",
       "      <td>SP</td>\n",
       "      <td>14401</td>\n",
       "      <td>MG</td>\n",
       "      <td>38703</td>\n",
       "      <td>express</td>\n",
       "      <td>1</td>\n",
       "      <td>0</td>\n",
       "      <td>done</td>\n",
       "      <td>2019-03-19 00:00:00</td>\n",
       "      <td>2019-03-19 17:31:00</td>\n",
       "      <td>2019-03-21 13:17:00</td>\n",
       "      <td>2.0</td>\n",
       "    </tr>\n",
       "  </tbody>\n",
       "</table>\n",
       "</div>"
      ],
      "text/plain": [
       "  sender_state  sender_zipcode receiver_state  receiver_zipcode shipment_type  \\\n",
       "0           SP            1039             SP             14500      standard   \n",
       "1           SP            3004             PB             58670      standard   \n",
       "2           SP            3262             RJ             22723      standard   \n",
       "3           SP           12237             SP             18682      standard   \n",
       "4           SP            9350             AP             68908      standard   \n",
       "5           SP            3806             RS             91060       express   \n",
       "6           SP           17280             SP              7776       express   \n",
       "7           SP            4132             MG             35910      standard   \n",
       "8           SP            9112             RJ             21755      standard   \n",
       "9           SP           14401             MG             38703       express   \n",
       "\n",
       "   quantity  service status         date_created            date_sent  \\\n",
       "0         1        1   done  2019-03-10 00:00:00  2019-03-11 14:34:00   \n",
       "1         1        1   done  2019-03-08 00:00:00  2019-03-09 10:48:00   \n",
       "2         1        2   done  2019-02-21 00:00:00  2019-02-23 02:02:16   \n",
       "3         1        2   done  2019-02-25 00:00:00  2019-02-28 03:05:36   \n",
       "4         1        1   done  2019-02-15 00:00:00  2019-02-15 11:28:00   \n",
       "5         1        9   done  2019-03-19 00:00:00  2019-03-21 01:33:32   \n",
       "6         1        0   done  2019-02-26 00:00:00  2019-02-27 11:44:00   \n",
       "7         2        1   done  2019-02-20 00:00:00  2019-02-22 16:34:00   \n",
       "8         4        2   done  2019-02-10 00:00:00  2019-02-27 01:26:44   \n",
       "9         1        0   done  2019-03-19 00:00:00  2019-03-19 17:31:00   \n",
       "\n",
       "            date_visit  shipment_days  \n",
       "0  2019-03-18 09:52:00            5.0  \n",
       "1  2019-03-18 15:16:00            5.0  \n",
       "2  2019-03-01 21:27:00            4.0  \n",
       "3  2019-03-07 15:01:00            2.0  \n",
       "4  2019-03-11 13:18:00           13.0  \n",
       "5  2019-03-25 08:29:00            2.0  \n",
       "6  2019-03-01 14:27:00            2.0  \n",
       "7  2019-03-01 09:22:00            5.0  \n",
       "8  2019-03-11 16:05:00            5.0  \n",
       "9  2019-03-21 13:17:00            2.0  "
      ]
     },
     "execution_count": 4,
     "metadata": {},
     "output_type": "execute_result"
    }
   ],
   "source": [
    "dataset[dataset.columns][:10]"
   ]
  },
  {
   "cell_type": "code",
   "execution_count": 27,
   "metadata": {
    "colab": {},
    "colab_type": "code",
    "id": "-rJI-aMCqTjs",
    "outputId": "7886404a-9da0-4a08-8cfd-86e1d7f7351e"
   },
   "outputs": [
    {
     "data": {
      "text/html": [
       "<div>\n",
       "<style scoped>\n",
       "    .dataframe tbody tr th:only-of-type {\n",
       "        vertical-align: middle;\n",
       "    }\n",
       "\n",
       "    .dataframe tbody tr th {\n",
       "        vertical-align: top;\n",
       "    }\n",
       "\n",
       "    .dataframe thead th {\n",
       "        text-align: right;\n",
       "    }\n",
       "</style>\n",
       "<table border=\"1\" class=\"dataframe\">\n",
       "  <thead>\n",
       "    <tr style=\"text-align: right;\">\n",
       "      <th></th>\n",
       "      <th>sender_zipcode</th>\n",
       "      <th>receiver_zipcode</th>\n",
       "      <th>quantity</th>\n",
       "      <th>service</th>\n",
       "      <th>shipment_days</th>\n",
       "    </tr>\n",
       "  </thead>\n",
       "  <tbody>\n",
       "    <tr>\n",
       "      <th>count</th>\n",
       "      <td>500000.000000</td>\n",
       "      <td>500000.000000</td>\n",
       "      <td>500000.000000</td>\n",
       "      <td>500000.000000</td>\n",
       "      <td>499398.000000</td>\n",
       "    </tr>\n",
       "    <tr>\n",
       "      <th>mean</th>\n",
       "      <td>8305.328412</td>\n",
       "      <td>39982.634918</td>\n",
       "      <td>1.278192</td>\n",
       "      <td>1.515708</td>\n",
       "      <td>5.367969</td>\n",
       "    </tr>\n",
       "    <tr>\n",
       "      <th>std</th>\n",
       "      <td>5088.259017</td>\n",
       "      <td>30975.031692</td>\n",
       "      <td>0.661639</td>\n",
       "      <td>1.826306</td>\n",
       "      <td>5.024451</td>\n",
       "    </tr>\n",
       "    <tr>\n",
       "      <th>min</th>\n",
       "      <td>1001.000000</td>\n",
       "      <td>1001.000000</td>\n",
       "      <td>1.000000</td>\n",
       "      <td>0.000000</td>\n",
       "      <td>-77.000000</td>\n",
       "    </tr>\n",
       "    <tr>\n",
       "      <th>25%</th>\n",
       "      <td>3673.000000</td>\n",
       "      <td>13140.000000</td>\n",
       "      <td>1.000000</td>\n",
       "      <td>0.000000</td>\n",
       "      <td>2.000000</td>\n",
       "    </tr>\n",
       "    <tr>\n",
       "      <th>50%</th>\n",
       "      <td>7274.000000</td>\n",
       "      <td>31150.000000</td>\n",
       "      <td>1.000000</td>\n",
       "      <td>1.000000</td>\n",
       "      <td>4.000000</td>\n",
       "    </tr>\n",
       "    <tr>\n",
       "      <th>75%</th>\n",
       "      <td>13277.000000</td>\n",
       "      <td>70670.000000</td>\n",
       "      <td>1.000000</td>\n",
       "      <td>2.000000</td>\n",
       "      <td>8.000000</td>\n",
       "    </tr>\n",
       "    <tr>\n",
       "      <th>max</th>\n",
       "      <td>19970.000000</td>\n",
       "      <td>99990.000000</td>\n",
       "      <td>5.000000</td>\n",
       "      <td>12.000000</td>\n",
       "      <td>90.000000</td>\n",
       "    </tr>\n",
       "  </tbody>\n",
       "</table>\n",
       "</div>"
      ],
      "text/plain": [
       "       sender_zipcode  receiver_zipcode       quantity        service  \\\n",
       "count   500000.000000     500000.000000  500000.000000  500000.000000   \n",
       "mean      8305.328412      39982.634918       1.278192       1.515708   \n",
       "std       5088.259017      30975.031692       0.661639       1.826306   \n",
       "min       1001.000000       1001.000000       1.000000       0.000000   \n",
       "25%       3673.000000      13140.000000       1.000000       0.000000   \n",
       "50%       7274.000000      31150.000000       1.000000       1.000000   \n",
       "75%      13277.000000      70670.000000       1.000000       2.000000   \n",
       "max      19970.000000      99990.000000       5.000000      12.000000   \n",
       "\n",
       "       shipment_days  \n",
       "count  499398.000000  \n",
       "mean        5.367969  \n",
       "std         5.024451  \n",
       "min       -77.000000  \n",
       "25%         2.000000  \n",
       "50%         4.000000  \n",
       "75%         8.000000  \n",
       "max        90.000000  "
      ]
     },
     "execution_count": 27,
     "metadata": {},
     "output_type": "execute_result"
    }
   ],
   "source": [
    "dataset[dataset.columns].describe()"
   ]
  },
  {
   "cell_type": "markdown",
   "metadata": {
    "colab_type": "text",
    "id": "SiT3ca1EqTjz"
   },
   "source": [
    "## 1. Estadísticos descriptivos\n",
    "\n",
    "1. Sender_zipcode su rango esta dentro de 1000 y 20000.\n",
    "2. receiver_zipcode su rango esta dentro de 1000 y 100000.\n",
    "3. Quantity va desde 1 hasta 5\n",
    "4. Service va desde 0  hasta 12\n",
    "5. shipment_days va desde -77 hasta 90\n",
    "\n",
    "En un principio podemos observar que faltan valores para shipment_days.\n"
   ]
  },
  {
   "cell_type": "code",
   "execution_count": null,
   "metadata": {
    "colab": {},
    "colab_type": "code",
    "id": "oOXbAO6wqTjw"
   },
   "outputs": [],
   "source": [
    "# Veamos las columnas que tiene -77 en shipment_days\n",
    "dataset[dataset['shipment_days'] == -77]"
   ]
  },
  {
   "cell_type": "code",
   "execution_count": null,
   "metadata": {},
   "outputs": [],
   "source": [
    "# Contamos cuantas columnas tienen valores negativos\n",
    "dataset[dataset['shipment_days'] == -77]['shipment_days'].count()"
   ]
  },
  {
   "cell_type": "markdown",
   "metadata": {
    "colab_type": "text",
    "id": "SiT3ca1EqTjz"
   },
   "source": [
    "Se encuentra outliers en la variable shipment_days, al ver que son tan pocos valores negativos, podemos descartarlos como se muestra a continuación. "
   ]
  },
  {
   "cell_type": "code",
   "execution_count": null,
   "metadata": {
    "colab": {},
    "colab_type": "code",
    "id": "HyT_LT7kqTkC",
    "outputId": "06bc1eb1-7d96-4620-9399-e6907bace51c",
    "scrolled": true
   },
   "outputs": [],
   "source": [
    "# Outliers\n",
    "#hf_score = dataset[['hf_score', 'countries', 'year']]\n",
    "mask_shipment_days = numpy.abs(dataset.shipment_days - dataset.shipment_days.mean()) > (2.5 * dataset.shipment_days.std())\n",
    "data = dataset[mask_shipment_days]\n",
    "data.reset_index(drop=True)"
   ]
  },
  {
   "cell_type": "code",
   "execution_count": null,
   "metadata": {
    "colab": {},
    "colab_type": "code",
    "id": "dFSEn-DqqTkI",
    "outputId": "afb4f4e4-50ed-4710-da8f-605e7e964c6d"
   },
   "outputs": [],
   "source": [
    "data.count()"
   ]
  },
  {
   "cell_type": "code",
   "execution_count": null,
   "metadata": {
    "colab": {},
    "colab_type": "code",
    "id": "TyZLZ7JuqTkN",
    "outputId": "60600b0f-f29a-493c-b4b7-b3aad63cbcee",
    "scrolled": false
   },
   "outputs": [],
   "source": [
    "plt.figure(figsize=(14,7))\n",
    "seaborn.boxplot(data=dataset,\n",
    "                y='shipment_days', x='receiver_state',\n",
    "                fliersize=8)\n",
    "plt.xlabel('Shipment days')\n",
    "plt.ylabel('Receiver state')\n",
    "seaborn.despine()"
   ]
  },
  {
   "cell_type": "code",
   "execution_count": null,
   "metadata": {
    "colab": {},
    "colab_type": "code",
    "id": "ihKb7QRQqTkT",
    "outputId": "7e1d77b0-3e08-4a3f-fcb2-b614e54209a2",
    "scrolled": false
   },
   "outputs": [],
   "source": [
    "plt.figure(figsize=(14,7))\n",
    "seaborn.boxplot(data=dataset,\n",
    "                y='shipment_days', x='quantity',\n",
    "                fliersize=8)\n",
    "plt.xlabel('Shipment days')\n",
    "plt.ylabel('Quantity')\n",
    "seaborn.despine()"
   ]
  },
  {
   "cell_type": "code",
   "execution_count": 24,
   "metadata": {},
   "outputs": [
    {
     "data": {
      "text/plain": [
       "array(['2019-03-18 09:52:00', '2019-03-18 15:16:00',\n",
       "       '2019-03-01 21:27:00', ..., '2019-03-27 17:05:36',\n",
       "       '2019-03-07 16:34:06', '2019-03-13 13:28:17'], dtype=object)"
      ]
     },
     "execution_count": 24,
     "metadata": {},
     "output_type": "execute_result"
    }
   ],
   "source": [
    "dataset['date_visit'].unique()"
   ]
  },
  {
   "cell_type": "code",
   "execution_count": null,
   "metadata": {},
   "outputs": [],
   "source": [
    "dataset['status'].unique()"
   ]
  },
  {
   "cell_type": "code",
   "execution_count": null,
   "metadata": {},
   "outputs": [],
   "source": [
    "dataset['shipment_type'].unique()"
   ]
  },
  {
   "cell_type": "code",
   "execution_count": null,
   "metadata": {},
   "outputs": [],
   "source": [
    "dataset['service'].unique()"
   ]
  },
  {
   "cell_type": "code",
   "execution_count": null,
   "metadata": {},
   "outputs": [],
   "source": [
    "dataset['sender_state'].unique()"
   ]
  },
  {
   "cell_type": "code",
   "execution_count": 6,
   "metadata": {},
   "outputs": [
    {
     "data": {
      "text/plain": [
       "array([ 1039,  3004,  3262, ..., 15195,  5444, 18304], dtype=int64)"
      ]
     },
     "execution_count": 6,
     "metadata": {},
     "output_type": "execute_result"
    }
   ],
   "source": [
    "dataset['sender_zipcode'].unique()"
   ]
  },
  {
   "cell_type": "markdown",
   "metadata": {
    "colab_type": "text",
    "id": "SiT3ca1EqTjz"
   },
   "source": [
    "2. ¿Cómo es la distribución de zipcodes de origen y destino de un envío? ¿Está concentrada en algún valor? ¿Y para el resto de las variables?\n"
   ]
  },
  {
   "cell_type": "code",
   "execution_count": 18,
   "metadata": {},
   "outputs": [],
   "source": [
    "data_convert = pandas.to_datetime(dataset['date_visit'])"
   ]
  },
  {
   "cell_type": "code",
   "execution_count": 19,
   "metadata": {},
   "outputs": [
    {
     "data": {
      "text/plain": [
       "0         2019-03-18\n",
       "1         2019-03-18\n",
       "2         2019-03-01\n",
       "3         2019-03-07\n",
       "4         2019-03-11\n",
       "5         2019-03-25\n",
       "6         2019-03-01\n",
       "7         2019-03-01\n",
       "8         2019-03-11\n",
       "9         2019-03-21\n",
       "10        2019-03-12\n",
       "11        2019-03-11\n",
       "12        2019-03-28\n",
       "13        2019-03-25\n",
       "14        2019-03-25\n",
       "15        2019-02-26\n",
       "16        2019-03-25\n",
       "17        2019-03-08\n",
       "18        2019-03-18\n",
       "19        2019-03-07\n",
       "20        2019-03-12\n",
       "21        2019-03-08\n",
       "22        2019-03-01\n",
       "23        2019-03-11\n",
       "24        2019-03-13\n",
       "25        2019-03-22\n",
       "26        2019-03-13\n",
       "27        2019-03-19\n",
       "28        2019-03-08\n",
       "29        2019-03-28\n",
       "             ...    \n",
       "499970    2019-02-28\n",
       "499971    2019-03-13\n",
       "499972    2019-03-21\n",
       "499973    2019-03-20\n",
       "499974    2019-03-14\n",
       "499975    2019-03-07\n",
       "499976    2019-03-26\n",
       "499977    2019-03-20\n",
       "499978    2019-03-26\n",
       "499979    2019-03-20\n",
       "499980    2019-03-12\n",
       "499981    2019-03-13\n",
       "499982    2019-03-14\n",
       "499983    2019-03-08\n",
       "499984    2019-03-07\n",
       "499985    2019-03-18\n",
       "499986    2019-03-18\n",
       "499987    2019-03-18\n",
       "499988    2019-03-08\n",
       "499989    2019-03-12\n",
       "499990    2019-03-13\n",
       "499991    2019-03-08\n",
       "499992    2019-03-13\n",
       "499993    2019-03-27\n",
       "499994    2019-03-11\n",
       "499995    2019-03-28\n",
       "499996    2019-03-22\n",
       "499997    2019-03-07\n",
       "499998    2019-03-21\n",
       "499999    2019-03-08\n",
       "Name: date_visit, Length: 500000, dtype: object"
      ]
     },
     "execution_count": 19,
     "metadata": {},
     "output_type": "execute_result"
    }
   ],
   "source": [
    "data_convert.dt.date"
   ]
  },
  {
   "cell_type": "code",
   "execution_count": 25,
   "metadata": {},
   "outputs": [
    {
     "data": {
      "image/png": "[encoded data removed]",
      "text/plain": [
       "<Figure size 720x432 with 1 Axes>"
      ]
     },
     "metadata": {
      "needs_background": "light"
     },
     "output_type": "display_data"
    }
   ],
   "source": [
    "plt.figure(figsize=(10,6))\n",
    "seaborn.distplot(dataset['sender_zipcode'], color=BLUE, label='Sender_zipcode')\n",
    "plt.title('Distribuciones de sender_zipcode')\n",
    "plt.legend(bbox_to_anchor=(1, 1), loc=2)\n",
    "seaborn.despine()"
   ]
  },
  {
   "cell_type": "markdown",
   "metadata": {},
   "source": [
    "Los datos se centran en 1300 aproximadamente, como dice el 75% del percentil."
   ]
  },
  {
   "cell_type": "code",
   "execution_count": 26,
   "metadata": {
    "scrolled": true
   },
   "outputs": [
    {
     "data": {
      "image/png": "[encoded data removed]",
      "text/plain": [
       "<Figure size 720x432 with 1 Axes>"
      ]
     },
     "metadata": {
      "needs_background": "light"
     },
     "output_type": "display_data"
    }
   ],
   "source": [
    "plt.figure(figsize=(10,6))\n",
    "seaborn.distplot(dataset['receiver_zipcode'], color=BLUE, label='receiver_zipcode')\n",
    "plt.title('Distribuciones de receiver_zipcode')\n",
    "plt.legend(bbox_to_anchor=(1, 1), loc=2)\n",
    "seaborn.despine()"
   ]
  },
  {
   "cell_type": "markdown",
   "metadata": {},
   "source": [
    "Los datos se centran en 1800 aproximadamente, como dice el percentil 25% en el describe."
   ]
  },
  {
   "cell_type": "code",
   "execution_count": 5,
   "metadata": {},
   "outputs": [
    {
     "data": {
      "text/plain": [
       "<matplotlib.axes._subplots.AxesSubplot at 0x216df2d1a20>"
      ]
     },
     "execution_count": 5,
     "metadata": {},
     "output_type": "execute_result"
    },
    {
     "data": {
      "image/png": "[encoded data removed]",
      "text/plain": [
       "<Figure size 720x432 with 1 Axes>"
      ]
     },
     "metadata": {
      "needs_background": "light"
     },
     "output_type": "display_data"
    }
   ],
   "source": [
    "plt.figure(figsize=(10,6))\n",
    "seaborn.countplot(data=dataset, x='receiver_zipcode')"
   ]
  },
  {
   "cell_type": "code",
   "execution_count": null,
   "metadata": {},
   "outputs": [],
   "source": []
  }
 ],
 "metadata": {
  "colab": {
   "name": "02_practico_I.ipynb",
   "provenance": [],
   "version": "0.3.2"
  },
  "kernelspec": {
   "display_name": "Python 3",
   "language": "python",
   "name": "python3"
  },
  "language_info": {
   "codemirror_mode": {
    "name": "ipython",
    "version": 3
   },
   "file_extension": ".py",
   "mimetype": "text/x-python",
   "name": "python",
   "nbconvert_exporter": "python",
   "pygments_lexer": "ipython3",
   "version": "3.6.8"
  }
 },
 "nbformat": 4,
 "nbformat_minor": 1
}
