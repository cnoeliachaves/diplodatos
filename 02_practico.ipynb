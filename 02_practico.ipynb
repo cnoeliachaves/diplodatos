{
 "cells": [
  {
   "cell_type": "markdown",
   "metadata": {
    "colab_type": "text",
    "id": "U3u5pKlRqTjO"
   },
   "source": [
    "<center>\n",
    "<h4>Universidad Nacional de Córdoba - Facultad de Matemática, Astronomía, Física y Computación</h4>\n",
    "<h3>Diplomatura en Ciencia de Datos, Aprendizaje Automático y sus Aplicaciones</h3>\n",
    "</center>"
   ]
  },
  {
   "cell_type": "markdown",
   "metadata": {
    "colab_type": "text",
    "id": "0vwpBmo4qTjQ"
   },
   "source": [
    "<h1> Práctico 2 - Estadística </h1>\n",
    "<h3> Análisis y Visualización de Datos - 2019 </h3>\n",
    "\n",
    "<h4>Motivación</h4>\n",
    "\n",
    "En la actualidad, cada vez más productos se comercializan a través de una plataforma online. Una de las principales ventajas de este sistema es que el usuario puede recibir el producto en su domicilio en una fecha determinada. Pero, ¿cómo sabemos qué día va a llegar? ¿A partir de qué datos podemos predecir la demora del envío? En este práctico se trabajará con datos de envíos de MercadoLibre, el e-commerce más grande de Latinoamérica, analizando y modelando el problema de logística de envíos para poder responder ¿cuándo llega?.\n",
    "\n",
    "<h4>Descripción del dataset</h4>\n",
    "\n",
    "Datos: El conjunto de datos seleccionado para realizar el práctico corresponde a un muestreo aleatorio no uniforme de 500.000 envíos de MercadoLibre. Estos envíos fueron realizados en Brasil en el período comprendido entre Octubre de 2018 y Abril de 2019 (las fechas han sido modificadas y adaptada a un período de tiempo diferente, conservando el día de la semana y considerando los feriados correspondientes). Los datos comprenden variables tanto categóricas como numéricas. \n",
    "\n",
    "Las variables más importantes sobre las que trabaja el dataset son:\n",
    "\n",
    "    • Sender_state: Estado de Brasil de donde sale el envío.\n",
    "    • Sender_zipcode: Código postal (de 5 dígitos) de donde sale el envío.\n",
    "    • Receiver_state: Estado de Brasil a donde llega el envío.\n",
    "    • Receiver_zipcode: Código postal (de 5 dígitos) a donde llega el envío.\n",
    "    • Shipment_type: Método de envío (normal, express, super).\n",
    "    • Quantity: Cantidad de productos en un envío.\n",
    "    • Service: Servicio del correo con el cual se realizó un envío.\n",
    "    • Status: Estado del envío (set: listo para ser enviado, sent: enviado, done: entregado, failed: no entregado, cancelled: cancelado).\n",
    "    • Date_created: Fecha de creación del envío.\n",
    "    • Date_sent: Fecha y hora en que se realizó el envío (salió del correo).\n",
    "    • Date_visit: Fecha y hora en que se entregó el envío al destinatario.\n",
    "    • Shipment_days: Días hábiles entre que el envío fue enviado (salió del correo) y que fue entregado.\n",
    "\n",
    "<h4> Objetivo:</h4>\n",
    "\n",
    "El objetivo de este práctico es aprender a leer y analizar el dataset para extraer información útil sobre el problema a resolver. Se espera que se gane conocimiento en el manejo de librerías y metodologías de visualización para generar gráficas de los datos. Otro objetivo es calcular estadísticos que faciliten, junto a los gráficos, dar respuestas a preguntas propias de la problemática. Por último, se busca  desarrollar habilidades de comunicación de la información obtenida a partir de los datos de manera clara y sencilla.\n",
    "\n",
    "<h4>Método</h4>\n",
    "\n",
    "A partir de lo estudiado en las clases teóricas y prácticas de la materia “Análisis y visualización de datos”, realizar un informe en formato de notebook o interactivo, en el cual se describen los aspectos de mayor relevancia del dataset. En la misma se deben incluir las gráficas y los estadísticos que sean pertinentes para responder a las preguntas indicadas a continuación junto con el análisis y las respuestas propiamente dichas (además de cualquiera otra información extra que se considere de relevancia sobre la problemática):\n",
    "\n",
    "1. ¿Qué tipo de variables se encuentran presentes en el dataset? Realizar una breve descripción estadística de las mismas, determinar si existen outliers y valores incorrectos o no esperados.\n",
    "2. ¿Cómo es la distribución de zipcodes de origen y destino de un envío? ¿Está concentrada en algún valor? ¿Y para el resto de las variables?\n",
    "3. ¿Es la distribución del número de días que demora un envío normal? ¿Adquiere significado la media y desviación estándar? ¿Qué tipo de estadísticos podrían ser relevantes en este caso? ¿Hay alguna otra distribución a la cual se asemeje más?\n",
    "4. ¿Cuál es la probabilidad de que el destinatario de un envío sea del estado de Minas Gerais (MG)? ¿Cuál es la probabilidad de que dicho envío (que llega a Minas Gerais) sea realizado mediante el servicio 1?\n",
    "5. ¿Cuál es la probabilidad de que un envío sea realizado con el método super express? ¿Y la de que un envío realizado con dicho método llegue al estado de Minas Gerais?\n",
    "6. ¿Existe correlación entre el número de días que tarda un envío y el destinatario del mismo? ¿Y entre el número de días y la cantidad de productos en un paquete? ¿Con qué otra variable está correlacionado el número de días que tarda un envío? Analizar la independencia de las variables.\n",
    "7. Además del cálculo de los estadísticos correspondientes, sería interesante observar un gráfico que muestre la información estadística (por ejemplo, la media) y la presencia de outliers del número de días que tardan los envíos que se realizan a los diferentes estados de Brasil. ¿Cuál es el estado que, en promedio, tiene una mayor demora? ¿Cuál es la distancia geográfica de San Pablo a dicho estado? ¿Y al de menor?\n",
    "8. ¿Cuál es la distribución de la entrega de envíos por hora del día para cada uno de los estados de Brasil? Realizar un único gráfico donde se muestre esta información.\n",
    "9. Bonus (no obligatorio): Proponer y discutir la aplicación de al menos uno de los contenidos desarrollados en la clase de “Inferencia Bayesiana” al conjunto de datos y problemática aquí presentada.\n",
    "\n",
    "\n",
    "Esta comunicación debe estar dirigida para un público técnico pero que desconoce los aspectos propios del problema a resolver (por ejemplo, sus compañeros de clase). Se evaluará, principalmente, la claridad del mensaje presentado, el uso de las herramientas y los conceptos de visualización desarrollados en las clases, y el cálculo de los estadísticos apropiados para el problema.\n",
    "\n",
    "<h4>Estructura del informe</h4>\n",
    "\n",
    "El informe debe contar con la estructura propia de un reporte de un experimento científico. Esto implica que debe tener un objetivo claro, una introducción a la problemática a resolver en dicho informe (no únicamente al problema general), una descripción de los datos a emplear, el desarrollo propiamente dicho del experimento y las conclusiones que se obtuvieron.\n",
    "En el informe se deberá brindar una descripción del dataset suministrado (columnas, tipo de variables, valores extremos, etc.), las visualizaciones realizadas que sean pertinentes para la resolución del práctico, un análisis de los gráficos y estadísticos calculados, el análisis y las respuestas a las preguntas indicadas anteriormente, y las conclusiones.\n",
    "\n",
    "<h4>Entrega</h4>\n",
    "\n",
    "La entrega del informe final será antes del día 17 de Mayo, con una muestra previa de avance el día 10 de Mayo. El notebook donde se realicen los cálculos y gráficos debe encontrarse en un repositorio al cual se pueda acceder. "
   ]
  },
  {
   "cell_type": "code",
   "execution_count": 5,
   "metadata": {
    "colab": {},
    "colab_type": "code",
    "id": "4-8V0BiXqTjR"
   },
   "outputs": [],
   "source": [
    "import matplotlib.pyplot as plt\n",
    "import numpy\n",
    "import pandas\n",
    "import seaborn\n",
    "from scipy import stats\n",
    "import itertools\n",
    "\n",
    "from IPython.display import HTML\n",
    "\n",
    "BLUE = '#35A7FF'\n",
    "RED = '#FF5964'\n",
    "GREEN = '#6BF178'\n",
    "YELLOW = '#FFE74C'"
   ]
  },
  {
   "cell_type": "code",
   "execution_count": 2,
   "metadata": {},
   "outputs": [
    {
     "data": {
      "text/html": [
       "<script>\n",
       "code_show=true; \n",
       "function code_toggle() {\n",
       " if (code_show){\n",
       " $('div.input').hide();\n",
       " } else {\n",
       " $('div.input').show();\n",
       " }\n",
       " code_show = !code_show\n",
       "} \n",
       "$( document ).ready(code_toggle);\n",
       "</script>\n",
       "The raw code for this IPython notebook is by default hidden for easier reading.\n",
       "To toggle on/off the raw code, click <a href=\"javascript:code_toggle()\">here</a>."
      ],
      "text/plain": [
       "<IPython.core.display.HTML object>"
      ]
     },
     "execution_count": 2,
     "metadata": {},
     "output_type": "execute_result"
    }
   ],
   "source": [
    "# Ocultar código\n",
    "\n",
    "HTML('''<script>\n",
    "code_show=true; \n",
    "function code_toggle() {\n",
    " if (code_show){\n",
    " $('div.input').hide();\n",
    " } else {\n",
    " $('div.input').show();\n",
    " }\n",
    " code_show = !code_show\n",
    "} \n",
    "$( document ).ready(code_toggle);\n",
    "</script>\n",
    "The raw code for this IPython notebook is by default hidden for easier reading.\n",
    "To toggle on/off the raw code, click <a href=\"javascript:code_toggle()\">here</a>.''')"
   ]
  },
  {
   "cell_type": "code",
   "execution_count": 6,
   "metadata": {
    "colab": {},
    "colab_type": "code",
    "id": "TX3hXdB3qTjV",
    "outputId": "27f53c42-0492-4095-e821-fb7ff344d6c8"
   },
   "outputs": [
    {
     "data": {
      "text/plain": [
       "'0.9.0'"
      ]
     },
     "execution_count": 6,
     "metadata": {},
     "output_type": "execute_result"
    }
   ],
   "source": [
    "seaborn.__version__"
   ]
  },
  {
   "cell_type": "code",
   "execution_count": 7,
   "metadata": {
    "colab": {},
    "colab_type": "code",
    "id": "nO4EvALgqTjd",
    "outputId": "08df101e-0ffe-4029-e08b-ab558c9ef868"
   },
   "outputs": [
    {
     "data": {
      "text/plain": [
       "(500000, 12)"
      ]
     },
     "execution_count": 7,
     "metadata": {},
     "output_type": "execute_result"
    }
   ],
   "source": [
    "dataset = pandas.read_csv('dataset_sample_corrected.csv')\n",
    "dataset.shape"
   ]
  },
  {
   "cell_type": "code",
   "execution_count": 8,
   "metadata": {
    "colab": {},
    "colab_type": "code",
    "id": "aDy9oVycqTji",
    "outputId": "0535accb-e85e-4c1b-fab1-0783dfbbef39"
   },
   "outputs": [
    {
     "data": {
      "text/plain": [
       "Index(['sender_state', 'sender_zipcode', 'receiver_state', 'receiver_zipcode',\n",
       "       'shipment_type', 'quantity', 'service', 'status', 'date_created',\n",
       "       'date_sent', 'date_visit', 'shipment_days'],\n",
       "      dtype='object')"
      ]
     },
     "execution_count": 8,
     "metadata": {},
     "output_type": "execute_result"
    }
   ],
   "source": [
    "dataset.columns\n"
   ]
  },
  {
   "cell_type": "markdown",
   "metadata": {
    "colab_type": "text",
    "id": "ZNHeGGkXqTjn"
   },
   "source": [
    "1. ¿Qué tipo de variables se encuentran presentes en el dataset? Realizar una breve descripción estadística de las mismas, determinar si existen outliers y valores incorrectos o no esperados.\n"
   ]
  },
  {
   "cell_type": "code",
   "execution_count": 9,
   "metadata": {
    "colab": {},
    "colab_type": "code",
    "id": "XQdJs57IqTjo"
   },
   "outputs": [
    {
     "data": {
      "text/html": [
       "<div>\n",
       "<style scoped>\n",
       "    .dataframe tbody tr th:only-of-type {\n",
       "        vertical-align: middle;\n",
       "    }\n",
       "\n",
       "    .dataframe tbody tr th {\n",
       "        vertical-align: top;\n",
       "    }\n",
       "\n",
       "    .dataframe thead th {\n",
       "        text-align: right;\n",
       "    }\n",
       "</style>\n",
       "<table border=\"1\" class=\"dataframe\">\n",
       "  <thead>\n",
       "    <tr style=\"text-align: right;\">\n",
       "      <th></th>\n",
       "      <th>sender_state</th>\n",
       "      <th>sender_zipcode</th>\n",
       "      <th>receiver_state</th>\n",
       "      <th>receiver_zipcode</th>\n",
       "      <th>shipment_type</th>\n",
       "      <th>quantity</th>\n",
       "      <th>service</th>\n",
       "      <th>status</th>\n",
       "      <th>date_created</th>\n",
       "      <th>date_sent</th>\n",
       "      <th>date_visit</th>\n",
       "      <th>shipment_days</th>\n",
       "    </tr>\n",
       "  </thead>\n",
       "  <tbody>\n",
       "    <tr>\n",
       "      <th>164310</th>\n",
       "      <td>SP</td>\n",
       "      <td>2180</td>\n",
       "      <td>PE</td>\n",
       "      <td>53620</td>\n",
       "      <td>standard</td>\n",
       "      <td>1</td>\n",
       "      <td>2</td>\n",
       "      <td>done</td>\n",
       "      <td>2019-02-13 00:00:00</td>\n",
       "      <td>2019-02-15 15:00:39</td>\n",
       "      <td>2019-03-01 10:02:00</td>\n",
       "      <td>10.0</td>\n",
       "    </tr>\n",
       "    <tr>\n",
       "      <th>406413</th>\n",
       "      <td>SP</td>\n",
       "      <td>7803</td>\n",
       "      <td>RJ</td>\n",
       "      <td>25035</td>\n",
       "      <td>standard</td>\n",
       "      <td>1</td>\n",
       "      <td>1</td>\n",
       "      <td>done</td>\n",
       "      <td>2019-02-23 00:00:00</td>\n",
       "      <td>2019-02-25 14:09:00</td>\n",
       "      <td>2019-03-20 12:57:00</td>\n",
       "      <td>14.0</td>\n",
       "    </tr>\n",
       "    <tr>\n",
       "      <th>209834</th>\n",
       "      <td>SP</td>\n",
       "      <td>13606</td>\n",
       "      <td>RJ</td>\n",
       "      <td>22470</td>\n",
       "      <td>standard</td>\n",
       "      <td>1</td>\n",
       "      <td>1</td>\n",
       "      <td>done</td>\n",
       "      <td>2019-03-01 00:00:00</td>\n",
       "      <td>2019-03-04 16:20:00</td>\n",
       "      <td>2019-03-20 18:12:00</td>\n",
       "      <td>9.0</td>\n",
       "    </tr>\n",
       "    <tr>\n",
       "      <th>361200</th>\n",
       "      <td>SP</td>\n",
       "      <td>2950</td>\n",
       "      <td>PR</td>\n",
       "      <td>83203</td>\n",
       "      <td>standard</td>\n",
       "      <td>1</td>\n",
       "      <td>0</td>\n",
       "      <td>done</td>\n",
       "      <td>2019-03-02 00:00:00</td>\n",
       "      <td>2019-03-05 16:38:05</td>\n",
       "      <td>2019-03-11 13:43:00</td>\n",
       "      <td>2.0</td>\n",
       "    </tr>\n",
       "    <tr>\n",
       "      <th>471340</th>\n",
       "      <td>SP</td>\n",
       "      <td>16400</td>\n",
       "      <td>SP</td>\n",
       "      <td>17580</td>\n",
       "      <td>standard</td>\n",
       "      <td>1</td>\n",
       "      <td>1</td>\n",
       "      <td>done</td>\n",
       "      <td>2019-03-09 00:00:00</td>\n",
       "      <td>2019-03-12 15:04:00</td>\n",
       "      <td>2019-03-20 12:09:00</td>\n",
       "      <td>6.0</td>\n",
       "    </tr>\n",
       "    <tr>\n",
       "      <th>342457</th>\n",
       "      <td>SP</td>\n",
       "      <td>13301</td>\n",
       "      <td>SP</td>\n",
       "      <td>12090</td>\n",
       "      <td>standard</td>\n",
       "      <td>1</td>\n",
       "      <td>1</td>\n",
       "      <td>done</td>\n",
       "      <td>2019-03-02 00:00:00</td>\n",
       "      <td>2019-03-06 11:48:00</td>\n",
       "      <td>2019-03-14 09:38:00</td>\n",
       "      <td>5.0</td>\n",
       "    </tr>\n",
       "    <tr>\n",
       "      <th>430947</th>\n",
       "      <td>SP</td>\n",
       "      <td>3172</td>\n",
       "      <td>SP</td>\n",
       "      <td>4311</td>\n",
       "      <td>express</td>\n",
       "      <td>1</td>\n",
       "      <td>5</td>\n",
       "      <td>done</td>\n",
       "      <td>2019-03-12 00:00:00</td>\n",
       "      <td>2019-03-15 06:24:22</td>\n",
       "      <td>2019-03-15 15:45:05</td>\n",
       "      <td>0.0</td>\n",
       "    </tr>\n",
       "    <tr>\n",
       "      <th>193347</th>\n",
       "      <td>SP</td>\n",
       "      <td>13290</td>\n",
       "      <td>PE</td>\n",
       "      <td>52050</td>\n",
       "      <td>express</td>\n",
       "      <td>1</td>\n",
       "      <td>6</td>\n",
       "      <td>done</td>\n",
       "      <td>2019-03-18 00:00:00</td>\n",
       "      <td>2019-03-18 16:47:06</td>\n",
       "      <td>2019-03-25 14:04:15</td>\n",
       "      <td>5.0</td>\n",
       "    </tr>\n",
       "    <tr>\n",
       "      <th>458471</th>\n",
       "      <td>SP</td>\n",
       "      <td>2465</td>\n",
       "      <td>SP</td>\n",
       "      <td>5089</td>\n",
       "      <td>express</td>\n",
       "      <td>1</td>\n",
       "      <td>5</td>\n",
       "      <td>done</td>\n",
       "      <td>2019-02-25 00:00:00</td>\n",
       "      <td>2019-02-28 03:02:26</td>\n",
       "      <td>2019-02-28 14:18:20</td>\n",
       "      <td>0.0</td>\n",
       "    </tr>\n",
       "    <tr>\n",
       "      <th>367821</th>\n",
       "      <td>SP</td>\n",
       "      <td>9370</td>\n",
       "      <td>SP</td>\n",
       "      <td>4884</td>\n",
       "      <td>express</td>\n",
       "      <td>1</td>\n",
       "      <td>2</td>\n",
       "      <td>done</td>\n",
       "      <td>2019-03-12 00:00:00</td>\n",
       "      <td>2019-03-15 17:31:01</td>\n",
       "      <td>2019-03-21 20:32:00</td>\n",
       "      <td>4.0</td>\n",
       "    </tr>\n",
       "  </tbody>\n",
       "</table>\n",
       "</div>"
      ],
      "text/plain": [
       "       sender_state  sender_zipcode receiver_state  receiver_zipcode  \\\n",
       "164310           SP            2180             PE             53620   \n",
       "406413           SP            7803             RJ             25035   \n",
       "209834           SP           13606             RJ             22470   \n",
       "361200           SP            2950             PR             83203   \n",
       "471340           SP           16400             SP             17580   \n",
       "342457           SP           13301             SP             12090   \n",
       "430947           SP            3172             SP              4311   \n",
       "193347           SP           13290             PE             52050   \n",
       "458471           SP            2465             SP              5089   \n",
       "367821           SP            9370             SP              4884   \n",
       "\n",
       "       shipment_type  quantity  service status         date_created  \\\n",
       "164310      standard         1        2   done  2019-02-13 00:00:00   \n",
       "406413      standard         1        1   done  2019-02-23 00:00:00   \n",
       "209834      standard         1        1   done  2019-03-01 00:00:00   \n",
       "361200      standard         1        0   done  2019-03-02 00:00:00   \n",
       "471340      standard         1        1   done  2019-03-09 00:00:00   \n",
       "342457      standard         1        1   done  2019-03-02 00:00:00   \n",
       "430947       express         1        5   done  2019-03-12 00:00:00   \n",
       "193347       express         1        6   done  2019-03-18 00:00:00   \n",
       "458471       express         1        5   done  2019-02-25 00:00:00   \n",
       "367821       express         1        2   done  2019-03-12 00:00:00   \n",
       "\n",
       "                  date_sent           date_visit  shipment_days  \n",
       "164310  2019-02-15 15:00:39  2019-03-01 10:02:00           10.0  \n",
       "406413  2019-02-25 14:09:00  2019-03-20 12:57:00           14.0  \n",
       "209834  2019-03-04 16:20:00  2019-03-20 18:12:00            9.0  \n",
       "361200  2019-03-05 16:38:05  2019-03-11 13:43:00            2.0  \n",
       "471340  2019-03-12 15:04:00  2019-03-20 12:09:00            6.0  \n",
       "342457  2019-03-06 11:48:00  2019-03-14 09:38:00            5.0  \n",
       "430947  2019-03-15 06:24:22  2019-03-15 15:45:05            0.0  \n",
       "193347  2019-03-18 16:47:06  2019-03-25 14:04:15            5.0  \n",
       "458471  2019-02-28 03:02:26  2019-02-28 14:18:20            0.0  \n",
       "367821  2019-03-15 17:31:01  2019-03-21 20:32:00            4.0  "
      ]
     },
     "execution_count": 9,
     "metadata": {},
     "output_type": "execute_result"
    }
   ],
   "source": [
    "dataset[dataset.columns].sample(10)"
   ]
  },
  {
   "cell_type": "code",
   "execution_count": 14,
   "metadata": {
    "colab": {},
    "colab_type": "code",
    "id": "-rJI-aMCqTjs",
    "outputId": "7886404a-9da0-4a08-8cfd-86e1d7f7351e",
    "scrolled": true
   },
   "outputs": [
    {
     "data": {
      "image/png": "[encoded data removed]",
      "text/plain": [
       "<Figure size 1008x504 with 1 Axes>"
      ]
     },
     "metadata": {
      "needs_background": "light"
     },
     "output_type": "display_data"
    }
   ],
   "source": [
    "plt.figure(figsize=(14,7))\n",
    "seaborn.boxplot(data=dataset,\n",
    "                y='shipment_days', x='quantity')\n",
    "plt.ylabel('Shipment days')\n",
    "plt.xlabel('Quantity')\n",
    "seaborn.despine()"
   ]
  },
  {
   "cell_type": "markdown",
   "metadata": {},
   "source": [
    "En el gráfico de arriba podemos observar que hay muchos valores negativos, que los podemos eliminar dado que shipment_days \n",
    "cuenta la cantidad de días en que dura la entrega de un paquete."
   ]
  },
  {
   "cell_type": "code",
   "execution_count": 47,
   "metadata": {},
   "outputs": [
    {
     "data": {
      "text/plain": [
       "48"
      ]
     },
     "execution_count": 47,
     "metadata": {},
     "output_type": "execute_result"
    }
   ],
   "source": [
    "# Contamos cuantas columnas tienen valores negativos y limite_superior_outliers\n",
    "dataset[dataset['shipment_days'] < 0]['shipment_days'].count()"
   ]
  },
  {
   "cell_type": "code",
   "execution_count": 48,
   "metadata": {},
   "outputs": [
    {
     "data": {
      "text/plain": [
       "14730"
      ]
     },
     "execution_count": 48,
     "metadata": {},
     "output_type": "execute_result"
    }
   ],
   "source": [
    "dataset[dataset['shipment_days'] > 17]['shipment_days'].count()"
   ]
  },
  {
   "cell_type": "markdown",
   "metadata": {
    "colab_type": "text",
    "id": "SiT3ca1EqTjz"
   },
   "source": [
    "Se encuentra outliers en la variable shipment_days, al ver que son tan pocos valores negativos, podemos descartarlos como se muestra a continuación. También eliminamos las filas dónde shipment_days es negativo dado que consideramos que no tienen sentido que dicha variable sea negativa, por ende no podemos confiar en esos datos."
   ]
  },
  {
   "cell_type": "markdown",
   "metadata": {
    "colab": {},
    "colab_type": "code",
    "id": "HyT_LT7kqTkC",
    "outputId": "06bc1eb1-7d96-4620-9399-e6907bace51c"
   },
   "source": [
    "El 17 sale de $lso = q3 + 1.5 * (q3 - q1)$"
   ]
  },
  {
   "cell_type": "code",
   "execution_count": 13,
   "metadata": {},
   "outputs": [],
   "source": [
    "def clean_shipment_days(dataset):\n",
    "    \"\"\"Le saco los valores negativos\"\"\"\n",
    "    shipments_days = dataset['shipment_days']\n",
    "    mask = (shipments_days > 0)\n",
    "    mask_2 = (shipments_days < 18)\n",
    "    return dataset[mask & mask_2] "
   ]
  },
  {
   "cell_type": "code",
   "execution_count": 18,
   "metadata": {},
   "outputs": [],
   "source": [
    "dataset_clean = clean_shipment_days(dataset)"
   ]
  },
  {
   "cell_type": "code",
   "execution_count": 49,
   "metadata": {},
   "outputs": [
    {
     "data": {
      "text/plain": [
       "sender_state        468668\n",
       "sender_zipcode      468668\n",
       "receiver_state      468668\n",
       "receiver_zipcode    468668\n",
       "shipment_type       468668\n",
       "quantity            468668\n",
       "service             468668\n",
       "status              468668\n",
       "date_created        468668\n",
       "date_sent           468668\n",
       "date_visit          468668\n",
       "shipment_days       468668\n",
       "dtype: int64"
      ]
     },
     "execution_count": 49,
     "metadata": {},
     "output_type": "execute_result"
    }
   ],
   "source": [
    "#Contemos cuantos datos hemos eliminado\n",
    "dataset_clean.count()"
   ]
  },
  {
   "cell_type": "markdown",
   "metadata": {},
   "source": [
    "Al ver que no son muchos datos eliminados (porque en total son 50000) procederemos a trabajar con el dataset_clean."
   ]
  },
  {
   "cell_type": "code",
   "execution_count": 19,
   "metadata": {},
   "outputs": [
    {
     "data": {
      "text/html": [
       "<div>\n",
       "<style scoped>\n",
       "    .dataframe tbody tr th:only-of-type {\n",
       "        vertical-align: middle;\n",
       "    }\n",
       "\n",
       "    .dataframe tbody tr th {\n",
       "        vertical-align: top;\n",
       "    }\n",
       "\n",
       "    .dataframe thead th {\n",
       "        text-align: right;\n",
       "    }\n",
       "</style>\n",
       "<table border=\"1\" class=\"dataframe\">\n",
       "  <thead>\n",
       "    <tr style=\"text-align: right;\">\n",
       "      <th></th>\n",
       "      <th>count</th>\n",
       "      <th>mean</th>\n",
       "      <th>std</th>\n",
       "      <th>min</th>\n",
       "      <th>25%</th>\n",
       "      <th>50%</th>\n",
       "      <th>75%</th>\n",
       "      <th>max</th>\n",
       "      <th>CV</th>\n",
       "    </tr>\n",
       "  </thead>\n",
       "  <tbody>\n",
       "    <tr>\n",
       "      <th>quantity</th>\n",
       "      <td>468668.0</td>\n",
       "      <td>1.28</td>\n",
       "      <td>0.66</td>\n",
       "      <td>1.0</td>\n",
       "      <td>1.0</td>\n",
       "      <td>1.0</td>\n",
       "      <td>1.0</td>\n",
       "      <td>5.0</td>\n",
       "      <td>51.56</td>\n",
       "    </tr>\n",
       "    <tr>\n",
       "      <th>shipment_days</th>\n",
       "      <td>468668.0</td>\n",
       "      <td>5.06</td>\n",
       "      <td>4.11</td>\n",
       "      <td>1.0</td>\n",
       "      <td>2.0</td>\n",
       "      <td>4.0</td>\n",
       "      <td>7.0</td>\n",
       "      <td>17.0</td>\n",
       "      <td>81.23</td>\n",
       "    </tr>\n",
       "  </tbody>\n",
       "</table>\n",
       "</div>"
      ],
      "text/plain": [
       "                  count  mean   std  min  25%  50%  75%   max     CV\n",
       "quantity       468668.0  1.28  0.66  1.0  1.0  1.0  1.0   5.0  51.56\n",
       "shipment_days  468668.0  5.06  4.11  1.0  2.0  4.0  7.0  17.0  81.23"
      ]
     },
     "execution_count": 19,
     "metadata": {},
     "output_type": "execute_result"
    }
   ],
   "source": [
    "#Calculamos la descripci´n estadísticas sobre las variables cuantitativas. \n",
    "descrip = dataset_clean[['quantity', 'shipment_days']].describe().round(2).transpose()\n",
    "descrip['CV'] = (descrip['std']/descrip['mean']*100).round(2)\n",
    "descrip"
   ]
  },
  {
   "cell_type": "code",
   "execution_count": 14,
   "metadata": {},
   "outputs": [
    {
     "data": {
      "text/plain": [
       "array(['2019-03-18 09:52:00', '2019-03-18 15:16:00',\n",
       "       '2019-03-01 21:27:00', ..., '2019-03-27 17:05:36',\n",
       "       '2019-03-07 16:34:06', '2019-03-13 13:28:17'], dtype=object)"
      ]
     },
     "execution_count": 14,
     "metadata": {},
     "output_type": "execute_result"
    }
   ],
   "source": [
    "dataset['date_visit'].unique()"
   ]
  },
  {
   "cell_type": "code",
   "execution_count": 15,
   "metadata": {},
   "outputs": [
    {
     "data": {
      "text/plain": [
       "array(['done', 'failed', 'sent', 'cancelled', 'set'], dtype=object)"
      ]
     },
     "execution_count": 15,
     "metadata": {},
     "output_type": "execute_result"
    }
   ],
   "source": [
    "dataset['status'].unique()"
   ]
  },
  {
   "cell_type": "code",
   "execution_count": 16,
   "metadata": {},
   "outputs": [
    {
     "data": {
      "text/plain": [
       "array(['standard', 'express', 'super'], dtype=object)"
      ]
     },
     "execution_count": 16,
     "metadata": {},
     "output_type": "execute_result"
    }
   ],
   "source": [
    "dataset['shipment_type'].unique()"
   ]
  },
  {
   "cell_type": "code",
   "execution_count": 17,
   "metadata": {},
   "outputs": [
    {
     "data": {
      "text/plain": [
       "array([ 1,  2,  9,  0,  4,  6,  3,  5,  8,  7, 10, 12, 11], dtype=int64)"
      ]
     },
     "execution_count": 17,
     "metadata": {},
     "output_type": "execute_result"
    }
   ],
   "source": [
    "dataset['service'].unique()"
   ]
  },
  {
   "cell_type": "code",
   "execution_count": 18,
   "metadata": {},
   "outputs": [
    {
     "data": {
      "text/plain": [
       "array(['SP'], dtype=object)"
      ]
     },
     "execution_count": 18,
     "metadata": {},
     "output_type": "execute_result"
    }
   ],
   "source": [
    "dataset['sender_state'].unique()"
   ]
  },
  {
   "cell_type": "code",
   "execution_count": 103,
   "metadata": {
    "scrolled": true
   },
   "outputs": [
    {
     "data": {
      "text/plain": [
       "5452"
      ]
     },
     "execution_count": 103,
     "metadata": {},
     "output_type": "execute_result"
    }
   ],
   "source": [
    "len(dataset['sender_zipcode'].unique())"
   ]
  },
  {
   "cell_type": "markdown",
   "metadata": {},
   "source": [
    "## 1. Estadísticos descriptivos\n",
    "\n",
    "1. Sender_zipcode su rango esta dentro de 1000 y 20000. Es una variable categórica, que indifica las zonas geográficas desde donde se realizaron los envíos. \n",
    "2. receiver_zipcode su rango esta dentro de 1000 y 100000. Es una variable categórica.\n",
    "3. Quantity va desde 1 hasta 5\n",
    "4. Service va desde 0  hasta 12\n",
    "5. shipment_days va desde -77 hasta 90. Pero cortamos los valores entre [0,18]\n",
    "\n",
    "\n",
    "En un principio podemos observar que faltan valores para shipment_days."
   ]
  },
  {
   "cell_type": "markdown",
   "metadata": {
    "colab_type": "text",
    "id": "SiT3ca1EqTjz"
   },
   "source": [
    "2. ¿Cómo es la distribución de zipcodes de origen y destino de un envío? ¿Está concentrada en algún valor? ¿Y para el resto de las variables?\n"
   ]
  },
  {
   "cell_type": "code",
   "execution_count": 5,
   "metadata": {},
   "outputs": [],
   "source": [
    "data_convert = pandas.to_datetime(dataset['date_visit'])\n",
    "day_visit = data_convert.dt.date"
   ]
  },
  {
   "cell_type": "code",
   "execution_count": 10,
   "metadata": {},
   "outputs": [
    {
     "data": {
      "text/plain": [
       "0         2019-03-10\n",
       "1         2019-03-08\n",
       "2         2019-02-21\n",
       "3         2019-02-25\n",
       "4         2019-02-15\n",
       "5         2019-03-19\n",
       "6         2019-02-26\n",
       "7         2019-02-20\n",
       "8         2019-02-10\n",
       "9         2019-03-19\n",
       "10        2019-03-10\n",
       "11        2019-03-05\n",
       "12        2019-03-25\n",
       "13        2019-03-18\n",
       "14        2019-03-22\n",
       "15        2019-02-06\n",
       "16        2019-03-11\n",
       "17        2019-03-05\n",
       "18        2019-03-13\n",
       "19        2019-02-21\n",
       "20        2019-03-04\n",
       "21        2019-03-06\n",
       "22        2019-02-26\n",
       "23        2019-02-15\n",
       "24        2019-03-08\n",
       "25        2019-03-19\n",
       "26        2019-02-26\n",
       "27        2019-03-09\n",
       "28        2019-02-27\n",
       "29        2019-03-23\n",
       "             ...    \n",
       "499970    2019-02-25\n",
       "499971    2019-02-26\n",
       "499972    2019-03-14\n",
       "499973    2019-03-17\n",
       "499974    2019-03-10\n",
       "499975    2019-03-01\n",
       "499976    2019-03-23\n",
       "499977    2019-03-18\n",
       "499978    2019-03-10\n",
       "499979    2019-02-20\n",
       "499980    2019-03-07\n",
       "499981    2019-02-21\n",
       "499982    2019-02-15\n",
       "499983    2019-03-04\n",
       "499984    2019-02-27\n",
       "499985    2019-03-11\n",
       "499986    2019-02-05\n",
       "499987    2019-03-04\n",
       "499988    2019-02-24\n",
       "499989    2019-02-23\n",
       "499990    2019-02-23\n",
       "499991    2019-02-24\n",
       "499992    2019-03-11\n",
       "499993    2019-03-16\n",
       "499994    2019-03-05\n",
       "499995    2019-03-22\n",
       "499996    2019-03-20\n",
       "499997    2019-03-06\n",
       "499998    2019-02-28\n",
       "499999    2019-02-17\n",
       "Name: date_created, Length: 500000, dtype: object"
      ]
     },
     "execution_count": 10,
     "metadata": {},
     "output_type": "execute_result"
    }
   ],
   "source": [
    "data_created = pandas.to_datetime(dataset['date_created'])\n",
    "day_created = data_created.dt.date\n",
    "day_created"
   ]
  },
  {
   "cell_type": "code",
   "execution_count": 123,
   "metadata": {},
   "outputs": [
    {
     "data": {
      "image/png": "[encoded data removed]",
      "text/plain": [
       "<Figure size 720x432 with 1 Axes>"
      ]
     },
     "metadata": {
      "needs_background": "light"
     },
     "output_type": "display_data"
    }
   ],
   "source": [
    "plt.figure(figsize=(10,6))\n",
    "seaborn.distplot(dataset_clean['sender_zipcode'], color=BLUE, label='Sender_zipcode')\n",
    "plt.title('Distribuciones de sender_zipcode')\n",
    "plt.legend(bbox_to_anchor=(1, 1), loc=2)\n",
    "seaborn.despine()"
   ]
  },
  {
   "cell_type": "markdown",
   "metadata": {},
   "source": [
    "Los datos se centran en 1300 aproximadamente."
   ]
  },
  {
   "cell_type": "code",
   "execution_count": 124,
   "metadata": {},
   "outputs": [
    {
     "data": {
      "image/png": "[encoded data removed]",
      "text/plain": [
       "<Figure size 720x432 with 1 Axes>"
      ]
     },
     "metadata": {
      "needs_background": "light"
     },
     "output_type": "display_data"
    }
   ],
   "source": [
    "plt.figure(figsize=(10,6))\n",
    "seaborn.distplot(dataset_clean['receiver_zipcode'], color=BLUE, label='receiver_zipcode')\n",
    "plt.title('Distribuciones de receiver_zipcode')\n",
    "plt.legend(bbox_to_anchor=(1, 1), loc=2)\n",
    "seaborn.despine()"
   ]
  },
  {
   "cell_type": "markdown",
   "metadata": {},
   "source": [
    "Los datos se centran en 1800 aproximadamente, pero recalquemos que receiver_zipcode es una variable categórica."
   ]
  },
  {
   "cell_type": "code",
   "execution_count": 100,
   "metadata": {},
   "outputs": [
    {
     "data": {
      "image/png": "[encoded data removed]",
      "text/plain": [
       "<Figure size 720x432 with 1 Axes>"
      ]
     },
     "metadata": {
      "needs_background": "light"
     },
     "output_type": "display_data"
    }
   ],
   "source": [
    "plt.figure(figsize=(10,6))\n",
    "seaborn.distplot(shipment_days_int, color=BLUE, label='shipment_days_int')\n",
    "plt.title('shipment_days_int')\n",
    "plt.legend(bbox_to_anchor=(1, 1), loc=2)\n",
    "seaborn.despine()"
   ]
  },
  {
   "cell_type": "markdown",
   "metadata": {},
   "source": [
    "3 ¿Es la distribución del número de días que demora un envío normal? ¿Adquiere significado la media y desviación estándar? ¿Qué tipo de estadísticos podrían ser relevantes en este caso? ¿Hay alguna otra distribución a la cual se asemeje más?"
   ]
  },
  {
   "cell_type": "markdown",
   "metadata": {},
   "source": [
    "La distribucion de shipment_days es asimétrica derecha.\n",
    "#podemos hacer una prueba de normalidad"
   ]
  },
  {
   "cell_type": "code",
   "execution_count": 60,
   "metadata": {},
   "outputs": [
    {
     "data": {
      "image/png": "[encoded data removed]",
      "text/plain": [
       "<Figure size 864x432 with 1 Axes>"
      ]
     },
     "metadata": {
      "needs_background": "light"
     },
     "output_type": "display_data"
    }
   ],
   "source": [
    "loc, scale = stats.norm.fit(dataset_clean['shipment_days'])\n",
    "norm_dist = stats.norm(loc, scale)\n",
    "percs = numpy.linspace(0,100,21)  # Creamos 20 puntos percentiles igualmente distribuidos entre 0 y 100.\n",
    "qn_sample = numpy.percentile(dataset_clean['shipment_days'], percs)\n",
    "qn_norm_dist = numpy.percentile(norm_dist.rvs(len(dataset_clean['shipment_days'])), percs)\n",
    "plt.figure(figsize=(12,6))\n",
    "seaborn.regplot(x=qn_sample, y=qn_norm_dist)\n",
    "plt.xlabel('Percentiles shipment_days')\n",
    "plt.ylabel('Percentiles de la normal')\n",
    "plt.title('QQ plot de shipment_days vs distribución normal')\n",
    "x = numpy.linspace(numpy.min((qn_sample.min(), qn_norm_dist.min())), numpy.max((qn_sample.max(),qn_norm_dist.max())))\n",
    "plt.plot(x,x, color=RED, ls=\"--\")\n",
    "\n",
    "seaborn.despine()"
   ]
  },
  {
   "cell_type": "markdown",
   "metadata": {},
   "source": [
    "Podemos observar que no es una distribución normal visualmente."
   ]
  },
  {
   "cell_type": "code",
   "execution_count": 20,
   "metadata": {},
   "outputs": [
    {
     "data": {
      "text/plain": [
       "KstestResult(statistic=0.111558554134907, pvalue=0.0)"
      ]
     },
     "execution_count": 20,
     "metadata": {},
     "output_type": "execute_result"
    }
   ],
   "source": [
    "data_plot = dataset_clean['sender_zipcode']\n",
    "mean = data_plot.mean()\n",
    "desv = data_plot.std()\n",
    "stats.kstest(data_plot, 'norm', args=(mean,desv))"
   ]
  },
  {
   "cell_type": "markdown",
   "metadata": {},
   "source": [
    "Podemos ver que la variable sender_zipcode no es una normal."
   ]
  },
  {
   "cell_type": "code",
   "execution_count": 21,
   "metadata": {},
   "outputs": [
    {
     "data": {
      "text/plain": [
       "KstestResult(statistic=0.12316107323886849, pvalue=0.0)"
      ]
     },
     "execution_count": 21,
     "metadata": {},
     "output_type": "execute_result"
    }
   ],
   "source": [
    "data_plot = dataset_clean['receiver_zipcode']\n",
    "mean = data_plot.mean()\n",
    "desv = data_plot.std()\n",
    "stats.kstest(data_plot, 'norm', args=(mean,desv))"
   ]
  },
  {
   "cell_type": "markdown",
   "metadata": {},
   "source": [
    "Podemos ver que la variable receiver_zipcode no es una normal."
   ]
  },
  {
   "cell_type": "code",
   "execution_count": 22,
   "metadata": {},
   "outputs": [
    {
     "data": {
      "text/plain": [
       "KstestResult(statistic=0.18505835691675787, pvalue=0.0)"
      ]
     },
     "execution_count": 22,
     "metadata": {},
     "output_type": "execute_result"
    }
   ],
   "source": [
    "data_plot = dataset_clean['shipment_days']\n",
    "mean = data_plot.mean()\n",
    "desv = data_plot.std()\n",
    "stats.kstest(data_plot, 'norm', args=(mean,desv))"
   ]
  },
  {
   "cell_type": "markdown",
   "metadata": {},
   "source": [
    "Podemos ver que la variable shipment_days no es una normal."
   ]
  },
  {
   "cell_type": "code",
   "execution_count": null,
   "metadata": {},
   "outputs": [],
   "source": [
    "La media y desviación estándar si adquieren significado, en los cálculos de los tests para ver si dichas variables son \n",
    "normales o no."
   ]
  },
  {
   "cell_type": "markdown",
   "metadata": {},
   "source": [
    "A simple vista no tienen forma de distribución de una distribución que nos resulte familiar. "
   ]
  },
  {
   "cell_type": "markdown",
   "metadata": {},
   "source": [
    "4 ¿Cuál es la probabilidad de que el destinatario de un envío sea del estado de Minas Gerais (MG)? ¿Cuál es la probabilidad de que dicho envío (que llega a Minas Gerais) sea realizado mediante el servicio 1?"
   ]
  },
  {
   "cell_type": "code",
   "execution_count": 24,
   "metadata": {},
   "outputs": [
    {
     "data": {
      "text/html": [
       "<div>\n",
       "<style scoped>\n",
       "    .dataframe tbody tr th:only-of-type {\n",
       "        vertical-align: middle;\n",
       "    }\n",
       "\n",
       "    .dataframe tbody tr th {\n",
       "        vertical-align: top;\n",
       "    }\n",
       "\n",
       "    .dataframe thead th {\n",
       "        text-align: right;\n",
       "    }\n",
       "</style>\n",
       "<table border=\"1\" class=\"dataframe\">\n",
       "  <thead>\n",
       "    <tr style=\"text-align: right;\">\n",
       "      <th>col_0</th>\n",
       "      <th>count</th>\n",
       "      <th>porcentaje_envio</th>\n",
       "    </tr>\n",
       "    <tr>\n",
       "      <th>receiver_state</th>\n",
       "      <th></th>\n",
       "      <th></th>\n",
       "    </tr>\n",
       "  </thead>\n",
       "  <tbody>\n",
       "    <tr>\n",
       "      <th>SP</th>\n",
       "      <td>175298</td>\n",
       "      <td>0.374034</td>\n",
       "    </tr>\n",
       "    <tr>\n",
       "      <th>MG</th>\n",
       "      <td>59833</td>\n",
       "      <td>0.127666</td>\n",
       "    </tr>\n",
       "    <tr>\n",
       "      <th>RJ</th>\n",
       "      <td>40895</td>\n",
       "      <td>0.087258</td>\n",
       "    </tr>\n",
       "    <tr>\n",
       "      <th>RS</th>\n",
       "      <td>30422</td>\n",
       "      <td>0.064912</td>\n",
       "    </tr>\n",
       "    <tr>\n",
       "      <th>PR</th>\n",
       "      <td>28225</td>\n",
       "      <td>0.060224</td>\n",
       "    </tr>\n",
       "    <tr>\n",
       "      <th>SC</th>\n",
       "      <td>22261</td>\n",
       "      <td>0.047498</td>\n",
       "    </tr>\n",
       "    <tr>\n",
       "      <th>BA</th>\n",
       "      <td>20108</td>\n",
       "      <td>0.042905</td>\n",
       "    </tr>\n",
       "    <tr>\n",
       "      <th>GO</th>\n",
       "      <td>12840</td>\n",
       "      <td>0.027397</td>\n",
       "    </tr>\n",
       "    <tr>\n",
       "      <th>PE</th>\n",
       "      <td>11480</td>\n",
       "      <td>0.024495</td>\n",
       "    </tr>\n",
       "    <tr>\n",
       "      <th>DF</th>\n",
       "      <td>10671</td>\n",
       "      <td>0.022769</td>\n",
       "    </tr>\n",
       "    <tr>\n",
       "      <th>ES</th>\n",
       "      <td>9842</td>\n",
       "      <td>0.021000</td>\n",
       "    </tr>\n",
       "    <tr>\n",
       "      <th>MT</th>\n",
       "      <td>6127</td>\n",
       "      <td>0.013073</td>\n",
       "    </tr>\n",
       "    <tr>\n",
       "      <th>MS</th>\n",
       "      <td>5748</td>\n",
       "      <td>0.012265</td>\n",
       "    </tr>\n",
       "    <tr>\n",
       "      <th>PA</th>\n",
       "      <td>5290</td>\n",
       "      <td>0.011287</td>\n",
       "    </tr>\n",
       "    <tr>\n",
       "      <th>PB</th>\n",
       "      <td>4164</td>\n",
       "      <td>0.008885</td>\n",
       "    </tr>\n",
       "    <tr>\n",
       "      <th>CE</th>\n",
       "      <td>3976</td>\n",
       "      <td>0.008484</td>\n",
       "    </tr>\n",
       "    <tr>\n",
       "      <th>RN</th>\n",
       "      <td>3818</td>\n",
       "      <td>0.008146</td>\n",
       "    </tr>\n",
       "    <tr>\n",
       "      <th>MA</th>\n",
       "      <td>3511</td>\n",
       "      <td>0.007491</td>\n",
       "    </tr>\n",
       "    <tr>\n",
       "      <th>PI</th>\n",
       "      <td>2576</td>\n",
       "      <td>0.005496</td>\n",
       "    </tr>\n",
       "    <tr>\n",
       "      <th>AL</th>\n",
       "      <td>2473</td>\n",
       "      <td>0.005277</td>\n",
       "    </tr>\n",
       "    <tr>\n",
       "      <th>SE</th>\n",
       "      <td>2423</td>\n",
       "      <td>0.005170</td>\n",
       "    </tr>\n",
       "    <tr>\n",
       "      <th>RO</th>\n",
       "      <td>2023</td>\n",
       "      <td>0.004316</td>\n",
       "    </tr>\n",
       "    <tr>\n",
       "      <th>TO</th>\n",
       "      <td>1911</td>\n",
       "      <td>0.004078</td>\n",
       "    </tr>\n",
       "    <tr>\n",
       "      <th>AM</th>\n",
       "      <td>1152</td>\n",
       "      <td>0.002458</td>\n",
       "    </tr>\n",
       "    <tr>\n",
       "      <th>AC</th>\n",
       "      <td>741</td>\n",
       "      <td>0.001581</td>\n",
       "    </tr>\n",
       "    <tr>\n",
       "      <th>AP</th>\n",
       "      <td>606</td>\n",
       "      <td>0.001293</td>\n",
       "    </tr>\n",
       "    <tr>\n",
       "      <th>RR</th>\n",
       "      <td>254</td>\n",
       "      <td>0.000542</td>\n",
       "    </tr>\n",
       "  </tbody>\n",
       "</table>\n",
       "</div>"
      ],
      "text/plain": [
       "col_0            count  porcentaje_envio\n",
       "receiver_state                          \n",
       "SP              175298          0.374034\n",
       "MG               59833          0.127666\n",
       "RJ               40895          0.087258\n",
       "RS               30422          0.064912\n",
       "PR               28225          0.060224\n",
       "SC               22261          0.047498\n",
       "BA               20108          0.042905\n",
       "GO               12840          0.027397\n",
       "PE               11480          0.024495\n",
       "DF               10671          0.022769\n",
       "ES                9842          0.021000\n",
       "MT                6127          0.013073\n",
       "MS                5748          0.012265\n",
       "PA                5290          0.011287\n",
       "PB                4164          0.008885\n",
       "CE                3976          0.008484\n",
       "RN                3818          0.008146\n",
       "MA                3511          0.007491\n",
       "PI                2576          0.005496\n",
       "AL                2473          0.005277\n",
       "SE                2423          0.005170\n",
       "RO                2023          0.004316\n",
       "TO                1911          0.004078\n",
       "AM                1152          0.002458\n",
       "AC                 741          0.001581\n",
       "AP                 606          0.001293\n",
       "RR                 254          0.000542"
      ]
     },
     "execution_count": 24,
     "metadata": {},
     "output_type": "execute_result"
    }
   ],
   "source": [
    "tab_receiver = pandas.crosstab(index = dataset_clean[\"receiver_state\"],  # Make a crosstab\n",
    "                              columns=\"count\")      # Name the count column\n",
    "tab_receiver['porcentaje_envio'] = (tab_receiver['count']/tab_receiver['count'].sum())\n",
    "\n",
    "tab_receiver.sort_values(by=['porcentaje_envio'], ascending=False)"
   ]
  },
  {
   "cell_type": "code",
   "execution_count": 26,
   "metadata": {},
   "outputs": [
    {
     "data": {
      "text/plain": [
       "0.12766606638387942"
      ]
     },
     "execution_count": 26,
     "metadata": {},
     "output_type": "execute_result"
    }
   ],
   "source": [
    "areas, counts = numpy.unique(dataset_clean.receiver_state.values.astype(str),\n",
    "                             return_counts=True)\n",
    "total = counts.sum()\n",
    "fdps = [x/float(total) for x in counts]\n",
    "#[x for x in zip(areas, fdps)]\n",
    "[x for x in zip(areas, fdps)][10]\n",
    "probabilidad_mg = [x for x in zip(areas, fdps)][10][1]\n",
    "probabilidad_mg"
   ]
  },
  {
   "cell_type": "code",
   "execution_count": 27,
   "metadata": {},
   "outputs": [],
   "source": [
    "probabilidad_mg_standard = (len(dataset_clean[((dataset_clean['receiver_state']=='MG') & (dataset_clean['shipment_type']=='standard'))])/total)"
   ]
  },
  {
   "cell_type": "code",
   "execution_count": 28,
   "metadata": {},
   "outputs": [],
   "source": [
    "areas, counts = numpy.unique(dataset_clean.shipment_type.values.astype(str),\n",
    "                             return_counts=True)\n",
    "total = counts.sum()\n",
    "fdps = [x/float(total) for x in counts]\n",
    "probabilidad_standard = [x for x in zip(areas, fdps)][1][1]"
   ]
  },
  {
   "cell_type": "code",
   "execution_count": 29,
   "metadata": {},
   "outputs": [
    {
     "data": {
      "text/plain": [
       "0.18608842193534864"
      ]
     },
     "execution_count": 29,
     "metadata": {},
     "output_type": "execute_result"
    }
   ],
   "source": [
    "#Probabilidad de que llegue a MG sea realizado mediante el servicio standard\n",
    "probabilidad_mg_standard/probabilidad_standard"
   ]
  },
  {
   "cell_type": "markdown",
   "metadata": {},
   "source": [
    "5 ¿Cuál es la probabilidad de que un envío sea realizado con el método super express? ¿Y la de que un envío realizado con dicho método llegue al estado de Minas Gerais?"
   ]
  },
  {
   "cell_type": "code",
   "execution_count": 88,
   "metadata": {},
   "outputs": [
    {
     "data": {
      "text/plain": [
       "('super', 0.018901609026102714)"
      ]
     },
     "execution_count": 88,
     "metadata": {},
     "output_type": "execute_result"
    }
   ],
   "source": [
    "areas_2, counts_2 = numpy.unique(dataset_clean.shipment_type.values.astype(str),\n",
    "                             return_counts=True)\n",
    "total_2 = counts_2.sum()\n",
    "fdps_2 = [x/float(total_2) for x in counts_2]\n",
    "[x for x in zip(areas_2, fdps_2)][2]"
   ]
  },
  {
   "cell_type": "code",
   "execution_count": 89,
   "metadata": {},
   "outputs": [],
   "source": [
    "probabilidad_mg_super = (len(dataset_clean[((dataset_clean['receiver_state']=='MG') & (dataset_clean['shipment_type']=='super'))])/total_2)"
   ]
  },
  {
   "cell_type": "code",
   "execution_count": 96,
   "metadata": {},
   "outputs": [
    {
     "data": {
      "text/plain": [
       "0.010192805660470717"
      ]
     },
     "execution_count": 96,
     "metadata": {},
     "output_type": "execute_result"
    }
   ],
   "source": [
    "#probabilidad de que sea enviado por super dado que llegue a MG\n",
    "probabilidad_mg_super/probabilidad_mg"
   ]
  },
  {
   "cell_type": "markdown",
   "metadata": {},
   "source": [
    "6 ¿Existe correlación entre el número de días que tarda un envío y el destinatario del mismo? ¿Y entre el número de días y la cantidad de productos en un paquete? ¿Con qué otra variable está correlacionado el número de días que tarda un envío? Analizar la independencia de las variables.\n"
   ]
  },
  {
   "cell_type": "code",
   "execution_count": 32,
   "metadata": {},
   "outputs": [],
   "source": [
    "#def to_categorical(column, bin_size=5, min_cut=15, max_cut=90):\n",
    "#    if min_cut is None:\n",
    "#        min_cut = int(round(column.min())) - 1\n",
    "#    value_max = int(numpy.ceil(column.max()))\n",
    "#    max_cut = min(max_cut, value_max)\n",
    "#    intervals = [(x, x+bin_size) for x in range(min_cut, max_cut, bin_size)]\n",
    "#    if max_cut != value_max:\n",
    "#        intervals.append((max_cut, value_max))\n",
    "#    return pandas.cut(column, pandas.IntervalIndex.from_tuples(intervals))"
   ]
  },
  {
   "cell_type": "code",
   "execution_count": 33,
   "metadata": {},
   "outputs": [],
   "source": [
    "#list = dataset_clean.receiver_state.unique()\n",
    "#list\n"
   ]
  },
  {
   "cell_type": "code",
   "execution_count": 175,
   "metadata": {},
   "outputs": [],
   "source": [
    "#indexes = range(len(list))\n",
    "#pos = numpy.where(list=='PB')[0][0]\n",
    "#pos\n",
    "#posiciones = [numpy.where(list==x)[0][0] for x in dataset_clean.receiver_state]"
   ]
  },
  {
   "cell_type": "code",
   "execution_count": 187,
   "metadata": {},
   "outputs": [
    {
     "name": "stderr",
     "output_type": "stream",
     "text": [
      "C:\\Users\\cintia.chaves\\AppData\\Local\\Continuum\\anaconda3\\envs\\diplodatos\\lib\\site-packages\\ipykernel_launcher.py:4: SettingWithCopyWarning: \n",
      "A value is trying to be set on a copy of a slice from a DataFrame.\n",
      "Try using .loc[row_indexer,col_indexer] = value instead\n",
      "\n",
      "See the caveats in the documentation: http://pandas.pydata.org/pandas-docs/stable/indexing.html#indexing-view-versus-copy\n",
      "  after removing the cwd from sys.path.\n",
      "No handles with labels found to put in legend.\n"
     ]
    },
    {
     "data": {
      "image/png": "[encoded data removed]",
      "text/plain": [
       "<Figure size 720x576 with 1 Axes>"
      ]
     },
     "metadata": {
      "needs_background": "light"
     },
     "output_type": "display_data"
    }
   ],
   "source": [
    "#plt.figure(figsize=(10,8))\n",
    "#shipm_data = dataset_clean\n",
    "#shipm_data['Shipm (intervalos)'] = to_categorical(shipm_data.shipment_days)\n",
    "#seaborn.pointplot(data=shipm_data,\n",
    "#                  x='Shipm (intervalos)', y=posiciones,\n",
    "#                  dodge=True, ci='sd',\n",
    "#                  markers='v', linestyles='--', errwidth=1, capsize=0.2)\n",
    "#plt.ylabel('posiciones')\n",
    "#plt.xlabel('Shim')\n",
    "#plt.xticks(rotation=45)\n",
    "#plt.legend(bbox_to_anchor=(1.05, 1), loc=2, borderaxespad=0.)\n",
    "#seaborn.despine()"
   ]
  },
  {
   "cell_type": "code",
   "execution_count": null,
   "metadata": {},
   "outputs": [],
   "source": []
  },
  {
   "cell_type": "code",
   "execution_count": 52,
   "metadata": {},
   "outputs": [
    {
     "data": {
      "text/html": [
       "<div>\n",
       "<style scoped>\n",
       "    .dataframe tbody tr th:only-of-type {\n",
       "        vertical-align: middle;\n",
       "    }\n",
       "\n",
       "    .dataframe tbody tr th {\n",
       "        vertical-align: top;\n",
       "    }\n",
       "\n",
       "    .dataframe thead th {\n",
       "        text-align: right;\n",
       "    }\n",
       "</style>\n",
       "<table border=\"1\" class=\"dataframe\">\n",
       "  <thead>\n",
       "    <tr style=\"text-align: right;\">\n",
       "      <th></th>\n",
       "      <th>count</th>\n",
       "      <th>mean</th>\n",
       "      <th>std</th>\n",
       "      <th>min</th>\n",
       "      <th>25%</th>\n",
       "      <th>50%</th>\n",
       "      <th>75%</th>\n",
       "      <th>max</th>\n",
       "      <th>CV</th>\n",
       "    </tr>\n",
       "    <tr>\n",
       "      <th>receiver_state</th>\n",
       "      <th></th>\n",
       "      <th></th>\n",
       "      <th></th>\n",
       "      <th></th>\n",
       "      <th></th>\n",
       "      <th></th>\n",
       "      <th></th>\n",
       "      <th></th>\n",
       "      <th></th>\n",
       "    </tr>\n",
       "  </thead>\n",
       "  <tbody>\n",
       "    <tr>\n",
       "      <th>SP</th>\n",
       "      <td>175298.0</td>\n",
       "      <td>2.51</td>\n",
       "      <td>2.19</td>\n",
       "      <td>1.0</td>\n",
       "      <td>1.0</td>\n",
       "      <td>2.0</td>\n",
       "      <td>3.0</td>\n",
       "      <td>17.0</td>\n",
       "      <td>87.25</td>\n",
       "    </tr>\n",
       "    <tr>\n",
       "      <th>DF</th>\n",
       "      <td>10671.0</td>\n",
       "      <td>4.45</td>\n",
       "      <td>3.83</td>\n",
       "      <td>1.0</td>\n",
       "      <td>2.0</td>\n",
       "      <td>3.0</td>\n",
       "      <td>6.0</td>\n",
       "      <td>17.0</td>\n",
       "      <td>86.07</td>\n",
       "    </tr>\n",
       "    <tr>\n",
       "      <th>RJ</th>\n",
       "      <td>40895.0</td>\n",
       "      <td>5.14</td>\n",
       "      <td>3.93</td>\n",
       "      <td>1.0</td>\n",
       "      <td>2.0</td>\n",
       "      <td>4.0</td>\n",
       "      <td>7.0</td>\n",
       "      <td>17.0</td>\n",
       "      <td>76.46</td>\n",
       "    </tr>\n",
       "    <tr>\n",
       "      <th>PR</th>\n",
       "      <td>28225.0</td>\n",
       "      <td>5.50</td>\n",
       "      <td>3.57</td>\n",
       "      <td>1.0</td>\n",
       "      <td>3.0</td>\n",
       "      <td>5.0</td>\n",
       "      <td>8.0</td>\n",
       "      <td>17.0</td>\n",
       "      <td>64.91</td>\n",
       "    </tr>\n",
       "    <tr>\n",
       "      <th>MG</th>\n",
       "      <td>59833.0</td>\n",
       "      <td>5.51</td>\n",
       "      <td>3.60</td>\n",
       "      <td>1.0</td>\n",
       "      <td>3.0</td>\n",
       "      <td>5.0</td>\n",
       "      <td>8.0</td>\n",
       "      <td>17.0</td>\n",
       "      <td>65.34</td>\n",
       "    </tr>\n",
       "    <tr>\n",
       "      <th>ES</th>\n",
       "      <td>9842.0</td>\n",
       "      <td>5.92</td>\n",
       "      <td>3.66</td>\n",
       "      <td>1.0</td>\n",
       "      <td>3.0</td>\n",
       "      <td>5.0</td>\n",
       "      <td>8.0</td>\n",
       "      <td>17.0</td>\n",
       "      <td>61.82</td>\n",
       "    </tr>\n",
       "    <tr>\n",
       "      <th>AM</th>\n",
       "      <td>1152.0</td>\n",
       "      <td>6.33</td>\n",
       "      <td>4.84</td>\n",
       "      <td>1.0</td>\n",
       "      <td>2.0</td>\n",
       "      <td>4.0</td>\n",
       "      <td>9.0</td>\n",
       "      <td>17.0</td>\n",
       "      <td>76.46</td>\n",
       "    </tr>\n",
       "    <tr>\n",
       "      <th>RS</th>\n",
       "      <td>30422.0</td>\n",
       "      <td>6.59</td>\n",
       "      <td>4.42</td>\n",
       "      <td>1.0</td>\n",
       "      <td>3.0</td>\n",
       "      <td>5.0</td>\n",
       "      <td>10.0</td>\n",
       "      <td>17.0</td>\n",
       "      <td>67.07</td>\n",
       "    </tr>\n",
       "    <tr>\n",
       "      <th>SC</th>\n",
       "      <td>22261.0</td>\n",
       "      <td>6.62</td>\n",
       "      <td>4.44</td>\n",
       "      <td>1.0</td>\n",
       "      <td>3.0</td>\n",
       "      <td>5.0</td>\n",
       "      <td>10.0</td>\n",
       "      <td>17.0</td>\n",
       "      <td>67.07</td>\n",
       "    </tr>\n",
       "    <tr>\n",
       "      <th>RR</th>\n",
       "      <td>254.0</td>\n",
       "      <td>6.74</td>\n",
       "      <td>5.08</td>\n",
       "      <td>1.0</td>\n",
       "      <td>3.0</td>\n",
       "      <td>4.0</td>\n",
       "      <td>12.0</td>\n",
       "      <td>17.0</td>\n",
       "      <td>75.37</td>\n",
       "    </tr>\n",
       "    <tr>\n",
       "      <th>GO</th>\n",
       "      <td>12840.0</td>\n",
       "      <td>6.86</td>\n",
       "      <td>4.24</td>\n",
       "      <td>1.0</td>\n",
       "      <td>3.0</td>\n",
       "      <td>6.0</td>\n",
       "      <td>10.0</td>\n",
       "      <td>17.0</td>\n",
       "      <td>61.81</td>\n",
       "    </tr>\n",
       "    <tr>\n",
       "      <th>MS</th>\n",
       "      <td>5748.0</td>\n",
       "      <td>7.12</td>\n",
       "      <td>3.85</td>\n",
       "      <td>1.0</td>\n",
       "      <td>4.0</td>\n",
       "      <td>7.0</td>\n",
       "      <td>10.0</td>\n",
       "      <td>17.0</td>\n",
       "      <td>54.07</td>\n",
       "    </tr>\n",
       "    <tr>\n",
       "      <th>SE</th>\n",
       "      <td>2423.0</td>\n",
       "      <td>8.26</td>\n",
       "      <td>4.25</td>\n",
       "      <td>1.0</td>\n",
       "      <td>4.0</td>\n",
       "      <td>8.0</td>\n",
       "      <td>12.0</td>\n",
       "      <td>17.0</td>\n",
       "      <td>51.45</td>\n",
       "    </tr>\n",
       "    <tr>\n",
       "      <th>PE</th>\n",
       "      <td>11480.0</td>\n",
       "      <td>8.28</td>\n",
       "      <td>3.65</td>\n",
       "      <td>1.0</td>\n",
       "      <td>6.0</td>\n",
       "      <td>8.0</td>\n",
       "      <td>11.0</td>\n",
       "      <td>17.0</td>\n",
       "      <td>44.08</td>\n",
       "    </tr>\n",
       "    <tr>\n",
       "      <th>BA</th>\n",
       "      <td>20108.0</td>\n",
       "      <td>8.45</td>\n",
       "      <td>4.22</td>\n",
       "      <td>1.0</td>\n",
       "      <td>5.0</td>\n",
       "      <td>9.0</td>\n",
       "      <td>12.0</td>\n",
       "      <td>17.0</td>\n",
       "      <td>49.94</td>\n",
       "    </tr>\n",
       "    <tr>\n",
       "      <th>RN</th>\n",
       "      <td>3818.0</td>\n",
       "      <td>8.57</td>\n",
       "      <td>3.88</td>\n",
       "      <td>1.0</td>\n",
       "      <td>5.0</td>\n",
       "      <td>9.0</td>\n",
       "      <td>11.0</td>\n",
       "      <td>17.0</td>\n",
       "      <td>45.27</td>\n",
       "    </tr>\n",
       "    <tr>\n",
       "      <th>PB</th>\n",
       "      <td>4164.0</td>\n",
       "      <td>9.15</td>\n",
       "      <td>3.46</td>\n",
       "      <td>1.0</td>\n",
       "      <td>7.0</td>\n",
       "      <td>9.0</td>\n",
       "      <td>12.0</td>\n",
       "      <td>17.0</td>\n",
       "      <td>37.81</td>\n",
       "    </tr>\n",
       "    <tr>\n",
       "      <th>MT</th>\n",
       "      <td>6127.0</td>\n",
       "      <td>9.38</td>\n",
       "      <td>3.65</td>\n",
       "      <td>1.0</td>\n",
       "      <td>7.0</td>\n",
       "      <td>10.0</td>\n",
       "      <td>12.0</td>\n",
       "      <td>17.0</td>\n",
       "      <td>38.91</td>\n",
       "    </tr>\n",
       "    <tr>\n",
       "      <th>AL</th>\n",
       "      <td>2473.0</td>\n",
       "      <td>9.48</td>\n",
       "      <td>4.21</td>\n",
       "      <td>1.0</td>\n",
       "      <td>6.0</td>\n",
       "      <td>10.0</td>\n",
       "      <td>13.0</td>\n",
       "      <td>17.0</td>\n",
       "      <td>44.41</td>\n",
       "    </tr>\n",
       "    <tr>\n",
       "      <th>TO</th>\n",
       "      <td>1911.0</td>\n",
       "      <td>9.50</td>\n",
       "      <td>3.98</td>\n",
       "      <td>1.0</td>\n",
       "      <td>6.0</td>\n",
       "      <td>9.0</td>\n",
       "      <td>13.0</td>\n",
       "      <td>17.0</td>\n",
       "      <td>41.89</td>\n",
       "    </tr>\n",
       "    <tr>\n",
       "      <th>PI</th>\n",
       "      <td>2576.0</td>\n",
       "      <td>9.61</td>\n",
       "      <td>3.52</td>\n",
       "      <td>1.0</td>\n",
       "      <td>7.0</td>\n",
       "      <td>10.0</td>\n",
       "      <td>12.0</td>\n",
       "      <td>17.0</td>\n",
       "      <td>36.63</td>\n",
       "    </tr>\n",
       "    <tr>\n",
       "      <th>MA</th>\n",
       "      <td>3511.0</td>\n",
       "      <td>9.81</td>\n",
       "      <td>3.61</td>\n",
       "      <td>1.0</td>\n",
       "      <td>8.0</td>\n",
       "      <td>10.0</td>\n",
       "      <td>12.0</td>\n",
       "      <td>17.0</td>\n",
       "      <td>36.80</td>\n",
       "    </tr>\n",
       "    <tr>\n",
       "      <th>AC</th>\n",
       "      <td>741.0</td>\n",
       "      <td>10.17</td>\n",
       "      <td>3.90</td>\n",
       "      <td>1.0</td>\n",
       "      <td>8.0</td>\n",
       "      <td>10.0</td>\n",
       "      <td>13.0</td>\n",
       "      <td>17.0</td>\n",
       "      <td>38.35</td>\n",
       "    </tr>\n",
       "    <tr>\n",
       "      <th>AP</th>\n",
       "      <td>606.0</td>\n",
       "      <td>10.22</td>\n",
       "      <td>4.95</td>\n",
       "      <td>1.0</td>\n",
       "      <td>5.0</td>\n",
       "      <td>11.0</td>\n",
       "      <td>15.0</td>\n",
       "      <td>17.0</td>\n",
       "      <td>48.43</td>\n",
       "    </tr>\n",
       "    <tr>\n",
       "      <th>PA</th>\n",
       "      <td>5290.0</td>\n",
       "      <td>10.24</td>\n",
       "      <td>4.23</td>\n",
       "      <td>1.0</td>\n",
       "      <td>7.0</td>\n",
       "      <td>11.0</td>\n",
       "      <td>14.0</td>\n",
       "      <td>17.0</td>\n",
       "      <td>41.31</td>\n",
       "    </tr>\n",
       "    <tr>\n",
       "      <th>CE</th>\n",
       "      <td>3976.0</td>\n",
       "      <td>10.26</td>\n",
       "      <td>4.24</td>\n",
       "      <td>1.0</td>\n",
       "      <td>7.0</td>\n",
       "      <td>11.0</td>\n",
       "      <td>14.0</td>\n",
       "      <td>17.0</td>\n",
       "      <td>41.33</td>\n",
       "    </tr>\n",
       "    <tr>\n",
       "      <th>RO</th>\n",
       "      <td>2023.0</td>\n",
       "      <td>10.54</td>\n",
       "      <td>3.87</td>\n",
       "      <td>1.0</td>\n",
       "      <td>8.0</td>\n",
       "      <td>11.0</td>\n",
       "      <td>14.0</td>\n",
       "      <td>17.0</td>\n",
       "      <td>36.72</td>\n",
       "    </tr>\n",
       "  </tbody>\n",
       "</table>\n",
       "</div>"
      ],
      "text/plain": [
       "                   count   mean   std  min  25%   50%   75%   max     CV\n",
       "receiver_state                                                          \n",
       "SP              175298.0   2.51  2.19  1.0  1.0   2.0   3.0  17.0  87.25\n",
       "DF               10671.0   4.45  3.83  1.0  2.0   3.0   6.0  17.0  86.07\n",
       "RJ               40895.0   5.14  3.93  1.0  2.0   4.0   7.0  17.0  76.46\n",
       "PR               28225.0   5.50  3.57  1.0  3.0   5.0   8.0  17.0  64.91\n",
       "MG               59833.0   5.51  3.60  1.0  3.0   5.0   8.0  17.0  65.34\n",
       "ES                9842.0   5.92  3.66  1.0  3.0   5.0   8.0  17.0  61.82\n",
       "AM                1152.0   6.33  4.84  1.0  2.0   4.0   9.0  17.0  76.46\n",
       "RS               30422.0   6.59  4.42  1.0  3.0   5.0  10.0  17.0  67.07\n",
       "SC               22261.0   6.62  4.44  1.0  3.0   5.0  10.0  17.0  67.07\n",
       "RR                 254.0   6.74  5.08  1.0  3.0   4.0  12.0  17.0  75.37\n",
       "GO               12840.0   6.86  4.24  1.0  3.0   6.0  10.0  17.0  61.81\n",
       "MS                5748.0   7.12  3.85  1.0  4.0   7.0  10.0  17.0  54.07\n",
       "SE                2423.0   8.26  4.25  1.0  4.0   8.0  12.0  17.0  51.45\n",
       "PE               11480.0   8.28  3.65  1.0  6.0   8.0  11.0  17.0  44.08\n",
       "BA               20108.0   8.45  4.22  1.0  5.0   9.0  12.0  17.0  49.94\n",
       "RN                3818.0   8.57  3.88  1.0  5.0   9.0  11.0  17.0  45.27\n",
       "PB                4164.0   9.15  3.46  1.0  7.0   9.0  12.0  17.0  37.81\n",
       "MT                6127.0   9.38  3.65  1.0  7.0  10.0  12.0  17.0  38.91\n",
       "AL                2473.0   9.48  4.21  1.0  6.0  10.0  13.0  17.0  44.41\n",
       "TO                1911.0   9.50  3.98  1.0  6.0   9.0  13.0  17.0  41.89\n",
       "PI                2576.0   9.61  3.52  1.0  7.0  10.0  12.0  17.0  36.63\n",
       "MA                3511.0   9.81  3.61  1.0  8.0  10.0  12.0  17.0  36.80\n",
       "AC                 741.0  10.17  3.90  1.0  8.0  10.0  13.0  17.0  38.35\n",
       "AP                 606.0  10.22  4.95  1.0  5.0  11.0  15.0  17.0  48.43\n",
       "PA                5290.0  10.24  4.23  1.0  7.0  11.0  14.0  17.0  41.31\n",
       "CE                3976.0  10.26  4.24  1.0  7.0  11.0  14.0  17.0  41.33\n",
       "RO                2023.0  10.54  3.87  1.0  8.0  11.0  14.0  17.0  36.72"
      ]
     },
     "execution_count": 52,
     "metadata": {},
     "output_type": "execute_result"
    }
   ],
   "source": [
    "descrip_state_st = dataset_clean.groupby('receiver_state')['shipment_days'].describe().round(2)\n",
    "descrip_state_st['CV'] = (descrip_state_st['std']/descrip_state_st['mean']*100).round(2)\n",
    "descrip_state_st.sort_values(by=['mean'])"
   ]
  },
  {
   "cell_type": "code",
   "execution_count": 34,
   "metadata": {
    "scrolled": true
   },
   "outputs": [],
   "source": [
    "# y=to_categorical(dataset_clean.shipment_days)\n",
    "#ship_data = dataset_clean\n",
    "#ship_data['Ship (intervalos)'] = to_categorical(ship_data.shipment_days)\n",
    "\n",
    "#plt.figure(figsize=(9,6))\n",
    "#seaborn.regplot(data=ship_data,\n",
    "#                y=ship_data.shipment_days, x=posiciones)\n",
    "#plt.title('Regression Plot de shipments_days vs receiver_state')\n",
    "#seaborn.despine()"
   ]
  },
  {
   "cell_type": "markdown",
   "metadata": {},
   "source": [
    "Se puede observar la correlacion entre el número de días que tarda un envío y el destinatario del mismo."
   ]
  },
  {
   "cell_type": "code",
   "execution_count": 86,
   "metadata": {},
   "outputs": [
    {
     "data": {
      "image/png": "[encoded data removed]",
      "text/plain": [
       "<Figure size 720x432 with 1 Axes>"
      ]
     },
     "metadata": {
      "needs_background": "light"
     },
     "output_type": "display_data"
    }
   ],
   "source": [
    "#plt.figure(figsize=(10,6))\n",
    "#seaborn.regplot(data=dataset_clean,\n",
    "#                x='shipment_days', y='quantity',\n",
    "#                marker='+')\n",
    "#plt.title('Regression Plot de shipments_days vs quantity')\n",
    "#seaborn.despine()\n",
    "#hacer HEAPMAP"
   ]
  },
  {
   "cell_type": "markdown",
   "metadata": {},
   "source": [
    "No observamos una correlacion entre quantity y shipment_days."
   ]
  },
  {
   "cell_type": "markdown",
   "metadata": {},
   "source": [
    "¿Con qué otra variable está correlacionado el número de días que tarda un envío? Analizar la independencia de las variables.\n"
   ]
  },
  {
   "cell_type": "code",
   "execution_count": 35,
   "metadata": {},
   "outputs": [],
   "source": [
    "#plt.figure(figsize=(10, 6))\n",
    "\n",
    "#seaborn.pairplot(\n",
    "#    data=dataset_clean,\n",
    "#    vars=['shipment_days', 'service', 'status'],\n",
    "#    markers='+')\n",
    "#plt.title('PairPlot de pf identity, hf score y ef score en Latam')\n",
    "#seaborn.despine()"
   ]
  },
  {
   "cell_type": "code",
   "execution_count": 37,
   "metadata": {},
   "outputs": [
    {
     "data": {
      "text/html": [
       "<div>\n",
       "<style scoped>\n",
       "    .dataframe tbody tr th:only-of-type {\n",
       "        vertical-align: middle;\n",
       "    }\n",
       "\n",
       "    .dataframe tbody tr th {\n",
       "        vertical-align: top;\n",
       "    }\n",
       "\n",
       "    .dataframe thead th {\n",
       "        text-align: right;\n",
       "    }\n",
       "</style>\n",
       "<table border=\"1\" class=\"dataframe\">\n",
       "  <thead>\n",
       "    <tr style=\"text-align: right;\">\n",
       "      <th></th>\n",
       "      <th>shipment_days</th>\n",
       "      <th>receiver_zipcode</th>\n",
       "    </tr>\n",
       "  </thead>\n",
       "  <tbody>\n",
       "    <tr>\n",
       "      <th>shipment_days</th>\n",
       "      <td>1.00000</td>\n",
       "      <td>0.52313</td>\n",
       "    </tr>\n",
       "    <tr>\n",
       "      <th>receiver_zipcode</th>\n",
       "      <td>0.52313</td>\n",
       "      <td>1.00000</td>\n",
       "    </tr>\n",
       "  </tbody>\n",
       "</table>\n",
       "</div>"
      ],
      "text/plain": [
       "                  shipment_days  receiver_zipcode\n",
       "shipment_days           1.00000           0.52313\n",
       "receiver_zipcode        0.52313           1.00000"
      ]
     },
     "execution_count": 37,
     "metadata": {},
     "output_type": "execute_result"
    }
   ],
   "source": [
    "corr_data = dataset_clean[['shipment_days','receiver_zipcode']]\n",
    "corr_data.corr(method ='spearman')"
   ]
  },
  {
   "cell_type": "code",
   "execution_count": 38,
   "metadata": {},
   "outputs": [
    {
     "data": {
      "text/html": [
       "<div>\n",
       "<style scoped>\n",
       "    .dataframe tbody tr th:only-of-type {\n",
       "        vertical-align: middle;\n",
       "    }\n",
       "\n",
       "    .dataframe tbody tr th {\n",
       "        vertical-align: top;\n",
       "    }\n",
       "\n",
       "    .dataframe thead th {\n",
       "        text-align: right;\n",
       "    }\n",
       "</style>\n",
       "<table border=\"1\" class=\"dataframe\">\n",
       "  <thead>\n",
       "    <tr style=\"text-align: right;\">\n",
       "      <th></th>\n",
       "      <th>shipment_days</th>\n",
       "      <th>quantity</th>\n",
       "    </tr>\n",
       "  </thead>\n",
       "  <tbody>\n",
       "    <tr>\n",
       "      <th>shipment_days</th>\n",
       "      <td>1.000000</td>\n",
       "      <td>-0.001806</td>\n",
       "    </tr>\n",
       "    <tr>\n",
       "      <th>quantity</th>\n",
       "      <td>-0.001806</td>\n",
       "      <td>1.000000</td>\n",
       "    </tr>\n",
       "  </tbody>\n",
       "</table>\n",
       "</div>"
      ],
      "text/plain": [
       "               shipment_days  quantity\n",
       "shipment_days       1.000000 -0.001806\n",
       "quantity           -0.001806  1.000000"
      ]
     },
     "execution_count": 38,
     "metadata": {},
     "output_type": "execute_result"
    }
   ],
   "source": [
    "corr_data = dataset_clean[['shipment_days','quantity']]\n",
    "corr_data.corr(method ='spearman')"
   ]
  },
  {
   "cell_type": "code",
   "execution_count": 39,
   "metadata": {},
   "outputs": [
    {
     "data": {
      "text/html": [
       "<div>\n",
       "<style scoped>\n",
       "    .dataframe tbody tr th:only-of-type {\n",
       "        vertical-align: middle;\n",
       "    }\n",
       "\n",
       "    .dataframe tbody tr th {\n",
       "        vertical-align: top;\n",
       "    }\n",
       "\n",
       "    .dataframe thead th {\n",
       "        text-align: right;\n",
       "    }\n",
       "</style>\n",
       "<table border=\"1\" class=\"dataframe\">\n",
       "  <thead>\n",
       "    <tr style=\"text-align: right;\">\n",
       "      <th></th>\n",
       "      <th>shipment_days</th>\n",
       "      <th>quantity</th>\n",
       "    </tr>\n",
       "  </thead>\n",
       "  <tbody>\n",
       "    <tr>\n",
       "      <th>shipment_days</th>\n",
       "      <td>1.000000</td>\n",
       "      <td>-0.001724</td>\n",
       "    </tr>\n",
       "    <tr>\n",
       "      <th>quantity</th>\n",
       "      <td>-0.001724</td>\n",
       "      <td>1.000000</td>\n",
       "    </tr>\n",
       "  </tbody>\n",
       "</table>\n",
       "</div>"
      ],
      "text/plain": [
       "               shipment_days  quantity\n",
       "shipment_days       1.000000 -0.001724\n",
       "quantity           -0.001724  1.000000"
      ]
     },
     "execution_count": 39,
     "metadata": {},
     "output_type": "execute_result"
    }
   ],
   "source": [
    "corr_data = dataset_clean[['shipment_days','quantity']]\n",
    "corr_data.corr(method ='pearson')"
   ]
  },
  {
   "cell_type": "code",
   "execution_count": 41,
   "metadata": {},
   "outputs": [
    {
     "data": {
      "text/html": [
       "<div>\n",
       "<style scoped>\n",
       "    .dataframe tbody tr th:only-of-type {\n",
       "        vertical-align: middle;\n",
       "    }\n",
       "\n",
       "    .dataframe tbody tr th {\n",
       "        vertical-align: top;\n",
       "    }\n",
       "\n",
       "    .dataframe thead th {\n",
       "        text-align: right;\n",
       "    }\n",
       "</style>\n",
       "<table border=\"1\" class=\"dataframe\">\n",
       "  <thead>\n",
       "    <tr style=\"text-align: right;\">\n",
       "      <th></th>\n",
       "      <th>shipment_days</th>\n",
       "      <th>quantity</th>\n",
       "    </tr>\n",
       "  </thead>\n",
       "  <tbody>\n",
       "    <tr>\n",
       "      <th>shipment_days</th>\n",
       "      <td>1.000000</td>\n",
       "      <td>-0.001517</td>\n",
       "    </tr>\n",
       "    <tr>\n",
       "      <th>quantity</th>\n",
       "      <td>-0.001517</td>\n",
       "      <td>1.000000</td>\n",
       "    </tr>\n",
       "  </tbody>\n",
       "</table>\n",
       "</div>"
      ],
      "text/plain": [
       "               shipment_days  quantity\n",
       "shipment_days       1.000000 -0.001517\n",
       "quantity           -0.001517  1.000000"
      ]
     },
     "execution_count": 41,
     "metadata": {},
     "output_type": "execute_result"
    }
   ],
   "source": [
    "corr_data = dataset_clean[['shipment_days','quantity']]\n",
    "corr_data.corr(method ='kendall')"
   ]
  },
  {
   "cell_type": "markdown",
   "metadata": {},
   "source": [
    "No hay una correlación entre las variables shipment_days y quantity."
   ]
  },
  {
   "cell_type": "markdown",
   "metadata": {},
   "source": [
    "Acá podemos ver una correlación entre las variables shipment_days y receiver_zipcode."
   ]
  },
  {
   "cell_type": "code",
   "execution_count": 189,
   "metadata": {},
   "outputs": [
    {
     "data": {
      "text/html": [
       "<div>\n",
       "<style scoped>\n",
       "    .dataframe tbody tr th:only-of-type {\n",
       "        vertical-align: middle;\n",
       "    }\n",
       "\n",
       "    .dataframe tbody tr th {\n",
       "        vertical-align: top;\n",
       "    }\n",
       "\n",
       "    .dataframe thead th {\n",
       "        text-align: right;\n",
       "    }\n",
       "</style>\n",
       "<table border=\"1\" class=\"dataframe\">\n",
       "  <thead>\n",
       "    <tr style=\"text-align: right;\">\n",
       "      <th></th>\n",
       "      <th>shipment_days</th>\n",
       "      <th>service</th>\n",
       "    </tr>\n",
       "  </thead>\n",
       "  <tbody>\n",
       "    <tr>\n",
       "      <th>shipment_days</th>\n",
       "      <td>1.000000</td>\n",
       "      <td>0.188443</td>\n",
       "    </tr>\n",
       "    <tr>\n",
       "      <th>service</th>\n",
       "      <td>0.188443</td>\n",
       "      <td>1.000000</td>\n",
       "    </tr>\n",
       "  </tbody>\n",
       "</table>\n",
       "</div>"
      ],
      "text/plain": [
       "               shipment_days   service\n",
       "shipment_days       1.000000  0.188443\n",
       "service             0.188443  1.000000"
      ]
     },
     "execution_count": 189,
     "metadata": {},
     "output_type": "execute_result"
    }
   ],
   "source": [
    "corr_data = dataset_clean[['shipment_days','service','status']]\n",
    "corr_data.corr(method ='spearman')"
   ]
  },
  {
   "cell_type": "markdown",
   "metadata": {},
   "source": [
    "Shipment_days con service no estan relacionadas"
   ]
  },
  {
   "cell_type": "markdown",
   "metadata": {},
   "source": [
    "7. Además del cálculo de los estadísticos correspondientes, sería interesante observar un gráfico que muestre la información estadística (por ejemplo, la media) y la presencia de outliers del número de días que tardan los envíos que se realizan a los diferentes estados de Brasil. ¿Cuál es el estado que, en promedio, tiene una mayor demora? ¿Cuál es la distancia geográfica de San Pablo a dicho estado? ¿Y al de menor?"
   ]
  },
  {
   "cell_type": "code",
   "execution_count": 31,
   "metadata": {},
   "outputs": [
    {
     "data": {
      "image/png": "[encoded data removed]",
      "text/plain": [
       "<Figure size 1008x504 with 1 Axes>"
      ]
     },
     "metadata": {
      "needs_background": "light"
     },
     "output_type": "display_data"
    }
   ],
   "source": [
    "plt.figure(figsize=(14,7))\n",
    "seaborn.boxplot(data=dataset_clean,\n",
    "                y='shipment_days', x='receiver_state')\n",
    "plt.ylabel('Shipment days')\n",
    "plt.xlabel('Receiver state')\n",
    "seaborn.despine()"
   ]
  },
  {
   "cell_type": "code",
   "execution_count": null,
   "metadata": {},
   "outputs": [],
   "source": []
  }
 ],
 "metadata": {
  "colab": {
   "name": "02_practico_I.ipynb",
   "provenance": [],
   "version": "0.3.2"
  },
  "kernelspec": {
   "display_name": "Python 3",
   "language": "python",
   "name": "python3"
  },
  "language_info": {
   "codemirror_mode": {
    "name": "ipython",
    "version": 3
   },
   "file_extension": ".py",
   "mimetype": "text/x-python",
   "name": "python",
   "nbconvert_exporter": "python",
   "pygments_lexer": "ipython3",
   "version": "3.6.8"
  }
 },
 "nbformat": 4,
 "nbformat_minor": 1
}
